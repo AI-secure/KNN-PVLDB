{
 "cells": [
  {
   "cell_type": "code",
   "execution_count": 2,
   "metadata": {},
   "outputs": [],
   "source": [
    "import bz2\n",
    "import numpy as np\n",
    "from tqdm import tqdm_notebook as tqdm\n",
    "import gzip\n",
    "from heapq import heappushpop\n",
    "from joblib import Parallel, delayed\n",
    "import time"
   ]
  },
  {
   "cell_type": "code",
   "execution_count": 3,
   "metadata": {},
   "outputs": [],
   "source": [
    "import numpy as np\n",
    "import os\n",
    "\n",
    "classes = []\n",
    "\n",
    "for root, dirs, files in os.walk(\".\"):  \n",
    "    for filename in files:\n",
    "        classes.append(filename)"
   ]
  },
  {
   "cell_type": "code",
   "execution_count": 11,
   "metadata": {},
   "outputs": [],
   "source": [
    "from re import compile\n",
    "\n",
    "rex = compile('n[0-9]+')\n",
    "classes = [x for x in classes if rex.match(x)]"
   ]
  },
  {
   "cell_type": "code",
   "execution_count": 12,
   "metadata": {},
   "outputs": [
    {
     "data": {
      "application/vnd.jupyter.widget-view+json": {
       "model_id": "5d936ab2a7dd4e188b1def161614cc86",
       "version_major": 2,
       "version_minor": 0
      },
      "text/plain": [
       "HBox(children=(IntProgress(value=0, max=1000), HTML(value='')))"
      ]
     },
     "metadata": {},
     "output_type": "display_data"
    }
   ],
   "source": [
    "x_trn = []\n",
    "y_trn = []\n",
    "for c in tqdm(classes):\n",
    "    x_trn.append(np.load(c))\n",
    "    y_trn += [c] * len(x_trn[-1])"
   ]
  },
  {
   "cell_type": "code",
   "execution_count": 13,
   "metadata": {},
   "outputs": [
    {
     "name": "stdout",
     "output_type": "stream",
     "text": [
      "997659\n",
      "997659\n"
     ]
    }
   ],
   "source": [
    "x_trn = np.vstack(x_trn)\n",
    "print(len(x_trn))\n",
    "print(len(y_trn))"
   ]
  },
  {
   "cell_type": "code",
   "execution_count": 14,
   "metadata": {},
   "outputs": [],
   "source": [
    "from sklearn.utils import shuffle\n",
    "x_trn, y_trn = shuffle(x_trn, y_trn, random_state=0)"
   ]
  },
  {
   "cell_type": "code",
   "execution_count": 15,
   "metadata": {},
   "outputs": [],
   "source": [
    "x_trn = np.reshape(x_trn, (-1, 2048))\n",
    "x_tst, y_tst = x_trn[:100], y_trn[:100]\n",
    "x_val, y_val = x_trn[100:1100], y_trn[100:1100]\n",
    "x_trn, y_trn = x_trn[1100:], y_trn[1100:]"
   ]
  },
  {
   "cell_type": "code",
   "execution_count": 35,
   "metadata": {},
   "outputs": [
    {
     "data": {
      "application/vnd.jupyter.widget-view+json": {
       "model_id": "177b0af3bbeb4401b840d2ac92eece04",
       "version_major": 2,
       "version_minor": 0
      },
      "text/plain": [
       "HBox(children=(IntProgress(value=0), HTML(value='')))"
      ]
     },
     "metadata": {},
     "output_type": "display_data"
    },
    {
     "name": "stdout",
     "output_type": "stream",
     "text": [
      "702.9819550514221\n"
     ]
    },
    {
     "data": {
      "application/vnd.jupyter.widget-view+json": {
       "model_id": "21c2e988e5c14e2785fa18909ecc7650",
       "version_major": 2,
       "version_minor": 0
      },
      "text/plain": [
       "HBox(children=(IntProgress(value=0, max=1000), HTML(value='')))"
      ]
     },
     "metadata": {},
     "output_type": "display_data"
    },
    {
     "name": "stdout",
     "output_type": "stream",
     "text": [
      "6849.323750257492\n"
     ]
    }
   ],
   "source": [
    "def get_true_KNN(x_trn,x_tst):\n",
    "    N = x_trn.shape[0]\n",
    "    N_tst = x_tst.shape[0]\n",
    "    x_tst_knn_gt = np.zeros((N_tst, N))\n",
    "    for i_tst in tqdm(range(N_tst)):\n",
    "        dist_gt = np.zeros(N)\n",
    "        for i_trn in range(N):\n",
    "            dist_gt[i_trn] = np.linalg.norm(x_trn[i_trn,:] - x_tst[i_tst, :], 2)\n",
    "#             if i_trn % 100000 == 0:\n",
    "#                 print(i_trn)\n",
    "        x_tst_knn_gt[i_tst, :] = np.argsort(dist_gt)\n",
    "        # x_sort_part = np.argpartition(dist_gt,K)[:K]\n",
    "        # x_tst_knn_gt[i_tst, :] = x_sort_part[np.argsort(dist_gt[x_sort_part])]\n",
    "#         if i_tst % 100 == 0:\n",
    "#             print(i_tst)\n",
    "\n",
    "    return x_tst_knn_gt.astype(int)\n",
    "\n",
    "start = time.time()\n",
    "x_tst_knn_gt = get_true_KNN(x_trn, x_tst)\n",
    "end1 = time.time() - start\n",
    "print(end1)\n",
    "\n",
    "start = time.time()\n",
    "x_val_knn_gt = get_true_KNN(x_trn, x_val)\n",
    "val_end1 = time.time() - start\n",
    "print(val_end1)"
   ]
  },
  {
   "cell_type": "code",
   "execution_count": 17,
   "metadata": {},
   "outputs": [],
   "source": [
    "def compute_single_unweighted_knn_class_shapley(x_trn,y_trn,x_tst_knn_gt,y_tst,K):\n",
    "    N = x_trn.shape[0]\n",
    "    N_tst = x_tst_knn_gt.shape[0]\n",
    "    sp_gt = np.zeros((N_tst,N))\n",
    "    for j in tqdm(range(N_tst)):\n",
    "        # try:\n",
    "        sp_gt[j,x_tst_knn_gt[j,-1]] = (y_trn[x_tst_knn_gt[j,-1]] == y_tst[j])/N\n",
    "        # except:\n",
    "        #     pdb.set_trace()\n",
    "        for i in np.arange(N-2,-1,-1):\n",
    "            sp_gt[j,x_tst_knn_gt[j,i]] = sp_gt[j,x_tst_knn_gt[j,i+1]] +\\\n",
    "                           (int(y_trn[x_tst_knn_gt[j,i]] == y_tst[j]) -\n",
    "                            int(y_trn[x_tst_knn_gt[j,i+1]] == y_tst[j]))/K* min([K,i+1])/(i+1)\n",
    "            # if j == 404 and i == 0:\n",
    "            #     pdb.set_trace()\n",
    "    return sp_gt"
   ]
  },
  {
   "cell_type": "code",
   "execution_count": 36,
   "metadata": {},
   "outputs": [
    {
     "data": {
      "application/vnd.jupyter.widget-view+json": {
       "model_id": "1b92b07ae4c145c6863a683e68c12ac7",
       "version_major": 2,
       "version_minor": 0
      },
      "text/plain": [
       "HBox(children=(IntProgress(value=0), HTML(value='')))"
      ]
     },
     "metadata": {},
     "output_type": "display_data"
    },
    {
     "data": {
      "application/vnd.jupyter.widget-view+json": {
       "model_id": "0dc6d0bdd25c4be6b3a2e7c91a6a2094",
       "version_major": 2,
       "version_minor": 0
      },
      "text/plain": [
       "HBox(children=(IntProgress(value=0, max=1000), HTML(value='')))"
      ]
     },
     "metadata": {},
     "output_type": "display_data"
    }
   ],
   "source": [
    "start = time.time()\n",
    "sp_gt = compute_single_unweighted_knn_class_shapley(x_trn, y_trn, x_tst_knn_gt, y_tst, 1)\n",
    "end2 = time.time() - start\n",
    "\n",
    "start = time.time()\n",
    "val_sp_gt = compute_single_unweighted_knn_class_shapley(x_trn, y_trn, x_val_knn_gt, y_val, 1)\n",
    "val_end2 = time.time() - start"
   ]
  },
  {
   "cell_type": "code",
   "execution_count": 41,
   "metadata": {},
   "outputs": [
    {
     "data": {
      "application/vnd.jupyter.widget-view+json": {
       "model_id": "04c3f80f996b40c8be95a98e8a763322",
       "version_major": 2,
       "version_minor": 0
      },
      "text/plain": [
       "HBox(children=(IntProgress(value=0), HTML(value='')))"
      ]
     },
     "metadata": {},
     "output_type": "display_data"
    }
   ],
   "source": [
    "K = 2\n",
    "start2 = time.time()\n",
    "sp_gt2 = compute_single_unweighted_knn_class_shapley(x_trn, y_trn, x_tst_knn_gt, y_tst, K)\n",
    "end2 = time.time() - start2"
   ]
  },
  {
   "cell_type": "code",
   "execution_count": 42,
   "metadata": {},
   "outputs": [
    {
     "data": {
      "application/vnd.jupyter.widget-view+json": {
       "model_id": "21142d418a0c43969abff0ea33c8cf01",
       "version_major": 2,
       "version_minor": 0
      },
      "text/plain": [
       "HBox(children=(IntProgress(value=0), HTML(value='')))"
      ]
     },
     "metadata": {},
     "output_type": "display_data"
    }
   ],
   "source": [
    "K = 5\n",
    "start5 = time.time()\n",
    "sp_gt5 = compute_single_unweighted_knn_class_shapley(x_trn, y_trn, x_tst_knn_gt, y_tst, 5)\n",
    "end5 = time.time() - start5"
   ]
  },
  {
   "cell_type": "code",
   "execution_count": 25,
   "metadata": {},
   "outputs": [],
   "source": [
    "K = 10\n",
    "dist_rand = np.load('eps0.1/dist_rand.npy')\n",
    "contrast = np.load('eps0.1/contrast.npy')\n",
    "dist_knn = np.load('eps0.1/dist_knn.npy')\n",
    "\n",
    "dist_rand = np.mean(dist_rand, axis=0)\n",
    "contrast = np.mean(contrast, axis=0)[K-1]\n",
    "dist_knn = np.mean(dist_knn, axis=0)[K-1]"
   ]
  },
  {
   "cell_type": "code",
   "execution_count": 28,
   "metadata": {},
   "outputs": [],
   "source": [
    "search_range = np.arange(1e-3, 10, 1e-3)\n",
    "from scipy.stats import norm\n",
    "\n",
    "\n",
    "def f_h(x, r):\n",
    "    y = 1-2*norm.cdf(-r/x) - 2/(np.sqrt(2*np.pi)*r/x)*(1-np.exp(-(r**2/(2*(x**2)))))\n",
    "    return y\n",
    "\n",
    "def g_unnormalize(dist_rand,dist_knn,r):\n",
    "    y = np.log(f_h(dist_knn,r))/np.log(f_h(dist_rand,r))\n",
    "    return y\n",
    "\n",
    "def g_normalize(contrast,r):\n",
    "    y = np.log(f_h(1/contrast,r))/np.log(f_h(1,r))\n",
    "    return y\n",
    "\n",
    "def find_best_r_normalize(search_range,contrast):\n",
    "    y = g_normalize(contrast,search_range)\n",
    "    min_ind = np.argmin(y)\n",
    "    return search_range[min_ind]\n",
    "\n",
    "def find_best_r_unnormalize(search_range,dist_rand,dist_knn):\n",
    "    y = g_unnormalize(dist_rand,dist_knn,search_range)\n",
    "    min_ind = np.argmin(y)\n",
    "    return search_range[min_ind]\n",
    "\n",
    "r_vec_normalize = find_best_r_normalize(search_range, contrast)\n",
    "g_vec = g_normalize(contrast, r_vec_normalize)"
   ]
  },
  {
   "cell_type": "code",
   "execution_count": 29,
   "metadata": {},
   "outputs": [
    {
     "name": "stdout",
     "output_type": "stream",
     "text": [
      "17\n"
     ]
    }
   ],
   "source": [
    "t = r_vec_normalize\n",
    "n_trn = len(x_trn)\n",
    "n_hash_table = 10 # 如果 estimation error 高于 0.01\n",
    "n_hash_bit = int(np.ceil(np.log(n_trn)*0.5/ np.log(1 / f_h(1, t))))\n",
    "print(n_hash_bit)"
   ]
  },
  {
   "cell_type": "code",
   "execution_count": 30,
   "metadata": {},
   "outputs": [],
   "source": [
    "import numpy as np\n",
    "import pdb\n",
    "\n",
    "\n",
    "def lsh_function(t,x,w,b):\n",
    "    # x is 1-d array\n",
    "    h = np.floor((np.dot(w,x)+b)/t).astype(int)\n",
    "    return h\n",
    "\n",
    "\n",
    "class LSH:\n",
    "    def __init__(self,n_hash_bit,n_hash_table,x_trn,y_trn,t=0.1):\n",
    "        self.n_hash_bit = n_hash_bit\n",
    "        self.n_hash_table = n_hash_table\n",
    "        self.t = t # width of projections\n",
    "        self.x_trn = x_trn\n",
    "        self.y_trn = y_trn\n",
    "        self.N, self.dim = x_trn.shape\n",
    "        # draw w from a normal distribution (2-stable)\n",
    "        self.w = np.random.normal(0, 1, (n_hash_table, n_hash_bit, self.dim))\n",
    "        # draw b from U[0,t]\n",
    "        self.b = np.random.uniform(0, self.t, (n_hash_table, n_hash_bit))\n",
    "        self.x_trn_hash = [dict() for i in range(n_hash_table)]\n",
    "        for i in tqdm(range(self.N)):\n",
    "            hash_code_all = lsh_function(self.t, x_trn[i] / dist_rand, self.w, self.b)\n",
    "            for l in range(n_hash_table):\n",
    "                hash_code_trn = '.'.join(map(str, hash_code_all[l, :]))\n",
    "                if hash_code_trn in self.x_trn_hash[l].keys():\n",
    "                    self.x_trn_hash[l][hash_code_trn].append(i)\n",
    "                else:\n",
    "                    self.x_trn_hash[l][hash_code_trn] = [i]\n",
    "#             if i % 1000 == 0:\n",
    "#                 print('build hash %s'%i)\n",
    "\n",
    "    def get_approx_KNN(self,x_tst,K):\n",
    "        N_tst = x_tst.shape[0]\n",
    "        x_tst_knn = np.ones((N_tst, K)) * (-1)\n",
    "        nns_len = np.zeros(N_tst)\n",
    "        for i_tst in tqdm(range(N_tst)):\n",
    "            nns = []\n",
    "            for l in range(self.n_hash_table):\n",
    "                hash_code_int = lsh_function(self.t, x_tst[i_tst] / dist_rand, self.w[l, :, :], self.b[l, :])\n",
    "                hash_code_test = '.'.join(map(str, hash_code_int))\n",
    "                if hash_code_test in self.x_trn_hash[l].keys():\n",
    "                    nns += self.x_trn_hash[l][hash_code_test]\n",
    "            nns = np.unique(nns)\n",
    "            num_collide_elements = len(nns)\n",
    "            if len(nns) > 0:\n",
    "                dist = [np.linalg.norm(self.x_trn[i] / dist_rand - x_tst[i_tst] / dist_rand, 2) for i in nns]\n",
    "                dist_min_ind = nns[np.argsort(dist)]\n",
    "                if num_collide_elements < K:\n",
    "                    x_tst_knn[i_tst, :num_collide_elements] = dist_min_ind[:num_collide_elements]\n",
    "                else:\n",
    "                    x_tst_knn[i_tst, :] = dist_min_ind[:K]\n",
    "            # pdb.set_trace()\n",
    "            nns_len[i_tst] = len(nns)\n",
    "            if i_tst % 100 == 0:\n",
    "                print('get approximate knn %s'%i_tst)\n",
    "        return x_tst_knn.astype(int),nns_len\n",
    "\n",
    "\n",
    "    def compute_approx_shapley(self,x_tst_knn,y_tst,K):\n",
    "        N_tst,K_star = x_tst_knn.shape\n",
    "        # flag_sufficient = (x_tst_knn[:,-1]>=0)\n",
    "        sp_approx = np.zeros((N_tst,self.N))\n",
    "        for j in tqdm(range(N_tst)):\n",
    "            non_nan_index = np.where(x_tst_knn[j,:]>=0)[0]\n",
    "            if len(non_nan_index)== 0:\n",
    "                continue\n",
    "            K_tot = non_nan_index[-1]\n",
    "            if K_tot == self.N:\n",
    "                sp_approx[j, x_tst_knn[j, self.N - 1]] = equal(self.y_trn[x_tst_knn[j, self.N - 1]], y_tst[j]) / self.N\n",
    "            for i in np.arange(K_tot - 1, -1, -1):\n",
    "                sp_approx[j, x_tst_knn[j, i]] = sp_approx[j, x_tst_knn[j, i+1]] + (\n",
    "                        equal(self.y_trn[x_tst_knn[j, i]], y_tst[j]) - equal(\n",
    "                    self.y_trn[x_tst_knn[j, i + 1]], y_tst[j])) / K * min([K, i + 1]) / (i + 1)\n",
    "\n",
    "\n",
    "\n",
    "        return sp_approx"
   ]
  },
  {
   "cell_type": "code",
   "execution_count": 31,
   "metadata": {},
   "outputs": [],
   "source": [
    "def equal(a, b):\n",
    "    return a == b\n",
    "    \n",
    "def fine_tune(n_hash_table=10, alpha=0.5, file=False):\n",
    "    t = r_vec_normalize\n",
    "    n_trn = len(x_trn)\n",
    "    n_hash_bit = int(np.ceil(np.log(n_trn)*alpha/ np.log(1 / f_h(1, t))))\n",
    "    if file is True:\n",
    "        print(n_hash_bit, file=open('eps0.1/log.txt', 'a'))\n",
    "    else:\n",
    "        print(n_hash_bit)\n",
    "    \n",
    "    start = time.time()\n",
    "    lsh = LSH(n_hash_bit=n_hash_bit, n_hash_table=n_hash_table, x_trn=x_trn, y_trn=y_trn, t=t)\n",
    "    runtime_build_hash = time.time() - start\n",
    "    if file is True:\n",
    "        print(runtime_build_hash, file=open('eps0.1/log.txt', 'a'))\n",
    "    else:\n",
    "        print(runtime_build_hash)\n",
    "    \n",
    "    K_star = 10\n",
    "    start = time.time()\n",
    "    x_val_knn_approx, nns_vec = lsh.get_approx_KNN(x_val, K_star)\n",
    "    runtime_query = time.time() - start\n",
    "    if file is True:\n",
    "        print(runtime_query, file=open('eps0.1/log.txt', 'a'))\n",
    "    else:\n",
    "        print(runtime_query)\n",
    "    \n",
    "    K = 1\n",
    "    start = time.time()\n",
    "    sp_approx = lsh.compute_approx_shapley(x_val_knn_approx, y_val, K)\n",
    "    runtime_approx_value = time.time() - start\n",
    "    if file is True:\n",
    "        print('it takes %s to get appox knn value' % runtime_approx_value, file=open('eps0.1/log.txt', 'a'))\n",
    "    else:\n",
    "        print('it takes %s to get appox knn value' % runtime_approx_value)\n",
    "    \n",
    "    sp_err_inf_val= np.linalg.norm(val_sp_gt - sp_approx,ord=np.inf, axis=1)\n",
    "    if file is True:\n",
    "        print('max error %s'% np.percentile(sp_err_inf_val,90), file=open('eps0.1/log.txt', 'a'))\n",
    "    else:\n",
    "        print('max error %s'% np.percentile(sp_err_inf_val,90))\n",
    "    return lsh"
   ]
  },
  {
   "cell_type": "code",
   "execution_count": 32,
   "metadata": {},
   "outputs": [],
   "source": [
    "def fine_tune_test(n_hash_table=10, lsh=None, file=False):\n",
    "    if not lsh:\n",
    "        t = r_vec_normalize\n",
    "        n_trn = len(x_trn)\n",
    "        n_hash_bit = int(np.ceil(np.log(n_trn)*0.3/ np.log(1 / f_h(1, t))))\n",
    "        print(n_hash_bit)\n",
    "    \n",
    "        start = time.time()\n",
    "        lsh = LSH(n_hash_bit=n_hash_bit, n_hash_table=n_hash_table, x_trn=x_trn_norm, y_trn=y_trn, t=t)\n",
    "        runtime_build_hash = time.time() - start\n",
    "        print(runtime_build_hash)\n",
    "    \n",
    "    K_star = 10\n",
    "    start = time.time()\n",
    "    x_tst_knn_approx, nns_vec = lsh.get_approx_KNN(x_tst, K_star)\n",
    "    runtime_query = time.time() - start\n",
    "    if file is True:\n",
    "        print(runtime_query, file=open('eps0.1/log.txt', 'a'))\n",
    "    else:\n",
    "        print(runtime_query)\n",
    "    \n",
    "    K = 1\n",
    "    start = time.time()\n",
    "    sp_approx = lsh.compute_approx_shapley(x_tst_knn_approx, y_tst, K)\n",
    "    runtime_approx_value = time.time() - start\n",
    "    if file is True:\n",
    "        print('it takes %s to get appox knn value' % runtime_approx_value, file=open('eps0.1/log.txt', 'a'))\n",
    "    else:\n",
    "        print('it takes %s to get appox knn value' % runtime_approx_value)\n",
    "    \n",
    "    sp_err_inf_val= np.linalg.norm(sp_gt - sp_approx,ord=np.inf, axis=1)\n",
    "    if file is True:\n",
    "        print('max error %s'% np.percentile(sp_err_inf_val,90), file=open('eps0.1/log.txt', 'a'))\n",
    "    else:\n",
    "        print('max error %s'% np.percentile(sp_err_inf_val,90))\n",
    "    return sp_approx, nns_vec"
   ]
  },
  {
   "cell_type": "code",
   "execution_count": 33,
   "metadata": {},
   "outputs": [
    {
     "data": {
      "application/vnd.jupyter.widget-view+json": {
       "model_id": "5287829fd1da4a6386366c52984be24c",
       "version_major": 2,
       "version_minor": 0
      },
      "text/plain": [
       "HBox(children=(IntProgress(value=0, max=996559), HTML(value='')))"
      ]
     },
     "metadata": {},
     "output_type": "display_data"
    },
    {
     "data": {
      "application/vnd.jupyter.widget-view+json": {
       "model_id": "8cb131f98f514009be75e357b869ec77",
       "version_major": 2,
       "version_minor": 0
      },
      "text/plain": [
       "HBox(children=(IntProgress(value=0, max=1000), HTML(value='')))"
      ]
     },
     "metadata": {},
     "output_type": "display_data"
    },
    {
     "name": "stdout",
     "output_type": "stream",
     "text": [
      "get approximate knn 0\n",
      "get approximate knn 100\n",
      "get approximate knn 200\n",
      "get approximate knn 300\n",
      "get approximate knn 400\n",
      "get approximate knn 500\n",
      "get approximate knn 600\n",
      "get approximate knn 700\n",
      "get approximate knn 800\n",
      "get approximate knn 900\n"
     ]
    },
    {
     "data": {
      "application/vnd.jupyter.widget-view+json": {
       "model_id": "854e39da207f427b889d5e7077e28314",
       "version_major": 2,
       "version_minor": 0
      },
      "text/plain": [
       "HBox(children=(IntProgress(value=0, max=1000), HTML(value='')))"
      ]
     },
     "metadata": {},
     "output_type": "display_data"
    },
    {
     "ename": "NameError",
     "evalue": "name 'val_sp_gt' is not defined",
     "output_type": "error",
     "traceback": [
      "\u001b[0;31m---------------------------------------------------------------------------\u001b[0m",
      "\u001b[0;31mNameError\u001b[0m                                 Traceback (most recent call last)",
      "\u001b[0;32m<ipython-input-33-00e8a0c1e581>\u001b[0m in \u001b[0;36m<module>\u001b[0;34m\u001b[0m\n\u001b[0;32m----> 1\u001b[0;31m \u001b[0mlsh_195_05\u001b[0m \u001b[0;34m=\u001b[0m \u001b[0mfine_tune\u001b[0m\u001b[0;34m(\u001b[0m\u001b[0;36m195\u001b[0m\u001b[0;34m,\u001b[0m \u001b[0;36m0.5\u001b[0m\u001b[0;34m,\u001b[0m \u001b[0mfile\u001b[0m\u001b[0;34m=\u001b[0m\u001b[0;32mTrue\u001b[0m\u001b[0;34m)\u001b[0m\u001b[0;34m\u001b[0m\u001b[0m\n\u001b[0m\u001b[1;32m      2\u001b[0m \u001b[0msp_approx_195_05\u001b[0m\u001b[0;34m,\u001b[0m \u001b[0mnns_vec_195_05\u001b[0m \u001b[0;34m=\u001b[0m \u001b[0mfine_tune_test\u001b[0m\u001b[0;34m(\u001b[0m\u001b[0;36m195\u001b[0m\u001b[0;34m,\u001b[0m \u001b[0mlsh_195_05\u001b[0m\u001b[0;34m,\u001b[0m \u001b[0mfile\u001b[0m\u001b[0;34m=\u001b[0m\u001b[0;32mTrue\u001b[0m\u001b[0;34m)\u001b[0m\u001b[0;34m\u001b[0m\u001b[0m\n",
      "\u001b[0;32m<ipython-input-31-254154063e6e>\u001b[0m in \u001b[0;36mfine_tune\u001b[0;34m(n_hash_table, alpha, file)\u001b[0m\n\u001b[1;32m     37\u001b[0m         \u001b[0mprint\u001b[0m\u001b[0;34m(\u001b[0m\u001b[0;34m'it takes %s to get appox knn value'\u001b[0m \u001b[0;34m%\u001b[0m \u001b[0mruntime_approx_value\u001b[0m\u001b[0;34m)\u001b[0m\u001b[0;34m\u001b[0m\u001b[0m\n\u001b[1;32m     38\u001b[0m \u001b[0;34m\u001b[0m\u001b[0m\n\u001b[0;32m---> 39\u001b[0;31m     \u001b[0msp_err_inf_val\u001b[0m\u001b[0;34m=\u001b[0m \u001b[0mnp\u001b[0m\u001b[0;34m.\u001b[0m\u001b[0mlinalg\u001b[0m\u001b[0;34m.\u001b[0m\u001b[0mnorm\u001b[0m\u001b[0;34m(\u001b[0m\u001b[0mval_sp_gt\u001b[0m \u001b[0;34m-\u001b[0m \u001b[0msp_approx\u001b[0m\u001b[0;34m,\u001b[0m\u001b[0mord\u001b[0m\u001b[0;34m=\u001b[0m\u001b[0mnp\u001b[0m\u001b[0;34m.\u001b[0m\u001b[0minf\u001b[0m\u001b[0;34m,\u001b[0m \u001b[0maxis\u001b[0m\u001b[0;34m=\u001b[0m\u001b[0;36m1\u001b[0m\u001b[0;34m)\u001b[0m\u001b[0;34m\u001b[0m\u001b[0m\n\u001b[0m\u001b[1;32m     40\u001b[0m     \u001b[0;32mif\u001b[0m \u001b[0mfile\u001b[0m \u001b[0;32mis\u001b[0m \u001b[0;32mTrue\u001b[0m\u001b[0;34m:\u001b[0m\u001b[0;34m\u001b[0m\u001b[0m\n\u001b[1;32m     41\u001b[0m         \u001b[0mprint\u001b[0m\u001b[0;34m(\u001b[0m\u001b[0;34m'max error %s'\u001b[0m\u001b[0;34m%\u001b[0m \u001b[0mnp\u001b[0m\u001b[0;34m.\u001b[0m\u001b[0mpercentile\u001b[0m\u001b[0;34m(\u001b[0m\u001b[0msp_err_inf_val\u001b[0m\u001b[0;34m,\u001b[0m\u001b[0;36m90\u001b[0m\u001b[0;34m)\u001b[0m\u001b[0;34m,\u001b[0m \u001b[0mfile\u001b[0m\u001b[0;34m=\u001b[0m\u001b[0mopen\u001b[0m\u001b[0;34m(\u001b[0m\u001b[0;34m'eps0.1/log.txt'\u001b[0m\u001b[0;34m,\u001b[0m \u001b[0;34m'a'\u001b[0m\u001b[0;34m)\u001b[0m\u001b[0;34m)\u001b[0m\u001b[0;34m\u001b[0m\u001b[0m\n",
      "\u001b[0;31mNameError\u001b[0m: name 'val_sp_gt' is not defined"
     ]
    }
   ],
   "source": [
    "lsh_195_05 = fine_tune(195, 0.5, file=True)\n",
    "sp_approx_195_05, nns_vec_195_05 = fine_tune_test(195, lsh_195_05, file=True)"
   ]
  },
  {
   "cell_type": "code",
   "execution_count": 37,
   "metadata": {},
   "outputs": [
    {
     "data": {
      "application/vnd.jupyter.widget-view+json": {
       "model_id": "00634f746f544f5aae0203b3a403d194",
       "version_major": 2,
       "version_minor": 0
      },
      "text/plain": [
       "HBox(children=(IntProgress(value=0, max=996559), HTML(value='')))"
      ]
     },
     "metadata": {},
     "output_type": "display_data"
    },
    {
     "data": {
      "application/vnd.jupyter.widget-view+json": {
       "model_id": "1db4bbd4d8274812b72156f62fbc5b55",
       "version_major": 2,
       "version_minor": 0
      },
      "text/plain": [
       "HBox(children=(IntProgress(value=0, max=1000), HTML(value='')))"
      ]
     },
     "metadata": {},
     "output_type": "display_data"
    },
    {
     "name": "stdout",
     "output_type": "stream",
     "text": [
      "get approximate knn 0\n",
      "get approximate knn 100\n",
      "get approximate knn 200\n",
      "get approximate knn 300\n",
      "get approximate knn 400\n",
      "get approximate knn 500\n",
      "get approximate knn 600\n",
      "get approximate knn 700\n",
      "get approximate knn 800\n",
      "get approximate knn 900\n"
     ]
    },
    {
     "data": {
      "application/vnd.jupyter.widget-view+json": {
       "model_id": "58c03ec005554d45bf3734ebcdfbe64b",
       "version_major": 2,
       "version_minor": 0
      },
      "text/plain": [
       "HBox(children=(IntProgress(value=0, max=1000), HTML(value='')))"
      ]
     },
     "metadata": {},
     "output_type": "display_data"
    },
    {
     "data": {
      "application/vnd.jupyter.widget-view+json": {
       "model_id": "20dfd423790f4be29df5074713054cd5",
       "version_major": 2,
       "version_minor": 0
      },
      "text/plain": [
       "HBox(children=(IntProgress(value=0), HTML(value='')))"
      ]
     },
     "metadata": {},
     "output_type": "display_data"
    },
    {
     "name": "stdout",
     "output_type": "stream",
     "text": [
      "get approximate knn 0\n"
     ]
    },
    {
     "data": {
      "application/vnd.jupyter.widget-view+json": {
       "model_id": "4c34660b8df24ae0b9d2eb59fd9167c6",
       "version_major": 2,
       "version_minor": 0
      },
      "text/plain": [
       "HBox(children=(IntProgress(value=0), HTML(value='')))"
      ]
     },
     "metadata": {},
     "output_type": "display_data"
    }
   ],
   "source": [
    "lsh_195_05 = fine_tune(195, 0.5, file=True)\n",
    "sp_approx_195_05, nns_vec_195_05 = fine_tune_test(195, lsh_195_05, file=True)"
   ]
  },
  {
   "cell_type": "markdown",
   "metadata": {},
   "source": [
    "```\n",
    "17\n",
    "6120.1388120651245\n",
    "2757.237851858139\n",
    "it takes 0.15042829513549805 to get appox knn value\n",
    "max error 0.0954959090259068\n",
    "251.7484724521637\n",
    "it takes 0.025987863540649414 to get appox knn value\n",
    "max error 0.1114729758955185\n",
    "```"
   ]
  },
  {
   "cell_type": "code",
   "execution_count": 38,
   "metadata": {},
   "outputs": [
    {
     "data": {
      "application/vnd.jupyter.widget-view+json": {
       "model_id": "84cde973878d4caeb758873dd499fe0f",
       "version_major": 2,
       "version_minor": 0
      },
      "text/plain": [
       "HBox(children=(IntProgress(value=0, max=996559), HTML(value='')))"
      ]
     },
     "metadata": {},
     "output_type": "display_data"
    },
    {
     "data": {
      "application/vnd.jupyter.widget-view+json": {
       "model_id": "4211079532ab4055845ca7b3a0b5d020",
       "version_major": 2,
       "version_minor": 0
      },
      "text/plain": [
       "HBox(children=(IntProgress(value=0, max=1000), HTML(value='')))"
      ]
     },
     "metadata": {},
     "output_type": "display_data"
    },
    {
     "name": "stdout",
     "output_type": "stream",
     "text": [
      "get approximate knn 0\n",
      "get approximate knn 100\n",
      "get approximate knn 200\n",
      "get approximate knn 300\n",
      "get approximate knn 400\n",
      "get approximate knn 500\n",
      "get approximate knn 600\n",
      "get approximate knn 700\n",
      "get approximate knn 800\n",
      "get approximate knn 900\n"
     ]
    },
    {
     "data": {
      "application/vnd.jupyter.widget-view+json": {
       "model_id": "97c13463595448d0ad4030f78bf4aecc",
       "version_major": 2,
       "version_minor": 0
      },
      "text/plain": [
       "HBox(children=(IntProgress(value=0, max=1000), HTML(value='')))"
      ]
     },
     "metadata": {},
     "output_type": "display_data"
    },
    {
     "data": {
      "application/vnd.jupyter.widget-view+json": {
       "model_id": "e5b9e6edfd7e4dcdbd55fc8cb06066ba",
       "version_major": 2,
       "version_minor": 0
      },
      "text/plain": [
       "HBox(children=(IntProgress(value=0), HTML(value='')))"
      ]
     },
     "metadata": {},
     "output_type": "display_data"
    },
    {
     "name": "stdout",
     "output_type": "stream",
     "text": [
      "get approximate knn 0\n"
     ]
    },
    {
     "data": {
      "application/vnd.jupyter.widget-view+json": {
       "model_id": "1140811e11f84057a81ce24974cfdf2b",
       "version_major": 2,
       "version_minor": 0
      },
      "text/plain": [
       "HBox(children=(IntProgress(value=0), HTML(value='')))"
      ]
     },
     "metadata": {},
     "output_type": "display_data"
    }
   ],
   "source": [
    "lsh_200_05 = fine_tune(200, 0.5, file=True)\n",
    "sp_approx_200_05, nns_vec_200_05 = fine_tune_test(200, lsh_200_05, file=True)"
   ]
  },
  {
   "cell_type": "markdown",
   "metadata": {},
   "source": [
    "```\n",
    "17\n",
    "7756.053581237793\n",
    "2403.7759668827057\n",
    "it takes 0.09811997413635254 to get appox knn value\n",
    "max error 0.0900423957364133\n",
    "255.54018378257751\n",
    "it takes 0.06232953071594238 to get appox knn value\n",
    "max error 0.09245485250425375\n",
    "```"
   ]
  },
  {
   "cell_type": "code",
   "execution_count": 39,
   "metadata": {},
   "outputs": [
    {
     "data": {
      "application/vnd.jupyter.widget-view+json": {
       "model_id": "3616b8874403419cae9d3ac0508180da",
       "version_major": 2,
       "version_minor": 0
      },
      "text/plain": [
       "HBox(children=(IntProgress(value=0, max=996559), HTML(value='')))"
      ]
     },
     "metadata": {},
     "output_type": "display_data"
    },
    {
     "data": {
      "application/vnd.jupyter.widget-view+json": {
       "model_id": "3776334dd9e3492892faa6c1b5bf7c51",
       "version_major": 2,
       "version_minor": 0
      },
      "text/plain": [
       "HBox(children=(IntProgress(value=0, max=1000), HTML(value='')))"
      ]
     },
     "metadata": {},
     "output_type": "display_data"
    },
    {
     "name": "stdout",
     "output_type": "stream",
     "text": [
      "get approximate knn 0\n",
      "get approximate knn 100\n",
      "get approximate knn 200\n",
      "get approximate knn 300\n",
      "get approximate knn 400\n",
      "get approximate knn 500\n",
      "get approximate knn 600\n",
      "get approximate knn 700\n",
      "get approximate knn 800\n",
      "get approximate knn 900\n"
     ]
    },
    {
     "data": {
      "application/vnd.jupyter.widget-view+json": {
       "model_id": "28b1108c3cb145a881c8c9f22d9e0d95",
       "version_major": 2,
       "version_minor": 0
      },
      "text/plain": [
       "HBox(children=(IntProgress(value=0, max=1000), HTML(value='')))"
      ]
     },
     "metadata": {},
     "output_type": "display_data"
    },
    {
     "data": {
      "application/vnd.jupyter.widget-view+json": {
       "model_id": "4e51a1db22324e429b62cf60bd272263",
       "version_major": 2,
       "version_minor": 0
      },
      "text/plain": [
       "HBox(children=(IntProgress(value=0), HTML(value='')))"
      ]
     },
     "metadata": {},
     "output_type": "display_data"
    },
    {
     "name": "stdout",
     "output_type": "stream",
     "text": [
      "get approximate knn 0\n"
     ]
    },
    {
     "data": {
      "application/vnd.jupyter.widget-view+json": {
       "model_id": "b1d6da715ca14a4088e43867b08e49bb",
       "version_major": 2,
       "version_minor": 0
      },
      "text/plain": [
       "HBox(children=(IntProgress(value=0), HTML(value='')))"
      ]
     },
     "metadata": {},
     "output_type": "display_data"
    }
   ],
   "source": [
    "lsh_190_05 = fine_tune(190, 0.5, file=True)\n",
    "sp_approx_190_05, nns_vec_190_05 = fine_tune_test(190, lsh_190_05, file=True)"
   ]
  },
  {
   "cell_type": "markdown",
   "metadata": {},
   "source": [
    "```\n",
    "17\n",
    "6549.824974775314\n",
    "2130.7291095256805\n",
    "it takes 0.10925650596618652 to get appox knn value\n",
    "max error 0.1073674237593991\n",
    "226.62567830085754\n",
    "it takes 0.026142358779907227 to get appox knn value\n",
    "max error 0.13142807051881394\n",
    "```"
   ]
  },
  {
   "cell_type": "code",
   "execution_count": 40,
   "metadata": {},
   "outputs": [
    {
     "data": {
      "application/vnd.jupyter.widget-view+json": {
       "model_id": "59f468ecc8bc469bae7abb8165088d9e",
       "version_major": 2,
       "version_minor": 0
      },
      "text/plain": [
       "HBox(children=(IntProgress(value=0, max=996559), HTML(value='')))"
      ]
     },
     "metadata": {},
     "output_type": "display_data"
    },
    {
     "data": {
      "application/vnd.jupyter.widget-view+json": {
       "model_id": "8ebff47ef33a422687459fb4143cd104",
       "version_major": 2,
       "version_minor": 0
      },
      "text/plain": [
       "HBox(children=(IntProgress(value=0, max=1000), HTML(value='')))"
      ]
     },
     "metadata": {},
     "output_type": "display_data"
    },
    {
     "name": "stdout",
     "output_type": "stream",
     "text": [
      "get approximate knn 0\n",
      "get approximate knn 100\n",
      "get approximate knn 200\n",
      "get approximate knn 300\n",
      "get approximate knn 400\n",
      "get approximate knn 500\n",
      "get approximate knn 600\n",
      "get approximate knn 700\n",
      "get approximate knn 800\n",
      "get approximate knn 900\n"
     ]
    },
    {
     "data": {
      "application/vnd.jupyter.widget-view+json": {
       "model_id": "5320de649efa4b1b9d2ae268e98b8f3b",
       "version_major": 2,
       "version_minor": 0
      },
      "text/plain": [
       "HBox(children=(IntProgress(value=0, max=1000), HTML(value='')))"
      ]
     },
     "metadata": {},
     "output_type": "display_data"
    },
    {
     "data": {
      "application/vnd.jupyter.widget-view+json": {
       "model_id": "cf75d647025d4214a5d8185a2fdc4494",
       "version_major": 2,
       "version_minor": 0
      },
      "text/plain": [
       "HBox(children=(IntProgress(value=0), HTML(value='')))"
      ]
     },
     "metadata": {},
     "output_type": "display_data"
    },
    {
     "name": "stdout",
     "output_type": "stream",
     "text": [
      "get approximate knn 0\n"
     ]
    },
    {
     "data": {
      "application/vnd.jupyter.widget-view+json": {
       "model_id": "c644699a26e0437b8e41d0a15ec54d48",
       "version_major": 2,
       "version_minor": 0
      },
      "text/plain": [
       "HBox(children=(IntProgress(value=0), HTML(value='')))"
      ]
     },
     "metadata": {},
     "output_type": "display_data"
    }
   ],
   "source": [
    "lsh_196_05 = fine_tune(196, 0.5, file=True)\n",
    "sp_approx_196_05, nns_vec_196_05 = fine_tune_test(196, lsh_196_05, file=True)"
   ]
  },
  {
   "cell_type": "markdown",
   "metadata": {},
   "source": [
    "```\n",
    "17\n",
    "6838.125294446945\n",
    "2439.2873623371124\n",
    "it takes 0.10068678855895996 to get appox knn value\n",
    "max error 0.0965434712180332\n",
    "252.69935274124146\n",
    "it takes 0.026296377182006836 to get appox knn value\n",
    "max error 0.10028850501345016\n",
    "```"
   ]
  },
  {
   "cell_type": "code",
   "execution_count": 44,
   "metadata": {},
   "outputs": [],
   "source": [
    "lsh = lsh_200_05\n",
    "def test_error(K, sp_gt):\n",
    "    K_star = 10\n",
    "    start = time.time()\n",
    "    x_tst_knn_approx, nns_vec = lsh.get_approx_KNN(x_tst, K_star)\n",
    "    runtime_query = time.time() - start\n",
    "    print(runtime_query)\n",
    "    \n",
    "    start = time.time()\n",
    "    sp_approx = lsh.compute_approx_shapley(x_tst_knn_approx, y_tst, K)\n",
    "    runtime_approx_value = time.time() - start\n",
    "    print('it takes %s to get appox knn value' % runtime_approx_value)\n",
    "    \n",
    "    sp_err_inf_val= np.linalg.norm(sp_gt - sp_approx,ord=np.inf, axis=1)\n",
    "    print('max error %s'% np.percentile(sp_err_inf_val,90))\n",
    "    return sp_approx"
   ]
  },
  {
   "cell_type": "code",
   "execution_count": 45,
   "metadata": {},
   "outputs": [
    {
     "data": {
      "application/vnd.jupyter.widget-view+json": {
       "model_id": "113d2689eca1485987f184865baf071e",
       "version_major": 2,
       "version_minor": 0
      },
      "text/plain": [
       "HBox(children=(IntProgress(value=0), HTML(value='')))"
      ]
     },
     "metadata": {},
     "output_type": "display_data"
    },
    {
     "name": "stdout",
     "output_type": "stream",
     "text": [
      "get approximate knn 0\n",
      "328.5784842967987\n"
     ]
    },
    {
     "data": {
      "application/vnd.jupyter.widget-view+json": {
       "model_id": "204192e7b90d4d7aa4bb27ace13a0a23",
       "version_major": 2,
       "version_minor": 0
      },
      "text/plain": [
       "HBox(children=(IntProgress(value=0), HTML(value='')))"
      ]
     },
     "metadata": {},
     "output_type": "display_data"
    },
    {
     "name": "stdout",
     "output_type": "stream",
     "text": [
      "it takes 0.22670292854309082 to get appox knn value\n",
      "max error 0.09245485250425375\n"
     ]
    }
   ],
   "source": [
    "sp_gt2_approx = test_error(2, sp_gt2)"
   ]
  },
  {
   "cell_type": "code",
   "execution_count": 46,
   "metadata": {},
   "outputs": [
    {
     "data": {
      "application/vnd.jupyter.widget-view+json": {
       "model_id": "0dabd798f55e4d63aebe0015fcf1cba6",
       "version_major": 2,
       "version_minor": 0
      },
      "text/plain": [
       "HBox(children=(IntProgress(value=0), HTML(value='')))"
      ]
     },
     "metadata": {},
     "output_type": "display_data"
    },
    {
     "name": "stdout",
     "output_type": "stream",
     "text": [
      "get approximate knn 0\n",
      "324.9600188732147\n"
     ]
    },
    {
     "data": {
      "application/vnd.jupyter.widget-view+json": {
       "model_id": "4f2ec69e5a2547c6b49b780e7470bfec",
       "version_major": 2,
       "version_minor": 0
      },
      "text/plain": [
       "HBox(children=(IntProgress(value=0), HTML(value='')))"
      ]
     },
     "metadata": {},
     "output_type": "display_data"
    },
    {
     "name": "stdout",
     "output_type": "stream",
     "text": [
      "it takes 0.028543949127197266 to get appox knn value\n",
      "max error 0.08566220199647492\n"
     ]
    }
   ],
   "source": [
    "sp_gt5_approx = test_error(5, sp_gt5)"
   ]
  },
  {
   "cell_type": "code",
   "execution_count": 69,
   "metadata": {},
   "outputs": [],
   "source": [
    "def val_error(K, val_sp_gt):\n",
    "    K_star = 10\n",
    "    start = time.time()\n",
    "    x_val_knn_approx, nns_vec = lsh.get_approx_KNN(x_val, K_star)\n",
    "    runtime_query = time.time() - start\n",
    "    print(runtime_query)\n",
    "    \n",
    "    start = time.time()\n",
    "    sp_approx = lsh.compute_approx_shapley(x_val_knn_approx, y_val, K)\n",
    "    runtime_approx_value = time.time() - start\n",
    "    print('it takes %s to get appox knn value' % runtime_approx_value)\n",
    "    \n",
    "    sp_err_inf_val= np.linalg.norm(val_sp_gt - sp_approx,ord=np.inf, axis=1)\n",
    "    print('max error %s'% np.percentile(sp_err_inf_val,90))\n",
    "    return sp_approx"
   ]
  },
  {
   "cell_type": "code",
   "execution_count": 50,
   "metadata": {},
   "outputs": [
    {
     "data": {
      "application/vnd.jupyter.widget-view+json": {
       "model_id": "d8f2325b04a84d708a377865b5cb3b21",
       "version_major": 2,
       "version_minor": 0
      },
      "text/plain": [
       "HBox(children=(IntProgress(value=0, max=1000), HTML(value='')))"
      ]
     },
     "metadata": {},
     "output_type": "display_data"
    },
    {
     "name": "stdout",
     "output_type": "stream",
     "text": [
      "get approximate knn 0\n",
      "get approximate knn 100\n",
      "get approximate knn 200\n",
      "get approximate knn 300\n",
      "get approximate knn 400\n",
      "get approximate knn 500\n",
      "get approximate knn 600\n",
      "get approximate knn 700\n",
      "get approximate knn 800\n",
      "get approximate knn 900\n",
      "3063.849513530731\n"
     ]
    },
    {
     "data": {
      "application/vnd.jupyter.widget-view+json": {
       "model_id": "684d153219444e109a1e6d2188ffa472",
       "version_major": 2,
       "version_minor": 0
      },
      "text/plain": [
       "HBox(children=(IntProgress(value=0, max=1000), HTML(value='')))"
      ]
     },
     "metadata": {},
     "output_type": "display_data"
    },
    {
     "name": "stdout",
     "output_type": "stream",
     "text": [
      "it takes 0.11894392967224121 to get appox knn value\n",
      "max error 0.49940666531545885\n"
     ]
    }
   ],
   "source": [
    "lsh = lsh_195_05\n",
    "sp_gt2_approx2 = val_error(2, sp_gt2)"
   ]
  },
  {
   "cell_type": "code",
   "execution_count": 51,
   "metadata": {},
   "outputs": [
    {
     "data": {
      "application/vnd.jupyter.widget-view+json": {
       "model_id": "5bd0f3fd0c2743f19d681f4912829a93",
       "version_major": 2,
       "version_minor": 0
      },
      "text/plain": [
       "HBox(children=(IntProgress(value=0, max=1000), HTML(value='')))"
      ]
     },
     "metadata": {},
     "output_type": "display_data"
    },
    {
     "name": "stdout",
     "output_type": "stream",
     "text": [
      "get approximate knn 0\n",
      "get approximate knn 100\n",
      "get approximate knn 200\n",
      "get approximate knn 300\n",
      "get approximate knn 400\n",
      "get approximate knn 500\n",
      "get approximate knn 600\n",
      "get approximate knn 700\n",
      "get approximate knn 800\n",
      "get approximate knn 900\n",
      "2916.8877487182617\n"
     ]
    },
    {
     "data": {
      "application/vnd.jupyter.widget-view+json": {
       "model_id": "fc09fe55c0c04f58970d1bb794abdc20",
       "version_major": 2,
       "version_minor": 0
      },
      "text/plain": [
       "HBox(children=(IntProgress(value=0, max=1000), HTML(value='')))"
      ]
     },
     "metadata": {},
     "output_type": "display_data"
    },
    {
     "name": "stdout",
     "output_type": "stream",
     "text": [
      "it takes 0.11890006065368652 to get appox knn value\n",
      "max error 0.6848752968987817\n"
     ]
    }
   ],
   "source": [
    "sp_gt5_approx2 = val_error(5, sp_gt5)"
   ]
  },
  {
   "cell_type": "code",
   "execution_count": null,
   "metadata": {},
   "outputs": [],
   "source": [
    "tst_sp_gt2_approx2 = test_error(2, sp_gt2)\n",
    "tst_sp_gt5_approx2 = test_error(5, sp_gt5)"
   ]
  },
  {
   "cell_type": "code",
   "execution_count": null,
   "metadata": {},
   "outputs": [],
   "source": [
    "lsh = lsh_200_05\n",
    "val_sp_gt2_approx = val_error(2, sp_gt2)"
   ]
  },
  {
   "cell_type": "code",
   "execution_count": null,
   "metadata": {},
   "outputs": [],
   "source": [
    "val_sp_gt5_approx = val_error(5, sp_gt5)"
   ]
  },
  {
   "cell_type": "code",
   "execution_count": 53,
   "metadata": {},
   "outputs": [
    {
     "data": {
      "application/vnd.jupyter.widget-view+json": {
       "model_id": "7adb1ffa00bc4e26a00497d8225896a1",
       "version_major": 2,
       "version_minor": 0
      },
      "text/plain": [
       "HBox(children=(IntProgress(value=0), HTML(value='')))"
      ]
     },
     "metadata": {},
     "output_type": "display_data"
    },
    {
     "name": "stdout",
     "output_type": "stream",
     "text": [
      "get approximate knn 0\n",
      "297.74391746520996\n"
     ]
    },
    {
     "data": {
      "application/vnd.jupyter.widget-view+json": {
       "model_id": "4e5f7f7526674290a9361f64e420e089",
       "version_major": 2,
       "version_minor": 0
      },
      "text/plain": [
       "HBox(children=(IntProgress(value=0), HTML(value='')))"
      ]
     },
     "metadata": {},
     "output_type": "display_data"
    },
    {
     "name": "stdout",
     "output_type": "stream",
     "text": [
      "it takes 0.03178548812866211 to get appox knn value\n",
      "max error 0.1114729758955185\n"
     ]
    }
   ],
   "source": [
    "tst_sp_gt2_approx2 = test_error(2, sp_gt2)"
   ]
  },
  {
   "cell_type": "code",
   "execution_count": 54,
   "metadata": {},
   "outputs": [
    {
     "data": {
      "application/vnd.jupyter.widget-view+json": {
       "model_id": "7638f614bbcf4172ad14e3eb65f20e07",
       "version_major": 2,
       "version_minor": 0
      },
      "text/plain": [
       "HBox(children=(IntProgress(value=0), HTML(value='')))"
      ]
     },
     "metadata": {},
     "output_type": "display_data"
    },
    {
     "name": "stdout",
     "output_type": "stream",
     "text": [
      "get approximate knn 0\n",
      "326.85515546798706\n"
     ]
    },
    {
     "data": {
      "application/vnd.jupyter.widget-view+json": {
       "model_id": "14d8d2439daf4f5eb305395f5d5f4350",
       "version_major": 2,
       "version_minor": 0
      },
      "text/plain": [
       "HBox(children=(IntProgress(value=0), HTML(value='')))"
      ]
     },
     "metadata": {},
     "output_type": "display_data"
    },
    {
     "name": "stdout",
     "output_type": "stream",
     "text": [
      "it takes 0.029559850692749023 to get appox knn value\n",
      "max error 0.09716649796210718\n"
     ]
    }
   ],
   "source": [
    "tst_sp_gt5_approx2 = test_error(5, sp_gt5)"
   ]
  },
  {
   "cell_type": "code",
   "execution_count": 55,
   "metadata": {},
   "outputs": [
    {
     "data": {
      "text/plain": [
       "195"
      ]
     },
     "execution_count": 55,
     "metadata": {},
     "output_type": "execute_result"
    },
    {
     "name": "stdout",
     "output_type": "stream",
     "text": [
      "The history saving thread hit an unexpected error (OperationalError('database or disk is full',)).History will not be written to the database.\n"
     ]
    }
   ],
   "source": [
    "lsh.n_hash_table"
   ]
  },
  {
   "cell_type": "code",
   "execution_count": 57,
   "metadata": {},
   "outputs": [],
   "source": [
    "lsh_200_05.x_trn = []\n",
    "lsh_200_05.y_trn = []\n",
    "np.save('eps0.1/lsh_200_05', lsh_200_05)"
   ]
  },
  {
   "cell_type": "code",
   "execution_count": 58,
   "metadata": {},
   "outputs": [],
   "source": [
    "np.save('eps0.1/x_trn', x_trn)"
   ]
  },
  {
   "cell_type": "code",
   "execution_count": 59,
   "metadata": {},
   "outputs": [],
   "source": [
    "np.save('eps0.1/y_trn', y_trn)"
   ]
  },
  {
   "cell_type": "code",
   "execution_count": 60,
   "metadata": {},
   "outputs": [],
   "source": [
    "np.save('eps0.1/x_val', x_val)"
   ]
  },
  {
   "cell_type": "code",
   "execution_count": 61,
   "metadata": {},
   "outputs": [],
   "source": [
    "np.save('eps0.1/y_trn', y_val)"
   ]
  },
  {
   "cell_type": "code",
   "execution_count": 62,
   "metadata": {},
   "outputs": [],
   "source": [
    "np.save('eps0.1/x_tst', x_tst)"
   ]
  },
  {
   "cell_type": "code",
   "execution_count": 63,
   "metadata": {},
   "outputs": [],
   "source": [
    "np.save('eps0.1/y_tst', y_tst)"
   ]
  },
  {
   "cell_type": "code",
   "execution_count": null,
   "metadata": {},
   "outputs": [
    {
     "data": {
      "application/vnd.jupyter.widget-view+json": {
       "model_id": "7c4f89b62e1c47498e6046248f0d4d6f",
       "version_major": 2,
       "version_minor": 0
      },
      "text/plain": [
       "HBox(children=(IntProgress(value=0, max=1000), HTML(value='')))"
      ]
     },
     "metadata": {},
     "output_type": "display_data"
    }
   ],
   "source": [
    "K = 2\n",
    "start2 = time.time()\n",
    "val_sp_gt2 = compute_single_unweighted_knn_class_shapley(x_trn, y_trn, x_val_knn_gt, y_val, K)\n",
    "end2 = time.time() - start2\n",
    "print(end2)"
   ]
  },
  {
   "cell_type": "code",
   "execution_count": 68,
   "metadata": {},
   "outputs": [
    {
     "data": {
      "application/vnd.jupyter.widget-view+json": {
       "model_id": "",
       "version_major": 2,
       "version_minor": 0
      },
      "text/plain": [
       "HBox(children=(IntProgress(value=0, max=1000), HTML(value='')))"
      ]
     },
     "metadata": {},
     "output_type": "display_data"
    },
    {
     "name": "stdout",
     "output_type": "stream",
     "text": [
      "5546.4469838142395\n"
     ]
    }
   ],
   "source": [
    "K = 5\n",
    "start5 = time.time()\n",
    "val_sp_gt5 = compute_single_unweighted_knn_class_shapley(x_trn, y_trn, x_val_knn_gt, y_val, K)\n",
    "end5 = time.time() - start5\n",
    "print(end5)"
   ]
  },
  {
   "cell_type": "code",
   "execution_count": 70,
   "metadata": {},
   "outputs": [
    {
     "data": {
      "application/vnd.jupyter.widget-view+json": {
       "model_id": "",
       "version_major": 2,
       "version_minor": 0
      },
      "text/plain": [
       "HBox(children=(IntProgress(value=0, max=1000), HTML(value='')))"
      ]
     },
     "metadata": {},
     "output_type": "display_data"
    },
    {
     "name": "stdout",
     "output_type": "stream",
     "text": [
      "get approximate knn 0\n",
      "get approximate knn 100\n",
      "get approximate knn 200\n",
      "get approximate knn 300\n",
      "get approximate knn 400\n",
      "get approximate knn 500\n",
      "get approximate knn 600\n",
      "get approximate knn 700\n",
      "get approximate knn 800\n",
      "get approximate knn 900\n",
      "3079.762225151062\n"
     ]
    },
    {
     "data": {
      "application/vnd.jupyter.widget-view+json": {
       "model_id": "",
       "version_major": 2,
       "version_minor": 0
      },
      "text/plain": [
       "HBox(children=(IntProgress(value=0, max=1000), HTML(value='')))"
      ]
     },
     "metadata": {},
     "output_type": "display_data"
    },
    {
     "name": "stdout",
     "output_type": "stream",
     "text": [
      "it takes 0.1383364200592041 to get appox knn value\n",
      "max error 0.09527141757441059\n"
     ]
    }
   ],
   "source": [
    "val_sp_gt2_approx2 = val_error(2, val_sp_gt2)"
   ]
  },
  {
   "cell_type": "code",
   "execution_count": 72,
   "metadata": {},
   "outputs": [
    {
     "data": {
      "application/vnd.jupyter.widget-view+json": {
       "model_id": "71b42e2009234cf380efc3d92b8f4b0c",
       "version_major": 2,
       "version_minor": 0
      },
      "text/plain": [
       "HBox(children=(IntProgress(value=0, max=1000), HTML(value='')))"
      ]
     },
     "metadata": {},
     "output_type": "display_data"
    },
    {
     "name": "stdout",
     "output_type": "stream",
     "text": [
      "get approximate knn 0\n",
      "get approximate knn 100\n",
      "get approximate knn 200\n",
      "get approximate knn 300\n",
      "get approximate knn 400\n",
      "get approximate knn 500\n",
      "get approximate knn 600\n",
      "get approximate knn 700\n",
      "get approximate knn 800\n",
      "get approximate knn 900\n",
      "3043.701558113098\n"
     ]
    },
    {
     "data": {
      "application/vnd.jupyter.widget-view+json": {
       "model_id": "8ab853df260e45d3a248b998a6ae5707",
       "version_major": 2,
       "version_minor": 0
      },
      "text/plain": [
       "HBox(children=(IntProgress(value=0, max=1000), HTML(value='')))"
      ]
     },
     "metadata": {},
     "output_type": "display_data"
    },
    {
     "name": "stdout",
     "output_type": "stream",
     "text": [
      "it takes 0.12779903411865234 to get appox knn value\n",
      "max error 0.09053015135602935\n"
     ]
    }
   ],
   "source": [
    "val_sp_gt5_approx2 = val_error(5, val_sp_gt5)"
   ]
  },
  {
   "cell_type": "code",
   "execution_count": null,
   "metadata": {},
   "outputs": [],
   "source": []
  }
 ],
 "metadata": {
  "kernelspec": {
   "display_name": "Python 3",
   "language": "python",
   "name": "python3"
  },
  "language_info": {
   "codemirror_mode": {
    "name": "ipython",
    "version": 3
   },
   "file_extension": ".py",
   "mimetype": "text/x-python",
   "name": "python",
   "nbconvert_exporter": "python",
   "pygments_lexer": "ipython3",
   "version": "3.7.0"
  },
  "widgets": {
   "application/vnd.jupyter.widget-state+json": {
    "state": {
     "0032d9d6b55349e99b1546e2ac872bd2": {
      "model_module": "@jupyter-widgets/controls",
      "model_module_version": "1.4.0",
      "model_name": "ProgressStyleModel",
      "state": {
       "description_width": ""
      }
     },
     "00634f746f544f5aae0203b3a403d194": {
      "model_module": "@jupyter-widgets/controls",
      "model_module_version": "1.4.0",
      "model_name": "HBoxModel",
      "state": {
       "children": [
        "IPY_MODEL_95bdebd9e24a442bb21d07ef37bb7c23",
        "IPY_MODEL_f68815e9e0044c1fa667aab946a45d64"
       ],
       "layout": "IPY_MODEL_21a6e27a79814c54811a9c13827115fc"
      }
     },
     "00a07d89f34e46a1adfa226ff4ea5b12": {
      "model_module": "@jupyter-widgets/controls",
      "model_module_version": "1.4.0",
      "model_name": "DescriptionStyleModel",
      "state": {
       "description_width": ""
      }
     },
     "024751071bfb43ea8637a3f032c4bf7d": {
      "model_module": "@jupyter-widgets/controls",
      "model_module_version": "1.4.0",
      "model_name": "DescriptionStyleModel",
      "state": {
       "description_width": ""
      }
     },
     "043367b6176a4bfe8eefa37e8b5c46fb": {
      "model_module": "@jupyter-widgets/base",
      "model_module_version": "1.1.0",
      "model_name": "LayoutModel",
      "state": {}
     },
     "047ce2ac4ec5405b961b4333ee81f684": {
      "model_module": "@jupyter-widgets/controls",
      "model_module_version": "1.4.0",
      "model_name": "HBoxModel",
      "state": {
       "children": [
        "IPY_MODEL_b552b64f2eb3467da114c6721193e365",
        "IPY_MODEL_6c872f29966444b9b7091362ff32596f"
       ],
       "layout": "IPY_MODEL_8bf5cc6f0755409da7c782b664cfdc32"
      }
     },
     "04820cdec39e459f93b642a45a998518": {
      "model_module": "@jupyter-widgets/controls",
      "model_module_version": "1.4.0",
      "model_name": "ProgressStyleModel",
      "state": {
       "description_width": ""
      }
     },
     "04a7421be995440f8fadc9b8f6c477b9": {
      "model_module": "@jupyter-widgets/controls",
      "model_module_version": "1.4.0",
      "model_name": "DescriptionStyleModel",
      "state": {
       "description_width": ""
      }
     },
     "04c3f80f996b40c8be95a98e8a763322": {
      "model_module": "@jupyter-widgets/controls",
      "model_module_version": "1.4.0",
      "model_name": "HBoxModel",
      "state": {
       "children": [
        "IPY_MODEL_54d6e2a3e7c04d62bf4f430618876b9e",
        "IPY_MODEL_9b101a78c536492d9958f59e74528ef3"
       ],
       "layout": "IPY_MODEL_0f5b0bab1a3f44869cf82df0eebc02d2"
      }
     },
     "04fe19a619c84fefb9ec142c3f409ebd": {
      "model_module": "@jupyter-widgets/controls",
      "model_module_version": "1.4.0",
      "model_name": "DescriptionStyleModel",
      "state": {
       "description_width": ""
      }
     },
     "05d69c3fa43249c8a38e37246748d870": {
      "model_module": "@jupyter-widgets/controls",
      "model_module_version": "1.4.0",
      "model_name": "HTMLModel",
      "state": {
       "layout": "IPY_MODEL_e80a7c68e7a548418611fb75d87832cc",
       "style": "IPY_MODEL_837ad11cc96f4144bdc626e0452a1926",
       "value": "100% 1000/1000 [00:08&lt;00:00, 124.87it/s]"
      }
     },
     "05dae8ee981b4eb5b5e97288a3f7273f": {
      "model_module": "@jupyter-widgets/base",
      "model_module_version": "1.1.0",
      "model_name": "LayoutModel",
      "state": {}
     },
     "0601b903d8f54296985a00fa7c4a4246": {
      "model_module": "@jupyter-widgets/base",
      "model_module_version": "1.1.0",
      "model_name": "LayoutModel",
      "state": {}
     },
     "0651c3abc93f47e48d3b624d60f355b5": {
      "model_module": "@jupyter-widgets/controls",
      "model_module_version": "1.4.0",
      "model_name": "DescriptionStyleModel",
      "state": {
       "description_width": ""
      }
     },
     "06c5be3bb7ad4ba580f2b6024e94feea": {
      "model_module": "@jupyter-widgets/controls",
      "model_module_version": "1.4.0",
      "model_name": "IntProgressModel",
      "state": {
       "bar_style": "success",
       "layout": "IPY_MODEL_e2d64c177eed405b9f5692c149e07661",
       "style": "IPY_MODEL_1a0458daa6b64c559b665bf4ccdb6b53",
       "value": 100
      }
     },
     "0879df3d27b74cdc9403d2629d82bacf": {
      "model_module": "@jupyter-widgets/controls",
      "model_module_version": "1.4.0",
      "model_name": "DescriptionStyleModel",
      "state": {
       "description_width": ""
      }
     },
     "0988e181b0ec4b86b75d96fd9e26b793": {
      "model_module": "@jupyter-widgets/controls",
      "model_module_version": "1.4.0",
      "model_name": "DescriptionStyleModel",
      "state": {
       "description_width": ""
      }
     },
     "0c8f57a233454e19b3871409718d38e8": {
      "model_module": "@jupyter-widgets/base",
      "model_module_version": "1.1.0",
      "model_name": "LayoutModel",
      "state": {}
     },
     "0cf24627097f4e218e5b92839522c1eb": {
      "model_module": "@jupyter-widgets/controls",
      "model_module_version": "1.4.0",
      "model_name": "DescriptionStyleModel",
      "state": {
       "description_width": ""
      }
     },
     "0d07b5621fc5480386ad36027fdbb5b3": {
      "model_module": "@jupyter-widgets/base",
      "model_module_version": "1.1.0",
      "model_name": "LayoutModel",
      "state": {}
     },
     "0dabd798f55e4d63aebe0015fcf1cba6": {
      "model_module": "@jupyter-widgets/controls",
      "model_module_version": "1.4.0",
      "model_name": "HBoxModel",
      "state": {
       "children": [
        "IPY_MODEL_9f2a8de436a6451d82ddc5da8bc6edf7",
        "IPY_MODEL_c900d7b62e094f91bb73c44063de1f6e"
       ],
       "layout": "IPY_MODEL_4b368209847c48f880675f16de2da8c6"
      }
     },
     "0dc6d0bdd25c4be6b3a2e7c91a6a2094": {
      "model_module": "@jupyter-widgets/controls",
      "model_module_version": "1.4.0",
      "model_name": "HBoxModel",
      "state": {
       "children": [
        "IPY_MODEL_36499d90ca2d40358c35c7a65a09340c",
        "IPY_MODEL_7dffb36a36c1474f838dd002930c56d3"
       ],
       "layout": "IPY_MODEL_ed98f8e1206f410dbc573a2462c9dc28"
      }
     },
     "0de7e0959c7848d6be12e58b7d25b848": {
      "model_module": "@jupyter-widgets/controls",
      "model_module_version": "1.4.0",
      "model_name": "HTMLModel",
      "state": {
       "layout": "IPY_MODEL_ef075009f33d4193a5067f362450da7c",
       "style": "IPY_MODEL_cf2a997399f7470ebe09dd344df4673e",
       "value": "100% 1000/1000 [40:39&lt;00:00,  2.14s/it]"
      }
     },
     "0ea8846bf7314781920800beadb3ab55": {
      "model_module": "@jupyter-widgets/base",
      "model_module_version": "1.1.0",
      "model_name": "LayoutModel",
      "state": {}
     },
     "0f5b0bab1a3f44869cf82df0eebc02d2": {
      "model_module": "@jupyter-widgets/base",
      "model_module_version": "1.1.0",
      "model_name": "LayoutModel",
      "state": {}
     },
     "10287dd52d91425daaad4590ceff4b97": {
      "model_module": "@jupyter-widgets/base",
      "model_module_version": "1.1.0",
      "model_name": "LayoutModel",
      "state": {}
     },
     "102b1b7b11b94c41880ddb431ed1f208": {
      "model_module": "@jupyter-widgets/controls",
      "model_module_version": "1.4.0",
      "model_name": "DescriptionStyleModel",
      "state": {
       "description_width": ""
      }
     },
     "113d2689eca1485987f184865baf071e": {
      "model_module": "@jupyter-widgets/controls",
      "model_module_version": "1.4.0",
      "model_name": "HBoxModel",
      "state": {
       "children": [
        "IPY_MODEL_b7aab3fb38ec4ab290217bc7fc9169c1",
        "IPY_MODEL_6a043008eb914f18aa6f502460953646"
       ],
       "layout": "IPY_MODEL_8532133c3f8646f19ee367bb6e975518"
      }
     },
     "1140811e11f84057a81ce24974cfdf2b": {
      "model_module": "@jupyter-widgets/controls",
      "model_module_version": "1.4.0",
      "model_name": "HBoxModel",
      "state": {
       "children": [
        "IPY_MODEL_5b62f0e6ede34900b1399fa76f452f4e",
        "IPY_MODEL_f4b04cbb624d4a68b9d5b39467cc5586"
       ],
       "layout": "IPY_MODEL_4e7d120d63344e828e7a3234506314b4"
      }
     },
     "120fd772dba244d1875ffe4ae2866c4f": {
      "model_module": "@jupyter-widgets/base",
      "model_module_version": "1.1.0",
      "model_name": "LayoutModel",
      "state": {}
     },
     "12135959b3de4c94bb39c61e8844adaf": {
      "model_module": "@jupyter-widgets/base",
      "model_module_version": "1.1.0",
      "model_name": "LayoutModel",
      "state": {}
     },
     "13d09db1681d4f0dbc1925fa69fc656f": {
      "model_module": "@jupyter-widgets/controls",
      "model_module_version": "1.4.0",
      "model_name": "IntProgressModel",
      "state": {
       "bar_style": "success",
       "layout": "IPY_MODEL_6ffb7415fa894675b54140b96a46bb11",
       "max": 1000,
       "style": "IPY_MODEL_c451c6dc2dbd4768bc9ecbf7090fc63b",
       "value": 1000
      }
     },
     "147bda8da5364260abee49febb3d7ca3": {
      "model_module": "@jupyter-widgets/controls",
      "model_module_version": "1.4.0",
      "model_name": "HTMLModel",
      "state": {
       "layout": "IPY_MODEL_5b40776e177d4917b37b1361cfb01c34",
       "style": "IPY_MODEL_6b9e6ddb935247a49f1c8c81a9b4692a",
       "value": "100% 1000/1000 [00:00&lt;00:00, 8516.98it/s]"
      }
     },
     "148f271dd0954307b9b04fd7065c61df": {
      "model_module": "@jupyter-widgets/base",
      "model_module_version": "1.1.0",
      "model_name": "LayoutModel",
      "state": {}
     },
     "14d8d2439daf4f5eb305395f5d5f4350": {
      "model_module": "@jupyter-widgets/controls",
      "model_module_version": "1.4.0",
      "model_name": "HBoxModel",
      "state": {
       "children": [
        "IPY_MODEL_d7f2033ce2e24a5faadcd1265485f763",
        "IPY_MODEL_d6fc5dda454d4b7d8586104e9fdafbd6"
       ],
       "layout": "IPY_MODEL_3914647081ac4b90a59eaf18f351d40b"
      }
     },
     "150c321ce5af40d797fbc79da1247298": {
      "model_module": "@jupyter-widgets/base",
      "model_module_version": "1.1.0",
      "model_name": "LayoutModel",
      "state": {}
     },
     "153b3925bfa94f27b256ee0ac49f8b13": {
      "model_module": "@jupyter-widgets/base",
      "model_module_version": "1.1.0",
      "model_name": "LayoutModel",
      "state": {}
     },
     "15d29af6c1c04878878303521b559ba0": {
      "model_module": "@jupyter-widgets/controls",
      "model_module_version": "1.4.0",
      "model_name": "IntProgressModel",
      "state": {
       "bar_style": "success",
       "layout": "IPY_MODEL_a8d340f49c7846dbb73439b617a7d703",
       "max": 1000,
       "style": "IPY_MODEL_6627ac713af64ea099db46aa1719de8d",
       "value": 1000
      }
     },
     "15ec102312d24e33bcc4f27155ad4a73": {
      "model_module": "@jupyter-widgets/base",
      "model_module_version": "1.1.0",
      "model_name": "LayoutModel",
      "state": {}
     },
     "172e387e589348e3ba810c2b14a31841": {
      "model_module": "@jupyter-widgets/controls",
      "model_module_version": "1.4.0",
      "model_name": "ProgressStyleModel",
      "state": {
       "description_width": ""
      }
     },
     "177b0af3bbeb4401b840d2ac92eece04": {
      "model_module": "@jupyter-widgets/controls",
      "model_module_version": "1.4.0",
      "model_name": "HBoxModel",
      "state": {
       "children": [
        "IPY_MODEL_5f747947d4cf4955ae3e8e7073f274db",
        "IPY_MODEL_f86eb1f95a1542f5b4726b224a2c98ef"
       ],
       "layout": "IPY_MODEL_bf8ce3f2aa1548308e1d023ec05731c0"
      }
     },
     "179838c9d99f462ea8241f25fb38f509": {
      "model_module": "@jupyter-widgets/controls",
      "model_module_version": "1.4.0",
      "model_name": "DescriptionStyleModel",
      "state": {
       "description_width": ""
      }
     },
     "196be0a0de0c4c88806b786a24e76d11": {
      "model_module": "@jupyter-widgets/controls",
      "model_module_version": "1.4.0",
      "model_name": "DescriptionStyleModel",
      "state": {
       "description_width": ""
      }
     },
     "19b0b358fdb34ec895ebf09d1f66930e": {
      "model_module": "@jupyter-widgets/controls",
      "model_module_version": "1.4.0",
      "model_name": "DescriptionStyleModel",
      "state": {
       "description_width": ""
      }
     },
     "19d64fcf944c4d3cb9c370a219b791be": {
      "model_module": "@jupyter-widgets/controls",
      "model_module_version": "1.4.0",
      "model_name": "HTMLModel",
      "state": {
       "layout": "IPY_MODEL_35aaa7a66c0e45f4a2252c3ade4f04e4",
       "style": "IPY_MODEL_c1840a000dde4d53873401d98123dc1b",
       "value": "100% 100/100 [00:00&lt;00:00, 4060.00it/s]"
      }
     },
     "1a0458daa6b64c559b665bf4ccdb6b53": {
      "model_module": "@jupyter-widgets/controls",
      "model_module_version": "1.4.0",
      "model_name": "ProgressStyleModel",
      "state": {
       "description_width": ""
      }
     },
     "1a8bdc69082d4beda4e37a6226332217": {
      "model_module": "@jupyter-widgets/base",
      "model_module_version": "1.1.0",
      "model_name": "LayoutModel",
      "state": {}
     },
     "1aaf9694d17f4c4a8f971ac6e1c205c3": {
      "model_module": "@jupyter-widgets/controls",
      "model_module_version": "1.4.0",
      "model_name": "HBoxModel",
      "state": {
       "children": [
        "IPY_MODEL_945e955cba8f4654915564e51f150410",
        "IPY_MODEL_75043feb95af478ba25764a94a383c5f"
       ],
       "layout": "IPY_MODEL_de51d4a7823f4d2e8aefd045a4ce3bd0"
      }
     },
     "1b92b07ae4c145c6863a683e68c12ac7": {
      "model_module": "@jupyter-widgets/controls",
      "model_module_version": "1.4.0",
      "model_name": "HBoxModel",
      "state": {
       "children": [
        "IPY_MODEL_d63a9071ba0a400fb9ee45692b819274",
        "IPY_MODEL_c71a0aea261b4f4abf5346fc4bc9370d"
       ],
       "layout": "IPY_MODEL_978799e7fd964f2ba19009815703f1d8"
      }
     },
     "1bbcbdc79ffa44118b3e96c871f569aa": {
      "model_module": "@jupyter-widgets/controls",
      "model_module_version": "1.4.0",
      "model_name": "ProgressStyleModel",
      "state": {
       "description_width": ""
      }
     },
     "1db4bbd4d8274812b72156f62fbc5b55": {
      "model_module": "@jupyter-widgets/controls",
      "model_module_version": "1.4.0",
      "model_name": "HBoxModel",
      "state": {
       "children": [
        "IPY_MODEL_7bf14d5842d64bb2ae177d8921c3b9bd",
        "IPY_MODEL_c3452bbe4b024770a9edabc86676115e"
       ],
       "layout": "IPY_MODEL_f9b3b759e49c453bb2d23ed32e363bf4"
      }
     },
     "1dd45506cbae4b9aae7269ee68aeab42": {
      "model_module": "@jupyter-widgets/base",
      "model_module_version": "1.1.0",
      "model_name": "LayoutModel",
      "state": {}
     },
     "1e0e73c51ea14886acfb5cd98d0a9d79": {
      "model_module": "@jupyter-widgets/base",
      "model_module_version": "1.1.0",
      "model_name": "LayoutModel",
      "state": {}
     },
     "1e787c26daea4f3797ad9d19c63a642e": {
      "model_module": "@jupyter-widgets/controls",
      "model_module_version": "1.4.0",
      "model_name": "HTMLModel",
      "state": {
       "layout": "IPY_MODEL_d5bcf9636101467cbb8cd31285171437",
       "style": "IPY_MODEL_5d89c8edea164f598eeaf2e065bf90f9",
       "value": "100% 100/100 [00:00&lt;00:00, 3706.13it/s]"
      }
     },
     "1f296502959849dd8785bc1cb8f99252": {
      "model_module": "@jupyter-widgets/controls",
      "model_module_version": "1.4.0",
      "model_name": "ProgressStyleModel",
      "state": {
       "description_width": ""
      }
     },
     "204192e7b90d4d7aa4bb27ace13a0a23": {
      "model_module": "@jupyter-widgets/controls",
      "model_module_version": "1.4.0",
      "model_name": "HBoxModel",
      "state": {
       "children": [
        "IPY_MODEL_d2853698928147daa78ab795a75e0d22",
        "IPY_MODEL_a92b6f1449e3480d8f6109d3cde2ec3e"
       ],
       "layout": "IPY_MODEL_e828f8d391d5476c9120e90135f423ba"
      }
     },
     "20dfd423790f4be29df5074713054cd5": {
      "model_module": "@jupyter-widgets/controls",
      "model_module_version": "1.4.0",
      "model_name": "HBoxModel",
      "state": {
       "children": [
        "IPY_MODEL_5bc9fb98176a4332b132c0376ce95a5f",
        "IPY_MODEL_95e146c14c554844ae3e8580fc83fcdd"
       ],
       "layout": "IPY_MODEL_897e5643e29540d4861e089189b22a97"
      }
     },
     "21142d418a0c43969abff0ea33c8cf01": {
      "model_module": "@jupyter-widgets/controls",
      "model_module_version": "1.4.0",
      "model_name": "HBoxModel",
      "state": {
       "children": [
        "IPY_MODEL_d4c371bccf0c4b8db81e00656f29a77f",
        "IPY_MODEL_e84336618b024b9dbfba5640c11f6773"
       ],
       "layout": "IPY_MODEL_d018b003a75c45908c3afa16cb455358"
      }
     },
     "21a6e27a79814c54811a9c13827115fc": {
      "model_module": "@jupyter-widgets/base",
      "model_module_version": "1.1.0",
      "model_name": "LayoutModel",
      "state": {}
     },
     "21c2e988e5c14e2785fa18909ecc7650": {
      "model_module": "@jupyter-widgets/controls",
      "model_module_version": "1.4.0",
      "model_name": "HBoxModel",
      "state": {
       "children": [
        "IPY_MODEL_aa522eae29f44b6ba3651e020c14547d",
        "IPY_MODEL_2b92e41e114c4f259b82a7dc02b929f6"
       ],
       "layout": "IPY_MODEL_76d15f11d6b5486781b96d0f215cf9a5"
      }
     },
     "221e420980e549e8bbd775e5d11262ac": {
      "model_module": "@jupyter-widgets/controls",
      "model_module_version": "1.4.0",
      "model_name": "ProgressStyleModel",
      "state": {
       "description_width": ""
      }
     },
     "235bf427ffe6465e82416b6d5b4476b4": {
      "model_module": "@jupyter-widgets/controls",
      "model_module_version": "1.4.0",
      "model_name": "DescriptionStyleModel",
      "state": {
       "description_width": ""
      }
     },
     "236625994343492bb8c8cf30ae75534b": {
      "model_module": "@jupyter-widgets/base",
      "model_module_version": "1.1.0",
      "model_name": "LayoutModel",
      "state": {}
     },
     "2417104892c74e95b4b0769a75ec3135": {
      "model_module": "@jupyter-widgets/controls",
      "model_module_version": "1.4.0",
      "model_name": "HTMLModel",
      "state": {
       "layout": "IPY_MODEL_48d389764b4b4b929c7225aaa0325c67",
       "style": "IPY_MODEL_f5f34972119445328f3455204490b85c",
       "value": "100% 1000/1000 [47:25&lt;00:00,  2.93s/it]"
      }
     },
     "248ac8fb7159479ab9dc78a85c4fdfcb": {
      "model_module": "@jupyter-widgets/base",
      "model_module_version": "1.1.0",
      "model_name": "LayoutModel",
      "state": {}
     },
     "24ab7abb972e413e950d55009c242bc8": {
      "model_module": "@jupyter-widgets/base",
      "model_module_version": "1.1.0",
      "model_name": "LayoutModel",
      "state": {}
     },
     "25658b8d509941c8affbd80a6a499413": {
      "model_module": "@jupyter-widgets/controls",
      "model_module_version": "1.4.0",
      "model_name": "DescriptionStyleModel",
      "state": {
       "description_width": ""
      }
     },
     "256a1ef18a22435e886bfdf9017ee282": {
      "model_module": "@jupyter-widgets/base",
      "model_module_version": "1.1.0",
      "model_name": "LayoutModel",
      "state": {}
     },
     "26a3ebdb6d67438eb899970e31214ae1": {
      "model_module": "@jupyter-widgets/controls",
      "model_module_version": "1.4.0",
      "model_name": "HBoxModel",
      "state": {
       "children": [
        "IPY_MODEL_bb4806844fda4d299c94cff37cf03d5c",
        "IPY_MODEL_36de9efdf65e404abc1a16fb5ed4a973"
       ],
       "layout": "IPY_MODEL_82538ffc13ce44bf84fbf7bd05e7a7c0"
      }
     },
     "2791ca297b0447c59821c69d6cbc9a0c": {
      "model_module": "@jupyter-widgets/base",
      "model_module_version": "1.1.0",
      "model_name": "LayoutModel",
      "state": {}
     },
     "27b00dd8adb3475dafa32f75e9d0a010": {
      "model_module": "@jupyter-widgets/controls",
      "model_module_version": "1.4.0",
      "model_name": "HTMLModel",
      "state": {
       "layout": "IPY_MODEL_deec043bba68412f8c610daa3537fbbd",
       "style": "IPY_MODEL_4b9c6e7f7e5e42d4a3c8c16a67857505",
       "value": "100% 100/100 [00:00&lt;00:00, 4026.40it/s]"
      }
     },
     "27ec1b7ab5c6421298e3eb06c6f75db7": {
      "model_module": "@jupyter-widgets/controls",
      "model_module_version": "1.4.0",
      "model_name": "ProgressStyleModel",
      "state": {
       "description_width": ""
      }
     },
     "28b1108c3cb145a881c8c9f22d9e0d95": {
      "model_module": "@jupyter-widgets/controls",
      "model_module_version": "1.4.0",
      "model_name": "HBoxModel",
      "state": {
       "children": [
        "IPY_MODEL_aeb455b1f5f34db18287bdf4dd061b39",
        "IPY_MODEL_b31e7f7b8cae458f9f773670e800fa27"
       ],
       "layout": "IPY_MODEL_ff02ac35b75e43c3a1fde61e9a550a72"
      }
     },
     "29b3cb73c38e4f80afba1226d0ace184": {
      "model_module": "@jupyter-widgets/controls",
      "model_module_version": "1.4.0",
      "model_name": "ProgressStyleModel",
      "state": {
       "description_width": ""
      }
     },
     "29cdf290f35b4d95a0e432001690c3d9": {
      "model_module": "@jupyter-widgets/base",
      "model_module_version": "1.1.0",
      "model_name": "LayoutModel",
      "state": {}
     },
     "2ae262b910f54fec9f96a7a9f44a9b2b": {
      "model_module": "@jupyter-widgets/controls",
      "model_module_version": "1.4.0",
      "model_name": "IntProgressModel",
      "state": {
       "bar_style": "success",
       "layout": "IPY_MODEL_b169a20bbeed45929e2ca38368ae3d31",
       "max": 1000,
       "style": "IPY_MODEL_db927405c9714ea4aa5376f42151db0c",
       "value": 1000
      }
     },
     "2aef1d51aa104f6885875eeeba01058a": {
      "model_module": "@jupyter-widgets/base",
      "model_module_version": "1.1.0",
      "model_name": "LayoutModel",
      "state": {}
     },
     "2b244f508381469e872a04f549ff5446": {
      "model_module": "@jupyter-widgets/base",
      "model_module_version": "1.1.0",
      "model_name": "LayoutModel",
      "state": {}
     },
     "2b92e41e114c4f259b82a7dc02b929f6": {
      "model_module": "@jupyter-widgets/controls",
      "model_module_version": "1.4.0",
      "model_name": "HTMLModel",
      "state": {
       "layout": "IPY_MODEL_e21be4b1f8024e7986ae4b563f403d34",
       "style": "IPY_MODEL_cbce5a4019d04e04b93da5d419a50b59",
       "value": "100% 1000/1000 [1:54:03&lt;00:00,  8.38s/it]"
      }
     },
     "2fde1404a2074bf89b05a09d628c4ab8": {
      "model_module": "@jupyter-widgets/base",
      "model_module_version": "1.1.0",
      "model_name": "LayoutModel",
      "state": {}
     },
     "3006b40c9da84e438fb59568601a6be0": {
      "model_module": "@jupyter-widgets/controls",
      "model_module_version": "1.4.0",
      "model_name": "HTMLModel",
      "state": {
       "layout": "IPY_MODEL_69c58a8a58054426ab24b0c6bf44c7ce",
       "style": "IPY_MODEL_0cf24627097f4e218e5b92839522c1eb",
       "value": "100% 100/100 [07:38&lt;00:00,  4.59s/it]"
      }
     },
     "3030bdd5fd2245a196f6c89dcd840622": {
      "model_module": "@jupyter-widgets/controls",
      "model_module_version": "1.4.0",
      "model_name": "HTMLModel",
      "state": {
       "layout": "IPY_MODEL_c4fb01d0024247ce85d4051dc4e34eb3",
       "style": "IPY_MODEL_facb2b4143884b7dbda447384eedd3d4",
       "value": "100% 996559/996559 [1:49:09&lt;00:00, 152.16it/s]"
      }
     },
     "32b6daa386a94f2486fe9a4d38461196": {
      "model_module": "@jupyter-widgets/controls",
      "model_module_version": "1.4.0",
      "model_name": "DescriptionStyleModel",
      "state": {
       "description_width": ""
      }
     },
     "3357436fd22242a1810ab564f954c4dc": {
      "model_module": "@jupyter-widgets/controls",
      "model_module_version": "1.4.0",
      "model_name": "ProgressStyleModel",
      "state": {
       "description_width": ""
      }
     },
     "35aaa7a66c0e45f4a2252c3ade4f04e4": {
      "model_module": "@jupyter-widgets/base",
      "model_module_version": "1.1.0",
      "model_name": "LayoutModel",
      "state": {}
     },
     "3616b8874403419cae9d3ac0508180da": {
      "model_module": "@jupyter-widgets/controls",
      "model_module_version": "1.4.0",
      "model_name": "HBoxModel",
      "state": {
       "children": [
        "IPY_MODEL_bda8871746b9425793eea4acefa72e8e",
        "IPY_MODEL_3030bdd5fd2245a196f6c89dcd840622"
       ],
       "layout": "IPY_MODEL_43c229b6829c406b93243431c9a5480d"
      }
     },
     "363e6640096f4fa59bb5a9bd14fc19ec": {
      "model_module": "@jupyter-widgets/base",
      "model_module_version": "1.1.0",
      "model_name": "LayoutModel",
      "state": {}
     },
     "36499d90ca2d40358c35c7a65a09340c": {
      "model_module": "@jupyter-widgets/controls",
      "model_module_version": "1.4.0",
      "model_name": "IntProgressModel",
      "state": {
       "bar_style": "success",
       "layout": "IPY_MODEL_1e0e73c51ea14886acfb5cd98d0a9d79",
       "max": 1000,
       "style": "IPY_MODEL_1bbcbdc79ffa44118b3e96c871f569aa",
       "value": 1000
      }
     },
     "36de9efdf65e404abc1a16fb5ed4a973": {
      "model_module": "@jupyter-widgets/controls",
      "model_module_version": "1.4.0",
      "model_name": "HTMLModel",
      "state": {
       "layout": "IPY_MODEL_c181c149b4d7414aa326daaff1272753",
       "style": "IPY_MODEL_50445fb13cf14a20ab9aab5e523ded8d",
       "value": "100% 1000/1000 [00:00&lt;00:00, 9107.20it/s]"
      }
     },
     "371d113b28d54d33b4d1a49b2cdcc4cf": {
      "model_module": "@jupyter-widgets/base",
      "model_module_version": "1.1.0",
      "model_name": "LayoutModel",
      "state": {}
     },
     "3776334dd9e3492892faa6c1b5bf7c51": {
      "model_module": "@jupyter-widgets/controls",
      "model_module_version": "1.4.0",
      "model_name": "HBoxModel",
      "state": {
       "children": [
        "IPY_MODEL_c8422488737846dab033b55fbd392ec9",
        "IPY_MODEL_c74ac61961694ecd8e4b7a781fb73c2b"
       ],
       "layout": "IPY_MODEL_043367b6176a4bfe8eefa37e8b5c46fb"
      }
     },
     "379efef7fd634ac89f2102e3d9f3522b": {
      "model_module": "@jupyter-widgets/base",
      "model_module_version": "1.1.0",
      "model_name": "LayoutModel",
      "state": {}
     },
     "3840b96b764f4fdbba749eac67b38056": {
      "model_module": "@jupyter-widgets/base",
      "model_module_version": "1.1.0",
      "model_name": "LayoutModel",
      "state": {}
     },
     "3877e3d5d5d34b0a88fee73ec9907b9d": {
      "model_module": "@jupyter-widgets/controls",
      "model_module_version": "1.4.0",
      "model_name": "IntProgressModel",
      "state": {
       "bar_style": "success",
       "layout": "IPY_MODEL_b5e3b01e8a64423e853e6bff79e17d82",
       "max": 1000,
       "style": "IPY_MODEL_dc2c35f6fba447128cb0b4fd7390316d",
       "value": 1000
      }
     },
     "3883c837e58347569ba55dc226aa5665": {
      "model_module": "@jupyter-widgets/base",
      "model_module_version": "1.1.0",
      "model_name": "LayoutModel",
      "state": {}
     },
     "3885e429e7744df6b827577595877bef": {
      "model_module": "@jupyter-widgets/base",
      "model_module_version": "1.1.0",
      "model_name": "LayoutModel",
      "state": {}
     },
     "38e4f2838db44512b953f0a56d44f7e3": {
      "model_module": "@jupyter-widgets/base",
      "model_module_version": "1.1.0",
      "model_name": "LayoutModel",
      "state": {}
     },
     "38fd44e8af2b443392e5bd4ae734eb39": {
      "model_module": "@jupyter-widgets/base",
      "model_module_version": "1.1.0",
      "model_name": "LayoutModel",
      "state": {}
     },
     "3914647081ac4b90a59eaf18f351d40b": {
      "model_module": "@jupyter-widgets/base",
      "model_module_version": "1.1.0",
      "model_name": "LayoutModel",
      "state": {}
     },
     "39bfcc90b44a4f8d9d18a18ed17aa219": {
      "model_module": "@jupyter-widgets/base",
      "model_module_version": "1.1.0",
      "model_name": "LayoutModel",
      "state": {}
     },
     "3cc49f35d793417c95324551ddf3b595": {
      "model_module": "@jupyter-widgets/controls",
      "model_module_version": "1.4.0",
      "model_name": "ProgressStyleModel",
      "state": {
       "description_width": ""
      }
     },
     "3da15d7281dc4c3189f8be062c204484": {
      "model_module": "@jupyter-widgets/controls",
      "model_module_version": "1.4.0",
      "model_name": "IntProgressModel",
      "state": {
       "bar_style": "success",
       "layout": "IPY_MODEL_9244327abbc446198569e4d4394a7c89",
       "style": "IPY_MODEL_221e420980e549e8bbd775e5d11262ac",
       "value": 100
      }
     },
     "3e51685f41a4447ba2d136224a8b8dba": {
      "model_module": "@jupyter-widgets/base",
      "model_module_version": "1.1.0",
      "model_name": "LayoutModel",
      "state": {}
     },
     "40bdbe4a84d44710b81baa1214346b14": {
      "model_module": "@jupyter-widgets/controls",
      "model_module_version": "1.4.0",
      "model_name": "ProgressStyleModel",
      "state": {
       "description_width": ""
      }
     },
     "41d5b9f5b05a45eabd942dd5c963fef9": {
      "model_module": "@jupyter-widgets/controls",
      "model_module_version": "1.4.0",
      "model_name": "DescriptionStyleModel",
      "state": {
       "description_width": ""
      }
     },
     "4211079532ab4055845ca7b3a0b5d020": {
      "model_module": "@jupyter-widgets/controls",
      "model_module_version": "1.4.0",
      "model_name": "HBoxModel",
      "state": {
       "children": [
        "IPY_MODEL_13d09db1681d4f0dbc1925fa69fc656f",
        "IPY_MODEL_99b2c352c5bf443fb7cafa701280b1c6"
       ],
       "layout": "IPY_MODEL_236625994343492bb8c8cf30ae75534b"
      }
     },
     "422125d55aee46d28da8860284a3b63a": {
      "model_module": "@jupyter-widgets/controls",
      "model_module_version": "1.4.0",
      "model_name": "IntProgressModel",
      "state": {
       "bar_style": "success",
       "layout": "IPY_MODEL_4bb12291a5474bf1a68c7b7acb1c082e",
       "style": "IPY_MODEL_04820cdec39e459f93b642a45a998518",
       "value": 100
      }
     },
     "42776fda27d94d51a9aa52b93cdcc948": {
      "model_module": "@jupyter-widgets/base",
      "model_module_version": "1.1.0",
      "model_name": "LayoutModel",
      "state": {}
     },
     "439b294d4afc4131900eba2c1d0775b0": {
      "model_module": "@jupyter-widgets/controls",
      "model_module_version": "1.4.0",
      "model_name": "IntProgressModel",
      "state": {
       "bar_style": "success",
       "layout": "IPY_MODEL_e9bb0f99c39c455d8f6e63eb220bd526",
       "style": "IPY_MODEL_dd4593398dae479198274e527ae9183c",
       "value": 100
      }
     },
     "43c229b6829c406b93243431c9a5480d": {
      "model_module": "@jupyter-widgets/base",
      "model_module_version": "1.1.0",
      "model_name": "LayoutModel",
      "state": {}
     },
     "443516978ec147f7863736ac7e5b39df": {
      "model_module": "@jupyter-widgets/controls",
      "model_module_version": "1.4.0",
      "model_name": "HTMLModel",
      "state": {
       "layout": "IPY_MODEL_897c674ce33f4bbc899eab4ef03ce749",
       "style": "IPY_MODEL_04fe19a619c84fefb9ec142c3f409ebd",
       "value": "100% 100/100 [04:57&lt;00:00,  2.70s/it]"
      }
     },
     "455f741e49d541609040087f268d19e3": {
      "model_module": "@jupyter-widgets/base",
      "model_module_version": "1.1.0",
      "model_name": "LayoutModel",
      "state": {}
     },
     "4603e296430347d78765b85cc52c0e34": {
      "model_module": "@jupyter-widgets/base",
      "model_module_version": "1.1.0",
      "model_name": "LayoutModel",
      "state": {}
     },
     "4624b6b1db40421086d636f798db6053": {
      "model_module": "@jupyter-widgets/controls",
      "model_module_version": "1.4.0",
      "model_name": "DescriptionStyleModel",
      "state": {
       "description_width": ""
      }
     },
     "46bad49f82434a17b3a79fea5c5e5814": {
      "model_module": "@jupyter-widgets/base",
      "model_module_version": "1.1.0",
      "model_name": "LayoutModel",
      "state": {}
     },
     "47151857954645a192439bfe0bad7fe8": {
      "model_module": "@jupyter-widgets/base",
      "model_module_version": "1.1.0",
      "model_name": "LayoutModel",
      "state": {}
     },
     "47a90871637c42e7af39a19e8ded8b1d": {
      "model_module": "@jupyter-widgets/base",
      "model_module_version": "1.1.0",
      "model_name": "LayoutModel",
      "state": {}
     },
     "48854efa6c774af5a15506c987924efc": {
      "model_module": "@jupyter-widgets/base",
      "model_module_version": "1.1.0",
      "model_name": "LayoutModel",
      "state": {}
     },
     "48d389764b4b4b929c7225aaa0325c67": {
      "model_module": "@jupyter-widgets/base",
      "model_module_version": "1.1.0",
      "model_name": "LayoutModel",
      "state": {}
     },
     "4925d4a03d164e498bec2a7d52831e9d": {
      "model_module": "@jupyter-widgets/controls",
      "model_module_version": "1.4.0",
      "model_name": "DescriptionStyleModel",
      "state": {
       "description_width": ""
      }
     },
     "4b368209847c48f880675f16de2da8c6": {
      "model_module": "@jupyter-widgets/base",
      "model_module_version": "1.1.0",
      "model_name": "LayoutModel",
      "state": {}
     },
     "4b6f1d60cdcf42f68a9308457f356fee": {
      "model_module": "@jupyter-widgets/base",
      "model_module_version": "1.1.0",
      "model_name": "LayoutModel",
      "state": {}
     },
     "4b7211a1b76d4b5998ef7183a7b57cb9": {
      "model_module": "@jupyter-widgets/controls",
      "model_module_version": "1.4.0",
      "model_name": "HTMLModel",
      "state": {
       "layout": "IPY_MODEL_68711b4b968b40108089fadaa966176d",
       "style": "IPY_MODEL_bf1a2c6bc4354e548a8ed79bab6e0444",
       "value": "100% 1000/1000 [00:00&lt;00:00, 6750.04it/s]"
      }
     },
     "4b9c6e7f7e5e42d4a3c8c16a67857505": {
      "model_module": "@jupyter-widgets/controls",
      "model_module_version": "1.4.0",
      "model_name": "DescriptionStyleModel",
      "state": {
       "description_width": ""
      }
     },
     "4bb12291a5474bf1a68c7b7acb1c082e": {
      "model_module": "@jupyter-widgets/base",
      "model_module_version": "1.1.0",
      "model_name": "LayoutModel",
      "state": {}
     },
     "4c34660b8df24ae0b9d2eb59fd9167c6": {
      "model_module": "@jupyter-widgets/controls",
      "model_module_version": "1.4.0",
      "model_name": "HBoxModel",
      "state": {
       "children": [
        "IPY_MODEL_422125d55aee46d28da8860284a3b63a",
        "IPY_MODEL_bc842272e8e24729abbeb19ecec0499c"
       ],
       "layout": "IPY_MODEL_dfefdcd7e3434c2d93395fc103ff6b28"
      }
     },
     "4c66de7f5af54328a04b85cb349c6851": {
      "model_module": "@jupyter-widgets/controls",
      "model_module_version": "1.4.0",
      "model_name": "ProgressStyleModel",
      "state": {
       "description_width": ""
      }
     },
     "4c98adf845f8447fa8d5f3fc310b4718": {
      "model_module": "@jupyter-widgets/controls",
      "model_module_version": "1.4.0",
      "model_name": "ProgressStyleModel",
      "state": {
       "description_width": ""
      }
     },
     "4cfcbc78897c47e2a664058466f78839": {
      "model_module": "@jupyter-widgets/base",
      "model_module_version": "1.1.0",
      "model_name": "LayoutModel",
      "state": {}
     },
     "4e014587b16f419ca052ca26083f3743": {
      "model_module": "@jupyter-widgets/controls",
      "model_module_version": "1.4.0",
      "model_name": "ProgressStyleModel",
      "state": {
       "description_width": ""
      }
     },
     "4e42ad6e1a92428294c5590f43e138b5": {
      "model_module": "@jupyter-widgets/controls",
      "model_module_version": "1.4.0",
      "model_name": "IntProgressModel",
      "state": {
       "bar_style": "success",
       "layout": "IPY_MODEL_379efef7fd634ac89f2102e3d9f3522b",
       "max": 1000,
       "style": "IPY_MODEL_4c66de7f5af54328a04b85cb349c6851",
       "value": 1000
      }
     },
     "4e51a1db22324e429b62cf60bd272263": {
      "model_module": "@jupyter-widgets/controls",
      "model_module_version": "1.4.0",
      "model_name": "HBoxModel",
      "state": {
       "children": [
        "IPY_MODEL_439b294d4afc4131900eba2c1d0775b0",
        "IPY_MODEL_de32c75b64e54f9fbe37c0e1ceaf34aa"
       ],
       "layout": "IPY_MODEL_520e3a4dda3c4d1eae73088eeba8c6a1"
      }
     },
     "4e5f7f7526674290a9361f64e420e089": {
      "model_module": "@jupyter-widgets/controls",
      "model_module_version": "1.4.0",
      "model_name": "HBoxModel",
      "state": {
       "children": [
        "IPY_MODEL_c842784c5a0f4aba957b3b262c58a7d6",
        "IPY_MODEL_5c3d9c92c19d40788b977881b618b098"
       ],
       "layout": "IPY_MODEL_371d113b28d54d33b4d1a49b2cdcc4cf"
      }
     },
     "4e7d120d63344e828e7a3234506314b4": {
      "model_module": "@jupyter-widgets/base",
      "model_module_version": "1.1.0",
      "model_name": "LayoutModel",
      "state": {}
     },
     "4f2ec69e5a2547c6b49b780e7470bfec": {
      "model_module": "@jupyter-widgets/controls",
      "model_module_version": "1.4.0",
      "model_name": "HBoxModel",
      "state": {
       "children": [
        "IPY_MODEL_3da15d7281dc4c3189f8be062c204484",
        "IPY_MODEL_1e787c26daea4f3797ad9d19c63a642e"
       ],
       "layout": "IPY_MODEL_a0cd0183401a457b9616994a84d4d354"
      }
     },
     "4fe3cdb182b8401182b3495354c518a2": {
      "model_module": "@jupyter-widgets/controls",
      "model_module_version": "1.4.0",
      "model_name": "HTMLModel",
      "state": {
       "layout": "IPY_MODEL_acb578c36d904de8b68b6eac525c0300",
       "style": "IPY_MODEL_19b0b358fdb34ec895ebf09d1f66930e",
       "value": "100% 100/100 [04:15&lt;00:00,  2.08s/it]"
      }
     },
     "5031005c311e421d8afb762e2c38c6f3": {
      "model_module": "@jupyter-widgets/controls",
      "model_module_version": "1.4.0",
      "model_name": "HTMLModel",
      "state": {
       "layout": "IPY_MODEL_7295aaef9351408e84a3a1a16171e447",
       "style": "IPY_MODEL_8878ed028710411781ae9ca63b3c596b",
       "value": "100% 1000/1000 [00:00&lt;00:00, 10360.25it/s]"
      }
     },
     "50445fb13cf14a20ab9aab5e523ded8d": {
      "model_module": "@jupyter-widgets/controls",
      "model_module_version": "1.4.0",
      "model_name": "DescriptionStyleModel",
      "state": {
       "description_width": ""
      }
     },
     "5098bca12d8246c0be52398bf9e2d629": {
      "model_module": "@jupyter-widgets/controls",
      "model_module_version": "1.4.0",
      "model_name": "IntProgressModel",
      "state": {
       "bar_style": "success",
       "layout": "IPY_MODEL_c1d3876d70b443aeb844d1f11fdddc95",
       "style": "IPY_MODEL_fd9dcd92f19f4466bd4f5ce611afaf73",
       "value": 100
      }
     },
     "50fb8b6ee0c84062a342623079b22a01": {
      "model_module": "@jupyter-widgets/base",
      "model_module_version": "1.1.0",
      "model_name": "LayoutModel",
      "state": {}
     },
     "515eb7f79d144e7aa14d149b3cd20b9b": {
      "model_module": "@jupyter-widgets/controls",
      "model_module_version": "1.4.0",
      "model_name": "IntProgressModel",
      "state": {
       "bar_style": "success",
       "layout": "IPY_MODEL_63643b3d6e024c7180c3e1640bbfb29d",
       "max": 1000,
       "style": "IPY_MODEL_fd13b46fe9de412d9583ed97007a9207",
       "value": 1000
      }
     },
     "520e3a4dda3c4d1eae73088eeba8c6a1": {
      "model_module": "@jupyter-widgets/base",
      "model_module_version": "1.1.0",
      "model_name": "LayoutModel",
      "state": {}
     },
     "5287829fd1da4a6386366c52984be24c": {
      "model_module": "@jupyter-widgets/controls",
      "model_module_version": "1.4.0",
      "model_name": "HBoxModel",
      "state": {
       "children": [
        "IPY_MODEL_faadadec166640dda080e2c4fc0438ea",
        "IPY_MODEL_f174b8d9233040d8826e1c356d156ad1"
       ],
       "layout": "IPY_MODEL_817f367ae79b4ca38f06c6cf36922891"
      }
     },
     "52d709acc233472f94ac7dbdf069e480": {
      "model_module": "@jupyter-widgets/base",
      "model_module_version": "1.1.0",
      "model_name": "LayoutModel",
      "state": {}
     },
     "5320de649efa4b1b9d2ae268e98b8f3b": {
      "model_module": "@jupyter-widgets/controls",
      "model_module_version": "1.4.0",
      "model_name": "HBoxModel",
      "state": {
       "children": [
        "IPY_MODEL_2ae262b910f54fec9f96a7a9f44a9b2b",
        "IPY_MODEL_5884b717275e4975a16e4b41410cfb64"
       ],
       "layout": "IPY_MODEL_0601b903d8f54296985a00fa7c4a4246"
      }
     },
     "53b7d5d5fa2a44a58881e569629afb81": {
      "model_module": "@jupyter-widgets/base",
      "model_module_version": "1.1.0",
      "model_name": "LayoutModel",
      "state": {}
     },
     "53bf0dc986284b4a874c0ec48229487a": {
      "model_module": "@jupyter-widgets/base",
      "model_module_version": "1.1.0",
      "model_name": "LayoutModel",
      "state": {}
     },
     "54130df55e754212925c1e05ebcbe011": {
      "model_module": "@jupyter-widgets/base",
      "model_module_version": "1.1.0",
      "model_name": "LayoutModel",
      "state": {}
     },
     "54537bb730a746159756362cdbef67bc": {
      "model_module": "@jupyter-widgets/controls",
      "model_module_version": "1.4.0",
      "model_name": "IntProgressModel",
      "state": {
       "bar_style": "success",
       "layout": "IPY_MODEL_613af90cd9a14d33af53a84881fcb423",
       "max": 1000,
       "style": "IPY_MODEL_e5d0b9f07b7d4669aa89bbd52cd86f9f",
       "value": 1000
      }
     },
     "547c0df7ceef41e893b4c1e0430a0611": {
      "model_module": "@jupyter-widgets/base",
      "model_module_version": "1.1.0",
      "model_name": "LayoutModel",
      "state": {}
     },
     "54d6e2a3e7c04d62bf4f430618876b9e": {
      "model_module": "@jupyter-widgets/controls",
      "model_module_version": "1.4.0",
      "model_name": "IntProgressModel",
      "state": {
       "bar_style": "success",
       "layout": "IPY_MODEL_53b7d5d5fa2a44a58881e569629afb81",
       "style": "IPY_MODEL_9b49837dc9334c7b9ad69e9b84531e6f",
       "value": 100
      }
     },
     "55027fca3ee84a0cab3acf2374bb56d7": {
      "model_module": "@jupyter-widgets/controls",
      "model_module_version": "1.4.0",
      "model_name": "DescriptionStyleModel",
      "state": {
       "description_width": ""
      }
     },
     "55c238a856f149b3a8c5d45ee0e68a01": {
      "model_module": "@jupyter-widgets/controls",
      "model_module_version": "1.4.0",
      "model_name": "DescriptionStyleModel",
      "state": {
       "description_width": ""
      }
     },
     "5618b621c0e047328feb286e0f61f9ca": {
      "model_module": "@jupyter-widgets/controls",
      "model_module_version": "1.4.0",
      "model_name": "DescriptionStyleModel",
      "state": {
       "description_width": ""
      }
     },
     "5624bd4a575d4cbab757860bc21091ba": {
      "model_module": "@jupyter-widgets/base",
      "model_module_version": "1.1.0",
      "model_name": "LayoutModel",
      "state": {}
     },
     "570883b2a36047ed90b20c50626210ac": {
      "model_module": "@jupyter-widgets/controls",
      "model_module_version": "1.4.0",
      "model_name": "HTMLModel",
      "state": {
       "layout": "IPY_MODEL_3840b96b764f4fdbba749eac67b38056",
       "style": "IPY_MODEL_04a7421be995440f8fadc9b8f6c477b9",
       "value": "100% 1000/1000 [00:00&lt;00:00, 10690.54it/s]"
      }
     },
     "574565d9607844fab123966176fcafb7": {
      "model_module": "@jupyter-widgets/controls",
      "model_module_version": "1.4.0",
      "model_name": "HBoxModel",
      "state": {
       "children": [
        "IPY_MODEL_ec5dec533e604b9c8d5353ffd2d02303",
        "IPY_MODEL_7479f693b9a14d87a5be4939b144bbef"
       ],
       "layout": "IPY_MODEL_bd143bee240749a393305c5666723850"
      }
     },
     "5884b717275e4975a16e4b41410cfb64": {
      "model_module": "@jupyter-widgets/controls",
      "model_module_version": "1.4.0",
      "model_name": "HTMLModel",
      "state": {
       "layout": "IPY_MODEL_1dd45506cbae4b9aae7269ee68aeab42",
       "style": "IPY_MODEL_b35e84fa5665480cb7a042048e6f0559",
       "value": "100% 1000/1000 [00:00&lt;00:00, 10114.02it/s]"
      }
     },
     "58c03ec005554d45bf3734ebcdfbe64b": {
      "model_module": "@jupyter-widgets/controls",
      "model_module_version": "1.4.0",
      "model_name": "HBoxModel",
      "state": {
       "children": [
        "IPY_MODEL_9159037365494adb8c2bea03fb60349f",
        "IPY_MODEL_4b7211a1b76d4b5998ef7183a7b57cb9"
       ],
       "layout": "IPY_MODEL_c5291660131d4f4f9d52aa85a078a777"
      }
     },
     "59f468ecc8bc469bae7abb8165088d9e": {
      "model_module": "@jupyter-widgets/controls",
      "model_module_version": "1.4.0",
      "model_name": "HBoxModel",
      "state": {
       "children": [
        "IPY_MODEL_d7e2b4170786492f8086a5c72b841aa9",
        "IPY_MODEL_5d82250b53214f5f914dba882942f7a1"
       ],
       "layout": "IPY_MODEL_7b024e5e821e4d668b71fbced7bfd4fd"
      }
     },
     "5b0f5cf0371c4fc98f344d0ec688c810": {
      "model_module": "@jupyter-widgets/controls",
      "model_module_version": "1.4.0",
      "model_name": "ProgressStyleModel",
      "state": {
       "description_width": ""
      }
     },
     "5b40776e177d4917b37b1361cfb01c34": {
      "model_module": "@jupyter-widgets/base",
      "model_module_version": "1.1.0",
      "model_name": "LayoutModel",
      "state": {}
     },
     "5b62f0e6ede34900b1399fa76f452f4e": {
      "model_module": "@jupyter-widgets/controls",
      "model_module_version": "1.4.0",
      "model_name": "IntProgressModel",
      "state": {
       "bar_style": "success",
       "layout": "IPY_MODEL_5624bd4a575d4cbab757860bc21091ba",
       "style": "IPY_MODEL_8a696c1d34f74c9293db1826f36afd63",
       "value": 100
      }
     },
     "5bc9fb98176a4332b132c0376ce95a5f": {
      "model_module": "@jupyter-widgets/controls",
      "model_module_version": "1.4.0",
      "model_name": "IntProgressModel",
      "state": {
       "bar_style": "success",
       "layout": "IPY_MODEL_a66fe98543b9404e8f8408c97e7a4df6",
       "style": "IPY_MODEL_8bbeb45c78cd4a51957f14c1dbaf99e7",
       "value": 100
      }
     },
     "5bd0f3fd0c2743f19d681f4912829a93": {
      "model_module": "@jupyter-widgets/controls",
      "model_module_version": "1.4.0",
      "model_name": "HBoxModel",
      "state": {
       "children": [
        "IPY_MODEL_4e42ad6e1a92428294c5590f43e138b5",
        "IPY_MODEL_bc1a6e36ed924bb58084d5a69d25ab7e"
       ],
       "layout": "IPY_MODEL_ffee26110df3490d8e223884fa6448f3"
      }
     },
     "5c3d9c92c19d40788b977881b618b098": {
      "model_module": "@jupyter-widgets/controls",
      "model_module_version": "1.4.0",
      "model_name": "HTMLModel",
      "state": {
       "layout": "IPY_MODEL_52d709acc233472f94ac7dbdf069e480",
       "style": "IPY_MODEL_196be0a0de0c4c88806b786a24e76d11",
       "value": "100% 100/100 [00:00&lt;00:00, 3316.89it/s]"
      }
     },
     "5c552ce5abf74ed8b093b1564c630576": {
      "model_module": "@jupyter-widgets/base",
      "model_module_version": "1.1.0",
      "model_name": "LayoutModel",
      "state": {}
     },
     "5cca77e20cd44c2ba69cec226e3e1158": {
      "model_module": "@jupyter-widgets/base",
      "model_module_version": "1.1.0",
      "model_name": "LayoutModel",
      "state": {}
     },
     "5d20a16d55f347b0a65cedb2b9a0e8ae": {
      "model_module": "@jupyter-widgets/base",
      "model_module_version": "1.1.0",
      "model_name": "LayoutModel",
      "state": {}
     },
     "5d82250b53214f5f914dba882942f7a1": {
      "model_module": "@jupyter-widgets/controls",
      "model_module_version": "1.4.0",
      "model_name": "HTMLModel",
      "state": {
       "layout": "IPY_MODEL_b14c297c34614337bc953db0de4380f3",
       "style": "IPY_MODEL_0651c3abc93f47e48d3b624d60f355b5",
       "value": "100% 996559/996559 [1:53:57&lt;00:00, 145.74it/s]"
      }
     },
     "5d874c3322e44a3ea57c9b1b0263c39a": {
      "model_module": "@jupyter-widgets/controls",
      "model_module_version": "1.4.0",
      "model_name": "ProgressStyleModel",
      "state": {
       "description_width": ""
      }
     },
     "5d89c8edea164f598eeaf2e065bf90f9": {
      "model_module": "@jupyter-widgets/controls",
      "model_module_version": "1.4.0",
      "model_name": "DescriptionStyleModel",
      "state": {
       "description_width": ""
      }
     },
     "5d936ab2a7dd4e188b1def161614cc86": {
      "model_module": "@jupyter-widgets/controls",
      "model_module_version": "1.4.0",
      "model_name": "HBoxModel",
      "state": {
       "children": [
        "IPY_MODEL_6e773de33eb84e628080fa936dd2e5e2",
        "IPY_MODEL_05d69c3fa43249c8a38e37246748d870"
       ],
       "layout": "IPY_MODEL_bed7534763c04ca2a13dc5784c21d200"
      }
     },
     "5e3a3b38827f42a2b4411887e425f8ee": {
      "model_module": "@jupyter-widgets/controls",
      "model_module_version": "1.4.0",
      "model_name": "IntProgressModel",
      "state": {
       "bar_style": "success",
       "layout": "IPY_MODEL_547c0df7ceef41e893b4c1e0430a0611",
       "style": "IPY_MODEL_c686e2c63cb34cdfa868e33acb180869",
       "value": 100
      }
     },
     "5e8bebb0ce474b26ae49b69ba86b0132": {
      "model_module": "@jupyter-widgets/controls",
      "model_module_version": "1.4.0",
      "model_name": "DescriptionStyleModel",
      "state": {
       "description_width": ""
      }
     },
     "5f747947d4cf4955ae3e8e7073f274db": {
      "model_module": "@jupyter-widgets/controls",
      "model_module_version": "1.4.0",
      "model_name": "IntProgressModel",
      "state": {
       "bar_style": "success",
       "layout": "IPY_MODEL_effee9dafe7d405c8d7c068ed4729eb9",
       "style": "IPY_MODEL_ca7d0d0c671c4adfbc51fc0a91784eb7",
       "value": 100
      }
     },
     "613af90cd9a14d33af53a84881fcb423": {
      "model_module": "@jupyter-widgets/base",
      "model_module_version": "1.1.0",
      "model_name": "LayoutModel",
      "state": {}
     },
     "63643b3d6e024c7180c3e1640bbfb29d": {
      "model_module": "@jupyter-widgets/base",
      "model_module_version": "1.1.0",
      "model_name": "LayoutModel",
      "state": {}
     },
     "64c9b63184cd4fd6a0d9e4c6a71e2819": {
      "model_module": "@jupyter-widgets/base",
      "model_module_version": "1.1.0",
      "model_name": "LayoutModel",
      "state": {}
     },
     "64de101c1bf246788a270f39c498b8b8": {
      "model_module": "@jupyter-widgets/controls",
      "model_module_version": "1.4.0",
      "model_name": "IntProgressModel",
      "state": {
       "bar_style": "success",
       "layout": "IPY_MODEL_24ab7abb972e413e950d55009c242bc8",
       "style": "IPY_MODEL_0032d9d6b55349e99b1546e2ac872bd2",
       "value": 100
      }
     },
     "6627ac713af64ea099db46aa1719de8d": {
      "model_module": "@jupyter-widgets/controls",
      "model_module_version": "1.4.0",
      "model_name": "ProgressStyleModel",
      "state": {
       "description_width": ""
      }
     },
     "6646c31c3b6f4000971a1629146cab91": {
      "model_module": "@jupyter-widgets/controls",
      "model_module_version": "1.4.0",
      "model_name": "HTMLModel",
      "state": {
       "layout": "IPY_MODEL_5cca77e20cd44c2ba69cec226e3e1158",
       "style": "IPY_MODEL_25658b8d509941c8affbd80a6a499413",
       "value": "100% 100/100 [05:26&lt;00:00,  2.63s/it]"
      }
     },
     "66d88ace25b246c3aa4fd555bc1578ca": {
      "model_module": "@jupyter-widgets/controls",
      "model_module_version": "1.4.0",
      "model_name": "ProgressStyleModel",
      "state": {
       "description_width": ""
      }
     },
     "6746636223014e70849661952accb069": {
      "model_module": "@jupyter-widgets/controls",
      "model_module_version": "1.4.0",
      "model_name": "ProgressStyleModel",
      "state": {
       "description_width": ""
      }
     },
     "67ea741980d94edf8038ed3e8043b483": {
      "model_module": "@jupyter-widgets/base",
      "model_module_version": "1.1.0",
      "model_name": "LayoutModel",
      "state": {}
     },
     "6836477f5cc44ea39ccc29973b4e5d0d": {
      "model_module": "@jupyter-widgets/controls",
      "model_module_version": "1.4.0",
      "model_name": "ProgressStyleModel",
      "state": {
       "description_width": ""
      }
     },
     "684d153219444e109a1e6d2188ffa472": {
      "model_module": "@jupyter-widgets/controls",
      "model_module_version": "1.4.0",
      "model_name": "HBoxModel",
      "state": {
       "children": [
        "IPY_MODEL_844dbe7484de4fd492014f9744327f8e",
        "IPY_MODEL_147bda8da5364260abee49febb3d7ca3"
       ],
       "layout": "IPY_MODEL_3883c837e58347569ba55dc226aa5665"
      }
     },
     "68711b4b968b40108089fadaa966176d": {
      "model_module": "@jupyter-widgets/base",
      "model_module_version": "1.1.0",
      "model_name": "LayoutModel",
      "state": {}
     },
     "69c58a8a58054426ab24b0c6bf44c7ce": {
      "model_module": "@jupyter-widgets/base",
      "model_module_version": "1.1.0",
      "model_name": "LayoutModel",
      "state": {}
     },
     "6a043008eb914f18aa6f502460953646": {
      "model_module": "@jupyter-widgets/controls",
      "model_module_version": "1.4.0",
      "model_name": "HTMLModel",
      "state": {
       "layout": "IPY_MODEL_c5818323a03d48e5b346ad04e51d455c",
       "style": "IPY_MODEL_b3eaa92c14444c04872992df8f1835d2",
       "value": "100% 100/100 [05:28&lt;00:00,  2.63s/it]"
      }
     },
     "6a89a663043e45f293fc42b642b2f1d5": {
      "model_module": "@jupyter-widgets/base",
      "model_module_version": "1.1.0",
      "model_name": "LayoutModel",
      "state": {}
     },
     "6b356e0784904e5aaf4ec6dfb0772f30": {
      "model_module": "@jupyter-widgets/base",
      "model_module_version": "1.1.0",
      "model_name": "LayoutModel",
      "state": {}
     },
     "6b9e6ddb935247a49f1c8c81a9b4692a": {
      "model_module": "@jupyter-widgets/controls",
      "model_module_version": "1.4.0",
      "model_name": "DescriptionStyleModel",
      "state": {
       "description_width": ""
      }
     },
     "6c872f29966444b9b7091362ff32596f": {
      "model_module": "@jupyter-widgets/controls",
      "model_module_version": "1.4.0",
      "model_name": "HTMLModel",
      "state": {
       "layout": "IPY_MODEL_455f741e49d541609040087f268d19e3",
       "style": "IPY_MODEL_ec49812b917f479889909832f335c11e",
       "value": " 62% 616/1000 [01:23&lt;00:54,  7.02it/s]"
      }
     },
     "6e773de33eb84e628080fa936dd2e5e2": {
      "model_module": "@jupyter-widgets/controls",
      "model_module_version": "1.4.0",
      "model_name": "IntProgressModel",
      "state": {
       "bar_style": "success",
       "layout": "IPY_MODEL_0ea8846bf7314781920800beadb3ab55",
       "max": 1000,
       "style": "IPY_MODEL_7c71754005ad4157a0f52bc142310859",
       "value": 1000
      }
     },
     "6e7b79d0110a4d4da521d84b5220b7d9": {
      "model_module": "@jupyter-widgets/base",
      "model_module_version": "1.1.0",
      "model_name": "LayoutModel",
      "state": {}
     },
     "6ea08e38490c4bafb84fe2830d6fe6e7": {
      "model_module": "@jupyter-widgets/base",
      "model_module_version": "1.1.0",
      "model_name": "LayoutModel",
      "state": {}
     },
     "6ebb91c22c9c485a9942f86fa7eef62f": {
      "model_module": "@jupyter-widgets/controls",
      "model_module_version": "1.4.0",
      "model_name": "HTMLModel",
      "state": {
       "layout": "IPY_MODEL_3e51685f41a4447ba2d136224a8b8dba",
       "style": "IPY_MODEL_a7bfeae2fb364f18aca3e4f7cf289849",
       "value": "100% 100/100 [07:42&lt;00:00,  4.61s/it]"
      }
     },
     "6efec8dc1258489ea9a268724fe963f8": {
      "model_module": "@jupyter-widgets/controls",
      "model_module_version": "1.4.0",
      "model_name": "ProgressStyleModel",
      "state": {
       "description_width": ""
      }
     },
     "6f996fff90844f0e88784ccd7f9e9329": {
      "model_module": "@jupyter-widgets/base",
      "model_module_version": "1.1.0",
      "model_name": "LayoutModel",
      "state": {}
     },
     "6ffb7415fa894675b54140b96a46bb11": {
      "model_module": "@jupyter-widgets/base",
      "model_module_version": "1.1.0",
      "model_name": "LayoutModel",
      "state": {}
     },
     "7011b1bf04084577a89916e806296840": {
      "model_module": "@jupyter-widgets/controls",
      "model_module_version": "1.4.0",
      "model_name": "HBoxModel",
      "state": {
       "children": [
        "IPY_MODEL_70577c2ec51645759c540f7619137b8b",
        "IPY_MODEL_f581888540124d05a6683c2de09213d1"
       ],
       "layout": "IPY_MODEL_29cdf290f35b4d95a0e432001690c3d9"
      }
     },
     "7023a359539743d89113b04a8815c36e": {
      "model_module": "@jupyter-widgets/base",
      "model_module_version": "1.1.0",
      "model_name": "LayoutModel",
      "state": {}
     },
     "70577c2ec51645759c540f7619137b8b": {
      "model_module": "@jupyter-widgets/controls",
      "model_module_version": "1.4.0",
      "model_name": "IntProgressModel",
      "state": {
       "bar_style": "success",
       "layout": "IPY_MODEL_d5624f1969f54e46be8ac831bb6750c2",
       "max": 1000,
       "style": "IPY_MODEL_5b0f5cf0371c4fc98f344d0ec688c810",
       "value": 1000
      }
     },
     "70e67eb1dae44bb69f9cb5757d17d1ed": {
      "model_module": "@jupyter-widgets/base",
      "model_module_version": "1.1.0",
      "model_name": "LayoutModel",
      "state": {}
     },
     "71b42e2009234cf380efc3d92b8f4b0c": {
      "model_module": "@jupyter-widgets/controls",
      "model_module_version": "1.4.0",
      "model_name": "HBoxModel",
      "state": {
       "children": [
        "IPY_MODEL_3877e3d5d5d34b0a88fee73ec9907b9d",
        "IPY_MODEL_fc2bf407dd984df08be313f46a88f812"
       ],
       "layout": "IPY_MODEL_f561127637d4422bb920c0088c471bee"
      }
     },
     "7295aaef9351408e84a3a1a16171e447": {
      "model_module": "@jupyter-widgets/base",
      "model_module_version": "1.1.0",
      "model_name": "LayoutModel",
      "state": {}
     },
     "738d26f8a1634a6595ea981033c14442": {
      "model_module": "@jupyter-widgets/controls",
      "model_module_version": "1.4.0",
      "model_name": "DescriptionStyleModel",
      "state": {
       "description_width": ""
      }
     },
     "73db5d2584dd4612977f91e76df6a57d": {
      "model_module": "@jupyter-widgets/controls",
      "model_module_version": "1.4.0",
      "model_name": "DescriptionStyleModel",
      "state": {
       "description_width": ""
      }
     },
     "7479f693b9a14d87a5be4939b144bbef": {
      "model_module": "@jupyter-widgets/controls",
      "model_module_version": "1.4.0",
      "model_name": "HTMLModel",
      "state": {
       "layout": "IPY_MODEL_46bad49f82434a17b3a79fea5c5e5814",
       "style": "IPY_MODEL_179838c9d99f462ea8241f25fb38f509",
       "value": "100% 1000/1000 [54:00&lt;00:00,  2.64s/it]"
      }
     },
     "74d70f4067434e46a7b2d8b67cf4ef6a": {
      "model_module": "@jupyter-widgets/controls",
      "model_module_version": "1.4.0",
      "model_name": "HTMLModel",
      "state": {
       "layout": "IPY_MODEL_8a511864ca104ced8e99ae6150bd9cf3",
       "style": "IPY_MODEL_895acdb4d06b4c64b6e1393a828e0692",
       "value": "100% 1000/1000 [41:08&lt;00:00,  2.10s/it]"
      }
     },
     "75043feb95af478ba25764a94a383c5f": {
      "model_module": "@jupyter-widgets/controls",
      "model_module_version": "1.4.0",
      "model_name": "HTMLModel",
      "state": {
       "layout": "IPY_MODEL_fd9c0bb9055f4ae7b1937eff10031737",
       "style": "IPY_MODEL_871b55e3c6c34fa5b0be00253484a665",
       "value": "100% 1000/1000 [51:19&lt;00:00,  3.11s/it]"
      }
     },
     "751c6e044c87489fa70cb2cf71d8ad7b": {
      "model_module": "@jupyter-widgets/controls",
      "model_module_version": "1.4.0",
      "model_name": "HBoxModel",
      "state": {
       "children": [
        "IPY_MODEL_15d29af6c1c04878878303521b559ba0",
        "IPY_MODEL_e7fba8e0c96c4f258f2794809660d4be"
       ],
       "layout": "IPY_MODEL_248ac8fb7159479ab9dc78a85c4fdfcb"
      }
     },
     "7620ddcb96b64e7e9c30809539c6736e": {
      "model_module": "@jupyter-widgets/controls",
      "model_module_version": "1.4.0",
      "model_name": "DescriptionStyleModel",
      "state": {
       "description_width": ""
      }
     },
     "7638f614bbcf4172ad14e3eb65f20e07": {
      "model_module": "@jupyter-widgets/controls",
      "model_module_version": "1.4.0",
      "model_name": "HBoxModel",
      "state": {
       "children": [
        "IPY_MODEL_5e3a3b38827f42a2b4411887e425f8ee",
        "IPY_MODEL_6646c31c3b6f4000971a1629146cab91"
       ],
       "layout": "IPY_MODEL_d150d342b8614bf1b0bae68a6a4464b1"
      }
     },
     "76d15f11d6b5486781b96d0f215cf9a5": {
      "model_module": "@jupyter-widgets/base",
      "model_module_version": "1.1.0",
      "model_name": "LayoutModel",
      "state": {}
     },
     "775decd92ee94f87abe78368d75e986f": {
      "model_module": "@jupyter-widgets/controls",
      "model_module_version": "1.4.0",
      "model_name": "ProgressStyleModel",
      "state": {
       "description_width": ""
      }
     },
     "7adb1ffa00bc4e26a00497d8225896a1": {
      "model_module": "@jupyter-widgets/controls",
      "model_module_version": "1.4.0",
      "model_name": "HBoxModel",
      "state": {
       "children": [
        "IPY_MODEL_d7301081933a464e8f12339271a8d806",
        "IPY_MODEL_443516978ec147f7863736ac7e5b39df"
       ],
       "layout": "IPY_MODEL_10287dd52d91425daaad4590ceff4b97"
      }
     },
     "7b024e5e821e4d668b71fbced7bfd4fd": {
      "model_module": "@jupyter-widgets/base",
      "model_module_version": "1.1.0",
      "model_name": "LayoutModel",
      "state": {}
     },
     "7bf14d5842d64bb2ae177d8921c3b9bd": {
      "model_module": "@jupyter-widgets/controls",
      "model_module_version": "1.4.0",
      "model_name": "IntProgressModel",
      "state": {
       "bar_style": "success",
       "layout": "IPY_MODEL_f5492e2c0c854c57aaa9e4a6e12cd69a",
       "max": 1000,
       "style": "IPY_MODEL_6836477f5cc44ea39ccc29973b4e5d0d",
       "value": 1000
      }
     },
     "7c4f89b62e1c47498e6046248f0d4d6f": {
      "model_module": "@jupyter-widgets/controls",
      "model_module_version": "1.4.0",
      "model_name": "HBoxModel",
      "state": {
       "children": [
        "IPY_MODEL_856c599664214b39bd9218488027be36",
        "IPY_MODEL_8d1112ac3f704639bf648da76fe389ce"
       ],
       "layout": "IPY_MODEL_5c552ce5abf74ed8b093b1564c630576"
      }
     },
     "7c71754005ad4157a0f52bc142310859": {
      "model_module": "@jupyter-widgets/controls",
      "model_module_version": "1.4.0",
      "model_name": "ProgressStyleModel",
      "state": {
       "description_width": ""
      }
     },
     "7d0d43fa18764d7fa8e42f9d859fe491": {
      "model_module": "@jupyter-widgets/base",
      "model_module_version": "1.1.0",
      "model_name": "LayoutModel",
      "state": {}
     },
     "7d42c261815844ebb19a6e1e82b5a92a": {
      "model_module": "@jupyter-widgets/base",
      "model_module_version": "1.1.0",
      "model_name": "LayoutModel",
      "state": {}
     },
     "7dae1c4aa7e345219a05d6df9d1deab0": {
      "model_module": "@jupyter-widgets/controls",
      "model_module_version": "1.4.0",
      "model_name": "HBoxModel",
      "state": {
       "children": [
        "IPY_MODEL_d5738b3568bf4a7cbf145aa111ab5ed3",
        "IPY_MODEL_2417104892c74e95b4b0769a75ec3135"
       ],
       "layout": "IPY_MODEL_fe15e8c2509841d4a820e732b4ce27ea"
      }
     },
     "7dffb36a36c1474f838dd002930c56d3": {
      "model_module": "@jupyter-widgets/controls",
      "model_module_version": "1.4.0",
      "model_name": "HTMLModel",
      "state": {
       "layout": "IPY_MODEL_bdd7e8bcd0024f79b37c42470ae3f01f",
       "style": "IPY_MODEL_738d26f8a1634a6595ea981033c14442",
       "value": "100% 1000/1000 [1:23:24&lt;00:00,  4.62s/it]"
      }
     },
     "808c3d03c12b4992a277f066f61be0fb": {
      "model_module": "@jupyter-widgets/controls",
      "model_module_version": "1.4.0",
      "model_name": "ProgressStyleModel",
      "state": {
       "description_width": ""
      }
     },
     "817f367ae79b4ca38f06c6cf36922891": {
      "model_module": "@jupyter-widgets/base",
      "model_module_version": "1.1.0",
      "model_name": "LayoutModel",
      "state": {}
     },
     "82538ffc13ce44bf84fbf7bd05e7a7c0": {
      "model_module": "@jupyter-widgets/base",
      "model_module_version": "1.1.0",
      "model_name": "LayoutModel",
      "state": {}
     },
     "837ad11cc96f4144bdc626e0452a1926": {
      "model_module": "@jupyter-widgets/controls",
      "model_module_version": "1.4.0",
      "model_name": "DescriptionStyleModel",
      "state": {
       "description_width": ""
      }
     },
     "844dbe7484de4fd492014f9744327f8e": {
      "model_module": "@jupyter-widgets/controls",
      "model_module_version": "1.4.0",
      "model_name": "IntProgressModel",
      "state": {
       "bar_style": "success",
       "layout": "IPY_MODEL_6a89a663043e45f293fc42b642b2f1d5",
       "max": 1000,
       "style": "IPY_MODEL_fc9a2fd6c3e347a2844c846a9e055e82",
       "value": 1000
      }
     },
     "84cde973878d4caeb758873dd499fe0f": {
      "model_module": "@jupyter-widgets/controls",
      "model_module_version": "1.4.0",
      "model_name": "HBoxModel",
      "state": {
       "children": [
        "IPY_MODEL_84d159d746a84dfcb90de7a53f1bfda6",
        "IPY_MODEL_cef38e4b4ba24c69a1bcd5248a2e5b54"
       ],
       "layout": "IPY_MODEL_0d07b5621fc5480386ad36027fdbb5b3"
      }
     },
     "84d159d746a84dfcb90de7a53f1bfda6": {
      "model_module": "@jupyter-widgets/controls",
      "model_module_version": "1.4.0",
      "model_name": "IntProgressModel",
      "state": {
       "bar_style": "success",
       "layout": "IPY_MODEL_c4e2f5a226b34bf4aa4cf375a12af709",
       "max": 996559,
       "style": "IPY_MODEL_29b3cb73c38e4f80afba1226d0ace184",
       "value": 996559
      }
     },
     "8532133c3f8646f19ee367bb6e975518": {
      "model_module": "@jupyter-widgets/base",
      "model_module_version": "1.1.0",
      "model_name": "LayoutModel",
      "state": {}
     },
     "854e39da207f427b889d5e7077e28314": {
      "model_module": "@jupyter-widgets/controls",
      "model_module_version": "1.4.0",
      "model_name": "HBoxModel",
      "state": {
       "children": [
        "IPY_MODEL_9cec8c5213aa4eb9855724bd1602dc9c",
        "IPY_MODEL_570883b2a36047ed90b20c50626210ac"
       ],
       "layout": "IPY_MODEL_a37c7e1a02964c3598d83a5e60299fd2"
      }
     },
     "856c599664214b39bd9218488027be36": {
      "model_module": "@jupyter-widgets/controls",
      "model_module_version": "1.4.0",
      "model_name": "IntProgressModel",
      "state": {
       "bar_style": "success",
       "layout": "IPY_MODEL_a62d8ea9aa3f4ea8b4ae2a30c4a62c1d",
       "max": 1000,
       "style": "IPY_MODEL_ce0aacc29e974374838e94ec6fd22355",
       "value": 1000
      }
     },
     "868b188ddd46453295d86bf2dd09415d": {
      "model_module": "@jupyter-widgets/base",
      "model_module_version": "1.1.0",
      "model_name": "LayoutModel",
      "state": {}
     },
     "871b55e3c6c34fa5b0be00253484a665": {
      "model_module": "@jupyter-widgets/controls",
      "model_module_version": "1.4.0",
      "model_name": "DescriptionStyleModel",
      "state": {
       "description_width": ""
      }
     },
     "876e292b04024643b4cd90447c6c75a3": {
      "model_module": "@jupyter-widgets/controls",
      "model_module_version": "1.4.0",
      "model_name": "HBoxModel",
      "state": {
       "children": [
        "IPY_MODEL_c0dd0a83b0ae45b081567158e67468a7",
        "IPY_MODEL_6ebb91c22c9c485a9942f86fa7eef62f"
       ],
       "layout": "IPY_MODEL_363e6640096f4fa59bb5a9bd14fc19ec"
      }
     },
     "8878ed028710411781ae9ca63b3c596b": {
      "model_module": "@jupyter-widgets/controls",
      "model_module_version": "1.4.0",
      "model_name": "DescriptionStyleModel",
      "state": {
       "description_width": ""
      }
     },
     "88aa36b1993f4e75b64741a47f435ed7": {
      "model_module": "@jupyter-widgets/controls",
      "model_module_version": "1.4.0",
      "model_name": "IntProgressModel",
      "state": {
       "bar_style": "success",
       "layout": "IPY_MODEL_f3fe84dfdcc045aa819742db7e058ce2",
       "max": 1000,
       "style": "IPY_MODEL_e29ca351d419465ba2e6c809f80ff5dc",
       "value": 1000
      }
     },
     "8907dd9554174825bd0fd933a488551b": {
      "model_module": "@jupyter-widgets/base",
      "model_module_version": "1.1.0",
      "model_name": "LayoutModel",
      "state": {}
     },
     "895acdb4d06b4c64b6e1393a828e0692": {
      "model_module": "@jupyter-widgets/controls",
      "model_module_version": "1.4.0",
      "model_name": "DescriptionStyleModel",
      "state": {
       "description_width": ""
      }
     },
     "895ae5423e794b5789eb7980afe47711": {
      "model_module": "@jupyter-widgets/controls",
      "model_module_version": "1.4.0",
      "model_name": "ProgressStyleModel",
      "state": {
       "description_width": ""
      }
     },
     "897c674ce33f4bbc899eab4ef03ce749": {
      "model_module": "@jupyter-widgets/base",
      "model_module_version": "1.1.0",
      "model_name": "LayoutModel",
      "state": {}
     },
     "897e5643e29540d4861e089189b22a97": {
      "model_module": "@jupyter-widgets/base",
      "model_module_version": "1.1.0",
      "model_name": "LayoutModel",
      "state": {}
     },
     "8a511864ca104ced8e99ae6150bd9cf3": {
      "model_module": "@jupyter-widgets/base",
      "model_module_version": "1.1.0",
      "model_name": "LayoutModel",
      "state": {}
     },
     "8a696c1d34f74c9293db1826f36afd63": {
      "model_module": "@jupyter-widgets/controls",
      "model_module_version": "1.4.0",
      "model_name": "ProgressStyleModel",
      "state": {
       "description_width": ""
      }
     },
     "8a6989a7b38c48bcb404a2dc9ed54e1c": {
      "model_module": "@jupyter-widgets/controls",
      "model_module_version": "1.4.0",
      "model_name": "DescriptionStyleModel",
      "state": {
       "description_width": ""
      }
     },
     "8ab853df260e45d3a248b998a6ae5707": {
      "model_module": "@jupyter-widgets/controls",
      "model_module_version": "1.4.0",
      "model_name": "HBoxModel",
      "state": {
       "children": [
        "IPY_MODEL_fa7372218f51407cb3a784c948f83036",
        "IPY_MODEL_a6c08ba9797143c190d65c9003475aa0"
       ],
       "layout": "IPY_MODEL_7d42c261815844ebb19a6e1e82b5a92a"
      }
     },
     "8bbeb45c78cd4a51957f14c1dbaf99e7": {
      "model_module": "@jupyter-widgets/controls",
      "model_module_version": "1.4.0",
      "model_name": "ProgressStyleModel",
      "state": {
       "description_width": ""
      }
     },
     "8bf5cc6f0755409da7c782b664cfdc32": {
      "model_module": "@jupyter-widgets/base",
      "model_module_version": "1.1.0",
      "model_name": "LayoutModel",
      "state": {}
     },
     "8cab3423acd441d9a541d522ccc152a7": {
      "model_module": "@jupyter-widgets/base",
      "model_module_version": "1.1.0",
      "model_name": "LayoutModel",
      "state": {}
     },
     "8cb131f98f514009be75e357b869ec77": {
      "model_module": "@jupyter-widgets/controls",
      "model_module_version": "1.4.0",
      "model_name": "HBoxModel",
      "state": {
       "children": [
        "IPY_MODEL_88aa36b1993f4e75b64741a47f435ed7",
        "IPY_MODEL_74d70f4067434e46a7b2d8b67cf4ef6a"
       ],
       "layout": "IPY_MODEL_4cfcbc78897c47e2a664058466f78839"
      }
     },
     "8d1112ac3f704639bf648da76fe389ce": {
      "model_module": "@jupyter-widgets/controls",
      "model_module_version": "1.4.0",
      "model_name": "HTMLModel",
      "state": {
       "layout": "IPY_MODEL_120fd772dba244d1875ffe4ae2866c4f",
       "style": "IPY_MODEL_102b1b7b11b94c41880ddb431ed1f208",
       "value": "100% 1000/1000 [1:32:23&lt;00:00,  5.51s/it]"
      }
     },
     "8e398ea37e3b495cac5169751a18659a": {
      "model_module": "@jupyter-widgets/base",
      "model_module_version": "1.1.0",
      "model_name": "LayoutModel",
      "state": {}
     },
     "8ebff47ef33a422687459fb4143cd104": {
      "model_module": "@jupyter-widgets/controls",
      "model_module_version": "1.4.0",
      "model_name": "HBoxModel",
      "state": {
       "children": [
        "IPY_MODEL_f9c382e6beff4f8a898828d8e4be320b",
        "IPY_MODEL_0de7e0959c7848d6be12e58b7d25b848"
       ],
       "layout": "IPY_MODEL_42776fda27d94d51a9aa52b93cdcc948"
      }
     },
     "8ec44b42077f4a9889c77f9d89b7aadb": {
      "model_module": "@jupyter-widgets/controls",
      "model_module_version": "1.4.0",
      "model_name": "DescriptionStyleModel",
      "state": {
       "description_width": ""
      }
     },
     "9054dd408a5947f58f930c3f7f68afcf": {
      "model_module": "@jupyter-widgets/controls",
      "model_module_version": "1.4.0",
      "model_name": "IntProgressModel",
      "state": {
       "bar_style": "success",
       "layout": "IPY_MODEL_54130df55e754212925c1e05ebcbe011",
       "max": 1000,
       "style": "IPY_MODEL_6746636223014e70849661952accb069",
       "value": 1000
      }
     },
     "9114fb90bceb497285a8ac70b9a7ad77": {
      "model_module": "@jupyter-widgets/controls",
      "model_module_version": "1.4.0",
      "model_name": "IntProgressModel",
      "state": {
       "bar_style": "success",
       "layout": "IPY_MODEL_e1e216af4bfe4aa8a64e1be12cdd59df",
       "max": 1000,
       "style": "IPY_MODEL_4c98adf845f8447fa8d5f3fc310b4718",
       "value": 1000
      }
     },
     "9159037365494adb8c2bea03fb60349f": {
      "model_module": "@jupyter-widgets/controls",
      "model_module_version": "1.4.0",
      "model_name": "IntProgressModel",
      "state": {
       "bar_style": "success",
       "layout": "IPY_MODEL_2b244f508381469e872a04f549ff5446",
       "max": 1000,
       "style": "IPY_MODEL_9bb5329b24ec4ab0a828b8d019a260a9",
       "value": 1000
      }
     },
     "9244327abbc446198569e4d4394a7c89": {
      "model_module": "@jupyter-widgets/base",
      "model_module_version": "1.1.0",
      "model_name": "LayoutModel",
      "state": {}
     },
     "92a89bf30c394ed2a047357bd03541ba": {
      "model_module": "@jupyter-widgets/controls",
      "model_module_version": "1.4.0",
      "model_name": "HTMLModel",
      "state": {
       "layout": "IPY_MODEL_e7592cd12ef14c86ab6d326c38166bab",
       "style": "IPY_MODEL_dea31772edc948f08ab607a4973eefd5",
       "value": "100% 1000/1000 [00:00&lt;00:00, 7312.65it/s]"
      }
     },
     "92f710b9fb67401db3d6641441ba1070": {
      "model_module": "@jupyter-widgets/base",
      "model_module_version": "1.1.0",
      "model_name": "LayoutModel",
      "state": {}
     },
     "933d4588a4b844c385ab77a92c3208cf": {
      "model_module": "@jupyter-widgets/controls",
      "model_module_version": "1.4.0",
      "model_name": "DescriptionStyleModel",
      "state": {
       "description_width": ""
      }
     },
     "944473bf6efe414da03d3248b01c35c2": {
      "model_module": "@jupyter-widgets/controls",
      "model_module_version": "1.4.0",
      "model_name": "DescriptionStyleModel",
      "state": {
       "description_width": ""
      }
     },
     "945e955cba8f4654915564e51f150410": {
      "model_module": "@jupyter-widgets/controls",
      "model_module_version": "1.4.0",
      "model_name": "IntProgressModel",
      "state": {
       "bar_style": "success",
       "layout": "IPY_MODEL_12135959b3de4c94bb39c61e8844adaf",
       "max": 1000,
       "style": "IPY_MODEL_c39252136ee8484f97de4e807428fc18",
       "value": 1000
      }
     },
     "95bdebd9e24a442bb21d07ef37bb7c23": {
      "model_module": "@jupyter-widgets/controls",
      "model_module_version": "1.4.0",
      "model_name": "IntProgressModel",
      "state": {
       "bar_style": "success",
       "layout": "IPY_MODEL_2aef1d51aa104f6885875eeeba01058a",
       "max": 996559,
       "style": "IPY_MODEL_ee47bf7410204c46a7b9001cf40b5618",
       "value": 996559
      }
     },
     "95c28cc2f35648a6b56e08fdba40fdc9": {
      "model_module": "@jupyter-widgets/base",
      "model_module_version": "1.1.0",
      "model_name": "LayoutModel",
      "state": {}
     },
     "95e146c14c554844ae3e8580fc83fcdd": {
      "model_module": "@jupyter-widgets/controls",
      "model_module_version": "1.4.0",
      "model_name": "HTMLModel",
      "state": {
       "layout": "IPY_MODEL_9d99ff7619b84dd7a4f5d7d01f6d926d",
       "style": "IPY_MODEL_55c238a856f149b3a8c5d45ee0e68a01",
       "value": "100% 100/100 [04:11&lt;00:00,  2.08s/it]"
      }
     },
     "978799e7fd964f2ba19009815703f1d8": {
      "model_module": "@jupyter-widgets/base",
      "model_module_version": "1.1.0",
      "model_name": "LayoutModel",
      "state": {}
     },
     "97c13463595448d0ad4030f78bf4aecc": {
      "model_module": "@jupyter-widgets/controls",
      "model_module_version": "1.4.0",
      "model_name": "HBoxModel",
      "state": {
       "children": [
        "IPY_MODEL_c0653ac87ead4b9ba7f3a97968561942",
        "IPY_MODEL_5031005c311e421d8afb762e2c38c6f3"
       ],
       "layout": "IPY_MODEL_aaa056e730c943ecb1d77ed03fb2c0f7"
      }
     },
     "98ce5d4547214963ac790fdf00282982": {
      "model_module": "@jupyter-widgets/base",
      "model_module_version": "1.1.0",
      "model_name": "LayoutModel",
      "state": {}
     },
     "99b2c352c5bf443fb7cafa701280b1c6": {
      "model_module": "@jupyter-widgets/controls",
      "model_module_version": "1.4.0",
      "model_name": "HTMLModel",
      "state": {
       "layout": "IPY_MODEL_1a8bdc69082d4beda4e37a6226332217",
       "style": "IPY_MODEL_00a07d89f34e46a1adfa226ff4ea5b12",
       "value": "100% 1000/1000 [40:03&lt;00:00,  2.10s/it]"
      }
     },
     "9a89d3bf45d7426c8b0842cdbcc7adb9": {
      "model_module": "@jupyter-widgets/base",
      "model_module_version": "1.1.0",
      "model_name": "LayoutModel",
      "state": {}
     },
     "9aaa30969b6c4b6f9a3916a420912ef8": {
      "model_module": "@jupyter-widgets/controls",
      "model_module_version": "1.4.0",
      "model_name": "DescriptionStyleModel",
      "state": {
       "description_width": ""
      }
     },
     "9b101a78c536492d9958f59e74528ef3": {
      "model_module": "@jupyter-widgets/controls",
      "model_module_version": "1.4.0",
      "model_name": "HTMLModel",
      "state": {
       "layout": "IPY_MODEL_a7ffd9cb862541f09a08e6a11f191014",
       "style": "IPY_MODEL_bb10287abe514b26b77da414896da48a",
       "value": "100% 100/100 [07:49&lt;00:00,  4.70s/it]"
      }
     },
     "9b49837dc9334c7b9ad69e9b84531e6f": {
      "model_module": "@jupyter-widgets/controls",
      "model_module_version": "1.4.0",
      "model_name": "ProgressStyleModel",
      "state": {
       "description_width": ""
      }
     },
     "9bb5329b24ec4ab0a828b8d019a260a9": {
      "model_module": "@jupyter-widgets/controls",
      "model_module_version": "1.4.0",
      "model_name": "ProgressStyleModel",
      "state": {
       "description_width": ""
      }
     },
     "9bbb085bcff8418da9538a73e95077ee": {
      "model_module": "@jupyter-widgets/base",
      "model_module_version": "1.1.0",
      "model_name": "LayoutModel",
      "state": {}
     },
     "9cec8c5213aa4eb9855724bd1602dc9c": {
      "model_module": "@jupyter-widgets/controls",
      "model_module_version": "1.4.0",
      "model_name": "IntProgressModel",
      "state": {
       "bar_style": "success",
       "layout": "IPY_MODEL_7023a359539743d89113b04a8815c36e",
       "max": 1000,
       "style": "IPY_MODEL_e59dc90e36b94f5bbe598d5f6cc8090d",
       "value": 1000
      }
     },
     "9d53b9de46c94d8890fe067ac12bb6a0": {
      "model_module": "@jupyter-widgets/base",
      "model_module_version": "1.1.0",
      "model_name": "LayoutModel",
      "state": {}
     },
     "9d99ff7619b84dd7a4f5d7d01f6d926d": {
      "model_module": "@jupyter-widgets/base",
      "model_module_version": "1.1.0",
      "model_name": "LayoutModel",
      "state": {}
     },
     "9f2a8de436a6451d82ddc5da8bc6edf7": {
      "model_module": "@jupyter-widgets/controls",
      "model_module_version": "1.4.0",
      "model_name": "IntProgressModel",
      "state": {
       "bar_style": "success",
       "layout": "IPY_MODEL_6e7b79d0110a4d4da521d84b5220b7d9",
       "style": "IPY_MODEL_d7e65fea908441c586e6188b45f62b06",
       "value": 100
      }
     },
     "a03c6517855e4a3596457f9d749dcb39": {
      "model_module": "@jupyter-widgets/controls",
      "model_module_version": "1.4.0",
      "model_name": "ProgressStyleModel",
      "state": {
       "description_width": ""
      }
     },
     "a0ccd8bf354d458da2bfae5793fe410c": {
      "model_module": "@jupyter-widgets/controls",
      "model_module_version": "1.4.0",
      "model_name": "ProgressStyleModel",
      "state": {
       "description_width": ""
      }
     },
     "a0cd0183401a457b9616994a84d4d354": {
      "model_module": "@jupyter-widgets/base",
      "model_module_version": "1.1.0",
      "model_name": "LayoutModel",
      "state": {}
     },
     "a36894a19b264d1580008397d50c8fc5": {
      "model_module": "@jupyter-widgets/base",
      "model_module_version": "1.1.0",
      "model_name": "LayoutModel",
      "state": {}
     },
     "a37c7e1a02964c3598d83a5e60299fd2": {
      "model_module": "@jupyter-widgets/base",
      "model_module_version": "1.1.0",
      "model_name": "LayoutModel",
      "state": {}
     },
     "a4033972544943aa8d6f29e89bc24a49": {
      "model_module": "@jupyter-widgets/base",
      "model_module_version": "1.1.0",
      "model_name": "LayoutModel",
      "state": {}
     },
     "a62d8ea9aa3f4ea8b4ae2a30c4a62c1d": {
      "model_module": "@jupyter-widgets/base",
      "model_module_version": "1.1.0",
      "model_name": "LayoutModel",
      "state": {}
     },
     "a66fe98543b9404e8f8408c97e7a4df6": {
      "model_module": "@jupyter-widgets/base",
      "model_module_version": "1.1.0",
      "model_name": "LayoutModel",
      "state": {}
     },
     "a6c08ba9797143c190d65c9003475aa0": {
      "model_module": "@jupyter-widgets/controls",
      "model_module_version": "1.4.0",
      "model_name": "HTMLModel",
      "state": {
       "layout": "IPY_MODEL_e6ef972c04444d6f83f1ac48853557ed",
       "style": "IPY_MODEL_0988e181b0ec4b86b75d96fd9e26b793",
       "value": "100% 1000/1000 [00:00&lt;00:00, 7918.92it/s]"
      }
     },
     "a76567f307ab4d1081e482af032f805f": {
      "model_module": "@jupyter-widgets/base",
      "model_module_version": "1.1.0",
      "model_name": "LayoutModel",
      "state": {}
     },
     "a7bfeae2fb364f18aca3e4f7cf289849": {
      "model_module": "@jupyter-widgets/controls",
      "model_module_version": "1.4.0",
      "model_name": "DescriptionStyleModel",
      "state": {
       "description_width": ""
      }
     },
     "a7ffd9cb862541f09a08e6a11f191014": {
      "model_module": "@jupyter-widgets/base",
      "model_module_version": "1.1.0",
      "model_name": "LayoutModel",
      "state": {}
     },
     "a8d340f49c7846dbb73439b617a7d703": {
      "model_module": "@jupyter-widgets/base",
      "model_module_version": "1.1.0",
      "model_name": "LayoutModel",
      "state": {}
     },
     "a92b6f1449e3480d8f6109d3cde2ec3e": {
      "model_module": "@jupyter-widgets/controls",
      "model_module_version": "1.4.0",
      "model_name": "HTMLModel",
      "state": {
       "layout": "IPY_MODEL_148f271dd0954307b9b04fd7065c61df",
       "style": "IPY_MODEL_8a6989a7b38c48bcb404a2dc9ed54e1c",
       "value": "100% 100/100 [00:00&lt;00:00, 4044.07it/s]"
      }
     },
     "a95f87510a4942bdbd77b6bd36925c85": {
      "model_module": "@jupyter-widgets/controls",
      "model_module_version": "1.4.0",
      "model_name": "DescriptionStyleModel",
      "state": {
       "description_width": ""
      }
     },
     "aa522eae29f44b6ba3651e020c14547d": {
      "model_module": "@jupyter-widgets/controls",
      "model_module_version": "1.4.0",
      "model_name": "IntProgressModel",
      "state": {
       "bar_style": "success",
       "layout": "IPY_MODEL_150c321ce5af40d797fbc79da1247298",
       "max": 1000,
       "style": "IPY_MODEL_40bdbe4a84d44710b81baa1214346b14",
       "value": 1000
      }
     },
     "aaa056e730c943ecb1d77ed03fb2c0f7": {
      "model_module": "@jupyter-widgets/base",
      "model_module_version": "1.1.0",
      "model_name": "LayoutModel",
      "state": {}
     },
     "acb578c36d904de8b68b6eac525c0300": {
      "model_module": "@jupyter-widgets/base",
      "model_module_version": "1.1.0",
      "model_name": "LayoutModel",
      "state": {}
     },
     "adedee6472a54d8882654f3f82719193": {
      "model_module": "@jupyter-widgets/controls",
      "model_module_version": "1.4.0",
      "model_name": "HBoxModel",
      "state": {
       "children": [
        "IPY_MODEL_fd5d642cbdc44e198853533ca4ebbd0b",
        "IPY_MODEL_3006b40c9da84e438fb59568601a6be0"
       ],
       "layout": "IPY_MODEL_b91d30e46cc146f3b6a46ac6a9f1ab8f"
      }
     },
     "aeb455b1f5f34db18287bdf4dd061b39": {
      "model_module": "@jupyter-widgets/controls",
      "model_module_version": "1.4.0",
      "model_name": "IntProgressModel",
      "state": {
       "bar_style": "success",
       "layout": "IPY_MODEL_256a1ef18a22435e886bfdf9017ee282",
       "max": 1000,
       "style": "IPY_MODEL_775decd92ee94f87abe78368d75e986f",
       "value": 1000
      }
     },
     "aeec41d756f547c3904901f62e5da97a": {
      "model_module": "@jupyter-widgets/base",
      "model_module_version": "1.1.0",
      "model_name": "LayoutModel",
      "state": {}
     },
     "b14c297c34614337bc953db0de4380f3": {
      "model_module": "@jupyter-widgets/base",
      "model_module_version": "1.1.0",
      "model_name": "LayoutModel",
      "state": {}
     },
     "b169a20bbeed45929e2ca38368ae3d31": {
      "model_module": "@jupyter-widgets/base",
      "model_module_version": "1.1.0",
      "model_name": "LayoutModel",
      "state": {}
     },
     "b1d6da715ca14a4088e43867b08e49bb": {
      "model_module": "@jupyter-widgets/controls",
      "model_module_version": "1.4.0",
      "model_name": "HBoxModel",
      "state": {
       "children": [
        "IPY_MODEL_5098bca12d8246c0be52398bf9e2d629",
        "IPY_MODEL_19d64fcf944c4d3cb9c370a219b791be"
       ],
       "layout": "IPY_MODEL_92f710b9fb67401db3d6641441ba1070"
      }
     },
     "b31e7f7b8cae458f9f773670e800fa27": {
      "model_module": "@jupyter-widgets/controls",
      "model_module_version": "1.4.0",
      "model_name": "HTMLModel",
      "state": {
       "layout": "IPY_MODEL_98ce5d4547214963ac790fdf00282982",
       "style": "IPY_MODEL_0879df3d27b74cdc9403d2629d82bacf",
       "value": "100% 1000/1000 [00:00&lt;00:00, 9288.31it/s]"
      }
     },
     "b35e84fa5665480cb7a042048e6f0559": {
      "model_module": "@jupyter-widgets/controls",
      "model_module_version": "1.4.0",
      "model_name": "DescriptionStyleModel",
      "state": {
       "description_width": ""
      }
     },
     "b3eaa92c14444c04872992df8f1835d2": {
      "model_module": "@jupyter-widgets/controls",
      "model_module_version": "1.4.0",
      "model_name": "DescriptionStyleModel",
      "state": {
       "description_width": ""
      }
     },
     "b5491c755e5e492aa741b469c4e3df62": {
      "model_module": "@jupyter-widgets/controls",
      "model_module_version": "1.4.0",
      "model_name": "DescriptionStyleModel",
      "state": {
       "description_width": ""
      }
     },
     "b552b64f2eb3467da114c6721193e365": {
      "model_module": "@jupyter-widgets/controls",
      "model_module_version": "1.4.0",
      "model_name": "IntProgressModel",
      "state": {
       "bar_style": "danger",
       "layout": "IPY_MODEL_a4033972544943aa8d6f29e89bc24a49",
       "max": 1000,
       "style": "IPY_MODEL_cf0930dd5e6048ddb878951789d70628",
       "value": 616
      }
     },
     "b5e3b01e8a64423e853e6bff79e17d82": {
      "model_module": "@jupyter-widgets/base",
      "model_module_version": "1.1.0",
      "model_name": "LayoutModel",
      "state": {}
     },
     "b690a1700f4144f791a12366538cc824": {
      "model_module": "@jupyter-widgets/base",
      "model_module_version": "1.1.0",
      "model_name": "LayoutModel",
      "state": {}
     },
     "b7939c8fa2064adfbd15ceabee4a743e": {
      "model_module": "@jupyter-widgets/base",
      "model_module_version": "1.1.0",
      "model_name": "LayoutModel",
      "state": {}
     },
     "b7aab3fb38ec4ab290217bc7fc9169c1": {
      "model_module": "@jupyter-widgets/controls",
      "model_module_version": "1.4.0",
      "model_name": "IntProgressModel",
      "state": {
       "bar_style": "success",
       "layout": "IPY_MODEL_b690a1700f4144f791a12366538cc824",
       "style": "IPY_MODEL_1f296502959849dd8785bc1cb8f99252",
       "value": 100
      }
     },
     "b91d30e46cc146f3b6a46ac6a9f1ab8f": {
      "model_module": "@jupyter-widgets/base",
      "model_module_version": "1.1.0",
      "model_name": "LayoutModel",
      "state": {}
     },
     "babd6a05777344f4be2896067e680027": {
      "model_module": "@jupyter-widgets/base",
      "model_module_version": "1.1.0",
      "model_name": "LayoutModel",
      "state": {}
     },
     "bb10287abe514b26b77da414896da48a": {
      "model_module": "@jupyter-widgets/controls",
      "model_module_version": "1.4.0",
      "model_name": "DescriptionStyleModel",
      "state": {
       "description_width": ""
      }
     },
     "bb4806844fda4d299c94cff37cf03d5c": {
      "model_module": "@jupyter-widgets/controls",
      "model_module_version": "1.4.0",
      "model_name": "IntProgressModel",
      "state": {
       "bar_style": "success",
       "layout": "IPY_MODEL_05dae8ee981b4eb5b5e97288a3f7273f",
       "max": 1000,
       "style": "IPY_MODEL_808c3d03c12b4992a277f066f61be0fb",
       "value": 1000
      }
     },
     "bb4d36cc035747b6b9a03bba9f6c645c": {
      "model_module": "@jupyter-widgets/controls",
      "model_module_version": "1.4.0",
      "model_name": "ProgressStyleModel",
      "state": {
       "description_width": ""
      }
     },
     "bc1a6e36ed924bb58084d5a69d25ab7e": {
      "model_module": "@jupyter-widgets/controls",
      "model_module_version": "1.4.0",
      "model_name": "HTMLModel",
      "state": {
       "layout": "IPY_MODEL_6f996fff90844f0e88784ccd7f9e9329",
       "style": "IPY_MODEL_f928fb80b5844e77b8e7c22b7e45606d",
       "value": "100% 1000/1000 [48:36&lt;00:00,  3.08s/it]"
      }
     },
     "bc842272e8e24729abbeb19ecec0499c": {
      "model_module": "@jupyter-widgets/controls",
      "model_module_version": "1.4.0",
      "model_name": "HTMLModel",
      "state": {
       "layout": "IPY_MODEL_38e4f2838db44512b953f0a56d44f7e3",
       "style": "IPY_MODEL_9aaa30969b6c4b6f9a3916a420912ef8",
       "value": "100% 100/100 [00:00&lt;00:00, 4092.96it/s]"
      }
     },
     "bd143bee240749a393305c5666723850": {
      "model_module": "@jupyter-widgets/base",
      "model_module_version": "1.1.0",
      "model_name": "LayoutModel",
      "state": {}
     },
     "bda8871746b9425793eea4acefa72e8e": {
      "model_module": "@jupyter-widgets/controls",
      "model_module_version": "1.4.0",
      "model_name": "IntProgressModel",
      "state": {
       "bar_style": "success",
       "layout": "IPY_MODEL_f03e37750ab34e1fa8ba9903220611a4",
       "max": 996559,
       "style": "IPY_MODEL_172e387e589348e3ba810c2b14a31841",
       "value": 996559
      }
     },
     "bdd7e8bcd0024f79b37c42470ae3f01f": {
      "model_module": "@jupyter-widgets/base",
      "model_module_version": "1.1.0",
      "model_name": "LayoutModel",
      "state": {}
     },
     "be7f8a435b194e3ca6ff8cf0530a2a83": {
      "model_module": "@jupyter-widgets/base",
      "model_module_version": "1.1.0",
      "model_name": "LayoutModel",
      "state": {}
     },
     "bed7534763c04ca2a13dc5784c21d200": {
      "model_module": "@jupyter-widgets/base",
      "model_module_version": "1.1.0",
      "model_name": "LayoutModel",
      "state": {}
     },
     "bf1a2c6bc4354e548a8ed79bab6e0444": {
      "model_module": "@jupyter-widgets/controls",
      "model_module_version": "1.4.0",
      "model_name": "DescriptionStyleModel",
      "state": {
       "description_width": ""
      }
     },
     "bf8ce3f2aa1548308e1d023ec05731c0": {
      "model_module": "@jupyter-widgets/base",
      "model_module_version": "1.1.0",
      "model_name": "LayoutModel",
      "state": {}
     },
     "c0653ac87ead4b9ba7f3a97968561942": {
      "model_module": "@jupyter-widgets/controls",
      "model_module_version": "1.4.0",
      "model_name": "IntProgressModel",
      "state": {
       "bar_style": "success",
       "layout": "IPY_MODEL_38fd44e8af2b443392e5bd4ae734eb39",
       "max": 1000,
       "style": "IPY_MODEL_5d874c3322e44a3ea57c9b1b0263c39a",
       "value": 1000
      }
     },
     "c08e4358c90d465094e3c679a83b3eb1": {
      "model_module": "@jupyter-widgets/base",
      "model_module_version": "1.1.0",
      "model_name": "LayoutModel",
      "state": {}
     },
     "c0dd0a83b0ae45b081567158e67468a7": {
      "model_module": "@jupyter-widgets/controls",
      "model_module_version": "1.4.0",
      "model_name": "IntProgressModel",
      "state": {
       "bar_style": "success",
       "layout": "IPY_MODEL_7d0d43fa18764d7fa8e42f9d859fe491",
       "style": "IPY_MODEL_3357436fd22242a1810ab564f954c4dc",
       "value": 100
      }
     },
     "c181c149b4d7414aa326daaff1272753": {
      "model_module": "@jupyter-widgets/base",
      "model_module_version": "1.1.0",
      "model_name": "LayoutModel",
      "state": {}
     },
     "c1840a000dde4d53873401d98123dc1b": {
      "model_module": "@jupyter-widgets/controls",
      "model_module_version": "1.4.0",
      "model_name": "DescriptionStyleModel",
      "state": {
       "description_width": ""
      }
     },
     "c1d3876d70b443aeb844d1f11fdddc95": {
      "model_module": "@jupyter-widgets/base",
      "model_module_version": "1.1.0",
      "model_name": "LayoutModel",
      "state": {}
     },
     "c3452bbe4b024770a9edabc86676115e": {
      "model_module": "@jupyter-widgets/controls",
      "model_module_version": "1.4.0",
      "model_name": "HTMLModel",
      "state": {
       "layout": "IPY_MODEL_15ec102312d24e33bcc4f27155ad4a73",
       "style": "IPY_MODEL_933d4588a4b844c385ab77a92c3208cf",
       "value": "100% 1000/1000 [45:57&lt;00:00,  2.30s/it]"
      }
     },
     "c39252136ee8484f97de4e807428fc18": {
      "model_module": "@jupyter-widgets/controls",
      "model_module_version": "1.4.0",
      "model_name": "ProgressStyleModel",
      "state": {
       "description_width": ""
      }
     },
     "c451c6dc2dbd4768bc9ecbf7090fc63b": {
      "model_module": "@jupyter-widgets/controls",
      "model_module_version": "1.4.0",
      "model_name": "ProgressStyleModel",
      "state": {
       "description_width": ""
      }
     },
     "c4d4ac7bd10644a8b3f785b5de03b6fc": {
      "model_module": "@jupyter-widgets/base",
      "model_module_version": "1.1.0",
      "model_name": "LayoutModel",
      "state": {}
     },
     "c4e2f5a226b34bf4aa4cf375a12af709": {
      "model_module": "@jupyter-widgets/base",
      "model_module_version": "1.1.0",
      "model_name": "LayoutModel",
      "state": {}
     },
     "c4fb01d0024247ce85d4051dc4e34eb3": {
      "model_module": "@jupyter-widgets/base",
      "model_module_version": "1.1.0",
      "model_name": "LayoutModel",
      "state": {}
     },
     "c5291660131d4f4f9d52aa85a078a777": {
      "model_module": "@jupyter-widgets/base",
      "model_module_version": "1.1.0",
      "model_name": "LayoutModel",
      "state": {}
     },
     "c5818323a03d48e5b346ad04e51d455c": {
      "model_module": "@jupyter-widgets/base",
      "model_module_version": "1.1.0",
      "model_name": "LayoutModel",
      "state": {}
     },
     "c644699a26e0437b8e41d0a15ec54d48": {
      "model_module": "@jupyter-widgets/controls",
      "model_module_version": "1.4.0",
      "model_name": "HBoxModel",
      "state": {
       "children": [
        "IPY_MODEL_cb3661ad42534d7193b8eec4c4a96fd1",
        "IPY_MODEL_27b00dd8adb3475dafa32f75e9d0a010"
       ],
       "layout": "IPY_MODEL_babd6a05777344f4be2896067e680027"
      }
     },
     "c686e2c63cb34cdfa868e33acb180869": {
      "model_module": "@jupyter-widgets/controls",
      "model_module_version": "1.4.0",
      "model_name": "ProgressStyleModel",
      "state": {
       "description_width": ""
      }
     },
     "c71a0aea261b4f4abf5346fc4bc9370d": {
      "model_module": "@jupyter-widgets/controls",
      "model_module_version": "1.4.0",
      "model_name": "HTMLModel",
      "state": {
       "layout": "IPY_MODEL_6b356e0784904e5aaf4ec6dfb0772f30",
       "style": "IPY_MODEL_a95f87510a4942bdbd77b6bd36925c85",
       "value": "100% 100/100 [10:10&lt;00:00,  6.10s/it]"
      }
     },
     "c74ac61961694ecd8e4b7a781fb73c2b": {
      "model_module": "@jupyter-widgets/controls",
      "model_module_version": "1.4.0",
      "model_name": "HTMLModel",
      "state": {
       "layout": "IPY_MODEL_6ea08e38490c4bafb84fe2830d6fe6e7",
       "style": "IPY_MODEL_7620ddcb96b64e7e9c30809539c6736e",
       "value": "100% 1000/1000 [35:30&lt;00:00,  1.92s/it]"
      }
     },
     "c8422488737846dab033b55fbd392ec9": {
      "model_module": "@jupyter-widgets/controls",
      "model_module_version": "1.4.0",
      "model_name": "IntProgressModel",
      "state": {
       "bar_style": "success",
       "layout": "IPY_MODEL_64c9b63184cd4fd6a0d9e4c6a71e2819",
       "max": 1000,
       "style": "IPY_MODEL_66d88ace25b246c3aa4fd555bc1578ca",
       "value": 1000
      }
     },
     "c842784c5a0f4aba957b3b262c58a7d6": {
      "model_module": "@jupyter-widgets/controls",
      "model_module_version": "1.4.0",
      "model_name": "IntProgressModel",
      "state": {
       "bar_style": "success",
       "layout": "IPY_MODEL_be7f8a435b194e3ca6ff8cf0530a2a83",
       "style": "IPY_MODEL_cb9e070a02c142009728a4e96cd21bff",
       "value": 100
      }
     },
     "c900d7b62e094f91bb73c44063de1f6e": {
      "model_module": "@jupyter-widgets/controls",
      "model_module_version": "1.4.0",
      "model_name": "HTMLModel",
      "state": {
       "layout": "IPY_MODEL_d5ec6529653a4d25a21dbf42f3319e17",
       "style": "IPY_MODEL_73db5d2584dd4612977f91e76df6a57d",
       "value": "100% 100/100 [05:24&lt;00:00,  2.58s/it]"
      }
     },
     "ca7d0d0c671c4adfbc51fc0a91784eb7": {
      "model_module": "@jupyter-widgets/controls",
      "model_module_version": "1.4.0",
      "model_name": "ProgressStyleModel",
      "state": {
       "description_width": ""
      }
     },
     "cb3661ad42534d7193b8eec4c4a96fd1": {
      "model_module": "@jupyter-widgets/controls",
      "model_module_version": "1.4.0",
      "model_name": "IntProgressModel",
      "state": {
       "bar_style": "success",
       "layout": "IPY_MODEL_70e67eb1dae44bb69f9cb5757d17d1ed",
       "style": "IPY_MODEL_e6b7740cd0e74f0595acc0cbf35dfdda",
       "value": 100
      }
     },
     "cb9e070a02c142009728a4e96cd21bff": {
      "model_module": "@jupyter-widgets/controls",
      "model_module_version": "1.4.0",
      "model_name": "ProgressStyleModel",
      "state": {
       "description_width": ""
      }
     },
     "cbce5a4019d04e04b93da5d419a50b59": {
      "model_module": "@jupyter-widgets/controls",
      "model_module_version": "1.4.0",
      "model_name": "DescriptionStyleModel",
      "state": {
       "description_width": ""
      }
     },
     "cc3d5f81b2234665a1892b191a58ee57": {
      "model_module": "@jupyter-widgets/controls",
      "model_module_version": "1.4.0",
      "model_name": "HTMLModel",
      "state": {
       "layout": "IPY_MODEL_fc364cde182d4487bc99822fe3792963",
       "style": "IPY_MODEL_4925d4a03d164e498bec2a7d52831e9d",
       "value": "100% 1000/1000 [51:03&lt;00:00,  3.00s/it]"
      }
     },
     "ce0aacc29e974374838e94ec6fd22355": {
      "model_module": "@jupyter-widgets/controls",
      "model_module_version": "1.4.0",
      "model_name": "ProgressStyleModel",
      "state": {
       "description_width": ""
      }
     },
     "cef38e4b4ba24c69a1bcd5248a2e5b54": {
      "model_module": "@jupyter-widgets/controls",
      "model_module_version": "1.4.0",
      "model_name": "HTMLModel",
      "state": {
       "layout": "IPY_MODEL_153b3925bfa94f27b256ee0ac49f8b13",
       "style": "IPY_MODEL_e523522cf6fe4a5eaf338516dee3cac3",
       "value": "100% 996559/996559 [2:09:15&lt;00:00, 128.49it/s]"
      }
     },
     "cf0930dd5e6048ddb878951789d70628": {
      "model_module": "@jupyter-widgets/controls",
      "model_module_version": "1.4.0",
      "model_name": "ProgressStyleModel",
      "state": {
       "description_width": ""
      }
     },
     "cf2a997399f7470ebe09dd344df4673e": {
      "model_module": "@jupyter-widgets/controls",
      "model_module_version": "1.4.0",
      "model_name": "DescriptionStyleModel",
      "state": {
       "description_width": ""
      }
     },
     "cf75d647025d4214a5d8185a2fdc4494": {
      "model_module": "@jupyter-widgets/controls",
      "model_module_version": "1.4.0",
      "model_name": "HBoxModel",
      "state": {
       "children": [
        "IPY_MODEL_64de101c1bf246788a270f39c498b8b8",
        "IPY_MODEL_f66ddf647475442b982d82d04d280560"
       ],
       "layout": "IPY_MODEL_a76567f307ab4d1081e482af032f805f"
      }
     },
     "d018b003a75c45908c3afa16cb455358": {
      "model_module": "@jupyter-widgets/base",
      "model_module_version": "1.1.0",
      "model_name": "LayoutModel",
      "state": {}
     },
     "d150d342b8614bf1b0bae68a6a4464b1": {
      "model_module": "@jupyter-widgets/base",
      "model_module_version": "1.1.0",
      "model_name": "LayoutModel",
      "state": {}
     },
     "d194455e112740519ef5f67035d71944": {
      "model_module": "@jupyter-widgets/controls",
      "model_module_version": "1.4.0",
      "model_name": "ProgressStyleModel",
      "state": {
       "description_width": ""
      }
     },
     "d1b4ce694ff143308e06801ac9df9892": {
      "model_module": "@jupyter-widgets/controls",
      "model_module_version": "1.4.0",
      "model_name": "HTMLModel",
      "state": {
       "layout": "IPY_MODEL_50fb8b6ee0c84062a342623079b22a01",
       "style": "IPY_MODEL_4624b6b1db40421086d636f798db6053",
       "value": "100% 1000/1000 [00:00&lt;00:00, 8520.38it/s]"
      }
     },
     "d2853698928147daa78ab795a75e0d22": {
      "model_module": "@jupyter-widgets/controls",
      "model_module_version": "1.4.0",
      "model_name": "IntProgressModel",
      "state": {
       "bar_style": "success",
       "layout": "IPY_MODEL_2fde1404a2074bf89b05a09d628c4ab8",
       "style": "IPY_MODEL_27ec1b7ab5c6421298e3eb06c6f75db7",
       "value": 100
      }
     },
     "d28d8ce6140347c0aebac4380bdd7766": {
      "model_module": "@jupyter-widgets/base",
      "model_module_version": "1.1.0",
      "model_name": "LayoutModel",
      "state": {}
     },
     "d45c74ead01b4e03b311659f40a68532": {
      "model_module": "@jupyter-widgets/controls",
      "model_module_version": "1.4.0",
      "model_name": "ProgressStyleModel",
      "state": {
       "description_width": ""
      }
     },
     "d4c371bccf0c4b8db81e00656f29a77f": {
      "model_module": "@jupyter-widgets/controls",
      "model_module_version": "1.4.0",
      "model_name": "IntProgressModel",
      "state": {
       "bar_style": "success",
       "layout": "IPY_MODEL_d5beacae9dd844d79066d686d32c3469",
       "style": "IPY_MODEL_6efec8dc1258489ea9a268724fe963f8",
       "value": 100
      }
     },
     "d5624f1969f54e46be8ac831bb6750c2": {
      "model_module": "@jupyter-widgets/base",
      "model_module_version": "1.1.0",
      "model_name": "LayoutModel",
      "state": {}
     },
     "d5738b3568bf4a7cbf145aa111ab5ed3": {
      "model_module": "@jupyter-widgets/controls",
      "model_module_version": "1.4.0",
      "model_name": "IntProgressModel",
      "state": {
       "bar_style": "success",
       "layout": "IPY_MODEL_5d20a16d55f347b0a65cedb2b9a0e8ae",
       "max": 1000,
       "style": "IPY_MODEL_bb4d36cc035747b6b9a03bba9f6c645c",
       "value": 1000
      }
     },
     "d5bcf9636101467cbb8cd31285171437": {
      "model_module": "@jupyter-widgets/base",
      "model_module_version": "1.1.0",
      "model_name": "LayoutModel",
      "state": {}
     },
     "d5beacae9dd844d79066d686d32c3469": {
      "model_module": "@jupyter-widgets/base",
      "model_module_version": "1.1.0",
      "model_name": "LayoutModel",
      "state": {}
     },
     "d5ec6529653a4d25a21dbf42f3319e17": {
      "model_module": "@jupyter-widgets/base",
      "model_module_version": "1.1.0",
      "model_name": "LayoutModel",
      "state": {}
     },
     "d63a9071ba0a400fb9ee45692b819274": {
      "model_module": "@jupyter-widgets/controls",
      "model_module_version": "1.4.0",
      "model_name": "IntProgressModel",
      "state": {
       "bar_style": "success",
       "layout": "IPY_MODEL_67ea741980d94edf8038ed3e8043b483",
       "style": "IPY_MODEL_defc98f4f6524af8b68910a3dec5bcbf",
       "value": 100
      }
     },
     "d6fc5dda454d4b7d8586104e9fdafbd6": {
      "model_module": "@jupyter-widgets/controls",
      "model_module_version": "1.4.0",
      "model_name": "HTMLModel",
      "state": {
       "layout": "IPY_MODEL_c08e4358c90d465094e3c679a83b3eb1",
       "style": "IPY_MODEL_5618b621c0e047328feb286e0f61f9ca",
       "value": "100% 100/100 [00:00&lt;00:00, 3581.17it/s]"
      }
     },
     "d7301081933a464e8f12339271a8d806": {
      "model_module": "@jupyter-widgets/controls",
      "model_module_version": "1.4.0",
      "model_name": "IntProgressModel",
      "state": {
       "bar_style": "success",
       "layout": "IPY_MODEL_a36894a19b264d1580008397d50c8fc5",
       "style": "IPY_MODEL_d45c74ead01b4e03b311659f40a68532",
       "value": 100
      }
     },
     "d730bee9aca0442eb6e76ae128f8efe3": {
      "model_module": "@jupyter-widgets/controls",
      "model_module_version": "1.4.0",
      "model_name": "HBoxModel",
      "state": {
       "children": [
        "IPY_MODEL_515eb7f79d144e7aa14d149b3cd20b9b",
        "IPY_MODEL_92a89bf30c394ed2a047357bd03541ba"
       ],
       "layout": "IPY_MODEL_4603e296430347d78765b85cc52c0e34"
      }
     },
     "d7e2b4170786492f8086a5c72b841aa9": {
      "model_module": "@jupyter-widgets/controls",
      "model_module_version": "1.4.0",
      "model_name": "IntProgressModel",
      "state": {
       "bar_style": "success",
       "layout": "IPY_MODEL_53bf0dc986284b4a874c0ec48229487a",
       "max": 996559,
       "style": "IPY_MODEL_4e014587b16f419ca052ca26083f3743",
       "value": 996559
      }
     },
     "d7e65fea908441c586e6188b45f62b06": {
      "model_module": "@jupyter-widgets/controls",
      "model_module_version": "1.4.0",
      "model_name": "ProgressStyleModel",
      "state": {
       "description_width": ""
      }
     },
     "d7f2033ce2e24a5faadcd1265485f763": {
      "model_module": "@jupyter-widgets/controls",
      "model_module_version": "1.4.0",
      "model_name": "IntProgressModel",
      "state": {
       "bar_style": "success",
       "layout": "IPY_MODEL_39bfcc90b44a4f8d9d18a18ed17aa219",
       "style": "IPY_MODEL_d194455e112740519ef5f67035d71944",
       "value": 100
      }
     },
     "d8db7bd78fa64894a93a397e2af42c31": {
      "model_module": "@jupyter-widgets/base",
      "model_module_version": "1.1.0",
      "model_name": "LayoutModel",
      "state": {}
     },
     "d8f2325b04a84d708a377865b5cb3b21": {
      "model_module": "@jupyter-widgets/controls",
      "model_module_version": "1.4.0",
      "model_name": "HBoxModel",
      "state": {
       "children": [
        "IPY_MODEL_54537bb730a746159756362cdbef67bc",
        "IPY_MODEL_cc3d5f81b2234665a1892b191a58ee57"
       ],
       "layout": "IPY_MODEL_47a90871637c42e7af39a19e8ded8b1d"
      }
     },
     "db927405c9714ea4aa5376f42151db0c": {
      "model_module": "@jupyter-widgets/controls",
      "model_module_version": "1.4.0",
      "model_name": "ProgressStyleModel",
      "state": {
       "description_width": ""
      }
     },
     "dc2c35f6fba447128cb0b4fd7390316d": {
      "model_module": "@jupyter-widgets/controls",
      "model_module_version": "1.4.0",
      "model_name": "ProgressStyleModel",
      "state": {
       "description_width": ""
      }
     },
     "dd4593398dae479198274e527ae9183c": {
      "model_module": "@jupyter-widgets/controls",
      "model_module_version": "1.4.0",
      "model_name": "ProgressStyleModel",
      "state": {
       "description_width": ""
      }
     },
     "de32c75b64e54f9fbe37c0e1ceaf34aa": {
      "model_module": "@jupyter-widgets/controls",
      "model_module_version": "1.4.0",
      "model_name": "HTMLModel",
      "state": {
       "layout": "IPY_MODEL_9bbb085bcff8418da9538a73e95077ee",
       "style": "IPY_MODEL_55027fca3ee84a0cab3acf2374bb56d7",
       "value": "100% 100/100 [03:46&lt;00:00,  2.04s/it]"
      }
     },
     "de51d4a7823f4d2e8aefd045a4ce3bd0": {
      "model_module": "@jupyter-widgets/base",
      "model_module_version": "1.1.0",
      "model_name": "LayoutModel",
      "state": {}
     },
     "dea31772edc948f08ab607a4973eefd5": {
      "model_module": "@jupyter-widgets/controls",
      "model_module_version": "1.4.0",
      "model_name": "DescriptionStyleModel",
      "state": {
       "description_width": ""
      }
     },
     "deec043bba68412f8c610daa3537fbbd": {
      "model_module": "@jupyter-widgets/base",
      "model_module_version": "1.1.0",
      "model_name": "LayoutModel",
      "state": {}
     },
     "defc98f4f6524af8b68910a3dec5bcbf": {
      "model_module": "@jupyter-widgets/controls",
      "model_module_version": "1.4.0",
      "model_name": "ProgressStyleModel",
      "state": {
       "description_width": ""
      }
     },
     "df66c95a33c1470091a773ea82d32ed2": {
      "model_module": "@jupyter-widgets/controls",
      "model_module_version": "1.4.0",
      "model_name": "HTMLModel",
      "state": {
       "layout": "IPY_MODEL_b7939c8fa2064adfbd15ceabee4a743e",
       "style": "IPY_MODEL_235bf427ffe6465e82416b6d5b4476b4",
       "value": "100% 1000/1000 [1:32:26&lt;00:00,  5.57s/it]"
      }
     },
     "dfefdcd7e3434c2d93395fc103ff6b28": {
      "model_module": "@jupyter-widgets/base",
      "model_module_version": "1.1.0",
      "model_name": "LayoutModel",
      "state": {}
     },
     "e1e216af4bfe4aa8a64e1be12cdd59df": {
      "model_module": "@jupyter-widgets/base",
      "model_module_version": "1.1.0",
      "model_name": "LayoutModel",
      "state": {}
     },
     "e21be4b1f8024e7986ae4b563f403d34": {
      "model_module": "@jupyter-widgets/base",
      "model_module_version": "1.1.0",
      "model_name": "LayoutModel",
      "state": {}
     },
     "e29ca351d419465ba2e6c809f80ff5dc": {
      "model_module": "@jupyter-widgets/controls",
      "model_module_version": "1.4.0",
      "model_name": "ProgressStyleModel",
      "state": {
       "description_width": ""
      }
     },
     "e2d64c177eed405b9f5692c149e07661": {
      "model_module": "@jupyter-widgets/base",
      "model_module_version": "1.1.0",
      "model_name": "LayoutModel",
      "state": {}
     },
     "e523522cf6fe4a5eaf338516dee3cac3": {
      "model_module": "@jupyter-widgets/controls",
      "model_module_version": "1.4.0",
      "model_name": "DescriptionStyleModel",
      "state": {
       "description_width": ""
      }
     },
     "e59dc90e36b94f5bbe598d5f6cc8090d": {
      "model_module": "@jupyter-widgets/controls",
      "model_module_version": "1.4.0",
      "model_name": "ProgressStyleModel",
      "state": {
       "description_width": ""
      }
     },
     "e5b9e6edfd7e4dcdbd55fc8cb06066ba": {
      "model_module": "@jupyter-widgets/controls",
      "model_module_version": "1.4.0",
      "model_name": "HBoxModel",
      "state": {
       "children": [
        "IPY_MODEL_06c5be3bb7ad4ba580f2b6024e94feea",
        "IPY_MODEL_4fe3cdb182b8401182b3495354c518a2"
       ],
       "layout": "IPY_MODEL_8907dd9554174825bd0fd933a488551b"
      }
     },
     "e5d0b9f07b7d4669aa89bbd52cd86f9f": {
      "model_module": "@jupyter-widgets/controls",
      "model_module_version": "1.4.0",
      "model_name": "ProgressStyleModel",
      "state": {
       "description_width": ""
      }
     },
     "e6b7740cd0e74f0595acc0cbf35dfdda": {
      "model_module": "@jupyter-widgets/controls",
      "model_module_version": "1.4.0",
      "model_name": "ProgressStyleModel",
      "state": {
       "description_width": ""
      }
     },
     "e6ef972c04444d6f83f1ac48853557ed": {
      "model_module": "@jupyter-widgets/base",
      "model_module_version": "1.1.0",
      "model_name": "LayoutModel",
      "state": {}
     },
     "e7592cd12ef14c86ab6d326c38166bab": {
      "model_module": "@jupyter-widgets/base",
      "model_module_version": "1.1.0",
      "model_name": "LayoutModel",
      "state": {}
     },
     "e7fba8e0c96c4f258f2794809660d4be": {
      "model_module": "@jupyter-widgets/controls",
      "model_module_version": "1.4.0",
      "model_name": "HTMLModel",
      "state": {
       "layout": "IPY_MODEL_8e398ea37e3b495cac5169751a18659a",
       "style": "IPY_MODEL_024751071bfb43ea8637a3f032c4bf7d",
       "value": "100% 1000/1000 [00:00&lt;00:00, 8398.03it/s]"
      }
     },
     "e80a7c68e7a548418611fb75d87832cc": {
      "model_module": "@jupyter-widgets/base",
      "model_module_version": "1.1.0",
      "model_name": "LayoutModel",
      "state": {}
     },
     "e828f8d391d5476c9120e90135f423ba": {
      "model_module": "@jupyter-widgets/base",
      "model_module_version": "1.1.0",
      "model_name": "LayoutModel",
      "state": {}
     },
     "e84336618b024b9dbfba5640c11f6773": {
      "model_module": "@jupyter-widgets/controls",
      "model_module_version": "1.4.0",
      "model_name": "HTMLModel",
      "state": {
       "layout": "IPY_MODEL_0c8f57a233454e19b3871409718d38e8",
       "style": "IPY_MODEL_f14f366b28934b9cbcdd5b6164ff762b",
       "value": "100% 100/100 [07:48&lt;00:00,  4.75s/it]"
      }
     },
     "e9bb0f99c39c455d8f6e63eb220bd526": {
      "model_module": "@jupyter-widgets/base",
      "model_module_version": "1.1.0",
      "model_name": "LayoutModel",
      "state": {}
     },
     "ec49812b917f479889909832f335c11e": {
      "model_module": "@jupyter-widgets/controls",
      "model_module_version": "1.4.0",
      "model_name": "DescriptionStyleModel",
      "state": {
       "description_width": ""
      }
     },
     "ec5dec533e604b9c8d5353ffd2d02303": {
      "model_module": "@jupyter-widgets/controls",
      "model_module_version": "1.4.0",
      "model_name": "IntProgressModel",
      "state": {
       "bar_style": "success",
       "layout": "IPY_MODEL_aeec41d756f547c3904901f62e5da97a",
       "max": 1000,
       "style": "IPY_MODEL_f1db988683584a1fa4dd9df7e6831708",
       "value": 1000
      }
     },
     "ed98f8e1206f410dbc573a2462c9dc28": {
      "model_module": "@jupyter-widgets/base",
      "model_module_version": "1.1.0",
      "model_name": "LayoutModel",
      "state": {}
     },
     "ee47bf7410204c46a7b9001cf40b5618": {
      "model_module": "@jupyter-widgets/controls",
      "model_module_version": "1.4.0",
      "model_name": "ProgressStyleModel",
      "state": {
       "description_width": ""
      }
     },
     "ef075009f33d4193a5067f362450da7c": {
      "model_module": "@jupyter-widgets/base",
      "model_module_version": "1.1.0",
      "model_name": "LayoutModel",
      "state": {}
     },
     "effee9dafe7d405c8d7c068ed4729eb9": {
      "model_module": "@jupyter-widgets/base",
      "model_module_version": "1.1.0",
      "model_name": "LayoutModel",
      "state": {}
     },
     "f03e37750ab34e1fa8ba9903220611a4": {
      "model_module": "@jupyter-widgets/base",
      "model_module_version": "1.1.0",
      "model_name": "LayoutModel",
      "state": {}
     },
     "f14f366b28934b9cbcdd5b6164ff762b": {
      "model_module": "@jupyter-widgets/controls",
      "model_module_version": "1.4.0",
      "model_name": "DescriptionStyleModel",
      "state": {
       "description_width": ""
      }
     },
     "f174b8d9233040d8826e1c356d156ad1": {
      "model_module": "@jupyter-widgets/controls",
      "model_module_version": "1.4.0",
      "model_name": "HTMLModel",
      "state": {
       "layout": "IPY_MODEL_8cab3423acd441d9a541d522ccc152a7",
       "style": "IPY_MODEL_41d5b9f5b05a45eabd942dd5c963fef9",
       "value": "100% 996559/996559 [1:59:32&lt;00:00, 138.95it/s]"
      }
     },
     "f1db988683584a1fa4dd9df7e6831708": {
      "model_module": "@jupyter-widgets/controls",
      "model_module_version": "1.4.0",
      "model_name": "ProgressStyleModel",
      "state": {
       "description_width": ""
      }
     },
     "f3fe84dfdcc045aa819742db7e058ce2": {
      "model_module": "@jupyter-widgets/base",
      "model_module_version": "1.1.0",
      "model_name": "LayoutModel",
      "state": {}
     },
     "f4b04cbb624d4a68b9d5b39467cc5586": {
      "model_module": "@jupyter-widgets/controls",
      "model_module_version": "1.4.0",
      "model_name": "HTMLModel",
      "state": {
       "layout": "IPY_MODEL_95c28cc2f35648a6b56e08fdba40fdc9",
       "style": "IPY_MODEL_5e8bebb0ce474b26ae49b69ba86b0132",
       "value": "100% 100/100 [00:00&lt;00:00, 1710.96it/s]"
      }
     },
     "f4fa3b65a7a34ce98f8b8e98cf3dda23": {
      "model_module": "@jupyter-widgets/controls",
      "model_module_version": "1.4.0",
      "model_name": "HBoxModel",
      "state": {
       "children": [
        "IPY_MODEL_9054dd408a5947f58f930c3f7f68afcf",
        "IPY_MODEL_df66c95a33c1470091a773ea82d32ed2"
       ],
       "layout": "IPY_MODEL_c4d4ac7bd10644a8b3f785b5de03b6fc"
      }
     },
     "f5492e2c0c854c57aaa9e4a6e12cd69a": {
      "model_module": "@jupyter-widgets/base",
      "model_module_version": "1.1.0",
      "model_name": "LayoutModel",
      "state": {}
     },
     "f561127637d4422bb920c0088c471bee": {
      "model_module": "@jupyter-widgets/base",
      "model_module_version": "1.1.0",
      "model_name": "LayoutModel",
      "state": {}
     },
     "f581888540124d05a6683c2de09213d1": {
      "model_module": "@jupyter-widgets/controls",
      "model_module_version": "1.4.0",
      "model_name": "HTMLModel",
      "state": {
       "layout": "IPY_MODEL_9a89d3bf45d7426c8b0842cdbcc7adb9",
       "style": "IPY_MODEL_944473bf6efe414da03d3248b01c35c2",
       "value": "100% 1000/1000 [00:55&lt;00:00,  7.90it/s]"
      }
     },
     "f5f34972119445328f3455204490b85c": {
      "model_module": "@jupyter-widgets/controls",
      "model_module_version": "1.4.0",
      "model_name": "DescriptionStyleModel",
      "state": {
       "description_width": ""
      }
     },
     "f66ddf647475442b982d82d04d280560": {
      "model_module": "@jupyter-widgets/controls",
      "model_module_version": "1.4.0",
      "model_name": "HTMLModel",
      "state": {
       "layout": "IPY_MODEL_4b6f1d60cdcf42f68a9308457f356fee",
       "style": "IPY_MODEL_8ec44b42077f4a9889c77f9d89b7aadb",
       "value": "100% 100/100 [04:12&lt;00:00,  2.51s/it]"
      }
     },
     "f68815e9e0044c1fa667aab946a45d64": {
      "model_module": "@jupyter-widgets/controls",
      "model_module_version": "1.4.0",
      "model_name": "HTMLModel",
      "state": {
       "layout": "IPY_MODEL_d28d8ce6140347c0aebac4380bdd7766",
       "style": "IPY_MODEL_fd3a3df67d424c3db96eaf98b45d1094",
       "value": "100% 996559/996559 [1:41:59&lt;00:00, 162.84it/s]"
      }
     },
     "f86eb1f95a1542f5b4726b224a2c98ef": {
      "model_module": "@jupyter-widgets/controls",
      "model_module_version": "1.4.0",
      "model_name": "HTMLModel",
      "state": {
       "layout": "IPY_MODEL_9d53b9de46c94d8890fe067ac12bb6a0",
       "style": "IPY_MODEL_32b6daa386a94f2486fe9a4d38461196",
       "value": "100% 100/100 [11:42&lt;00:00,  6.67s/it]"
      }
     },
     "f928fb80b5844e77b8e7c22b7e45606d": {
      "model_module": "@jupyter-widgets/controls",
      "model_module_version": "1.4.0",
      "model_name": "DescriptionStyleModel",
      "state": {
       "description_width": ""
      }
     },
     "f9b3b759e49c453bb2d23ed32e363bf4": {
      "model_module": "@jupyter-widgets/base",
      "model_module_version": "1.1.0",
      "model_name": "LayoutModel",
      "state": {}
     },
     "f9c382e6beff4f8a898828d8e4be320b": {
      "model_module": "@jupyter-widgets/controls",
      "model_module_version": "1.4.0",
      "model_name": "IntProgressModel",
      "state": {
       "bar_style": "success",
       "layout": "IPY_MODEL_2791ca297b0447c59821c69d6cbc9a0c",
       "max": 1000,
       "style": "IPY_MODEL_3cc49f35d793417c95324551ddf3b595",
       "value": 1000
      }
     },
     "fa7372218f51407cb3a784c948f83036": {
      "model_module": "@jupyter-widgets/controls",
      "model_module_version": "1.4.0",
      "model_name": "IntProgressModel",
      "state": {
       "bar_style": "success",
       "layout": "IPY_MODEL_48854efa6c774af5a15506c987924efc",
       "max": 1000,
       "style": "IPY_MODEL_895ae5423e794b5789eb7980afe47711",
       "value": 1000
      }
     },
     "faadadec166640dda080e2c4fc0438ea": {
      "model_module": "@jupyter-widgets/controls",
      "model_module_version": "1.4.0",
      "model_name": "IntProgressModel",
      "state": {
       "bar_style": "success",
       "layout": "IPY_MODEL_d8db7bd78fa64894a93a397e2af42c31",
       "max": 996559,
       "style": "IPY_MODEL_a03c6517855e4a3596457f9d749dcb39",
       "value": 996559
      }
     },
     "facb2b4143884b7dbda447384eedd3d4": {
      "model_module": "@jupyter-widgets/controls",
      "model_module_version": "1.4.0",
      "model_name": "DescriptionStyleModel",
      "state": {
       "description_width": ""
      }
     },
     "fc09fe55c0c04f58970d1bb794abdc20": {
      "model_module": "@jupyter-widgets/controls",
      "model_module_version": "1.4.0",
      "model_name": "HBoxModel",
      "state": {
       "children": [
        "IPY_MODEL_9114fb90bceb497285a8ac70b9a7ad77",
        "IPY_MODEL_d1b4ce694ff143308e06801ac9df9892"
       ],
       "layout": "IPY_MODEL_47151857954645a192439bfe0bad7fe8"
      }
     },
     "fc2bf407dd984df08be313f46a88f812": {
      "model_module": "@jupyter-widgets/controls",
      "model_module_version": "1.4.0",
      "model_name": "HTMLModel",
      "state": {
       "layout": "IPY_MODEL_868b188ddd46453295d86bf2dd09415d",
       "style": "IPY_MODEL_b5491c755e5e492aa741b469c4e3df62",
       "value": "100% 1000/1000 [50:43&lt;00:00,  3.19s/it]"
      }
     },
     "fc364cde182d4487bc99822fe3792963": {
      "model_module": "@jupyter-widgets/base",
      "model_module_version": "1.1.0",
      "model_name": "LayoutModel",
      "state": {}
     },
     "fc9a2fd6c3e347a2844c846a9e055e82": {
      "model_module": "@jupyter-widgets/controls",
      "model_module_version": "1.4.0",
      "model_name": "ProgressStyleModel",
      "state": {
       "description_width": ""
      }
     },
     "fd13b46fe9de412d9583ed97007a9207": {
      "model_module": "@jupyter-widgets/controls",
      "model_module_version": "1.4.0",
      "model_name": "ProgressStyleModel",
      "state": {
       "description_width": ""
      }
     },
     "fd3a3df67d424c3db96eaf98b45d1094": {
      "model_module": "@jupyter-widgets/controls",
      "model_module_version": "1.4.0",
      "model_name": "DescriptionStyleModel",
      "state": {
       "description_width": ""
      }
     },
     "fd5d642cbdc44e198853533ca4ebbd0b": {
      "model_module": "@jupyter-widgets/controls",
      "model_module_version": "1.4.0",
      "model_name": "IntProgressModel",
      "state": {
       "bar_style": "success",
       "layout": "IPY_MODEL_3885e429e7744df6b827577595877bef",
       "style": "IPY_MODEL_a0ccd8bf354d458da2bfae5793fe410c",
       "value": 100
      }
     },
     "fd9c0bb9055f4ae7b1937eff10031737": {
      "model_module": "@jupyter-widgets/base",
      "model_module_version": "1.1.0",
      "model_name": "LayoutModel",
      "state": {}
     },
     "fd9dcd92f19f4466bd4f5ce611afaf73": {
      "model_module": "@jupyter-widgets/controls",
      "model_module_version": "1.4.0",
      "model_name": "ProgressStyleModel",
      "state": {
       "description_width": ""
      }
     },
     "fe15e8c2509841d4a820e732b4ce27ea": {
      "model_module": "@jupyter-widgets/base",
      "model_module_version": "1.1.0",
      "model_name": "LayoutModel",
      "state": {}
     },
     "ff02ac35b75e43c3a1fde61e9a550a72": {
      "model_module": "@jupyter-widgets/base",
      "model_module_version": "1.1.0",
      "model_name": "LayoutModel",
      "state": {}
     },
     "ffee26110df3490d8e223884fa6448f3": {
      "model_module": "@jupyter-widgets/base",
      "model_module_version": "1.1.0",
      "model_name": "LayoutModel",
      "state": {}
     }
    },
    "version_major": 2,
    "version_minor": 0
   }
  }
 },
 "nbformat": 4,
 "nbformat_minor": 2
}
