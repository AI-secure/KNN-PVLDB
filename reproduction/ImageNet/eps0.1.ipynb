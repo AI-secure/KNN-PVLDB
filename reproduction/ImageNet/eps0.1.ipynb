{
 "cells": [
  {
   "cell_type": "code",
   "execution_count": 1,
   "metadata": {},
   "outputs": [],
   "source": [
    "import bz2\n",
    "import numpy as np\n",
    "from tqdm import tqdm_notebook as tqdm\n",
    "import gzip\n",
    "from heapq import heappushpop\n",
    "from joblib import Parallel, delayed\n",
    "import time"
   ]
  },
  {
   "cell_type": "code",
   "execution_count": 2,
   "metadata": {},
   "outputs": [],
   "source": [
    "import numpy as np\n",
    "import os\n",
    "\n",
    "classes = []\n",
    "\n",
    "for root, dirs, files in os.walk(\".\"):  \n",
    "    for filename in files:\n",
    "        classes.append(filename)"
   ]
  },
  {
   "cell_type": "code",
   "execution_count": 3,
   "metadata": {},
   "outputs": [],
   "source": [
    "from re import compile\n",
    "\n",
    "rex = compile('n[0-9]+')\n",
    "classes = [x for x in classes if rex.match(x)]"
   ]
  },
  {
   "cell_type": "code",
   "execution_count": 4,
   "metadata": {},
   "outputs": [
    {
     "data": {
      "application/vnd.jupyter.widget-view+json": {
       "model_id": "574429e0d01a4a13a49c0cc932477efc",
       "version_major": 2,
       "version_minor": 0
      },
      "text/plain": [
       "HBox(children=(IntProgress(value=0, max=1000), HTML(value='')))"
      ]
     },
     "metadata": {},
     "output_type": "display_data"
    },
    {
     "name": "stdout",
     "output_type": "stream",
     "text": [
      "\n"
     ]
    }
   ],
   "source": [
    "x_trn = []\n",
    "y_trn = []\n",
    "for c in tqdm(classes):\n",
    "    x_trn.append(np.load(c))\n",
    "    y_trn += [c] * len(x_trn[-1])"
   ]
  },
  {
   "cell_type": "code",
   "execution_count": 5,
   "metadata": {},
   "outputs": [
    {
     "name": "stdout",
     "output_type": "stream",
     "text": [
      "997659\n",
      "997659\n"
     ]
    }
   ],
   "source": [
    "x_trn = np.vstack(x_trn)\n",
    "print(len(x_trn))\n",
    "print(len(y_trn))"
   ]
  },
  {
   "cell_type": "code",
   "execution_count": 6,
   "metadata": {},
   "outputs": [],
   "source": [
    "def get_true_KNN(x_trn,x_tst,K):\n",
    "    N = x_trn.shape[0]\n",
    "    N_tst = x_tst.shape[0]\n",
    "    x_tst_knn_gt = np.zeros((N_tst, N))\n",
    "    for i_tst in tqdm(range(N_tst)):\n",
    "        dist_gt = np.zeros(N)\n",
    "        for i_trn in range(N):\n",
    "            dist_gt[i_trn] = np.linalg.norm(x_trn[i_trn,:] - x_tst[i_tst, :], 2)\n",
    "#             if i_trn % 100000 == 0:\n",
    "#                 print(i_trn)\n",
    "        x_tst_knn_gt[i_tst, :] = np.argsort(dist_gt)\n",
    "        # x_sort_part = np.argpartition(dist_gt,K)[:K]\n",
    "        # x_tst_knn_gt[i_tst, :] = x_sort_part[np.argsort(dist_gt[x_sort_part])]\n",
    "#         if i_tst % 100 == 0:\n",
    "#             print(i_tst)\n",
    "\n",
    "    return x_tst_knn_gt.astype(int)"
   ]
  },
  {
   "cell_type": "code",
   "execution_count": 7,
   "metadata": {},
   "outputs": [],
   "source": [
    "from sklearn.utils import shuffle\n",
    "x_trn, y_trn = shuffle(x_trn, y_trn, random_state=0)"
   ]
  },
  {
   "cell_type": "code",
   "execution_count": 8,
   "metadata": {},
   "outputs": [],
   "source": [
    "x_trn = np.reshape(x_trn, (-1, 2048))\n",
    "x_tst, y_tst = x_trn[:100], y_trn[:100]\n",
    "x_val, y_val = x_trn[100:1100], y_trn[100:1100]\n",
    "x_trn, y_trn = x_trn[1100:], y_trn[1100:]"
   ]
  },
  {
   "cell_type": "code",
   "execution_count": 9,
   "metadata": {},
   "outputs": [
    {
     "data": {
      "application/vnd.jupyter.widget-view+json": {
       "model_id": "6ee6448eb995435ebe973f1541c702e5",
       "version_major": 2,
       "version_minor": 0
      },
      "text/plain": [
       "HBox(children=(IntProgress(value=0), HTML(value='')))"
      ]
     },
     "metadata": {},
     "output_type": "display_data"
    },
    {
     "name": "stdout",
     "output_type": "stream",
     "text": [
      "\n",
      "651.8746099472046\n"
     ]
    }
   ],
   "source": [
    "start = time.time()\n",
    "x_tst_knn_gt = get_true_KNN(x_trn, x_tst, 1)\n",
    "end1 = time.time() - start\n",
    "print(end1)"
   ]
  },
  {
   "cell_type": "code",
   "execution_count": 10,
   "metadata": {},
   "outputs": [
    {
     "data": {
      "application/vnd.jupyter.widget-view+json": {
       "model_id": "a611dcd2c2174d699bed56137eeb135b",
       "version_major": 2,
       "version_minor": 0
      },
      "text/plain": [
       "HBox(children=(IntProgress(value=0, max=1000), HTML(value='')))"
      ]
     },
     "metadata": {},
     "output_type": "display_data"
    },
    {
     "name": "stdout",
     "output_type": "stream",
     "text": [
      "\n",
      "6716.966578960419\n"
     ]
    }
   ],
   "source": [
    "start = time.time()\n",
    "x_val_knn_gt = get_true_KNN(x_trn, x_val, 1)\n",
    "val_end1 = time.time() - start\n",
    "print(val_end1)"
   ]
  },
  {
   "cell_type": "code",
   "execution_count": 11,
   "metadata": {},
   "outputs": [],
   "source": [
    "np.save('eps0.1/tst_exact_knn', x_tst_knn_gt)\n",
    "np.save('eps0.1/val_exact_knn', x_val_knn_gt)"
   ]
  },
  {
   "cell_type": "code",
   "execution_count": 12,
   "metadata": {},
   "outputs": [],
   "source": [
    "def compute_single_unweighted_knn_class_shapley(x_trn,y_trn,x_tst_knn_gt,y_tst,K):\n",
    "    N = x_trn.shape[0]\n",
    "    N_tst = x_tst_knn_gt.shape[0]\n",
    "    sp_gt = np.zeros((N_tst,N))\n",
    "    for j in tqdm(range(N_tst)):\n",
    "        # try:\n",
    "        sp_gt[j,x_tst_knn_gt[j,-1]] = (y_trn[x_tst_knn_gt[j,-1]] == y_tst[j])/N\n",
    "        # except:\n",
    "        #     pdb.set_trace()\n",
    "        for i in np.arange(N-2,-1,-1):\n",
    "            sp_gt[j,x_tst_knn_gt[j,i]] = sp_gt[j,x_tst_knn_gt[j,i+1]] +\\\n",
    "                           (int(y_trn[x_tst_knn_gt[j,i]] == y_tst[j]) -\n",
    "                            int(y_trn[x_tst_knn_gt[j,i+1]] == y_tst[j]))/K* min([K,i+1])/(i+1)\n",
    "            # if j == 404 and i == 0:\n",
    "            #     pdb.set_trace()\n",
    "    return sp_gt"
   ]
  },
  {
   "cell_type": "code",
   "execution_count": 13,
   "metadata": {},
   "outputs": [
    {
     "data": {
      "application/vnd.jupyter.widget-view+json": {
       "model_id": "64a0d088aa3e4ca48e05c11ecf3c6e81",
       "version_major": 2,
       "version_minor": 0
      },
      "text/plain": [
       "HBox(children=(IntProgress(value=0), HTML(value='')))"
      ]
     },
     "metadata": {},
     "output_type": "display_data"
    },
    {
     "name": "stdout",
     "output_type": "stream",
     "text": [
      "\n"
     ]
    },
    {
     "data": {
      "application/vnd.jupyter.widget-view+json": {
       "model_id": "4864e62a216a46d592909f2768366e68",
       "version_major": 2,
       "version_minor": 0
      },
      "text/plain": [
       "HBox(children=(IntProgress(value=0, max=1000), HTML(value='')))"
      ]
     },
     "metadata": {},
     "output_type": "display_data"
    },
    {
     "name": "stdout",
     "output_type": "stream",
     "text": [
      "\n",
      "483.01669359207153\n",
      "6093.057049274445\n"
     ]
    }
   ],
   "source": [
    "start = time.time()\n",
    "sp_gt = compute_single_unweighted_knn_class_shapley(x_trn, y_trn, x_tst_knn_gt, y_tst, 1)\n",
    "end2 = time.time() - start\n",
    "\n",
    "start = time.time()\n",
    "val_sp_gt = compute_single_unweighted_knn_class_shapley(x_trn, y_trn, x_val_knn_gt, y_val, 1)\n",
    "val_end2 = time.time() - start\n",
    "\n",
    "print(end2)\n",
    "print(val_end2)"
   ]
  },
  {
   "cell_type": "code",
   "execution_count": 14,
   "metadata": {},
   "outputs": [
    {
     "name": "stdout",
     "output_type": "stream",
     "text": [
      "11.348913035392762\n",
      "12.810023628234863\n"
     ]
    }
   ],
   "source": [
    "print((end1 + end2) / 100)\n",
    "print((val_end1 + val_end2) / 1000)"
   ]
  },
  {
   "cell_type": "code",
   "execution_count": 15,
   "metadata": {},
   "outputs": [],
   "source": [
    "np.save('tst_exact_sp_gt', sp_gt)\n",
    "np.save('val_exact_sp_gt', val_sp_gt)"
   ]
  },
  {
   "cell_type": "code",
   "execution_count": 16,
   "metadata": {},
   "outputs": [],
   "source": [
    "def get_contrast(x_trn):\n",
    "    num_cores = 8\n",
    "    mc_num = 5\n",
    "    eps = 0.1\n",
    "    n_trn = x_trn.shape[0]\n",
    "    K = int(1 / eps)\n",
    "    contrast = np.zeros((mc_num))\n",
    "    dist_rand = np.zeros(mc_num)\n",
    "    dist_knn = np.zeros((mc_num))\n",
    "\n",
    "    def compute_distance(i_q, query,x_trn,n_trn,K):\n",
    "        dist_to_random = np.zeros(n_trn)\n",
    "        for i_trn in range(n_trn):\n",
    "            dist_to_random[i_trn] = np.linalg.norm(query - x_trn[i_trn, :], 2)\n",
    "        dist_to_random_avg = np.mean(dist_to_random)\n",
    "        dist_to_KNN = np.sort(dist_to_random)[:K]\n",
    "        # first_K_ind = np.argpartition(dist_to_random, K)[:K]\n",
    "        # dist_to_KNN= np.sort(dist_to_random[first_K_ind])\n",
    "        # print(dist_to_random[dist_to_KNN[i_q, :].astype(int)])\n",
    "        if i_q % 100 == 0:\n",
    "            print(i_q)\n",
    "        return dist_to_random_avg,dist_to_KNN\n",
    "\n",
    "    def estimate_contrast(x_trn,query,K):\n",
    "        # estimate empirical contrast\n",
    "        n_trn = x_trn.shape[0]\n",
    "        n_q = query.shape[0]\n",
    "        # dist_to_random_avg = np.zeros(n_q)\n",
    "        # dist_to_KNN = np.zeros((n_q,K))\n",
    "        from joblib import Parallel, delayed\n",
    "        result = \\\n",
    "            Parallel(n_jobs=num_cores)(delayed(compute_distance)(i_q,query[i_q,:],x_trn,n_trn,K) for i_q in range(n_q))\n",
    "        dist_to_random_avg = np.array([result[i][0] for i in range(n_q)])\n",
    "        dist_to_KKN = np.array([result[i][1] for i in range(n_q)])\n",
    "        assert dist_to_KKN.shape[0] == n_q\n",
    "        dist_to_KNN_avg_q = np.mean(dist_to_KKN,axis=0)\n",
    "        dist_to_random_avg_avg = np.mean(dist_to_random_avg)\n",
    "        contrast =dist_to_random_avg_avg/dist_to_KNN_avg_q\n",
    "        return dist_to_random_avg_avg,dist_to_KNN_avg_q,contrast\n",
    "\n",
    "    contrast = []\n",
    "    dist_rand = []\n",
    "    dist_knn = []\n",
    "    for mc_i in range(mc_num):\n",
    "        start = time.time()\n",
    "        sample_ind_trn = np.random.choice(np.arange(n_trn),int(n_trn/5*4),replace=False).astype(int)\n",
    "        sample_ind_query = np.array(list(set(np.arange(n_trn).astype(int).tolist()) - set(sample_ind_trn.tolist()))).astype(int)\n",
    "        # if len(sample_ind_query) + len(sample_ind_trn) != n_trn:\n",
    "        #     print('dimension does not match')\n",
    "        dist_rand_, dist_knn_, contrast_ = estimate_contrast(x_trn[sample_ind_trn,:],x_trn[sample_ind_query,:],K)\n",
    "        dist_rand.append(dist_rand_)\n",
    "        dist_knn.append(dist_knn_)\n",
    "        contrast.append(contrast_)\n",
    "\n",
    "        print('monte carlo iteration%s ' % mc_i)\n",
    "        elapsed_time = time.time() - start\n",
    "        print('elapsed time is %s' % elapsed_time)\n",
    "    dist_knn = np.array(dist_knn)\n",
    "    contrast = np.array(contrast)\n",
    "    dist_rand = np.array(dist_rand)\n",
    "    np.save('eps0.1/dist_rand',dist_rand)\n",
    "    np.save('eps0.1/dist_knn',dist_knn)\n",
    "    np.save('eps0.1/contrast',contrast)"
   ]
  },
  {
   "cell_type": "code",
   "execution_count": 17,
   "metadata": {},
   "outputs": [
    {
     "name": "stdout",
     "output_type": "stream",
     "text": [
      "monte carlo iteration0 \n",
      "elapsed time is 4.813538074493408\n",
      "monte carlo iteration1 \n",
      "elapsed time is 0.6082043647766113\n",
      "monte carlo iteration2 \n",
      "elapsed time is 0.6789493560791016\n",
      "monte carlo iteration3 \n",
      "elapsed time is 0.6217498779296875\n",
      "monte carlo iteration4 \n",
      "elapsed time is 0.6084952354431152\n"
     ]
    }
   ],
   "source": [
    "K = 10\n",
    "get_contrast(x_val)\n",
    "dist_rand = np.load('eps0.1/dist_rand.npy')\n",
    "contrast = np.load('eps0.1/contrast.npy')\n",
    "dist_knn = np.load('eps0.1/dist_knn.npy')\n",
    "\n",
    "dist_rand = np.mean(dist_rand, axis=0)\n",
    "contrast = np.mean(contrast, axis=0)[K-1]\n",
    "dist_knn = np.mean(dist_knn, axis=0)[K-1]"
   ]
  },
  {
   "cell_type": "code",
   "execution_count": 18,
   "metadata": {},
   "outputs": [],
   "source": [
    "search_range = np.arange(1e-3, 10, 1e-3)\n",
    "from scipy.stats import norm\n",
    "\n",
    "\n",
    "def f_h(x, r):\n",
    "    y = 1-2*norm.cdf(-r/x) - 2/(np.sqrt(2*np.pi)*r/x)*(1-np.exp(-(r**2/(2*(x**2)))))\n",
    "    return y\n",
    "\n",
    "def g_unnormalize(dist_rand,dist_knn,r):\n",
    "    y = np.log(f_h(dist_knn,r))/np.log(f_h(dist_rand,r))\n",
    "    return y\n",
    "\n",
    "def g_normalize(contrast,r):\n",
    "    y = np.log(f_h(1/contrast,r))/np.log(f_h(1,r))\n",
    "    return y\n",
    "\n",
    "def find_best_r_normalize(search_range,contrast):\n",
    "    y = g_normalize(contrast,search_range)\n",
    "    min_ind = np.argmin(y)\n",
    "    return search_range[min_ind]\n",
    "\n",
    "def find_best_r_unnormalize(search_range,dist_rand,dist_knn):\n",
    "    y = g_unnormalize(dist_rand,dist_knn,search_range)\n",
    "    min_ind = np.argmin(y)\n",
    "    return search_range[min_ind]\n",
    "\n",
    "r_vec_normalize = find_best_r_normalize(search_range, contrast)\n",
    "g_vec = g_normalize(contrast, r_vec_normalize)"
   ]
  },
  {
   "cell_type": "code",
   "execution_count": 19,
   "metadata": {},
   "outputs": [
    {
     "data": {
      "image/png": "[encoded data removed]",
      "text/plain": [
       "<Figure size 432x288 with 1 Axes>"
      ]
     },
     "metadata": {
      "needs_background": "light"
     },
     "output_type": "display_data"
    }
   ],
   "source": [
    "%matplotlib inline\n",
    "import matplotlib.pyplot as plt\n",
    "\n",
    "# plot g(C_K) vs r, we want g(C_k) to be small\n",
    "g = g_normalize(contrast,search_range)\n",
    "plt.figure()\n",
    "plt.plot(search_range,g)\n",
    "plt.show()\n"
   ]
  },
  {
   "cell_type": "code",
   "execution_count": 21,
   "metadata": {},
   "outputs": [],
   "source": [
    "# search range, find r that minimize g, shape should be 类似 convex\n",
    "\n",
    "# np.save('data/mnist_mini_selected_param_r_' + str(K) + '.npy', r_vec_normalize)\n",
    "# np.save('data/mnist_mini_selected_param_g_' + str(K) + '.npy', g_vec)\n",
    "np.save('eps0.1/selected_param_r_' + str(K) + '.npy', r_vec_normalize)\n",
    "np.save('eps0.1/selected_param_g_' + str(K) + '.npy', g_vec)"
   ]
  },
  {
   "cell_type": "code",
   "execution_count": 22,
   "metadata": {},
   "outputs": [
    {
     "name": "stdout",
     "output_type": "stream",
     "text": [
      "17\n"
     ]
    }
   ],
   "source": [
    "t = r_vec_normalize\n",
    "n_trn = len(x_trn)\n",
    "n_hash_table = 10 # 如果 estimation error 高于 0.01\n",
    "n_hash_bit = int(np.ceil(np.log(n_trn)*0.5/ np.log(1 / f_h(1, t))))\n",
    "print(n_hash_bit)"
   ]
  },
  {
   "cell_type": "code",
   "execution_count": 29,
   "metadata": {},
   "outputs": [],
   "source": [
    "import numpy as np\n",
    "import pdb\n",
    "\n",
    "\n",
    "def lsh_function(t,x,w,b):\n",
    "    # x is 1-d array\n",
    "    h = np.floor((np.dot(w,x)+b)/t).astype(int)\n",
    "    return h\n",
    "\n",
    "\n",
    "class LSH:\n",
    "    def __init__(self,n_hash_bit,n_hash_table,x_trn,y_trn,t=0.1):\n",
    "        self.n_hash_bit = n_hash_bit\n",
    "        self.n_hash_table = n_hash_table\n",
    "        self.t = t # width of projections\n",
    "        self.x_trn = x_trn\n",
    "        self.y_trn = y_trn\n",
    "        self.N, self.dim = x_trn.shape\n",
    "        # draw w from a normal distribution (2-stable)\n",
    "        self.w = np.random.normal(0, 1, (n_hash_table, n_hash_bit, self.dim))\n",
    "        # draw b from U[0,t]\n",
    "        self.b = np.random.uniform(0, self.t, (n_hash_table, n_hash_bit))\n",
    "        self.x_trn_hash = [dict() for i in range(n_hash_table)]\n",
    "        for i in tqdm(range(self.N)):\n",
    "            hash_code_all = lsh_function(self.t, x_trn[i] / dist_rand, self.w, self.b)\n",
    "            for l in range(n_hash_table):\n",
    "                hash_code_trn = '.'.join(map(str, hash_code_all[l, :]))\n",
    "                if hash_code_trn in self.x_trn_hash[l].keys():\n",
    "                    self.x_trn_hash[l][hash_code_trn].append(i)\n",
    "                else:\n",
    "                    self.x_trn_hash[l][hash_code_trn] = [i]\n",
    "#             if i % 1000 == 0:\n",
    "#                 print('build hash %s'%i)\n",
    "\n",
    "    def get_approx_KNN(self,x_tst,K):\n",
    "        N_tst = x_tst.shape[0]\n",
    "        x_tst_knn = np.ones((N_tst, K)) * (-1)\n",
    "        nns_len = np.zeros(N_tst)\n",
    "        for i_tst in tqdm(range(N_tst)):\n",
    "            nns = []\n",
    "            for l in range(self.n_hash_table):\n",
    "                hash_code_int = lsh_function(self.t, x_tst[i_tst] / dist_rand, self.w[l, :, :], self.b[l, :])\n",
    "                hash_code_test = '.'.join(map(str, hash_code_int))\n",
    "                if hash_code_test in self.x_trn_hash[l].keys():\n",
    "                    nns += self.x_trn_hash[l][hash_code_test]\n",
    "            nns = np.unique(nns)\n",
    "            num_collide_elements = len(nns)\n",
    "            if len(nns) > 0:\n",
    "                dist = [np.linalg.norm(self.x_trn[i] / dist_rand - x_tst[i_tst] / dist_rand, 2) for i in nns]\n",
    "                dist_min_ind = nns[np.argsort(dist)]\n",
    "                if num_collide_elements < K:\n",
    "                    x_tst_knn[i_tst, :num_collide_elements] = dist_min_ind[:num_collide_elements]\n",
    "                else:\n",
    "                    x_tst_knn[i_tst, :] = dist_min_ind[:K]\n",
    "            # pdb.set_trace()\n",
    "            nns_len[i_tst] = len(nns)\n",
    "            if i_tst % 100 == 0:\n",
    "                print('get approximate knn %s'%i_tst)\n",
    "        return x_tst_knn.astype(int),nns_len\n",
    "\n",
    "\n",
    "    def compute_approx_shapley(self,x_tst_knn,y_tst,K):\n",
    "        N_tst,K_star = x_tst_knn.shape\n",
    "        # flag_sufficient = (x_tst_knn[:,-1]>=0)\n",
    "        sp_approx = np.zeros((N_tst,self.N))\n",
    "        for j in tqdm(range(N_tst)):\n",
    "            non_nan_index = np.where(x_tst_knn[j,:]>=0)[0]\n",
    "            if len(non_nan_index)== 0:\n",
    "                continue\n",
    "            K_tot = non_nan_index[-1]\n",
    "            if K_tot == self.N:\n",
    "                sp_approx[j, x_tst_knn[j, self.N - 1]] = equal(self.y_trn[x_tst_knn[j, self.N - 1]], y_tst[j]) / self.N\n",
    "            for i in np.arange(K_tot - 1, -1, -1):\n",
    "                sp_approx[j, x_tst_knn[j, i]] = sp_approx[j, x_tst_knn[j, i+1]] + (\n",
    "                        equal(self.y_trn[x_tst_knn[j, i]], y_tst[j]) - equal(\n",
    "                    self.y_trn[x_tst_knn[j, i + 1]], y_tst[j])) / K * min([K, i + 1]) / (i + 1)\n",
    "\n",
    "\n",
    "\n",
    "        return sp_approx"
   ]
  },
  {
   "cell_type": "code",
   "execution_count": 36,
   "metadata": {},
   "outputs": [],
   "source": [
    "def equal(a, b):\n",
    "    return a == b\n",
    "    \n",
    "def fine_tune(n_hash_table=10, alpha=0.5, file=False):\n",
    "    t = r_vec_normalize\n",
    "    n_trn = len(x_trn)\n",
    "    n_hash_bit = int(np.ceil(np.log(n_trn)*alpha/ np.log(1 / f_h(1, t))))\n",
    "    if file is True:\n",
    "        print(n_hash_bit, file=open('eps0.1/log.txt', 'a'))\n",
    "    else:\n",
    "        print(n_hash_bit)\n",
    "    \n",
    "    start = time.time()\n",
    "    lsh = LSH(n_hash_bit=n_hash_bit, n_hash_table=n_hash_table, x_trn=x_trn, y_trn=y_trn, t=t)\n",
    "    runtime_build_hash = time.time() - start\n",
    "    if file is True:\n",
    "        print(runtime_build_hash, file=open('eps0.1/log.txt', 'a'))\n",
    "    else:\n",
    "        print(runtime_build_hash)\n",
    "    \n",
    "    K_star = 10\n",
    "    start = time.time()\n",
    "    x_val_knn_approx, nns_vec = lsh.get_approx_KNN(x_val, K_star)\n",
    "    runtime_query = time.time() - start\n",
    "    if file is True:\n",
    "        print(runtime_query, file=open('eps0.1/log.txt', 'a'))\n",
    "    else:\n",
    "        print(runtime_query)\n",
    "    \n",
    "    K = 1\n",
    "    start = time.time()\n",
    "    sp_approx = lsh.compute_approx_shapley(x_val_knn_approx, y_val, K)\n",
    "    runtime_approx_value = time.time() - start\n",
    "    if file is True:\n",
    "        print('it takes %s to get appox knn value' % runtime_approx_value, file=open('eps0.1/log.txt', 'a'))\n",
    "    else:\n",
    "        print('it takes %s to get appox knn value' % runtime_approx_value)\n",
    "    \n",
    "    sp_err_inf_val= np.linalg.norm(val_sp_gt - sp_approx,ord=np.inf, axis=1)\n",
    "    if file is True:\n",
    "        print('max error %s'% np.percentile(sp_err_inf_val,90), file=open('eps0.1/log.txt', 'a'))\n",
    "    else:\n",
    "        print('max error %s'% np.percentile(sp_err_inf_val,90))\n",
    "    return lsh"
   ]
  },
  {
   "cell_type": "code",
   "execution_count": 37,
   "metadata": {},
   "outputs": [],
   "source": [
    "def fine_tune_test(n_hash_table=10, lsh=None, file=False):\n",
    "    if not lsh:\n",
    "        t = r_vec_normalize\n",
    "        n_trn = len(x_trn)\n",
    "        n_hash_bit = int(np.ceil(np.log(n_trn)*0.3/ np.log(1 / f_h(1, t))))\n",
    "        print(n_hash_bit)\n",
    "    \n",
    "        start = time.time()\n",
    "        lsh = LSH(n_hash_bit=n_hash_bit, n_hash_table=n_hash_table, x_trn=x_trn_norm, y_trn=y_trn, t=t)\n",
    "        runtime_build_hash = time.time() - start\n",
    "        print(runtime_build_hash)\n",
    "    \n",
    "    K_star = 10\n",
    "    start = time.time()\n",
    "    x_tst_knn_approx, nns_vec = lsh.get_approx_KNN(x_tst, K_star)\n",
    "    runtime_query = time.time() - start\n",
    "    if file is True:\n",
    "        print(runtime_query, file=open('eps0.1/log.txt', 'a'))\n",
    "    else:\n",
    "        print(runtime_query)\n",
    "    \n",
    "    K = 1\n",
    "    start = time.time()\n",
    "    sp_approx = lsh.compute_approx_shapley(x_tst_knn_approx, y_tst, K)\n",
    "    runtime_approx_value = time.time() - start\n",
    "    if file is True:\n",
    "        print('it takes %s to get appox knn value' % runtime_approx_value, file=open('eps0.1/log.txt', 'a'))\n",
    "    else:\n",
    "        print('it takes %s to get appox knn value' % runtime_approx_value)\n",
    "    \n",
    "    sp_err_inf_val= np.linalg.norm(sp_gt - sp_approx,ord=np.inf, axis=1)\n",
    "    if file is True:\n",
    "        print('max error %s'% np.percentile(sp_err_inf_val,90), file=open('eps0.1/log.txt', 'a'))\n",
    "    else:\n",
    "        print('max error %s'% np.percentile(sp_err_inf_val,90))\n",
    "    return sp_approx, nns_vec"
   ]
  },
  {
   "cell_type": "code",
   "execution_count": 38,
   "metadata": {},
   "outputs": [
    {
     "data": {
      "application/vnd.jupyter.widget-view+json": {
       "model_id": "681fcdb070df452681600788ad39f77d",
       "version_major": 2,
       "version_minor": 0
      },
      "text/plain": [
       "HBox(children=(IntProgress(value=0, max=996559), HTML(value='')))"
      ]
     },
     "metadata": {},
     "output_type": "display_data"
    },
    {
     "name": "stdout",
     "output_type": "stream",
     "text": [
      "\n"
     ]
    },
    {
     "data": {
      "application/vnd.jupyter.widget-view+json": {
       "model_id": "0df4f943608f4688b0506db4b59d9d99",
       "version_major": 2,
       "version_minor": 0
      },
      "text/plain": [
       "HBox(children=(IntProgress(value=0, max=1000), HTML(value='')))"
      ]
     },
     "metadata": {},
     "output_type": "display_data"
    },
    {
     "name": "stdout",
     "output_type": "stream",
     "text": [
      "get approximate knn 0\n",
      "get approximate knn 100\n",
      "get approximate knn 200\n",
      "get approximate knn 300\n",
      "get approximate knn 400\n",
      "get approximate knn 500\n",
      "get approximate knn 600\n",
      "get approximate knn 700\n",
      "get approximate knn 800\n",
      "get approximate knn 900\n",
      "\n"
     ]
    },
    {
     "data": {
      "application/vnd.jupyter.widget-view+json": {
       "model_id": "6934cddad85a4e55bd6d656212e30ca6",
       "version_major": 2,
       "version_minor": 0
      },
      "text/plain": [
       "HBox(children=(IntProgress(value=0, max=1000), HTML(value='')))"
      ]
     },
     "metadata": {},
     "output_type": "display_data"
    },
    {
     "name": "stdout",
     "output_type": "stream",
     "text": [
      "\n"
     ]
    },
    {
     "data": {
      "application/vnd.jupyter.widget-view+json": {
       "model_id": "47986d7dfe9740d1bca19a869dda1db1",
       "version_major": 2,
       "version_minor": 0
      },
      "text/plain": [
       "HBox(children=(IntProgress(value=0), HTML(value='')))"
      ]
     },
     "metadata": {},
     "output_type": "display_data"
    },
    {
     "name": "stdout",
     "output_type": "stream",
     "text": [
      "get approximate knn 0\n",
      "\n"
     ]
    },
    {
     "data": {
      "application/vnd.jupyter.widget-view+json": {
       "model_id": "bab338bb9e774bdf92d40f4956ed6132",
       "version_major": 2,
       "version_minor": 0
      },
      "text/plain": [
       "HBox(children=(IntProgress(value=0), HTML(value='')))"
      ]
     },
     "metadata": {},
     "output_type": "display_data"
    },
    {
     "name": "stdout",
     "output_type": "stream",
     "text": [
      "\n"
     ]
    }
   ],
   "source": [
    "lsh_10_038 = fine_tune(10, 0.38, file=True)\n",
    "sp_approx_10_038, nns_vec_10_038 = fine_tune_test(10, lsh_10_038, file=True)"
   ]
  },
  {
   "cell_type": "code",
   "execution_count": null,
   "metadata": {},
   "outputs": [
    {
     "data": {
      "application/vnd.jupyter.widget-view+json": {
       "model_id": "8d7e2c56752446b5a8616a0b66369fd7",
       "version_major": 2,
       "version_minor": 0
      },
      "text/plain": [
       "HBox(children=(IntProgress(value=0, max=996559), HTML(value='')))"
      ]
     },
     "metadata": {},
     "output_type": "display_data"
    },
    {
     "name": "stdout",
     "output_type": "stream",
     "text": [
      "\n"
     ]
    },
    {
     "data": {
      "application/vnd.jupyter.widget-view+json": {
       "model_id": "8abb0f9b49624f45986536a0498983fb",
       "version_major": 2,
       "version_minor": 0
      },
      "text/plain": [
       "HBox(children=(IntProgress(value=0, max=1000), HTML(value='')))"
      ]
     },
     "metadata": {},
     "output_type": "display_data"
    },
    {
     "name": "stdout",
     "output_type": "stream",
     "text": [
      "get approximate knn 0\n"
     ]
    }
   ],
   "source": [
    "lsh_50_038 = fine_tune(50, 0.38, file=True)\n",
    "sp_approx_50_038, nns_vec_50_038 = fine_tune_test(50, lsh_50_038, file=True)"
   ]
  },
  {
   "cell_type": "code",
   "execution_count": null,
   "metadata": {},
   "outputs": [],
   "source": [
    "lsh_80_038 = fine_tune(80, 0.38, file=True)\n",
    "sp_approx_80_038, nns_vec_80_038 = fine_tune_test(80, lsh_80_038, file=True)"
   ]
  },
  {
   "cell_type": "code",
   "execution_count": null,
   "metadata": {},
   "outputs": [],
   "source": [
    "lsh_80_04 = fine_tune(80, 0.4, file=True)\n",
    "sp_approx_80_04, nns_vec_80_04 = fine_tune_test(80, lsh_80_04, file=True)"
   ]
  },
  {
   "cell_type": "code",
   "execution_count": null,
   "metadata": {},
   "outputs": [],
   "source": [
    "lsh_150_05 = fine_tune(150, 0.5, file=True)\n",
    "sp_approx_150_05, nns_vec_150_05 = fine_tune_test(150, lsh_150_05, file=True)"
   ]
  },
  {
   "cell_type": "code",
   "execution_count": 43,
   "metadata": {},
   "outputs": [
    {
     "data": {
      "text/plain": [
       "1.2163584319205043"
      ]
     },
     "execution_count": 43,
     "metadata": {},
     "output_type": "execute_result"
    }
   ],
   "source": [
    "contrast"
   ]
  },
  {
   "cell_type": "code",
   "execution_count": 44,
   "metadata": {},
   "outputs": [
    {
     "data": {
      "application/vnd.jupyter.widget-view+json": {
       "model_id": "0ab1a03ae1244cf8b5b0da7dd2ceff80",
       "version_major": 2,
       "version_minor": 0
      },
      "text/plain": [
       "HBox(children=(IntProgress(value=0, max=996559), HTML(value='')))"
      ]
     },
     "metadata": {},
     "output_type": "display_data"
    },
    {
     "name": "stdout",
     "output_type": "stream",
     "text": [
      "\n"
     ]
    },
    {
     "data": {
      "application/vnd.jupyter.widget-view+json": {
       "model_id": "c578b67e06ce47e5bcdf9ea71064648f",
       "version_major": 2,
       "version_minor": 0
      },
      "text/plain": [
       "HBox(children=(IntProgress(value=0, max=1000), HTML(value='')))"
      ]
     },
     "metadata": {},
     "output_type": "display_data"
    },
    {
     "name": "stdout",
     "output_type": "stream",
     "text": [
      "get approximate knn 0\n",
      "get approximate knn 100\n",
      "get approximate knn 200\n",
      "get approximate knn 300\n",
      "get approximate knn 400\n",
      "get approximate knn 500\n",
      "get approximate knn 600\n",
      "get approximate knn 700\n",
      "get approximate knn 800\n",
      "get approximate knn 900\n",
      "\n"
     ]
    },
    {
     "data": {
      "application/vnd.jupyter.widget-view+json": {
       "model_id": "23775afca32b44b99bc8450ee1846097",
       "version_major": 2,
       "version_minor": 0
      },
      "text/plain": [
       "HBox(children=(IntProgress(value=0, max=1000), HTML(value='')))"
      ]
     },
     "metadata": {},
     "output_type": "display_data"
    },
    {
     "name": "stdout",
     "output_type": "stream",
     "text": [
      "\n"
     ]
    },
    {
     "data": {
      "application/vnd.jupyter.widget-view+json": {
       "model_id": "b6c69830527544e28da2e3318fbe393b",
       "version_major": 2,
       "version_minor": 0
      },
      "text/plain": [
       "HBox(children=(IntProgress(value=0), HTML(value='')))"
      ]
     },
     "metadata": {},
     "output_type": "display_data"
    },
    {
     "name": "stdout",
     "output_type": "stream",
     "text": [
      "get approximate knn 0\n",
      "\n"
     ]
    },
    {
     "data": {
      "application/vnd.jupyter.widget-view+json": {
       "model_id": "7cbefb22162740709af2b202c1fc431e",
       "version_major": 2,
       "version_minor": 0
      },
      "text/plain": [
       "HBox(children=(IntProgress(value=0), HTML(value='')))"
      ]
     },
     "metadata": {},
     "output_type": "display_data"
    },
    {
     "name": "stdout",
     "output_type": "stream",
     "text": [
      "\n"
     ]
    }
   ],
   "source": [
    "lsh_200_05 = fine_tune(200, 0.5, file=True)\n",
    "sp_approx_200_05, nns_vec_200_05 = fine_tune_test(200, lsh_200_05, file=True)"
   ]
  },
  {
   "cell_type": "code",
   "execution_count": null,
   "metadata": {},
   "outputs": [
    {
     "data": {
      "application/vnd.jupyter.widget-view+json": {
       "model_id": "c0e3534a908b4ff1a67d6aed23236558",
       "version_major": 2,
       "version_minor": 0
      },
      "text/plain": [
       "HBox(children=(IntProgress(value=0, max=996559), HTML(value='')))"
      ]
     },
     "metadata": {},
     "output_type": "display_data"
    },
    {
     "name": "stdout",
     "output_type": "stream",
     "text": [
      "\n"
     ]
    },
    {
     "data": {
      "application/vnd.jupyter.widget-view+json": {
       "model_id": "4d9b49596afd47d48184bf2d2202d9b4",
       "version_major": 2,
       "version_minor": 0
      },
      "text/plain": [
       "HBox(children=(IntProgress(value=0, max=1000), HTML(value='')))"
      ]
     },
     "metadata": {},
     "output_type": "display_data"
    },
    {
     "name": "stdout",
     "output_type": "stream",
     "text": [
      "get approximate knn 0\n",
      "get approximate knn 100\n",
      "get approximate knn 200\n",
      "get approximate knn 300\n"
     ]
    }
   ],
   "source": [
    "lsh_90_04 = fine_tune(90, 0.4, file=True)\n",
    "sp_approx_90_04, nns_vec_90_04 = fine_tune_test(90, lsh_90_04, file=True)"
   ]
  },
  {
   "cell_type": "code",
   "execution_count": null,
   "metadata": {},
   "outputs": [],
   "source": [
    "lsh_60_038 = fine_tune(60, 0.38, file=True)\n",
    "sp_approx_60_038, nns_vec_60_038 = fine_tune_test(60, lsh_60_038, file=True)"
   ]
  },
  {
   "cell_type": "code",
   "execution_count": 47,
   "metadata": {},
   "outputs": [
    {
     "data": {
      "application/vnd.jupyter.widget-view+json": {
       "model_id": "6cf9209c392e4f3d8e3369043d750284",
       "version_major": 2,
       "version_minor": 0
      },
      "text/plain": [
       "HBox(children=(IntProgress(value=0, max=996559), HTML(value='')))"
      ]
     },
     "metadata": {},
     "output_type": "display_data"
    },
    {
     "name": "stdout",
     "output_type": "stream",
     "text": [
      "\n"
     ]
    },
    {
     "data": {
      "application/vnd.jupyter.widget-view+json": {
       "model_id": "0c96eefa56ab4c208763619c4115ea74",
       "version_major": 2,
       "version_minor": 0
      },
      "text/plain": [
       "HBox(children=(IntProgress(value=0, max=1000), HTML(value='')))"
      ]
     },
     "metadata": {},
     "output_type": "display_data"
    },
    {
     "name": "stdout",
     "output_type": "stream",
     "text": [
      "get approximate knn 0\n",
      "get approximate knn 100\n",
      "get approximate knn 200\n",
      "get approximate knn 300\n",
      "get approximate knn 400\n",
      "get approximate knn 500\n",
      "get approximate knn 600\n",
      "get approximate knn 700\n",
      "get approximate knn 800\n",
      "get approximate knn 900\n",
      "\n"
     ]
    },
    {
     "data": {
      "application/vnd.jupyter.widget-view+json": {
       "model_id": "635cc4212b39467ea2fbf07cfe500db0",
       "version_major": 2,
       "version_minor": 0
      },
      "text/plain": [
       "HBox(children=(IntProgress(value=0, max=1000), HTML(value='')))"
      ]
     },
     "metadata": {},
     "output_type": "display_data"
    },
    {
     "name": "stdout",
     "output_type": "stream",
     "text": [
      "\n"
     ]
    },
    {
     "data": {
      "application/vnd.jupyter.widget-view+json": {
       "model_id": "7264ff86239b44b5941067941cf4ea07",
       "version_major": 2,
       "version_minor": 0
      },
      "text/plain": [
       "HBox(children=(IntProgress(value=0), HTML(value='')))"
      ]
     },
     "metadata": {},
     "output_type": "display_data"
    },
    {
     "name": "stdout",
     "output_type": "stream",
     "text": [
      "get approximate knn 0\n",
      "\n"
     ]
    },
    {
     "data": {
      "application/vnd.jupyter.widget-view+json": {
       "model_id": "c76dec220a4649218605fe20bd6a6e41",
       "version_major": 2,
       "version_minor": 0
      },
      "text/plain": [
       "HBox(children=(IntProgress(value=0), HTML(value='')))"
      ]
     },
     "metadata": {},
     "output_type": "display_data"
    },
    {
     "name": "stdout",
     "output_type": "stream",
     "text": [
      "\n"
     ]
    }
   ],
   "source": [
    "lsh_95_04 = fine_tune(95, 0.4, file=True)\n",
    "sp_approx_95_04, nns_vec_95_04 = fine_tune_test(95, lsh_95_04, file=True)"
   ]
  },
  {
   "cell_type": "code",
   "execution_count": 48,
   "metadata": {},
   "outputs": [
    {
     "data": {
      "application/vnd.jupyter.widget-view+json": {
       "model_id": "eb6cb781183b4782a81b9d96cff72ca2",
       "version_major": 2,
       "version_minor": 0
      },
      "text/plain": [
       "HBox(children=(IntProgress(value=0, max=996559), HTML(value='')))"
      ]
     },
     "metadata": {},
     "output_type": "display_data"
    },
    {
     "name": "stdout",
     "output_type": "stream",
     "text": [
      "\n"
     ]
    },
    {
     "data": {
      "application/vnd.jupyter.widget-view+json": {
       "model_id": "808fcfb612c9439f9ac368d2a647c885",
       "version_major": 2,
       "version_minor": 0
      },
      "text/plain": [
       "HBox(children=(IntProgress(value=0, max=1000), HTML(value='')))"
      ]
     },
     "metadata": {},
     "output_type": "display_data"
    },
    {
     "name": "stdout",
     "output_type": "stream",
     "text": [
      "get approximate knn 0\n",
      "get approximate knn 100\n",
      "get approximate knn 200\n",
      "get approximate knn 300\n",
      "get approximate knn 400\n",
      "get approximate knn 500\n",
      "get approximate knn 600\n",
      "get approximate knn 700\n",
      "get approximate knn 800\n",
      "get approximate knn 900\n",
      "\n"
     ]
    },
    {
     "data": {
      "application/vnd.jupyter.widget-view+json": {
       "model_id": "84ec186c0d5348d796d67b27762b278a",
       "version_major": 2,
       "version_minor": 0
      },
      "text/plain": [
       "HBox(children=(IntProgress(value=0, max=1000), HTML(value='')))"
      ]
     },
     "metadata": {},
     "output_type": "display_data"
    },
    {
     "name": "stdout",
     "output_type": "stream",
     "text": [
      "\n"
     ]
    },
    {
     "data": {
      "application/vnd.jupyter.widget-view+json": {
       "model_id": "c44cd37b38fd4e55b100e65cdf574c88",
       "version_major": 2,
       "version_minor": 0
      },
      "text/plain": [
       "HBox(children=(IntProgress(value=0), HTML(value='')))"
      ]
     },
     "metadata": {},
     "output_type": "display_data"
    },
    {
     "name": "stdout",
     "output_type": "stream",
     "text": [
      "get approximate knn 0\n",
      "\n"
     ]
    },
    {
     "data": {
      "application/vnd.jupyter.widget-view+json": {
       "model_id": "a14f374cd18140b294de2d91c9f446d9",
       "version_major": 2,
       "version_minor": 0
      },
      "text/plain": [
       "HBox(children=(IntProgress(value=0), HTML(value='')))"
      ]
     },
     "metadata": {},
     "output_type": "display_data"
    },
    {
     "name": "stdout",
     "output_type": "stream",
     "text": [
      "\n"
     ]
    }
   ],
   "source": [
    "lsh_65_038 = fine_tune(65, 0.38, file=True)\n",
    "sp_approx_65_038, nns_vec_65_038 = fine_tune_test(65, lsh_65_038, file=True)"
   ]
  },
  {
   "cell_type": "code",
   "execution_count": null,
   "metadata": {},
   "outputs": [
    {
     "data": {
      "application/vnd.jupyter.widget-view+json": {
       "model_id": "d3ed42a52659475fac18b86247dd1f07",
       "version_major": 2,
       "version_minor": 0
      },
      "text/plain": [
       "HBox(children=(IntProgress(value=0, max=996559), HTML(value='')))"
      ]
     },
     "metadata": {},
     "output_type": "display_data"
    }
   ],
   "source": [
    "lsh_190_05 = fine_tune(190, 0.5, file=True)\n",
    "sp_approx_190_05, nns_vec_190_05 = fine_tune_test(190, lsh_190_05, file=True)"
   ]
  },
  {
   "cell_type": "code",
   "execution_count": 51,
   "metadata": {},
   "outputs": [
    {
     "data": {
      "application/vnd.jupyter.widget-view+json": {
       "model_id": "8789926dde7c46bea620ea1cc82dbed5",
       "version_major": 2,
       "version_minor": 0
      },
      "text/plain": [
       "HBox(children=(IntProgress(value=0, max=996559), HTML(value='')))"
      ]
     },
     "metadata": {},
     "output_type": "display_data"
    },
    {
     "data": {
      "application/vnd.jupyter.widget-view+json": {
       "model_id": "24eb8ccbfcce4b70806b7f160d387d22",
       "version_major": 2,
       "version_minor": 0
      },
      "text/plain": [
       "HBox(children=(IntProgress(value=0, max=1000), HTML(value='')))"
      ]
     },
     "metadata": {},
     "output_type": "display_data"
    },
    {
     "name": "stdout",
     "output_type": "stream",
     "text": [
      "get approximate knn 0\n",
      "get approximate knn 100\n",
      "get approximate knn 200\n",
      "get approximate knn 300\n",
      "get approximate knn 400\n",
      "get approximate knn 500\n",
      "get approximate knn 600\n",
      "get approximate knn 700\n",
      "get approximate knn 800\n",
      "get approximate knn 900\n"
     ]
    },
    {
     "data": {
      "application/vnd.jupyter.widget-view+json": {
       "model_id": "9d54fe28ee1c4ed48fd649ae88f8f6db",
       "version_major": 2,
       "version_minor": 0
      },
      "text/plain": [
       "HBox(children=(IntProgress(value=0, max=1000), HTML(value='')))"
      ]
     },
     "metadata": {},
     "output_type": "display_data"
    },
    {
     "data": {
      "application/vnd.jupyter.widget-view+json": {
       "model_id": "5d3c4138f1644f179472dfe4bb7ae6ab",
       "version_major": 2,
       "version_minor": 0
      },
      "text/plain": [
       "HBox(children=(IntProgress(value=0), HTML(value='')))"
      ]
     },
     "metadata": {},
     "output_type": "display_data"
    },
    {
     "name": "stdout",
     "output_type": "stream",
     "text": [
      "get approximate knn 0\n"
     ]
    },
    {
     "data": {
      "application/vnd.jupyter.widget-view+json": {
       "model_id": "c77f0157ca354d5d90a8987466497524",
       "version_major": 2,
       "version_minor": 0
      },
      "text/plain": [
       "HBox(children=(IntProgress(value=0), HTML(value='')))"
      ]
     },
     "metadata": {},
     "output_type": "display_data"
    }
   ],
   "source": [
    "lsh_300_053 = fine_tune(300, 0.53, file=True)\n",
    "sp_approx_300_053, nns_vec_300_053 = fine_tune_test(300, lsh_300_053, file=True)"
   ]
  },
  {
   "cell_type": "code",
   "execution_count": null,
   "metadata": {},
   "outputs": [],
   "source": [
    "lsh_200_053 = fine_tune(200, 0.53, file=True)\n",
    "sp_approx_200_053, nns_vec_200_053 = fine_tune_test(200, lsh_200_053, file=True)"
   ]
  },
  {
   "cell_type": "code",
   "execution_count": null,
   "metadata": {},
   "outputs": [
    {
     "data": {
      "application/vnd.jupyter.widget-view+json": {
       "model_id": "11137162f27640ae82a9a55f21a74104",
       "version_major": 2,
       "version_minor": 0
      },
      "text/plain": [
       "HBox(children=(IntProgress(value=0, max=996559), HTML(value='')))"
      ]
     },
     "metadata": {},
     "output_type": "display_data"
    }
   ],
   "source": [
    "lsh_195_05 = fine_tune(195, 0.5, file=True)\n",
    "sp_approx_195_05, nns_vec_195_05 = fine_tune_test(195, lsh_195_05, file=True)"
   ]
  },
  {
   "cell_type": "code",
   "execution_count": null,
   "metadata": {},
   "outputs": [],
   "source": [
    "lsh_230_053 = fine_tune(230, 0.53, file=True)\n",
    "sp_approx_230_053, nns_vec_230_053 = fine_tune_test(230, lsh_230_053, file=True)"
   ]
  },
  {
   "cell_type": "code",
   "execution_count": 56,
   "metadata": {},
   "outputs": [
    {
     "data": {
      "application/vnd.jupyter.widget-view+json": {
       "model_id": "abb4ffc0274948ca8816110ccdfe3029",
       "version_major": 2,
       "version_minor": 0
      },
      "text/plain": [
       "HBox(children=(IntProgress(value=0, max=996559), HTML(value='')))"
      ]
     },
     "metadata": {},
     "output_type": "display_data"
    },
    {
     "data": {
      "application/vnd.jupyter.widget-view+json": {
       "model_id": "390ceb4a95e5437c99fcebd5f77e476f",
       "version_major": 2,
       "version_minor": 0
      },
      "text/plain": [
       "HBox(children=(IntProgress(value=0, max=1000), HTML(value='')))"
      ]
     },
     "metadata": {},
     "output_type": "display_data"
    },
    {
     "name": "stdout",
     "output_type": "stream",
     "text": [
      "get approximate knn 0\n",
      "get approximate knn 100\n",
      "get approximate knn 200\n",
      "get approximate knn 300\n",
      "get approximate knn 400\n",
      "get approximate knn 500\n",
      "get approximate knn 600\n",
      "get approximate knn 700\n",
      "get approximate knn 800\n",
      "get approximate knn 900\n"
     ]
    },
    {
     "data": {
      "application/vnd.jupyter.widget-view+json": {
       "model_id": "b652e181538049aaba36713a9437864f",
       "version_major": 2,
       "version_minor": 0
      },
      "text/plain": [
       "HBox(children=(IntProgress(value=0, max=1000), HTML(value='')))"
      ]
     },
     "metadata": {},
     "output_type": "display_data"
    },
    {
     "data": {
      "application/vnd.jupyter.widget-view+json": {
       "model_id": "799993e539444099b3f7b48ab028dff6",
       "version_major": 2,
       "version_minor": 0
      },
      "text/plain": [
       "HBox(children=(IntProgress(value=0), HTML(value='')))"
      ]
     },
     "metadata": {},
     "output_type": "display_data"
    },
    {
     "name": "stdout",
     "output_type": "stream",
     "text": [
      "get approximate knn 0\n"
     ]
    },
    {
     "data": {
      "application/vnd.jupyter.widget-view+json": {
       "model_id": "416a0f968e2a406aad989a2c30595ebd",
       "version_major": 2,
       "version_minor": 0
      },
      "text/plain": [
       "HBox(children=(IntProgress(value=0), HTML(value='')))"
      ]
     },
     "metadata": {},
     "output_type": "display_data"
    }
   ],
   "source": [
    "lsh_250_053 = fine_tune(250, 0.53, file=True)\n",
    "sp_approx_250_053, nns_vec_250_053 = fine_tune_test(250, lsh_230_053, file=True)"
   ]
  },
  {
   "cell_type": "code",
   "execution_count": 57,
   "metadata": {},
   "outputs": [
    {
     "data": {
      "application/vnd.jupyter.widget-view+json": {
       "model_id": "ce848edb37424a238a0a82bf9b9adf3f",
       "version_major": 2,
       "version_minor": 0
      },
      "text/plain": [
       "HBox(children=(IntProgress(value=0), HTML(value='')))"
      ]
     },
     "metadata": {},
     "output_type": "display_data"
    },
    {
     "name": "stdout",
     "output_type": "stream",
     "text": [
      "get approximate knn 0\n"
     ]
    },
    {
     "data": {
      "application/vnd.jupyter.widget-view+json": {
       "model_id": "187d25ff1aab4cc3b8937b6a6bfd01c2",
       "version_major": 2,
       "version_minor": 0
      },
      "text/plain": [
       "HBox(children=(IntProgress(value=0), HTML(value='')))"
      ]
     },
     "metadata": {},
     "output_type": "display_data"
    }
   ],
   "source": [
    "sp_approx_250_053, nns_vec_250_053 = fine_tune_test(250, lsh_250_053, file=True)"
   ]
  },
  {
   "cell_type": "code",
   "execution_count": null,
   "metadata": {},
   "outputs": [
    {
     "data": {
      "application/vnd.jupyter.widget-view+json": {
       "model_id": "6d33b9b5dc7542cb8fefee106beb781b",
       "version_major": 2,
       "version_minor": 0
      },
      "text/plain": [
       "HBox(children=(IntProgress(value=0, max=996559), HTML(value='')))"
      ]
     },
     "metadata": {},
     "output_type": "display_data"
    }
   ],
   "source": [
    "lsh_255_053 = fine_tune(255, 0.53, file=True)\n",
    "sp_approx_255_053, nns_vec_255_053 = fine_tune_test(255, lsh_255_053, file=True)"
   ]
  },
  {
   "cell_type": "code",
   "execution_count": null,
   "metadata": {},
   "outputs": [],
   "source": []
  }
 ],
 "metadata": {
  "kernelspec": {
   "display_name": "Python 3",
   "language": "python",
   "name": "python3"
  },
  "language_info": {
   "codemirror_mode": {
    "name": "ipython",
    "version": 3
   },
   "file_extension": ".py",
   "mimetype": "text/x-python",
   "name": "python",
   "nbconvert_exporter": "python",
   "pygments_lexer": "ipython3",
   "version": "3.5.2"
  },
  "widgets": {
   "application/vnd.jupyter.widget-state+json": {
    "state": {
     "00890931743a4a8c8036db431201eede": {
      "model_module": "@jupyter-widgets/controls",
      "model_module_version": "1.4.0",
      "model_name": "ProgressStyleModel",
      "state": {
       "description_width": ""
      }
     },
     "00a765b9da2b450ca48761d091ceff1f": {
      "model_module": "@jupyter-widgets/controls",
      "model_module_version": "1.4.0",
      "model_name": "HTMLModel",
      "state": {
       "layout": "IPY_MODEL_cd187b1f8fa4463a8c57300102271c11",
       "style": "IPY_MODEL_53715966ae1c4556a0a06783a6fb5177",
       "value": "100% 996559/996559 [3:30:22&lt;00:00, 78.95it/s]"
      }
     },
     "00fd532dec6445fead318d3a42efbe6e": {
      "model_module": "@jupyter-widgets/controls",
      "model_module_version": "1.4.0",
      "model_name": "ProgressStyleModel",
      "state": {
       "description_width": ""
      }
     },
     "0135d14a5d4643f0afca4baf69e021b6": {
      "model_module": "@jupyter-widgets/controls",
      "model_module_version": "1.4.0",
      "model_name": "DescriptionStyleModel",
      "state": {
       "description_width": ""
      }
     },
     "0197bd196df349cb9217bcdf0fb69a67": {
      "model_module": "@jupyter-widgets/controls",
      "model_module_version": "1.4.0",
      "model_name": "DescriptionStyleModel",
      "state": {
       "description_width": ""
      }
     },
     "019bebb4cff842549eecb7a882e604ca": {
      "model_module": "@jupyter-widgets/controls",
      "model_module_version": "1.4.0",
      "model_name": "HBoxModel",
      "state": {
       "children": [
        "IPY_MODEL_5f5ae5d0174e45e8b7181136fce292e9",
        "IPY_MODEL_eab4c74a120e44c592761265cfd08e0b"
       ],
       "layout": "IPY_MODEL_10e8a783aab14c3e8e115a0c5092dcff"
      }
     },
     "01efcd6dce314356aebf1a3c09cfcf4a": {
      "model_module": "@jupyter-widgets/base",
      "model_module_version": "1.1.0",
      "model_name": "LayoutModel",
      "state": {}
     },
     "01f1e38f88ae40469eacc077f8bbcf5b": {
      "model_module": "@jupyter-widgets/controls",
      "model_module_version": "1.4.0",
      "model_name": "ProgressStyleModel",
      "state": {
       "description_width": ""
      }
     },
     "0266ec4516224cf8b0ce9d837fc7c705": {
      "model_module": "@jupyter-widgets/base",
      "model_module_version": "1.1.0",
      "model_name": "LayoutModel",
      "state": {}
     },
     "02c64e4a70d549fe887d0c3433f8b75e": {
      "model_module": "@jupyter-widgets/controls",
      "model_module_version": "1.4.0",
      "model_name": "ProgressStyleModel",
      "state": {
       "description_width": ""
      }
     },
     "02cb9d53f2e14a09b45629ef7a5a2ed3": {
      "model_module": "@jupyter-widgets/controls",
      "model_module_version": "1.4.0",
      "model_name": "DescriptionStyleModel",
      "state": {
       "description_width": ""
      }
     },
     "02dca41a980945dd9ca6fa5d6d7acc16": {
      "model_module": "@jupyter-widgets/base",
      "model_module_version": "1.1.0",
      "model_name": "LayoutModel",
      "state": {}
     },
     "040bdc4788ef45c799f07abe33d84bad": {
      "model_module": "@jupyter-widgets/controls",
      "model_module_version": "1.4.0",
      "model_name": "IntProgressModel",
      "state": {
       "bar_style": "success",
       "layout": "IPY_MODEL_defe2faefab14565953cc580ad82fc36",
       "max": 1000,
       "style": "IPY_MODEL_b94531dbe24748098c097263b736c04f",
       "value": 1000
      }
     },
     "0441fff8bd354cf681c6f93b42c43920": {
      "model_module": "@jupyter-widgets/base",
      "model_module_version": "1.1.0",
      "model_name": "LayoutModel",
      "state": {}
     },
     "05655539aafe429c8c9a7039d1de3b07": {
      "model_module": "@jupyter-widgets/base",
      "model_module_version": "1.1.0",
      "model_name": "LayoutModel",
      "state": {}
     },
     "05a38be0de604838a83c57f790387df8": {
      "model_module": "@jupyter-widgets/base",
      "model_module_version": "1.1.0",
      "model_name": "LayoutModel",
      "state": {}
     },
     "05c55d3e64d04d72af6de671b4bbae2c": {
      "model_module": "@jupyter-widgets/controls",
      "model_module_version": "1.4.0",
      "model_name": "HTMLModel",
      "state": {
       "layout": "IPY_MODEL_01efcd6dce314356aebf1a3c09cfcf4a",
       "style": "IPY_MODEL_5f7ef118216f4a05b3ecefcc89ba6871",
       "value": "100% 1000/1000 [50:47&lt;00:00,  2.96s/it]"
      }
     },
     "05f1c84417544415a4f54cebe666b5d1": {
      "model_module": "@jupyter-widgets/controls",
      "model_module_version": "1.4.0",
      "model_name": "DescriptionStyleModel",
      "state": {
       "description_width": ""
      }
     },
     "06cfe811664e429283d33a436fbb25a7": {
      "model_module": "@jupyter-widgets/controls",
      "model_module_version": "1.4.0",
      "model_name": "IntProgressModel",
      "state": {
       "bar_style": "success",
       "layout": "IPY_MODEL_f183bfb9be2e4b57b6cdfe3c65168ffe",
       "style": "IPY_MODEL_c5c3f6b4a064461493eb190c16f3f412",
       "value": 100
      }
     },
     "06db8e5504894ff9b5083ea1ea6b9ebf": {
      "model_module": "@jupyter-widgets/controls",
      "model_module_version": "1.4.0",
      "model_name": "DescriptionStyleModel",
      "state": {
       "description_width": ""
      }
     },
     "070568de1d1f48f289f8a5141941660e": {
      "model_module": "@jupyter-widgets/controls",
      "model_module_version": "1.4.0",
      "model_name": "ProgressStyleModel",
      "state": {
       "description_width": ""
      }
     },
     "072e7597e756417b88c241dc3d6cce56": {
      "model_module": "@jupyter-widgets/base",
      "model_module_version": "1.1.0",
      "model_name": "LayoutModel",
      "state": {}
     },
     "073402f6dfac49c98076e6ccc36cd404": {
      "model_module": "@jupyter-widgets/controls",
      "model_module_version": "1.4.0",
      "model_name": "HTMLModel",
      "state": {
       "layout": "IPY_MODEL_96899a858774460796b6b85379bcb3fe",
       "style": "IPY_MODEL_3fe0683717ae4edda1881c26a1f2fb65",
       "value": "100% 1000/1000 [00:00&lt;00:00, 10532.95it/s]"
      }
     },
     "07596fc8817a4c2a8f1a1d6ddb922706": {
      "model_module": "@jupyter-widgets/controls",
      "model_module_version": "1.4.0",
      "model_name": "ProgressStyleModel",
      "state": {
       "description_width": ""
      }
     },
     "07681059610f4ccebc27d8784f1bfa78": {
      "model_module": "@jupyter-widgets/controls",
      "model_module_version": "1.4.0",
      "model_name": "HBoxModel",
      "state": {
       "children": [
        "IPY_MODEL_cafdc7ccc3f9439293ba559201ae4b3a",
        "IPY_MODEL_3a7091010e2f4f3fa260804f54803abf"
       ],
       "layout": "IPY_MODEL_70b390d154894c019739a726a017d195"
      }
     },
     "089b82d2010e4197b61c9169adb0518d": {
      "model_module": "@jupyter-widgets/controls",
      "model_module_version": "1.4.0",
      "model_name": "IntProgressModel",
      "state": {
       "bar_style": "success",
       "layout": "IPY_MODEL_41fe876524e14768b047c41da5986527",
       "max": 1000,
       "style": "IPY_MODEL_53a57707ee304a89b348ad6cffc315b7",
       "value": 1000
      }
     },
     "08bf482455a24ba197c3ab523d5f3940": {
      "model_module": "@jupyter-widgets/controls",
      "model_module_version": "1.4.0",
      "model_name": "DescriptionStyleModel",
      "state": {
       "description_width": ""
      }
     },
     "0935610bbf854bbdbd33147737cbb659": {
      "model_module": "@jupyter-widgets/base",
      "model_module_version": "1.1.0",
      "model_name": "LayoutModel",
      "state": {}
     },
     "0993992ec62e4d82b5af62d29197575b": {
      "model_module": "@jupyter-widgets/controls",
      "model_module_version": "1.4.0",
      "model_name": "HTMLModel",
      "state": {
       "layout": "IPY_MODEL_9160469f055c4189b8fc626d7047724b",
       "style": "IPY_MODEL_d468b7fb545f4938829fd4ce0f2b1ffb",
       "value": "100% 1000/1000 [1:05:23&lt;00:00,  4.52s/it]"
      }
     },
     "09993b645db14009a8bbc8ea17bf4d61": {
      "model_module": "@jupyter-widgets/base",
      "model_module_version": "1.1.0",
      "model_name": "LayoutModel",
      "state": {}
     },
     "09ca1ef4319e4a64b237a7a29ebaece3": {
      "model_module": "@jupyter-widgets/controls",
      "model_module_version": "1.4.0",
      "model_name": "ProgressStyleModel",
      "state": {
       "description_width": ""
      }
     },
     "0ab1a03ae1244cf8b5b0da7dd2ceff80": {
      "model_module": "@jupyter-widgets/controls",
      "model_module_version": "1.4.0",
      "model_name": "HBoxModel",
      "state": {
       "children": [
        "IPY_MODEL_d4fe91b6dc39432ca6fd1d160200d016",
        "IPY_MODEL_e89612e3db8b409bb877d1d03a12d38d"
       ],
       "layout": "IPY_MODEL_351afbe2c6c545e1981362f3bb63c3a6"
      }
     },
     "0acafe19b70e4763bfc6b1918e51b43b": {
      "model_module": "@jupyter-widgets/controls",
      "model_module_version": "1.4.0",
      "model_name": "ProgressStyleModel",
      "state": {
       "description_width": ""
      }
     },
     "0b2b41ea508345b89ca790638cd16f1d": {
      "model_module": "@jupyter-widgets/controls",
      "model_module_version": "1.4.0",
      "model_name": "HTMLModel",
      "state": {
       "layout": "IPY_MODEL_7b2915d1c566449cbaa274d53ce2f426",
       "style": "IPY_MODEL_48cf1723e3234b6581bc573e317f82b8",
       "value": "100% 1000/1000 [00:00&lt;00:00, 6854.43it/s]"
      }
     },
     "0bc296bca9d04def8bd102c37ae3b071": {
      "model_module": "@jupyter-widgets/base",
      "model_module_version": "1.1.0",
      "model_name": "LayoutModel",
      "state": {}
     },
     "0bfa4559ece342a987bda709403ca356": {
      "model_module": "@jupyter-widgets/controls",
      "model_module_version": "1.4.0",
      "model_name": "HBoxModel",
      "state": {
       "children": [
        "IPY_MODEL_571395b536034d4eaf9a0fadea66803a",
        "IPY_MODEL_111850139d44428a94aaa4728a25d148"
       ],
       "layout": "IPY_MODEL_3041180da1c34c6cb479fd15ef869159"
      }
     },
     "0c714c5fab774a0b8fb7bbe997021317": {
      "model_module": "@jupyter-widgets/base",
      "model_module_version": "1.1.0",
      "model_name": "LayoutModel",
      "state": {}
     },
     "0c96eefa56ab4c208763619c4115ea74": {
      "model_module": "@jupyter-widgets/controls",
      "model_module_version": "1.4.0",
      "model_name": "HBoxModel",
      "state": {
       "children": [
        "IPY_MODEL_58f4199ed71b439f86601dcea6d1b292",
        "IPY_MODEL_dcf1392f79eb4f408e2a4453d2685a6e"
       ],
       "layout": "IPY_MODEL_88db3f1603c946a28f0c4d250ea644c8"
      }
     },
     "0d1a366cbd024e928acfb53772982ab8": {
      "model_module": "@jupyter-widgets/controls",
      "model_module_version": "1.4.0",
      "model_name": "IntProgressModel",
      "state": {
       "bar_style": "success",
       "layout": "IPY_MODEL_8cdf62c693314836b309950088607088",
       "style": "IPY_MODEL_40a33d80d468450294d24b1f0575f23a",
       "value": 100
      }
     },
     "0d694ff1e5194e3284866a3c215bfc6b": {
      "model_module": "@jupyter-widgets/controls",
      "model_module_version": "1.4.0",
      "model_name": "DescriptionStyleModel",
      "state": {
       "description_width": ""
      }
     },
     "0d7cdf22baa04f0d8331285b5efb6c4c": {
      "model_module": "@jupyter-widgets/controls",
      "model_module_version": "1.4.0",
      "model_name": "DescriptionStyleModel",
      "state": {
       "description_width": ""
      }
     },
     "0db30b48138f42b899ea7b6678ca0558": {
      "model_module": "@jupyter-widgets/controls",
      "model_module_version": "1.4.0",
      "model_name": "HBoxModel",
      "state": {
       "children": [
        "IPY_MODEL_d1ee054dedb94f2e8fd415550ed8ec03",
        "IPY_MODEL_dbe18ef3e1cd414dbca99518d6c96d6b"
       ],
       "layout": "IPY_MODEL_34fe24cb4c8f4e099eb55b7dad2202c6"
      }
     },
     "0df4f943608f4688b0506db4b59d9d99": {
      "model_module": "@jupyter-widgets/controls",
      "model_module_version": "1.4.0",
      "model_name": "HBoxModel",
      "state": {
       "children": [
        "IPY_MODEL_c57ed59939b445d79b3ac151eed7d539",
        "IPY_MODEL_9686331456ce4b9eb3a6d1354434be14"
       ],
       "layout": "IPY_MODEL_7f5402969f58466793278d9331306ee8"
      }
     },
     "0ed0fad3eb7446c7a27f942c67c5f0d0": {
      "model_module": "@jupyter-widgets/controls",
      "model_module_version": "1.4.0",
      "model_name": "ProgressStyleModel",
      "state": {
       "description_width": ""
      }
     },
     "0efa0111275c4d879c1ee611d6cedfe1": {
      "model_module": "@jupyter-widgets/base",
      "model_module_version": "1.1.0",
      "model_name": "LayoutModel",
      "state": {}
     },
     "0f208087ecd046d8aeaa5dfd98322923": {
      "model_module": "@jupyter-widgets/controls",
      "model_module_version": "1.4.0",
      "model_name": "DescriptionStyleModel",
      "state": {
       "description_width": ""
      }
     },
     "0fdd028cf05f4ad79c192e8cd79543ba": {
      "model_module": "@jupyter-widgets/base",
      "model_module_version": "1.1.0",
      "model_name": "LayoutModel",
      "state": {}
     },
     "0fdf8c2286a5456f8ceffe92de4c338f": {
      "model_module": "@jupyter-widgets/controls",
      "model_module_version": "1.4.0",
      "model_name": "IntProgressModel",
      "state": {
       "bar_style": "success",
       "layout": "IPY_MODEL_79fc6eee088e4982a263cc085d3b7e42",
       "max": 1000,
       "style": "IPY_MODEL_02c64e4a70d549fe887d0c3433f8b75e",
       "value": 1000
      }
     },
     "10df3fe86f434b808080cc0be836b1ca": {
      "model_module": "@jupyter-widgets/controls",
      "model_module_version": "1.4.0",
      "model_name": "IntProgressModel",
      "state": {
       "bar_style": "success",
       "layout": "IPY_MODEL_dd1aedcdcf974ca389a3ed6af681dcc8",
       "max": 1000,
       "style": "IPY_MODEL_00890931743a4a8c8036db431201eede",
       "value": 1000
      }
     },
     "10e48a460dc44c50bea3c4ddb7faa7ed": {
      "model_module": "@jupyter-widgets/controls",
      "model_module_version": "1.4.0",
      "model_name": "IntProgressModel",
      "state": {
       "bar_style": "success",
       "layout": "IPY_MODEL_02dca41a980945dd9ca6fa5d6d7acc16",
       "style": "IPY_MODEL_3c7e1384d9024328bcfcf01dbd8c4543",
       "value": 100
      }
     },
     "10e8a783aab14c3e8e115a0c5092dcff": {
      "model_module": "@jupyter-widgets/base",
      "model_module_version": "1.1.0",
      "model_name": "LayoutModel",
      "state": {}
     },
     "11137162f27640ae82a9a55f21a74104": {
      "model_module": "@jupyter-widgets/controls",
      "model_module_version": "1.4.0",
      "model_name": "HBoxModel",
      "state": {
       "children": [
        "IPY_MODEL_db396ae40b44451294e0723edf0dcfa6",
        "IPY_MODEL_35f26bee04974395b91885ca5e072df5"
       ],
       "layout": "IPY_MODEL_83ebae13c93b411e8693f643ac5de18c"
      }
     },
     "111850139d44428a94aaa4728a25d148": {
      "model_module": "@jupyter-widgets/controls",
      "model_module_version": "1.4.0",
      "model_name": "HTMLModel",
      "state": {
       "layout": "IPY_MODEL_9dced1bff1e74ffeae6809c7e4957daa",
       "style": "IPY_MODEL_e2f242a6d46b4a7684c80a7c840db426",
       "value": "100% 100/100 [00:00&lt;00:00, 3316.34it/s]"
      }
     },
     "11a2888d454b425daca2a47070494e5a": {
      "model_module": "@jupyter-widgets/base",
      "model_module_version": "1.1.0",
      "model_name": "LayoutModel",
      "state": {}
     },
     "11b34707d41743b9bddb1427699bd03e": {
      "model_module": "@jupyter-widgets/controls",
      "model_module_version": "1.4.0",
      "model_name": "ProgressStyleModel",
      "state": {
       "description_width": ""
      }
     },
     "11b7518ee84642fdb070b06af98f1855": {
      "model_module": "@jupyter-widgets/base",
      "model_module_version": "1.1.0",
      "model_name": "LayoutModel",
      "state": {}
     },
     "12177e75493d4e86b083909601bdf26f": {
      "model_module": "@jupyter-widgets/base",
      "model_module_version": "1.1.0",
      "model_name": "LayoutModel",
      "state": {}
     },
     "12299b2a032f45258cf3eb07e5ae6562": {
      "model_module": "@jupyter-widgets/controls",
      "model_module_version": "1.4.0",
      "model_name": "DescriptionStyleModel",
      "state": {
       "description_width": ""
      }
     },
     "1264f33f14de4b8da4282d96c534e8d0": {
      "model_module": "@jupyter-widgets/controls",
      "model_module_version": "1.4.0",
      "model_name": "IntProgressModel",
      "state": {
       "bar_style": "success",
       "layout": "IPY_MODEL_c18bdad3f68d4e48be5136019987ed67",
       "style": "IPY_MODEL_3732bd8a0d844f2fb4aafc37face22b7",
       "value": 100
      }
     },
     "12b3082c89114b0e9c682e631c6c5644": {
      "model_module": "@jupyter-widgets/controls",
      "model_module_version": "1.4.0",
      "model_name": "ProgressStyleModel",
      "state": {
       "description_width": ""
      }
     },
     "12b6430edd724907bd44e8602d248b1a": {
      "model_module": "@jupyter-widgets/base",
      "model_module_version": "1.1.0",
      "model_name": "LayoutModel",
      "state": {}
     },
     "12e626b38d6e45b395fef5c7b0c90428": {
      "model_module": "@jupyter-widgets/controls",
      "model_module_version": "1.4.0",
      "model_name": "DescriptionStyleModel",
      "state": {
       "description_width": ""
      }
     },
     "137300df73234870b1a3cd5f2f5e40a0": {
      "model_module": "@jupyter-widgets/base",
      "model_module_version": "1.1.0",
      "model_name": "LayoutModel",
      "state": {}
     },
     "13c6789a848c49e987ad0225f43d7999": {
      "model_module": "@jupyter-widgets/base",
      "model_module_version": "1.1.0",
      "model_name": "LayoutModel",
      "state": {}
     },
     "13f7d3d09055410f9c68433828a34bba": {
      "model_module": "@jupyter-widgets/base",
      "model_module_version": "1.1.0",
      "model_name": "LayoutModel",
      "state": {}
     },
     "14992af02aca4559974f53005560a5c0": {
      "model_module": "@jupyter-widgets/controls",
      "model_module_version": "1.4.0",
      "model_name": "DescriptionStyleModel",
      "state": {
       "description_width": ""
      }
     },
     "14c81d1a39fd405ea627f56322939c64": {
      "model_module": "@jupyter-widgets/base",
      "model_module_version": "1.1.0",
      "model_name": "LayoutModel",
      "state": {}
     },
     "1521af05f9534925ab6ba5cf14c109ef": {
      "model_module": "@jupyter-widgets/controls",
      "model_module_version": "1.4.0",
      "model_name": "IntProgressModel",
      "state": {
       "bar_style": "success",
       "layout": "IPY_MODEL_ab2ca639d0b949cdba5777e20545c6d9",
       "style": "IPY_MODEL_35805c806977415ea611dc805853532b",
       "value": 100
      }
     },
     "156303fb95c849c88117ea0e11a7835e": {
      "model_module": "@jupyter-widgets/base",
      "model_module_version": "1.1.0",
      "model_name": "LayoutModel",
      "state": {}
     },
     "1595d0d17632445d9a59f7e3d8a3ca2b": {
      "model_module": "@jupyter-widgets/controls",
      "model_module_version": "1.4.0",
      "model_name": "ProgressStyleModel",
      "state": {
       "description_width": ""
      }
     },
     "16105a63dbcb4e1bafd367cff2eab648": {
      "model_module": "@jupyter-widgets/controls",
      "model_module_version": "1.4.0",
      "model_name": "HTMLModel",
      "state": {
       "layout": "IPY_MODEL_6128e1d6d0ff420e98ed27beaf0ac005",
       "style": "IPY_MODEL_f701c97ae31b401bb3ffc3de9c03ce00",
       "value": "100% 1000/1000 [1:00:58&lt;00:00,  3.15s/it]"
      }
     },
     "163f930c797d4efb82b8020f83793f75": {
      "model_module": "@jupyter-widgets/base",
      "model_module_version": "1.1.0",
      "model_name": "LayoutModel",
      "state": {}
     },
     "168eecb73e0643df85963c8c9acf9211": {
      "model_module": "@jupyter-widgets/base",
      "model_module_version": "1.1.0",
      "model_name": "LayoutModel",
      "state": {}
     },
     "172b6fa38a6040ae9d631903b217a84d": {
      "model_module": "@jupyter-widgets/controls",
      "model_module_version": "1.4.0",
      "model_name": "IntProgressModel",
      "state": {
       "bar_style": "success",
       "layout": "IPY_MODEL_3f02933c014f41aabd7ef8a65cde5074",
       "max": 1000,
       "style": "IPY_MODEL_c53308eafc0d4c3ebdd9ee3df8218941",
       "value": 1000
      }
     },
     "17aaeff5604045f68becb4717b92a445": {
      "model_module": "@jupyter-widgets/controls",
      "model_module_version": "1.4.0",
      "model_name": "HTMLModel",
      "state": {
       "layout": "IPY_MODEL_5316936724534c7c9d1e0adba8847348",
       "style": "IPY_MODEL_0135d14a5d4643f0afca4baf69e021b6",
       "value": "100% 1000/1000 [00:00&lt;00:00, 8073.69it/s]"
      }
     },
     "18104094cba547dd806ddedf57a7e103": {
      "model_module": "@jupyter-widgets/base",
      "model_module_version": "1.1.0",
      "model_name": "LayoutModel",
      "state": {}
     },
     "181c59fd7b6344759b9b0c1d0b87ab8a": {
      "model_module": "@jupyter-widgets/controls",
      "model_module_version": "1.4.0",
      "model_name": "HTMLModel",
      "state": {
       "layout": "IPY_MODEL_1cd864bb98dc4a3096ef12f7bd384e2d",
       "style": "IPY_MODEL_abdd0b41b22744e6a0b1b32c65b380e6",
       "value": "  0% 3369/996559 [00:40&lt;1:44:43, 158.06it/s]"
      }
     },
     "187cc7b8e0ac4df7a84e0c83c67c6f5a": {
      "model_module": "@jupyter-widgets/controls",
      "model_module_version": "1.4.0",
      "model_name": "IntProgressModel",
      "state": {
       "bar_style": "success",
       "layout": "IPY_MODEL_c7561fd5bada45aabf9459707b21c1b6",
       "style": "IPY_MODEL_b283f972abf14150aed6f936a1c442a6",
       "value": 100
      }
     },
     "187d25ff1aab4cc3b8937b6a6bfd01c2": {
      "model_module": "@jupyter-widgets/controls",
      "model_module_version": "1.4.0",
      "model_name": "HBoxModel",
      "state": {
       "children": [
        "IPY_MODEL_e4a7b2c9ee5b49a494cc176887dc5187",
        "IPY_MODEL_9a807dacff894fecbaba017cdc01a4ff"
       ],
       "layout": "IPY_MODEL_ba584a71e50b4d03bb3990d243c27453"
      }
     },
     "195c62701a69447a95d7ff16d6a22b30": {
      "model_module": "@jupyter-widgets/base",
      "model_module_version": "1.1.0",
      "model_name": "LayoutModel",
      "state": {}
     },
     "197ce65e753342d1b3db6a6b4c63accd": {
      "model_module": "@jupyter-widgets/controls",
      "model_module_version": "1.4.0",
      "model_name": "DescriptionStyleModel",
      "state": {
       "description_width": ""
      }
     },
     "198f65cef1e14797b4fedb8bfff37eaa": {
      "model_module": "@jupyter-widgets/controls",
      "model_module_version": "1.4.0",
      "model_name": "IntProgressModel",
      "state": {
       "bar_style": "success",
       "layout": "IPY_MODEL_392a12d0220d4cd597b776725b08378f",
       "max": 1000,
       "style": "IPY_MODEL_3d3945bcd6b74031805c9fc73fd4e2d5",
       "value": 1000
      }
     },
     "19db56a6918e4e289b907b251e47c073": {
      "model_module": "@jupyter-widgets/controls",
      "model_module_version": "1.4.0",
      "model_name": "HBoxModel",
      "state": {
       "children": [
        "IPY_MODEL_10e48a460dc44c50bea3c4ddb7faa7ed",
        "IPY_MODEL_80f5a984de7e492c804192227832f3e4"
       ],
       "layout": "IPY_MODEL_303dbf7f88394a2cb38054f59de1ea54"
      }
     },
     "1b2be667eef64c54959f95470fe27f07": {
      "model_module": "@jupyter-widgets/controls",
      "model_module_version": "1.4.0",
      "model_name": "HBoxModel",
      "state": {
       "children": [
        "IPY_MODEL_7ac803760ba744cbb22a000afb04b1f6",
        "IPY_MODEL_3f29e0ce5b2b471d915bf222d504d4e2"
       ],
       "layout": "IPY_MODEL_23af4fbb4c034f79a32f8be484b5d41e"
      }
     },
     "1b9ac1e7d58f4575bad67e536dcc62e3": {
      "model_module": "@jupyter-widgets/base",
      "model_module_version": "1.1.0",
      "model_name": "LayoutModel",
      "state": {}
     },
     "1ba7f2c8cfd440d4861ec1f0048e9458": {
      "model_module": "@jupyter-widgets/controls",
      "model_module_version": "1.4.0",
      "model_name": "IntProgressModel",
      "state": {
       "bar_style": "success",
       "layout": "IPY_MODEL_072e7597e756417b88c241dc3d6cce56",
       "max": 1000,
       "style": "IPY_MODEL_30e7905b85bf431fb1f92733e68724df",
       "value": 1000
      }
     },
     "1bd4a14ec63f40c893c9c3c3c50f46d9": {
      "model_module": "@jupyter-widgets/controls",
      "model_module_version": "1.4.0",
      "model_name": "ProgressStyleModel",
      "state": {
       "description_width": ""
      }
     },
     "1bf468b229ff460b8580f7c67f78f2c0": {
      "model_module": "@jupyter-widgets/controls",
      "model_module_version": "1.4.0",
      "model_name": "DescriptionStyleModel",
      "state": {
       "description_width": ""
      }
     },
     "1cbedf60f0974664ba1016d411fda2c1": {
      "model_module": "@jupyter-widgets/controls",
      "model_module_version": "1.4.0",
      "model_name": "HTMLModel",
      "state": {
       "layout": "IPY_MODEL_0bc296bca9d04def8bd102c37ae3b071",
       "style": "IPY_MODEL_3af3eeb3dda34979910041e3992b67f7",
       "value": "100% 100/100 [10:51&lt;00:00,  6.64s/it]"
      }
     },
     "1cd864bb98dc4a3096ef12f7bd384e2d": {
      "model_module": "@jupyter-widgets/base",
      "model_module_version": "1.1.0",
      "model_name": "LayoutModel",
      "state": {}
     },
     "1d898a70222d4bf38188644748e17e73": {
      "model_module": "@jupyter-widgets/controls",
      "model_module_version": "1.4.0",
      "model_name": "DescriptionStyleModel",
      "state": {
       "description_width": ""
      }
     },
     "1dad2a7b4c29486d8c19f8e6f01646f9": {
      "model_module": "@jupyter-widgets/base",
      "model_module_version": "1.1.0",
      "model_name": "LayoutModel",
      "state": {}
     },
     "1e0d067cb69e4dbea839128e42bba141": {
      "model_module": "@jupyter-widgets/controls",
      "model_module_version": "1.4.0",
      "model_name": "ProgressStyleModel",
      "state": {
       "description_width": ""
      }
     },
     "1e50e44ff5384c9b9535dfdbf63cda1a": {
      "model_module": "@jupyter-widgets/controls",
      "model_module_version": "1.4.0",
      "model_name": "DescriptionStyleModel",
      "state": {
       "description_width": ""
      }
     },
     "1e5a7fb8a2d04fcfb88b7440e2f1c810": {
      "model_module": "@jupyter-widgets/base",
      "model_module_version": "1.1.0",
      "model_name": "LayoutModel",
      "state": {}
     },
     "1eb4cd475ce24a61bbb2ed0a4d7746b5": {
      "model_module": "@jupyter-widgets/controls",
      "model_module_version": "1.4.0",
      "model_name": "IntProgressModel",
      "state": {
       "bar_style": "success",
       "layout": "IPY_MODEL_2da4315334624fffa49a14d2ea8cd433",
       "style": "IPY_MODEL_9cdb2d4254da4ebd9f953170990c3514",
       "value": 100
      }
     },
     "1ec5a153516b4f12a11f3f16679f8302": {
      "model_module": "@jupyter-widgets/controls",
      "model_module_version": "1.4.0",
      "model_name": "HTMLModel",
      "state": {
       "layout": "IPY_MODEL_195c62701a69447a95d7ff16d6a22b30",
       "style": "IPY_MODEL_0f208087ecd046d8aeaa5dfd98322923",
       "value": "100% 1000/1000 [50:42&lt;00:00,  2.17s/it]"
      }
     },
     "1ed9880b5c634fd7bd7b78b20efe7a6c": {
      "model_module": "@jupyter-widgets/base",
      "model_module_version": "1.1.0",
      "model_name": "LayoutModel",
      "state": {}
     },
     "1f67527a24c14a1ebb947cbad4dc1e8f": {
      "model_module": "@jupyter-widgets/base",
      "model_module_version": "1.1.0",
      "model_name": "LayoutModel",
      "state": {}
     },
     "1fd495a84b724b9ba3cd1e85a7bd2877": {
      "model_module": "@jupyter-widgets/base",
      "model_module_version": "1.1.0",
      "model_name": "LayoutModel",
      "state": {}
     },
     "2044a1ff4b92470a8fd8e2f6c376c460": {
      "model_module": "@jupyter-widgets/controls",
      "model_module_version": "1.4.0",
      "model_name": "ProgressStyleModel",
      "state": {
       "description_width": ""
      }
     },
     "2047134722e3429485d8da708af2b8df": {
      "model_module": "@jupyter-widgets/base",
      "model_module_version": "1.1.0",
      "model_name": "LayoutModel",
      "state": {}
     },
     "20d24a03aa3440098bfaaad193c7b6f2": {
      "model_module": "@jupyter-widgets/controls",
      "model_module_version": "1.4.0",
      "model_name": "HBoxModel",
      "state": {
       "children": [
        "IPY_MODEL_5b9279c06edf44f7a710bcabfa81323a",
        "IPY_MODEL_fd378dd15ca6453e8bb4ff16a8c0b07f"
       ],
       "layout": "IPY_MODEL_fd4ca8df370f4739b9f118b9b211483c"
      }
     },
     "213d6430ff674929a9907e5d02dca837": {
      "model_module": "@jupyter-widgets/controls",
      "model_module_version": "1.4.0",
      "model_name": "ProgressStyleModel",
      "state": {
       "description_width": ""
      }
     },
     "21d313d90a054059bd15eab2844b31f4": {
      "model_module": "@jupyter-widgets/base",
      "model_module_version": "1.1.0",
      "model_name": "LayoutModel",
      "state": {}
     },
     "2296a10403de415abd6ae4695a566970": {
      "model_module": "@jupyter-widgets/controls",
      "model_module_version": "1.4.0",
      "model_name": "DescriptionStyleModel",
      "state": {
       "description_width": ""
      }
     },
     "22f72deaf8124b5ca580ffbb0637b20c": {
      "model_module": "@jupyter-widgets/controls",
      "model_module_version": "1.4.0",
      "model_name": "HBoxModel",
      "state": {
       "children": [
        "IPY_MODEL_3ed2ce176da744a2be467e69fbba3d69",
        "IPY_MODEL_e1c1f09fd6c84a6ea88082b4ca4355da"
       ],
       "layout": "IPY_MODEL_3743f163a0bc43ed818a42f8d04b7daa"
      }
     },
     "22f968f8f5d64c1f859f9c534dfc7923": {
      "model_module": "@jupyter-widgets/controls",
      "model_module_version": "1.4.0",
      "model_name": "IntProgressModel",
      "state": {
       "bar_style": "success",
       "layout": "IPY_MODEL_0c714c5fab774a0b8fb7bbe997021317",
       "max": 1000,
       "style": "IPY_MODEL_2044a1ff4b92470a8fd8e2f6c376c460",
       "value": 1000
      }
     },
     "230f98a817cc49ef8afc8a343a1def79": {
      "model_module": "@jupyter-widgets/controls",
      "model_module_version": "1.4.0",
      "model_name": "HBoxModel",
      "state": {
       "children": [
        "IPY_MODEL_06cfe811664e429283d33a436fbb25a7",
        "IPY_MODEL_2b98d2c4e5834ef6ab1266d05413cec2"
       ],
       "layout": "IPY_MODEL_ea793702467248ef895419109ada3dab"
      }
     },
     "23775afca32b44b99bc8450ee1846097": {
      "model_module": "@jupyter-widgets/controls",
      "model_module_version": "1.4.0",
      "model_name": "HBoxModel",
      "state": {
       "children": [
        "IPY_MODEL_8c0dd7ea0e8041c79cc91309a5150d8d",
        "IPY_MODEL_f9051475925c471abfd10c70378822cc"
       ],
       "layout": "IPY_MODEL_4fe0108064694adb8ea4a63e1b042c5b"
      }
     },
     "23935dba154b411bb2c2d9d18d8b05da": {
      "model_module": "@jupyter-widgets/controls",
      "model_module_version": "1.4.0",
      "model_name": "HBoxModel",
      "state": {
       "children": [
        "IPY_MODEL_c6ee9842f32c4c3983d6a9e25bd796aa",
        "IPY_MODEL_6d3fc4656d2a4a24b24749fedfd0e2dc"
       ],
       "layout": "IPY_MODEL_635e1326c58e4495975b5fdaea6bdc73"
      }
     },
     "23977c794c5c4fc092c02a9e56bc3fcb": {
      "model_module": "@jupyter-widgets/controls",
      "model_module_version": "1.4.0",
      "model_name": "ProgressStyleModel",
      "state": {
       "description_width": ""
      }
     },
     "23af4fbb4c034f79a32f8be484b5d41e": {
      "model_module": "@jupyter-widgets/base",
      "model_module_version": "1.1.0",
      "model_name": "LayoutModel",
      "state": {}
     },
     "241289817ceb4e6c9037668fd056d967": {
      "model_module": "@jupyter-widgets/base",
      "model_module_version": "1.1.0",
      "model_name": "LayoutModel",
      "state": {}
     },
     "2485692e91b24a72ae83e463aa0ee995": {
      "model_module": "@jupyter-widgets/base",
      "model_module_version": "1.1.0",
      "model_name": "LayoutModel",
      "state": {}
     },
     "24b22f8b81154a77a905b7c0687039be": {
      "model_module": "@jupyter-widgets/base",
      "model_module_version": "1.1.0",
      "model_name": "LayoutModel",
      "state": {}
     },
     "24eb8ccbfcce4b70806b7f160d387d22": {
      "model_module": "@jupyter-widgets/controls",
      "model_module_version": "1.4.0",
      "model_name": "HBoxModel",
      "state": {
       "children": [
        "IPY_MODEL_8e97b125390548fdba61e7c298ebe6f4",
        "IPY_MODEL_05c55d3e64d04d72af6de671b4bbae2c"
       ],
       "layout": "IPY_MODEL_b8bc37bd66064338ac64d8d731d88215"
      }
     },
     "25440abe77854611a1aeb5c3fc415c8d": {
      "model_module": "@jupyter-widgets/base",
      "model_module_version": "1.1.0",
      "model_name": "LayoutModel",
      "state": {}
     },
     "262c0d3229164a85b27a045598a0dad3": {
      "model_module": "@jupyter-widgets/controls",
      "model_module_version": "1.4.0",
      "model_name": "HTMLModel",
      "state": {
       "layout": "IPY_MODEL_f9b8f8ec556a402294a0da6df8c9a7b7",
       "style": "IPY_MODEL_d23c981178c44e529c425326188d8e2d",
       "value": "100% 100/100 [00:00&lt;00:00, 1634.64it/s]"
      }
     },
     "2677f9ab2b4e48978d7209894d623437": {
      "model_module": "@jupyter-widgets/controls",
      "model_module_version": "1.4.0",
      "model_name": "ProgressStyleModel",
      "state": {
       "description_width": ""
      }
     },
     "26c22a48bdd14e699e8d5f85d61877c3": {
      "model_module": "@jupyter-widgets/controls",
      "model_module_version": "1.4.0",
      "model_name": "IntProgressModel",
      "state": {
       "bar_style": "success",
       "layout": "IPY_MODEL_be9d73e639984389b991ecc08568cd8e",
       "max": 1000,
       "style": "IPY_MODEL_8d1d079c59fe4d3e819777b4e43d5bff",
       "value": 1000
      }
     },
     "26d0fa30d963408f9e0a80ee6157cbea": {
      "model_module": "@jupyter-widgets/controls",
      "model_module_version": "1.4.0",
      "model_name": "DescriptionStyleModel",
      "state": {
       "description_width": ""
      }
     },
     "273dd70cdb25444a9a3a83a7608f598e": {
      "model_module": "@jupyter-widgets/controls",
      "model_module_version": "1.4.0",
      "model_name": "IntProgressModel",
      "state": {
       "bar_style": "success",
       "layout": "IPY_MODEL_e19aeb9e96b14dbda17f0a7cbf6f5a85",
       "max": 1000,
       "style": "IPY_MODEL_0acafe19b70e4763bfc6b1918e51b43b",
       "value": 1000
      }
     },
     "277defa6269144f3a22973e5c362112f": {
      "model_module": "@jupyter-widgets/base",
      "model_module_version": "1.1.0",
      "model_name": "LayoutModel",
      "state": {}
     },
     "278e8d60ec5249c69c5f410c723e6502": {
      "model_module": "@jupyter-widgets/controls",
      "model_module_version": "1.4.0",
      "model_name": "IntProgressModel",
      "state": {
       "bar_style": "success",
       "layout": "IPY_MODEL_14c81d1a39fd405ea627f56322939c64",
       "max": 1000,
       "style": "IPY_MODEL_eebdb9830e2f453a890c0772204ede4c",
       "value": 1000
      }
     },
     "27f1a782cfa947a98b150e19d0a00bb4": {
      "model_module": "@jupyter-widgets/base",
      "model_module_version": "1.1.0",
      "model_name": "LayoutModel",
      "state": {}
     },
     "29602da658a34288868e4099d5d9355e": {
      "model_module": "@jupyter-widgets/controls",
      "model_module_version": "1.4.0",
      "model_name": "IntProgressModel",
      "state": {
       "bar_style": "success",
       "layout": "IPY_MODEL_c9660ae821bc48b4a6bfd4370778972e",
       "max": 996559,
       "style": "IPY_MODEL_2677f9ab2b4e48978d7209894d623437",
       "value": 996559
      }
     },
     "298085230bb54ffd942d0eff50916292": {
      "model_module": "@jupyter-widgets/base",
      "model_module_version": "1.1.0",
      "model_name": "LayoutModel",
      "state": {}
     },
     "299fe1e0e73249cba3c3d07b8f920937": {
      "model_module": "@jupyter-widgets/base",
      "model_module_version": "1.1.0",
      "model_name": "LayoutModel",
      "state": {}
     },
     "2b5babb3bb324affaf2bff19c7a58a32": {
      "model_module": "@jupyter-widgets/base",
      "model_module_version": "1.1.0",
      "model_name": "LayoutModel",
      "state": {}
     },
     "2b98d2c4e5834ef6ab1266d05413cec2": {
      "model_module": "@jupyter-widgets/controls",
      "model_module_version": "1.4.0",
      "model_name": "HTMLModel",
      "state": {
       "layout": "IPY_MODEL_32952686e24348b28ef41dbe38ea1e74",
       "style": "IPY_MODEL_9a714ccd7c9f4bd0958921e8c1cf35d5",
       "value": "100% 100/100 [00:00&lt;00:00, 1751.34it/s]"
      }
     },
     "2ce219400ebc48f0b52f41435e452202": {
      "model_module": "@jupyter-widgets/controls",
      "model_module_version": "1.4.0",
      "model_name": "DescriptionStyleModel",
      "state": {
       "description_width": ""
      }
     },
     "2ce34c4ba4dc477096328ea7cde9ebf1": {
      "model_module": "@jupyter-widgets/controls",
      "model_module_version": "1.4.0",
      "model_name": "HBoxModel",
      "state": {
       "children": [
        "IPY_MODEL_e5c0a7e0496747b0a241b9df6988d4c9",
        "IPY_MODEL_8786b6eb1acb44eeb3cee52a8f756166"
       ],
       "layout": "IPY_MODEL_b2dc9536f0474e39a591298b7152386e"
      }
     },
     "2da4315334624fffa49a14d2ea8cd433": {
      "model_module": "@jupyter-widgets/base",
      "model_module_version": "1.1.0",
      "model_name": "LayoutModel",
      "state": {}
     },
     "2dc2ab11c68f447985b52da854656956": {
      "model_module": "@jupyter-widgets/controls",
      "model_module_version": "1.4.0",
      "model_name": "IntProgressModel",
      "state": {
       "bar_style": "danger",
       "layout": "IPY_MODEL_afb521b3101f48acb7aeed3f1b17f7ec",
       "max": 996559,
       "style": "IPY_MODEL_a5959501d7b949feb773f7df4dac8071",
       "value": 192
      }
     },
     "2e6eed8e5c184c07956ce1237d7d5ab2": {
      "model_module": "@jupyter-widgets/controls",
      "model_module_version": "1.4.0",
      "model_name": "HTMLModel",
      "state": {
       "layout": "IPY_MODEL_ca7e5b67d5de44d895828dbece49eb6e",
       "style": "IPY_MODEL_8e12c4cc8bd145afa2bd0b50aab37aaf",
       "value": "100% 1000/1000 [00:00&lt;00:00, 8872.87it/s]"
      }
     },
     "2f211a9ef6874c55af75c2b9e9bcae5f": {
      "model_module": "@jupyter-widgets/controls",
      "model_module_version": "1.4.0",
      "model_name": "HBoxModel",
      "state": {
       "children": [
        "IPY_MODEL_677cdece8b0f42aa9b4c6af19f2d449d",
        "IPY_MODEL_f1a949059c784dc086555c3c00cab333"
       ],
       "layout": "IPY_MODEL_59f22935e79640fb893a12cb843b2089"
      }
     },
     "2fc96e8ed22a403ebd87e069a481083c": {
      "model_module": "@jupyter-widgets/controls",
      "model_module_version": "1.4.0",
      "model_name": "ProgressStyleModel",
      "state": {
       "description_width": ""
      }
     },
     "3021be9753e64e92ae9411ed0d40e631": {
      "model_module": "@jupyter-widgets/controls",
      "model_module_version": "1.4.0",
      "model_name": "ProgressStyleModel",
      "state": {
       "description_width": ""
      }
     },
     "303dbf7f88394a2cb38054f59de1ea54": {
      "model_module": "@jupyter-widgets/base",
      "model_module_version": "1.1.0",
      "model_name": "LayoutModel",
      "state": {}
     },
     "3041180da1c34c6cb479fd15ef869159": {
      "model_module": "@jupyter-widgets/base",
      "model_module_version": "1.1.0",
      "model_name": "LayoutModel",
      "state": {}
     },
     "3055c60980e94ab0a254165480be5838": {
      "model_module": "@jupyter-widgets/controls",
      "model_module_version": "1.4.0",
      "model_name": "DescriptionStyleModel",
      "state": {
       "description_width": ""
      }
     },
     "30b5a49b58a2444cb7bc6677e8c986f3": {
      "model_module": "@jupyter-widgets/base",
      "model_module_version": "1.1.0",
      "model_name": "LayoutModel",
      "state": {}
     },
     "30c4e72721eb4fda99fb0f51836f8465": {
      "model_module": "@jupyter-widgets/controls",
      "model_module_version": "1.4.0",
      "model_name": "ProgressStyleModel",
      "state": {
       "description_width": ""
      }
     },
     "30e7905b85bf431fb1f92733e68724df": {
      "model_module": "@jupyter-widgets/controls",
      "model_module_version": "1.4.0",
      "model_name": "ProgressStyleModel",
      "state": {
       "description_width": ""
      }
     },
     "3160edab40444cefa6e1be414a1213ff": {
      "model_module": "@jupyter-widgets/controls",
      "model_module_version": "1.4.0",
      "model_name": "ProgressStyleModel",
      "state": {
       "description_width": ""
      }
     },
     "31b96316e52f460c9bb848e8464b4a1f": {
      "model_module": "@jupyter-widgets/controls",
      "model_module_version": "1.4.0",
      "model_name": "ProgressStyleModel",
      "state": {
       "description_width": ""
      }
     },
     "31fc31d3f8ec4397ba882f84927fabe5": {
      "model_module": "@jupyter-widgets/controls",
      "model_module_version": "1.4.0",
      "model_name": "DescriptionStyleModel",
      "state": {
       "description_width": ""
      }
     },
     "32952686e24348b28ef41dbe38ea1e74": {
      "model_module": "@jupyter-widgets/base",
      "model_module_version": "1.1.0",
      "model_name": "LayoutModel",
      "state": {}
     },
     "32ab73a7e93f432cae2a49ba7d305e87": {
      "model_module": "@jupyter-widgets/controls",
      "model_module_version": "1.4.0",
      "model_name": "IntProgressModel",
      "state": {
       "bar_style": "success",
       "layout": "IPY_MODEL_163f930c797d4efb82b8020f83793f75",
       "max": 1000,
       "style": "IPY_MODEL_ccac78a2ee6645829e6a81499e7aee31",
       "value": 1000
      }
     },
     "32bab19dceb24aa8a14fd1164cff03fd": {
      "model_module": "@jupyter-widgets/base",
      "model_module_version": "1.1.0",
      "model_name": "LayoutModel",
      "state": {}
     },
     "32f255a425b243138dcd3929e55185b5": {
      "model_module": "@jupyter-widgets/controls",
      "model_module_version": "1.4.0",
      "model_name": "DescriptionStyleModel",
      "state": {
       "description_width": ""
      }
     },
     "33104029b56d489dad95a992004b7478": {
      "model_module": "@jupyter-widgets/controls",
      "model_module_version": "1.4.0",
      "model_name": "HBoxModel",
      "state": {
       "children": [
        "IPY_MODEL_198f65cef1e14797b4fedb8bfff37eaa",
        "IPY_MODEL_61bfc6d773c640538d72af00d462f2e0"
       ],
       "layout": "IPY_MODEL_32bab19dceb24aa8a14fd1164cff03fd"
      }
     },
     "3320d15f30e44f7aa74ef38f61a9958d": {
      "model_module": "@jupyter-widgets/controls",
      "model_module_version": "1.4.0",
      "model_name": "DescriptionStyleModel",
      "state": {
       "description_width": ""
      }
     },
     "339783271879426cbc80648541e25a4f": {
      "model_module": "@jupyter-widgets/base",
      "model_module_version": "1.1.0",
      "model_name": "LayoutModel",
      "state": {}
     },
     "33aadd0903fb431f86131eb3b178abdb": {
      "model_module": "@jupyter-widgets/controls",
      "model_module_version": "1.4.0",
      "model_name": "IntProgressModel",
      "state": {
       "bar_style": "success",
       "layout": "IPY_MODEL_7040bc0fdb9b42bcbbe984b5de4840e8",
       "style": "IPY_MODEL_c22364cf803a47d8be6826da93584a57",
       "value": 100
      }
     },
     "33b6c0a8a8f24d36af80945d7491a99f": {
      "model_module": "@jupyter-widgets/base",
      "model_module_version": "1.1.0",
      "model_name": "LayoutModel",
      "state": {}
     },
     "343125f1c7254487bde78b9085a5e036": {
      "model_module": "@jupyter-widgets/controls",
      "model_module_version": "1.4.0",
      "model_name": "HTMLModel",
      "state": {
       "layout": "IPY_MODEL_5aa3b2f4bcf546c5980f7415fb2454d1",
       "style": "IPY_MODEL_3aabc71d2be14d8f8e4a44a16f365d70",
       "value": "  0% 192/996559 [00:01&lt;1:50:56, 149.68it/s]"
      }
     },
     "34a3ab81d83545d6b58311a574791ff2": {
      "model_module": "@jupyter-widgets/base",
      "model_module_version": "1.1.0",
      "model_name": "LayoutModel",
      "state": {}
     },
     "34d4bc020e084d3f9b72e1ef7381ec72": {
      "model_module": "@jupyter-widgets/controls",
      "model_module_version": "1.4.0",
      "model_name": "DescriptionStyleModel",
      "state": {
       "description_width": ""
      }
     },
     "34fe24cb4c8f4e099eb55b7dad2202c6": {
      "model_module": "@jupyter-widgets/base",
      "model_module_version": "1.1.0",
      "model_name": "LayoutModel",
      "state": {}
     },
     "35063ac8863344dd8619c7572f3f02f5": {
      "model_module": "@jupyter-widgets/controls",
      "model_module_version": "1.4.0",
      "model_name": "ProgressStyleModel",
      "state": {
       "description_width": ""
      }
     },
     "351afbe2c6c545e1981362f3bb63c3a6": {
      "model_module": "@jupyter-widgets/base",
      "model_module_version": "1.1.0",
      "model_name": "LayoutModel",
      "state": {}
     },
     "356f8b6d673d45ab848fcff6daf554cb": {
      "model_module": "@jupyter-widgets/base",
      "model_module_version": "1.1.0",
      "model_name": "LayoutModel",
      "state": {}
     },
     "35805c806977415ea611dc805853532b": {
      "model_module": "@jupyter-widgets/controls",
      "model_module_version": "1.4.0",
      "model_name": "ProgressStyleModel",
      "state": {
       "description_width": ""
      }
     },
     "35a0241b35644666b06a4a7a1b1d041e": {
      "model_module": "@jupyter-widgets/controls",
      "model_module_version": "1.4.0",
      "model_name": "ProgressStyleModel",
      "state": {
       "description_width": ""
      }
     },
     "35e6f7534be24ab0a9a36f1129a46ae2": {
      "model_module": "@jupyter-widgets/base",
      "model_module_version": "1.1.0",
      "model_name": "LayoutModel",
      "state": {}
     },
     "35f26bee04974395b91885ca5e072df5": {
      "model_module": "@jupyter-widgets/controls",
      "model_module_version": "1.4.0",
      "model_name": "HTMLModel",
      "state": {
       "layout": "IPY_MODEL_bc07da6dacef41c7b76833dee3163d15",
       "style": "IPY_MODEL_bec24493fc894b9f8a888213cbf34bfb",
       "value": "100% 996559/996559 [2:12:22&lt;00:00, 125.47it/s]"
      }
     },
     "363d0da8de0e46f99ae03aed85ed21de": {
      "model_module": "@jupyter-widgets/base",
      "model_module_version": "1.1.0",
      "model_name": "LayoutModel",
      "state": {}
     },
     "367e2a0ee6354e81a2c4dafc213a1cff": {
      "model_module": "@jupyter-widgets/controls",
      "model_module_version": "1.4.0",
      "model_name": "HTMLModel",
      "state": {
       "layout": "IPY_MODEL_241289817ceb4e6c9037668fd056d967",
       "style": "IPY_MODEL_c8fb75e0706b41b0bafb5119170dcd7d",
       "value": "100% 100/100 [00:00&lt;00:00, 1587.89it/s]"
      }
     },
     "36c2bd8a5a174e648ab04f8e7f2f956a": {
      "model_module": "@jupyter-widgets/controls",
      "model_module_version": "1.4.0",
      "model_name": "HBoxModel",
      "state": {
       "children": [
        "IPY_MODEL_10df3fe86f434b808080cc0be836b1ca",
        "IPY_MODEL_2e6eed8e5c184c07956ce1237d7d5ab2"
       ],
       "layout": "IPY_MODEL_f7d8e0bfbc2d4f2c9759c0884e367dc4"
      }
     },
     "3732bd8a0d844f2fb4aafc37face22b7": {
      "model_module": "@jupyter-widgets/controls",
      "model_module_version": "1.4.0",
      "model_name": "ProgressStyleModel",
      "state": {
       "description_width": ""
      }
     },
     "3743f163a0bc43ed818a42f8d04b7daa": {
      "model_module": "@jupyter-widgets/base",
      "model_module_version": "1.1.0",
      "model_name": "LayoutModel",
      "state": {}
     },
     "37913a3b30f945ffbc5551755b7406e0": {
      "model_module": "@jupyter-widgets/controls",
      "model_module_version": "1.4.0",
      "model_name": "HBoxModel",
      "state": {
       "children": [
        "IPY_MODEL_d263d3d9acd04bd187e4ec1b9ef91137",
        "IPY_MODEL_8fe49f1590394f589ccf5272e0ae0d59"
       ],
       "layout": "IPY_MODEL_405ad2df011f4d67bd2532ddc139d37f"
      }
     },
     "387c46eb824041e0bd4f8503e016072b": {
      "model_module": "@jupyter-widgets/base",
      "model_module_version": "1.1.0",
      "model_name": "LayoutModel",
      "state": {}
     },
     "3883b645acd24af0a98284e76ce0dd0b": {
      "model_module": "@jupyter-widgets/controls",
      "model_module_version": "1.4.0",
      "model_name": "HTMLModel",
      "state": {
       "layout": "IPY_MODEL_f35e757ef4e8412a9deb59aadf8e2268",
       "style": "IPY_MODEL_c2a7a92493744cb19a4ecfd06bae6ffb",
       "value": "100% 100/100 [00:00&lt;00:00, 2943.68it/s]"
      }
     },
     "3905a5f7a712473cb378129e26acde68": {
      "model_module": "@jupyter-widgets/base",
      "model_module_version": "1.1.0",
      "model_name": "LayoutModel",
      "state": {}
     },
     "390ceb4a95e5437c99fcebd5f77e476f": {
      "model_module": "@jupyter-widgets/controls",
      "model_module_version": "1.4.0",
      "model_name": "HBoxModel",
      "state": {
       "children": [
        "IPY_MODEL_f2bffbc5bae84fbc8cefbedd58e498c9",
        "IPY_MODEL_a1cf8793c4d940e4b9e0739518f4fbce"
       ],
       "layout": "IPY_MODEL_63cff52d38304f04a8d2a9d036449884"
      }
     },
     "392a12d0220d4cd597b776725b08378f": {
      "model_module": "@jupyter-widgets/base",
      "model_module_version": "1.1.0",
      "model_name": "LayoutModel",
      "state": {}
     },
     "39fdf3a2623a4c5a9041427d719d040e": {
      "model_module": "@jupyter-widgets/base",
      "model_module_version": "1.1.0",
      "model_name": "LayoutModel",
      "state": {}
     },
     "3a7091010e2f4f3fa260804f54803abf": {
      "model_module": "@jupyter-widgets/controls",
      "model_module_version": "1.4.0",
      "model_name": "HTMLModel",
      "state": {
       "layout": "IPY_MODEL_97b90464b0e4485ba38d48b8cd53caa2",
       "style": "IPY_MODEL_e51f3d5297b64a6d926ba92b9b01f57f",
       "value": "100% 1000/1000 [00:00&lt;00:00, 4945.39it/s]"
      }
     },
     "3aabc71d2be14d8f8e4a44a16f365d70": {
      "model_module": "@jupyter-widgets/controls",
      "model_module_version": "1.4.0",
      "model_name": "DescriptionStyleModel",
      "state": {
       "description_width": ""
      }
     },
     "3af3eeb3dda34979910041e3992b67f7": {
      "model_module": "@jupyter-widgets/controls",
      "model_module_version": "1.4.0",
      "model_name": "DescriptionStyleModel",
      "state": {
       "description_width": ""
      }
     },
     "3b7b2de1bc08482d96fc99b0f8756bf1": {
      "model_module": "@jupyter-widgets/controls",
      "model_module_version": "1.4.0",
      "model_name": "HTMLModel",
      "state": {
       "layout": "IPY_MODEL_ce75503c327540dcb2d03e848495ae63",
       "style": "IPY_MODEL_e63a5bd3dcd14fec85adf9914b3786f0",
       "value": "100% 1000/1000 [00:00&lt;00:00, 7090.87it/s]"
      }
     },
     "3c088006642c472796a03f413b9525c0": {
      "model_module": "@jupyter-widgets/controls",
      "model_module_version": "1.4.0",
      "model_name": "HTMLModel",
      "state": {
       "layout": "IPY_MODEL_542bb15ca34c4f3fb7e1520f92f34c85",
       "style": "IPY_MODEL_cc3d3fc29c604a72b259c15c9bb8f2c9",
       "value": "100% 1000/1000 [1:29:04&lt;00:00,  4.27s/it]"
      }
     },
     "3c6ac270cb7242eab8618bc53f137d75": {
      "model_module": "@jupyter-widgets/controls",
      "model_module_version": "1.4.0",
      "model_name": "IntProgressModel",
      "state": {
       "bar_style": "success",
       "layout": "IPY_MODEL_ca376be329c04ee8a3c33998720f1693",
       "style": "IPY_MODEL_7deea42b68444eb7badbc0fd94fb6eac",
       "value": 100
      }
     },
     "3c7e1384d9024328bcfcf01dbd8c4543": {
      "model_module": "@jupyter-widgets/controls",
      "model_module_version": "1.4.0",
      "model_name": "ProgressStyleModel",
      "state": {
       "description_width": ""
      }
     },
     "3cc7ed149b374d7ba952668433c2a9dc": {
      "model_module": "@jupyter-widgets/controls",
      "model_module_version": "1.4.0",
      "model_name": "DescriptionStyleModel",
      "state": {
       "description_width": ""
      }
     },
     "3cd8c51a57b74bdfa61cb95c931b3186": {
      "model_module": "@jupyter-widgets/controls",
      "model_module_version": "1.4.0",
      "model_name": "HTMLModel",
      "state": {
       "layout": "IPY_MODEL_9ffdc424c4314316913f014bb83e6f4c",
       "style": "IPY_MODEL_b6fbccb523e9422ab7ce8e5469cb983f",
       "value": "100% 996559/996559 [2:07:10&lt;00:00, 130.60it/s]"
      }
     },
     "3d3945bcd6b74031805c9fc73fd4e2d5": {
      "model_module": "@jupyter-widgets/controls",
      "model_module_version": "1.4.0",
      "model_name": "ProgressStyleModel",
      "state": {
       "description_width": ""
      }
     },
     "3d3ee0ce94184833831c1d1d5caa6028": {
      "model_module": "@jupyter-widgets/base",
      "model_module_version": "1.1.0",
      "model_name": "LayoutModel",
      "state": {}
     },
     "3db502cbfebd4615a3c4715896aeb432": {
      "model_module": "@jupyter-widgets/base",
      "model_module_version": "1.1.0",
      "model_name": "LayoutModel",
      "state": {}
     },
     "3e691df090894104bb902c6c2ffcb9be": {
      "model_module": "@jupyter-widgets/controls",
      "model_module_version": "1.4.0",
      "model_name": "ProgressStyleModel",
      "state": {
       "description_width": ""
      }
     },
     "3e783cedd844455d9f559d523f954cd7": {
      "model_module": "@jupyter-widgets/controls",
      "model_module_version": "1.4.0",
      "model_name": "DescriptionStyleModel",
      "state": {
       "description_width": ""
      }
     },
     "3ec54c1ef5e64be39495986a820db1ff": {
      "model_module": "@jupyter-widgets/controls",
      "model_module_version": "1.4.0",
      "model_name": "DescriptionStyleModel",
      "state": {
       "description_width": ""
      }
     },
     "3ec790712ad24ab6acadf3cd72b631ba": {
      "model_module": "@jupyter-widgets/controls",
      "model_module_version": "1.4.0",
      "model_name": "ProgressStyleModel",
      "state": {
       "description_width": ""
      }
     },
     "3ed2ce176da744a2be467e69fbba3d69": {
      "model_module": "@jupyter-widgets/controls",
      "model_module_version": "1.4.0",
      "model_name": "IntProgressModel",
      "state": {
       "bar_style": "success",
       "layout": "IPY_MODEL_abea9360c6ca4ba39a40e41dc7e11644",
       "style": "IPY_MODEL_c52cee54fb2e410291be7d814475210f",
       "value": 100
      }
     },
     "3f02933c014f41aabd7ef8a65cde5074": {
      "model_module": "@jupyter-widgets/base",
      "model_module_version": "1.1.0",
      "model_name": "LayoutModel",
      "state": {}
     },
     "3f29e0ce5b2b471d915bf222d504d4e2": {
      "model_module": "@jupyter-widgets/controls",
      "model_module_version": "1.4.0",
      "model_name": "HTMLModel",
      "state": {
       "layout": "IPY_MODEL_7acc0529c2ea4ff3ba6909bcd20cbefb",
       "style": "IPY_MODEL_3e783cedd844455d9f559d523f954cd7",
       "value": "100% 996559/996559 [02:54&lt;00:00, 5703.96it/s]"
      }
     },
     "3fe0683717ae4edda1881c26a1f2fb65": {
      "model_module": "@jupyter-widgets/controls",
      "model_module_version": "1.4.0",
      "model_name": "DescriptionStyleModel",
      "state": {
       "description_width": ""
      }
     },
     "405ad2df011f4d67bd2532ddc139d37f": {
      "model_module": "@jupyter-widgets/base",
      "model_module_version": "1.1.0",
      "model_name": "LayoutModel",
      "state": {}
     },
     "40a33d80d468450294d24b1f0575f23a": {
      "model_module": "@jupyter-widgets/controls",
      "model_module_version": "1.4.0",
      "model_name": "ProgressStyleModel",
      "state": {
       "description_width": ""
      }
     },
     "40b6599893114a63a14961d530c6b482": {
      "model_module": "@jupyter-widgets/controls",
      "model_module_version": "1.4.0",
      "model_name": "DescriptionStyleModel",
      "state": {
       "description_width": ""
      }
     },
     "416a0f968e2a406aad989a2c30595ebd": {
      "model_module": "@jupyter-widgets/controls",
      "model_module_version": "1.4.0",
      "model_name": "HBoxModel",
      "state": {
       "children": [
        "IPY_MODEL_6aef3122b75d4280963c8febc0cf4c6f",
        "IPY_MODEL_7f448a5e54ae437eaa4ce5232132f269"
       ],
       "layout": "IPY_MODEL_5be397bfa08f4eedacbe4421bf8457be"
      }
     },
     "41d03aebeadc42ceb1dbc00dacfc8c50": {
      "model_module": "@jupyter-widgets/base",
      "model_module_version": "1.1.0",
      "model_name": "LayoutModel",
      "state": {}
     },
     "41ec9b7b792649b4b6257cf9a95e4f57": {
      "model_module": "@jupyter-widgets/controls",
      "model_module_version": "1.4.0",
      "model_name": "IntProgressModel",
      "state": {
       "bar_style": "success",
       "layout": "IPY_MODEL_90adeabee58d4e9ba7cb8185353394b0",
       "max": 996559,
       "style": "IPY_MODEL_0ed0fad3eb7446c7a27f942c67c5f0d0",
       "value": 996559
      }
     },
     "41fe876524e14768b047c41da5986527": {
      "model_module": "@jupyter-widgets/base",
      "model_module_version": "1.1.0",
      "model_name": "LayoutModel",
      "state": {}
     },
     "4239eff7be924360a73b84ef59a523ee": {
      "model_module": "@jupyter-widgets/base",
      "model_module_version": "1.1.0",
      "model_name": "LayoutModel",
      "state": {}
     },
     "439438ff391e405a9dbc9435e7fe5624": {
      "model_module": "@jupyter-widgets/base",
      "model_module_version": "1.1.0",
      "model_name": "LayoutModel",
      "state": {}
     },
     "43cb45241ad9414b83016ba0ea47624e": {
      "model_module": "@jupyter-widgets/controls",
      "model_module_version": "1.4.0",
      "model_name": "DescriptionStyleModel",
      "state": {
       "description_width": ""
      }
     },
     "44a920f8330c4c90a87278bd788c5008": {
      "model_module": "@jupyter-widgets/controls",
      "model_module_version": "1.4.0",
      "model_name": "IntProgressModel",
      "state": {
       "bar_style": "success",
       "layout": "IPY_MODEL_05655539aafe429c8c9a7039d1de3b07",
       "max": 1000,
       "style": "IPY_MODEL_1e0d067cb69e4dbea839128e42bba141",
       "value": 1000
      }
     },
     "44b7219feb544c42bbbb2e0673333af0": {
      "model_module": "@jupyter-widgets/base",
      "model_module_version": "1.1.0",
      "model_name": "LayoutModel",
      "state": {}
     },
     "45063ee0641c46a4bb947f3af55a51fe": {
      "model_module": "@jupyter-widgets/base",
      "model_module_version": "1.1.0",
      "model_name": "LayoutModel",
      "state": {}
     },
     "452417c8b2c5439b81cd5e7130020c39": {
      "model_module": "@jupyter-widgets/base",
      "model_module_version": "1.1.0",
      "model_name": "LayoutModel",
      "state": {}
     },
     "45744eb0ddc84d48b9ff44f6cdf89c1b": {
      "model_module": "@jupyter-widgets/base",
      "model_module_version": "1.1.0",
      "model_name": "LayoutModel",
      "state": {}
     },
     "46625e17f54548739c689b390480c0b0": {
      "model_module": "@jupyter-widgets/controls",
      "model_module_version": "1.4.0",
      "model_name": "HTMLModel",
      "state": {
       "layout": "IPY_MODEL_7c8e449c4e8b44b9acac8f89b994bd0e",
       "style": "IPY_MODEL_26d0fa30d963408f9e0a80ee6157cbea",
       "value": "100% 100/100 [03:36&lt;00:00,  2.01s/it]"
      }
     },
     "47986d7dfe9740d1bca19a869dda1db1": {
      "model_module": "@jupyter-widgets/controls",
      "model_module_version": "1.4.0",
      "model_name": "HBoxModel",
      "state": {
       "children": [
        "IPY_MODEL_e0ac59e0b4ee438c8fa5968046ed017f",
        "IPY_MODEL_4be7d365eb9242d3abc75229fb6870de"
       ],
       "layout": "IPY_MODEL_855bb6cccc074270821ab3266703afe3"
      }
     },
     "47affd0e8130496592eea8e3e9c23fb0": {
      "model_module": "@jupyter-widgets/controls",
      "model_module_version": "1.4.0",
      "model_name": "HTMLModel",
      "state": {
       "layout": "IPY_MODEL_fce0d351b009448c924c2d69a8140f00",
       "style": "IPY_MODEL_43cb45241ad9414b83016ba0ea47624e",
       "value": "100% 996559/996559 [17:07&lt;00:00, 969.57it/s]"
      }
     },
     "4810c709f1a246a5868265d8047be680": {
      "model_module": "@jupyter-widgets/base",
      "model_module_version": "1.1.0",
      "model_name": "LayoutModel",
      "state": {}
     },
     "481c716686ee4482a6c2a561ebc2aa73": {
      "model_module": "@jupyter-widgets/controls",
      "model_module_version": "1.4.0",
      "model_name": "DescriptionStyleModel",
      "state": {
       "description_width": ""
      }
     },
     "48226b639c4b4c38850b3615c00f04f1": {
      "model_module": "@jupyter-widgets/base",
      "model_module_version": "1.1.0",
      "model_name": "LayoutModel",
      "state": {}
     },
     "483252fc793b43458e054fc2b3c7e42d": {
      "model_module": "@jupyter-widgets/base",
      "model_module_version": "1.1.0",
      "model_name": "LayoutModel",
      "state": {}
     },
     "4832cdca648a4e479e128773fd87a006": {
      "model_module": "@jupyter-widgets/controls",
      "model_module_version": "1.4.0",
      "model_name": "HTMLModel",
      "state": {
       "layout": "IPY_MODEL_552b46615a214b7483406f0dbd86bb88",
       "style": "IPY_MODEL_7fad22d666fa4a91b6dc6e88ba139707",
       "value": "100% 100/100 [00:00&lt;00:00, 3036.07it/s]"
      }
     },
     "4864e62a216a46d592909f2768366e68": {
      "model_module": "@jupyter-widgets/controls",
      "model_module_version": "1.4.0",
      "model_name": "HBoxModel",
      "state": {
       "children": [
        "IPY_MODEL_278e8d60ec5249c69c5f410c723e6502",
        "IPY_MODEL_d71742b39c764ea9ba6f383706d2918a"
       ],
       "layout": "IPY_MODEL_c9088bc0107a4c478261172e494ec4dd"
      }
     },
     "48c9367dc72e40b19a8de8fd70af770b": {
      "model_module": "@jupyter-widgets/controls",
      "model_module_version": "1.4.0",
      "model_name": "DescriptionStyleModel",
      "state": {
       "description_width": ""
      }
     },
     "48cf1723e3234b6581bc573e317f82b8": {
      "model_module": "@jupyter-widgets/controls",
      "model_module_version": "1.4.0",
      "model_name": "DescriptionStyleModel",
      "state": {
       "description_width": ""
      }
     },
     "48d57e16ab9f4278a03062adbeff7dee": {
      "model_module": "@jupyter-widgets/base",
      "model_module_version": "1.1.0",
      "model_name": "LayoutModel",
      "state": {}
     },
     "49dd3a39fae843c4acda2913509d6dc8": {
      "model_module": "@jupyter-widgets/controls",
      "model_module_version": "1.4.0",
      "model_name": "HBoxModel",
      "state": {
       "children": [
        "IPY_MODEL_1eb4cd475ce24a61bbb2ed0a4d7746b5",
        "IPY_MODEL_367e2a0ee6354e81a2c4dafc213a1cff"
       ],
       "layout": "IPY_MODEL_fc40c09aa17f4e6297ef188a5d5a63f1"
      }
     },
     "4a0fcc297de144fab9e4a784b0bd622d": {
      "model_module": "@jupyter-widgets/controls",
      "model_module_version": "1.4.0",
      "model_name": "DescriptionStyleModel",
      "state": {
       "description_width": ""
      }
     },
     "4a8c7697ed9640939796b8c8f46d0d6c": {
      "model_module": "@jupyter-widgets/controls",
      "model_module_version": "1.4.0",
      "model_name": "DescriptionStyleModel",
      "state": {
       "description_width": ""
      }
     },
     "4ae7ae86d2f74898a0da9dda362457fc": {
      "model_module": "@jupyter-widgets/controls",
      "model_module_version": "1.4.0",
      "model_name": "DescriptionStyleModel",
      "state": {
       "description_width": ""
      }
     },
     "4af94e70f9c84e82b947c2dcbc1831b1": {
      "model_module": "@jupyter-widgets/base",
      "model_module_version": "1.1.0",
      "model_name": "LayoutModel",
      "state": {}
     },
     "4b1b406270eb491e8c783dad25310851": {
      "model_module": "@jupyter-widgets/controls",
      "model_module_version": "1.4.0",
      "model_name": "HBoxModel",
      "state": {
       "children": [
        "IPY_MODEL_e436effed1cb4cdbb1417bf35d1849fa",
        "IPY_MODEL_0b2b41ea508345b89ca790638cd16f1d"
       ],
       "layout": "IPY_MODEL_2485692e91b24a72ae83e463aa0ee995"
      }
     },
     "4b4afb543ba64389a868c7474690d553": {
      "model_module": "@jupyter-widgets/base",
      "model_module_version": "1.1.0",
      "model_name": "LayoutModel",
      "state": {}
     },
     "4b59e4e88c814cc1a0a36fd151a6b8da": {
      "model_module": "@jupyter-widgets/base",
      "model_module_version": "1.1.0",
      "model_name": "LayoutModel",
      "state": {}
     },
     "4b8b5c54055e49f58548582c9c736aae": {
      "model_module": "@jupyter-widgets/controls",
      "model_module_version": "1.4.0",
      "model_name": "HBoxModel",
      "state": {
       "children": [
        "IPY_MODEL_b4ec759122b94076945f9b9ecc694c25",
        "IPY_MODEL_91651ab4cfe541f19cfa6d98cd8e7ae2"
       ],
       "layout": "IPY_MODEL_baf7672ca6aa41ba937acb6579a1bba4"
      }
     },
     "4be7d365eb9242d3abc75229fb6870de": {
      "model_module": "@jupyter-widgets/controls",
      "model_module_version": "1.4.0",
      "model_name": "HTMLModel",
      "state": {
       "layout": "IPY_MODEL_2b5babb3bb324affaf2bff19c7a58a32",
       "style": "IPY_MODEL_b3048593f7454951bd17fbbcf4aa0b91",
       "value": "100% 100/100 [01:17&lt;00:00,  1.17s/it]"
      }
     },
     "4c549d0929f64c04b225b645ad8d50b0": {
      "model_module": "@jupyter-widgets/controls",
      "model_module_version": "1.4.0",
      "model_name": "HTMLModel",
      "state": {
       "layout": "IPY_MODEL_750a941c353045548510ea607ace3425",
       "style": "IPY_MODEL_3320d15f30e44f7aa74ef38f61a9958d",
       "value": "100% 996559/996559 [3:59:35&lt;00:00, 69.32it/s]"
      }
     },
     "4c889f648fa34994bdd48321b67fe3cd": {
      "model_module": "@jupyter-widgets/controls",
      "model_module_version": "1.4.0",
      "model_name": "ProgressStyleModel",
      "state": {
       "description_width": ""
      }
     },
     "4d180d1c219d4ecb9c14b37975a96d7f": {
      "model_module": "@jupyter-widgets/controls",
      "model_module_version": "1.4.0",
      "model_name": "HTMLModel",
      "state": {
       "layout": "IPY_MODEL_6bcb7ffabdba4947916a53b42a487e37",
       "style": "IPY_MODEL_e0582700679a4fb2a175d4dfc7120a6f",
       "value": "100% 100/100 [00:00&lt;00:00, 3362.41it/s]"
      }
     },
     "4d182070b2d84e899e47c3c3d4b3ab76": {
      "model_module": "@jupyter-widgets/controls",
      "model_module_version": "1.4.0",
      "model_name": "DescriptionStyleModel",
      "state": {
       "description_width": ""
      }
     },
     "4d1d4521a26e453f9bbe7a88544ea6e5": {
      "model_module": "@jupyter-widgets/controls",
      "model_module_version": "1.4.0",
      "model_name": "DescriptionStyleModel",
      "state": {
       "description_width": ""
      }
     },
     "4d94341ac9bc41de92ceab0c650e7e15": {
      "model_module": "@jupyter-widgets/controls",
      "model_module_version": "1.4.0",
      "model_name": "ProgressStyleModel",
      "state": {
       "description_width": ""
      }
     },
     "4d9b49596afd47d48184bf2d2202d9b4": {
      "model_module": "@jupyter-widgets/controls",
      "model_module_version": "1.4.0",
      "model_name": "HBoxModel",
      "state": {
       "children": [
        "IPY_MODEL_1ba7f2c8cfd440d4861ec1f0048e9458",
        "IPY_MODEL_0993992ec62e4d82b5af62d29197575b"
       ],
       "layout": "IPY_MODEL_48226b639c4b4c38850b3615c00f04f1"
      }
     },
     "4fe0108064694adb8ea4a63e1b042c5b": {
      "model_module": "@jupyter-widgets/base",
      "model_module_version": "1.1.0",
      "model_name": "LayoutModel",
      "state": {}
     },
     "4ffed0656d2944a2966cb9084be7af54": {
      "model_module": "@jupyter-widgets/base",
      "model_module_version": "1.1.0",
      "model_name": "LayoutModel",
      "state": {}
     },
     "503b1eedb59442bdb22c02501da702e5": {
      "model_module": "@jupyter-widgets/controls",
      "model_module_version": "1.4.0",
      "model_name": "HBoxModel",
      "state": {
       "children": [
        "IPY_MODEL_c97c9b84a7eb4b8fb910069111d3357b",
        "IPY_MODEL_181c59fd7b6344759b9b0c1d0b87ab8a"
       ],
       "layout": "IPY_MODEL_5f9d6b34058743dcaa2ba9b0abba217f"
      }
     },
     "506b418ff0074897aaa68ba3c6f9e93f": {
      "model_module": "@jupyter-widgets/base",
      "model_module_version": "1.1.0",
      "model_name": "LayoutModel",
      "state": {}
     },
     "50f73dec6b8b403b9bd37fe721a1720e": {
      "model_module": "@jupyter-widgets/controls",
      "model_module_version": "1.4.0",
      "model_name": "HTMLModel",
      "state": {
       "layout": "IPY_MODEL_48d57e16ab9f4278a03062adbeff7dee",
       "style": "IPY_MODEL_d3ed61f8c296449681c7a7a9906226b7",
       "value": "100% 996559/996559 [02:57&lt;00:00, 5615.43it/s]"
      }
     },
     "518ccb6e46ee47229b800108f6fab9d1": {
      "model_module": "@jupyter-widgets/controls",
      "model_module_version": "1.4.0",
      "model_name": "IntProgressModel",
      "state": {
       "bar_style": "success",
       "layout": "IPY_MODEL_f53d26e2aab84e50ad5e27c92ab0ba0d",
       "style": "IPY_MODEL_cfd52da526e74a7885bcb574427234c1",
       "value": 100
      }
     },
     "52516a6d842d42cbb207738ad7b20530": {
      "model_module": "@jupyter-widgets/base",
      "model_module_version": "1.1.0",
      "model_name": "LayoutModel",
      "state": {}
     },
     "525733361d65492c94c1cff91d200387": {
      "model_module": "@jupyter-widgets/base",
      "model_module_version": "1.1.0",
      "model_name": "LayoutModel",
      "state": {}
     },
     "5298d744f42a4ca69e92322ce998cdda": {
      "model_module": "@jupyter-widgets/base",
      "model_module_version": "1.1.0",
      "model_name": "LayoutModel",
      "state": {}
     },
     "5316936724534c7c9d1e0adba8847348": {
      "model_module": "@jupyter-widgets/base",
      "model_module_version": "1.1.0",
      "model_name": "LayoutModel",
      "state": {}
     },
     "53715966ae1c4556a0a06783a6fb5177": {
      "model_module": "@jupyter-widgets/controls",
      "model_module_version": "1.4.0",
      "model_name": "DescriptionStyleModel",
      "state": {
       "description_width": ""
      }
     },
     "5375408b15e24e9cb5775d8c778bbbad": {
      "model_module": "@jupyter-widgets/controls",
      "model_module_version": "1.4.0",
      "model_name": "ProgressStyleModel",
      "state": {
       "description_width": ""
      }
     },
     "53a57707ee304a89b348ad6cffc315b7": {
      "model_module": "@jupyter-widgets/controls",
      "model_module_version": "1.4.0",
      "model_name": "ProgressStyleModel",
      "state": {
       "description_width": ""
      }
     },
     "542bb15ca34c4f3fb7e1520f92f34c85": {
      "model_module": "@jupyter-widgets/base",
      "model_module_version": "1.1.0",
      "model_name": "LayoutModel",
      "state": {}
     },
     "552b46615a214b7483406f0dbd86bb88": {
      "model_module": "@jupyter-widgets/base",
      "model_module_version": "1.1.0",
      "model_name": "LayoutModel",
      "state": {}
     },
     "55688bea7c9a4445b56c7d44f271325b": {
      "model_module": "@jupyter-widgets/controls",
      "model_module_version": "1.4.0",
      "model_name": "HTMLModel",
      "state": {
       "layout": "IPY_MODEL_ded688846875474c9e2e88bbd5cc5c1b",
       "style": "IPY_MODEL_9774147ca9fb41b88e4c805df11e6899",
       "value": "100% 100/100 [07:51&lt;00:00,  3.80s/it]"
      }
     },
     "565ca51066ba4adcbcebcffe8e305300": {
      "model_module": "@jupyter-widgets/base",
      "model_module_version": "1.1.0",
      "model_name": "LayoutModel",
      "state": {}
     },
     "571395b536034d4eaf9a0fadea66803a": {
      "model_module": "@jupyter-widgets/controls",
      "model_module_version": "1.4.0",
      "model_name": "IntProgressModel",
      "state": {
       "bar_style": "success",
       "layout": "IPY_MODEL_9df534bea9b34fb9b220b99043e1f40a",
       "style": "IPY_MODEL_dd5c6bbcd26e43da9d8cedc962bb3328",
       "value": 100
      }
     },
     "574429e0d01a4a13a49c0cc932477efc": {
      "model_module": "@jupyter-widgets/controls",
      "model_module_version": "1.4.0",
      "model_name": "HBoxModel",
      "state": {
       "children": [
        "IPY_MODEL_273dd70cdb25444a9a3a83a7608f598e",
        "IPY_MODEL_e3171dad8c16492a98e9ba82500e817a"
       ],
       "layout": "IPY_MODEL_506b418ff0074897aaa68ba3c6f9e93f"
      }
     },
     "58e00126203b488787528e6df62f47ac": {
      "model_module": "@jupyter-widgets/base",
      "model_module_version": "1.1.0",
      "model_name": "LayoutModel",
      "state": {}
     },
     "58f4199ed71b439f86601dcea6d1b292": {
      "model_module": "@jupyter-widgets/controls",
      "model_module_version": "1.4.0",
      "model_name": "IntProgressModel",
      "state": {
       "bar_style": "success",
       "layout": "IPY_MODEL_eaaabd1e43df4077901ab2eece775e6b",
       "max": 1000,
       "style": "IPY_MODEL_9532d86bff3f424593b43f2458d805e6",
       "value": 1000
      }
     },
     "597080cc9d6d48e984969eba92612d55": {
      "model_module": "@jupyter-widgets/controls",
      "model_module_version": "1.4.0",
      "model_name": "HBoxModel",
      "state": {
       "children": [
        "IPY_MODEL_96185c3f7951447d9b923d37e78f7f74",
        "IPY_MODEL_e75576d4dd214dbea850ca4483a5d362"
       ],
       "layout": "IPY_MODEL_99e8496d473a4a408976d899c281d996"
      }
     },
     "59f22935e79640fb893a12cb843b2089": {
      "model_module": "@jupyter-widgets/base",
      "model_module_version": "1.1.0",
      "model_name": "LayoutModel",
      "state": {}
     },
     "5aa3b2f4bcf546c5980f7415fb2454d1": {
      "model_module": "@jupyter-widgets/base",
      "model_module_version": "1.1.0",
      "model_name": "LayoutModel",
      "state": {}
     },
     "5b7cd26db2394df3adf6a2d4de7537c3": {
      "model_module": "@jupyter-widgets/base",
      "model_module_version": "1.1.0",
      "model_name": "LayoutModel",
      "state": {}
     },
     "5b9279c06edf44f7a710bcabfa81323a": {
      "model_module": "@jupyter-widgets/controls",
      "model_module_version": "1.4.0",
      "model_name": "IntProgressModel",
      "state": {
       "bar_style": "success",
       "layout": "IPY_MODEL_a56654955ce54967adb4f98f74bdc15f",
       "max": 1000,
       "style": "IPY_MODEL_bd1a57e389a847f9910e51fc77c119ff",
       "value": 1000
      }
     },
     "5be397bfa08f4eedacbe4421bf8457be": {
      "model_module": "@jupyter-widgets/base",
      "model_module_version": "1.1.0",
      "model_name": "LayoutModel",
      "state": {}
     },
     "5cc54b54dbdb4060a110e8d4b494c7c5": {
      "model_module": "@jupyter-widgets/base",
      "model_module_version": "1.1.0",
      "model_name": "LayoutModel",
      "state": {}
     },
     "5cc7d611a4cb4cb48585a5a024030cc1": {
      "model_module": "@jupyter-widgets/base",
      "model_module_version": "1.1.0",
      "model_name": "LayoutModel",
      "state": {}
     },
     "5cedfe0b698a437fbd468bfe05d18a64": {
      "model_module": "@jupyter-widgets/base",
      "model_module_version": "1.1.0",
      "model_name": "LayoutModel",
      "state": {}
     },
     "5d25e090f24e4aa6b59bb51802b503a9": {
      "model_module": "@jupyter-widgets/base",
      "model_module_version": "1.1.0",
      "model_name": "LayoutModel",
      "state": {}
     },
     "5d3c4138f1644f179472dfe4bb7ae6ab": {
      "model_module": "@jupyter-widgets/controls",
      "model_module_version": "1.4.0",
      "model_name": "HBoxModel",
      "state": {
       "children": [
        "IPY_MODEL_d3d438d3122b49129dcc555ac67bf56c",
        "IPY_MODEL_d7a84e00ce8e4b618a843825a29ddfad"
       ],
       "layout": "IPY_MODEL_58e00126203b488787528e6df62f47ac"
      }
     },
     "5e10da62e3704c14bbe8022a5f01ea77": {
      "model_module": "@jupyter-widgets/base",
      "model_module_version": "1.1.0",
      "model_name": "LayoutModel",
      "state": {}
     },
     "5f5ae5d0174e45e8b7181136fce292e9": {
      "model_module": "@jupyter-widgets/controls",
      "model_module_version": "1.4.0",
      "model_name": "IntProgressModel",
      "state": {
       "bar_style": "success",
       "layout": "IPY_MODEL_4810c709f1a246a5868265d8047be680",
       "max": 996559,
       "style": "IPY_MODEL_35a0241b35644666b06a4a7a1b1d041e",
       "value": 996559
      }
     },
     "5f7ef118216f4a05b3ecefcc89ba6871": {
      "model_module": "@jupyter-widgets/controls",
      "model_module_version": "1.4.0",
      "model_name": "DescriptionStyleModel",
      "state": {
       "description_width": ""
      }
     },
     "5f9d6b34058743dcaa2ba9b0abba217f": {
      "model_module": "@jupyter-widgets/base",
      "model_module_version": "1.1.0",
      "model_name": "LayoutModel",
      "state": {}
     },
     "5fe7499ce75246b6bde936cd28d0a4a5": {
      "model_module": "@jupyter-widgets/controls",
      "model_module_version": "1.4.0",
      "model_name": "ProgressStyleModel",
      "state": {
       "description_width": ""
      }
     },
     "60cf452e5c254aaabe5e671cba5cb6db": {
      "model_module": "@jupyter-widgets/controls",
      "model_module_version": "1.4.0",
      "model_name": "HTMLModel",
      "state": {
       "layout": "IPY_MODEL_1fd495a84b724b9ba3cd1e85a7bd2877",
       "style": "IPY_MODEL_02cb9d53f2e14a09b45629ef7a5a2ed3",
       "value": "100% 100/100 [03:34&lt;00:00,  1.90s/it]"
      }
     },
     "610f11b8a75447fa96ee11af6d1de445": {
      "model_module": "@jupyter-widgets/base",
      "model_module_version": "1.1.0",
      "model_name": "LayoutModel",
      "state": {}
     },
     "6128e1d6d0ff420e98ed27beaf0ac005": {
      "model_module": "@jupyter-widgets/base",
      "model_module_version": "1.1.0",
      "model_name": "LayoutModel",
      "state": {}
     },
     "61695301cf5f4b058f49e3dabe2f0a22": {
      "model_module": "@jupyter-widgets/base",
      "model_module_version": "1.1.0",
      "model_name": "LayoutModel",
      "state": {}
     },
     "6186a64c36e84fe69ffde7b97b127e9a": {
      "model_module": "@jupyter-widgets/controls",
      "model_module_version": "1.4.0",
      "model_name": "ProgressStyleModel",
      "state": {
       "description_width": ""
      }
     },
     "61a35aec54fc4fc6a1b1d088a010d167": {
      "model_module": "@jupyter-widgets/controls",
      "model_module_version": "1.4.0",
      "model_name": "IntProgressModel",
      "state": {
       "bar_style": "success",
       "layout": "IPY_MODEL_ec62c6ac75df499b8ae1d3bbf76fe2d6",
       "max": 1000,
       "style": "IPY_MODEL_5fe7499ce75246b6bde936cd28d0a4a5",
       "value": 1000
      }
     },
     "61a848fdd72042e9864bf8f8feb5f0b8": {
      "model_module": "@jupyter-widgets/controls",
      "model_module_version": "1.4.0",
      "model_name": "HBoxModel",
      "state": {
       "children": [
        "IPY_MODEL_0fdf8c2286a5456f8ceffe92de4c338f",
        "IPY_MODEL_3c088006642c472796a03f413b9525c0"
       ],
       "layout": "IPY_MODEL_299fe1e0e73249cba3c3d07b8f920937"
      }
     },
     "61bfc6d773c640538d72af00d462f2e0": {
      "model_module": "@jupyter-widgets/controls",
      "model_module_version": "1.4.0",
      "model_name": "HTMLModel",
      "state": {
       "layout": "IPY_MODEL_8cb4814a19174a1eb69b3fe8823c42b6",
       "style": "IPY_MODEL_8695385095a040149204f4f0ec99063f",
       "value": "100% 1000/1000 [00:00&lt;00:00, 10240.65it/s]"
      }
     },
     "61c9959863c84fe98a66e23abc8c4e3f": {
      "model_module": "@jupyter-widgets/base",
      "model_module_version": "1.1.0",
      "model_name": "LayoutModel",
      "state": {}
     },
     "622326ecae764b1faa6be6d4e4f39b03": {
      "model_module": "@jupyter-widgets/controls",
      "model_module_version": "1.4.0",
      "model_name": "HBoxModel",
      "state": {
       "children": [
        "IPY_MODEL_ce97d2fae73b443cad675472e258e780",
        "IPY_MODEL_46625e17f54548739c689b390480c0b0"
       ],
       "layout": "IPY_MODEL_ba79a63c89794ac1bf6fa9cd1de16651"
      }
     },
     "6273bab27c5a4150b67702cada95283a": {
      "model_module": "@jupyter-widgets/controls",
      "model_module_version": "1.4.0",
      "model_name": "HTMLModel",
      "state": {
       "layout": "IPY_MODEL_db59b84123e943dd9134a806faee205c",
       "style": "IPY_MODEL_4ae7ae86d2f74898a0da9dda362457fc",
       "value": "100% 100/100 [00:00&lt;00:00, 1580.35it/s]"
      }
     },
     "63589a94c68644e3a9f208e1341a8a5b": {
      "model_module": "@jupyter-widgets/controls",
      "model_module_version": "1.4.0",
      "model_name": "ProgressStyleModel",
      "state": {
       "description_width": ""
      }
     },
     "635cc4212b39467ea2fbf07cfe500db0": {
      "model_module": "@jupyter-widgets/controls",
      "model_module_version": "1.4.0",
      "model_name": "HBoxModel",
      "state": {
       "children": [
        "IPY_MODEL_44a920f8330c4c90a87278bd788c5008",
        "IPY_MODEL_17aaeff5604045f68becb4717b92a445"
       ],
       "layout": "IPY_MODEL_72eb2f2b8934484e895adabfabf0f08e"
      }
     },
     "635e1326c58e4495975b5fdaea6bdc73": {
      "model_module": "@jupyter-widgets/base",
      "model_module_version": "1.1.0",
      "model_name": "LayoutModel",
      "state": {}
     },
     "63cff52d38304f04a8d2a9d036449884": {
      "model_module": "@jupyter-widgets/base",
      "model_module_version": "1.1.0",
      "model_name": "LayoutModel",
      "state": {}
     },
     "640bdac3061f4ee6bfb3f0c21897d1af": {
      "model_module": "@jupyter-widgets/base",
      "model_module_version": "1.1.0",
      "model_name": "LayoutModel",
      "state": {}
     },
     "6437f751618f44d385f8f5528190b7f4": {
      "model_module": "@jupyter-widgets/base",
      "model_module_version": "1.1.0",
      "model_name": "LayoutModel",
      "state": {}
     },
     "64a0d088aa3e4ca48e05c11ecf3c6e81": {
      "model_module": "@jupyter-widgets/controls",
      "model_module_version": "1.4.0",
      "model_name": "HBoxModel",
      "state": {
       "children": [
        "IPY_MODEL_c6689f6e703d4097bf91cd2834b66c80",
        "IPY_MODEL_7512f70d7fc54e008b442604be321fd3"
       ],
       "layout": "IPY_MODEL_9175ba48d169468d90e9e55cfb75db14"
      }
     },
     "65443ab617924d6ba6729835fd07c8a9": {
      "model_module": "@jupyter-widgets/base",
      "model_module_version": "1.1.0",
      "model_name": "LayoutModel",
      "state": {}
     },
     "65ecb05116884e3b94ba09a1a367c69c": {
      "model_module": "@jupyter-widgets/base",
      "model_module_version": "1.1.0",
      "model_name": "LayoutModel",
      "state": {}
     },
     "6635d17d946145a59afca3aea4ff4a19": {
      "model_module": "@jupyter-widgets/base",
      "model_module_version": "1.1.0",
      "model_name": "LayoutModel",
      "state": {}
     },
     "677cdece8b0f42aa9b4c6af19f2d449d": {
      "model_module": "@jupyter-widgets/controls",
      "model_module_version": "1.4.0",
      "model_name": "IntProgressModel",
      "state": {
       "bar_style": "danger",
       "layout": "IPY_MODEL_387c46eb824041e0bd4f8503e016072b",
       "max": 1000,
       "style": "IPY_MODEL_f6430308721843aeb24807f1add6cc57"
      }
     },
     "678dc2f01674456f8dcb95fb4eeab617": {
      "model_module": "@jupyter-widgets/controls",
      "model_module_version": "1.4.0",
      "model_name": "DescriptionStyleModel",
      "state": {
       "description_width": ""
      }
     },
     "67f7f5a6f7704fbfb93a4d76897e3ed9": {
      "model_module": "@jupyter-widgets/controls",
      "model_module_version": "1.4.0",
      "model_name": "HBoxModel",
      "state": {
       "children": [
        "IPY_MODEL_82957458be6b47df8b9ab40697e807b7",
        "IPY_MODEL_6e6c9bb3e2e447fc87aedb8d5a05c809"
       ],
       "layout": "IPY_MODEL_18104094cba547dd806ddedf57a7e103"
      }
     },
     "681fcdb070df452681600788ad39f77d": {
      "model_module": "@jupyter-widgets/controls",
      "model_module_version": "1.4.0",
      "model_name": "HBoxModel",
      "state": {
       "children": [
        "IPY_MODEL_f4e090478c3649bc8dc54ad0beaf9fa4",
        "IPY_MODEL_50f73dec6b8b403b9bd37fe721a1720e"
       ],
       "layout": "IPY_MODEL_483252fc793b43458e054fc2b3c7e42d"
      }
     },
     "683a605d9c2a456da00a1a0f7004a516": {
      "model_module": "@jupyter-widgets/controls",
      "model_module_version": "1.4.0",
      "model_name": "IntProgressModel",
      "state": {
       "bar_style": "success",
       "layout": "IPY_MODEL_85ab2ed010b84ef4ac7b3804aad5ad8e",
       "max": 1000,
       "style": "IPY_MODEL_f95483829e9440b2a0e53558d8770c6c",
       "value": 1000
      }
     },
     "688b340d9f4e40ffac1ceca1f57c80fb": {
      "model_module": "@jupyter-widgets/base",
      "model_module_version": "1.1.0",
      "model_name": "LayoutModel",
      "state": {}
     },
     "6892177587114c70b84bf3b866b0caaf": {
      "model_module": "@jupyter-widgets/controls",
      "model_module_version": "1.4.0",
      "model_name": "HTMLModel",
      "state": {
       "layout": "IPY_MODEL_bb2b52ae8a2b454288d898d69be49d45",
       "style": "IPY_MODEL_14992af02aca4559974f53005560a5c0",
       "value": "100% 996559/996559 [1:23:39&lt;00:00, 198.52it/s]"
      }
     },
     "6934cddad85a4e55bd6d656212e30ca6": {
      "model_module": "@jupyter-widgets/controls",
      "model_module_version": "1.4.0",
      "model_name": "HBoxModel",
      "state": {
       "children": [
        "IPY_MODEL_040bdc4788ef45c799f07abe33d84bad",
        "IPY_MODEL_c83f5e8f93c24e6e8c0eea827e254e24"
       ],
       "layout": "IPY_MODEL_565ca51066ba4adcbcebcffe8e305300"
      }
     },
     "697b886cd98a410983265771158b235b": {
      "model_module": "@jupyter-widgets/base",
      "model_module_version": "1.1.0",
      "model_name": "LayoutModel",
      "state": {}
     },
     "6a6d7582166a4413bcba454ba259e12e": {
      "model_module": "@jupyter-widgets/base",
      "model_module_version": "1.1.0",
      "model_name": "LayoutModel",
      "state": {}
     },
     "6ac0af56b58940db9c3dc48166c28ba0": {
      "model_module": "@jupyter-widgets/controls",
      "model_module_version": "1.4.0",
      "model_name": "HTMLModel",
      "state": {
       "layout": "IPY_MODEL_896ee01b28d3417f93a93389d6f7da04",
       "style": "IPY_MODEL_05f1c84417544415a4f54cebe666b5d1",
       "value": "100% 100/100 [03:00&lt;00:00,  1.76s/it]"
      }
     },
     "6aef3122b75d4280963c8febc0cf4c6f": {
      "model_module": "@jupyter-widgets/controls",
      "model_module_version": "1.4.0",
      "model_name": "IntProgressModel",
      "state": {
       "bar_style": "success",
       "layout": "IPY_MODEL_fb78d6f84e444f069aaf4197216d2a43",
       "style": "IPY_MODEL_4c889f648fa34994bdd48321b67fe3cd",
       "value": 100
      }
     },
     "6afb25e280d449e0944ef2f5be83a266": {
      "model_module": "@jupyter-widgets/controls",
      "model_module_version": "1.4.0",
      "model_name": "DescriptionStyleModel",
      "state": {
       "description_width": ""
      }
     },
     "6b1574bcf5c245cca444ec55ee0f04af": {
      "model_module": "@jupyter-widgets/base",
      "model_module_version": "1.1.0",
      "model_name": "LayoutModel",
      "state": {}
     },
     "6bcb7ffabdba4947916a53b42a487e37": {
      "model_module": "@jupyter-widgets/base",
      "model_module_version": "1.1.0",
      "model_name": "LayoutModel",
      "state": {}
     },
     "6c04bfd4e23b425b9d408cd6eb709328": {
      "model_module": "@jupyter-widgets/controls",
      "model_module_version": "1.4.0",
      "model_name": "DescriptionStyleModel",
      "state": {
       "description_width": ""
      }
     },
     "6c3d71605ab04b70bf8ad07dbf1131b3": {
      "model_module": "@jupyter-widgets/base",
      "model_module_version": "1.1.0",
      "model_name": "LayoutModel",
      "state": {}
     },
     "6cca92d740a848518b4723f25f3f05a2": {
      "model_module": "@jupyter-widgets/controls",
      "model_module_version": "1.4.0",
      "model_name": "IntProgressModel",
      "state": {
       "bar_style": "success",
       "layout": "IPY_MODEL_09993b645db14009a8bbc8ea17bf4d61",
       "max": 1000,
       "style": "IPY_MODEL_760dc12c1e4a429da3d52c3cf5d75c1c",
       "value": 1000
      }
     },
     "6ce1103050cd4563b00d4ae5b0f87f0c": {
      "model_module": "@jupyter-widgets/controls",
      "model_module_version": "1.4.0",
      "model_name": "HTMLModel",
      "state": {
       "layout": "IPY_MODEL_a0ba9c5be6da4dea9163baee4aad4c80",
       "style": "IPY_MODEL_4a8c7697ed9640939796b8c8f46d0d6c",
       "value": "100% 996559/996559 [2:57:57&lt;00:00, 93.33it/s]"
      }
     },
     "6cf9209c392e4f3d8e3369043d750284": {
      "model_module": "@jupyter-widgets/controls",
      "model_module_version": "1.4.0",
      "model_name": "HBoxModel",
      "state": {
       "children": [
        "IPY_MODEL_a06d9a42c35f4dc2abe194ccfe4c4f70",
        "IPY_MODEL_d817835a38a943c4be4801cc68252942"
       ],
       "layout": "IPY_MODEL_90e69cd2fa644b8ab33708bb4cedb8e5"
      }
     },
     "6d33b9b5dc7542cb8fefee106beb781b": {
      "model_module": "@jupyter-widgets/controls",
      "model_module_version": "1.4.0",
      "model_name": "HBoxModel",
      "state": {
       "children": [
        "IPY_MODEL_d8af412c22214853a9868881ddd52c67",
        "IPY_MODEL_00a765b9da2b450ca48761d091ceff1f"
       ],
       "layout": "IPY_MODEL_c7234e26f03e42bcbf674bb3962e8644"
      }
     },
     "6d3fc4656d2a4a24b24749fedfd0e2dc": {
      "model_module": "@jupyter-widgets/controls",
      "model_module_version": "1.4.0",
      "model_name": "HTMLModel",
      "state": {
       "layout": "IPY_MODEL_24b22f8b81154a77a905b7c0687039be",
       "style": "IPY_MODEL_1d898a70222d4bf38188644748e17e73",
       "value": "100% 1000/1000 [00:00&lt;00:00, 5371.11it/s]"
      }
     },
     "6d4d5d1dbe0644cbbb8d37558198c073": {
      "model_module": "@jupyter-widgets/base",
      "model_module_version": "1.1.0",
      "model_name": "LayoutModel",
      "state": {}
     },
     "6da0a867965e41fdbc643586903c24a3": {
      "model_module": "@jupyter-widgets/base",
      "model_module_version": "1.1.0",
      "model_name": "LayoutModel",
      "state": {}
     },
     "6dc32457361543448cc2429a303a3de7": {
      "model_module": "@jupyter-widgets/controls",
      "model_module_version": "1.4.0",
      "model_name": "DescriptionStyleModel",
      "state": {
       "description_width": ""
      }
     },
     "6dea0433d9a84e39a554a65cd7e1c446": {
      "model_module": "@jupyter-widgets/base",
      "model_module_version": "1.1.0",
      "model_name": "LayoutModel",
      "state": {}
     },
     "6e6c9bb3e2e447fc87aedb8d5a05c809": {
      "model_module": "@jupyter-widgets/controls",
      "model_module_version": "1.4.0",
      "model_name": "HTMLModel",
      "state": {
       "layout": "IPY_MODEL_0935610bbf854bbdbd33147737cbb659",
       "style": "IPY_MODEL_2ce219400ebc48f0b52f41435e452202",
       "value": "100% 100/100 [00:00&lt;00:00, 1792.00it/s]"
      }
     },
     "6e768a2d46e043168d7c0f0ffc4207a3": {
      "model_module": "@jupyter-widgets/base",
      "model_module_version": "1.1.0",
      "model_name": "LayoutModel",
      "state": {}
     },
     "6e9dd65f10774b0ab6cb49e41469b64f": {
      "model_module": "@jupyter-widgets/base",
      "model_module_version": "1.1.0",
      "model_name": "LayoutModel",
      "state": {}
     },
     "6ee6448eb995435ebe973f1541c702e5": {
      "model_module": "@jupyter-widgets/controls",
      "model_module_version": "1.4.0",
      "model_name": "HBoxModel",
      "state": {
       "children": [
        "IPY_MODEL_922fcfb6a93c4a27b89dd8d96310c0f6",
        "IPY_MODEL_1cbedf60f0974664ba1016d411fda2c1"
       ],
       "layout": "IPY_MODEL_f7c007cf4058454193bdc9bbe012b8a5"
      }
     },
     "6efc43e5b5e14839b89849d9aa50af83": {
      "model_module": "@jupyter-widgets/controls",
      "model_module_version": "1.4.0",
      "model_name": "ProgressStyleModel",
      "state": {
       "description_width": ""
      }
     },
     "6f136d8d3aa04b7c9bb9b01fa39cf6c2": {
      "model_module": "@jupyter-widgets/controls",
      "model_module_version": "1.4.0",
      "model_name": "HBoxModel",
      "state": {
       "children": [
        "IPY_MODEL_b08f5fed4afe4e929fc7ec6acdd0eb62",
        "IPY_MODEL_ff4127e68c2a4ffb810d4802b844feec"
       ],
       "layout": "IPY_MODEL_452417c8b2c5439b81cd5e7130020c39"
      }
     },
     "6f544da733f740599cdbf60352a784b3": {
      "model_module": "@jupyter-widgets/controls",
      "model_module_version": "1.4.0",
      "model_name": "HTMLModel",
      "state": {
       "layout": "IPY_MODEL_8dd085eb5a98449481d02458a5442f1f",
       "style": "IPY_MODEL_91fd593d37b54616a1e686d672dbca22",
       "value": "100% 100/100 [04:05&lt;00:00,  2.44s/it]"
      }
     },
     "7040bc0fdb9b42bcbbe984b5de4840e8": {
      "model_module": "@jupyter-widgets/base",
      "model_module_version": "1.1.0",
      "model_name": "LayoutModel",
      "state": {}
     },
     "708a89f8b54448d2a509e621ca50f4e0": {
      "model_module": "@jupyter-widgets/controls",
      "model_module_version": "1.4.0",
      "model_name": "HTMLModel",
      "state": {
       "layout": "IPY_MODEL_5d25e090f24e4aa6b59bb51802b503a9",
       "style": "IPY_MODEL_4a0fcc297de144fab9e4a784b0bd622d",
       "value": "100% 100/100 [10:13&lt;00:00,  5.83s/it]"
      }
     },
     "70a40286ae61495987f1561ea6658c9e": {
      "model_module": "@jupyter-widgets/controls",
      "model_module_version": "1.4.0",
      "model_name": "DescriptionStyleModel",
      "state": {
       "description_width": ""
      }
     },
     "70b390d154894c019739a726a017d195": {
      "model_module": "@jupyter-widgets/base",
      "model_module_version": "1.1.0",
      "model_name": "LayoutModel",
      "state": {}
     },
     "70baefbc6d974cd8bc9ddd125eb34a32": {
      "model_module": "@jupyter-widgets/controls",
      "model_module_version": "1.4.0",
      "model_name": "ProgressStyleModel",
      "state": {
       "description_width": ""
      }
     },
     "720de6f7634d483fbcb990fe6953ef1c": {
      "model_module": "@jupyter-widgets/base",
      "model_module_version": "1.1.0",
      "model_name": "LayoutModel",
      "state": {}
     },
     "72141d86cfef4878ba3e9f30b9801a8c": {
      "model_module": "@jupyter-widgets/controls",
      "model_module_version": "1.4.0",
      "model_name": "DescriptionStyleModel",
      "state": {
       "description_width": ""
      }
     },
     "7264ff86239b44b5941067941cf4ea07": {
      "model_module": "@jupyter-widgets/controls",
      "model_module_version": "1.4.0",
      "model_name": "HBoxModel",
      "state": {
       "children": [
        "IPY_MODEL_e6350d2bbfc64568a3143d5124ae8fd1",
        "IPY_MODEL_55688bea7c9a4445b56c7d44f271325b"
       ],
       "layout": "IPY_MODEL_11a2888d454b425daca2a47070494e5a"
      }
     },
     "72eb2f2b8934484e895adabfabf0f08e": {
      "model_module": "@jupyter-widgets/base",
      "model_module_version": "1.1.0",
      "model_name": "LayoutModel",
      "state": {}
     },
     "74e26eb3fc5b40acb150b5e32d5f7859": {
      "model_module": "@jupyter-widgets/controls",
      "model_module_version": "1.4.0",
      "model_name": "HTMLModel",
      "state": {
       "layout": "IPY_MODEL_7e4985564992475bb59a4232c5f7d77d",
       "style": "IPY_MODEL_ddf76edec5494544a6d833641b56fef3",
       "value": "100% 100/100 [07:14&lt;00:00,  4.61s/it]"
      }
     },
     "750a941c353045548510ea607ace3425": {
      "model_module": "@jupyter-widgets/base",
      "model_module_version": "1.1.0",
      "model_name": "LayoutModel",
      "state": {}
     },
     "7512f70d7fc54e008b442604be321fd3": {
      "model_module": "@jupyter-widgets/controls",
      "model_module_version": "1.4.0",
      "model_name": "HTMLModel",
      "state": {
       "layout": "IPY_MODEL_a315c7f26168494dae3f90fae35b5bd2",
       "style": "IPY_MODEL_678dc2f01674456f8dcb95fb4eeab617",
       "value": "100% 100/100 [08:03&lt;00:00,  4.85s/it]"
      }
     },
     "7524b901d0fc48388bd7489b24f7066e": {
      "model_module": "@jupyter-widgets/controls",
      "model_module_version": "1.4.0",
      "model_name": "IntProgressModel",
      "state": {
       "bar_style": "success",
       "layout": "IPY_MODEL_21d313d90a054059bd15eab2844b31f4",
       "style": "IPY_MODEL_35063ac8863344dd8619c7572f3f02f5",
       "value": 100
      }
     },
     "754b899e854f4e72a24216517740c839": {
      "model_module": "@jupyter-widgets/controls",
      "model_module_version": "1.4.0",
      "model_name": "ProgressStyleModel",
      "state": {
       "description_width": ""
      }
     },
     "755c29151be64381b1f856cb0eb3b38f": {
      "model_module": "@jupyter-widgets/controls",
      "model_module_version": "1.4.0",
      "model_name": "DescriptionStyleModel",
      "state": {
       "description_width": ""
      }
     },
     "75c381a0a65748bb80089d81f0573dbe": {
      "model_module": "@jupyter-widgets/controls",
      "model_module_version": "1.4.0",
      "model_name": "ProgressStyleModel",
      "state": {
       "description_width": ""
      }
     },
     "760dc12c1e4a429da3d52c3cf5d75c1c": {
      "model_module": "@jupyter-widgets/controls",
      "model_module_version": "1.4.0",
      "model_name": "ProgressStyleModel",
      "state": {
       "description_width": ""
      }
     },
     "7644781ea81c40eb879f1dcada87bfb3": {
      "model_module": "@jupyter-widgets/controls",
      "model_module_version": "1.4.0",
      "model_name": "HTMLModel",
      "state": {
       "layout": "IPY_MODEL_640bdac3061f4ee6bfb3f0c21897d1af",
       "style": "IPY_MODEL_d87784fec11149578431110a7e67f7d4",
       "value": "100% 100/100 [05:11&lt;00:00,  2.29s/it]"
      }
     },
     "76a727f1431247ecae2b11ff57714c23": {
      "model_module": "@jupyter-widgets/controls",
      "model_module_version": "1.4.0",
      "model_name": "DescriptionStyleModel",
      "state": {
       "description_width": ""
      }
     },
     "776e3b8d29d7425298300aa7213b662a": {
      "model_module": "@jupyter-widgets/controls",
      "model_module_version": "1.4.0",
      "model_name": "ProgressStyleModel",
      "state": {
       "description_width": ""
      }
     },
     "77de8586bae74997b0386c36d8c9b0bf": {
      "model_module": "@jupyter-widgets/controls",
      "model_module_version": "1.4.0",
      "model_name": "ProgressStyleModel",
      "state": {
       "description_width": ""
      }
     },
     "785deed4fb5045619eff7ba73efe3df2": {
      "model_module": "@jupyter-widgets/controls",
      "model_module_version": "1.4.0",
      "model_name": "ProgressStyleModel",
      "state": {
       "description_width": ""
      }
     },
     "788d6215ecdf44589a249e4adcc1961f": {
      "model_module": "@jupyter-widgets/controls",
      "model_module_version": "1.4.0",
      "model_name": "HTMLModel",
      "state": {
       "layout": "IPY_MODEL_f6f57b2a35e8438d9cb311e2e4cc172c",
       "style": "IPY_MODEL_8a4bf85ba83c47e6a60eeaf7244dd2b7",
       "value": "100% 100/100 [00:00&lt;00:00, 3273.48it/s]"
      }
     },
     "78f463d6985a46008131445d052a3e7e": {
      "model_module": "@jupyter-widgets/controls",
      "model_module_version": "1.4.0",
      "model_name": "ProgressStyleModel",
      "state": {
       "description_width": ""
      }
     },
     "79242b17005c4a5d9366dc41b83e56a7": {
      "model_module": "@jupyter-widgets/base",
      "model_module_version": "1.1.0",
      "model_name": "LayoutModel",
      "state": {}
     },
     "799993e539444099b3f7b48ab028dff6": {
      "model_module": "@jupyter-widgets/controls",
      "model_module_version": "1.4.0",
      "model_name": "HBoxModel",
      "state": {
       "children": [
        "IPY_MODEL_e841161e243349c58c617c8f556be564",
        "IPY_MODEL_60cf452e5c254aaabe5e671cba5cb6db"
       ],
       "layout": "IPY_MODEL_1ed9880b5c634fd7bd7b78b20efe7a6c"
      }
     },
     "79fc6eee088e4982a263cc085d3b7e42": {
      "model_module": "@jupyter-widgets/base",
      "model_module_version": "1.1.0",
      "model_name": "LayoutModel",
      "state": {}
     },
     "7a54f52d2a264d5c9d92eb2ab247409d": {
      "model_module": "@jupyter-widgets/base",
      "model_module_version": "1.1.0",
      "model_name": "LayoutModel",
      "state": {}
     },
     "7a83e0c8190a4ddab623be1f58c50d6c": {
      "model_module": "@jupyter-widgets/controls",
      "model_module_version": "1.4.0",
      "model_name": "HBoxModel",
      "state": {
       "children": [
        "IPY_MODEL_a3ae2c45c57e433aaca845b16da898f1",
        "IPY_MODEL_d883203c766a48938fad4befb4919edb"
       ],
       "layout": "IPY_MODEL_3d3ee0ce94184833831c1d1d5caa6028"
      }
     },
     "7ac803760ba744cbb22a000afb04b1f6": {
      "model_module": "@jupyter-widgets/controls",
      "model_module_version": "1.4.0",
      "model_name": "IntProgressModel",
      "state": {
       "bar_style": "success",
       "layout": "IPY_MODEL_e632799526d94299828723a5edd5d04b",
       "max": 996559,
       "style": "IPY_MODEL_78f463d6985a46008131445d052a3e7e",
       "value": 996559
      }
     },
     "7acc0529c2ea4ff3ba6909bcd20cbefb": {
      "model_module": "@jupyter-widgets/base",
      "model_module_version": "1.1.0",
      "model_name": "LayoutModel",
      "state": {}
     },
     "7ae307c65ab74aedb76013d2cd0b0b30": {
      "model_module": "@jupyter-widgets/controls",
      "model_module_version": "1.4.0",
      "model_name": "DescriptionStyleModel",
      "state": {
       "description_width": ""
      }
     },
     "7b283d97d97a4eab84669a4dfe9b1087": {
      "model_module": "@jupyter-widgets/base",
      "model_module_version": "1.1.0",
      "model_name": "LayoutModel",
      "state": {}
     },
     "7b2915d1c566449cbaa274d53ce2f426": {
      "model_module": "@jupyter-widgets/base",
      "model_module_version": "1.1.0",
      "model_name": "LayoutModel",
      "state": {}
     },
     "7b3d635c7c8f4369834599abeb458470": {
      "model_module": "@jupyter-widgets/controls",
      "model_module_version": "1.4.0",
      "model_name": "ProgressStyleModel",
      "state": {
       "description_width": ""
      }
     },
     "7c0852f0d81e49de846e5676dcae9ae9": {
      "model_module": "@jupyter-widgets/controls",
      "model_module_version": "1.4.0",
      "model_name": "ProgressStyleModel",
      "state": {
       "description_width": ""
      }
     },
     "7c8e449c4e8b44b9acac8f89b994bd0e": {
      "model_module": "@jupyter-widgets/base",
      "model_module_version": "1.1.0",
      "model_name": "LayoutModel",
      "state": {}
     },
     "7cbefb22162740709af2b202c1fc431e": {
      "model_module": "@jupyter-widgets/controls",
      "model_module_version": "1.4.0",
      "model_name": "HBoxModel",
      "state": {
       "children": [
        "IPY_MODEL_9acef527593146fd923457c5d865408d",
        "IPY_MODEL_9ea21b55525642898030977fd0f98e19"
       ],
       "layout": "IPY_MODEL_7ed49f79a3144f26b84689cd92e6c893"
      }
     },
     "7deea42b68444eb7badbc0fd94fb6eac": {
      "model_module": "@jupyter-widgets/controls",
      "model_module_version": "1.4.0",
      "model_name": "ProgressStyleModel",
      "state": {
       "description_width": ""
      }
     },
     "7e4985564992475bb59a4232c5f7d77d": {
      "model_module": "@jupyter-widgets/base",
      "model_module_version": "1.1.0",
      "model_name": "LayoutModel",
      "state": {}
     },
     "7ed49f79a3144f26b84689cd92e6c893": {
      "model_module": "@jupyter-widgets/base",
      "model_module_version": "1.1.0",
      "model_name": "LayoutModel",
      "state": {}
     },
     "7ef179c82a1944dda77e5033016d8931": {
      "model_module": "@jupyter-widgets/base",
      "model_module_version": "1.1.0",
      "model_name": "LayoutModel",
      "state": {}
     },
     "7f107aef44f349d1969aba464a6cab7f": {
      "model_module": "@jupyter-widgets/base",
      "model_module_version": "1.1.0",
      "model_name": "LayoutModel",
      "state": {}
     },
     "7f448a5e54ae437eaa4ce5232132f269": {
      "model_module": "@jupyter-widgets/controls",
      "model_module_version": "1.4.0",
      "model_name": "HTMLModel",
      "state": {
       "layout": "IPY_MODEL_3905a5f7a712473cb378129e26acde68",
       "style": "IPY_MODEL_7ae307c65ab74aedb76013d2cd0b0b30",
       "value": "100% 100/100 [00:00&lt;00:00, 1698.42it/s]"
      }
     },
     "7f5402969f58466793278d9331306ee8": {
      "model_module": "@jupyter-widgets/base",
      "model_module_version": "1.1.0",
      "model_name": "LayoutModel",
      "state": {}
     },
     "7fad22d666fa4a91b6dc6e88ba139707": {
      "model_module": "@jupyter-widgets/controls",
      "model_module_version": "1.4.0",
      "model_name": "DescriptionStyleModel",
      "state": {
       "description_width": ""
      }
     },
     "808fcfb612c9439f9ac368d2a647c885": {
      "model_module": "@jupyter-widgets/controls",
      "model_module_version": "1.4.0",
      "model_name": "HBoxModel",
      "state": {
       "children": [
        "IPY_MODEL_cf1b2864a9f84846b82233f80dbd4a2c",
        "IPY_MODEL_abe5dee05dd24fc49c91a8eb370a6747"
       ],
       "layout": "IPY_MODEL_525733361d65492c94c1cff91d200387"
      }
     },
     "80f5a984de7e492c804192227832f3e4": {
      "model_module": "@jupyter-widgets/controls",
      "model_module_version": "1.4.0",
      "model_name": "HTMLModel",
      "state": {
       "layout": "IPY_MODEL_a80abe53a6fc418d8bfc3ed487377ec5",
       "style": "IPY_MODEL_8efae24fa14b4130bd2585edcd5496bf",
       "value": "100% 100/100 [05:17&lt;00:00,  2.83s/it]"
      }
     },
     "80fe4add8f954ebc8428e07ea1c9f46a": {
      "model_module": "@jupyter-widgets/controls",
      "model_module_version": "1.4.0",
      "model_name": "IntProgressModel",
      "state": {
       "bar_style": "success",
       "layout": "IPY_MODEL_34a3ab81d83545d6b58311a574791ff2",
       "style": "IPY_MODEL_5375408b15e24e9cb5775d8c778bbbad",
       "value": 100
      }
     },
     "811153fd54234124b2f5c557ca31497d": {
      "model_module": "@jupyter-widgets/controls",
      "model_module_version": "1.4.0",
      "model_name": "HTMLModel",
      "state": {
       "layout": "IPY_MODEL_ace038ac306949009b291c767bf89fa1",
       "style": "IPY_MODEL_8adb2ca7342d41d7b2c97ac0b0268f8d",
       "value": "100% 996559/996559 [2:28:06&lt;00:00, 112.15it/s]"
      }
     },
     "81196d5b0d6f488a9163830d9350457d": {
      "model_module": "@jupyter-widgets/base",
      "model_module_version": "1.1.0",
      "model_name": "LayoutModel",
      "state": {}
     },
     "81fe33a882b14504b2b2d33707088165": {
      "model_module": "@jupyter-widgets/controls",
      "model_module_version": "1.4.0",
      "model_name": "IntProgressModel",
      "state": {
       "bar_style": "success",
       "layout": "IPY_MODEL_6dea0433d9a84e39a554a65cd7e1c446",
       "style": "IPY_MODEL_de7c0d75bab64849a33be133456800cc",
       "value": 100
      }
     },
     "82957458be6b47df8b9ab40697e807b7": {
      "model_module": "@jupyter-widgets/controls",
      "model_module_version": "1.4.0",
      "model_name": "IntProgressModel",
      "state": {
       "bar_style": "success",
       "layout": "IPY_MODEL_6da0a867965e41fdbc643586903c24a3",
       "style": "IPY_MODEL_31b96316e52f460c9bb848e8464b4a1f",
       "value": 100
      }
     },
     "8311b9d3331a4485a70a40c897591fe0": {
      "model_module": "@jupyter-widgets/controls",
      "model_module_version": "1.4.0",
      "model_name": "DescriptionStyleModel",
      "state": {
       "description_width": ""
      }
     },
     "83ebae13c93b411e8693f643ac5de18c": {
      "model_module": "@jupyter-widgets/base",
      "model_module_version": "1.1.0",
      "model_name": "LayoutModel",
      "state": {}
     },
     "84437d9e76a54f09bdcb9bf8cd52c099": {
      "model_module": "@jupyter-widgets/controls",
      "model_module_version": "1.4.0",
      "model_name": "HBoxModel",
      "state": {
       "children": [
        "IPY_MODEL_eb3d8f8c4c534c2a8bef255ade7a9683",
        "IPY_MODEL_c6d438b8cf234e9bacae9ce214a26ee5"
       ],
       "layout": "IPY_MODEL_ff06560abe8b4426bbf3704c36b123d9"
      }
     },
     "84cc859253244dfe8df336cd23dc3dcc": {
      "model_module": "@jupyter-widgets/controls",
      "model_module_version": "1.4.0",
      "model_name": "IntProgressModel",
      "state": {
       "bar_style": "success",
       "layout": "IPY_MODEL_ad48c60edd574afb9a30ccb8c713f6a9",
       "style": "IPY_MODEL_e2103ed1168f486bba42195aab934539",
       "value": 100
      }
     },
     "84e4ed3577864c6fbd94c267838c6fe8": {
      "model_module": "@jupyter-widgets/base",
      "model_module_version": "1.1.0",
      "model_name": "LayoutModel",
      "state": {}
     },
     "84ec186c0d5348d796d67b27762b278a": {
      "model_module": "@jupyter-widgets/controls",
      "model_module_version": "1.4.0",
      "model_name": "HBoxModel",
      "state": {
       "children": [
        "IPY_MODEL_e909002b33ec49efb6b71db8e48281ac",
        "IPY_MODEL_9a3968d9afcf4c068261945003b98836"
       ],
       "layout": "IPY_MODEL_5cc7d611a4cb4cb48585a5a024030cc1"
      }
     },
     "855bb6cccc074270821ab3266703afe3": {
      "model_module": "@jupyter-widgets/base",
      "model_module_version": "1.1.0",
      "model_name": "LayoutModel",
      "state": {}
     },
     "85ab2ed010b84ef4ac7b3804aad5ad8e": {
      "model_module": "@jupyter-widgets/base",
      "model_module_version": "1.1.0",
      "model_name": "LayoutModel",
      "state": {}
     },
     "8695385095a040149204f4f0ec99063f": {
      "model_module": "@jupyter-widgets/controls",
      "model_module_version": "1.4.0",
      "model_name": "DescriptionStyleModel",
      "state": {
       "description_width": ""
      }
     },
     "8786b6eb1acb44eeb3cee52a8f756166": {
      "model_module": "@jupyter-widgets/controls",
      "model_module_version": "1.4.0",
      "model_name": "HTMLModel",
      "state": {
       "layout": "IPY_MODEL_4b4afb543ba64389a868c7474690d553",
       "style": "IPY_MODEL_197ce65e753342d1b3db6a6b4c63accd",
       "value": "100% 100/100 [00:00&lt;00:00, 1661.33it/s]"
      }
     },
     "8789926dde7c46bea620ea1cc82dbed5": {
      "model_module": "@jupyter-widgets/controls",
      "model_module_version": "1.4.0",
      "model_name": "HBoxModel",
      "state": {
       "children": [
        "IPY_MODEL_b99a17fe78c542e8b6f534c89808c659",
        "IPY_MODEL_4c549d0929f64c04b225b645ad8d50b0"
       ],
       "layout": "IPY_MODEL_8e7fc7d39b764051b37e8cffa1e549c2"
      }
     },
     "878c0c79437a4ee69644588fdf846bc4": {
      "model_module": "@jupyter-widgets/controls",
      "model_module_version": "1.4.0",
      "model_name": "ProgressStyleModel",
      "state": {
       "description_width": ""
      }
     },
     "87ebbd85b53447bebe18016decc32c03": {
      "model_module": "@jupyter-widgets/controls",
      "model_module_version": "1.4.0",
      "model_name": "IntProgressModel",
      "state": {
       "bar_style": "success",
       "layout": "IPY_MODEL_8bf8f58d21c742f7a8dc8d40f8be432a",
       "max": 996559,
       "style": "IPY_MODEL_2fc96e8ed22a403ebd87e069a481083c",
       "value": 996559
      }
     },
     "881182daa7aa4b8991e4be9e59774865": {
      "model_module": "@jupyter-widgets/controls",
      "model_module_version": "1.4.0",
      "model_name": "IntProgressModel",
      "state": {
       "bar_style": "success",
       "layout": "IPY_MODEL_fa97cbc38233426885b7a822847b450b",
       "max": 1000,
       "style": "IPY_MODEL_9f8d0260c3b5459c9e077048f6293f8a",
       "value": 1000
      }
     },
     "88db3f1603c946a28f0c4d250ea644c8": {
      "model_module": "@jupyter-widgets/base",
      "model_module_version": "1.1.0",
      "model_name": "LayoutModel",
      "state": {}
     },
     "896ee01b28d3417f93a93389d6f7da04": {
      "model_module": "@jupyter-widgets/base",
      "model_module_version": "1.1.0",
      "model_name": "LayoutModel",
      "state": {}
     },
     "89d5df3324b9450b92ae7c05d3a239de": {
      "model_module": "@jupyter-widgets/base",
      "model_module_version": "1.1.0",
      "model_name": "LayoutModel",
      "state": {}
     },
     "8a141f0c81624edeb0bcef9e2eef4646": {
      "model_module": "@jupyter-widgets/controls",
      "model_module_version": "1.4.0",
      "model_name": "IntProgressModel",
      "state": {
       "bar_style": "success",
       "layout": "IPY_MODEL_c266968f5cee451daa1fb966cc18dbb9",
       "style": "IPY_MODEL_9a3341575ef147869adb60760be74279",
       "value": 100
      }
     },
     "8a4bf85ba83c47e6a60eeaf7244dd2b7": {
      "model_module": "@jupyter-widgets/controls",
      "model_module_version": "1.4.0",
      "model_name": "DescriptionStyleModel",
      "state": {
       "description_width": ""
      }
     },
     "8a52136ec52243b5a5c09fcd63e0bd4c": {
      "model_module": "@jupyter-widgets/controls",
      "model_module_version": "1.4.0",
      "model_name": "ProgressStyleModel",
      "state": {
       "description_width": ""
      }
     },
     "8a7584a37ec64383902e136eaec7d26e": {
      "model_module": "@jupyter-widgets/base",
      "model_module_version": "1.1.0",
      "model_name": "LayoutModel",
      "state": {}
     },
     "8a990f15aaf74c5e949eb132d0ac53bc": {
      "model_module": "@jupyter-widgets/base",
      "model_module_version": "1.1.0",
      "model_name": "LayoutModel",
      "state": {}
     },
     "8abb0f9b49624f45986536a0498983fb": {
      "model_module": "@jupyter-widgets/controls",
      "model_module_version": "1.4.0",
      "model_name": "HBoxModel",
      "state": {
       "children": [
        "IPY_MODEL_9f73bb0a35b6487088133168463a8c45",
        "IPY_MODEL_9fc63197999a49f78099f7b96d25cb2d"
       ],
       "layout": "IPY_MODEL_e7a2e7a7143b40f7901eda641342e63f"
      }
     },
     "8adb2ca7342d41d7b2c97ac0b0268f8d": {
      "model_module": "@jupyter-widgets/controls",
      "model_module_version": "1.4.0",
      "model_name": "DescriptionStyleModel",
      "state": {
       "description_width": ""
      }
     },
     "8b0ee886bb244f2386b422267094f1af": {
      "model_module": "@jupyter-widgets/controls",
      "model_module_version": "1.4.0",
      "model_name": "ProgressStyleModel",
      "state": {
       "description_width": ""
      }
     },
     "8b57eaaf35aa4f63aabbe7729c3b1094": {
      "model_module": "@jupyter-widgets/base",
      "model_module_version": "1.1.0",
      "model_name": "LayoutModel",
      "state": {}
     },
     "8bf8f58d21c742f7a8dc8d40f8be432a": {
      "model_module": "@jupyter-widgets/base",
      "model_module_version": "1.1.0",
      "model_name": "LayoutModel",
      "state": {}
     },
     "8c0dd7ea0e8041c79cc91309a5150d8d": {
      "model_module": "@jupyter-widgets/controls",
      "model_module_version": "1.4.0",
      "model_name": "IntProgressModel",
      "state": {
       "bar_style": "success",
       "layout": "IPY_MODEL_4239eff7be924360a73b84ef59a523ee",
       "max": 1000,
       "style": "IPY_MODEL_8a52136ec52243b5a5c09fcd63e0bd4c",
       "value": 1000
      }
     },
     "8c57d90923fb4beaa5a81ab620baba3f": {
      "model_module": "@jupyter-widgets/controls",
      "model_module_version": "1.4.0",
      "model_name": "ProgressStyleModel",
      "state": {
       "description_width": ""
      }
     },
     "8c7e6bca9dea43b58533b65502fd7681": {
      "model_module": "@jupyter-widgets/controls",
      "model_module_version": "1.4.0",
      "model_name": "DescriptionStyleModel",
      "state": {
       "description_width": ""
      }
     },
     "8ca6953d0abe46f8bf388d4a87027e70": {
      "model_module": "@jupyter-widgets/controls",
      "model_module_version": "1.4.0",
      "model_name": "HBoxModel",
      "state": {
       "children": [
        "IPY_MODEL_0d1a366cbd024e928acfb53772982ab8",
        "IPY_MODEL_6ac0af56b58940db9c3dc48166c28ba0"
       ],
       "layout": "IPY_MODEL_4ffed0656d2944a2966cb9084be7af54"
      }
     },
     "8cb4814a19174a1eb69b3fe8823c42b6": {
      "model_module": "@jupyter-widgets/base",
      "model_module_version": "1.1.0",
      "model_name": "LayoutModel",
      "state": {}
     },
     "8cdf62c693314836b309950088607088": {
      "model_module": "@jupyter-widgets/base",
      "model_module_version": "1.1.0",
      "model_name": "LayoutModel",
      "state": {}
     },
     "8d1d079c59fe4d3e819777b4e43d5bff": {
      "model_module": "@jupyter-widgets/controls",
      "model_module_version": "1.4.0",
      "model_name": "ProgressStyleModel",
      "state": {
       "description_width": ""
      }
     },
     "8d498f2ebd9244599c8fca2be8ff2c41": {
      "model_module": "@jupyter-widgets/controls",
      "model_module_version": "1.4.0",
      "model_name": "ProgressStyleModel",
      "state": {
       "description_width": ""
      }
     },
     "8d7e2c56752446b5a8616a0b66369fd7": {
      "model_module": "@jupyter-widgets/controls",
      "model_module_version": "1.4.0",
      "model_name": "HBoxModel",
      "state": {
       "children": [
        "IPY_MODEL_b5c7e013157f4d8d99baae58c28e8a51",
        "IPY_MODEL_93ab7a6200b74b7eb2920f8f110ad8c8"
       ],
       "layout": "IPY_MODEL_6e9dd65f10774b0ab6cb49e41469b64f"
      }
     },
     "8dd085eb5a98449481d02458a5442f1f": {
      "model_module": "@jupyter-widgets/base",
      "model_module_version": "1.1.0",
      "model_name": "LayoutModel",
      "state": {}
     },
     "8e12c4cc8bd145afa2bd0b50aab37aaf": {
      "model_module": "@jupyter-widgets/controls",
      "model_module_version": "1.4.0",
      "model_name": "DescriptionStyleModel",
      "state": {
       "description_width": ""
      }
     },
     "8e6e837d0b7c4aba8dfe878d00bf99ce": {
      "model_module": "@jupyter-widgets/base",
      "model_module_version": "1.1.0",
      "model_name": "LayoutModel",
      "state": {}
     },
     "8e7fc7d39b764051b37e8cffa1e549c2": {
      "model_module": "@jupyter-widgets/base",
      "model_module_version": "1.1.0",
      "model_name": "LayoutModel",
      "state": {}
     },
     "8e97b125390548fdba61e7c298ebe6f4": {
      "model_module": "@jupyter-widgets/controls",
      "model_module_version": "1.4.0",
      "model_name": "IntProgressModel",
      "state": {
       "bar_style": "success",
       "layout": "IPY_MODEL_f9ce89fcf9854ab7b73027c7dbe77115",
       "max": 1000,
       "style": "IPY_MODEL_785deed4fb5045619eff7ba73efe3df2",
       "value": 1000
      }
     },
     "8eb4a3a39f0242c7950db7815d11615f": {
      "model_module": "@jupyter-widgets/base",
      "model_module_version": "1.1.0",
      "model_name": "LayoutModel",
      "state": {}
     },
     "8efae24fa14b4130bd2585edcd5496bf": {
      "model_module": "@jupyter-widgets/controls",
      "model_module_version": "1.4.0",
      "model_name": "DescriptionStyleModel",
      "state": {
       "description_width": ""
      }
     },
     "8f629035dfe24f7b91d542626ea4265a": {
      "model_module": "@jupyter-widgets/controls",
      "model_module_version": "1.4.0",
      "model_name": "IntProgressModel",
      "state": {
       "bar_style": "success",
       "layout": "IPY_MODEL_d41ce2461b114d2599c68a55821ee088",
       "max": 996559,
       "style": "IPY_MODEL_23977c794c5c4fc092c02a9e56bc3fcb",
       "value": 996559
      }
     },
     "8fbc9ee5f68f425095754f948cad5c94": {
      "model_module": "@jupyter-widgets/controls",
      "model_module_version": "1.4.0",
      "model_name": "HBoxModel",
      "state": {
       "children": [
        "IPY_MODEL_41ec9b7b792649b4b6257cf9a95e4f57",
        "IPY_MODEL_a77461034fd44b6886e4075573ed67d1"
       ],
       "layout": "IPY_MODEL_eec4ddce8c024cf98ef476cb3773d222"
      }
     },
     "8fe49f1590394f589ccf5272e0ae0d59": {
      "model_module": "@jupyter-widgets/controls",
      "model_module_version": "1.4.0",
      "model_name": "HTMLModel",
      "state": {
       "layout": "IPY_MODEL_f59d917a2e95486994bef95fc015863f",
       "style": "IPY_MODEL_a1b7b833cd99477da463be63837b0add",
       "value": "100% 1000/1000 [14:04&lt;00:00,  1.45it/s]"
      }
     },
     "901cbc7b05e54c98aeb75b6d4b1d4daa": {
      "model_module": "@jupyter-widgets/base",
      "model_module_version": "1.1.0",
      "model_name": "LayoutModel",
      "state": {}
     },
     "9052556d169c4d9e946ff8b8df3b0f37": {
      "model_module": "@jupyter-widgets/base",
      "model_module_version": "1.1.0",
      "model_name": "LayoutModel",
      "state": {}
     },
     "90adeabee58d4e9ba7cb8185353394b0": {
      "model_module": "@jupyter-widgets/base",
      "model_module_version": "1.1.0",
      "model_name": "LayoutModel",
      "state": {}
     },
     "90e69cd2fa644b8ab33708bb4cedb8e5": {
      "model_module": "@jupyter-widgets/base",
      "model_module_version": "1.1.0",
      "model_name": "LayoutModel",
      "state": {}
     },
     "9160469f055c4189b8fc626d7047724b": {
      "model_module": "@jupyter-widgets/base",
      "model_module_version": "1.1.0",
      "model_name": "LayoutModel",
      "state": {}
     },
     "91651ab4cfe541f19cfa6d98cd8e7ae2": {
      "model_module": "@jupyter-widgets/controls",
      "model_module_version": "1.4.0",
      "model_name": "HTMLModel",
      "state": {
       "layout": "IPY_MODEL_cd0e1d22bbe34c1699dfe9906af7f232",
       "style": "IPY_MODEL_a5960033ce5242ccab65b2849505ef97",
       "value": "100% 1000/1000 [00:00&lt;00:00, 6616.61it/s]"
      }
     },
     "9175ba48d169468d90e9e55cfb75db14": {
      "model_module": "@jupyter-widgets/base",
      "model_module_version": "1.1.0",
      "model_name": "LayoutModel",
      "state": {}
     },
     "91db9927fe7b40b589aba7652eede6b2": {
      "model_module": "@jupyter-widgets/base",
      "model_module_version": "1.1.0",
      "model_name": "LayoutModel",
      "state": {}
     },
     "91fd593d37b54616a1e686d672dbca22": {
      "model_module": "@jupyter-widgets/controls",
      "model_module_version": "1.4.0",
      "model_name": "DescriptionStyleModel",
      "state": {
       "description_width": ""
      }
     },
     "922fcfb6a93c4a27b89dd8d96310c0f6": {
      "model_module": "@jupyter-widgets/controls",
      "model_module_version": "1.4.0",
      "model_name": "IntProgressModel",
      "state": {
       "bar_style": "success",
       "layout": "IPY_MODEL_fecf88ea61614570aa11705515041ebd",
       "style": "IPY_MODEL_e9d9d1d778a54242a2209056f22fefb4",
       "value": 100
      }
     },
     "93ab7a6200b74b7eb2920f8f110ad8c8": {
      "model_module": "@jupyter-widgets/controls",
      "model_module_version": "1.4.0",
      "model_name": "HTMLModel",
      "state": {
       "layout": "IPY_MODEL_27f1a782cfa947a98b150e19d0a00bb4",
       "style": "IPY_MODEL_d02afa4ec53c42f99a4cd9a096caa3db",
       "value": "100% 996559/996559 [13:20&lt;00:00, 1244.99it/s]"
      }
     },
     "93b07e3decd64902af94d64f7b8afa81": {
      "model_module": "@jupyter-widgets/base",
      "model_module_version": "1.1.0",
      "model_name": "LayoutModel",
      "state": {}
     },
     "9446f2a03bde4279b9cfb9f7fabe8ed6": {
      "model_module": "@jupyter-widgets/controls",
      "model_module_version": "1.4.0",
      "model_name": "HBoxModel",
      "state": {
       "children": [
        "IPY_MODEL_c6816086837544f0aaf1a25a2ae737a6",
        "IPY_MODEL_811153fd54234124b2f5c557ca31497d"
       ],
       "layout": "IPY_MODEL_6437f751618f44d385f8f5528190b7f4"
      }
     },
     "945d37b0899e46d7ac930b3151d2ccee": {
      "model_module": "@jupyter-widgets/base",
      "model_module_version": "1.1.0",
      "model_name": "LayoutModel",
      "state": {}
     },
     "9462b1c4a3374d22a06bc3361e274492": {
      "model_module": "@jupyter-widgets/base",
      "model_module_version": "1.1.0",
      "model_name": "LayoutModel",
      "state": {}
     },
     "947ced38060c475cb87a55693d229043": {
      "model_module": "@jupyter-widgets/controls",
      "model_module_version": "1.4.0",
      "model_name": "HBoxModel",
      "state": {
       "children": [
        "IPY_MODEL_eb29ebdcb177456b85a478ad71978450",
        "IPY_MODEL_d47925fe79704e98808c429966e44193"
       ],
       "layout": "IPY_MODEL_79242b17005c4a5d9366dc41b83e56a7"
      }
     },
     "94fad0c694324bfc93864e2934395980": {
      "model_module": "@jupyter-widgets/controls",
      "model_module_version": "1.4.0",
      "model_name": "HBoxModel",
      "state": {
       "children": [
        "IPY_MODEL_089b82d2010e4197b61c9169adb0518d",
        "IPY_MODEL_16105a63dbcb4e1bafd367cff2eab648"
       ],
       "layout": "IPY_MODEL_5e10da62e3704c14bbe8022a5f01ea77"
      }
     },
     "9532d86bff3f424593b43f2458d805e6": {
      "model_module": "@jupyter-widgets/controls",
      "model_module_version": "1.4.0",
      "model_name": "ProgressStyleModel",
      "state": {
       "description_width": ""
      }
     },
     "96185c3f7951447d9b923d37e78f7f74": {
      "model_module": "@jupyter-widgets/controls",
      "model_module_version": "1.4.0",
      "model_name": "IntProgressModel",
      "state": {
       "bar_style": "success",
       "layout": "IPY_MODEL_f1396f77b4d144f2b01599100e41c7c6",
       "style": "IPY_MODEL_3021be9753e64e92ae9411ed0d40e631",
       "value": 100
      }
     },
     "9686331456ce4b9eb3a6d1354434be14": {
      "model_module": "@jupyter-widgets/controls",
      "model_module_version": "1.4.0",
      "model_name": "HTMLModel",
      "state": {
       "layout": "IPY_MODEL_8a990f15aaf74c5e949eb132d0ac53bc",
       "style": "IPY_MODEL_0d694ff1e5194e3284866a3c215bfc6b",
       "value": "100% 1000/1000 [11:44&lt;00:00,  2.35it/s]"
      }
     },
     "96899a858774460796b6b85379bcb3fe": {
      "model_module": "@jupyter-widgets/base",
      "model_module_version": "1.1.0",
      "model_name": "LayoutModel",
      "state": {}
     },
     "96afd125d5ae45eca97cf6c1f0889c52": {
      "model_module": "@jupyter-widgets/base",
      "model_module_version": "1.1.0",
      "model_name": "LayoutModel",
      "state": {}
     },
     "9729aa89351a4ee3a0782ed3d7b7812b": {
      "model_module": "@jupyter-widgets/controls",
      "model_module_version": "1.4.0",
      "model_name": "HBoxModel",
      "state": {
       "children": [
        "IPY_MODEL_982fed8da27141afba6d82108bc94156",
        "IPY_MODEL_f28e844e0499411a8d6a74039dd3458b"
       ],
       "layout": "IPY_MODEL_7b283d97d97a4eab84669a4dfe9b1087"
      }
     },
     "9774147ca9fb41b88e4c805df11e6899": {
      "model_module": "@jupyter-widgets/controls",
      "model_module_version": "1.4.0",
      "model_name": "DescriptionStyleModel",
      "state": {
       "description_width": ""
      }
     },
     "97acb732f1fe46a8875dd6b6b4b0a721": {
      "model_module": "@jupyter-widgets/base",
      "model_module_version": "1.1.0",
      "model_name": "LayoutModel",
      "state": {}
     },
     "97b90464b0e4485ba38d48b8cd53caa2": {
      "model_module": "@jupyter-widgets/base",
      "model_module_version": "1.1.0",
      "model_name": "LayoutModel",
      "state": {}
     },
     "982fed8da27141afba6d82108bc94156": {
      "model_module": "@jupyter-widgets/controls",
      "model_module_version": "1.4.0",
      "model_name": "IntProgressModel",
      "state": {
       "bar_style": "success",
       "layout": "IPY_MODEL_8e6e837d0b7c4aba8dfe878d00bf99ce",
       "max": 1000,
       "style": "IPY_MODEL_abbe3903db9b4b16a5b2bf42b3e1209e",
       "value": 1000
      }
     },
     "98e3211032fd40939e86301d6b75ed07": {
      "model_module": "@jupyter-widgets/base",
      "model_module_version": "1.1.0",
      "model_name": "LayoutModel",
      "state": {}
     },
     "9921009d7aa642639768f7d6b77a9ebb": {
      "model_module": "@jupyter-widgets/controls",
      "model_module_version": "1.4.0",
      "model_name": "HBoxModel",
      "state": {
       "children": [
        "IPY_MODEL_683a605d9c2a456da00a1a0f7004a516",
        "IPY_MODEL_e2ecfcb4194443ad865be634e95ef169"
       ],
       "layout": "IPY_MODEL_5298d744f42a4ca69e92322ce998cdda"
      }
     },
     "9949cbd76fb3462da4f1645f5ff0e4d5": {
      "model_module": "@jupyter-widgets/base",
      "model_module_version": "1.1.0",
      "model_name": "LayoutModel",
      "state": {}
     },
     "99e8496d473a4a408976d899c281d996": {
      "model_module": "@jupyter-widgets/base",
      "model_module_version": "1.1.0",
      "model_name": "LayoutModel",
      "state": {}
     },
     "9a3341575ef147869adb60760be74279": {
      "model_module": "@jupyter-widgets/controls",
      "model_module_version": "1.4.0",
      "model_name": "ProgressStyleModel",
      "state": {
       "description_width": ""
      }
     },
     "9a3968d9afcf4c068261945003b98836": {
      "model_module": "@jupyter-widgets/controls",
      "model_module_version": "1.4.0",
      "model_name": "HTMLModel",
      "state": {
       "layout": "IPY_MODEL_91db9927fe7b40b589aba7652eede6b2",
       "style": "IPY_MODEL_3cc7ed149b374d7ba952668433c2a9dc",
       "value": "100% 1000/1000 [00:00&lt;00:00, 8020.88it/s]"
      }
     },
     "9a714ccd7c9f4bd0958921e8c1cf35d5": {
      "model_module": "@jupyter-widgets/controls",
      "model_module_version": "1.4.0",
      "model_name": "DescriptionStyleModel",
      "state": {
       "description_width": ""
      }
     },
     "9a807dacff894fecbaba017cdc01a4ff": {
      "model_module": "@jupyter-widgets/controls",
      "model_module_version": "1.4.0",
      "model_name": "HTMLModel",
      "state": {
       "layout": "IPY_MODEL_12b6430edd724907bd44e8602d248b1a",
       "style": "IPY_MODEL_481c716686ee4482a6c2a561ebc2aa73",
       "value": "100% 100/100 [00:00&lt;00:00, 1789.62it/s]"
      }
     },
     "9a9efa0b87e94ea9b4e064402a4c854a": {
      "model_module": "@jupyter-widgets/controls",
      "model_module_version": "1.4.0",
      "model_name": "DescriptionStyleModel",
      "state": {
       "description_width": ""
      }
     },
     "9ac57ae0d69f48e7ace7ba79ff26c2b1": {
      "model_module": "@jupyter-widgets/base",
      "model_module_version": "1.1.0",
      "model_name": "LayoutModel",
      "state": {}
     },
     "9acef527593146fd923457c5d865408d": {
      "model_module": "@jupyter-widgets/controls",
      "model_module_version": "1.4.0",
      "model_name": "IntProgressModel",
      "state": {
       "bar_style": "success",
       "layout": "IPY_MODEL_9949cbd76fb3462da4f1645f5ff0e4d5",
       "style": "IPY_MODEL_8d498f2ebd9244599c8fca2be8ff2c41",
       "value": 100
      }
     },
     "9ca5c95782474e96b153ef446abeb369": {
      "model_module": "@jupyter-widgets/base",
      "model_module_version": "1.1.0",
      "model_name": "LayoutModel",
      "state": {}
     },
     "9cdb2d4254da4ebd9f953170990c3514": {
      "model_module": "@jupyter-widgets/controls",
      "model_module_version": "1.4.0",
      "model_name": "ProgressStyleModel",
      "state": {
       "description_width": ""
      }
     },
     "9ce1bac8b629488795e456e13a2fcca9": {
      "model_module": "@jupyter-widgets/controls",
      "model_module_version": "1.4.0",
      "model_name": "HTMLModel",
      "state": {
       "layout": "IPY_MODEL_156303fb95c849c88117ea0e11a7835e",
       "style": "IPY_MODEL_3055c60980e94ab0a254165480be5838",
       "value": "100% 996559/996559 [26:33&lt;00:00, 625.46it/s]"
      }
     },
     "9d2cfcdf90aa4f0fad87b317b20c4008": {
      "model_module": "@jupyter-widgets/controls",
      "model_module_version": "1.4.0",
      "model_name": "IntProgressModel",
      "state": {
       "bar_style": "success",
       "layout": "IPY_MODEL_abb37bf97c924b83b4d69a1c70670240",
       "style": "IPY_MODEL_754b899e854f4e72a24216517740c839",
       "value": 100
      }
     },
     "9d36c6c012824cefb7ab932f67152243": {
      "model_module": "@jupyter-widgets/base",
      "model_module_version": "1.1.0",
      "model_name": "LayoutModel",
      "state": {}
     },
     "9d54fe28ee1c4ed48fd649ae88f8f6db": {
      "model_module": "@jupyter-widgets/controls",
      "model_module_version": "1.4.0",
      "model_name": "HBoxModel",
      "state": {
       "children": [
        "IPY_MODEL_af1dc37397234f41b2a78dea66d4058a",
        "IPY_MODEL_b8aad5622c4b4b7c8ff960a5e777c60a"
       ],
       "layout": "IPY_MODEL_d3c50b0a99c04a84a3b90ab9c01cdaf3"
      }
     },
     "9dced1bff1e74ffeae6809c7e4957daa": {
      "model_module": "@jupyter-widgets/base",
      "model_module_version": "1.1.0",
      "model_name": "LayoutModel",
      "state": {}
     },
     "9de24ec5e48b45128409d3956ae0c102": {
      "model_module": "@jupyter-widgets/controls",
      "model_module_version": "1.4.0",
      "model_name": "HBoxModel",
      "state": {
       "children": [
        "IPY_MODEL_c22c187df1ee4848b5c247de61531853",
        "IPY_MODEL_c526dc4669b344aa91020815f2a67d63"
       ],
       "layout": "IPY_MODEL_6635d17d946145a59afca3aea4ff4a19"
      }
     },
     "9df534bea9b34fb9b220b99043e1f40a": {
      "model_module": "@jupyter-widgets/base",
      "model_module_version": "1.1.0",
      "model_name": "LayoutModel",
      "state": {}
     },
     "9ea21b55525642898030977fd0f98e19": {
      "model_module": "@jupyter-widgets/controls",
      "model_module_version": "1.4.0",
      "model_name": "HTMLModel",
      "state": {
       "layout": "IPY_MODEL_de8ee676c2b44ed5b809fe26e8d08c91",
       "style": "IPY_MODEL_6c04bfd4e23b425b9d408cd6eb709328",
       "value": "100% 100/100 [00:00&lt;00:00, 1592.08it/s]"
      }
     },
     "9eb1c3fd522847a0a1ce77be06d35f24": {
      "model_module": "@jupyter-widgets/controls",
      "model_module_version": "1.4.0",
      "model_name": "ProgressStyleModel",
      "state": {
       "description_width": ""
      }
     },
     "9f73bb0a35b6487088133168463a8c45": {
      "model_module": "@jupyter-widgets/controls",
      "model_module_version": "1.4.0",
      "model_name": "IntProgressModel",
      "state": {
       "bar_style": "success",
       "layout": "IPY_MODEL_ceb659b2814643a7be77fe9595caa08e",
       "max": 1000,
       "style": "IPY_MODEL_75c381a0a65748bb80089d81f0573dbe",
       "value": 1000
      }
     },
     "9f8d0260c3b5459c9e077048f6293f8a": {
      "model_module": "@jupyter-widgets/controls",
      "model_module_version": "1.4.0",
      "model_name": "ProgressStyleModel",
      "state": {
       "description_width": ""
      }
     },
     "9fc63197999a49f78099f7b96d25cb2d": {
      "model_module": "@jupyter-widgets/controls",
      "model_module_version": "1.4.0",
      "model_name": "HTMLModel",
      "state": {
       "layout": "IPY_MODEL_61c9959863c84fe98a66e23abc8c4e3f",
       "style": "IPY_MODEL_adc41ec421e0475480f36311e42a677b",
       "value": "100% 1000/1000 [57:47&lt;00:00,  3.17s/it]"
      }
     },
     "9ffdc424c4314316913f014bb83e6f4c": {
      "model_module": "@jupyter-widgets/base",
      "model_module_version": "1.1.0",
      "model_name": "LayoutModel",
      "state": {}
     },
     "a03d57bfe89f405497ce46d0790a5824": {
      "model_module": "@jupyter-widgets/base",
      "model_module_version": "1.1.0",
      "model_name": "LayoutModel",
      "state": {}
     },
     "a06d9a42c35f4dc2abe194ccfe4c4f70": {
      "model_module": "@jupyter-widgets/controls",
      "model_module_version": "1.4.0",
      "model_name": "IntProgressModel",
      "state": {
       "bar_style": "success",
       "layout": "IPY_MODEL_363d0da8de0e46f99ae03aed85ed21de",
       "max": 996559,
       "style": "IPY_MODEL_cdb6029ff1b34e5eb0926e768c2881ec",
       "value": 996559
      }
     },
     "a0ba9c5be6da4dea9163baee4aad4c80": {
      "model_module": "@jupyter-widgets/base",
      "model_module_version": "1.1.0",
      "model_name": "LayoutModel",
      "state": {}
     },
     "a0c5dc3e4d3749b2b9e5f342a5f55b66": {
      "model_module": "@jupyter-widgets/base",
      "model_module_version": "1.1.0",
      "model_name": "LayoutModel",
      "state": {}
     },
     "a11e85f0afac4650b6aae56cffc48694": {
      "model_module": "@jupyter-widgets/controls",
      "model_module_version": "1.4.0",
      "model_name": "HBoxModel",
      "state": {
       "children": [
        "IPY_MODEL_f208fbbad6ba4f9ba03ba7f0e3a00f40",
        "IPY_MODEL_4d180d1c219d4ecb9c14b37975a96d7f"
       ],
       "layout": "IPY_MODEL_0266ec4516224cf8b0ce9d837fc7c705"
      }
     },
     "a133ee8a93b24080b0e958e4134a7fea": {
      "model_module": "@jupyter-widgets/base",
      "model_module_version": "1.1.0",
      "model_name": "LayoutModel",
      "state": {}
     },
     "a14f374cd18140b294de2d91c9f446d9": {
      "model_module": "@jupyter-widgets/controls",
      "model_module_version": "1.4.0",
      "model_name": "HBoxModel",
      "state": {
       "children": [
        "IPY_MODEL_81fe33a882b14504b2b2d33707088165",
        "IPY_MODEL_262c0d3229164a85b27a045598a0dad3"
       ],
       "layout": "IPY_MODEL_33b6c0a8a8f24d36af80945d7491a99f"
      }
     },
     "a1b7b833cd99477da463be63837b0add": {
      "model_module": "@jupyter-widgets/controls",
      "model_module_version": "1.4.0",
      "model_name": "DescriptionStyleModel",
      "state": {
       "description_width": ""
      }
     },
     "a1cf8793c4d940e4b9e0739518f4fbce": {
      "model_module": "@jupyter-widgets/controls",
      "model_module_version": "1.4.0",
      "model_name": "HTMLModel",
      "state": {
       "layout": "IPY_MODEL_d8a31b522dc34df29552397cf7f3eba5",
       "style": "IPY_MODEL_4d182070b2d84e899e47c3c3d4b3ab76",
       "value": "100% 1000/1000 [39:00&lt;00:00,  2.30s/it]"
      }
     },
     "a1ebd47d07034c2083e96346242d58fa": {
      "model_module": "@jupyter-widgets/base",
      "model_module_version": "1.1.0",
      "model_name": "LayoutModel",
      "state": {}
     },
     "a315c7f26168494dae3f90fae35b5bd2": {
      "model_module": "@jupyter-widgets/base",
      "model_module_version": "1.1.0",
      "model_name": "LayoutModel",
      "state": {}
     },
     "a332709a73114bc58450479d129df53b": {
      "model_module": "@jupyter-widgets/controls",
      "model_module_version": "1.4.0",
      "model_name": "HBoxModel",
      "state": {
       "children": [
        "IPY_MODEL_2dc2ab11c68f447985b52da854656956",
        "IPY_MODEL_343125f1c7254487bde78b9085a5e036"
       ],
       "layout": "IPY_MODEL_8a7584a37ec64383902e136eaec7d26e"
      }
     },
     "a3ae2c45c57e433aaca845b16da898f1": {
      "model_module": "@jupyter-widgets/controls",
      "model_module_version": "1.4.0",
      "model_name": "IntProgressModel",
      "state": {
       "bar_style": "success",
       "layout": "IPY_MODEL_a1ebd47d07034c2083e96346242d58fa",
       "style": "IPY_MODEL_a3afefc4ecd842a3b62a33973bebe328",
       "value": 100
      }
     },
     "a3afefc4ecd842a3b62a33973bebe328": {
      "model_module": "@jupyter-widgets/controls",
      "model_module_version": "1.4.0",
      "model_name": "ProgressStyleModel",
      "state": {
       "description_width": ""
      }
     },
     "a3e989f20c034480940bf40d7b2ef814": {
      "model_module": "@jupyter-widgets/controls",
      "model_module_version": "1.4.0",
      "model_name": "HTMLModel",
      "state": {
       "layout": "IPY_MODEL_b92ff05e1e924355b6189c41399a3604",
       "style": "IPY_MODEL_8311b9d3331a4485a70a40c897591fe0",
       "value": "100% 1000/1000 [28:01&lt;00:00,  1.33s/it]"
      }
     },
     "a48fe4653a6c41eeb3a726d9a0aa24fe": {
      "model_module": "@jupyter-widgets/base",
      "model_module_version": "1.1.0",
      "model_name": "LayoutModel",
      "state": {}
     },
     "a533333e1a6c4314a2c656710a66b9eb": {
      "model_module": "@jupyter-widgets/controls",
      "model_module_version": "1.4.0",
      "model_name": "DescriptionStyleModel",
      "state": {
       "description_width": ""
      }
     },
     "a55dde077ec347f68a950ab2bc5f9590": {
      "model_module": "@jupyter-widgets/base",
      "model_module_version": "1.1.0",
      "model_name": "LayoutModel",
      "state": {}
     },
     "a56654955ce54967adb4f98f74bdc15f": {
      "model_module": "@jupyter-widgets/base",
      "model_module_version": "1.1.0",
      "model_name": "LayoutModel",
      "state": {}
     },
     "a5959501d7b949feb773f7df4dac8071": {
      "model_module": "@jupyter-widgets/controls",
      "model_module_version": "1.4.0",
      "model_name": "ProgressStyleModel",
      "state": {
       "description_width": ""
      }
     },
     "a5960033ce5242ccab65b2849505ef97": {
      "model_module": "@jupyter-widgets/controls",
      "model_module_version": "1.4.0",
      "model_name": "DescriptionStyleModel",
      "state": {
       "description_width": ""
      }
     },
     "a611dcd2c2174d699bed56137eeb135b": {
      "model_module": "@jupyter-widgets/controls",
      "model_module_version": "1.4.0",
      "model_name": "HBoxModel",
      "state": {
       "children": [
        "IPY_MODEL_e1e66837a69f48eda75780eba57364bb",
        "IPY_MODEL_da1492689616400e98c2329cad0b1e70"
       ],
       "layout": "IPY_MODEL_b55772c7fcfc439691120064fe19ad71"
      }
     },
     "a632c942ef594775a835ddb7ed62a892": {
      "model_module": "@jupyter-widgets/controls",
      "model_module_version": "1.4.0",
      "model_name": "DescriptionStyleModel",
      "state": {
       "description_width": ""
      }
     },
     "a6bf8e22b7c641e8bb48faf3271c7d5e": {
      "model_module": "@jupyter-widgets/controls",
      "model_module_version": "1.4.0",
      "model_name": "IntProgressModel",
      "state": {
       "bar_style": "success",
       "layout": "IPY_MODEL_6d4d5d1dbe0644cbbb8d37558198c073",
       "max": 996559,
       "style": "IPY_MODEL_4d94341ac9bc41de92ceab0c650e7e15",
       "value": 996559
      }
     },
     "a6f9579d9dac44c697d2407bb7abd9b5": {
      "model_module": "@jupyter-widgets/controls",
      "model_module_version": "1.4.0",
      "model_name": "HTMLModel",
      "state": {
       "layout": "IPY_MODEL_6c3d71605ab04b70bf8ad07dbf1131b3",
       "style": "IPY_MODEL_1bf468b229ff460b8580f7c67f78f2c0",
       "value": "100% 1000/1000 [00:00&lt;00:00, 5116.32it/s]"
      }
     },
     "a77461034fd44b6886e4075573ed67d1": {
      "model_module": "@jupyter-widgets/controls",
      "model_module_version": "1.4.0",
      "model_name": "HTMLModel",
      "state": {
       "layout": "IPY_MODEL_35e6f7534be24ab0a9a36f1129a46ae2",
       "style": "IPY_MODEL_0197bd196df349cb9217bcdf0fb69a67",
       "value": "100% 996559/996559 [21:14&lt;00:00, 782.02it/s]"
      }
     },
     "a787981dd87e4f0fb3b94438e87ba8c1": {
      "model_module": "@jupyter-widgets/base",
      "model_module_version": "1.1.0",
      "model_name": "LayoutModel",
      "state": {}
     },
     "a80abe53a6fc418d8bfc3ed487377ec5": {
      "model_module": "@jupyter-widgets/base",
      "model_module_version": "1.1.0",
      "model_name": "LayoutModel",
      "state": {}
     },
     "a82925260bae4138ade084b236eb26d1": {
      "model_module": "@jupyter-widgets/base",
      "model_module_version": "1.1.0",
      "model_name": "LayoutModel",
      "state": {}
     },
     "a852afbb2ae94e88a47659661092d177": {
      "model_module": "@jupyter-widgets/controls",
      "model_module_version": "1.4.0",
      "model_name": "HBoxModel",
      "state": {
       "children": [
        "IPY_MODEL_3c6ac270cb7242eab8618bc53f137d75",
        "IPY_MODEL_74e26eb3fc5b40acb150b5e32d5f7859"
       ],
       "layout": "IPY_MODEL_98e3211032fd40939e86301d6b75ed07"
      }
     },
     "aa22df32f7524c4eb0955aca82e3aa3e": {
      "model_module": "@jupyter-widgets/base",
      "model_module_version": "1.1.0",
      "model_name": "LayoutModel",
      "state": {}
     },
     "aa377c8863b041ce9f3301d3c2caccaa": {
      "model_module": "@jupyter-widgets/controls",
      "model_module_version": "1.4.0",
      "model_name": "HBoxModel",
      "state": {
       "children": [
        "IPY_MODEL_32ab73a7e93f432cae2a49ba7d305e87",
        "IPY_MODEL_fc26813b1cfb4d4d93a129900f43d9fa"
       ],
       "layout": "IPY_MODEL_439438ff391e405a9dbc9435e7fe5624"
      }
     },
     "aa4dab73e36041cc91f04ce717880c25": {
      "model_module": "@jupyter-widgets/controls",
      "model_module_version": "1.4.0",
      "model_name": "ProgressStyleModel",
      "state": {
       "description_width": ""
      }
     },
     "aaa0e2c3dbe5455cb78b92820c44774e": {
      "model_module": "@jupyter-widgets/base",
      "model_module_version": "1.1.0",
      "model_name": "LayoutModel",
      "state": {}
     },
     "aadf2f0a60b84560a5ef5e72820eeedb": {
      "model_module": "@jupyter-widgets/controls",
      "model_module_version": "1.4.0",
      "model_name": "IntProgressModel",
      "state": {
       "bar_style": "success",
       "layout": "IPY_MODEL_e16606902d9d471bb59494f1675513c7",
       "max": 996559,
       "style": "IPY_MODEL_3ec790712ad24ab6acadf3cd72b631ba",
       "value": 996559
      }
     },
     "ab2ca639d0b949cdba5777e20545c6d9": {
      "model_module": "@jupyter-widgets/base",
      "model_module_version": "1.1.0",
      "model_name": "LayoutModel",
      "state": {}
     },
     "ab7c01418a13465984279b4d987b169c": {
      "model_module": "@jupyter-widgets/base",
      "model_module_version": "1.1.0",
      "model_name": "LayoutModel",
      "state": {}
     },
     "ab8c020098084e66845d27d52a8c1d94": {
      "model_module": "@jupyter-widgets/controls",
      "model_module_version": "1.4.0",
      "model_name": "DescriptionStyleModel",
      "state": {
       "description_width": ""
      }
     },
     "abb37bf97c924b83b4d69a1c70670240": {
      "model_module": "@jupyter-widgets/base",
      "model_module_version": "1.1.0",
      "model_name": "LayoutModel",
      "state": {}
     },
     "abb4ffc0274948ca8816110ccdfe3029": {
      "model_module": "@jupyter-widgets/controls",
      "model_module_version": "1.4.0",
      "model_name": "HBoxModel",
      "state": {
       "children": [
        "IPY_MODEL_e2c26cb7fd614f98bf0ee804f8f868da",
        "IPY_MODEL_b37ac75ec28d4d49af737e70cba66a52"
       ],
       "layout": "IPY_MODEL_52516a6d842d42cbb207738ad7b20530"
      }
     },
     "abbe3903db9b4b16a5b2bf42b3e1209e": {
      "model_module": "@jupyter-widgets/controls",
      "model_module_version": "1.4.0",
      "model_name": "ProgressStyleModel",
      "state": {
       "description_width": ""
      }
     },
     "abdd0b41b22744e6a0b1b32c65b380e6": {
      "model_module": "@jupyter-widgets/controls",
      "model_module_version": "1.4.0",
      "model_name": "DescriptionStyleModel",
      "state": {
       "description_width": ""
      }
     },
     "abe5dee05dd24fc49c91a8eb370a6747": {
      "model_module": "@jupyter-widgets/controls",
      "model_module_version": "1.4.0",
      "model_name": "HTMLModel",
      "state": {
       "layout": "IPY_MODEL_fe7dad29c1be444c9265e5440617b82b",
       "style": "IPY_MODEL_40b6599893114a63a14961d530c6b482",
       "value": "100% 1000/1000 [1:04:31&lt;00:00,  3.48s/it]"
      }
     },
     "abea9360c6ca4ba39a40e41dc7e11644": {
      "model_module": "@jupyter-widgets/base",
      "model_module_version": "1.1.0",
      "model_name": "LayoutModel",
      "state": {}
     },
     "acac63707bcc4a648b37906a05c917fe": {
      "model_module": "@jupyter-widgets/base",
      "model_module_version": "1.1.0",
      "model_name": "LayoutModel",
      "state": {}
     },
     "ace038ac306949009b291c767bf89fa1": {
      "model_module": "@jupyter-widgets/base",
      "model_module_version": "1.1.0",
      "model_name": "LayoutModel",
      "state": {}
     },
     "ad48c60edd574afb9a30ccb8c713f6a9": {
      "model_module": "@jupyter-widgets/base",
      "model_module_version": "1.1.0",
      "model_name": "LayoutModel",
      "state": {}
     },
     "ad7708264b7c46e8ad479a062e9cdadb": {
      "model_module": "@jupyter-widgets/base",
      "model_module_version": "1.1.0",
      "model_name": "LayoutModel",
      "state": {}
     },
     "ada0efef9b3a48d29a4ee2ab05fe08b7": {
      "model_module": "@jupyter-widgets/controls",
      "model_module_version": "1.4.0",
      "model_name": "ProgressStyleModel",
      "state": {
       "description_width": ""
      }
     },
     "adc41ec421e0475480f36311e42a677b": {
      "model_module": "@jupyter-widgets/controls",
      "model_module_version": "1.4.0",
      "model_name": "DescriptionStyleModel",
      "state": {
       "description_width": ""
      }
     },
     "ae236122fe604258ba4e5a34a2f60ed3": {
      "model_module": "@jupyter-widgets/controls",
      "model_module_version": "1.4.0",
      "model_name": "DescriptionStyleModel",
      "state": {
       "description_width": ""
      }
     },
     "ae2f35278f484d6f917542754873c3d1": {
      "model_module": "@jupyter-widgets/controls",
      "model_module_version": "1.4.0",
      "model_name": "HBoxModel",
      "state": {
       "children": [
        "IPY_MODEL_bb6713b632d04eaaadcbde3f5af6d09b",
        "IPY_MODEL_6ce1103050cd4563b00d4ae5b0f87f0c"
       ],
       "layout": "IPY_MODEL_7f107aef44f349d1969aba464a6cab7f"
      }
     },
     "af1dc37397234f41b2a78dea66d4058a": {
      "model_module": "@jupyter-widgets/controls",
      "model_module_version": "1.4.0",
      "model_name": "IntProgressModel",
      "state": {
       "bar_style": "success",
       "layout": "IPY_MODEL_168eecb73e0643df85963c8c9acf9211",
       "max": 1000,
       "style": "IPY_MODEL_00fd532dec6445fead318d3a42efbe6e",
       "value": 1000
      }
     },
     "af35255cf137409d8353c89480754324": {
      "model_module": "@jupyter-widgets/controls",
      "model_module_version": "1.4.0",
      "model_name": "HTMLModel",
      "state": {
       "layout": "IPY_MODEL_d5b1380705f544fdb8e5e1b8ebf49305",
       "style": "IPY_MODEL_a533333e1a6c4314a2c656710a66b9eb",
       "value": "100% 996559/996559 [02:59&lt;00:00, 5561.79it/s]"
      }
     },
     "af46555e39154f44a77fe83abebd7e56": {
      "model_module": "@jupyter-widgets/controls",
      "model_module_version": "1.4.0",
      "model_name": "DescriptionStyleModel",
      "state": {
       "description_width": ""
      }
     },
     "afb521b3101f48acb7aeed3f1b17f7ec": {
      "model_module": "@jupyter-widgets/base",
      "model_module_version": "1.1.0",
      "model_name": "LayoutModel",
      "state": {}
     },
     "aff5c49f90d942efbaf9212a839e9996": {
      "model_module": "@jupyter-widgets/base",
      "model_module_version": "1.1.0",
      "model_name": "LayoutModel",
      "state": {}
     },
     "b08f5fed4afe4e929fc7ec6acdd0eb62": {
      "model_module": "@jupyter-widgets/controls",
      "model_module_version": "1.4.0",
      "model_name": "IntProgressModel",
      "state": {
       "bar_style": "success",
       "layout": "IPY_MODEL_c701da3c13fd4389922e12c754bc8b35",
       "style": "IPY_MODEL_6efc43e5b5e14839b89849d9aa50af83",
       "value": 100
      }
     },
     "b098c6973cc44cd6a4f9b018c7ef1b8c": {
      "model_module": "@jupyter-widgets/base",
      "model_module_version": "1.1.0",
      "model_name": "LayoutModel",
      "state": {}
     },
     "b0d6561c56534cd98a6b2e122a47a2a6": {
      "model_module": "@jupyter-widgets/base",
      "model_module_version": "1.1.0",
      "model_name": "LayoutModel",
      "state": {}
     },
     "b283f972abf14150aed6f936a1c442a6": {
      "model_module": "@jupyter-widgets/controls",
      "model_module_version": "1.4.0",
      "model_name": "ProgressStyleModel",
      "state": {
       "description_width": ""
      }
     },
     "b2dc9536f0474e39a591298b7152386e": {
      "model_module": "@jupyter-widgets/base",
      "model_module_version": "1.1.0",
      "model_name": "LayoutModel",
      "state": {}
     },
     "b3048593f7454951bd17fbbcf4aa0b91": {
      "model_module": "@jupyter-widgets/controls",
      "model_module_version": "1.4.0",
      "model_name": "DescriptionStyleModel",
      "state": {
       "description_width": ""
      }
     },
     "b37ac75ec28d4d49af737e70cba66a52": {
      "model_module": "@jupyter-widgets/controls",
      "model_module_version": "1.4.0",
      "model_name": "HTMLModel",
      "state": {
       "layout": "IPY_MODEL_c7413b0be84245adb0b3b454e1fa7e42",
       "style": "IPY_MODEL_1e50e44ff5384c9b9535dfdbf63cda1a",
       "value": "100% 996559/996559 [3:10:01&lt;00:00, 87.41it/s]"
      }
     },
     "b3a93dfb2ab746299beb86f9c877ec85": {
      "model_module": "@jupyter-widgets/controls",
      "model_module_version": "1.4.0",
      "model_name": "ProgressStyleModel",
      "state": {
       "description_width": ""
      }
     },
     "b4ec759122b94076945f9b9ecc694c25": {
      "model_module": "@jupyter-widgets/controls",
      "model_module_version": "1.4.0",
      "model_name": "IntProgressModel",
      "state": {
       "bar_style": "success",
       "layout": "IPY_MODEL_39fdf3a2623a4c5a9041427d719d040e",
       "max": 1000,
       "style": "IPY_MODEL_8c57d90923fb4beaa5a81ab620baba3f",
       "value": 1000
      }
     },
     "b5219d624b39451cadcc60f629864d57": {
      "model_module": "@jupyter-widgets/controls",
      "model_module_version": "1.4.0",
      "model_name": "HBoxModel",
      "state": {
       "children": [
        "IPY_MODEL_ddaa229e8f854cb18ab1032410653d3e",
        "IPY_MODEL_ef110ef8572e4c0aba586e584ba149d8"
       ],
       "layout": "IPY_MODEL_6e768a2d46e043168d7c0f0ffc4207a3"
      }
     },
     "b55772c7fcfc439691120064fe19ad71": {
      "model_module": "@jupyter-widgets/base",
      "model_module_version": "1.1.0",
      "model_name": "LayoutModel",
      "state": {}
     },
     "b5c7e013157f4d8d99baae58c28e8a51": {
      "model_module": "@jupyter-widgets/controls",
      "model_module_version": "1.4.0",
      "model_name": "IntProgressModel",
      "state": {
       "bar_style": "success",
       "layout": "IPY_MODEL_97acb732f1fe46a8875dd6b6b4b0a721",
       "max": 996559,
       "style": "IPY_MODEL_f628bc9a00814fc8b98168bdefb7db87",
       "value": 996559
      }
     },
     "b640c6dca6524bc289ce9e48e18d05cd": {
      "model_module": "@jupyter-widgets/controls",
      "model_module_version": "1.4.0",
      "model_name": "HBoxModel",
      "state": {
       "children": [
        "IPY_MODEL_f5bfa01b10244a0ea11f4176341356c7",
        "IPY_MODEL_fd5863f7110044f59cd0711ed83ed785"
       ],
       "layout": "IPY_MODEL_a55dde077ec347f68a950ab2bc5f9590"
      }
     },
     "b652e181538049aaba36713a9437864f": {
      "model_module": "@jupyter-widgets/controls",
      "model_module_version": "1.4.0",
      "model_name": "HBoxModel",
      "state": {
       "children": [
        "IPY_MODEL_881182daa7aa4b8991e4be9e59774865",
        "IPY_MODEL_073402f6dfac49c98076e6ccc36cd404"
       ],
       "layout": "IPY_MODEL_c96554f5311d4d50a2d746873ffdabeb"
      }
     },
     "b6c69830527544e28da2e3318fbe393b": {
      "model_module": "@jupyter-widgets/controls",
      "model_module_version": "1.4.0",
      "model_name": "HBoxModel",
      "state": {
       "children": [
        "IPY_MODEL_33aadd0903fb431f86131eb3b178abdb",
        "IPY_MODEL_7644781ea81c40eb879f1dcada87bfb3"
       ],
       "layout": "IPY_MODEL_84e4ed3577864c6fbd94c267838c6fe8"
      }
     },
     "b6fbccb523e9422ab7ce8e5469cb983f": {
      "model_module": "@jupyter-widgets/controls",
      "model_module_version": "1.4.0",
      "model_name": "DescriptionStyleModel",
      "state": {
       "description_width": ""
      }
     },
     "b8aad5622c4b4b7c8ff960a5e777c60a": {
      "model_module": "@jupyter-widgets/controls",
      "model_module_version": "1.4.0",
      "model_name": "HTMLModel",
      "state": {
       "layout": "IPY_MODEL_ed4608219f0e488dae7fdc15a466ae07",
       "style": "IPY_MODEL_2296a10403de415abd6ae4695a566970",
       "value": "100% 1000/1000 [00:00&lt;00:00, 8373.30it/s]"
      }
     },
     "b8bc37bd66064338ac64d8d731d88215": {
      "model_module": "@jupyter-widgets/base",
      "model_module_version": "1.1.0",
      "model_name": "LayoutModel",
      "state": {}
     },
     "b91879143372465ba8867dd31c9ea751": {
      "model_module": "@jupyter-widgets/controls",
      "model_module_version": "1.4.0",
      "model_name": "HBoxModel",
      "state": {
       "children": [
        "IPY_MODEL_7524b901d0fc48388bd7489b24f7066e",
        "IPY_MODEL_708a89f8b54448d2a509e621ca50f4e0"
       ],
       "layout": "IPY_MODEL_c8b2ee713fb7460789ccc06c1dddda10"
      }
     },
     "b92ff05e1e924355b6189c41399a3604": {
      "model_module": "@jupyter-widgets/base",
      "model_module_version": "1.1.0",
      "model_name": "LayoutModel",
      "state": {}
     },
     "b94531dbe24748098c097263b736c04f": {
      "model_module": "@jupyter-widgets/controls",
      "model_module_version": "1.4.0",
      "model_name": "ProgressStyleModel",
      "state": {
       "description_width": ""
      }
     },
     "b99a17fe78c542e8b6f534c89808c659": {
      "model_module": "@jupyter-widgets/controls",
      "model_module_version": "1.4.0",
      "model_name": "IntProgressModel",
      "state": {
       "bar_style": "success",
       "layout": "IPY_MODEL_6b1574bcf5c245cca444ec55ee0f04af",
       "max": 996559,
       "style": "IPY_MODEL_6186a64c36e84fe69ffde7b97b127e9a",
       "value": 996559
      }
     },
     "ba1689ed659845988fe8b9d0f065ff87": {
      "model_module": "@jupyter-widgets/base",
      "model_module_version": "1.1.0",
      "model_name": "LayoutModel",
      "state": {}
     },
     "ba584a71e50b4d03bb3990d243c27453": {
      "model_module": "@jupyter-widgets/base",
      "model_module_version": "1.1.0",
      "model_name": "LayoutModel",
      "state": {}
     },
     "ba79a63c89794ac1bf6fa9cd1de16651": {
      "model_module": "@jupyter-widgets/base",
      "model_module_version": "1.1.0",
      "model_name": "LayoutModel",
      "state": {}
     },
     "bab338bb9e774bdf92d40f4956ed6132": {
      "model_module": "@jupyter-widgets/controls",
      "model_module_version": "1.4.0",
      "model_name": "HBoxModel",
      "state": {
       "children": [
        "IPY_MODEL_84cc859253244dfe8df336cd23dc3dcc",
        "IPY_MODEL_4832cdca648a4e479e128773fd87a006"
       ],
       "layout": "IPY_MODEL_b098c6973cc44cd6a4f9b018c7ef1b8c"
      }
     },
     "baf7672ca6aa41ba937acb6579a1bba4": {
      "model_module": "@jupyter-widgets/base",
      "model_module_version": "1.1.0",
      "model_name": "LayoutModel",
      "state": {}
     },
     "bb2b52ae8a2b454288d898d69be49d45": {
      "model_module": "@jupyter-widgets/base",
      "model_module_version": "1.1.0",
      "model_name": "LayoutModel",
      "state": {}
     },
     "bb6713b632d04eaaadcbde3f5af6d09b": {
      "model_module": "@jupyter-widgets/controls",
      "model_module_version": "1.4.0",
      "model_name": "IntProgressModel",
      "state": {
       "bar_style": "success",
       "layout": "IPY_MODEL_277defa6269144f3a22973e5c362112f",
       "max": 996559,
       "style": "IPY_MODEL_213d6430ff674929a9907e5d02dca837",
       "value": 996559
      }
     },
     "bc07da6dacef41c7b76833dee3163d15": {
      "model_module": "@jupyter-widgets/base",
      "model_module_version": "1.1.0",
      "model_name": "LayoutModel",
      "state": {}
     },
     "bc9ea731fd3247e28bd1ff052e1cb046": {
      "model_module": "@jupyter-widgets/base",
      "model_module_version": "1.1.0",
      "model_name": "LayoutModel",
      "state": {}
     },
     "bcd1302a170844b3809c73b91aa4096b": {
      "model_module": "@jupyter-widgets/controls",
      "model_module_version": "1.4.0",
      "model_name": "HTMLModel",
      "state": {
       "layout": "IPY_MODEL_c43f65f4aea34dfb8ad953428a2392f6",
       "style": "IPY_MODEL_6afb25e280d449e0944ef2f5be83a266",
       "value": "100% 100/100 [00:00&lt;00:00, 2107.63it/s]"
      }
     },
     "bd1a57e389a847f9910e51fc77c119ff": {
      "model_module": "@jupyter-widgets/controls",
      "model_module_version": "1.4.0",
      "model_name": "ProgressStyleModel",
      "state": {
       "description_width": ""
      }
     },
     "bddedd7ce3524405a0fa71ab18d7831c": {
      "model_module": "@jupyter-widgets/controls",
      "model_module_version": "1.4.0",
      "model_name": "HBoxModel",
      "state": {
       "children": [
        "IPY_MODEL_172b6fa38a6040ae9d631903b217a84d",
        "IPY_MODEL_d928e1fa1d5d4cc6b88f8e2300e34800"
       ],
       "layout": "IPY_MODEL_ec570a28a4fc4b50b04c5ee3958c31b9"
      }
     },
     "be9d73e639984389b991ecc08568cd8e": {
      "model_module": "@jupyter-widgets/base",
      "model_module_version": "1.1.0",
      "model_name": "LayoutModel",
      "state": {}
     },
     "bec24493fc894b9f8a888213cbf34bfb": {
      "model_module": "@jupyter-widgets/controls",
      "model_module_version": "1.4.0",
      "model_name": "DescriptionStyleModel",
      "state": {
       "description_width": ""
      }
     },
     "c0e3534a908b4ff1a67d6aed23236558": {
      "model_module": "@jupyter-widgets/controls",
      "model_module_version": "1.4.0",
      "model_name": "HBoxModel",
      "state": {
       "children": [
        "IPY_MODEL_aadf2f0a60b84560a5ef5e72820eeedb",
        "IPY_MODEL_9ce1bac8b629488795e456e13a2fcca9"
       ],
       "layout": "IPY_MODEL_9ca5c95782474e96b153ef446abeb369"
      }
     },
     "c18bdad3f68d4e48be5136019987ed67": {
      "model_module": "@jupyter-widgets/base",
      "model_module_version": "1.1.0",
      "model_name": "LayoutModel",
      "state": {}
     },
     "c22364cf803a47d8be6826da93584a57": {
      "model_module": "@jupyter-widgets/controls",
      "model_module_version": "1.4.0",
      "model_name": "ProgressStyleModel",
      "state": {
       "description_width": ""
      }
     },
     "c22c187df1ee4848b5c247de61531853": {
      "model_module": "@jupyter-widgets/controls",
      "model_module_version": "1.4.0",
      "model_name": "IntProgressModel",
      "state": {
       "bar_style": "success",
       "layout": "IPY_MODEL_a133ee8a93b24080b0e958e4134a7fea",
       "max": 1000,
       "style": "IPY_MODEL_30c4e72721eb4fda99fb0f51836f8465",
       "value": 1000
      }
     },
     "c266968f5cee451daa1fb966cc18dbb9": {
      "model_module": "@jupyter-widgets/base",
      "model_module_version": "1.1.0",
      "model_name": "LayoutModel",
      "state": {}
     },
     "c27fc6fa0260416fa97282b3d943a70a": {
      "model_module": "@jupyter-widgets/controls",
      "model_module_version": "1.4.0",
      "model_name": "IntProgressModel",
      "state": {
       "bar_style": "success",
       "layout": "IPY_MODEL_2047134722e3429485d8da708af2b8df",
       "max": 996559,
       "style": "IPY_MODEL_3160edab40444cefa6e1be414a1213ff",
       "value": 996559
      }
     },
     "c2a7a92493744cb19a4ecfd06bae6ffb": {
      "model_module": "@jupyter-widgets/controls",
      "model_module_version": "1.4.0",
      "model_name": "DescriptionStyleModel",
      "state": {
       "description_width": ""
      }
     },
     "c43f65f4aea34dfb8ad953428a2392f6": {
      "model_module": "@jupyter-widgets/base",
      "model_module_version": "1.1.0",
      "model_name": "LayoutModel",
      "state": {}
     },
     "c44cd37b38fd4e55b100e65cdf574c88": {
      "model_module": "@jupyter-widgets/controls",
      "model_module_version": "1.4.0",
      "model_name": "HBoxModel",
      "state": {
       "children": [
        "IPY_MODEL_9d2cfcdf90aa4f0fad87b317b20c4008",
        "IPY_MODEL_dda47c100bb841b6a495b475dc962281"
       ],
       "layout": "IPY_MODEL_7ef179c82a1944dda77e5033016d8931"
      }
     },
     "c49816b7716649bcb42c1c834a022252": {
      "model_module": "@jupyter-widgets/controls",
      "model_module_version": "1.4.0",
      "model_name": "ProgressStyleModel",
      "state": {
       "description_width": ""
      }
     },
     "c526dc4669b344aa91020815f2a67d63": {
      "model_module": "@jupyter-widgets/controls",
      "model_module_version": "1.4.0",
      "model_name": "HTMLModel",
      "state": {
       "layout": "IPY_MODEL_697b886cd98a410983265771158b235b",
       "style": "IPY_MODEL_76a727f1431247ecae2b11ff57714c23",
       "value": "100% 1000/1000 [34:32&lt;00:00,  1.87s/it]"
      }
     },
     "c52cee54fb2e410291be7d814475210f": {
      "model_module": "@jupyter-widgets/controls",
      "model_module_version": "1.4.0",
      "model_name": "ProgressStyleModel",
      "state": {
       "description_width": ""
      }
     },
     "c53308eafc0d4c3ebdd9ee3df8218941": {
      "model_module": "@jupyter-widgets/controls",
      "model_module_version": "1.4.0",
      "model_name": "ProgressStyleModel",
      "state": {
       "description_width": ""
      }
     },
     "c578b67e06ce47e5bcdf9ea71064648f": {
      "model_module": "@jupyter-widgets/controls",
      "model_module_version": "1.4.0",
      "model_name": "HBoxModel",
      "state": {
       "children": [
        "IPY_MODEL_6cca92d740a848518b4723f25f3f05a2",
        "IPY_MODEL_1ec5a153516b4f12a11f3f16679f8302"
       ],
       "layout": "IPY_MODEL_1e5a7fb8a2d04fcfb88b7440e2f1c810"
      }
     },
     "c57ed59939b445d79b3ac151eed7d539": {
      "model_module": "@jupyter-widgets/controls",
      "model_module_version": "1.4.0",
      "model_name": "IntProgressModel",
      "state": {
       "bar_style": "success",
       "layout": "IPY_MODEL_b0d6561c56534cd98a6b2e122a47a2a6",
       "max": 1000,
       "style": "IPY_MODEL_09ca1ef4319e4a64b237a7a29ebaece3",
       "value": 1000
      }
     },
     "c5c3f6b4a064461493eb190c16f3f412": {
      "model_module": "@jupyter-widgets/controls",
      "model_module_version": "1.4.0",
      "model_name": "ProgressStyleModel",
      "state": {
       "description_width": ""
      }
     },
     "c5de47fe2f2344459de3292888980a47": {
      "model_module": "@jupyter-widgets/base",
      "model_module_version": "1.1.0",
      "model_name": "LayoutModel",
      "state": {}
     },
     "c6689f6e703d4097bf91cd2834b66c80": {
      "model_module": "@jupyter-widgets/controls",
      "model_module_version": "1.4.0",
      "model_name": "IntProgressModel",
      "state": {
       "bar_style": "success",
       "layout": "IPY_MODEL_dc1a9f1d08fb4521b825aa38815164ad",
       "style": "IPY_MODEL_11b34707d41743b9bddb1427699bd03e",
       "value": 100
      }
     },
     "c6816086837544f0aaf1a25a2ae737a6": {
      "model_module": "@jupyter-widgets/controls",
      "model_module_version": "1.4.0",
      "model_name": "IntProgressModel",
      "state": {
       "bar_style": "success",
       "layout": "IPY_MODEL_9052556d169c4d9e946ff8b8df3b0f37",
       "max": 996559,
       "style": "IPY_MODEL_70baefbc6d974cd8bc9ddd125eb34a32",
       "value": 996559
      }
     },
     "c6d438b8cf234e9bacae9ce214a26ee5": {
      "model_module": "@jupyter-widgets/controls",
      "model_module_version": "1.4.0",
      "model_name": "HTMLModel",
      "state": {
       "layout": "IPY_MODEL_44b7219feb544c42bbbb2e0673333af0",
       "style": "IPY_MODEL_9a9efa0b87e94ea9b4e064402a4c854a",
       "value": "100% 1000/1000 [00:00&lt;00:00, 5329.44it/s]"
      }
     },
     "c6ee9842f32c4c3983d6a9e25bd796aa": {
      "model_module": "@jupyter-widgets/controls",
      "model_module_version": "1.4.0",
      "model_name": "IntProgressModel",
      "state": {
       "bar_style": "success",
       "layout": "IPY_MODEL_65ecb05116884e3b94ba09a1a367c69c",
       "max": 1000,
       "style": "IPY_MODEL_1bd4a14ec63f40c893c9c3c3c50f46d9",
       "value": 1000
      }
     },
     "c701da3c13fd4389922e12c754bc8b35": {
      "model_module": "@jupyter-widgets/base",
      "model_module_version": "1.1.0",
      "model_name": "LayoutModel",
      "state": {}
     },
     "c7234e26f03e42bcbf674bb3962e8644": {
      "model_module": "@jupyter-widgets/base",
      "model_module_version": "1.1.0",
      "model_name": "LayoutModel",
      "state": {}
     },
     "c7334319489a4c9fb366ee89836c4e3c": {
      "model_module": "@jupyter-widgets/controls",
      "model_module_version": "1.4.0",
      "model_name": "ProgressStyleModel",
      "state": {
       "description_width": ""
      }
     },
     "c7413b0be84245adb0b3b454e1fa7e42": {
      "model_module": "@jupyter-widgets/base",
      "model_module_version": "1.1.0",
      "model_name": "LayoutModel",
      "state": {}
     },
     "c7561fd5bada45aabf9459707b21c1b6": {
      "model_module": "@jupyter-widgets/base",
      "model_module_version": "1.1.0",
      "model_name": "LayoutModel",
      "state": {}
     },
     "c76339712c944d57aaf14da800a1302f": {
      "model_module": "@jupyter-widgets/base",
      "model_module_version": "1.1.0",
      "model_name": "LayoutModel",
      "state": {}
     },
     "c76dec220a4649218605fe20bd6a6e41": {
      "model_module": "@jupyter-widgets/controls",
      "model_module_version": "1.4.0",
      "model_name": "HBoxModel",
      "state": {
       "children": [
        "IPY_MODEL_fcbdf95d099d42f9a112063812a602a6",
        "IPY_MODEL_bcd1302a170844b3809c73b91aa4096b"
       ],
       "layout": "IPY_MODEL_0efa0111275c4d879c1ee611d6cedfe1"
      }
     },
     "c77f0157ca354d5d90a8987466497524": {
      "model_module": "@jupyter-widgets/controls",
      "model_module_version": "1.4.0",
      "model_name": "HBoxModel",
      "state": {
       "children": [
        "IPY_MODEL_518ccb6e46ee47229b800108f6fab9d1",
        "IPY_MODEL_3883b645acd24af0a98284e76ce0dd0b"
       ],
       "layout": "IPY_MODEL_aff5c49f90d942efbaf9212a839e9996"
      }
     },
     "c799f0dfd7cc4ea5817b3d1b5aa404cf": {
      "model_module": "@jupyter-widgets/controls",
      "model_module_version": "1.4.0",
      "model_name": "HBoxModel",
      "state": {
       "children": [
        "IPY_MODEL_87ebbd85b53447bebe18016decc32c03",
        "IPY_MODEL_6892177587114c70b84bf3b866b0caaf"
       ],
       "layout": "IPY_MODEL_d1256696a09647b4a0a444f064f02ea4"
      }
     },
     "c83f5e8f93c24e6e8c0eea827e254e24": {
      "model_module": "@jupyter-widgets/controls",
      "model_module_version": "1.4.0",
      "model_name": "HTMLModel",
      "state": {
       "layout": "IPY_MODEL_1dad2a7b4c29486d8c19f8e6f01646f9",
       "style": "IPY_MODEL_12299b2a032f45258cf3eb07e5ae6562",
       "value": "100% 1000/1000 [00:00&lt;00:00, 3775.49it/s]"
      }
     },
     "c8b2ee713fb7460789ccc06c1dddda10": {
      "model_module": "@jupyter-widgets/base",
      "model_module_version": "1.1.0",
      "model_name": "LayoutModel",
      "state": {}
     },
     "c8fb75e0706b41b0bafb5119170dcd7d": {
      "model_module": "@jupyter-widgets/controls",
      "model_module_version": "1.4.0",
      "model_name": "DescriptionStyleModel",
      "state": {
       "description_width": ""
      }
     },
     "c8feac79a6c347679b64c8f286ade7b6": {
      "model_module": "@jupyter-widgets/controls",
      "model_module_version": "1.4.0",
      "model_name": "IntProgressModel",
      "state": {
       "bar_style": "success",
       "layout": "IPY_MODEL_0fdd028cf05f4ad79c192e8cd79543ba",
       "style": "IPY_MODEL_ada0efef9b3a48d29a4ee2ab05fe08b7",
       "value": 100
      }
     },
     "c9088bc0107a4c478261172e494ec4dd": {
      "model_module": "@jupyter-widgets/base",
      "model_module_version": "1.1.0",
      "model_name": "LayoutModel",
      "state": {}
     },
     "c90d20ad5570415a8947eb7161af96cc": {
      "model_module": "@jupyter-widgets/controls",
      "model_module_version": "1.4.0",
      "model_name": "DescriptionStyleModel",
      "state": {
       "description_width": ""
      }
     },
     "c9294557f1224c469e7da1c07c7eba15": {
      "model_module": "@jupyter-widgets/controls",
      "model_module_version": "1.4.0",
      "model_name": "HBoxModel",
      "state": {
       "children": [
        "IPY_MODEL_29602da658a34288868e4099d5d9355e",
        "IPY_MODEL_af35255cf137409d8353c89480754324"
       ],
       "layout": "IPY_MODEL_d95a3387cdb8404a927ce7f312e447fd"
      }
     },
     "c95c13d3a2fd42f19c59dfdd5cb1d38c": {
      "model_module": "@jupyter-widgets/base",
      "model_module_version": "1.1.0",
      "model_name": "LayoutModel",
      "state": {}
     },
     "c96554f5311d4d50a2d746873ffdabeb": {
      "model_module": "@jupyter-widgets/base",
      "model_module_version": "1.1.0",
      "model_name": "LayoutModel",
      "state": {}
     },
     "c9660ae821bc48b4a6bfd4370778972e": {
      "model_module": "@jupyter-widgets/base",
      "model_module_version": "1.1.0",
      "model_name": "LayoutModel",
      "state": {}
     },
     "c97c9b84a7eb4b8fb910069111d3357b": {
      "model_module": "@jupyter-widgets/controls",
      "model_module_version": "1.4.0",
      "model_name": "IntProgressModel",
      "state": {
       "bar_style": "danger",
       "layout": "IPY_MODEL_ad7708264b7c46e8ad479a062e9cdadb",
       "max": 996559,
       "style": "IPY_MODEL_c49816b7716649bcb42c1c834a022252",
       "value": 3369
      }
     },
     "ca376be329c04ee8a3c33998720f1693": {
      "model_module": "@jupyter-widgets/base",
      "model_module_version": "1.1.0",
      "model_name": "LayoutModel",
      "state": {}
     },
     "ca7e5b67d5de44d895828dbece49eb6e": {
      "model_module": "@jupyter-widgets/base",
      "model_module_version": "1.1.0",
      "model_name": "LayoutModel",
      "state": {}
     },
     "caaf5ca0445546b0b0332a7e08d17919": {
      "model_module": "@jupyter-widgets/controls",
      "model_module_version": "1.4.0",
      "model_name": "ProgressStyleModel",
      "state": {
       "description_width": ""
      }
     },
     "cafdc7ccc3f9439293ba559201ae4b3a": {
      "model_module": "@jupyter-widgets/controls",
      "model_module_version": "1.4.0",
      "model_name": "IntProgressModel",
      "state": {
       "bar_style": "success",
       "layout": "IPY_MODEL_c95c13d3a2fd42f19c59dfdd5cb1d38c",
       "max": 1000,
       "style": "IPY_MODEL_fd1265a813af4f8c99af2a149ed3b49c",
       "value": 1000
      }
     },
     "cbf6a33af7324c56a145200530428d22": {
      "model_module": "@jupyter-widgets/controls",
      "model_module_version": "1.4.0",
      "model_name": "DescriptionStyleModel",
      "state": {
       "description_width": ""
      }
     },
     "cc044b029b8e4ae18a2d3fbf1d9b123b": {
      "model_module": "@jupyter-widgets/controls",
      "model_module_version": "1.4.0",
      "model_name": "DescriptionStyleModel",
      "state": {
       "description_width": ""
      }
     },
     "cc3d3fc29c604a72b259c15c9bb8f2c9": {
      "model_module": "@jupyter-widgets/controls",
      "model_module_version": "1.4.0",
      "model_name": "DescriptionStyleModel",
      "state": {
       "description_width": ""
      }
     },
     "ccac78a2ee6645829e6a81499e7aee31": {
      "model_module": "@jupyter-widgets/controls",
      "model_module_version": "1.4.0",
      "model_name": "ProgressStyleModel",
      "state": {
       "description_width": ""
      }
     },
     "ccf0c27713df4695b6b8a0ba77f1dad8": {
      "model_module": "@jupyter-widgets/controls",
      "model_module_version": "1.4.0",
      "model_name": "HBoxModel",
      "state": {
       "children": [
        "IPY_MODEL_80fe4add8f954ebc8428e07ea1c9f46a",
        "IPY_MODEL_ee9b10b183f9493a9fe28e9cf057531f"
       ],
       "layout": "IPY_MODEL_a82925260bae4138ade084b236eb26d1"
      }
     },
     "cd0e1d22bbe34c1699dfe9906af7f232": {
      "model_module": "@jupyter-widgets/base",
      "model_module_version": "1.1.0",
      "model_name": "LayoutModel",
      "state": {}
     },
     "cd187b1f8fa4463a8c57300102271c11": {
      "model_module": "@jupyter-widgets/base",
      "model_module_version": "1.1.0",
      "model_name": "LayoutModel",
      "state": {}
     },
     "cd74d694942c4f7790cc7be85ac4946c": {
      "model_module": "@jupyter-widgets/controls",
      "model_module_version": "1.4.0",
      "model_name": "HTMLModel",
      "state": {
       "layout": "IPY_MODEL_61695301cf5f4b058f49e3dabe2f0a22",
       "style": "IPY_MODEL_d505382d38bf4b1884d09e8b2239963e",
       "value": "100% 996559/996559 [16:37&lt;00:00, 998.72it/s]"
      }
     },
     "cdb6029ff1b34e5eb0926e768c2881ec": {
      "model_module": "@jupyter-widgets/controls",
      "model_module_version": "1.4.0",
      "model_name": "ProgressStyleModel",
      "state": {
       "description_width": ""
      }
     },
     "ce3ed610d9d64a129f3d99321b024b89": {
      "model_module": "@jupyter-widgets/base",
      "model_module_version": "1.1.0",
      "model_name": "LayoutModel",
      "state": {}
     },
     "ce75503c327540dcb2d03e848495ae63": {
      "model_module": "@jupyter-widgets/base",
      "model_module_version": "1.1.0",
      "model_name": "LayoutModel",
      "state": {}
     },
     "ce848edb37424a238a0a82bf9b9adf3f": {
      "model_module": "@jupyter-widgets/controls",
      "model_module_version": "1.4.0",
      "model_name": "HBoxModel",
      "state": {
       "children": [
        "IPY_MODEL_1521af05f9534925ab6ba5cf14c109ef",
        "IPY_MODEL_6f544da733f740599cdbf60352a784b3"
       ],
       "layout": "IPY_MODEL_720de6f7634d483fbcb990fe6953ef1c"
      }
     },
     "ce97d2fae73b443cad675472e258e780": {
      "model_module": "@jupyter-widgets/controls",
      "model_module_version": "1.4.0",
      "model_name": "IntProgressModel",
      "state": {
       "bar_style": "success",
       "layout": "IPY_MODEL_901cbc7b05e54c98aeb75b6d4b1d4daa",
       "style": "IPY_MODEL_63589a94c68644e3a9f208e1341a8a5b",
       "value": 100
      }
     },
     "ceb659b2814643a7be77fe9595caa08e": {
      "model_module": "@jupyter-widgets/base",
      "model_module_version": "1.1.0",
      "model_name": "LayoutModel",
      "state": {}
     },
     "cf1b2864a9f84846b82233f80dbd4a2c": {
      "model_module": "@jupyter-widgets/controls",
      "model_module_version": "1.4.0",
      "model_name": "IntProgressModel",
      "state": {
       "bar_style": "success",
       "layout": "IPY_MODEL_ba1689ed659845988fe8b9d0f065ff87",
       "max": 1000,
       "style": "IPY_MODEL_e46d0241e7bb42219e2e9345d87f1b62",
       "value": 1000
      }
     },
     "cf90210dccab4d00bcf3b2cb0be711e4": {
      "model_module": "@jupyter-widgets/base",
      "model_module_version": "1.1.0",
      "model_name": "LayoutModel",
      "state": {}
     },
     "cf9f819ef5914be4b82b2cae87b59292": {
      "model_module": "@jupyter-widgets/controls",
      "model_module_version": "1.4.0",
      "model_name": "HBoxModel",
      "state": {
       "children": [
        "IPY_MODEL_22f968f8f5d64c1f859f9c534dfc7923",
        "IPY_MODEL_3b7b2de1bc08482d96fc99b0f8756bf1"
       ],
       "layout": "IPY_MODEL_a48fe4653a6c41eeb3a726d9a0aa24fe"
      }
     },
     "cfd52da526e74a7885bcb574427234c1": {
      "model_module": "@jupyter-widgets/controls",
      "model_module_version": "1.4.0",
      "model_name": "ProgressStyleModel",
      "state": {
       "description_width": ""
      }
     },
     "d02afa4ec53c42f99a4cd9a096caa3db": {
      "model_module": "@jupyter-widgets/controls",
      "model_module_version": "1.4.0",
      "model_name": "DescriptionStyleModel",
      "state": {
       "description_width": ""
      }
     },
     "d1256696a09647b4a0a444f064f02ea4": {
      "model_module": "@jupyter-widgets/base",
      "model_module_version": "1.1.0",
      "model_name": "LayoutModel",
      "state": {}
     },
     "d1464828a2a54bb08bd83c207c219682": {
      "model_module": "@jupyter-widgets/base",
      "model_module_version": "1.1.0",
      "model_name": "LayoutModel",
      "state": {}
     },
     "d183ae45a1d44cf99ce4073392a04cd2": {
      "model_module": "@jupyter-widgets/controls",
      "model_module_version": "1.4.0",
      "model_name": "ProgressStyleModel",
      "state": {
       "description_width": ""
      }
     },
     "d1ee054dedb94f2e8fd415550ed8ec03": {
      "model_module": "@jupyter-widgets/controls",
      "model_module_version": "1.4.0",
      "model_name": "IntProgressModel",
      "state": {
       "bar_style": "success",
       "layout": "IPY_MODEL_65443ab617924d6ba6729835fd07c8a9",
       "style": "IPY_MODEL_1595d0d17632445d9a59f7e3d8a3ca2b",
       "value": 100
      }
     },
     "d20463939c34415f810a7cb14da59852": {
      "model_module": "@jupyter-widgets/base",
      "model_module_version": "1.1.0",
      "model_name": "LayoutModel",
      "state": {}
     },
     "d23c981178c44e529c425326188d8e2d": {
      "model_module": "@jupyter-widgets/controls",
      "model_module_version": "1.4.0",
      "model_name": "DescriptionStyleModel",
      "state": {
       "description_width": ""
      }
     },
     "d263d3d9acd04bd187e4ec1b9ef91137": {
      "model_module": "@jupyter-widgets/controls",
      "model_module_version": "1.4.0",
      "model_name": "IntProgressModel",
      "state": {
       "bar_style": "success",
       "layout": "IPY_MODEL_356f8b6d673d45ab848fcff6daf554cb",
       "max": 1000,
       "style": "IPY_MODEL_9eb1c3fd522847a0a1ce77be06d35f24",
       "value": 1000
      }
     },
     "d3c50b0a99c04a84a3b90ab9c01cdaf3": {
      "model_module": "@jupyter-widgets/base",
      "model_module_version": "1.1.0",
      "model_name": "LayoutModel",
      "state": {}
     },
     "d3d438d3122b49129dcc555ac67bf56c": {
      "model_module": "@jupyter-widgets/controls",
      "model_module_version": "1.4.0",
      "model_name": "IntProgressModel",
      "state": {
       "bar_style": "success",
       "layout": "IPY_MODEL_298085230bb54ffd942d0eff50916292",
       "style": "IPY_MODEL_dc8c714c2cea4f619a671d1f927de6ed",
       "value": 100
      }
     },
     "d3ed42a52659475fac18b86247dd1f07": {
      "model_module": "@jupyter-widgets/controls",
      "model_module_version": "1.4.0",
      "model_name": "HBoxModel",
      "state": {
       "children": [
        "IPY_MODEL_c27fc6fa0260416fa97282b3d943a70a",
        "IPY_MODEL_3cd8c51a57b74bdfa61cb95c931b3186"
       ],
       "layout": "IPY_MODEL_93b07e3decd64902af94d64f7b8afa81"
      }
     },
     "d3ed61f8c296449681c7a7a9906226b7": {
      "model_module": "@jupyter-widgets/controls",
      "model_module_version": "1.4.0",
      "model_name": "DescriptionStyleModel",
      "state": {
       "description_width": ""
      }
     },
     "d41ce2461b114d2599c68a55821ee088": {
      "model_module": "@jupyter-widgets/base",
      "model_module_version": "1.1.0",
      "model_name": "LayoutModel",
      "state": {}
     },
     "d468b7fb545f4938829fd4ce0f2b1ffb": {
      "model_module": "@jupyter-widgets/controls",
      "model_module_version": "1.4.0",
      "model_name": "DescriptionStyleModel",
      "state": {
       "description_width": ""
      }
     },
     "d47925fe79704e98808c429966e44193": {
      "model_module": "@jupyter-widgets/controls",
      "model_module_version": "1.4.0",
      "model_name": "HTMLModel",
      "state": {
       "layout": "IPY_MODEL_339783271879426cbc80648541e25a4f",
       "style": "IPY_MODEL_34d4bc020e084d3f9b72e1ef7381ec72",
       "value": "100% 100/100 [04:33&lt;00:00,  2.46s/it]"
      }
     },
     "d4fe91b6dc39432ca6fd1d160200d016": {
      "model_module": "@jupyter-widgets/controls",
      "model_module_version": "1.4.0",
      "model_name": "IntProgressModel",
      "state": {
       "bar_style": "success",
       "layout": "IPY_MODEL_45744eb0ddc84d48b9ff44f6cdf89c1b",
       "max": 996559,
       "style": "IPY_MODEL_01f1e38f88ae40469eacc077f8bbcf5b",
       "value": 996559
      }
     },
     "d505382d38bf4b1884d09e8b2239963e": {
      "model_module": "@jupyter-widgets/controls",
      "model_module_version": "1.4.0",
      "model_name": "DescriptionStyleModel",
      "state": {
       "description_width": ""
      }
     },
     "d5626430b0754a1788074e475ab9fe18": {
      "model_module": "@jupyter-widgets/base",
      "model_module_version": "1.1.0",
      "model_name": "LayoutModel",
      "state": {}
     },
     "d5b1380705f544fdb8e5e1b8ebf49305": {
      "model_module": "@jupyter-widgets/base",
      "model_module_version": "1.1.0",
      "model_name": "LayoutModel",
      "state": {}
     },
     "d70fb7b3478741fe9a868372c246be93": {
      "model_module": "@jupyter-widgets/controls",
      "model_module_version": "1.4.0",
      "model_name": "DescriptionStyleModel",
      "state": {
       "description_width": ""
      }
     },
     "d71742b39c764ea9ba6f383706d2918a": {
      "model_module": "@jupyter-widgets/controls",
      "model_module_version": "1.4.0",
      "model_name": "HTMLModel",
      "state": {
       "layout": "IPY_MODEL_a03d57bfe89f405497ce46d0790a5824",
       "style": "IPY_MODEL_6dc32457361543448cc2429a303a3de7",
       "value": "100% 1000/1000 [1:41:33&lt;00:00,  5.78s/it]"
      }
     },
     "d7a84e00ce8e4b618a843825a29ddfad": {
      "model_module": "@jupyter-widgets/controls",
      "model_module_version": "1.4.0",
      "model_name": "HTMLModel",
      "state": {
       "layout": "IPY_MODEL_4af94e70f9c84e82b947c2dcbc1831b1",
       "style": "IPY_MODEL_06db8e5504894ff9b5083ea1ea6b9ebf",
       "value": "100% 100/100 [05:10&lt;00:00,  2.38s/it]"
      }
     },
     "d817835a38a943c4be4801cc68252942": {
      "model_module": "@jupyter-widgets/controls",
      "model_module_version": "1.4.0",
      "model_name": "HTMLModel",
      "state": {
       "layout": "IPY_MODEL_a0c5dc3e4d3749b2b9e5f342a5f55b66",
       "style": "IPY_MODEL_ef490580ce5342ef841ef442a06cef34",
       "value": "100% 996559/996559 [27:07&lt;00:00, 612.33it/s]"
      }
     },
     "d87784fec11149578431110a7e67f7d4": {
      "model_module": "@jupyter-widgets/controls",
      "model_module_version": "1.4.0",
      "model_name": "DescriptionStyleModel",
      "state": {
       "description_width": ""
      }
     },
     "d883203c766a48938fad4befb4919edb": {
      "model_module": "@jupyter-widgets/controls",
      "model_module_version": "1.4.0",
      "model_name": "HTMLModel",
      "state": {
       "layout": "IPY_MODEL_1b9ac1e7d58f4575bad67e536dcc62e3",
       "style": "IPY_MODEL_32f255a425b243138dcd3929e55185b5",
       "value": "100% 100/100 [07:25&lt;00:00,  3.57s/it]"
      }
     },
     "d8a31b522dc34df29552397cf7f3eba5": {
      "model_module": "@jupyter-widgets/base",
      "model_module_version": "1.1.0",
      "model_name": "LayoutModel",
      "state": {}
     },
     "d8af412c22214853a9868881ddd52c67": {
      "model_module": "@jupyter-widgets/controls",
      "model_module_version": "1.4.0",
      "model_name": "IntProgressModel",
      "state": {
       "bar_style": "success",
       "layout": "IPY_MODEL_11b7518ee84642fdb070b06af98f1855",
       "max": 996559,
       "style": "IPY_MODEL_f43d340b13c943318829eaf0a00fb676",
       "value": 996559
      }
     },
     "d928e1fa1d5d4cc6b88f8e2300e34800": {
      "model_module": "@jupyter-widgets/controls",
      "model_module_version": "1.4.0",
      "model_name": "HTMLModel",
      "state": {
       "layout": "IPY_MODEL_9ac57ae0d69f48e7ace7ba79ff26c2b1",
       "style": "IPY_MODEL_c90d20ad5570415a8947eb7161af96cc",
       "value": "100% 1000/1000 [45:28&lt;00:00,  2.44s/it]"
      }
     },
     "d95a3387cdb8404a927ce7f312e447fd": {
      "model_module": "@jupyter-widgets/base",
      "model_module_version": "1.1.0",
      "model_name": "LayoutModel",
      "state": {}
     },
     "da1492689616400e98c2329cad0b1e70": {
      "model_module": "@jupyter-widgets/controls",
      "model_module_version": "1.4.0",
      "model_name": "HTMLModel",
      "state": {
       "layout": "IPY_MODEL_1f67527a24c14a1ebb947cbad4dc1e8f",
       "style": "IPY_MODEL_3ec54c1ef5e64be39495986a820db1ff",
       "value": "100% 1000/1000 [1:51:51&lt;00:00,  6.76s/it]"
      }
     },
     "db396ae40b44451294e0723edf0dcfa6": {
      "model_module": "@jupyter-widgets/controls",
      "model_module_version": "1.4.0",
      "model_name": "IntProgressModel",
      "state": {
       "bar_style": "success",
       "layout": "IPY_MODEL_89d5df3324b9450b92ae7c05d3a239de",
       "max": 996559,
       "style": "IPY_MODEL_d183ae45a1d44cf99ce4073392a04cd2",
       "value": 996559
      }
     },
     "db59b84123e943dd9134a806faee205c": {
      "model_module": "@jupyter-widgets/base",
      "model_module_version": "1.1.0",
      "model_name": "LayoutModel",
      "state": {}
     },
     "dbe18ef3e1cd414dbca99518d6c96d6b": {
      "model_module": "@jupyter-widgets/controls",
      "model_module_version": "1.4.0",
      "model_name": "HTMLModel",
      "state": {
       "layout": "IPY_MODEL_688b340d9f4e40ffac1ceca1f57c80fb",
       "style": "IPY_MODEL_ab8c020098084e66845d27d52a8c1d94",
       "value": "100% 100/100 [06:57&lt;00:00,  3.80s/it]"
      }
     },
     "dc1a9f1d08fb4521b825aa38815164ad": {
      "model_module": "@jupyter-widgets/base",
      "model_module_version": "1.1.0",
      "model_name": "LayoutModel",
      "state": {}
     },
     "dc3e9efcc06b4de1823057925a240f6c": {
      "model_module": "@jupyter-widgets/controls",
      "model_module_version": "1.4.0",
      "model_name": "HBoxModel",
      "state": {
       "children": [
        "IPY_MODEL_8a141f0c81624edeb0bcef9e2eef4646",
        "IPY_MODEL_eb449754905f4b498d1f823a8471f517"
       ],
       "layout": "IPY_MODEL_5cedfe0b698a437fbd468bfe05d18a64"
      }
     },
     "dc8c714c2cea4f619a671d1f927de6ed": {
      "model_module": "@jupyter-widgets/controls",
      "model_module_version": "1.4.0",
      "model_name": "ProgressStyleModel",
      "state": {
       "description_width": ""
      }
     },
     "dcf1392f79eb4f408e2a4453d2685a6e": {
      "model_module": "@jupyter-widgets/controls",
      "model_module_version": "1.4.0",
      "model_name": "HTMLModel",
      "state": {
       "layout": "IPY_MODEL_96afd125d5ae45eca97cf6c1f0889c52",
       "style": "IPY_MODEL_8c7e6bca9dea43b58533b65502fd7681",
       "value": "100% 1000/1000 [1:12:28&lt;00:00,  3.99s/it]"
      }
     },
     "dd1aedcdcf974ca389a3ed6af681dcc8": {
      "model_module": "@jupyter-widgets/base",
      "model_module_version": "1.1.0",
      "model_name": "LayoutModel",
      "state": {}
     },
     "dd5c6bbcd26e43da9d8cedc962bb3328": {
      "model_module": "@jupyter-widgets/controls",
      "model_module_version": "1.4.0",
      "model_name": "ProgressStyleModel",
      "state": {
       "description_width": ""
      }
     },
     "dda47c100bb841b6a495b475dc962281": {
      "model_module": "@jupyter-widgets/controls",
      "model_module_version": "1.4.0",
      "model_name": "HTMLModel",
      "state": {
       "layout": "IPY_MODEL_e38ca4dccc634fd1832ba49a3d69121c",
       "style": "IPY_MODEL_fa55bdaea42340cd823f216bfd916215",
       "value": "100% 100/100 [06:05&lt;00:00,  4.01s/it]"
      }
     },
     "ddaa229e8f854cb18ab1032410653d3e": {
      "model_module": "@jupyter-widgets/controls",
      "model_module_version": "1.4.0",
      "model_name": "IntProgressModel",
      "state": {
       "bar_style": "success",
       "layout": "IPY_MODEL_4b59e4e88c814cc1a0a36fd151a6b8da",
       "max": 1000,
       "style": "IPY_MODEL_f8be4f1477ea48ba97f8fe19f60ef7d3",
       "value": 1000
      }
     },
     "ddf76edec5494544a6d833641b56fef3": {
      "model_module": "@jupyter-widgets/controls",
      "model_module_version": "1.4.0",
      "model_name": "DescriptionStyleModel",
      "state": {
       "description_width": ""
      }
     },
     "de7c0d75bab64849a33be133456800cc": {
      "model_module": "@jupyter-widgets/controls",
      "model_module_version": "1.4.0",
      "model_name": "ProgressStyleModel",
      "state": {
       "description_width": ""
      }
     },
     "de8ee676c2b44ed5b809fe26e8d08c91": {
      "model_module": "@jupyter-widgets/base",
      "model_module_version": "1.1.0",
      "model_name": "LayoutModel",
      "state": {}
     },
     "ded688846875474c9e2e88bbd5cc5c1b": {
      "model_module": "@jupyter-widgets/base",
      "model_module_version": "1.1.0",
      "model_name": "LayoutModel",
      "state": {}
     },
     "defe2faefab14565953cc580ad82fc36": {
      "model_module": "@jupyter-widgets/base",
      "model_module_version": "1.1.0",
      "model_name": "LayoutModel",
      "state": {}
     },
     "deff5a9586a04952bfd72a5d30578cf0": {
      "model_module": "@jupyter-widgets/controls",
      "model_module_version": "1.4.0",
      "model_name": "DescriptionStyleModel",
      "state": {
       "description_width": ""
      }
     },
     "e0582700679a4fb2a175d4dfc7120a6f": {
      "model_module": "@jupyter-widgets/controls",
      "model_module_version": "1.4.0",
      "model_name": "DescriptionStyleModel",
      "state": {
       "description_width": ""
      }
     },
     "e0ac59e0b4ee438c8fa5968046ed017f": {
      "model_module": "@jupyter-widgets/controls",
      "model_module_version": "1.4.0",
      "model_name": "IntProgressModel",
      "state": {
       "bar_style": "success",
       "layout": "IPY_MODEL_137300df73234870b1a3cd5f2f5e40a0",
       "style": "IPY_MODEL_878c0c79437a4ee69644588fdf846bc4",
       "value": 100
      }
     },
     "e123370b870b4efcbd6a2e733c2fd5b2": {
      "model_module": "@jupyter-widgets/controls",
      "model_module_version": "1.4.0",
      "model_name": "HBoxModel",
      "state": {
       "children": [
        "IPY_MODEL_c8feac79a6c347679b64c8f286ade7b6",
        "IPY_MODEL_6273bab27c5a4150b67702cada95283a"
       ],
       "layout": "IPY_MODEL_a787981dd87e4f0fb3b94438e87ba8c1"
      }
     },
     "e16606902d9d471bb59494f1675513c7": {
      "model_module": "@jupyter-widgets/base",
      "model_module_version": "1.1.0",
      "model_name": "LayoutModel",
      "state": {}
     },
     "e19aeb9e96b14dbda17f0a7cbf6f5a85": {
      "model_module": "@jupyter-widgets/base",
      "model_module_version": "1.1.0",
      "model_name": "LayoutModel",
      "state": {}
     },
     "e1c1f09fd6c84a6ea88082b4ca4355da": {
      "model_module": "@jupyter-widgets/controls",
      "model_module_version": "1.4.0",
      "model_name": "HTMLModel",
      "state": {
       "layout": "IPY_MODEL_acac63707bcc4a648b37906a05c917fe",
       "style": "IPY_MODEL_af46555e39154f44a77fe83abebd7e56",
       "value": "100% 100/100 [04:16&lt;00:00,  2.28s/it]"
      }
     },
     "e1e66837a69f48eda75780eba57364bb": {
      "model_module": "@jupyter-widgets/controls",
      "model_module_version": "1.4.0",
      "model_name": "IntProgressModel",
      "state": {
       "bar_style": "success",
       "layout": "IPY_MODEL_8b57eaaf35aa4f63aabbe7729c3b1094",
       "max": 1000,
       "style": "IPY_MODEL_07596fc8817a4c2a8f1a1d6ddb922706",
       "value": 1000
      }
     },
     "e2103ed1168f486bba42195aab934539": {
      "model_module": "@jupyter-widgets/controls",
      "model_module_version": "1.4.0",
      "model_name": "ProgressStyleModel",
      "state": {
       "description_width": ""
      }
     },
     "e2c26cb7fd614f98bf0ee804f8f868da": {
      "model_module": "@jupyter-widgets/controls",
      "model_module_version": "1.4.0",
      "model_name": "IntProgressModel",
      "state": {
       "bar_style": "success",
       "layout": "IPY_MODEL_7a54f52d2a264d5c9d92eb2ab247409d",
       "max": 996559,
       "style": "IPY_MODEL_aa4dab73e36041cc91f04ce717880c25",
       "value": 996559
      }
     },
     "e2ecfcb4194443ad865be634e95ef169": {
      "model_module": "@jupyter-widgets/controls",
      "model_module_version": "1.4.0",
      "model_name": "HTMLModel",
      "state": {
       "layout": "IPY_MODEL_610f11b8a75447fa96ee11af6d1de445",
       "style": "IPY_MODEL_cc044b029b8e4ae18a2d3fbf1d9b123b",
       "value": "100% 1000/1000 [45:55&lt;00:00,  2.43s/it]"
      }
     },
     "e2f242a6d46b4a7684c80a7c840db426": {
      "model_module": "@jupyter-widgets/controls",
      "model_module_version": "1.4.0",
      "model_name": "DescriptionStyleModel",
      "state": {
       "description_width": ""
      }
     },
     "e3171dad8c16492a98e9ba82500e817a": {
      "model_module": "@jupyter-widgets/controls",
      "model_module_version": "1.4.0",
      "model_name": "HTMLModel",
      "state": {
       "layout": "IPY_MODEL_ab7c01418a13465984279b4d987b169c",
       "style": "IPY_MODEL_755c29151be64381b1f856cb0eb3b38f",
       "value": "100% 1000/1000 [02:09&lt;00:00,  8.21it/s]"
      }
     },
     "e33f0d2bd0df4be69e2f96cbfe2a6ef1": {
      "model_module": "@jupyter-widgets/controls",
      "model_module_version": "1.4.0",
      "model_name": "ProgressStyleModel",
      "state": {
       "description_width": ""
      }
     },
     "e38ca4dccc634fd1832ba49a3d69121c": {
      "model_module": "@jupyter-widgets/base",
      "model_module_version": "1.1.0",
      "model_name": "LayoutModel",
      "state": {}
     },
     "e4237054ea504b18a2be78e5bd2054be": {
      "model_module": "@jupyter-widgets/controls",
      "model_module_version": "1.4.0",
      "model_name": "HBoxModel",
      "state": {
       "children": [
        "IPY_MODEL_61a35aec54fc4fc6a1b1d088a010d167",
        "IPY_MODEL_a3e989f20c034480940bf40d7b2ef814"
       ],
       "layout": "IPY_MODEL_bc9ea731fd3247e28bd1ff052e1cb046"
      }
     },
     "e436effed1cb4cdbb1417bf35d1849fa": {
      "model_module": "@jupyter-widgets/controls",
      "model_module_version": "1.4.0",
      "model_name": "IntProgressModel",
      "state": {
       "bar_style": "success",
       "layout": "IPY_MODEL_9462b1c4a3374d22a06bc3361e274492",
       "max": 1000,
       "style": "IPY_MODEL_070568de1d1f48f289f8a5141941660e",
       "value": 1000
      }
     },
     "e46d0241e7bb42219e2e9345d87f1b62": {
      "model_module": "@jupyter-widgets/controls",
      "model_module_version": "1.4.0",
      "model_name": "ProgressStyleModel",
      "state": {
       "description_width": ""
      }
     },
     "e4a7b2c9ee5b49a494cc176887dc5187": {
      "model_module": "@jupyter-widgets/controls",
      "model_module_version": "1.4.0",
      "model_name": "IntProgressModel",
      "state": {
       "bar_style": "success",
       "layout": "IPY_MODEL_5cc54b54dbdb4060a110e8d4b494c7c5",
       "style": "IPY_MODEL_8b0ee886bb244f2386b422267094f1af",
       "value": 100
      }
     },
     "e51f3d5297b64a6d926ba92b9b01f57f": {
      "model_module": "@jupyter-widgets/controls",
      "model_module_version": "1.4.0",
      "model_name": "DescriptionStyleModel",
      "state": {
       "description_width": ""
      }
     },
     "e5c0a7e0496747b0a241b9df6988d4c9": {
      "model_module": "@jupyter-widgets/controls",
      "model_module_version": "1.4.0",
      "model_name": "IntProgressModel",
      "state": {
       "bar_style": "success",
       "layout": "IPY_MODEL_ce3ed610d9d64a129f3d99321b024b89",
       "style": "IPY_MODEL_7c0852f0d81e49de846e5676dcae9ae9",
       "value": 100
      }
     },
     "e632799526d94299828723a5edd5d04b": {
      "model_module": "@jupyter-widgets/base",
      "model_module_version": "1.1.0",
      "model_name": "LayoutModel",
      "state": {}
     },
     "e6350d2bbfc64568a3143d5124ae8fd1": {
      "model_module": "@jupyter-widgets/controls",
      "model_module_version": "1.4.0",
      "model_name": "IntProgressModel",
      "state": {
       "bar_style": "success",
       "layout": "IPY_MODEL_f0f21643c657449596f7d17fef2b2c92",
       "style": "IPY_MODEL_7b3d635c7c8f4369834599abeb458470",
       "value": 100
      }
     },
     "e63a5bd3dcd14fec85adf9914b3786f0": {
      "model_module": "@jupyter-widgets/controls",
      "model_module_version": "1.4.0",
      "model_name": "DescriptionStyleModel",
      "state": {
       "description_width": ""
      }
     },
     "e75576d4dd214dbea850ca4483a5d362": {
      "model_module": "@jupyter-widgets/controls",
      "model_module_version": "1.4.0",
      "model_name": "HTMLModel",
      "state": {
       "layout": "IPY_MODEL_c76339712c944d57aaf14da800a1302f",
       "style": "IPY_MODEL_a632c942ef594775a835ddb7ed62a892",
       "value": "100% 100/100 [04:18&lt;00:00,  2.53s/it]"
      }
     },
     "e7a2e7a7143b40f7901eda641342e63f": {
      "model_module": "@jupyter-widgets/base",
      "model_module_version": "1.1.0",
      "model_name": "LayoutModel",
      "state": {}
     },
     "e83f26dab25549149d8266e575400716": {
      "model_module": "@jupyter-widgets/base",
      "model_module_version": "1.1.0",
      "model_name": "LayoutModel",
      "state": {}
     },
     "e841161e243349c58c617c8f556be564": {
      "model_module": "@jupyter-widgets/controls",
      "model_module_version": "1.4.0",
      "model_name": "IntProgressModel",
      "state": {
       "bar_style": "success",
       "layout": "IPY_MODEL_3db502cbfebd4615a3c4715896aeb432",
       "style": "IPY_MODEL_776e3b8d29d7425298300aa7213b662a",
       "value": 100
      }
     },
     "e89612e3db8b409bb877d1d03a12d38d": {
      "model_module": "@jupyter-widgets/controls",
      "model_module_version": "1.4.0",
      "model_name": "HTMLModel",
      "state": {
       "layout": "IPY_MODEL_cf90210dccab4d00bcf3b2cb0be711e4",
       "style": "IPY_MODEL_cbf6a33af7324c56a145200530428d22",
       "value": "100% 996559/996559 [2:15:30&lt;00:00, 122.58it/s]"
      }
     },
     "e909002b33ec49efb6b71db8e48281ac": {
      "model_module": "@jupyter-widgets/controls",
      "model_module_version": "1.4.0",
      "model_name": "IntProgressModel",
      "state": {
       "bar_style": "success",
       "layout": "IPY_MODEL_25440abe77854611a1aeb5c3fc415c8d",
       "max": 1000,
       "style": "IPY_MODEL_b3a93dfb2ab746299beb86f9c877ec85",
       "value": 1000
      }
     },
     "e9707816e6b741688cdfa28b918bbce8": {
      "model_module": "@jupyter-widgets/controls",
      "model_module_version": "1.4.0",
      "model_name": "HBoxModel",
      "state": {
       "children": [
        "IPY_MODEL_a6bf8e22b7c641e8bb48faf3271c7d5e",
        "IPY_MODEL_cd74d694942c4f7790cc7be85ac4946c"
       ],
       "layout": "IPY_MODEL_5b7cd26db2394df3adf6a2d4de7537c3"
      }
     },
     "e9d9d1d778a54242a2209056f22fefb4": {
      "model_module": "@jupyter-widgets/controls",
      "model_module_version": "1.4.0",
      "model_name": "ProgressStyleModel",
      "state": {
       "description_width": ""
      }
     },
     "ea793702467248ef895419109ada3dab": {
      "model_module": "@jupyter-widgets/base",
      "model_module_version": "1.1.0",
      "model_name": "LayoutModel",
      "state": {}
     },
     "eaaabd1e43df4077901ab2eece775e6b": {
      "model_module": "@jupyter-widgets/base",
      "model_module_version": "1.1.0",
      "model_name": "LayoutModel",
      "state": {}
     },
     "eab4c74a120e44c592761265cfd08e0b": {
      "model_module": "@jupyter-widgets/controls",
      "model_module_version": "1.4.0",
      "model_name": "HTMLModel",
      "state": {
       "layout": "IPY_MODEL_f03ff2ef302948508f0130607938ff68",
       "style": "IPY_MODEL_deff5a9586a04952bfd72a5d30578cf0",
       "value": "100% 996559/996559 [23:02&lt;00:00, 720.86it/s]"
      }
     },
     "eb29ebdcb177456b85a478ad71978450": {
      "model_module": "@jupyter-widgets/controls",
      "model_module_version": "1.4.0",
      "model_name": "IntProgressModel",
      "state": {
       "bar_style": "success",
       "layout": "IPY_MODEL_aaa0e2c3dbe5455cb78b92820c44774e",
       "style": "IPY_MODEL_3e691df090894104bb902c6c2ffcb9be",
       "value": 100
      }
     },
     "eb3d8f8c4c534c2a8bef255ade7a9683": {
      "model_module": "@jupyter-widgets/controls",
      "model_module_version": "1.4.0",
      "model_name": "IntProgressModel",
      "state": {
       "bar_style": "success",
       "layout": "IPY_MODEL_9d36c6c012824cefb7ab932f67152243",
       "max": 1000,
       "style": "IPY_MODEL_12b3082c89114b0e9c682e631c6c5644",
       "value": 1000
      }
     },
     "eb449754905f4b498d1f823a8471f517": {
      "model_module": "@jupyter-widgets/controls",
      "model_module_version": "1.4.0",
      "model_name": "HTMLModel",
      "state": {
       "layout": "IPY_MODEL_0441fff8bd354cf681c6f93b42c43920",
       "style": "IPY_MODEL_0d7cdf22baa04f0d8331285b5efb6c4c",
       "value": "100% 100/100 [00:00&lt;00:00, 2289.90it/s]"
      }
     },
     "eb6cb781183b4782a81b9d96cff72ca2": {
      "model_module": "@jupyter-widgets/controls",
      "model_module_version": "1.4.0",
      "model_name": "HBoxModel",
      "state": {
       "children": [
        "IPY_MODEL_8f629035dfe24f7b91d542626ea4265a",
        "IPY_MODEL_47affd0e8130496592eea8e3e9c23fb0"
       ],
       "layout": "IPY_MODEL_05a38be0de604838a83c57f790387df8"
      }
     },
     "ec570a28a4fc4b50b04c5ee3958c31b9": {
      "model_module": "@jupyter-widgets/base",
      "model_module_version": "1.1.0",
      "model_name": "LayoutModel",
      "state": {}
     },
     "ec62c6ac75df499b8ae1d3bbf76fe2d6": {
      "model_module": "@jupyter-widgets/base",
      "model_module_version": "1.1.0",
      "model_name": "LayoutModel",
      "state": {}
     },
     "ed4608219f0e488dae7fdc15a466ae07": {
      "model_module": "@jupyter-widgets/base",
      "model_module_version": "1.1.0",
      "model_name": "LayoutModel",
      "state": {}
     },
     "ee619382f73a459e8f60cc0503bdc8ce": {
      "model_module": "@jupyter-widgets/base",
      "model_module_version": "1.1.0",
      "model_name": "LayoutModel",
      "state": {}
     },
     "ee9b10b183f9493a9fe28e9cf057531f": {
      "model_module": "@jupyter-widgets/controls",
      "model_module_version": "1.4.0",
      "model_name": "HTMLModel",
      "state": {
       "layout": "IPY_MODEL_fc977de8501f4a438cf2584dfd6b87a3",
       "style": "IPY_MODEL_08bf482455a24ba197c3ab523d5f3940",
       "value": "100% 100/100 [04:45&lt;00:00,  2.35s/it]"
      }
     },
     "eebdb9830e2f453a890c0772204ede4c": {
      "model_module": "@jupyter-widgets/controls",
      "model_module_version": "1.4.0",
      "model_name": "ProgressStyleModel",
      "state": {
       "description_width": ""
      }
     },
     "eec4ddce8c024cf98ef476cb3773d222": {
      "model_module": "@jupyter-widgets/base",
      "model_module_version": "1.1.0",
      "model_name": "LayoutModel",
      "state": {}
     },
     "ef110ef8572e4c0aba586e584ba149d8": {
      "model_module": "@jupyter-widgets/controls",
      "model_module_version": "1.4.0",
      "model_name": "HTMLModel",
      "state": {
       "layout": "IPY_MODEL_8eb4a3a39f0242c7950db7815d11615f",
       "style": "IPY_MODEL_4d1d4521a26e453f9bbe7a88544ea6e5",
       "value": "100% 1000/1000 [00:00&lt;00:00, 4813.61it/s]"
      }
     },
     "ef490580ce5342ef841ef442a06cef34": {
      "model_module": "@jupyter-widgets/controls",
      "model_module_version": "1.4.0",
      "model_name": "DescriptionStyleModel",
      "state": {
       "description_width": ""
      }
     },
     "f03ff2ef302948508f0130607938ff68": {
      "model_module": "@jupyter-widgets/base",
      "model_module_version": "1.1.0",
      "model_name": "LayoutModel",
      "state": {}
     },
     "f0f21643c657449596f7d17fef2b2c92": {
      "model_module": "@jupyter-widgets/base",
      "model_module_version": "1.1.0",
      "model_name": "LayoutModel",
      "state": {}
     },
     "f1396f77b4d144f2b01599100e41c7c6": {
      "model_module": "@jupyter-widgets/base",
      "model_module_version": "1.1.0",
      "model_name": "LayoutModel",
      "state": {}
     },
     "f183bfb9be2e4b57b6cdfe3c65168ffe": {
      "model_module": "@jupyter-widgets/base",
      "model_module_version": "1.1.0",
      "model_name": "LayoutModel",
      "state": {}
     },
     "f1a949059c784dc086555c3c00cab333": {
      "model_module": "@jupyter-widgets/controls",
      "model_module_version": "1.4.0",
      "model_name": "HTMLModel",
      "state": {
       "layout": "IPY_MODEL_12177e75493d4e86b083909601bdf26f",
       "style": "IPY_MODEL_ae236122fe604258ba4e5a34a2f60ed3",
       "value": "  0% 0/1000 [00:00&lt;?, ?it/s]"
      }
     },
     "f208fbbad6ba4f9ba03ba7f0e3a00f40": {
      "model_module": "@jupyter-widgets/controls",
      "model_module_version": "1.4.0",
      "model_name": "IntProgressModel",
      "state": {
       "bar_style": "success",
       "layout": "IPY_MODEL_aa22df32f7524c4eb0955aca82e3aa3e",
       "style": "IPY_MODEL_e33f0d2bd0df4be69e2f96cbfe2a6ef1",
       "value": 100
      }
     },
     "f28e844e0499411a8d6a74039dd3458b": {
      "model_module": "@jupyter-widgets/controls",
      "model_module_version": "1.4.0",
      "model_name": "HTMLModel",
      "state": {
       "layout": "IPY_MODEL_13c6789a848c49e987ad0225f43d7999",
       "style": "IPY_MODEL_70a40286ae61495987f1561ea6658c9e",
       "value": "100% 1000/1000 [40:21&lt;00:00,  2.21s/it]"
      }
     },
     "f2bffbc5bae84fbc8cefbedd58e498c9": {
      "model_module": "@jupyter-widgets/controls",
      "model_module_version": "1.4.0",
      "model_name": "IntProgressModel",
      "state": {
       "bar_style": "success",
       "layout": "IPY_MODEL_ee619382f73a459e8f60cc0503bdc8ce",
       "max": 1000,
       "style": "IPY_MODEL_f57e9fb2bed64c3181781d1d9ad7c06f",
       "value": 1000
      }
     },
     "f35e757ef4e8412a9deb59aadf8e2268": {
      "model_module": "@jupyter-widgets/base",
      "model_module_version": "1.1.0",
      "model_name": "LayoutModel",
      "state": {}
     },
     "f36a06ed862d45d587838a5329fe86d1": {
      "model_module": "@jupyter-widgets/controls",
      "model_module_version": "1.4.0",
      "model_name": "HBoxModel",
      "state": {
       "children": [
        "IPY_MODEL_1264f33f14de4b8da4282d96c534e8d0",
        "IPY_MODEL_fee77238f2194f32bdce835b21447c95"
       ],
       "layout": "IPY_MODEL_30b5a49b58a2444cb7bc6677e8c986f3"
      }
     },
     "f43d340b13c943318829eaf0a00fb676": {
      "model_module": "@jupyter-widgets/controls",
      "model_module_version": "1.4.0",
      "model_name": "ProgressStyleModel",
      "state": {
       "description_width": ""
      }
     },
     "f4e090478c3649bc8dc54ad0beaf9fa4": {
      "model_module": "@jupyter-widgets/controls",
      "model_module_version": "1.4.0",
      "model_name": "IntProgressModel",
      "state": {
       "bar_style": "success",
       "layout": "IPY_MODEL_945d37b0899e46d7ac930b3151d2ccee",
       "max": 996559,
       "style": "IPY_MODEL_caaf5ca0445546b0b0332a7e08d17919",
       "value": 996559
      }
     },
     "f53d26e2aab84e50ad5e27c92ab0ba0d": {
      "model_module": "@jupyter-widgets/base",
      "model_module_version": "1.1.0",
      "model_name": "LayoutModel",
      "state": {}
     },
     "f57e9fb2bed64c3181781d1d9ad7c06f": {
      "model_module": "@jupyter-widgets/controls",
      "model_module_version": "1.4.0",
      "model_name": "ProgressStyleModel",
      "state": {
       "description_width": ""
      }
     },
     "f59d917a2e95486994bef95fc015863f": {
      "model_module": "@jupyter-widgets/base",
      "model_module_version": "1.1.0",
      "model_name": "LayoutModel",
      "state": {}
     },
     "f5bfa01b10244a0ea11f4176341356c7": {
      "model_module": "@jupyter-widgets/controls",
      "model_module_version": "1.4.0",
      "model_name": "IntProgressModel",
      "state": {
       "bar_style": "success",
       "layout": "IPY_MODEL_c5de47fe2f2344459de3292888980a47",
       "max": 1000,
       "style": "IPY_MODEL_77de8586bae74997b0386c36d8c9b0bf",
       "value": 1000
      }
     },
     "f628bc9a00814fc8b98168bdefb7db87": {
      "model_module": "@jupyter-widgets/controls",
      "model_module_version": "1.4.0",
      "model_name": "ProgressStyleModel",
      "state": {
       "description_width": ""
      }
     },
     "f6430308721843aeb24807f1add6cc57": {
      "model_module": "@jupyter-widgets/controls",
      "model_module_version": "1.4.0",
      "model_name": "ProgressStyleModel",
      "state": {
       "description_width": ""
      }
     },
     "f677e8eb6f3d42b2bfc0aaf6f23a7fbe": {
      "model_module": "@jupyter-widgets/controls",
      "model_module_version": "1.4.0",
      "model_name": "DescriptionStyleModel",
      "state": {
       "description_width": ""
      }
     },
     "f6f57b2a35e8438d9cb311e2e4cc172c": {
      "model_module": "@jupyter-widgets/base",
      "model_module_version": "1.1.0",
      "model_name": "LayoutModel",
      "state": {}
     },
     "f701c97ae31b401bb3ffc3de9c03ce00": {
      "model_module": "@jupyter-widgets/controls",
      "model_module_version": "1.4.0",
      "model_name": "DescriptionStyleModel",
      "state": {
       "description_width": ""
      }
     },
     "f7c007cf4058454193bdc9bbe012b8a5": {
      "model_module": "@jupyter-widgets/base",
      "model_module_version": "1.1.0",
      "model_name": "LayoutModel",
      "state": {}
     },
     "f7d8e0bfbc2d4f2c9759c0884e367dc4": {
      "model_module": "@jupyter-widgets/base",
      "model_module_version": "1.1.0",
      "model_name": "LayoutModel",
      "state": {}
     },
     "f7f35a6e6f754be1be43aad5c9a36c15": {
      "model_module": "@jupyter-widgets/controls",
      "model_module_version": "1.4.0",
      "model_name": "HBoxModel",
      "state": {
       "children": [
        "IPY_MODEL_187cc7b8e0ac4df7a84e0c83c67c6f5a",
        "IPY_MODEL_788d6215ecdf44589a249e4adcc1961f"
       ],
       "layout": "IPY_MODEL_d20463939c34415f810a7cb14da59852"
      }
     },
     "f8be4f1477ea48ba97f8fe19f60ef7d3": {
      "model_module": "@jupyter-widgets/controls",
      "model_module_version": "1.4.0",
      "model_name": "ProgressStyleModel",
      "state": {
       "description_width": ""
      }
     },
     "f8efe9089b7c45dab14396e5fde020cd": {
      "model_module": "@jupyter-widgets/controls",
      "model_module_version": "1.4.0",
      "model_name": "HBoxModel",
      "state": {
       "children": [
        "IPY_MODEL_26c22a48bdd14e699e8d5f85d61877c3",
        "IPY_MODEL_a6f9579d9dac44c697d2407bb7abd9b5"
       ],
       "layout": "IPY_MODEL_45063ee0641c46a4bb947f3af55a51fe"
      }
     },
     "f9051475925c471abfd10c70378822cc": {
      "model_module": "@jupyter-widgets/controls",
      "model_module_version": "1.4.0",
      "model_name": "HTMLModel",
      "state": {
       "layout": "IPY_MODEL_6a6d7582166a4413bcba454ba259e12e",
       "style": "IPY_MODEL_f677e8eb6f3d42b2bfc0aaf6f23a7fbe",
       "value": "100% 1000/1000 [00:00&lt;00:00, 5366.94it/s]"
      }
     },
     "f95483829e9440b2a0e53558d8770c6c": {
      "model_module": "@jupyter-widgets/controls",
      "model_module_version": "1.4.0",
      "model_name": "ProgressStyleModel",
      "state": {
       "description_width": ""
      }
     },
     "f9b8f8ec556a402294a0da6df8c9a7b7": {
      "model_module": "@jupyter-widgets/base",
      "model_module_version": "1.1.0",
      "model_name": "LayoutModel",
      "state": {}
     },
     "f9ce89fcf9854ab7b73027c7dbe77115": {
      "model_module": "@jupyter-widgets/base",
      "model_module_version": "1.1.0",
      "model_name": "LayoutModel",
      "state": {}
     },
     "fa55bdaea42340cd823f216bfd916215": {
      "model_module": "@jupyter-widgets/controls",
      "model_module_version": "1.4.0",
      "model_name": "DescriptionStyleModel",
      "state": {
       "description_width": ""
      }
     },
     "fa97cbc38233426885b7a822847b450b": {
      "model_module": "@jupyter-widgets/base",
      "model_module_version": "1.1.0",
      "model_name": "LayoutModel",
      "state": {}
     },
     "fb78d6f84e444f069aaf4197216d2a43": {
      "model_module": "@jupyter-widgets/base",
      "model_module_version": "1.1.0",
      "model_name": "LayoutModel",
      "state": {}
     },
     "fc26813b1cfb4d4d93a129900f43d9fa": {
      "model_module": "@jupyter-widgets/controls",
      "model_module_version": "1.4.0",
      "model_name": "HTMLModel",
      "state": {
       "layout": "IPY_MODEL_41d03aebeadc42ceb1dbc00dacfc8c50",
       "style": "IPY_MODEL_d70fb7b3478741fe9a868372c246be93",
       "value": "100% 1000/1000 [1:03:50&lt;00:00,  3.50s/it]"
      }
     },
     "fc40c09aa17f4e6297ef188a5d5a63f1": {
      "model_module": "@jupyter-widgets/base",
      "model_module_version": "1.1.0",
      "model_name": "LayoutModel",
      "state": {}
     },
     "fc977de8501f4a438cf2584dfd6b87a3": {
      "model_module": "@jupyter-widgets/base",
      "model_module_version": "1.1.0",
      "model_name": "LayoutModel",
      "state": {}
     },
     "fcbdf95d099d42f9a112063812a602a6": {
      "model_module": "@jupyter-widgets/controls",
      "model_module_version": "1.4.0",
      "model_name": "IntProgressModel",
      "state": {
       "bar_style": "success",
       "layout": "IPY_MODEL_81196d5b0d6f488a9163830d9350457d",
       "style": "IPY_MODEL_c7334319489a4c9fb366ee89836c4e3c",
       "value": 100
      }
     },
     "fce0d351b009448c924c2d69a8140f00": {
      "model_module": "@jupyter-widgets/base",
      "model_module_version": "1.1.0",
      "model_name": "LayoutModel",
      "state": {}
     },
     "fd1265a813af4f8c99af2a149ed3b49c": {
      "model_module": "@jupyter-widgets/controls",
      "model_module_version": "1.4.0",
      "model_name": "ProgressStyleModel",
      "state": {
       "description_width": ""
      }
     },
     "fd378dd15ca6453e8bb4ff16a8c0b07f": {
      "model_module": "@jupyter-widgets/controls",
      "model_module_version": "1.4.0",
      "model_name": "HTMLModel",
      "state": {
       "layout": "IPY_MODEL_d1464828a2a54bb08bd83c207c219682",
       "style": "IPY_MODEL_48c9367dc72e40b19a8de8fd70af770b",
       "value": "100% 1000/1000 [43:30&lt;00:00,  2.46s/it]"
      }
     },
     "fd4ca8df370f4739b9f118b9b211483c": {
      "model_module": "@jupyter-widgets/base",
      "model_module_version": "1.1.0",
      "model_name": "LayoutModel",
      "state": {}
     },
     "fd5863f7110044f59cd0711ed83ed785": {
      "model_module": "@jupyter-widgets/controls",
      "model_module_version": "1.4.0",
      "model_name": "HTMLModel",
      "state": {
       "layout": "IPY_MODEL_e83f26dab25549149d8266e575400716",
       "style": "IPY_MODEL_72141d86cfef4878ba3e9f30b9801a8c",
       "value": "100% 1000/1000 [00:00&lt;00:00, 5246.97it/s]"
      }
     },
     "fe7dad29c1be444c9265e5440617b82b": {
      "model_module": "@jupyter-widgets/base",
      "model_module_version": "1.1.0",
      "model_name": "LayoutModel",
      "state": {}
     },
     "fecf88ea61614570aa11705515041ebd": {
      "model_module": "@jupyter-widgets/base",
      "model_module_version": "1.1.0",
      "model_name": "LayoutModel",
      "state": {}
     },
     "fee77238f2194f32bdce835b21447c95": {
      "model_module": "@jupyter-widgets/controls",
      "model_module_version": "1.4.0",
      "model_name": "HTMLModel",
      "state": {
       "layout": "IPY_MODEL_d5626430b0754a1788074e475ab9fe18",
       "style": "IPY_MODEL_12e626b38d6e45b395fef5c7b0c90428",
       "value": "100% 100/100 [00:00&lt;00:00, 3341.17it/s]"
      }
     },
     "ff06560abe8b4426bbf3704c36b123d9": {
      "model_module": "@jupyter-widgets/base",
      "model_module_version": "1.1.0",
      "model_name": "LayoutModel",
      "state": {}
     },
     "ff4127e68c2a4ffb810d4802b844feec": {
      "model_module": "@jupyter-widgets/controls",
      "model_module_version": "1.4.0",
      "model_name": "HTMLModel",
      "state": {
       "layout": "IPY_MODEL_13f7d3d09055410f9c68433828a34bba",
       "style": "IPY_MODEL_31fc31d3f8ec4397ba882f84927fabe5",
       "value": "100% 100/100 [00:00&lt;00:00, 1742.30it/s]"
      }
     }
    },
    "version_major": 2,
    "version_minor": 0
   }
  }
 },
 "nbformat": 4,
 "nbformat_minor": 2
}
