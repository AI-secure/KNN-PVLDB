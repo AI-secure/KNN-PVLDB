{
 "cells": [
  {
   "cell_type": "code",
   "execution_count": 1,
   "metadata": {},
   "outputs": [],
   "source": [
    "import bz2\n",
    "import numpy as np\n",
    "from tqdm import tqdm_notebook as tqdm\n",
    "import gzip\n",
    "from heapq import heappushpop\n",
    "from joblib import Parallel, delayed\n",
    "import time"
   ]
  },
  {
   "cell_type": "code",
   "execution_count": 2,
   "metadata": {},
   "outputs": [],
   "source": [
    "import joblib\n",
    "x_trn_hash = joblib.load('10M/eps0.1/x_trn_hash.pkl')\n",
    "w = joblib.load('10M/eps0.1/w.pkl')\n",
    "b = joblib.load('10M/eps0.1/b.pkl')"
   ]
  },
  {
   "cell_type": "code",
   "execution_count": 3,
   "metadata": {},
   "outputs": [],
   "source": [
    "y_trn = joblib.load('y_trn.pkl')"
   ]
  },
  {
   "cell_type": "code",
   "execution_count": 5,
   "metadata": {},
   "outputs": [
    {
     "name": "stdout",
     "output_type": "stream",
     "text": [
      "346.42120146751404\n",
      "336.7830514907837\n",
      "335.7016701698303\n",
      "307.22366166114807\n",
      "290.6147196292877\n",
      "315.5828514099121\n",
      "344.08966970443726\n",
      "337.0721056461334\n",
      "360.9251072406769\n",
      "421.92287850379944\n"
     ]
    }
   ],
   "source": [
    "dataset_ids = []\n",
    "dataset_vals = []\n",
    "for data_id in range(10):\n",
    "    st = time.time()\n",
    "    dataset_val = np.load('x_trn_' + str(data_id) + '.npy')\n",
    "    dataset_vals.append(dataset_val)\n",
    "    print(time.time() - st)"
   ]
  },
  {
   "cell_type": "code",
   "execution_count": 6,
   "metadata": {},
   "outputs": [],
   "source": [
    "class X:\n",
    "    def __init__(self, data, offset):\n",
    "        self.data = data\n",
    "        self.offset = offset\n",
    "    \n",
    "    def __getitem__(self, key):\n",
    "        index1 = (key + self.offset) // 1000000\n",
    "        index2 = (key + self.offset) % 1000000\n",
    "        return self.data[index1][index2]\n",
    "    \n",
    "    def __len__(self):\n",
    "        l = 0\n",
    "        for x in self.data:\n",
    "            l += len(x)\n",
    "        return l - self.offset"
   ]
  },
  {
   "cell_type": "code",
   "execution_count": 8,
   "metadata": {},
   "outputs": [],
   "source": [
    "x_trn = X(dataset_vals, 1100)"
   ]
  },
  {
   "cell_type": "code",
   "execution_count": 11,
   "metadata": {},
   "outputs": [],
   "source": [
    "y_tst = np.load('y_tst.npy')\n",
    "y_val = np.load('y_val.npy')\n",
    "x_tst = np.load('x_tst.npy')\n",
    "x_val = np.load('x_val.npy')"
   ]
  },
  {
   "cell_type": "code",
   "execution_count": 12,
   "metadata": {},
   "outputs": [],
   "source": [
    "x_val2 = x_val[:100]\n",
    "y_val2 = y_val[:100]"
   ]
  },
  {
   "cell_type": "code",
   "execution_count": 13,
   "metadata": {},
   "outputs": [],
   "source": [
    "def val_error(K, sp_gt):\n",
    "    K_star = 10\n",
    "    start = time.time()\n",
    "    x_val_knn_approx, nns_vec = lsh.get_approx_KNN(x_val2, K_star)\n",
    "    runtime_query = time.time() - start\n",
    "    print(runtime_query)\n",
    "    \n",
    "    start = time.time()\n",
    "    sp_approx = lsh.compute_approx_shapley(x_val_knn_approx, y_val2, K)\n",
    "    runtime_approx_value = time.time() - start\n",
    "    print('it takes %s to get appox knn value' % runtime_approx_value)\n",
    "    \n",
    "    sp_err_inf_val= np.linalg.norm(sp_gt - sp_approx,ord=np.inf, axis=1)\n",
    "    print('max error %s'% np.percentile(sp_err_inf_val,90))\n",
    "    return sp_approx"
   ]
  },
  {
   "cell_type": "code",
   "execution_count": 57,
   "metadata": {},
   "outputs": [],
   "source": [
    "def test_error(K, sp_gt):\n",
    "    K_star = 10\n",
    "    start = time.time()\n",
    "    x_tst_knn_approx, nns_vec = lsh.get_approx_KNN(x_tst, K_star)\n",
    "    runtime_query = time.time() - start\n",
    "    print(runtime_query)\n",
    "    \n",
    "    start = time.time()\n",
    "    sp_approx = lsh.compute_approx_shapley(x_tst_knn_approx, y_tst, K)\n",
    "    runtime_approx_value = time.time() - start\n",
    "    print('it takes %s to get appox knn value' % runtime_approx_value)\n",
    "    \n",
    "    sp_err_inf_val= np.linalg.norm(sp_gt - sp_approx,ord=np.inf, axis=1)\n",
    "    print('max error %s'% np.percentile(sp_err_inf_val,90))\n",
    "    return sp_approx"
   ]
  },
  {
   "cell_type": "code",
   "execution_count": 15,
   "metadata": {},
   "outputs": [],
   "source": [
    "dist_rand = np.load('10M/eps0.1/dist_rand.npy')\n",
    "dist_rand = np.mean(dist_rand, axis=0)"
   ]
  },
  {
   "cell_type": "code",
   "execution_count": 16,
   "metadata": {},
   "outputs": [],
   "source": [
    "sp_gt2 = np.load('10M/eps0.1/sp_gt2.npy')"
   ]
  },
  {
   "cell_type": "code",
   "execution_count": 56,
   "metadata": {},
   "outputs": [],
   "source": [
    "def equal(a, b):\n",
    "    try:\n",
    "        return not set.isdisjoint(a, b)\n",
    "    except KeyError:\n",
    "        return 0"
   ]
  },
  {
   "cell_type": "code",
   "execution_count": 52,
   "metadata": {},
   "outputs": [],
   "source": [
    "import numpy as np\n",
    "import pdb\n",
    "\n",
    "\n",
    "def lsh_function(t,x,w,b):\n",
    "    # x is 1-d array\n",
    "    h = np.floor((np.dot(w,x)+b)/t).astype(int)\n",
    "    return h\n",
    "\n",
    "\n",
    "class LSH:\n",
    "    def __init__(self,n_hash_bit,n_hash_table,x_trn,y_trn,t=0.1):\n",
    "        self.n_hash_bit = n_hash_bit\n",
    "        self.n_hash_table = n_hash_table\n",
    "        self.t = t # width of projections\n",
    "        self.x_trn = x_trn\n",
    "        self.y_trn = y_trn\n",
    "        self.N = len(x_trn)\n",
    "        self.dim = 4096\n",
    "        # draw w from a normal distribution (2-stable)\n",
    "        self.w = np.random.normal(0, 1, (n_hash_table, n_hash_bit, self.dim))\n",
    "        # draw b from U[0,t]\n",
    "        self.b = np.random.uniform(0, self.t, (n_hash_table, n_hash_bit))\n",
    "        self.x_trn_hash = [dict() for i in range(n_hash_table)]\n",
    "#         for i in tqdm(range(self.N)):\n",
    "#             hash_code_all = lsh_function(self.t, x_trn[i] / dist_rand, self.w, self.b)\n",
    "#             for l in range(n_hash_table):\n",
    "#                 hash_code_trn = '.'.join(map(str, hash_code_all[l, :]))\n",
    "#                 if hash_code_trn in self.x_trn_hash[l].keys():\n",
    "#                     self.x_trn_hash[l][hash_code_trn].append(i)\n",
    "#                 else:\n",
    "#                     self.x_trn_hash[l][hash_code_trn] = [i]\n",
    "#             if i % 1000 == 0:\n",
    "#                 print('build hash %s'%i)\n",
    "\n",
    "    def get_approx_KNN(self,x_tst,K):\n",
    "        N_tst = x_tst.shape[0]\n",
    "        x_tst_knn = np.ones((N_tst, K)) * (-1)\n",
    "        nns_len = np.zeros(N_tst)\n",
    "        for i_tst in tqdm(range(N_tst)):\n",
    "            nns = np.array([])\n",
    "            for l in range(self.n_hash_table):\n",
    "                hash_code_int = lsh_function(self.t, x_tst[i_tst] / dist_rand, self.w[l, :, :], self.b[l, :])\n",
    "                hash_code_test = '.'.join(map(str, hash_code_int))\n",
    "                if hash_code_test in self.x_trn_hash[l].keys():\n",
    "                    nns = np.append(nns, self.x_trn_hash[l][hash_code_test])\n",
    "            nns = np.unique(nns)\n",
    "            nns = nns.astype(int)\n",
    "            num_collide_elements = len(nns)\n",
    "            if len(nns) > 0:\n",
    "                dist = [np.linalg.norm(self.x_trn[i] / dist_rand - x_tst[i_tst] / dist_rand, 2) for i in nns]\n",
    "                dist_min_ind = nns[np.argsort(dist)]\n",
    "                if num_collide_elements < K:\n",
    "                    x_tst_knn[i_tst, :num_collide_elements] = dist_min_ind[:num_collide_elements]\n",
    "                else:\n",
    "                    x_tst_knn[i_tst, :] = dist_min_ind[:K]\n",
    "            # pdb.set_trace()\n",
    "            nns_len[i_tst] = len(nns)\n",
    "            if i_tst % 100 == 0:\n",
    "                print('get approximate knn %s'%i_tst)\n",
    "        return x_tst_knn.astype(int),nns_len\n",
    "\n",
    "\n",
    "    def compute_approx_shapley(self,x_tst_knn,y_tst,K):\n",
    "        N_tst,K_star = x_tst_knn.shape\n",
    "        # flag_sufficient = (x_tst_knn[:,-1]>=0)\n",
    "        sp_approx = np.zeros((N_tst,self.N))\n",
    "        for j in tqdm(range(N_tst)):\n",
    "            non_nan_index = np.where(x_tst_knn[j,:]>=0)[0]\n",
    "            if len(non_nan_index)== 0:\n",
    "                continue\n",
    "            K_tot = non_nan_index[-1]\n",
    "            if K_tot == self.N:\n",
    "                sp_approx[j, x_tst_knn[j, self.N - 1]] = equal(self.y_trn[x_tst_knn[j, self.N - 1]], y_tst[j]) / self.N\n",
    "            for i in np.arange(K_tot - 1, -1, -1):\n",
    "                sp_approx[j, x_tst_knn[j, i]] = sp_approx[j, x_tst_knn[j, i+1]] + (\n",
    "                        equal(self.y_trn[x_tst_knn[j, i]], y_tst[j]) - equal(\n",
    "                    self.y_trn[x_tst_knn[j, i + 1]], y_tst[j])) / K * min([K, i + 1]) / (i + 1)\n",
    "\n",
    "\n",
    "\n",
    "        return sp_approx"
   ]
  },
  {
   "cell_type": "code",
   "execution_count": 53,
   "metadata": {},
   "outputs": [],
   "source": [
    "lsh = LSH(14,75,x_trn,y_trn,t=2.203)"
   ]
  },
  {
   "cell_type": "code",
   "execution_count": 61,
   "metadata": {},
   "outputs": [],
   "source": [
    "lsh.x_trn_hash = x_trn_hash\n",
    "lsh.w = w\n",
    "lsh.b = b"
   ]
  },
  {
   "cell_type": "code",
   "execution_count": 63,
   "metadata": {},
   "outputs": [
    {
     "data": {
      "application/vnd.jupyter.widget-view+json": {
       "model_id": "e141ac778f1544ab8cc30572bf85e94d",
       "version_major": 2,
       "version_minor": 0
      },
      "text/plain": [
       "HBox(children=(IntProgress(value=0), HTML(value='')))"
      ]
     },
     "metadata": {},
     "output_type": "display_data"
    },
    {
     "name": "stdout",
     "output_type": "stream",
     "text": [
      "get approximate knn 0\n",
      "\n",
      "3972.0105855464935\n"
     ]
    },
    {
     "data": {
      "application/vnd.jupyter.widget-view+json": {
       "model_id": "84515c129b3047b0bc94a3610e579a00",
       "version_major": 2,
       "version_minor": 0
      },
      "text/plain": [
       "HBox(children=(IntProgress(value=0), HTML(value='')))"
      ]
     },
     "metadata": {},
     "output_type": "display_data"
    },
    {
     "name": "stdout",
     "output_type": "stream",
     "text": [
      "\n",
      "it takes 0.09952259063720703 to get appox knn value\n",
      "max error 0.09141423452978795\n"
     ]
    }
   ],
   "source": [
    "sp_gt2_approx = test_error(2, sp_gt2)"
   ]
  },
  {
   "cell_type": "code",
   "execution_count": 59,
   "metadata": {},
   "outputs": [],
   "source": [
    "sp_gt = np.load('10M/eps0.1/sp_gt.npy')"
   ]
  },
  {
   "cell_type": "code",
   "execution_count": 62,
   "metadata": {},
   "outputs": [
    {
     "data": {
      "application/vnd.jupyter.widget-view+json": {
       "model_id": "a2c40f5e121742eea136f2c9206e6784",
       "version_major": 2,
       "version_minor": 0
      },
      "text/plain": [
       "HBox(children=(IntProgress(value=0), HTML(value='')))"
      ]
     },
     "metadata": {},
     "output_type": "display_data"
    },
    {
     "name": "stdout",
     "output_type": "stream",
     "text": [
      "get approximate knn 0\n",
      "\n",
      "4183.600741863251\n"
     ]
    },
    {
     "data": {
      "application/vnd.jupyter.widget-view+json": {
       "model_id": "d3c8e49679f1428a9e754b1c87846b58",
       "version_major": 2,
       "version_minor": 0
      },
      "text/plain": [
       "HBox(children=(IntProgress(value=0), HTML(value='')))"
      ]
     },
     "metadata": {},
     "output_type": "display_data"
    },
    {
     "name": "stdout",
     "output_type": "stream",
     "text": [
      "\n",
      "it takes 0.07110762596130371 to get appox knn value\n",
      "max error 0.09141423452978795\n"
     ]
    },
    {
     "data": {
      "text/plain": [
       "array([[0., 0., 0., ..., 0., 0., 0.],\n",
       "       [0., 0., 0., ..., 0., 0., 0.],\n",
       "       [0., 0., 0., ..., 0., 0., 0.],\n",
       "       ...,\n",
       "       [0., 0., 0., ..., 0., 0., 0.],\n",
       "       [0., 0., 0., ..., 0., 0., 0.],\n",
       "       [0., 0., 0., ..., 0., 0., 0.]])"
      ]
     },
     "execution_count": 62,
     "metadata": {},
     "output_type": "execute_result"
    }
   ],
   "source": [
    "test_error(1, sp_gt)"
   ]
  },
  {
   "cell_type": "code",
   "execution_count": 29,
   "metadata": {},
   "outputs": [],
   "source": [
    "for i in range(75):\n",
    "    assert sum([len(v) for k, v in lsh.x_trn_hash[i].items()]) == 9998900 "
   ]
  },
  {
   "cell_type": "code",
   "execution_count": 30,
   "metadata": {},
   "outputs": [
    {
     "name": "stdout",
     "output_type": "stream",
     "text": [
      "-1.0.0.0.0.0.0.-1.-1.-2.0.0.0.1 [ 325606 3817062 8955573 9021150]\n"
     ]
    }
   ],
   "source": [
    "for k, v in lsh.x_trn_hash[0].items():\n",
    "    print(k, v)\n",
    "    break"
   ]
  },
  {
   "cell_type": "code",
   "execution_count": 64,
   "metadata": {},
   "outputs": [],
   "source": [
    "del sp_gt"
   ]
  },
  {
   "cell_type": "code",
   "execution_count": 65,
   "metadata": {},
   "outputs": [],
   "source": [
    "sp_gt5 = np.load('10M/eps0.1/sp_gt5.npy')"
   ]
  },
  {
   "cell_type": "code",
   "execution_count": 66,
   "metadata": {},
   "outputs": [
    {
     "data": {
      "application/vnd.jupyter.widget-view+json": {
       "model_id": "1a540a12f8104bf3a2736d83ddb6f911",
       "version_major": 2,
       "version_minor": 0
      },
      "text/plain": [
       "HBox(children=(IntProgress(value=0), HTML(value='')))"
      ]
     },
     "metadata": {},
     "output_type": "display_data"
    },
    {
     "name": "stdout",
     "output_type": "stream",
     "text": [
      "get approximate knn 0\n",
      "\n",
      "3920.30832695961\n"
     ]
    },
    {
     "data": {
      "application/vnd.jupyter.widget-view+json": {
       "model_id": "00e25da22dca48f1979c248d99fb9249",
       "version_major": 2,
       "version_minor": 0
      },
      "text/plain": [
       "HBox(children=(IntProgress(value=0), HTML(value='')))"
      ]
     },
     "metadata": {},
     "output_type": "display_data"
    },
    {
     "name": "stdout",
     "output_type": "stream",
     "text": [
      "\n",
      "it takes 0.06524181365966797 to get appox knn value\n",
      "max error 0.09057708217212376\n"
     ]
    },
    {
     "data": {
      "text/plain": [
       "array([[0., 0., 0., ..., 0., 0., 0.],\n",
       "       [0., 0., 0., ..., 0., 0., 0.],\n",
       "       [0., 0., 0., ..., 0., 0., 0.],\n",
       "       ...,\n",
       "       [0., 0., 0., ..., 0., 0., 0.],\n",
       "       [0., 0., 0., ..., 0., 0., 0.],\n",
       "       [0., 0., 0., ..., 0., 0., 0.]])"
      ]
     },
     "execution_count": 66,
     "metadata": {},
     "output_type": "execute_result"
    }
   ],
   "source": [
    "test_error(5, sp_gt5)"
   ]
  },
  {
   "cell_type": "code",
   "execution_count": 1,
   "metadata": {},
   "outputs": [
    {
     "data": {
      "text/plain": [
       "2"
      ]
     },
     "execution_count": 1,
     "metadata": {},
     "output_type": "execute_result"
    }
   ],
   "source": []
  },
  {
   "cell_type": "code",
   "execution_count": null,
   "metadata": {},
   "outputs": [],
   "source": []
  }
 ],
 "metadata": {
  "kernelspec": {
   "display_name": "Python 3",
   "language": "python",
   "name": "python3"
  },
  "language_info": {
   "codemirror_mode": {
    "name": "ipython",
    "version": 3
   },
   "file_extension": ".py",
   "mimetype": "text/x-python",
   "name": "python",
   "nbconvert_exporter": "python",
   "pygments_lexer": "ipython3",
   "version": "3.7.0"
  }
 },
 "nbformat": 4,
 "nbformat_minor": 2
}
