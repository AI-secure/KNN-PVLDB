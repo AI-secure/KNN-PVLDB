{
 "cells": [
  {
   "cell_type": "code",
   "execution_count": 1,
   "metadata": {},
   "outputs": [],
   "source": [
    "import bz2\n",
    "import numpy as np\n",
    "from tqdm import tqdm_notebook as tqdm\n",
    "import gzip\n",
    "from heapq import heappushpop\n",
    "from joblib import Parallel, delayed\n",
    "import time"
   ]
  },
  {
   "cell_type": "code",
   "execution_count": 2,
   "metadata": {},
   "outputs": [
    {
     "data": {
      "application/vnd.jupyter.widget-view+json": {
       "model_id": "a894a5bbea8b4dc89e80932c1e17f0a6",
       "version_major": 2,
       "version_minor": 0
      },
      "text/plain": [
       "HBox(children=(IntProgress(value=1, bar_style='info', max=1), HTML(value='')))"
      ]
     },
     "metadata": {},
     "output_type": "display_data"
    },
    {
     "name": "stdout",
     "output_type": "stream",
     "text": [
      "\n",
      "1396.6588969230652\n"
     ]
    },
    {
     "data": {
      "application/vnd.jupyter.widget-view+json": {
       "model_id": "938fac242d1b44ff94ef09279e9dd34f",
       "version_major": 2,
       "version_minor": 0
      },
      "text/plain": [
       "HBox(children=(IntProgress(value=1, bar_style='info', max=1), HTML(value='')))"
      ]
     },
     "metadata": {},
     "output_type": "display_data"
    },
    {
     "name": "stdout",
     "output_type": "stream",
     "text": [
      "\n",
      "1375.059648513794\n"
     ]
    },
    {
     "data": {
      "application/vnd.jupyter.widget-view+json": {
       "model_id": "81d790d4cd624a11aff652d587b69a75",
       "version_major": 2,
       "version_minor": 0
      },
      "text/plain": [
       "HBox(children=(IntProgress(value=1, bar_style='info', max=1), HTML(value='')))"
      ]
     },
     "metadata": {},
     "output_type": "display_data"
    },
    {
     "name": "stdout",
     "output_type": "stream",
     "text": [
      "\n",
      "1384.531615972519\n"
     ]
    },
    {
     "data": {
      "application/vnd.jupyter.widget-view+json": {
       "model_id": "5ed9404b3a914d8aafe24c50d306d3fe",
       "version_major": 2,
       "version_minor": 0
      },
      "text/plain": [
       "HBox(children=(IntProgress(value=1, bar_style='info', max=1), HTML(value='')))"
      ]
     },
     "metadata": {},
     "output_type": "display_data"
    },
    {
     "name": "stdout",
     "output_type": "stream",
     "text": [
      "\n",
      "1471.3641579151154\n"
     ]
    },
    {
     "data": {
      "application/vnd.jupyter.widget-view+json": {
       "model_id": "1a8ab259d466418fa02e6e70aa6b5494",
       "version_major": 2,
       "version_minor": 0
      },
      "text/plain": [
       "HBox(children=(IntProgress(value=1, bar_style='info', max=1), HTML(value='')))"
      ]
     },
     "metadata": {},
     "output_type": "display_data"
    },
    {
     "name": "stdout",
     "output_type": "stream",
     "text": [
      "\n",
      "1494.0325946807861\n"
     ]
    },
    {
     "data": {
      "application/vnd.jupyter.widget-view+json": {
       "model_id": "9a3fad5e86a4460281a48c16173d4c53",
       "version_major": 2,
       "version_minor": 0
      },
      "text/plain": [
       "HBox(children=(IntProgress(value=1, bar_style='info', max=1), HTML(value='')))"
      ]
     },
     "metadata": {},
     "output_type": "display_data"
    },
    {
     "name": "stdout",
     "output_type": "stream",
     "text": [
      "\n",
      "1517.5251760482788\n"
     ]
    },
    {
     "data": {
      "application/vnd.jupyter.widget-view+json": {
       "model_id": "ac04065f978b42bc8bcdec1495beadb4",
       "version_major": 2,
       "version_minor": 0
      },
      "text/plain": [
       "HBox(children=(IntProgress(value=1, bar_style='info', max=1), HTML(value='')))"
      ]
     },
     "metadata": {},
     "output_type": "display_data"
    },
    {
     "name": "stdout",
     "output_type": "stream",
     "text": [
      "\n",
      "1453.833410024643\n"
     ]
    },
    {
     "data": {
      "application/vnd.jupyter.widget-view+json": {
       "model_id": "33275d83032f49ce8d45547b1e9056ee",
       "version_major": 2,
       "version_minor": 0
      },
      "text/plain": [
       "HBox(children=(IntProgress(value=1, bar_style='info', max=1), HTML(value='')))"
      ]
     },
     "metadata": {},
     "output_type": "display_data"
    },
    {
     "name": "stdout",
     "output_type": "stream",
     "text": [
      "\n",
      "1455.7855253219604\n"
     ]
    },
    {
     "data": {
      "application/vnd.jupyter.widget-view+json": {
       "model_id": "bef4d4c481c644f8a02fae5c8d8aef35",
       "version_major": 2,
       "version_minor": 0
      },
      "text/plain": [
       "HBox(children=(IntProgress(value=1, bar_style='info', max=1), HTML(value='')))"
      ]
     },
     "metadata": {},
     "output_type": "display_data"
    },
    {
     "name": "stdout",
     "output_type": "stream",
     "text": [
      "\n",
      "1411.2234132289886\n"
     ]
    },
    {
     "data": {
      "application/vnd.jupyter.widget-view+json": {
       "model_id": "0082461367144b9897c458d5fbe72cd7",
       "version_major": 2,
       "version_minor": 0
      },
      "text/plain": [
       "HBox(children=(IntProgress(value=1, bar_style='info', max=1), HTML(value='')))"
      ]
     },
     "metadata": {},
     "output_type": "display_data"
    },
    {
     "name": "stdout",
     "output_type": "stream",
     "text": [
      "\n",
      "1461.141194343567\n"
     ]
    }
   ],
   "source": [
    "dataset_ids = []\n",
    "dataset_vals = []\n",
    "for data_id in range(10):\n",
    "    st = time.time()\n",
    "    dataset_val = []\n",
    "    with gzip.open('YFCC100M_hybridCNN_gmean_fc6_%d.txt.gz' % data_id , 'rb') as f:\n",
    "        times = 0\n",
    "        dist_gt = []\n",
    "        for line in tqdm(f):\n",
    "            line = line.decode()\n",
    "            tokens = line.split('\\t')\n",
    "            if len(tokens) < 2:\n",
    "                continue\n",
    "            trn_id = tokens[0]\n",
    "            trn_val = np.array([float(token) for token in tokens[2:]], dtype=np.float32)\n",
    "            dataset_ids.append(trn_id)\n",
    "            dataset_val.append(trn_val)\n",
    "    dataset_val = np.array(dataset_val)\n",
    "    dataset_vals.append(dataset_val)\n",
    "    print(time.time() - st)"
   ]
  },
  {
   "cell_type": "code",
   "execution_count": 3,
   "metadata": {},
   "outputs": [
    {
     "data": {
      "application/vnd.jupyter.widget-view+json": {
       "model_id": "cb75babcef6c43b0a152db150cdda709",
       "version_major": 2,
       "version_minor": 0
      },
      "text/plain": [
       "HBox(children=(IntProgress(value=1, bar_style='info', max=1), HTML(value='')))"
      ]
     },
     "metadata": {},
     "output_type": "display_data"
    },
    {
     "name": "stdout",
     "output_type": "stream",
     "text": [
      "\n"
     ]
    }
   ],
   "source": [
    "dataset_ids_set = set(dataset_ids)\n",
    "file = 'yfcc100m_autotags.bz2'\n",
    "\n",
    "zero_label = 0\n",
    "source_file = bz2.BZ2File(file, \"r\")\n",
    "times = 0\n",
    "dataset_label = {}\n",
    "\n",
    "for line in tqdm(source_file):\n",
    "    string = line.decode()\n",
    "    string = string.split('\\t')\n",
    "    key = string[0]\n",
    "    value = string[1].split(',')\n",
    "    words = list(map(lambda x: x.split(':')[0], value))\n",
    "    try:\n",
    "        probs = list(map(lambda x: x.split(':')[1], value))\n",
    "    except:\n",
    "        zero_label += 1\n",
    "        # not record this into dataset\n",
    "        continue\n",
    "    \n",
    "    if key in dataset_ids_set:\n",
    "        dataset_label[key] = set(words)\n",
    "source_file.close()"
   ]
  },
  {
   "cell_type": "code",
   "execution_count": 4,
   "metadata": {},
   "outputs": [],
   "source": [
    "dataset_y = [dataset_label[x] if x in dataset_label else set() for x in dataset_ids]"
   ]
  },
  {
   "cell_type": "code",
   "execution_count": 5,
   "metadata": {},
   "outputs": [],
   "source": [
    "x_tst = dataset_vals[0][:100]\n",
    "y_tst = dataset_y[:100]\n",
    "\n",
    "x_val = dataset_vals[0][100:1100]\n",
    "y_val = dataset_y[100:1100]"
   ]
  },
  {
   "cell_type": "code",
   "execution_count": 6,
   "metadata": {},
   "outputs": [],
   "source": [
    "class X:\n",
    "    def __init__(self, data, offset):\n",
    "        self.data = data\n",
    "        self.offset = offset\n",
    "    \n",
    "    def __getitem__(self, key):\n",
    "        index1 = (key + self.offset) // 1000000\n",
    "        index2 = (key + self.offset) % 1000000\n",
    "        return self.data[index1][index2]\n",
    "    \n",
    "    def __len__(self):\n",
    "        l = 0\n",
    "        for x in self.data:\n",
    "            l += len(x)\n",
    "        return l - self.offset\n",
    "    \n",
    "x_trn = X(dataset_vals, 1100)\n",
    "y_trn = dataset_y[1100:]"
   ]
  },
  {
   "cell_type": "code",
   "execution_count": 7,
   "metadata": {},
   "outputs": [],
   "source": [
    "from tqdm import tqdm_notebook as tqdm\n",
    "def get_true_KNN(x_trn,x_tst,K):\n",
    "    N = len(x_trn)\n",
    "    N_tst = len(x_tst)\n",
    "    x_tst_knn_gt = np.zeros((N_tst, N))\n",
    "    for i_tst in tqdm(range(N_tst)):\n",
    "        dist_gt = np.zeros(N)\n",
    "        for i_trn in tqdm(range(N)):\n",
    "            dist_gt[i_trn] = np.linalg.norm(x_trn[i_trn] - x_tst[i_tst], 2)\n",
    "#             if i_trn % 100000 == 0:\n",
    "#                 print(i_trn)\n",
    "        x_tst_knn_gt[i_tst, :] = np.argsort(dist_gt)\n",
    "    return x_tst_knn_gt.astype(int)"
   ]
  },
  {
   "cell_type": "code",
   "execution_count": 8,
   "metadata": {},
   "outputs": [],
   "source": [
    "x_val2 = x_val[:100]\n",
    "y_val2 = y_val[:100]"
   ]
  },
  {
   "cell_type": "code",
   "execution_count": 77,
   "metadata": {},
   "outputs": [
    {
     "data": {
      "application/vnd.jupyter.widget-view+json": {
       "model_id": "b9cacef4f1324389b2dd9785f5a9fa18",
       "version_major": 2,
       "version_minor": 0
      },
      "text/plain": [
       "HBox(children=(IntProgress(value=0), HTML(value='')))"
      ]
     },
     "metadata": {},
     "output_type": "display_data"
    },
    {
     "data": {
      "application/vnd.jupyter.widget-view+json": {
       "model_id": "3645715543fd49e3a8369029c110dcc5",
       "version_major": 2,
       "version_minor": 0
      },
      "text/plain": [
       "HBox(children=(IntProgress(value=0, max=9998900), HTML(value='')))"
      ]
     },
     "metadata": {},
     "output_type": "display_data"
    },
    {
     "data": {
      "application/vnd.jupyter.widget-view+json": {
       "model_id": "541a0983114c429d87a29028b45b2828",
       "version_major": 2,
       "version_minor": 0
      },
      "text/plain": [
       "HBox(children=(IntProgress(value=0, max=9998900), HTML(value='')))"
      ]
     },
     "metadata": {},
     "output_type": "display_data"
    },
    {
     "data": {
      "application/vnd.jupyter.widget-view+json": {
       "model_id": "67bd9195c16f4892a9faf6ede669f049",
       "version_major": 2,
       "version_minor": 0
      },
      "text/plain": [
       "HBox(children=(IntProgress(value=0, max=9998900), HTML(value='')))"
      ]
     },
     "metadata": {},
     "output_type": "display_data"
    },
    {
     "data": {
      "application/vnd.jupyter.widget-view+json": {
       "model_id": "c60d6041e9be4f8b843fd2caaa6a9a4d",
       "version_major": 2,
       "version_minor": 0
      },
      "text/plain": [
       "HBox(children=(IntProgress(value=0, max=9998900), HTML(value='')))"
      ]
     },
     "metadata": {},
     "output_type": "display_data"
    },
    {
     "data": {
      "application/vnd.jupyter.widget-view+json": {
       "model_id": "cd3e2e0b61f64d64b343ff33e3f3a56a",
       "version_major": 2,
       "version_minor": 0
      },
      "text/plain": [
       "HBox(children=(IntProgress(value=0, max=9998900), HTML(value='')))"
      ]
     },
     "metadata": {},
     "output_type": "display_data"
    },
    {
     "data": {
      "application/vnd.jupyter.widget-view+json": {
       "model_id": "e012a21858d94a3ba2c0ffebf090174f",
       "version_major": 2,
       "version_minor": 0
      },
      "text/plain": [
       "HBox(children=(IntProgress(value=0, max=9998900), HTML(value='')))"
      ]
     },
     "metadata": {},
     "output_type": "display_data"
    },
    {
     "data": {
      "application/vnd.jupyter.widget-view+json": {
       "model_id": "ff7aaadd8c8543a7a3a6255ba0cd2994",
       "version_major": 2,
       "version_minor": 0
      },
      "text/plain": [
       "HBox(children=(IntProgress(value=0, max=9998900), HTML(value='')))"
      ]
     },
     "metadata": {},
     "output_type": "display_data"
    },
    {
     "data": {
      "application/vnd.jupyter.widget-view+json": {
       "model_id": "fb501a2f5bbb44bb91474d9548b8f096",
       "version_major": 2,
       "version_minor": 0
      },
      "text/plain": [
       "HBox(children=(IntProgress(value=0, max=9998900), HTML(value='')))"
      ]
     },
     "metadata": {},
     "output_type": "display_data"
    },
    {
     "data": {
      "application/vnd.jupyter.widget-view+json": {
       "model_id": "5bba5323cf7648a9afeecf0e4b8f0b44",
       "version_major": 2,
       "version_minor": 0
      },
      "text/plain": [
       "HBox(children=(IntProgress(value=0, max=9998900), HTML(value='')))"
      ]
     },
     "metadata": {},
     "output_type": "display_data"
    },
    {
     "data": {
      "application/vnd.jupyter.widget-view+json": {
       "model_id": "9635c6d1aa8f40b4adffbfef99f9435d",
       "version_major": 2,
       "version_minor": 0
      },
      "text/plain": [
       "HBox(children=(IntProgress(value=0, max=9998900), HTML(value='')))"
      ]
     },
     "metadata": {},
     "output_type": "display_data"
    },
    {
     "data": {
      "application/vnd.jupyter.widget-view+json": {
       "model_id": "4a13dd8623634ebebf0c4585a8a3b419",
       "version_major": 2,
       "version_minor": 0
      },
      "text/plain": [
       "HBox(children=(IntProgress(value=0, max=9998900), HTML(value='')))"
      ]
     },
     "metadata": {},
     "output_type": "display_data"
    },
    {
     "data": {
      "application/vnd.jupyter.widget-view+json": {
       "model_id": "116c00f85a624e5588bbbf7c7080cc82",
       "version_major": 2,
       "version_minor": 0
      },
      "text/plain": [
       "HBox(children=(IntProgress(value=0, max=9998900), HTML(value='')))"
      ]
     },
     "metadata": {},
     "output_type": "display_data"
    },
    {
     "data": {
      "application/vnd.jupyter.widget-view+json": {
       "model_id": "03b71ec5231f426d8dafe66753901d9a",
       "version_major": 2,
       "version_minor": 0
      },
      "text/plain": [
       "HBox(children=(IntProgress(value=0, max=9998900), HTML(value='')))"
      ]
     },
     "metadata": {},
     "output_type": "display_data"
    },
    {
     "data": {
      "application/vnd.jupyter.widget-view+json": {
       "model_id": "836d44c1464345e3b173a19f7c738669",
       "version_major": 2,
       "version_minor": 0
      },
      "text/plain": [
       "HBox(children=(IntProgress(value=0, max=9998900), HTML(value='')))"
      ]
     },
     "metadata": {},
     "output_type": "display_data"
    },
    {
     "data": {
      "application/vnd.jupyter.widget-view+json": {
       "model_id": "ec7ebdda0c4a4c0cb605a56fed91edaf",
       "version_major": 2,
       "version_minor": 0
      },
      "text/plain": [
       "HBox(children=(IntProgress(value=0, max=9998900), HTML(value='')))"
      ]
     },
     "metadata": {},
     "output_type": "display_data"
    },
    {
     "data": {
      "application/vnd.jupyter.widget-view+json": {
       "model_id": "a19c79bc82314cf7b26a25bc125fc6da",
       "version_major": 2,
       "version_minor": 0
      },
      "text/plain": [
       "HBox(children=(IntProgress(value=0, max=9998900), HTML(value='')))"
      ]
     },
     "metadata": {},
     "output_type": "display_data"
    },
    {
     "data": {
      "application/vnd.jupyter.widget-view+json": {
       "model_id": "2d13429081074098b056d12f166cddac",
       "version_major": 2,
       "version_minor": 0
      },
      "text/plain": [
       "HBox(children=(IntProgress(value=0, max=9998900), HTML(value='')))"
      ]
     },
     "metadata": {},
     "output_type": "display_data"
    },
    {
     "data": {
      "application/vnd.jupyter.widget-view+json": {
       "model_id": "682cbb09cd384af2b7107997a6f46f80",
       "version_major": 2,
       "version_minor": 0
      },
      "text/plain": [
       "HBox(children=(IntProgress(value=0, max=9998900), HTML(value='')))"
      ]
     },
     "metadata": {},
     "output_type": "display_data"
    },
    {
     "data": {
      "application/vnd.jupyter.widget-view+json": {
       "model_id": "570a215d874d48bfa48281fc460b3751",
       "version_major": 2,
       "version_minor": 0
      },
      "text/plain": [
       "HBox(children=(IntProgress(value=0, max=9998900), HTML(value='')))"
      ]
     },
     "metadata": {},
     "output_type": "display_data"
    },
    {
     "data": {
      "application/vnd.jupyter.widget-view+json": {
       "model_id": "49b116f9f8a94931be8e0d63e21d3092",
       "version_major": 2,
       "version_minor": 0
      },
      "text/plain": [
       "HBox(children=(IntProgress(value=0, max=9998900), HTML(value='')))"
      ]
     },
     "metadata": {},
     "output_type": "display_data"
    },
    {
     "data": {
      "application/vnd.jupyter.widget-view+json": {
       "model_id": "fff3b4bc2ba649d8a7d2a24c15faa2ed",
       "version_major": 2,
       "version_minor": 0
      },
      "text/plain": [
       "HBox(children=(IntProgress(value=0, max=9998900), HTML(value='')))"
      ]
     },
     "metadata": {},
     "output_type": "display_data"
    },
    {
     "data": {
      "application/vnd.jupyter.widget-view+json": {
       "model_id": "048ea1438d0d4301b320c437036773de",
       "version_major": 2,
       "version_minor": 0
      },
      "text/plain": [
       "HBox(children=(IntProgress(value=0, max=9998900), HTML(value='')))"
      ]
     },
     "metadata": {},
     "output_type": "display_data"
    },
    {
     "data": {
      "application/vnd.jupyter.widget-view+json": {
       "model_id": "e9c9978765e946579a748aefe6657cea",
       "version_major": 2,
       "version_minor": 0
      },
      "text/plain": [
       "HBox(children=(IntProgress(value=0, max=9998900), HTML(value='')))"
      ]
     },
     "metadata": {},
     "output_type": "display_data"
    },
    {
     "data": {
      "application/vnd.jupyter.widget-view+json": {
       "model_id": "4983c81dea6d4adda6cac754b464a3b1",
       "version_major": 2,
       "version_minor": 0
      },
      "text/plain": [
       "HBox(children=(IntProgress(value=0, max=9998900), HTML(value='')))"
      ]
     },
     "metadata": {},
     "output_type": "display_data"
    },
    {
     "data": {
      "application/vnd.jupyter.widget-view+json": {
       "model_id": "d206da64229a45c0bba22bcaedb4a897",
       "version_major": 2,
       "version_minor": 0
      },
      "text/plain": [
       "HBox(children=(IntProgress(value=0, max=9998900), HTML(value='')))"
      ]
     },
     "metadata": {},
     "output_type": "display_data"
    },
    {
     "data": {
      "application/vnd.jupyter.widget-view+json": {
       "model_id": "15893f9376684ad6b99d6c5599e0f05f",
       "version_major": 2,
       "version_minor": 0
      },
      "text/plain": [
       "HBox(children=(IntProgress(value=0, max=9998900), HTML(value='')))"
      ]
     },
     "metadata": {},
     "output_type": "display_data"
    },
    {
     "data": {
      "application/vnd.jupyter.widget-view+json": {
       "model_id": "b1c7deec4061440bbf6902ec5e999b9a",
       "version_major": 2,
       "version_minor": 0
      },
      "text/plain": [
       "HBox(children=(IntProgress(value=0, max=9998900), HTML(value='')))"
      ]
     },
     "metadata": {},
     "output_type": "display_data"
    },
    {
     "data": {
      "application/vnd.jupyter.widget-view+json": {
       "model_id": "f45b563ac5c44d29b1c1fc389b55a311",
       "version_major": 2,
       "version_minor": 0
      },
      "text/plain": [
       "HBox(children=(IntProgress(value=0, max=9998900), HTML(value='')))"
      ]
     },
     "metadata": {},
     "output_type": "display_data"
    },
    {
     "data": {
      "application/vnd.jupyter.widget-view+json": {
       "model_id": "74086615a09e407d9dda84b86e14eeba",
       "version_major": 2,
       "version_minor": 0
      },
      "text/plain": [
       "HBox(children=(IntProgress(value=0, max=9998900), HTML(value='')))"
      ]
     },
     "metadata": {},
     "output_type": "display_data"
    },
    {
     "data": {
      "application/vnd.jupyter.widget-view+json": {
       "model_id": "a973ca9c9fcc49b691a535c7fe32a93e",
       "version_major": 2,
       "version_minor": 0
      },
      "text/plain": [
       "HBox(children=(IntProgress(value=0, max=9998900), HTML(value='')))"
      ]
     },
     "metadata": {},
     "output_type": "display_data"
    },
    {
     "data": {
      "application/vnd.jupyter.widget-view+json": {
       "model_id": "00128a5533774b65aac855c84256423c",
       "version_major": 2,
       "version_minor": 0
      },
      "text/plain": [
       "HBox(children=(IntProgress(value=0, max=9998900), HTML(value='')))"
      ]
     },
     "metadata": {},
     "output_type": "display_data"
    },
    {
     "data": {
      "application/vnd.jupyter.widget-view+json": {
       "model_id": "f021ea78319b40fd8b0519329a06ad86",
       "version_major": 2,
       "version_minor": 0
      },
      "text/plain": [
       "HBox(children=(IntProgress(value=0, max=9998900), HTML(value='')))"
      ]
     },
     "metadata": {},
     "output_type": "display_data"
    },
    {
     "data": {
      "application/vnd.jupyter.widget-view+json": {
       "model_id": "6237e3f4d92341c88f6eeff69a3a8ce7",
       "version_major": 2,
       "version_minor": 0
      },
      "text/plain": [
       "HBox(children=(IntProgress(value=0, max=9998900), HTML(value='')))"
      ]
     },
     "metadata": {},
     "output_type": "display_data"
    },
    {
     "data": {
      "application/vnd.jupyter.widget-view+json": {
       "model_id": "da19b4c78916415f89142fa7448784ef",
       "version_major": 2,
       "version_minor": 0
      },
      "text/plain": [
       "HBox(children=(IntProgress(value=0, max=9998900), HTML(value='')))"
      ]
     },
     "metadata": {},
     "output_type": "display_data"
    },
    {
     "data": {
      "application/vnd.jupyter.widget-view+json": {
       "model_id": "3de6264d483244bc84ba5450793fff6e",
       "version_major": 2,
       "version_minor": 0
      },
      "text/plain": [
       "HBox(children=(IntProgress(value=0, max=9998900), HTML(value='')))"
      ]
     },
     "metadata": {},
     "output_type": "display_data"
    },
    {
     "data": {
      "application/vnd.jupyter.widget-view+json": {
       "model_id": "ab58b461d2624c5bbf7f565ae2f1227f",
       "version_major": 2,
       "version_minor": 0
      },
      "text/plain": [
       "HBox(children=(IntProgress(value=0, max=9998900), HTML(value='')))"
      ]
     },
     "metadata": {},
     "output_type": "display_data"
    },
    {
     "data": {
      "application/vnd.jupyter.widget-view+json": {
       "model_id": "9cad394fdec646e7be709c7f89f48ad9",
       "version_major": 2,
       "version_minor": 0
      },
      "text/plain": [
       "HBox(children=(IntProgress(value=0, max=9998900), HTML(value='')))"
      ]
     },
     "metadata": {},
     "output_type": "display_data"
    },
    {
     "data": {
      "application/vnd.jupyter.widget-view+json": {
       "model_id": "093fc9db45214477a21407a9c80815e5",
       "version_major": 2,
       "version_minor": 0
      },
      "text/plain": [
       "HBox(children=(IntProgress(value=0, max=9998900), HTML(value='')))"
      ]
     },
     "metadata": {},
     "output_type": "display_data"
    },
    {
     "data": {
      "application/vnd.jupyter.widget-view+json": {
       "model_id": "919894df2afb4051b4b5560e85f3560a",
       "version_major": 2,
       "version_minor": 0
      },
      "text/plain": [
       "HBox(children=(IntProgress(value=0, max=9998900), HTML(value='')))"
      ]
     },
     "metadata": {},
     "output_type": "display_data"
    },
    {
     "data": {
      "application/vnd.jupyter.widget-view+json": {
       "model_id": "27474d305c09430190e65c796351fdaa",
       "version_major": 2,
       "version_minor": 0
      },
      "text/plain": [
       "HBox(children=(IntProgress(value=0, max=9998900), HTML(value='')))"
      ]
     },
     "metadata": {},
     "output_type": "display_data"
    },
    {
     "data": {
      "application/vnd.jupyter.widget-view+json": {
       "model_id": "8c5c600b89f24497a372ba745cc83e77",
       "version_major": 2,
       "version_minor": 0
      },
      "text/plain": [
       "HBox(children=(IntProgress(value=0, max=9998900), HTML(value='')))"
      ]
     },
     "metadata": {},
     "output_type": "display_data"
    },
    {
     "data": {
      "application/vnd.jupyter.widget-view+json": {
       "model_id": "79ccaf43f725466e9d2757eb44fb8bc6",
       "version_major": 2,
       "version_minor": 0
      },
      "text/plain": [
       "HBox(children=(IntProgress(value=0, max=9998900), HTML(value='')))"
      ]
     },
     "metadata": {},
     "output_type": "display_data"
    },
    {
     "data": {
      "application/vnd.jupyter.widget-view+json": {
       "model_id": "0e9bdd7fa3434d98a90277e4ef2b97c9",
       "version_major": 2,
       "version_minor": 0
      },
      "text/plain": [
       "HBox(children=(IntProgress(value=0, max=9998900), HTML(value='')))"
      ]
     },
     "metadata": {},
     "output_type": "display_data"
    },
    {
     "data": {
      "application/vnd.jupyter.widget-view+json": {
       "model_id": "53971b704fbb4b33ab757927f6a4aa8d",
       "version_major": 2,
       "version_minor": 0
      },
      "text/plain": [
       "HBox(children=(IntProgress(value=0, max=9998900), HTML(value='')))"
      ]
     },
     "metadata": {},
     "output_type": "display_data"
    },
    {
     "data": {
      "application/vnd.jupyter.widget-view+json": {
       "model_id": "a63f689001fa4aa29ebfe6ca9ff5f960",
       "version_major": 2,
       "version_minor": 0
      },
      "text/plain": [
       "HBox(children=(IntProgress(value=0, max=9998900), HTML(value='')))"
      ]
     },
     "metadata": {},
     "output_type": "display_data"
    },
    {
     "data": {
      "application/vnd.jupyter.widget-view+json": {
       "model_id": "f2d1dd866898451f8410cd915000f989",
       "version_major": 2,
       "version_minor": 0
      },
      "text/plain": [
       "HBox(children=(IntProgress(value=0, max=9998900), HTML(value='')))"
      ]
     },
     "metadata": {},
     "output_type": "display_data"
    },
    {
     "data": {
      "application/vnd.jupyter.widget-view+json": {
       "model_id": "cedef65f60b14ed887d439b952a0fb45",
       "version_major": 2,
       "version_minor": 0
      },
      "text/plain": [
       "HBox(children=(IntProgress(value=0, max=9998900), HTML(value='')))"
      ]
     },
     "metadata": {},
     "output_type": "display_data"
    },
    {
     "data": {
      "application/vnd.jupyter.widget-view+json": {
       "model_id": "1d4aa214b4a4457da44a9b04377d4a61",
       "version_major": 2,
       "version_minor": 0
      },
      "text/plain": [
       "HBox(children=(IntProgress(value=0, max=9998900), HTML(value='')))"
      ]
     },
     "metadata": {},
     "output_type": "display_data"
    },
    {
     "data": {
      "application/vnd.jupyter.widget-view+json": {
       "model_id": "2d90ad3665824ef7bc09102afec5aab8",
       "version_major": 2,
       "version_minor": 0
      },
      "text/plain": [
       "HBox(children=(IntProgress(value=0, max=9998900), HTML(value='')))"
      ]
     },
     "metadata": {},
     "output_type": "display_data"
    },
    {
     "data": {
      "application/vnd.jupyter.widget-view+json": {
       "model_id": "ed4b6974a5634c5a99a7af5b1b1b03af",
       "version_major": 2,
       "version_minor": 0
      },
      "text/plain": [
       "HBox(children=(IntProgress(value=0, max=9998900), HTML(value='')))"
      ]
     },
     "metadata": {},
     "output_type": "display_data"
    },
    {
     "data": {
      "application/vnd.jupyter.widget-view+json": {
       "model_id": "2747356d838348169db8e03598d0a61d",
       "version_major": 2,
       "version_minor": 0
      },
      "text/plain": [
       "HBox(children=(IntProgress(value=0, max=9998900), HTML(value='')))"
      ]
     },
     "metadata": {},
     "output_type": "display_data"
    },
    {
     "data": {
      "application/vnd.jupyter.widget-view+json": {
       "model_id": "d8bdfdc2588447448e2e52d95d2ba2c0",
       "version_major": 2,
       "version_minor": 0
      },
      "text/plain": [
       "HBox(children=(IntProgress(value=0, max=9998900), HTML(value='')))"
      ]
     },
     "metadata": {},
     "output_type": "display_data"
    },
    {
     "data": {
      "application/vnd.jupyter.widget-view+json": {
       "model_id": "46ad110538ae40e087c625352387ff50",
       "version_major": 2,
       "version_minor": 0
      },
      "text/plain": [
       "HBox(children=(IntProgress(value=0, max=9998900), HTML(value='')))"
      ]
     },
     "metadata": {},
     "output_type": "display_data"
    },
    {
     "data": {
      "application/vnd.jupyter.widget-view+json": {
       "model_id": "2d106ec8569044aa97d03e98b86b250c",
       "version_major": 2,
       "version_minor": 0
      },
      "text/plain": [
       "HBox(children=(IntProgress(value=0, max=9998900), HTML(value='')))"
      ]
     },
     "metadata": {},
     "output_type": "display_data"
    },
    {
     "data": {
      "application/vnd.jupyter.widget-view+json": {
       "model_id": "da2f00ab9faf432ead69cab3f5bf199e",
       "version_major": 2,
       "version_minor": 0
      },
      "text/plain": [
       "HBox(children=(IntProgress(value=0, max=9998900), HTML(value='')))"
      ]
     },
     "metadata": {},
     "output_type": "display_data"
    },
    {
     "data": {
      "application/vnd.jupyter.widget-view+json": {
       "model_id": "39a89ea43c1c4f91b79d6a64b47b2cbe",
       "version_major": 2,
       "version_minor": 0
      },
      "text/plain": [
       "HBox(children=(IntProgress(value=0, max=9998900), HTML(value='')))"
      ]
     },
     "metadata": {},
     "output_type": "display_data"
    },
    {
     "data": {
      "application/vnd.jupyter.widget-view+json": {
       "model_id": "168ced83ce294030bd79057360da8480",
       "version_major": 2,
       "version_minor": 0
      },
      "text/plain": [
       "HBox(children=(IntProgress(value=0, max=9998900), HTML(value='')))"
      ]
     },
     "metadata": {},
     "output_type": "display_data"
    },
    {
     "data": {
      "application/vnd.jupyter.widget-view+json": {
       "model_id": "72607c468cce47cfa1470cb3c425a1ed",
       "version_major": 2,
       "version_minor": 0
      },
      "text/plain": [
       "HBox(children=(IntProgress(value=0, max=9998900), HTML(value='')))"
      ]
     },
     "metadata": {},
     "output_type": "display_data"
    },
    {
     "data": {
      "application/vnd.jupyter.widget-view+json": {
       "model_id": "2296a1b273984283977e417be346618a",
       "version_major": 2,
       "version_minor": 0
      },
      "text/plain": [
       "HBox(children=(IntProgress(value=0, max=9998900), HTML(value='')))"
      ]
     },
     "metadata": {},
     "output_type": "display_data"
    },
    {
     "data": {
      "application/vnd.jupyter.widget-view+json": {
       "model_id": "9865a5380e9e4dcdb13fac9b2a92bbc2",
       "version_major": 2,
       "version_minor": 0
      },
      "text/plain": [
       "HBox(children=(IntProgress(value=0, max=9998900), HTML(value='')))"
      ]
     },
     "metadata": {},
     "output_type": "display_data"
    },
    {
     "data": {
      "application/vnd.jupyter.widget-view+json": {
       "model_id": "1d7d07241ffa47d191856c70637e7644",
       "version_major": 2,
       "version_minor": 0
      },
      "text/plain": [
       "HBox(children=(IntProgress(value=0, max=9998900), HTML(value='')))"
      ]
     },
     "metadata": {},
     "output_type": "display_data"
    },
    {
     "data": {
      "application/vnd.jupyter.widget-view+json": {
       "model_id": "c3391b323bcb4401afab0b75f1549b04",
       "version_major": 2,
       "version_minor": 0
      },
      "text/plain": [
       "HBox(children=(IntProgress(value=0, max=9998900), HTML(value='')))"
      ]
     },
     "metadata": {},
     "output_type": "display_data"
    },
    {
     "data": {
      "application/vnd.jupyter.widget-view+json": {
       "model_id": "7f37ea71b3e94eddaaa1e605b527d910",
       "version_major": 2,
       "version_minor": 0
      },
      "text/plain": [
       "HBox(children=(IntProgress(value=0, max=9998900), HTML(value='')))"
      ]
     },
     "metadata": {},
     "output_type": "display_data"
    },
    {
     "data": {
      "application/vnd.jupyter.widget-view+json": {
       "model_id": "45afeb9a24264f97a8d0070f633f5679",
       "version_major": 2,
       "version_minor": 0
      },
      "text/plain": [
       "HBox(children=(IntProgress(value=0, max=9998900), HTML(value='')))"
      ]
     },
     "metadata": {},
     "output_type": "display_data"
    },
    {
     "data": {
      "application/vnd.jupyter.widget-view+json": {
       "model_id": "2a997b67ab704fe393bf14a8013d4a94",
       "version_major": 2,
       "version_minor": 0
      },
      "text/plain": [
       "HBox(children=(IntProgress(value=0, max=9998900), HTML(value='')))"
      ]
     },
     "metadata": {},
     "output_type": "display_data"
    },
    {
     "data": {
      "application/vnd.jupyter.widget-view+json": {
       "model_id": "86a3686d7b9f457b88c5ac45d443d644",
       "version_major": 2,
       "version_minor": 0
      },
      "text/plain": [
       "HBox(children=(IntProgress(value=0, max=9998900), HTML(value='')))"
      ]
     },
     "metadata": {},
     "output_type": "display_data"
    },
    {
     "data": {
      "application/vnd.jupyter.widget-view+json": {
       "model_id": "7aec4e3fc62441b3903c82078eefacac",
       "version_major": 2,
       "version_minor": 0
      },
      "text/plain": [
       "HBox(children=(IntProgress(value=0, max=9998900), HTML(value='')))"
      ]
     },
     "metadata": {},
     "output_type": "display_data"
    },
    {
     "data": {
      "application/vnd.jupyter.widget-view+json": {
       "model_id": "38f13adb3dda41b2b4a883022ca14982",
       "version_major": 2,
       "version_minor": 0
      },
      "text/plain": [
       "HBox(children=(IntProgress(value=0, max=9998900), HTML(value='')))"
      ]
     },
     "metadata": {},
     "output_type": "display_data"
    },
    {
     "data": {
      "application/vnd.jupyter.widget-view+json": {
       "model_id": "23c90539fe354cf39ad1a4b3ddaccbba",
       "version_major": 2,
       "version_minor": 0
      },
      "text/plain": [
       "HBox(children=(IntProgress(value=0, max=9998900), HTML(value='')))"
      ]
     },
     "metadata": {},
     "output_type": "display_data"
    },
    {
     "data": {
      "application/vnd.jupyter.widget-view+json": {
       "model_id": "8f479b3a0fda48b2a631886a4b28db66",
       "version_major": 2,
       "version_minor": 0
      },
      "text/plain": [
       "HBox(children=(IntProgress(value=0, max=9998900), HTML(value='')))"
      ]
     },
     "metadata": {},
     "output_type": "display_data"
    },
    {
     "data": {
      "application/vnd.jupyter.widget-view+json": {
       "model_id": "a2e5c5cfd50e48c58a4e15722389504a",
       "version_major": 2,
       "version_minor": 0
      },
      "text/plain": [
       "HBox(children=(IntProgress(value=0, max=9998900), HTML(value='')))"
      ]
     },
     "metadata": {},
     "output_type": "display_data"
    },
    {
     "data": {
      "application/vnd.jupyter.widget-view+json": {
       "model_id": "ca321bfac8c8468aa1d85cefe72e098e",
       "version_major": 2,
       "version_minor": 0
      },
      "text/plain": [
       "HBox(children=(IntProgress(value=0, max=9998900), HTML(value='')))"
      ]
     },
     "metadata": {},
     "output_type": "display_data"
    },
    {
     "data": {
      "application/vnd.jupyter.widget-view+json": {
       "model_id": "f595c364fc394586855b2ac9af1a25ba",
       "version_major": 2,
       "version_minor": 0
      },
      "text/plain": [
       "HBox(children=(IntProgress(value=0, max=9998900), HTML(value='')))"
      ]
     },
     "metadata": {},
     "output_type": "display_data"
    },
    {
     "data": {
      "application/vnd.jupyter.widget-view+json": {
       "model_id": "4fba387016f548b1b92a95d99927ef39",
       "version_major": 2,
       "version_minor": 0
      },
      "text/plain": [
       "HBox(children=(IntProgress(value=0, max=9998900), HTML(value='')))"
      ]
     },
     "metadata": {},
     "output_type": "display_data"
    },
    {
     "data": {
      "application/vnd.jupyter.widget-view+json": {
       "model_id": "4d0ffd42bfbf4e629c157ce9b3213039",
       "version_major": 2,
       "version_minor": 0
      },
      "text/plain": [
       "HBox(children=(IntProgress(value=0, max=9998900), HTML(value='')))"
      ]
     },
     "metadata": {},
     "output_type": "display_data"
    },
    {
     "data": {
      "application/vnd.jupyter.widget-view+json": {
       "model_id": "d92bf03ad24c483fba42ef06f3ce4dff",
       "version_major": 2,
       "version_minor": 0
      },
      "text/plain": [
       "HBox(children=(IntProgress(value=0, max=9998900), HTML(value='')))"
      ]
     },
     "metadata": {},
     "output_type": "display_data"
    },
    {
     "data": {
      "application/vnd.jupyter.widget-view+json": {
       "model_id": "398a3684cb324f2088027e330734fc99",
       "version_major": 2,
       "version_minor": 0
      },
      "text/plain": [
       "HBox(children=(IntProgress(value=0, max=9998900), HTML(value='')))"
      ]
     },
     "metadata": {},
     "output_type": "display_data"
    },
    {
     "data": {
      "application/vnd.jupyter.widget-view+json": {
       "model_id": "cbd983341ea8488b8cb3f2128f17dc7f",
       "version_major": 2,
       "version_minor": 0
      },
      "text/plain": [
       "HBox(children=(IntProgress(value=0, max=9998900), HTML(value='')))"
      ]
     },
     "metadata": {},
     "output_type": "display_data"
    },
    {
     "data": {
      "application/vnd.jupyter.widget-view+json": {
       "model_id": "cf1d84fdb27f461cbe809aff63758adb",
       "version_major": 2,
       "version_minor": 0
      },
      "text/plain": [
       "HBox(children=(IntProgress(value=0, max=9998900), HTML(value='')))"
      ]
     },
     "metadata": {},
     "output_type": "display_data"
    },
    {
     "data": {
      "application/vnd.jupyter.widget-view+json": {
       "model_id": "0fdd67c6af104675b631e49dafcd0857",
       "version_major": 2,
       "version_minor": 0
      },
      "text/plain": [
       "HBox(children=(IntProgress(value=0, max=9998900), HTML(value='')))"
      ]
     },
     "metadata": {},
     "output_type": "display_data"
    },
    {
     "data": {
      "application/vnd.jupyter.widget-view+json": {
       "model_id": "e61e74a2ec71447fb0156f40ab4b2fa7",
       "version_major": 2,
       "version_minor": 0
      },
      "text/plain": [
       "HBox(children=(IntProgress(value=0, max=9998900), HTML(value='')))"
      ]
     },
     "metadata": {},
     "output_type": "display_data"
    },
    {
     "data": {
      "application/vnd.jupyter.widget-view+json": {
       "model_id": "93d50c2cbae640ad908f15db81b7e19c",
       "version_major": 2,
       "version_minor": 0
      },
      "text/plain": [
       "HBox(children=(IntProgress(value=0, max=9998900), HTML(value='')))"
      ]
     },
     "metadata": {},
     "output_type": "display_data"
    },
    {
     "data": {
      "application/vnd.jupyter.widget-view+json": {
       "model_id": "de47f3238edc4d6eac5d3de83529a914",
       "version_major": 2,
       "version_minor": 0
      },
      "text/plain": [
       "HBox(children=(IntProgress(value=0, max=9998900), HTML(value='')))"
      ]
     },
     "metadata": {},
     "output_type": "display_data"
    },
    {
     "data": {
      "application/vnd.jupyter.widget-view+json": {
       "model_id": "108112b3e9374230acf749d09e4b47b3",
       "version_major": 2,
       "version_minor": 0
      },
      "text/plain": [
       "HBox(children=(IntProgress(value=0, max=9998900), HTML(value='')))"
      ]
     },
     "metadata": {},
     "output_type": "display_data"
    },
    {
     "data": {
      "application/vnd.jupyter.widget-view+json": {
       "model_id": "42486da7e18a40418a60cb66bd80e696",
       "version_major": 2,
       "version_minor": 0
      },
      "text/plain": [
       "HBox(children=(IntProgress(value=0, max=9998900), HTML(value='')))"
      ]
     },
     "metadata": {},
     "output_type": "display_data"
    },
    {
     "data": {
      "application/vnd.jupyter.widget-view+json": {
       "model_id": "5b3718741d2e45a09424cee8367f6074",
       "version_major": 2,
       "version_minor": 0
      },
      "text/plain": [
       "HBox(children=(IntProgress(value=0, max=9998900), HTML(value='')))"
      ]
     },
     "metadata": {},
     "output_type": "display_data"
    },
    {
     "data": {
      "application/vnd.jupyter.widget-view+json": {
       "model_id": "02bc6863384745b18b1e90a7b8328f1f",
       "version_major": 2,
       "version_minor": 0
      },
      "text/plain": [
       "HBox(children=(IntProgress(value=0, max=9998900), HTML(value='')))"
      ]
     },
     "metadata": {},
     "output_type": "display_data"
    },
    {
     "data": {
      "application/vnd.jupyter.widget-view+json": {
       "model_id": "66964a778d8b4cf79680b7a5492cd682",
       "version_major": 2,
       "version_minor": 0
      },
      "text/plain": [
       "HBox(children=(IntProgress(value=0, max=9998900), HTML(value='')))"
      ]
     },
     "metadata": {},
     "output_type": "display_data"
    },
    {
     "data": {
      "application/vnd.jupyter.widget-view+json": {
       "model_id": "865d429c68fb45c39654654ef8cfa7f8",
       "version_major": 2,
       "version_minor": 0
      },
      "text/plain": [
       "HBox(children=(IntProgress(value=0, max=9998900), HTML(value='')))"
      ]
     },
     "metadata": {},
     "output_type": "display_data"
    },
    {
     "data": {
      "application/vnd.jupyter.widget-view+json": {
       "model_id": "13505fb336314873b157a8a900b6f73f",
       "version_major": 2,
       "version_minor": 0
      },
      "text/plain": [
       "HBox(children=(IntProgress(value=0, max=9998900), HTML(value='')))"
      ]
     },
     "metadata": {},
     "output_type": "display_data"
    },
    {
     "data": {
      "application/vnd.jupyter.widget-view+json": {
       "model_id": "edce66fd6b224ce89d3c59d6926c2ed3",
       "version_major": 2,
       "version_minor": 0
      },
      "text/plain": [
       "HBox(children=(IntProgress(value=0, max=9998900), HTML(value='')))"
      ]
     },
     "metadata": {},
     "output_type": "display_data"
    },
    {
     "data": {
      "application/vnd.jupyter.widget-view+json": {
       "model_id": "bfa39bf1f4b24c4782cfc9d78a57fdbb",
       "version_major": 2,
       "version_minor": 0
      },
      "text/plain": [
       "HBox(children=(IntProgress(value=0, max=9998900), HTML(value='')))"
      ]
     },
     "metadata": {},
     "output_type": "display_data"
    },
    {
     "data": {
      "application/vnd.jupyter.widget-view+json": {
       "model_id": "3e85543b6cd640bd8dd732ad3aa3c541",
       "version_major": 2,
       "version_minor": 0
      },
      "text/plain": [
       "HBox(children=(IntProgress(value=0, max=9998900), HTML(value='')))"
      ]
     },
     "metadata": {},
     "output_type": "display_data"
    },
    {
     "data": {
      "application/vnd.jupyter.widget-view+json": {
       "model_id": "690feeccb13e4ea98c1511dec7804650",
       "version_major": 2,
       "version_minor": 0
      },
      "text/plain": [
       "HBox(children=(IntProgress(value=0, max=9998900), HTML(value='')))"
      ]
     },
     "metadata": {},
     "output_type": "display_data"
    },
    {
     "data": {
      "application/vnd.jupyter.widget-view+json": {
       "model_id": "4248afa4cbb045938c8b4e6e6ec1b936",
       "version_major": 2,
       "version_minor": 0
      },
      "text/plain": [
       "HBox(children=(IntProgress(value=0, max=9998900), HTML(value='')))"
      ]
     },
     "metadata": {},
     "output_type": "display_data"
    },
    {
     "data": {
      "application/vnd.jupyter.widget-view+json": {
       "model_id": "be38e5ccc6ab45ae8728ea44d0d0cb24",
       "version_major": 2,
       "version_minor": 0
      },
      "text/plain": [
       "HBox(children=(IntProgress(value=0, max=9998900), HTML(value='')))"
      ]
     },
     "metadata": {},
     "output_type": "display_data"
    },
    {
     "data": {
      "application/vnd.jupyter.widget-view+json": {
       "model_id": "9c00e25d903c4036b3128e8f96b61b03",
       "version_major": 2,
       "version_minor": 0
      },
      "text/plain": [
       "HBox(children=(IntProgress(value=0, max=9998900), HTML(value='')))"
      ]
     },
     "metadata": {},
     "output_type": "display_data"
    },
    {
     "data": {
      "application/vnd.jupyter.widget-view+json": {
       "model_id": "e13ec294675c4a00b8cebacf419e7508",
       "version_major": 2,
       "version_minor": 0
      },
      "text/plain": [
       "HBox(children=(IntProgress(value=0, max=9998900), HTML(value='')))"
      ]
     },
     "metadata": {},
     "output_type": "display_data"
    },
    {
     "data": {
      "application/vnd.jupyter.widget-view+json": {
       "model_id": "6a6e384d859245f7886c0cf63b1a604b",
       "version_major": 2,
       "version_minor": 0
      },
      "text/plain": [
       "HBox(children=(IntProgress(value=0, max=9998900), HTML(value='')))"
      ]
     },
     "metadata": {},
     "output_type": "display_data"
    },
    {
     "data": {
      "application/vnd.jupyter.widget-view+json": {
       "model_id": "92d4d6846ffd40a998dbaf5634b38188",
       "version_major": 2,
       "version_minor": 0
      },
      "text/plain": [
       "HBox(children=(IntProgress(value=0, max=9998900), HTML(value='')))"
      ]
     },
     "metadata": {},
     "output_type": "display_data"
    },
    {
     "name": "stdout",
     "output_type": "stream",
     "text": [
      "13425.659036159515\n"
     ]
    }
   ],
   "source": [
    "start = time.time()\n",
    "x_val_knn_gt = get_true_KNN(x_trn, x_val2, 1)\n",
    "val_end1 = time.time() - start\n",
    "print(val_end1)"
   ]
  },
  {
   "cell_type": "code",
   "execution_count": 78,
   "metadata": {},
   "outputs": [
    {
     "data": {
      "application/vnd.jupyter.widget-view+json": {
       "model_id": "c03063a8fb8d4e8eaa991cb267eb1b50",
       "version_major": 2,
       "version_minor": 0
      },
      "text/plain": [
       "HBox(children=(IntProgress(value=0), HTML(value='')))"
      ]
     },
     "metadata": {},
     "output_type": "display_data"
    },
    {
     "data": {
      "application/vnd.jupyter.widget-view+json": {
       "model_id": "c9689af225f846b486caa32f047eef8d",
       "version_major": 2,
       "version_minor": 0
      },
      "text/plain": [
       "HBox(children=(IntProgress(value=0, max=9998900), HTML(value='')))"
      ]
     },
     "metadata": {},
     "output_type": "display_data"
    },
    {
     "data": {
      "application/vnd.jupyter.widget-view+json": {
       "model_id": "7d9c39230a6e418182e6c549d60c51f0",
       "version_major": 2,
       "version_minor": 0
      },
      "text/plain": [
       "HBox(children=(IntProgress(value=0, max=9998900), HTML(value='')))"
      ]
     },
     "metadata": {},
     "output_type": "display_data"
    },
    {
     "data": {
      "application/vnd.jupyter.widget-view+json": {
       "model_id": "7cb3f39042b344ac815471a6782546c7",
       "version_major": 2,
       "version_minor": 0
      },
      "text/plain": [
       "HBox(children=(IntProgress(value=0, max=9998900), HTML(value='')))"
      ]
     },
     "metadata": {},
     "output_type": "display_data"
    },
    {
     "data": {
      "application/vnd.jupyter.widget-view+json": {
       "model_id": "f93893cb6a92424abcee55b98b506ad2",
       "version_major": 2,
       "version_minor": 0
      },
      "text/plain": [
       "HBox(children=(IntProgress(value=0, max=9998900), HTML(value='')))"
      ]
     },
     "metadata": {},
     "output_type": "display_data"
    },
    {
     "data": {
      "application/vnd.jupyter.widget-view+json": {
       "model_id": "329fb9c257634b2f95c99f86b31e7ddf",
       "version_major": 2,
       "version_minor": 0
      },
      "text/plain": [
       "HBox(children=(IntProgress(value=0, max=9998900), HTML(value='')))"
      ]
     },
     "metadata": {},
     "output_type": "display_data"
    },
    {
     "data": {
      "application/vnd.jupyter.widget-view+json": {
       "model_id": "a286601eb25f4db2b5ed659b35fd7c3c",
       "version_major": 2,
       "version_minor": 0
      },
      "text/plain": [
       "HBox(children=(IntProgress(value=0, max=9998900), HTML(value='')))"
      ]
     },
     "metadata": {},
     "output_type": "display_data"
    },
    {
     "data": {
      "application/vnd.jupyter.widget-view+json": {
       "model_id": "4dc1527f5ed2497098e4fa5c9c03dce1",
       "version_major": 2,
       "version_minor": 0
      },
      "text/plain": [
       "HBox(children=(IntProgress(value=0, max=9998900), HTML(value='')))"
      ]
     },
     "metadata": {},
     "output_type": "display_data"
    },
    {
     "data": {
      "application/vnd.jupyter.widget-view+json": {
       "model_id": "c660d2ae42254b769df5674a723c2790",
       "version_major": 2,
       "version_minor": 0
      },
      "text/plain": [
       "HBox(children=(IntProgress(value=0, max=9998900), HTML(value='')))"
      ]
     },
     "metadata": {},
     "output_type": "display_data"
    },
    {
     "data": {
      "application/vnd.jupyter.widget-view+json": {
       "model_id": "7f75cff2ddf44935adb063a30be6faed",
       "version_major": 2,
       "version_minor": 0
      },
      "text/plain": [
       "HBox(children=(IntProgress(value=0, max=9998900), HTML(value='')))"
      ]
     },
     "metadata": {},
     "output_type": "display_data"
    },
    {
     "data": {
      "application/vnd.jupyter.widget-view+json": {
       "model_id": "315fcb32a7654b9ca0b82baa8fb5518e",
       "version_major": 2,
       "version_minor": 0
      },
      "text/plain": [
       "HBox(children=(IntProgress(value=0, max=9998900), HTML(value='')))"
      ]
     },
     "metadata": {},
     "output_type": "display_data"
    },
    {
     "data": {
      "application/vnd.jupyter.widget-view+json": {
       "model_id": "7c23c18c6a2545dbbe310db6e89dcfe0",
       "version_major": 2,
       "version_minor": 0
      },
      "text/plain": [
       "HBox(children=(IntProgress(value=0, max=9998900), HTML(value='')))"
      ]
     },
     "metadata": {},
     "output_type": "display_data"
    },
    {
     "data": {
      "application/vnd.jupyter.widget-view+json": {
       "model_id": "7aa77a2a34fb42e9860a62cefab835a5",
       "version_major": 2,
       "version_minor": 0
      },
      "text/plain": [
       "HBox(children=(IntProgress(value=0, max=9998900), HTML(value='')))"
      ]
     },
     "metadata": {},
     "output_type": "display_data"
    },
    {
     "data": {
      "application/vnd.jupyter.widget-view+json": {
       "model_id": "e0b25b825de7400883e1ae1f61e3bb85",
       "version_major": 2,
       "version_minor": 0
      },
      "text/plain": [
       "HBox(children=(IntProgress(value=0, max=9998900), HTML(value='')))"
      ]
     },
     "metadata": {},
     "output_type": "display_data"
    },
    {
     "data": {
      "application/vnd.jupyter.widget-view+json": {
       "model_id": "81ef4710660b48289558a8b7fb6e705e",
       "version_major": 2,
       "version_minor": 0
      },
      "text/plain": [
       "HBox(children=(IntProgress(value=0, max=9998900), HTML(value='')))"
      ]
     },
     "metadata": {},
     "output_type": "display_data"
    },
    {
     "data": {
      "application/vnd.jupyter.widget-view+json": {
       "model_id": "85d27284014547ffbef788160a542edb",
       "version_major": 2,
       "version_minor": 0
      },
      "text/plain": [
       "HBox(children=(IntProgress(value=0, max=9998900), HTML(value='')))"
      ]
     },
     "metadata": {},
     "output_type": "display_data"
    },
    {
     "data": {
      "application/vnd.jupyter.widget-view+json": {
       "model_id": "6265f92d0a0c4dff97ccb06e0fc46f12",
       "version_major": 2,
       "version_minor": 0
      },
      "text/plain": [
       "HBox(children=(IntProgress(value=0, max=9998900), HTML(value='')))"
      ]
     },
     "metadata": {},
     "output_type": "display_data"
    },
    {
     "data": {
      "application/vnd.jupyter.widget-view+json": {
       "model_id": "2c007be2919b4103aae32ddc8d3d185c",
       "version_major": 2,
       "version_minor": 0
      },
      "text/plain": [
       "HBox(children=(IntProgress(value=0, max=9998900), HTML(value='')))"
      ]
     },
     "metadata": {},
     "output_type": "display_data"
    },
    {
     "data": {
      "application/vnd.jupyter.widget-view+json": {
       "model_id": "2a82fffba7fe410eb0602a8bf37b9002",
       "version_major": 2,
       "version_minor": 0
      },
      "text/plain": [
       "HBox(children=(IntProgress(value=0, max=9998900), HTML(value='')))"
      ]
     },
     "metadata": {},
     "output_type": "display_data"
    },
    {
     "data": {
      "application/vnd.jupyter.widget-view+json": {
       "model_id": "25bd6bf0efc74781a9b54f3bc32148bc",
       "version_major": 2,
       "version_minor": 0
      },
      "text/plain": [
       "HBox(children=(IntProgress(value=0, max=9998900), HTML(value='')))"
      ]
     },
     "metadata": {},
     "output_type": "display_data"
    },
    {
     "data": {
      "application/vnd.jupyter.widget-view+json": {
       "model_id": "6caee06712d84828829e6baf3c63ac54",
       "version_major": 2,
       "version_minor": 0
      },
      "text/plain": [
       "HBox(children=(IntProgress(value=0, max=9998900), HTML(value='')))"
      ]
     },
     "metadata": {},
     "output_type": "display_data"
    },
    {
     "data": {
      "application/vnd.jupyter.widget-view+json": {
       "model_id": "101b901030e346e2ae0d627af77fca60",
       "version_major": 2,
       "version_minor": 0
      },
      "text/plain": [
       "HBox(children=(IntProgress(value=0, max=9998900), HTML(value='')))"
      ]
     },
     "metadata": {},
     "output_type": "display_data"
    },
    {
     "data": {
      "application/vnd.jupyter.widget-view+json": {
       "model_id": "5121c1b3e7714c988bce091fda73e640",
       "version_major": 2,
       "version_minor": 0
      },
      "text/plain": [
       "HBox(children=(IntProgress(value=0, max=9998900), HTML(value='')))"
      ]
     },
     "metadata": {},
     "output_type": "display_data"
    },
    {
     "data": {
      "application/vnd.jupyter.widget-view+json": {
       "model_id": "00ff0b232e1e486c8af576b9516a3a7e",
       "version_major": 2,
       "version_minor": 0
      },
      "text/plain": [
       "HBox(children=(IntProgress(value=0, max=9998900), HTML(value='')))"
      ]
     },
     "metadata": {},
     "output_type": "display_data"
    },
    {
     "data": {
      "application/vnd.jupyter.widget-view+json": {
       "model_id": "40233be6e75b4e7b9ed6a5ef2d235a13",
       "version_major": 2,
       "version_minor": 0
      },
      "text/plain": [
       "HBox(children=(IntProgress(value=0, max=9998900), HTML(value='')))"
      ]
     },
     "metadata": {},
     "output_type": "display_data"
    },
    {
     "data": {
      "application/vnd.jupyter.widget-view+json": {
       "model_id": "f44b6b5f358948638b076c037b5c05a2",
       "version_major": 2,
       "version_minor": 0
      },
      "text/plain": [
       "HBox(children=(IntProgress(value=0, max=9998900), HTML(value='')))"
      ]
     },
     "metadata": {},
     "output_type": "display_data"
    },
    {
     "data": {
      "application/vnd.jupyter.widget-view+json": {
       "model_id": "6b7d04e698ab4d60b1af104f2df10373",
       "version_major": 2,
       "version_minor": 0
      },
      "text/plain": [
       "HBox(children=(IntProgress(value=0, max=9998900), HTML(value='')))"
      ]
     },
     "metadata": {},
     "output_type": "display_data"
    },
    {
     "data": {
      "application/vnd.jupyter.widget-view+json": {
       "model_id": "e51a13beb25e4afba835dbc35557d5b2",
       "version_major": 2,
       "version_minor": 0
      },
      "text/plain": [
       "HBox(children=(IntProgress(value=0, max=9998900), HTML(value='')))"
      ]
     },
     "metadata": {},
     "output_type": "display_data"
    },
    {
     "data": {
      "application/vnd.jupyter.widget-view+json": {
       "model_id": "840d84d7f5914c63808bfc34daf22de7",
       "version_major": 2,
       "version_minor": 0
      },
      "text/plain": [
       "HBox(children=(IntProgress(value=0, max=9998900), HTML(value='')))"
      ]
     },
     "metadata": {},
     "output_type": "display_data"
    },
    {
     "data": {
      "application/vnd.jupyter.widget-view+json": {
       "model_id": "a81be2cd4b064038a416f5f8cd1c955e",
       "version_major": 2,
       "version_minor": 0
      },
      "text/plain": [
       "HBox(children=(IntProgress(value=0, max=9998900), HTML(value='')))"
      ]
     },
     "metadata": {},
     "output_type": "display_data"
    },
    {
     "data": {
      "application/vnd.jupyter.widget-view+json": {
       "model_id": "1221cd902adc4f5ca97856dbfdd9ec91",
       "version_major": 2,
       "version_minor": 0
      },
      "text/plain": [
       "HBox(children=(IntProgress(value=0, max=9998900), HTML(value='')))"
      ]
     },
     "metadata": {},
     "output_type": "display_data"
    },
    {
     "data": {
      "application/vnd.jupyter.widget-view+json": {
       "model_id": "5ea1ed84ec3d48b8a096ea91c18f5e8c",
       "version_major": 2,
       "version_minor": 0
      },
      "text/plain": [
       "HBox(children=(IntProgress(value=0, max=9998900), HTML(value='')))"
      ]
     },
     "metadata": {},
     "output_type": "display_data"
    },
    {
     "data": {
      "application/vnd.jupyter.widget-view+json": {
       "model_id": "e2458cf446ca49deb58040ed27061b42",
       "version_major": 2,
       "version_minor": 0
      },
      "text/plain": [
       "HBox(children=(IntProgress(value=0, max=9998900), HTML(value='')))"
      ]
     },
     "metadata": {},
     "output_type": "display_data"
    },
    {
     "data": {
      "application/vnd.jupyter.widget-view+json": {
       "model_id": "88e221e8793b41c281f3a42b081fc7fe",
       "version_major": 2,
       "version_minor": 0
      },
      "text/plain": [
       "HBox(children=(IntProgress(value=0, max=9998900), HTML(value='')))"
      ]
     },
     "metadata": {},
     "output_type": "display_data"
    },
    {
     "data": {
      "application/vnd.jupyter.widget-view+json": {
       "model_id": "dbc1c8932de84d0faa79fc7792d609b2",
       "version_major": 2,
       "version_minor": 0
      },
      "text/plain": [
       "HBox(children=(IntProgress(value=0, max=9998900), HTML(value='')))"
      ]
     },
     "metadata": {},
     "output_type": "display_data"
    },
    {
     "data": {
      "application/vnd.jupyter.widget-view+json": {
       "model_id": "fc61371e22324aacbbecf8b58a10ccea",
       "version_major": 2,
       "version_minor": 0
      },
      "text/plain": [
       "HBox(children=(IntProgress(value=0, max=9998900), HTML(value='')))"
      ]
     },
     "metadata": {},
     "output_type": "display_data"
    },
    {
     "data": {
      "application/vnd.jupyter.widget-view+json": {
       "model_id": "ce3c596be26f430590721fa5a032b9c7",
       "version_major": 2,
       "version_minor": 0
      },
      "text/plain": [
       "HBox(children=(IntProgress(value=0, max=9998900), HTML(value='')))"
      ]
     },
     "metadata": {},
     "output_type": "display_data"
    },
    {
     "data": {
      "application/vnd.jupyter.widget-view+json": {
       "model_id": "5685e89b8906427fb1867b4968004eac",
       "version_major": 2,
       "version_minor": 0
      },
      "text/plain": [
       "HBox(children=(IntProgress(value=0, max=9998900), HTML(value='')))"
      ]
     },
     "metadata": {},
     "output_type": "display_data"
    },
    {
     "data": {
      "application/vnd.jupyter.widget-view+json": {
       "model_id": "6053b9d04e994a249ddaae10be01cc05",
       "version_major": 2,
       "version_minor": 0
      },
      "text/plain": [
       "HBox(children=(IntProgress(value=0, max=9998900), HTML(value='')))"
      ]
     },
     "metadata": {},
     "output_type": "display_data"
    },
    {
     "data": {
      "application/vnd.jupyter.widget-view+json": {
       "model_id": "2ea53eebdefd4ed99ff958464593a106",
       "version_major": 2,
       "version_minor": 0
      },
      "text/plain": [
       "HBox(children=(IntProgress(value=0, max=9998900), HTML(value='')))"
      ]
     },
     "metadata": {},
     "output_type": "display_data"
    },
    {
     "data": {
      "application/vnd.jupyter.widget-view+json": {
       "model_id": "4b3cc3c1adb54de6b7f22a6c8d9a1060",
       "version_major": 2,
       "version_minor": 0
      },
      "text/plain": [
       "HBox(children=(IntProgress(value=0, max=9998900), HTML(value='')))"
      ]
     },
     "metadata": {},
     "output_type": "display_data"
    },
    {
     "data": {
      "application/vnd.jupyter.widget-view+json": {
       "model_id": "06c2b65d1454417894067dd0927e43c2",
       "version_major": 2,
       "version_minor": 0
      },
      "text/plain": [
       "HBox(children=(IntProgress(value=0, max=9998900), HTML(value='')))"
      ]
     },
     "metadata": {},
     "output_type": "display_data"
    },
    {
     "data": {
      "application/vnd.jupyter.widget-view+json": {
       "model_id": "ce0394bf00614c24b95bf0e334f8ab5d",
       "version_major": 2,
       "version_minor": 0
      },
      "text/plain": [
       "HBox(children=(IntProgress(value=0, max=9998900), HTML(value='')))"
      ]
     },
     "metadata": {},
     "output_type": "display_data"
    },
    {
     "data": {
      "application/vnd.jupyter.widget-view+json": {
       "model_id": "c19c88870aed4831ba9024fcd94d14e1",
       "version_major": 2,
       "version_minor": 0
      },
      "text/plain": [
       "HBox(children=(IntProgress(value=0, max=9998900), HTML(value='')))"
      ]
     },
     "metadata": {},
     "output_type": "display_data"
    },
    {
     "data": {
      "application/vnd.jupyter.widget-view+json": {
       "model_id": "b1385dd3788445cd8d694cfbcb79170b",
       "version_major": 2,
       "version_minor": 0
      },
      "text/plain": [
       "HBox(children=(IntProgress(value=0, max=9998900), HTML(value='')))"
      ]
     },
     "metadata": {},
     "output_type": "display_data"
    },
    {
     "data": {
      "application/vnd.jupyter.widget-view+json": {
       "model_id": "d4c874d501414569af316481224a5f1d",
       "version_major": 2,
       "version_minor": 0
      },
      "text/plain": [
       "HBox(children=(IntProgress(value=0, max=9998900), HTML(value='')))"
      ]
     },
     "metadata": {},
     "output_type": "display_data"
    },
    {
     "data": {
      "application/vnd.jupyter.widget-view+json": {
       "model_id": "f25de64c47ee4579930712fb5e4e1d8e",
       "version_major": 2,
       "version_minor": 0
      },
      "text/plain": [
       "HBox(children=(IntProgress(value=0, max=9998900), HTML(value='')))"
      ]
     },
     "metadata": {},
     "output_type": "display_data"
    },
    {
     "data": {
      "application/vnd.jupyter.widget-view+json": {
       "model_id": "078983037fac4bb5bc1e796ae15edf35",
       "version_major": 2,
       "version_minor": 0
      },
      "text/plain": [
       "HBox(children=(IntProgress(value=0, max=9998900), HTML(value='')))"
      ]
     },
     "metadata": {},
     "output_type": "display_data"
    },
    {
     "data": {
      "application/vnd.jupyter.widget-view+json": {
       "model_id": "5c4fe5997f3c490584db3a1c6ea64879",
       "version_major": 2,
       "version_minor": 0
      },
      "text/plain": [
       "HBox(children=(IntProgress(value=0, max=9998900), HTML(value='')))"
      ]
     },
     "metadata": {},
     "output_type": "display_data"
    },
    {
     "data": {
      "application/vnd.jupyter.widget-view+json": {
       "model_id": "ad6768addc2d4396abe2ea23ac861616",
       "version_major": 2,
       "version_minor": 0
      },
      "text/plain": [
       "HBox(children=(IntProgress(value=0, max=9998900), HTML(value='')))"
      ]
     },
     "metadata": {},
     "output_type": "display_data"
    },
    {
     "data": {
      "application/vnd.jupyter.widget-view+json": {
       "model_id": "0ff3954b8de44d528ef8b02830dfcac7",
       "version_major": 2,
       "version_minor": 0
      },
      "text/plain": [
       "HBox(children=(IntProgress(value=0, max=9998900), HTML(value='')))"
      ]
     },
     "metadata": {},
     "output_type": "display_data"
    },
    {
     "data": {
      "application/vnd.jupyter.widget-view+json": {
       "model_id": "cd7b959373444ee8b319bebfafa9402b",
       "version_major": 2,
       "version_minor": 0
      },
      "text/plain": [
       "HBox(children=(IntProgress(value=0, max=9998900), HTML(value='')))"
      ]
     },
     "metadata": {},
     "output_type": "display_data"
    },
    {
     "data": {
      "application/vnd.jupyter.widget-view+json": {
       "model_id": "6596c0652f1e4b12bd6f91910706933a",
       "version_major": 2,
       "version_minor": 0
      },
      "text/plain": [
       "HBox(children=(IntProgress(value=0, max=9998900), HTML(value='')))"
      ]
     },
     "metadata": {},
     "output_type": "display_data"
    },
    {
     "data": {
      "application/vnd.jupyter.widget-view+json": {
       "model_id": "a030dbd9d0fb43d7ad44a328cfff18e3",
       "version_major": 2,
       "version_minor": 0
      },
      "text/plain": [
       "HBox(children=(IntProgress(value=0, max=9998900), HTML(value='')))"
      ]
     },
     "metadata": {},
     "output_type": "display_data"
    },
    {
     "data": {
      "application/vnd.jupyter.widget-view+json": {
       "model_id": "c90e17719a39420c9fcd935b93081d05",
       "version_major": 2,
       "version_minor": 0
      },
      "text/plain": [
       "HBox(children=(IntProgress(value=0, max=9998900), HTML(value='')))"
      ]
     },
     "metadata": {},
     "output_type": "display_data"
    },
    {
     "data": {
      "application/vnd.jupyter.widget-view+json": {
       "model_id": "b263dece215b4a24aec6ecf254d3bb1f",
       "version_major": 2,
       "version_minor": 0
      },
      "text/plain": [
       "HBox(children=(IntProgress(value=0, max=9998900), HTML(value='')))"
      ]
     },
     "metadata": {},
     "output_type": "display_data"
    },
    {
     "data": {
      "application/vnd.jupyter.widget-view+json": {
       "model_id": "c26be8deeb874c63b169bef022577cd9",
       "version_major": 2,
       "version_minor": 0
      },
      "text/plain": [
       "HBox(children=(IntProgress(value=0, max=9998900), HTML(value='')))"
      ]
     },
     "metadata": {},
     "output_type": "display_data"
    },
    {
     "data": {
      "application/vnd.jupyter.widget-view+json": {
       "model_id": "27957704f6414ae2874a1f1c0392f70f",
       "version_major": 2,
       "version_minor": 0
      },
      "text/plain": [
       "HBox(children=(IntProgress(value=0, max=9998900), HTML(value='')))"
      ]
     },
     "metadata": {},
     "output_type": "display_data"
    },
    {
     "data": {
      "application/vnd.jupyter.widget-view+json": {
       "model_id": "a089312a07e04eecb52e21020c3600ea",
       "version_major": 2,
       "version_minor": 0
      },
      "text/plain": [
       "HBox(children=(IntProgress(value=0, max=9998900), HTML(value='')))"
      ]
     },
     "metadata": {},
     "output_type": "display_data"
    },
    {
     "data": {
      "application/vnd.jupyter.widget-view+json": {
       "model_id": "19ee4fbb3e804d318253a8463ca13d76",
       "version_major": 2,
       "version_minor": 0
      },
      "text/plain": [
       "HBox(children=(IntProgress(value=0, max=9998900), HTML(value='')))"
      ]
     },
     "metadata": {},
     "output_type": "display_data"
    },
    {
     "data": {
      "application/vnd.jupyter.widget-view+json": {
       "model_id": "21187244848f4d49a14dc322eeaef79b",
       "version_major": 2,
       "version_minor": 0
      },
      "text/plain": [
       "HBox(children=(IntProgress(value=0, max=9998900), HTML(value='')))"
      ]
     },
     "metadata": {},
     "output_type": "display_data"
    },
    {
     "data": {
      "application/vnd.jupyter.widget-view+json": {
       "model_id": "f8a2c94b6a7a4e498c6503f77c74f65c",
       "version_major": 2,
       "version_minor": 0
      },
      "text/plain": [
       "HBox(children=(IntProgress(value=0, max=9998900), HTML(value='')))"
      ]
     },
     "metadata": {},
     "output_type": "display_data"
    },
    {
     "data": {
      "application/vnd.jupyter.widget-view+json": {
       "model_id": "072ae418b8734ffcaabce926877d81f8",
       "version_major": 2,
       "version_minor": 0
      },
      "text/plain": [
       "HBox(children=(IntProgress(value=0, max=9998900), HTML(value='')))"
      ]
     },
     "metadata": {},
     "output_type": "display_data"
    },
    {
     "data": {
      "application/vnd.jupyter.widget-view+json": {
       "model_id": "1c725d8d3588415cbebe913ee2722084",
       "version_major": 2,
       "version_minor": 0
      },
      "text/plain": [
       "HBox(children=(IntProgress(value=0, max=9998900), HTML(value='')))"
      ]
     },
     "metadata": {},
     "output_type": "display_data"
    },
    {
     "data": {
      "application/vnd.jupyter.widget-view+json": {
       "model_id": "b1ebfdb8604d446f99c04aa730412dab",
       "version_major": 2,
       "version_minor": 0
      },
      "text/plain": [
       "HBox(children=(IntProgress(value=0, max=9998900), HTML(value='')))"
      ]
     },
     "metadata": {},
     "output_type": "display_data"
    },
    {
     "data": {
      "application/vnd.jupyter.widget-view+json": {
       "model_id": "cdc987b2c36e4100979ce4c4db9d21e6",
       "version_major": 2,
       "version_minor": 0
      },
      "text/plain": [
       "HBox(children=(IntProgress(value=0, max=9998900), HTML(value='')))"
      ]
     },
     "metadata": {},
     "output_type": "display_data"
    },
    {
     "data": {
      "application/vnd.jupyter.widget-view+json": {
       "model_id": "fea5f9427cbc4bf093e2ec4561c1c19c",
       "version_major": 2,
       "version_minor": 0
      },
      "text/plain": [
       "HBox(children=(IntProgress(value=0, max=9998900), HTML(value='')))"
      ]
     },
     "metadata": {},
     "output_type": "display_data"
    },
    {
     "data": {
      "application/vnd.jupyter.widget-view+json": {
       "model_id": "0f51843c459a4fe0a48d7ee5f8d96d16",
       "version_major": 2,
       "version_minor": 0
      },
      "text/plain": [
       "HBox(children=(IntProgress(value=0, max=9998900), HTML(value='')))"
      ]
     },
     "metadata": {},
     "output_type": "display_data"
    },
    {
     "data": {
      "application/vnd.jupyter.widget-view+json": {
       "model_id": "ef88f86663db43308b272fe4466cdec0",
       "version_major": 2,
       "version_minor": 0
      },
      "text/plain": [
       "HBox(children=(IntProgress(value=0, max=9998900), HTML(value='')))"
      ]
     },
     "metadata": {},
     "output_type": "display_data"
    },
    {
     "data": {
      "application/vnd.jupyter.widget-view+json": {
       "model_id": "03543fade4fc44069ae1eafcdfd4351e",
       "version_major": 2,
       "version_minor": 0
      },
      "text/plain": [
       "HBox(children=(IntProgress(value=0, max=9998900), HTML(value='')))"
      ]
     },
     "metadata": {},
     "output_type": "display_data"
    },
    {
     "data": {
      "application/vnd.jupyter.widget-view+json": {
       "model_id": "01c765d48a4a4865a25a2bb59e203390",
       "version_major": 2,
       "version_minor": 0
      },
      "text/plain": [
       "HBox(children=(IntProgress(value=0, max=9998900), HTML(value='')))"
      ]
     },
     "metadata": {},
     "output_type": "display_data"
    },
    {
     "data": {
      "application/vnd.jupyter.widget-view+json": {
       "model_id": "0cf8c74ee77846d9b3e9d75d2fdf7991",
       "version_major": 2,
       "version_minor": 0
      },
      "text/plain": [
       "HBox(children=(IntProgress(value=0, max=9998900), HTML(value='')))"
      ]
     },
     "metadata": {},
     "output_type": "display_data"
    },
    {
     "data": {
      "application/vnd.jupyter.widget-view+json": {
       "model_id": "560d5ef076334ebca37dd2cd000ca63a",
       "version_major": 2,
       "version_minor": 0
      },
      "text/plain": [
       "HBox(children=(IntProgress(value=0, max=9998900), HTML(value='')))"
      ]
     },
     "metadata": {},
     "output_type": "display_data"
    },
    {
     "data": {
      "application/vnd.jupyter.widget-view+json": {
       "model_id": "1d3696aadc1544f18a01208af5deca91",
       "version_major": 2,
       "version_minor": 0
      },
      "text/plain": [
       "HBox(children=(IntProgress(value=0, max=9998900), HTML(value='')))"
      ]
     },
     "metadata": {},
     "output_type": "display_data"
    },
    {
     "data": {
      "application/vnd.jupyter.widget-view+json": {
       "model_id": "36384ca635b94c0482c0359f7508967a",
       "version_major": 2,
       "version_minor": 0
      },
      "text/plain": [
       "HBox(children=(IntProgress(value=0, max=9998900), HTML(value='')))"
      ]
     },
     "metadata": {},
     "output_type": "display_data"
    },
    {
     "data": {
      "application/vnd.jupyter.widget-view+json": {
       "model_id": "c8c58e48c0864ba583bc8cf57f70e3a0",
       "version_major": 2,
       "version_minor": 0
      },
      "text/plain": [
       "HBox(children=(IntProgress(value=0, max=9998900), HTML(value='')))"
      ]
     },
     "metadata": {},
     "output_type": "display_data"
    },
    {
     "data": {
      "application/vnd.jupyter.widget-view+json": {
       "model_id": "56712d712a23423d84d65a2f63f029b5",
       "version_major": 2,
       "version_minor": 0
      },
      "text/plain": [
       "HBox(children=(IntProgress(value=0, max=9998900), HTML(value='')))"
      ]
     },
     "metadata": {},
     "output_type": "display_data"
    },
    {
     "data": {
      "application/vnd.jupyter.widget-view+json": {
       "model_id": "e42a9df253c8493d85e149148512ffec",
       "version_major": 2,
       "version_minor": 0
      },
      "text/plain": [
       "HBox(children=(IntProgress(value=0, max=9998900), HTML(value='')))"
      ]
     },
     "metadata": {},
     "output_type": "display_data"
    },
    {
     "data": {
      "application/vnd.jupyter.widget-view+json": {
       "model_id": "b302f1d8b3d24534805f85b4d970a607",
       "version_major": 2,
       "version_minor": 0
      },
      "text/plain": [
       "HBox(children=(IntProgress(value=0, max=9998900), HTML(value='')))"
      ]
     },
     "metadata": {},
     "output_type": "display_data"
    },
    {
     "data": {
      "application/vnd.jupyter.widget-view+json": {
       "model_id": "02ea1e030c0a4184b04d07265fad357d",
       "version_major": 2,
       "version_minor": 0
      },
      "text/plain": [
       "HBox(children=(IntProgress(value=0, max=9998900), HTML(value='')))"
      ]
     },
     "metadata": {},
     "output_type": "display_data"
    },
    {
     "data": {
      "application/vnd.jupyter.widget-view+json": {
       "model_id": "f72fe82213f8431ca74512360aaeeb83",
       "version_major": 2,
       "version_minor": 0
      },
      "text/plain": [
       "HBox(children=(IntProgress(value=0, max=9998900), HTML(value='')))"
      ]
     },
     "metadata": {},
     "output_type": "display_data"
    },
    {
     "data": {
      "application/vnd.jupyter.widget-view+json": {
       "model_id": "cb22e03c689d47b084485a6829172d45",
       "version_major": 2,
       "version_minor": 0
      },
      "text/plain": [
       "HBox(children=(IntProgress(value=0, max=9998900), HTML(value='')))"
      ]
     },
     "metadata": {},
     "output_type": "display_data"
    },
    {
     "data": {
      "application/vnd.jupyter.widget-view+json": {
       "model_id": "40d1279415104f2595194cbcb94a7365",
       "version_major": 2,
       "version_minor": 0
      },
      "text/plain": [
       "HBox(children=(IntProgress(value=0, max=9998900), HTML(value='')))"
      ]
     },
     "metadata": {},
     "output_type": "display_data"
    },
    {
     "data": {
      "application/vnd.jupyter.widget-view+json": {
       "model_id": "669c43f74d2f4c089b125bf6baafa22f",
       "version_major": 2,
       "version_minor": 0
      },
      "text/plain": [
       "HBox(children=(IntProgress(value=0, max=9998900), HTML(value='')))"
      ]
     },
     "metadata": {},
     "output_type": "display_data"
    },
    {
     "data": {
      "application/vnd.jupyter.widget-view+json": {
       "model_id": "f1da421446c44f09aeed8793b5f2e88c",
       "version_major": 2,
       "version_minor": 0
      },
      "text/plain": [
       "HBox(children=(IntProgress(value=0, max=9998900), HTML(value='')))"
      ]
     },
     "metadata": {},
     "output_type": "display_data"
    },
    {
     "data": {
      "application/vnd.jupyter.widget-view+json": {
       "model_id": "33e0661bfc5444ae94ac45fa4822f332",
       "version_major": 2,
       "version_minor": 0
      },
      "text/plain": [
       "HBox(children=(IntProgress(value=0, max=9998900), HTML(value='')))"
      ]
     },
     "metadata": {},
     "output_type": "display_data"
    },
    {
     "data": {
      "application/vnd.jupyter.widget-view+json": {
       "model_id": "625c20c517494a869822d04f7509105f",
       "version_major": 2,
       "version_minor": 0
      },
      "text/plain": [
       "HBox(children=(IntProgress(value=0, max=9998900), HTML(value='')))"
      ]
     },
     "metadata": {},
     "output_type": "display_data"
    },
    {
     "data": {
      "application/vnd.jupyter.widget-view+json": {
       "model_id": "bf8e59075c264fd6b1ec7d50b87478b5",
       "version_major": 2,
       "version_minor": 0
      },
      "text/plain": [
       "HBox(children=(IntProgress(value=0, max=9998900), HTML(value='')))"
      ]
     },
     "metadata": {},
     "output_type": "display_data"
    },
    {
     "data": {
      "application/vnd.jupyter.widget-view+json": {
       "model_id": "6df8b61ef7a04136bd69b9790db9aedb",
       "version_major": 2,
       "version_minor": 0
      },
      "text/plain": [
       "HBox(children=(IntProgress(value=0, max=9998900), HTML(value='')))"
      ]
     },
     "metadata": {},
     "output_type": "display_data"
    },
    {
     "data": {
      "application/vnd.jupyter.widget-view+json": {
       "model_id": "1063128dc16e41d0801f5b421211b164",
       "version_major": 2,
       "version_minor": 0
      },
      "text/plain": [
       "HBox(children=(IntProgress(value=0, max=9998900), HTML(value='')))"
      ]
     },
     "metadata": {},
     "output_type": "display_data"
    },
    {
     "data": {
      "application/vnd.jupyter.widget-view+json": {
       "model_id": "c3381caff6db4772abb8bfe77150903d",
       "version_major": 2,
       "version_minor": 0
      },
      "text/plain": [
       "HBox(children=(IntProgress(value=0, max=9998900), HTML(value='')))"
      ]
     },
     "metadata": {},
     "output_type": "display_data"
    },
    {
     "data": {
      "application/vnd.jupyter.widget-view+json": {
       "model_id": "7bd19a3b623d4a5fb6964bc19ab67f03",
       "version_major": 2,
       "version_minor": 0
      },
      "text/plain": [
       "HBox(children=(IntProgress(value=0, max=9998900), HTML(value='')))"
      ]
     },
     "metadata": {},
     "output_type": "display_data"
    },
    {
     "data": {
      "application/vnd.jupyter.widget-view+json": {
       "model_id": "8d318d5fae614523863e83cace114a7d",
       "version_major": 2,
       "version_minor": 0
      },
      "text/plain": [
       "HBox(children=(IntProgress(value=0, max=9998900), HTML(value='')))"
      ]
     },
     "metadata": {},
     "output_type": "display_data"
    },
    {
     "data": {
      "application/vnd.jupyter.widget-view+json": {
       "model_id": "c88a5b1f37204bd588099a46832be9cd",
       "version_major": 2,
       "version_minor": 0
      },
      "text/plain": [
       "HBox(children=(IntProgress(value=0, max=9998900), HTML(value='')))"
      ]
     },
     "metadata": {},
     "output_type": "display_data"
    },
    {
     "data": {
      "application/vnd.jupyter.widget-view+json": {
       "model_id": "abf7eef49f0d4668b2b971aa65c70f2e",
       "version_major": 2,
       "version_minor": 0
      },
      "text/plain": [
       "HBox(children=(IntProgress(value=0, max=9998900), HTML(value='')))"
      ]
     },
     "metadata": {},
     "output_type": "display_data"
    },
    {
     "data": {
      "application/vnd.jupyter.widget-view+json": {
       "model_id": "6206f179eb694f6db98214a510d6a594",
       "version_major": 2,
       "version_minor": 0
      },
      "text/plain": [
       "HBox(children=(IntProgress(value=0, max=9998900), HTML(value='')))"
      ]
     },
     "metadata": {},
     "output_type": "display_data"
    },
    {
     "data": {
      "application/vnd.jupyter.widget-view+json": {
       "model_id": "8343f5477e6b412c9c425455a9aac019",
       "version_major": 2,
       "version_minor": 0
      },
      "text/plain": [
       "HBox(children=(IntProgress(value=0, max=9998900), HTML(value='')))"
      ]
     },
     "metadata": {},
     "output_type": "display_data"
    },
    {
     "data": {
      "application/vnd.jupyter.widget-view+json": {
       "model_id": "956215ffeffa48da95246a03e008d42e",
       "version_major": 2,
       "version_minor": 0
      },
      "text/plain": [
       "HBox(children=(IntProgress(value=0, max=9998900), HTML(value='')))"
      ]
     },
     "metadata": {},
     "output_type": "display_data"
    },
    {
     "data": {
      "application/vnd.jupyter.widget-view+json": {
       "model_id": "58ae4d90d7c944d2992af807242f3d28",
       "version_major": 2,
       "version_minor": 0
      },
      "text/plain": [
       "HBox(children=(IntProgress(value=0, max=9998900), HTML(value='')))"
      ]
     },
     "metadata": {},
     "output_type": "display_data"
    },
    {
     "data": {
      "application/vnd.jupyter.widget-view+json": {
       "model_id": "342a022f95fe42cb9fc6315644bb8fc3",
       "version_major": 2,
       "version_minor": 0
      },
      "text/plain": [
       "HBox(children=(IntProgress(value=0, max=9998900), HTML(value='')))"
      ]
     },
     "metadata": {},
     "output_type": "display_data"
    },
    {
     "data": {
      "application/vnd.jupyter.widget-view+json": {
       "model_id": "35161e9f91624ffa831ff58efca15c52",
       "version_major": 2,
       "version_minor": 0
      },
      "text/plain": [
       "HBox(children=(IntProgress(value=0, max=9998900), HTML(value='')))"
      ]
     },
     "metadata": {},
     "output_type": "display_data"
    },
    {
     "name": "stdout",
     "output_type": "stream",
     "text": [
      "13441.89921927452\n"
     ]
    }
   ],
   "source": [
    "start = time.time()\n",
    "x_tst_knn_gt = get_true_KNN(x_trn, x_tst, 1)\n",
    "end1 = time.time() - start\n",
    "print(end1)"
   ]
  },
  {
   "cell_type": "code",
   "execution_count": 13,
   "metadata": {},
   "outputs": [],
   "source": [
    "val_1nn = x_val_knn_gt[:, 0]\n",
    "tst_1nn = x_tst_knn_gt[:, 0]"
   ]
  },
  {
   "cell_type": "code",
   "execution_count": 19,
   "metadata": {},
   "outputs": [],
   "source": [
    "def equal(a, b):\n",
    "    try:\n",
    "        return not set.isdisjoint(a, b)\n",
    "    except KeyError:\n",
    "        return 0\n",
    "    \n",
    "def get_accuracy(y, knn):\n",
    "    acc = 0\n",
    "    for i, idx in enumerate(knn):\n",
    "        acc += int(equal(y[i], y_trn[idx]))\n",
    "    print(acc / len(knn))\n",
    "    return acc / len(knn)"
   ]
  },
  {
   "cell_type": "code",
   "execution_count": 20,
   "metadata": {},
   "outputs": [
    {
     "name": "stdout",
     "output_type": "stream",
     "text": [
      "0.88\n"
     ]
    },
    {
     "data": {
      "text/plain": [
       "0.88"
      ]
     },
     "execution_count": 20,
     "metadata": {},
     "output_type": "execute_result"
    }
   ],
   "source": [
    "get_accuracy(y_val, val_1nn)"
   ]
  },
  {
   "cell_type": "code",
   "execution_count": 21,
   "metadata": {},
   "outputs": [
    {
     "name": "stdout",
     "output_type": "stream",
     "text": [
      "0.9\n"
     ]
    },
    {
     "data": {
      "text/plain": [
       "0.9"
      ]
     },
     "execution_count": 21,
     "metadata": {},
     "output_type": "execute_result"
    }
   ],
   "source": [
    "get_accuracy(y_tst, tst_1nn)"
   ]
  },
  {
   "cell_type": "code",
   "execution_count": 22,
   "metadata": {},
   "outputs": [
    {
     "data": {
      "text/plain": [
       "MultiLabelBinarizer(classes=None, sparse_output=False)"
      ]
     },
     "execution_count": 22,
     "metadata": {},
     "output_type": "execute_result"
    }
   ],
   "source": [
    "from sklearn.preprocessing import MultiLabelBinarizer\n",
    "mlb = MultiLabelBinarizer()\n",
    "mlb.fit([label_set])"
   ]
  },
  {
   "cell_type": "code",
   "execution_count": 11,
   "metadata": {},
   "outputs": [],
   "source": [
    "label_set = set()\n",
    "for i in dataset_y:\n",
    "    label_set |= i"
   ]
  },
  {
   "cell_type": "code",
   "execution_count": 35,
   "metadata": {},
   "outputs": [
    {
     "name": "stderr",
     "output_type": "stream",
     "text": [
      "Using TensorFlow backend.\n"
     ]
    }
   ],
   "source": [
    "import os\n",
    "os.environ[\"CUDA_DEVICE_ORDER\"]=\"PCI_BUS_ID\"   # see issue #152\n",
    "os.environ[\"CUDA_VISIBLE_DEVICES\"]=\"5\"\n",
    "\n",
    "from keras.models import Sequential\n",
    "from keras.layers import Dense, Activation\n",
    "\n",
    "model = Sequential()\n",
    "model.add(Dense(len(label_set), input_dim=4096))\n",
    "model.add(Activation('sigmoid'))\n",
    "\n",
    "model.compile(loss='binary_crossentropy',\n",
    "              optimizer='sgd',\n",
    "              metrics=['accuracy'])"
   ]
  },
  {
   "cell_type": "code",
   "execution_count": null,
   "metadata": {},
   "outputs": [
    {
     "data": {
      "application/vnd.jupyter.widget-view+json": {
       "model_id": "373904bbdf45420bb4fd5ec5eb8e31fc",
       "version_major": 2,
       "version_minor": 0
      },
      "text/plain": [
       "HBox(children=(IntProgress(value=0, max=312466), HTML(value='')))"
      ]
     },
     "metadata": {},
     "output_type": "display_data"
    }
   ],
   "source": [
    "tbar = tqdm(range(0, len(x_trn), 32))\n",
    "for i in tbar:\n",
    "    x_trn_batch = np.array([x_trn[j] for j in range(i, min(i+32, len(x_trn)))])\n",
    "    y_trn_batch = mlb.transform(y_trn[i: min(i+32, len(x_trn))])\n",
    "    msg = model.train_on_batch(x_trn_batch, y_trn_batch)\n",
    "#     tbar.set_description(model.metrics_names[0] + ': ' + str(msg[0]) + '  \\n' + model.metrics_names[1] + ': ' + str(msg[1]))\n",
    "    tbar.set_description(str(msg[0]))"
   ]
  },
  {
   "cell_type": "code",
   "execution_count": 45,
   "metadata": {},
   "outputs": [],
   "source": [
    "y_tst_onehot = mlb.transform(y_tst)"
   ]
  },
  {
   "cell_type": "code",
   "execution_count": 47,
   "metadata": {},
   "outputs": [],
   "source": [
    "y_val_onehot = mlb.transform(y_val)"
   ]
  },
  {
   "cell_type": "code",
   "execution_count": 50,
   "metadata": {},
   "outputs": [],
   "source": [
    "y_tst_output = model.predict(x_tst)"
   ]
  },
  {
   "cell_type": "code",
   "execution_count": 62,
   "metadata": {},
   "outputs": [],
   "source": [
    "y_val_output = model.predict(x_val)"
   ]
  },
  {
   "cell_type": "code",
   "execution_count": 59,
   "metadata": {},
   "outputs": [],
   "source": [
    "def equal(output, ground_truth):\n",
    "    output[output > 0.5] = 1\n",
    "    return np.any(output == ground_truth)"
   ]
  },
  {
   "cell_type": "code",
   "execution_count": 60,
   "metadata": {},
   "outputs": [],
   "source": [
    "def get_accuracy(outputs, truths):\n",
    "    acc = 0\n",
    "    for output, truth in zip(outputs, truths):\n",
    "        acc += int(equal(output, truth))\n",
    "    return acc / len(outputs)"
   ]
  },
  {
   "cell_type": "code",
   "execution_count": 61,
   "metadata": {},
   "outputs": [
    {
     "data": {
      "text/plain": [
       "0.96"
      ]
     },
     "execution_count": 61,
     "metadata": {},
     "output_type": "execute_result"
    }
   ],
   "source": [
    "get_accuracy(y_tst_output, y_tst_onehot)"
   ]
  },
  {
   "cell_type": "code",
   "execution_count": 63,
   "metadata": {},
   "outputs": [
    {
     "data": {
      "text/plain": [
       "0.964"
      ]
     },
     "execution_count": 63,
     "metadata": {},
     "output_type": "execute_result"
    }
   ],
   "source": [
    "get_accuracy(y_val_output, y_val_onehot)"
   ]
  },
  {
   "cell_type": "code",
   "execution_count": 64,
   "metadata": {},
   "outputs": [
    {
     "data": {
      "text/plain": [
       "0.97"
      ]
     },
     "execution_count": 64,
     "metadata": {},
     "output_type": "execute_result"
    }
   ],
   "source": [
    "y_val2_output = model.predict(x_val2)\n",
    "y_val2_onehot = mlb.transform(y_val2)\n",
    "get_accuracy(y_val2_output, y_val2_onehot)"
   ]
  },
  {
   "cell_type": "code",
   "execution_count": 65,
   "metadata": {},
   "outputs": [
    {
     "data": {
      "application/vnd.jupyter.widget-view+json": {
       "model_id": "df17457a969645d49c68fd2490d56282",
       "version_major": 2,
       "version_minor": 0
      },
      "text/plain": [
       "HBox(children=(IntProgress(value=0, max=312466), HTML(value='')))"
      ]
     },
     "metadata": {},
     "output_type": "display_data"
    }
   ],
   "source": [
    "tbar = tqdm(range(0, len(x_trn), 32))\n",
    "for i in tbar:\n",
    "    x_trn_batch = np.array([x_trn[j] for j in range(i, min(i+32, len(x_trn)))])\n",
    "    y_trn_batch = mlb.transform(y_trn[i: min(i+32, len(x_trn))])\n",
    "    msg = model.train_on_batch(x_trn_batch, y_trn_batch)\n",
    "#     tbar.set_description(model.metrics_names[0] + ': ' + str(msg[0]) + '  \\n' + model.metrics_names[1] + ': ' + str(msg[1]))\n",
    "    tbar.set_description(str(msg[0]))"
   ]
  },
  {
   "cell_type": "code",
   "execution_count": 66,
   "metadata": {},
   "outputs": [
    {
     "data": {
      "text/plain": [
       "0.966"
      ]
     },
     "execution_count": 66,
     "metadata": {},
     "output_type": "execute_result"
    }
   ],
   "source": [
    "y_val_output = model.predict(x_val)\n",
    "y_val_onehot = mlb.transform(y_val)\n",
    "get_accuracy(y_val_output, y_val_onehot)"
   ]
  },
  {
   "cell_type": "code",
   "execution_count": 67,
   "metadata": {},
   "outputs": [
    {
     "data": {
      "text/plain": [
       "0.96"
      ]
     },
     "execution_count": 67,
     "metadata": {},
     "output_type": "execute_result"
    }
   ],
   "source": [
    "y_tst_output = model.predict(x_tst)\n",
    "y_tst_onehot = mlb.transform(y_tst)\n",
    "get_accuracy(y_tst_output, y_tst_onehot)"
   ]
  },
  {
   "cell_type": "code",
   "execution_count": 68,
   "metadata": {},
   "outputs": [
    {
     "data": {
      "application/vnd.jupyter.widget-view+json": {
       "model_id": "c2360b13aac3459aaaefd08a6fc0fb6b",
       "version_major": 2,
       "version_minor": 0
      },
      "text/plain": [
       "HBox(children=(IntProgress(value=0, max=312466), HTML(value='')))"
      ]
     },
     "metadata": {},
     "output_type": "display_data"
    }
   ],
   "source": [
    "tbar = tqdm(range(0, len(x_trn), 32))\n",
    "for i in tbar:\n",
    "    x_trn_batch = np.array([x_trn[j] for j in range(i, min(i+32, len(x_trn)))])\n",
    "    y_trn_batch = mlb.transform(y_trn[i: min(i+32, len(x_trn))])\n",
    "    msg = model.train_on_batch(x_trn_batch, y_trn_batch)\n",
    "#     tbar.set_description(model.metrics_names[0] + ': ' + str(msg[0]) + '  \\n' + model.metrics_names[1] + ': ' + str(msg[1]))\n",
    "    tbar.set_description(str(msg[0]))"
   ]
  },
  {
   "cell_type": "code",
   "execution_count": 69,
   "metadata": {},
   "outputs": [
    {
     "data": {
      "text/plain": [
       "0.97"
      ]
     },
     "execution_count": 69,
     "metadata": {},
     "output_type": "execute_result"
    }
   ],
   "source": [
    "y_val_output = model.predict(x_val)\n",
    "y_val_onehot = mlb.transform(y_val)\n",
    "get_accuracy(y_val_output, y_val_onehot)"
   ]
  },
  {
   "cell_type": "code",
   "execution_count": 70,
   "metadata": {},
   "outputs": [
    {
     "data": {
      "text/plain": [
       "0.97"
      ]
     },
     "execution_count": 70,
     "metadata": {},
     "output_type": "execute_result"
    }
   ],
   "source": [
    "y_tst_output = model.predict(x_tst)\n",
    "y_tst_onehot = mlb.transform(y_tst)\n",
    "get_accuracy(y_tst_output, y_tst_onehot)"
   ]
  },
  {
   "cell_type": "code",
   "execution_count": 89,
   "metadata": {},
   "outputs": [],
   "source": [
    "def equal(a, b):\n",
    "    try:\n",
    "        return not set.isdisjoint(a, b)\n",
    "    except KeyError:\n",
    "        return 0\n",
    "    \n",
    "def get_accuracy_multik(y, knn, k=1):\n",
    "    acc = 0\n",
    "    for i, idx in enumerate(y):\n",
    "        correct = False\n",
    "        for j in range(k):\n",
    "            correct |= equal(y[i], y_trn[knn[i][j]])\n",
    "        acc += int(correct)\n",
    "    print(acc / len(knn))\n",
    "    return acc / len(knn)"
   ]
  },
  {
   "cell_type": "code",
   "execution_count": 90,
   "metadata": {},
   "outputs": [
    {
     "name": "stdout",
     "output_type": "stream",
     "text": [
      "0.88\n"
     ]
    },
    {
     "data": {
      "text/plain": [
       "0.88"
      ]
     },
     "execution_count": 90,
     "metadata": {},
     "output_type": "execute_result"
    }
   ],
   "source": [
    "get_accuracy_multik(y_val2, x_val_knn_gt, 1)"
   ]
  },
  {
   "cell_type": "code",
   "execution_count": 91,
   "metadata": {},
   "outputs": [
    {
     "name": "stdout",
     "output_type": "stream",
     "text": [
      "0.94\n"
     ]
    },
    {
     "data": {
      "text/plain": [
       "0.94"
      ]
     },
     "execution_count": 91,
     "metadata": {},
     "output_type": "execute_result"
    }
   ],
   "source": [
    "get_accuracy_multik(y_val2, x_val_knn_gt, 2)"
   ]
  },
  {
   "cell_type": "code",
   "execution_count": 92,
   "metadata": {},
   "outputs": [
    {
     "name": "stdout",
     "output_type": "stream",
     "text": [
      "0.95\n"
     ]
    },
    {
     "data": {
      "text/plain": [
       "0.95"
      ]
     },
     "execution_count": 92,
     "metadata": {},
     "output_type": "execute_result"
    }
   ],
   "source": [
    "get_accuracy_multik(y_val2, x_val_knn_gt, 5)"
   ]
  },
  {
   "cell_type": "code",
   "execution_count": 93,
   "metadata": {},
   "outputs": [
    {
     "name": "stdout",
     "output_type": "stream",
     "text": [
      "0.94\n"
     ]
    },
    {
     "data": {
      "text/plain": [
       "0.94"
      ]
     },
     "execution_count": 93,
     "metadata": {},
     "output_type": "execute_result"
    }
   ],
   "source": [
    "get_accuracy_multik(y_val2, x_val_knn_gt, 3)"
   ]
  },
  {
   "cell_type": "code",
   "execution_count": 94,
   "metadata": {},
   "outputs": [
    {
     "name": "stdout",
     "output_type": "stream",
     "text": [
      "0.97\n"
     ]
    },
    {
     "data": {
      "text/plain": [
       "0.97"
      ]
     },
     "execution_count": 94,
     "metadata": {},
     "output_type": "execute_result"
    }
   ],
   "source": [
    "get_accuracy_multik(y_tst, x_tst_knn_gt, 3)"
   ]
  },
  {
   "cell_type": "code",
   "execution_count": 95,
   "metadata": {},
   "outputs": [
    {
     "name": "stdout",
     "output_type": "stream",
     "text": [
      "0.96\n"
     ]
    },
    {
     "data": {
      "text/plain": [
       "0.96"
      ]
     },
     "execution_count": 95,
     "metadata": {},
     "output_type": "execute_result"
    }
   ],
   "source": [
    "get_accuracy_multik(y_tst, x_tst_knn_gt, 2)"
   ]
  },
  {
   "cell_type": "code",
   "execution_count": 96,
   "metadata": {},
   "outputs": [
    {
     "name": "stdout",
     "output_type": "stream",
     "text": [
      "0.9\n"
     ]
    },
    {
     "data": {
      "text/plain": [
       "0.9"
      ]
     },
     "execution_count": 96,
     "metadata": {},
     "output_type": "execute_result"
    }
   ],
   "source": [
    "get_accuracy_multik(y_tst, x_tst_knn_gt, 1)"
   ]
  },
  {
   "cell_type": "code",
   "execution_count": 97,
   "metadata": {},
   "outputs": [],
   "source": [
    "def equal(a, b):\n",
    "    try:\n",
    "        return not set.isdisjoint(a, b)\n",
    "    except KeyError:\n",
    "        return 0\n",
    "    \n",
    "def compute_single_unweighted_knn_class_shapley(x_trn,y_trn,x_tst_knn_gt,y_tst,K):\n",
    "    N = len(x_trn)\n",
    "    N_tst = len(x_tst_knn_gt)\n",
    "    sp_gt = np.zeros((N_tst,N))\n",
    "    for j in tqdm(range(N_tst)):\n",
    "        sp_gt[j,x_tst_knn_gt[j,-1]] = equal(y_trn[x_tst_knn_gt[j,-1]], y_tst[j])/N\n",
    "        for i in tqdm(np.arange(N-2,-1,-1)):\n",
    "            sp_gt[j,x_tst_knn_gt[j,i]] = sp_gt[j,x_tst_knn_gt[j,i+1]] +\\\n",
    "                           (equal(y_trn[x_tst_knn_gt[j,i]], y_tst[j]) -\n",
    "                            equal(y_trn[x_tst_knn_gt[j,i+1]], y_tst[j]))/K* min([K,i+1])/(i+1)\n",
    "    return sp_gt"
   ]
  },
  {
   "cell_type": "code",
   "execution_count": 98,
   "metadata": {},
   "outputs": [
    {
     "data": {
      "application/vnd.jupyter.widget-view+json": {
       "model_id": "07051b42b46b4c22937952dffb177fd6",
       "version_major": 2,
       "version_minor": 0
      },
      "text/plain": [
       "HBox(children=(IntProgress(value=0), HTML(value='')))"
      ]
     },
     "metadata": {},
     "output_type": "display_data"
    },
    {
     "data": {
      "application/vnd.jupyter.widget-view+json": {
       "model_id": "9eaf95bf148240f48973286250fa065f",
       "version_major": 2,
       "version_minor": 0
      },
      "text/plain": [
       "HBox(children=(IntProgress(value=0, max=9998899), HTML(value='')))"
      ]
     },
     "metadata": {},
     "output_type": "display_data"
    },
    {
     "data": {
      "application/vnd.jupyter.widget-view+json": {
       "model_id": "14aa4e6f4c3c4023b2dfdf0e917eb23a",
       "version_major": 2,
       "version_minor": 0
      },
      "text/plain": [
       "HBox(children=(IntProgress(value=0, max=9998899), HTML(value='')))"
      ]
     },
     "metadata": {},
     "output_type": "display_data"
    },
    {
     "data": {
      "application/vnd.jupyter.widget-view+json": {
       "model_id": "c57b5f8ef2ac4968ad2f46bad5058662",
       "version_major": 2,
       "version_minor": 0
      },
      "text/plain": [
       "HBox(children=(IntProgress(value=0, max=9998899), HTML(value='')))"
      ]
     },
     "metadata": {},
     "output_type": "display_data"
    },
    {
     "data": {
      "application/vnd.jupyter.widget-view+json": {
       "model_id": "ed9d3ab466be474cbd32f78c747cc723",
       "version_major": 2,
       "version_minor": 0
      },
      "text/plain": [
       "HBox(children=(IntProgress(value=0, max=9998899), HTML(value='')))"
      ]
     },
     "metadata": {},
     "output_type": "display_data"
    },
    {
     "data": {
      "application/vnd.jupyter.widget-view+json": {
       "model_id": "8dc7cd934d1a48f99caf662d0d1dc1f5",
       "version_major": 2,
       "version_minor": 0
      },
      "text/plain": [
       "HBox(children=(IntProgress(value=0, max=9998899), HTML(value='')))"
      ]
     },
     "metadata": {},
     "output_type": "display_data"
    },
    {
     "data": {
      "application/vnd.jupyter.widget-view+json": {
       "model_id": "2b7af43d5039492ea0782953f7390c07",
       "version_major": 2,
       "version_minor": 0
      },
      "text/plain": [
       "HBox(children=(IntProgress(value=0, max=9998899), HTML(value='')))"
      ]
     },
     "metadata": {},
     "output_type": "display_data"
    },
    {
     "data": {
      "application/vnd.jupyter.widget-view+json": {
       "model_id": "1ccfa9aca4e047ec959a4e23c962df0b",
       "version_major": 2,
       "version_minor": 0
      },
      "text/plain": [
       "HBox(children=(IntProgress(value=0, max=9998899), HTML(value='')))"
      ]
     },
     "metadata": {},
     "output_type": "display_data"
    },
    {
     "data": {
      "application/vnd.jupyter.widget-view+json": {
       "model_id": "67c4dc857fd44b9e8d0c3dc678276c9a",
       "version_major": 2,
       "version_minor": 0
      },
      "text/plain": [
       "HBox(children=(IntProgress(value=0, max=9998899), HTML(value='')))"
      ]
     },
     "metadata": {},
     "output_type": "display_data"
    },
    {
     "data": {
      "application/vnd.jupyter.widget-view+json": {
       "model_id": "ac93c3da2f4e4d3a8551344148a87c63",
       "version_major": 2,
       "version_minor": 0
      },
      "text/plain": [
       "HBox(children=(IntProgress(value=0, max=9998899), HTML(value='')))"
      ]
     },
     "metadata": {},
     "output_type": "display_data"
    },
    {
     "data": {
      "application/vnd.jupyter.widget-view+json": {
       "model_id": "eed629b69e5342d9a399b9f770ff0d29",
       "version_major": 2,
       "version_minor": 0
      },
      "text/plain": [
       "HBox(children=(IntProgress(value=0, max=9998899), HTML(value='')))"
      ]
     },
     "metadata": {},
     "output_type": "display_data"
    },
    {
     "data": {
      "application/vnd.jupyter.widget-view+json": {
       "model_id": "7cda8eb9e77b424185bdd7965f92912a",
       "version_major": 2,
       "version_minor": 0
      },
      "text/plain": [
       "HBox(children=(IntProgress(value=0, max=9998899), HTML(value='')))"
      ]
     },
     "metadata": {},
     "output_type": "display_data"
    },
    {
     "data": {
      "application/vnd.jupyter.widget-view+json": {
       "model_id": "de9f24ef1395427e9579e2d41220258c",
       "version_major": 2,
       "version_minor": 0
      },
      "text/plain": [
       "HBox(children=(IntProgress(value=0, max=9998899), HTML(value='')))"
      ]
     },
     "metadata": {},
     "output_type": "display_data"
    },
    {
     "data": {
      "application/vnd.jupyter.widget-view+json": {
       "model_id": "04f47ce33d614ac4bf179b77fb15ec9c",
       "version_major": 2,
       "version_minor": 0
      },
      "text/plain": [
       "HBox(children=(IntProgress(value=0, max=9998899), HTML(value='')))"
      ]
     },
     "metadata": {},
     "output_type": "display_data"
    },
    {
     "data": {
      "application/vnd.jupyter.widget-view+json": {
       "model_id": "6148c89112084e3183df00e18949e8a0",
       "version_major": 2,
       "version_minor": 0
      },
      "text/plain": [
       "HBox(children=(IntProgress(value=0, max=9998899), HTML(value='')))"
      ]
     },
     "metadata": {},
     "output_type": "display_data"
    },
    {
     "data": {
      "application/vnd.jupyter.widget-view+json": {
       "model_id": "4b7296ebbe60406b8644e8428514ab25",
       "version_major": 2,
       "version_minor": 0
      },
      "text/plain": [
       "HBox(children=(IntProgress(value=0, max=9998899), HTML(value='')))"
      ]
     },
     "metadata": {},
     "output_type": "display_data"
    },
    {
     "data": {
      "application/vnd.jupyter.widget-view+json": {
       "model_id": "e02f1aaa8f3b43978ec61ae68acb52d3",
       "version_major": 2,
       "version_minor": 0
      },
      "text/plain": [
       "HBox(children=(IntProgress(value=0, max=9998899), HTML(value='')))"
      ]
     },
     "metadata": {},
     "output_type": "display_data"
    },
    {
     "data": {
      "application/vnd.jupyter.widget-view+json": {
       "model_id": "9792f90d5e5c410b850cda390d84f8de",
       "version_major": 2,
       "version_minor": 0
      },
      "text/plain": [
       "HBox(children=(IntProgress(value=0, max=9998899), HTML(value='')))"
      ]
     },
     "metadata": {},
     "output_type": "display_data"
    },
    {
     "data": {
      "application/vnd.jupyter.widget-view+json": {
       "model_id": "f979c098e9964b03a3288e682e59d180",
       "version_major": 2,
       "version_minor": 0
      },
      "text/plain": [
       "HBox(children=(IntProgress(value=0, max=9998899), HTML(value='')))"
      ]
     },
     "metadata": {},
     "output_type": "display_data"
    },
    {
     "data": {
      "application/vnd.jupyter.widget-view+json": {
       "model_id": "a244ec5fbdde4a7ebbfb6132bc0b81ca",
       "version_major": 2,
       "version_minor": 0
      },
      "text/plain": [
       "HBox(children=(IntProgress(value=0, max=9998899), HTML(value='')))"
      ]
     },
     "metadata": {},
     "output_type": "display_data"
    },
    {
     "data": {
      "application/vnd.jupyter.widget-view+json": {
       "model_id": "63694731fcb341f3833f32a860657e05",
       "version_major": 2,
       "version_minor": 0
      },
      "text/plain": [
       "HBox(children=(IntProgress(value=0, max=9998899), HTML(value='')))"
      ]
     },
     "metadata": {},
     "output_type": "display_data"
    },
    {
     "data": {
      "application/vnd.jupyter.widget-view+json": {
       "model_id": "32531fc100fb43468a7b4067399430a5",
       "version_major": 2,
       "version_minor": 0
      },
      "text/plain": [
       "HBox(children=(IntProgress(value=0, max=9998899), HTML(value='')))"
      ]
     },
     "metadata": {},
     "output_type": "display_data"
    },
    {
     "data": {
      "application/vnd.jupyter.widget-view+json": {
       "model_id": "ecfca4d0b14b4348a94b06af90a78f98",
       "version_major": 2,
       "version_minor": 0
      },
      "text/plain": [
       "HBox(children=(IntProgress(value=0, max=9998899), HTML(value='')))"
      ]
     },
     "metadata": {},
     "output_type": "display_data"
    },
    {
     "data": {
      "application/vnd.jupyter.widget-view+json": {
       "model_id": "52520ce89d524b8f9da592113afda493",
       "version_major": 2,
       "version_minor": 0
      },
      "text/plain": [
       "HBox(children=(IntProgress(value=0, max=9998899), HTML(value='')))"
      ]
     },
     "metadata": {},
     "output_type": "display_data"
    },
    {
     "data": {
      "application/vnd.jupyter.widget-view+json": {
       "model_id": "d3a0746e121a433aa058ea249786dda4",
       "version_major": 2,
       "version_minor": 0
      },
      "text/plain": [
       "HBox(children=(IntProgress(value=0, max=9998899), HTML(value='')))"
      ]
     },
     "metadata": {},
     "output_type": "display_data"
    },
    {
     "data": {
      "application/vnd.jupyter.widget-view+json": {
       "model_id": "695c04985f484be29255ac64c6080963",
       "version_major": 2,
       "version_minor": 0
      },
      "text/plain": [
       "HBox(children=(IntProgress(value=0, max=9998899), HTML(value='')))"
      ]
     },
     "metadata": {},
     "output_type": "display_data"
    },
    {
     "data": {
      "application/vnd.jupyter.widget-view+json": {
       "model_id": "5b594c5e05ae47158632200394b0db80",
       "version_major": 2,
       "version_minor": 0
      },
      "text/plain": [
       "HBox(children=(IntProgress(value=0, max=9998899), HTML(value='')))"
      ]
     },
     "metadata": {},
     "output_type": "display_data"
    },
    {
     "data": {
      "application/vnd.jupyter.widget-view+json": {
       "model_id": "ec00a23e5fe744e2ae9df9cb5b2d4119",
       "version_major": 2,
       "version_minor": 0
      },
      "text/plain": [
       "HBox(children=(IntProgress(value=0, max=9998899), HTML(value='')))"
      ]
     },
     "metadata": {},
     "output_type": "display_data"
    },
    {
     "data": {
      "application/vnd.jupyter.widget-view+json": {
       "model_id": "ea25ac89bb0b404db928658a32b1f734",
       "version_major": 2,
       "version_minor": 0
      },
      "text/plain": [
       "HBox(children=(IntProgress(value=0, max=9998899), HTML(value='')))"
      ]
     },
     "metadata": {},
     "output_type": "display_data"
    },
    {
     "data": {
      "application/vnd.jupyter.widget-view+json": {
       "model_id": "745c2921b39b40aea4a2f5e8970a41ba",
       "version_major": 2,
       "version_minor": 0
      },
      "text/plain": [
       "HBox(children=(IntProgress(value=0, max=9998899), HTML(value='')))"
      ]
     },
     "metadata": {},
     "output_type": "display_data"
    },
    {
     "data": {
      "application/vnd.jupyter.widget-view+json": {
       "model_id": "99d20bc7579a46b1ae0f7a3e9e47b765",
       "version_major": 2,
       "version_minor": 0
      },
      "text/plain": [
       "HBox(children=(IntProgress(value=0, max=9998899), HTML(value='')))"
      ]
     },
     "metadata": {},
     "output_type": "display_data"
    },
    {
     "data": {
      "application/vnd.jupyter.widget-view+json": {
       "model_id": "e76b4253441f488db949192eeb3b5bfb",
       "version_major": 2,
       "version_minor": 0
      },
      "text/plain": [
       "HBox(children=(IntProgress(value=0, max=9998899), HTML(value='')))"
      ]
     },
     "metadata": {},
     "output_type": "display_data"
    },
    {
     "data": {
      "application/vnd.jupyter.widget-view+json": {
       "model_id": "4657f004199d4d62870ae19c235b48cd",
       "version_major": 2,
       "version_minor": 0
      },
      "text/plain": [
       "HBox(children=(IntProgress(value=0, max=9998899), HTML(value='')))"
      ]
     },
     "metadata": {},
     "output_type": "display_data"
    },
    {
     "data": {
      "application/vnd.jupyter.widget-view+json": {
       "model_id": "633c3be146954852a83e1dd4ffb9c5d4",
       "version_major": 2,
       "version_minor": 0
      },
      "text/plain": [
       "HBox(children=(IntProgress(value=0, max=9998899), HTML(value='')))"
      ]
     },
     "metadata": {},
     "output_type": "display_data"
    },
    {
     "data": {
      "application/vnd.jupyter.widget-view+json": {
       "model_id": "3ed5b35683a441ed9beeb97b30072f4c",
       "version_major": 2,
       "version_minor": 0
      },
      "text/plain": [
       "HBox(children=(IntProgress(value=0, max=9998899), HTML(value='')))"
      ]
     },
     "metadata": {},
     "output_type": "display_data"
    },
    {
     "data": {
      "application/vnd.jupyter.widget-view+json": {
       "model_id": "0429e02670134ba48ae5e1dc9656e47d",
       "version_major": 2,
       "version_minor": 0
      },
      "text/plain": [
       "HBox(children=(IntProgress(value=0, max=9998899), HTML(value='')))"
      ]
     },
     "metadata": {},
     "output_type": "display_data"
    },
    {
     "data": {
      "application/vnd.jupyter.widget-view+json": {
       "model_id": "c9481533f4a44016a71fa649c9c99c98",
       "version_major": 2,
       "version_minor": 0
      },
      "text/plain": [
       "HBox(children=(IntProgress(value=0, max=9998899), HTML(value='')))"
      ]
     },
     "metadata": {},
     "output_type": "display_data"
    },
    {
     "data": {
      "application/vnd.jupyter.widget-view+json": {
       "model_id": "cb7045a3f60a4fb0bb2414633ea1723c",
       "version_major": 2,
       "version_minor": 0
      },
      "text/plain": [
       "HBox(children=(IntProgress(value=0, max=9998899), HTML(value='')))"
      ]
     },
     "metadata": {},
     "output_type": "display_data"
    },
    {
     "data": {
      "application/vnd.jupyter.widget-view+json": {
       "model_id": "fa3ad9b849404410a24c5df3b6331f70",
       "version_major": 2,
       "version_minor": 0
      },
      "text/plain": [
       "HBox(children=(IntProgress(value=0, max=9998899), HTML(value='')))"
      ]
     },
     "metadata": {},
     "output_type": "display_data"
    },
    {
     "data": {
      "application/vnd.jupyter.widget-view+json": {
       "model_id": "fbaf9e35b0af44db95770cce3f19f1f5",
       "version_major": 2,
       "version_minor": 0
      },
      "text/plain": [
       "HBox(children=(IntProgress(value=0, max=9998899), HTML(value='')))"
      ]
     },
     "metadata": {},
     "output_type": "display_data"
    },
    {
     "data": {
      "application/vnd.jupyter.widget-view+json": {
       "model_id": "462c35dcc8c24cb6b2dd884f694ae13f",
       "version_major": 2,
       "version_minor": 0
      },
      "text/plain": [
       "HBox(children=(IntProgress(value=0, max=9998899), HTML(value='')))"
      ]
     },
     "metadata": {},
     "output_type": "display_data"
    },
    {
     "data": {
      "application/vnd.jupyter.widget-view+json": {
       "model_id": "6c3d52d820ba4c2187912a795f0c10a0",
       "version_major": 2,
       "version_minor": 0
      },
      "text/plain": [
       "HBox(children=(IntProgress(value=0, max=9998899), HTML(value='')))"
      ]
     },
     "metadata": {},
     "output_type": "display_data"
    },
    {
     "data": {
      "application/vnd.jupyter.widget-view+json": {
       "model_id": "4f2d48a4c55d4a3dbd1f33bb1f417d96",
       "version_major": 2,
       "version_minor": 0
      },
      "text/plain": [
       "HBox(children=(IntProgress(value=0, max=9998899), HTML(value='')))"
      ]
     },
     "metadata": {},
     "output_type": "display_data"
    },
    {
     "data": {
      "application/vnd.jupyter.widget-view+json": {
       "model_id": "c559c35bc8994a82b739efc1f610282a",
       "version_major": 2,
       "version_minor": 0
      },
      "text/plain": [
       "HBox(children=(IntProgress(value=0, max=9998899), HTML(value='')))"
      ]
     },
     "metadata": {},
     "output_type": "display_data"
    },
    {
     "data": {
      "application/vnd.jupyter.widget-view+json": {
       "model_id": "c71fad990ad243f7abdb1aa117aac9b9",
       "version_major": 2,
       "version_minor": 0
      },
      "text/plain": [
       "HBox(children=(IntProgress(value=0, max=9998899), HTML(value='')))"
      ]
     },
     "metadata": {},
     "output_type": "display_data"
    },
    {
     "data": {
      "application/vnd.jupyter.widget-view+json": {
       "model_id": "8e3b1245214043108f4d9331db52d06f",
       "version_major": 2,
       "version_minor": 0
      },
      "text/plain": [
       "HBox(children=(IntProgress(value=0, max=9998899), HTML(value='')))"
      ]
     },
     "metadata": {},
     "output_type": "display_data"
    },
    {
     "data": {
      "application/vnd.jupyter.widget-view+json": {
       "model_id": "0a5df99136fc4eb69d988d4a48c37a84",
       "version_major": 2,
       "version_minor": 0
      },
      "text/plain": [
       "HBox(children=(IntProgress(value=0, max=9998899), HTML(value='')))"
      ]
     },
     "metadata": {},
     "output_type": "display_data"
    },
    {
     "data": {
      "application/vnd.jupyter.widget-view+json": {
       "model_id": "329f18f5c0c9422d9b600b9bf9959676",
       "version_major": 2,
       "version_minor": 0
      },
      "text/plain": [
       "HBox(children=(IntProgress(value=0, max=9998899), HTML(value='')))"
      ]
     },
     "metadata": {},
     "output_type": "display_data"
    },
    {
     "data": {
      "application/vnd.jupyter.widget-view+json": {
       "model_id": "5dc0cd0a3a61475d9b5dc39a66d67e94",
       "version_major": 2,
       "version_minor": 0
      },
      "text/plain": [
       "HBox(children=(IntProgress(value=0, max=9998899), HTML(value='')))"
      ]
     },
     "metadata": {},
     "output_type": "display_data"
    },
    {
     "data": {
      "application/vnd.jupyter.widget-view+json": {
       "model_id": "0b25849590954f8298d81b91de7ff263",
       "version_major": 2,
       "version_minor": 0
      },
      "text/plain": [
       "HBox(children=(IntProgress(value=0, max=9998899), HTML(value='')))"
      ]
     },
     "metadata": {},
     "output_type": "display_data"
    },
    {
     "data": {
      "application/vnd.jupyter.widget-view+json": {
       "model_id": "54e4eb1f89f24d64b1866cbb6e462053",
       "version_major": 2,
       "version_minor": 0
      },
      "text/plain": [
       "HBox(children=(IntProgress(value=0, max=9998899), HTML(value='')))"
      ]
     },
     "metadata": {},
     "output_type": "display_data"
    },
    {
     "data": {
      "application/vnd.jupyter.widget-view+json": {
       "model_id": "5450741a82cd4d49ba92df0837325207",
       "version_major": 2,
       "version_minor": 0
      },
      "text/plain": [
       "HBox(children=(IntProgress(value=0, max=9998899), HTML(value='')))"
      ]
     },
     "metadata": {},
     "output_type": "display_data"
    },
    {
     "data": {
      "application/vnd.jupyter.widget-view+json": {
       "model_id": "9287260e346940b78bec692be6083453",
       "version_major": 2,
       "version_minor": 0
      },
      "text/plain": [
       "HBox(children=(IntProgress(value=0, max=9998899), HTML(value='')))"
      ]
     },
     "metadata": {},
     "output_type": "display_data"
    },
    {
     "data": {
      "application/vnd.jupyter.widget-view+json": {
       "model_id": "240afbac29634448a79b9d7cac73ddfd",
       "version_major": 2,
       "version_minor": 0
      },
      "text/plain": [
       "HBox(children=(IntProgress(value=0, max=9998899), HTML(value='')))"
      ]
     },
     "metadata": {},
     "output_type": "display_data"
    },
    {
     "data": {
      "application/vnd.jupyter.widget-view+json": {
       "model_id": "06e746ea0ce54a2fac8f7eb17e85d749",
       "version_major": 2,
       "version_minor": 0
      },
      "text/plain": [
       "HBox(children=(IntProgress(value=0, max=9998899), HTML(value='')))"
      ]
     },
     "metadata": {},
     "output_type": "display_data"
    },
    {
     "data": {
      "application/vnd.jupyter.widget-view+json": {
       "model_id": "ccc7d1f124e6429db95aa07fe068ee13",
       "version_major": 2,
       "version_minor": 0
      },
      "text/plain": [
       "HBox(children=(IntProgress(value=0, max=9998899), HTML(value='')))"
      ]
     },
     "metadata": {},
     "output_type": "display_data"
    },
    {
     "data": {
      "application/vnd.jupyter.widget-view+json": {
       "model_id": "572c179be440415ba6e813ebae221d4b",
       "version_major": 2,
       "version_minor": 0
      },
      "text/plain": [
       "HBox(children=(IntProgress(value=0, max=9998899), HTML(value='')))"
      ]
     },
     "metadata": {},
     "output_type": "display_data"
    },
    {
     "data": {
      "application/vnd.jupyter.widget-view+json": {
       "model_id": "a9c068b3f21d4a8398e1b0221051f820",
       "version_major": 2,
       "version_minor": 0
      },
      "text/plain": [
       "HBox(children=(IntProgress(value=0, max=9998899), HTML(value='')))"
      ]
     },
     "metadata": {},
     "output_type": "display_data"
    },
    {
     "data": {
      "application/vnd.jupyter.widget-view+json": {
       "model_id": "c0e171a62f2746f4a133e4a8a5d57450",
       "version_major": 2,
       "version_minor": 0
      },
      "text/plain": [
       "HBox(children=(IntProgress(value=0, max=9998899), HTML(value='')))"
      ]
     },
     "metadata": {},
     "output_type": "display_data"
    },
    {
     "data": {
      "application/vnd.jupyter.widget-view+json": {
       "model_id": "341b53e2ec8140918832d6e830202ca5",
       "version_major": 2,
       "version_minor": 0
      },
      "text/plain": [
       "HBox(children=(IntProgress(value=0, max=9998899), HTML(value='')))"
      ]
     },
     "metadata": {},
     "output_type": "display_data"
    },
    {
     "data": {
      "application/vnd.jupyter.widget-view+json": {
       "model_id": "32682205215d457ca6de96805a582b70",
       "version_major": 2,
       "version_minor": 0
      },
      "text/plain": [
       "HBox(children=(IntProgress(value=0, max=9998899), HTML(value='')))"
      ]
     },
     "metadata": {},
     "output_type": "display_data"
    },
    {
     "data": {
      "application/vnd.jupyter.widget-view+json": {
       "model_id": "56d09a081aa043189653de2d0c6bc363",
       "version_major": 2,
       "version_minor": 0
      },
      "text/plain": [
       "HBox(children=(IntProgress(value=0, max=9998899), HTML(value='')))"
      ]
     },
     "metadata": {},
     "output_type": "display_data"
    },
    {
     "data": {
      "application/vnd.jupyter.widget-view+json": {
       "model_id": "c09bbb34f6af4a049952b76e3bea8587",
       "version_major": 2,
       "version_minor": 0
      },
      "text/plain": [
       "HBox(children=(IntProgress(value=0, max=9998899), HTML(value='')))"
      ]
     },
     "metadata": {},
     "output_type": "display_data"
    },
    {
     "data": {
      "application/vnd.jupyter.widget-view+json": {
       "model_id": "92daf4a765a6419586cf3458ab10eac3",
       "version_major": 2,
       "version_minor": 0
      },
      "text/plain": [
       "HBox(children=(IntProgress(value=0, max=9998899), HTML(value='')))"
      ]
     },
     "metadata": {},
     "output_type": "display_data"
    },
    {
     "data": {
      "application/vnd.jupyter.widget-view+json": {
       "model_id": "36c8e8d0df1246aabb1cf6a9bacfb3dd",
       "version_major": 2,
       "version_minor": 0
      },
      "text/plain": [
       "HBox(children=(IntProgress(value=0, max=9998899), HTML(value='')))"
      ]
     },
     "metadata": {},
     "output_type": "display_data"
    },
    {
     "data": {
      "application/vnd.jupyter.widget-view+json": {
       "model_id": "01b65b8b27a540bd960565af7dcf08cc",
       "version_major": 2,
       "version_minor": 0
      },
      "text/plain": [
       "HBox(children=(IntProgress(value=0, max=9998899), HTML(value='')))"
      ]
     },
     "metadata": {},
     "output_type": "display_data"
    },
    {
     "data": {
      "application/vnd.jupyter.widget-view+json": {
       "model_id": "9f2225f4154e4dbd9f11ec45aa5be9c8",
       "version_major": 2,
       "version_minor": 0
      },
      "text/plain": [
       "HBox(children=(IntProgress(value=0, max=9998899), HTML(value='')))"
      ]
     },
     "metadata": {},
     "output_type": "display_data"
    },
    {
     "data": {
      "application/vnd.jupyter.widget-view+json": {
       "model_id": "dbfbf7bdbac447f1995f7bc7a8812b56",
       "version_major": 2,
       "version_minor": 0
      },
      "text/plain": [
       "HBox(children=(IntProgress(value=0, max=9998899), HTML(value='')))"
      ]
     },
     "metadata": {},
     "output_type": "display_data"
    },
    {
     "data": {
      "application/vnd.jupyter.widget-view+json": {
       "model_id": "37251ed6b16a453a9dfc1c6091e15e22",
       "version_major": 2,
       "version_minor": 0
      },
      "text/plain": [
       "HBox(children=(IntProgress(value=0, max=9998899), HTML(value='')))"
      ]
     },
     "metadata": {},
     "output_type": "display_data"
    },
    {
     "data": {
      "application/vnd.jupyter.widget-view+json": {
       "model_id": "71ad65a934d4417db0d2ea536e7ff4ee",
       "version_major": 2,
       "version_minor": 0
      },
      "text/plain": [
       "HBox(children=(IntProgress(value=0, max=9998899), HTML(value='')))"
      ]
     },
     "metadata": {},
     "output_type": "display_data"
    },
    {
     "data": {
      "application/vnd.jupyter.widget-view+json": {
       "model_id": "c5b1e2fd17a041f58ad7a30e1abec14c",
       "version_major": 2,
       "version_minor": 0
      },
      "text/plain": [
       "HBox(children=(IntProgress(value=0, max=9998899), HTML(value='')))"
      ]
     },
     "metadata": {},
     "output_type": "display_data"
    },
    {
     "data": {
      "application/vnd.jupyter.widget-view+json": {
       "model_id": "22ab7b652793425d9654816c9068d46f",
       "version_major": 2,
       "version_minor": 0
      },
      "text/plain": [
       "HBox(children=(IntProgress(value=0, max=9998899), HTML(value='')))"
      ]
     },
     "metadata": {},
     "output_type": "display_data"
    },
    {
     "data": {
      "application/vnd.jupyter.widget-view+json": {
       "model_id": "e7455844da034c1ebd3b84edf82bb4ca",
       "version_major": 2,
       "version_minor": 0
      },
      "text/plain": [
       "HBox(children=(IntProgress(value=0, max=9998899), HTML(value='')))"
      ]
     },
     "metadata": {},
     "output_type": "display_data"
    },
    {
     "data": {
      "application/vnd.jupyter.widget-view+json": {
       "model_id": "5ffad9db60794b8e9d17866ad3fe4e4e",
       "version_major": 2,
       "version_minor": 0
      },
      "text/plain": [
       "HBox(children=(IntProgress(value=0, max=9998899), HTML(value='')))"
      ]
     },
     "metadata": {},
     "output_type": "display_data"
    },
    {
     "data": {
      "application/vnd.jupyter.widget-view+json": {
       "model_id": "43a6e737388c4bda81212f57f6e0d62e",
       "version_major": 2,
       "version_minor": 0
      },
      "text/plain": [
       "HBox(children=(IntProgress(value=0, max=9998899), HTML(value='')))"
      ]
     },
     "metadata": {},
     "output_type": "display_data"
    },
    {
     "data": {
      "application/vnd.jupyter.widget-view+json": {
       "model_id": "06f99123fde546bd824b06e35313a0f2",
       "version_major": 2,
       "version_minor": 0
      },
      "text/plain": [
       "HBox(children=(IntProgress(value=0, max=9998899), HTML(value='')))"
      ]
     },
     "metadata": {},
     "output_type": "display_data"
    },
    {
     "data": {
      "application/vnd.jupyter.widget-view+json": {
       "model_id": "6d10236dff144985965c3b78475b0438",
       "version_major": 2,
       "version_minor": 0
      },
      "text/plain": [
       "HBox(children=(IntProgress(value=0, max=9998899), HTML(value='')))"
      ]
     },
     "metadata": {},
     "output_type": "display_data"
    },
    {
     "data": {
      "application/vnd.jupyter.widget-view+json": {
       "model_id": "8268201c6c1e45a09ec3a712004377f9",
       "version_major": 2,
       "version_minor": 0
      },
      "text/plain": [
       "HBox(children=(IntProgress(value=0, max=9998899), HTML(value='')))"
      ]
     },
     "metadata": {},
     "output_type": "display_data"
    },
    {
     "data": {
      "application/vnd.jupyter.widget-view+json": {
       "model_id": "046403255a99403aa53cbb050eaa18c3",
       "version_major": 2,
       "version_minor": 0
      },
      "text/plain": [
       "HBox(children=(IntProgress(value=0, max=9998899), HTML(value='')))"
      ]
     },
     "metadata": {},
     "output_type": "display_data"
    },
    {
     "data": {
      "application/vnd.jupyter.widget-view+json": {
       "model_id": "efdc40faec7e4eb8be062ab085e1c397",
       "version_major": 2,
       "version_minor": 0
      },
      "text/plain": [
       "HBox(children=(IntProgress(value=0, max=9998899), HTML(value='')))"
      ]
     },
     "metadata": {},
     "output_type": "display_data"
    },
    {
     "data": {
      "application/vnd.jupyter.widget-view+json": {
       "model_id": "4984c3b20b7f4bf6a703b70aa449fb5a",
       "version_major": 2,
       "version_minor": 0
      },
      "text/plain": [
       "HBox(children=(IntProgress(value=0, max=9998899), HTML(value='')))"
      ]
     },
     "metadata": {},
     "output_type": "display_data"
    },
    {
     "data": {
      "application/vnd.jupyter.widget-view+json": {
       "model_id": "3a2e71563f5e47829c1c52b19ee7ac79",
       "version_major": 2,
       "version_minor": 0
      },
      "text/plain": [
       "HBox(children=(IntProgress(value=0, max=9998899), HTML(value='')))"
      ]
     },
     "metadata": {},
     "output_type": "display_data"
    },
    {
     "data": {
      "application/vnd.jupyter.widget-view+json": {
       "model_id": "f652df37adea420797ac4af02bcb6288",
       "version_major": 2,
       "version_minor": 0
      },
      "text/plain": [
       "HBox(children=(IntProgress(value=0, max=9998899), HTML(value='')))"
      ]
     },
     "metadata": {},
     "output_type": "display_data"
    },
    {
     "data": {
      "application/vnd.jupyter.widget-view+json": {
       "model_id": "55feeb6b8a69409caff551e49ebc13c9",
       "version_major": 2,
       "version_minor": 0
      },
      "text/plain": [
       "HBox(children=(IntProgress(value=0, max=9998899), HTML(value='')))"
      ]
     },
     "metadata": {},
     "output_type": "display_data"
    },
    {
     "data": {
      "application/vnd.jupyter.widget-view+json": {
       "model_id": "3c61f05e5e5c4c26a19ca6d0682fd140",
       "version_major": 2,
       "version_minor": 0
      },
      "text/plain": [
       "HBox(children=(IntProgress(value=0, max=9998899), HTML(value='')))"
      ]
     },
     "metadata": {},
     "output_type": "display_data"
    },
    {
     "data": {
      "application/vnd.jupyter.widget-view+json": {
       "model_id": "e5248f5744c24e069864e7eebed809ce",
       "version_major": 2,
       "version_minor": 0
      },
      "text/plain": [
       "HBox(children=(IntProgress(value=0, max=9998899), HTML(value='')))"
      ]
     },
     "metadata": {},
     "output_type": "display_data"
    },
    {
     "data": {
      "application/vnd.jupyter.widget-view+json": {
       "model_id": "eab5501513a643248622aa421e17f851",
       "version_major": 2,
       "version_minor": 0
      },
      "text/plain": [
       "HBox(children=(IntProgress(value=0, max=9998899), HTML(value='')))"
      ]
     },
     "metadata": {},
     "output_type": "display_data"
    },
    {
     "data": {
      "application/vnd.jupyter.widget-view+json": {
       "model_id": "7f460d31b0e742389b6ca5120356b1d9",
       "version_major": 2,
       "version_minor": 0
      },
      "text/plain": [
       "HBox(children=(IntProgress(value=0, max=9998899), HTML(value='')))"
      ]
     },
     "metadata": {},
     "output_type": "display_data"
    },
    {
     "data": {
      "application/vnd.jupyter.widget-view+json": {
       "model_id": "c9a034ed599c4d7a811717225519ecab",
       "version_major": 2,
       "version_minor": 0
      },
      "text/plain": [
       "HBox(children=(IntProgress(value=0, max=9998899), HTML(value='')))"
      ]
     },
     "metadata": {},
     "output_type": "display_data"
    },
    {
     "data": {
      "application/vnd.jupyter.widget-view+json": {
       "model_id": "3f815c6066e04a56904b0c0980cbbb86",
       "version_major": 2,
       "version_minor": 0
      },
      "text/plain": [
       "HBox(children=(IntProgress(value=0, max=9998899), HTML(value='')))"
      ]
     },
     "metadata": {},
     "output_type": "display_data"
    },
    {
     "data": {
      "application/vnd.jupyter.widget-view+json": {
       "model_id": "265741786b0742c8b8f572eda8786991",
       "version_major": 2,
       "version_minor": 0
      },
      "text/plain": [
       "HBox(children=(IntProgress(value=0, max=9998899), HTML(value='')))"
      ]
     },
     "metadata": {},
     "output_type": "display_data"
    },
    {
     "data": {
      "application/vnd.jupyter.widget-view+json": {
       "model_id": "c6e464c744e742b8a37fa4ba3b840259",
       "version_major": 2,
       "version_minor": 0
      },
      "text/plain": [
       "HBox(children=(IntProgress(value=0, max=9998899), HTML(value='')))"
      ]
     },
     "metadata": {},
     "output_type": "display_data"
    },
    {
     "data": {
      "application/vnd.jupyter.widget-view+json": {
       "model_id": "61a33438ef754844bb849b95132f9b15",
       "version_major": 2,
       "version_minor": 0
      },
      "text/plain": [
       "HBox(children=(IntProgress(value=0, max=9998899), HTML(value='')))"
      ]
     },
     "metadata": {},
     "output_type": "display_data"
    },
    {
     "data": {
      "application/vnd.jupyter.widget-view+json": {
       "model_id": "39719ec945e4483cb5393d35c3073a3a",
       "version_major": 2,
       "version_minor": 0
      },
      "text/plain": [
       "HBox(children=(IntProgress(value=0, max=9998899), HTML(value='')))"
      ]
     },
     "metadata": {},
     "output_type": "display_data"
    },
    {
     "data": {
      "application/vnd.jupyter.widget-view+json": {
       "model_id": "ef0ea49161db4b88af96d627938c1b55",
       "version_major": 2,
       "version_minor": 0
      },
      "text/plain": [
       "HBox(children=(IntProgress(value=0, max=9998899), HTML(value='')))"
      ]
     },
     "metadata": {},
     "output_type": "display_data"
    },
    {
     "data": {
      "application/vnd.jupyter.widget-view+json": {
       "model_id": "7afc34c9efa046ddb0a654703b019d10",
       "version_major": 2,
       "version_minor": 0
      },
      "text/plain": [
       "HBox(children=(IntProgress(value=0, max=9998899), HTML(value='')))"
      ]
     },
     "metadata": {},
     "output_type": "display_data"
    },
    {
     "data": {
      "application/vnd.jupyter.widget-view+json": {
       "model_id": "076cb6ce721d4509bc5fd5824a743e4c",
       "version_major": 2,
       "version_minor": 0
      },
      "text/plain": [
       "HBox(children=(IntProgress(value=0, max=9998899), HTML(value='')))"
      ]
     },
     "metadata": {},
     "output_type": "display_data"
    },
    {
     "data": {
      "application/vnd.jupyter.widget-view+json": {
       "model_id": "ced99b7b8a164fc9871e5b112f5abd10",
       "version_major": 2,
       "version_minor": 0
      },
      "text/plain": [
       "HBox(children=(IntProgress(value=0, max=9998899), HTML(value='')))"
      ]
     },
     "metadata": {},
     "output_type": "display_data"
    },
    {
     "data": {
      "application/vnd.jupyter.widget-view+json": {
       "model_id": "2ca7f1c7f47647b9a74190ad2b85dd02",
       "version_major": 2,
       "version_minor": 0
      },
      "text/plain": [
       "HBox(children=(IntProgress(value=0, max=9998899), HTML(value='')))"
      ]
     },
     "metadata": {},
     "output_type": "display_data"
    },
    {
     "data": {
      "application/vnd.jupyter.widget-view+json": {
       "model_id": "94a360a38a444d76a76e37fb586baea9",
       "version_major": 2,
       "version_minor": 0
      },
      "text/plain": [
       "HBox(children=(IntProgress(value=0, max=9998899), HTML(value='')))"
      ]
     },
     "metadata": {},
     "output_type": "display_data"
    },
    {
     "data": {
      "application/vnd.jupyter.widget-view+json": {
       "model_id": "3df26c213caf4118902ddd21304467a7",
       "version_major": 2,
       "version_minor": 0
      },
      "text/plain": [
       "HBox(children=(IntProgress(value=0, max=9998899), HTML(value='')))"
      ]
     },
     "metadata": {},
     "output_type": "display_data"
    },
    {
     "ename": "NameError",
     "evalue": "name 'start1' is not defined",
     "output_type": "error",
     "traceback": [
      "\u001b[0;31m---------------------------------------------------------------------------\u001b[0m",
      "\u001b[0;31mNameError\u001b[0m                                 Traceback (most recent call last)",
      "\u001b[0;32m<ipython-input-98-395c9b55b05a>\u001b[0m in \u001b[0;36m<module>\u001b[0;34m\u001b[0m\n\u001b[1;32m      2\u001b[0m \u001b[0mstart2\u001b[0m \u001b[0;34m=\u001b[0m \u001b[0mtime\u001b[0m\u001b[0;34m.\u001b[0m\u001b[0mtime\u001b[0m\u001b[0;34m(\u001b[0m\u001b[0;34m)\u001b[0m\u001b[0;34m\u001b[0m\u001b[0m\n\u001b[1;32m      3\u001b[0m \u001b[0msp_gt\u001b[0m \u001b[0;34m=\u001b[0m \u001b[0mcompute_single_unweighted_knn_class_shapley\u001b[0m\u001b[0;34m(\u001b[0m\u001b[0mx_trn\u001b[0m\u001b[0;34m,\u001b[0m \u001b[0my_trn\u001b[0m\u001b[0;34m,\u001b[0m \u001b[0mx_tst_knn_gt\u001b[0m\u001b[0;34m,\u001b[0m \u001b[0my_tst\u001b[0m\u001b[0;34m,\u001b[0m \u001b[0mK\u001b[0m\u001b[0;34m)\u001b[0m\u001b[0;34m\u001b[0m\u001b[0m\n\u001b[0;32m----> 4\u001b[0;31m \u001b[0mend2\u001b[0m \u001b[0;34m=\u001b[0m \u001b[0mtime\u001b[0m\u001b[0;34m.\u001b[0m\u001b[0mtime\u001b[0m\u001b[0;34m(\u001b[0m\u001b[0;34m)\u001b[0m \u001b[0;34m-\u001b[0m \u001b[0mstart1\u001b[0m\u001b[0;34m\u001b[0m\u001b[0m\n\u001b[0m",
      "\u001b[0;31mNameError\u001b[0m: name 'start1' is not defined"
     ]
    }
   ],
   "source": [
    "K = 2\n",
    "start2 = time.time()\n",
    "sp_gt = compute_single_unweighted_knn_class_shapley(x_trn, y_trn, x_tst_knn_gt, y_tst, K)\n",
    "end2 = time.time() - start1"
   ]
  },
  {
   "cell_type": "code",
   "execution_count": 99,
   "metadata": {},
   "outputs": [
    {
     "ename": "NameError",
     "evalue": "name 'end2' is not defined",
     "output_type": "error",
     "traceback": [
      "\u001b[0;31m---------------------------------------------------------------------------\u001b[0m",
      "\u001b[0;31mNameError\u001b[0m                                 Traceback (most recent call last)",
      "\u001b[0;32m<ipython-input-99-faf7c4b43b94>\u001b[0m in \u001b[0;36m<module>\u001b[0;34m\u001b[0m\n\u001b[0;32m----> 1\u001b[0;31m \u001b[0mprint\u001b[0m\u001b[0;34m(\u001b[0m\u001b[0mend2\u001b[0m\u001b[0;34m)\u001b[0m\u001b[0;34m\u001b[0m\u001b[0m\n\u001b[0m",
      "\u001b[0;31mNameError\u001b[0m: name 'end2' is not defined"
     ]
    }
   ],
   "source": [
    "print(end2)"
   ]
  },
  {
   "cell_type": "code",
   "execution_count": 109,
   "metadata": {},
   "outputs": [
    {
     "data": {
      "application/vnd.jupyter.widget-view+json": {
       "model_id": "f1c8ff37e0d04789bec52ea1d62177d9",
       "version_major": 2,
       "version_minor": 0
      },
      "text/plain": [
       "HBox(children=(IntProgress(value=0), HTML(value='')))"
      ]
     },
     "metadata": {},
     "output_type": "display_data"
    },
    {
     "data": {
      "application/vnd.jupyter.widget-view+json": {
       "model_id": "43f4e6337306430f8887927e6dbec26c",
       "version_major": 2,
       "version_minor": 0
      },
      "text/plain": [
       "HBox(children=(IntProgress(value=0, max=9998899), HTML(value='')))"
      ]
     },
     "metadata": {},
     "output_type": "display_data"
    },
    {
     "data": {
      "application/vnd.jupyter.widget-view+json": {
       "model_id": "decc7819c9ac470aadc428a2045b2b86",
       "version_major": 2,
       "version_minor": 0
      },
      "text/plain": [
       "HBox(children=(IntProgress(value=0, max=9998899), HTML(value='')))"
      ]
     },
     "metadata": {},
     "output_type": "display_data"
    },
    {
     "data": {
      "application/vnd.jupyter.widget-view+json": {
       "model_id": "256f4d57c51647dd8e3fb314756b08e6",
       "version_major": 2,
       "version_minor": 0
      },
      "text/plain": [
       "HBox(children=(IntProgress(value=0, max=9998899), HTML(value='')))"
      ]
     },
     "metadata": {},
     "output_type": "display_data"
    },
    {
     "data": {
      "application/vnd.jupyter.widget-view+json": {
       "model_id": "1a3f32db6ac04e508e1f188d5eec9578",
       "version_major": 2,
       "version_minor": 0
      },
      "text/plain": [
       "HBox(children=(IntProgress(value=0, max=9998899), HTML(value='')))"
      ]
     },
     "metadata": {},
     "output_type": "display_data"
    },
    {
     "data": {
      "application/vnd.jupyter.widget-view+json": {
       "model_id": "ad626a2d050c490b9f08f452c1eb23a3",
       "version_major": 2,
       "version_minor": 0
      },
      "text/plain": [
       "HBox(children=(IntProgress(value=0, max=9998899), HTML(value='')))"
      ]
     },
     "metadata": {},
     "output_type": "display_data"
    },
    {
     "data": {
      "application/vnd.jupyter.widget-view+json": {
       "model_id": "4aadf3a692d149099e0bbed883f5b363",
       "version_major": 2,
       "version_minor": 0
      },
      "text/plain": [
       "HBox(children=(IntProgress(value=0, max=9998899), HTML(value='')))"
      ]
     },
     "metadata": {},
     "output_type": "display_data"
    },
    {
     "data": {
      "application/vnd.jupyter.widget-view+json": {
       "model_id": "2bfb194b4dee420680c2982f0fb52096",
       "version_major": 2,
       "version_minor": 0
      },
      "text/plain": [
       "HBox(children=(IntProgress(value=0, max=9998899), HTML(value='')))"
      ]
     },
     "metadata": {},
     "output_type": "display_data"
    },
    {
     "data": {
      "application/vnd.jupyter.widget-view+json": {
       "model_id": "4adaaca182474259845426a90708dd36",
       "version_major": 2,
       "version_minor": 0
      },
      "text/plain": [
       "HBox(children=(IntProgress(value=0, max=9998899), HTML(value='')))"
      ]
     },
     "metadata": {},
     "output_type": "display_data"
    },
    {
     "data": {
      "application/vnd.jupyter.widget-view+json": {
       "model_id": "b6a29664cbb147688dd355055d31906e",
       "version_major": 2,
       "version_minor": 0
      },
      "text/plain": [
       "HBox(children=(IntProgress(value=0, max=9998899), HTML(value='')))"
      ]
     },
     "metadata": {},
     "output_type": "display_data"
    },
    {
     "data": {
      "application/vnd.jupyter.widget-view+json": {
       "model_id": "335fc62449204b798438032b853b3806",
       "version_major": 2,
       "version_minor": 0
      },
      "text/plain": [
       "HBox(children=(IntProgress(value=0, max=9998899), HTML(value='')))"
      ]
     },
     "metadata": {},
     "output_type": "display_data"
    },
    {
     "data": {
      "application/vnd.jupyter.widget-view+json": {
       "model_id": "5e0214861ba8463ba6c842a5b847a295",
       "version_major": 2,
       "version_minor": 0
      },
      "text/plain": [
       "HBox(children=(IntProgress(value=0, max=9998899), HTML(value='')))"
      ]
     },
     "metadata": {},
     "output_type": "display_data"
    },
    {
     "data": {
      "application/vnd.jupyter.widget-view+json": {
       "model_id": "e57f91e9208943eda24b442c9617fc50",
       "version_major": 2,
       "version_minor": 0
      },
      "text/plain": [
       "HBox(children=(IntProgress(value=0, max=9998899), HTML(value='')))"
      ]
     },
     "metadata": {},
     "output_type": "display_data"
    },
    {
     "data": {
      "application/vnd.jupyter.widget-view+json": {
       "model_id": "c82920661a4446dc90ec706ee667cdf8",
       "version_major": 2,
       "version_minor": 0
      },
      "text/plain": [
       "HBox(children=(IntProgress(value=0, max=9998899), HTML(value='')))"
      ]
     },
     "metadata": {},
     "output_type": "display_data"
    },
    {
     "data": {
      "application/vnd.jupyter.widget-view+json": {
       "model_id": "dcc6b1271f6843aaa62f89cb4cf51418",
       "version_major": 2,
       "version_minor": 0
      },
      "text/plain": [
       "HBox(children=(IntProgress(value=0, max=9998899), HTML(value='')))"
      ]
     },
     "metadata": {},
     "output_type": "display_data"
    },
    {
     "data": {
      "application/vnd.jupyter.widget-view+json": {
       "model_id": "0060b1496e0547f49f79a2f0e6319475",
       "version_major": 2,
       "version_minor": 0
      },
      "text/plain": [
       "HBox(children=(IntProgress(value=0, max=9998899), HTML(value='')))"
      ]
     },
     "metadata": {},
     "output_type": "display_data"
    },
    {
     "data": {
      "application/vnd.jupyter.widget-view+json": {
       "model_id": "26e9a720616c4e37890c57d2c2cd1aa8",
       "version_major": 2,
       "version_minor": 0
      },
      "text/plain": [
       "HBox(children=(IntProgress(value=0, max=9998899), HTML(value='')))"
      ]
     },
     "metadata": {},
     "output_type": "display_data"
    },
    {
     "data": {
      "application/vnd.jupyter.widget-view+json": {
       "model_id": "703420941eba412b9f7ca76de11bae8e",
       "version_major": 2,
       "version_minor": 0
      },
      "text/plain": [
       "HBox(children=(IntProgress(value=0, max=9998899), HTML(value='')))"
      ]
     },
     "metadata": {},
     "output_type": "display_data"
    },
    {
     "data": {
      "application/vnd.jupyter.widget-view+json": {
       "model_id": "ad41597ed2ef4dac9ec5e2c3daf40d16",
       "version_major": 2,
       "version_minor": 0
      },
      "text/plain": [
       "HBox(children=(IntProgress(value=0, max=9998899), HTML(value='')))"
      ]
     },
     "metadata": {},
     "output_type": "display_data"
    },
    {
     "data": {
      "application/vnd.jupyter.widget-view+json": {
       "model_id": "dedff2348236419698f4e18bd6cb5960",
       "version_major": 2,
       "version_minor": 0
      },
      "text/plain": [
       "HBox(children=(IntProgress(value=0, max=9998899), HTML(value='')))"
      ]
     },
     "metadata": {},
     "output_type": "display_data"
    },
    {
     "data": {
      "application/vnd.jupyter.widget-view+json": {
       "model_id": "27e2500f68cc48b08d0e006ae9ccff10",
       "version_major": 2,
       "version_minor": 0
      },
      "text/plain": [
       "HBox(children=(IntProgress(value=0, max=9998899), HTML(value='')))"
      ]
     },
     "metadata": {},
     "output_type": "display_data"
    },
    {
     "data": {
      "application/vnd.jupyter.widget-view+json": {
       "model_id": "5cba4c56358042618bc632b20957acb6",
       "version_major": 2,
       "version_minor": 0
      },
      "text/plain": [
       "HBox(children=(IntProgress(value=0, max=9998899), HTML(value='')))"
      ]
     },
     "metadata": {},
     "output_type": "display_data"
    },
    {
     "data": {
      "application/vnd.jupyter.widget-view+json": {
       "model_id": "73786d3ddbd94732a15564e98546f53b",
       "version_major": 2,
       "version_minor": 0
      },
      "text/plain": [
       "HBox(children=(IntProgress(value=0, max=9998899), HTML(value='')))"
      ]
     },
     "metadata": {},
     "output_type": "display_data"
    },
    {
     "data": {
      "application/vnd.jupyter.widget-view+json": {
       "model_id": "6435d0c782d6477695453c91a59068e6",
       "version_major": 2,
       "version_minor": 0
      },
      "text/plain": [
       "HBox(children=(IntProgress(value=0, max=9998899), HTML(value='')))"
      ]
     },
     "metadata": {},
     "output_type": "display_data"
    },
    {
     "data": {
      "application/vnd.jupyter.widget-view+json": {
       "model_id": "c2c11fc78418425aab9055a55a02845b",
       "version_major": 2,
       "version_minor": 0
      },
      "text/plain": [
       "HBox(children=(IntProgress(value=0, max=9998899), HTML(value='')))"
      ]
     },
     "metadata": {},
     "output_type": "display_data"
    },
    {
     "data": {
      "application/vnd.jupyter.widget-view+json": {
       "model_id": "d1ad78105b28433283067ff1f1437fa4",
       "version_major": 2,
       "version_minor": 0
      },
      "text/plain": [
       "HBox(children=(IntProgress(value=0, max=9998899), HTML(value='')))"
      ]
     },
     "metadata": {},
     "output_type": "display_data"
    },
    {
     "data": {
      "application/vnd.jupyter.widget-view+json": {
       "model_id": "040bdd9b3b2d4a1f84cdce3f90bd28d7",
       "version_major": 2,
       "version_minor": 0
      },
      "text/plain": [
       "HBox(children=(IntProgress(value=0, max=9998899), HTML(value='')))"
      ]
     },
     "metadata": {},
     "output_type": "display_data"
    },
    {
     "data": {
      "application/vnd.jupyter.widget-view+json": {
       "model_id": "535870b16ace49beb85988d68d69b999",
       "version_major": 2,
       "version_minor": 0
      },
      "text/plain": [
       "HBox(children=(IntProgress(value=0, max=9998899), HTML(value='')))"
      ]
     },
     "metadata": {},
     "output_type": "display_data"
    },
    {
     "data": {
      "application/vnd.jupyter.widget-view+json": {
       "model_id": "f24608cb5c3940d2a888203a6c6a4dd3",
       "version_major": 2,
       "version_minor": 0
      },
      "text/plain": [
       "HBox(children=(IntProgress(value=0, max=9998899), HTML(value='')))"
      ]
     },
     "metadata": {},
     "output_type": "display_data"
    },
    {
     "data": {
      "application/vnd.jupyter.widget-view+json": {
       "model_id": "56e8fba01ec846eb93f1135026c21dfd",
       "version_major": 2,
       "version_minor": 0
      },
      "text/plain": [
       "HBox(children=(IntProgress(value=0, max=9998899), HTML(value='')))"
      ]
     },
     "metadata": {},
     "output_type": "display_data"
    },
    {
     "data": {
      "application/vnd.jupyter.widget-view+json": {
       "model_id": "e1cadb5f3bb34451ab1fab15e3999cb8",
       "version_major": 2,
       "version_minor": 0
      },
      "text/plain": [
       "HBox(children=(IntProgress(value=0, max=9998899), HTML(value='')))"
      ]
     },
     "metadata": {},
     "output_type": "display_data"
    },
    {
     "data": {
      "application/vnd.jupyter.widget-view+json": {
       "model_id": "5afe8a10f0d04880b156e04dd300457f",
       "version_major": 2,
       "version_minor": 0
      },
      "text/plain": [
       "HBox(children=(IntProgress(value=0, max=9998899), HTML(value='')))"
      ]
     },
     "metadata": {},
     "output_type": "display_data"
    },
    {
     "data": {
      "application/vnd.jupyter.widget-view+json": {
       "model_id": "388e264f01ab4c5b96d565d875015296",
       "version_major": 2,
       "version_minor": 0
      },
      "text/plain": [
       "HBox(children=(IntProgress(value=0, max=9998899), HTML(value='')))"
      ]
     },
     "metadata": {},
     "output_type": "display_data"
    },
    {
     "data": {
      "application/vnd.jupyter.widget-view+json": {
       "model_id": "b3614aecd25b40cb909601c62daa6488",
       "version_major": 2,
       "version_minor": 0
      },
      "text/plain": [
       "HBox(children=(IntProgress(value=0, max=9998899), HTML(value='')))"
      ]
     },
     "metadata": {},
     "output_type": "display_data"
    },
    {
     "data": {
      "application/vnd.jupyter.widget-view+json": {
       "model_id": "b7c4a623e6f04ab8874e0f71022e6f85",
       "version_major": 2,
       "version_minor": 0
      },
      "text/plain": [
       "HBox(children=(IntProgress(value=0, max=9998899), HTML(value='')))"
      ]
     },
     "metadata": {},
     "output_type": "display_data"
    },
    {
     "data": {
      "application/vnd.jupyter.widget-view+json": {
       "model_id": "7de0a4cc0aed4303b56159f5afb37003",
       "version_major": 2,
       "version_minor": 0
      },
      "text/plain": [
       "HBox(children=(IntProgress(value=0, max=9998899), HTML(value='')))"
      ]
     },
     "metadata": {},
     "output_type": "display_data"
    },
    {
     "data": {
      "application/vnd.jupyter.widget-view+json": {
       "model_id": "6d6e880505a94bd6b8313aa0198fbc2a",
       "version_major": 2,
       "version_minor": 0
      },
      "text/plain": [
       "HBox(children=(IntProgress(value=0, max=9998899), HTML(value='')))"
      ]
     },
     "metadata": {},
     "output_type": "display_data"
    },
    {
     "data": {
      "application/vnd.jupyter.widget-view+json": {
       "model_id": "b26748afffa94839bf738592fe42685d",
       "version_major": 2,
       "version_minor": 0
      },
      "text/plain": [
       "HBox(children=(IntProgress(value=0, max=9998899), HTML(value='')))"
      ]
     },
     "metadata": {},
     "output_type": "display_data"
    },
    {
     "data": {
      "application/vnd.jupyter.widget-view+json": {
       "model_id": "965d1d228aae47138bbabd7a0e100d43",
       "version_major": 2,
       "version_minor": 0
      },
      "text/plain": [
       "HBox(children=(IntProgress(value=0, max=9998899), HTML(value='')))"
      ]
     },
     "metadata": {},
     "output_type": "display_data"
    },
    {
     "data": {
      "application/vnd.jupyter.widget-view+json": {
       "model_id": "6e9d613d176e462a9bff287de65e0e4c",
       "version_major": 2,
       "version_minor": 0
      },
      "text/plain": [
       "HBox(children=(IntProgress(value=0, max=9998899), HTML(value='')))"
      ]
     },
     "metadata": {},
     "output_type": "display_data"
    },
    {
     "data": {
      "application/vnd.jupyter.widget-view+json": {
       "model_id": "4c278f10843740d1a22e1d9324a5a19e",
       "version_major": 2,
       "version_minor": 0
      },
      "text/plain": [
       "HBox(children=(IntProgress(value=0, max=9998899), HTML(value='')))"
      ]
     },
     "metadata": {},
     "output_type": "display_data"
    },
    {
     "data": {
      "application/vnd.jupyter.widget-view+json": {
       "model_id": "da8723ba58a44cfdb7b9b01b76ad59ce",
       "version_major": 2,
       "version_minor": 0
      },
      "text/plain": [
       "HBox(children=(IntProgress(value=0, max=9998899), HTML(value='')))"
      ]
     },
     "metadata": {},
     "output_type": "display_data"
    },
    {
     "data": {
      "application/vnd.jupyter.widget-view+json": {
       "model_id": "5ecf9cf4383941c2bc7d93ac6761aef1",
       "version_major": 2,
       "version_minor": 0
      },
      "text/plain": [
       "HBox(children=(IntProgress(value=0, max=9998899), HTML(value='')))"
      ]
     },
     "metadata": {},
     "output_type": "display_data"
    },
    {
     "data": {
      "application/vnd.jupyter.widget-view+json": {
       "model_id": "bca4b27a2c5a4cccb38bff07e425e938",
       "version_major": 2,
       "version_minor": 0
      },
      "text/plain": [
       "HBox(children=(IntProgress(value=0, max=9998899), HTML(value='')))"
      ]
     },
     "metadata": {},
     "output_type": "display_data"
    },
    {
     "data": {
      "application/vnd.jupyter.widget-view+json": {
       "model_id": "7e3e0fa458b8414e9b3fd6ed61c2bbed",
       "version_major": 2,
       "version_minor": 0
      },
      "text/plain": [
       "HBox(children=(IntProgress(value=0, max=9998899), HTML(value='')))"
      ]
     },
     "metadata": {},
     "output_type": "display_data"
    },
    {
     "data": {
      "application/vnd.jupyter.widget-view+json": {
       "model_id": "a2b5d48bbc1f4ee7add4ff73b4f6bfab",
       "version_major": 2,
       "version_minor": 0
      },
      "text/plain": [
       "HBox(children=(IntProgress(value=0, max=9998899), HTML(value='')))"
      ]
     },
     "metadata": {},
     "output_type": "display_data"
    },
    {
     "data": {
      "application/vnd.jupyter.widget-view+json": {
       "model_id": "18b561c4ee644c71afd6821b20576f2d",
       "version_major": 2,
       "version_minor": 0
      },
      "text/plain": [
       "HBox(children=(IntProgress(value=0, max=9998899), HTML(value='')))"
      ]
     },
     "metadata": {},
     "output_type": "display_data"
    },
    {
     "data": {
      "application/vnd.jupyter.widget-view+json": {
       "model_id": "ba10ae6d45c3427aa444887d31df85b6",
       "version_major": 2,
       "version_minor": 0
      },
      "text/plain": [
       "HBox(children=(IntProgress(value=0, max=9998899), HTML(value='')))"
      ]
     },
     "metadata": {},
     "output_type": "display_data"
    },
    {
     "data": {
      "application/vnd.jupyter.widget-view+json": {
       "model_id": "c288681d4a2a4c5aa9eb16fa15738388",
       "version_major": 2,
       "version_minor": 0
      },
      "text/plain": [
       "HBox(children=(IntProgress(value=0, max=9998899), HTML(value='')))"
      ]
     },
     "metadata": {},
     "output_type": "display_data"
    },
    {
     "data": {
      "application/vnd.jupyter.widget-view+json": {
       "model_id": "f53afff8164e4d22b21bd157d19a46e5",
       "version_major": 2,
       "version_minor": 0
      },
      "text/plain": [
       "HBox(children=(IntProgress(value=0, max=9998899), HTML(value='')))"
      ]
     },
     "metadata": {},
     "output_type": "display_data"
    },
    {
     "data": {
      "application/vnd.jupyter.widget-view+json": {
       "model_id": "e15d830ad9bc4d37b3761fadd8e70c1a",
       "version_major": 2,
       "version_minor": 0
      },
      "text/plain": [
       "HBox(children=(IntProgress(value=0, max=9998899), HTML(value='')))"
      ]
     },
     "metadata": {},
     "output_type": "display_data"
    },
    {
     "data": {
      "application/vnd.jupyter.widget-view+json": {
       "model_id": "1a5d476534654fb896f9a0a5b18ba156",
       "version_major": 2,
       "version_minor": 0
      },
      "text/plain": [
       "HBox(children=(IntProgress(value=0, max=9998899), HTML(value='')))"
      ]
     },
     "metadata": {},
     "output_type": "display_data"
    },
    {
     "data": {
      "application/vnd.jupyter.widget-view+json": {
       "model_id": "81468f67f50a4a4f8841183607d9f014",
       "version_major": 2,
       "version_minor": 0
      },
      "text/plain": [
       "HBox(children=(IntProgress(value=0, max=9998899), HTML(value='')))"
      ]
     },
     "metadata": {},
     "output_type": "display_data"
    },
    {
     "data": {
      "application/vnd.jupyter.widget-view+json": {
       "model_id": "cb1de6023ee34a40913b40aba7364cef",
       "version_major": 2,
       "version_minor": 0
      },
      "text/plain": [
       "HBox(children=(IntProgress(value=0, max=9998899), HTML(value='')))"
      ]
     },
     "metadata": {},
     "output_type": "display_data"
    },
    {
     "data": {
      "application/vnd.jupyter.widget-view+json": {
       "model_id": "b4d1ee575de94fe99ec2bc0b358a2a9f",
       "version_major": 2,
       "version_minor": 0
      },
      "text/plain": [
       "HBox(children=(IntProgress(value=0, max=9998899), HTML(value='')))"
      ]
     },
     "metadata": {},
     "output_type": "display_data"
    },
    {
     "data": {
      "application/vnd.jupyter.widget-view+json": {
       "model_id": "dc5ff5c221604a3797750d18b83eb2c4",
       "version_major": 2,
       "version_minor": 0
      },
      "text/plain": [
       "HBox(children=(IntProgress(value=0, max=9998899), HTML(value='')))"
      ]
     },
     "metadata": {},
     "output_type": "display_data"
    },
    {
     "data": {
      "application/vnd.jupyter.widget-view+json": {
       "model_id": "047cc78d622c4c85a380db559c0425d5",
       "version_major": 2,
       "version_minor": 0
      },
      "text/plain": [
       "HBox(children=(IntProgress(value=0, max=9998899), HTML(value='')))"
      ]
     },
     "metadata": {},
     "output_type": "display_data"
    },
    {
     "data": {
      "application/vnd.jupyter.widget-view+json": {
       "model_id": "112f24554c4646c485440deb0b165eee",
       "version_major": 2,
       "version_minor": 0
      },
      "text/plain": [
       "HBox(children=(IntProgress(value=0, max=9998899), HTML(value='')))"
      ]
     },
     "metadata": {},
     "output_type": "display_data"
    },
    {
     "data": {
      "application/vnd.jupyter.widget-view+json": {
       "model_id": "4c262cbb6c394c44a21b0ce6de420ede",
       "version_major": 2,
       "version_minor": 0
      },
      "text/plain": [
       "HBox(children=(IntProgress(value=0, max=9998899), HTML(value='')))"
      ]
     },
     "metadata": {},
     "output_type": "display_data"
    },
    {
     "data": {
      "application/vnd.jupyter.widget-view+json": {
       "model_id": "777b28764ca74cb088e5316803e7a4d1",
       "version_major": 2,
       "version_minor": 0
      },
      "text/plain": [
       "HBox(children=(IntProgress(value=0, max=9998899), HTML(value='')))"
      ]
     },
     "metadata": {},
     "output_type": "display_data"
    },
    {
     "data": {
      "application/vnd.jupyter.widget-view+json": {
       "model_id": "04bd71d840354a4bbb4032865dd8166c",
       "version_major": 2,
       "version_minor": 0
      },
      "text/plain": [
       "HBox(children=(IntProgress(value=0, max=9998899), HTML(value='')))"
      ]
     },
     "metadata": {},
     "output_type": "display_data"
    },
    {
     "data": {
      "application/vnd.jupyter.widget-view+json": {
       "model_id": "b016f827c4b74491bf9c120a81e332ce",
       "version_major": 2,
       "version_minor": 0
      },
      "text/plain": [
       "HBox(children=(IntProgress(value=0, max=9998899), HTML(value='')))"
      ]
     },
     "metadata": {},
     "output_type": "display_data"
    },
    {
     "data": {
      "application/vnd.jupyter.widget-view+json": {
       "model_id": "05533fae4aec4892a94957b8b58ddd8a",
       "version_major": 2,
       "version_minor": 0
      },
      "text/plain": [
       "HBox(children=(IntProgress(value=0, max=9998899), HTML(value='')))"
      ]
     },
     "metadata": {},
     "output_type": "display_data"
    },
    {
     "data": {
      "application/vnd.jupyter.widget-view+json": {
       "model_id": "df565a14d6cd4a5db4c706b0c88379bd",
       "version_major": 2,
       "version_minor": 0
      },
      "text/plain": [
       "HBox(children=(IntProgress(value=0, max=9998899), HTML(value='')))"
      ]
     },
     "metadata": {},
     "output_type": "display_data"
    },
    {
     "data": {
      "application/vnd.jupyter.widget-view+json": {
       "model_id": "cfc26fac299b46869f8ca91f77ee148c",
       "version_major": 2,
       "version_minor": 0
      },
      "text/plain": [
       "HBox(children=(IntProgress(value=0, max=9998899), HTML(value='')))"
      ]
     },
     "metadata": {},
     "output_type": "display_data"
    },
    {
     "data": {
      "application/vnd.jupyter.widget-view+json": {
       "model_id": "b77b736837104affbd18f9f0939c2a12",
       "version_major": 2,
       "version_minor": 0
      },
      "text/plain": [
       "HBox(children=(IntProgress(value=0, max=9998899), HTML(value='')))"
      ]
     },
     "metadata": {},
     "output_type": "display_data"
    },
    {
     "data": {
      "application/vnd.jupyter.widget-view+json": {
       "model_id": "3165933c59284eebbd3634ad3f493cf4",
       "version_major": 2,
       "version_minor": 0
      },
      "text/plain": [
       "HBox(children=(IntProgress(value=0, max=9998899), HTML(value='')))"
      ]
     },
     "metadata": {},
     "output_type": "display_data"
    },
    {
     "data": {
      "application/vnd.jupyter.widget-view+json": {
       "model_id": "5108834a66e54d328c268c3f6d40c072",
       "version_major": 2,
       "version_minor": 0
      },
      "text/plain": [
       "HBox(children=(IntProgress(value=0, max=9998899), HTML(value='')))"
      ]
     },
     "metadata": {},
     "output_type": "display_data"
    },
    {
     "data": {
      "application/vnd.jupyter.widget-view+json": {
       "model_id": "11f7c43f241a48228b46e3432b101d5c",
       "version_major": 2,
       "version_minor": 0
      },
      "text/plain": [
       "HBox(children=(IntProgress(value=0, max=9998899), HTML(value='')))"
      ]
     },
     "metadata": {},
     "output_type": "display_data"
    },
    {
     "data": {
      "application/vnd.jupyter.widget-view+json": {
       "model_id": "26f3cff71c034ad7b9249001278947a4",
       "version_major": 2,
       "version_minor": 0
      },
      "text/plain": [
       "HBox(children=(IntProgress(value=0, max=9998899), HTML(value='')))"
      ]
     },
     "metadata": {},
     "output_type": "display_data"
    },
    {
     "data": {
      "application/vnd.jupyter.widget-view+json": {
       "model_id": "5d6ec2bdf0b845c18e98839d615a7794",
       "version_major": 2,
       "version_minor": 0
      },
      "text/plain": [
       "HBox(children=(IntProgress(value=0, max=9998899), HTML(value='')))"
      ]
     },
     "metadata": {},
     "output_type": "display_data"
    },
    {
     "data": {
      "application/vnd.jupyter.widget-view+json": {
       "model_id": "cd5d88671603437a8e51a66b21733c4d",
       "version_major": 2,
       "version_minor": 0
      },
      "text/plain": [
       "HBox(children=(IntProgress(value=0, max=9998899), HTML(value='')))"
      ]
     },
     "metadata": {},
     "output_type": "display_data"
    },
    {
     "data": {
      "application/vnd.jupyter.widget-view+json": {
       "model_id": "b31e92d855c446a29cc0df423a1842ae",
       "version_major": 2,
       "version_minor": 0
      },
      "text/plain": [
       "HBox(children=(IntProgress(value=0, max=9998899), HTML(value='')))"
      ]
     },
     "metadata": {},
     "output_type": "display_data"
    },
    {
     "data": {
      "application/vnd.jupyter.widget-view+json": {
       "model_id": "79e1ee602bed4ecb91f42c7ff305eaf5",
       "version_major": 2,
       "version_minor": 0
      },
      "text/plain": [
       "HBox(children=(IntProgress(value=0, max=9998899), HTML(value='')))"
      ]
     },
     "metadata": {},
     "output_type": "display_data"
    },
    {
     "data": {
      "application/vnd.jupyter.widget-view+json": {
       "model_id": "c336cb571ffd4f87b43fa3c2a6688aa7",
       "version_major": 2,
       "version_minor": 0
      },
      "text/plain": [
       "HBox(children=(IntProgress(value=0, max=9998899), HTML(value='')))"
      ]
     },
     "metadata": {},
     "output_type": "display_data"
    },
    {
     "data": {
      "application/vnd.jupyter.widget-view+json": {
       "model_id": "3454a4a6c2124375bcd631ea3db7e9a0",
       "version_major": 2,
       "version_minor": 0
      },
      "text/plain": [
       "HBox(children=(IntProgress(value=0, max=9998899), HTML(value='')))"
      ]
     },
     "metadata": {},
     "output_type": "display_data"
    },
    {
     "data": {
      "application/vnd.jupyter.widget-view+json": {
       "model_id": "5d5b9f6247184be4a50eaf6dd4a356fd",
       "version_major": 2,
       "version_minor": 0
      },
      "text/plain": [
       "HBox(children=(IntProgress(value=0, max=9998899), HTML(value='')))"
      ]
     },
     "metadata": {},
     "output_type": "display_data"
    },
    {
     "data": {
      "application/vnd.jupyter.widget-view+json": {
       "model_id": "4b9ae984f540420995fa3ce6743ec6e7",
       "version_major": 2,
       "version_minor": 0
      },
      "text/plain": [
       "HBox(children=(IntProgress(value=0, max=9998899), HTML(value='')))"
      ]
     },
     "metadata": {},
     "output_type": "display_data"
    },
    {
     "data": {
      "application/vnd.jupyter.widget-view+json": {
       "model_id": "f2f9775cfcc24be68b56127ac8d361f6",
       "version_major": 2,
       "version_minor": 0
      },
      "text/plain": [
       "HBox(children=(IntProgress(value=0, max=9998899), HTML(value='')))"
      ]
     },
     "metadata": {},
     "output_type": "display_data"
    },
    {
     "data": {
      "application/vnd.jupyter.widget-view+json": {
       "model_id": "f9413aa4816c4dc3ae721800cebc3c61",
       "version_major": 2,
       "version_minor": 0
      },
      "text/plain": [
       "HBox(children=(IntProgress(value=0, max=9998899), HTML(value='')))"
      ]
     },
     "metadata": {},
     "output_type": "display_data"
    },
    {
     "data": {
      "application/vnd.jupyter.widget-view+json": {
       "model_id": "1908512024ad4815aedb73debba56d57",
       "version_major": 2,
       "version_minor": 0
      },
      "text/plain": [
       "HBox(children=(IntProgress(value=0, max=9998899), HTML(value='')))"
      ]
     },
     "metadata": {},
     "output_type": "display_data"
    },
    {
     "data": {
      "application/vnd.jupyter.widget-view+json": {
       "model_id": "22fb17b670d64531ad7521903f2613fc",
       "version_major": 2,
       "version_minor": 0
      },
      "text/plain": [
       "HBox(children=(IntProgress(value=0, max=9998899), HTML(value='')))"
      ]
     },
     "metadata": {},
     "output_type": "display_data"
    },
    {
     "data": {
      "application/vnd.jupyter.widget-view+json": {
       "model_id": "9963f072dc2342adb2fd93ef4285ee56",
       "version_major": 2,
       "version_minor": 0
      },
      "text/plain": [
       "HBox(children=(IntProgress(value=0, max=9998899), HTML(value='')))"
      ]
     },
     "metadata": {},
     "output_type": "display_data"
    },
    {
     "data": {
      "application/vnd.jupyter.widget-view+json": {
       "model_id": "60196794750c4ed0badbb0f5062873e1",
       "version_major": 2,
       "version_minor": 0
      },
      "text/plain": [
       "HBox(children=(IntProgress(value=0, max=9998899), HTML(value='')))"
      ]
     },
     "metadata": {},
     "output_type": "display_data"
    },
    {
     "data": {
      "application/vnd.jupyter.widget-view+json": {
       "model_id": "26dd005f32d243afbc77a9fceebc4a5b",
       "version_major": 2,
       "version_minor": 0
      },
      "text/plain": [
       "HBox(children=(IntProgress(value=0, max=9998899), HTML(value='')))"
      ]
     },
     "metadata": {},
     "output_type": "display_data"
    },
    {
     "data": {
      "application/vnd.jupyter.widget-view+json": {
       "model_id": "77d7ebb970be41bfab64266f41abd1fc",
       "version_major": 2,
       "version_minor": 0
      },
      "text/plain": [
       "HBox(children=(IntProgress(value=0, max=9998899), HTML(value='')))"
      ]
     },
     "metadata": {},
     "output_type": "display_data"
    },
    {
     "data": {
      "application/vnd.jupyter.widget-view+json": {
       "model_id": "c890a35bb7464f5ca5f69a6a1568eede",
       "version_major": 2,
       "version_minor": 0
      },
      "text/plain": [
       "HBox(children=(IntProgress(value=0, max=9998899), HTML(value='')))"
      ]
     },
     "metadata": {},
     "output_type": "display_data"
    },
    {
     "data": {
      "application/vnd.jupyter.widget-view+json": {
       "model_id": "5dbb1bbf24354e6599def777da56b1c1",
       "version_major": 2,
       "version_minor": 0
      },
      "text/plain": [
       "HBox(children=(IntProgress(value=0, max=9998899), HTML(value='')))"
      ]
     },
     "metadata": {},
     "output_type": "display_data"
    },
    {
     "data": {
      "application/vnd.jupyter.widget-view+json": {
       "model_id": "e9fe4b8b61394fed8717d71067c663f5",
       "version_major": 2,
       "version_minor": 0
      },
      "text/plain": [
       "HBox(children=(IntProgress(value=0, max=9998899), HTML(value='')))"
      ]
     },
     "metadata": {},
     "output_type": "display_data"
    },
    {
     "data": {
      "application/vnd.jupyter.widget-view+json": {
       "model_id": "78546a2999164694bf1d3274913fcd51",
       "version_major": 2,
       "version_minor": 0
      },
      "text/plain": [
       "HBox(children=(IntProgress(value=0, max=9998899), HTML(value='')))"
      ]
     },
     "metadata": {},
     "output_type": "display_data"
    },
    {
     "data": {
      "application/vnd.jupyter.widget-view+json": {
       "model_id": "b71653d106a44eacb8b9ab0c6ac57d89",
       "version_major": 2,
       "version_minor": 0
      },
      "text/plain": [
       "HBox(children=(IntProgress(value=0, max=9998899), HTML(value='')))"
      ]
     },
     "metadata": {},
     "output_type": "display_data"
    },
    {
     "data": {
      "application/vnd.jupyter.widget-view+json": {
       "model_id": "75d94c2a76bc4915ad156ef2c3a77f23",
       "version_major": 2,
       "version_minor": 0
      },
      "text/plain": [
       "HBox(children=(IntProgress(value=0, max=9998899), HTML(value='')))"
      ]
     },
     "metadata": {},
     "output_type": "display_data"
    },
    {
     "data": {
      "application/vnd.jupyter.widget-view+json": {
       "model_id": "4889c973e2a44a198c547367559ab89b",
       "version_major": 2,
       "version_minor": 0
      },
      "text/plain": [
       "HBox(children=(IntProgress(value=0, max=9998899), HTML(value='')))"
      ]
     },
     "metadata": {},
     "output_type": "display_data"
    },
    {
     "data": {
      "application/vnd.jupyter.widget-view+json": {
       "model_id": "f73f61c416d942a384a40ae5e60d6f2d",
       "version_major": 2,
       "version_minor": 0
      },
      "text/plain": [
       "HBox(children=(IntProgress(value=0, max=9998899), HTML(value='')))"
      ]
     },
     "metadata": {},
     "output_type": "display_data"
    },
    {
     "data": {
      "application/vnd.jupyter.widget-view+json": {
       "model_id": "f064338b08af43079f64d35fb2896ca6",
       "version_major": 2,
       "version_minor": 0
      },
      "text/plain": [
       "HBox(children=(IntProgress(value=0, max=9998899), HTML(value='')))"
      ]
     },
     "metadata": {},
     "output_type": "display_data"
    },
    {
     "data": {
      "application/vnd.jupyter.widget-view+json": {
       "model_id": "20fd2a4ca3904061a6cd8e6468f0bdcf",
       "version_major": 2,
       "version_minor": 0
      },
      "text/plain": [
       "HBox(children=(IntProgress(value=0, max=9998899), HTML(value='')))"
      ]
     },
     "metadata": {},
     "output_type": "display_data"
    },
    {
     "data": {
      "application/vnd.jupyter.widget-view+json": {
       "model_id": "f6667b533fc84ada8f5c5e44ad6e8b2a",
       "version_major": 2,
       "version_minor": 0
      },
      "text/plain": [
       "HBox(children=(IntProgress(value=0, max=9998899), HTML(value='')))"
      ]
     },
     "metadata": {},
     "output_type": "display_data"
    },
    {
     "data": {
      "application/vnd.jupyter.widget-view+json": {
       "model_id": "8bb8da9ef1964612a04009a328f776bb",
       "version_major": 2,
       "version_minor": 0
      },
      "text/plain": [
       "HBox(children=(IntProgress(value=0, max=9998899), HTML(value='')))"
      ]
     },
     "metadata": {},
     "output_type": "display_data"
    },
    {
     "data": {
      "application/vnd.jupyter.widget-view+json": {
       "model_id": "85027cde4cbe48a2a670c3f37be710df",
       "version_major": 2,
       "version_minor": 0
      },
      "text/plain": [
       "HBox(children=(IntProgress(value=0, max=9998899), HTML(value='')))"
      ]
     },
     "metadata": {},
     "output_type": "display_data"
    },
    {
     "data": {
      "application/vnd.jupyter.widget-view+json": {
       "model_id": "07176dc9545946ec9260fd637a40a55c",
       "version_major": 2,
       "version_minor": 0
      },
      "text/plain": [
       "HBox(children=(IntProgress(value=0, max=9998899), HTML(value='')))"
      ]
     },
     "metadata": {},
     "output_type": "display_data"
    },
    {
     "data": {
      "application/vnd.jupyter.widget-view+json": {
       "model_id": "29890ec211664603ab511e06d39b6952",
       "version_major": 2,
       "version_minor": 0
      },
      "text/plain": [
       "HBox(children=(IntProgress(value=0, max=9998899), HTML(value='')))"
      ]
     },
     "metadata": {},
     "output_type": "display_data"
    }
   ],
   "source": [
    "K = 5\n",
    "start5 = time.time()\n",
    "sp_gt5 = compute_single_unweighted_knn_class_shapley(x_trn, y_trn, x_tst_knn_gt, y_tst, 5)\n",
    "end5 = time.time() - start5"
   ]
  },
  {
   "cell_type": "code",
   "execution_count": 110,
   "metadata": {},
   "outputs": [
    {
     "name": "stdout",
     "output_type": "stream",
     "text": [
      "6564.723655223846\n"
     ]
    }
   ],
   "source": [
    "print(end5)"
   ]
  },
  {
   "cell_type": "code",
   "execution_count": null,
   "metadata": {},
   "outputs": [],
   "source": [
    "get_accuracy_multik(y_tst, x_tst_knn_gt, 5)"
   ]
  },
  {
   "cell_type": "code",
   "execution_count": 101,
   "metadata": {},
   "outputs": [],
   "source": [
    "def get_accuracy_multik_2(y, knn, k=1):\n",
    "    acc = 0\n",
    "    for i, idx in enumerate(y):\n",
    "        correct = 0\n",
    "        for j in range(k):\n",
    "            correct += equal(y[i], y_trn[knn[i][j]])\n",
    "        acc += int(correct) / k\n",
    "    print(acc / len(knn))\n",
    "    return acc / len(knn)"
   ]
  },
  {
   "cell_type": "code",
   "execution_count": 102,
   "metadata": {},
   "outputs": [
    {
     "name": "stdout",
     "output_type": "stream",
     "text": [
      "0.98\n"
     ]
    },
    {
     "data": {
      "text/plain": [
       "0.98"
      ]
     },
     "execution_count": 102,
     "metadata": {},
     "output_type": "execute_result"
    }
   ],
   "source": [
    "get_accuracy_multik(y_tst, x_tst_knn_gt, 5)"
   ]
  },
  {
   "cell_type": "code",
   "execution_count": 103,
   "metadata": {},
   "outputs": [
    {
     "name": "stdout",
     "output_type": "stream",
     "text": [
      "0.96\n"
     ]
    },
    {
     "data": {
      "text/plain": [
       "0.96"
      ]
     },
     "execution_count": 103,
     "metadata": {},
     "output_type": "execute_result"
    }
   ],
   "source": [
    "get_accuracy_multik(y_tst, x_tst_knn_gt, 2)"
   ]
  },
  {
   "cell_type": "code",
   "execution_count": 104,
   "metadata": {},
   "outputs": [
    {
     "name": "stdout",
     "output_type": "stream",
     "text": [
      "0.9\n"
     ]
    },
    {
     "data": {
      "text/plain": [
       "0.9"
      ]
     },
     "execution_count": 104,
     "metadata": {},
     "output_type": "execute_result"
    }
   ],
   "source": [
    "get_accuracy_multik(y_tst, x_tst_knn_gt, 1)"
   ]
  },
  {
   "cell_type": "code",
   "execution_count": 105,
   "metadata": {},
   "outputs": [
    {
     "name": "stdout",
     "output_type": "stream",
     "text": [
      "0.9\n"
     ]
    },
    {
     "data": {
      "text/plain": [
       "0.9"
      ]
     },
     "execution_count": 105,
     "metadata": {},
     "output_type": "execute_result"
    }
   ],
   "source": [
    "get_accuracy_multik_2(y_tst, x_tst_knn_gt, 1)"
   ]
  },
  {
   "cell_type": "code",
   "execution_count": 106,
   "metadata": {},
   "outputs": [
    {
     "name": "stdout",
     "output_type": "stream",
     "text": [
      "0.915\n"
     ]
    },
    {
     "data": {
      "text/plain": [
       "0.915"
      ]
     },
     "execution_count": 106,
     "metadata": {},
     "output_type": "execute_result"
    }
   ],
   "source": [
    "get_accuracy_multik_2(y_tst, x_tst_knn_gt, 2)"
   ]
  },
  {
   "cell_type": "code",
   "execution_count": 107,
   "metadata": {},
   "outputs": [
    {
     "name": "stdout",
     "output_type": "stream",
     "text": [
      "0.9059999999999997\n"
     ]
    },
    {
     "data": {
      "text/plain": [
       "0.9059999999999997"
      ]
     },
     "execution_count": 107,
     "metadata": {},
     "output_type": "execute_result"
    }
   ],
   "source": [
    "get_accuracy_multik_2(y_tst, x_tst_knn_gt, 5)"
   ]
  },
  {
   "cell_type": "code",
   "execution_count": 108,
   "metadata": {},
   "outputs": [
    {
     "name": "stdout",
     "output_type": "stream",
     "text": [
      "0.9099999999999998\n"
     ]
    },
    {
     "data": {
      "text/plain": [
       "0.9099999999999998"
      ]
     },
     "execution_count": 108,
     "metadata": {},
     "output_type": "execute_result"
    }
   ],
   "source": [
    "get_accuracy_multik_2(y_tst, x_tst_knn_gt, 3)"
   ]
  },
  {
   "cell_type": "code",
   "execution_count": 113,
   "metadata": {},
   "outputs": [],
   "source": [
    "import numpy as np\n",
    "import pdb\n",
    "\n",
    "\n",
    "def lsh_function(t,x,w,b):\n",
    "    # x is 1-d array\n",
    "    h = np.floor((np.dot(w,x)+b)/t).astype(int)\n",
    "    return h\n",
    "\n",
    "\n",
    "class LSH:\n",
    "    def __init__(self,n_hash_bit,n_hash_table,x_trn,y_trn,t=0.1):\n",
    "        self.n_hash_bit = n_hash_bit\n",
    "        self.n_hash_table = n_hash_table\n",
    "        self.t = t # width of projections\n",
    "        self.x_trn = x_trn\n",
    "        self.y_trn = y_trn\n",
    "        self.N = len(x_trn)\n",
    "        self.dim = 4096\n",
    "        # draw w from a normal distribution (2-stable)\n",
    "        self.w = np.random.normal(0, 1, (n_hash_table, n_hash_bit, self.dim))\n",
    "        # draw b from U[0,t]\n",
    "        self.b = np.random.uniform(0, self.t, (n_hash_table, n_hash_bit))\n",
    "        self.x_trn_hash = [dict() for i in range(n_hash_table)]\n",
    "        for i in tqdm(range(self.N)):\n",
    "            hash_code_all = lsh_function(self.t, x_trn[i] / dist_rand, self.w, self.b)\n",
    "            for l in range(n_hash_table):\n",
    "                hash_code_trn = '.'.join(map(str, hash_code_all[l, :]))\n",
    "                if hash_code_trn in self.x_trn_hash[l].keys():\n",
    "                    self.x_trn_hash[l][hash_code_trn].append(i)\n",
    "                else:\n",
    "                    self.x_trn_hash[l][hash_code_trn] = [i]\n",
    "#             if i % 1000 == 0:\n",
    "#                 print('build hash %s'%i)\n",
    "\n",
    "    def get_approx_KNN(self,x_tst,K):\n",
    "        N_tst = x_tst.shape[0]\n",
    "        x_tst_knn = np.ones((N_tst, K)) * (-1)\n",
    "        nns_len = np.zeros(N_tst)\n",
    "        for i_tst in tqdm(range(N_tst)):\n",
    "            nns = []\n",
    "            for l in range(self.n_hash_table):\n",
    "                hash_code_int = lsh_function(self.t, x_tst[i_tst] / dist_rand, self.w[l, :, :], self.b[l, :])\n",
    "                hash_code_test = '.'.join(map(str, hash_code_int))\n",
    "                if hash_code_test in self.x_trn_hash[l].keys():\n",
    "                    nns += self.x_trn_hash[l][hash_code_test]\n",
    "            nns = np.unique(nns)\n",
    "            num_collide_elements = len(nns)\n",
    "            if len(nns) > 0:\n",
    "                dist = [np.linalg.norm(self.x_trn[i] / dist_rand - x_tst[i_tst] / dist_rand, 2) for i in nns]\n",
    "                dist_min_ind = nns[np.argsort(dist)]\n",
    "                if num_collide_elements < K:\n",
    "                    x_tst_knn[i_tst, :num_collide_elements] = dist_min_ind[:num_collide_elements]\n",
    "                else:\n",
    "                    x_tst_knn[i_tst, :] = dist_min_ind[:K]\n",
    "            # pdb.set_trace()\n",
    "            nns_len[i_tst] = len(nns)\n",
    "            if i_tst % 100 == 0:\n",
    "                print('get approximate knn %s'%i_tst)\n",
    "        return x_tst_knn.astype(int),nns_len\n",
    "\n",
    "\n",
    "    def compute_approx_shapley(self,x_tst_knn,y_tst,K):\n",
    "        N_tst,K_star = x_tst_knn.shape\n",
    "        # flag_sufficient = (x_tst_knn[:,-1]>=0)\n",
    "        sp_approx = np.zeros((N_tst,self.N))\n",
    "        for j in tqdm(range(N_tst)):\n",
    "            non_nan_index = np.where(x_tst_knn[j,:]>=0)[0]\n",
    "            if len(non_nan_index)== 0:\n",
    "                continue\n",
    "            K_tot = non_nan_index[-1]\n",
    "            if K_tot == self.N:\n",
    "                sp_approx[j, x_tst_knn[j, self.N - 1]] = equal(self.y_trn[x_tst_knn[j, self.N - 1]], y_tst[j]) / self.N\n",
    "            for i in np.arange(K_tot - 1, -1, -1):\n",
    "                sp_approx[j, x_tst_knn[j, i]] = sp_approx[j, x_tst_knn[j, i+1]] + (\n",
    "                        equal(self.y_trn[x_tst_knn[j, i]], y_tst[j]) - equal(\n",
    "                    self.y_trn[x_tst_knn[j, i + 1]], y_tst[j])) / K * min([K, i + 1]) / (i + 1)\n",
    "\n",
    "\n",
    "\n",
    "        return sp_approx"
   ]
  },
  {
   "cell_type": "code",
   "execution_count": null,
   "metadata": {},
   "outputs": [],
   "source": [
    "import joblib\n",
    "lsh = joblib.load('10M/eps0.1/lsh_75_038.pkl') "
   ]
  },
  {
   "cell_type": "code",
   "execution_count": 116,
   "metadata": {},
   "outputs": [],
   "source": [
    "np.save('sp_gt5.npy', sp_gt5)"
   ]
  },
  {
   "cell_type": "code",
   "execution_count": 117,
   "metadata": {},
   "outputs": [],
   "source": [
    "del sp_gt5"
   ]
  },
  {
   "cell_type": "code",
   "execution_count": 118,
   "metadata": {},
   "outputs": [
    {
     "data": {
      "text/plain": [
       "1037"
      ]
     },
     "execution_count": 118,
     "metadata": {},
     "output_type": "execute_result"
    }
   ],
   "source": [
    "import gc\n",
    "gc.collect()"
   ]
  },
  {
   "cell_type": "code",
   "execution_count": 119,
   "metadata": {},
   "outputs": [],
   "source": [
    "np.save('10M/eps0.1/sp_gt2.npy', sp_gt)"
   ]
  },
  {
   "cell_type": "code",
   "execution_count": 121,
   "metadata": {},
   "outputs": [],
   "source": [
    "del sp_gt"
   ]
  },
  {
   "cell_type": "code",
   "execution_count": 122,
   "metadata": {},
   "outputs": [],
   "source": [
    "np.save('10M/eps0.1/x_tst_knn_gt.npy', x_tst_knn_gt)"
   ]
  },
  {
   "cell_type": "code",
   "execution_count": 123,
   "metadata": {},
   "outputs": [],
   "source": [
    "del x_tst_knn_gt"
   ]
  },
  {
   "cell_type": "code",
   "execution_count": 124,
   "metadata": {},
   "outputs": [],
   "source": [
    "np.save('10M/eps0.1/x_val_knn_gt.npy', x_val_knn_gt)"
   ]
  },
  {
   "cell_type": "code",
   "execution_count": 125,
   "metadata": {},
   "outputs": [],
   "source": [
    "del x_val_knn_gt"
   ]
  },
  {
   "cell_type": "code",
   "execution_count": 126,
   "metadata": {},
   "outputs": [
    {
     "data": {
      "text/plain": [
       "17"
      ]
     },
     "execution_count": 126,
     "metadata": {},
     "output_type": "execute_result"
    }
   ],
   "source": [
    "import gc\n",
    "gc.collect()"
   ]
  },
  {
   "cell_type": "code",
   "execution_count": null,
   "metadata": {},
   "outputs": [],
   "source": []
  }
 ],
 "metadata": {
  "kernelspec": {
   "display_name": "Python 3",
   "language": "python",
   "name": "python3"
  },
  "language_info": {
   "codemirror_mode": {
    "name": "ipython",
    "version": 3
   },
   "file_extension": ".py",
   "mimetype": "text/x-python",
   "name": "python",
   "nbconvert_exporter": "python",
   "pygments_lexer": "ipython3",
   "version": "3.5.2"
  },
  "widgets": {
   "application/vnd.jupyter.widget-state+json": {
    "state": {
     "005b76f2fdbd44eab03997361a38bc12": {
      "model_module": "@jupyter-widgets/controls",
      "model_module_version": "1.4.0",
      "model_name": "HBoxModel",
      "state": {
       "children": [
        "IPY_MODEL_0fb8d09e50f0458f80ecd8080926ef1f",
        "IPY_MODEL_0c37f743ae1548eb9d7bd5ac4c33bdc5"
       ],
       "layout": "IPY_MODEL_0b7a1fae3a9842c88d400599a8d99eb4"
      }
     },
     "0077f976715d4a8e9ac0143bef082921": {
      "model_module": "@jupyter-widgets/controls",
      "model_module_version": "1.4.0",
      "model_name": "HTMLModel",
      "state": {
       "layout": "IPY_MODEL_a113173deb8f44d587c23938639e95bf",
       "style": "IPY_MODEL_4e87493e5f7f45969c8a137db590225b",
       "value": "1000001it [23:04, 722.25it/s]"
      }
     },
     "00ad4f66191347178e9034e14d6367f3": {
      "model_module": "@jupyter-widgets/controls",
      "model_module_version": "1.4.0",
      "model_name": "DescriptionStyleModel",
      "state": {
       "description_width": ""
      }
     },
     "00bd8b3613d549cd82e3890627f06bec": {
      "model_module": "@jupyter-widgets/controls",
      "model_module_version": "1.4.0",
      "model_name": "ProgressStyleModel",
      "state": {
       "description_width": ""
      }
     },
     "00e35ca1f2db45299b5fd4df71a15a54": {
      "model_module": "@jupyter-widgets/base",
      "model_module_version": "1.1.0",
      "model_name": "LayoutModel",
      "state": {}
     },
     "00f317cd35e94844b5872772bd0922b4": {
      "model_module": "@jupyter-widgets/base",
      "model_module_version": "1.1.0",
      "model_name": "LayoutModel",
      "state": {}
     },
     "01105002332c444e8b3d2791732aa1bb": {
      "model_module": "@jupyter-widgets/controls",
      "model_module_version": "1.4.0",
      "model_name": "DescriptionStyleModel",
      "state": {
       "description_width": ""
      }
     },
     "0136fd69557247288665ee80b6828ecf": {
      "model_module": "@jupyter-widgets/controls",
      "model_module_version": "1.4.0",
      "model_name": "HBoxModel",
      "state": {
       "children": [
        "IPY_MODEL_874a746a3fdc4b64b94760db89e06608",
        "IPY_MODEL_0ff6a30cdb164c86806e126df3ce69e7"
       ],
       "layout": "IPY_MODEL_75c62e904bec4c4ab273c454e410c2bb"
      }
     },
     "01459ec6bc584b5388b26d228d780544": {
      "model_module": "@jupyter-widgets/base",
      "model_module_version": "1.1.0",
      "model_name": "LayoutModel",
      "state": {}
     },
     "0166b2db131d4ca29d30831bf7c70868": {
      "model_module": "@jupyter-widgets/base",
      "model_module_version": "1.1.0",
      "model_name": "LayoutModel",
      "state": {}
     },
     "01671b0281154c15b360850da507dd8b": {
      "model_module": "@jupyter-widgets/base",
      "model_module_version": "1.1.0",
      "model_name": "LayoutModel",
      "state": {}
     },
     "0170719871a54912911a42681ac45ef3": {
      "model_module": "@jupyter-widgets/base",
      "model_module_version": "1.1.0",
      "model_name": "LayoutModel",
      "state": {}
     },
     "0175e5758ea9471bb05e52b57c51f2c0": {
      "model_module": "@jupyter-widgets/base",
      "model_module_version": "1.1.0",
      "model_name": "LayoutModel",
      "state": {}
     },
     "0177be46d9e048ba93259cec96d78980": {
      "model_module": "@jupyter-widgets/base",
      "model_module_version": "1.1.0",
      "model_name": "LayoutModel",
      "state": {}
     },
     "01833dd27299425b971dbb46b024d688": {
      "model_module": "@jupyter-widgets/base",
      "model_module_version": "1.1.0",
      "model_name": "LayoutModel",
      "state": {}
     },
     "01c3565d81e545e88574c96b463a9a64": {
      "model_module": "@jupyter-widgets/controls",
      "model_module_version": "1.4.0",
      "model_name": "HBoxModel",
      "state": {
       "children": [
        "IPY_MODEL_3297f538d54245ccbe2fa1b3f4e33c9f",
        "IPY_MODEL_52e02052ac9745cfa4f454f184df3347"
       ],
       "layout": "IPY_MODEL_269fdf2a897a4ba9807a185757de5285"
      }
     },
     "01ca3990130f4bb584a2c29e97804af1": {
      "model_module": "@jupyter-widgets/controls",
      "model_module_version": "1.4.0",
      "model_name": "ProgressStyleModel",
      "state": {
       "description_width": ""
      }
     },
     "02a5f490839e4fbcb45af84bc0ea6ee6": {
      "model_module": "@jupyter-widgets/controls",
      "model_module_version": "1.4.0",
      "model_name": "DescriptionStyleModel",
      "state": {
       "description_width": ""
      }
     },
     "02ab8c1002cd43fa985eafd14924a9b5": {
      "model_module": "@jupyter-widgets/controls",
      "model_module_version": "1.4.0",
      "model_name": "ProgressStyleModel",
      "state": {
       "description_width": ""
      }
     },
     "02b91e42584844d0b16ca03325bc17eb": {
      "model_module": "@jupyter-widgets/base",
      "model_module_version": "1.1.0",
      "model_name": "LayoutModel",
      "state": {}
     },
     "0300a9c564fd43238e7852748fb90d7f": {
      "model_module": "@jupyter-widgets/base",
      "model_module_version": "1.1.0",
      "model_name": "LayoutModel",
      "state": {}
     },
     "037516c41c0b4bccb6622e4a8a13c446": {
      "model_module": "@jupyter-widgets/controls",
      "model_module_version": "1.4.0",
      "model_name": "IntProgressModel",
      "state": {
       "bar_style": "success",
       "layout": "IPY_MODEL_11f1b8c692154fd4a989fb5d37c9838b",
       "max": 9998900,
       "style": "IPY_MODEL_9da9f7b4292f4fb6bdef965e238ed0f8",
       "value": 9998900
      }
     },
     "0379f1bcd24e4688958e5ee228258bf6": {
      "model_module": "@jupyter-widgets/controls",
      "model_module_version": "1.4.0",
      "model_name": "ProgressStyleModel",
      "state": {
       "description_width": ""
      }
     },
     "03c85b8e53034212971ad68770374975": {
      "model_module": "@jupyter-widgets/controls",
      "model_module_version": "1.4.0",
      "model_name": "HTMLModel",
      "state": {
       "layout": "IPY_MODEL_f9ca5ab7348543d4b0701c01b977096b",
       "style": "IPY_MODEL_f8370e7191804a1fa80f174cc412dfba",
       "value": "100% 9998900/9998900 [02:45&lt;00:00, 60507.92it/s]"
      }
     },
     "03fbbfd00e66436eb4c5cf29b45c5d09": {
      "model_module": "@jupyter-widgets/base",
      "model_module_version": "1.1.0",
      "model_name": "LayoutModel",
      "state": {}
     },
     "0400b612f8254fef8755e7b69fe4821d": {
      "model_module": "@jupyter-widgets/controls",
      "model_module_version": "1.4.0",
      "model_name": "IntProgressModel",
      "state": {
       "bar_style": "success",
       "layout": "IPY_MODEL_9daaca9b46b9409f909292cdd07df4d8",
       "max": 9998900,
       "style": "IPY_MODEL_3ab25c9b7c304aea99f250b8dff33a18",
       "value": 9998900
      }
     },
     "04091108949247978f9b753c2a00c7d2": {
      "model_module": "@jupyter-widgets/base",
      "model_module_version": "1.1.0",
      "model_name": "LayoutModel",
      "state": {}
     },
     "040f02d103be45f88c2e899c2c1d2c26": {
      "model_module": "@jupyter-widgets/base",
      "model_module_version": "1.1.0",
      "model_name": "LayoutModel",
      "state": {}
     },
     "042f0f63003b499aba7da647cb76040d": {
      "model_module": "@jupyter-widgets/base",
      "model_module_version": "1.1.0",
      "model_name": "LayoutModel",
      "state": {}
     },
     "042fa1ae0da24cbd856738695250b3d6": {
      "model_module": "@jupyter-widgets/controls",
      "model_module_version": "1.4.0",
      "model_name": "IntProgressModel",
      "state": {
       "bar_style": "success",
       "layout": "IPY_MODEL_20753214b09540d5bcb4671d2213d753",
       "max": 9998900,
       "style": "IPY_MODEL_5b0a6d119e2c48f3906793f37845a9f5",
       "value": 9998900
      }
     },
     "044bb01fd06f462997bb80159ce42304": {
      "model_module": "@jupyter-widgets/controls",
      "model_module_version": "1.4.0",
      "model_name": "ProgressStyleModel",
      "state": {
       "description_width": ""
      }
     },
     "0482b5aa2e0d4eb9af8fc44535afae42": {
      "model_module": "@jupyter-widgets/controls",
      "model_module_version": "1.4.0",
      "model_name": "IntProgressModel",
      "state": {
       "bar_style": "success",
       "layout": "IPY_MODEL_6d3a11e597de4f19a1dcec54982f0b5f",
       "max": 1,
       "style": "IPY_MODEL_1abddc420f7e443daa45b851f179f8f0",
       "value": 1
      }
     },
     "0488e8ad939b4b4784ea12415064de7d": {
      "model_module": "@jupyter-widgets/controls",
      "model_module_version": "1.4.0",
      "model_name": "HTMLModel",
      "state": {
       "layout": "IPY_MODEL_b01c161bc2174a679563a70204259b5c",
       "style": "IPY_MODEL_f61e574009ee4ccdb4a345023db1a440",
       "value": "100% 9998900/9998900 [02:58&lt;00:00, 55933.37it/s]"
      }
     },
     "04bee642cb4948fcb75577011b43b52b": {
      "model_module": "@jupyter-widgets/controls",
      "model_module_version": "1.4.0",
      "model_name": "DescriptionStyleModel",
      "state": {
       "description_width": ""
      }
     },
     "04c9e9051bb84c5caa074fe1d4e0003c": {
      "model_module": "@jupyter-widgets/base",
      "model_module_version": "1.1.0",
      "model_name": "LayoutModel",
      "state": {}
     },
     "0503a0a09c4f4ec89f64f11638f8f4c0": {
      "model_module": "@jupyter-widgets/base",
      "model_module_version": "1.1.0",
      "model_name": "LayoutModel",
      "state": {}
     },
     "050932dda9894db7bba33a1145c8c1df": {
      "model_module": "@jupyter-widgets/controls",
      "model_module_version": "1.4.0",
      "model_name": "HBoxModel",
      "state": {
       "children": [
        "IPY_MODEL_db5e947dc21248c9a5abebf088b35927",
        "IPY_MODEL_81cca8c12cba4916b08855a620b20bdb"
       ],
       "layout": "IPY_MODEL_19bb91fab0b943639f48a19d234ba790"
      }
     },
     "052a490838da485aaaec07a96aa368e9": {
      "model_module": "@jupyter-widgets/controls",
      "model_module_version": "1.4.0",
      "model_name": "HTMLModel",
      "state": {
       "layout": "IPY_MODEL_d414e162d32644a7be29455ab7fbebf7",
       "style": "IPY_MODEL_a1fe5569ea6449359a812bacc6f37967",
       "value": "100% 9998900/9998900 [02:44&lt;00:00, 60623.74it/s]"
      }
     },
     "053ac28dba8e4b089204f352e912e51a": {
      "model_module": "@jupyter-widgets/controls",
      "model_module_version": "1.4.0",
      "model_name": "HBoxModel",
      "state": {
       "children": [
        "IPY_MODEL_8f5b6a1e70b5465db281f474f2228fb2",
        "IPY_MODEL_d96af62f58514b9f85cf8294c66826c1"
       ],
       "layout": "IPY_MODEL_d2b5325c573f4ec5a39d1e1e7bfb9154"
      }
     },
     "0556e47685b844c89c335953f221dcce": {
      "model_module": "@jupyter-widgets/controls",
      "model_module_version": "1.4.0",
      "model_name": "ProgressStyleModel",
      "state": {
       "description_width": ""
      }
     },
     "05815294e2b34ca68dcdf10b7ba99a03": {
      "model_module": "@jupyter-widgets/controls",
      "model_module_version": "1.4.0",
      "model_name": "HBoxModel",
      "state": {
       "children": [
        "IPY_MODEL_ff93d98728764cd09d0f81fa739a2a0f",
        "IPY_MODEL_bf5e08f779d847b7a9730b74623d8a17"
       ],
       "layout": "IPY_MODEL_163d168afc2548e1ad3d0898b6af7698"
      }
     },
     "0588fc4eeb4e4246bef1355928d83760": {
      "model_module": "@jupyter-widgets/base",
      "model_module_version": "1.1.0",
      "model_name": "LayoutModel",
      "state": {}
     },
     "05a78940b6a743e9b4f37b342ffe423b": {
      "model_module": "@jupyter-widgets/controls",
      "model_module_version": "1.4.0",
      "model_name": "HBoxModel",
      "state": {
       "children": [
        "IPY_MODEL_1c0c26b1b1664aafaf190380e674a25a",
        "IPY_MODEL_aaf60e5aff2b4b4faa4e1ba96c1de78c"
       ],
       "layout": "IPY_MODEL_5cbcc7d0216c46788c1e97b346bdcf76"
      }
     },
     "05a86a306e274a54bc9dbe210dbca1b9": {
      "model_module": "@jupyter-widgets/controls",
      "model_module_version": "1.4.0",
      "model_name": "ProgressStyleModel",
      "state": {
       "description_width": ""
      }
     },
     "05c92bc2dd0d464f89bca9f42f300d1b": {
      "model_module": "@jupyter-widgets/controls",
      "model_module_version": "1.4.0",
      "model_name": "DescriptionStyleModel",
      "state": {
       "description_width": ""
      }
     },
     "062d7cd01ef04d4eb3f7b3907d151799": {
      "model_module": "@jupyter-widgets/controls",
      "model_module_version": "1.4.0",
      "model_name": "IntProgressModel",
      "state": {
       "bar_style": "success",
       "layout": "IPY_MODEL_0956bcbd87814c40a8f7a92db753aae2",
       "max": 9998900,
       "style": "IPY_MODEL_d53704180d1846e09828375e3aa42ecd",
       "value": 9998900
      }
     },
     "0649b89a2e5c4ceb9aa13fb066fa2010": {
      "model_module": "@jupyter-widgets/controls",
      "model_module_version": "1.4.0",
      "model_name": "HBoxModel",
      "state": {
       "children": [
        "IPY_MODEL_623936cc69bd48a1bd6a35414c32fe2d",
        "IPY_MODEL_87028ba167734fcfafc0062d49f8ad16"
       ],
       "layout": "IPY_MODEL_8922d8d7b13444bca4911ff9a2ef02a7"
      }
     },
     "06590d93d8874c7e89b9977c6d60f2c7": {
      "model_module": "@jupyter-widgets/controls",
      "model_module_version": "1.4.0",
      "model_name": "DescriptionStyleModel",
      "state": {
       "description_width": ""
      }
     },
     "0675b9510a9043ad8928f53904a16eb2": {
      "model_module": "@jupyter-widgets/controls",
      "model_module_version": "1.4.0",
      "model_name": "HBoxModel",
      "state": {
       "children": [
        "IPY_MODEL_c6c57dde5ae14429a29a80090696b37f",
        "IPY_MODEL_c280b609e19a436386583d1437c61d59"
       ],
       "layout": "IPY_MODEL_76e37002b93347bd8d5052aa56b458f7"
      }
     },
     "06875ce376e4410db2dc307809e1b7ce": {
      "model_module": "@jupyter-widgets/base",
      "model_module_version": "1.1.0",
      "model_name": "LayoutModel",
      "state": {}
     },
     "06c7393f54cb41688f84e4bf4c980939": {
      "model_module": "@jupyter-widgets/controls",
      "model_module_version": "1.4.0",
      "model_name": "HBoxModel",
      "state": {
       "children": [
        "IPY_MODEL_e8dc75c7d1db4621a8075f6954b3d6b7",
        "IPY_MODEL_f63f76e21f734d4b928792d30c96e974"
       ],
       "layout": "IPY_MODEL_0cfab22cd58647a797d5747588d4fc8f"
      }
     },
     "06d42ac59bb34e3da7249053df93271f": {
      "model_module": "@jupyter-widgets/base",
      "model_module_version": "1.1.0",
      "model_name": "LayoutModel",
      "state": {}
     },
     "0725b155a3544ff9a4d4c815052a3d1d": {
      "model_module": "@jupyter-widgets/controls",
      "model_module_version": "1.4.0",
      "model_name": "IntProgressModel",
      "state": {
       "bar_style": "success",
       "layout": "IPY_MODEL_0f7eb7e5e9164c5daee322e4c68e835e",
       "max": 9998900,
       "style": "IPY_MODEL_bd05a1c9ab2a40268c0922461f7f90a7",
       "value": 9998900
      }
     },
     "07387dd61b45482c81e2447e26a007b2": {
      "model_module": "@jupyter-widgets/controls",
      "model_module_version": "1.4.0",
      "model_name": "HBoxModel",
      "state": {
       "children": [
        "IPY_MODEL_33b5ae94985f457ca1f953cb1d8f2b7e",
        "IPY_MODEL_8bf79ed69f484f6a888ffaf5d561023a"
       ],
       "layout": "IPY_MODEL_cb4c06ddcf6340d59cdaf5cb4e7394ed"
      }
     },
     "0749b505d4af4e9cbdd7994dc51e4eac": {
      "model_module": "@jupyter-widgets/controls",
      "model_module_version": "1.4.0",
      "model_name": "HBoxModel",
      "state": {
       "children": [
        "IPY_MODEL_db4f2349519c4d949e3e8fce23822753",
        "IPY_MODEL_51e3bb3ba66742ca8fc320a8a6d8ace6"
       ],
       "layout": "IPY_MODEL_13c659f93f7d4ea2a5a688be801a11d7"
      }
     },
     "075a406e0bd24b5dad5847c5f9586659": {
      "model_module": "@jupyter-widgets/controls",
      "model_module_version": "1.4.0",
      "model_name": "ProgressStyleModel",
      "state": {
       "description_width": ""
      }
     },
     "07d14e64cb404b709b9e0db4607ca9b2": {
      "model_module": "@jupyter-widgets/base",
      "model_module_version": "1.1.0",
      "model_name": "LayoutModel",
      "state": {}
     },
     "081395a191964f408eed3fb8d206d785": {
      "model_module": "@jupyter-widgets/controls",
      "model_module_version": "1.4.0",
      "model_name": "ProgressStyleModel",
      "state": {
       "description_width": ""
      }
     },
     "0888429849fe47af8939b0db47f50973": {
      "model_module": "@jupyter-widgets/controls",
      "model_module_version": "1.4.0",
      "model_name": "DescriptionStyleModel",
      "state": {
       "description_width": ""
      }
     },
     "089c6ede45b94e22ba94ffab1d427f4d": {
      "model_module": "@jupyter-widgets/controls",
      "model_module_version": "1.4.0",
      "model_name": "DescriptionStyleModel",
      "state": {
       "description_width": ""
      }
     },
     "08ac9443531a42db8a781fab842fec63": {
      "model_module": "@jupyter-widgets/controls",
      "model_module_version": "1.4.0",
      "model_name": "HBoxModel",
      "state": {
       "children": [
        "IPY_MODEL_33dfef48fe614590ae77b6d2e6f309b6",
        "IPY_MODEL_933b04c6437f4293aa30df2aede72ac2"
       ],
       "layout": "IPY_MODEL_ea9cbb4414aa46b099cb96b10d123879"
      }
     },
     "08aef9586b30403786e8ac931c3ee989": {
      "model_module": "@jupyter-widgets/controls",
      "model_module_version": "1.4.0",
      "model_name": "DescriptionStyleModel",
      "state": {
       "description_width": ""
      }
     },
     "08c9a50fe4c84c8e9496209166409634": {
      "model_module": "@jupyter-widgets/controls",
      "model_module_version": "1.4.0",
      "model_name": "ProgressStyleModel",
      "state": {
       "description_width": ""
      }
     },
     "08eba07c00a34c2d834fc1c914f413d6": {
      "model_module": "@jupyter-widgets/controls",
      "model_module_version": "1.4.0",
      "model_name": "HTMLModel",
      "state": {
       "layout": "IPY_MODEL_7e26996f1c1e4c5f9ad3242905f96077",
       "style": "IPY_MODEL_9732269de6af48b180c3b66d7642bac2",
       "value": "100% 9998900/9998900 [02:41&lt;00:00, 61769.34it/s]"
      }
     },
     "08f5cc64d352411f81162c11e3e76191": {
      "model_module": "@jupyter-widgets/base",
      "model_module_version": "1.1.0",
      "model_name": "LayoutModel",
      "state": {}
     },
     "090b38b674e54217814fb8a4a0519f8a": {
      "model_module": "@jupyter-widgets/controls",
      "model_module_version": "1.4.0",
      "model_name": "HTMLModel",
      "state": {
       "layout": "IPY_MODEL_8fb064d9d2a84fc39a9af5c2711ad561",
       "style": "IPY_MODEL_0ae72b8597cb4a008629eda690b02738",
       "value": "100% 9998900/9998900 [02:44&lt;00:00, 60623.69it/s]"
      }
     },
     "090da9e2681c467db05d2cbb60e1504e": {
      "model_module": "@jupyter-widgets/base",
      "model_module_version": "1.1.0",
      "model_name": "LayoutModel",
      "state": {}
     },
     "09105e1d770e4938b949e7ce22c002fe": {
      "model_module": "@jupyter-widgets/controls",
      "model_module_version": "1.4.0",
      "model_name": "ProgressStyleModel",
      "state": {
       "description_width": ""
      }
     },
     "0956bcbd87814c40a8f7a92db753aae2": {
      "model_module": "@jupyter-widgets/base",
      "model_module_version": "1.1.0",
      "model_name": "LayoutModel",
      "state": {}
     },
     "0980f2867f044529bb8fe4e5f4d3d26a": {
      "model_module": "@jupyter-widgets/base",
      "model_module_version": "1.1.0",
      "model_name": "LayoutModel",
      "state": {}
     },
     "0997d48dee2f4e4690b9ebad03c48132": {
      "model_module": "@jupyter-widgets/controls",
      "model_module_version": "1.4.0",
      "model_name": "IntProgressModel",
      "state": {
       "bar_style": "success",
       "layout": "IPY_MODEL_ec6c9d0a530e4c6c9f013a5e175b69cc",
       "max": 9998900,
       "style": "IPY_MODEL_b18c0152159942e0839d0aad5f2ca625",
       "value": 9998900
      }
     },
     "09a1ed156d6e4b8cba1762ee4ab1f135": {
      "model_module": "@jupyter-widgets/controls",
      "model_module_version": "1.4.0",
      "model_name": "IntProgressModel",
      "state": {
       "bar_style": "success",
       "layout": "IPY_MODEL_ea20972a6bfa4e23a9efe59104df9473",
       "max": 9998900,
       "style": "IPY_MODEL_5b7fd7ce3e69434e86239eb762284fd3",
       "value": 9998900
      }
     },
     "09f6a5357abb40d2bc26b73d1febcf55": {
      "model_module": "@jupyter-widgets/controls",
      "model_module_version": "1.4.0",
      "model_name": "HBoxModel",
      "state": {
       "children": [
        "IPY_MODEL_9627f0b548aa491681c1714f100221c9",
        "IPY_MODEL_c08a80407b2f421babcecbe91c5f32d4"
       ],
       "layout": "IPY_MODEL_3628a30d71bd43559872a697ba341f3d"
      }
     },
     "0a7b6bab8dc048d19784821f85858ff8": {
      "model_module": "@jupyter-widgets/base",
      "model_module_version": "1.1.0",
      "model_name": "LayoutModel",
      "state": {}
     },
     "0acb3ac71ff242fcac3156db703206a4": {
      "model_module": "@jupyter-widgets/controls",
      "model_module_version": "1.4.0",
      "model_name": "ProgressStyleModel",
      "state": {
       "description_width": ""
      }
     },
     "0ae72b8597cb4a008629eda690b02738": {
      "model_module": "@jupyter-widgets/controls",
      "model_module_version": "1.4.0",
      "model_name": "DescriptionStyleModel",
      "state": {
       "description_width": ""
      }
     },
     "0aeb685bdf674af38f39ccc9480e4c39": {
      "model_module": "@jupyter-widgets/controls",
      "model_module_version": "1.4.0",
      "model_name": "HTMLModel",
      "state": {
       "layout": "IPY_MODEL_4d73bb15eae1498cacfe61e9b6f5caf6",
       "style": "IPY_MODEL_80ae9e60ca364bd49fb554db3e3fbfa7",
       "value": "100% 9998900/9998900 [02:37&lt;00:00, 63553.68it/s]"
      }
     },
     "0b0173e399d64e38b33e7b788465518a": {
      "model_module": "@jupyter-widgets/base",
      "model_module_version": "1.1.0",
      "model_name": "LayoutModel",
      "state": {}
     },
     "0b2b77cdfa6441b4a3d69ade316d0637": {
      "model_module": "@jupyter-widgets/base",
      "model_module_version": "1.1.0",
      "model_name": "LayoutModel",
      "state": {}
     },
     "0b3f16997cd14aa3a1092099806b7296": {
      "model_module": "@jupyter-widgets/base",
      "model_module_version": "1.1.0",
      "model_name": "LayoutModel",
      "state": {}
     },
     "0b44f115a02d42f5bb95ee72a0013b8c": {
      "model_module": "@jupyter-widgets/base",
      "model_module_version": "1.1.0",
      "model_name": "LayoutModel",
      "state": {}
     },
     "0b4dd251ac154756a15d39b86f98089e": {
      "model_module": "@jupyter-widgets/controls",
      "model_module_version": "1.4.0",
      "model_name": "HTMLModel",
      "state": {
       "layout": "IPY_MODEL_3762e0f8aac94e3f903120a45bdbbdd7",
       "style": "IPY_MODEL_b68f2ee199da4151899d2293ca45ef10",
       "value": "100% 9998900/9998900 [02:41&lt;00:00, 61805.26it/s]"
      }
     },
     "0b553992f99e4cf9b068f14a1905e2ab": {
      "model_module": "@jupyter-widgets/controls",
      "model_module_version": "1.4.0",
      "model_name": "DescriptionStyleModel",
      "state": {
       "description_width": ""
      }
     },
     "0b7a1fae3a9842c88d400599a8d99eb4": {
      "model_module": "@jupyter-widgets/base",
      "model_module_version": "1.1.0",
      "model_name": "LayoutModel",
      "state": {}
     },
     "0b98eea117fe464b8be227f607603e63": {
      "model_module": "@jupyter-widgets/controls",
      "model_module_version": "1.4.0",
      "model_name": "ProgressStyleModel",
      "state": {
       "description_width": ""
      }
     },
     "0bf9eb10fb274d67be115539287174f6": {
      "model_module": "@jupyter-widgets/controls",
      "model_module_version": "1.4.0",
      "model_name": "HTMLModel",
      "state": {
       "layout": "IPY_MODEL_37fffc9c7f6d461f9b754e9449f91b76",
       "style": "IPY_MODEL_c0202e24c7de45509147fac063dfe3a2",
       "value": "100% 9998900/9998900 [02:58&lt;00:00, 55890.46it/s]"
      }
     },
     "0bffc253b95c41dca9a5bda218fa9f5c": {
      "model_module": "@jupyter-widgets/controls",
      "model_module_version": "1.4.0",
      "model_name": "IntProgressModel",
      "state": {
       "bar_style": "success",
       "layout": "IPY_MODEL_2325e11bd372494ca9903e9c7121b244",
       "max": 9998900,
       "style": "IPY_MODEL_535c26c74d2442cf9601266f8430aa68",
       "value": 9998900
      }
     },
     "0c0cbe3e23f74f1eabe573ffcc42f6dc": {
      "model_module": "@jupyter-widgets/base",
      "model_module_version": "1.1.0",
      "model_name": "LayoutModel",
      "state": {}
     },
     "0c19323c01cc49e2ae7d46a0824cb2ae": {
      "model_module": "@jupyter-widgets/controls",
      "model_module_version": "1.4.0",
      "model_name": "HTMLModel",
      "state": {
       "layout": "IPY_MODEL_1cc168ef0eaa4972836234da0c7d517e",
       "style": "IPY_MODEL_2c2c01a245d7437ea76acc50abe04513",
       "value": "100% 9998900/9998900 [02:48&lt;00:00, 59167.87it/s]"
      }
     },
     "0c1c3746c74d4d999b10ddbc13f135f1": {
      "model_module": "@jupyter-widgets/controls",
      "model_module_version": "1.4.0",
      "model_name": "HBoxModel",
      "state": {
       "children": [
        "IPY_MODEL_427ce98d1f72450fad64c36692a996fb",
        "IPY_MODEL_090b38b674e54217814fb8a4a0519f8a"
       ],
       "layout": "IPY_MODEL_3f653266dd394778b1e7adf97d541ce5"
      }
     },
     "0c37f743ae1548eb9d7bd5ac4c33bdc5": {
      "model_module": "@jupyter-widgets/controls",
      "model_module_version": "1.4.0",
      "model_name": "HTMLModel",
      "state": {
       "layout": "IPY_MODEL_32f2d3396d5843c19bdea1bb7689c1b5",
       "style": "IPY_MODEL_4bac6da28f03421ab6de9eb60244dd38",
       "value": "100% 9998900/9998900 [02:48&lt;00:00, 59315.87it/s]"
      }
     },
     "0c4ee6d08d6943df9f1079083f87450a": {
      "model_module": "@jupyter-widgets/controls",
      "model_module_version": "1.4.0",
      "model_name": "HTMLModel",
      "state": {
       "layout": "IPY_MODEL_1748b5e8486e4ba8a4c3baa70cb459b1",
       "style": "IPY_MODEL_b8feacc30bc947afae996cc5ad934324",
       "value": "100% 100/100 [4:36:39&lt;00:00, 166.00s/it]"
      }
     },
     "0c6ccbc2df64421ebbbfa3b6fa18f90e": {
      "model_module": "@jupyter-widgets/base",
      "model_module_version": "1.1.0",
      "model_name": "LayoutModel",
      "state": {}
     },
     "0c99512f95ea40bf9ddf6d0de120256a": {
      "model_module": "@jupyter-widgets/base",
      "model_module_version": "1.1.0",
      "model_name": "LayoutModel",
      "state": {}
     },
     "0cd1fedaf7a44633819b1a8ab24eb4f1": {
      "model_module": "@jupyter-widgets/controls",
      "model_module_version": "1.4.0",
      "model_name": "ProgressStyleModel",
      "state": {
       "description_width": ""
      }
     },
     "0ceca9474d604b94a8be895abc6de637": {
      "model_module": "@jupyter-widgets/base",
      "model_module_version": "1.1.0",
      "model_name": "LayoutModel",
      "state": {}
     },
     "0cfab22cd58647a797d5747588d4fc8f": {
      "model_module": "@jupyter-widgets/base",
      "model_module_version": "1.1.0",
      "model_name": "LayoutModel",
      "state": {}
     },
     "0d474021862a4895baba7ee998b5a010": {
      "model_module": "@jupyter-widgets/base",
      "model_module_version": "1.1.0",
      "model_name": "LayoutModel",
      "state": {}
     },
     "0d4f87e65c2b48daaa32ee6b1ffe70f5": {
      "model_module": "@jupyter-widgets/base",
      "model_module_version": "1.1.0",
      "model_name": "LayoutModel",
      "state": {}
     },
     "0df9a2b0902547998a2fb1e9567420e6": {
      "model_module": "@jupyter-widgets/base",
      "model_module_version": "1.1.0",
      "model_name": "LayoutModel",
      "state": {}
     },
     "0dfbc1ac5f6b430cb822f6f4168fd00b": {
      "model_module": "@jupyter-widgets/controls",
      "model_module_version": "1.4.0",
      "model_name": "DescriptionStyleModel",
      "state": {
       "description_width": ""
      }
     },
     "0e09a25ee7694704af963a92bf44a419": {
      "model_module": "@jupyter-widgets/controls",
      "model_module_version": "1.4.0",
      "model_name": "HBoxModel",
      "state": {
       "children": [
        "IPY_MODEL_c0643ecde0e44705952c3a71f403f8ea",
        "IPY_MODEL_b3aa2a825adf4e9f91321807e18617c9"
       ],
       "layout": "IPY_MODEL_dc119faf9e3944cab399b66d1770e25b"
      }
     },
     "0e37a8a15c234fec961a8fc76b9cef27": {
      "model_module": "@jupyter-widgets/controls",
      "model_module_version": "1.4.0",
      "model_name": "IntProgressModel",
      "state": {
       "bar_style": "success",
       "layout": "IPY_MODEL_2c8be37c87a94b158bfc2ad82dfe2210",
       "max": 9998900,
       "style": "IPY_MODEL_8260f2f1a2be4b01956efff4cf14f1f8",
       "value": 9998900
      }
     },
     "0e59c9784f714c04a5ee2f0dce77a5de": {
      "model_module": "@jupyter-widgets/base",
      "model_module_version": "1.1.0",
      "model_name": "LayoutModel",
      "state": {}
     },
     "0e7c0a84823647db8fb217cec415e145": {
      "model_module": "@jupyter-widgets/base",
      "model_module_version": "1.1.0",
      "model_name": "LayoutModel",
      "state": {}
     },
     "0ef51c949a13485e88f0bbf11b9014e3": {
      "model_module": "@jupyter-widgets/controls",
      "model_module_version": "1.4.0",
      "model_name": "ProgressStyleModel",
      "state": {
       "description_width": ""
      }
     },
     "0f122b82b26247efadebd73127089ae4": {
      "model_module": "@jupyter-widgets/controls",
      "model_module_version": "1.4.0",
      "model_name": "IntProgressModel",
      "state": {
       "bar_style": "success",
       "layout": "IPY_MODEL_08f5cc64d352411f81162c11e3e76191",
       "max": 9998900,
       "style": "IPY_MODEL_f3dbd1d3ea9c4118852aa19f4401a07a",
       "value": 9998900
      }
     },
     "0f7eb7e5e9164c5daee322e4c68e835e": {
      "model_module": "@jupyter-widgets/base",
      "model_module_version": "1.1.0",
      "model_name": "LayoutModel",
      "state": {}
     },
     "0f8271f053484418aa7f49df68b35c4e": {
      "model_module": "@jupyter-widgets/base",
      "model_module_version": "1.1.0",
      "model_name": "LayoutModel",
      "state": {}
     },
     "0f9083166f1e44eda6325e1ac01ced02": {
      "model_module": "@jupyter-widgets/base",
      "model_module_version": "1.1.0",
      "model_name": "LayoutModel",
      "state": {}
     },
     "0fb0b482d64840a19e607616a6d20d0e": {
      "model_module": "@jupyter-widgets/base",
      "model_module_version": "1.1.0",
      "model_name": "LayoutModel",
      "state": {}
     },
     "0fb8d09e50f0458f80ecd8080926ef1f": {
      "model_module": "@jupyter-widgets/controls",
      "model_module_version": "1.4.0",
      "model_name": "IntProgressModel",
      "state": {
       "bar_style": "success",
       "layout": "IPY_MODEL_965c30b38b364929855227ce038ab20d",
       "max": 9998900,
       "style": "IPY_MODEL_afbe1ec92ae54921bb4e3cbe4663a258",
       "value": 9998900
      }
     },
     "0ff6a30cdb164c86806e126df3ce69e7": {
      "model_module": "@jupyter-widgets/controls",
      "model_module_version": "1.4.0",
      "model_name": "HTMLModel",
      "state": {
       "layout": "IPY_MODEL_4dc8fcd3ac5f4cb496b0c97afc89658b",
       "style": "IPY_MODEL_bbf7d99eaab6403aba7e71b4e4559fa4",
       "value": "100% 9998900/9998900 [02:48&lt;00:00, 59252.97it/s]"
      }
     },
     "0ff9a4d710e345ac9dfbe3acb506884f": {
      "model_module": "@jupyter-widgets/controls",
      "model_module_version": "1.4.0",
      "model_name": "IntProgressModel",
      "state": {
       "bar_style": "success",
       "layout": "IPY_MODEL_d8ade82068954b33b5ad48347bf9ee51",
       "max": 9998900,
       "style": "IPY_MODEL_a3aa08f4d38a4583802fa42b1e244f86",
       "value": 9998900
      }
     },
     "100b1db8e6a14db1b754c4cd8713e174": {
      "model_module": "@jupyter-widgets/base",
      "model_module_version": "1.1.0",
      "model_name": "LayoutModel",
      "state": {}
     },
     "1049afd01ce3488cb51d8e0641a1e4f4": {
      "model_module": "@jupyter-widgets/controls",
      "model_module_version": "1.4.0",
      "model_name": "HTMLModel",
      "state": {
       "layout": "IPY_MODEL_8fd9a37bedd94d75916971d9c2fd510a",
       "style": "IPY_MODEL_f3a8b7cf00514b948a08c6cc55a9367b",
       "value": "100% 9998900/9998900 [02:44&lt;00:00, 60835.08it/s]"
      }
     },
     "10be29d46f304ee584b7ed3c04983f4b": {
      "model_module": "@jupyter-widgets/controls",
      "model_module_version": "1.4.0",
      "model_name": "ProgressStyleModel",
      "state": {
       "description_width": ""
      }
     },
     "10cf351da2014f5e89cdff12ed705892": {
      "model_module": "@jupyter-widgets/controls",
      "model_module_version": "1.4.0",
      "model_name": "HBoxModel",
      "state": {
       "children": [
        "IPY_MODEL_58e12192199f4514831125f5abc079b8",
        "IPY_MODEL_d9f8c35191fd45f3b4a759418b84dc7c"
       ],
       "layout": "IPY_MODEL_8314bb1d2c244ce6aaee46db26f2108d"
      }
     },
     "10df1b4acdf64177afb5ac78a6c6fe93": {
      "model_module": "@jupyter-widgets/base",
      "model_module_version": "1.1.0",
      "model_name": "LayoutModel",
      "state": {}
     },
     "10e6cb179c9849f8af82a6c030bff67b": {
      "model_module": "@jupyter-widgets/controls",
      "model_module_version": "1.4.0",
      "model_name": "ProgressStyleModel",
      "state": {
       "description_width": ""
      }
     },
     "111e1ea4767e4a7e8ce00da79b15c2dd": {
      "model_module": "@jupyter-widgets/controls",
      "model_module_version": "1.4.0",
      "model_name": "HTMLModel",
      "state": {
       "layout": "IPY_MODEL_a41778dbbd924e36b910d55f824bae79",
       "style": "IPY_MODEL_25bdc9f197b94cf28fdeab183c4b4788",
       "value": "100% 9998900/9998900 [02:47&lt;00:00, 59623.81it/s]"
      }
     },
     "111f002756c04c6caf4cf566cfbc9686": {
      "model_module": "@jupyter-widgets/base",
      "model_module_version": "1.1.0",
      "model_name": "LayoutModel",
      "state": {}
     },
     "114084165eb74db58d46e5035164c800": {
      "model_module": "@jupyter-widgets/controls",
      "model_module_version": "1.4.0",
      "model_name": "ProgressStyleModel",
      "state": {
       "description_width": ""
      }
     },
     "1163118de193430b92a1eaa548274953": {
      "model_module": "@jupyter-widgets/base",
      "model_module_version": "1.1.0",
      "model_name": "LayoutModel",
      "state": {}
     },
     "11958af21c634e24b1afda9420f1cc4a": {
      "model_module": "@jupyter-widgets/base",
      "model_module_version": "1.1.0",
      "model_name": "LayoutModel",
      "state": {}
     },
     "11f1b8c692154fd4a989fb5d37c9838b": {
      "model_module": "@jupyter-widgets/base",
      "model_module_version": "1.1.0",
      "model_name": "LayoutModel",
      "state": {}
     },
     "11fe7d89f0cc4d72b47e24c63a3daf3a": {
      "model_module": "@jupyter-widgets/controls",
      "model_module_version": "1.4.0",
      "model_name": "ProgressStyleModel",
      "state": {
       "description_width": ""
      }
     },
     "12008993238543cc8a28615554f06fb5": {
      "model_module": "@jupyter-widgets/controls",
      "model_module_version": "1.4.0",
      "model_name": "HBoxModel",
      "state": {
       "children": [
        "IPY_MODEL_f121c89db79a497bb7086458863b53f8",
        "IPY_MODEL_0bf9eb10fb274d67be115539287174f6"
       ],
       "layout": "IPY_MODEL_c28fd2b4f36544068195b09ff97c0961"
      }
     },
     "12603a29a3304a0e93d3f51be076a75d": {
      "model_module": "@jupyter-widgets/base",
      "model_module_version": "1.1.0",
      "model_name": "LayoutModel",
      "state": {}
     },
     "126b570232414bf1a658284ac872ef54": {
      "model_module": "@jupyter-widgets/base",
      "model_module_version": "1.1.0",
      "model_name": "LayoutModel",
      "state": {}
     },
     "1289bcdbdc3d42b8bfea9a211b3fbb17": {
      "model_module": "@jupyter-widgets/base",
      "model_module_version": "1.1.0",
      "model_name": "LayoutModel",
      "state": {}
     },
     "129f5f9985fc4bda839b2b1f1527d87e": {
      "model_module": "@jupyter-widgets/controls",
      "model_module_version": "1.4.0",
      "model_name": "HTMLModel",
      "state": {
       "layout": "IPY_MODEL_0175e5758ea9471bb05e52b57c51f2c0",
       "style": "IPY_MODEL_d00565c60bdd496d9b461694156e6941",
       "value": "100% 9998900/9998900 [02:41&lt;00:00, 61834.28it/s]"
      }
     },
     "12acc4ab472e4813bf5410ac753dfd8e": {
      "model_module": "@jupyter-widgets/controls",
      "model_module_version": "1.4.0",
      "model_name": "DescriptionStyleModel",
      "state": {
       "description_width": ""
      }
     },
     "12dae3860f7342f5ae0c8bc4bc14629e": {
      "model_module": "@jupyter-widgets/controls",
      "model_module_version": "1.4.0",
      "model_name": "ProgressStyleModel",
      "state": {
       "description_width": ""
      }
     },
     "12ea732001e6412685ad2e6b98193cc9": {
      "model_module": "@jupyter-widgets/base",
      "model_module_version": "1.1.0",
      "model_name": "LayoutModel",
      "state": {}
     },
     "12f46a0cb1aa45b2ba7401b481d9c80e": {
      "model_module": "@jupyter-widgets/controls",
      "model_module_version": "1.4.0",
      "model_name": "HBoxModel",
      "state": {
       "children": [
        "IPY_MODEL_de2632d90520462f9ffba7f1fa35b552",
        "IPY_MODEL_9cf4d8688fb442ed86e300004a06dfc8"
       ],
       "layout": "IPY_MODEL_e1adcfc5bff44ce28cb9ba60bf285f0a"
      }
     },
     "130a774ae684475f83a21ef05f6cd6c5": {
      "model_module": "@jupyter-widgets/controls",
      "model_module_version": "1.4.0",
      "model_name": "HTMLModel",
      "state": {
       "layout": "IPY_MODEL_0a7b6bab8dc048d19784821f85858ff8",
       "style": "IPY_MODEL_f63e6ba140d74a20a349bf194d68de84",
       "value": "100% 9998900/9998900 [02:55&lt;00:00, 57126.56it/s]"
      }
     },
     "131fec4a89b54e7b8ef41e3a6f25f9de": {
      "model_module": "@jupyter-widgets/base",
      "model_module_version": "1.1.0",
      "model_name": "LayoutModel",
      "state": {}
     },
     "13380049e59b41dbab0a863ac31ea4e4": {
      "model_module": "@jupyter-widgets/base",
      "model_module_version": "1.1.0",
      "model_name": "LayoutModel",
      "state": {}
     },
     "13423e7fe8c04e59b6b86926ff627a8e": {
      "model_module": "@jupyter-widgets/base",
      "model_module_version": "1.1.0",
      "model_name": "LayoutModel",
      "state": {}
     },
     "135a411e2f9549e59319f4629544c556": {
      "model_module": "@jupyter-widgets/base",
      "model_module_version": "1.1.0",
      "model_name": "LayoutModel",
      "state": {}
     },
     "13609319e410477da4c00f577e3cc40b": {
      "model_module": "@jupyter-widgets/controls",
      "model_module_version": "1.4.0",
      "model_name": "IntProgressModel",
      "state": {
       "bar_style": "success",
       "layout": "IPY_MODEL_87868c09e0574037987a28247fca0d8b",
       "max": 9998900,
       "style": "IPY_MODEL_05a86a306e274a54bc9dbe210dbca1b9",
       "value": 9998900
      }
     },
     "13bad18c18a44018b452dae8b9992d8e": {
      "model_module": "@jupyter-widgets/controls",
      "model_module_version": "1.4.0",
      "model_name": "ProgressStyleModel",
      "state": {
       "description_width": ""
      }
     },
     "13c659f93f7d4ea2a5a688be801a11d7": {
      "model_module": "@jupyter-widgets/base",
      "model_module_version": "1.1.0",
      "model_name": "LayoutModel",
      "state": {}
     },
     "13dd2ce68cbe479abe3bff7706a2a72e": {
      "model_module": "@jupyter-widgets/base",
      "model_module_version": "1.1.0",
      "model_name": "LayoutModel",
      "state": {}
     },
     "1401050301af49e4ab289196032973cd": {
      "model_module": "@jupyter-widgets/controls",
      "model_module_version": "1.4.0",
      "model_name": "HBoxModel",
      "state": {
       "children": [
        "IPY_MODEL_3e7dc63cee17465f990c9137ce1f317b",
        "IPY_MODEL_747ec702ab0544d18299e0c04fd95f18"
       ],
       "layout": "IPY_MODEL_13423e7fe8c04e59b6b86926ff627a8e"
      }
     },
     "140b7b2ff7f34bf5bdc82b50f9844ba8": {
      "model_module": "@jupyter-widgets/controls",
      "model_module_version": "1.4.0",
      "model_name": "HBoxModel",
      "state": {
       "children": [
        "IPY_MODEL_09a1ed156d6e4b8cba1762ee4ab1f135",
        "IPY_MODEL_e0b3b08e08814d5b82c32ff2c839047d"
       ],
       "layout": "IPY_MODEL_f13bf74ee3ed40b0ab94d60a54be8ba4"
      }
     },
     "144b0afb49fc4e0181af3aac93f3eff8": {
      "model_module": "@jupyter-widgets/base",
      "model_module_version": "1.1.0",
      "model_name": "LayoutModel",
      "state": {}
     },
     "1461c9eaad2847f2b4f39b245264258f": {
      "model_module": "@jupyter-widgets/controls",
      "model_module_version": "1.4.0",
      "model_name": "HTMLModel",
      "state": {
       "layout": "IPY_MODEL_337a147786404e4dbcb2698337862b05",
       "style": "IPY_MODEL_02a5f490839e4fbcb45af84bc0ea6ee6",
       "value": "100% 9998900/9998900 [03:00&lt;00:00, 55249.56it/s]"
      }
     },
     "147bf81583e54d26813034a0aa4306b1": {
      "model_module": "@jupyter-widgets/controls",
      "model_module_version": "1.4.0",
      "model_name": "HTMLModel",
      "state": {
       "layout": "IPY_MODEL_5dd5616dd4d34d428f9f06ee9c017915",
       "style": "IPY_MODEL_19ad15476e2340e5b7eb7961a898d173",
       "value": "100% 9998900/9998900 [02:40&lt;00:00, 62335.69it/s]"
      }
     },
     "147f5b9c595b47da83d63ac5d14114b0": {
      "model_module": "@jupyter-widgets/controls",
      "model_module_version": "1.4.0",
      "model_name": "HTMLModel",
      "state": {
       "layout": "IPY_MODEL_6b528e75ef674dc18ba36bc209c0d892",
       "style": "IPY_MODEL_1ccff322604d4340922a7cb7fe43b0e8",
       "value": "100% 9998900/9998900 [02:44&lt;00:00, 60604.98it/s]"
      }
     },
     "147f724e0dfc4eed8df91d4424462ef6": {
      "model_module": "@jupyter-widgets/controls",
      "model_module_version": "1.4.0",
      "model_name": "ProgressStyleModel",
      "state": {
       "description_width": ""
      }
     },
     "14a12bf241c84493adcf1d0b25140438": {
      "model_module": "@jupyter-widgets/base",
      "model_module_version": "1.1.0",
      "model_name": "LayoutModel",
      "state": {}
     },
     "1514fbbfde3848f38b25ba57fc2142eb": {
      "model_module": "@jupyter-widgets/base",
      "model_module_version": "1.1.0",
      "model_name": "LayoutModel",
      "state": {}
     },
     "151a766a31a04fb4892960607f5c3a83": {
      "model_module": "@jupyter-widgets/base",
      "model_module_version": "1.1.0",
      "model_name": "LayoutModel",
      "state": {}
     },
     "15246b6a33834c05b099c5c57747bf15": {
      "model_module": "@jupyter-widgets/base",
      "model_module_version": "1.1.0",
      "model_name": "LayoutModel",
      "state": {}
     },
     "15275ea11d0e403ba197de7667a58b41": {
      "model_module": "@jupyter-widgets/controls",
      "model_module_version": "1.4.0",
      "model_name": "DescriptionStyleModel",
      "state": {
       "description_width": ""
      }
     },
     "15404c44cf3748919e024c7261f4707a": {
      "model_module": "@jupyter-widgets/controls",
      "model_module_version": "1.4.0",
      "model_name": "HTMLModel",
      "state": {
       "layout": "IPY_MODEL_f026768897f64a318676c30108d5a231",
       "style": "IPY_MODEL_06590d93d8874c7e89b9977c6d60f2c7",
       "value": "100% 9998900/9998900 [02:55&lt;00:00, 57053.03it/s]"
      }
     },
     "1562baca6fdb43739bc161e90669c2fd": {
      "model_module": "@jupyter-widgets/controls",
      "model_module_version": "1.4.0",
      "model_name": "HBoxModel",
      "state": {
       "children": [
        "IPY_MODEL_48485b2631a34fff80805b8fda6dd4f8",
        "IPY_MODEL_8a7ca9d5427644a291b5eea959837fe3"
       ],
       "layout": "IPY_MODEL_c163f63103ff461ba6fc3bda0fe29b08"
      }
     },
     "159db7b35d2c4ab8a31e1fbe8e28856e": {
      "model_module": "@jupyter-widgets/controls",
      "model_module_version": "1.4.0",
      "model_name": "HBoxModel",
      "state": {
       "children": [
        "IPY_MODEL_2c04d11a985142fba26f9266a05e6326",
        "IPY_MODEL_74eb5f72ea7a4284af13bcf97b34f72f"
       ],
       "layout": "IPY_MODEL_96044ae4a88b4d58b05bc937b081807c"
      }
     },
     "15bf91159527446989c99f08d167539d": {
      "model_module": "@jupyter-widgets/base",
      "model_module_version": "1.1.0",
      "model_name": "LayoutModel",
      "state": {}
     },
     "15bfeaa3c3724134bab5214b30362bd7": {
      "model_module": "@jupyter-widgets/controls",
      "model_module_version": "1.4.0",
      "model_name": "DescriptionStyleModel",
      "state": {
       "description_width": ""
      }
     },
     "15d181b744be40b5a54a3791f71c3b0c": {
      "model_module": "@jupyter-widgets/controls",
      "model_module_version": "1.4.0",
      "model_name": "ProgressStyleModel",
      "state": {
       "description_width": ""
      }
     },
     "15e33b519372448a98793a47b42983af": {
      "model_module": "@jupyter-widgets/controls",
      "model_module_version": "1.4.0",
      "model_name": "IntProgressModel",
      "state": {
       "bar_style": "success",
       "layout": "IPY_MODEL_1c796e42c8c441ee87a453d46ee577d1",
       "max": 9998900,
       "style": "IPY_MODEL_f1f28e81530044a7a6b5a46ab094fc11",
       "value": 9998900
      }
     },
     "1601698be12a44b9a740bdcf602f0282": {
      "model_module": "@jupyter-widgets/controls",
      "model_module_version": "1.4.0",
      "model_name": "HTMLModel",
      "state": {
       "layout": "IPY_MODEL_6f055db133114a7c9033766dc944c607",
       "style": "IPY_MODEL_4f78eb08b18549ac86146a03a816ae04",
       "value": "100% 9998900/9998900 [02:39&lt;00:00, 62618.97it/s]"
      }
     },
     "1602846b8f7a43a0a67bd2c0b6d67a33": {
      "model_module": "@jupyter-widgets/controls",
      "model_module_version": "1.4.0",
      "model_name": "IntProgressModel",
      "state": {
       "bar_style": "success",
       "layout": "IPY_MODEL_06d42ac59bb34e3da7249053df93271f",
       "max": 9998900,
       "style": "IPY_MODEL_9d5731b416ff4fb8976d06a6a91c5da1",
       "value": 9998900
      }
     },
     "163d168afc2548e1ad3d0898b6af7698": {
      "model_module": "@jupyter-widgets/base",
      "model_module_version": "1.1.0",
      "model_name": "LayoutModel",
      "state": {}
     },
     "166cbedee58b4d259318c17ec7730e3e": {
      "model_module": "@jupyter-widgets/controls",
      "model_module_version": "1.4.0",
      "model_name": "IntProgressModel",
      "state": {
       "bar_style": "success",
       "layout": "IPY_MODEL_0300a9c564fd43238e7852748fb90d7f",
       "max": 9998900,
       "style": "IPY_MODEL_f895844a2fa540db863d12f87f07013d",
       "value": 9998900
      }
     },
     "1671855de7984d25b4de23c4038d865a": {
      "model_module": "@jupyter-widgets/controls",
      "model_module_version": "1.4.0",
      "model_name": "HBoxModel",
      "state": {
       "children": [
        "IPY_MODEL_7035bf241329477e9f18a930a3834ab0",
        "IPY_MODEL_e0c0d193084f43cdb3dcb4c8136bbe9c"
       ],
       "layout": "IPY_MODEL_e225937b538e4e39a645245f5c890140"
      }
     },
     "16b2e78cbf1a4d9faf847cc81015f084": {
      "model_module": "@jupyter-widgets/base",
      "model_module_version": "1.1.0",
      "model_name": "LayoutModel",
      "state": {}
     },
     "1714c785fc4c495685310363fd1565a6": {
      "model_module": "@jupyter-widgets/base",
      "model_module_version": "1.1.0",
      "model_name": "LayoutModel",
      "state": {}
     },
     "173afff85428481ca87d3d31715ed7af": {
      "model_module": "@jupyter-widgets/controls",
      "model_module_version": "1.4.0",
      "model_name": "DescriptionStyleModel",
      "state": {
       "description_width": ""
      }
     },
     "17455b2375e14bf0b76b85ea1ba5f232": {
      "model_module": "@jupyter-widgets/controls",
      "model_module_version": "1.4.0",
      "model_name": "ProgressStyleModel",
      "state": {
       "description_width": ""
      }
     },
     "1748b5e8486e4ba8a4c3baa70cb459b1": {
      "model_module": "@jupyter-widgets/base",
      "model_module_version": "1.1.0",
      "model_name": "LayoutModel",
      "state": {}
     },
     "1795f7ebc35f41b1896507d08f6ed160": {
      "model_module": "@jupyter-widgets/base",
      "model_module_version": "1.1.0",
      "model_name": "LayoutModel",
      "state": {}
     },
     "17e3e3ca239e48f884896ee9b9ac6034": {
      "model_module": "@jupyter-widgets/base",
      "model_module_version": "1.1.0",
      "model_name": "LayoutModel",
      "state": {}
     },
     "17eea0bcc5ff45ad89def9ea36196b76": {
      "model_module": "@jupyter-widgets/controls",
      "model_module_version": "1.4.0",
      "model_name": "HTMLModel",
      "state": {
       "layout": "IPY_MODEL_9e1d64c3da24418288916338b8467665",
       "style": "IPY_MODEL_2c77f74656e34a429d0ab88bea54eaa6",
       "value": "100% 9998900/9998900 [02:41&lt;00:00, 61950.11it/s]"
      }
     },
     "17fca0c024dd4f8595069855ff56e42e": {
      "model_module": "@jupyter-widgets/controls",
      "model_module_version": "1.4.0",
      "model_name": "DescriptionStyleModel",
      "state": {
       "description_width": ""
      }
     },
     "1803b40a5faa4d3c8ae768e55c9ea26d": {
      "model_module": "@jupyter-widgets/controls",
      "model_module_version": "1.4.0",
      "model_name": "HBoxModel",
      "state": {
       "children": [
        "IPY_MODEL_63ceb23813f9490ab2a699eeb625fb1a",
        "IPY_MODEL_5d2ae3899822414facf51dc4951a9c23"
       ],
       "layout": "IPY_MODEL_baa7420774d24812bf489da4d0025635"
      }
     },
     "182dbd5ac3594c75aadfbf159bc9e6fc": {
      "model_module": "@jupyter-widgets/base",
      "model_module_version": "1.1.0",
      "model_name": "LayoutModel",
      "state": {}
     },
     "18485da899cd496384d94ec50cd90cd7": {
      "model_module": "@jupyter-widgets/controls",
      "model_module_version": "1.4.0",
      "model_name": "DescriptionStyleModel",
      "state": {
       "description_width": ""
      }
     },
     "1848d856289946b598f8566ea8786dda": {
      "model_module": "@jupyter-widgets/controls",
      "model_module_version": "1.4.0",
      "model_name": "HBoxModel",
      "state": {
       "children": [
        "IPY_MODEL_797498d97a1243f2a7e37dd8918d72c3",
        "IPY_MODEL_7e987a9fabf2412bbff24be3be5a4c8e"
       ],
       "layout": "IPY_MODEL_ede133fc2649450db7220bc7fab4b7c7"
      }
     },
     "18696fbbf64b4dd7aefdb45afe6883ca": {
      "model_module": "@jupyter-widgets/controls",
      "model_module_version": "1.4.0",
      "model_name": "HTMLModel",
      "state": {
       "layout": "IPY_MODEL_ce9c0b6d831d41409beed241c5476ef4",
       "style": "IPY_MODEL_1ea90bda69e243c7a58743f922a158a7",
       "value": "100% 9998900/9998900 [02:47&lt;00:00, 59594.56it/s]"
      }
     },
     "18886381cc9749a891e345a0533bd574": {
      "model_module": "@jupyter-widgets/base",
      "model_module_version": "1.1.0",
      "model_name": "LayoutModel",
      "state": {}
     },
     "188e7679c663464b929715a5f4cfd810": {
      "model_module": "@jupyter-widgets/base",
      "model_module_version": "1.1.0",
      "model_name": "LayoutModel",
      "state": {}
     },
     "18f139cb97264a1c9cfed7939ebd43c3": {
      "model_module": "@jupyter-widgets/base",
      "model_module_version": "1.1.0",
      "model_name": "LayoutModel",
      "state": {}
     },
     "192b9a6c7a4a495e91c2c57b207ee9ae": {
      "model_module": "@jupyter-widgets/controls",
      "model_module_version": "1.4.0",
      "model_name": "ProgressStyleModel",
      "state": {
       "description_width": ""
      }
     },
     "1947b0307c3c44eab0e0ee03511747c6": {
      "model_module": "@jupyter-widgets/base",
      "model_module_version": "1.1.0",
      "model_name": "LayoutModel",
      "state": {}
     },
     "1960fb0531fa4438a20c89c3a25c9c11": {
      "model_module": "@jupyter-widgets/base",
      "model_module_version": "1.1.0",
      "model_name": "LayoutModel",
      "state": {}
     },
     "19862994ac77412db1fe7e9f8c9ea992": {
      "model_module": "@jupyter-widgets/controls",
      "model_module_version": "1.4.0",
      "model_name": "ProgressStyleModel",
      "state": {
       "description_width": ""
      }
     },
     "19ad15476e2340e5b7eb7961a898d173": {
      "model_module": "@jupyter-widgets/controls",
      "model_module_version": "1.4.0",
      "model_name": "DescriptionStyleModel",
      "state": {
       "description_width": ""
      }
     },
     "19bb91fab0b943639f48a19d234ba790": {
      "model_module": "@jupyter-widgets/base",
      "model_module_version": "1.1.0",
      "model_name": "LayoutModel",
      "state": {}
     },
     "19c9ec02dd534b8f8b373db9ff1b670a": {
      "model_module": "@jupyter-widgets/base",
      "model_module_version": "1.1.0",
      "model_name": "LayoutModel",
      "state": {}
     },
     "19f29770d8b744f4a15265d620516f76": {
      "model_module": "@jupyter-widgets/controls",
      "model_module_version": "1.4.0",
      "model_name": "HTMLModel",
      "state": {
       "layout": "IPY_MODEL_373644429c3041539aa4f655dbb7a23c",
       "style": "IPY_MODEL_4d7b45753d824273b68c7cfe563914f9",
       "value": "100% 9998900/9998900 [02:52&lt;00:00, 58047.19it/s]"
      }
     },
     "19fb6dcd1cf34ee8805b738971bf9012": {
      "model_module": "@jupyter-widgets/base",
      "model_module_version": "1.1.0",
      "model_name": "LayoutModel",
      "state": {}
     },
     "1a474b377e8449499cd8c1d678ca15ad": {
      "model_module": "@jupyter-widgets/base",
      "model_module_version": "1.1.0",
      "model_name": "LayoutModel",
      "state": {}
     },
     "1a4e78b47f8644e0882667ae712510a2": {
      "model_module": "@jupyter-widgets/controls",
      "model_module_version": "1.4.0",
      "model_name": "HBoxModel",
      "state": {
       "children": [
        "IPY_MODEL_fbfab232da1d4f35be96bc31a8844a0e",
        "IPY_MODEL_24c63eaab5d44d1f81105e2fd9e068c3"
       ],
       "layout": "IPY_MODEL_c180072d459648a8881b0f391d69bcca"
      }
     },
     "1a5244168abc4865af73def40e6dc859": {
      "model_module": "@jupyter-widgets/controls",
      "model_module_version": "1.4.0",
      "model_name": "ProgressStyleModel",
      "state": {
       "description_width": ""
      }
     },
     "1a677e8ed623433fb029b956dde12904": {
      "model_module": "@jupyter-widgets/base",
      "model_module_version": "1.1.0",
      "model_name": "LayoutModel",
      "state": {}
     },
     "1abddc420f7e443daa45b851f179f8f0": {
      "model_module": "@jupyter-widgets/controls",
      "model_module_version": "1.4.0",
      "model_name": "ProgressStyleModel",
      "state": {
       "description_width": ""
      }
     },
     "1ae122cb0dd7437eafd90dc392516a32": {
      "model_module": "@jupyter-widgets/base",
      "model_module_version": "1.1.0",
      "model_name": "LayoutModel",
      "state": {}
     },
     "1afc0a0a64f24b00a6675a64e42fcf24": {
      "model_module": "@jupyter-widgets/controls",
      "model_module_version": "1.4.0",
      "model_name": "ProgressStyleModel",
      "state": {
       "description_width": ""
      }
     },
     "1b1392e426ff4001864d421dbb65e5e8": {
      "model_module": "@jupyter-widgets/controls",
      "model_module_version": "1.4.0",
      "model_name": "IntProgressModel",
      "state": {
       "bar_style": "success",
       "layout": "IPY_MODEL_7fb935c953954affb4bff5207f6e550c",
       "max": 9998900,
       "style": "IPY_MODEL_51a91109f7e74975a86d25babdd044e9",
       "value": 9998900
      }
     },
     "1b28f6643b804595b0f5cff58a6339f4": {
      "model_module": "@jupyter-widgets/base",
      "model_module_version": "1.1.0",
      "model_name": "LayoutModel",
      "state": {}
     },
     "1b3b23a8ecfc43e7ac3048005f0eb88e": {
      "model_module": "@jupyter-widgets/base",
      "model_module_version": "1.1.0",
      "model_name": "LayoutModel",
      "state": {}
     },
     "1b484c33a0054bbfa9dfd849d20b3705": {
      "model_module": "@jupyter-widgets/controls",
      "model_module_version": "1.4.0",
      "model_name": "DescriptionStyleModel",
      "state": {
       "description_width": ""
      }
     },
     "1b5323e811c042d690987e09e604d2a7": {
      "model_module": "@jupyter-widgets/controls",
      "model_module_version": "1.4.0",
      "model_name": "DescriptionStyleModel",
      "state": {
       "description_width": ""
      }
     },
     "1b6693606f7748b998ae449e512b24c2": {
      "model_module": "@jupyter-widgets/controls",
      "model_module_version": "1.4.0",
      "model_name": "HBoxModel",
      "state": {
       "children": [
        "IPY_MODEL_53c470dc3f3149588a86e6c237debfde",
        "IPY_MODEL_a1a863d706304109b2c9502d955b49f2"
       ],
       "layout": "IPY_MODEL_ef9da049d25f4040b11b552e903f0e99"
      }
     },
     "1b6eb34e0372451695377341a83c9085": {
      "model_module": "@jupyter-widgets/base",
      "model_module_version": "1.1.0",
      "model_name": "LayoutModel",
      "state": {}
     },
     "1b7e757a61154a0e9df9f0843942f39e": {
      "model_module": "@jupyter-widgets/controls",
      "model_module_version": "1.4.0",
      "model_name": "HBoxModel",
      "state": {
       "children": [
        "IPY_MODEL_572611e2140d45fb86265ebe21d8895f",
        "IPY_MODEL_8563bc6dbe9f4f07952f8ef04d7d060c"
       ],
       "layout": "IPY_MODEL_c8f959ac88514605b4c5e284cfffb0e9"
      }
     },
     "1b80ff7598c5492fbdc56ea6e032bd82": {
      "model_module": "@jupyter-widgets/controls",
      "model_module_version": "1.4.0",
      "model_name": "ProgressStyleModel",
      "state": {
       "description_width": ""
      }
     },
     "1b8f23e8fa1f49ca84ff8af910d42b84": {
      "model_module": "@jupyter-widgets/controls",
      "model_module_version": "1.4.0",
      "model_name": "HBoxModel",
      "state": {
       "children": [
        "IPY_MODEL_f98dcb8570ce4ec3a48264864b53e384",
        "IPY_MODEL_e1895cb635b44096a8217f3d0fed2d04"
       ],
       "layout": "IPY_MODEL_a5d051c375234b888e74c7d1486cd07b"
      }
     },
     "1bb4646e63134c2facfa1387875b746d": {
      "model_module": "@jupyter-widgets/controls",
      "model_module_version": "1.4.0",
      "model_name": "HBoxModel",
      "state": {
       "children": [
        "IPY_MODEL_d5f8d1f6cdaa43e28de38b6d4d383de1",
        "IPY_MODEL_63823dcb4ad14537a6f382a2e8773e99"
       ],
       "layout": "IPY_MODEL_2666e13ecb5d4c858e2fab5887e1d1ab"
      }
     },
     "1be12a41de844f66a461d36312f1f7f7": {
      "model_module": "@jupyter-widgets/controls",
      "model_module_version": "1.4.0",
      "model_name": "IntProgressModel",
      "state": {
       "bar_style": "success",
       "layout": "IPY_MODEL_233ea19e35044a239dab8b27faf19b20",
       "max": 9998900,
       "style": "IPY_MODEL_dcdc77ccf55b488ba23e9e941bb544ed",
       "value": 9998900
      }
     },
     "1be5dcf152a14ebe8261deb7ca0a4e67": {
      "model_module": "@jupyter-widgets/base",
      "model_module_version": "1.1.0",
      "model_name": "LayoutModel",
      "state": {}
     },
     "1c0c26b1b1664aafaf190380e674a25a": {
      "model_module": "@jupyter-widgets/controls",
      "model_module_version": "1.4.0",
      "model_name": "IntProgressModel",
      "state": {
       "bar_style": "success",
       "layout": "IPY_MODEL_a10d2b2b6c6c4ec088b1654f0cf7584b",
       "max": 9998900,
       "style": "IPY_MODEL_d36e72387cc04b9499d899264cddd22b",
       "value": 9998900
      }
     },
     "1c2cc953e1b24ef19a5e99af874470db": {
      "model_module": "@jupyter-widgets/controls",
      "model_module_version": "1.4.0",
      "model_name": "HBoxModel",
      "state": {
       "children": [
        "IPY_MODEL_7897c7ee9c46434680eada114c9baed9",
        "IPY_MODEL_7895f5e5adda464ebaedb94cf4356545"
       ],
       "layout": "IPY_MODEL_9293562f58094288942ffb40dcf38bac"
      }
     },
     "1c430fabf9084981bebfd7912862575b": {
      "model_module": "@jupyter-widgets/base",
      "model_module_version": "1.1.0",
      "model_name": "LayoutModel",
      "state": {}
     },
     "1c4cf8f0aec94dcf99c086591abd7073": {
      "model_module": "@jupyter-widgets/controls",
      "model_module_version": "1.4.0",
      "model_name": "IntProgressModel",
      "state": {
       "bar_style": "success",
       "layout": "IPY_MODEL_cc4ffb62068a4ec8beeabc61a3ff6627",
       "max": 9998900,
       "style": "IPY_MODEL_4e7408c1959f4de1b0ae6ec90d88246e",
       "value": 9998900
      }
     },
     "1c796e42c8c441ee87a453d46ee577d1": {
      "model_module": "@jupyter-widgets/base",
      "model_module_version": "1.1.0",
      "model_name": "LayoutModel",
      "state": {}
     },
     "1cbfe76375c44008b1b627c34d1e3a35": {
      "model_module": "@jupyter-widgets/controls",
      "model_module_version": "1.4.0",
      "model_name": "DescriptionStyleModel",
      "state": {
       "description_width": ""
      }
     },
     "1cc168ef0eaa4972836234da0c7d517e": {
      "model_module": "@jupyter-widgets/base",
      "model_module_version": "1.1.0",
      "model_name": "LayoutModel",
      "state": {}
     },
     "1ccff322604d4340922a7cb7fe43b0e8": {
      "model_module": "@jupyter-widgets/controls",
      "model_module_version": "1.4.0",
      "model_name": "DescriptionStyleModel",
      "state": {
       "description_width": ""
      }
     },
     "1cd7e7557fa94213ae07b7d11b47fbb8": {
      "model_module": "@jupyter-widgets/controls",
      "model_module_version": "1.4.0",
      "model_name": "IntProgressModel",
      "state": {
       "bar_style": "success",
       "layout": "IPY_MODEL_2aae2194537c4bdeb69fc1e993d36c66",
       "max": 9998900,
       "style": "IPY_MODEL_8463d7ae78964739b37ce600fbc82e91",
       "value": 9998900
      }
     },
     "1d0038eb02604e07b8b7672fafa451fd": {
      "model_module": "@jupyter-widgets/controls",
      "model_module_version": "1.4.0",
      "model_name": "DescriptionStyleModel",
      "state": {
       "description_width": ""
      }
     },
     "1d148d60d1c74105ae74301c055453a5": {
      "model_module": "@jupyter-widgets/controls",
      "model_module_version": "1.4.0",
      "model_name": "IntProgressModel",
      "state": {
       "bar_style": "success",
       "layout": "IPY_MODEL_f7a0ec21c2d04c2cbf669857fc49d484",
       "max": 9998900,
       "style": "IPY_MODEL_3d031bde7dfd45c59e925160c129f3cd",
       "value": 9998900
      }
     },
     "1d28c599cb1c4bd688df3a021bf24e27": {
      "model_module": "@jupyter-widgets/base",
      "model_module_version": "1.1.0",
      "model_name": "LayoutModel",
      "state": {}
     },
     "1dbdedf788474f93bd30dc41c1819cca": {
      "model_module": "@jupyter-widgets/controls",
      "model_module_version": "1.4.0",
      "model_name": "ProgressStyleModel",
      "state": {
       "description_width": ""
      }
     },
     "1df72f9cf75d4caf91176d37eeed2fad": {
      "model_module": "@jupyter-widgets/base",
      "model_module_version": "1.1.0",
      "model_name": "LayoutModel",
      "state": {}
     },
     "1e0f5267557d47af89d76f98bc69145b": {
      "model_module": "@jupyter-widgets/controls",
      "model_module_version": "1.4.0",
      "model_name": "DescriptionStyleModel",
      "state": {
       "description_width": ""
      }
     },
     "1e401e58be854da4968e6920f578f18f": {
      "model_module": "@jupyter-widgets/controls",
      "model_module_version": "1.4.0",
      "model_name": "ProgressStyleModel",
      "state": {
       "description_width": ""
      }
     },
     "1e42f785c9f4471388e86bfdc9a7b152": {
      "model_module": "@jupyter-widgets/controls",
      "model_module_version": "1.4.0",
      "model_name": "DescriptionStyleModel",
      "state": {
       "description_width": ""
      }
     },
     "1e475f872da74e9298b544ace45e5343": {
      "model_module": "@jupyter-widgets/controls",
      "model_module_version": "1.4.0",
      "model_name": "HBoxModel",
      "state": {
       "children": [
        "IPY_MODEL_c88038485154495795dfa789584a2bb5",
        "IPY_MODEL_8856fe3895ed4f9ebbe4c6143828bd60"
       ],
       "layout": "IPY_MODEL_1795f7ebc35f41b1896507d08f6ed160"
      }
     },
     "1ea09bd1ae0b4a678cc707efabed49fa": {
      "model_module": "@jupyter-widgets/controls",
      "model_module_version": "1.4.0",
      "model_name": "IntProgressModel",
      "state": {
       "bar_style": "success",
       "layout": "IPY_MODEL_e8ad7e070f184b1186e99669ed55b159",
       "max": 9998900,
       "style": "IPY_MODEL_6d15924b2df24753b9e7cac978aad054",
       "value": 9998900
      }
     },
     "1ea90bda69e243c7a58743f922a158a7": {
      "model_module": "@jupyter-widgets/controls",
      "model_module_version": "1.4.0",
      "model_name": "DescriptionStyleModel",
      "state": {
       "description_width": ""
      }
     },
     "1ed071d229cb4427824cca2e13959b7c": {
      "model_module": "@jupyter-widgets/base",
      "model_module_version": "1.1.0",
      "model_name": "LayoutModel",
      "state": {}
     },
     "1ee8f9fec8bd48a59ceeaa21deabad8f": {
      "model_module": "@jupyter-widgets/base",
      "model_module_version": "1.1.0",
      "model_name": "LayoutModel",
      "state": {}
     },
     "1f3c8a0a2ee34db480738394515a15dd": {
      "model_module": "@jupyter-widgets/controls",
      "model_module_version": "1.4.0",
      "model_name": "HBoxModel",
      "state": {
       "children": [
        "IPY_MODEL_0997d48dee2f4e4690b9ebad03c48132",
        "IPY_MODEL_3b20833e6e6f4dfab5be601fda998a0d"
       ],
       "layout": "IPY_MODEL_3322bea1dece4e1ba79efb5859be9bd5"
      }
     },
     "1f861c30704b48398e7841166b8caf96": {
      "model_module": "@jupyter-widgets/base",
      "model_module_version": "1.1.0",
      "model_name": "LayoutModel",
      "state": {}
     },
     "1fa5c34645ca459a8dc3ce4e28b2a834": {
      "model_module": "@jupyter-widgets/controls",
      "model_module_version": "1.4.0",
      "model_name": "DescriptionStyleModel",
      "state": {
       "description_width": ""
      }
     },
     "1fae7cfcabe645b6b48b1c159ee73d66": {
      "model_module": "@jupyter-widgets/base",
      "model_module_version": "1.1.0",
      "model_name": "LayoutModel",
      "state": {}
     },
     "1fc448f25ff342dba0d2a5d837b496e4": {
      "model_module": "@jupyter-widgets/controls",
      "model_module_version": "1.4.0",
      "model_name": "IntProgressModel",
      "state": {
       "bar_style": "success",
       "layout": "IPY_MODEL_510f815708874067a2aedfbdef023c2b",
       "max": 9998900,
       "style": "IPY_MODEL_85ee836bb0ba411ea65b529bd962c455",
       "value": 9998900
      }
     },
     "200f2f5bde894e1fb327423912cb8be8": {
      "model_module": "@jupyter-widgets/base",
      "model_module_version": "1.1.0",
      "model_name": "LayoutModel",
      "state": {}
     },
     "202211b9701047d89b41ccacba23a889": {
      "model_module": "@jupyter-widgets/base",
      "model_module_version": "1.1.0",
      "model_name": "LayoutModel",
      "state": {}
     },
     "204258a3351e40c6842970263821591a": {
      "model_module": "@jupyter-widgets/controls",
      "model_module_version": "1.4.0",
      "model_name": "HTMLModel",
      "state": {
       "layout": "IPY_MODEL_84d93b2d2435475dbe268ce23d1380a3",
       "style": "IPY_MODEL_a50b1a9bd3ba44a5b3d773de25206957",
       "value": "100% 9998900/9998900 [02:40&lt;00:00, 62193.17it/s]"
      }
     },
     "20438fa78cce439cbafc7d855c40eaec": {
      "model_module": "@jupyter-widgets/base",
      "model_module_version": "1.1.0",
      "model_name": "LayoutModel",
      "state": {}
     },
     "206a85dc902e4812b6767e0e7bdbf9c9": {
      "model_module": "@jupyter-widgets/controls",
      "model_module_version": "1.4.0",
      "model_name": "HBoxModel",
      "state": {
       "children": [
        "IPY_MODEL_2b7c0f062e424fc2aa06368aed1cb281",
        "IPY_MODEL_36f3172400fd436d8e21afef5e03369f"
       ],
       "layout": "IPY_MODEL_6bfbffe794c14ceb85b76ae3be2ea8bc"
      }
     },
     "20753214b09540d5bcb4671d2213d753": {
      "model_module": "@jupyter-widgets/base",
      "model_module_version": "1.1.0",
      "model_name": "LayoutModel",
      "state": {}
     },
     "208ce9bbc34a4a469c57a249e3be16a8": {
      "model_module": "@jupyter-widgets/controls",
      "model_module_version": "1.4.0",
      "model_name": "IntProgressModel",
      "state": {
       "bar_style": "success",
       "layout": "IPY_MODEL_0b2b77cdfa6441b4a3d69ade316d0637",
       "max": 9998900,
       "style": "IPY_MODEL_23c0efa1e03f4b718297f0202824413f",
       "value": 9998900
      }
     },
     "20d2e3c6c8354c2a878b112eefe71032": {
      "model_module": "@jupyter-widgets/base",
      "model_module_version": "1.1.0",
      "model_name": "LayoutModel",
      "state": {}
     },
     "21021ef8c1504fa08115b86b405fdfc0": {
      "model_module": "@jupyter-widgets/controls",
      "model_module_version": "1.4.0",
      "model_name": "HBoxModel",
      "state": {
       "children": [
        "IPY_MODEL_9af8f44a1dd14253ad8cc703064e9610",
        "IPY_MODEL_2bf881153c4443e6b03021d3b9f185ba"
       ],
       "layout": "IPY_MODEL_27a28623629947bba7a109f0c6f2c119"
      }
     },
     "210520821e4f4957a61d54f33a1c7d47": {
      "model_module": "@jupyter-widgets/controls",
      "model_module_version": "1.4.0",
      "model_name": "HTMLModel",
      "state": {
       "layout": "IPY_MODEL_9d04cf07feb341d786de96c45140b841",
       "style": "IPY_MODEL_273414e54789406fb065a9452029bd2f",
       "value": "100% 9998900/9998900 [02:45&lt;00:00, 60453.39it/s]"
      }
     },
     "215c51001055485b9e7f9bfa6a085d6a": {
      "model_module": "@jupyter-widgets/controls",
      "model_module_version": "1.4.0",
      "model_name": "HTMLModel",
      "state": {
       "layout": "IPY_MODEL_d648502f4c974293904e6bbfab15d432",
       "style": "IPY_MODEL_f5d4c3101e3e4daca165635793583ba2",
       "value": "100% 9998900/9998900 [02:52&lt;00:00, 57959.96it/s]"
      }
     },
     "216cb31c8f094aa68d9d66afe41f7e6c": {
      "model_module": "@jupyter-widgets/base",
      "model_module_version": "1.1.0",
      "model_name": "LayoutModel",
      "state": {}
     },
     "217d291fd12d451ea2e96e28d90220eb": {
      "model_module": "@jupyter-widgets/controls",
      "model_module_version": "1.4.0",
      "model_name": "HTMLModel",
      "state": {
       "layout": "IPY_MODEL_f53c5364758c410e82038fa8d609151d",
       "style": "IPY_MODEL_8479753c455542de890dd8bea4d6dd81",
       "value": "100% 9998900/9998900 [02:46&lt;00:00, 60181.90it/s]"
      }
     },
     "218cb3992d0a484391f08b22e2a09223": {
      "model_module": "@jupyter-widgets/base",
      "model_module_version": "1.1.0",
      "model_name": "LayoutModel",
      "state": {}
     },
     "219874fc3d614f6fb12e3531aca2713f": {
      "model_module": "@jupyter-widgets/base",
      "model_module_version": "1.1.0",
      "model_name": "LayoutModel",
      "state": {}
     },
     "21a4c737c890441b9034f8e66652e034": {
      "model_module": "@jupyter-widgets/base",
      "model_module_version": "1.1.0",
      "model_name": "LayoutModel",
      "state": {}
     },
     "21a886b296f944598b9f15c259513e42": {
      "model_module": "@jupyter-widgets/controls",
      "model_module_version": "1.4.0",
      "model_name": "ProgressStyleModel",
      "state": {
       "description_width": ""
      }
     },
     "21ac3906941a418aa1b10ebc44ee6da8": {
      "model_module": "@jupyter-widgets/controls",
      "model_module_version": "1.4.0",
      "model_name": "HBoxModel",
      "state": {
       "children": [
        "IPY_MODEL_721ca06b8e0b471088b95a0018364696",
        "IPY_MODEL_c6bea2445f15488aa05b298b0d2278f9"
       ],
       "layout": "IPY_MODEL_7131a914dc9f4d268c5c6fce105ce4e8"
      }
     },
     "21c6eace37584692b9b3f35332b36beb": {
      "model_module": "@jupyter-widgets/controls",
      "model_module_version": "1.4.0",
      "model_name": "HTMLModel",
      "state": {
       "layout": "IPY_MODEL_2d96e02a238d4abd98a332fb4e7c400d",
       "style": "IPY_MODEL_251b93c6f2564912817452a5dc85e017",
       "value": "100% 9998900/9998900 [02:50&lt;00:00, 58764.49it/s]"
      }
     },
     "21e2bf533c514bfeaa9f494ce153c696": {
      "model_module": "@jupyter-widgets/base",
      "model_module_version": "1.1.0",
      "model_name": "LayoutModel",
      "state": {}
     },
     "220339aad8b747b78b33f287689dbe67": {
      "model_module": "@jupyter-widgets/controls",
      "model_module_version": "1.4.0",
      "model_name": "HBoxModel",
      "state": {
       "children": [
        "IPY_MODEL_74719e971c8746698b4a9b0110056fc3",
        "IPY_MODEL_f0f6483ca4e34c92a48f16ef7bacc27a"
       ],
       "layout": "IPY_MODEL_cd61727e0ae6419997c223b516186d3f"
      }
     },
     "2212bff1f74f49da91eb2bd1e42dd5b0": {
      "model_module": "@jupyter-widgets/controls",
      "model_module_version": "1.4.0",
      "model_name": "HTMLModel",
      "state": {
       "layout": "IPY_MODEL_dea33f7a933f451e832718c2b5487905",
       "style": "IPY_MODEL_2724330241cd4efabeb93966f8855721",
       "value": "100% 9998900/9998900 [02:52&lt;00:00, 58109.99it/s]"
      }
     },
     "22589dad15b64fa7a2073c928b95f21f": {
      "model_module": "@jupyter-widgets/base",
      "model_module_version": "1.1.0",
      "model_name": "LayoutModel",
      "state": {}
     },
     "225b84232c8e41518bd4018ddf80cf36": {
      "model_module": "@jupyter-widgets/controls",
      "model_module_version": "1.4.0",
      "model_name": "ProgressStyleModel",
      "state": {
       "description_width": ""
      }
     },
     "225d58770cef488b8cd349259d169dc9": {
      "model_module": "@jupyter-widgets/base",
      "model_module_version": "1.1.0",
      "model_name": "LayoutModel",
      "state": {}
     },
     "22645c954cc247e7bc4920446d291fae": {
      "model_module": "@jupyter-widgets/controls",
      "model_module_version": "1.4.0",
      "model_name": "DescriptionStyleModel",
      "state": {
       "description_width": ""
      }
     },
     "2267eb61a70f4a01a21aa90cc78b1d88": {
      "model_module": "@jupyter-widgets/controls",
      "model_module_version": "1.4.0",
      "model_name": "HTMLModel",
      "state": {
       "layout": "IPY_MODEL_7f915046bb7945e78c2c5dd590a0747b",
       "style": "IPY_MODEL_cb3a3afcfe2a417dae7c8511bc8fe129",
       "value": "1000001it [22:27, 742.22it/s]"
      }
     },
     "22701bc237ea4397a0ca0767b0c290f8": {
      "model_module": "@jupyter-widgets/controls",
      "model_module_version": "1.4.0",
      "model_name": "IntProgressModel",
      "state": {
       "bar_style": "success",
       "layout": "IPY_MODEL_4bdf3ac80dfb40c686ee1d923ce660c9",
       "max": 9998900,
       "style": "IPY_MODEL_10be29d46f304ee584b7ed3c04983f4b",
       "value": 9998900
      }
     },
     "229f6aa89ae04e0d849293b39087d77f": {
      "model_module": "@jupyter-widgets/controls",
      "model_module_version": "1.4.0",
      "model_name": "DescriptionStyleModel",
      "state": {
       "description_width": ""
      }
     },
     "22c1557453ac4e17bf24c1883fbeb5ca": {
      "model_module": "@jupyter-widgets/controls",
      "model_module_version": "1.4.0",
      "model_name": "HTMLModel",
      "state": {
       "layout": "IPY_MODEL_b2721f2d9bf7407cb869e96d6359d6eb",
       "style": "IPY_MODEL_af29983593374f449c34cdd136c56424",
       "value": "100% 9998900/9998900 [02:44&lt;00:00, 60612.21it/s]"
      }
     },
     "2321cd67310744418ad35dfed84f54ea": {
      "model_module": "@jupyter-widgets/controls",
      "model_module_version": "1.4.0",
      "model_name": "HTMLModel",
      "state": {
       "layout": "IPY_MODEL_dc7aacda83474e6c8c4f61f0ed242564",
       "style": "IPY_MODEL_b96dec6fac0c49e9bb8ce884a18b79f7",
       "value": "1000001it [23:23, 712.32it/s]"
      }
     },
     "2325e11bd372494ca9903e9c7121b244": {
      "model_module": "@jupyter-widgets/base",
      "model_module_version": "1.1.0",
      "model_name": "LayoutModel",
      "state": {}
     },
     "2329adefd8ef4b78940ac80a8bf37d4b": {
      "model_module": "@jupyter-widgets/controls",
      "model_module_version": "1.4.0",
      "model_name": "HTMLModel",
      "state": {
       "layout": "IPY_MODEL_04c9e9051bb84c5caa074fe1d4e0003c",
       "style": "IPY_MODEL_d045b9d6aacf472c8dd729a1042e63ad",
       "value": "100% 9998900/9998900 [02:43&lt;00:00, 61075.35it/s]"
      }
     },
     "233ea19e35044a239dab8b27faf19b20": {
      "model_module": "@jupyter-widgets/base",
      "model_module_version": "1.1.0",
      "model_name": "LayoutModel",
      "state": {}
     },
     "236103600d404b4180b27fbebc6f8a5c": {
      "model_module": "@jupyter-widgets/controls",
      "model_module_version": "1.4.0",
      "model_name": "HBoxModel",
      "state": {
       "children": [
        "IPY_MODEL_48550d9e7a8b4f748a0608faaabad208",
        "IPY_MODEL_75da4f55391a46ff949a72fb1bdb5b11"
       ],
       "layout": "IPY_MODEL_69b0ad2282b34e4da220dc9895cb5398"
      }
     },
     "2377855d34124fa1b75144f95756722d": {
      "model_module": "@jupyter-widgets/controls",
      "model_module_version": "1.4.0",
      "model_name": "HBoxModel",
      "state": {
       "children": [
        "IPY_MODEL_cf861d69a67c4a87b96d4ac597ec4aac",
        "IPY_MODEL_3d859e9505c046c9a8f1389bd1a4c7d1"
       ],
       "layout": "IPY_MODEL_d3c03f5bc8de433e8e8e54fc0d989fdb"
      }
     },
     "238c18cedf51415fbe88eaea316f4ff1": {
      "model_module": "@jupyter-widgets/base",
      "model_module_version": "1.1.0",
      "model_name": "LayoutModel",
      "state": {}
     },
     "2393f82eae4a476c9726a24a3db9028c": {
      "model_module": "@jupyter-widgets/base",
      "model_module_version": "1.1.0",
      "model_name": "LayoutModel",
      "state": {}
     },
     "23a3fd0cffb14281b57e5673588c2931": {
      "model_module": "@jupyter-widgets/controls",
      "model_module_version": "1.4.0",
      "model_name": "DescriptionStyleModel",
      "state": {
       "description_width": ""
      }
     },
     "23c0efa1e03f4b718297f0202824413f": {
      "model_module": "@jupyter-widgets/controls",
      "model_module_version": "1.4.0",
      "model_name": "ProgressStyleModel",
      "state": {
       "description_width": ""
      }
     },
     "23c274f5ac3349cc89203389dc3b037e": {
      "model_module": "@jupyter-widgets/controls",
      "model_module_version": "1.4.0",
      "model_name": "HTMLModel",
      "state": {
       "layout": "IPY_MODEL_529936c424c248beab9f8c97d85f5c2d",
       "style": "IPY_MODEL_51362f04f624441ca8f263e4c50efc74",
       "value": "100% 9998900/9998900 [02:46&lt;00:00, 59929.71it/s]"
      }
     },
     "23c3e1f34ef44809b0f6a090b232117d": {
      "model_module": "@jupyter-widgets/base",
      "model_module_version": "1.1.0",
      "model_name": "LayoutModel",
      "state": {}
     },
     "23c9b3251f4441c1a7db1cf8b0fe0d43": {
      "model_module": "@jupyter-widgets/base",
      "model_module_version": "1.1.0",
      "model_name": "LayoutModel",
      "state": {}
     },
     "24255d64d7a543fd87d0238792e710de": {
      "model_module": "@jupyter-widgets/controls",
      "model_module_version": "1.4.0",
      "model_name": "HBoxModel",
      "state": {
       "children": [
        "IPY_MODEL_7efcb8dc6d23433887a96bcc6e3de495",
        "IPY_MODEL_aedcfd543a7c493ebfa2be7ed295fdc9"
       ],
       "layout": "IPY_MODEL_4eacddd466f445f38f76389f0caf392b"
      }
     },
     "244a18132fcb42e28b9143ff62c235af": {
      "model_module": "@jupyter-widgets/base",
      "model_module_version": "1.1.0",
      "model_name": "LayoutModel",
      "state": {}
     },
     "246d3b40ed704864bfe217f7a1cafd55": {
      "model_module": "@jupyter-widgets/controls",
      "model_module_version": "1.4.0",
      "model_name": "HBoxModel",
      "state": {
       "children": [
        "IPY_MODEL_4af8ad070eb94daebdc62a8c2b2f0aad",
        "IPY_MODEL_b7efbf7b24f7406b84d6e9dbdebd822f"
       ],
       "layout": "IPY_MODEL_ed18e41b542946b281443216b143f487"
      }
     },
     "24794a490f194ce0a69d20782cda72b1": {
      "model_module": "@jupyter-widgets/base",
      "model_module_version": "1.1.0",
      "model_name": "LayoutModel",
      "state": {}
     },
     "2494dc23fe6d40599ca5415a044d3e0f": {
      "model_module": "@jupyter-widgets/base",
      "model_module_version": "1.1.0",
      "model_name": "LayoutModel",
      "state": {}
     },
     "24c63eaab5d44d1f81105e2fd9e068c3": {
      "model_module": "@jupyter-widgets/controls",
      "model_module_version": "1.4.0",
      "model_name": "HTMLModel",
      "state": {
       "layout": "IPY_MODEL_c1ceebc2077c4156b2ceb1c92f170010",
       "style": "IPY_MODEL_f19d42c1a58149edab9745cdeaa8eea8",
       "value": "100% 9998900/9998900 [02:49&lt;00:00, 59145.84it/s]"
      }
     },
     "24d8b4f206f24d898fad9421fb1d5431": {
      "model_module": "@jupyter-widgets/controls",
      "model_module_version": "1.4.0",
      "model_name": "IntProgressModel",
      "state": {
       "bar_style": "success",
       "layout": "IPY_MODEL_f81d10c6f8f74b30a1fe157749cb0162",
       "max": 9998900,
       "style": "IPY_MODEL_8ff3eedd414a4cc2b7a541c0e2af7a93",
       "value": 9998900
      }
     },
     "24db1bb00f2a41338c6b3db29b5900a5": {
      "model_module": "@jupyter-widgets/base",
      "model_module_version": "1.1.0",
      "model_name": "LayoutModel",
      "state": {}
     },
     "251b93c6f2564912817452a5dc85e017": {
      "model_module": "@jupyter-widgets/controls",
      "model_module_version": "1.4.0",
      "model_name": "DescriptionStyleModel",
      "state": {
       "description_width": ""
      }
     },
     "252ca3a326f245c98a49318c73b4f6bf": {
      "model_module": "@jupyter-widgets/base",
      "model_module_version": "1.1.0",
      "model_name": "LayoutModel",
      "state": {}
     },
     "253cb4363c424462b3035dde86a622a6": {
      "model_module": "@jupyter-widgets/controls",
      "model_module_version": "1.4.0",
      "model_name": "DescriptionStyleModel",
      "state": {
       "description_width": ""
      }
     },
     "255b2286dcae4306954b17133c370481": {
      "model_module": "@jupyter-widgets/controls",
      "model_module_version": "1.4.0",
      "model_name": "IntProgressModel",
      "state": {
       "bar_style": "success",
       "layout": "IPY_MODEL_b7729354921c4c78a53690e0801a5267",
       "max": 9998900,
       "style": "IPY_MODEL_d018fab1e2354357a5aae925d5d3e0e1",
       "value": 9998900
      }
     },
     "256c24ab3fff47fe8e9f176f7147e483": {
      "model_module": "@jupyter-widgets/base",
      "model_module_version": "1.1.0",
      "model_name": "LayoutModel",
      "state": {}
     },
     "25bdc9f197b94cf28fdeab183c4b4788": {
      "model_module": "@jupyter-widgets/controls",
      "model_module_version": "1.4.0",
      "model_name": "DescriptionStyleModel",
      "state": {
       "description_width": ""
      }
     },
     "25c5097fe9b24f558af02235a16f25b9": {
      "model_module": "@jupyter-widgets/controls",
      "model_module_version": "1.4.0",
      "model_name": "IntProgressModel",
      "state": {
       "bar_style": "success",
       "layout": "IPY_MODEL_2d37b835ab5c471ab6cbade8c3205c2d",
       "max": 1,
       "style": "IPY_MODEL_7fdaa618c4e742c18cedb0aaf23c79fa",
       "value": 1
      }
     },
     "25ded423f700470bb9f81972fe774e96": {
      "model_module": "@jupyter-widgets/controls",
      "model_module_version": "1.4.0",
      "model_name": "HTMLModel",
      "state": {
       "layout": "IPY_MODEL_81d7bb4b57fd486e8b17f373d2ae4cd6",
       "style": "IPY_MODEL_65b9b7134f554a9f82d4c0f0798db832",
       "value": "100% 9998900/9998900 [02:38&lt;00:00, 63046.99it/s]"
      }
     },
     "264367c94ffa4c37b849edf643e74448": {
      "model_module": "@jupyter-widgets/controls",
      "model_module_version": "1.4.0",
      "model_name": "ProgressStyleModel",
      "state": {
       "description_width": ""
      }
     },
     "265b89b614f146c2b8daf89724a18b13": {
      "model_module": "@jupyter-widgets/controls",
      "model_module_version": "1.4.0",
      "model_name": "HTMLModel",
      "state": {
       "layout": "IPY_MODEL_83375040bed84de9a546751f4542885f",
       "style": "IPY_MODEL_c69e5fa3a07f4eca958b0981f0b0a7ee",
       "value": "100% 9998900/9998900 [02:47&lt;00:00, 59583.64it/s]"
      }
     },
     "2666e13ecb5d4c858e2fab5887e1d1ab": {
      "model_module": "@jupyter-widgets/base",
      "model_module_version": "1.1.0",
      "model_name": "LayoutModel",
      "state": {}
     },
     "269fdf2a897a4ba9807a185757de5285": {
      "model_module": "@jupyter-widgets/base",
      "model_module_version": "1.1.0",
      "model_name": "LayoutModel",
      "state": {}
     },
     "27079e42a9d54cf08890e79f45a59452": {
      "model_module": "@jupyter-widgets/base",
      "model_module_version": "1.1.0",
      "model_name": "LayoutModel",
      "state": {}
     },
     "2724330241cd4efabeb93966f8855721": {
      "model_module": "@jupyter-widgets/controls",
      "model_module_version": "1.4.0",
      "model_name": "DescriptionStyleModel",
      "state": {
       "description_width": ""
      }
     },
     "273414e54789406fb065a9452029bd2f": {
      "model_module": "@jupyter-widgets/controls",
      "model_module_version": "1.4.0",
      "model_name": "DescriptionStyleModel",
      "state": {
       "description_width": ""
      }
     },
     "274187ea93614a83b63961bcf56ae390": {
      "model_module": "@jupyter-widgets/base",
      "model_module_version": "1.1.0",
      "model_name": "LayoutModel",
      "state": {}
     },
     "2750d67aeb984ef9bfd1a5406e714e40": {
      "model_module": "@jupyter-widgets/base",
      "model_module_version": "1.1.0",
      "model_name": "LayoutModel",
      "state": {}
     },
     "276d6270eb544b15bf40502ba5eada7a": {
      "model_module": "@jupyter-widgets/controls",
      "model_module_version": "1.4.0",
      "model_name": "DescriptionStyleModel",
      "state": {
       "description_width": ""
      }
     },
     "2786197950ea4c1984465ff47e49a4e8": {
      "model_module": "@jupyter-widgets/base",
      "model_module_version": "1.1.0",
      "model_name": "LayoutModel",
      "state": {}
     },
     "27a28623629947bba7a109f0c6f2c119": {
      "model_module": "@jupyter-widgets/base",
      "model_module_version": "1.1.0",
      "model_name": "LayoutModel",
      "state": {}
     },
     "27d442c0202842db91b7fb09627379b8": {
      "model_module": "@jupyter-widgets/controls",
      "model_module_version": "1.4.0",
      "model_name": "HTMLModel",
      "state": {
       "layout": "IPY_MODEL_a421ea9936c64d3f9b07663f2e99ebd3",
       "style": "IPY_MODEL_890b5473fb4840d6848ab49f27845c62",
       "value": "100% 9998900/9998900 [02:49&lt;00:00, 58840.46it/s]"
      }
     },
     "27fe51e238524634ab766c6519489922": {
      "model_module": "@jupyter-widgets/base",
      "model_module_version": "1.1.0",
      "model_name": "LayoutModel",
      "state": {}
     },
     "2800e26d76ad40f3a3cba47da6f3c3b1": {
      "model_module": "@jupyter-widgets/base",
      "model_module_version": "1.1.0",
      "model_name": "LayoutModel",
      "state": {}
     },
     "28449bc399a94c3dbdb9cf4e3eec2144": {
      "model_module": "@jupyter-widgets/controls",
      "model_module_version": "1.4.0",
      "model_name": "HBoxModel",
      "state": {
       "children": [
        "IPY_MODEL_8e34c44f4221413397f17f71bca1562f",
        "IPY_MODEL_3c7328b0d7064ea9a81302a8eadcdcf8"
       ],
       "layout": "IPY_MODEL_ad13a62c73aa4c608753a75d4ec6cf66"
      }
     },
     "2895a6b65bcd4bb698adcd2988908bb5": {
      "model_module": "@jupyter-widgets/controls",
      "model_module_version": "1.4.0",
      "model_name": "ProgressStyleModel",
      "state": {
       "description_width": ""
      }
     },
     "28eeb983d49e48948ac465b18107e15a": {
      "model_module": "@jupyter-widgets/base",
      "model_module_version": "1.1.0",
      "model_name": "LayoutModel",
      "state": {}
     },
     "29512a0b567c4fb6ad7cc46c9d09290e": {
      "model_module": "@jupyter-widgets/controls",
      "model_module_version": "1.4.0",
      "model_name": "HBoxModel",
      "state": {
       "children": [
        "IPY_MODEL_9326619269e34f26a8e296435fba9661",
        "IPY_MODEL_60d7093d45874103a7b2976d7923e1ad"
       ],
       "layout": "IPY_MODEL_b93d27e66b5542fe9a60351308491c42"
      }
     },
     "29538e620a2e453e9b2a0f7a269b681a": {
      "model_module": "@jupyter-widgets/controls",
      "model_module_version": "1.4.0",
      "model_name": "ProgressStyleModel",
      "state": {
       "description_width": ""
      }
     },
     "297d4ad7bd0b45129a1f55598206b32a": {
      "model_module": "@jupyter-widgets/controls",
      "model_module_version": "1.4.0",
      "model_name": "ProgressStyleModel",
      "state": {
       "description_width": ""
      }
     },
     "299dfa15563f44b5890511713264f466": {
      "model_module": "@jupyter-widgets/controls",
      "model_module_version": "1.4.0",
      "model_name": "ProgressStyleModel",
      "state": {
       "description_width": ""
      }
     },
     "2a343e6c99d943d5b1bb27daa963eeae": {
      "model_module": "@jupyter-widgets/controls",
      "model_module_version": "1.4.0",
      "model_name": "IntProgressModel",
      "state": {
       "bar_style": "success",
       "layout": "IPY_MODEL_c0f772dae7b745199aa99457524417ad",
       "max": 9998900,
       "style": "IPY_MODEL_94ba7cb2f1094189bad3edbefcabd9da",
       "value": 9998900
      }
     },
     "2a6fa5782d6946f68d833cdda4421b2a": {
      "model_module": "@jupyter-widgets/controls",
      "model_module_version": "1.4.0",
      "model_name": "ProgressStyleModel",
      "state": {
       "description_width": ""
      }
     },
     "2a86cc0698ea41b399944dc6cced0d6c": {
      "model_module": "@jupyter-widgets/controls",
      "model_module_version": "1.4.0",
      "model_name": "DescriptionStyleModel",
      "state": {
       "description_width": ""
      }
     },
     "2aae2194537c4bdeb69fc1e993d36c66": {
      "model_module": "@jupyter-widgets/base",
      "model_module_version": "1.1.0",
      "model_name": "LayoutModel",
      "state": {}
     },
     "2adec29572194eedb0b790d57ff6488d": {
      "model_module": "@jupyter-widgets/base",
      "model_module_version": "1.1.0",
      "model_name": "LayoutModel",
      "state": {}
     },
     "2afbc3996af84ce1bb7c735c31e5ae67": {
      "model_module": "@jupyter-widgets/controls",
      "model_module_version": "1.4.0",
      "model_name": "DescriptionStyleModel",
      "state": {
       "description_width": ""
      }
     },
     "2b1060403712421b9c0577d965cffe21": {
      "model_module": "@jupyter-widgets/base",
      "model_module_version": "1.1.0",
      "model_name": "LayoutModel",
      "state": {}
     },
     "2b7c0f062e424fc2aa06368aed1cb281": {
      "model_module": "@jupyter-widgets/controls",
      "model_module_version": "1.4.0",
      "model_name": "IntProgressModel",
      "state": {
       "bar_style": "success",
       "layout": "IPY_MODEL_28eeb983d49e48948ac465b18107e15a",
       "max": 9998900,
       "style": "IPY_MODEL_fd8fc71b376944b2821b1638938cd9e2",
       "value": 9998900
      }
     },
     "2b955798ab2a483a8bc313b746bc12d1": {
      "model_module": "@jupyter-widgets/controls",
      "model_module_version": "1.4.0",
      "model_name": "HTMLModel",
      "state": {
       "layout": "IPY_MODEL_4e981044f477445d99bbf63c4270db53",
       "style": "IPY_MODEL_23a3fd0cffb14281b57e5673588c2931",
       "value": "100% 9998900/9998900 [02:52&lt;00:00, 57826.91it/s]"
      }
     },
     "2b99b29ccb2248efb01b40fd3d194544": {
      "model_module": "@jupyter-widgets/controls",
      "model_module_version": "1.4.0",
      "model_name": "DescriptionStyleModel",
      "state": {
       "description_width": ""
      }
     },
     "2ba48c135a5648a0b2228ca66aed640f": {
      "model_module": "@jupyter-widgets/controls",
      "model_module_version": "1.4.0",
      "model_name": "ProgressStyleModel",
      "state": {
       "description_width": ""
      }
     },
     "2bed914097884a50b4293197c6a36e73": {
      "model_module": "@jupyter-widgets/base",
      "model_module_version": "1.1.0",
      "model_name": "LayoutModel",
      "state": {}
     },
     "2bf881153c4443e6b03021d3b9f185ba": {
      "model_module": "@jupyter-widgets/controls",
      "model_module_version": "1.4.0",
      "model_name": "HTMLModel",
      "state": {
       "layout": "IPY_MODEL_35df6b4369644414aae6891771f9fee9",
       "style": "IPY_MODEL_574d5a207fe34c1bbd3b29552066d083",
       "value": "100% 9998900/9998900 [02:44&lt;00:00, 60736.26it/s]"
      }
     },
     "2c04d11a985142fba26f9266a05e6326": {
      "model_module": "@jupyter-widgets/controls",
      "model_module_version": "1.4.0",
      "model_name": "IntProgressModel",
      "state": {
       "bar_style": "success",
       "layout": "IPY_MODEL_f6555dfdc3bf416db8b44b934ea0ec91",
       "max": 9998900,
       "style": "IPY_MODEL_1dbdedf788474f93bd30dc41c1819cca",
       "value": 9998900
      }
     },
     "2c2c01a245d7437ea76acc50abe04513": {
      "model_module": "@jupyter-widgets/controls",
      "model_module_version": "1.4.0",
      "model_name": "DescriptionStyleModel",
      "state": {
       "description_width": ""
      }
     },
     "2c2c157744514dc097c8abe53eb4fc54": {
      "model_module": "@jupyter-widgets/controls",
      "model_module_version": "1.4.0",
      "model_name": "HBoxModel",
      "state": {
       "children": [
        "IPY_MODEL_96625aa255a743e295d8d18aea4fed1f",
        "IPY_MODEL_622f9ebe34794438930a819e39bf6a41"
       ],
       "layout": "IPY_MODEL_100b1db8e6a14db1b754c4cd8713e174"
      }
     },
     "2c2f40f1ef6c46e39f7876043e592b95": {
      "model_module": "@jupyter-widgets/controls",
      "model_module_version": "1.4.0",
      "model_name": "IntProgressModel",
      "state": {
       "bar_style": "success",
       "layout": "IPY_MODEL_f49bcb94b636411683c86dff821e4691",
       "max": 1,
       "style": "IPY_MODEL_c2f82e9cdd784e0c935c40866356db37",
       "value": 1
      }
     },
     "2c590e3dda43435793f65475ed9ae401": {
      "model_module": "@jupyter-widgets/controls",
      "model_module_version": "1.4.0",
      "model_name": "ProgressStyleModel",
      "state": {
       "description_width": ""
      }
     },
     "2c77f74656e34a429d0ab88bea54eaa6": {
      "model_module": "@jupyter-widgets/controls",
      "model_module_version": "1.4.0",
      "model_name": "DescriptionStyleModel",
      "state": {
       "description_width": ""
      }
     },
     "2c8be37c87a94b158bfc2ad82dfe2210": {
      "model_module": "@jupyter-widgets/base",
      "model_module_version": "1.1.0",
      "model_name": "LayoutModel",
      "state": {}
     },
     "2cb9d13780344552876a7da4dfb5197b": {
      "model_module": "@jupyter-widgets/base",
      "model_module_version": "1.1.0",
      "model_name": "LayoutModel",
      "state": {}
     },
     "2cdcf743984b4c7ba56feaf17ebbdd59": {
      "model_module": "@jupyter-widgets/controls",
      "model_module_version": "1.4.0",
      "model_name": "DescriptionStyleModel",
      "state": {
       "description_width": ""
      }
     },
     "2d37b835ab5c471ab6cbade8c3205c2d": {
      "model_module": "@jupyter-widgets/base",
      "model_module_version": "1.1.0",
      "model_name": "LayoutModel",
      "state": {}
     },
     "2d4557aa6bf74a53869a0bb1f95cb5b0": {
      "model_module": "@jupyter-widgets/base",
      "model_module_version": "1.1.0",
      "model_name": "LayoutModel",
      "state": {}
     },
     "2d5589993e3f467490afb07f78d5c2e8": {
      "model_module": "@jupyter-widgets/controls",
      "model_module_version": "1.4.0",
      "model_name": "HTMLModel",
      "state": {
       "layout": "IPY_MODEL_df276e92bc2d4f3d818e3409d181eece",
       "style": "IPY_MODEL_e1facc6fa5ff4df899ea5372003f7de0",
       "value": "100% 9998900/9998900 [02:53&lt;00:00, 57624.73it/s]"
      }
     },
     "2d69d3d6b11e4482b816546ff4af296b": {
      "model_module": "@jupyter-widgets/base",
      "model_module_version": "1.1.0",
      "model_name": "LayoutModel",
      "state": {}
     },
     "2d96e02a238d4abd98a332fb4e7c400d": {
      "model_module": "@jupyter-widgets/base",
      "model_module_version": "1.1.0",
      "model_name": "LayoutModel",
      "state": {}
     },
     "2d97e022c00f4faea5e8ac5bfe4ef907": {
      "model_module": "@jupyter-widgets/controls",
      "model_module_version": "1.4.0",
      "model_name": "IntProgressModel",
      "state": {
       "bar_style": "success",
       "layout": "IPY_MODEL_530630cd133e4c0bb403ae625172775b",
       "max": 9998900,
       "style": "IPY_MODEL_fc566c4f0e9e4bb3aa5f2e84b7535644",
       "value": 9998900
      }
     },
     "2d97fbbdce664fad833c0b8c36d8b13d": {
      "model_module": "@jupyter-widgets/controls",
      "model_module_version": "1.4.0",
      "model_name": "ProgressStyleModel",
      "state": {
       "description_width": ""
      }
     },
     "2de95e5e9fb74870b91c9e00f6476240": {
      "model_module": "@jupyter-widgets/base",
      "model_module_version": "1.1.0",
      "model_name": "LayoutModel",
      "state": {}
     },
     "2e0e20f4e85b4890a35272b4d3f6b3ec": {
      "model_module": "@jupyter-widgets/base",
      "model_module_version": "1.1.0",
      "model_name": "LayoutModel",
      "state": {}
     },
     "2e7a5d7b243e4b028c5809c9213fbd21": {
      "model_module": "@jupyter-widgets/base",
      "model_module_version": "1.1.0",
      "model_name": "LayoutModel",
      "state": {}
     },
     "2ec8282dff0442e9a607bd597ad2504e": {
      "model_module": "@jupyter-widgets/base",
      "model_module_version": "1.1.0",
      "model_name": "LayoutModel",
      "state": {}
     },
     "2f239fcc873740db821f05a3082f70bb": {
      "model_module": "@jupyter-widgets/base",
      "model_module_version": "1.1.0",
      "model_name": "LayoutModel",
      "state": {}
     },
     "305e7c6ee2604dfd9ca967ffafe60f2a": {
      "model_module": "@jupyter-widgets/base",
      "model_module_version": "1.1.0",
      "model_name": "LayoutModel",
      "state": {}
     },
     "30857fe91df94454ac62ae29cc94d492": {
      "model_module": "@jupyter-widgets/controls",
      "model_module_version": "1.4.0",
      "model_name": "HBoxModel",
      "state": {
       "children": [
        "IPY_MODEL_c5e951edee504a6f88f4d104927fe756",
        "IPY_MODEL_130a774ae684475f83a21ef05f6cd6c5"
       ],
       "layout": "IPY_MODEL_576b2ac8e8c34933babc463c0733ba93"
      }
     },
     "30c87111eea54769b4dc2644e8298c9a": {
      "model_module": "@jupyter-widgets/controls",
      "model_module_version": "1.4.0",
      "model_name": "DescriptionStyleModel",
      "state": {
       "description_width": ""
      }
     },
     "30e7a555eded4d3b9eb7675accb3b5f7": {
      "model_module": "@jupyter-widgets/controls",
      "model_module_version": "1.4.0",
      "model_name": "HBoxModel",
      "state": {
       "children": [
        "IPY_MODEL_fb1985c624aa431db0d105ebc28b773e",
        "IPY_MODEL_e017a0ae4f3a460298f84496fd9a3e0f"
       ],
       "layout": "IPY_MODEL_1b3b23a8ecfc43e7ac3048005f0eb88e"
      }
     },
     "31244153634347b1915ae257f644da7f": {
      "model_module": "@jupyter-widgets/controls",
      "model_module_version": "1.4.0",
      "model_name": "HTMLModel",
      "state": {
       "layout": "IPY_MODEL_4b06564da92c46cda2e92afdc58146ba",
       "style": "IPY_MODEL_2a86cc0698ea41b399944dc6cced0d6c",
       "value": "100% 9998900/9998900 [02:40&lt;00:00, 62290.49it/s]"
      }
     },
     "312dd1810af0412b8bd5c61d7d96e1d9": {
      "model_module": "@jupyter-widgets/base",
      "model_module_version": "1.1.0",
      "model_name": "LayoutModel",
      "state": {}
     },
     "31940926a7fd4992a896f672df8411a3": {
      "model_module": "@jupyter-widgets/base",
      "model_module_version": "1.1.0",
      "model_name": "LayoutModel",
      "state": {}
     },
     "31a36f574b9a4de0add43fa45590050b": {
      "model_module": "@jupyter-widgets/controls",
      "model_module_version": "1.4.0",
      "model_name": "ProgressStyleModel",
      "state": {
       "description_width": ""
      }
     },
     "31eea7c11ad64ec5a95da7dac0bd7224": {
      "model_module": "@jupyter-widgets/controls",
      "model_module_version": "1.4.0",
      "model_name": "HBoxModel",
      "state": {
       "children": [
        "IPY_MODEL_037516c41c0b4bccb6622e4a8a13c446",
        "IPY_MODEL_18696fbbf64b4dd7aefdb45afe6883ca"
       ],
       "layout": "IPY_MODEL_c5983873f32f42cea44f32bf7dfeac80"
      }
     },
     "326db5aeacac4a318a17ca1129672068": {
      "model_module": "@jupyter-widgets/controls",
      "model_module_version": "1.4.0",
      "model_name": "HTMLModel",
      "state": {
       "layout": "IPY_MODEL_6887c07c4f3346cbad90728c9eb1f986",
       "style": "IPY_MODEL_f9d9db8450bd456d99ee18072166cd42",
       "value": "100% 9998900/9998900 [02:43&lt;00:00, 61128.44it/s]"
      }
     },
     "3283f8c23ea84bfd897236eeb9fb3691": {
      "model_module": "@jupyter-widgets/base",
      "model_module_version": "1.1.0",
      "model_name": "LayoutModel",
      "state": {}
     },
     "3297f538d54245ccbe2fa1b3f4e33c9f": {
      "model_module": "@jupyter-widgets/controls",
      "model_module_version": "1.4.0",
      "model_name": "IntProgressModel",
      "state": {
       "bar_style": "success",
       "layout": "IPY_MODEL_2adec29572194eedb0b790d57ff6488d",
       "max": 9998900,
       "style": "IPY_MODEL_55ccfa70906641d4b65f759411fe6947",
       "value": 9998900
      }
     },
     "32b83090135e46ffa717ce25ca55364f": {
      "model_module": "@jupyter-widgets/controls",
      "model_module_version": "1.4.0",
      "model_name": "IntProgressModel",
      "state": {
       "bar_style": "success",
       "layout": "IPY_MODEL_97a2c29b2cf54d4ea71d306f5c3af683",
       "max": 9998900,
       "style": "IPY_MODEL_2a6fa5782d6946f68d833cdda4421b2a",
       "value": 9998900
      }
     },
     "32d50a009c714d0caa24269bbac22351": {
      "model_module": "@jupyter-widgets/controls",
      "model_module_version": "1.4.0",
      "model_name": "DescriptionStyleModel",
      "state": {
       "description_width": ""
      }
     },
     "32e461fca12144c3ab5cb0687fbd0f26": {
      "model_module": "@jupyter-widgets/base",
      "model_module_version": "1.1.0",
      "model_name": "LayoutModel",
      "state": {}
     },
     "32f2d3396d5843c19bdea1bb7689c1b5": {
      "model_module": "@jupyter-widgets/base",
      "model_module_version": "1.1.0",
      "model_name": "LayoutModel",
      "state": {}
     },
     "32fdb1a96bff424dafd84f9305fb7f04": {
      "model_module": "@jupyter-widgets/base",
      "model_module_version": "1.1.0",
      "model_name": "LayoutModel",
      "state": {}
     },
     "3322bea1dece4e1ba79efb5859be9bd5": {
      "model_module": "@jupyter-widgets/base",
      "model_module_version": "1.1.0",
      "model_name": "LayoutModel",
      "state": {}
     },
     "33684070ea79450cbaa233b75a60e9a0": {
      "model_module": "@jupyter-widgets/base",
      "model_module_version": "1.1.0",
      "model_name": "LayoutModel",
      "state": {}
     },
     "337a147786404e4dbcb2698337862b05": {
      "model_module": "@jupyter-widgets/base",
      "model_module_version": "1.1.0",
      "model_name": "LayoutModel",
      "state": {}
     },
     "337eed086cec43d2804423b2948ce076": {
      "model_module": "@jupyter-widgets/base",
      "model_module_version": "1.1.0",
      "model_name": "LayoutModel",
      "state": {}
     },
     "3399642fadfa4ef7993f7aae81d5624d": {
      "model_module": "@jupyter-widgets/controls",
      "model_module_version": "1.4.0",
      "model_name": "HTMLModel",
      "state": {
       "layout": "IPY_MODEL_47799375fbc84e69bd986c9d923ec0b0",
       "style": "IPY_MODEL_a9ee203d055d4946be1b3280dd240647",
       "value": "100% 9998900/9998900 [02:39&lt;00:00, 62691.33it/s]"
      }
     },
     "33b5ae94985f457ca1f953cb1d8f2b7e": {
      "model_module": "@jupyter-widgets/controls",
      "model_module_version": "1.4.0",
      "model_name": "IntProgressModel",
      "state": {
       "bar_style": "success",
       "layout": "IPY_MODEL_e9fe795044b3409abdcb22c5ad3ff8be",
       "max": 9998900,
       "style": "IPY_MODEL_a0057254cb9f43d3872fa7e26a030b45",
       "value": 9998900
      }
     },
     "33c02a89d12a4bb3a74ed2c69641db89": {
      "model_module": "@jupyter-widgets/base",
      "model_module_version": "1.1.0",
      "model_name": "LayoutModel",
      "state": {}
     },
     "33ce2c78888c49fc885b09fa443dedb1": {
      "model_module": "@jupyter-widgets/base",
      "model_module_version": "1.1.0",
      "model_name": "LayoutModel",
      "state": {}
     },
     "33dfef48fe614590ae77b6d2e6f309b6": {
      "model_module": "@jupyter-widgets/controls",
      "model_module_version": "1.4.0",
      "model_name": "IntProgressModel",
      "state": {
       "bar_style": "success",
       "layout": "IPY_MODEL_43868eee5d5a43edad484a639974bcd8",
       "max": 1,
       "style": "IPY_MODEL_5c7d703434314bd8bf7e88386260d614",
       "value": 1
      }
     },
     "33f28c6068b5434b8af94d794d8c8a09": {
      "model_module": "@jupyter-widgets/controls",
      "model_module_version": "1.4.0",
      "model_name": "ProgressStyleModel",
      "state": {
       "description_width": ""
      }
     },
     "3412a1da1e8947ed8503c3b1154514fb": {
      "model_module": "@jupyter-widgets/controls",
      "model_module_version": "1.4.0",
      "model_name": "HTMLModel",
      "state": {
       "layout": "IPY_MODEL_9b561b875dc14e3196a68f34aba9f31c",
       "style": "IPY_MODEL_80667ae8a677413c956ba55e2d2e6bd8",
       "value": "100% 9998900/9998900 [02:49&lt;00:00, 58843.26it/s]"
      }
     },
     "342fc975ae8a45ed8ac457647a511bc9": {
      "model_module": "@jupyter-widgets/base",
      "model_module_version": "1.1.0",
      "model_name": "LayoutModel",
      "state": {}
     },
     "3454faa68422447ab01518d2042696b2": {
      "model_module": "@jupyter-widgets/base",
      "model_module_version": "1.1.0",
      "model_name": "LayoutModel",
      "state": {}
     },
     "3478447c85ca4e618041fdedbda6975a": {
      "model_module": "@jupyter-widgets/base",
      "model_module_version": "1.1.0",
      "model_name": "LayoutModel",
      "state": {}
     },
     "34e796ff80ee49f6bb8b4bee966673a3": {
      "model_module": "@jupyter-widgets/controls",
      "model_module_version": "1.4.0",
      "model_name": "DescriptionStyleModel",
      "state": {
       "description_width": ""
      }
     },
     "352b523b3a0c4e94b86e4f8ff41dfa1b": {
      "model_module": "@jupyter-widgets/base",
      "model_module_version": "1.1.0",
      "model_name": "LayoutModel",
      "state": {}
     },
     "3551683a786846388076b40710658aa9": {
      "model_module": "@jupyter-widgets/controls",
      "model_module_version": "1.4.0",
      "model_name": "DescriptionStyleModel",
      "state": {
       "description_width": ""
      }
     },
     "355e05efb95c4995ae9308ab79c646dd": {
      "model_module": "@jupyter-widgets/base",
      "model_module_version": "1.1.0",
      "model_name": "LayoutModel",
      "state": {}
     },
     "3577c7deee2f4278943177913e366ced": {
      "model_module": "@jupyter-widgets/controls",
      "model_module_version": "1.4.0",
      "model_name": "DescriptionStyleModel",
      "state": {
       "description_width": ""
      }
     },
     "35df6b4369644414aae6891771f9fee9": {
      "model_module": "@jupyter-widgets/base",
      "model_module_version": "1.1.0",
      "model_name": "LayoutModel",
      "state": {}
     },
     "35f9c9e7ec2a41faad8ffaa301cada5a": {
      "model_module": "@jupyter-widgets/base",
      "model_module_version": "1.1.0",
      "model_name": "LayoutModel",
      "state": {}
     },
     "3628a30d71bd43559872a697ba341f3d": {
      "model_module": "@jupyter-widgets/base",
      "model_module_version": "1.1.0",
      "model_name": "LayoutModel",
      "state": {}
     },
     "36e8fea5bd7d43289eb73c0a2c27dea9": {
      "model_module": "@jupyter-widgets/base",
      "model_module_version": "1.1.0",
      "model_name": "LayoutModel",
      "state": {}
     },
     "36f3172400fd436d8e21afef5e03369f": {
      "model_module": "@jupyter-widgets/controls",
      "model_module_version": "1.4.0",
      "model_name": "HTMLModel",
      "state": {
       "layout": "IPY_MODEL_d3033e4c700b4f7a9968f092eafcce7e",
       "style": "IPY_MODEL_0888429849fe47af8939b0db47f50973",
       "value": "100% 9998900/9998900 [02:55&lt;00:00, 56934.59it/s]"
      }
     },
     "373644429c3041539aa4f655dbb7a23c": {
      "model_module": "@jupyter-widgets/base",
      "model_module_version": "1.1.0",
      "model_name": "LayoutModel",
      "state": {}
     },
     "37409401486d4a289f59a7e52d4dfd5d": {
      "model_module": "@jupyter-widgets/controls",
      "model_module_version": "1.4.0",
      "model_name": "DescriptionStyleModel",
      "state": {
       "description_width": ""
      }
     },
     "3762e0f8aac94e3f903120a45bdbbdd7": {
      "model_module": "@jupyter-widgets/base",
      "model_module_version": "1.1.0",
      "model_name": "LayoutModel",
      "state": {}
     },
     "376489503db54cd59393d3ae50736808": {
      "model_module": "@jupyter-widgets/controls",
      "model_module_version": "1.4.0",
      "model_name": "ProgressStyleModel",
      "state": {
       "description_width": ""
      }
     },
     "3778b4b0ca244e6098726b94165a5ccb": {
      "model_module": "@jupyter-widgets/base",
      "model_module_version": "1.1.0",
      "model_name": "LayoutModel",
      "state": {}
     },
     "377ed728aba54b879045804a8a527e20": {
      "model_module": "@jupyter-widgets/controls",
      "model_module_version": "1.4.0",
      "model_name": "DescriptionStyleModel",
      "state": {
       "description_width": ""
      }
     },
     "3782a5bdedde40d3b12798cc777255df": {
      "model_module": "@jupyter-widgets/controls",
      "model_module_version": "1.4.0",
      "model_name": "IntProgressModel",
      "state": {
       "bar_style": "success",
       "layout": "IPY_MODEL_312dd1810af0412b8bd5c61d7d96e1d9",
       "max": 9998900,
       "style": "IPY_MODEL_f37e637610164197aff4ed0e0cf196bf",
       "value": 9998900
      }
     },
     "37ea763fd6f8470c82c15077e39ca50b": {
      "model_module": "@jupyter-widgets/controls",
      "model_module_version": "1.4.0",
      "model_name": "DescriptionStyleModel",
      "state": {
       "description_width": ""
      }
     },
     "37fffc9c7f6d461f9b754e9449f91b76": {
      "model_module": "@jupyter-widgets/base",
      "model_module_version": "1.1.0",
      "model_name": "LayoutModel",
      "state": {}
     },
     "384d64165e9c47b68fe6ffc1ecc8147c": {
      "model_module": "@jupyter-widgets/controls",
      "model_module_version": "1.4.0",
      "model_name": "DescriptionStyleModel",
      "state": {
       "description_width": ""
      }
     },
     "384d71206fac493b8bcc5a286d9b521a": {
      "model_module": "@jupyter-widgets/controls",
      "model_module_version": "1.4.0",
      "model_name": "DescriptionStyleModel",
      "state": {
       "description_width": ""
      }
     },
     "384f4fc2a9664bf19ea4d0e2d15f0b44": {
      "model_module": "@jupyter-widgets/controls",
      "model_module_version": "1.4.0",
      "model_name": "HBoxModel",
      "state": {
       "children": [
        "IPY_MODEL_5150773817544aae8fb09487b3b0010c",
        "IPY_MODEL_0c4ee6d08d6943df9f1079083f87450a"
       ],
       "layout": "IPY_MODEL_04091108949247978f9b753c2a00c7d2"
      }
     },
     "3852ab00474043e781190d959d74fb89": {
      "model_module": "@jupyter-widgets/base",
      "model_module_version": "1.1.0",
      "model_name": "LayoutModel",
      "state": {}
     },
     "3862ad3ad6c54a459705e90bc30f9dd7": {
      "model_module": "@jupyter-widgets/controls",
      "model_module_version": "1.4.0",
      "model_name": "IntProgressModel",
      "state": {
       "bar_style": "success",
       "layout": "IPY_MODEL_776cb394eaf04c77b4819df848933f15",
       "max": 9998900,
       "style": "IPY_MODEL_9ce82e36fb85468fbc7ceff85a75a692",
       "value": 9998900
      }
     },
     "387e554af462435189b77af0a20cb3c6": {
      "model_module": "@jupyter-widgets/controls",
      "model_module_version": "1.4.0",
      "model_name": "ProgressStyleModel",
      "state": {
       "description_width": ""
      }
     },
     "3888d545b3784f1b9e7e9b1537943e28": {
      "model_module": "@jupyter-widgets/base",
      "model_module_version": "1.1.0",
      "model_name": "LayoutModel",
      "state": {}
     },
     "38c052d7126d4b61ae6f09d02afadb11": {
      "model_module": "@jupyter-widgets/controls",
      "model_module_version": "1.4.0",
      "model_name": "ProgressStyleModel",
      "state": {
       "description_width": ""
      }
     },
     "38f9e5140e714f749f8ac585089e63fa": {
      "model_module": "@jupyter-widgets/base",
      "model_module_version": "1.1.0",
      "model_name": "LayoutModel",
      "state": {}
     },
     "3a1a8c15676d428aadc09678eb081d80": {
      "model_module": "@jupyter-widgets/controls",
      "model_module_version": "1.4.0",
      "model_name": "HBoxModel",
      "state": {
       "children": [
        "IPY_MODEL_680f963f15494a9990639150c3f2aa2e",
        "IPY_MODEL_2321cd67310744418ad35dfed84f54ea"
       ],
       "layout": "IPY_MODEL_410a69371e3a4cebbd739db66dc7a888"
      }
     },
     "3a32a18013ee4f8791de597a2083ec3d": {
      "model_module": "@jupyter-widgets/controls",
      "model_module_version": "1.4.0",
      "model_name": "HBoxModel",
      "state": {
       "children": [
        "IPY_MODEL_75d0c073ae874bedb1239cc960f1f03f",
        "IPY_MODEL_0aeb685bdf674af38f39ccc9480e4c39"
       ],
       "layout": "IPY_MODEL_0f9083166f1e44eda6325e1ac01ced02"
      }
     },
     "3a36fd6128794d809e7a0c0d3cc10bd1": {
      "model_module": "@jupyter-widgets/base",
      "model_module_version": "1.1.0",
      "model_name": "LayoutModel",
      "state": {}
     },
     "3aacb77f644c4ab8907247b3d4230346": {
      "model_module": "@jupyter-widgets/controls",
      "model_module_version": "1.4.0",
      "model_name": "IntProgressModel",
      "state": {
       "bar_style": "success",
       "layout": "IPY_MODEL_519c5f2d97b24d0fa1dd76f72395d71b",
       "max": 9998900,
       "style": "IPY_MODEL_77ccfbdbf8344c07a3a25a6568a8c444",
       "value": 9998900
      }
     },
     "3ab25c9b7c304aea99f250b8dff33a18": {
      "model_module": "@jupyter-widgets/controls",
      "model_module_version": "1.4.0",
      "model_name": "ProgressStyleModel",
      "state": {
       "description_width": ""
      }
     },
     "3ab3f5f6957a4d6c9914f80b3e6b1ced": {
      "model_module": "@jupyter-widgets/base",
      "model_module_version": "1.1.0",
      "model_name": "LayoutModel",
      "state": {}
     },
     "3b20833e6e6f4dfab5be601fda998a0d": {
      "model_module": "@jupyter-widgets/controls",
      "model_module_version": "1.4.0",
      "model_name": "HTMLModel",
      "state": {
       "layout": "IPY_MODEL_ed1f08e010764d4db3e7ea83ce256116",
       "style": "IPY_MODEL_173afff85428481ca87d3d31715ed7af",
       "value": "100% 9998900/9998900 [02:49&lt;00:00, 59121.34it/s]"
      }
     },
     "3b25533c790c4d169bbe2d3519c0c327": {
      "model_module": "@jupyter-widgets/base",
      "model_module_version": "1.1.0",
      "model_name": "LayoutModel",
      "state": {}
     },
     "3b801cb444334dae97bd9c89d5fa42bb": {
      "model_module": "@jupyter-widgets/base",
      "model_module_version": "1.1.0",
      "model_name": "LayoutModel",
      "state": {}
     },
     "3b8dc101fc73424fa519e9da3584ac32": {
      "model_module": "@jupyter-widgets/controls",
      "model_module_version": "1.4.0",
      "model_name": "ProgressStyleModel",
      "state": {
       "description_width": ""
      }
     },
     "3bb682eb77a444ba94f36499d4c681ca": {
      "model_module": "@jupyter-widgets/controls",
      "model_module_version": "1.4.0",
      "model_name": "IntProgressModel",
      "state": {
       "bar_style": "success",
       "layout": "IPY_MODEL_0fb0b482d64840a19e607616a6d20d0e",
       "max": 9998900,
       "style": "IPY_MODEL_a8d61dd9721b4694ae451b177b74fd7f",
       "value": 9998900
      }
     },
     "3bdb4676666145d9bc05e620816a5da6": {
      "model_module": "@jupyter-widgets/controls",
      "model_module_version": "1.4.0",
      "model_name": "DescriptionStyleModel",
      "state": {
       "description_width": ""
      }
     },
     "3be64802a09d4454b75ebb183f95c5a9": {
      "model_module": "@jupyter-widgets/controls",
      "model_module_version": "1.4.0",
      "model_name": "HTMLModel",
      "state": {
       "layout": "IPY_MODEL_646e46da6ebf4f5b91c0266963c7a21b",
       "style": "IPY_MODEL_adcd611f5e0a4349b79968871a1acf4a",
       "value": "100% 9998900/9998900 [02:41&lt;00:00, 61735.70it/s]"
      }
     },
     "3c4ace9e990f4468bcc06a1b5062b766": {
      "model_module": "@jupyter-widgets/controls",
      "model_module_version": "1.4.0",
      "model_name": "HBoxModel",
      "state": {
       "children": [
        "IPY_MODEL_7fb746fbfe3d4a9aa1840a73cc659630",
        "IPY_MODEL_a44957669408423dbeec3d44322b7c82"
       ],
       "layout": "IPY_MODEL_52218ba1cd9b4e51bd152d003dd9587f"
      }
     },
     "3c5e2d0cef314d3685f673a713e3e711": {
      "model_module": "@jupyter-widgets/base",
      "model_module_version": "1.1.0",
      "model_name": "LayoutModel",
      "state": {}
     },
     "3c6126879bf349969e76946e3671e67f": {
      "model_module": "@jupyter-widgets/base",
      "model_module_version": "1.1.0",
      "model_name": "LayoutModel",
      "state": {}
     },
     "3c63e032ebbb4a5897b2d6ef8c0fce93": {
      "model_module": "@jupyter-widgets/controls",
      "model_module_version": "1.4.0",
      "model_name": "DescriptionStyleModel",
      "state": {
       "description_width": ""
      }
     },
     "3c7328b0d7064ea9a81302a8eadcdcf8": {
      "model_module": "@jupyter-widgets/controls",
      "model_module_version": "1.4.0",
      "model_name": "HTMLModel",
      "state": {
       "layout": "IPY_MODEL_8ada5090ec034355b85f5d0071415c52",
       "style": "IPY_MODEL_f7be97acbae148798c15e085a85221e7",
       "value": "100% 9998900/9998900 [02:45&lt;00:00, 60515.68it/s]"
      }
     },
     "3c9ce0ef01364a3b9b62889364c11238": {
      "model_module": "@jupyter-widgets/controls",
      "model_module_version": "1.4.0",
      "model_name": "HTMLModel",
      "state": {
       "layout": "IPY_MODEL_a7a931da59c44a10b1885b0f22be4b9b",
       "style": "IPY_MODEL_661827b74ab44eab97aba9666b250f99",
       "value": "100% 9998900/9998900 [02:44&lt;00:00, 60928.97it/s]"
      }
     },
     "3ca6fddf6e6945ff98c7bea9904564eb": {
      "model_module": "@jupyter-widgets/base",
      "model_module_version": "1.1.0",
      "model_name": "LayoutModel",
      "state": {}
     },
     "3cc6ebccaf004ad1a9a1d72764cbea2d": {
      "model_module": "@jupyter-widgets/base",
      "model_module_version": "1.1.0",
      "model_name": "LayoutModel",
      "state": {}
     },
     "3d031bde7dfd45c59e925160c129f3cd": {
      "model_module": "@jupyter-widgets/controls",
      "model_module_version": "1.4.0",
      "model_name": "ProgressStyleModel",
      "state": {
       "description_width": ""
      }
     },
     "3d859e9505c046c9a8f1389bd1a4c7d1": {
      "model_module": "@jupyter-widgets/controls",
      "model_module_version": "1.4.0",
      "model_name": "HTMLModel",
      "state": {
       "layout": "IPY_MODEL_3478447c85ca4e618041fdedbda6975a",
       "style": "IPY_MODEL_5704eb93f9b149b2b566d75341dd616d",
       "value": "100% 9998900/9998900 [02:41&lt;00:00, 61741.69it/s]"
      }
     },
     "3da651d7642748018eee980b2dba7825": {
      "model_module": "@jupyter-widgets/controls",
      "model_module_version": "1.4.0",
      "model_name": "HBoxModel",
      "state": {
       "children": [
        "IPY_MODEL_78ba69cdfe854e4d9bdd511120b970b5",
        "IPY_MODEL_08eba07c00a34c2d834fc1c914f413d6"
       ],
       "layout": "IPY_MODEL_84d4932ac4e74c0b83608e25080f218d"
      }
     },
     "3e01dc5cf09f49e3bb10033a61fdba15": {
      "model_module": "@jupyter-widgets/base",
      "model_module_version": "1.1.0",
      "model_name": "LayoutModel",
      "state": {}
     },
     "3e58115a98484e40b4d9ef6388b928c9": {
      "model_module": "@jupyter-widgets/controls",
      "model_module_version": "1.4.0",
      "model_name": "HBoxModel",
      "state": {
       "children": [
        "IPY_MODEL_7259b11441b64cf1beed426865ce4e25",
        "IPY_MODEL_6b8a311c379245e49d004523dccfa64a"
       ],
       "layout": "IPY_MODEL_18886381cc9749a891e345a0533bd574"
      }
     },
     "3e7dc63cee17465f990c9137ce1f317b": {
      "model_module": "@jupyter-widgets/controls",
      "model_module_version": "1.4.0",
      "model_name": "IntProgressModel",
      "state": {
       "bar_style": "success",
       "layout": "IPY_MODEL_0e59c9784f714c04a5ee2f0dce77a5de",
       "max": 9998900,
       "style": "IPY_MODEL_08c9a50fe4c84c8e9496209166409634",
       "value": 9998900
      }
     },
     "3e8356dde7da44abbb1d9305b6721439": {
      "model_module": "@jupyter-widgets/controls",
      "model_module_version": "1.4.0",
      "model_name": "IntProgressModel",
      "state": {
       "bar_style": "success",
       "layout": "IPY_MODEL_d204acd3a2bf420697f532f1bb27faeb",
       "max": 9998900,
       "style": "IPY_MODEL_93f48ec7d8e54f15a8abccdd1377a1ff",
       "value": 9998900
      }
     },
     "3e8d96c94aca435aaa214c091b288b94": {
      "model_module": "@jupyter-widgets/base",
      "model_module_version": "1.1.0",
      "model_name": "LayoutModel",
      "state": {}
     },
     "3e92e7ad968a412abc7e35796aee653b": {
      "model_module": "@jupyter-widgets/base",
      "model_module_version": "1.1.0",
      "model_name": "LayoutModel",
      "state": {}
     },
     "3e9fc650358c4f1b9106f3437b962707": {
      "model_module": "@jupyter-widgets/base",
      "model_module_version": "1.1.0",
      "model_name": "LayoutModel",
      "state": {}
     },
     "3f2f5abf67694745bdfb37b594d11ae8": {
      "model_module": "@jupyter-widgets/controls",
      "model_module_version": "1.4.0",
      "model_name": "DescriptionStyleModel",
      "state": {
       "description_width": ""
      }
     },
     "3f5f6a6c10df4ec6af766c99001be929": {
      "model_module": "@jupyter-widgets/controls",
      "model_module_version": "1.4.0",
      "model_name": "HBoxModel",
      "state": {
       "children": [
        "IPY_MODEL_da9bdbbdbabc466eb038358a26d9cc2f",
        "IPY_MODEL_8ccc2f6568f24755a5aa252a0b611c64"
       ],
       "layout": "IPY_MODEL_6d214c69427542f09f286f8c77c0a5e6"
      }
     },
     "3f653266dd394778b1e7adf97d541ce5": {
      "model_module": "@jupyter-widgets/base",
      "model_module_version": "1.1.0",
      "model_name": "LayoutModel",
      "state": {}
     },
     "3f6d24c8874e4c378521ad9b088ad493": {
      "model_module": "@jupyter-widgets/controls",
      "model_module_version": "1.4.0",
      "model_name": "ProgressStyleModel",
      "state": {
       "description_width": ""
      }
     },
     "3fa8bb9ed0c4407695d325caa6ed9a17": {
      "model_module": "@jupyter-widgets/controls",
      "model_module_version": "1.4.0",
      "model_name": "DescriptionStyleModel",
      "state": {
       "description_width": ""
      }
     },
     "3fc5d86b4add4d59a66163c88b455781": {
      "model_module": "@jupyter-widgets/controls",
      "model_module_version": "1.4.0",
      "model_name": "HTMLModel",
      "state": {
       "layout": "IPY_MODEL_f83e4848727845e89084333c1f3ef929",
       "style": "IPY_MODEL_5b11984d0caf4e4fbead4f2228b00237",
       "value": "100% 9998900/9998900 [02:42&lt;00:00, 61449.17it/s]"
      }
     },
     "3fc64e85ff434d4b8b962a187c604db6": {
      "model_module": "@jupyter-widgets/controls",
      "model_module_version": "1.4.0",
      "model_name": "HTMLModel",
      "state": {
       "layout": "IPY_MODEL_218cb3992d0a484391f08b22e2a09223",
       "style": "IPY_MODEL_ebae1af0f4504f9bb13692e4eb1c9086",
       "value": "100% 9998900/9998900 [02:37&lt;00:00, 63504.76it/s]"
      }
     },
     "3fca63bc843b499cb7f6125955044d0e": {
      "model_module": "@jupyter-widgets/controls",
      "model_module_version": "1.4.0",
      "model_name": "DescriptionStyleModel",
      "state": {
       "description_width": ""
      }
     },
     "3fe4f1a6a49142d6b7a64459372a9044": {
      "model_module": "@jupyter-widgets/controls",
      "model_module_version": "1.4.0",
      "model_name": "DescriptionStyleModel",
      "state": {
       "description_width": ""
      }
     },
     "407aa86d39e64da988024569d66f4bc8": {
      "model_module": "@jupyter-widgets/controls",
      "model_module_version": "1.4.0",
      "model_name": "DescriptionStyleModel",
      "state": {
       "description_width": ""
      }
     },
     "40d6401d828c4702a9320877fea50909": {
      "model_module": "@jupyter-widgets/base",
      "model_module_version": "1.1.0",
      "model_name": "LayoutModel",
      "state": {}
     },
     "410a69371e3a4cebbd739db66dc7a888": {
      "model_module": "@jupyter-widgets/base",
      "model_module_version": "1.1.0",
      "model_name": "LayoutModel",
      "state": {}
     },
     "41380961f6394a3a801a5932330f7915": {
      "model_module": "@jupyter-widgets/controls",
      "model_module_version": "1.4.0",
      "model_name": "HTMLModel",
      "state": {
       "layout": "IPY_MODEL_6b03845a07c3429dbca6a0c1dda1c36e",
       "style": "IPY_MODEL_be18a1364f1b4fc6991c4340b2d9a513",
       "value": "100% 9998900/9998900 [02:49&lt;00:00, 59017.93it/s]"
      }
     },
     "414904329803474aaea66c70b0225f31": {
      "model_module": "@jupyter-widgets/controls",
      "model_module_version": "1.4.0",
      "model_name": "IntProgressModel",
      "state": {
       "bar_style": "success",
       "layout": "IPY_MODEL_19fb6dcd1cf34ee8805b738971bf9012",
       "max": 9998900,
       "style": "IPY_MODEL_5836db054e4946adb7312e3b6fe5b635",
       "value": 9998900
      }
     },
     "416164370baf4ef798470ef5d61f9cfa": {
      "model_module": "@jupyter-widgets/base",
      "model_module_version": "1.1.0",
      "model_name": "LayoutModel",
      "state": {}
     },
     "41d1c751716f44aaa195b8f946ebc59c": {
      "model_module": "@jupyter-widgets/controls",
      "model_module_version": "1.4.0",
      "model_name": "IntProgressModel",
      "state": {
       "bar_style": "success",
       "layout": "IPY_MODEL_deed91deec1240c6bd1ad76db4c554fe",
       "max": 9998900,
       "style": "IPY_MODEL_c7fac03b51054a4eb1bd482b318d9006",
       "value": 9998900
      }
     },
     "41e5ceebfaf44c3e8e39d349c928e33f": {
      "model_module": "@jupyter-widgets/base",
      "model_module_version": "1.1.0",
      "model_name": "LayoutModel",
      "state": {}
     },
     "41f47b218efa47f2a8537c74428e69c5": {
      "model_module": "@jupyter-widgets/base",
      "model_module_version": "1.1.0",
      "model_name": "LayoutModel",
      "state": {}
     },
     "421ae107b7244691a1715c458be4307e": {
      "model_module": "@jupyter-widgets/controls",
      "model_module_version": "1.4.0",
      "model_name": "DescriptionStyleModel",
      "state": {
       "description_width": ""
      }
     },
     "42318d4593ae4fccbe315c2489768aef": {
      "model_module": "@jupyter-widgets/base",
      "model_module_version": "1.1.0",
      "model_name": "LayoutModel",
      "state": {}
     },
     "427ce98d1f72450fad64c36692a996fb": {
      "model_module": "@jupyter-widgets/controls",
      "model_module_version": "1.4.0",
      "model_name": "IntProgressModel",
      "state": {
       "bar_style": "success",
       "layout": "IPY_MODEL_342fc975ae8a45ed8ac457647a511bc9",
       "max": 9998900,
       "style": "IPY_MODEL_87da699eae7b431cb78a99590e143338",
       "value": 9998900
      }
     },
     "42c51f5962c3457981dd5dc8d85eddf8": {
      "model_module": "@jupyter-widgets/base",
      "model_module_version": "1.1.0",
      "model_name": "LayoutModel",
      "state": {}
     },
     "4331236bcad44f26b5505bdeec7c30e9": {
      "model_module": "@jupyter-widgets/base",
      "model_module_version": "1.1.0",
      "model_name": "LayoutModel",
      "state": {}
     },
     "43868eee5d5a43edad484a639974bcd8": {
      "model_module": "@jupyter-widgets/base",
      "model_module_version": "1.1.0",
      "model_name": "LayoutModel",
      "state": {}
     },
     "43a0b714cf20404c8a31ba0c9c135b2d": {
      "model_module": "@jupyter-widgets/base",
      "model_module_version": "1.1.0",
      "model_name": "LayoutModel",
      "state": {}
     },
     "43ab376e45f84535b10a67537a01cdc1": {
      "model_module": "@jupyter-widgets/controls",
      "model_module_version": "1.4.0",
      "model_name": "HBoxModel",
      "state": {
       "children": [
        "IPY_MODEL_64422326cc1f4ae0945c0381690dac24",
        "IPY_MODEL_d18fb25218324af9932b1badc5c58390"
       ],
       "layout": "IPY_MODEL_0f8271f053484418aa7f49df68b35c4e"
      }
     },
     "43b8a025eba94335b22510ea42cd1b84": {
      "model_module": "@jupyter-widgets/controls",
      "model_module_version": "1.4.0",
      "model_name": "HTMLModel",
      "state": {
       "layout": "IPY_MODEL_b7173b6e560944489fbad6e36d4417e6",
       "style": "IPY_MODEL_3577c7deee2f4278943177913e366ced",
       "value": "100% 9998900/9998900 [02:51&lt;00:00, 58307.78it/s]"
      }
     },
     "43cafcfdf79b4fecaa598b3594accb28": {
      "model_module": "@jupyter-widgets/controls",
      "model_module_version": "1.4.0",
      "model_name": "ProgressStyleModel",
      "state": {
       "description_width": ""
      }
     },
     "43e93004f58645e3b9159fd704e2edd1": {
      "model_module": "@jupyter-widgets/controls",
      "model_module_version": "1.4.0",
      "model_name": "HTMLModel",
      "state": {
       "layout": "IPY_MODEL_ece8a16087c541218e7bd73190970965",
       "style": "IPY_MODEL_37ea763fd6f8470c82c15077e39ca50b",
       "value": "100% 9998900/9998900 [02:54&lt;00:00, 57141.97it/s]"
      }
     },
     "43f89b7c97794a2e800ca944e09fcff4": {
      "model_module": "@jupyter-widgets/controls",
      "model_module_version": "1.4.0",
      "model_name": "HTMLModel",
      "state": {
       "layout": "IPY_MODEL_998c96ae9d914626906e20b316e1cc51",
       "style": "IPY_MODEL_253cb4363c424462b3035dde86a622a6",
       "value": "100% 9998900/9998900 [02:44&lt;00:00, 60770.36it/s]"
      }
     },
     "44aa0873da4b449cac2fe2019c467ccc": {
      "model_module": "@jupyter-widgets/controls",
      "model_module_version": "1.4.0",
      "model_name": "ProgressStyleModel",
      "state": {
       "description_width": ""
      }
     },
     "4547454009d34031a015845509a7015a": {
      "model_module": "@jupyter-widgets/controls",
      "model_module_version": "1.4.0",
      "model_name": "HTMLModel",
      "state": {
       "layout": "IPY_MODEL_775f7ea5a07d4e9e89e4e693f30776e0",
       "style": "IPY_MODEL_fdf0282cb6e84db19eb0ee7efe47b805",
       "value": "100% 9998900/9998900 [02:50&lt;00:00, 58763.94it/s]"
      }
     },
     "458328c2094445748fc6d8dc363f156f": {
      "model_module": "@jupyter-widgets/controls",
      "model_module_version": "1.4.0",
      "model_name": "HTMLModel",
      "state": {
       "layout": "IPY_MODEL_200f2f5bde894e1fb327423912cb8be8",
       "style": "IPY_MODEL_ae6d52f7e8694905bbc985cc6ed69b22",
       "value": "1000001it [22:42, 733.79it/s]"
      }
     },
     "459458fca25640889548734d51b7d722": {
      "model_module": "@jupyter-widgets/base",
      "model_module_version": "1.1.0",
      "model_name": "LayoutModel",
      "state": {}
     },
     "45aafaf4e52b49519293e699cf9b369e": {
      "model_module": "@jupyter-widgets/base",
      "model_module_version": "1.1.0",
      "model_name": "LayoutModel",
      "state": {}
     },
     "45c2a119f99a4c8c9f2c01486950000c": {
      "model_module": "@jupyter-widgets/controls",
      "model_module_version": "1.4.0",
      "model_name": "HTMLModel",
      "state": {
       "layout": "IPY_MODEL_e8e36a9b5ec64b1ca3c4be51ca698712",
       "style": "IPY_MODEL_b270b764d5b44a3da6f239ac4a69b50b",
       "value": "100% 9998900/9998900 [02:45&lt;00:00, 60255.02it/s]"
      }
     },
     "4629cc1efd1b49ef926edbb3170bc7f9": {
      "model_module": "@jupyter-widgets/controls",
      "model_module_version": "1.4.0",
      "model_name": "HBoxModel",
      "state": {
       "children": [
        "IPY_MODEL_f75e4e1780914fb5b4be3b71638ae58b",
        "IPY_MODEL_265b89b614f146c2b8daf89724a18b13"
       ],
       "layout": "IPY_MODEL_7f397e592be74b66997c6376665a363f"
      }
     },
     "46461697c4344048b272e03d2da3d00b": {
      "model_module": "@jupyter-widgets/base",
      "model_module_version": "1.1.0",
      "model_name": "LayoutModel",
      "state": {}
     },
     "4662a3d624234bea8b77c12f41d85b9c": {
      "model_module": "@jupyter-widgets/base",
      "model_module_version": "1.1.0",
      "model_name": "LayoutModel",
      "state": {}
     },
     "46791135c4ee441b9ddcea92a3632e0e": {
      "model_module": "@jupyter-widgets/base",
      "model_module_version": "1.1.0",
      "model_name": "LayoutModel",
      "state": {}
     },
     "46813607600b4baa984cbf2175598a75": {
      "model_module": "@jupyter-widgets/base",
      "model_module_version": "1.1.0",
      "model_name": "LayoutModel",
      "state": {}
     },
     "46840ffe7e774ec2985cc6d810847880": {
      "model_module": "@jupyter-widgets/controls",
      "model_module_version": "1.4.0",
      "model_name": "DescriptionStyleModel",
      "state": {
       "description_width": ""
      }
     },
     "46ece8a8503a4c21a16ace132de7c485": {
      "model_module": "@jupyter-widgets/controls",
      "model_module_version": "1.4.0",
      "model_name": "DescriptionStyleModel",
      "state": {
       "description_width": ""
      }
     },
     "46f1299614bc44e7aaf76d1b6d0a70e2": {
      "model_module": "@jupyter-widgets/controls",
      "model_module_version": "1.4.0",
      "model_name": "DescriptionStyleModel",
      "state": {
       "description_width": ""
      }
     },
     "47262bdb06fb45358eea3d400b5a6b98": {
      "model_module": "@jupyter-widgets/controls",
      "model_module_version": "1.4.0",
      "model_name": "HTMLModel",
      "state": {
       "layout": "IPY_MODEL_f8a489baa983403e80131ffa83a73ffe",
       "style": "IPY_MODEL_d3d3ea5b8a8746d1bb621a6f4a681060",
       "value": "100% 9998900/9998900 [02:39&lt;00:00, 62694.90it/s]"
      }
     },
     "4753d8f1359a4b27b0049006e98667f2": {
      "model_module": "@jupyter-widgets/base",
      "model_module_version": "1.1.0",
      "model_name": "LayoutModel",
      "state": {}
     },
     "475c03b30dcb4bbf896419f65c180729": {
      "model_module": "@jupyter-widgets/base",
      "model_module_version": "1.1.0",
      "model_name": "LayoutModel",
      "state": {}
     },
     "4765a475478e429fae37250c2b631dd2": {
      "model_module": "@jupyter-widgets/controls",
      "model_module_version": "1.4.0",
      "model_name": "HTMLModel",
      "state": {
       "layout": "IPY_MODEL_668076adaa47490b98265185d9213f49",
       "style": "IPY_MODEL_d157bcb64593497986f030d9d2c975d7",
       "value": "1000001it [22:51, 729.15it/s]"
      }
     },
     "47799375fbc84e69bd986c9d923ec0b0": {
      "model_module": "@jupyter-widgets/base",
      "model_module_version": "1.1.0",
      "model_name": "LayoutModel",
      "state": {}
     },
     "47c93b8b4a214248831b6998856460cb": {
      "model_module": "@jupyter-widgets/base",
      "model_module_version": "1.1.0",
      "model_name": "LayoutModel",
      "state": {}
     },
     "47e3d9b395264c46839f066575c55f8e": {
      "model_module": "@jupyter-widgets/controls",
      "model_module_version": "1.4.0",
      "model_name": "HBoxModel",
      "state": {
       "children": [
        "IPY_MODEL_5727b4f7fb7b4f3b8daad1541edf6089",
        "IPY_MODEL_43f89b7c97794a2e800ca944e09fcff4"
       ],
       "layout": "IPY_MODEL_00e35ca1f2db45299b5fd4df71a15a54"
      }
     },
     "47e5e0d15c734aa899ec76eebb96b527": {
      "model_module": "@jupyter-widgets/controls",
      "model_module_version": "1.4.0",
      "model_name": "HTMLModel",
      "state": {
       "layout": "IPY_MODEL_0177be46d9e048ba93259cec96d78980",
       "style": "IPY_MODEL_bdeaf33efe7b438abf9afd2563a4f84c",
       "value": "100% 9998900/9998900 [02:23&lt;00:00, 69636.19it/s]"
      }
     },
     "483ad879ac1849238f10570b05acc543": {
      "model_module": "@jupyter-widgets/controls",
      "model_module_version": "1.4.0",
      "model_name": "DescriptionStyleModel",
      "state": {
       "description_width": ""
      }
     },
     "48485b2631a34fff80805b8fda6dd4f8": {
      "model_module": "@jupyter-widgets/controls",
      "model_module_version": "1.4.0",
      "model_name": "IntProgressModel",
      "state": {
       "bar_style": "success",
       "layout": "IPY_MODEL_72b14e8e7d7a4f149ffb6e3e9c73b921",
       "max": 9998900,
       "style": "IPY_MODEL_5f4db7c4d3ad45fa9f2ac2d8937dd7c5",
       "value": 9998900
      }
     },
     "48550d9e7a8b4f748a0608faaabad208": {
      "model_module": "@jupyter-widgets/controls",
      "model_module_version": "1.4.0",
      "model_name": "IntProgressModel",
      "state": {
       "bar_style": "success",
       "layout": "IPY_MODEL_7416fe1f51034c479f4c74c820f18002",
       "max": 9998900,
       "style": "IPY_MODEL_98db27a092bf404aa136f83b91648e42",
       "value": 9998900
      }
     },
     "485d3a4357dd497f8177c25175efd69e": {
      "model_module": "@jupyter-widgets/controls",
      "model_module_version": "1.4.0",
      "model_name": "HTMLModel",
      "state": {
       "layout": "IPY_MODEL_c8b8fa45c4fe48a5ad9e5708067d88f2",
       "style": "IPY_MODEL_94ccaf2d6f7942d48acf399a23c72d9c",
       "value": "100% 9998900/9998900 [02:46&lt;00:00, 59981.37it/s]"
      }
     },
     "48e613bae11a4a7d8019d12f645c5862": {
      "model_module": "@jupyter-widgets/base",
      "model_module_version": "1.1.0",
      "model_name": "LayoutModel",
      "state": {}
     },
     "48f38c8bd9ba42a79a8d090a74ca016a": {
      "model_module": "@jupyter-widgets/controls",
      "model_module_version": "1.4.0",
      "model_name": "ProgressStyleModel",
      "state": {
       "description_width": ""
      }
     },
     "4907635b065a43919549033806c73721": {
      "model_module": "@jupyter-widgets/controls",
      "model_module_version": "1.4.0",
      "model_name": "HBoxModel",
      "state": {
       "children": [
        "IPY_MODEL_9294560fb9674dfd831b8793d7ea120a",
        "IPY_MODEL_ab0f593850c4408aae82c6d5319be243"
       ],
       "layout": "IPY_MODEL_c9f32bf703c347388701e5fd12ca6d00"
      }
     },
     "492dac959d754c56b625eca90ea2958a": {
      "model_module": "@jupyter-widgets/base",
      "model_module_version": "1.1.0",
      "model_name": "LayoutModel",
      "state": {}
     },
     "49352da64401480994a4c1056ddcfcd4": {
      "model_module": "@jupyter-widgets/controls",
      "model_module_version": "1.4.0",
      "model_name": "DescriptionStyleModel",
      "state": {
       "description_width": ""
      }
     },
     "49791deeb86f417eb25ad05491dfd375": {
      "model_module": "@jupyter-widgets/controls",
      "model_module_version": "1.4.0",
      "model_name": "IntProgressModel",
      "state": {
       "bar_style": "success",
       "layout": "IPY_MODEL_4cd99bb8240a49d9b0f420d153771323",
       "max": 9998900,
       "style": "IPY_MODEL_1afc0a0a64f24b00a6675a64e42fcf24",
       "value": 9998900
      }
     },
     "49e383e8263641ddb8ff2198111d4a24": {
      "model_module": "@jupyter-widgets/base",
      "model_module_version": "1.1.0",
      "model_name": "LayoutModel",
      "state": {}
     },
     "4a4f1a98244341f38858295c00d1a81b": {
      "model_module": "@jupyter-widgets/controls",
      "model_module_version": "1.4.0",
      "model_name": "HTMLModel",
      "state": {
       "layout": "IPY_MODEL_9864164af0384b71b4319354ee4a9840",
       "style": "IPY_MODEL_3fa8bb9ed0c4407695d325caa6ed9a17",
       "value": "100% 9998900/9998900 [02:49&lt;00:00, 59113.18it/s]"
      }
     },
     "4a5eaa8d8485478582d77adf119fa89d": {
      "model_module": "@jupyter-widgets/controls",
      "model_module_version": "1.4.0",
      "model_name": "DescriptionStyleModel",
      "state": {
       "description_width": ""
      }
     },
     "4a8392e49d20462481aa4a4d25ca0e35": {
      "model_module": "@jupyter-widgets/base",
      "model_module_version": "1.1.0",
      "model_name": "LayoutModel",
      "state": {}
     },
     "4a855ce67ac149de848ef10dcd9b6287": {
      "model_module": "@jupyter-widgets/base",
      "model_module_version": "1.1.0",
      "model_name": "LayoutModel",
      "state": {}
     },
     "4ade59264420482085bd9f3bfcba429d": {
      "model_module": "@jupyter-widgets/base",
      "model_module_version": "1.1.0",
      "model_name": "LayoutModel",
      "state": {}
     },
     "4af8ad070eb94daebdc62a8c2b2f0aad": {
      "model_module": "@jupyter-widgets/controls",
      "model_module_version": "1.4.0",
      "model_name": "IntProgressModel",
      "state": {
       "bar_style": "success",
       "layout": "IPY_MODEL_8376818fdbe44217b110c38cdbf7edcc",
       "max": 9998900,
       "style": "IPY_MODEL_21a886b296f944598b9f15c259513e42",
       "value": 9998900
      }
     },
     "4b06564da92c46cda2e92afdc58146ba": {
      "model_module": "@jupyter-widgets/base",
      "model_module_version": "1.1.0",
      "model_name": "LayoutModel",
      "state": {}
     },
     "4b6a1f2ebfb848c0a9ad6ece4df87904": {
      "model_module": "@jupyter-widgets/base",
      "model_module_version": "1.1.0",
      "model_name": "LayoutModel",
      "state": {}
     },
     "4b6bf83c6e814742a397a62f1c13a331": {
      "model_module": "@jupyter-widgets/controls",
      "model_module_version": "1.4.0",
      "model_name": "HTMLModel",
      "state": {
       "layout": "IPY_MODEL_db17c1e79cc44beb9fdc4483b3fea368",
       "style": "IPY_MODEL_9c482104925b41f9b8b99b0d63921227",
       "value": "100% 9998900/9998900 [02:52&lt;00:00, 57867.25it/s]"
      }
     },
     "4b6e0647b76a409aa6361e22bb152134": {
      "model_module": "@jupyter-widgets/controls",
      "model_module_version": "1.4.0",
      "model_name": "DescriptionStyleModel",
      "state": {
       "description_width": ""
      }
     },
     "4b898dd620724b95a4bfd89f99d5d01d": {
      "model_module": "@jupyter-widgets/controls",
      "model_module_version": "1.4.0",
      "model_name": "HBoxModel",
      "state": {
       "children": [
        "IPY_MODEL_4e96b40c83bd427fbcc6c6b75f5988fe",
        "IPY_MODEL_58a7faca9b4d4979ae8221fdff3c0cfc"
       ],
       "layout": "IPY_MODEL_3888d545b3784f1b9e7e9b1537943e28"
      }
     },
     "4bac6da28f03421ab6de9eb60244dd38": {
      "model_module": "@jupyter-widgets/controls",
      "model_module_version": "1.4.0",
      "model_name": "DescriptionStyleModel",
      "state": {
       "description_width": ""
      }
     },
     "4bcb441e52ad4d33bfc1945f82a5912a": {
      "model_module": "@jupyter-widgets/controls",
      "model_module_version": "1.4.0",
      "model_name": "HBoxModel",
      "state": {
       "children": [
        "IPY_MODEL_f54d9f3697d94ef2bc0d46e94619c46e",
        "IPY_MODEL_bb3ee5021de44b27bc8770952089d2bc"
       ],
       "layout": "IPY_MODEL_3b801cb444334dae97bd9c89d5fa42bb"
      }
     },
     "4bdf3ac80dfb40c686ee1d923ce660c9": {
      "model_module": "@jupyter-widgets/base",
      "model_module_version": "1.1.0",
      "model_name": "LayoutModel",
      "state": {}
     },
     "4be5990b59684ea6875e660a893cb9b3": {
      "model_module": "@jupyter-widgets/base",
      "model_module_version": "1.1.0",
      "model_name": "LayoutModel",
      "state": {}
     },
     "4beaafa060874ae484c3e46567f1cafc": {
      "model_module": "@jupyter-widgets/base",
      "model_module_version": "1.1.0",
      "model_name": "LayoutModel",
      "state": {}
     },
     "4c474cc4e02343a6b33a6df017ed6452": {
      "model_module": "@jupyter-widgets/controls",
      "model_module_version": "1.4.0",
      "model_name": "DescriptionStyleModel",
      "state": {
       "description_width": ""
      }
     },
     "4c55224fd46042cbbf55ac1c5293f02a": {
      "model_module": "@jupyter-widgets/base",
      "model_module_version": "1.1.0",
      "model_name": "LayoutModel",
      "state": {}
     },
     "4c6ed97b568b41c28a876a9cf8bbada0": {
      "model_module": "@jupyter-widgets/controls",
      "model_module_version": "1.4.0",
      "model_name": "IntProgressModel",
      "state": {
       "bar_style": "success",
       "layout": "IPY_MODEL_32e461fca12144c3ab5cb0687fbd0f26",
       "max": 9998900,
       "style": "IPY_MODEL_d773e1951c144fb89428aea6705210e7",
       "value": 9998900
      }
     },
     "4cd99bb8240a49d9b0f420d153771323": {
      "model_module": "@jupyter-widgets/base",
      "model_module_version": "1.1.0",
      "model_name": "LayoutModel",
      "state": {}
     },
     "4ce71f2a29d24144b5693fe5b273037e": {
      "model_module": "@jupyter-widgets/controls",
      "model_module_version": "1.4.0",
      "model_name": "ProgressStyleModel",
      "state": {
       "description_width": ""
      }
     },
     "4d3994a53c1d49488073ed406d8eda6a": {
      "model_module": "@jupyter-widgets/base",
      "model_module_version": "1.1.0",
      "model_name": "LayoutModel",
      "state": {}
     },
     "4d73bb15eae1498cacfe61e9b6f5caf6": {
      "model_module": "@jupyter-widgets/base",
      "model_module_version": "1.1.0",
      "model_name": "LayoutModel",
      "state": {}
     },
     "4d7b45753d824273b68c7cfe563914f9": {
      "model_module": "@jupyter-widgets/controls",
      "model_module_version": "1.4.0",
      "model_name": "DescriptionStyleModel",
      "state": {
       "description_width": ""
      }
     },
     "4dc8fcd3ac5f4cb496b0c97afc89658b": {
      "model_module": "@jupyter-widgets/base",
      "model_module_version": "1.1.0",
      "model_name": "LayoutModel",
      "state": {}
     },
     "4dfed6d1774b406d882fd82c33fb5cd7": {
      "model_module": "@jupyter-widgets/controls",
      "model_module_version": "1.4.0",
      "model_name": "ProgressStyleModel",
      "state": {
       "description_width": ""
      }
     },
     "4e1c2c70231a4d96af32ae88cc40e606": {
      "model_module": "@jupyter-widgets/base",
      "model_module_version": "1.1.0",
      "model_name": "LayoutModel",
      "state": {}
     },
     "4e2d3f668e7d4db49c32580b49930e74": {
      "model_module": "@jupyter-widgets/controls",
      "model_module_version": "1.4.0",
      "model_name": "HTMLModel",
      "state": {
       "layout": "IPY_MODEL_c914992355dc4fd9a9e5b6361a96240d",
       "style": "IPY_MODEL_2afbc3996af84ce1bb7c735c31e5ae67",
       "value": "100% 9998900/9998900 [02:56&lt;00:00, 56786.44it/s]"
      }
     },
     "4e7408c1959f4de1b0ae6ec90d88246e": {
      "model_module": "@jupyter-widgets/controls",
      "model_module_version": "1.4.0",
      "model_name": "ProgressStyleModel",
      "state": {
       "description_width": ""
      }
     },
     "4e87493e5f7f45969c8a137db590225b": {
      "model_module": "@jupyter-widgets/controls",
      "model_module_version": "1.4.0",
      "model_name": "DescriptionStyleModel",
      "state": {
       "description_width": ""
      }
     },
     "4e96b40c83bd427fbcc6c6b75f5988fe": {
      "model_module": "@jupyter-widgets/controls",
      "model_module_version": "1.4.0",
      "model_name": "IntProgressModel",
      "state": {
       "bar_style": "success",
       "layout": "IPY_MODEL_0170719871a54912911a42681ac45ef3",
       "max": 9998900,
       "style": "IPY_MODEL_c86f5ec686a64c6da41cc667ee030ff1",
       "value": 9998900
      }
     },
     "4e981044f477445d99bbf63c4270db53": {
      "model_module": "@jupyter-widgets/base",
      "model_module_version": "1.1.0",
      "model_name": "LayoutModel",
      "state": {}
     },
     "4eacddd466f445f38f76389f0caf392b": {
      "model_module": "@jupyter-widgets/base",
      "model_module_version": "1.1.0",
      "model_name": "LayoutModel",
      "state": {}
     },
     "4eaf7cbb35514cbdba657749f85d1564": {
      "model_module": "@jupyter-widgets/controls",
      "model_module_version": "1.4.0",
      "model_name": "IntProgressModel",
      "state": {
       "bar_style": "success",
       "layout": "IPY_MODEL_07d14e64cb404b709b9e0db4607ca9b2",
       "max": 9998900,
       "style": "IPY_MODEL_299dfa15563f44b5890511713264f466",
       "value": 9998900
      }
     },
     "4f250816e87f4bca8d395953a1ae82a4": {
      "model_module": "@jupyter-widgets/controls",
      "model_module_version": "1.4.0",
      "model_name": "ProgressStyleModel",
      "state": {
       "description_width": ""
      }
     },
     "4f35ef409c0643eea4c3a88dc98a7985": {
      "model_module": "@jupyter-widgets/controls",
      "model_module_version": "1.4.0",
      "model_name": "HTMLModel",
      "state": {
       "layout": "IPY_MODEL_35f9c9e7ec2a41faad8ffaa301cada5a",
       "style": "IPY_MODEL_fce265f31ed14382ae5c002ad5acca67",
       "value": "100% 9998900/9998900 [02:46&lt;00:00, 59948.61it/s]"
      }
     },
     "4f78eb08b18549ac86146a03a816ae04": {
      "model_module": "@jupyter-widgets/controls",
      "model_module_version": "1.4.0",
      "model_name": "DescriptionStyleModel",
      "state": {
       "description_width": ""
      }
     },
     "4f82a4e560d04165897a4d0b34f49b98": {
      "model_module": "@jupyter-widgets/base",
      "model_module_version": "1.1.0",
      "model_name": "LayoutModel",
      "state": {}
     },
     "4f9d135fb4c34e0ab5ebe86109295149": {
      "model_module": "@jupyter-widgets/controls",
      "model_module_version": "1.4.0",
      "model_name": "IntProgressModel",
      "state": {
       "bar_style": "success",
       "layout": "IPY_MODEL_73108ecaa59b4f398aa35b2a3d0aa6a7",
       "max": 9998900,
       "style": "IPY_MODEL_ecef9588fc304b00af312244e0c8d0bc",
       "value": 9998900
      }
     },
     "4fab196544204fdfb0a4ce33c312c3ac": {
      "model_module": "@jupyter-widgets/controls",
      "model_module_version": "1.4.0",
      "model_name": "ProgressStyleModel",
      "state": {
       "description_width": ""
      }
     },
     "50083df432404e899aef5e09e85f6dc4": {
      "model_module": "@jupyter-widgets/controls",
      "model_module_version": "1.4.0",
      "model_name": "DescriptionStyleModel",
      "state": {
       "description_width": ""
      }
     },
     "509206ad4ed6489f9e11d3d0b0cde5db": {
      "model_module": "@jupyter-widgets/controls",
      "model_module_version": "1.4.0",
      "model_name": "IntProgressModel",
      "state": {
       "bar_style": "success",
       "layout": "IPY_MODEL_337eed086cec43d2804423b2948ce076",
       "max": 9998900,
       "style": "IPY_MODEL_eddcd88f196d46b8a6bb85790feffd8b",
       "value": 9998900
      }
     },
     "50b4426fc49e4b93a7e6880fd52dd8e3": {
      "model_module": "@jupyter-widgets/controls",
      "model_module_version": "1.4.0",
      "model_name": "IntProgressModel",
      "state": {
       "bar_style": "success",
       "layout": "IPY_MODEL_1f861c30704b48398e7841166b8caf96",
       "max": 9998900,
       "style": "IPY_MODEL_a1328190b46849c6880fa9b830f1d92c",
       "value": 9998900
      }
     },
     "50c059655a7e4674ba62c22e28aecb0c": {
      "model_module": "@jupyter-widgets/controls",
      "model_module_version": "1.4.0",
      "model_name": "DescriptionStyleModel",
      "state": {
       "description_width": ""
      }
     },
     "50e233d83a2e4592bbd1037e96ea45ae": {
      "model_module": "@jupyter-widgets/controls",
      "model_module_version": "1.4.0",
      "model_name": "HBoxModel",
      "state": {
       "children": [
        "IPY_MODEL_0400b612f8254fef8755e7b69fe4821d",
        "IPY_MODEL_210520821e4f4957a61d54f33a1c7d47"
       ],
       "layout": "IPY_MODEL_e28d15cc9dd54cfa9fa254ed001ab49e"
      }
     },
     "510f815708874067a2aedfbdef023c2b": {
      "model_module": "@jupyter-widgets/base",
      "model_module_version": "1.1.0",
      "model_name": "LayoutModel",
      "state": {}
     },
     "51362f04f624441ca8f263e4c50efc74": {
      "model_module": "@jupyter-widgets/controls",
      "model_module_version": "1.4.0",
      "model_name": "DescriptionStyleModel",
      "state": {
       "description_width": ""
      }
     },
     "5150773817544aae8fb09487b3b0010c": {
      "model_module": "@jupyter-widgets/controls",
      "model_module_version": "1.4.0",
      "model_name": "IntProgressModel",
      "state": {
       "bar_style": "success",
       "layout": "IPY_MODEL_6b8448716e1244c0bcd41c142045e564",
       "style": "IPY_MODEL_19862994ac77412db1fe7e9f8c9ea992",
       "value": 100
      }
     },
     "5161f7fa03c04ce79802f9adbdf3dc97": {
      "model_module": "@jupyter-widgets/controls",
      "model_module_version": "1.4.0",
      "model_name": "HBoxModel",
      "state": {
       "children": [
        "IPY_MODEL_63b687667118404683eb452e94be0d56",
        "IPY_MODEL_b402f0c958934073ac42cbb723e673db"
       ],
       "layout": "IPY_MODEL_5d845edd04d644a89a641df24a97cda7"
      }
     },
     "516bbcce0a2a4b3b880bcb8a82fc2d06": {
      "model_module": "@jupyter-widgets/controls",
      "model_module_version": "1.4.0",
      "model_name": "HTMLModel",
      "state": {
       "layout": "IPY_MODEL_68036fb4a18b4758a7d64acec68adffd",
       "style": "IPY_MODEL_3f2f5abf67694745bdfb37b594d11ae8",
       "value": "100% 9998900/9998900 [02:36&lt;00:00, 63828.57it/s]"
      }
     },
     "519c5f2d97b24d0fa1dd76f72395d71b": {
      "model_module": "@jupyter-widgets/base",
      "model_module_version": "1.1.0",
      "model_name": "LayoutModel",
      "state": {}
     },
     "51a91109f7e74975a86d25babdd044e9": {
      "model_module": "@jupyter-widgets/controls",
      "model_module_version": "1.4.0",
      "model_name": "ProgressStyleModel",
      "state": {
       "description_width": ""
      }
     },
     "51e3bb3ba66742ca8fc320a8a6d8ace6": {
      "model_module": "@jupyter-widgets/controls",
      "model_module_version": "1.4.0",
      "model_name": "HTMLModel",
      "state": {
       "layout": "IPY_MODEL_ee1b7778b80a4af9a2295d29df9e773b",
       "style": "IPY_MODEL_5f29f4a4e0c749bebc926d387318eeb7",
       "value": "100% 9998900/9998900 [02:49&lt;00:00, 58858.42it/s]"
      }
     },
     "51f9a2a9183d443488f6daf49a4d4fc9": {
      "model_module": "@jupyter-widgets/controls",
      "model_module_version": "1.4.0",
      "model_name": "HBoxModel",
      "state": {
       "children": [
        "IPY_MODEL_983fa93e7a1c4f3a83b02ad5da85d62d",
        "IPY_MODEL_9416c758a3814e6c9551abcb28b6675d"
       ],
       "layout": "IPY_MODEL_d94032c03c664d0f8541f6bfcb37f9be"
      }
     },
     "52218ba1cd9b4e51bd152d003dd9587f": {
      "model_module": "@jupyter-widgets/base",
      "model_module_version": "1.1.0",
      "model_name": "LayoutModel",
      "state": {}
     },
     "5243ef4dfd10441dae2cd86a33bf7ba3": {
      "model_module": "@jupyter-widgets/base",
      "model_module_version": "1.1.0",
      "model_name": "LayoutModel",
      "state": {}
     },
     "529936c424c248beab9f8c97d85f5c2d": {
      "model_module": "@jupyter-widgets/base",
      "model_module_version": "1.1.0",
      "model_name": "LayoutModel",
      "state": {}
     },
     "52e02052ac9745cfa4f454f184df3347": {
      "model_module": "@jupyter-widgets/controls",
      "model_module_version": "1.4.0",
      "model_name": "HTMLModel",
      "state": {
       "layout": "IPY_MODEL_d9bc648041b74e5285c8b355452d947a",
       "style": "IPY_MODEL_22645c954cc247e7bc4920446d291fae",
       "value": "100% 9998900/9998900 [02:56&lt;00:00, 56570.30it/s]"
      }
     },
     "52efb218f37a4ca38b0df90e899802e2": {
      "model_module": "@jupyter-widgets/base",
      "model_module_version": "1.1.0",
      "model_name": "LayoutModel",
      "state": {}
     },
     "530630cd133e4c0bb403ae625172775b": {
      "model_module": "@jupyter-widgets/base",
      "model_module_version": "1.1.0",
      "model_name": "LayoutModel",
      "state": {}
     },
     "535c26c74d2442cf9601266f8430aa68": {
      "model_module": "@jupyter-widgets/controls",
      "model_module_version": "1.4.0",
      "model_name": "ProgressStyleModel",
      "state": {
       "description_width": ""
      }
     },
     "535cd94e226b4921b66a2df45042e934": {
      "model_module": "@jupyter-widgets/base",
      "model_module_version": "1.1.0",
      "model_name": "LayoutModel",
      "state": {}
     },
     "5392ae5f61d6424f8d3a6bdc46d2cacb": {
      "model_module": "@jupyter-widgets/controls",
      "model_module_version": "1.4.0",
      "model_name": "IntProgressModel",
      "state": {
       "bar_style": "success",
       "layout": "IPY_MODEL_deaa252a8f7244b2a3201f00c8408e5e",
       "max": 9998900,
       "style": "IPY_MODEL_9c49c4782d044118893aa8b2da073756",
       "value": 9998900
      }
     },
     "53c470dc3f3149588a86e6c237debfde": {
      "model_module": "@jupyter-widgets/controls",
      "model_module_version": "1.4.0",
      "model_name": "IntProgressModel",
      "state": {
       "bar_style": "success",
       "layout": "IPY_MODEL_bae8de2383a748f9acf36a29c058b3c6",
       "max": 9998900,
       "style": "IPY_MODEL_806a7be738044457ae5158af926ca522",
       "value": 9998900
      }
     },
     "53c8f4b3f5b64061b6d1f43e6b8259b1": {
      "model_module": "@jupyter-widgets/controls",
      "model_module_version": "1.4.0",
      "model_name": "DescriptionStyleModel",
      "state": {
       "description_width": ""
      }
     },
     "53fa6e279ce64fc9a29db0d3d3fa7405": {
      "model_module": "@jupyter-widgets/controls",
      "model_module_version": "1.4.0",
      "model_name": "HTMLModel",
      "state": {
       "layout": "IPY_MODEL_f8d0502bc2a6406da8e65ccf0fdd6017",
       "style": "IPY_MODEL_946f698be85b4e16a8e0fbd7e4ba5602",
       "value": "100% 9998900/9998900 [02:46&lt;00:00, 59997.71it/s]"
      }
     },
     "5409062fbbf8439484df0674b3f07cfe": {
      "model_module": "@jupyter-widgets/controls",
      "model_module_version": "1.4.0",
      "model_name": "HBoxModel",
      "state": {
       "children": [
        "IPY_MODEL_b76ecf43f4c7432a82af43a7979ca97c",
        "IPY_MODEL_891f9cbd2acb46efbd479d0e602f0b8e"
       ],
       "layout": "IPY_MODEL_d181529856ec480f9644fc6387c1e747"
      }
     },
     "541b1f5f697b4508b9d63e13f20d3574": {
      "model_module": "@jupyter-widgets/base",
      "model_module_version": "1.1.0",
      "model_name": "LayoutModel",
      "state": {}
     },
     "5455c62d8968422787410ae7e97f6dd4": {
      "model_module": "@jupyter-widgets/base",
      "model_module_version": "1.1.0",
      "model_name": "LayoutModel",
      "state": {}
     },
     "5462105f9c8d44a5b9b01f6f0b6c88d9": {
      "model_module": "@jupyter-widgets/base",
      "model_module_version": "1.1.0",
      "model_name": "LayoutModel",
      "state": {}
     },
     "547bec0c577441d4b4cae62d150a5884": {
      "model_module": "@jupyter-widgets/controls",
      "model_module_version": "1.4.0",
      "model_name": "IntProgressModel",
      "state": {
       "bar_style": "success",
       "layout": "IPY_MODEL_962ec1c3442f4dda980b9032ab960be7",
       "max": 9998900,
       "style": "IPY_MODEL_0b98eea117fe464b8be227f607603e63",
       "value": 9998900
      }
     },
     "5486a93f37bb4191b8d6a36b9463e487": {
      "model_module": "@jupyter-widgets/controls",
      "model_module_version": "1.4.0",
      "model_name": "HBoxModel",
      "state": {
       "children": [
        "IPY_MODEL_ce10b8f259174dc1808dd77700cf73b2",
        "IPY_MODEL_326db5aeacac4a318a17ca1129672068"
       ],
       "layout": "IPY_MODEL_02b91e42584844d0b16ca03325bc17eb"
      }
     },
     "54b38f5d524744348ad3c47350a886ad": {
      "model_module": "@jupyter-widgets/controls",
      "model_module_version": "1.4.0",
      "model_name": "HBoxModel",
      "state": {
       "children": [
        "IPY_MODEL_8adbc743479a4e12a478d1e89374c00f",
        "IPY_MODEL_fc9fc809de5943ffb333e3febd0efedc"
       ],
       "layout": "IPY_MODEL_bd8c247842bb44b6ba7b1dfaabcef4b5"
      }
     },
     "54c6947953e840998f4ea62ae6c9843f": {
      "model_module": "@jupyter-widgets/controls",
      "model_module_version": "1.4.0",
      "model_name": "HTMLModel",
      "state": {
       "layout": "IPY_MODEL_305e7c6ee2604dfd9ca967ffafe60f2a",
       "style": "IPY_MODEL_3c63e032ebbb4a5897b2d6ef8c0fce93",
       "value": "100% 9998900/9998900 [02:47&lt;00:00, 59864.66it/s]"
      }
     },
     "55079d63bf664e4bba5a2e19ca39221d": {
      "model_module": "@jupyter-widgets/controls",
      "model_module_version": "1.4.0",
      "model_name": "ProgressStyleModel",
      "state": {
       "description_width": ""
      }
     },
     "550c7bbdf49d4cd9bfabcf3089cce6c8": {
      "model_module": "@jupyter-widgets/controls",
      "model_module_version": "1.4.0",
      "model_name": "IntProgressModel",
      "state": {
       "bar_style": "success",
       "layout": "IPY_MODEL_47c93b8b4a214248831b6998856460cb",
       "max": 9998900,
       "style": "IPY_MODEL_a7f8646da58e4881ac100060d9caf0e6",
       "value": 9998900
      }
     },
     "550e4c774bd343ca8fda32ecd7e13788": {
      "model_module": "@jupyter-widgets/base",
      "model_module_version": "1.1.0",
      "model_name": "LayoutModel",
      "state": {}
     },
     "55131b530e684030954a64c7b7711042": {
      "model_module": "@jupyter-widgets/base",
      "model_module_version": "1.1.0",
      "model_name": "LayoutModel",
      "state": {}
     },
     "554fef3c05f94dd3b185afe5930e7cec": {
      "model_module": "@jupyter-widgets/base",
      "model_module_version": "1.1.0",
      "model_name": "LayoutModel",
      "state": {}
     },
     "5566571f3ce94b3794ca3ebd0db782be": {
      "model_module": "@jupyter-widgets/controls",
      "model_module_version": "1.4.0",
      "model_name": "IntProgressModel",
      "state": {
       "bar_style": "success",
       "layout": "IPY_MODEL_225d58770cef488b8cd349259d169dc9",
       "max": 9998900,
       "style": "IPY_MODEL_933010ae0bd34500bd347b13fb1fd5ea",
       "value": 9998900
      }
     },
     "557fe912a1cc47b9ab0b11555e046c7e": {
      "model_module": "@jupyter-widgets/controls",
      "model_module_version": "1.4.0",
      "model_name": "HBoxModel",
      "state": {
       "children": [
        "IPY_MODEL_8a1989eaa69f42809f12c85e82321912",
        "IPY_MODEL_9f66ce719f42437a89cda1d3251b7931"
       ],
       "layout": "IPY_MODEL_0b44f115a02d42f5bb95ee72a0013b8c"
      }
     },
     "559347e473714a0681b535fece37391f": {
      "model_module": "@jupyter-widgets/controls",
      "model_module_version": "1.4.0",
      "model_name": "DescriptionStyleModel",
      "state": {
       "description_width": ""
      }
     },
     "55b3f35e48d74da5b8c0ef18b6019461": {
      "model_module": "@jupyter-widgets/controls",
      "model_module_version": "1.4.0",
      "model_name": "IntProgressModel",
      "state": {
       "bar_style": "success",
       "layout": "IPY_MODEL_16b2e78cbf1a4d9faf847cc81015f084",
       "max": 9998900,
       "style": "IPY_MODEL_f43cfbc0f22d4c2d8106089288704cd0",
       "value": 9998900
      }
     },
     "55ccfa70906641d4b65f759411fe6947": {
      "model_module": "@jupyter-widgets/controls",
      "model_module_version": "1.4.0",
      "model_name": "ProgressStyleModel",
      "state": {
       "description_width": ""
      }
     },
     "56310644e1354462a394424f48f6a040": {
      "model_module": "@jupyter-widgets/controls",
      "model_module_version": "1.4.0",
      "model_name": "IntProgressModel",
      "state": {
       "bar_style": "success",
       "layout": "IPY_MODEL_cb752913585a426fb22737ccf7b49e5b",
       "max": 9998900,
       "style": "IPY_MODEL_29538e620a2e453e9b2a0f7a269b681a",
       "value": 9998900
      }
     },
     "5674372d88344a16bbe02ca3cc6e920d": {
      "model_module": "@jupyter-widgets/base",
      "model_module_version": "1.1.0",
      "model_name": "LayoutModel",
      "state": {}
     },
     "568568651bfc4db4a1a40f83bbfed359": {
      "model_module": "@jupyter-widgets/controls",
      "model_module_version": "1.4.0",
      "model_name": "IntProgressModel",
      "state": {
       "bar_style": "success",
       "layout": "IPY_MODEL_256c24ab3fff47fe8e9f176f7147e483",
       "max": 9998900,
       "style": "IPY_MODEL_bccdea79b7a04b01a12e7c9e0c236bb9",
       "value": 9998900
      }
     },
     "56942ff82ccc41bfa8b539140e9fd819": {
      "model_module": "@jupyter-widgets/controls",
      "model_module_version": "1.4.0",
      "model_name": "HTMLModel",
      "state": {
       "layout": "IPY_MODEL_03fbbfd00e66436eb4c5cf29b45c5d09",
       "style": "IPY_MODEL_c5135d2b946f42adbdad94493ae0c32b",
       "value": "100% 9998900/9998900 [02:43&lt;00:00, 61294.56it/s]"
      }
     },
     "56a1dff55f1f4b9eb6e552b193e32725": {
      "model_module": "@jupyter-widgets/controls",
      "model_module_version": "1.4.0",
      "model_name": "HBoxModel",
      "state": {
       "children": [
        "IPY_MODEL_49791deeb86f417eb25ad05491dfd375",
        "IPY_MODEL_3fc64e85ff434d4b8b962a187c604db6"
       ],
       "layout": "IPY_MODEL_748c8c340e3e46dfbc9dd2aea698cc2e"
      }
     },
     "56b734af10864e55a6b2d192467be40e": {
      "model_module": "@jupyter-widgets/base",
      "model_module_version": "1.1.0",
      "model_name": "LayoutModel",
      "state": {}
     },
     "5704eb93f9b149b2b566d75341dd616d": {
      "model_module": "@jupyter-widgets/controls",
      "model_module_version": "1.4.0",
      "model_name": "DescriptionStyleModel",
      "state": {
       "description_width": ""
      }
     },
     "572611e2140d45fb86265ebe21d8895f": {
      "model_module": "@jupyter-widgets/controls",
      "model_module_version": "1.4.0",
      "model_name": "IntProgressModel",
      "state": {
       "bar_style": "success",
       "layout": "IPY_MODEL_b68a4054314d46c0bee66af00e806a59",
       "max": 9998900,
       "style": "IPY_MODEL_daeac8db70984d37a615d74c0053da6a",
       "value": 9998900
      }
     },
     "5727b4f7fb7b4f3b8daad1541edf6089": {
      "model_module": "@jupyter-widgets/controls",
      "model_module_version": "1.4.0",
      "model_name": "IntProgressModel",
      "state": {
       "bar_style": "success",
       "layout": "IPY_MODEL_f224887dc3194b33af05dbe484c81c17",
       "max": 9998900,
       "style": "IPY_MODEL_17455b2375e14bf0b76b85ea1ba5f232",
       "value": 9998900
      }
     },
     "573275c9dbc340c396f00793184d5474": {
      "model_module": "@jupyter-widgets/controls",
      "model_module_version": "1.4.0",
      "model_name": "IntProgressModel",
      "state": {
       "bar_style": "success",
       "layout": "IPY_MODEL_cf9aa7935fad4350b2b4edd017f370d1",
       "max": 9998900,
       "style": "IPY_MODEL_ecc237d3c5e545059c12f79820135808",
       "value": 9998900
      }
     },
     "574d5a207fe34c1bbd3b29552066d083": {
      "model_module": "@jupyter-widgets/controls",
      "model_module_version": "1.4.0",
      "model_name": "DescriptionStyleModel",
      "state": {
       "description_width": ""
      }
     },
     "576b2ac8e8c34933babc463c0733ba93": {
      "model_module": "@jupyter-widgets/base",
      "model_module_version": "1.1.0",
      "model_name": "LayoutModel",
      "state": {}
     },
     "57d4dd5ce09c4c9b876378137305fc74": {
      "model_module": "@jupyter-widgets/controls",
      "model_module_version": "1.4.0",
      "model_name": "DescriptionStyleModel",
      "state": {
       "description_width": ""
      }
     },
     "57d518c9fc844a4abfe1c2b849d9ad9e": {
      "model_module": "@jupyter-widgets/base",
      "model_module_version": "1.1.0",
      "model_name": "LayoutModel",
      "state": {}
     },
     "57f758243e67455488a9272124a288ad": {
      "model_module": "@jupyter-widgets/base",
      "model_module_version": "1.1.0",
      "model_name": "LayoutModel",
      "state": {}
     },
     "5824be51983b435dbc1bbf1e1a272deb": {
      "model_module": "@jupyter-widgets/controls",
      "model_module_version": "1.4.0",
      "model_name": "HBoxModel",
      "state": {
       "children": [
        "IPY_MODEL_7f4df700699c465a9280ae95b5e9a4fa",
        "IPY_MODEL_d30c9c80c1f24fe1b231446ec55443be"
       ],
       "layout": "IPY_MODEL_f21376eb41894d41907e5c4d73f77cef"
      }
     },
     "5836db054e4946adb7312e3b6fe5b635": {
      "model_module": "@jupyter-widgets/controls",
      "model_module_version": "1.4.0",
      "model_name": "ProgressStyleModel",
      "state": {
       "description_width": ""
      }
     },
     "5848c4bcaa9f491ea0efdbd05f1da8af": {
      "model_module": "@jupyter-widgets/base",
      "model_module_version": "1.1.0",
      "model_name": "LayoutModel",
      "state": {}
     },
     "58698b87e3754fab8eb9ffe405c0d87c": {
      "model_module": "@jupyter-widgets/controls",
      "model_module_version": "1.4.0",
      "model_name": "ProgressStyleModel",
      "state": {
       "description_width": ""
      }
     },
     "58839a233d274b5fa8756d5ea08382f2": {
      "model_module": "@jupyter-widgets/controls",
      "model_module_version": "1.4.0",
      "model_name": "HBoxModel",
      "state": {
       "children": [
        "IPY_MODEL_95488c252e744bc0a63b5295869c1d4d",
        "IPY_MODEL_22c1557453ac4e17bf24c1883fbeb5ca"
       ],
       "layout": "IPY_MODEL_6c8afeac5e884c72b965584cfe7295dd"
      }
     },
     "58a7faca9b4d4979ae8221fdff3c0cfc": {
      "model_module": "@jupyter-widgets/controls",
      "model_module_version": "1.4.0",
      "model_name": "HTMLModel",
      "state": {
       "layout": "IPY_MODEL_31940926a7fd4992a896f672df8411a3",
       "style": "IPY_MODEL_c99a33df85a242eba7824e32e49ddcce",
       "value": "100% 9998900/9998900 [02:20&lt;00:00, 70965.45it/s]"
      }
     },
     "58e12192199f4514831125f5abc079b8": {
      "model_module": "@jupyter-widgets/controls",
      "model_module_version": "1.4.0",
      "model_name": "IntProgressModel",
      "state": {
       "bar_style": "success",
       "layout": "IPY_MODEL_4beaafa060874ae484c3e46567f1cafc",
       "max": 9998900,
       "style": "IPY_MODEL_6133ba39a99b4ccaa7d9b3e19cda2fb5",
       "value": 9998900
      }
     },
     "59d4123dbac14c9e95e0437cec91f865": {
      "model_module": "@jupyter-widgets/controls",
      "model_module_version": "1.4.0",
      "model_name": "ProgressStyleModel",
      "state": {
       "description_width": ""
      }
     },
     "5a31355693e544c9843bc345aae41511": {
      "model_module": "@jupyter-widgets/controls",
      "model_module_version": "1.4.0",
      "model_name": "HBoxModel",
      "state": {
       "children": [
        "IPY_MODEL_1be12a41de844f66a461d36312f1f7f7",
        "IPY_MODEL_d5034d60f9c8498cb14ebb5b23675ccc"
       ],
       "layout": "IPY_MODEL_b25f4b931a604ad79a442fc122644c60"
      }
     },
     "5add3d516ca6407abaa9bc0cd4fd2fde": {
      "model_module": "@jupyter-widgets/controls",
      "model_module_version": "1.4.0",
      "model_name": "ProgressStyleModel",
      "state": {
       "description_width": ""
      }
     },
     "5b02f168eb784c9b85dca9d7b8d47808": {
      "model_module": "@jupyter-widgets/base",
      "model_module_version": "1.1.0",
      "model_name": "LayoutModel",
      "state": {}
     },
     "5b0a6d119e2c48f3906793f37845a9f5": {
      "model_module": "@jupyter-widgets/controls",
      "model_module_version": "1.4.0",
      "model_name": "ProgressStyleModel",
      "state": {
       "description_width": ""
      }
     },
     "5b0fb0b5dc5842de8306f68a349781ff": {
      "model_module": "@jupyter-widgets/controls",
      "model_module_version": "1.4.0",
      "model_name": "HTMLModel",
      "state": {
       "layout": "IPY_MODEL_24db1bb00f2a41338c6b3db29b5900a5",
       "style": "IPY_MODEL_ebacf5a29c6342d78ee0112e76f2bc5c",
       "value": "100% 9998900/9998900 [02:55&lt;00:00, 56961.79it/s]"
      }
     },
     "5b11984d0caf4e4fbead4f2228b00237": {
      "model_module": "@jupyter-widgets/controls",
      "model_module_version": "1.4.0",
      "model_name": "DescriptionStyleModel",
      "state": {
       "description_width": ""
      }
     },
     "5b1e54c88f89443ca6cea3e302214c01": {
      "model_module": "@jupyter-widgets/controls",
      "model_module_version": "1.4.0",
      "model_name": "HTMLModel",
      "state": {
       "layout": "IPY_MODEL_afea170b49c54e258c48b77494a47771",
       "style": "IPY_MODEL_483ad879ac1849238f10570b05acc543",
       "value": "100% 9998900/9998900 [02:56&lt;00:00, 56585.42it/s]"
      }
     },
     "5b7fd7ce3e69434e86239eb762284fd3": {
      "model_module": "@jupyter-widgets/controls",
      "model_module_version": "1.4.0",
      "model_name": "ProgressStyleModel",
      "state": {
       "description_width": ""
      }
     },
     "5bc49eb558e245ac8047cfc1847366ac": {
      "model_module": "@jupyter-widgets/controls",
      "model_module_version": "1.4.0",
      "model_name": "HBoxModel",
      "state": {
       "children": [
        "IPY_MODEL_a76cf6e60c9341429dcee4fcfe46ea03",
        "IPY_MODEL_47e5e0d15c734aa899ec76eebb96b527"
       ],
       "layout": "IPY_MODEL_ba5df62ce1eb40d9a21e67e79097af08"
      }
     },
     "5c136311e7084f52a8dc453d099d071d": {
      "model_module": "@jupyter-widgets/controls",
      "model_module_version": "1.4.0",
      "model_name": "IntProgressModel",
      "state": {
       "bar_style": "success",
       "layout": "IPY_MODEL_daec5bad2c0441bdaff829f0d3a81613",
       "max": 9998900,
       "style": "IPY_MODEL_3f6d24c8874e4c378521ad9b088ad493",
       "value": 9998900
      }
     },
     "5c68361a727e4c908fc91d450468202f": {
      "model_module": "@jupyter-widgets/controls",
      "model_module_version": "1.4.0",
      "model_name": "HTMLModel",
      "state": {
       "layout": "IPY_MODEL_a2c3efb6a2fb462d931af2b21a3f97f0",
       "style": "IPY_MODEL_46840ffe7e774ec2985cc6d810847880",
       "value": "100% 9998900/9998900 [02:33&lt;00:00, 65181.72it/s]"
      }
     },
     "5c70c07db17843d29241433b96516d6a": {
      "model_module": "@jupyter-widgets/base",
      "model_module_version": "1.1.0",
      "model_name": "LayoutModel",
      "state": {}
     },
     "5c7d703434314bd8bf7e88386260d614": {
      "model_module": "@jupyter-widgets/controls",
      "model_module_version": "1.4.0",
      "model_name": "ProgressStyleModel",
      "state": {
       "description_width": ""
      }
     },
     "5cb158cdbb694499a7aaeeae2ee4c6fd": {
      "model_module": "@jupyter-widgets/controls",
      "model_module_version": "1.4.0",
      "model_name": "ProgressStyleModel",
      "state": {
       "description_width": ""
      }
     },
     "5cbcc7d0216c46788c1e97b346bdcf76": {
      "model_module": "@jupyter-widgets/base",
      "model_module_version": "1.1.0",
      "model_name": "LayoutModel",
      "state": {}
     },
     "5cbdd9fb20f74a139e8aa69b022d1e9f": {
      "model_module": "@jupyter-widgets/controls",
      "model_module_version": "1.4.0",
      "model_name": "ProgressStyleModel",
      "state": {
       "description_width": ""
      }
     },
     "5d2ae3899822414facf51dc4951a9c23": {
      "model_module": "@jupyter-widgets/controls",
      "model_module_version": "1.4.0",
      "model_name": "HTMLModel",
      "state": {
       "layout": "IPY_MODEL_93af27be39b6411ea6a9a6ef6afb030c",
       "style": "IPY_MODEL_96a34136e4fd42dfa89d21512841b41b",
       "value": "100% 9998900/9998900 [02:41&lt;00:00, 62083.50it/s]"
      }
     },
     "5d47615dd69544418988839ac105143b": {
      "model_module": "@jupyter-widgets/controls",
      "model_module_version": "1.4.0",
      "model_name": "HTMLModel",
      "state": {
       "layout": "IPY_MODEL_b45382806318470bbc665c70b6d55b02",
       "style": "IPY_MODEL_f7741b3f83374295a0ad0c7296f6ff97",
       "value": "100% 9998900/9998900 [02:42&lt;00:00, 61548.71it/s]"
      }
     },
     "5d845edd04d644a89a641df24a97cda7": {
      "model_module": "@jupyter-widgets/base",
      "model_module_version": "1.1.0",
      "model_name": "LayoutModel",
      "state": {}
     },
     "5d9e197e5ea745b3bf40188a8984e48d": {
      "model_module": "@jupyter-widgets/controls",
      "model_module_version": "1.4.0",
      "model_name": "ProgressStyleModel",
      "state": {
       "description_width": ""
      }
     },
     "5dd5616dd4d34d428f9f06ee9c017915": {
      "model_module": "@jupyter-widgets/base",
      "model_module_version": "1.1.0",
      "model_name": "LayoutModel",
      "state": {}
     },
     "5e387dcbc7fc418cae5cee4b58e247c5": {
      "model_module": "@jupyter-widgets/controls",
      "model_module_version": "1.4.0",
      "model_name": "IntProgressModel",
      "state": {
       "bar_style": "success",
       "layout": "IPY_MODEL_7a5667fe11314ac2872c1ee0ef213d23",
       "max": 9998900,
       "style": "IPY_MODEL_264367c94ffa4c37b849edf643e74448",
       "value": 9998900
      }
     },
     "5e845b52f99244f7aadc35cf2ca7bc29": {
      "model_module": "@jupyter-widgets/controls",
      "model_module_version": "1.4.0",
      "model_name": "DescriptionStyleModel",
      "state": {
       "description_width": ""
      }
     },
     "5e884727abbf4a4eb31bb9bdfe2bdeaf": {
      "model_module": "@jupyter-widgets/base",
      "model_module_version": "1.1.0",
      "model_name": "LayoutModel",
      "state": {}
     },
     "5e8d6507f4ec4479ae5d3f32770a203c": {
      "model_module": "@jupyter-widgets/base",
      "model_module_version": "1.1.0",
      "model_name": "LayoutModel",
      "state": {}
     },
     "5f1463def3f844488c3d646405b67b0f": {
      "model_module": "@jupyter-widgets/controls",
      "model_module_version": "1.4.0",
      "model_name": "HTMLModel",
      "state": {
       "layout": "IPY_MODEL_bd49b1d21277478d8bf977b6e2779350",
       "style": "IPY_MODEL_17fca0c024dd4f8595069855ff56e42e",
       "value": "100% 9998900/9998900 [02:45&lt;00:00, 60481.91it/s]"
      }
     },
     "5f29f4a4e0c749bebc926d387318eeb7": {
      "model_module": "@jupyter-widgets/controls",
      "model_module_version": "1.4.0",
      "model_name": "DescriptionStyleModel",
      "state": {
       "description_width": ""
      }
     },
     "5f4db7c4d3ad45fa9f2ac2d8937dd7c5": {
      "model_module": "@jupyter-widgets/controls",
      "model_module_version": "1.4.0",
      "model_name": "ProgressStyleModel",
      "state": {
       "description_width": ""
      }
     },
     "5f7b227e0b854b1ebd9f8f4243e6ceaa": {
      "model_module": "@jupyter-widgets/base",
      "model_module_version": "1.1.0",
      "model_name": "LayoutModel",
      "state": {}
     },
     "5f8b8a1c0c654e00b39283102ee4f603": {
      "model_module": "@jupyter-widgets/controls",
      "model_module_version": "1.4.0",
      "model_name": "ProgressStyleModel",
      "state": {
       "description_width": ""
      }
     },
     "5fb2c1ead79644d0bf313da3abf9bbb9": {
      "model_module": "@jupyter-widgets/controls",
      "model_module_version": "1.4.0",
      "model_name": "DescriptionStyleModel",
      "state": {
       "description_width": ""
      }
     },
     "5fc9e68574d046f18fc1a2af1a67ff1f": {
      "model_module": "@jupyter-widgets/controls",
      "model_module_version": "1.4.0",
      "model_name": "ProgressStyleModel",
      "state": {
       "description_width": ""
      }
     },
     "5fe464bff93b4782975e50a132775ffd": {
      "model_module": "@jupyter-widgets/base",
      "model_module_version": "1.1.0",
      "model_name": "LayoutModel",
      "state": {}
     },
     "600d533bc3b44b7c89f3b2984abc01f8": {
      "model_module": "@jupyter-widgets/base",
      "model_module_version": "1.1.0",
      "model_name": "LayoutModel",
      "state": {}
     },
     "6078dafea25b4a3cb717c02335268442": {
      "model_module": "@jupyter-widgets/controls",
      "model_module_version": "1.4.0",
      "model_name": "IntProgressModel",
      "state": {
       "bar_style": "success",
       "layout": "IPY_MODEL_ba1a3df317684742bd584b16bc525b13",
       "max": 9998900,
       "style": "IPY_MODEL_a15f75920447477f80e7d3524451fcdd",
       "value": 9998900
      }
     },
     "60d7093d45874103a7b2976d7923e1ad": {
      "model_module": "@jupyter-widgets/controls",
      "model_module_version": "1.4.0",
      "model_name": "HTMLModel",
      "state": {
       "layout": "IPY_MODEL_00f317cd35e94844b5872772bd0922b4",
       "style": "IPY_MODEL_a4c72a530510463a9a7afcacc5cb603a",
       "value": "100% 9998900/9998900 [02:36&lt;00:00, 63882.13it/s]"
      }
     },
     "60dd366436c545df8abd79877110c60d": {
      "model_module": "@jupyter-widgets/controls",
      "model_module_version": "1.4.0",
      "model_name": "DescriptionStyleModel",
      "state": {
       "description_width": ""
      }
     },
     "60f96440435b408894fc0ef9a5127c3e": {
      "model_module": "@jupyter-widgets/controls",
      "model_module_version": "1.4.0",
      "model_name": "IntProgressModel",
      "state": {
       "bar_style": "success",
       "layout": "IPY_MODEL_c56d634109374824b1ec71ae69aec9e0",
       "max": 9998900,
       "style": "IPY_MODEL_a98e15f1d82c4705bf34f1afe00201f6",
       "value": 9998900
      }
     },
     "6133ba39a99b4ccaa7d9b3e19cda2fb5": {
      "model_module": "@jupyter-widgets/controls",
      "model_module_version": "1.4.0",
      "model_name": "ProgressStyleModel",
      "state": {
       "description_width": ""
      }
     },
     "6151bb8209ec41e7a82c5b5db8aacb67": {
      "model_module": "@jupyter-widgets/base",
      "model_module_version": "1.1.0",
      "model_name": "LayoutModel",
      "state": {}
     },
     "6175328cb78541a0b943862db4414c03": {
      "model_module": "@jupyter-widgets/controls",
      "model_module_version": "1.4.0",
      "model_name": "ProgressStyleModel",
      "state": {
       "description_width": ""
      }
     },
     "618152bf5e6e44d5831186d3023de21a": {
      "model_module": "@jupyter-widgets/controls",
      "model_module_version": "1.4.0",
      "model_name": "HBoxModel",
      "state": {
       "children": [
        "IPY_MODEL_547bec0c577441d4b4cae62d150a5884",
        "IPY_MODEL_8ece751109274ed7a8ec3bbf671e746d"
       ],
       "layout": "IPY_MODEL_0503a0a09c4f4ec89f64f11638f8f4c0"
      }
     },
     "622f9ebe34794438930a819e39bf6a41": {
      "model_module": "@jupyter-widgets/controls",
      "model_module_version": "1.4.0",
      "model_name": "HTMLModel",
      "state": {
       "layout": "IPY_MODEL_9375ad638dd64363a6931701abf88ae2",
       "style": "IPY_MODEL_b4fc5ae53f24462fb504851f17564670",
       "value": "100% 9998900/9998900 [02:46&lt;00:00, 60036.79it/s]"
      }
     },
     "623936cc69bd48a1bd6a35414c32fe2d": {
      "model_module": "@jupyter-widgets/controls",
      "model_module_version": "1.4.0",
      "model_name": "IntProgressModel",
      "state": {
       "bar_style": "success",
       "layout": "IPY_MODEL_3b25533c790c4d169bbe2d3519c0c327",
       "max": 9998900,
       "style": "IPY_MODEL_075a406e0bd24b5dad5847c5f9586659",
       "value": 9998900
      }
     },
     "62a8c83746a74149832411904a54a2ac": {
      "model_module": "@jupyter-widgets/controls",
      "model_module_version": "1.4.0",
      "model_name": "HBoxModel",
      "state": {
       "children": [
        "IPY_MODEL_9e2857ec6cf54e6784fc060afbf81ed5",
        "IPY_MODEL_27d442c0202842db91b7fb09627379b8"
       ],
       "layout": "IPY_MODEL_8bbb51fb28c94373a51c52519904ccb9"
      }
     },
     "62c3380644794fa58d99cf129f5eee61": {
      "model_module": "@jupyter-widgets/base",
      "model_module_version": "1.1.0",
      "model_name": "LayoutModel",
      "state": {}
     },
     "62e507c1cd4942ddaa70df5df29ba5ef": {
      "model_module": "@jupyter-widgets/controls",
      "model_module_version": "1.4.0",
      "model_name": "ProgressStyleModel",
      "state": {
       "description_width": ""
      }
     },
     "6309a8cde3b24efcb9662a5bbc9b6b29": {
      "model_module": "@jupyter-widgets/controls",
      "model_module_version": "1.4.0",
      "model_name": "IntProgressModel",
      "state": {
       "bar_style": "success",
       "layout": "IPY_MODEL_244a18132fcb42e28b9143ff62c235af",
       "max": 9998900,
       "style": "IPY_MODEL_67622f6e31354084b3726f41b40c6093",
       "value": 9998900
      }
     },
     "6323d40906974ca6af5fe26e32c2138c": {
      "model_module": "@jupyter-widgets/controls",
      "model_module_version": "1.4.0",
      "model_name": "ProgressStyleModel",
      "state": {
       "description_width": ""
      }
     },
     "633a6dd806f04817add1add0f05af636": {
      "model_module": "@jupyter-widgets/controls",
      "model_module_version": "1.4.0",
      "model_name": "HBoxModel",
      "state": {
       "children": [
        "IPY_MODEL_3862ad3ad6c54a459705e90bc30f9dd7",
        "IPY_MODEL_147f5b9c595b47da83d63ac5d14114b0"
       ],
       "layout": "IPY_MODEL_fd15d926cf084721b0cdb26a58af611a"
      }
     },
     "637ccfc1110a44eba405fb7499b8dc18": {
      "model_module": "@jupyter-widgets/controls",
      "model_module_version": "1.4.0",
      "model_name": "HBoxModel",
      "state": {
       "children": [
        "IPY_MODEL_8397515ef4374e489ec6c6cf29eb9957",
        "IPY_MODEL_516bbcce0a2a4b3b880bcb8a82fc2d06"
       ],
       "layout": "IPY_MODEL_ddb1446de4e64b47a45a58206a7f0e0e"
      }
     },
     "63823dcb4ad14537a6f382a2e8773e99": {
      "model_module": "@jupyter-widgets/controls",
      "model_module_version": "1.4.0",
      "model_name": "HTMLModel",
      "state": {
       "layout": "IPY_MODEL_88c89002be514b1ebce104156d8f0cfe",
       "style": "IPY_MODEL_bad9cbdf7e67435597c9dfd50d0eda7e",
       "value": "1000001it [23:33, 707.35it/s]"
      }
     },
     "63ada00e3a4043449c83774b9e18328b": {
      "model_module": "@jupyter-widgets/base",
      "model_module_version": "1.1.0",
      "model_name": "LayoutModel",
      "state": {}
     },
     "63b20215bb8a40de98637980f51330f3": {
      "model_module": "@jupyter-widgets/base",
      "model_module_version": "1.1.0",
      "model_name": "LayoutModel",
      "state": {}
     },
     "63b687667118404683eb452e94be0d56": {
      "model_module": "@jupyter-widgets/controls",
      "model_module_version": "1.4.0",
      "model_name": "IntProgressModel",
      "state": {
       "bar_style": "success",
       "layout": "IPY_MODEL_49e383e8263641ddb8ff2198111d4a24",
       "max": 9998900,
       "style": "IPY_MODEL_6ed13055ecb3442681b293a054432658",
       "value": 9998900
      }
     },
     "63ceb23813f9490ab2a699eeb625fb1a": {
      "model_module": "@jupyter-widgets/controls",
      "model_module_version": "1.4.0",
      "model_name": "IntProgressModel",
      "state": {
       "bar_style": "success",
       "layout": "IPY_MODEL_b9a216a3dbaf4b47aa18965b8ef99674",
       "max": 9998900,
       "style": "IPY_MODEL_d138cab28e1e475f9ea53ff38ffc13fc",
       "value": 9998900
      }
     },
     "63fc6e470fdf4fcd96af761ba138edab": {
      "model_module": "@jupyter-widgets/controls",
      "model_module_version": "1.4.0",
      "model_name": "ProgressStyleModel",
      "state": {
       "description_width": ""
      }
     },
     "64422326cc1f4ae0945c0381690dac24": {
      "model_module": "@jupyter-widgets/controls",
      "model_module_version": "1.4.0",
      "model_name": "IntProgressModel",
      "state": {
       "bar_style": "success",
       "layout": "IPY_MODEL_10df1b4acdf64177afb5ac78a6c6fe93",
       "max": 9998900,
       "style": "IPY_MODEL_f356dcb7ea314e24ba83f2ec3142a377",
       "value": 9998900
      }
     },
     "645034d1d73f4a3cbdbdf3b2bcbbf120": {
      "model_module": "@jupyter-widgets/base",
      "model_module_version": "1.1.0",
      "model_name": "LayoutModel",
      "state": {}
     },
     "646e46da6ebf4f5b91c0266963c7a21b": {
      "model_module": "@jupyter-widgets/base",
      "model_module_version": "1.1.0",
      "model_name": "LayoutModel",
      "state": {}
     },
     "648f3d2765554f1998b4b6d7e13dfc44": {
      "model_module": "@jupyter-widgets/base",
      "model_module_version": "1.1.0",
      "model_name": "LayoutModel",
      "state": {}
     },
     "6492669ddf914c529b090742637ad5b4": {
      "model_module": "@jupyter-widgets/controls",
      "model_module_version": "1.4.0",
      "model_name": "HTMLModel",
      "state": {
       "layout": "IPY_MODEL_ddbc7ab7ea814fa4992fc358a5edb646",
       "style": "IPY_MODEL_a5358a96ca524ad98819423f444f1a6c",
       "value": "100% 9998900/9998900 [02:56&lt;00:00, 56606.24it/s]"
      }
     },
     "653af2198f424d05ab296965a37c85ed": {
      "model_module": "@jupyter-widgets/controls",
      "model_module_version": "1.4.0",
      "model_name": "DescriptionStyleModel",
      "state": {
       "description_width": ""
      }
     },
     "654ae220482c4797b276b59007828dbb": {
      "model_module": "@jupyter-widgets/controls",
      "model_module_version": "1.4.0",
      "model_name": "DescriptionStyleModel",
      "state": {
       "description_width": ""
      }
     },
     "65b9b7134f554a9f82d4c0f0798db832": {
      "model_module": "@jupyter-widgets/controls",
      "model_module_version": "1.4.0",
      "model_name": "DescriptionStyleModel",
      "state": {
       "description_width": ""
      }
     },
     "65db3bdfd807406abc388ea2f4f9b5bd": {
      "model_module": "@jupyter-widgets/controls",
      "model_module_version": "1.4.0",
      "model_name": "HBoxModel",
      "state": {
       "children": [
        "IPY_MODEL_f83401cbe6044bb3a315c36a7109184b",
        "IPY_MODEL_129f5f9985fc4bda839b2b1f1527d87e"
       ],
       "layout": "IPY_MODEL_5674372d88344a16bbe02ca3cc6e920d"
      }
     },
     "661827b74ab44eab97aba9666b250f99": {
      "model_module": "@jupyter-widgets/controls",
      "model_module_version": "1.4.0",
      "model_name": "DescriptionStyleModel",
      "state": {
       "description_width": ""
      }
     },
     "66562d5415d94554a2f7047b495a223e": {
      "model_module": "@jupyter-widgets/controls",
      "model_module_version": "1.4.0",
      "model_name": "IntProgressModel",
      "state": {
       "bar_style": "success",
       "layout": "IPY_MODEL_c66a8ce82f384ebca877bf74c84bf039",
       "max": 9998900,
       "style": "IPY_MODEL_1e401e58be854da4968e6920f578f18f",
       "value": 9998900
      }
     },
     "668076adaa47490b98265185d9213f49": {
      "model_module": "@jupyter-widgets/base",
      "model_module_version": "1.1.0",
      "model_name": "LayoutModel",
      "state": {}
     },
     "67622f6e31354084b3726f41b40c6093": {
      "model_module": "@jupyter-widgets/controls",
      "model_module_version": "1.4.0",
      "model_name": "ProgressStyleModel",
      "state": {
       "description_width": ""
      }
     },
     "67e5bdb5113a488bb4e33020c2b9b37c": {
      "model_module": "@jupyter-widgets/base",
      "model_module_version": "1.1.0",
      "model_name": "LayoutModel",
      "state": {}
     },
     "67fccd7991a64f68b500b3e20dcebcc8": {
      "model_module": "@jupyter-widgets/controls",
      "model_module_version": "1.4.0",
      "model_name": "HTMLModel",
      "state": {
       "layout": "IPY_MODEL_d5994fc1016742ff8d6800d26d94c6d7",
       "style": "IPY_MODEL_8eda31b7519149f68f940236a3fd1b4f",
       "value": "100% 9998900/9998900 [02:45&lt;00:00, 60530.44it/s]"
      }
     },
     "68036fb4a18b4758a7d64acec68adffd": {
      "model_module": "@jupyter-widgets/base",
      "model_module_version": "1.1.0",
      "model_name": "LayoutModel",
      "state": {}
     },
     "680f963f15494a9990639150c3f2aa2e": {
      "model_module": "@jupyter-widgets/controls",
      "model_module_version": "1.4.0",
      "model_name": "IntProgressModel",
      "state": {
       "bar_style": "success",
       "layout": "IPY_MODEL_2d4557aa6bf74a53869a0bb1f95cb5b0",
       "max": 1,
       "style": "IPY_MODEL_5f8b8a1c0c654e00b39283102ee4f603",
       "value": 1
      }
     },
     "686408fdd5ef4a67845158d899d7c8da": {
      "model_module": "@jupyter-widgets/controls",
      "model_module_version": "1.4.0",
      "model_name": "IntProgressModel",
      "state": {
       "bar_style": "success",
       "layout": "IPY_MODEL_7c44887bdc884961aa767ab939521fd0",
       "max": 9998900,
       "style": "IPY_MODEL_6f08e833445443f69b7ea808257196b4",
       "value": 9998900
      }
     },
     "6887c07c4f3346cbad90728c9eb1f986": {
      "model_module": "@jupyter-widgets/base",
      "model_module_version": "1.1.0",
      "model_name": "LayoutModel",
      "state": {}
     },
     "6962b5642ff547389d26f179b7f0ba12": {
      "model_module": "@jupyter-widgets/controls",
      "model_module_version": "1.4.0",
      "model_name": "HBoxModel",
      "state": {
       "children": [
        "IPY_MODEL_f7292b9f831d4a6f940ce153c7d86ddf",
        "IPY_MODEL_dd3402c12a81418284d9fded6a1a037c"
       ],
       "layout": "IPY_MODEL_a57355c239324936bfdf466970d0f317"
      }
     },
     "69651a3c7430434fb05ec316f0dbd2af": {
      "model_module": "@jupyter-widgets/base",
      "model_module_version": "1.1.0",
      "model_name": "LayoutModel",
      "state": {}
     },
     "696daa43592342a1a6b17e9b8707ea20": {
      "model_module": "@jupyter-widgets/controls",
      "model_module_version": "1.4.0",
      "model_name": "DescriptionStyleModel",
      "state": {
       "description_width": ""
      }
     },
     "698ef802fe164081b25bcb5e624e04f4": {
      "model_module": "@jupyter-widgets/base",
      "model_module_version": "1.1.0",
      "model_name": "LayoutModel",
      "state": {}
     },
     "69b0ad2282b34e4da220dc9895cb5398": {
      "model_module": "@jupyter-widgets/base",
      "model_module_version": "1.1.0",
      "model_name": "LayoutModel",
      "state": {}
     },
     "69c0b634e1424770b9e17c52370ff8dc": {
      "model_module": "@jupyter-widgets/controls",
      "model_module_version": "1.4.0",
      "model_name": "HBoxModel",
      "state": {
       "children": [
        "IPY_MODEL_2c2f40f1ef6c46e39f7876043e592b95",
        "IPY_MODEL_4765a475478e429fae37250c2b631dd2"
       ],
       "layout": "IPY_MODEL_3a36fd6128794d809e7a0c0d3cc10bd1"
      }
     },
     "69d5b870bd314924813a81131438eda6": {
      "model_module": "@jupyter-widgets/base",
      "model_module_version": "1.1.0",
      "model_name": "LayoutModel",
      "state": {}
     },
     "6af2013d972e4b68b29caf068d4dedf3": {
      "model_module": "@jupyter-widgets/controls",
      "model_module_version": "1.4.0",
      "model_name": "IntProgressModel",
      "state": {
       "bar_style": "success",
       "layout": "IPY_MODEL_9d2bbaa41ce046d5a1644ad5e4b89517",
       "max": 9998900,
       "style": "IPY_MODEL_0379f1bcd24e4688958e5ee228258bf6",
       "value": 9998900
      }
     },
     "6af3edb1cfe14f739158ecd2081187a4": {
      "model_module": "@jupyter-widgets/base",
      "model_module_version": "1.1.0",
      "model_name": "LayoutModel",
      "state": {}
     },
     "6b03845a07c3429dbca6a0c1dda1c36e": {
      "model_module": "@jupyter-widgets/base",
      "model_module_version": "1.1.0",
      "model_name": "LayoutModel",
      "state": {}
     },
     "6b4b932bc82048759f74fe2955cdeb7c": {
      "model_module": "@jupyter-widgets/controls",
      "model_module_version": "1.4.0",
      "model_name": "DescriptionStyleModel",
      "state": {
       "description_width": ""
      }
     },
     "6b528e75ef674dc18ba36bc209c0d892": {
      "model_module": "@jupyter-widgets/base",
      "model_module_version": "1.1.0",
      "model_name": "LayoutModel",
      "state": {}
     },
     "6b8448716e1244c0bcd41c142045e564": {
      "model_module": "@jupyter-widgets/base",
      "model_module_version": "1.1.0",
      "model_name": "LayoutModel",
      "state": {}
     },
     "6b8a311c379245e49d004523dccfa64a": {
      "model_module": "@jupyter-widgets/controls",
      "model_module_version": "1.4.0",
      "model_name": "HTMLModel",
      "state": {
       "layout": "IPY_MODEL_46813607600b4baa984cbf2175598a75",
       "style": "IPY_MODEL_da986857870d42749a32ace5ce5f10fc",
       "value": "100% 9998900/9998900 [02:48&lt;00:00, 59496.26it/s]"
      }
     },
     "6b8b6f71efce464082e691ed0243b6d0": {
      "model_module": "@jupyter-widgets/controls",
      "model_module_version": "1.4.0",
      "model_name": "ProgressStyleModel",
      "state": {
       "description_width": ""
      }
     },
     "6b8d307f7e9f4a4d87ff9c8fec46826b": {
      "model_module": "@jupyter-widgets/controls",
      "model_module_version": "1.4.0",
      "model_name": "ProgressStyleModel",
      "state": {
       "description_width": ""
      }
     },
     "6bbf6c25a6dc4248975633b6cf80e5fa": {
      "model_module": "@jupyter-widgets/base",
      "model_module_version": "1.1.0",
      "model_name": "LayoutModel",
      "state": {}
     },
     "6bd7353e17dc4e2e867771082ec09f87": {
      "model_module": "@jupyter-widgets/base",
      "model_module_version": "1.1.0",
      "model_name": "LayoutModel",
      "state": {}
     },
     "6bde710ef32b43ea9197f9beeb435090": {
      "model_module": "@jupyter-widgets/controls",
      "model_module_version": "1.4.0",
      "model_name": "ProgressStyleModel",
      "state": {
       "description_width": ""
      }
     },
     "6bfbffe794c14ceb85b76ae3be2ea8bc": {
      "model_module": "@jupyter-widgets/base",
      "model_module_version": "1.1.0",
      "model_name": "LayoutModel",
      "state": {}
     },
     "6c8afeac5e884c72b965584cfe7295dd": {
      "model_module": "@jupyter-widgets/base",
      "model_module_version": "1.1.0",
      "model_name": "LayoutModel",
      "state": {}
     },
     "6d15924b2df24753b9e7cac978aad054": {
      "model_module": "@jupyter-widgets/controls",
      "model_module_version": "1.4.0",
      "model_name": "ProgressStyleModel",
      "state": {
       "description_width": ""
      }
     },
     "6d214c69427542f09f286f8c77c0a5e6": {
      "model_module": "@jupyter-widgets/base",
      "model_module_version": "1.1.0",
      "model_name": "LayoutModel",
      "state": {}
     },
     "6d33f77bfdb14b8aa1eaff659b2abbcc": {
      "model_module": "@jupyter-widgets/controls",
      "model_module_version": "1.4.0",
      "model_name": "ProgressStyleModel",
      "state": {
       "description_width": ""
      }
     },
     "6d3a11e597de4f19a1dcec54982f0b5f": {
      "model_module": "@jupyter-widgets/base",
      "model_module_version": "1.1.0",
      "model_name": "LayoutModel",
      "state": {}
     },
     "6ddc1d35acea48158839138ad2ad6345": {
      "model_module": "@jupyter-widgets/controls",
      "model_module_version": "1.4.0",
      "model_name": "HTMLModel",
      "state": {
       "layout": "IPY_MODEL_1ee8f9fec8bd48a59ceeaa21deabad8f",
       "style": "IPY_MODEL_734d7490707943e3936fc052275f9ff6",
       "value": "100000000it [34:12, 48723.74it/s]"
      }
     },
     "6e10b355ebfc478089902b131d94a01e": {
      "model_module": "@jupyter-widgets/base",
      "model_module_version": "1.1.0",
      "model_name": "LayoutModel",
      "state": {}
     },
     "6ebf464cbdf84b15bd51ef887fd824e1": {
      "model_module": "@jupyter-widgets/controls",
      "model_module_version": "1.4.0",
      "model_name": "IntProgressModel",
      "state": {
       "bar_style": "success",
       "layout": "IPY_MODEL_9e63d6034d39489ab07bec42e92b8d55",
       "max": 9998900,
       "style": "IPY_MODEL_c56ee4953d4a42ba99ff6f4ed2df468d",
       "value": 9998900
      }
     },
     "6ed13055ecb3442681b293a054432658": {
      "model_module": "@jupyter-widgets/controls",
      "model_module_version": "1.4.0",
      "model_name": "ProgressStyleModel",
      "state": {
       "description_width": ""
      }
     },
     "6ed57426064e4408befa485aa0e6830b": {
      "model_module": "@jupyter-widgets/controls",
      "model_module_version": "1.4.0",
      "model_name": "HBoxModel",
      "state": {
       "children": [
        "IPY_MODEL_41d1c751716f44aaa195b8f946ebc59c",
        "IPY_MODEL_f835e67950db44c2813247fea6c257f1"
       ],
       "layout": "IPY_MODEL_600d533bc3b44b7c89f3b2984abc01f8"
      }
     },
     "6f055db133114a7c9033766dc944c607": {
      "model_module": "@jupyter-widgets/base",
      "model_module_version": "1.1.0",
      "model_name": "LayoutModel",
      "state": {}
     },
     "6f08e833445443f69b7ea808257196b4": {
      "model_module": "@jupyter-widgets/controls",
      "model_module_version": "1.4.0",
      "model_name": "ProgressStyleModel",
      "state": {
       "description_width": ""
      }
     },
     "6f27294a9e9844d5a30e93684fb741a1": {
      "model_module": "@jupyter-widgets/base",
      "model_module_version": "1.1.0",
      "model_name": "LayoutModel",
      "state": {}
     },
     "6f72113866a14831a4983595ed987670": {
      "model_module": "@jupyter-widgets/controls",
      "model_module_version": "1.4.0",
      "model_name": "HBoxModel",
      "state": {
       "children": [
        "IPY_MODEL_a1e236aa95a1427a88d9cb9d73b02bd5",
        "IPY_MODEL_3fc5d86b4add4d59a66163c88b455781"
       ],
       "layout": "IPY_MODEL_13380049e59b41dbab0a863ac31ea4e4"
      }
     },
     "6f7c06d777c74012b48c045f0b0b014d": {
      "model_module": "@jupyter-widgets/controls",
      "model_module_version": "1.4.0",
      "model_name": "IntProgressModel",
      "state": {
       "bar_style": "success",
       "layout": "IPY_MODEL_f068c5790bd043ee8d0b85f1d2207a33",
       "max": 9998900,
       "style": "IPY_MODEL_10e6cb179c9849f8af82a6c030bff67b",
       "value": 9998900
      }
     },
     "6fb1655a40bc444783ac3bbcd6c6af9f": {
      "model_module": "@jupyter-widgets/controls",
      "model_module_version": "1.4.0",
      "model_name": "DescriptionStyleModel",
      "state": {
       "description_width": ""
      }
     },
     "6fd3636e97d24f4aaf86df9965eba2c8": {
      "model_module": "@jupyter-widgets/controls",
      "model_module_version": "1.4.0",
      "model_name": "DescriptionStyleModel",
      "state": {
       "description_width": ""
      }
     },
     "6fe98808bb89446e87e8673e2d3bb1f5": {
      "model_module": "@jupyter-widgets/controls",
      "model_module_version": "1.4.0",
      "model_name": "ProgressStyleModel",
      "state": {
       "description_width": ""
      }
     },
     "7000c4ba2f7543618f246506b78024ea": {
      "model_module": "@jupyter-widgets/controls",
      "model_module_version": "1.4.0",
      "model_name": "HTMLModel",
      "state": {
       "layout": "IPY_MODEL_c0904c6823044cffa402a79f1aa70498",
       "style": "IPY_MODEL_d83c52bde6a248898fbccf1f8a288a2f",
       "value": "100% 9998900/9998900 [02:56&lt;00:00, 56720.97it/s]"
      }
     },
     "7035bf241329477e9f18a930a3834ab0": {
      "model_module": "@jupyter-widgets/controls",
      "model_module_version": "1.4.0",
      "model_name": "IntProgressModel",
      "state": {
       "bar_style": "success",
       "layout": "IPY_MODEL_5e884727abbf4a4eb31bb9bdfe2bdeaf",
       "max": 9998900,
       "style": "IPY_MODEL_4fab196544204fdfb0a4ce33c312c3ac",
       "value": 9998900
      }
     },
     "70781adf438d427e865aced5d4fe2f9f": {
      "model_module": "@jupyter-widgets/controls",
      "model_module_version": "1.4.0",
      "model_name": "HBoxModel",
      "state": {
       "children": [
        "IPY_MODEL_8aba01158d7541cfa801d022b63c8357",
        "IPY_MODEL_ab00e7a31e9345609bb02b87e43536c1"
       ],
       "layout": "IPY_MODEL_1b28f6643b804595b0f5cff58a6339f4"
      }
     },
     "70c33da61f01431a81e908f4768374a4": {
      "model_module": "@jupyter-widgets/controls",
      "model_module_version": "1.4.0",
      "model_name": "DescriptionStyleModel",
      "state": {
       "description_width": ""
      }
     },
     "70ffb792d89e4f0fb0a806d55eaa490e": {
      "model_module": "@jupyter-widgets/base",
      "model_module_version": "1.1.0",
      "model_name": "LayoutModel",
      "state": {}
     },
     "7131a914dc9f4d268c5c6fce105ce4e8": {
      "model_module": "@jupyter-widgets/base",
      "model_module_version": "1.1.0",
      "model_name": "LayoutModel",
      "state": {}
     },
     "714e9b6e1db0437e910bc4854a45f316": {
      "model_module": "@jupyter-widgets/base",
      "model_module_version": "1.1.0",
      "model_name": "LayoutModel",
      "state": {}
     },
     "7169783bddea456a82c0a9401b1e8437": {
      "model_module": "@jupyter-widgets/controls",
      "model_module_version": "1.4.0",
      "model_name": "DescriptionStyleModel",
      "state": {
       "description_width": ""
      }
     },
     "71ce4d2441f24915923d90345ab1e6b5": {
      "model_module": "@jupyter-widgets/base",
      "model_module_version": "1.1.0",
      "model_name": "LayoutModel",
      "state": {}
     },
     "721ca06b8e0b471088b95a0018364696": {
      "model_module": "@jupyter-widgets/controls",
      "model_module_version": "1.4.0",
      "model_name": "IntProgressModel",
      "state": {
       "bar_style": "success",
       "layout": "IPY_MODEL_cdf43fda4b554a518233f4f0df28cb9e",
       "max": 9998900,
       "style": "IPY_MODEL_a90cf5129ca8458189085fa0ecf3ca53",
       "value": 9998900
      }
     },
     "722d34b5cb5e4e7d8d672b296f59edd9": {
      "model_module": "@jupyter-widgets/controls",
      "model_module_version": "1.4.0",
      "model_name": "HTMLModel",
      "state": {
       "layout": "IPY_MODEL_808ddd0b872f460281d6daafb5c9cf6e",
       "style": "IPY_MODEL_1d0038eb02604e07b8b7672fafa451fd",
       "value": "100% 100/100 [4:45:32&lt;00:00, 171.33s/it]"
      }
     },
     "7259b11441b64cf1beed426865ce4e25": {
      "model_module": "@jupyter-widgets/controls",
      "model_module_version": "1.4.0",
      "model_name": "IntProgressModel",
      "state": {
       "bar_style": "success",
       "layout": "IPY_MODEL_219874fc3d614f6fb12e3531aca2713f",
       "max": 9998900,
       "style": "IPY_MODEL_59d4123dbac14c9e95e0437cec91f865",
       "value": 9998900
      }
     },
     "72a6bd64f44c49cda661d2d9fee62be2": {
      "model_module": "@jupyter-widgets/controls",
      "model_module_version": "1.4.0",
      "model_name": "HTMLModel",
      "state": {
       "layout": "IPY_MODEL_1a677e8ed623433fb029b956dde12904",
       "style": "IPY_MODEL_4a5eaa8d8485478582d77adf119fa89d",
       "value": "100% 9998900/9998900 [02:55&lt;00:00, 56912.03it/s]"
      }
     },
     "72a8299e94ad4e0ab722fb3423da0083": {
      "model_module": "@jupyter-widgets/controls",
      "model_module_version": "1.4.0",
      "model_name": "IntProgressModel",
      "state": {
       "bar_style": "success",
       "layout": "IPY_MODEL_86e3c1abc35640a9bf1a7bd369bb7c3c",
       "max": 9998900,
       "style": "IPY_MODEL_43cafcfdf79b4fecaa598b3594accb28",
       "value": 9998900
      }
     },
     "72b14e8e7d7a4f149ffb6e3e9c73b921": {
      "model_module": "@jupyter-widgets/base",
      "model_module_version": "1.1.0",
      "model_name": "LayoutModel",
      "state": {}
     },
     "72e0ddc6ac194e9094c11dfbeb4c5521": {
      "model_module": "@jupyter-widgets/base",
      "model_module_version": "1.1.0",
      "model_name": "LayoutModel",
      "state": {}
     },
     "72e758b164624b7987ebc400e2d54b81": {
      "model_module": "@jupyter-widgets/base",
      "model_module_version": "1.1.0",
      "model_name": "LayoutModel",
      "state": {}
     },
     "73108ecaa59b4f398aa35b2a3d0aa6a7": {
      "model_module": "@jupyter-widgets/base",
      "model_module_version": "1.1.0",
      "model_name": "LayoutModel",
      "state": {}
     },
     "734d7490707943e3936fc052275f9ff6": {
      "model_module": "@jupyter-widgets/controls",
      "model_module_version": "1.4.0",
      "model_name": "DescriptionStyleModel",
      "state": {
       "description_width": ""
      }
     },
     "73a9d65719a04c65a55c6290861f76ee": {
      "model_module": "@jupyter-widgets/base",
      "model_module_version": "1.1.0",
      "model_name": "LayoutModel",
      "state": {}
     },
     "73e1813e032842d99c6f1862b048ebab": {
      "model_module": "@jupyter-widgets/controls",
      "model_module_version": "1.4.0",
      "model_name": "ProgressStyleModel",
      "state": {
       "description_width": ""
      }
     },
     "7416fe1f51034c479f4c74c820f18002": {
      "model_module": "@jupyter-widgets/base",
      "model_module_version": "1.1.0",
      "model_name": "LayoutModel",
      "state": {}
     },
     "74719e971c8746698b4a9b0110056fc3": {
      "model_module": "@jupyter-widgets/controls",
      "model_module_version": "1.4.0",
      "model_name": "IntProgressModel",
      "state": {
       "bar_style": "success",
       "layout": "IPY_MODEL_9bc0ebb052c04cdf9d882eb226e29f40",
       "max": 9998900,
       "style": "IPY_MODEL_9b0e867747a5479e8fbfa26d8ff5b5cb",
       "value": 9998900
      }
     },
     "747ec702ab0544d18299e0c04fd95f18": {
      "model_module": "@jupyter-widgets/controls",
      "model_module_version": "1.4.0",
      "model_name": "HTMLModel",
      "state": {
       "layout": "IPY_MODEL_b193e98e67ed49b6ab335f75aef1bc4b",
       "style": "IPY_MODEL_229f6aa89ae04e0d849293b39087d77f",
       "value": "100% 9998900/9998900 [02:44&lt;00:00, 60731.41it/s]"
      }
     },
     "748c8c340e3e46dfbc9dd2aea698cc2e": {
      "model_module": "@jupyter-widgets/base",
      "model_module_version": "1.1.0",
      "model_name": "LayoutModel",
      "state": {}
     },
     "74a8c5d0fd464c119b5cc02cecb9d8e0": {
      "model_module": "@jupyter-widgets/base",
      "model_module_version": "1.1.0",
      "model_name": "LayoutModel",
      "state": {}
     },
     "74eb5f72ea7a4284af13bcf97b34f72f": {
      "model_module": "@jupyter-widgets/controls",
      "model_module_version": "1.4.0",
      "model_name": "HTMLModel",
      "state": {
       "layout": "IPY_MODEL_97a3519a34b64fd5aca62ecd10d3342c",
       "style": "IPY_MODEL_2b99b29ccb2248efb01b40fd3d194544",
       "value": "100% 9998900/9998900 [02:44&lt;00:00, 60831.32it/s]"
      }
     },
     "75171a56f26143cfa7031f689d8463f3": {
      "model_module": "@jupyter-widgets/controls",
      "model_module_version": "1.4.0",
      "model_name": "HTMLModel",
      "state": {
       "layout": "IPY_MODEL_b0637c0ae19e473bafa7aa1cc004b7a9",
       "style": "IPY_MODEL_46ece8a8503a4c21a16ace132de7c485",
       "value": "100% 9998900/9998900 [02:45&lt;00:00, 60363.61it/s]"
      }
     },
     "75c62e904bec4c4ab273c454e410c2bb": {
      "model_module": "@jupyter-widgets/base",
      "model_module_version": "1.1.0",
      "model_name": "LayoutModel",
      "state": {}
     },
     "75d0c073ae874bedb1239cc960f1f03f": {
      "model_module": "@jupyter-widgets/controls",
      "model_module_version": "1.4.0",
      "model_name": "IntProgressModel",
      "state": {
       "bar_style": "success",
       "layout": "IPY_MODEL_5c70c07db17843d29241433b96516d6a",
       "max": 9998900,
       "style": "IPY_MODEL_5d9e197e5ea745b3bf40188a8984e48d",
       "value": 9998900
      }
     },
     "75da4f55391a46ff949a72fb1bdb5b11": {
      "model_module": "@jupyter-widgets/controls",
      "model_module_version": "1.4.0",
      "model_name": "HTMLModel",
      "state": {
       "layout": "IPY_MODEL_9b299080492440c48a5f58274ad3a19a",
       "style": "IPY_MODEL_db813a67a277417b9b07dd97846c65c1",
       "value": "100% 9998900/9998900 [02:59&lt;00:00, 55722.32it/s]"
      }
     },
     "76112c88bfe5427c93913700fac2eee7": {
      "model_module": "@jupyter-widgets/controls",
      "model_module_version": "1.4.0",
      "model_name": "HBoxModel",
      "state": {
       "children": [
        "IPY_MODEL_3bb682eb77a444ba94f36499d4c681ca",
        "IPY_MODEL_45c2a119f99a4c8c9f2c01486950000c"
       ],
       "layout": "IPY_MODEL_e6d80ccdd0194244a32fb518f8f581d3"
      }
     },
     "7624f0dd13fb431d907dfff3116bccb3": {
      "model_module": "@jupyter-widgets/controls",
      "model_module_version": "1.4.0",
      "model_name": "IntProgressModel",
      "state": {
       "bar_style": "success",
       "layout": "IPY_MODEL_15246b6a33834c05b099c5c57747bf15",
       "max": 9998900,
       "style": "IPY_MODEL_a0761d66bbf24e1981606653b4f5860d",
       "value": 9998900
      }
     },
     "7647d4e9967b40f0a3169f1f6170089d": {
      "model_module": "@jupyter-widgets/controls",
      "model_module_version": "1.4.0",
      "model_name": "HTMLModel",
      "state": {
       "layout": "IPY_MODEL_b7f7d8fc7469445b8cedbac0ad6d07f0",
       "style": "IPY_MODEL_60dd366436c545df8abd79877110c60d",
       "value": "100% 9998900/9998900 [02:50&lt;00:00, 58700.72it/s]"
      }
     },
     "76500255baf84b8aa4ce55e681de3820": {
      "model_module": "@jupyter-widgets/controls",
      "model_module_version": "1.4.0",
      "model_name": "ProgressStyleModel",
      "state": {
       "description_width": ""
      }
     },
     "76632b13be1c40c580f2aea062378424": {
      "model_module": "@jupyter-widgets/base",
      "model_module_version": "1.1.0",
      "model_name": "LayoutModel",
      "state": {}
     },
     "7690f6c9d80843b199c0fcd9353b33c5": {
      "model_module": "@jupyter-widgets/controls",
      "model_module_version": "1.4.0",
      "model_name": "HBoxModel",
      "state": {
       "children": [
        "IPY_MODEL_fda262aa117047cfa71c684a1d56aae3",
        "IPY_MODEL_aa43dcec95d444768158960ec10a3706"
       ],
       "layout": "IPY_MODEL_87b4ea5403f646c2a4f5218fc61fd75a"
      }
     },
     "769af1a3dbaf4b65bf3659e758486ffa": {
      "model_module": "@jupyter-widgets/base",
      "model_module_version": "1.1.0",
      "model_name": "LayoutModel",
      "state": {}
     },
     "76a5330c72864160a47367aad0d0087f": {
      "model_module": "@jupyter-widgets/controls",
      "model_module_version": "1.4.0",
      "model_name": "HBoxModel",
      "state": {
       "children": [
        "IPY_MODEL_9dd72521f1784fac85aabc57d275cc31",
        "IPY_MODEL_2267eb61a70f4a01a21aa90cc78b1d88"
       ],
       "layout": "IPY_MODEL_efe3a6be12bd4d0bae619df3e87fa29f"
      }
     },
     "76e37002b93347bd8d5052aa56b458f7": {
      "model_module": "@jupyter-widgets/base",
      "model_module_version": "1.1.0",
      "model_name": "LayoutModel",
      "state": {}
     },
     "775f7ea5a07d4e9e89e4e693f30776e0": {
      "model_module": "@jupyter-widgets/base",
      "model_module_version": "1.1.0",
      "model_name": "LayoutModel",
      "state": {}
     },
     "776cb394eaf04c77b4819df848933f15": {
      "model_module": "@jupyter-widgets/base",
      "model_module_version": "1.1.0",
      "model_name": "LayoutModel",
      "state": {}
     },
     "77712fde1d424bfab27c11f94ab8dfaf": {
      "model_module": "@jupyter-widgets/controls",
      "model_module_version": "1.4.0",
      "model_name": "DescriptionStyleModel",
      "state": {
       "description_width": ""
      }
     },
     "77969968735a417092bbbebe765e613a": {
      "model_module": "@jupyter-widgets/controls",
      "model_module_version": "1.4.0",
      "model_name": "ProgressStyleModel",
      "state": {
       "description_width": ""
      }
     },
     "77ccfbdbf8344c07a3a25a6568a8c444": {
      "model_module": "@jupyter-widgets/controls",
      "model_module_version": "1.4.0",
      "model_name": "ProgressStyleModel",
      "state": {
       "description_width": ""
      }
     },
     "77df9432a7f6492d89d88087bfaeac20": {
      "model_module": "@jupyter-widgets/controls",
      "model_module_version": "1.4.0",
      "model_name": "ProgressStyleModel",
      "state": {
       "description_width": ""
      }
     },
     "784cbf4a70594c99a1d52ad48136b825": {
      "model_module": "@jupyter-widgets/controls",
      "model_module_version": "1.4.0",
      "model_name": "DescriptionStyleModel",
      "state": {
       "description_width": ""
      }
     },
     "7853087520b149b1b126474438db8b18": {
      "model_module": "@jupyter-widgets/base",
      "model_module_version": "1.1.0",
      "model_name": "LayoutModel",
      "state": {}
     },
     "7861f9c72a724e37af5fcf972c83a51e": {
      "model_module": "@jupyter-widgets/controls",
      "model_module_version": "1.4.0",
      "model_name": "HTMLModel",
      "state": {
       "layout": "IPY_MODEL_135a411e2f9549e59319f4629544c556",
       "style": "IPY_MODEL_dc2ea40ded4f49f3b088c231ef89e7b4",
       "value": "100% 9998900/9998900 [02:44&lt;00:00, 60872.88it/s]"
      }
     },
     "7895f5e5adda464ebaedb94cf4356545": {
      "model_module": "@jupyter-widgets/controls",
      "model_module_version": "1.4.0",
      "model_name": "HTMLModel",
      "state": {
       "layout": "IPY_MODEL_2f239fcc873740db821f05a3082f70bb",
       "style": "IPY_MODEL_7b7050fdff854d3f86e71dc716af6428",
       "value": "100% 9998900/9998900 [02:29&lt;00:00, 66982.25it/s]"
      }
     },
     "7897c7ee9c46434680eada114c9baed9": {
      "model_module": "@jupyter-widgets/controls",
      "model_module_version": "1.4.0",
      "model_name": "IntProgressModel",
      "state": {
       "bar_style": "success",
       "layout": "IPY_MODEL_202211b9701047d89b41ccacba23a889",
       "max": 9998900,
       "style": "IPY_MODEL_dd52bde280f5462c8dac8084980d071a",
       "value": 9998900
      }
     },
     "78ba69cdfe854e4d9bdd511120b970b5": {
      "model_module": "@jupyter-widgets/controls",
      "model_module_version": "1.4.0",
      "model_name": "IntProgressModel",
      "state": {
       "bar_style": "success",
       "layout": "IPY_MODEL_6bbf6c25a6dc4248975633b6cf80e5fa",
       "max": 9998900,
       "style": "IPY_MODEL_c85e8f11f60b43188fa383e4c98d5a82",
       "value": 9998900
      }
     },
     "792ea36e9d084fd988c37feb242ddda3": {
      "model_module": "@jupyter-widgets/controls",
      "model_module_version": "1.4.0",
      "model_name": "DescriptionStyleModel",
      "state": {
       "description_width": ""
      }
     },
     "797498d97a1243f2a7e37dd8918d72c3": {
      "model_module": "@jupyter-widgets/controls",
      "model_module_version": "1.4.0",
      "model_name": "IntProgressModel",
      "state": {
       "bar_style": "success",
       "layout": "IPY_MODEL_5fe464bff93b4782975e50a132775ffd",
       "max": 9998900,
       "style": "IPY_MODEL_7997e2125ddf43ddb12b7f0bfce3cd8d",
       "value": 9998900
      }
     },
     "7997e2125ddf43ddb12b7f0bfce3cd8d": {
      "model_module": "@jupyter-widgets/controls",
      "model_module_version": "1.4.0",
      "model_name": "ProgressStyleModel",
      "state": {
       "description_width": ""
      }
     },
     "79a207c20d52449496f278724b40872f": {
      "model_module": "@jupyter-widgets/controls",
      "model_module_version": "1.4.0",
      "model_name": "DescriptionStyleModel",
      "state": {
       "description_width": ""
      }
     },
     "7a355377e93e46b8a9e7e3165c8c0182": {
      "model_module": "@jupyter-widgets/controls",
      "model_module_version": "1.4.0",
      "model_name": "DescriptionStyleModel",
      "state": {
       "description_width": ""
      }
     },
     "7a45999cfe6149c898d5d6ddf84f5b10": {
      "model_module": "@jupyter-widgets/controls",
      "model_module_version": "1.4.0",
      "model_name": "HTMLModel",
      "state": {
       "layout": "IPY_MODEL_a65a1c10c79d457bb57c69ba71f5a518",
       "style": "IPY_MODEL_46f1299614bc44e7aaf76d1b6d0a70e2",
       "value": "100% 9998900/9998900 [02:45&lt;00:00, 60318.37it/s]"
      }
     },
     "7a5667fe11314ac2872c1ee0ef213d23": {
      "model_module": "@jupyter-widgets/base",
      "model_module_version": "1.1.0",
      "model_name": "LayoutModel",
      "state": {}
     },
     "7ad425305969425799e6242a9b2a595b": {
      "model_module": "@jupyter-widgets/base",
      "model_module_version": "1.1.0",
      "model_name": "LayoutModel",
      "state": {}
     },
     "7ae09a64dd38425c95caa58d41337f03": {
      "model_module": "@jupyter-widgets/controls",
      "model_module_version": "1.4.0",
      "model_name": "HBoxModel",
      "state": {
       "children": [
        "IPY_MODEL_686408fdd5ef4a67845158d899d7c8da",
        "IPY_MODEL_c8291b0ef308471a92fad46322c6dec8"
       ],
       "layout": "IPY_MODEL_82831243f01c42c9a734c54ed31ff8b2"
      }
     },
     "7b109f6f0b6446d99a09b712d7e4860d": {
      "model_module": "@jupyter-widgets/base",
      "model_module_version": "1.1.0",
      "model_name": "LayoutModel",
      "state": {}
     },
     "7b1b4706c8a04fd4afd3f6d4122ad851": {
      "model_module": "@jupyter-widgets/controls",
      "model_module_version": "1.4.0",
      "model_name": "HBoxModel",
      "state": {
       "children": [
        "IPY_MODEL_1b1392e426ff4001864d421dbb65e5e8",
        "IPY_MODEL_bde1bebbf65b4a55af662bd83603fb49"
       ],
       "layout": "IPY_MODEL_957c3cd059cf411aafc13a082dbd4294"
      }
     },
     "7b1ce4e9a7734ccd8c50c192475fc227": {
      "model_module": "@jupyter-widgets/controls",
      "model_module_version": "1.4.0",
      "model_name": "DescriptionStyleModel",
      "state": {
       "description_width": ""
      }
     },
     "7b1e5e6a13264745a56b97e291254a0e": {
      "model_module": "@jupyter-widgets/controls",
      "model_module_version": "1.4.0",
      "model_name": "HBoxModel",
      "state": {
       "children": [
        "IPY_MODEL_0725b155a3544ff9a4d4c815052a3d1d",
        "IPY_MODEL_d8f2574468214553a5a7e6a5d163d0f9"
       ],
       "layout": "IPY_MODEL_ee2ab0e113d3482db6100b7a47a275f3"
      }
     },
     "7b309f3c9bc648d189a03fa695d13da2": {
      "model_module": "@jupyter-widgets/controls",
      "model_module_version": "1.4.0",
      "model_name": "HBoxModel",
      "state": {
       "children": [
        "IPY_MODEL_72a8299e94ad4e0ab722fb3423da0083",
        "IPY_MODEL_c44a88320d15446cb6279e3f8e91d129"
       ],
       "layout": "IPY_MODEL_21e2bf533c514bfeaa9f494ce153c696"
      }
     },
     "7b7050fdff854d3f86e71dc716af6428": {
      "model_module": "@jupyter-widgets/controls",
      "model_module_version": "1.4.0",
      "model_name": "DescriptionStyleModel",
      "state": {
       "description_width": ""
      }
     },
     "7ba1feac5e2942cd981f7e2600d4021d": {
      "model_module": "@jupyter-widgets/base",
      "model_module_version": "1.1.0",
      "model_name": "LayoutModel",
      "state": {}
     },
     "7bbec0169f5040ec8b3c77cd2a6016f3": {
      "model_module": "@jupyter-widgets/controls",
      "model_module_version": "1.4.0",
      "model_name": "HBoxModel",
      "state": {
       "children": [
        "IPY_MODEL_56310644e1354462a394424f48f6a040",
        "IPY_MODEL_2329adefd8ef4b78940ac80a8bf37d4b"
       ],
       "layout": "IPY_MODEL_90d3af167ade4ed698cc4c6547be839a"
      }
     },
     "7c44887bdc884961aa767ab939521fd0": {
      "model_module": "@jupyter-widgets/base",
      "model_module_version": "1.1.0",
      "model_name": "LayoutModel",
      "state": {}
     },
     "7c75bfda40ef4dcd82673ea36ec3bc86": {
      "model_module": "@jupyter-widgets/base",
      "model_module_version": "1.1.0",
      "model_name": "LayoutModel",
      "state": {}
     },
     "7c8acacb2d334e8b8f188f462031b14e": {
      "model_module": "@jupyter-widgets/base",
      "model_module_version": "1.1.0",
      "model_name": "LayoutModel",
      "state": {}
     },
     "7cdb5bbcf9204c5f9b0b10549eb5954c": {
      "model_module": "@jupyter-widgets/controls",
      "model_module_version": "1.4.0",
      "model_name": "HBoxModel",
      "state": {
       "children": [
        "IPY_MODEL_84e049c0df6c40148406314251dd3dd7",
        "IPY_MODEL_722d34b5cb5e4e7d8d672b296f59edd9"
       ],
       "layout": "IPY_MODEL_2800e26d76ad40f3a3cba47da6f3c3b1"
      }
     },
     "7deb628f904e4fe08b1c34231c3b314d": {
      "model_module": "@jupyter-widgets/base",
      "model_module_version": "1.1.0",
      "model_name": "LayoutModel",
      "state": {}
     },
     "7e26996f1c1e4c5f9ad3242905f96077": {
      "model_module": "@jupyter-widgets/base",
      "model_module_version": "1.1.0",
      "model_name": "LayoutModel",
      "state": {}
     },
     "7e987a9fabf2412bbff24be3be5a4c8e": {
      "model_module": "@jupyter-widgets/controls",
      "model_module_version": "1.4.0",
      "model_name": "HTMLModel",
      "state": {
       "layout": "IPY_MODEL_c95397ed0d9547d4a784d467dce25467",
       "style": "IPY_MODEL_d2b700f60838410fbadc9a2381221a85",
       "value": "100% 9998900/9998900 [02:43&lt;00:00, 61320.03it/s]"
      }
     },
     "7eb305fe5f154f659299f8bcb38558b8": {
      "model_module": "@jupyter-widgets/base",
      "model_module_version": "1.1.0",
      "model_name": "LayoutModel",
      "state": {}
     },
     "7eec626576c14db18a9c650a35ee74dc": {
      "model_module": "@jupyter-widgets/controls",
      "model_module_version": "1.4.0",
      "model_name": "HBoxModel",
      "state": {
       "children": [
        "IPY_MODEL_bc2d0fb7d883466fb3fbbdb284fa847a",
        "IPY_MODEL_85b4a16402db4191800bfaeb803010cd"
       ],
       "layout": "IPY_MODEL_1be5dcf152a14ebe8261deb7ca0a4e67"
      }
     },
     "7efcb8dc6d23433887a96bcc6e3de495": {
      "model_module": "@jupyter-widgets/controls",
      "model_module_version": "1.4.0",
      "model_name": "IntProgressModel",
      "state": {
       "bar_style": "success",
       "layout": "IPY_MODEL_1289bcdbdc3d42b8bfea9a211b3fbb17",
       "max": 9998900,
       "style": "IPY_MODEL_c2af6442afbe414c8b2cdea40c7aa16f",
       "value": 9998900
      }
     },
     "7f397e592be74b66997c6376665a363f": {
      "model_module": "@jupyter-widgets/base",
      "model_module_version": "1.1.0",
      "model_name": "LayoutModel",
      "state": {}
     },
     "7f4df700699c465a9280ae95b5e9a4fa": {
      "model_module": "@jupyter-widgets/controls",
      "model_module_version": "1.4.0",
      "model_name": "IntProgressModel",
      "state": {
       "bar_style": "success",
       "layout": "IPY_MODEL_a1e1a414608c4ad28e71595211e8e1ad",
       "max": 9998900,
       "style": "IPY_MODEL_d007ebc7a9614b6f829864e9aa3dfbc7",
       "value": 9998900
      }
     },
     "7f6e4041574a439eb7c428f35399adda": {
      "model_module": "@jupyter-widgets/controls",
      "model_module_version": "1.4.0",
      "model_name": "IntProgressModel",
      "state": {
       "bar_style": "success",
       "layout": "IPY_MODEL_db522fde9d2e43de874b3b98d44a9b34",
       "max": 9998900,
       "style": "IPY_MODEL_5fc9e68574d046f18fc1a2af1a67ff1f",
       "value": 9998900
      }
     },
     "7f76c9b53db449cfa091f3e7bb246cb9": {
      "model_module": "@jupyter-widgets/controls",
      "model_module_version": "1.4.0",
      "model_name": "HTMLModel",
      "state": {
       "layout": "IPY_MODEL_e5f5c83812e34c93af5a5fe45524a3bf",
       "style": "IPY_MODEL_f18c59a0bfb54a0b9b14f61eb5f2e22b",
       "value": "100% 9998900/9998900 [02:25&lt;00:00, 68793.29it/s]"
      }
     },
     "7f915046bb7945e78c2c5dd590a0747b": {
      "model_module": "@jupyter-widgets/base",
      "model_module_version": "1.1.0",
      "model_name": "LayoutModel",
      "state": {}
     },
     "7fb746fbfe3d4a9aa1840a73cc659630": {
      "model_module": "@jupyter-widgets/controls",
      "model_module_version": "1.4.0",
      "model_name": "IntProgressModel",
      "state": {
       "bar_style": "success",
       "layout": "IPY_MODEL_12603a29a3304a0e93d3f51be076a75d",
       "max": 9998900,
       "style": "IPY_MODEL_31a36f574b9a4de0add43fa45590050b",
       "value": 9998900
      }
     },
     "7fb935c953954affb4bff5207f6e550c": {
      "model_module": "@jupyter-widgets/base",
      "model_module_version": "1.1.0",
      "model_name": "LayoutModel",
      "state": {}
     },
     "7fdaa618c4e742c18cedb0aaf23c79fa": {
      "model_module": "@jupyter-widgets/controls",
      "model_module_version": "1.4.0",
      "model_name": "ProgressStyleModel",
      "state": {
       "description_width": ""
      }
     },
     "8019729392ed47739d988f47e252a54a": {
      "model_module": "@jupyter-widgets/controls",
      "model_module_version": "1.4.0",
      "model_name": "DescriptionStyleModel",
      "state": {
       "description_width": ""
      }
     },
     "802e7b9fccfb4e6da62f955619dddb18": {
      "model_module": "@jupyter-widgets/base",
      "model_module_version": "1.1.0",
      "model_name": "LayoutModel",
      "state": {}
     },
     "8039fe39d5be4e368329b2b91c270c02": {
      "model_module": "@jupyter-widgets/controls",
      "model_module_version": "1.4.0",
      "model_name": "HBoxModel",
      "state": {
       "children": [
        "IPY_MODEL_c49e07d7439c465c87cd23e42cc2830d",
        "IPY_MODEL_f8df8846c67f49d5ba7d990e723ccae8"
       ],
       "layout": "IPY_MODEL_43a0b714cf20404c8a31ba0c9c135b2d"
      }
     },
     "80667ae8a677413c956ba55e2d2e6bd8": {
      "model_module": "@jupyter-widgets/controls",
      "model_module_version": "1.4.0",
      "model_name": "DescriptionStyleModel",
      "state": {
       "description_width": ""
      }
     },
     "806a7be738044457ae5158af926ca522": {
      "model_module": "@jupyter-widgets/controls",
      "model_module_version": "1.4.0",
      "model_name": "ProgressStyleModel",
      "state": {
       "description_width": ""
      }
     },
     "80844a0056d8481eaa64c091132c60e1": {
      "model_module": "@jupyter-widgets/controls",
      "model_module_version": "1.4.0",
      "model_name": "ProgressStyleModel",
      "state": {
       "description_width": ""
      }
     },
     "808b7258e8f6407f9db290da23015100": {
      "model_module": "@jupyter-widgets/controls",
      "model_module_version": "1.4.0",
      "model_name": "HBoxModel",
      "state": {
       "children": [
        "IPY_MODEL_0e37a8a15c234fec961a8fc76b9cef27",
        "IPY_MODEL_a2f4fe382f3e470d88ab6b559c2ea494"
       ],
       "layout": "IPY_MODEL_416164370baf4ef798470ef5d61f9cfa"
      }
     },
     "808ddd0b872f460281d6daafb5c9cf6e": {
      "model_module": "@jupyter-widgets/base",
      "model_module_version": "1.1.0",
      "model_name": "LayoutModel",
      "state": {}
     },
     "80ae9e60ca364bd49fb554db3e3fbfa7": {
      "model_module": "@jupyter-widgets/controls",
      "model_module_version": "1.4.0",
      "model_name": "DescriptionStyleModel",
      "state": {
       "description_width": ""
      }
     },
     "80f669f2e36b413a85064eb26985d34c": {
      "model_module": "@jupyter-widgets/controls",
      "model_module_version": "1.4.0",
      "model_name": "HBoxModel",
      "state": {
       "children": [
        "IPY_MODEL_9fab2b06cfeb441cbd5fed9c146bb585",
        "IPY_MODEL_a9a6c219ee214e889574b439d09d6444"
       ],
       "layout": "IPY_MODEL_860074c3c01d42c4b46b28a01e323387"
      }
     },
     "81178680469d4351a46c5d463da79a1c": {
      "model_module": "@jupyter-widgets/base",
      "model_module_version": "1.1.0",
      "model_name": "LayoutModel",
      "state": {}
     },
     "81b1252565644760b46a8c49181edfb0": {
      "model_module": "@jupyter-widgets/controls",
      "model_module_version": "1.4.0",
      "model_name": "ProgressStyleModel",
      "state": {
       "description_width": ""
      }
     },
     "81bb48948fb14f189d89cf1248b63594": {
      "model_module": "@jupyter-widgets/controls",
      "model_module_version": "1.4.0",
      "model_name": "HTMLModel",
      "state": {
       "layout": "IPY_MODEL_5243ef4dfd10441dae2cd86a33bf7ba3",
       "style": "IPY_MODEL_bfc758f64e434e92934769484d319582",
       "value": "100% 9998900/9998900 [02:50&lt;00:00, 58775.41it/s]"
      }
     },
     "81cca8c12cba4916b08855a620b20bdb": {
      "model_module": "@jupyter-widgets/controls",
      "model_module_version": "1.4.0",
      "model_name": "HTMLModel",
      "state": {
       "layout": "IPY_MODEL_deb395c16f664600a6cc64c1ceae7f30",
       "style": "IPY_MODEL_f4fba87dde36474b8967abf6500d6d45",
       "value": "100% 9998900/9998900 [02:52&lt;00:00, 58130.00it/s]"
      }
     },
     "81d7bb4b57fd486e8b17f373d2ae4cd6": {
      "model_module": "@jupyter-widgets/base",
      "model_module_version": "1.1.0",
      "model_name": "LayoutModel",
      "state": {}
     },
     "81de604d533d44e8aee2424fb0c70db0": {
      "model_module": "@jupyter-widgets/controls",
      "model_module_version": "1.4.0",
      "model_name": "HBoxModel",
      "state": {
       "children": [
        "IPY_MODEL_0f122b82b26247efadebd73127089ae4",
        "IPY_MODEL_7861f9c72a724e37af5fcf972c83a51e"
       ],
       "layout": "IPY_MODEL_1df72f9cf75d4caf91176d37eeed2fad"
      }
     },
     "821951fca7264b0cb10161b12657bfa3": {
      "model_module": "@jupyter-widgets/base",
      "model_module_version": "1.1.0",
      "model_name": "LayoutModel",
      "state": {}
     },
     "8260f2f1a2be4b01956efff4cf14f1f8": {
      "model_module": "@jupyter-widgets/controls",
      "model_module_version": "1.4.0",
      "model_name": "ProgressStyleModel",
      "state": {
       "description_width": ""
      }
     },
     "8279ae1f7bfc4cec8a4e348391631fc7": {
      "model_module": "@jupyter-widgets/controls",
      "model_module_version": "1.4.0",
      "model_name": "HTMLModel",
      "state": {
       "layout": "IPY_MODEL_0588fc4eeb4e4246bef1355928d83760",
       "style": "IPY_MODEL_8cdd8998f1c847018bdc9324dd5827a1",
       "value": "100% 9998900/9998900 [02:53&lt;00:00, 57539.68it/s]"
      }
     },
     "82831243f01c42c9a734c54ed31ff8b2": {
      "model_module": "@jupyter-widgets/base",
      "model_module_version": "1.1.0",
      "model_name": "LayoutModel",
      "state": {}
     },
     "82a7a121c7d64191beb6f704be90a823": {
      "model_module": "@jupyter-widgets/controls",
      "model_module_version": "1.4.0",
      "model_name": "HTMLModel",
      "state": {
       "layout": "IPY_MODEL_01833dd27299425b971dbb46b024d688",
       "style": "IPY_MODEL_d7157d4f94fa4a248f23c5e645a3c0f9",
       "value": "100% 9998900/9998900 [02:46&lt;00:00, 60132.10it/s]"
      }
     },
     "8314bb1d2c244ce6aaee46db26f2108d": {
      "model_module": "@jupyter-widgets/base",
      "model_module_version": "1.1.0",
      "model_name": "LayoutModel",
      "state": {}
     },
     "8331398ee580485aa5d961281d128ead": {
      "model_module": "@jupyter-widgets/controls",
      "model_module_version": "1.4.0",
      "model_name": "DescriptionStyleModel",
      "state": {
       "description_width": ""
      }
     },
     "83375040bed84de9a546751f4542885f": {
      "model_module": "@jupyter-widgets/base",
      "model_module_version": "1.1.0",
      "model_name": "LayoutModel",
      "state": {}
     },
     "835489aebf7247ac983d1b6eb9b3f2d4": {
      "model_module": "@jupyter-widgets/controls",
      "model_module_version": "1.4.0",
      "model_name": "HTMLModel",
      "state": {
       "layout": "IPY_MODEL_2de95e5e9fb74870b91c9e00f6476240",
       "style": "IPY_MODEL_8e1d019f852846eaa524ac5a3677d0e2",
       "value": "100% 9998900/9998900 [02:55&lt;00:00, 57055.32it/s]"
      }
     },
     "8376818fdbe44217b110c38cdbf7edcc": {
      "model_module": "@jupyter-widgets/base",
      "model_module_version": "1.1.0",
      "model_name": "LayoutModel",
      "state": {}
     },
     "8397515ef4374e489ec6c6cf29eb9957": {
      "model_module": "@jupyter-widgets/controls",
      "model_module_version": "1.4.0",
      "model_name": "IntProgressModel",
      "state": {
       "bar_style": "success",
       "layout": "IPY_MODEL_46461697c4344048b272e03d2da3d00b",
       "max": 9998900,
       "style": "IPY_MODEL_b086f6f833bd45ee867a5120be5f6bb5",
       "value": 9998900
      }
     },
     "83c6384cc2f145c9aad56bce7c3c204f": {
      "model_module": "@jupyter-widgets/controls",
      "model_module_version": "1.4.0",
      "model_name": "IntProgressModel",
      "state": {
       "bar_style": "success",
       "layout": "IPY_MODEL_aa773d9f30db40eeb1a95e41810bb28f",
       "max": 9998900,
       "style": "IPY_MODEL_98a2af92abef446797f765151ffde2c6",
       "value": 9998900
      }
     },
     "8441680d9c5f4d5db52548f6ceccd2c2": {
      "model_module": "@jupyter-widgets/controls",
      "model_module_version": "1.4.0",
      "model_name": "HBoxModel",
      "state": {
       "children": [
        "IPY_MODEL_99da7d0e273e4170a24f3a885e0fc833",
        "IPY_MODEL_56942ff82ccc41bfa8b539140e9fd819"
       ],
       "layout": "IPY_MODEL_f39370f4aa9a4d3cae2c491c1bbaae9e"
      }
     },
     "8450535030684e3cb4c6b21394861b23": {
      "model_module": "@jupyter-widgets/controls",
      "model_module_version": "1.4.0",
      "model_name": "ProgressStyleModel",
      "state": {
       "description_width": ""
      }
     },
     "8463d7ae78964739b37ce600fbc82e91": {
      "model_module": "@jupyter-widgets/controls",
      "model_module_version": "1.4.0",
      "model_name": "ProgressStyleModel",
      "state": {
       "description_width": ""
      }
     },
     "846ce0f4eaff48febc091af784c3abf8": {
      "model_module": "@jupyter-widgets/base",
      "model_module_version": "1.1.0",
      "model_name": "LayoutModel",
      "state": {}
     },
     "8479753c455542de890dd8bea4d6dd81": {
      "model_module": "@jupyter-widgets/controls",
      "model_module_version": "1.4.0",
      "model_name": "DescriptionStyleModel",
      "state": {
       "description_width": ""
      }
     },
     "84d4932ac4e74c0b83608e25080f218d": {
      "model_module": "@jupyter-widgets/base",
      "model_module_version": "1.1.0",
      "model_name": "LayoutModel",
      "state": {}
     },
     "84d93b2d2435475dbe268ce23d1380a3": {
      "model_module": "@jupyter-widgets/base",
      "model_module_version": "1.1.0",
      "model_name": "LayoutModel",
      "state": {}
     },
     "84db10b47dd24eb98ae6a88b6e129dbd": {
      "model_module": "@jupyter-widgets/controls",
      "model_module_version": "1.4.0",
      "model_name": "HBoxModel",
      "state": {
       "children": [
        "IPY_MODEL_55b3f35e48d74da5b8c0ef18b6019461",
        "IPY_MODEL_43e93004f58645e3b9159fd704e2edd1"
       ],
       "layout": "IPY_MODEL_a022ce16b50145e8ad55a6134bfe0716"
      }
     },
     "84e049c0df6c40148406314251dd3dd7": {
      "model_module": "@jupyter-widgets/controls",
      "model_module_version": "1.4.0",
      "model_name": "IntProgressModel",
      "state": {
       "bar_style": "success",
       "layout": "IPY_MODEL_5455c62d8968422787410ae7e97f6dd4",
       "style": "IPY_MODEL_8e37334699664e2ba84b74b0d563a3e9",
       "value": 100
      }
     },
     "854cc5037bc74d2dbeb4725e81c1136d": {
      "model_module": "@jupyter-widgets/base",
      "model_module_version": "1.1.0",
      "model_name": "LayoutModel",
      "state": {}
     },
     "8563bc6dbe9f4f07952f8ef04d7d060c": {
      "model_module": "@jupyter-widgets/controls",
      "model_module_version": "1.4.0",
      "model_name": "HTMLModel",
      "state": {
       "layout": "IPY_MODEL_b3b2f350067a4379b7d874de38d4c649",
       "style": "IPY_MODEL_792ea36e9d084fd988c37feb242ddda3",
       "value": "100% 9998900/9998900 [02:36&lt;00:00, 63928.50it/s]"
      }
     },
     "856a482c93ae435fae0afbd48846f657": {
      "model_module": "@jupyter-widgets/controls",
      "model_module_version": "1.4.0",
      "model_name": "DescriptionStyleModel",
      "state": {
       "description_width": ""
      }
     },
     "85b4a16402db4191800bfaeb803010cd": {
      "model_module": "@jupyter-widgets/controls",
      "model_module_version": "1.4.0",
      "model_name": "HTMLModel",
      "state": {
       "layout": "IPY_MODEL_69651a3c7430434fb05ec316f0dbd2af",
       "style": "IPY_MODEL_1b484c33a0054bbfa9dfd849d20b3705",
       "value": "100% 9998900/9998900 [02:51&lt;00:00, 58417.31it/s]"
      }
     },
     "85ee836bb0ba411ea65b529bd962c455": {
      "model_module": "@jupyter-widgets/controls",
      "model_module_version": "1.4.0",
      "model_name": "ProgressStyleModel",
      "state": {
       "description_width": ""
      }
     },
     "860074c3c01d42c4b46b28a01e323387": {
      "model_module": "@jupyter-widgets/base",
      "model_module_version": "1.1.0",
      "model_name": "LayoutModel",
      "state": {}
     },
     "860d85e5a57d4ad3a31f42cc7b9b03c0": {
      "model_module": "@jupyter-widgets/controls",
      "model_module_version": "1.4.0",
      "model_name": "IntProgressModel",
      "state": {
       "bar_style": "success",
       "layout": "IPY_MODEL_8d3a13f5656f4c1da921a5e6b78f0248",
       "max": 9998900,
       "style": "IPY_MODEL_b42423dd6bca4e229184c131acd19e62",
       "value": 9998900
      }
     },
     "867869a9a90740d3927ad176a38dc58f": {
      "model_module": "@jupyter-widgets/controls",
      "model_module_version": "1.4.0",
      "model_name": "HTMLModel",
      "state": {
       "layout": "IPY_MODEL_3ab3f5f6957a4d6c9914f80b3e6b1ced",
       "style": "IPY_MODEL_fe9994856dfa4cdca6853a714aef3cbd",
       "value": "100% 9998900/9998900 [02:58&lt;00:00, 55906.60it/s]"
      }
     },
     "868024e3efac41e2a8e7c4f0db6db0cc": {
      "model_module": "@jupyter-widgets/controls",
      "model_module_version": "1.4.0",
      "model_name": "HBoxModel",
      "state": {
       "children": [
        "IPY_MODEL_ada9a3d4e533479c9c3bae0d3f552ad7",
        "IPY_MODEL_de93d051aaa34f8ea579de3d2a9a7587"
       ],
       "layout": "IPY_MODEL_982456c3ce67426482831938a7f84dfd"
      }
     },
     "86890d41f73542b1b990653c14b6fe4d": {
      "model_module": "@jupyter-widgets/base",
      "model_module_version": "1.1.0",
      "model_name": "LayoutModel",
      "state": {}
     },
     "86b90184677743719011fcd938d03d8e": {
      "model_module": "@jupyter-widgets/base",
      "model_module_version": "1.1.0",
      "model_name": "LayoutModel",
      "state": {}
     },
     "86d1e9760e1a4410a4559f81b90ce728": {
      "model_module": "@jupyter-widgets/controls",
      "model_module_version": "1.4.0",
      "model_name": "IntProgressModel",
      "state": {
       "bar_style": "success",
       "layout": "IPY_MODEL_648f3d2765554f1998b4b6d7e13dfc44",
       "max": 9998900,
       "style": "IPY_MODEL_b23d0b902eae4f939e7005f6349d1076",
       "value": 9998900
      }
     },
     "86d7aa8bf3c74934aab62d51289fd57c": {
      "model_module": "@jupyter-widgets/base",
      "model_module_version": "1.1.0",
      "model_name": "LayoutModel",
      "state": {}
     },
     "86e3c1abc35640a9bf1a7bd369bb7c3c": {
      "model_module": "@jupyter-widgets/base",
      "model_module_version": "1.1.0",
      "model_name": "LayoutModel",
      "state": {}
     },
     "86fbd2d9e7ce4f6d95c048ccdd2ed0bc": {
      "model_module": "@jupyter-widgets/controls",
      "model_module_version": "1.4.0",
      "model_name": "IntProgressModel",
      "state": {
       "bar_style": "success",
       "layout": "IPY_MODEL_20d2e3c6c8354c2a878b112eefe71032",
       "max": 9998900,
       "style": "IPY_MODEL_c48334ca50b246f98830bfa2ce7a0435",
       "value": 9998900
      }
     },
     "87028ba167734fcfafc0062d49f8ad16": {
      "model_module": "@jupyter-widgets/controls",
      "model_module_version": "1.4.0",
      "model_name": "HTMLModel",
      "state": {
       "layout": "IPY_MODEL_6151bb8209ec41e7a82c5b5db8aacb67",
       "style": "IPY_MODEL_49352da64401480994a4c1056ddcfcd4",
       "value": "100% 9998900/9998900 [02:43&lt;00:00, 61227.19it/s]"
      }
     },
     "870a9d8fb92147f3914397ef549ef042": {
      "model_module": "@jupyter-widgets/controls",
      "model_module_version": "1.4.0",
      "model_name": "HBoxModel",
      "state": {
       "children": [
        "IPY_MODEL_1fc448f25ff342dba0d2a5d837b496e4",
        "IPY_MODEL_b16f06bcc15f44d681546d9691bb3e14"
       ],
       "layout": "IPY_MODEL_a27b5c80d84c4b3eb519f553bdff6601"
      }
     },
     "872a7aa0eee742b3b8ec82ee1fb110fa": {
      "model_module": "@jupyter-widgets/controls",
      "model_module_version": "1.4.0",
      "model_name": "HTMLModel",
      "state": {
       "layout": "IPY_MODEL_f6eb70633008474caad10fd3afce0641",
       "style": "IPY_MODEL_eab3bfc8571c4150b5b5e2ed427f2747",
       "value": "100% 9998900/9998900 [02:51&lt;00:00, 58279.23it/s]"
      }
     },
     "873604ea737245ac8e65be86c2774599": {
      "model_module": "@jupyter-widgets/controls",
      "model_module_version": "1.4.0",
      "model_name": "HBoxModel",
      "state": {
       "children": [
        "IPY_MODEL_0bffc253b95c41dca9a5bda218fa9f5c",
        "IPY_MODEL_82a7a121c7d64191beb6f704be90a823"
       ],
       "layout": "IPY_MODEL_b1531ff0ed194c6cbf94007f0310e8e1"
      }
     },
     "874a746a3fdc4b64b94760db89e06608": {
      "model_module": "@jupyter-widgets/controls",
      "model_module_version": "1.4.0",
      "model_name": "IntProgressModel",
      "state": {
       "bar_style": "success",
       "layout": "IPY_MODEL_5b02f168eb784c9b85dca9d7b8d47808",
       "max": 9998900,
       "style": "IPY_MODEL_1a5244168abc4865af73def40e6dc859",
       "value": 9998900
      }
     },
     "87868c09e0574037987a28247fca0d8b": {
      "model_module": "@jupyter-widgets/base",
      "model_module_version": "1.1.0",
      "model_name": "LayoutModel",
      "state": {}
     },
     "8790ac35384d4ce1ae0059f6a47babd2": {
      "model_module": "@jupyter-widgets/base",
      "model_module_version": "1.1.0",
      "model_name": "LayoutModel",
      "state": {}
     },
     "87b4ea5403f646c2a4f5218fc61fd75a": {
      "model_module": "@jupyter-widgets/base",
      "model_module_version": "1.1.0",
      "model_name": "LayoutModel",
      "state": {}
     },
     "87da699eae7b431cb78a99590e143338": {
      "model_module": "@jupyter-widgets/controls",
      "model_module_version": "1.4.0",
      "model_name": "ProgressStyleModel",
      "state": {
       "description_width": ""
      }
     },
     "881a97d2327b4b3f8e7a1d4314bf4837": {
      "model_module": "@jupyter-widgets/base",
      "model_module_version": "1.1.0",
      "model_name": "LayoutModel",
      "state": {}
     },
     "8849b4bd50be434faaa85f6d3310a27a": {
      "model_module": "@jupyter-widgets/controls",
      "model_module_version": "1.4.0",
      "model_name": "ProgressStyleModel",
      "state": {
       "description_width": ""
      }
     },
     "8856fe3895ed4f9ebbe4c6143828bd60": {
      "model_module": "@jupyter-widgets/controls",
      "model_module_version": "1.4.0",
      "model_name": "HTMLModel",
      "state": {
       "layout": "IPY_MODEL_ede7a9b94ecf44fda716ea0016e46613",
       "style": "IPY_MODEL_dce094db26c54c32b281987321486630",
       "value": "100% 9998900/9998900 [02:48&lt;00:00, 59476.71it/s]"
      }
     },
     "88b7a89b152c4735abf92530812340b8": {
      "model_module": "@jupyter-widgets/controls",
      "model_module_version": "1.4.0",
      "model_name": "IntProgressModel",
      "state": {
       "bar_style": "success",
       "layout": "IPY_MODEL_a3ae659de5f944a882cb7a3af40d4b91",
       "max": 9998900,
       "style": "IPY_MODEL_58698b87e3754fab8eb9ffe405c0d87c",
       "value": 9998900
      }
     },
     "88c720a650df4b8598e9ad4fd4f51fff": {
      "model_module": "@jupyter-widgets/base",
      "model_module_version": "1.1.0",
      "model_name": "LayoutModel",
      "state": {}
     },
     "88c89002be514b1ebce104156d8f0cfe": {
      "model_module": "@jupyter-widgets/base",
      "model_module_version": "1.1.0",
      "model_name": "LayoutModel",
      "state": {}
     },
     "88f55ad372164d2e94baf7fd6767c30a": {
      "model_module": "@jupyter-widgets/base",
      "model_module_version": "1.1.0",
      "model_name": "LayoutModel",
      "state": {}
     },
     "88fdf9162b574bc59c44ec520fe18273": {
      "model_module": "@jupyter-widgets/controls",
      "model_module_version": "1.4.0",
      "model_name": "IntProgressModel",
      "state": {
       "bar_style": "success",
       "layout": "IPY_MODEL_0d4f87e65c2b48daaa32ee6b1ffe70f5",
       "max": 1,
       "style": "IPY_MODEL_ff2e3a77743b495c8ab5b8c182728f26",
       "value": 1
      }
     },
     "890b5473fb4840d6848ab49f27845c62": {
      "model_module": "@jupyter-widgets/controls",
      "model_module_version": "1.4.0",
      "model_name": "DescriptionStyleModel",
      "state": {
       "description_width": ""
      }
     },
     "891cc139866b492f80e96e493e0b16c9": {
      "model_module": "@jupyter-widgets/controls",
      "model_module_version": "1.4.0",
      "model_name": "HTMLModel",
      "state": {
       "layout": "IPY_MODEL_33c02a89d12a4bb3a74ed2c69641db89",
       "style": "IPY_MODEL_34e796ff80ee49f6bb8b4bee966673a3",
       "value": "100% 9998900/9998900 [02:41&lt;00:00, 61944.29it/s]"
      }
     },
     "891f9cbd2acb46efbd479d0e602f0b8e": {
      "model_module": "@jupyter-widgets/controls",
      "model_module_version": "1.4.0",
      "model_name": "HTMLModel",
      "state": {
       "layout": "IPY_MODEL_7b109f6f0b6446d99a09b712d7e4860d",
       "style": "IPY_MODEL_15275ea11d0e403ba197de7667a58b41",
       "value": "100% 9998900/9998900 [02:48&lt;00:00, 59309.92it/s]"
      }
     },
     "8922d8d7b13444bca4911ff9a2ef02a7": {
      "model_module": "@jupyter-widgets/base",
      "model_module_version": "1.1.0",
      "model_name": "LayoutModel",
      "state": {}
     },
     "8952c97eefe147e6888537e96ab4604a": {
      "model_module": "@jupyter-widgets/base",
      "model_module_version": "1.1.0",
      "model_name": "LayoutModel",
      "state": {}
     },
     "896dd8697fdc407d886232b444677bd4": {
      "model_module": "@jupyter-widgets/controls",
      "model_module_version": "1.4.0",
      "model_name": "IntProgressModel",
      "state": {
       "bar_style": "success",
       "layout": "IPY_MODEL_9d8e513495f141f0bb4bf75574597e35",
       "max": 9998900,
       "style": "IPY_MODEL_df98d3d6b7d54abb9c7b986a1b1ac5e4",
       "value": 9998900
      }
     },
     "898ebe499a0141819650e8f8380ccaaa": {
      "model_module": "@jupyter-widgets/controls",
      "model_module_version": "1.4.0",
      "model_name": "ProgressStyleModel",
      "state": {
       "description_width": ""
      }
     },
     "8a1989eaa69f42809f12c85e82321912": {
      "model_module": "@jupyter-widgets/controls",
      "model_module_version": "1.4.0",
      "model_name": "IntProgressModel",
      "state": {
       "bar_style": "success",
       "layout": "IPY_MODEL_8ca40e05fcba491d8850ca72fa6eea67",
       "max": 9998900,
       "style": "IPY_MODEL_e024da6806804779957a544f335f9d1a",
       "value": 9998900
      }
     },
     "8a7ca9d5427644a291b5eea959837fe3": {
      "model_module": "@jupyter-widgets/controls",
      "model_module_version": "1.4.0",
      "model_name": "HTMLModel",
      "state": {
       "layout": "IPY_MODEL_d5b4e41a48f54ffaa3e1581ae42d87b3",
       "style": "IPY_MODEL_6fb1655a40bc444783ac3bbcd6c6af9f",
       "value": "100% 9998900/9998900 [02:46&lt;00:00, 59923.90it/s]"
      }
     },
     "8aba01158d7541cfa801d022b63c8357": {
      "model_module": "@jupyter-widgets/controls",
      "model_module_version": "1.4.0",
      "model_name": "IntProgressModel",
      "state": {
       "bar_style": "success",
       "layout": "IPY_MODEL_cf89b21a69ea4c139474c8c3850430d9",
       "max": 9998900,
       "style": "IPY_MODEL_4f250816e87f4bca8d395953a1ae82a4",
       "value": 9998900
      }
     },
     "8ada5090ec034355b85f5d0071415c52": {
      "model_module": "@jupyter-widgets/base",
      "model_module_version": "1.1.0",
      "model_name": "LayoutModel",
      "state": {}
     },
     "8adbc743479a4e12a478d1e89374c00f": {
      "model_module": "@jupyter-widgets/controls",
      "model_module_version": "1.4.0",
      "model_name": "IntProgressModel",
      "state": {
       "bar_style": "success",
       "layout": "IPY_MODEL_238c18cedf51415fbe88eaea316f4ff1",
       "max": 9998900,
       "style": "IPY_MODEL_c54a5aa9a4bd4369977c353644c273fd",
       "value": 9998900
      }
     },
     "8aee664cbf6748cf89915d30be72804c": {
      "model_module": "@jupyter-widgets/base",
      "model_module_version": "1.1.0",
      "model_name": "LayoutModel",
      "state": {}
     },
     "8af3159651754f37ba3fc2ffc3df0c0f": {
      "model_module": "@jupyter-widgets/controls",
      "model_module_version": "1.4.0",
      "model_name": "ProgressStyleModel",
      "state": {
       "description_width": ""
      }
     },
     "8af8da20f3dc49e18a1289d864bbd382": {
      "model_module": "@jupyter-widgets/controls",
      "model_module_version": "1.4.0",
      "model_name": "HBoxModel",
      "state": {
       "children": [
        "IPY_MODEL_83c6384cc2f145c9aad56bce7c3c204f",
        "IPY_MODEL_934be4b0937d47f3b11675901e71c635"
       ],
       "layout": "IPY_MODEL_090da9e2681c467db05d2cbb60e1504e"
      }
     },
     "8b11a411635f4ad68798479deb78e83a": {
      "model_module": "@jupyter-widgets/base",
      "model_module_version": "1.1.0",
      "model_name": "LayoutModel",
      "state": {}
     },
     "8b1b84a8ad6b48e79621dbe8563c0681": {
      "model_module": "@jupyter-widgets/controls",
      "model_module_version": "1.4.0",
      "model_name": "HBoxModel",
      "state": {
       "children": [
        "IPY_MODEL_e04c2216b4ad421a8fdc17bfc1a60032",
        "IPY_MODEL_47262bdb06fb45358eea3d400b5a6b98"
       ],
       "layout": "IPY_MODEL_76632b13be1c40c580f2aea062378424"
      }
     },
     "8b6c3711f04143cca7f09109e2ab96ae": {
      "model_module": "@jupyter-widgets/base",
      "model_module_version": "1.1.0",
      "model_name": "LayoutModel",
      "state": {}
     },
     "8b76b9761d12408eafce264f8370d1b2": {
      "model_module": "@jupyter-widgets/controls",
      "model_module_version": "1.4.0",
      "model_name": "IntProgressModel",
      "state": {
       "bar_style": "success",
       "layout": "IPY_MODEL_90c15cfed82e4167b8f128c2025164f8",
       "max": 9998900,
       "style": "IPY_MODEL_8450535030684e3cb4c6b21394861b23",
       "value": 9998900
      }
     },
     "8b85d767b5744e3f94770f6788b04787": {
      "model_module": "@jupyter-widgets/base",
      "model_module_version": "1.1.0",
      "model_name": "LayoutModel",
      "state": {}
     },
     "8bafa725a66b4ca5bb54b008dbf6ad86": {
      "model_module": "@jupyter-widgets/controls",
      "model_module_version": "1.4.0",
      "model_name": "IntProgressModel",
      "state": {
       "bar_style": "success",
       "layout": "IPY_MODEL_e1df253ad8bc4ecba8289722e89d08e4",
       "max": 9998900,
       "style": "IPY_MODEL_2d97fbbdce664fad833c0b8c36d8b13d",
       "value": 9998900
      }
     },
     "8bbb51fb28c94373a51c52519904ccb9": {
      "model_module": "@jupyter-widgets/base",
      "model_module_version": "1.1.0",
      "model_name": "LayoutModel",
      "state": {}
     },
     "8bf79ed69f484f6a888ffaf5d561023a": {
      "model_module": "@jupyter-widgets/controls",
      "model_module_version": "1.4.0",
      "model_name": "HTMLModel",
      "state": {
       "layout": "IPY_MODEL_b1de8a94a39444e4ba74e628c23587f5",
       "style": "IPY_MODEL_7169783bddea456a82c0a9401b1e8437",
       "value": "100% 9998900/9998900 [02:51&lt;00:00, 58321.17it/s]"
      }
     },
     "8c1ee6b040704e14b4f2c77299902f4e": {
      "model_module": "@jupyter-widgets/base",
      "model_module_version": "1.1.0",
      "model_name": "LayoutModel",
      "state": {}
     },
     "8c25fc819a254d8082fe9b959fa7de3c": {
      "model_module": "@jupyter-widgets/base",
      "model_module_version": "1.1.0",
      "model_name": "LayoutModel",
      "state": {}
     },
     "8c7d1c6e4fae46b1a5eae22aa747d23a": {
      "model_module": "@jupyter-widgets/base",
      "model_module_version": "1.1.0",
      "model_name": "LayoutModel",
      "state": {}
     },
     "8ca40e05fcba491d8850ca72fa6eea67": {
      "model_module": "@jupyter-widgets/base",
      "model_module_version": "1.1.0",
      "model_name": "LayoutModel",
      "state": {}
     },
     "8ccc2f6568f24755a5aa252a0b611c64": {
      "model_module": "@jupyter-widgets/controls",
      "model_module_version": "1.4.0",
      "model_name": "HTMLModel",
      "state": {
       "layout": "IPY_MODEL_4f82a4e560d04165897a4d0b34f49b98",
       "style": "IPY_MODEL_6fd3636e97d24f4aaf86df9965eba2c8",
       "value": "100% 9998900/9998900 [02:54&lt;00:00, 57375.68it/s]"
      }
     },
     "8cdd8998f1c847018bdc9324dd5827a1": {
      "model_module": "@jupyter-widgets/controls",
      "model_module_version": "1.4.0",
      "model_name": "DescriptionStyleModel",
      "state": {
       "description_width": ""
      }
     },
     "8cf62793354d486ab12991d6f416b971": {
      "model_module": "@jupyter-widgets/controls",
      "model_module_version": "1.4.0",
      "model_name": "HBoxModel",
      "state": {
       "children": [
        "IPY_MODEL_cb145784433f432fab668d202f74a1e0",
        "IPY_MODEL_9ffa587b13dd4b13a8a3222ed6f2edb4"
       ],
       "layout": "IPY_MODEL_3c6126879bf349969e76946e3671e67f"
      }
     },
     "8cfd48e69f6148409bb0416aeb226985": {
      "model_module": "@jupyter-widgets/controls",
      "model_module_version": "1.4.0",
      "model_name": "DescriptionStyleModel",
      "state": {
       "description_width": ""
      }
     },
     "8d2f9f23218f4e008c009ef8e1a83e72": {
      "model_module": "@jupyter-widgets/controls",
      "model_module_version": "1.4.0",
      "model_name": "HTMLModel",
      "state": {
       "layout": "IPY_MODEL_d26453063aa34d4a9ca3f0c67efca6ad",
       "style": "IPY_MODEL_db21dd091c074d159b3f1f0d91e9a50d",
       "value": "100% 9998900/9998900 [02:51&lt;00:00, 58269.57it/s]"
      }
     },
     "8d3a13f5656f4c1da921a5e6b78f0248": {
      "model_module": "@jupyter-widgets/base",
      "model_module_version": "1.1.0",
      "model_name": "LayoutModel",
      "state": {}
     },
     "8d9e87a07ede454c8b0554832999b316": {
      "model_module": "@jupyter-widgets/controls",
      "model_module_version": "1.4.0",
      "model_name": "IntProgressModel",
      "state": {
       "bar_style": "success",
       "layout": "IPY_MODEL_92b7833a7e284f99baef797b8aea0aff",
       "max": 9998900,
       "style": "IPY_MODEL_aa9c22a5ff4b418781873c7b21ea57bd",
       "value": 9998900
      }
     },
     "8e1d019f852846eaa524ac5a3677d0e2": {
      "model_module": "@jupyter-widgets/controls",
      "model_module_version": "1.4.0",
      "model_name": "DescriptionStyleModel",
      "state": {
       "description_width": ""
      }
     },
     "8e300a2c14a94c78a350b3ee6f2d5f8d": {
      "model_module": "@jupyter-widgets/controls",
      "model_module_version": "1.4.0",
      "model_name": "IntProgressModel",
      "state": {
       "bar_style": "success",
       "layout": "IPY_MODEL_b638177c03374863813a1b13b5db0b02",
       "max": 9998900,
       "style": "IPY_MODEL_6323d40906974ca6af5fe26e32c2138c",
       "value": 9998900
      }
     },
     "8e34c44f4221413397f17f71bca1562f": {
      "model_module": "@jupyter-widgets/controls",
      "model_module_version": "1.4.0",
      "model_name": "IntProgressModel",
      "state": {
       "bar_style": "success",
       "layout": "IPY_MODEL_a57f2d8fe47e4069ac72997ab45a62f3",
       "max": 9998900,
       "style": "IPY_MODEL_77df9432a7f6492d89d88087bfaeac20",
       "value": 9998900
      }
     },
     "8e37334699664e2ba84b74b0d563a3e9": {
      "model_module": "@jupyter-widgets/controls",
      "model_module_version": "1.4.0",
      "model_name": "ProgressStyleModel",
      "state": {
       "description_width": ""
      }
     },
     "8e50e36888e94b0796557a15b2d13b4c": {
      "model_module": "@jupyter-widgets/controls",
      "model_module_version": "1.4.0",
      "model_name": "DescriptionStyleModel",
      "state": {
       "description_width": ""
      }
     },
     "8e7b71b049654dda8fe4e2d8e10f36e1": {
      "model_module": "@jupyter-widgets/controls",
      "model_module_version": "1.4.0",
      "model_name": "DescriptionStyleModel",
      "state": {
       "description_width": ""
      }
     },
     "8e8a593caca8484eb7f09ce4c79da56f": {
      "model_module": "@jupyter-widgets/controls",
      "model_module_version": "1.4.0",
      "model_name": "IntProgressModel",
      "state": {
       "bar_style": "success",
       "layout": "IPY_MODEL_535cd94e226b4921b66a2df45042e934",
       "max": 1,
       "style": "IPY_MODEL_62e507c1cd4942ddaa70df5df29ba5ef",
       "value": 1
      }
     },
     "8ece751109274ed7a8ec3bbf671e746d": {
      "model_module": "@jupyter-widgets/controls",
      "model_module_version": "1.4.0",
      "model_name": "HTMLModel",
      "state": {
       "layout": "IPY_MODEL_38f9e5140e714f749f8ac585089e63fa",
       "style": "IPY_MODEL_32d50a009c714d0caa24269bbac22351",
       "value": "100% 9998900/9998900 [03:04&lt;00:00, 54082.16it/s]"
      }
     },
     "8eda31b7519149f68f940236a3fd1b4f": {
      "model_module": "@jupyter-widgets/controls",
      "model_module_version": "1.4.0",
      "model_name": "DescriptionStyleModel",
      "state": {
       "description_width": ""
      }
     },
     "8f1afdb3f47647ed89a2c3111720eac9": {
      "model_module": "@jupyter-widgets/base",
      "model_module_version": "1.1.0",
      "model_name": "LayoutModel",
      "state": {}
     },
     "8f5b6a1e70b5465db281f474f2228fb2": {
      "model_module": "@jupyter-widgets/controls",
      "model_module_version": "1.4.0",
      "model_name": "IntProgressModel",
      "state": {
       "bar_style": "success",
       "layout": "IPY_MODEL_a33f605a065242d596e736c22c56f0b8",
       "max": 9998900,
       "style": "IPY_MODEL_09105e1d770e4938b949e7ce22c002fe",
       "value": 9998900
      }
     },
     "8f64d2fe2357426eb3f0d3ecb72b1abe": {
      "model_module": "@jupyter-widgets/controls",
      "model_module_version": "1.4.0",
      "model_name": "IntProgressModel",
      "state": {
       "bar_style": "success",
       "layout": "IPY_MODEL_5e8d6507f4ec4479ae5d3f32770a203c",
       "max": 9998900,
       "style": "IPY_MODEL_6b8b6f71efce464082e691ed0243b6d0",
       "value": 9998900
      }
     },
     "8f70001b5f0b4bed87ab0ce6e128aa65": {
      "model_module": "@jupyter-widgets/controls",
      "model_module_version": "1.4.0",
      "model_name": "HTMLModel",
      "state": {
       "layout": "IPY_MODEL_e9bc3b564a4949068053bb959b5819b3",
       "style": "IPY_MODEL_696daa43592342a1a6b17e9b8707ea20",
       "value": "1000001it [23:32, 707.86it/s]"
      }
     },
     "8f8d213194284e939f49afd936eea803": {
      "model_module": "@jupyter-widgets/controls",
      "model_module_version": "1.4.0",
      "model_name": "HBoxModel",
      "state": {
       "children": [
        "IPY_MODEL_fcf839a4df4e4b03bdd665f2c4dc2765",
        "IPY_MODEL_4547454009d34031a015845509a7015a"
       ],
       "layout": "IPY_MODEL_b15d6198994f4dd9b252f98e9890636c"
      }
     },
     "8fb064d9d2a84fc39a9af5c2711ad561": {
      "model_module": "@jupyter-widgets/base",
      "model_module_version": "1.1.0",
      "model_name": "LayoutModel",
      "state": {}
     },
     "8fcadab591ec405382d289034272f7dc": {
      "model_module": "@jupyter-widgets/controls",
      "model_module_version": "1.4.0",
      "model_name": "ProgressStyleModel",
      "state": {
       "description_width": ""
      }
     },
     "8fd9a37bedd94d75916971d9c2fd510a": {
      "model_module": "@jupyter-widgets/base",
      "model_module_version": "1.1.0",
      "model_name": "LayoutModel",
      "state": {}
     },
     "8fdbfff8bd7940878024722457e25ce5": {
      "model_module": "@jupyter-widgets/controls",
      "model_module_version": "1.4.0",
      "model_name": "HBoxModel",
      "state": {
       "children": [
        "IPY_MODEL_5566571f3ce94b3794ca3ebd0db782be",
        "IPY_MODEL_21c6eace37584692b9b3f35332b36beb"
       ],
       "layout": "IPY_MODEL_f5a5e2c1cde14293a3af6f93a6675cb6"
      }
     },
     "8ff3eedd414a4cc2b7a541c0e2af7a93": {
      "model_module": "@jupyter-widgets/controls",
      "model_module_version": "1.4.0",
      "model_name": "ProgressStyleModel",
      "state": {
       "description_width": ""
      }
     },
     "8ffcc750074a4a1388e8dd71da1c5483": {
      "model_module": "@jupyter-widgets/controls",
      "model_module_version": "1.4.0",
      "model_name": "DescriptionStyleModel",
      "state": {
       "description_width": ""
      }
     },
     "90774c4359474707ae20ffc80e6f85d9": {
      "model_module": "@jupyter-widgets/controls",
      "model_module_version": "1.4.0",
      "model_name": "HBoxModel",
      "state": {
       "children": [
        "IPY_MODEL_d129ba9994fa45f0a7677c1f2e8faa99",
        "IPY_MODEL_b329450ca1a2430381bc7d086e2395d0"
       ],
       "layout": "IPY_MODEL_17e3e3ca239e48f884896ee9b9ac6034"
      }
     },
     "9094e50a9b524f6aa14f30fcfa3c8a60": {
      "model_module": "@jupyter-widgets/controls",
      "model_module_version": "1.4.0",
      "model_name": "HBoxModel",
      "state": {
       "children": [
        "IPY_MODEL_5392ae5f61d6424f8d3a6bdc46d2cacb",
        "IPY_MODEL_c2e2e64ea1db4d77bcf3f07bbe424b0e"
       ],
       "layout": "IPY_MODEL_dc758f85779f44f3a46b42d9fbf46a69"
      }
     },
     "90c15cfed82e4167b8f128c2025164f8": {
      "model_module": "@jupyter-widgets/base",
      "model_module_version": "1.1.0",
      "model_name": "LayoutModel",
      "state": {}
     },
     "90cd0b13b27d400c9a2eec6d8cddd72f": {
      "model_module": "@jupyter-widgets/controls",
      "model_module_version": "1.4.0",
      "model_name": "HTMLModel",
      "state": {
       "layout": "IPY_MODEL_c50586c0283b4681b221ee0e359ce956",
       "style": "IPY_MODEL_384d71206fac493b8bcc5a286d9b521a",
       "value": "1000001it [23:53, 697.59it/s]"
      }
     },
     "90d0f6d24fa9446bb886855118b15b2c": {
      "model_module": "@jupyter-widgets/base",
      "model_module_version": "1.1.0",
      "model_name": "LayoutModel",
      "state": {}
     },
     "90d1b44820b24905afe709067bb44a45": {
      "model_module": "@jupyter-widgets/controls",
      "model_module_version": "1.4.0",
      "model_name": "HTMLModel",
      "state": {
       "layout": "IPY_MODEL_81178680469d4351a46c5d463da79a1c",
       "style": "IPY_MODEL_653af2198f424d05ab296965a37c85ed",
       "value": "100% 9998900/9998900 [02:44&lt;00:00, 60769.33it/s]"
      }
     },
     "90d3af167ade4ed698cc4c6547be839a": {
      "model_module": "@jupyter-widgets/base",
      "model_module_version": "1.1.0",
      "model_name": "LayoutModel",
      "state": {}
     },
     "91969f62f7b74842bbdecedfc78b21f1": {
      "model_module": "@jupyter-widgets/controls",
      "model_module_version": "1.4.0",
      "model_name": "HBoxModel",
      "state": {
       "children": [
        "IPY_MODEL_86d1e9760e1a4410a4559f81b90ce728",
        "IPY_MODEL_4b6bf83c6e814742a397a62f1c13a331"
       ],
       "layout": "IPY_MODEL_541b1f5f697b4508b9d63e13f20d3574"
      }
     },
     "927b607446044848ae9fed72a87a297e": {
      "model_module": "@jupyter-widgets/base",
      "model_module_version": "1.1.0",
      "model_name": "LayoutModel",
      "state": {}
     },
     "9293562f58094288942ffb40dcf38bac": {
      "model_module": "@jupyter-widgets/base",
      "model_module_version": "1.1.0",
      "model_name": "LayoutModel",
      "state": {}
     },
     "9294560fb9674dfd831b8793d7ea120a": {
      "model_module": "@jupyter-widgets/controls",
      "model_module_version": "1.4.0",
      "model_name": "IntProgressModel",
      "state": {
       "bar_style": "success",
       "layout": "IPY_MODEL_7ad425305969425799e6242a9b2a595b",
       "max": 9998900,
       "style": "IPY_MODEL_2c590e3dda43435793f65475ed9ae401",
       "value": 9998900
      }
     },
     "92aafb6c4b054bc99f2ea1bacfa1c390": {
      "model_module": "@jupyter-widgets/controls",
      "model_module_version": "1.4.0",
      "model_name": "HBoxModel",
      "state": {
       "children": [
        "IPY_MODEL_15e33b519372448a98793a47b42983af",
        "IPY_MODEL_d7335c7483334c6391cf4f68f74f7e97"
       ],
       "layout": "IPY_MODEL_698ef802fe164081b25bcb5e624e04f4"
      }
     },
     "92b7833a7e284f99baef797b8aea0aff": {
      "model_module": "@jupyter-widgets/base",
      "model_module_version": "1.1.0",
      "model_name": "LayoutModel",
      "state": {}
     },
     "92cf820f568e4dbca228768ea43801f0": {
      "model_module": "@jupyter-widgets/controls",
      "model_module_version": "1.4.0",
      "model_name": "HBoxModel",
      "state": {
       "children": [
        "IPY_MODEL_8e8a593caca8484eb7f09ce4c79da56f",
        "IPY_MODEL_e7f882c64848460e97579d2b84f0ddd7"
       ],
       "layout": "IPY_MODEL_48e613bae11a4a7d8019d12f645c5862"
      }
     },
     "9326619269e34f26a8e296435fba9661": {
      "model_module": "@jupyter-widgets/controls",
      "model_module_version": "1.4.0",
      "model_name": "IntProgressModel",
      "state": {
       "bar_style": "success",
       "layout": "IPY_MODEL_95b7523e1b9143848dd166b8f92b9b7a",
       "max": 9998900,
       "style": "IPY_MODEL_de432f3c77264dcb8f1981d7b3b9a5d4",
       "value": 9998900
      }
     },
     "933010ae0bd34500bd347b13fb1fd5ea": {
      "model_module": "@jupyter-widgets/controls",
      "model_module_version": "1.4.0",
      "model_name": "ProgressStyleModel",
      "state": {
       "description_width": ""
      }
     },
     "933b04c6437f4293aa30df2aede72ac2": {
      "model_module": "@jupyter-widgets/controls",
      "model_module_version": "1.4.0",
      "model_name": "HTMLModel",
      "state": {
       "layout": "IPY_MODEL_ef50346d99ae4f39964c9f81ffb3c1f0",
       "style": "IPY_MODEL_dad53fe4c89f4f0e84565cefc4ab2074",
       "value": "1000001it [22:35, 737.51it/s]"
      }
     },
     "933d5dc89f0843ddbc482ca2e3248240": {
      "model_module": "@jupyter-widgets/controls",
      "model_module_version": "1.4.0",
      "model_name": "HTMLModel",
      "state": {
       "layout": "IPY_MODEL_f46052c6edac4d0dbf38441647dbb3dc",
       "style": "IPY_MODEL_18485da899cd496384d94ec50cd90cd7",
       "value": "100% 9998900/9998900 [02:45&lt;00:00, 60379.23it/s]"
      }
     },
     "934be4b0937d47f3b11675901e71c635": {
      "model_module": "@jupyter-widgets/controls",
      "model_module_version": "1.4.0",
      "model_name": "HTMLModel",
      "state": {
       "layout": "IPY_MODEL_57f758243e67455488a9272124a288ad",
       "style": "IPY_MODEL_79a207c20d52449496f278724b40872f",
       "value": "100% 9998900/9998900 [02:36&lt;00:00, 64064.65it/s]"
      }
     },
     "9375ad638dd64363a6931701abf88ae2": {
      "model_module": "@jupyter-widgets/base",
      "model_module_version": "1.1.0",
      "model_name": "LayoutModel",
      "state": {}
     },
     "93af27be39b6411ea6a9a6ef6afb030c": {
      "model_module": "@jupyter-widgets/base",
      "model_module_version": "1.1.0",
      "model_name": "LayoutModel",
      "state": {}
     },
     "93f48ec7d8e54f15a8abccdd1377a1ff": {
      "model_module": "@jupyter-widgets/controls",
      "model_module_version": "1.4.0",
      "model_name": "ProgressStyleModel",
      "state": {
       "description_width": ""
      }
     },
     "9416c758a3814e6c9551abcb28b6675d": {
      "model_module": "@jupyter-widgets/controls",
      "model_module_version": "1.4.0",
      "model_name": "HTMLModel",
      "state": {
       "layout": "IPY_MODEL_abb1ea3332dc4e43b46d126f4fa3102f",
       "style": "IPY_MODEL_50083df432404e899aef5e09e85f6dc4",
       "value": "100% 9998900/9998900 [02:45&lt;00:00, 60234.50it/s]"
      }
     },
     "943677a75b7444c8831b57a74e3589a8": {
      "model_module": "@jupyter-widgets/controls",
      "model_module_version": "1.4.0",
      "model_name": "HBoxModel",
      "state": {
       "children": [
        "IPY_MODEL_5e387dcbc7fc418cae5cee4b58e247c5",
        "IPY_MODEL_15404c44cf3748919e024c7261f4707a"
       ],
       "layout": "IPY_MODEL_2393f82eae4a476c9726a24a3db9028c"
      }
     },
     "946f698be85b4e16a8e0fbd7e4ba5602": {
      "model_module": "@jupyter-widgets/controls",
      "model_module_version": "1.4.0",
      "model_name": "DescriptionStyleModel",
      "state": {
       "description_width": ""
      }
     },
     "947c9eddf5bb4f96b9543f957eeafdae": {
      "model_module": "@jupyter-widgets/controls",
      "model_module_version": "1.4.0",
      "model_name": "HTMLModel",
      "state": {
       "layout": "IPY_MODEL_3852ab00474043e781190d959d74fb89",
       "style": "IPY_MODEL_d7d9382e8fad4269a3fd1258e817a7ae",
       "value": "100% 9998900/9998900 [02:40&lt;00:00, 62405.70it/s]"
      }
     },
     "94a0ff8fd08a472ebd7aeb817bdc5505": {
      "model_module": "@jupyter-widgets/controls",
      "model_module_version": "1.4.0",
      "model_name": "ProgressStyleModel",
      "state": {
       "description_width": ""
      }
     },
     "94ba7cb2f1094189bad3edbefcabd9da": {
      "model_module": "@jupyter-widgets/controls",
      "model_module_version": "1.4.0",
      "model_name": "ProgressStyleModel",
      "state": {
       "description_width": ""
      }
     },
     "94ccaf2d6f7942d48acf399a23c72d9c": {
      "model_module": "@jupyter-widgets/controls",
      "model_module_version": "1.4.0",
      "model_name": "DescriptionStyleModel",
      "state": {
       "description_width": ""
      }
     },
     "951d1c438e2f4fd792a06f0ce8b90015": {
      "model_module": "@jupyter-widgets/controls",
      "model_module_version": "1.4.0",
      "model_name": "HTMLModel",
      "state": {
       "layout": "IPY_MODEL_da6e444be38c435d956184c9548c6163",
       "style": "IPY_MODEL_bd0e079f44d94c12a698bc9b475231c9",
       "value": "100% 9998900/9998900 [02:45&lt;00:00, 60520.71it/s]"
      }
     },
     "95488c252e744bc0a63b5295869c1d4d": {
      "model_module": "@jupyter-widgets/controls",
      "model_module_version": "1.4.0",
      "model_name": "IntProgressModel",
      "state": {
       "bar_style": "success",
       "layout": "IPY_MODEL_d513e77ee5bb440eadee9de0fb1bfd4a",
       "max": 9998900,
       "style": "IPY_MODEL_cf30cfe0d5bc48cdb0519a0494bc60de",
       "value": 9998900
      }
     },
     "957c3cd059cf411aafc13a082dbd4294": {
      "model_module": "@jupyter-widgets/base",
      "model_module_version": "1.1.0",
      "model_name": "LayoutModel",
      "state": {}
     },
     "957c4d0f8c304fb7a4aca6662fbf283b": {
      "model_module": "@jupyter-widgets/controls",
      "model_module_version": "1.4.0",
      "model_name": "ProgressStyleModel",
      "state": {
       "description_width": ""
      }
     },
     "958020a91f9244e28af379beb6de8126": {
      "model_module": "@jupyter-widgets/base",
      "model_module_version": "1.1.0",
      "model_name": "LayoutModel",
      "state": {}
     },
     "959fd6d6ed4c4869836dccd582da5247": {
      "model_module": "@jupyter-widgets/controls",
      "model_module_version": "1.4.0",
      "model_name": "HBoxModel",
      "state": {
       "children": [
        "IPY_MODEL_6af2013d972e4b68b29caf068d4dedf3",
        "IPY_MODEL_19f29770d8b744f4a15265d620516f76"
       ],
       "layout": "IPY_MODEL_df9d2cf5f94b43d999ff4ab7b73b75ef"
      }
     },
     "95b7523e1b9143848dd166b8f92b9b7a": {
      "model_module": "@jupyter-widgets/base",
      "model_module_version": "1.1.0",
      "model_name": "LayoutModel",
      "state": {}
     },
     "95d675d71d9d43e6a5b8dc541011ba8a": {
      "model_module": "@jupyter-widgets/controls",
      "model_module_version": "1.4.0",
      "model_name": "IntProgressModel",
      "state": {
       "bar_style": "success",
       "layout": "IPY_MODEL_2e0e20f4e85b4890a35272b4d3f6b3ec",
       "max": 9998900,
       "style": "IPY_MODEL_8af3159651754f37ba3fc2ffc3df0c0f",
       "value": 9998900
      }
     },
     "95f9a173331440d9b3b77eaaeffee428": {
      "model_module": "@jupyter-widgets/controls",
      "model_module_version": "1.4.0",
      "model_name": "DescriptionStyleModel",
      "state": {
       "description_width": ""
      }
     },
     "96044ae4a88b4d58b05bc937b081807c": {
      "model_module": "@jupyter-widgets/base",
      "model_module_version": "1.1.0",
      "model_name": "LayoutModel",
      "state": {}
     },
     "9627f0b548aa491681c1714f100221c9": {
      "model_module": "@jupyter-widgets/controls",
      "model_module_version": "1.4.0",
      "model_name": "IntProgressModel",
      "state": {
       "bar_style": "success",
       "layout": "IPY_MODEL_2786197950ea4c1984465ff47e49a4e8",
       "max": 9998900,
       "style": "IPY_MODEL_0acb3ac71ff242fcac3156db703206a4",
       "value": 9998900
      }
     },
     "962ec1c3442f4dda980b9032ab960be7": {
      "model_module": "@jupyter-widgets/base",
      "model_module_version": "1.1.0",
      "model_name": "LayoutModel",
      "state": {}
     },
     "965c30b38b364929855227ce038ab20d": {
      "model_module": "@jupyter-widgets/base",
      "model_module_version": "1.1.0",
      "model_name": "LayoutModel",
      "state": {}
     },
     "96625aa255a743e295d8d18aea4fed1f": {
      "model_module": "@jupyter-widgets/controls",
      "model_module_version": "1.4.0",
      "model_name": "IntProgressModel",
      "state": {
       "bar_style": "success",
       "layout": "IPY_MODEL_0c0cbe3e23f74f1eabe573ffcc42f6dc",
       "max": 9998900,
       "style": "IPY_MODEL_f552c957e91e46b49c8fc8526fdd4124",
       "value": 9998900
      }
     },
     "968f24440cf040c6a81c85f80c1a8219": {
      "model_module": "@jupyter-widgets/base",
      "model_module_version": "1.1.0",
      "model_name": "LayoutModel",
      "state": {}
     },
     "96a07b89605045c0839f277cae2b5725": {
      "model_module": "@jupyter-widgets/controls",
      "model_module_version": "1.4.0",
      "model_name": "HBoxModel",
      "state": {
       "children": [
        "IPY_MODEL_6078dafea25b4a3cb717c02335268442",
        "IPY_MODEL_8279ae1f7bfc4cec8a4e348391631fc7"
       ],
       "layout": "IPY_MODEL_2b1060403712421b9c0577d965cffe21"
      }
     },
     "96a34136e4fd42dfa89d21512841b41b": {
      "model_module": "@jupyter-widgets/controls",
      "model_module_version": "1.4.0",
      "model_name": "DescriptionStyleModel",
      "state": {
       "description_width": ""
      }
     },
     "9709a72e6a7249eb9ab5e62cbc1f7df6": {
      "model_module": "@jupyter-widgets/base",
      "model_module_version": "1.1.0",
      "model_name": "LayoutModel",
      "state": {}
     },
     "973122a046f74b52852f49907568ec6e": {
      "model_module": "@jupyter-widgets/controls",
      "model_module_version": "1.4.0",
      "model_name": "DescriptionStyleModel",
      "state": {
       "description_width": ""
      }
     },
     "9732269de6af48b180c3b66d7642bac2": {
      "model_module": "@jupyter-widgets/controls",
      "model_module_version": "1.4.0",
      "model_name": "DescriptionStyleModel",
      "state": {
       "description_width": ""
      }
     },
     "97a2c29b2cf54d4ea71d306f5c3af683": {
      "model_module": "@jupyter-widgets/base",
      "model_module_version": "1.1.0",
      "model_name": "LayoutModel",
      "state": {}
     },
     "97a3519a34b64fd5aca62ecd10d3342c": {
      "model_module": "@jupyter-widgets/base",
      "model_module_version": "1.1.0",
      "model_name": "LayoutModel",
      "state": {}
     },
     "97f025f95f7e4f07b7fc487b37523b66": {
      "model_module": "@jupyter-widgets/controls",
      "model_module_version": "1.4.0",
      "model_name": "HBoxModel",
      "state": {
       "children": [
        "IPY_MODEL_2d97e022c00f4faea5e8ac5bfe4ef907",
        "IPY_MODEL_986000e16f514e63980a943c747ef04c"
       ],
       "layout": "IPY_MODEL_7deb628f904e4fe08b1c34231c3b314d"
      }
     },
     "980d9e9e9096465aa9c1dc3dff37c120": {
      "model_module": "@jupyter-widgets/controls",
      "model_module_version": "1.4.0",
      "model_name": "HBoxModel",
      "state": {
       "children": [
        "IPY_MODEL_a75243c1c0a14b7cb7532a0b1c6f11d3",
        "IPY_MODEL_a354a685fedb4d27942ddb32e8e11692"
       ],
       "layout": "IPY_MODEL_dcbddd6f64d840dfa05694ad4c26b577"
      }
     },
     "982456c3ce67426482831938a7f84dfd": {
      "model_module": "@jupyter-widgets/base",
      "model_module_version": "1.1.0",
      "model_name": "LayoutModel",
      "state": {}
     },
     "983fa93e7a1c4f3a83b02ad5da85d62d": {
      "model_module": "@jupyter-widgets/controls",
      "model_module_version": "1.4.0",
      "model_name": "IntProgressModel",
      "state": {
       "bar_style": "success",
       "layout": "IPY_MODEL_182dbd5ac3594c75aadfbf159bc9e6fc",
       "max": 9998900,
       "style": "IPY_MODEL_6175328cb78541a0b943862db4414c03",
       "value": 9998900
      }
     },
     "986000e16f514e63980a943c747ef04c": {
      "model_module": "@jupyter-widgets/controls",
      "model_module_version": "1.4.0",
      "model_name": "HTMLModel",
      "state": {
       "layout": "IPY_MODEL_fbfb7a81161e4378a0b72a624cac9bf0",
       "style": "IPY_MODEL_421ae107b7244691a1715c458be4307e",
       "value": "100% 9998900/9998900 [02:55&lt;00:00, 57106.55it/s]"
      }
     },
     "9864164af0384b71b4319354ee4a9840": {
      "model_module": "@jupyter-widgets/base",
      "model_module_version": "1.1.0",
      "model_name": "LayoutModel",
      "state": {}
     },
     "986bdab9ebc247579c15a739118329ec": {
      "model_module": "@jupyter-widgets/controls",
      "model_module_version": "1.4.0",
      "model_name": "IntProgressModel",
      "state": {
       "bar_style": "success",
       "layout": "IPY_MODEL_af795b7187c04610a9e4a1b4fefa72a4",
       "max": 9998900,
       "style": "IPY_MODEL_8fcadab591ec405382d289034272f7dc",
       "value": 9998900
      }
     },
     "9873c30e091a4f7abf7b276ace03d24b": {
      "model_module": "@jupyter-widgets/controls",
      "model_module_version": "1.4.0",
      "model_name": "HTMLModel",
      "state": {
       "layout": "IPY_MODEL_d4e4553a2d2f46a0a6f8648faa4878d9",
       "style": "IPY_MODEL_7a355377e93e46b8a9e7e3165c8c0182",
       "value": "100% 9998900/9998900 [02:52&lt;00:00, 57857.66it/s]"
      }
     },
     "9874739855c648d19e8bddc868f655b0": {
      "model_module": "@jupyter-widgets/base",
      "model_module_version": "1.1.0",
      "model_name": "LayoutModel",
      "state": {}
     },
     "98a2af92abef446797f765151ffde2c6": {
      "model_module": "@jupyter-widgets/controls",
      "model_module_version": "1.4.0",
      "model_name": "ProgressStyleModel",
      "state": {
       "description_width": ""
      }
     },
     "98db27a092bf404aa136f83b91648e42": {
      "model_module": "@jupyter-widgets/controls",
      "model_module_version": "1.4.0",
      "model_name": "ProgressStyleModel",
      "state": {
       "description_width": ""
      }
     },
     "98e9a90e2ec24a7c837754e90f57940e": {
      "model_module": "@jupyter-widgets/controls",
      "model_module_version": "1.4.0",
      "model_name": "ProgressStyleModel",
      "state": {
       "description_width": ""
      }
     },
     "991f7e8c676946018e1a921f2764458d": {
      "model_module": "@jupyter-widgets/controls",
      "model_module_version": "1.4.0",
      "model_name": "HTMLModel",
      "state": {
       "layout": "IPY_MODEL_6e10b355ebfc478089902b131d94a01e",
       "style": "IPY_MODEL_70c33da61f01431a81e908f4768374a4",
       "value": "100% 9998900/9998900 [02:46&lt;00:00, 60002.11it/s]"
      }
     },
     "996e82b12dc9456aaeae57c6bc0d2f72": {
      "model_module": "@jupyter-widgets/controls",
      "model_module_version": "1.4.0",
      "model_name": "HTMLModel",
      "state": {
       "layout": "IPY_MODEL_4753d8f1359a4b27b0049006e98667f2",
       "style": "IPY_MODEL_ad5af46d64f441009e4fc84ca955e7cc",
       "value": "100% 9998900/9998900 [02:55&lt;00:00, 56918.93it/s]"
      }
     },
     "998c96ae9d914626906e20b316e1cc51": {
      "model_module": "@jupyter-widgets/base",
      "model_module_version": "1.1.0",
      "model_name": "LayoutModel",
      "state": {}
     },
     "99b49ca89ef9430aa4dc963fdc114d61": {
      "model_module": "@jupyter-widgets/controls",
      "model_module_version": "1.4.0",
      "model_name": "HTMLModel",
      "state": {
       "layout": "IPY_MODEL_a8b8b252eeac49a298ccc2821ecca27c",
       "style": "IPY_MODEL_c005bef15ed44fc0a9f91dff3bf65b41",
       "value": "100% 9998900/9998900 [03:00&lt;00:00, 55465.13it/s]"
      }
     },
     "99da7d0e273e4170a24f3a885e0fc833": {
      "model_module": "@jupyter-widgets/controls",
      "model_module_version": "1.4.0",
      "model_name": "IntProgressModel",
      "state": {
       "bar_style": "success",
       "layout": "IPY_MODEL_4ade59264420482085bd9f3bfcba429d",
       "max": 9998900,
       "style": "IPY_MODEL_c74fd44b60794a8586c2362864a423e4",
       "value": 9998900
      }
     },
     "99f18bdc916f47eab34e7cded54398e1": {
      "model_module": "@jupyter-widgets/base",
      "model_module_version": "1.1.0",
      "model_name": "LayoutModel",
      "state": {}
     },
     "9a6997a77bdc4d998e7b7a68171d3dc8": {
      "model_module": "@jupyter-widgets/controls",
      "model_module_version": "1.4.0",
      "model_name": "DescriptionStyleModel",
      "state": {
       "description_width": ""
      }
     },
     "9aedf67045ec4eeaa06a0de6d6bb671a": {
      "model_module": "@jupyter-widgets/controls",
      "model_module_version": "1.4.0",
      "model_name": "HBoxModel",
      "state": {
       "children": [
        "IPY_MODEL_1cd7e7557fa94213ae07b7d11b47fbb8",
        "IPY_MODEL_aca770da5f2d4d71b31fc2eacfb1be2f"
       ],
       "layout": "IPY_MODEL_c81ef9f9e93848f0a600024f91f7dea9"
      }
     },
     "9af8f44a1dd14253ad8cc703064e9610": {
      "model_module": "@jupyter-widgets/controls",
      "model_module_version": "1.4.0",
      "model_name": "IntProgressModel",
      "state": {
       "bar_style": "success",
       "layout": "IPY_MODEL_cca1fa1efa7b4da987923d0dc85a6a6d",
       "max": 9998900,
       "style": "IPY_MODEL_6b8d307f7e9f4a4d87ff9c8fec46826b",
       "value": 9998900
      }
     },
     "9b0e867747a5479e8fbfa26d8ff5b5cb": {
      "model_module": "@jupyter-widgets/controls",
      "model_module_version": "1.4.0",
      "model_name": "ProgressStyleModel",
      "state": {
       "description_width": ""
      }
     },
     "9b299080492440c48a5f58274ad3a19a": {
      "model_module": "@jupyter-widgets/base",
      "model_module_version": "1.1.0",
      "model_name": "LayoutModel",
      "state": {}
     },
     "9b561b875dc14e3196a68f34aba9f31c": {
      "model_module": "@jupyter-widgets/base",
      "model_module_version": "1.1.0",
      "model_name": "LayoutModel",
      "state": {}
     },
     "9bc0ebb052c04cdf9d882eb226e29f40": {
      "model_module": "@jupyter-widgets/base",
      "model_module_version": "1.1.0",
      "model_name": "LayoutModel",
      "state": {}
     },
     "9bce9e579be541eeb15ae6995f55e2de": {
      "model_module": "@jupyter-widgets/base",
      "model_module_version": "1.1.0",
      "model_name": "LayoutModel",
      "state": {}
     },
     "9be6ce41e20d4db1a2ae660e46f1fbbf": {
      "model_module": "@jupyter-widgets/base",
      "model_module_version": "1.1.0",
      "model_name": "LayoutModel",
      "state": {}
     },
     "9c143b9149714b6db0df93e24d8c5767": {
      "model_module": "@jupyter-widgets/controls",
      "model_module_version": "1.4.0",
      "model_name": "IntProgressModel",
      "state": {
       "bar_style": "success",
       "layout": "IPY_MODEL_dd2c20478c8545f282546b355f4e2e36",
       "max": 9998900,
       "style": "IPY_MODEL_6d33f77bfdb14b8aa1eaff659b2abbcc",
       "value": 9998900
      }
     },
     "9c482104925b41f9b8b99b0d63921227": {
      "model_module": "@jupyter-widgets/controls",
      "model_module_version": "1.4.0",
      "model_name": "DescriptionStyleModel",
      "state": {
       "description_width": ""
      }
     },
     "9c49c4782d044118893aa8b2da073756": {
      "model_module": "@jupyter-widgets/controls",
      "model_module_version": "1.4.0",
      "model_name": "ProgressStyleModel",
      "state": {
       "description_width": ""
      }
     },
     "9ce82e36fb85468fbc7ceff85a75a692": {
      "model_module": "@jupyter-widgets/controls",
      "model_module_version": "1.4.0",
      "model_name": "ProgressStyleModel",
      "state": {
       "description_width": ""
      }
     },
     "9cf4d8688fb442ed86e300004a06dfc8": {
      "model_module": "@jupyter-widgets/controls",
      "model_module_version": "1.4.0",
      "model_name": "HTMLModel",
      "state": {
       "layout": "IPY_MODEL_f6279a0eb40c4bf18f65a76f2225fe8d",
       "style": "IPY_MODEL_00ad4f66191347178e9034e14d6367f3",
       "value": "100% 9998900/9998900 [02:38&lt;00:00, 63146.44it/s]"
      }
     },
     "9d04cf07feb341d786de96c45140b841": {
      "model_module": "@jupyter-widgets/base",
      "model_module_version": "1.1.0",
      "model_name": "LayoutModel",
      "state": {}
     },
     "9d0f24249e234c2f8ecdeb5fab2bf7fd": {
      "model_module": "@jupyter-widgets/controls",
      "model_module_version": "1.4.0",
      "model_name": "HTMLModel",
      "state": {
       "layout": "IPY_MODEL_c2ca547b102b442c80418a3c7497da5d",
       "style": "IPY_MODEL_3bdb4676666145d9bc05e620816a5da6",
       "value": "100% 9998900/9998900 [02:35&lt;00:00, 64401.61it/s]"
      }
     },
     "9d2bbaa41ce046d5a1644ad5e4b89517": {
      "model_module": "@jupyter-widgets/base",
      "model_module_version": "1.1.0",
      "model_name": "LayoutModel",
      "state": {}
     },
     "9d2bec069d6845d4b4f968f0fc0780f7": {
      "model_module": "@jupyter-widgets/controls",
      "model_module_version": "1.4.0",
      "model_name": "DescriptionStyleModel",
      "state": {
       "description_width": ""
      }
     },
     "9d5731b416ff4fb8976d06a6a91c5da1": {
      "model_module": "@jupyter-widgets/controls",
      "model_module_version": "1.4.0",
      "model_name": "ProgressStyleModel",
      "state": {
       "description_width": ""
      }
     },
     "9d8e513495f141f0bb4bf75574597e35": {
      "model_module": "@jupyter-widgets/base",
      "model_module_version": "1.1.0",
      "model_name": "LayoutModel",
      "state": {}
     },
     "9da9f7b4292f4fb6bdef965e238ed0f8": {
      "model_module": "@jupyter-widgets/controls",
      "model_module_version": "1.4.0",
      "model_name": "ProgressStyleModel",
      "state": {
       "description_width": ""
      }
     },
     "9daaca9b46b9409f909292cdd07df4d8": {
      "model_module": "@jupyter-widgets/base",
      "model_module_version": "1.1.0",
      "model_name": "LayoutModel",
      "state": {}
     },
     "9dd72521f1784fac85aabc57d275cc31": {
      "model_module": "@jupyter-widgets/controls",
      "model_module_version": "1.4.0",
      "model_name": "IntProgressModel",
      "state": {
       "bar_style": "success",
       "layout": "IPY_MODEL_73a9d65719a04c65a55c6290861f76ee",
       "max": 1,
       "style": "IPY_MODEL_192b9a6c7a4a495e91c2c57b207ee9ae",
       "value": 1
      }
     },
     "9e1d64c3da24418288916338b8467665": {
      "model_module": "@jupyter-widgets/base",
      "model_module_version": "1.1.0",
      "model_name": "LayoutModel",
      "state": {}
     },
     "9e2857ec6cf54e6784fc060afbf81ed5": {
      "model_module": "@jupyter-widgets/controls",
      "model_module_version": "1.4.0",
      "model_name": "IntProgressModel",
      "state": {
       "bar_style": "success",
       "layout": "IPY_MODEL_bd6955920fa04110bf63a35b8d77fdc3",
       "max": 9998900,
       "style": "IPY_MODEL_94a0ff8fd08a472ebd7aeb817bdc5505",
       "value": 9998900
      }
     },
     "9e63d6034d39489ab07bec42e92b8d55": {
      "model_module": "@jupyter-widgets/base",
      "model_module_version": "1.1.0",
      "model_name": "LayoutModel",
      "state": {}
     },
     "9e9b09afabf84e9bae16434f50a8619a": {
      "model_module": "@jupyter-widgets/controls",
      "model_module_version": "1.4.0",
      "model_name": "HBoxModel",
      "state": {
       "children": [
        "IPY_MODEL_8d9e87a07ede454c8b0554832999b316",
        "IPY_MODEL_31244153634347b1915ae257f644da7f"
       ],
       "layout": "IPY_MODEL_bcabd24677a54941a14c57c9ab96a254"
      }
     },
     "9ef6de93e3004ffd91efb348badd9042": {
      "model_module": "@jupyter-widgets/base",
      "model_module_version": "1.1.0",
      "model_name": "LayoutModel",
      "state": {}
     },
     "9f66ce719f42437a89cda1d3251b7931": {
      "model_module": "@jupyter-widgets/controls",
      "model_module_version": "1.4.0",
      "model_name": "HTMLModel",
      "state": {
       "layout": "IPY_MODEL_23c9b3251f4441c1a7db1cf8b0fe0d43",
       "style": "IPY_MODEL_5fb2c1ead79644d0bf313da3abf9bbb9",
       "value": "100% 9998900/9998900 [02:44&lt;00:00, 60942.55it/s]"
      }
     },
     "9fab2b06cfeb441cbd5fed9c146bb585": {
      "model_module": "@jupyter-widgets/controls",
      "model_module_version": "1.4.0",
      "model_name": "IntProgressModel",
      "state": {
       "bar_style": "success",
       "layout": "IPY_MODEL_d066f4f1ad7d4a01af67439c04954266",
       "max": 9998900,
       "style": "IPY_MODEL_33f28c6068b5434b8af94d794d8c8a09",
       "value": 9998900
      }
     },
     "9ffa587b13dd4b13a8a3222ed6f2edb4": {
      "model_module": "@jupyter-widgets/controls",
      "model_module_version": "1.4.0",
      "model_name": "HTMLModel",
      "state": {
       "layout": "IPY_MODEL_a9f54b13cd774de1a131ba71c5e89224",
       "style": "IPY_MODEL_37409401486d4a289f59a7e52d4dfd5d",
       "value": "100% 9998900/9998900 [02:41&lt;00:00, 61839.54it/s]"
      }
     },
     "a0057254cb9f43d3872fa7e26a030b45": {
      "model_module": "@jupyter-widgets/controls",
      "model_module_version": "1.4.0",
      "model_name": "ProgressStyleModel",
      "state": {
       "description_width": ""
      }
     },
     "a00e577525964c55903f30a9e61b262c": {
      "model_module": "@jupyter-widgets/controls",
      "model_module_version": "1.4.0",
      "model_name": "HBoxModel",
      "state": {
       "children": [
        "IPY_MODEL_c0716b4422514655afd3f960b2c64921",
        "IPY_MODEL_458328c2094445748fc6d8dc363f156f"
       ],
       "layout": "IPY_MODEL_4c55224fd46042cbbf55ac1c5293f02a"
      }
     },
     "a022ce16b50145e8ad55a6134bfe0716": {
      "model_module": "@jupyter-widgets/base",
      "model_module_version": "1.1.0",
      "model_name": "LayoutModel",
      "state": {}
     },
     "a04b2185174d41de84f37e320970c149": {
      "model_module": "@jupyter-widgets/controls",
      "model_module_version": "1.4.0",
      "model_name": "HBoxModel",
      "state": {
       "children": [
        "IPY_MODEL_50b4426fc49e4b93a7e6880fd52dd8e3",
        "IPY_MODEL_afd7d070d1594f439dc5d82e50633d44"
       ],
       "layout": "IPY_MODEL_b259c796bf2243e3a47f805137123adf"
      }
     },
     "a0518c7e0fcf417eacbe0c50ba318f07": {
      "model_module": "@jupyter-widgets/controls",
      "model_module_version": "1.4.0",
      "model_name": "IntProgressModel",
      "state": {
       "bar_style": "success",
       "layout": "IPY_MODEL_c55b77e8c7614df3bdadd640e04df102",
       "max": 9998900,
       "style": "IPY_MODEL_225b84232c8e41518bd4018ddf80cf36",
       "value": 9998900
      }
     },
     "a0761d66bbf24e1981606653b4f5860d": {
      "model_module": "@jupyter-widgets/controls",
      "model_module_version": "1.4.0",
      "model_name": "ProgressStyleModel",
      "state": {
       "description_width": ""
      }
     },
     "a0c1d2305dce4648a8ddfa3a4df49593": {
      "model_module": "@jupyter-widgets/controls",
      "model_module_version": "1.4.0",
      "model_name": "DescriptionStyleModel",
      "state": {
       "description_width": ""
      }
     },
     "a10d2b2b6c6c4ec088b1654f0cf7584b": {
      "model_module": "@jupyter-widgets/base",
      "model_module_version": "1.1.0",
      "model_name": "LayoutModel",
      "state": {}
     },
     "a113173deb8f44d587c23938639e95bf": {
      "model_module": "@jupyter-widgets/base",
      "model_module_version": "1.1.0",
      "model_name": "LayoutModel",
      "state": {}
     },
     "a1328190b46849c6880fa9b830f1d92c": {
      "model_module": "@jupyter-widgets/controls",
      "model_module_version": "1.4.0",
      "model_name": "ProgressStyleModel",
      "state": {
       "description_width": ""
      }
     },
     "a14d4ade98c34305b08e378d5b886cf9": {
      "model_module": "@jupyter-widgets/controls",
      "model_module_version": "1.4.0",
      "model_name": "HBoxModel",
      "state": {
       "children": [
        "IPY_MODEL_1d148d60d1c74105ae74301c055453a5",
        "IPY_MODEL_41380961f6394a3a801a5932330f7915"
       ],
       "layout": "IPY_MODEL_111f002756c04c6caf4cf566cfbc9686"
      }
     },
     "a15f75920447477f80e7d3524451fcdd": {
      "model_module": "@jupyter-widgets/controls",
      "model_module_version": "1.4.0",
      "model_name": "ProgressStyleModel",
      "state": {
       "description_width": ""
      }
     },
     "a19bfdbbde884c099cdac5858ebbacc7": {
      "model_module": "@jupyter-widgets/controls",
      "model_module_version": "1.4.0",
      "model_name": "IntProgressModel",
      "state": {
       "bar_style": "success",
       "layout": "IPY_MODEL_f0199f9c96a54313937abe0833042bd0",
       "max": 9998900,
       "style": "IPY_MODEL_0cd1fedaf7a44633819b1a8ab24eb4f1",
       "value": 9998900
      }
     },
     "a1a863d706304109b2c9502d955b49f2": {
      "model_module": "@jupyter-widgets/controls",
      "model_module_version": "1.4.0",
      "model_name": "HTMLModel",
      "state": {
       "layout": "IPY_MODEL_69d5b870bd314924813a81131438eda6",
       "style": "IPY_MODEL_6b4b932bc82048759f74fe2955cdeb7c",
       "value": "100% 9998900/9998900 [02:40&lt;00:00, 62302.54it/s]"
      }
     },
     "a1b41cd67eed48bb8a4b71ff4eed4002": {
      "model_module": "@jupyter-widgets/controls",
      "model_module_version": "1.4.0",
      "model_name": "HBoxModel",
      "state": {
       "children": [
        "IPY_MODEL_60f96440435b408894fc0ef9a5127c3e",
        "IPY_MODEL_7a45999cfe6149c898d5d6ddf84f5b10"
       ],
       "layout": "IPY_MODEL_f5752c0a626f40de8039f34416b3c187"
      }
     },
     "a1dc8c329196481dad997a14280a8f85": {
      "model_module": "@jupyter-widgets/base",
      "model_module_version": "1.1.0",
      "model_name": "LayoutModel",
      "state": {}
     },
     "a1e1a414608c4ad28e71595211e8e1ad": {
      "model_module": "@jupyter-widgets/base",
      "model_module_version": "1.1.0",
      "model_name": "LayoutModel",
      "state": {}
     },
     "a1e1d600e9d6424a9616ee37a62edd50": {
      "model_module": "@jupyter-widgets/base",
      "model_module_version": "1.1.0",
      "model_name": "LayoutModel",
      "state": {}
     },
     "a1e236aa95a1427a88d9cb9d73b02bd5": {
      "model_module": "@jupyter-widgets/controls",
      "model_module_version": "1.4.0",
      "model_name": "IntProgressModel",
      "state": {
       "bar_style": "success",
       "layout": "IPY_MODEL_769af1a3dbaf4b65bf3659e758486ffa",
       "max": 9998900,
       "style": "IPY_MODEL_fa05767fa65846788d79ef056092ff10",
       "value": 9998900
      }
     },
     "a1fe5569ea6449359a812bacc6f37967": {
      "model_module": "@jupyter-widgets/controls",
      "model_module_version": "1.4.0",
      "model_name": "DescriptionStyleModel",
      "state": {
       "description_width": ""
      }
     },
     "a1feb8d2ebae4c2c902bc4e77b61a230": {
      "model_module": "@jupyter-widgets/base",
      "model_module_version": "1.1.0",
      "model_name": "LayoutModel",
      "state": {}
     },
     "a20344dcdac3417690898bbf0c886c6f": {
      "model_module": "@jupyter-widgets/controls",
      "model_module_version": "1.4.0",
      "model_name": "ProgressStyleModel",
      "state": {
       "description_width": ""
      }
     },
     "a21db75659fa404ca1732682b91f0cf3": {
      "model_module": "@jupyter-widgets/controls",
      "model_module_version": "1.4.0",
      "model_name": "ProgressStyleModel",
      "state": {
       "description_width": ""
      }
     },
     "a2465f640edb49aebfba626eb8c2bf74": {
      "model_module": "@jupyter-widgets/controls",
      "model_module_version": "1.4.0",
      "model_name": "HBoxModel",
      "state": {
       "children": [
        "IPY_MODEL_f792acbbee9e4d278857e7ff373d87de",
        "IPY_MODEL_996e82b12dc9456aaeae57c6bc0d2f72"
       ],
       "layout": "IPY_MODEL_881a97d2327b4b3f8e7a1d4314bf4837"
      }
     },
     "a261f58aa3b6496faaa5000076579d08": {
      "model_module": "@jupyter-widgets/controls",
      "model_module_version": "1.4.0",
      "model_name": "HBoxModel",
      "state": {
       "children": [
        "IPY_MODEL_414904329803474aaea66c70b0225f31",
        "IPY_MODEL_e8a02c8c29674edba51cc904568e7fd2"
       ],
       "layout": "IPY_MODEL_8790ac35384d4ce1ae0059f6a47babd2"
      }
     },
     "a27b5c80d84c4b3eb519f553bdff6601": {
      "model_module": "@jupyter-widgets/base",
      "model_module_version": "1.1.0",
      "model_name": "LayoutModel",
      "state": {}
     },
     "a2b066c020b446d2b2d3c36b1bfc6051": {
      "model_module": "@jupyter-widgets/controls",
      "model_module_version": "1.4.0",
      "model_name": "ProgressStyleModel",
      "state": {
       "description_width": ""
      }
     },
     "a2c3efb6a2fb462d931af2b21a3f97f0": {
      "model_module": "@jupyter-widgets/base",
      "model_module_version": "1.1.0",
      "model_name": "LayoutModel",
      "state": {}
     },
     "a2ec2962bb9b42c18c031023163644b4": {
      "model_module": "@jupyter-widgets/controls",
      "model_module_version": "1.4.0",
      "model_name": "DescriptionStyleModel",
      "state": {
       "description_width": ""
      }
     },
     "a2f4fe382f3e470d88ab6b559c2ea494": {
      "model_module": "@jupyter-widgets/controls",
      "model_module_version": "1.4.0",
      "model_name": "HTMLModel",
      "state": {
       "layout": "IPY_MODEL_b4c27883bf894fafb115be481d561891",
       "style": "IPY_MODEL_bcc020227c7e48e08758df3ee29eb5f2",
       "value": "100% 9998900/9998900 [02:43&lt;00:00, 61015.95it/s]"
      }
     },
     "a33f605a065242d596e736c22c56f0b8": {
      "model_module": "@jupyter-widgets/base",
      "model_module_version": "1.1.0",
      "model_name": "LayoutModel",
      "state": {}
     },
     "a354a685fedb4d27942ddb32e8e11692": {
      "model_module": "@jupyter-widgets/controls",
      "model_module_version": "1.4.0",
      "model_name": "HTMLModel",
      "state": {
       "layout": "IPY_MODEL_72e0ddc6ac194e9094c11dfbeb4c5521",
       "style": "IPY_MODEL_04bee642cb4948fcb75577011b43b52b",
       "value": "100% 9998900/9998900 [02:48&lt;00:00, 59505.64it/s]"
      }
     },
     "a3aa08f4d38a4583802fa42b1e244f86": {
      "model_module": "@jupyter-widgets/controls",
      "model_module_version": "1.4.0",
      "model_name": "ProgressStyleModel",
      "state": {
       "description_width": ""
      }
     },
     "a3ae659de5f944a882cb7a3af40d4b91": {
      "model_module": "@jupyter-widgets/base",
      "model_module_version": "1.1.0",
      "model_name": "LayoutModel",
      "state": {}
     },
     "a41778dbbd924e36b910d55f824bae79": {
      "model_module": "@jupyter-widgets/base",
      "model_module_version": "1.1.0",
      "model_name": "LayoutModel",
      "state": {}
     },
     "a421ea9936c64d3f9b07663f2e99ebd3": {
      "model_module": "@jupyter-widgets/base",
      "model_module_version": "1.1.0",
      "model_name": "LayoutModel",
      "state": {}
     },
     "a42fea0abae941e18339ae98893c1334": {
      "model_module": "@jupyter-widgets/controls",
      "model_module_version": "1.4.0",
      "model_name": "HBoxModel",
      "state": {
       "children": [
        "IPY_MODEL_550c7bbdf49d4cd9bfabcf3089cce6c8",
        "IPY_MODEL_03c85b8e53034212971ad68770374975"
       ],
       "layout": "IPY_MODEL_ca2e34f63c364460a25df2c999f12fa8"
      }
     },
     "a44957669408423dbeec3d44322b7c82": {
      "model_module": "@jupyter-widgets/controls",
      "model_module_version": "1.4.0",
      "model_name": "HTMLModel",
      "state": {
       "layout": "IPY_MODEL_4be5990b59684ea6875e660a893cb9b3",
       "style": "IPY_MODEL_8ffcc750074a4a1388e8dd71da1c5483",
       "value": "100% 9998900/9998900 [02:48&lt;00:00, 59167.39it/s]"
      }
     },
     "a4b1137ddd094246a7bfe5054a25c994": {
      "model_module": "@jupyter-widgets/base",
      "model_module_version": "1.1.0",
      "model_name": "LayoutModel",
      "state": {}
     },
     "a4badda144954e54a1c656541156b023": {
      "model_module": "@jupyter-widgets/controls",
      "model_module_version": "1.4.0",
      "model_name": "HBoxModel",
      "state": {
       "children": [
        "IPY_MODEL_0ff9a4d710e345ac9dfbe3acb506884f",
        "IPY_MODEL_ab62cf2b2a524a4190b130e24491b0e8"
       ],
       "layout": "IPY_MODEL_86b90184677743719011fcd938d03d8e"
      }
     },
     "a4c72a530510463a9a7afcacc5cb603a": {
      "model_module": "@jupyter-widgets/controls",
      "model_module_version": "1.4.0",
      "model_name": "DescriptionStyleModel",
      "state": {
       "description_width": ""
      }
     },
     "a50b1a9bd3ba44a5b3d773de25206957": {
      "model_module": "@jupyter-widgets/controls",
      "model_module_version": "1.4.0",
      "model_name": "DescriptionStyleModel",
      "state": {
       "description_width": ""
      }
     },
     "a5358a96ca524ad98819423f444f1a6c": {
      "model_module": "@jupyter-widgets/controls",
      "model_module_version": "1.4.0",
      "model_name": "DescriptionStyleModel",
      "state": {
       "description_width": ""
      }
     },
     "a5607065fe2d4d36898c71a1ce03f299": {
      "model_module": "@jupyter-widgets/controls",
      "model_module_version": "1.4.0",
      "model_name": "HBoxModel",
      "state": {
       "children": [
        "IPY_MODEL_c995aedfced3422283b463b9caaa7246",
        "IPY_MODEL_2b955798ab2a483a8bc313b746bc12d1"
       ],
       "layout": "IPY_MODEL_bb8c66b0ef054d1db59563920fa3d33f"
      }
     },
     "a57355c239324936bfdf466970d0f317": {
      "model_module": "@jupyter-widgets/base",
      "model_module_version": "1.1.0",
      "model_name": "LayoutModel",
      "state": {}
     },
     "a57f2d8fe47e4069ac72997ab45a62f3": {
      "model_module": "@jupyter-widgets/base",
      "model_module_version": "1.1.0",
      "model_name": "LayoutModel",
      "state": {}
     },
     "a582f6d76b4a417ca37b52defd717e94": {
      "model_module": "@jupyter-widgets/controls",
      "model_module_version": "1.4.0",
      "model_name": "HBoxModel",
      "state": {
       "children": [
        "IPY_MODEL_32b83090135e46ffa717ce25ca55364f",
        "IPY_MODEL_17eea0bcc5ff45ad89def9ea36196b76"
       ],
       "layout": "IPY_MODEL_5848c4bcaa9f491ea0efdbd05f1da8af"
      }
     },
     "a5a436293cca4423a3d46c4700f1f914": {
      "model_module": "@jupyter-widgets/controls",
      "model_module_version": "1.4.0",
      "model_name": "HBoxModel",
      "state": {
       "children": [
        "IPY_MODEL_d8aa6fd5c9024c8f8d0fea3e171b7a16",
        "IPY_MODEL_54c6947953e840998f4ea62ae6c9843f"
       ],
       "layout": "IPY_MODEL_355e05efb95c4995ae9308ab79c646dd"
      }
     },
     "a5d051c375234b888e74c7d1486cd07b": {
      "model_module": "@jupyter-widgets/base",
      "model_module_version": "1.1.0",
      "model_name": "LayoutModel",
      "state": {}
     },
     "a5e43bf790a841b78f08f779c150cdb4": {
      "model_module": "@jupyter-widgets/base",
      "model_module_version": "1.1.0",
      "model_name": "LayoutModel",
      "state": {}
     },
     "a61664278ee74667a1c437aa64fea31d": {
      "model_module": "@jupyter-widgets/controls",
      "model_module_version": "1.4.0",
      "model_name": "HBoxModel",
      "state": {
       "children": [
        "IPY_MODEL_896dd8697fdc407d886232b444677bd4",
        "IPY_MODEL_5b0fb0b5dc5842de8306f68a349781ff"
       ],
       "layout": "IPY_MODEL_d076801b1a144fc79de67a526c3effc2"
      }
     },
     "a63a254ed8714336a37c40d1e9418660": {
      "model_module": "@jupyter-widgets/controls",
      "model_module_version": "1.4.0",
      "model_name": "HBoxModel",
      "state": {
       "children": [
        "IPY_MODEL_a9775bdc8f134ea29135cbb5f5239e96",
        "IPY_MODEL_217d291fd12d451ea2e96e28d90220eb"
       ],
       "layout": "IPY_MODEL_7c8acacb2d334e8b8f188f462031b14e"
      }
     },
     "a65a1c10c79d457bb57c69ba71f5a518": {
      "model_module": "@jupyter-widgets/base",
      "model_module_version": "1.1.0",
      "model_name": "LayoutModel",
      "state": {}
     },
     "a68c00b3f39f4cc599df9979415b398d": {
      "model_module": "@jupyter-widgets/controls",
      "model_module_version": "1.4.0",
      "model_name": "IntProgressModel",
      "state": {
       "bar_style": "success",
       "layout": "IPY_MODEL_3e01dc5cf09f49e3bb10033a61fdba15",
       "max": 9998900,
       "style": "IPY_MODEL_114084165eb74db58d46e5035164c800",
       "value": 9998900
      }
     },
     "a6ade56c975b40fba3112381397bdd2d": {
      "model_module": "@jupyter-widgets/controls",
      "model_module_version": "1.4.0",
      "model_name": "HTMLModel",
      "state": {
       "layout": "IPY_MODEL_eef0c9c237a8446aa76862fc09f66328",
       "style": "IPY_MODEL_9a6997a77bdc4d998e7b7a68171d3dc8",
       "value": "100% 9998900/9998900 [02:50&lt;00:00, 58664.07it/s]"
      }
     },
     "a6e5da9e4ef54e02975c69bea02552f8": {
      "model_module": "@jupyter-widgets/controls",
      "model_module_version": "1.4.0",
      "model_name": "HTMLModel",
      "state": {
       "layout": "IPY_MODEL_821951fca7264b0cb10161b12657bfa3",
       "style": "IPY_MODEL_276d6270eb544b15bf40502ba5eada7a",
       "value": "100% 9998900/9998900 [02:43&lt;00:00, 61206.62it/s]"
      }
     },
     "a741eb1e0e4943b18adb2096a7dc8f31": {
      "model_module": "@jupyter-widgets/base",
      "model_module_version": "1.1.0",
      "model_name": "LayoutModel",
      "state": {}
     },
     "a74242b710124163a45e83e0200bfc5f": {
      "model_module": "@jupyter-widgets/controls",
      "model_module_version": "1.4.0",
      "model_name": "IntProgressModel",
      "state": {
       "bar_style": "success",
       "layout": "IPY_MODEL_56b734af10864e55a6b2d192467be40e",
       "max": 9998900,
       "style": "IPY_MODEL_f506dd1e2ef24af1a78b1b34572cba24",
       "value": 9998900
      }
     },
     "a7434b3e00e84b708d4b58b9d92c17f8": {
      "model_module": "@jupyter-widgets/base",
      "model_module_version": "1.1.0",
      "model_name": "LayoutModel",
      "state": {}
     },
     "a75243c1c0a14b7cb7532a0b1c6f11d3": {
      "model_module": "@jupyter-widgets/controls",
      "model_module_version": "1.4.0",
      "model_name": "IntProgressModel",
      "state": {
       "bar_style": "success",
       "layout": "IPY_MODEL_802e7b9fccfb4e6da62f955619dddb18",
       "max": 9998900,
       "style": "IPY_MODEL_898ebe499a0141819650e8f8380ccaaa",
       "value": 9998900
      }
     },
     "a76cf6e60c9341429dcee4fcfe46ea03": {
      "model_module": "@jupyter-widgets/controls",
      "model_module_version": "1.4.0",
      "model_name": "IntProgressModel",
      "state": {
       "bar_style": "success",
       "layout": "IPY_MODEL_1d28c599cb1c4bd688df3a021bf24e27",
       "max": 9998900,
       "style": "IPY_MODEL_73e1813e032842d99c6f1862b048ebab",
       "value": 9998900
      }
     },
     "a78da01a81c648ce813644958f14ae7c": {
      "model_module": "@jupyter-widgets/base",
      "model_module_version": "1.1.0",
      "model_name": "LayoutModel",
      "state": {}
     },
     "a792a6f7300f40e2b41941f873781843": {
      "model_module": "@jupyter-widgets/controls",
      "model_module_version": "1.4.0",
      "model_name": "HTMLModel",
      "state": {
       "layout": "IPY_MODEL_0e7c0a84823647db8fb217cec415e145",
       "style": "IPY_MODEL_a2ec2962bb9b42c18c031023163644b4",
       "value": "100% 9998900/9998900 [02:39&lt;00:00, 62564.18it/s]"
      }
     },
     "a7a931da59c44a10b1885b0f22be4b9b": {
      "model_module": "@jupyter-widgets/base",
      "model_module_version": "1.1.0",
      "model_name": "LayoutModel",
      "state": {}
     },
     "a7f8646da58e4881ac100060d9caf0e6": {
      "model_module": "@jupyter-widgets/controls",
      "model_module_version": "1.4.0",
      "model_name": "ProgressStyleModel",
      "state": {
       "description_width": ""
      }
     },
     "a8523771488a4ba8a1c27368bdc38e0b": {
      "model_module": "@jupyter-widgets/controls",
      "model_module_version": "1.4.0",
      "model_name": "ProgressStyleModel",
      "state": {
       "description_width": ""
      }
     },
     "a8ab8d5d94e6442aa4b2afbcec34a46d": {
      "model_module": "@jupyter-widgets/controls",
      "model_module_version": "1.4.0",
      "model_name": "HBoxModel",
      "state": {
       "children": [
        "IPY_MODEL_166cbedee58b4d259318c17ec7730e3e",
        "IPY_MODEL_9873c30e091a4f7abf7b276ace03d24b"
       ],
       "layout": "IPY_MODEL_d361990e1b6b4ff2b76c7fec00e71aef"
      }
     },
     "a8b8b252eeac49a298ccc2821ecca27c": {
      "model_module": "@jupyter-widgets/base",
      "model_module_version": "1.1.0",
      "model_name": "LayoutModel",
      "state": {}
     },
     "a8d61dd9721b4694ae451b177b74fd7f": {
      "model_module": "@jupyter-widgets/controls",
      "model_module_version": "1.4.0",
      "model_name": "ProgressStyleModel",
      "state": {
       "description_width": ""
      }
     },
     "a90cf5129ca8458189085fa0ecf3ca53": {
      "model_module": "@jupyter-widgets/controls",
      "model_module_version": "1.4.0",
      "model_name": "ProgressStyleModel",
      "state": {
       "description_width": ""
      }
     },
     "a95e73d5a0e840e7adc5eaa60ce2c72f": {
      "model_module": "@jupyter-widgets/controls",
      "model_module_version": "1.4.0",
      "model_name": "HBoxModel",
      "state": {
       "children": [
        "IPY_MODEL_fc04fbe699ec49f9bca07d74b88f24c3",
        "IPY_MODEL_867869a9a90740d3927ad176a38dc58f"
       ],
       "layout": "IPY_MODEL_1fae7cfcabe645b6b48b1c159ee73d66"
      }
     },
     "a9775bdc8f134ea29135cbb5f5239e96": {
      "model_module": "@jupyter-widgets/controls",
      "model_module_version": "1.4.0",
      "model_name": "IntProgressModel",
      "state": {
       "bar_style": "success",
       "layout": "IPY_MODEL_0c6ccbc2df64421ebbbfa3b6fa18f90e",
       "max": 9998900,
       "style": "IPY_MODEL_a21db75659fa404ca1732682b91f0cf3",
       "value": 9998900
      }
     },
     "a98e15f1d82c4705bf34f1afe00201f6": {
      "model_module": "@jupyter-widgets/controls",
      "model_module_version": "1.4.0",
      "model_name": "ProgressStyleModel",
      "state": {
       "description_width": ""
      }
     },
     "a9a6c219ee214e889574b439d09d6444": {
      "model_module": "@jupyter-widgets/controls",
      "model_module_version": "1.4.0",
      "model_name": "HTMLModel",
      "state": {
       "layout": "IPY_MODEL_1ae122cb0dd7437eafd90dc392516a32",
       "style": "IPY_MODEL_e7711d63c829422cb32e566037f1533e",
       "value": "100% 9998900/9998900 [02:53&lt;00:00, 57473.94it/s]"
      }
     },
     "a9c7614d66804472972e3348ca9a354c": {
      "model_module": "@jupyter-widgets/controls",
      "model_module_version": "1.4.0",
      "model_name": "HTMLModel",
      "state": {
       "layout": "IPY_MODEL_de41c271b46a4c418fee781ae9a16922",
       "style": "IPY_MODEL_fa29d2a7318b4b44bc91d9fd15096627",
       "value": "100% 9998900/9998900 [02:51&lt;00:00, 58190.26it/s]"
      }
     },
     "a9dd729df11541e0aa3123ae85c0746d": {
      "model_module": "@jupyter-widgets/controls",
      "model_module_version": "1.4.0",
      "model_name": "HBoxModel",
      "state": {
       "children": [
        "IPY_MODEL_568568651bfc4db4a1a40f83bbfed359",
        "IPY_MODEL_215c51001055485b9e7f9bfa6a085d6a"
       ],
       "layout": "IPY_MODEL_188e7679c663464b929715a5f4cfd810"
      }
     },
     "a9ee203d055d4946be1b3280dd240647": {
      "model_module": "@jupyter-widgets/controls",
      "model_module_version": "1.4.0",
      "model_name": "DescriptionStyleModel",
      "state": {
       "description_width": ""
      }
     },
     "a9f54b13cd774de1a131ba71c5e89224": {
      "model_module": "@jupyter-widgets/base",
      "model_module_version": "1.1.0",
      "model_name": "LayoutModel",
      "state": {}
     },
     "aa0f56fe963e4902a98fa661c82ce551": {
      "model_module": "@jupyter-widgets/base",
      "model_module_version": "1.1.0",
      "model_name": "LayoutModel",
      "state": {}
     },
     "aa43dcec95d444768158960ec10a3706": {
      "model_module": "@jupyter-widgets/controls",
      "model_module_version": "1.4.0",
      "model_name": "HTMLModel",
      "state": {
       "layout": "IPY_MODEL_88c720a650df4b8598e9ad4fd4f51fff",
       "style": "IPY_MODEL_c9a6d3f4ffce4ba28d809f81f6bcb121",
       "value": "100% 9998900/9998900 [02:48&lt;00:00, 59289.36it/s]"
      }
     },
     "aa4cb18a9c554fdc9bb654bbca49a9e4": {
      "model_module": "@jupyter-widgets/base",
      "model_module_version": "1.1.0",
      "model_name": "LayoutModel",
      "state": {}
     },
     "aa773d9f30db40eeb1a95e41810bb28f": {
      "model_module": "@jupyter-widgets/base",
      "model_module_version": "1.1.0",
      "model_name": "LayoutModel",
      "state": {}
     },
     "aa9c22a5ff4b418781873c7b21ea57bd": {
      "model_module": "@jupyter-widgets/controls",
      "model_module_version": "1.4.0",
      "model_name": "ProgressStyleModel",
      "state": {
       "description_width": ""
      }
     },
     "aadf4fb57d12407fa0e6a79e97948906": {
      "model_module": "@jupyter-widgets/controls",
      "model_module_version": "1.4.0",
      "model_name": "HBoxModel",
      "state": {
       "children": [
        "IPY_MODEL_9c143b9149714b6db0df93e24d8c5767",
        "IPY_MODEL_cf67488b58914d6cb52cacea22954e3d"
       ],
       "layout": "IPY_MODEL_1714c785fc4c495685310363fd1565a6"
      }
     },
     "aaf60e5aff2b4b4faa4e1ba96c1de78c": {
      "model_module": "@jupyter-widgets/controls",
      "model_module_version": "1.4.0",
      "model_name": "HTMLModel",
      "state": {
       "layout": "IPY_MODEL_b5d989bce2b24c22be9f0a98a734e944",
       "style": "IPY_MODEL_d10a2af7ab4a46e38c74d0b76dc679ed",
       "value": "100% 9998900/9998900 [02:39&lt;00:00, 62511.58it/s]"
      }
     },
     "ab00e7a31e9345609bb02b87e43536c1": {
      "model_module": "@jupyter-widgets/controls",
      "model_module_version": "1.4.0",
      "model_name": "HTMLModel",
      "state": {
       "layout": "IPY_MODEL_9874739855c648d19e8bddc868f655b0",
       "style": "IPY_MODEL_1e0f5267557d47af89d76f98bc69145b",
       "value": "100% 9998900/9998900 [02:50&lt;00:00, 58658.30it/s]"
      }
     },
     "ab0f593850c4408aae82c6d5319be243": {
      "model_module": "@jupyter-widgets/controls",
      "model_module_version": "1.4.0",
      "model_name": "HTMLModel",
      "state": {
       "layout": "IPY_MODEL_4b6a1f2ebfb848c0a9ad6ece4df87904",
       "style": "IPY_MODEL_d5849feda63441d2ace0c855a46dda9e",
       "value": "100% 9998900/9998900 [02:41&lt;00:00, 61891.22it/s]"
      }
     },
     "ab4dacf19ebf4351aca3564632d32bc1": {
      "model_module": "@jupyter-widgets/controls",
      "model_module_version": "1.4.0",
      "model_name": "HBoxModel",
      "state": {
       "children": [
        "IPY_MODEL_aba2c0fa8e2e4f058a37fcc1eefde98e",
        "IPY_MODEL_2212bff1f74f49da91eb2bd1e42dd5b0"
       ],
       "layout": "IPY_MODEL_eb8ff03e82984fa7ad389c2b079ee39a"
      }
     },
     "ab4df13b828a43568f0dd9df721a96e6": {
      "model_module": "@jupyter-widgets/controls",
      "model_module_version": "1.4.0",
      "model_name": "HBoxModel",
      "state": {
       "children": [
        "IPY_MODEL_8e300a2c14a94c78a350b3ee6f2d5f8d",
        "IPY_MODEL_ca0791cbf73448efbb41627b24cb1af3"
       ],
       "layout": "IPY_MODEL_e4e4c4d661254a06a02c85676c6bda80"
      }
     },
     "ab62cf2b2a524a4190b130e24491b0e8": {
      "model_module": "@jupyter-widgets/controls",
      "model_module_version": "1.4.0",
      "model_name": "HTMLModel",
      "state": {
       "layout": "IPY_MODEL_1b6eb34e0372451695377341a83c9085",
       "style": "IPY_MODEL_dd4a535989c640d4ae4c30b935da6977",
       "value": "100% 9998900/9998900 [02:49&lt;00:00, 59106.53it/s]"
      }
     },
     "ab9115d9acf446ed9c8b04bc571b8c43": {
      "model_module": "@jupyter-widgets/base",
      "model_module_version": "1.1.0",
      "model_name": "LayoutModel",
      "state": {}
     },
     "aba2c0fa8e2e4f058a37fcc1eefde98e": {
      "model_module": "@jupyter-widgets/controls",
      "model_module_version": "1.4.0",
      "model_name": "IntProgressModel",
      "state": {
       "bar_style": "success",
       "layout": "IPY_MODEL_15bf91159527446989c99f08d167539d",
       "max": 9998900,
       "style": "IPY_MODEL_fb5bd29cea5b4dae8fa45bc5da263d42",
       "value": 9998900
      }
     },
     "abacc89cdff14966949ca18ed2e2b592": {
      "model_module": "@jupyter-widgets/controls",
      "model_module_version": "1.4.0",
      "model_name": "HBoxModel",
      "state": {
       "children": [
        "IPY_MODEL_573275c9dbc340c396f00793184d5474",
        "IPY_MODEL_485d3a4357dd497f8177c25175efd69e"
       ],
       "layout": "IPY_MODEL_6f27294a9e9844d5a30e93684fb741a1"
      }
     },
     "abb1ea3332dc4e43b46d126f4fa3102f": {
      "model_module": "@jupyter-widgets/base",
      "model_module_version": "1.1.0",
      "model_name": "LayoutModel",
      "state": {}
     },
     "abd8111a66ff426f82bb30da9161367c": {
      "model_module": "@jupyter-widgets/controls",
      "model_module_version": "1.4.0",
      "model_name": "HBoxModel",
      "state": {
       "children": [
        "IPY_MODEL_22701bc237ea4397a0ca0767b0c290f8",
        "IPY_MODEL_23c274f5ac3349cc89203389dc3b037e"
       ],
       "layout": "IPY_MODEL_492dac959d754c56b625eca90ea2958a"
      }
     },
     "ac4d17eaa627463980b6150c6524792f": {
      "model_module": "@jupyter-widgets/controls",
      "model_module_version": "1.4.0",
      "model_name": "HBoxModel",
      "state": {
       "children": [
        "IPY_MODEL_7f6e4041574a439eb7c428f35399adda",
        "IPY_MODEL_fd76232b1fd04d649452aab63a0ecbac"
       ],
       "layout": "IPY_MODEL_20438fa78cce439cbafc7d855c40eaec"
      }
     },
     "ac82c5d422e447d2a288bb5e3e4a102c": {
      "model_module": "@jupyter-widgets/controls",
      "model_module_version": "1.4.0",
      "model_name": "HBoxModel",
      "state": {
       "children": [
        "IPY_MODEL_fc09eb04a6f540ad943e76b61552086d",
        "IPY_MODEL_a6ade56c975b40fba3112381397bdd2d"
       ],
       "layout": "IPY_MODEL_06875ce376e4410db2dc307809e1b7ce"
      }
     },
     "ac96b74d949b47479ab9ed8b15ec2135": {
      "model_module": "@jupyter-widgets/controls",
      "model_module_version": "1.4.0",
      "model_name": "HBoxModel",
      "state": {
       "children": [
        "IPY_MODEL_f1b5d804967f41d2856bd136331be19c",
        "IPY_MODEL_25ded423f700470bb9f81972fe774e96"
       ],
       "layout": "IPY_MODEL_645034d1d73f4a3cbdbdf3b2bcbbf120"
      }
     },
     "aca770da5f2d4d71b31fc2eacfb1be2f": {
      "model_module": "@jupyter-widgets/controls",
      "model_module_version": "1.4.0",
      "model_name": "HTMLModel",
      "state": {
       "layout": "IPY_MODEL_fa13ac0aa0844e1e92e63a5874aa3174",
       "style": "IPY_MODEL_c34f87e22ed8400187ad3cabb375cb83",
       "value": "100% 9998900/9998900 [02:51&lt;00:00, 58459.96it/s]"
      }
     },
     "acd824457bee43bfafaaa1eee11d2e2b": {
      "model_module": "@jupyter-widgets/controls",
      "model_module_version": "1.4.0",
      "model_name": "IntProgressModel",
      "state": {
       "bar_style": "success",
       "layout": "IPY_MODEL_0980f2867f044529bb8fe4e5f4d3d26a",
       "max": 9998900,
       "style": "IPY_MODEL_297d4ad7bd0b45129a1f55598206b32a",
       "value": 9998900
      }
     },
     "ad13a62c73aa4c608753a75d4ec6cf66": {
      "model_module": "@jupyter-widgets/base",
      "model_module_version": "1.1.0",
      "model_name": "LayoutModel",
      "state": {}
     },
     "ad5af46d64f441009e4fc84ca955e7cc": {
      "model_module": "@jupyter-widgets/controls",
      "model_module_version": "1.4.0",
      "model_name": "DescriptionStyleModel",
      "state": {
       "description_width": ""
      }
     },
     "ada9a3d4e533479c9c3bae0d3f552ad7": {
      "model_module": "@jupyter-widgets/controls",
      "model_module_version": "1.4.0",
      "model_name": "IntProgressModel",
      "state": {
       "bar_style": "success",
       "layout": "IPY_MODEL_40d6401d828c4702a9320877fea50909",
       "max": 9998900,
       "style": "IPY_MODEL_77969968735a417092bbbebe765e613a",
       "value": 9998900
      }
     },
     "adc32139230248e59b29bb007791f6d5": {
      "model_module": "@jupyter-widgets/controls",
      "model_module_version": "1.4.0",
      "model_name": "HTMLModel",
      "state": {
       "layout": "IPY_MODEL_2bed914097884a50b4293197c6a36e73",
       "style": "IPY_MODEL_a0c1d2305dce4648a8ddfa3a4df49593",
       "value": "100% 9998900/9998900 [02:36&lt;00:00, 64083.64it/s]"
      }
     },
     "adcd611f5e0a4349b79968871a1acf4a": {
      "model_module": "@jupyter-widgets/controls",
      "model_module_version": "1.4.0",
      "model_name": "DescriptionStyleModel",
      "state": {
       "description_width": ""
      }
     },
     "ae2e315e555847f9808a6c1b27c54ab5": {
      "model_module": "@jupyter-widgets/controls",
      "model_module_version": "1.4.0",
      "model_name": "HBoxModel",
      "state": {
       "children": [
        "IPY_MODEL_acd824457bee43bfafaaa1eee11d2e2b",
        "IPY_MODEL_0488e8ad939b4b4784ea12415064de7d"
       ],
       "layout": "IPY_MODEL_c19b757f3e134146899b5fc6a2195b14"
      }
     },
     "ae6d52f7e8694905bbc985cc6ed69b22": {
      "model_module": "@jupyter-widgets/controls",
      "model_module_version": "1.4.0",
      "model_name": "DescriptionStyleModel",
      "state": {
       "description_width": ""
      }
     },
     "ae710dfb2502453fbb67cbb0adbf9744": {
      "model_module": "@jupyter-widgets/base",
      "model_module_version": "1.1.0",
      "model_name": "LayoutModel",
      "state": {}
     },
     "ae87e339c8154d8fa56e1d2258944359": {
      "model_module": "@jupyter-widgets/controls",
      "model_module_version": "1.4.0",
      "model_name": "IntProgressModel",
      "state": {
       "bar_style": "success",
       "layout": "IPY_MODEL_41e5ceebfaf44c3e8e39d349c928e33f",
       "max": 9998900,
       "style": "IPY_MODEL_e01906c04e894895ad4f9756f5dba336",
       "value": 9998900
      }
     },
     "ae9d5db5771b455cbecfcaeeb197a1dd": {
      "model_module": "@jupyter-widgets/controls",
      "model_module_version": "1.4.0",
      "model_name": "DescriptionStyleModel",
      "state": {
       "description_width": ""
      }
     },
     "aedcfd543a7c493ebfa2be7ed295fdc9": {
      "model_module": "@jupyter-widgets/controls",
      "model_module_version": "1.4.0",
      "model_name": "HTMLModel",
      "state": {
       "layout": "IPY_MODEL_72e758b164624b7987ebc400e2d54b81",
       "style": "IPY_MODEL_3fe4f1a6a49142d6b7a64459372a9044",
       "value": "100% 9998900/9998900 [02:37&lt;00:00, 63445.23it/s]"
      }
     },
     "af0f0d02db824f36846224b91421541f": {
      "model_module": "@jupyter-widgets/controls",
      "model_module_version": "1.4.0",
      "model_name": "IntProgressModel",
      "state": {
       "bar_style": "success",
       "layout": "IPY_MODEL_18f139cb97264a1c9cfed7939ebd43c3",
       "max": 9998900,
       "style": "IPY_MODEL_a2b066c020b446d2b2d3c36b1bfc6051",
       "value": 9998900
      }
     },
     "af29983593374f449c34cdd136c56424": {
      "model_module": "@jupyter-widgets/controls",
      "model_module_version": "1.4.0",
      "model_name": "DescriptionStyleModel",
      "state": {
       "description_width": ""
      }
     },
     "af38d6c00c4b462c8e3518f71f73c334": {
      "model_module": "@jupyter-widgets/controls",
      "model_module_version": "1.4.0",
      "model_name": "ProgressStyleModel",
      "state": {
       "description_width": ""
      }
     },
     "af795b7187c04610a9e4a1b4fefa72a4": {
      "model_module": "@jupyter-widgets/base",
      "model_module_version": "1.1.0",
      "model_name": "LayoutModel",
      "state": {}
     },
     "af8acaf7907640ea8f2ccdf70c430b35": {
      "model_module": "@jupyter-widgets/base",
      "model_module_version": "1.1.0",
      "model_name": "LayoutModel",
      "state": {}
     },
     "afbe1ec92ae54921bb4e3cbe4663a258": {
      "model_module": "@jupyter-widgets/controls",
      "model_module_version": "1.4.0",
      "model_name": "ProgressStyleModel",
      "state": {
       "description_width": ""
      }
     },
     "afd7d070d1594f439dc5d82e50633d44": {
      "model_module": "@jupyter-widgets/controls",
      "model_module_version": "1.4.0",
      "model_name": "HTMLModel",
      "state": {
       "layout": "IPY_MODEL_c69f0c7941284069b2981e25f2d8389d",
       "style": "IPY_MODEL_8e50e36888e94b0796557a15b2d13b4c",
       "value": "100% 9998900/9998900 [02:48&lt;00:00, 59460.80it/s]"
      }
     },
     "afea170b49c54e258c48b77494a47771": {
      "model_module": "@jupyter-widgets/base",
      "model_module_version": "1.1.0",
      "model_name": "LayoutModel",
      "state": {}
     },
     "b01c161bc2174a679563a70204259b5c": {
      "model_module": "@jupyter-widgets/base",
      "model_module_version": "1.1.0",
      "model_name": "LayoutModel",
      "state": {}
     },
     "b0637c0ae19e473bafa7aa1cc004b7a9": {
      "model_module": "@jupyter-widgets/base",
      "model_module_version": "1.1.0",
      "model_name": "LayoutModel",
      "state": {}
     },
     "b07ad8c061294054bc34178f4790cb91": {
      "model_module": "@jupyter-widgets/controls",
      "model_module_version": "1.4.0",
      "model_name": "HBoxModel",
      "state": {
       "children": [
        "IPY_MODEL_4f9d135fb4c34e0ab5ebe86109295149",
        "IPY_MODEL_7f76c9b53db449cfa091f3e7bb246cb9"
       ],
       "layout": "IPY_MODEL_e08bd9ffaa05414988fd992098b4336e"
      }
     },
     "b07df5e8dd6b46fc9e7046d70df158d6": {
      "model_module": "@jupyter-widgets/controls",
      "model_module_version": "1.4.0",
      "model_name": "IntProgressModel",
      "state": {
       "bar_style": "success",
       "layout": "IPY_MODEL_1a474b377e8449499cd8c1d678ca15ad",
       "max": 9998900,
       "style": "IPY_MODEL_f97299dec6de43058afb1e5c6ab2ab12",
       "value": 9998900
      }
     },
     "b086f6f833bd45ee867a5120be5f6bb5": {
      "model_module": "@jupyter-widgets/controls",
      "model_module_version": "1.4.0",
      "model_name": "ProgressStyleModel",
      "state": {
       "description_width": ""
      }
     },
     "b113c7afd42e48728ed4fdcb51aaad93": {
      "model_module": "@jupyter-widgets/controls",
      "model_module_version": "1.4.0",
      "model_name": "HBoxModel",
      "state": {
       "children": [
        "IPY_MODEL_efad1d390c86468b8ba07ccd53c22f6e",
        "IPY_MODEL_5f1463def3f844488c3d646405b67b0f"
       ],
       "layout": "IPY_MODEL_4a8392e49d20462481aa4a4d25ca0e35"
      }
     },
     "b11605b69bb4462183557bcafbcd4c59": {
      "model_module": "@jupyter-widgets/controls",
      "model_module_version": "1.4.0",
      "model_name": "IntProgressModel",
      "state": {
       "bar_style": "success",
       "layout": "IPY_MODEL_131fec4a89b54e7b8ef41e3a6f25f9de",
       "max": 9998900,
       "style": "IPY_MODEL_2ba48c135a5648a0b2228ca66aed640f",
       "value": 9998900
      }
     },
     "b1531ff0ed194c6cbf94007f0310e8e1": {
      "model_module": "@jupyter-widgets/base",
      "model_module_version": "1.1.0",
      "model_name": "LayoutModel",
      "state": {}
     },
     "b15d6198994f4dd9b252f98e9890636c": {
      "model_module": "@jupyter-widgets/base",
      "model_module_version": "1.1.0",
      "model_name": "LayoutModel",
      "state": {}
     },
     "b16f06bcc15f44d681546d9691bb3e14": {
      "model_module": "@jupyter-widgets/controls",
      "model_module_version": "1.4.0",
      "model_name": "HTMLModel",
      "state": {
       "layout": "IPY_MODEL_36e8fea5bd7d43289eb73c0a2c27dea9",
       "style": "IPY_MODEL_12acc4ab472e4813bf5410ac753dfd8e",
       "value": "100% 9998900/9998900 [02:42&lt;00:00, 61566.56it/s]"
      }
     },
     "b18c0152159942e0839d0aad5f2ca625": {
      "model_module": "@jupyter-widgets/controls",
      "model_module_version": "1.4.0",
      "model_name": "ProgressStyleModel",
      "state": {
       "description_width": ""
      }
     },
     "b193e98e67ed49b6ab335f75aef1bc4b": {
      "model_module": "@jupyter-widgets/base",
      "model_module_version": "1.1.0",
      "model_name": "LayoutModel",
      "state": {}
     },
     "b199bc61b52b43f3a989d4db791cee5e": {
      "model_module": "@jupyter-widgets/controls",
      "model_module_version": "1.4.0",
      "model_name": "HBoxModel",
      "state": {
       "children": [
        "IPY_MODEL_1c4cf8f0aec94dcf99c086591abd7073",
        "IPY_MODEL_3412a1da1e8947ed8503c3b1154514fb"
       ],
       "layout": "IPY_MODEL_d70dc8d7d13d43a7843400df14038114"
      }
     },
     "b1b8064f296d4f409246a5d8c6e22c3a": {
      "model_module": "@jupyter-widgets/base",
      "model_module_version": "1.1.0",
      "model_name": "LayoutModel",
      "state": {}
     },
     "b1c28dd76094488bb830fd0001d4f330": {
      "model_module": "@jupyter-widgets/base",
      "model_module_version": "1.1.0",
      "model_name": "LayoutModel",
      "state": {}
     },
     "b1de8a94a39444e4ba74e628c23587f5": {
      "model_module": "@jupyter-widgets/base",
      "model_module_version": "1.1.0",
      "model_name": "LayoutModel",
      "state": {}
     },
     "b23d0b902eae4f939e7005f6349d1076": {
      "model_module": "@jupyter-widgets/controls",
      "model_module_version": "1.4.0",
      "model_name": "ProgressStyleModel",
      "state": {
       "description_width": ""
      }
     },
     "b259c796bf2243e3a47f805137123adf": {
      "model_module": "@jupyter-widgets/base",
      "model_module_version": "1.1.0",
      "model_name": "LayoutModel",
      "state": {}
     },
     "b25f4b931a604ad79a442fc122644c60": {
      "model_module": "@jupyter-widgets/base",
      "model_module_version": "1.1.0",
      "model_name": "LayoutModel",
      "state": {}
     },
     "b26b13c58624429fb4fdc1d4e523dc04": {
      "model_module": "@jupyter-widgets/controls",
      "model_module_version": "1.4.0",
      "model_name": "DescriptionStyleModel",
      "state": {
       "description_width": ""
      }
     },
     "b270b764d5b44a3da6f239ac4a69b50b": {
      "model_module": "@jupyter-widgets/controls",
      "model_module_version": "1.4.0",
      "model_name": "DescriptionStyleModel",
      "state": {
       "description_width": ""
      }
     },
     "b2721f2d9bf7407cb869e96d6359d6eb": {
      "model_module": "@jupyter-widgets/base",
      "model_module_version": "1.1.0",
      "model_name": "LayoutModel",
      "state": {}
     },
     "b2cbbb48ee6d47f198b5e5a85f663f0c": {
      "model_module": "@jupyter-widgets/controls",
      "model_module_version": "1.4.0",
      "model_name": "HTMLModel",
      "state": {
       "layout": "IPY_MODEL_e4cbfacbc6c34fe2910018ec6e58144b",
       "style": "IPY_MODEL_ae9d5db5771b455cbecfcaeeb197a1dd",
       "value": "100% 9998900/9998900 [02:49&lt;00:00, 58953.93it/s]"
      }
     },
     "b3238ca7e86245f8a9d8a5a2ddb63bfa": {
      "model_module": "@jupyter-widgets/controls",
      "model_module_version": "1.4.0",
      "model_name": "ProgressStyleModel",
      "state": {
       "description_width": ""
      }
     },
     "b329450ca1a2430381bc7d086e2395d0": {
      "model_module": "@jupyter-widgets/controls",
      "model_module_version": "1.4.0",
      "model_name": "HTMLModel",
      "state": {
       "layout": "IPY_MODEL_c4f2f3ef56c14fd5b07486ed53cef914",
       "style": "IPY_MODEL_0dfbc1ac5f6b430cb822f6f4168fd00b",
       "value": "100% 9998900/9998900 [02:37&lt;00:00, 63624.21it/s]"
      }
     },
     "b3aa2a825adf4e9f91321807e18617c9": {
      "model_module": "@jupyter-widgets/controls",
      "model_module_version": "1.4.0",
      "model_name": "HTMLModel",
      "state": {
       "layout": "IPY_MODEL_f8219ffd4fc443e59fa1acddccfcc98e",
       "style": "IPY_MODEL_15bfeaa3c3724134bab5214b30362bd7",
       "value": "100% 9998900/9998900 [02:48&lt;00:00, 59445.51it/s]"
      }
     },
     "b3b2f350067a4379b7d874de38d4c649": {
      "model_module": "@jupyter-widgets/base",
      "model_module_version": "1.1.0",
      "model_name": "LayoutModel",
      "state": {}
     },
     "b3b356db107f417a914535928fd7db58": {
      "model_module": "@jupyter-widgets/controls",
      "model_module_version": "1.4.0",
      "model_name": "HBoxModel",
      "state": {
       "children": [
        "IPY_MODEL_f6ddc91e0eb043f585f079293deeb9df",
        "IPY_MODEL_1049afd01ce3488cb51d8e0641a1e4f4"
       ],
       "layout": "IPY_MODEL_42c51f5962c3457981dd5dc8d85eddf8"
      }
     },
     "b402f0c958934073ac42cbb723e673db": {
      "model_module": "@jupyter-widgets/controls",
      "model_module_version": "1.4.0",
      "model_name": "HTMLModel",
      "state": {
       "layout": "IPY_MODEL_01459ec6bc584b5388b26d228d780544",
       "style": "IPY_MODEL_30c87111eea54769b4dc2644e8298c9a",
       "value": "100% 9998900/9998900 [02:46&lt;00:00, 60209.30it/s]"
      }
     },
     "b42423dd6bca4e229184c131acd19e62": {
      "model_module": "@jupyter-widgets/controls",
      "model_module_version": "1.4.0",
      "model_name": "ProgressStyleModel",
      "state": {
       "description_width": ""
      }
     },
     "b45382806318470bbc665c70b6d55b02": {
      "model_module": "@jupyter-widgets/base",
      "model_module_version": "1.1.0",
      "model_name": "LayoutModel",
      "state": {}
     },
     "b48720c5c91f41d7b6b35f435eaef102": {
      "model_module": "@jupyter-widgets/controls",
      "model_module_version": "1.4.0",
      "model_name": "HTMLModel",
      "state": {
       "layout": "IPY_MODEL_f313b2d24cff4453a926969c2dd81f1d",
       "style": "IPY_MODEL_dd7eaeaec0394d88a6addd5267a0eab1",
       "value": "100% 9998900/9998900 [02:51&lt;00:00, 58314.90it/s]"
      }
     },
     "b4c27883bf894fafb115be481d561891": {
      "model_module": "@jupyter-widgets/base",
      "model_module_version": "1.1.0",
      "model_name": "LayoutModel",
      "state": {}
     },
     "b4fc5ae53f24462fb504851f17564670": {
      "model_module": "@jupyter-widgets/controls",
      "model_module_version": "1.4.0",
      "model_name": "DescriptionStyleModel",
      "state": {
       "description_width": ""
      }
     },
     "b513fee3b8ea4df3a92cb1ad0b33d414": {
      "model_module": "@jupyter-widgets/controls",
      "model_module_version": "1.4.0",
      "model_name": "HBoxModel",
      "state": {
       "children": [
        "IPY_MODEL_bf01fd73698c48998c51faef9f563bec",
        "IPY_MODEL_43b8a025eba94335b22510ea42cd1b84"
       ],
       "layout": "IPY_MODEL_a1e1d600e9d6424a9616ee37a62edd50"
      }
     },
     "b56091e0103845db8274daf885bfe891": {
      "model_module": "@jupyter-widgets/controls",
      "model_module_version": "1.4.0",
      "model_name": "HTMLModel",
      "state": {
       "layout": "IPY_MODEL_3778b4b0ca244e6098726b94165a5ccb",
       "style": "IPY_MODEL_f64aa9e945b742719d0a501e11854252",
       "value": "100% 9998900/9998900 [02:46&lt;00:00, 59910.30it/s]"
      }
     },
     "b5d989bce2b24c22be9f0a98a734e944": {
      "model_module": "@jupyter-widgets/base",
      "model_module_version": "1.1.0",
      "model_name": "LayoutModel",
      "state": {}
     },
     "b629632e847b4de891a0f06a0b8607b5": {
      "model_module": "@jupyter-widgets/controls",
      "model_module_version": "1.4.0",
      "model_name": "HBoxModel",
      "state": {
       "children": [
        "IPY_MODEL_fb5f1d6b46344bd982a4025abbbfe8e1",
        "IPY_MODEL_5b1e54c88f89443ca6cea3e302214c01"
       ],
       "layout": "IPY_MODEL_3283f8c23ea84bfd897236eeb9fb3691"
      }
     },
     "b638177c03374863813a1b13b5db0b02": {
      "model_module": "@jupyter-widgets/base",
      "model_module_version": "1.1.0",
      "model_name": "LayoutModel",
      "state": {}
     },
     "b66cf79ed53f45ba9efc88c3fe25fa08": {
      "model_module": "@jupyter-widgets/controls",
      "model_module_version": "1.4.0",
      "model_name": "HBoxModel",
      "state": {
       "children": [
        "IPY_MODEL_b07df5e8dd6b46fc9e7046d70df158d6",
        "IPY_MODEL_c74964bb92a44845b7788058c0dbf92e"
       ],
       "layout": "IPY_MODEL_ef968112c50a48dc971728851ba4eb85"
      }
     },
     "b679599b4f6b4578a78a7fb92a50a018": {
      "model_module": "@jupyter-widgets/controls",
      "model_module_version": "1.4.0",
      "model_name": "IntProgressModel",
      "state": {
       "bar_style": "success",
       "layout": "IPY_MODEL_bdd2c27b2b5c4b648af2586aab1fa1a2",
       "max": 9998900,
       "style": "IPY_MODEL_5add3d516ca6407abaa9bc0cd4fd2fde",
       "value": 9998900
      }
     },
     "b68a4054314d46c0bee66af00e806a59": {
      "model_module": "@jupyter-widgets/base",
      "model_module_version": "1.1.0",
      "model_name": "LayoutModel",
      "state": {}
     },
     "b68f2ee199da4151899d2293ca45ef10": {
      "model_module": "@jupyter-widgets/controls",
      "model_module_version": "1.4.0",
      "model_name": "DescriptionStyleModel",
      "state": {
       "description_width": ""
      }
     },
     "b7173b6e560944489fbad6e36d4417e6": {
      "model_module": "@jupyter-widgets/base",
      "model_module_version": "1.1.0",
      "model_name": "LayoutModel",
      "state": {}
     },
     "b719f771bee5494b91cef8d8961f5c3a": {
      "model_module": "@jupyter-widgets/base",
      "model_module_version": "1.1.0",
      "model_name": "LayoutModel",
      "state": {}
     },
     "b76ecf43f4c7432a82af43a7979ca97c": {
      "model_module": "@jupyter-widgets/controls",
      "model_module_version": "1.4.0",
      "model_name": "IntProgressModel",
      "state": {
       "bar_style": "success",
       "layout": "IPY_MODEL_27079e42a9d54cf08890e79f45a59452",
       "max": 9998900,
       "style": "IPY_MODEL_ce50bc5e550e4a24964fdbdfd4ed4fda",
       "value": 9998900
      }
     },
     "b7729354921c4c78a53690e0801a5267": {
      "model_module": "@jupyter-widgets/base",
      "model_module_version": "1.1.0",
      "model_name": "LayoutModel",
      "state": {}
     },
     "b7c348a8a92a44278eda48707a924027": {
      "model_module": "@jupyter-widgets/controls",
      "model_module_version": "1.4.0",
      "model_name": "HBoxModel",
      "state": {
       "children": [
        "IPY_MODEL_f26783173d0c42c38c8af5a794d60022",
        "IPY_MODEL_052a490838da485aaaec07a96aa368e9"
       ],
       "layout": "IPY_MODEL_aa4cb18a9c554fdc9bb654bbca49a9e4"
      }
     },
     "b7e413de75f544929c9007367cf1a6cd": {
      "model_module": "@jupyter-widgets/controls",
      "model_module_version": "1.4.0",
      "model_name": "IntProgressModel",
      "state": {
       "bar_style": "success",
       "layout": "IPY_MODEL_be4d470da8c847139022f7318b2620f4",
       "max": 9998900,
       "style": "IPY_MODEL_f719e03ead5a4d1a9382484c8cf4bf3f",
       "value": 9998900
      }
     },
     "b7e871d8d8b44260b3779ee46566136a": {
      "model_module": "@jupyter-widgets/base",
      "model_module_version": "1.1.0",
      "model_name": "LayoutModel",
      "state": {}
     },
     "b7efbf7b24f7406b84d6e9dbdebd822f": {
      "model_module": "@jupyter-widgets/controls",
      "model_module_version": "1.4.0",
      "model_name": "HTMLModel",
      "state": {
       "layout": "IPY_MODEL_9be6ce41e20d4db1a2ae660e46f1fbbf",
       "style": "IPY_MODEL_fc9181b634a6434f9da5b68cae2eefc2",
       "value": "100% 9998900/9998900 [03:04&lt;00:00, 54278.78it/s]"
      }
     },
     "b7f7d8fc7469445b8cedbac0ad6d07f0": {
      "model_module": "@jupyter-widgets/base",
      "model_module_version": "1.1.0",
      "model_name": "LayoutModel",
      "state": {}
     },
     "b8c3727ff5e745a298e7b20f864e8572": {
      "model_module": "@jupyter-widgets/controls",
      "model_module_version": "1.4.0",
      "model_name": "HBoxModel",
      "state": {
       "children": [
        "IPY_MODEL_dc9fc1cd4a834133aa3686dc55d3a3b7",
        "IPY_MODEL_a9c7614d66804472972e3348ca9a354c"
       ],
       "layout": "IPY_MODEL_a5e43bf790a841b78f08f779c150cdb4"
      }
     },
     "b8feacc30bc947afae996cc5ad934324": {
      "model_module": "@jupyter-widgets/controls",
      "model_module_version": "1.4.0",
      "model_name": "DescriptionStyleModel",
      "state": {
       "description_width": ""
      }
     },
     "b93d27e66b5542fe9a60351308491c42": {
      "model_module": "@jupyter-widgets/base",
      "model_module_version": "1.1.0",
      "model_name": "LayoutModel",
      "state": {}
     },
     "b96dec6fac0c49e9bb8ce884a18b79f7": {
      "model_module": "@jupyter-widgets/controls",
      "model_module_version": "1.4.0",
      "model_name": "DescriptionStyleModel",
      "state": {
       "description_width": ""
      }
     },
     "b992a4327e434851ae11c132f5db4f07": {
      "model_module": "@jupyter-widgets/controls",
      "model_module_version": "1.4.0",
      "model_name": "HBoxModel",
      "state": {
       "children": [
        "IPY_MODEL_88b7a89b152c4735abf92530812340b8",
        "IPY_MODEL_53fa6e279ce64fc9a29db0d3d3fa7405"
       ],
       "layout": "IPY_MODEL_f14854d5e6d74974972a3e19145dc2be"
      }
     },
     "b9a216a3dbaf4b47aa18965b8ef99674": {
      "model_module": "@jupyter-widgets/base",
      "model_module_version": "1.1.0",
      "model_name": "LayoutModel",
      "state": {}
     },
     "ba1a3df317684742bd584b16bc525b13": {
      "model_module": "@jupyter-widgets/base",
      "model_module_version": "1.1.0",
      "model_name": "LayoutModel",
      "state": {}
     },
     "ba5df62ce1eb40d9a21e67e79097af08": {
      "model_module": "@jupyter-widgets/base",
      "model_module_version": "1.1.0",
      "model_name": "LayoutModel",
      "state": {}
     },
     "ba90fe359d144a7d92a0ed3172332094": {
      "model_module": "@jupyter-widgets/controls",
      "model_module_version": "1.4.0",
      "model_name": "HBoxModel",
      "state": {
       "children": [
        "IPY_MODEL_e6ad7b0d446d465192fb6cbfe28e0dcb",
        "IPY_MODEL_991f7e8c676946018e1a921f2764458d"
       ],
       "layout": "IPY_MODEL_e17bf9bfec1443c394264733b2f4be2c"
      }
     },
     "ba9157bde34d4dfab81591075ffcc463": {
      "model_module": "@jupyter-widgets/controls",
      "model_module_version": "1.4.0",
      "model_name": "ProgressStyleModel",
      "state": {
       "description_width": ""
      }
     },
     "baa7420774d24812bf489da4d0025635": {
      "model_module": "@jupyter-widgets/base",
      "model_module_version": "1.1.0",
      "model_name": "LayoutModel",
      "state": {}
     },
     "bad9cbdf7e67435597c9dfd50d0eda7e": {
      "model_module": "@jupyter-widgets/controls",
      "model_module_version": "1.4.0",
      "model_name": "DescriptionStyleModel",
      "state": {
       "description_width": ""
      }
     },
     "bae8de2383a748f9acf36a29c058b3c6": {
      "model_module": "@jupyter-widgets/base",
      "model_module_version": "1.1.0",
      "model_name": "LayoutModel",
      "state": {}
     },
     "bae9661f89d348a687acbe97b686bd14": {
      "model_module": "@jupyter-widgets/controls",
      "model_module_version": "1.4.0",
      "model_name": "ProgressStyleModel",
      "state": {
       "description_width": ""
      }
     },
     "bb3ee5021de44b27bc8770952089d2bc": {
      "model_module": "@jupyter-widgets/controls",
      "model_module_version": "1.4.0",
      "model_name": "HTMLModel",
      "state": {
       "layout": "IPY_MODEL_e1149647a1164aa79a20dcfbd7cc4b9c",
       "style": "IPY_MODEL_3551683a786846388076b40710658aa9",
       "value": "100% 9998900/9998900 [02:49&lt;00:00, 59161.68it/s]"
      }
     },
     "bb74ad93256949c39b45bae4840db59f": {
      "model_module": "@jupyter-widgets/base",
      "model_module_version": "1.1.0",
      "model_name": "LayoutModel",
      "state": {}
     },
     "bb8c66b0ef054d1db59563920fa3d33f": {
      "model_module": "@jupyter-widgets/base",
      "model_module_version": "1.1.0",
      "model_name": "LayoutModel",
      "state": {}
     },
     "bbadd917c1b74705a0c0c740014731be": {
      "model_module": "@jupyter-widgets/controls",
      "model_module_version": "1.4.0",
      "model_name": "HBoxModel",
      "state": {
       "children": [
        "IPY_MODEL_b679599b4f6b4578a78a7fb92a50a018",
        "IPY_MODEL_72a6bd64f44c49cda661d2d9fee62be2"
       ],
       "layout": "IPY_MODEL_e8c5c8e6a93b4088a59916f40e236ecc"
      }
     },
     "bbd00a4decaa45688b688bb3b0f0af4c": {
      "model_module": "@jupyter-widgets/controls",
      "model_module_version": "1.4.0",
      "model_name": "HBoxModel",
      "state": {
       "children": [
        "IPY_MODEL_509206ad4ed6489f9e11d3d0b0cde5db",
        "IPY_MODEL_204258a3351e40c6842970263821591a"
       ],
       "layout": "IPY_MODEL_bb74ad93256949c39b45bae4840db59f"
      }
     },
     "bbd50c3a42b643d38a96ae3f59e716d1": {
      "model_module": "@jupyter-widgets/controls",
      "model_module_version": "1.4.0",
      "model_name": "HBoxModel",
      "state": {
       "children": [
        "IPY_MODEL_e7df1509a406427e9a4fd904f4a9efae",
        "IPY_MODEL_147bf81583e54d26813034a0aa4306b1"
       ],
       "layout": "IPY_MODEL_958020a91f9244e28af379beb6de8126"
      }
     },
     "bbf7d99eaab6403aba7e71b4e4559fa4": {
      "model_module": "@jupyter-widgets/controls",
      "model_module_version": "1.4.0",
      "model_name": "DescriptionStyleModel",
      "state": {
       "description_width": ""
      }
     },
     "bc2d0fb7d883466fb3fbbdb284fa847a": {
      "model_module": "@jupyter-widgets/controls",
      "model_module_version": "1.4.0",
      "model_name": "IntProgressModel",
      "state": {
       "bar_style": "success",
       "layout": "IPY_MODEL_0df9a2b0902547998a2fb1e9567420e6",
       "max": 9998900,
       "style": "IPY_MODEL_01ca3990130f4bb584a2c29e97804af1",
       "value": 9998900
      }
     },
     "bc3bde04894e47f9ba871430e1fd13e5": {
      "model_module": "@jupyter-widgets/controls",
      "model_module_version": "1.4.0",
      "model_name": "ProgressStyleModel",
      "state": {
       "description_width": ""
      }
     },
     "bc7a6ec46ee5414c9db6d7d234988fba": {
      "model_module": "@jupyter-widgets/controls",
      "model_module_version": "1.4.0",
      "model_name": "ProgressStyleModel",
      "state": {
       "description_width": ""
      }
     },
     "bca977f623d34a3abab8413d0cea959b": {
      "model_module": "@jupyter-widgets/controls",
      "model_module_version": "1.4.0",
      "model_name": "HBoxModel",
      "state": {
       "children": [
        "IPY_MODEL_a68c00b3f39f4cc599df9979415b398d",
        "IPY_MODEL_c819757e522744ed85682525fb3014fc"
       ],
       "layout": "IPY_MODEL_33ce2c78888c49fc885b09fa443dedb1"
      }
     },
     "bcabd24677a54941a14c57c9ab96a254": {
      "model_module": "@jupyter-widgets/base",
      "model_module_version": "1.1.0",
      "model_name": "LayoutModel",
      "state": {}
     },
     "bcc020227c7e48e08758df3ee29eb5f2": {
      "model_module": "@jupyter-widgets/controls",
      "model_module_version": "1.4.0",
      "model_name": "DescriptionStyleModel",
      "state": {
       "description_width": ""
      }
     },
     "bccdea79b7a04b01a12e7c9e0c236bb9": {
      "model_module": "@jupyter-widgets/controls",
      "model_module_version": "1.4.0",
      "model_name": "ProgressStyleModel",
      "state": {
       "description_width": ""
      }
     },
     "bce2a8a51f52409db17d471500d8f309": {
      "model_module": "@jupyter-widgets/controls",
      "model_module_version": "1.4.0",
      "model_name": "HBoxModel",
      "state": {
       "children": [
        "IPY_MODEL_f232f9b0593d44d390e49110205f6bb3",
        "IPY_MODEL_5c68361a727e4c908fc91d450468202f"
       ],
       "layout": "IPY_MODEL_1c430fabf9084981bebfd7912862575b"
      }
     },
     "bd05a1c9ab2a40268c0922461f7f90a7": {
      "model_module": "@jupyter-widgets/controls",
      "model_module_version": "1.4.0",
      "model_name": "ProgressStyleModel",
      "state": {
       "description_width": ""
      }
     },
     "bd0e079f44d94c12a698bc9b475231c9": {
      "model_module": "@jupyter-widgets/controls",
      "model_module_version": "1.4.0",
      "model_name": "DescriptionStyleModel",
      "state": {
       "description_width": ""
      }
     },
     "bd49b1d21277478d8bf977b6e2779350": {
      "model_module": "@jupyter-widgets/base",
      "model_module_version": "1.1.0",
      "model_name": "LayoutModel",
      "state": {}
     },
     "bd6955920fa04110bf63a35b8d77fdc3": {
      "model_module": "@jupyter-widgets/base",
      "model_module_version": "1.1.0",
      "model_name": "LayoutModel",
      "state": {}
     },
     "bd8c247842bb44b6ba7b1dfaabcef4b5": {
      "model_module": "@jupyter-widgets/base",
      "model_module_version": "1.1.0",
      "model_name": "LayoutModel",
      "state": {}
     },
     "bdce358b83ee48a6a4c629ae59edf884": {
      "model_module": "@jupyter-widgets/controls",
      "model_module_version": "1.4.0",
      "model_name": "HBoxModel",
      "state": {
       "children": [
        "IPY_MODEL_f84fbe4b353c4ee7945225e7c7750d64",
        "IPY_MODEL_cb4c673d694947c0ac536931a171036a"
       ],
       "layout": "IPY_MODEL_c36df9991ecf4d0bad3dcbe21820c14a"
      }
     },
     "bdd2c27b2b5c4b648af2586aab1fa1a2": {
      "model_module": "@jupyter-widgets/base",
      "model_module_version": "1.1.0",
      "model_name": "LayoutModel",
      "state": {}
     },
     "bdd6fbbfb44b495ebeea2024a781dadf": {
      "model_module": "@jupyter-widgets/controls",
      "model_module_version": "1.4.0",
      "model_name": "HBoxModel",
      "state": {
       "children": [
        "IPY_MODEL_dfaccbbd718d4c90ab56352b32387a17",
        "IPY_MODEL_d7df7d27364647188f1f65a3bed6cece"
       ],
       "layout": "IPY_MODEL_4d3994a53c1d49488073ed406d8eda6a"
      }
     },
     "bde1bebbf65b4a55af662bd83603fb49": {
      "model_module": "@jupyter-widgets/controls",
      "model_module_version": "1.4.0",
      "model_name": "HTMLModel",
      "state": {
       "layout": "IPY_MODEL_f451ae5a06ba468482311717d147709c",
       "style": "IPY_MODEL_53c8f4b3f5b64061b6d1f43e6b8259b1",
       "value": "100% 9998900/9998900 [02:44&lt;00:00, 60608.91it/s]"
      }
     },
     "bdeaf33efe7b438abf9afd2563a4f84c": {
      "model_module": "@jupyter-widgets/controls",
      "model_module_version": "1.4.0",
      "model_name": "DescriptionStyleModel",
      "state": {
       "description_width": ""
      }
     },
     "bdf95d931f6344fc99767af571dd5adf": {
      "model_module": "@jupyter-widgets/controls",
      "model_module_version": "1.4.0",
      "model_name": "IntProgressModel",
      "state": {
       "bar_style": "success",
       "layout": "IPY_MODEL_e1377d1d843549eaa33fef8c3f5b75d0",
       "max": 9998900,
       "style": "IPY_MODEL_af38d6c00c4b462c8e3518f71f73c334",
       "value": 9998900
      }
     },
     "be18a1364f1b4fc6991c4340b2d9a513": {
      "model_module": "@jupyter-widgets/controls",
      "model_module_version": "1.4.0",
      "model_name": "DescriptionStyleModel",
      "state": {
       "description_width": ""
      }
     },
     "be3f9c3c5f76409ca355a1f1564bc140": {
      "model_module": "@jupyter-widgets/controls",
      "model_module_version": "1.4.0",
      "model_name": "HTMLModel",
      "state": {
       "layout": "IPY_MODEL_9709a72e6a7249eb9ab5e62cbc1f7df6",
       "style": "IPY_MODEL_77712fde1d424bfab27c11f94ab8dfaf",
       "value": "100% 9998900/9998900 [02:56&lt;00:00, 56782.06it/s]"
      }
     },
     "be4d470da8c847139022f7318b2620f4": {
      "model_module": "@jupyter-widgets/base",
      "model_module_version": "1.1.0",
      "model_name": "LayoutModel",
      "state": {}
     },
     "be8042152b0e4d778c89691be92c19b1": {
      "model_module": "@jupyter-widgets/base",
      "model_module_version": "1.1.0",
      "model_name": "LayoutModel",
      "state": {}
     },
     "bf01fd73698c48998c51faef9f563bec": {
      "model_module": "@jupyter-widgets/controls",
      "model_module_version": "1.4.0",
      "model_name": "IntProgressModel",
      "state": {
       "bar_style": "success",
       "layout": "IPY_MODEL_0166b2db131d4ca29d30831bf7c70868",
       "max": 9998900,
       "style": "IPY_MODEL_a20344dcdac3417690898bbf0c886c6f",
       "value": 9998900
      }
     },
     "bf5e08f779d847b7a9730b74623d8a17": {
      "model_module": "@jupyter-widgets/controls",
      "model_module_version": "1.4.0",
      "model_name": "HTMLModel",
      "state": {
       "layout": "IPY_MODEL_5462105f9c8d44a5b9b01f6f0b6c88d9",
       "style": "IPY_MODEL_973122a046f74b52852f49907568ec6e",
       "value": "100% 9998900/9998900 [02:54&lt;00:00, 57459.99it/s]"
      }
     },
     "bfc758f64e434e92934769484d319582": {
      "model_module": "@jupyter-widgets/controls",
      "model_module_version": "1.4.0",
      "model_name": "DescriptionStyleModel",
      "state": {
       "description_width": ""
      }
     },
     "bfdb3553dec54697b07058f7c3952e46": {
      "model_module": "@jupyter-widgets/controls",
      "model_module_version": "1.4.0",
      "model_name": "ProgressStyleModel",
      "state": {
       "description_width": ""
      }
     },
     "bfe084c4494d4f37ac20aeff695f13dc": {
      "model_module": "@jupyter-widgets/controls",
      "model_module_version": "1.4.0",
      "model_name": "IntProgressModel",
      "state": {
       "bar_style": "success",
       "layout": "IPY_MODEL_63ada00e3a4043449c83774b9e18328b",
       "max": 9998900,
       "style": "IPY_MODEL_5cbdd9fb20f74a139e8aa69b022d1e9f",
       "value": 9998900
      }
     },
     "c005bef15ed44fc0a9f91dff3bf65b41": {
      "model_module": "@jupyter-widgets/controls",
      "model_module_version": "1.4.0",
      "model_name": "DescriptionStyleModel",
      "state": {
       "description_width": ""
      }
     },
     "c0202e24c7de45509147fac063dfe3a2": {
      "model_module": "@jupyter-widgets/controls",
      "model_module_version": "1.4.0",
      "model_name": "DescriptionStyleModel",
      "state": {
       "description_width": ""
      }
     },
     "c04a660cc9e64e36a27c0a02dd93d5ea": {
      "model_module": "@jupyter-widgets/controls",
      "model_module_version": "1.4.0",
      "model_name": "IntProgressModel",
      "state": {
       "bar_style": "success",
       "layout": "IPY_MODEL_1947b0307c3c44eab0e0ee03511747c6",
       "max": 9998900,
       "style": "IPY_MODEL_bc7a6ec46ee5414c9db6d7d234988fba",
       "value": 9998900
      }
     },
     "c0643ecde0e44705952c3a71f403f8ea": {
      "model_module": "@jupyter-widgets/controls",
      "model_module_version": "1.4.0",
      "model_name": "IntProgressModel",
      "state": {
       "bar_style": "success",
       "layout": "IPY_MODEL_c92c4e03c83e4efd84ce87fdf22565de",
       "max": 9998900,
       "style": "IPY_MODEL_c7875b1c52474490a992cf92988b559a",
       "value": 9998900
      }
     },
     "c0716b4422514655afd3f960b2c64921": {
      "model_module": "@jupyter-widgets/controls",
      "model_module_version": "1.4.0",
      "model_name": "IntProgressModel",
      "state": {
       "bar_style": "success",
       "layout": "IPY_MODEL_6bd7353e17dc4e2e867771082ec09f87",
       "max": 1,
       "style": "IPY_MODEL_c36541f6dc144b01b2a2e21c8557c253",
       "value": 1
      }
     },
     "c08a80407b2f421babcecbe91c5f32d4": {
      "model_module": "@jupyter-widgets/controls",
      "model_module_version": "1.4.0",
      "model_name": "HTMLModel",
      "state": {
       "layout": "IPY_MODEL_f0d5771174584fd19d8c1984abea92f6",
       "style": "IPY_MODEL_384d64165e9c47b68fe6ffc1ecc8147c",
       "value": "100% 9998900/9998900 [02:56&lt;00:00, 56589.02it/s]"
      }
     },
     "c0904c6823044cffa402a79f1aa70498": {
      "model_module": "@jupyter-widgets/base",
      "model_module_version": "1.1.0",
      "model_name": "LayoutModel",
      "state": {}
     },
     "c09d3e8486c64078bc90571a4225e293": {
      "model_module": "@jupyter-widgets/base",
      "model_module_version": "1.1.0",
      "model_name": "LayoutModel",
      "state": {}
     },
     "c0f772dae7b745199aa99457524417ad": {
      "model_module": "@jupyter-widgets/base",
      "model_module_version": "1.1.0",
      "model_name": "LayoutModel",
      "state": {}
     },
     "c10a4d265f1747c298db0ee4c8af9d9f": {
      "model_module": "@jupyter-widgets/controls",
      "model_module_version": "1.4.0",
      "model_name": "ProgressStyleModel",
      "state": {
       "description_width": ""
      }
     },
     "c163c5eb003c451aae7adaed3a08793e": {
      "model_module": "@jupyter-widgets/controls",
      "model_module_version": "1.4.0",
      "model_name": "HBoxModel",
      "state": {
       "children": [
        "IPY_MODEL_3aacb77f644c4ab8907247b3d4230346",
        "IPY_MODEL_0c19323c01cc49e2ae7d46a0824cb2ae"
       ],
       "layout": "IPY_MODEL_f3734ccac016478f8e117ade0f722c7c"
      }
     },
     "c163f63103ff461ba6fc3bda0fe29b08": {
      "model_module": "@jupyter-widgets/base",
      "model_module_version": "1.1.0",
      "model_name": "LayoutModel",
      "state": {}
     },
     "c180072d459648a8881b0f391d69bcca": {
      "model_module": "@jupyter-widgets/base",
      "model_module_version": "1.1.0",
      "model_name": "LayoutModel",
      "state": {}
     },
     "c19b757f3e134146899b5fc6a2195b14": {
      "model_module": "@jupyter-widgets/base",
      "model_module_version": "1.1.0",
      "model_name": "LayoutModel",
      "state": {}
     },
     "c1ceebc2077c4156b2ceb1c92f170010": {
      "model_module": "@jupyter-widgets/base",
      "model_module_version": "1.1.0",
      "model_name": "LayoutModel",
      "state": {}
     },
     "c20bc12570cf4707bf28d34631ad6997": {
      "model_module": "@jupyter-widgets/controls",
      "model_module_version": "1.4.0",
      "model_name": "HBoxModel",
      "state": {
       "children": [
        "IPY_MODEL_6f7c06d777c74012b48c045f0b0b014d",
        "IPY_MODEL_81bb48948fb14f189d89cf1248b63594"
       ],
       "layout": "IPY_MODEL_4a855ce67ac149de848ef10dcd9b6287"
      }
     },
     "c280b609e19a436386583d1437c61d59": {
      "model_module": "@jupyter-widgets/controls",
      "model_module_version": "1.4.0",
      "model_name": "HTMLModel",
      "state": {
       "layout": "IPY_MODEL_c95d78fd5acd4222a1454c8c5a16bc3c",
       "style": "IPY_MODEL_1e42f785c9f4471388e86bfdc9a7b152",
       "value": "100% 9998900/9998900 [02:38&lt;00:00, 63181.87it/s]"
      }
     },
     "c28fd2b4f36544068195b09ff97c0961": {
      "model_module": "@jupyter-widgets/base",
      "model_module_version": "1.1.0",
      "model_name": "LayoutModel",
      "state": {}
     },
     "c2af6442afbe414c8b2cdea40c7aa16f": {
      "model_module": "@jupyter-widgets/controls",
      "model_module_version": "1.4.0",
      "model_name": "ProgressStyleModel",
      "state": {
       "description_width": ""
      }
     },
     "c2ca547b102b442c80418a3c7497da5d": {
      "model_module": "@jupyter-widgets/base",
      "model_module_version": "1.1.0",
      "model_name": "LayoutModel",
      "state": {}
     },
     "c2e2e64ea1db4d77bcf3f07bbe424b0e": {
      "model_module": "@jupyter-widgets/controls",
      "model_module_version": "1.4.0",
      "model_name": "HTMLModel",
      "state": {
       "layout": "IPY_MODEL_216cb31c8f094aa68d9d66afe41f7e6c",
       "style": "IPY_MODEL_407aa86d39e64da988024569d66f4bc8",
       "value": "100% 9998900/9998900 [02:49&lt;00:00, 58951.94it/s]"
      }
     },
     "c2f82e9cdd784e0c935c40866356db37": {
      "model_module": "@jupyter-widgets/controls",
      "model_module_version": "1.4.0",
      "model_name": "ProgressStyleModel",
      "state": {
       "description_width": ""
      }
     },
     "c34f87e22ed8400187ad3cabb375cb83": {
      "model_module": "@jupyter-widgets/controls",
      "model_module_version": "1.4.0",
      "model_name": "DescriptionStyleModel",
      "state": {
       "description_width": ""
      }
     },
     "c351a5709db64a67aaaa4b245f2666b5": {
      "model_module": "@jupyter-widgets/base",
      "model_module_version": "1.1.0",
      "model_name": "LayoutModel",
      "state": {}
     },
     "c36541f6dc144b01b2a2e21c8557c253": {
      "model_module": "@jupyter-widgets/controls",
      "model_module_version": "1.4.0",
      "model_name": "ProgressStyleModel",
      "state": {
       "description_width": ""
      }
     },
     "c36df9991ecf4d0bad3dcbe21820c14a": {
      "model_module": "@jupyter-widgets/base",
      "model_module_version": "1.1.0",
      "model_name": "LayoutModel",
      "state": {}
     },
     "c39147ce415d4f139c95c0cdf6d0431f": {
      "model_module": "@jupyter-widgets/controls",
      "model_module_version": "1.4.0",
      "model_name": "HBoxModel",
      "state": {
       "children": [
        "IPY_MODEL_95d675d71d9d43e6a5b8dc541011ba8a",
        "IPY_MODEL_4e2d3f668e7d4db49c32580b49930e74"
       ],
       "layout": "IPY_MODEL_cbb40d056eb643d2accd543474d7b905"
      }
     },
     "c3ce5d43f1694336b172647e476c3378": {
      "model_module": "@jupyter-widgets/base",
      "model_module_version": "1.1.0",
      "model_name": "LayoutModel",
      "state": {}
     },
     "c415cbedbbcc4393b684c016e11b948c": {
      "model_module": "@jupyter-widgets/controls",
      "model_module_version": "1.4.0",
      "model_name": "HBoxModel",
      "state": {
       "children": [
        "IPY_MODEL_b7e413de75f544929c9007367cf1a6cd",
        "IPY_MODEL_a792a6f7300f40e2b41941f873781843"
       ],
       "layout": "IPY_MODEL_efa0f7a97fc64f5d90b9ea3914e07bee"
      }
     },
     "c44a88320d15446cb6279e3f8e91d129": {
      "model_module": "@jupyter-widgets/controls",
      "model_module_version": "1.4.0",
      "model_name": "HTMLModel",
      "state": {
       "layout": "IPY_MODEL_8c7d1c6e4fae46b1a5eae22aa747d23a",
       "style": "IPY_MODEL_377ed728aba54b879045804a8a527e20",
       "value": "100% 9998900/9998900 [02:46&lt;00:00, 60179.75it/s]"
      }
     },
     "c48334ca50b246f98830bfa2ce7a0435": {
      "model_module": "@jupyter-widgets/controls",
      "model_module_version": "1.4.0",
      "model_name": "ProgressStyleModel",
      "state": {
       "description_width": ""
      }
     },
     "c49e07d7439c465c87cd23e42cc2830d": {
      "model_module": "@jupyter-widgets/controls",
      "model_module_version": "1.4.0",
      "model_name": "IntProgressModel",
      "state": {
       "bar_style": "success",
       "layout": "IPY_MODEL_19c9ec02dd534b8f8b373db9ff1b670a",
       "max": 9998900,
       "style": "IPY_MODEL_bc3bde04894e47f9ba871430e1fd13e5",
       "value": 9998900
      }
     },
     "c4f2f3ef56c14fd5b07486ed53cef914": {
      "model_module": "@jupyter-widgets/base",
      "model_module_version": "1.1.0",
      "model_name": "LayoutModel",
      "state": {}
     },
     "c50586c0283b4681b221ee0e359ce956": {
      "model_module": "@jupyter-widgets/base",
      "model_module_version": "1.1.0",
      "model_name": "LayoutModel",
      "state": {}
     },
     "c5135d2b946f42adbdad94493ae0c32b": {
      "model_module": "@jupyter-widgets/controls",
      "model_module_version": "1.4.0",
      "model_name": "DescriptionStyleModel",
      "state": {
       "description_width": ""
      }
     },
     "c54a5aa9a4bd4369977c353644c273fd": {
      "model_module": "@jupyter-widgets/controls",
      "model_module_version": "1.4.0",
      "model_name": "ProgressStyleModel",
      "state": {
       "description_width": ""
      }
     },
     "c55b77e8c7614df3bdadd640e04df102": {
      "model_module": "@jupyter-widgets/base",
      "model_module_version": "1.1.0",
      "model_name": "LayoutModel",
      "state": {}
     },
     "c56d634109374824b1ec71ae69aec9e0": {
      "model_module": "@jupyter-widgets/base",
      "model_module_version": "1.1.0",
      "model_name": "LayoutModel",
      "state": {}
     },
     "c56ee4953d4a42ba99ff6f4ed2df468d": {
      "model_module": "@jupyter-widgets/controls",
      "model_module_version": "1.4.0",
      "model_name": "ProgressStyleModel",
      "state": {
       "description_width": ""
      }
     },
     "c5983873f32f42cea44f32bf7dfeac80": {
      "model_module": "@jupyter-widgets/base",
      "model_module_version": "1.1.0",
      "model_name": "LayoutModel",
      "state": {}
     },
     "c5b76ff195e14c8cb413af6f21dc4fec": {
      "model_module": "@jupyter-widgets/controls",
      "model_module_version": "1.4.0",
      "model_name": "HBoxModel",
      "state": {
       "children": [
        "IPY_MODEL_860d85e5a57d4ad3a31f42cc7b9b03c0",
        "IPY_MODEL_1461c9eaad2847f2b4f39b245264258f"
       ],
       "layout": "IPY_MODEL_70ffb792d89e4f0fb0a806d55eaa490e"
      }
     },
     "c5cfad0fe12f4a9394c1cf112c190427": {
      "model_module": "@jupyter-widgets/controls",
      "model_module_version": "1.4.0",
      "model_name": "HBoxModel",
      "state": {
       "children": [
        "IPY_MODEL_ae87e339c8154d8fa56e1d2258944359",
        "IPY_MODEL_7000c4ba2f7543618f246506b78024ea"
       ],
       "layout": "IPY_MODEL_ff58037838b644a1a8984d28b5bdac6c"
      }
     },
     "c5e951edee504a6f88f4d104927fe756": {
      "model_module": "@jupyter-widgets/controls",
      "model_module_version": "1.4.0",
      "model_name": "IntProgressModel",
      "state": {
       "bar_style": "success",
       "layout": "IPY_MODEL_01671b0281154c15b360850da507dd8b",
       "max": 9998900,
       "style": "IPY_MODEL_76500255baf84b8aa4ce55e681de3820",
       "value": 9998900
      }
     },
     "c5ff46a61bd547c58fa0237da3688a1a": {
      "model_module": "@jupyter-widgets/controls",
      "model_module_version": "1.4.0",
      "model_name": "HBoxModel",
      "state": {
       "children": [
        "IPY_MODEL_f20e261da8b44e1cb0b524721b61cd76",
        "IPY_MODEL_f86038b510744691aaeda5f716966e7a"
       ],
       "layout": "IPY_MODEL_c835a87e6861437e8db34811beee4ac3"
      }
     },
     "c61f4f550433464780bc9aa9e1808c49": {
      "model_module": "@jupyter-widgets/controls",
      "model_module_version": "1.4.0",
      "model_name": "DescriptionStyleModel",
      "state": {
       "description_width": ""
      }
     },
     "c6623f5dffbe4970b6ac02051eb9fffa": {
      "model_module": "@jupyter-widgets/controls",
      "model_module_version": "1.4.0",
      "model_name": "HBoxModel",
      "state": {
       "children": [
        "IPY_MODEL_4c6ed97b568b41c28a876a9cf8bbada0",
        "IPY_MODEL_ccaad90c27e84b90b2b75b1630783541"
       ],
       "layout": "IPY_MODEL_8b11a411635f4ad68798479deb78e83a"
      }
     },
     "c66a8ce82f384ebca877bf74c84bf039": {
      "model_module": "@jupyter-widgets/base",
      "model_module_version": "1.1.0",
      "model_name": "LayoutModel",
      "state": {}
     },
     "c68fcec1ae844c88b3870ffed70ed8c1": {
      "model_module": "@jupyter-widgets/base",
      "model_module_version": "1.1.0",
      "model_name": "LayoutModel",
      "state": {}
     },
     "c69e5fa3a07f4eca958b0981f0b0a7ee": {
      "model_module": "@jupyter-widgets/controls",
      "model_module_version": "1.4.0",
      "model_name": "DescriptionStyleModel",
      "state": {
       "description_width": ""
      }
     },
     "c69f0c7941284069b2981e25f2d8389d": {
      "model_module": "@jupyter-widgets/base",
      "model_module_version": "1.1.0",
      "model_name": "LayoutModel",
      "state": {}
     },
     "c6bea2445f15488aa05b298b0d2278f9": {
      "model_module": "@jupyter-widgets/controls",
      "model_module_version": "1.4.0",
      "model_name": "HTMLModel",
      "state": {
       "layout": "IPY_MODEL_714e9b6e1db0437e910bc4854a45f316",
       "style": "IPY_MODEL_5e845b52f99244f7aadc35cf2ca7bc29",
       "value": "100% 9998900/9998900 [02:42&lt;00:00, 61643.48it/s]"
      }
     },
     "c6c57dde5ae14429a29a80090696b37f": {
      "model_module": "@jupyter-widgets/controls",
      "model_module_version": "1.4.0",
      "model_name": "IntProgressModel",
      "state": {
       "bar_style": "success",
       "layout": "IPY_MODEL_6af3edb1cfe14f739158ecd2081187a4",
       "max": 9998900,
       "style": "IPY_MODEL_00bd8b3613d549cd82e3890627f06bec",
       "value": 9998900
      }
     },
     "c6cb332d6d5a4455a3591a822c640c99": {
      "model_module": "@jupyter-widgets/base",
      "model_module_version": "1.1.0",
      "model_name": "LayoutModel",
      "state": {}
     },
     "c6e109d9dba34d4ab3ccb5074943ee93": {
      "model_module": "@jupyter-widgets/controls",
      "model_module_version": "1.4.0",
      "model_name": "HTMLModel",
      "state": {
       "layout": "IPY_MODEL_2d69d3d6b11e4482b816546ff4af296b",
       "style": "IPY_MODEL_654ae220482c4797b276b59007828dbb",
       "value": "100% 9998900/9998900 [02:46&lt;00:00, 59895.31it/s]"
      }
     },
     "c6edcb73293f4fb09a51b3c22ab2d440": {
      "model_module": "@jupyter-widgets/controls",
      "model_module_version": "1.4.0",
      "model_name": "DescriptionStyleModel",
      "state": {
       "description_width": ""
      }
     },
     "c6f31c912994443d8146d74adbc6aa3d": {
      "model_module": "@jupyter-widgets/controls",
      "model_module_version": "1.4.0",
      "model_name": "HBoxModel",
      "state": {
       "children": [
        "IPY_MODEL_042fa1ae0da24cbd856738695250b3d6",
        "IPY_MODEL_2d5589993e3f467490afb07f78d5c2e8"
       ],
       "layout": "IPY_MODEL_352b523b3a0c4e94b86e4f8ff41dfa1b"
      }
     },
     "c74964bb92a44845b7788058c0dbf92e": {
      "model_module": "@jupyter-widgets/controls",
      "model_module_version": "1.4.0",
      "model_name": "HTMLModel",
      "state": {
       "layout": "IPY_MODEL_042f0f63003b499aba7da647cb76040d",
       "style": "IPY_MODEL_e45a58f2f8ea410eb694d81d2b2b01a0",
       "value": "100% 9998900/9998900 [02:45&lt;00:00, 60590.35it/s]"
      }
     },
     "c74fd44b60794a8586c2362864a423e4": {
      "model_module": "@jupyter-widgets/controls",
      "model_module_version": "1.4.0",
      "model_name": "ProgressStyleModel",
      "state": {
       "description_width": ""
      }
     },
     "c772333d2dfd43a18b0c858993de78e5": {
      "model_module": "@jupyter-widgets/controls",
      "model_module_version": "1.4.0",
      "model_name": "HBoxModel",
      "state": {
       "children": [
        "IPY_MODEL_ce4b01dbb4db4ae299f50f5c8ed69f87",
        "IPY_MODEL_7647d4e9967b40f0a3169f1f6170089d"
       ],
       "layout": "IPY_MODEL_8aee664cbf6748cf89915d30be72804c"
      }
     },
     "c7875b1c52474490a992cf92988b559a": {
      "model_module": "@jupyter-widgets/controls",
      "model_module_version": "1.4.0",
      "model_name": "ProgressStyleModel",
      "state": {
       "description_width": ""
      }
     },
     "c7af501b012549f08e5c2813665391f6": {
      "model_module": "@jupyter-widgets/controls",
      "model_module_version": "1.4.0",
      "model_name": "DescriptionStyleModel",
      "state": {
       "description_width": ""
      }
     },
     "c7fac03b51054a4eb1bd482b318d9006": {
      "model_module": "@jupyter-widgets/controls",
      "model_module_version": "1.4.0",
      "model_name": "ProgressStyleModel",
      "state": {
       "description_width": ""
      }
     },
     "c819757e522744ed85682525fb3014fc": {
      "model_module": "@jupyter-widgets/controls",
      "model_module_version": "1.4.0",
      "model_name": "HTMLModel",
      "state": {
       "layout": "IPY_MODEL_52efb218f37a4ca38b0df90e899802e2",
       "style": "IPY_MODEL_dff8027e044a43d5b0f2eea0027668f6",
       "value": "100% 9998900/9998900 [02:46&lt;00:00, 60147.17it/s]"
      }
     },
     "c81ef9f9e93848f0a600024f91f7dea9": {
      "model_module": "@jupyter-widgets/base",
      "model_module_version": "1.1.0",
      "model_name": "LayoutModel",
      "state": {}
     },
     "c8291b0ef308471a92fad46322c6dec8": {
      "model_module": "@jupyter-widgets/controls",
      "model_module_version": "1.4.0",
      "model_name": "HTMLModel",
      "state": {
       "layout": "IPY_MODEL_ab9115d9acf446ed9c8b04bc571b8c43",
       "style": "IPY_MODEL_856a482c93ae435fae0afbd48846f657",
       "value": "100% 9998900/9998900 [03:01&lt;00:00, 55194.80it/s]"
      }
     },
     "c829e6d2534d44b1ae21ee8c5e0687e1": {
      "model_module": "@jupyter-widgets/controls",
      "model_module_version": "1.4.0",
      "model_name": "ProgressStyleModel",
      "state": {
       "description_width": ""
      }
     },
     "c835a87e6861437e8db34811beee4ac3": {
      "model_module": "@jupyter-widgets/base",
      "model_module_version": "1.1.0",
      "model_name": "LayoutModel",
      "state": {}
     },
     "c85e8f11f60b43188fa383e4c98d5a82": {
      "model_module": "@jupyter-widgets/controls",
      "model_module_version": "1.4.0",
      "model_name": "ProgressStyleModel",
      "state": {
       "description_width": ""
      }
     },
     "c8688a0865144d99b4b47fdee5a20c90": {
      "model_module": "@jupyter-widgets/controls",
      "model_module_version": "1.4.0",
      "model_name": "HBoxModel",
      "state": {
       "children": [
        "IPY_MODEL_a74242b710124163a45e83e0200bfc5f",
        "IPY_MODEL_c6e109d9dba34d4ab3ccb5074943ee93"
       ],
       "layout": "IPY_MODEL_1ed071d229cb4427824cca2e13959b7c"
      }
     },
     "c86f5ec686a64c6da41cc667ee030ff1": {
      "model_module": "@jupyter-widgets/controls",
      "model_module_version": "1.4.0",
      "model_name": "ProgressStyleModel",
      "state": {
       "description_width": ""
      }
     },
     "c88038485154495795dfa789584a2bb5": {
      "model_module": "@jupyter-widgets/controls",
      "model_module_version": "1.4.0",
      "model_name": "IntProgressModel",
      "state": {
       "bar_style": "success",
       "layout": "IPY_MODEL_ef02ebe8e7b04e2c83f9ae1757ed0c94",
       "max": 9998900,
       "style": "IPY_MODEL_ba9157bde34d4dfab81591075ffcc463",
       "value": 9998900
      }
     },
     "c8b8fa45c4fe48a5ad9e5708067d88f2": {
      "model_module": "@jupyter-widgets/base",
      "model_module_version": "1.1.0",
      "model_name": "LayoutModel",
      "state": {}
     },
     "c8f959ac88514605b4c5e284cfffb0e9": {
      "model_module": "@jupyter-widgets/base",
      "model_module_version": "1.1.0",
      "model_name": "LayoutModel",
      "state": {}
     },
     "c914992355dc4fd9a9e5b6361a96240d": {
      "model_module": "@jupyter-widgets/base",
      "model_module_version": "1.1.0",
      "model_name": "LayoutModel",
      "state": {}
     },
     "c918af2cf01f4073b50e9c74b7a4e40d": {
      "model_module": "@jupyter-widgets/base",
      "model_module_version": "1.1.0",
      "model_name": "LayoutModel",
      "state": {}
     },
     "c92c4e03c83e4efd84ce87fdf22565de": {
      "model_module": "@jupyter-widgets/base",
      "model_module_version": "1.1.0",
      "model_name": "LayoutModel",
      "state": {}
     },
     "c95397ed0d9547d4a784d467dce25467": {
      "model_module": "@jupyter-widgets/base",
      "model_module_version": "1.1.0",
      "model_name": "LayoutModel",
      "state": {}
     },
     "c95d78fd5acd4222a1454c8c5a16bc3c": {
      "model_module": "@jupyter-widgets/base",
      "model_module_version": "1.1.0",
      "model_name": "LayoutModel",
      "state": {}
     },
     "c995aedfced3422283b463b9caaa7246": {
      "model_module": "@jupyter-widgets/controls",
      "model_module_version": "1.4.0",
      "model_name": "IntProgressModel",
      "state": {
       "bar_style": "success",
       "layout": "IPY_MODEL_252ca3a326f245c98a49318c73b4f6bf",
       "max": 9998900,
       "style": "IPY_MODEL_8849b4bd50be434faaa85f6d3310a27a",
       "value": 9998900
      }
     },
     "c996e4ac50784dd8960d1d5b4e4c2bec": {
      "model_module": "@jupyter-widgets/controls",
      "model_module_version": "1.4.0",
      "model_name": "ProgressStyleModel",
      "state": {
       "description_width": ""
      }
     },
     "c99a33df85a242eba7824e32e49ddcce": {
      "model_module": "@jupyter-widgets/controls",
      "model_module_version": "1.4.0",
      "model_name": "DescriptionStyleModel",
      "state": {
       "description_width": ""
      }
     },
     "c9a6d3f4ffce4ba28d809f81f6bcb121": {
      "model_module": "@jupyter-widgets/controls",
      "model_module_version": "1.4.0",
      "model_name": "DescriptionStyleModel",
      "state": {
       "description_width": ""
      }
     },
     "c9f32bf703c347388701e5fd12ca6d00": {
      "model_module": "@jupyter-widgets/base",
      "model_module_version": "1.1.0",
      "model_name": "LayoutModel",
      "state": {}
     },
     "c9ff7fce45244bd2b829203a809645fa": {
      "model_module": "@jupyter-widgets/controls",
      "model_module_version": "1.4.0",
      "model_name": "HBoxModel",
      "state": {
       "children": [
        "IPY_MODEL_3e8356dde7da44abbb1d9305b6721439",
        "IPY_MODEL_edbe3bba7ad24894ada83981b8788d27"
       ],
       "layout": "IPY_MODEL_f842a1b339b940218ed992b1542f06ac"
      }
     },
     "ca0791cbf73448efbb41627b24cb1af3": {
      "model_module": "@jupyter-widgets/controls",
      "model_module_version": "1.4.0",
      "model_name": "HTMLModel",
      "state": {
       "layout": "IPY_MODEL_42318d4593ae4fccbe315c2489768aef",
       "style": "IPY_MODEL_50c059655a7e4674ba62c22e28aecb0c",
       "value": "100% 9998900/9998900 [02:39&lt;00:00, 62496.32it/s]"
      }
     },
     "ca2e34f63c364460a25df2c999f12fa8": {
      "model_module": "@jupyter-widgets/base",
      "model_module_version": "1.1.0",
      "model_name": "LayoutModel",
      "state": {}
     },
     "ca9ab04b0f4a4a14bf0dae23c0c4662c": {
      "model_module": "@jupyter-widgets/base",
      "model_module_version": "1.1.0",
      "model_name": "LayoutModel",
      "state": {}
     },
     "cb07460671424539b6b8f2ce8913529a": {
      "model_module": "@jupyter-widgets/base",
      "model_module_version": "1.1.0",
      "model_name": "LayoutModel",
      "state": {}
     },
     "cb145784433f432fab668d202f74a1e0": {
      "model_module": "@jupyter-widgets/controls",
      "model_module_version": "1.4.0",
      "model_name": "IntProgressModel",
      "state": {
       "bar_style": "success",
       "layout": "IPY_MODEL_3e92e7ad968a412abc7e35796aee653b",
       "max": 9998900,
       "style": "IPY_MODEL_38c052d7126d4b61ae6f09d02afadb11",
       "value": 9998900
      }
     },
     "cb3a3afcfe2a417dae7c8511bc8fe129": {
      "model_module": "@jupyter-widgets/controls",
      "model_module_version": "1.4.0",
      "model_name": "DescriptionStyleModel",
      "state": {
       "description_width": ""
      }
     },
     "cb4c06ddcf6340d59cdaf5cb4e7394ed": {
      "model_module": "@jupyter-widgets/base",
      "model_module_version": "1.1.0",
      "model_name": "LayoutModel",
      "state": {}
     },
     "cb4c673d694947c0ac536931a171036a": {
      "model_module": "@jupyter-widgets/controls",
      "model_module_version": "1.4.0",
      "model_name": "HTMLModel",
      "state": {
       "layout": "IPY_MODEL_3c5e2d0cef314d3685f673a713e3e711",
       "style": "IPY_MODEL_2cdcf743984b4c7ba56feaf17ebbdd59",
       "value": "100% 9998900/9998900 [02:48&lt;00:00, 59350.68it/s]"
      }
     },
     "cb752913585a426fb22737ccf7b49e5b": {
      "model_module": "@jupyter-widgets/base",
      "model_module_version": "1.1.0",
      "model_name": "LayoutModel",
      "state": {}
     },
     "cbb07c38bfa2463ca54f1190beaa9cad": {
      "model_module": "@jupyter-widgets/controls",
      "model_module_version": "1.4.0",
      "model_name": "IntProgressModel",
      "state": {
       "bar_style": "success",
       "layout": "IPY_MODEL_8b85d767b5744e3f94770f6788b04787",
       "max": 9998900,
       "style": "IPY_MODEL_6fe98808bb89446e87e8673e2d3bb1f5",
       "value": 9998900
      }
     },
     "cbb40d056eb643d2accd543474d7b905": {
      "model_module": "@jupyter-widgets/base",
      "model_module_version": "1.1.0",
      "model_name": "LayoutModel",
      "state": {}
     },
     "cc4ffb62068a4ec8beeabc61a3ff6627": {
      "model_module": "@jupyter-widgets/base",
      "model_module_version": "1.1.0",
      "model_name": "LayoutModel",
      "state": {}
     },
     "cc8d5820564d480caaf4fd6c673c52a3": {
      "model_module": "@jupyter-widgets/controls",
      "model_module_version": "1.4.0",
      "model_name": "HBoxModel",
      "state": {
       "children": [
        "IPY_MODEL_8b76b9761d12408eafce264f8370d1b2",
        "IPY_MODEL_3be64802a09d4454b75ebb183f95c5a9"
       ],
       "layout": "IPY_MODEL_f46942998d1f4d6f9d500c93222bd5d8"
      }
     },
     "cca1fa1efa7b4da987923d0dc85a6a6d": {
      "model_module": "@jupyter-widgets/base",
      "model_module_version": "1.1.0",
      "model_name": "LayoutModel",
      "state": {}
     },
     "ccaad90c27e84b90b2b75b1630783541": {
      "model_module": "@jupyter-widgets/controls",
      "model_module_version": "1.4.0",
      "model_name": "HTMLModel",
      "state": {
       "layout": "IPY_MODEL_f9eaabc4fe63402bab5e40242eb452dc",
       "style": "IPY_MODEL_8331398ee580485aa5d961281d128ead",
       "value": "100% 9998900/9998900 [02:39&lt;00:00, 62849.57it/s]"
      }
     },
     "ccba69ab03c14c19bfa1a956d167d739": {
      "model_module": "@jupyter-widgets/controls",
      "model_module_version": "1.4.0",
      "model_name": "HBoxModel",
      "state": {
       "children": [
        "IPY_MODEL_cbb07c38bfa2463ca54f1190beaa9cad",
        "IPY_MODEL_9d0f24249e234c2f8ecdeb5fab2bf7fd"
       ],
       "layout": "IPY_MODEL_5f7b227e0b854b1ebd9f8f4243e6ceaa"
      }
     },
     "cd535626874f46a884e53789e69bfa6c": {
      "model_module": "@jupyter-widgets/controls",
      "model_module_version": "1.4.0",
      "model_name": "HBoxModel",
      "state": {
       "children": [
        "IPY_MODEL_4eaf7cbb35514cbdba657749f85d1564",
        "IPY_MODEL_111e1ea4767e4a7e8ce00da79b15c2dd"
       ],
       "layout": "IPY_MODEL_c6cb332d6d5a4455a3591a822c640c99"
      }
     },
     "cd61727e0ae6419997c223b516186d3f": {
      "model_module": "@jupyter-widgets/base",
      "model_module_version": "1.1.0",
      "model_name": "LayoutModel",
      "state": {}
     },
     "cdf43fda4b554a518233f4f0df28cb9e": {
      "model_module": "@jupyter-widgets/base",
      "model_module_version": "1.1.0",
      "model_name": "LayoutModel",
      "state": {}
     },
     "ce10b8f259174dc1808dd77700cf73b2": {
      "model_module": "@jupyter-widgets/controls",
      "model_module_version": "1.4.0",
      "model_name": "IntProgressModel",
      "state": {
       "bar_style": "success",
       "layout": "IPY_MODEL_d607318ae3f449e2bc972b11925e3f23",
       "max": 9998900,
       "style": "IPY_MODEL_0ef51c949a13485e88f0bbf11b9014e3",
       "value": 9998900
      }
     },
     "ce181bddf0404f888cbdcf3603a301d0": {
      "model_module": "@jupyter-widgets/controls",
      "model_module_version": "1.4.0",
      "model_name": "IntProgressModel",
      "state": {
       "bar_style": "success",
       "layout": "IPY_MODEL_88f55ad372164d2e94baf7fd6767c30a",
       "max": 9998900,
       "style": "IPY_MODEL_c996e4ac50784dd8960d1d5b4e4c2bec",
       "value": 9998900
      }
     },
     "ce2973e45c5c4b98a30d4b61de9d2649": {
      "model_module": "@jupyter-widgets/base",
      "model_module_version": "1.1.0",
      "model_name": "LayoutModel",
      "state": {}
     },
     "ce4b01dbb4db4ae299f50f5c8ed69f87": {
      "model_module": "@jupyter-widgets/controls",
      "model_module_version": "1.4.0",
      "model_name": "IntProgressModel",
      "state": {
       "bar_style": "success",
       "layout": "IPY_MODEL_13dd2ce68cbe479abe3bff7706a2a72e",
       "max": 9998900,
       "style": "IPY_MODEL_957c4d0f8c304fb7a4aca6662fbf283b",
       "value": 9998900
      }
     },
     "ce50bc5e550e4a24964fdbdfd4ed4fda": {
      "model_module": "@jupyter-widgets/controls",
      "model_module_version": "1.4.0",
      "model_name": "ProgressStyleModel",
      "state": {
       "description_width": ""
      }
     },
     "ce54ae7cf65a4e64ab57d5e64e169908": {
      "model_module": "@jupyter-widgets/base",
      "model_module_version": "1.1.0",
      "model_name": "LayoutModel",
      "state": {}
     },
     "ce74936c784c44f9bac81523bcc342f5": {
      "model_module": "@jupyter-widgets/controls",
      "model_module_version": "1.4.0",
      "model_name": "DescriptionStyleModel",
      "state": {
       "description_width": ""
      }
     },
     "ce9c0b6d831d41409beed241c5476ef4": {
      "model_module": "@jupyter-widgets/base",
      "model_module_version": "1.1.0",
      "model_name": "LayoutModel",
      "state": {}
     },
     "cebae78fef544c559f741b84eaaeb454": {
      "model_module": "@jupyter-widgets/controls",
      "model_module_version": "1.4.0",
      "model_name": "HBoxModel",
      "state": {
       "children": [
        "IPY_MODEL_2a343e6c99d943d5b1bb27daa963eeae",
        "IPY_MODEL_b56091e0103845db8274daf885bfe891"
       ],
       "layout": "IPY_MODEL_33684070ea79450cbaa233b75a60e9a0"
      }
     },
     "cf29001b6bb1459899534146d52c7ce6": {
      "model_module": "@jupyter-widgets/controls",
      "model_module_version": "1.4.0",
      "model_name": "ProgressStyleModel",
      "state": {
       "description_width": ""
      }
     },
     "cf30cfe0d5bc48cdb0519a0494bc60de": {
      "model_module": "@jupyter-widgets/controls",
      "model_module_version": "1.4.0",
      "model_name": "ProgressStyleModel",
      "state": {
       "description_width": ""
      }
     },
     "cf67488b58914d6cb52cacea22954e3d": {
      "model_module": "@jupyter-widgets/controls",
      "model_module_version": "1.4.0",
      "model_name": "HTMLModel",
      "state": {
       "layout": "IPY_MODEL_4331236bcad44f26b5505bdeec7c30e9",
       "style": "IPY_MODEL_eed2e6536bba40c1b81517bbd0b99166",
       "value": "100% 9998900/9998900 [02:51&lt;00:00, 58176.19it/s]"
      }
     },
     "cf861d69a67c4a87b96d4ac597ec4aac": {
      "model_module": "@jupyter-widgets/controls",
      "model_module_version": "1.4.0",
      "model_name": "IntProgressModel",
      "state": {
       "bar_style": "success",
       "layout": "IPY_MODEL_a1feb8d2ebae4c2c902bc4e77b61a230",
       "max": 9998900,
       "style": "IPY_MODEL_0556e47685b844c89c335953f221dcce",
       "value": 9998900
      }
     },
     "cf89b21a69ea4c139474c8c3850430d9": {
      "model_module": "@jupyter-widgets/base",
      "model_module_version": "1.1.0",
      "model_name": "LayoutModel",
      "state": {}
     },
     "cf9aa7935fad4350b2b4edd017f370d1": {
      "model_module": "@jupyter-widgets/base",
      "model_module_version": "1.1.0",
      "model_name": "LayoutModel",
      "state": {}
     },
     "cfb5f5eaaaef4374af741707c60edb8a": {
      "model_module": "@jupyter-widgets/controls",
      "model_module_version": "1.4.0",
      "model_name": "HBoxModel",
      "state": {
       "children": [
        "IPY_MODEL_6ebf464cbdf84b15bd51ef887fd824e1",
        "IPY_MODEL_90d1b44820b24905afe709067bb44a45"
       ],
       "layout": "IPY_MODEL_11958af21c634e24b1afda9420f1cc4a"
      }
     },
     "d00565c60bdd496d9b461694156e6941": {
      "model_module": "@jupyter-widgets/controls",
      "model_module_version": "1.4.0",
      "model_name": "DescriptionStyleModel",
      "state": {
       "description_width": ""
      }
     },
     "d007ebc7a9614b6f829864e9aa3dfbc7": {
      "model_module": "@jupyter-widgets/controls",
      "model_module_version": "1.4.0",
      "model_name": "ProgressStyleModel",
      "state": {
       "description_width": ""
      }
     },
     "d018fab1e2354357a5aae925d5d3e0e1": {
      "model_module": "@jupyter-widgets/controls",
      "model_module_version": "1.4.0",
      "model_name": "ProgressStyleModel",
      "state": {
       "description_width": ""
      }
     },
     "d045b9d6aacf472c8dd729a1042e63ad": {
      "model_module": "@jupyter-widgets/controls",
      "model_module_version": "1.4.0",
      "model_name": "DescriptionStyleModel",
      "state": {
       "description_width": ""
      }
     },
     "d066f4f1ad7d4a01af67439c04954266": {
      "model_module": "@jupyter-widgets/base",
      "model_module_version": "1.1.0",
      "model_name": "LayoutModel",
      "state": {}
     },
     "d076801b1a144fc79de67a526c3effc2": {
      "model_module": "@jupyter-widgets/base",
      "model_module_version": "1.1.0",
      "model_name": "LayoutModel",
      "state": {}
     },
     "d08ee9b7322e4089a9ef6b1bc49ce4bb": {
      "model_module": "@jupyter-widgets/controls",
      "model_module_version": "1.4.0",
      "model_name": "ProgressStyleModel",
      "state": {
       "description_width": ""
      }
     },
     "d0955278b08741cfa2187c7f9e0f3dc5": {
      "model_module": "@jupyter-widgets/controls",
      "model_module_version": "1.4.0",
      "model_name": "ProgressStyleModel",
      "state": {
       "description_width": ""
      }
     },
     "d0d66502e7984a73864f50e0c3a5a690": {
      "model_module": "@jupyter-widgets/controls",
      "model_module_version": "1.4.0",
      "model_name": "HBoxModel",
      "state": {
       "children": [
        "IPY_MODEL_986bdab9ebc247579c15a739118329ec",
        "IPY_MODEL_947c9eddf5bb4f96b9543f957eeafdae"
       ],
       "layout": "IPY_MODEL_aa0f56fe963e4902a98fa661c82ce551"
      }
     },
     "d10a2af7ab4a46e38c74d0b76dc679ed": {
      "model_module": "@jupyter-widgets/controls",
      "model_module_version": "1.4.0",
      "model_name": "DescriptionStyleModel",
      "state": {
       "description_width": ""
      }
     },
     "d129ba9994fa45f0a7677c1f2e8faa99": {
      "model_module": "@jupyter-widgets/controls",
      "model_module_version": "1.4.0",
      "model_name": "IntProgressModel",
      "state": {
       "bar_style": "success",
       "layout": "IPY_MODEL_ca9ab04b0f4a4a14bf0dae23c0c4662c",
       "max": 9998900,
       "style": "IPY_MODEL_e86494586661457487a7ce4b586855fe",
       "value": 9998900
      }
     },
     "d138cab28e1e475f9ea53ff38ffc13fc": {
      "model_module": "@jupyter-widgets/controls",
      "model_module_version": "1.4.0",
      "model_name": "ProgressStyleModel",
      "state": {
       "description_width": ""
      }
     },
     "d1519f49eaff4212a2fb3fce2b1c2253": {
      "model_module": "@jupyter-widgets/controls",
      "model_module_version": "1.4.0",
      "model_name": "HBoxModel",
      "state": {
       "children": [
        "IPY_MODEL_255b2286dcae4306954b17133c370481",
        "IPY_MODEL_ed87200079c840fb91746a7eb8842b19"
       ],
       "layout": "IPY_MODEL_c918af2cf01f4073b50e9c74b7a4e40d"
      }
     },
     "d157bcb64593497986f030d9d2c975d7": {
      "model_module": "@jupyter-widgets/controls",
      "model_module_version": "1.4.0",
      "model_name": "DescriptionStyleModel",
      "state": {
       "description_width": ""
      }
     },
     "d181529856ec480f9644fc6387c1e747": {
      "model_module": "@jupyter-widgets/base",
      "model_module_version": "1.1.0",
      "model_name": "LayoutModel",
      "state": {}
     },
     "d18fb25218324af9932b1badc5c58390": {
      "model_module": "@jupyter-widgets/controls",
      "model_module_version": "1.4.0",
      "model_name": "HTMLModel",
      "state": {
       "layout": "IPY_MODEL_12ea732001e6412685ad2e6b98193cc9",
       "style": "IPY_MODEL_3fca63bc843b499cb7f6125955044d0e",
       "value": "100% 9998900/9998900 [02:46&lt;00:00, 60112.14it/s]"
      }
     },
     "d204acd3a2bf420697f532f1bb27faeb": {
      "model_module": "@jupyter-widgets/base",
      "model_module_version": "1.1.0",
      "model_name": "LayoutModel",
      "state": {}
     },
     "d235121c6df34a6199619bfed5b193e0": {
      "model_module": "@jupyter-widgets/controls",
      "model_module_version": "1.4.0",
      "model_name": "IntProgressModel",
      "state": {
       "bar_style": "success",
       "layout": "IPY_MODEL_2750d67aeb984ef9bfd1a5406e714e40",
       "max": 9998900,
       "style": "IPY_MODEL_bae9661f89d348a687acbe97b686bd14",
       "value": 9998900
      }
     },
     "d26453063aa34d4a9ca3f0c67efca6ad": {
      "model_module": "@jupyter-widgets/base",
      "model_module_version": "1.1.0",
      "model_name": "LayoutModel",
      "state": {}
     },
     "d2b5325c573f4ec5a39d1e1e7bfb9154": {
      "model_module": "@jupyter-widgets/base",
      "model_module_version": "1.1.0",
      "model_name": "LayoutModel",
      "state": {}
     },
     "d2b700f60838410fbadc9a2381221a85": {
      "model_module": "@jupyter-widgets/controls",
      "model_module_version": "1.4.0",
      "model_name": "DescriptionStyleModel",
      "state": {
       "description_width": ""
      }
     },
     "d3033e4c700b4f7a9968f092eafcce7e": {
      "model_module": "@jupyter-widgets/base",
      "model_module_version": "1.1.0",
      "model_name": "LayoutModel",
      "state": {}
     },
     "d30c58af21444ef5b527280c44101611": {
      "model_module": "@jupyter-widgets/base",
      "model_module_version": "1.1.0",
      "model_name": "LayoutModel",
      "state": {}
     },
     "d30c9c80c1f24fe1b231446ec55443be": {
      "model_module": "@jupyter-widgets/controls",
      "model_module_version": "1.4.0",
      "model_name": "HTMLModel",
      "state": {
       "layout": "IPY_MODEL_7853087520b149b1b126474438db8b18",
       "style": "IPY_MODEL_4c474cc4e02343a6b33a6df017ed6452",
       "value": "100% 9998900/9998900 [02:57&lt;00:00, 56201.35it/s]"
      }
     },
     "d32ea039ae3c4aa8b43d6d7fa738c6ee": {
      "model_module": "@jupyter-widgets/controls",
      "model_module_version": "1.4.0",
      "model_name": "IntProgressModel",
      "state": {
       "bar_style": "success",
       "layout": "IPY_MODEL_ff47015fbb504a0985a7d3c9e69d7bee",
       "max": 9998900,
       "style": "IPY_MODEL_5cb158cdbb694499a7aaeeae2ee4c6fd",
       "value": 9998900
      }
     },
     "d361990e1b6b4ff2b76c7fec00e71aef": {
      "model_module": "@jupyter-widgets/base",
      "model_module_version": "1.1.0",
      "model_name": "LayoutModel",
      "state": {}
     },
     "d36e72387cc04b9499d899264cddd22b": {
      "model_module": "@jupyter-widgets/controls",
      "model_module_version": "1.4.0",
      "model_name": "ProgressStyleModel",
      "state": {
       "description_width": ""
      }
     },
     "d3c03f5bc8de433e8e8e54fc0d989fdb": {
      "model_module": "@jupyter-widgets/base",
      "model_module_version": "1.1.0",
      "model_name": "LayoutModel",
      "state": {}
     },
     "d3d3ea5b8a8746d1bb621a6f4a681060": {
      "model_module": "@jupyter-widgets/controls",
      "model_module_version": "1.4.0",
      "model_name": "DescriptionStyleModel",
      "state": {
       "description_width": ""
      }
     },
     "d41004e5066942babd68af9599ee7c2f": {
      "model_module": "@jupyter-widgets/controls",
      "model_module_version": "1.4.0",
      "model_name": "DescriptionStyleModel",
      "state": {
       "description_width": ""
      }
     },
     "d414e162d32644a7be29455ab7fbebf7": {
      "model_module": "@jupyter-widgets/base",
      "model_module_version": "1.1.0",
      "model_name": "LayoutModel",
      "state": {}
     },
     "d4e4553a2d2f46a0a6f8648faa4878d9": {
      "model_module": "@jupyter-widgets/base",
      "model_module_version": "1.1.0",
      "model_name": "LayoutModel",
      "state": {}
     },
     "d5034d60f9c8498cb14ebb5b23675ccc": {
      "model_module": "@jupyter-widgets/controls",
      "model_module_version": "1.4.0",
      "model_name": "HTMLModel",
      "state": {
       "layout": "IPY_MODEL_ce2973e45c5c4b98a30d4b61de9d2649",
       "style": "IPY_MODEL_9d2bec069d6845d4b4f968f0fc0780f7",
       "value": "100% 9998900/9998900 [02:41&lt;00:00, 62080.88it/s]"
      }
     },
     "d513e77ee5bb440eadee9de0fb1bfd4a": {
      "model_module": "@jupyter-widgets/base",
      "model_module_version": "1.1.0",
      "model_name": "LayoutModel",
      "state": {}
     },
     "d53704180d1846e09828375e3aa42ecd": {
      "model_module": "@jupyter-widgets/controls",
      "model_module_version": "1.4.0",
      "model_name": "ProgressStyleModel",
      "state": {
       "description_width": ""
      }
     },
     "d582427c5d8c4c28a4955c7485f335bd": {
      "model_module": "@jupyter-widgets/controls",
      "model_module_version": "1.4.0",
      "model_name": "HBoxModel",
      "state": {
       "children": [
        "IPY_MODEL_e87a92cd17af4ce48b01aa60ffe0bd30",
        "IPY_MODEL_0077f976715d4a8e9ac0143bef082921"
       ],
       "layout": "IPY_MODEL_27fe51e238524634ab766c6519489922"
      }
     },
     "d5849feda63441d2ace0c855a46dda9e": {
      "model_module": "@jupyter-widgets/controls",
      "model_module_version": "1.4.0",
      "model_name": "DescriptionStyleModel",
      "state": {
       "description_width": ""
      }
     },
     "d5994fc1016742ff8d6800d26d94c6d7": {
      "model_module": "@jupyter-widgets/base",
      "model_module_version": "1.1.0",
      "model_name": "LayoutModel",
      "state": {}
     },
     "d5b4e41a48f54ffaa3e1581ae42d87b3": {
      "model_module": "@jupyter-widgets/base",
      "model_module_version": "1.1.0",
      "model_name": "LayoutModel",
      "state": {}
     },
     "d5d2063233e34c289101c3575edcd275": {
      "model_module": "@jupyter-widgets/base",
      "model_module_version": "1.1.0",
      "model_name": "LayoutModel",
      "state": {}
     },
     "d5ede51704384258a9a9dd7d8b33008f": {
      "model_module": "@jupyter-widgets/base",
      "model_module_version": "1.1.0",
      "model_name": "LayoutModel",
      "state": {}
     },
     "d5f8d1f6cdaa43e28de38b6d4d383de1": {
      "model_module": "@jupyter-widgets/controls",
      "model_module_version": "1.4.0",
      "model_name": "IntProgressModel",
      "state": {
       "bar_style": "success",
       "layout": "IPY_MODEL_b1c28dd76094488bb830fd0001d4f330",
       "max": 1,
       "style": "IPY_MODEL_f1314e6022d34739ad6d385dbd80b8e7",
       "value": 1
      }
     },
     "d6051f3b53bc4117a625a882567e9a7f": {
      "model_module": "@jupyter-widgets/controls",
      "model_module_version": "1.4.0",
      "model_name": "HBoxModel",
      "state": {
       "children": [
        "IPY_MODEL_5c136311e7084f52a8dc453d099d071d",
        "IPY_MODEL_4a4f1a98244341f38858295c00d1a81b"
       ],
       "layout": "IPY_MODEL_d62bb5662caf4f4b8a8f15834ae6df76"
      }
     },
     "d607318ae3f449e2bc972b11925e3f23": {
      "model_module": "@jupyter-widgets/base",
      "model_module_version": "1.1.0",
      "model_name": "LayoutModel",
      "state": {}
     },
     "d62bb5662caf4f4b8a8f15834ae6df76": {
      "model_module": "@jupyter-widgets/base",
      "model_module_version": "1.1.0",
      "model_name": "LayoutModel",
      "state": {}
     },
     "d648502f4c974293904e6bbfab15d432": {
      "model_module": "@jupyter-widgets/base",
      "model_module_version": "1.1.0",
      "model_name": "LayoutModel",
      "state": {}
     },
     "d70dc8d7d13d43a7843400df14038114": {
      "model_module": "@jupyter-widgets/base",
      "model_module_version": "1.1.0",
      "model_name": "LayoutModel",
      "state": {}
     },
     "d7157d4f94fa4a248f23c5e645a3c0f9": {
      "model_module": "@jupyter-widgets/controls",
      "model_module_version": "1.4.0",
      "model_name": "DescriptionStyleModel",
      "state": {
       "description_width": ""
      }
     },
     "d7335c7483334c6391cf4f68f74f7e97": {
      "model_module": "@jupyter-widgets/controls",
      "model_module_version": "1.4.0",
      "model_name": "HTMLModel",
      "state": {
       "layout": "IPY_MODEL_4e1c2c70231a4d96af32ae88cc40e606",
       "style": "IPY_MODEL_05c92bc2dd0d464f89bca9f42f300d1b",
       "value": "100% 9998900/9998900 [02:38&lt;00:00, 63243.95it/s]"
      }
     },
     "d773e1951c144fb89428aea6705210e7": {
      "model_module": "@jupyter-widgets/controls",
      "model_module_version": "1.4.0",
      "model_name": "ProgressStyleModel",
      "state": {
       "description_width": ""
      }
     },
     "d7d9382e8fad4269a3fd1258e817a7ae": {
      "model_module": "@jupyter-widgets/controls",
      "model_module_version": "1.4.0",
      "model_name": "DescriptionStyleModel",
      "state": {
       "description_width": ""
      }
     },
     "d7df7d27364647188f1f65a3bed6cece": {
      "model_module": "@jupyter-widgets/controls",
      "model_module_version": "1.4.0",
      "model_name": "HTMLModel",
      "state": {
       "layout": "IPY_MODEL_7c75bfda40ef4dcd82673ea36ec3bc86",
       "style": "IPY_MODEL_4b6e0647b76a409aa6361e22bb152134",
       "value": "100% 9998900/9998900 [02:48&lt;00:00, 59360.26it/s]"
      }
     },
     "d7ec30a752e043b783f81d627bfbaed1": {
      "model_module": "@jupyter-widgets/base",
      "model_module_version": "1.1.0",
      "model_name": "LayoutModel",
      "state": {}
     },
     "d83c52bde6a248898fbccf1f8a288a2f": {
      "model_module": "@jupyter-widgets/controls",
      "model_module_version": "1.4.0",
      "model_name": "DescriptionStyleModel",
      "state": {
       "description_width": ""
      }
     },
     "d85ef36875014aafb00bf57dbbce319b": {
      "model_module": "@jupyter-widgets/base",
      "model_module_version": "1.1.0",
      "model_name": "LayoutModel",
      "state": {}
     },
     "d8aa6fd5c9024c8f8d0fea3e171b7a16": {
      "model_module": "@jupyter-widgets/controls",
      "model_module_version": "1.4.0",
      "model_name": "IntProgressModel",
      "state": {
       "bar_style": "success",
       "layout": "IPY_MODEL_63b20215bb8a40de98637980f51330f3",
       "max": 9998900,
       "style": "IPY_MODEL_c10a4d265f1747c298db0ee4c8af9d9f",
       "value": 9998900
      }
     },
     "d8ade82068954b33b5ad48347bf9ee51": {
      "model_module": "@jupyter-widgets/base",
      "model_module_version": "1.1.0",
      "model_name": "LayoutModel",
      "state": {}
     },
     "d8f2574468214553a5a7e6a5d163d0f9": {
      "model_module": "@jupyter-widgets/controls",
      "model_module_version": "1.4.0",
      "model_name": "HTMLModel",
      "state": {
       "layout": "IPY_MODEL_9ef6de93e3004ffd91efb348badd9042",
       "style": "IPY_MODEL_c6edcb73293f4fb09a51b3c22ab2d440",
       "value": "100% 9998900/9998900 [02:50&lt;00:00, 58474.06it/s]"
      }
     },
     "d94032c03c664d0f8541f6bfcb37f9be": {
      "model_module": "@jupyter-widgets/base",
      "model_module_version": "1.1.0",
      "model_name": "LayoutModel",
      "state": {}
     },
     "d95e7e823296427bb375167ab5332a35": {
      "model_module": "@jupyter-widgets/controls",
      "model_module_version": "1.4.0",
      "model_name": "IntProgressModel",
      "state": {
       "bar_style": "success",
       "layout": "IPY_MODEL_ff52fda87a24418e816fb9591a5a3e48",
       "max": 9998900,
       "style": "IPY_MODEL_b3238ca7e86245f8a9d8a5a2ddb63bfa",
       "value": 9998900
      }
     },
     "d96af62f58514b9f85cf8294c66826c1": {
      "model_module": "@jupyter-widgets/controls",
      "model_module_version": "1.4.0",
      "model_name": "HTMLModel",
      "state": {
       "layout": "IPY_MODEL_71ce4d2441f24915923d90345ab1e6b5",
       "style": "IPY_MODEL_8e7b71b049654dda8fe4e2d8e10f36e1",
       "value": "100% 9998900/9998900 [02:53&lt;00:00, 57543.93it/s]"
      }
     },
     "d9bc648041b74e5285c8b355452d947a": {
      "model_module": "@jupyter-widgets/base",
      "model_module_version": "1.1.0",
      "model_name": "LayoutModel",
      "state": {}
     },
     "d9d3af3d481e427db1cd0d4f703c0732": {
      "model_module": "@jupyter-widgets/controls",
      "model_module_version": "1.4.0",
      "model_name": "DescriptionStyleModel",
      "state": {
       "description_width": ""
      }
     },
     "d9d85d89c3744f069d40087185c72cf0": {
      "model_module": "@jupyter-widgets/controls",
      "model_module_version": "1.4.0",
      "model_name": "DescriptionStyleModel",
      "state": {
       "description_width": ""
      }
     },
     "d9f8c35191fd45f3b4a759418b84dc7c": {
      "model_module": "@jupyter-widgets/controls",
      "model_module_version": "1.4.0",
      "model_name": "HTMLModel",
      "state": {
       "layout": "IPY_MODEL_d5ede51704384258a9a9dd7d8b33008f",
       "style": "IPY_MODEL_f12c3e1c197c4a7b8160dc991a3453f7",
       "value": "100% 9998900/9998900 [02:51&lt;00:00, 58235.34it/s]"
      }
     },
     "da6e444be38c435d956184c9548c6163": {
      "model_module": "@jupyter-widgets/base",
      "model_module_version": "1.1.0",
      "model_name": "LayoutModel",
      "state": {}
     },
     "da986857870d42749a32ace5ce5f10fc": {
      "model_module": "@jupyter-widgets/controls",
      "model_module_version": "1.4.0",
      "model_name": "DescriptionStyleModel",
      "state": {
       "description_width": ""
      }
     },
     "da9bdbbdbabc466eb038358a26d9cc2f": {
      "model_module": "@jupyter-widgets/controls",
      "model_module_version": "1.4.0",
      "model_name": "IntProgressModel",
      "state": {
       "bar_style": "success",
       "layout": "IPY_MODEL_040f02d103be45f88c2e899c2c1d2c26",
       "max": 9998900,
       "style": "IPY_MODEL_2895a6b65bcd4bb698adcd2988908bb5",
       "value": 9998900
      }
     },
     "dad53fe4c89f4f0e84565cefc4ab2074": {
      "model_module": "@jupyter-widgets/controls",
      "model_module_version": "1.4.0",
      "model_name": "DescriptionStyleModel",
      "state": {
       "description_width": ""
      }
     },
     "daeac8db70984d37a615d74c0053da6a": {
      "model_module": "@jupyter-widgets/controls",
      "model_module_version": "1.4.0",
      "model_name": "ProgressStyleModel",
      "state": {
       "description_width": ""
      }
     },
     "daec5bad2c0441bdaff829f0d3a81613": {
      "model_module": "@jupyter-widgets/base",
      "model_module_version": "1.1.0",
      "model_name": "LayoutModel",
      "state": {}
     },
     "db17c1e79cc44beb9fdc4483b3fea368": {
      "model_module": "@jupyter-widgets/base",
      "model_module_version": "1.1.0",
      "model_name": "LayoutModel",
      "state": {}
     },
     "db21dd091c074d159b3f1f0d91e9a50d": {
      "model_module": "@jupyter-widgets/controls",
      "model_module_version": "1.4.0",
      "model_name": "DescriptionStyleModel",
      "state": {
       "description_width": ""
      }
     },
     "db47e483e4984ea2b2defe3ce640dbd4": {
      "model_module": "@jupyter-widgets/controls",
      "model_module_version": "1.4.0",
      "model_name": "HBoxModel",
      "state": {
       "children": [
        "IPY_MODEL_3782a5bdedde40d3b12798cc777255df",
        "IPY_MODEL_dc1b21b57d2d4079b4ea5cbe609ef1cd"
       ],
       "layout": "IPY_MODEL_0d474021862a4895baba7ee998b5a010"
      }
     },
     "db4f2349519c4d949e3e8fce23822753": {
      "model_module": "@jupyter-widgets/controls",
      "model_module_version": "1.4.0",
      "model_name": "IntProgressModel",
      "state": {
       "bar_style": "success",
       "layout": "IPY_MODEL_ee06bd146ffb407c8e6d3da61bdad142",
       "max": 9998900,
       "style": "IPY_MODEL_d08ee9b7322e4089a9ef6b1bc49ce4bb",
       "value": 9998900
      }
     },
     "db522fde9d2e43de874b3b98d44a9b34": {
      "model_module": "@jupyter-widgets/base",
      "model_module_version": "1.1.0",
      "model_name": "LayoutModel",
      "state": {}
     },
     "db5e947dc21248c9a5abebf088b35927": {
      "model_module": "@jupyter-widgets/controls",
      "model_module_version": "1.4.0",
      "model_name": "IntProgressModel",
      "state": {
       "bar_style": "success",
       "layout": "IPY_MODEL_ee4da55051f04ebb89071b09e622405b",
       "max": 9998900,
       "style": "IPY_MODEL_11fe7d89f0cc4d72b47e24c63a3daf3a",
       "value": 9998900
      }
     },
     "db813a67a277417b9b07dd97846c65c1": {
      "model_module": "@jupyter-widgets/controls",
      "model_module_version": "1.4.0",
      "model_name": "DescriptionStyleModel",
      "state": {
       "description_width": ""
      }
     },
     "dbcbe2a1978c4c02973e0e72a1d51624": {
      "model_module": "@jupyter-widgets/base",
      "model_module_version": "1.1.0",
      "model_name": "LayoutModel",
      "state": {}
     },
     "dc119faf9e3944cab399b66d1770e25b": {
      "model_module": "@jupyter-widgets/base",
      "model_module_version": "1.1.0",
      "model_name": "LayoutModel",
      "state": {}
     },
     "dc1b21b57d2d4079b4ea5cbe609ef1cd": {
      "model_module": "@jupyter-widgets/controls",
      "model_module_version": "1.4.0",
      "model_name": "HTMLModel",
      "state": {
       "layout": "IPY_MODEL_a741eb1e0e4943b18adb2096a7dc8f31",
       "style": "IPY_MODEL_ecd0d35610ad475dbd578e7204a4a675",
       "value": "100% 9998900/9998900 [02:45&lt;00:00, 60358.09it/s]"
      }
     },
     "dc2ea40ded4f49f3b088c231ef89e7b4": {
      "model_module": "@jupyter-widgets/controls",
      "model_module_version": "1.4.0",
      "model_name": "DescriptionStyleModel",
      "state": {
       "description_width": ""
      }
     },
     "dc758f85779f44f3a46b42d9fbf46a69": {
      "model_module": "@jupyter-widgets/base",
      "model_module_version": "1.1.0",
      "model_name": "LayoutModel",
      "state": {}
     },
     "dc7aacda83474e6c8c4f61f0ed242564": {
      "model_module": "@jupyter-widgets/base",
      "model_module_version": "1.1.0",
      "model_name": "LayoutModel",
      "state": {}
     },
     "dc9fc1cd4a834133aa3686dc55d3a3b7": {
      "model_module": "@jupyter-widgets/controls",
      "model_module_version": "1.4.0",
      "model_name": "IntProgressModel",
      "state": {
       "bar_style": "success",
       "layout": "IPY_MODEL_d5d2063233e34c289101c3575edcd275",
       "max": 9998900,
       "style": "IPY_MODEL_48f38c8bd9ba42a79a8d090a74ca016a",
       "value": 9998900
      }
     },
     "dcbddd6f64d840dfa05694ad4c26b577": {
      "model_module": "@jupyter-widgets/base",
      "model_module_version": "1.1.0",
      "model_name": "LayoutModel",
      "state": {}
     },
     "dcdc77ccf55b488ba23e9e941bb544ed": {
      "model_module": "@jupyter-widgets/controls",
      "model_module_version": "1.4.0",
      "model_name": "ProgressStyleModel",
      "state": {
       "description_width": ""
      }
     },
     "dce094db26c54c32b281987321486630": {
      "model_module": "@jupyter-widgets/controls",
      "model_module_version": "1.4.0",
      "model_name": "DescriptionStyleModel",
      "state": {
       "description_width": ""
      }
     },
     "dd2c20478c8545f282546b355f4e2e36": {
      "model_module": "@jupyter-widgets/base",
      "model_module_version": "1.1.0",
      "model_name": "LayoutModel",
      "state": {}
     },
     "dd3402c12a81418284d9fded6a1a037c": {
      "model_module": "@jupyter-widgets/controls",
      "model_module_version": "1.4.0",
      "model_name": "HTMLModel",
      "state": {
       "layout": "IPY_MODEL_8c1ee6b040704e14b4f2c77299902f4e",
       "style": "IPY_MODEL_559347e473714a0681b535fece37391f",
       "value": "100% 9998900/9998900 [02:42&lt;00:00, 61565.98it/s]"
      }
     },
     "dd4a535989c640d4ae4c30b935da6977": {
      "model_module": "@jupyter-widgets/controls",
      "model_module_version": "1.4.0",
      "model_name": "DescriptionStyleModel",
      "state": {
       "description_width": ""
      }
     },
     "dd52bde280f5462c8dac8084980d071a": {
      "model_module": "@jupyter-widgets/controls",
      "model_module_version": "1.4.0",
      "model_name": "ProgressStyleModel",
      "state": {
       "description_width": ""
      }
     },
     "dd52e5bd382e4caf89f5aeee0bd56a79": {
      "model_module": "@jupyter-widgets/controls",
      "model_module_version": "1.4.0",
      "model_name": "IntProgressModel",
      "state": {
       "bar_style": "success",
       "layout": "IPY_MODEL_0ceca9474d604b94a8be895abc6de637",
       "max": 9998900,
       "style": "IPY_MODEL_f0ccfd1670fd495f9f1b5d0f6bd66340",
       "value": 9998900
      }
     },
     "dd575b6d72e048668fd01f60daad7b46": {
      "model_module": "@jupyter-widgets/controls",
      "model_module_version": "1.4.0",
      "model_name": "IntProgressModel",
      "state": {
       "bar_style": "success",
       "layout": "IPY_MODEL_90d0f6d24fa9446bb886855118b15b2c",
       "max": 9998900,
       "style": "IPY_MODEL_376489503db54cd59393d3ae50736808",
       "value": 9998900
      }
     },
     "dd7eaeaec0394d88a6addd5267a0eab1": {
      "model_module": "@jupyter-widgets/controls",
      "model_module_version": "1.4.0",
      "model_name": "DescriptionStyleModel",
      "state": {
       "description_width": ""
      }
     },
     "ddb1446de4e64b47a45a58206a7f0e0e": {
      "model_module": "@jupyter-widgets/base",
      "model_module_version": "1.1.0",
      "model_name": "LayoutModel",
      "state": {}
     },
     "ddbc7ab7ea814fa4992fc358a5edb646": {
      "model_module": "@jupyter-widgets/base",
      "model_module_version": "1.1.0",
      "model_name": "LayoutModel",
      "state": {}
     },
     "de2632d90520462f9ffba7f1fa35b552": {
      "model_module": "@jupyter-widgets/controls",
      "model_module_version": "1.4.0",
      "model_name": "IntProgressModel",
      "state": {
       "bar_style": "success",
       "layout": "IPY_MODEL_55131b530e684030954a64c7b7711042",
       "max": 9998900,
       "style": "IPY_MODEL_13bad18c18a44018b452dae8b9992d8e",
       "value": 9998900
      }
     },
     "de2736c101ad4d0cb5a63c2463774e35": {
      "model_module": "@jupyter-widgets/controls",
      "model_module_version": "1.4.0",
      "model_name": "HBoxModel",
      "state": {
       "children": [
        "IPY_MODEL_0482b5aa2e0d4eb9af8fc44535afae42",
        "IPY_MODEL_90cd0b13b27d400c9a2eec6d8cddd72f"
       ],
       "layout": "IPY_MODEL_32fdb1a96bff424dafd84f9305fb7f04"
      }
     },
     "de41c271b46a4c418fee781ae9a16922": {
      "model_module": "@jupyter-widgets/base",
      "model_module_version": "1.1.0",
      "model_name": "LayoutModel",
      "state": {}
     },
     "de432f3c77264dcb8f1981d7b3b9a5d4": {
      "model_module": "@jupyter-widgets/controls",
      "model_module_version": "1.4.0",
      "model_name": "ProgressStyleModel",
      "state": {
       "description_width": ""
      }
     },
     "de93d051aaa34f8ea579de3d2a9a7587": {
      "model_module": "@jupyter-widgets/controls",
      "model_module_version": "1.4.0",
      "model_name": "HTMLModel",
      "state": {
       "layout": "IPY_MODEL_67e5bdb5113a488bb4e33020c2b9b37c",
       "style": "IPY_MODEL_c7af501b012549f08e5c2813665391f6",
       "value": "100% 9998900/9998900 [02:53&lt;00:00, 57753.97it/s]"
      }
     },
     "dea33f7a933f451e832718c2b5487905": {
      "model_module": "@jupyter-widgets/base",
      "model_module_version": "1.1.0",
      "model_name": "LayoutModel",
      "state": {}
     },
     "deaa252a8f7244b2a3201f00c8408e5e": {
      "model_module": "@jupyter-widgets/base",
      "model_module_version": "1.1.0",
      "model_name": "LayoutModel",
      "state": {}
     },
     "deb395c16f664600a6cc64c1ceae7f30": {
      "model_module": "@jupyter-widgets/base",
      "model_module_version": "1.1.0",
      "model_name": "LayoutModel",
      "state": {}
     },
     "deed91deec1240c6bd1ad76db4c554fe": {
      "model_module": "@jupyter-widgets/base",
      "model_module_version": "1.1.0",
      "model_name": "LayoutModel",
      "state": {}
     },
     "def9417a816c451bad89a3d4282647bb": {
      "model_module": "@jupyter-widgets/controls",
      "model_module_version": "1.4.0",
      "model_name": "HBoxModel",
      "state": {
       "children": [
        "IPY_MODEL_d32ea039ae3c4aa8b43d6d7fa738c6ee",
        "IPY_MODEL_3c9ce0ef01364a3b9b62889364c11238"
       ],
       "layout": "IPY_MODEL_2cb9d13780344552876a7da4dfb5197b"
      }
     },
     "df276e92bc2d4f3d818e3409d181eece": {
      "model_module": "@jupyter-widgets/base",
      "model_module_version": "1.1.0",
      "model_name": "LayoutModel",
      "state": {}
     },
     "df389f8b37bd411cbb635a59845a6348": {
      "model_module": "@jupyter-widgets/controls",
      "model_module_version": "1.4.0",
      "model_name": "DescriptionStyleModel",
      "state": {
       "description_width": ""
      }
     },
     "df390457a31a474b9904f13e1578fba1": {
      "model_module": "@jupyter-widgets/controls",
      "model_module_version": "1.4.0",
      "model_name": "HBoxModel",
      "state": {
       "children": [
        "IPY_MODEL_a19bfdbbde884c099cdac5858ebbacc7",
        "IPY_MODEL_4f35ef409c0643eea4c3a88dc98a7985"
       ],
       "layout": "IPY_MODEL_d7ec30a752e043b783f81d627bfbaed1"
      }
     },
     "df57b9a9e8f54762a0b3df93c7c41c52": {
      "model_module": "@jupyter-widgets/controls",
      "model_module_version": "1.4.0",
      "model_name": "HBoxModel",
      "state": {
       "children": [
        "IPY_MODEL_1602846b8f7a43a0a67bd2c0b6d67a33",
        "IPY_MODEL_f1571ff5e3d94fae80fdfc10325ee762"
       ],
       "layout": "IPY_MODEL_a1dc8c329196481dad997a14280a8f85"
      }
     },
     "df98d3d6b7d54abb9c7b986a1b1ac5e4": {
      "model_module": "@jupyter-widgets/controls",
      "model_module_version": "1.4.0",
      "model_name": "ProgressStyleModel",
      "state": {
       "description_width": ""
      }
     },
     "df9d2cf5f94b43d999ff4ab7b73b75ef": {
      "model_module": "@jupyter-widgets/base",
      "model_module_version": "1.1.0",
      "model_name": "LayoutModel",
      "state": {}
     },
     "dfa8a744f4c0465a80a65a6e00ee7f17": {
      "model_module": "@jupyter-widgets/controls",
      "model_module_version": "1.4.0",
      "model_name": "HBoxModel",
      "state": {
       "children": [
        "IPY_MODEL_dd52e5bd382e4caf89f5aeee0bd56a79",
        "IPY_MODEL_e187e8780c87415a8647e363929d7fea"
       ],
       "layout": "IPY_MODEL_968f24440cf040c6a81c85f80c1a8219"
      }
     },
     "dfaccbbd718d4c90ab56352b32387a17": {
      "model_module": "@jupyter-widgets/controls",
      "model_module_version": "1.4.0",
      "model_name": "IntProgressModel",
      "state": {
       "bar_style": "success",
       "layout": "IPY_MODEL_e0db852830064a5ea99a4b8daed31a9f",
       "max": 9998900,
       "style": "IPY_MODEL_f66f91a2a2d04b8a8784b4ea2c9f7bc0",
       "value": 9998900
      }
     },
     "dff8027e044a43d5b0f2eea0027668f6": {
      "model_module": "@jupyter-widgets/controls",
      "model_module_version": "1.4.0",
      "model_name": "DescriptionStyleModel",
      "state": {
       "description_width": ""
      }
     },
     "e017a0ae4f3a460298f84496fd9a3e0f": {
      "model_module": "@jupyter-widgets/controls",
      "model_module_version": "1.4.0",
      "model_name": "HTMLModel",
      "state": {
       "layout": "IPY_MODEL_ae710dfb2502453fbb67cbb0adbf9744",
       "style": "IPY_MODEL_08aef9586b30403786e8ac931c3ee989",
       "value": "100% 9998900/9998900 [02:50&lt;00:00, 58591.64it/s]"
      }
     },
     "e01906c04e894895ad4f9756f5dba336": {
      "model_module": "@jupyter-widgets/controls",
      "model_module_version": "1.4.0",
      "model_name": "ProgressStyleModel",
      "state": {
       "description_width": ""
      }
     },
     "e024da6806804779957a544f335f9d1a": {
      "model_module": "@jupyter-widgets/controls",
      "model_module_version": "1.4.0",
      "model_name": "ProgressStyleModel",
      "state": {
       "description_width": ""
      }
     },
     "e04c2216b4ad421a8fdc17bfc1a60032": {
      "model_module": "@jupyter-widgets/controls",
      "model_module_version": "1.4.0",
      "model_name": "IntProgressModel",
      "state": {
       "bar_style": "success",
       "layout": "IPY_MODEL_274187ea93614a83b63961bcf56ae390",
       "max": 9998900,
       "style": "IPY_MODEL_02ab8c1002cd43fa985eafd14924a9b5",
       "value": 9998900
      }
     },
     "e06a62571c07494d8017520c31d0935e": {
      "model_module": "@jupyter-widgets/controls",
      "model_module_version": "1.4.0",
      "model_name": "HTMLModel",
      "state": {
       "layout": "IPY_MODEL_550e4c774bd343ca8fda32ecd7e13788",
       "style": "IPY_MODEL_d9d85d89c3744f069d40087185c72cf0",
       "value": "100% 9998900/9998900 [02:51&lt;00:00, 58244.60it/s]"
      }
     },
     "e08bd9ffaa05414988fd992098b4336e": {
      "model_module": "@jupyter-widgets/base",
      "model_module_version": "1.1.0",
      "model_name": "LayoutModel",
      "state": {}
     },
     "e0b3b08e08814d5b82c32ff2c839047d": {
      "model_module": "@jupyter-widgets/controls",
      "model_module_version": "1.4.0",
      "model_name": "HTMLModel",
      "state": {
       "layout": "IPY_MODEL_8952c97eefe147e6888537e96ab4604a",
       "style": "IPY_MODEL_c61f4f550433464780bc9aa9e1808c49",
       "value": "100% 9998900/9998900 [02:44&lt;00:00, 60849.13it/s]"
      }
     },
     "e0c0d193084f43cdb3dcb4c8136bbe9c": {
      "model_module": "@jupyter-widgets/controls",
      "model_module_version": "1.4.0",
      "model_name": "HTMLModel",
      "state": {
       "layout": "IPY_MODEL_99f18bdc916f47eab34e7cded54398e1",
       "style": "IPY_MODEL_1fa5c34645ca459a8dc3ce4e28b2a834",
       "value": "100% 9998900/9998900 [02:43&lt;00:00, 61268.88it/s]"
      }
     },
     "e0db852830064a5ea99a4b8daed31a9f": {
      "model_module": "@jupyter-widgets/base",
      "model_module_version": "1.1.0",
      "model_name": "LayoutModel",
      "state": {}
     },
     "e0ee729a8e8c4711a730261b14d48c49": {
      "model_module": "@jupyter-widgets/controls",
      "model_module_version": "1.4.0",
      "model_name": "HBoxModel",
      "state": {
       "children": [
        "IPY_MODEL_dd575b6d72e048668fd01f60daad7b46",
        "IPY_MODEL_8d2f9f23218f4e008c009ef8e1a83e72"
       ],
       "layout": "IPY_MODEL_23c3e1f34ef44809b0f6a090b232117d"
      }
     },
     "e1149647a1164aa79a20dcfbd7cc4b9c": {
      "model_module": "@jupyter-widgets/base",
      "model_module_version": "1.1.0",
      "model_name": "LayoutModel",
      "state": {}
     },
     "e1377d1d843549eaa33fef8c3f5b75d0": {
      "model_module": "@jupyter-widgets/base",
      "model_module_version": "1.1.0",
      "model_name": "LayoutModel",
      "state": {}
     },
     "e13e21ea54d745aa9099d8bbb563ff55": {
      "model_module": "@jupyter-widgets/controls",
      "model_module_version": "1.4.0",
      "model_name": "ProgressStyleModel",
      "state": {
       "description_width": ""
      }
     },
     "e14749ccce794dadb6e3c3c55694abbb": {
      "model_module": "@jupyter-widgets/controls",
      "model_module_version": "1.4.0",
      "model_name": "HBoxModel",
      "state": {
       "children": [
        "IPY_MODEL_062d7cd01ef04d4eb3f7b3907d151799",
        "IPY_MODEL_1601698be12a44b9a740bdcf602f0282"
       ],
       "layout": "IPY_MODEL_1960fb0531fa4438a20c89c3a25c9c11"
      }
     },
     "e17bf9bfec1443c394264733b2f4be2c": {
      "model_module": "@jupyter-widgets/base",
      "model_module_version": "1.1.0",
      "model_name": "LayoutModel",
      "state": {}
     },
     "e187e8780c87415a8647e363929d7fea": {
      "model_module": "@jupyter-widgets/controls",
      "model_module_version": "1.4.0",
      "model_name": "HTMLModel",
      "state": {
       "layout": "IPY_MODEL_fa4a88797ce141c9bc7cb8b5f148f647",
       "style": "IPY_MODEL_01105002332c444e8b3d2791732aa1bb",
       "value": "100% 9998900/9998900 [02:42&lt;00:00, 61484.01it/s]"
      }
     },
     "e1895cb635b44096a8217f3d0fed2d04": {
      "model_module": "@jupyter-widgets/controls",
      "model_module_version": "1.4.0",
      "model_name": "HTMLModel",
      "state": {
       "layout": "IPY_MODEL_459458fca25640889548734d51b7d722",
       "style": "IPY_MODEL_1cbfe76375c44008b1b627c34d1e3a35",
       "value": "100% 9998900/9998900 [02:45&lt;00:00, 60598.77it/s]"
      }
     },
     "e1adcfc5bff44ce28cb9ba60bf285f0a": {
      "model_module": "@jupyter-widgets/base",
      "model_module_version": "1.1.0",
      "model_name": "LayoutModel",
      "state": {}
     },
     "e1df253ad8bc4ecba8289722e89d08e4": {
      "model_module": "@jupyter-widgets/base",
      "model_module_version": "1.1.0",
      "model_name": "LayoutModel",
      "state": {}
     },
     "e1e4bcb1adcd4c0896afcf75eee3277f": {
      "model_module": "@jupyter-widgets/controls",
      "model_module_version": "1.4.0",
      "model_name": "HTMLModel",
      "state": {
       "layout": "IPY_MODEL_21a4c737c890441b9034f8e66652e034",
       "style": "IPY_MODEL_df389f8b37bd411cbb635a59845a6348",
       "value": "100% 9998900/9998900 [02:46&lt;00:00, 59922.21it/s]"
      }
     },
     "e1eca78f2a1a4f8fa98b53952194fdd4": {
      "model_module": "@jupyter-widgets/controls",
      "model_module_version": "1.4.0",
      "model_name": "HBoxModel",
      "state": {
       "children": [
        "IPY_MODEL_8bafa725a66b4ca5bb54b008dbf6ad86",
        "IPY_MODEL_951d1c438e2f4fd792a06f0ce8b90015"
       ],
       "layout": "IPY_MODEL_3454faa68422447ab01518d2042696b2"
      }
     },
     "e1facc6fa5ff4df899ea5372003f7de0": {
      "model_module": "@jupyter-widgets/controls",
      "model_module_version": "1.4.0",
      "model_name": "DescriptionStyleModel",
      "state": {
       "description_width": ""
      }
     },
     "e20cebc1596947f883a3559165e69be6": {
      "model_module": "@jupyter-widgets/controls",
      "model_module_version": "1.4.0",
      "model_name": "HBoxModel",
      "state": {
       "children": [
        "IPY_MODEL_25c5097fe9b24f558af02235a16f25b9",
        "IPY_MODEL_6ddc1d35acea48158839138ad2ad6345"
       ],
       "layout": "IPY_MODEL_c3ce5d43f1694336b172647e476c3378"
      }
     },
     "e225937b538e4e39a645245f5c890140": {
      "model_module": "@jupyter-widgets/base",
      "model_module_version": "1.1.0",
      "model_name": "LayoutModel",
      "state": {}
     },
     "e277d96ac576493c9ac6bd2579465f7d": {
      "model_module": "@jupyter-widgets/controls",
      "model_module_version": "1.4.0",
      "model_name": "HBoxModel",
      "state": {
       "children": [
        "IPY_MODEL_86fbd2d9e7ce4f6d95c048ccdd2ed0bc",
        "IPY_MODEL_b48720c5c91f41d7b6b35f435eaef102"
       ],
       "layout": "IPY_MODEL_fedeae2ee06d4125acde23ded99aacd5"
      }
     },
     "e27d4a9507b54425b940ed99cd5f7dc4": {
      "model_module": "@jupyter-widgets/controls",
      "model_module_version": "1.4.0",
      "model_name": "HTMLModel",
      "state": {
       "layout": "IPY_MODEL_144b0afb49fc4e0181af3aac93f3eff8",
       "style": "IPY_MODEL_ce74936c784c44f9bac81523bcc342f5",
       "value": "100% 9998900/9998900 [02:45&lt;00:00, 60473.74it/s]"
      }
     },
     "e28d15cc9dd54cfa9fa254ed001ab49e": {
      "model_module": "@jupyter-widgets/base",
      "model_module_version": "1.1.0",
      "model_name": "LayoutModel",
      "state": {}
     },
     "e45a58f2f8ea410eb694d81d2b2b01a0": {
      "model_module": "@jupyter-widgets/controls",
      "model_module_version": "1.4.0",
      "model_name": "DescriptionStyleModel",
      "state": {
       "description_width": ""
      }
     },
     "e4cbfacbc6c34fe2910018ec6e58144b": {
      "model_module": "@jupyter-widgets/base",
      "model_module_version": "1.1.0",
      "model_name": "LayoutModel",
      "state": {}
     },
     "e4e4c4d661254a06a02c85676c6bda80": {
      "model_module": "@jupyter-widgets/base",
      "model_module_version": "1.1.0",
      "model_name": "LayoutModel",
      "state": {}
     },
     "e5f5c83812e34c93af5a5fe45524a3bf": {
      "model_module": "@jupyter-widgets/base",
      "model_module_version": "1.1.0",
      "model_name": "LayoutModel",
      "state": {}
     },
     "e605a7fc49024407a4ffc1a9fbcfe5ae": {
      "model_module": "@jupyter-widgets/controls",
      "model_module_version": "1.4.0",
      "model_name": "HBoxModel",
      "state": {
       "children": [
        "IPY_MODEL_b11605b69bb4462183557bcafbcd4c59",
        "IPY_MODEL_e06a62571c07494d8017520c31d0935e"
       ],
       "layout": "IPY_MODEL_1163118de193430b92a1eaa548274953"
      }
     },
     "e6ad7b0d446d465192fb6cbfe28e0dcb": {
      "model_module": "@jupyter-widgets/controls",
      "model_module_version": "1.4.0",
      "model_name": "IntProgressModel",
      "state": {
       "bar_style": "success",
       "layout": "IPY_MODEL_57d518c9fc844a4abfe1c2b849d9ad9e",
       "max": 9998900,
       "style": "IPY_MODEL_fe7ebee58731449a8c24fda21e7ac1ae",
       "value": 9998900
      }
     },
     "e6d3a7d256884ca08532e965d1d6e21b": {
      "model_module": "@jupyter-widgets/controls",
      "model_module_version": "1.4.0",
      "model_name": "HBoxModel",
      "state": {
       "children": [
        "IPY_MODEL_7624f0dd13fb431d907dfff3116bccb3",
        "IPY_MODEL_891cc139866b492f80e96e493e0b16c9"
       ],
       "layout": "IPY_MODEL_86d7aa8bf3c74934aab62d51289fd57c"
      }
     },
     "e6d80ccdd0194244a32fb518f8f581d3": {
      "model_module": "@jupyter-widgets/base",
      "model_module_version": "1.1.0",
      "model_name": "LayoutModel",
      "state": {}
     },
     "e7711d63c829422cb32e566037f1533e": {
      "model_module": "@jupyter-widgets/controls",
      "model_module_version": "1.4.0",
      "model_name": "DescriptionStyleModel",
      "state": {
       "description_width": ""
      }
     },
     "e7df1509a406427e9a4fd904f4a9efae": {
      "model_module": "@jupyter-widgets/controls",
      "model_module_version": "1.4.0",
      "model_name": "IntProgressModel",
      "state": {
       "bar_style": "success",
       "layout": "IPY_MODEL_d85ef36875014aafb00bf57dbbce319b",
       "max": 9998900,
       "style": "IPY_MODEL_c829e6d2534d44b1ae21ee8c5e0687e1",
       "value": 9998900
      }
     },
     "e7f882c64848460e97579d2b84f0ddd7": {
      "model_module": "@jupyter-widgets/controls",
      "model_module_version": "1.4.0",
      "model_name": "HTMLModel",
      "state": {
       "layout": "IPY_MODEL_854cc5037bc74d2dbeb4725e81c1136d",
       "style": "IPY_MODEL_0b553992f99e4cf9b068f14a1905e2ab",
       "value": "1000001it [22:16, 748.01it/s]"
      }
     },
     "e86494586661457487a7ce4b586855fe": {
      "model_module": "@jupyter-widgets/controls",
      "model_module_version": "1.4.0",
      "model_name": "ProgressStyleModel",
      "state": {
       "description_width": ""
      }
     },
     "e87a92cd17af4ce48b01aa60ffe0bd30": {
      "model_module": "@jupyter-widgets/controls",
      "model_module_version": "1.4.0",
      "model_name": "IntProgressModel",
      "state": {
       "bar_style": "success",
       "layout": "IPY_MODEL_8b6c3711f04143cca7f09109e2ab96ae",
       "max": 1,
       "style": "IPY_MODEL_12dae3860f7342f5ae0c8bc4bc14629e",
       "value": 1
      }
     },
     "e8a02c8c29674edba51cc904568e7fd2": {
      "model_module": "@jupyter-widgets/controls",
      "model_module_version": "1.4.0",
      "model_name": "HTMLModel",
      "state": {
       "layout": "IPY_MODEL_24794a490f194ce0a69d20782cda72b1",
       "style": "IPY_MODEL_784cbf4a70594c99a1d52ad48136b825",
       "value": "100% 9998900/9998900 [02:55&lt;00:00, 57019.32it/s]"
      }
     },
     "e8ad7e070f184b1186e99669ed55b159": {
      "model_module": "@jupyter-widgets/base",
      "model_module_version": "1.1.0",
      "model_name": "LayoutModel",
      "state": {}
     },
     "e8c5c8e6a93b4088a59916f40e236ecc": {
      "model_module": "@jupyter-widgets/base",
      "model_module_version": "1.1.0",
      "model_name": "LayoutModel",
      "state": {}
     },
     "e8dc75c7d1db4621a8075f6954b3d6b7": {
      "model_module": "@jupyter-widgets/controls",
      "model_module_version": "1.4.0",
      "model_name": "IntProgressModel",
      "state": {
       "bar_style": "success",
       "layout": "IPY_MODEL_4662a3d624234bea8b77c12f41d85b9c",
       "max": 9998900,
       "style": "IPY_MODEL_cf29001b6bb1459899534146d52c7ce6",
       "value": 9998900
      }
     },
     "e8e36a9b5ec64b1ca3c4be51ca698712": {
      "model_module": "@jupyter-widgets/base",
      "model_module_version": "1.1.0",
      "model_name": "LayoutModel",
      "state": {}
     },
     "e943c1a73e734a61becf878dfc16bb1a": {
      "model_module": "@jupyter-widgets/controls",
      "model_module_version": "1.4.0",
      "model_name": "HBoxModel",
      "state": {
       "children": [
        "IPY_MODEL_bdf95d931f6344fc99767af571dd5adf",
        "IPY_MODEL_3399642fadfa4ef7993f7aae81d5624d"
       ],
       "layout": "IPY_MODEL_2ec8282dff0442e9a607bd597ad2504e"
      }
     },
     "e9bc3b564a4949068053bb959b5819b3": {
      "model_module": "@jupyter-widgets/base",
      "model_module_version": "1.1.0",
      "model_name": "LayoutModel",
      "state": {}
     },
     "e9fe795044b3409abdcb22c5ad3ff8be": {
      "model_module": "@jupyter-widgets/base",
      "model_module_version": "1.1.0",
      "model_name": "LayoutModel",
      "state": {}
     },
     "ea0cc80cddf24f0da65759f70a90aeb5": {
      "model_module": "@jupyter-widgets/controls",
      "model_module_version": "1.4.0",
      "model_name": "HBoxModel",
      "state": {
       "children": [
        "IPY_MODEL_d235121c6df34a6199619bfed5b193e0",
        "IPY_MODEL_835489aebf7247ac983d1b6eb9b3f2d4"
       ],
       "layout": "IPY_MODEL_554fef3c05f94dd3b185afe5930e7cec"
      }
     },
     "ea20972a6bfa4e23a9efe59104df9473": {
      "model_module": "@jupyter-widgets/base",
      "model_module_version": "1.1.0",
      "model_name": "LayoutModel",
      "state": {}
     },
     "ea9cbb4414aa46b099cb96b10d123879": {
      "model_module": "@jupyter-widgets/base",
      "model_module_version": "1.1.0",
      "model_name": "LayoutModel",
      "state": {}
     },
     "eab3bfc8571c4150b5b5e2ed427f2747": {
      "model_module": "@jupyter-widgets/controls",
      "model_module_version": "1.4.0",
      "model_name": "DescriptionStyleModel",
      "state": {
       "description_width": ""
      }
     },
     "eb8ff03e82984fa7ad389c2b079ee39a": {
      "model_module": "@jupyter-widgets/base",
      "model_module_version": "1.1.0",
      "model_name": "LayoutModel",
      "state": {}
     },
     "ebacf5a29c6342d78ee0112e76f2bc5c": {
      "model_module": "@jupyter-widgets/controls",
      "model_module_version": "1.4.0",
      "model_name": "DescriptionStyleModel",
      "state": {
       "description_width": ""
      }
     },
     "ebae1af0f4504f9bb13692e4eb1c9086": {
      "model_module": "@jupyter-widgets/controls",
      "model_module_version": "1.4.0",
      "model_name": "DescriptionStyleModel",
      "state": {
       "description_width": ""
      }
     },
     "ec6c9d0a530e4c6c9f013a5e175b69cc": {
      "model_module": "@jupyter-widgets/base",
      "model_module_version": "1.1.0",
      "model_name": "LayoutModel",
      "state": {}
     },
     "ecc237d3c5e545059c12f79820135808": {
      "model_module": "@jupyter-widgets/controls",
      "model_module_version": "1.4.0",
      "model_name": "ProgressStyleModel",
      "state": {
       "description_width": ""
      }
     },
     "ecd0d35610ad475dbd578e7204a4a675": {
      "model_module": "@jupyter-widgets/controls",
      "model_module_version": "1.4.0",
      "model_name": "DescriptionStyleModel",
      "state": {
       "description_width": ""
      }
     },
     "ece8a16087c541218e7bd73190970965": {
      "model_module": "@jupyter-widgets/base",
      "model_module_version": "1.1.0",
      "model_name": "LayoutModel",
      "state": {}
     },
     "ecef9588fc304b00af312244e0c8d0bc": {
      "model_module": "@jupyter-widgets/controls",
      "model_module_version": "1.4.0",
      "model_name": "ProgressStyleModel",
      "state": {
       "description_width": ""
      }
     },
     "ed18e41b542946b281443216b143f487": {
      "model_module": "@jupyter-widgets/base",
      "model_module_version": "1.1.0",
      "model_name": "LayoutModel",
      "state": {}
     },
     "ed1f08e010764d4db3e7ea83ce256116": {
      "model_module": "@jupyter-widgets/base",
      "model_module_version": "1.1.0",
      "model_name": "LayoutModel",
      "state": {}
     },
     "ed758b0b5b5c42798e22a7b2e1f6a59e": {
      "model_module": "@jupyter-widgets/controls",
      "model_module_version": "1.4.0",
      "model_name": "HBoxModel",
      "state": {
       "children": [
        "IPY_MODEL_ef3c96dd02794eb394c89cf9693b0cd0",
        "IPY_MODEL_99b49ca89ef9430aa4dc963fdc114d61"
       ],
       "layout": "IPY_MODEL_af8acaf7907640ea8f2ccdf70c430b35"
      }
     },
     "ed87200079c840fb91746a7eb8842b19": {
      "model_module": "@jupyter-widgets/controls",
      "model_module_version": "1.4.0",
      "model_name": "HTMLModel",
      "state": {
       "layout": "IPY_MODEL_3e9fc650358c4f1b9106f3437b962707",
       "style": "IPY_MODEL_d41004e5066942babd68af9599ee7c2f",
       "value": "100% 9998900/9998900 [02:46&lt;00:00, 60227.21it/s]"
      }
     },
     "edbe3bba7ad24894ada83981b8788d27": {
      "model_module": "@jupyter-widgets/controls",
      "model_module_version": "1.4.0",
      "model_name": "HTMLModel",
      "state": {
       "layout": "IPY_MODEL_be8042152b0e4d778c89691be92c19b1",
       "style": "IPY_MODEL_8019729392ed47739d988f47e252a54a",
       "value": "100% 9998900/9998900 [02:51&lt;00:00, 58373.47it/s]"
      }
     },
     "eddcd88f196d46b8a6bb85790feffd8b": {
      "model_module": "@jupyter-widgets/controls",
      "model_module_version": "1.4.0",
      "model_name": "ProgressStyleModel",
      "state": {
       "description_width": ""
      }
     },
     "ede133fc2649450db7220bc7fab4b7c7": {
      "model_module": "@jupyter-widgets/base",
      "model_module_version": "1.1.0",
      "model_name": "LayoutModel",
      "state": {}
     },
     "ede7a9b94ecf44fda716ea0016e46613": {
      "model_module": "@jupyter-widgets/base",
      "model_module_version": "1.1.0",
      "model_name": "LayoutModel",
      "state": {}
     },
     "ee06bd146ffb407c8e6d3da61bdad142": {
      "model_module": "@jupyter-widgets/base",
      "model_module_version": "1.1.0",
      "model_name": "LayoutModel",
      "state": {}
     },
     "ee1b7778b80a4af9a2295d29df9e773b": {
      "model_module": "@jupyter-widgets/base",
      "model_module_version": "1.1.0",
      "model_name": "LayoutModel",
      "state": {}
     },
     "ee2ab0e113d3482db6100b7a47a275f3": {
      "model_module": "@jupyter-widgets/base",
      "model_module_version": "1.1.0",
      "model_name": "LayoutModel",
      "state": {}
     },
     "ee40b4e9b9fe4357b735a3935f24bf5a": {
      "model_module": "@jupyter-widgets/controls",
      "model_module_version": "1.4.0",
      "model_name": "HBoxModel",
      "state": {
       "children": [
        "IPY_MODEL_af0f0d02db824f36846224b91421541f",
        "IPY_MODEL_872a7aa0eee742b3b8ec82ee1fb110fa"
       ],
       "layout": "IPY_MODEL_9bce9e579be541eeb15ae6995f55e2de"
      }
     },
     "ee4da55051f04ebb89071b09e622405b": {
      "model_module": "@jupyter-widgets/base",
      "model_module_version": "1.1.0",
      "model_name": "LayoutModel",
      "state": {}
     },
     "eec3d52cecb0469f9ca4a4adcab73889": {
      "model_module": "@jupyter-widgets/controls",
      "model_module_version": "1.4.0",
      "model_name": "HBoxModel",
      "state": {
       "children": [
        "IPY_MODEL_d95e7e823296427bb375167ab5332a35",
        "IPY_MODEL_75171a56f26143cfa7031f689d8463f3"
       ],
       "layout": "IPY_MODEL_62c3380644794fa58d99cf129f5eee61"
      }
     },
     "eed2e6536bba40c1b81517bbd0b99166": {
      "model_module": "@jupyter-widgets/controls",
      "model_module_version": "1.4.0",
      "model_name": "DescriptionStyleModel",
      "state": {
       "description_width": ""
      }
     },
     "eef0c9c237a8446aa76862fc09f66328": {
      "model_module": "@jupyter-widgets/base",
      "model_module_version": "1.1.0",
      "model_name": "LayoutModel",
      "state": {}
     },
     "ef027f2723b24a38b019d4fd125c33e6": {
      "model_module": "@jupyter-widgets/base",
      "model_module_version": "1.1.0",
      "model_name": "LayoutModel",
      "state": {}
     },
     "ef02ebe8e7b04e2c83f9ae1757ed0c94": {
      "model_module": "@jupyter-widgets/base",
      "model_module_version": "1.1.0",
      "model_name": "LayoutModel",
      "state": {}
     },
     "ef1e2fcce03e4461bac6b963139baeb9": {
      "model_module": "@jupyter-widgets/base",
      "model_module_version": "1.1.0",
      "model_name": "LayoutModel",
      "state": {}
     },
     "ef3c96dd02794eb394c89cf9693b0cd0": {
      "model_module": "@jupyter-widgets/controls",
      "model_module_version": "1.4.0",
      "model_name": "IntProgressModel",
      "state": {
       "bar_style": "success",
       "layout": "IPY_MODEL_86890d41f73542b1b990653c14b6fe4d",
       "max": 9998900,
       "style": "IPY_MODEL_387e554af462435189b77af0a20cb3c6",
       "value": 9998900
      }
     },
     "ef50346d99ae4f39964c9f81ffb3c1f0": {
      "model_module": "@jupyter-widgets/base",
      "model_module_version": "1.1.0",
      "model_name": "LayoutModel",
      "state": {}
     },
     "ef968112c50a48dc971728851ba4eb85": {
      "model_module": "@jupyter-widgets/base",
      "model_module_version": "1.1.0",
      "model_name": "LayoutModel",
      "state": {}
     },
     "ef9da049d25f4040b11b552e903f0e99": {
      "model_module": "@jupyter-widgets/base",
      "model_module_version": "1.1.0",
      "model_name": "LayoutModel",
      "state": {}
     },
     "efa0f7a97fc64f5d90b9ea3914e07bee": {
      "model_module": "@jupyter-widgets/base",
      "model_module_version": "1.1.0",
      "model_name": "LayoutModel",
      "state": {}
     },
     "efad1d390c86468b8ba07ccd53c22f6e": {
      "model_module": "@jupyter-widgets/controls",
      "model_module_version": "1.4.0",
      "model_name": "IntProgressModel",
      "state": {
       "bar_style": "success",
       "layout": "IPY_MODEL_7ba1feac5e2942cd981f7e2600d4021d",
       "max": 9998900,
       "style": "IPY_MODEL_4ce71f2a29d24144b5693fe5b273037e",
       "value": 9998900
      }
     },
     "efe3a6be12bd4d0bae619df3e87fa29f": {
      "model_module": "@jupyter-widgets/base",
      "model_module_version": "1.1.0",
      "model_name": "LayoutModel",
      "state": {}
     },
     "f01421110e3349adb20590fbd3f1b7da": {
      "model_module": "@jupyter-widgets/controls",
      "model_module_version": "1.4.0",
      "model_name": "HBoxModel",
      "state": {
       "children": [
        "IPY_MODEL_6309a8cde3b24efcb9662a5bbc9b6b29",
        "IPY_MODEL_0b4dd251ac154756a15d39b86f98089e"
       ],
       "layout": "IPY_MODEL_0b0173e399d64e38b33e7b788465518a"
      }
     },
     "f0199f9c96a54313937abe0833042bd0": {
      "model_module": "@jupyter-widgets/base",
      "model_module_version": "1.1.0",
      "model_name": "LayoutModel",
      "state": {}
     },
     "f026768897f64a318676c30108d5a231": {
      "model_module": "@jupyter-widgets/base",
      "model_module_version": "1.1.0",
      "model_name": "LayoutModel",
      "state": {}
     },
     "f068c5790bd043ee8d0b85f1d2207a33": {
      "model_module": "@jupyter-widgets/base",
      "model_module_version": "1.1.0",
      "model_name": "LayoutModel",
      "state": {}
     },
     "f0ccfd1670fd495f9f1b5d0f6bd66340": {
      "model_module": "@jupyter-widgets/controls",
      "model_module_version": "1.4.0",
      "model_name": "ProgressStyleModel",
      "state": {
       "description_width": ""
      }
     },
     "f0d5771174584fd19d8c1984abea92f6": {
      "model_module": "@jupyter-widgets/base",
      "model_module_version": "1.1.0",
      "model_name": "LayoutModel",
      "state": {}
     },
     "f0e831da5f9e47a78873bd0ef4ffce11": {
      "model_module": "@jupyter-widgets/controls",
      "model_module_version": "1.4.0",
      "model_name": "HBoxModel",
      "state": {
       "children": [
        "IPY_MODEL_13609319e410477da4c00f577e3cc40b",
        "IPY_MODEL_e27d4a9507b54425b940ed99cd5f7dc4"
       ],
       "layout": "IPY_MODEL_0b3f16997cd14aa3a1092099806b7296"
      }
     },
     "f0f6483ca4e34c92a48f16ef7bacc27a": {
      "model_module": "@jupyter-widgets/controls",
      "model_module_version": "1.4.0",
      "model_name": "HTMLModel",
      "state": {
       "layout": "IPY_MODEL_3cc6ebccaf004ad1a9a1d72764cbea2d",
       "style": "IPY_MODEL_95f9a173331440d9b3b77eaaeffee428",
       "value": "100% 9998900/9998900 [03:04&lt;00:00, 54113.45it/s]"
      }
     },
     "f11a8ae7e7e740219af610489ce602e8": {
      "model_module": "@jupyter-widgets/controls",
      "model_module_version": "1.4.0",
      "model_name": "HBoxModel",
      "state": {
       "children": [
        "IPY_MODEL_bfe084c4494d4f37ac20aeff695f13dc",
        "IPY_MODEL_adc32139230248e59b29bb007791f6d5"
       ],
       "layout": "IPY_MODEL_2494dc23fe6d40599ca5415a044d3e0f"
      }
     },
     "f121c89db79a497bb7086458863b53f8": {
      "model_module": "@jupyter-widgets/controls",
      "model_module_version": "1.4.0",
      "model_name": "IntProgressModel",
      "state": {
       "bar_style": "success",
       "layout": "IPY_MODEL_dbcbe2a1978c4c02973e0e72a1d51624",
       "max": 9998900,
       "style": "IPY_MODEL_1b80ff7598c5492fbdc56ea6e032bd82",
       "value": 9998900
      }
     },
     "f12c3e1c197c4a7b8160dc991a3453f7": {
      "model_module": "@jupyter-widgets/controls",
      "model_module_version": "1.4.0",
      "model_name": "DescriptionStyleModel",
      "state": {
       "description_width": ""
      }
     },
     "f1314e6022d34739ad6d385dbd80b8e7": {
      "model_module": "@jupyter-widgets/controls",
      "model_module_version": "1.4.0",
      "model_name": "ProgressStyleModel",
      "state": {
       "description_width": ""
      }
     },
     "f13bf74ee3ed40b0ab94d60a54be8ba4": {
      "model_module": "@jupyter-widgets/base",
      "model_module_version": "1.1.0",
      "model_name": "LayoutModel",
      "state": {}
     },
     "f14854d5e6d74974972a3e19145dc2be": {
      "model_module": "@jupyter-widgets/base",
      "model_module_version": "1.1.0",
      "model_name": "LayoutModel",
      "state": {}
     },
     "f1571ff5e3d94fae80fdfc10325ee762": {
      "model_module": "@jupyter-widgets/controls",
      "model_module_version": "1.4.0",
      "model_name": "HTMLModel",
      "state": {
       "layout": "IPY_MODEL_ef1e2fcce03e4461bac6b963139baeb9",
       "style": "IPY_MODEL_b26b13c58624429fb4fdc1d4e523dc04",
       "value": "100% 9998900/9998900 [02:48&lt;00:00, 59389.75it/s]"
      }
     },
     "f18c59a0bfb54a0b9b14f61eb5f2e22b": {
      "model_module": "@jupyter-widgets/controls",
      "model_module_version": "1.4.0",
      "model_name": "DescriptionStyleModel",
      "state": {
       "description_width": ""
      }
     },
     "f19d42c1a58149edab9745cdeaa8eea8": {
      "model_module": "@jupyter-widgets/controls",
      "model_module_version": "1.4.0",
      "model_name": "DescriptionStyleModel",
      "state": {
       "description_width": ""
      }
     },
     "f1b5d804967f41d2856bd136331be19c": {
      "model_module": "@jupyter-widgets/controls",
      "model_module_version": "1.4.0",
      "model_name": "IntProgressModel",
      "state": {
       "bar_style": "success",
       "layout": "IPY_MODEL_f7b9d99e29634fb8a55408b58bba25f7",
       "max": 9998900,
       "style": "IPY_MODEL_80844a0056d8481eaa64c091132c60e1",
       "value": 9998900
      }
     },
     "f1f28e81530044a7a6b5a46ab094fc11": {
      "model_module": "@jupyter-widgets/controls",
      "model_module_version": "1.4.0",
      "model_name": "ProgressStyleModel",
      "state": {
       "description_width": ""
      }
     },
     "f20e261da8b44e1cb0b524721b61cd76": {
      "model_module": "@jupyter-widgets/controls",
      "model_module_version": "1.4.0",
      "model_name": "IntProgressModel",
      "state": {
       "bar_style": "success",
       "layout": "IPY_MODEL_8c25fc819a254d8082fe9b959fa7de3c",
       "max": 9998900,
       "style": "IPY_MODEL_081395a191964f408eed3fb8d206d785",
       "value": 9998900
      }
     },
     "f21376eb41894d41907e5c4d73f77cef": {
      "model_module": "@jupyter-widgets/base",
      "model_module_version": "1.1.0",
      "model_name": "LayoutModel",
      "state": {}
     },
     "f224887dc3194b33af05dbe484c81c17": {
      "model_module": "@jupyter-widgets/base",
      "model_module_version": "1.1.0",
      "model_name": "LayoutModel",
      "state": {}
     },
     "f232f9b0593d44d390e49110205f6bb3": {
      "model_module": "@jupyter-widgets/controls",
      "model_module_version": "1.4.0",
      "model_name": "IntProgressModel",
      "state": {
       "bar_style": "success",
       "layout": "IPY_MODEL_0c99512f95ea40bf9ddf6d0de120256a",
       "max": 9998900,
       "style": "IPY_MODEL_4dfed6d1774b406d882fd82c33fb5cd7",
       "value": 9998900
      }
     },
     "f26783173d0c42c38c8af5a794d60022": {
      "model_module": "@jupyter-widgets/controls",
      "model_module_version": "1.4.0",
      "model_name": "IntProgressModel",
      "state": {
       "bar_style": "success",
       "layout": "IPY_MODEL_151a766a31a04fb4892960607f5c3a83",
       "max": 9998900,
       "style": "IPY_MODEL_ffffa4bfd60e4eb0961559426817556a",
       "value": 9998900
      }
     },
     "f313b2d24cff4453a926969c2dd81f1d": {
      "model_module": "@jupyter-widgets/base",
      "model_module_version": "1.1.0",
      "model_name": "LayoutModel",
      "state": {}
     },
     "f356dcb7ea314e24ba83f2ec3142a377": {
      "model_module": "@jupyter-widgets/controls",
      "model_module_version": "1.4.0",
      "model_name": "ProgressStyleModel",
      "state": {
       "description_width": ""
      }
     },
     "f3734ccac016478f8e117ade0f722c7c": {
      "model_module": "@jupyter-widgets/base",
      "model_module_version": "1.1.0",
      "model_name": "LayoutModel",
      "state": {}
     },
     "f375fcf231484851974c499d8c1a1f27": {
      "model_module": "@jupyter-widgets/controls",
      "model_module_version": "1.4.0",
      "model_name": "ProgressStyleModel",
      "state": {
       "description_width": ""
      }
     },
     "f37e637610164197aff4ed0e0cf196bf": {
      "model_module": "@jupyter-widgets/controls",
      "model_module_version": "1.4.0",
      "model_name": "ProgressStyleModel",
      "state": {
       "description_width": ""
      }
     },
     "f39370f4aa9a4d3cae2c491c1bbaae9e": {
      "model_module": "@jupyter-widgets/base",
      "model_module_version": "1.1.0",
      "model_name": "LayoutModel",
      "state": {}
     },
     "f3a8b7cf00514b948a08c6cc55a9367b": {
      "model_module": "@jupyter-widgets/controls",
      "model_module_version": "1.4.0",
      "model_name": "DescriptionStyleModel",
      "state": {
       "description_width": ""
      }
     },
     "f3dbd1d3ea9c4118852aa19f4401a07a": {
      "model_module": "@jupyter-widgets/controls",
      "model_module_version": "1.4.0",
      "model_name": "ProgressStyleModel",
      "state": {
       "description_width": ""
      }
     },
     "f43cfbc0f22d4c2d8106089288704cd0": {
      "model_module": "@jupyter-widgets/controls",
      "model_module_version": "1.4.0",
      "model_name": "ProgressStyleModel",
      "state": {
       "description_width": ""
      }
     },
     "f451ae5a06ba468482311717d147709c": {
      "model_module": "@jupyter-widgets/base",
      "model_module_version": "1.1.0",
      "model_name": "LayoutModel",
      "state": {}
     },
     "f46052c6edac4d0dbf38441647dbb3dc": {
      "model_module": "@jupyter-widgets/base",
      "model_module_version": "1.1.0",
      "model_name": "LayoutModel",
      "state": {}
     },
     "f46942998d1f4d6f9d500c93222bd5d8": {
      "model_module": "@jupyter-widgets/base",
      "model_module_version": "1.1.0",
      "model_name": "LayoutModel",
      "state": {}
     },
     "f49bcb94b636411683c86dff821e4691": {
      "model_module": "@jupyter-widgets/base",
      "model_module_version": "1.1.0",
      "model_name": "LayoutModel",
      "state": {}
     },
     "f4fba87dde36474b8967abf6500d6d45": {
      "model_module": "@jupyter-widgets/controls",
      "model_module_version": "1.4.0",
      "model_name": "DescriptionStyleModel",
      "state": {
       "description_width": ""
      }
     },
     "f506dd1e2ef24af1a78b1b34572cba24": {
      "model_module": "@jupyter-widgets/controls",
      "model_module_version": "1.4.0",
      "model_name": "ProgressStyleModel",
      "state": {
       "description_width": ""
      }
     },
     "f51a68de32224d9596d31a1ee5fed50c": {
      "model_module": "@jupyter-widgets/controls",
      "model_module_version": "1.4.0",
      "model_name": "HBoxModel",
      "state": {
       "children": [
        "IPY_MODEL_c04a660cc9e64e36a27c0a02dd93d5ea",
        "IPY_MODEL_67fccd7991a64f68b500b3e20dcebcc8"
       ],
       "layout": "IPY_MODEL_d30c58af21444ef5b527280c44101611"
      }
     },
     "f53c5364758c410e82038fa8d609151d": {
      "model_module": "@jupyter-widgets/base",
      "model_module_version": "1.1.0",
      "model_name": "LayoutModel",
      "state": {}
     },
     "f54d9f3697d94ef2bc0d46e94619c46e": {
      "model_module": "@jupyter-widgets/controls",
      "model_module_version": "1.4.0",
      "model_name": "IntProgressModel",
      "state": {
       "bar_style": "success",
       "layout": "IPY_MODEL_7eb305fe5f154f659299f8bcb38558b8",
       "max": 9998900,
       "style": "IPY_MODEL_81b1252565644760b46a8c49181edfb0",
       "value": 9998900
      }
     },
     "f552c957e91e46b49c8fc8526fdd4124": {
      "model_module": "@jupyter-widgets/controls",
      "model_module_version": "1.4.0",
      "model_name": "ProgressStyleModel",
      "state": {
       "description_width": ""
      }
     },
     "f5752c0a626f40de8039f34416b3c187": {
      "model_module": "@jupyter-widgets/base",
      "model_module_version": "1.1.0",
      "model_name": "LayoutModel",
      "state": {}
     },
     "f5777a7796384073a4211594475b0f10": {
      "model_module": "@jupyter-widgets/base",
      "model_module_version": "1.1.0",
      "model_name": "LayoutModel",
      "state": {}
     },
     "f5a5e2c1cde14293a3af6f93a6675cb6": {
      "model_module": "@jupyter-widgets/base",
      "model_module_version": "1.1.0",
      "model_name": "LayoutModel",
      "state": {}
     },
     "f5d4c3101e3e4daca165635793583ba2": {
      "model_module": "@jupyter-widgets/controls",
      "model_module_version": "1.4.0",
      "model_name": "DescriptionStyleModel",
      "state": {
       "description_width": ""
      }
     },
     "f61e574009ee4ccdb4a345023db1a440": {
      "model_module": "@jupyter-widgets/controls",
      "model_module_version": "1.4.0",
      "model_name": "DescriptionStyleModel",
      "state": {
       "description_width": ""
      }
     },
     "f6279a0eb40c4bf18f65a76f2225fe8d": {
      "model_module": "@jupyter-widgets/base",
      "model_module_version": "1.1.0",
      "model_name": "LayoutModel",
      "state": {}
     },
     "f63e6ba140d74a20a349bf194d68de84": {
      "model_module": "@jupyter-widgets/controls",
      "model_module_version": "1.4.0",
      "model_name": "DescriptionStyleModel",
      "state": {
       "description_width": ""
      }
     },
     "f63f76e21f734d4b928792d30c96e974": {
      "model_module": "@jupyter-widgets/controls",
      "model_module_version": "1.4.0",
      "model_name": "HTMLModel",
      "state": {
       "layout": "IPY_MODEL_c09d3e8486c64078bc90571a4225e293",
       "style": "IPY_MODEL_089c6ede45b94e22ba94ffab1d427f4d",
       "value": "100% 9998900/9998900 [02:41&lt;00:00, 62041.35it/s]"
      }
     },
     "f64aa9e945b742719d0a501e11854252": {
      "model_module": "@jupyter-widgets/controls",
      "model_module_version": "1.4.0",
      "model_name": "DescriptionStyleModel",
      "state": {
       "description_width": ""
      }
     },
     "f6555dfdc3bf416db8b44b934ea0ec91": {
      "model_module": "@jupyter-widgets/base",
      "model_module_version": "1.1.0",
      "model_name": "LayoutModel",
      "state": {}
     },
     "f66f91a2a2d04b8a8784b4ea2c9f7bc0": {
      "model_module": "@jupyter-widgets/controls",
      "model_module_version": "1.4.0",
      "model_name": "ProgressStyleModel",
      "state": {
       "description_width": ""
      }
     },
     "f6ddc91e0eb043f585f079293deeb9df": {
      "model_module": "@jupyter-widgets/controls",
      "model_module_version": "1.4.0",
      "model_name": "IntProgressModel",
      "state": {
       "bar_style": "success",
       "layout": "IPY_MODEL_c68fcec1ae844c88b3870ffed70ed8c1",
       "max": 9998900,
       "style": "IPY_MODEL_a8523771488a4ba8a1c27368bdc38e0b",
       "value": 9998900
      }
     },
     "f6eb70633008474caad10fd3afce0641": {
      "model_module": "@jupyter-widgets/base",
      "model_module_version": "1.1.0",
      "model_name": "LayoutModel",
      "state": {}
     },
     "f719e03ead5a4d1a9382484c8cf4bf3f": {
      "model_module": "@jupyter-widgets/controls",
      "model_module_version": "1.4.0",
      "model_name": "ProgressStyleModel",
      "state": {
       "description_width": ""
      }
     },
     "f7292b9f831d4a6f940ce153c7d86ddf": {
      "model_module": "@jupyter-widgets/controls",
      "model_module_version": "1.4.0",
      "model_name": "IntProgressModel",
      "state": {
       "bar_style": "success",
       "layout": "IPY_MODEL_b7e871d8d8b44260b3779ee46566136a",
       "max": 9998900,
       "style": "IPY_MODEL_d0955278b08741cfa2187c7f9e0f3dc5",
       "value": 9998900
      }
     },
     "f75e4e1780914fb5b4be3b71638ae58b": {
      "model_module": "@jupyter-widgets/controls",
      "model_module_version": "1.4.0",
      "model_name": "IntProgressModel",
      "state": {
       "bar_style": "success",
       "layout": "IPY_MODEL_f5777a7796384073a4211594475b0f10",
       "max": 9998900,
       "style": "IPY_MODEL_98e9a90e2ec24a7c837754e90f57940e",
       "value": 9998900
      }
     },
     "f7741b3f83374295a0ad0c7296f6ff97": {
      "model_module": "@jupyter-widgets/controls",
      "model_module_version": "1.4.0",
      "model_name": "DescriptionStyleModel",
      "state": {
       "description_width": ""
      }
     },
     "f792acbbee9e4d278857e7ff373d87de": {
      "model_module": "@jupyter-widgets/controls",
      "model_module_version": "1.4.0",
      "model_name": "IntProgressModel",
      "state": {
       "bar_style": "success",
       "layout": "IPY_MODEL_a78da01a81c648ce813644958f14ae7c",
       "max": 9998900,
       "style": "IPY_MODEL_147f724e0dfc4eed8df91d4424462ef6",
       "value": 9998900
      }
     },
     "f7a0ec21c2d04c2cbf669857fc49d484": {
      "model_module": "@jupyter-widgets/base",
      "model_module_version": "1.1.0",
      "model_name": "LayoutModel",
      "state": {}
     },
     "f7b69af617294c0aba7ffa15332835f8": {
      "model_module": "@jupyter-widgets/controls",
      "model_module_version": "1.4.0",
      "model_name": "HBoxModel",
      "state": {
       "children": [
        "IPY_MODEL_88fdf9162b574bc59c44ec520fe18273",
        "IPY_MODEL_8f70001b5f0b4bed87ab0ce6e128aa65"
       ],
       "layout": "IPY_MODEL_41f47b218efa47f2a8537c74428e69c5"
      }
     },
     "f7b9d99e29634fb8a55408b58bba25f7": {
      "model_module": "@jupyter-widgets/base",
      "model_module_version": "1.1.0",
      "model_name": "LayoutModel",
      "state": {}
     },
     "f7be97acbae148798c15e085a85221e7": {
      "model_module": "@jupyter-widgets/controls",
      "model_module_version": "1.4.0",
      "model_name": "DescriptionStyleModel",
      "state": {
       "description_width": ""
      }
     },
     "f81d10c6f8f74b30a1fe157749cb0162": {
      "model_module": "@jupyter-widgets/base",
      "model_module_version": "1.1.0",
      "model_name": "LayoutModel",
      "state": {}
     },
     "f8219ffd4fc443e59fa1acddccfcc98e": {
      "model_module": "@jupyter-widgets/base",
      "model_module_version": "1.1.0",
      "model_name": "LayoutModel",
      "state": {}
     },
     "f83401cbe6044bb3a315c36a7109184b": {
      "model_module": "@jupyter-widgets/controls",
      "model_module_version": "1.4.0",
      "model_name": "IntProgressModel",
      "state": {
       "bar_style": "success",
       "layout": "IPY_MODEL_f88534e3b1814d4eb71e7df9efac827c",
       "max": 9998900,
       "style": "IPY_MODEL_f375fcf231484851974c499d8c1a1f27",
       "value": 9998900
      }
     },
     "f835e67950db44c2813247fea6c257f1": {
      "model_module": "@jupyter-widgets/controls",
      "model_module_version": "1.4.0",
      "model_name": "HTMLModel",
      "state": {
       "layout": "IPY_MODEL_cb07460671424539b6b8f2ce8913529a",
       "style": "IPY_MODEL_1b5323e811c042d690987e09e604d2a7",
       "value": "100% 9998900/9998900 [02:49&lt;00:00, 58963.15it/s]"
      }
     },
     "f8370e7191804a1fa80f174cc412dfba": {
      "model_module": "@jupyter-widgets/controls",
      "model_module_version": "1.4.0",
      "model_name": "DescriptionStyleModel",
      "state": {
       "description_width": ""
      }
     },
     "f83e4848727845e89084333c1f3ef929": {
      "model_module": "@jupyter-widgets/base",
      "model_module_version": "1.1.0",
      "model_name": "LayoutModel",
      "state": {}
     },
     "f842a1b339b940218ed992b1542f06ac": {
      "model_module": "@jupyter-widgets/base",
      "model_module_version": "1.1.0",
      "model_name": "LayoutModel",
      "state": {}
     },
     "f84fbe4b353c4ee7945225e7c7750d64": {
      "model_module": "@jupyter-widgets/controls",
      "model_module_version": "1.4.0",
      "model_name": "IntProgressModel",
      "state": {
       "bar_style": "success",
       "layout": "IPY_MODEL_b719f771bee5494b91cef8d8961f5c3a",
       "max": 9998900,
       "style": "IPY_MODEL_044bb01fd06f462997bb80159ce42304",
       "value": 9998900
      }
     },
     "f86038b510744691aaeda5f716966e7a": {
      "model_module": "@jupyter-widgets/controls",
      "model_module_version": "1.4.0",
      "model_name": "HTMLModel",
      "state": {
       "layout": "IPY_MODEL_3ca6fddf6e6945ff98c7bea9904564eb",
       "style": "IPY_MODEL_57d4dd5ce09c4c9b876378137305fc74",
       "value": "100% 9998900/9998900 [02:43&lt;00:00, 61284.53it/s]"
      }
     },
     "f88534e3b1814d4eb71e7df9efac827c": {
      "model_module": "@jupyter-widgets/base",
      "model_module_version": "1.1.0",
      "model_name": "LayoutModel",
      "state": {}
     },
     "f895844a2fa540db863d12f87f07013d": {
      "model_module": "@jupyter-widgets/controls",
      "model_module_version": "1.4.0",
      "model_name": "ProgressStyleModel",
      "state": {
       "description_width": ""
      }
     },
     "f8a489baa983403e80131ffa83a73ffe": {
      "model_module": "@jupyter-widgets/base",
      "model_module_version": "1.1.0",
      "model_name": "LayoutModel",
      "state": {}
     },
     "f8cab590c06741a7ae007078e6769329": {
      "model_module": "@jupyter-widgets/controls",
      "model_module_version": "1.4.0",
      "model_name": "HBoxModel",
      "state": {
       "children": [
        "IPY_MODEL_8f64d2fe2357426eb3f0d3ecb72b1abe",
        "IPY_MODEL_933d5dc89f0843ddbc482ca2e3248240"
       ],
       "layout": "IPY_MODEL_22589dad15b64fa7a2073c928b95f21f"
      }
     },
     "f8d0502bc2a6406da8e65ccf0fdd6017": {
      "model_module": "@jupyter-widgets/base",
      "model_module_version": "1.1.0",
      "model_name": "LayoutModel",
      "state": {}
     },
     "f8df8846c67f49d5ba7d990e723ccae8": {
      "model_module": "@jupyter-widgets/controls",
      "model_module_version": "1.4.0",
      "model_name": "HTMLModel",
      "state": {
       "layout": "IPY_MODEL_1514fbbfde3848f38b25ba57fc2142eb",
       "style": "IPY_MODEL_7b1ce4e9a7734ccd8c50c192475fc227",
       "value": "100% 9998900/9998900 [02:48&lt;00:00, 59510.77it/s]"
      }
     },
     "f97299dec6de43058afb1e5c6ab2ab12": {
      "model_module": "@jupyter-widgets/controls",
      "model_module_version": "1.4.0",
      "model_name": "ProgressStyleModel",
      "state": {
       "description_width": ""
      }
     },
     "f98dcb8570ce4ec3a48264864b53e384": {
      "model_module": "@jupyter-widgets/controls",
      "model_module_version": "1.4.0",
      "model_name": "IntProgressModel",
      "state": {
       "bar_style": "success",
       "layout": "IPY_MODEL_8f1afdb3f47647ed89a2c3111720eac9",
       "max": 9998900,
       "style": "IPY_MODEL_63fc6e470fdf4fcd96af761ba138edab",
       "value": 9998900
      }
     },
     "f9ca5ab7348543d4b0701c01b977096b": {
      "model_module": "@jupyter-widgets/base",
      "model_module_version": "1.1.0",
      "model_name": "LayoutModel",
      "state": {}
     },
     "f9d9db8450bd456d99ee18072166cd42": {
      "model_module": "@jupyter-widgets/controls",
      "model_module_version": "1.4.0",
      "model_name": "DescriptionStyleModel",
      "state": {
       "description_width": ""
      }
     },
     "f9eaabc4fe63402bab5e40242eb452dc": {
      "model_module": "@jupyter-widgets/base",
      "model_module_version": "1.1.0",
      "model_name": "LayoutModel",
      "state": {}
     },
     "fa05767fa65846788d79ef056092ff10": {
      "model_module": "@jupyter-widgets/controls",
      "model_module_version": "1.4.0",
      "model_name": "ProgressStyleModel",
      "state": {
       "description_width": ""
      }
     },
     "fa13ac0aa0844e1e92e63a5874aa3174": {
      "model_module": "@jupyter-widgets/base",
      "model_module_version": "1.1.0",
      "model_name": "LayoutModel",
      "state": {}
     },
     "fa29d2a7318b4b44bc91d9fd15096627": {
      "model_module": "@jupyter-widgets/controls",
      "model_module_version": "1.4.0",
      "model_name": "DescriptionStyleModel",
      "state": {
       "description_width": ""
      }
     },
     "fa4a88797ce141c9bc7cb8b5f148f647": {
      "model_module": "@jupyter-widgets/base",
      "model_module_version": "1.1.0",
      "model_name": "LayoutModel",
      "state": {}
     },
     "fb1985c624aa431db0d105ebc28b773e": {
      "model_module": "@jupyter-widgets/controls",
      "model_module_version": "1.4.0",
      "model_name": "IntProgressModel",
      "state": {
       "bar_style": "success",
       "layout": "IPY_MODEL_ef027f2723b24a38b019d4fd125c33e6",
       "max": 9998900,
       "style": "IPY_MODEL_3b8dc101fc73424fa519e9da3584ac32",
       "value": 9998900
      }
     },
     "fb2b1243a2c94a2aae69c1beb15f3395": {
      "model_module": "@jupyter-widgets/controls",
      "model_module_version": "1.4.0",
      "model_name": "HBoxModel",
      "state": {
       "children": [
        "IPY_MODEL_208ce9bbc34a4a469c57a249e3be16a8",
        "IPY_MODEL_b2cbbb48ee6d47f198b5e5a85f663f0c"
       ],
       "layout": "IPY_MODEL_b1b8064f296d4f409246a5d8c6e22c3a"
      }
     },
     "fb5bd29cea5b4dae8fa45bc5da263d42": {
      "model_module": "@jupyter-widgets/controls",
      "model_module_version": "1.4.0",
      "model_name": "ProgressStyleModel",
      "state": {
       "description_width": ""
      }
     },
     "fb5f1d6b46344bd982a4025abbbfe8e1": {
      "model_module": "@jupyter-widgets/controls",
      "model_module_version": "1.4.0",
      "model_name": "IntProgressModel",
      "state": {
       "bar_style": "success",
       "layout": "IPY_MODEL_14a12bf241c84493adcf1d0b25140438",
       "max": 9998900,
       "style": "IPY_MODEL_e13e21ea54d745aa9099d8bbb563ff55",
       "value": 9998900
      }
     },
     "fb78825a612f47f7a372773d3ac6f94e": {
      "model_module": "@jupyter-widgets/controls",
      "model_module_version": "1.4.0",
      "model_name": "ProgressStyleModel",
      "state": {
       "description_width": ""
      }
     },
     "fb945ad8e6934531aa12f7324ff2052d": {
      "model_module": "@jupyter-widgets/controls",
      "model_module_version": "1.4.0",
      "model_name": "HBoxModel",
      "state": {
       "children": [
        "IPY_MODEL_ce181bddf0404f888cbdcf3603a301d0",
        "IPY_MODEL_be3f9c3c5f76409ca355a1f1564bc140"
       ],
       "layout": "IPY_MODEL_846ce0f4eaff48febc091af784c3abf8"
      }
     },
     "fbfab232da1d4f35be96bc31a8844a0e": {
      "model_module": "@jupyter-widgets/controls",
      "model_module_version": "1.4.0",
      "model_name": "IntProgressModel",
      "state": {
       "bar_style": "success",
       "layout": "IPY_MODEL_927b607446044848ae9fed72a87a297e",
       "max": 9998900,
       "style": "IPY_MODEL_bfdb3553dec54697b07058f7c3952e46",
       "value": 9998900
      }
     },
     "fbfb7a81161e4378a0b72a624cac9bf0": {
      "model_module": "@jupyter-widgets/base",
      "model_module_version": "1.1.0",
      "model_name": "LayoutModel",
      "state": {}
     },
     "fc04fbe699ec49f9bca07d74b88f24c3": {
      "model_module": "@jupyter-widgets/controls",
      "model_module_version": "1.4.0",
      "model_name": "IntProgressModel",
      "state": {
       "bar_style": "success",
       "layout": "IPY_MODEL_74a8c5d0fd464c119b5cc02cecb9d8e0",
       "max": 9998900,
       "style": "IPY_MODEL_fb78825a612f47f7a372773d3ac6f94e",
       "value": 9998900
      }
     },
     "fc09eb04a6f540ad943e76b61552086d": {
      "model_module": "@jupyter-widgets/controls",
      "model_module_version": "1.4.0",
      "model_name": "IntProgressModel",
      "state": {
       "bar_style": "success",
       "layout": "IPY_MODEL_475c03b30dcb4bbf896419f65c180729",
       "max": 9998900,
       "style": "IPY_MODEL_55079d63bf664e4bba5a2e19ca39221d",
       "value": 9998900
      }
     },
     "fc566c4f0e9e4bb3aa5f2e84b7535644": {
      "model_module": "@jupyter-widgets/controls",
      "model_module_version": "1.4.0",
      "model_name": "ProgressStyleModel",
      "state": {
       "description_width": ""
      }
     },
     "fc9181b634a6434f9da5b68cae2eefc2": {
      "model_module": "@jupyter-widgets/controls",
      "model_module_version": "1.4.0",
      "model_name": "DescriptionStyleModel",
      "state": {
       "description_width": ""
      }
     },
     "fc9fc809de5943ffb333e3febd0efedc": {
      "model_module": "@jupyter-widgets/controls",
      "model_module_version": "1.4.0",
      "model_name": "HTMLModel",
      "state": {
       "layout": "IPY_MODEL_a4b1137ddd094246a7bfe5054a25c994",
       "style": "IPY_MODEL_8cfd48e69f6148409bb0416aeb226985",
       "value": "100% 9998900/9998900 [02:41&lt;00:00, 61809.30it/s]"
      }
     },
     "fcdd939b225f4feeb3d77637ff4a9e78": {
      "model_module": "@jupyter-widgets/controls",
      "model_module_version": "1.4.0",
      "model_name": "HBoxModel",
      "state": {
       "children": [
        "IPY_MODEL_1ea09bd1ae0b4a678cc707efabed49fa",
        "IPY_MODEL_5d47615dd69544418988839ac105143b"
       ],
       "layout": "IPY_MODEL_45aafaf4e52b49519293e699cf9b369e"
      }
     },
     "fce265f31ed14382ae5c002ad5acca67": {
      "model_module": "@jupyter-widgets/controls",
      "model_module_version": "1.4.0",
      "model_name": "DescriptionStyleModel",
      "state": {
       "description_width": ""
      }
     },
     "fcf839a4df4e4b03bdd665f2c4dc2765": {
      "model_module": "@jupyter-widgets/controls",
      "model_module_version": "1.4.0",
      "model_name": "IntProgressModel",
      "state": {
       "bar_style": "success",
       "layout": "IPY_MODEL_3e8d96c94aca435aaa214c091b288b94",
       "max": 9998900,
       "style": "IPY_MODEL_6bde710ef32b43ea9197f9beeb435090",
       "value": 9998900
      }
     },
     "fd15d926cf084721b0cdb26a58af611a": {
      "model_module": "@jupyter-widgets/base",
      "model_module_version": "1.1.0",
      "model_name": "LayoutModel",
      "state": {}
     },
     "fd76232b1fd04d649452aab63a0ecbac": {
      "model_module": "@jupyter-widgets/controls",
      "model_module_version": "1.4.0",
      "model_name": "HTMLModel",
      "state": {
       "layout": "IPY_MODEL_a7434b3e00e84b708d4b58b9d92c17f8",
       "style": "IPY_MODEL_d9d3af3d481e427db1cd0d4f703c0732",
       "value": "100% 9998900/9998900 [02:58&lt;00:00, 56028.46it/s]"
      }
     },
     "fd8fc71b376944b2821b1638938cd9e2": {
      "model_module": "@jupyter-widgets/controls",
      "model_module_version": "1.4.0",
      "model_name": "ProgressStyleModel",
      "state": {
       "description_width": ""
      }
     },
     "fda262aa117047cfa71c684a1d56aae3": {
      "model_module": "@jupyter-widgets/controls",
      "model_module_version": "1.4.0",
      "model_name": "IntProgressModel",
      "state": {
       "bar_style": "success",
       "layout": "IPY_MODEL_ce54ae7cf65a4e64ab57d5e64e169908",
       "max": 9998900,
       "style": "IPY_MODEL_44aa0873da4b449cac2fe2019c467ccc",
       "value": 9998900
      }
     },
     "fdbeb82fa3804b7b9599a0d6f0d57849": {
      "model_module": "@jupyter-widgets/controls",
      "model_module_version": "1.4.0",
      "model_name": "HBoxModel",
      "state": {
       "children": [
        "IPY_MODEL_66562d5415d94554a2f7047b495a223e",
        "IPY_MODEL_a6e5da9e4ef54e02975c69bea02552f8"
       ],
       "layout": "IPY_MODEL_2e7a5d7b243e4b028c5809c9213fbd21"
      }
     },
     "fdf0282cb6e84db19eb0ee7efe47b805": {
      "model_module": "@jupyter-widgets/controls",
      "model_module_version": "1.4.0",
      "model_name": "DescriptionStyleModel",
      "state": {
       "description_width": ""
      }
     },
     "fe7ebee58731449a8c24fda21e7ac1ae": {
      "model_module": "@jupyter-widgets/controls",
      "model_module_version": "1.4.0",
      "model_name": "ProgressStyleModel",
      "state": {
       "description_width": ""
      }
     },
     "fe9994856dfa4cdca6853a714aef3cbd": {
      "model_module": "@jupyter-widgets/controls",
      "model_module_version": "1.4.0",
      "model_name": "DescriptionStyleModel",
      "state": {
       "description_width": ""
      }
     },
     "fedeae2ee06d4125acde23ded99aacd5": {
      "model_module": "@jupyter-widgets/base",
      "model_module_version": "1.1.0",
      "model_name": "LayoutModel",
      "state": {}
     },
     "ff281823fbed457b9c0d88d0ebdaca32": {
      "model_module": "@jupyter-widgets/controls",
      "model_module_version": "1.4.0",
      "model_name": "HBoxModel",
      "state": {
       "children": [
        "IPY_MODEL_24d8b4f206f24d898fad9421fb1d5431",
        "IPY_MODEL_e1e4bcb1adcd4c0896afcf75eee3277f"
       ],
       "layout": "IPY_MODEL_46791135c4ee441b9ddcea92a3632e0e"
      }
     },
     "ff2e3a77743b495c8ab5b8c182728f26": {
      "model_module": "@jupyter-widgets/controls",
      "model_module_version": "1.4.0",
      "model_name": "ProgressStyleModel",
      "state": {
       "description_width": ""
      }
     },
     "ff47015fbb504a0985a7d3c9e69d7bee": {
      "model_module": "@jupyter-widgets/base",
      "model_module_version": "1.1.0",
      "model_name": "LayoutModel",
      "state": {}
     },
     "ff52fda87a24418e816fb9591a5a3e48": {
      "model_module": "@jupyter-widgets/base",
      "model_module_version": "1.1.0",
      "model_name": "LayoutModel",
      "state": {}
     },
     "ff58037838b644a1a8984d28b5bdac6c": {
      "model_module": "@jupyter-widgets/base",
      "model_module_version": "1.1.0",
      "model_name": "LayoutModel",
      "state": {}
     },
     "ff71f0f102b2449592c30cd0391606c5": {
      "model_module": "@jupyter-widgets/controls",
      "model_module_version": "1.4.0",
      "model_name": "HBoxModel",
      "state": {
       "children": [
        "IPY_MODEL_a0518c7e0fcf417eacbe0c50ba318f07",
        "IPY_MODEL_6492669ddf914c529b090742637ad5b4"
       ],
       "layout": "IPY_MODEL_c351a5709db64a67aaaa4b245f2666b5"
      }
     },
     "ff93d98728764cd09d0f81fa739a2a0f": {
      "model_module": "@jupyter-widgets/controls",
      "model_module_version": "1.4.0",
      "model_name": "IntProgressModel",
      "state": {
       "bar_style": "success",
       "layout": "IPY_MODEL_126b570232414bf1a658284ac872ef54",
       "max": 9998900,
       "style": "IPY_MODEL_15d181b744be40b5a54a3791f71c3b0c",
       "value": 9998900
      }
     },
     "ffffa4bfd60e4eb0961559426817556a": {
      "model_module": "@jupyter-widgets/controls",
      "model_module_version": "1.4.0",
      "model_name": "ProgressStyleModel",
      "state": {
       "description_width": ""
      }
     }
    },
    "version_major": 2,
    "version_minor": 0
   }
  }
 },
 "nbformat": 4,
 "nbformat_minor": 2
}
