{
 "cells": [
  {
   "cell_type": "code",
   "execution_count": 1,
   "metadata": {},
   "outputs": [],
   "source": [
    "import bz2\n",
    "import numpy as np\n",
    "from tqdm import tqdm_notebook as tqdm\n",
    "import gzip\n",
    "from heapq import heappushpop\n",
    "from joblib import Parallel, delayed\n",
    "import time"
   ]
  },
  {
   "cell_type": "code",
   "execution_count": 2,
   "metadata": {},
   "outputs": [],
   "source": [
    "data = np.load('CIFAR10_resnet50-keras_features.npz')"
   ]
  },
  {
   "cell_type": "code",
   "execution_count": 3,
   "metadata": {},
   "outputs": [],
   "source": [
    "x_trn = np.vstack((data['features_training'], data['features_testing']))\n",
    "y_trn = np.hstack((data['labels_training'], data['labels_testing']))"
   ]
  },
  {
   "cell_type": "code",
   "execution_count": 4,
   "metadata": {},
   "outputs": [],
   "source": [
    "from sklearn.utils import shuffle\n",
    "x_trn, y_trn = shuffle(x_trn, y_trn, random_state=0)"
   ]
  },
  {
   "cell_type": "code",
   "execution_count": 5,
   "metadata": {},
   "outputs": [],
   "source": [
    "x_trn = np.reshape(x_trn, (-1, 2048))\n",
    "x_tst, y_tst = x_trn[:100], y_trn[:100]\n",
    "x_val, y_val = x_trn[100:1100], y_trn[100:1100]\n",
    "x_trn, y_trn = x_trn[1100:], y_trn[1100:]"
   ]
  },
  {
   "cell_type": "code",
   "execution_count": 6,
   "metadata": {},
   "outputs": [],
   "source": [
    "def get_true_KNN(x_trn,x_tst,K):\n",
    "    N = x_trn.shape[0]\n",
    "    N_tst = x_tst.shape[0]\n",
    "    x_tst_knn_gt = np.zeros((N_tst, N))\n",
    "    for i_tst in tqdm(range(N_tst)):\n",
    "        dist_gt = np.zeros(N)\n",
    "        for i_trn in range(N):\n",
    "            dist_gt[i_trn] = np.linalg.norm(x_trn[i_trn,:] - x_tst[i_tst, :], 2)\n",
    "#             if i_trn % 100000 == 0:\n",
    "#                 print(i_trn)\n",
    "        x_tst_knn_gt[i_tst, :] = np.argsort(dist_gt)\n",
    "        # x_sort_part = np.argpartition(dist_gt,K)[:K]\n",
    "        # x_tst_knn_gt[i_tst, :] = x_sort_part[np.argsort(dist_gt[x_sort_part])]\n",
    "#         if i_tst % 100 == 0:\n",
    "#             print(i_tst)\n",
    "\n",
    "    return x_tst_knn_gt.astype(int)"
   ]
  },
  {
   "cell_type": "code",
   "execution_count": 7,
   "metadata": {},
   "outputs": [
    {
     "name": "stdout",
     "output_type": "stream",
     "text": [
      "58900\n"
     ]
    }
   ],
   "source": [
    "print(len(x_trn))"
   ]
  },
  {
   "cell_type": "code",
   "execution_count": 8,
   "metadata": {},
   "outputs": [
    {
     "data": {
      "application/vnd.jupyter.widget-view+json": {
       "model_id": "65b1ffb8643d4bb7ad2e3c7bfdbfee0f",
       "version_major": 2,
       "version_minor": 0
      },
      "text/plain": [
       "HBox(children=(IntProgress(value=0), HTML(value='')))"
      ]
     },
     "metadata": {},
     "output_type": "display_data"
    },
    {
     "name": "stdout",
     "output_type": "stream",
     "text": [
      "\n",
      "45.619296073913574\n"
     ]
    }
   ],
   "source": [
    "start = time.time()\n",
    "x_tst_knn_gt = get_true_KNN(x_trn, x_tst, 1)\n",
    "end1 = time.time() - start\n",
    "print(end1)"
   ]
  },
  {
   "cell_type": "code",
   "execution_count": 9,
   "metadata": {},
   "outputs": [
    {
     "data": {
      "application/vnd.jupyter.widget-view+json": {
       "model_id": "35c277627248487386fb16422969424d",
       "version_major": 2,
       "version_minor": 0
      },
      "text/plain": [
       "HBox(children=(IntProgress(value=0, max=1000), HTML(value='')))"
      ]
     },
     "metadata": {},
     "output_type": "display_data"
    },
    {
     "name": "stdout",
     "output_type": "stream",
     "text": [
      "\n",
      "360.9974043369293\n"
     ]
    }
   ],
   "source": [
    "start = time.time()\n",
    "x_val_knn_gt = get_true_KNN(x_trn, x_val, 1)\n",
    "val_end1 = time.time() - start\n",
    "print(val_end1)"
   ]
  },
  {
   "cell_type": "code",
   "execution_count": 10,
   "metadata": {},
   "outputs": [],
   "source": [
    "def compute_single_unweighted_knn_class_shapley(x_trn,y_trn,x_tst_knn_gt,y_tst,K):\n",
    "    N = x_trn.shape[0]\n",
    "    N_tst = x_tst_knn_gt.shape[0]\n",
    "    sp_gt = np.zeros((N_tst,N))\n",
    "    for j in tqdm(range(N_tst)):\n",
    "        # try:\n",
    "        sp_gt[j,x_tst_knn_gt[j,-1]] = (y_trn[x_tst_knn_gt[j,-1]] == y_tst[j])/N\n",
    "        # except:\n",
    "        #     pdb.set_trace()\n",
    "        for i in np.arange(N-2,-1,-1):\n",
    "            sp_gt[j,x_tst_knn_gt[j,i]] = sp_gt[j,x_tst_knn_gt[j,i+1]] +\\\n",
    "                           (int(y_trn[x_tst_knn_gt[j,i]] == y_tst[j]) -\n",
    "                            int(y_trn[x_tst_knn_gt[j,i+1]] == y_tst[j]))/K* min([K,i+1])/(i+1)\n",
    "            # if j == 404 and i == 0:\n",
    "            #     pdb.set_trace()\n",
    "    return sp_gt"
   ]
  },
  {
   "cell_type": "code",
   "execution_count": 11,
   "metadata": {},
   "outputs": [
    {
     "data": {
      "application/vnd.jupyter.widget-view+json": {
       "model_id": "79dbf3a1a8dc474d80bc86a16514795a",
       "version_major": 2,
       "version_minor": 0
      },
      "text/plain": [
       "HBox(children=(IntProgress(value=0), HTML(value='')))"
      ]
     },
     "metadata": {},
     "output_type": "display_data"
    },
    {
     "name": "stdout",
     "output_type": "stream",
     "text": [
      "\n"
     ]
    },
    {
     "data": {
      "application/vnd.jupyter.widget-view+json": {
       "model_id": "a7119ae0dcae49e4953dfd47f510aaff",
       "version_major": 2,
       "version_minor": 0
      },
      "text/plain": [
       "HBox(children=(IntProgress(value=0, max=1000), HTML(value='')))"
      ]
     },
     "metadata": {},
     "output_type": "display_data"
    },
    {
     "name": "stdout",
     "output_type": "stream",
     "text": [
      "\n",
      "32.67850852012634\n",
      "372.8838129043579\n"
     ]
    }
   ],
   "source": [
    "start = time.time()\n",
    "sp_gt = compute_single_unweighted_knn_class_shapley(x_trn, y_trn, x_tst_knn_gt, y_tst, 1)\n",
    "end2 = time.time() - start\n",
    "\n",
    "start = time.time()\n",
    "val_sp_gt = compute_single_unweighted_knn_class_shapley(x_trn, y_trn, x_val_knn_gt, y_val, 1)\n",
    "val_end2 = time.time() - start\n",
    "\n",
    "print(end2)\n",
    "print(val_end2)"
   ]
  },
  {
   "cell_type": "code",
   "execution_count": 12,
   "metadata": {},
   "outputs": [
    {
     "name": "stdout",
     "output_type": "stream",
     "text": [
      "0.7829780459403992\n",
      "0.7338812172412872\n"
     ]
    }
   ],
   "source": [
    "print((end1 + end2) / 100)\n",
    "print((val_end1 + val_end2) / 1000)"
   ]
  },
  {
   "cell_type": "code",
   "execution_count": 13,
   "metadata": {},
   "outputs": [],
   "source": [
    "np.save('eps0.1/tst_exact_sp_gt', sp_gt)\n",
    "np.save('eps0.1/val_exact_sp_gt', val_sp_gt)"
   ]
  },
  {
   "cell_type": "code",
   "execution_count": 14,
   "metadata": {},
   "outputs": [],
   "source": [
    "def get_contrast(x_trn):\n",
    "    num_cores = 8\n",
    "    mc_num = 5\n",
    "    eps = 0.1\n",
    "    n_trn = x_trn.shape[0]\n",
    "    K = int(1 / eps)\n",
    "    contrast = np.zeros((mc_num))\n",
    "    dist_rand = np.zeros(mc_num)\n",
    "    dist_knn = np.zeros((mc_num))\n",
    "\n",
    "    def compute_distance(i_q, query,x_trn,n_trn,K):\n",
    "        dist_to_random = np.zeros(n_trn)\n",
    "        for i_trn in range(n_trn):\n",
    "            dist_to_random[i_trn] = np.linalg.norm(query - x_trn[i_trn, :], 2)\n",
    "        dist_to_random_avg = np.mean(dist_to_random)\n",
    "        dist_to_KNN = np.sort(dist_to_random)[:K]\n",
    "        # first_K_ind = np.argpartition(dist_to_random, K)[:K]\n",
    "        # dist_to_KNN= np.sort(dist_to_random[first_K_ind])\n",
    "        # print(dist_to_random[dist_to_KNN[i_q, :].astype(int)])\n",
    "        if i_q % 100 == 0:\n",
    "            print(i_q)\n",
    "        return dist_to_random_avg,dist_to_KNN\n",
    "\n",
    "    def estimate_contrast(x_trn,query,K):\n",
    "        # estimate empirical contrast\n",
    "        n_trn = x_trn.shape[0]\n",
    "        n_q = query.shape[0]\n",
    "        # dist_to_random_avg = np.zeros(n_q)\n",
    "        # dist_to_KNN = np.zeros((n_q,K))\n",
    "        from joblib import Parallel, delayed\n",
    "        result = \\\n",
    "            Parallel(n_jobs=num_cores)(delayed(compute_distance)(i_q,query[i_q,:],x_trn,n_trn,K) for i_q in range(n_q))\n",
    "        dist_to_random_avg = np.array([result[i][0] for i in range(n_q)])\n",
    "        dist_to_KKN = np.array([result[i][1] for i in range(n_q)])\n",
    "        assert dist_to_KKN.shape[0] == n_q\n",
    "        dist_to_KNN_avg_q = np.mean(dist_to_KKN,axis=0)\n",
    "        dist_to_random_avg_avg = np.mean(dist_to_random_avg)\n",
    "        contrast =dist_to_random_avg_avg/dist_to_KNN_avg_q\n",
    "        return dist_to_random_avg_avg,dist_to_KNN_avg_q,contrast\n",
    "\n",
    "    contrast = []\n",
    "    dist_rand = []\n",
    "    dist_knn = []\n",
    "    for mc_i in range(mc_num):\n",
    "        start = time.time()\n",
    "        sample_ind_trn = np.random.choice(np.arange(n_trn),int(n_trn/5*4),replace=False).astype(int)\n",
    "        sample_ind_query = np.array(list(set(np.arange(n_trn).astype(int).tolist()) - set(sample_ind_trn.tolist()))).astype(int)\n",
    "        # if len(sample_ind_query) + len(sample_ind_trn) != n_trn:\n",
    "        #     print('dimension does not match')\n",
    "        dist_rand_, dist_knn_, contrast_ = estimate_contrast(x_trn[sample_ind_trn,:],x_trn[sample_ind_query,:],K)\n",
    "        dist_rand.append(dist_rand_)\n",
    "        dist_knn.append(dist_knn_)\n",
    "        contrast.append(contrast_)\n",
    "\n",
    "        print('monte carlo iteration%s ' % mc_i)\n",
    "        elapsed_time = time.time() - start\n",
    "        print('elapsed time is %s' % elapsed_time)\n",
    "    dist_knn = np.array(dist_knn)\n",
    "    contrast = np.array(contrast)\n",
    "    dist_rand = np.array(dist_rand)\n",
    "    np.save('eps0.1/dist_rand',dist_rand)\n",
    "    np.save('eps0.1/dist_knn',dist_knn)\n",
    "    np.save('eps0.1/contrast',contrast)"
   ]
  },
  {
   "cell_type": "code",
   "execution_count": 15,
   "metadata": {},
   "outputs": [
    {
     "name": "stdout",
     "output_type": "stream",
     "text": [
      "monte carlo iteration0 \n",
      "elapsed time is 1.1923508644104004\n",
      "monte carlo iteration1 \n",
      "elapsed time is 0.4999969005584717\n",
      "monte carlo iteration2 \n",
      "elapsed time is 0.5158400535583496\n",
      "monte carlo iteration3 \n",
      "elapsed time is 0.4136996269226074\n",
      "monte carlo iteration4 \n",
      "elapsed time is 0.6797780990600586\n"
     ]
    }
   ],
   "source": [
    "K = 10\n",
    "get_contrast(x_val)\n",
    "dist_rand = np.load('eps0.1/dist_rand.npy')\n",
    "contrast = np.load('eps0.1/contrast.npy')\n",
    "dist_knn = np.load('eps0.1/dist_knn.npy')\n",
    "\n",
    "dist_rand = np.mean(dist_rand, axis=0)\n",
    "contrast = np.mean(contrast, axis=0)[K-1]\n",
    "dist_knn = np.mean(dist_knn, axis=0)[K-1]"
   ]
  },
  {
   "cell_type": "code",
   "execution_count": 16,
   "metadata": {},
   "outputs": [],
   "source": [
    "search_range = np.arange(1e-3, 10, 1e-3)\n",
    "from scipy.stats import norm\n",
    "\n",
    "\n",
    "def f_h(x, r):\n",
    "    y = 1-2*norm.cdf(-r/x) - 2/(np.sqrt(2*np.pi)*r/x)*(1-np.exp(-(r**2/(2*(x**2)))))\n",
    "    return y\n",
    "\n",
    "def g_unnormalize(dist_rand,dist_knn,r):\n",
    "    y = np.log(f_h(dist_knn,r))/np.log(f_h(dist_rand,r))\n",
    "    return y\n",
    "\n",
    "def g_normalize(contrast,r):\n",
    "    y = np.log(f_h(1/contrast,r))/np.log(f_h(1,r))\n",
    "    return y\n",
    "\n",
    "def find_best_r_normalize(search_range,contrast):\n",
    "    y = g_normalize(contrast,search_range)\n",
    "    min_ind = np.argmin(y)\n",
    "    return search_range[min_ind]\n",
    "\n",
    "def find_best_r_unnormalize(search_range,dist_rand,dist_knn):\n",
    "    y = g_unnormalize(dist_rand,dist_knn,search_range)\n",
    "    min_ind = np.argmin(y)\n",
    "    return search_range[min_ind]\n",
    "\n",
    "r_vec_normalize = find_best_r_normalize(search_range, contrast)\n",
    "g_vec = g_normalize(contrast, r_vec_normalize)"
   ]
  },
  {
   "cell_type": "code",
   "execution_count": 17,
   "metadata": {},
   "outputs": [
    {
     "data": {
      "image/png": "[encoded data removed]",
      "text/plain": [
       "<Figure size 432x288 with 1 Axes>"
      ]
     },
     "metadata": {
      "needs_background": "light"
     },
     "output_type": "display_data"
    }
   ],
   "source": [
    "%matplotlib inline\n",
    "import matplotlib.pyplot as plt\n",
    "\n",
    "# plot g(C_K) vs r, we want g(C_k) to be small\n",
    "g = g_normalize(contrast,search_range)\n",
    "plt.figure()\n",
    "plt.plot(search_range,g)\n",
    "plt.show()\n"
   ]
  },
  {
   "cell_type": "code",
   "execution_count": 18,
   "metadata": {},
   "outputs": [],
   "source": [
    "# search range, find r that minimize g, shape should be 类似 convex\n",
    "\n",
    "# np.save('data/mnist_mini_selected_param_r_' + str(K) + '.npy', r_vec_normalize)\n",
    "# np.save('data/mnist_mini_selected_param_g_' + str(K) + '.npy', g_vec)\n",
    "np.save('eps0.1/selected_param_r_' + str(K) + '.npy', r_vec_normalize)\n",
    "np.save('eps0.1/selected_param_g_' + str(K) + '.npy', g_vec)"
   ]
  },
  {
   "cell_type": "code",
   "execution_count": 19,
   "metadata": {},
   "outputs": [
    {
     "name": "stdout",
     "output_type": "stream",
     "text": [
      "13\n"
     ]
    }
   ],
   "source": [
    "t = r_vec_normalize\n",
    "n_trn = len(x_trn)\n",
    "n_hash_table = 10 # 如果 estimation error 高于 0.01\n",
    "n_hash_bit = int(np.ceil(np.log(n_trn)*0.5/ np.log(1 / f_h(1, t))))\n",
    "print(n_hash_bit)"
   ]
  },
  {
   "cell_type": "code",
   "execution_count": 20,
   "metadata": {},
   "outputs": [],
   "source": [
    "import numpy as np\n",
    "import pdb\n",
    "\n",
    "\n",
    "def lsh_function(t,x,w,b):\n",
    "    # x is 1-d array\n",
    "    h = np.floor((np.dot(w,x)+b)/t).astype(int)\n",
    "    return h\n",
    "\n",
    "\n",
    "class LSH:\n",
    "    def __init__(self,n_hash_bit,n_hash_table,x_trn,y_trn,t=0.1):\n",
    "        self.n_hash_bit = n_hash_bit\n",
    "        self.n_hash_table = n_hash_table\n",
    "        self.t = t # width of projections\n",
    "        self.x_trn = x_trn\n",
    "        self.y_trn = y_trn\n",
    "        self.N, self.dim = x_trn.shape\n",
    "        # draw w from a normal distribution (2-stable)\n",
    "        self.w = np.random.normal(0, 1, (n_hash_table, n_hash_bit, self.dim))\n",
    "        # draw b from U[0,t]\n",
    "        self.b = np.random.uniform(0, self.t, (n_hash_table, n_hash_bit))\n",
    "        self.x_trn_hash = [dict() for i in range(n_hash_table)]\n",
    "        for i in tqdm(range(self.N)):\n",
    "            hash_code_all = lsh_function(self.t, x_trn[i] / dist_rand, self.w, self.b)\n",
    "            for l in range(n_hash_table):\n",
    "                hash_code_trn = '.'.join(map(str, hash_code_all[l, :]))\n",
    "                if hash_code_trn in self.x_trn_hash[l].keys():\n",
    "                    self.x_trn_hash[l][hash_code_trn].append(i)\n",
    "                else:\n",
    "                    self.x_trn_hash[l][hash_code_trn] = [i]\n",
    "#             if i % 1000 == 0:\n",
    "#                 print('build hash %s'%i)\n",
    "\n",
    "    def get_approx_KNN(self,x_tst,K):\n",
    "        N_tst = x_tst.shape[0]\n",
    "        x_tst_knn = np.ones((N_tst, K)) * (-1)\n",
    "        nns_len = np.zeros(N_tst)\n",
    "        for i_tst in tqdm(range(N_tst)):\n",
    "            nns = []\n",
    "            for l in range(self.n_hash_table):\n",
    "                hash_code_int = lsh_function(self.t, x_tst[i_tst] / dist_rand, self.w[l, :, :], self.b[l, :])\n",
    "                hash_code_test = '.'.join(map(str, hash_code_int))\n",
    "                if hash_code_test in self.x_trn_hash[l].keys():\n",
    "                    nns += self.x_trn_hash[l][hash_code_test]\n",
    "            nns = np.unique(nns)\n",
    "            num_collide_elements = len(nns)\n",
    "            if len(nns) > 0:\n",
    "                dist = [np.linalg.norm(self.x_trn[i] / dist_rand - x_tst[i_tst] / dist_rand, 2) for i in nns]\n",
    "                dist_min_ind = nns[np.argsort(dist)]\n",
    "                if num_collide_elements < K:\n",
    "                    x_tst_knn[i_tst, :num_collide_elements] = dist_min_ind[:num_collide_elements]\n",
    "                else:\n",
    "                    x_tst_knn[i_tst, :] = dist_min_ind[:K]\n",
    "            # pdb.set_trace()\n",
    "            nns_len[i_tst] = len(nns)\n",
    "            if i_tst % 100 == 0:\n",
    "                print('get approximate knn %s'%i_tst)\n",
    "        return x_tst_knn.astype(int),nns_len\n",
    "\n",
    "\n",
    "    def compute_approx_shapley(self,x_tst_knn,y_tst,K):\n",
    "        N_tst,K_star = x_tst_knn.shape\n",
    "        # flag_sufficient = (x_tst_knn[:,-1]>=0)\n",
    "        sp_approx = np.zeros((N_tst,self.N))\n",
    "        for j in tqdm(range(N_tst)):\n",
    "            non_nan_index = np.where(x_tst_knn[j,:]>=0)[0]\n",
    "            if len(non_nan_index)== 0:\n",
    "                continue\n",
    "            K_tot = non_nan_index[-1]\n",
    "            if K_tot == self.N:\n",
    "                sp_approx[j, x_tst_knn[j, self.N - 1]] = equal(self.y_trn[x_tst_knn[j, self.N - 1]], y_tst[j]) / self.N\n",
    "            for i in np.arange(K_tot - 1, -1, -1):\n",
    "                sp_approx[j, x_tst_knn[j, i]] = sp_approx[j, x_tst_knn[j, i+1]] + (\n",
    "                        equal(self.y_trn[x_tst_knn[j, i]], y_tst[j]) - equal(\n",
    "                    self.y_trn[x_tst_knn[j, i + 1]], y_tst[j])) / K * min([K, i + 1]) / (i + 1)\n",
    "\n",
    "\n",
    "\n",
    "        return sp_approx"
   ]
  },
  {
   "cell_type": "code",
   "execution_count": 24,
   "metadata": {},
   "outputs": [],
   "source": [
    "def equal(a, b):\n",
    "    return int(a == b)\n",
    "    \n",
    "def fine_tune(n_hash_table=10, alpha=0.5, file=False):\n",
    "    t = r_vec_normalize\n",
    "    n_trn = len(x_trn)\n",
    "    n_hash_bit = int(np.ceil(np.log(n_trn)*alpha/ np.log(1 / f_h(1, t))))\n",
    "    if file is True:\n",
    "        print(n_hash_bit, file=open('eps0.1/log.txt', 'a'))\n",
    "    else:\n",
    "        print(n_hash_bit)\n",
    "    \n",
    "    start = time.time()\n",
    "    lsh = LSH(n_hash_bit=n_hash_bit, n_hash_table=n_hash_table, x_trn=x_trn, y_trn=y_trn, t=t)\n",
    "    runtime_build_hash = time.time() - start\n",
    "    if file is True:\n",
    "        print(runtime_build_hash, file=open('eps0.1/log.txt', 'a'))\n",
    "    else:\n",
    "        print(runtime_build_hash)\n",
    "    \n",
    "    K_star = 10\n",
    "    start = time.time()\n",
    "    x_val_knn_approx, nns_vec = lsh.get_approx_KNN(x_val, K_star)\n",
    "    runtime_query = time.time() - start\n",
    "    if file is True:\n",
    "        print(runtime_query, file=open('eps0.1/log.txt', 'a'))\n",
    "    else:\n",
    "        print(runtime_query)\n",
    "    \n",
    "    K = 1\n",
    "    start = time.time()\n",
    "    sp_approx = lsh.compute_approx_shapley(x_val_knn_approx, y_val, K)\n",
    "    runtime_approx_value = time.time() - start\n",
    "    if file is True:\n",
    "        print('it takes %s to get appox knn value' % runtime_approx_value, file=open('eps0.1/log.txt', 'a'))\n",
    "    else:\n",
    "        print('it takes %s to get appox knn value' % runtime_approx_value)\n",
    "    \n",
    "    sp_err_inf_val= np.linalg.norm(val_sp_gt - sp_approx,ord=np.inf, axis=1)\n",
    "    if file is True:\n",
    "        print('max error %s'% np.percentile(sp_err_inf_val,90), file=open('eps0.1/log.txt', 'a'))\n",
    "    else:\n",
    "        print('max error %s'% np.percentile(sp_err_inf_val,90))\n",
    "    return lsh"
   ]
  },
  {
   "cell_type": "code",
   "execution_count": 25,
   "metadata": {},
   "outputs": [],
   "source": [
    "def fine_tune_test(n_hash_table=10, lsh=None, file=False):\n",
    "    if not lsh:\n",
    "        t = r_vec_normalize\n",
    "        n_trn = len(x_trn)\n",
    "        n_hash_bit = int(np.ceil(np.log(n_trn)*0.3/ np.log(1 / f_h(1, t))))\n",
    "        print(n_hash_bit)\n",
    "    \n",
    "        start = time.time()\n",
    "        lsh = LSH(n_hash_bit=n_hash_bit, n_hash_table=n_hash_table, x_trn=x_trn_norm, y_trn=y_trn, t=t)\n",
    "        runtime_build_hash = time.time() - start\n",
    "        print(runtime_build_hash)\n",
    "    \n",
    "    K_star = 10\n",
    "    start = time.time()\n",
    "    x_tst_knn_approx, nns_vec = lsh.get_approx_KNN(x_tst, K_star)\n",
    "    runtime_query = time.time() - start\n",
    "    if file is True:\n",
    "        print(runtime_query, file=open('eps0.1/log.txt', 'a'))\n",
    "    else:\n",
    "        print(runtime_query)\n",
    "    \n",
    "    K = 1\n",
    "    start = time.time()\n",
    "    sp_approx = lsh.compute_approx_shapley(x_tst_knn_approx, y_tst, K)\n",
    "    runtime_approx_value = time.time() - start\n",
    "    if file is True:\n",
    "        print('it takes %s to get appox knn value' % runtime_approx_value, file=open('eps0.1/log.txt', 'a'))\n",
    "    else:\n",
    "        print('it takes %s to get appox knn value' % runtime_approx_value)\n",
    "    \n",
    "    sp_err_inf_val= np.linalg.norm(sp_gt - sp_approx,ord=np.inf, axis=1)\n",
    "    if file is True:\n",
    "        print('max error %s'% np.percentile(sp_err_inf_val,90), file=open('eps0.1/log.txt', 'a'))\n",
    "    else:\n",
    "        print('max error %s'% np.percentile(sp_err_inf_val,90))\n",
    "    return sp_approx, nns_vec"
   ]
  },
  {
   "cell_type": "code",
   "execution_count": 26,
   "metadata": {},
   "outputs": [
    {
     "data": {
      "application/vnd.jupyter.widget-view+json": {
       "model_id": "b351e95df98847a68710f6b5246ef97a",
       "version_major": 2,
       "version_minor": 0
      },
      "text/plain": [
       "HBox(children=(IntProgress(value=0, max=58900), HTML(value='')))"
      ]
     },
     "metadata": {},
     "output_type": "display_data"
    },
    {
     "name": "stdout",
     "output_type": "stream",
     "text": [
      "\n"
     ]
    },
    {
     "data": {
      "application/vnd.jupyter.widget-view+json": {
       "model_id": "e7022fe9cbec442697e789c14b9c5d04",
       "version_major": 2,
       "version_minor": 0
      },
      "text/plain": [
       "HBox(children=(IntProgress(value=0, max=1000), HTML(value='')))"
      ]
     },
     "metadata": {},
     "output_type": "display_data"
    },
    {
     "name": "stdout",
     "output_type": "stream",
     "text": [
      "get approximate knn 0\n",
      "get approximate knn 100\n",
      "get approximate knn 200\n",
      "get approximate knn 300\n",
      "get approximate knn 400\n",
      "get approximate knn 500\n",
      "get approximate knn 600\n",
      "get approximate knn 700\n",
      "get approximate knn 800\n",
      "get approximate knn 900\n",
      "\n"
     ]
    },
    {
     "data": {
      "application/vnd.jupyter.widget-view+json": {
       "model_id": "f1c5899405d148a0a2f129d3fedd76dc",
       "version_major": 2,
       "version_minor": 0
      },
      "text/plain": [
       "HBox(children=(IntProgress(value=0, max=1000), HTML(value='')))"
      ]
     },
     "metadata": {},
     "output_type": "display_data"
    },
    {
     "name": "stdout",
     "output_type": "stream",
     "text": [
      "\n"
     ]
    },
    {
     "data": {
      "application/vnd.jupyter.widget-view+json": {
       "model_id": "10c3daf819ea4f5e975d5f3748186868",
       "version_major": 2,
       "version_minor": 0
      },
      "text/plain": [
       "HBox(children=(IntProgress(value=0), HTML(value='')))"
      ]
     },
     "metadata": {},
     "output_type": "display_data"
    },
    {
     "name": "stdout",
     "output_type": "stream",
     "text": [
      "get approximate knn 0\n",
      "\n"
     ]
    },
    {
     "data": {
      "application/vnd.jupyter.widget-view+json": {
       "model_id": "f63dfc418ddd4be2858a8d42fa398192",
       "version_major": 2,
       "version_minor": 0
      },
      "text/plain": [
       "HBox(children=(IntProgress(value=0), HTML(value='')))"
      ]
     },
     "metadata": {},
     "output_type": "display_data"
    },
    {
     "name": "stdout",
     "output_type": "stream",
     "text": [
      "\n"
     ]
    }
   ],
   "source": [
    "lsh_10_038 = fine_tune(10, 0.38, file=True)\n",
    "sp_approx_10_038, nns_vec_10_038 = fine_tune_test(10, lsh_10_038, file=True)"
   ]
  },
  {
   "cell_type": "code",
   "execution_count": 27,
   "metadata": {},
   "outputs": [
    {
     "name": "stdout",
     "output_type": "stream",
     "text": [
      "13\n"
     ]
    },
    {
     "data": {
      "application/vnd.jupyter.widget-view+json": {
       "model_id": "587a062133e842eb8507ce655ccf2d71",
       "version_major": 2,
       "version_minor": 0
      },
      "text/plain": [
       "HBox(children=(IntProgress(value=0, max=58900), HTML(value='')))"
      ]
     },
     "metadata": {},
     "output_type": "display_data"
    },
    {
     "name": "stdout",
     "output_type": "stream",
     "text": [
      "\n",
      "45.6403591632843\n"
     ]
    },
    {
     "data": {
      "application/vnd.jupyter.widget-view+json": {
       "model_id": "c238915b91ef4e669f06033682baeba6",
       "version_major": 2,
       "version_minor": 0
      },
      "text/plain": [
       "HBox(children=(IntProgress(value=0, max=1000), HTML(value='')))"
      ]
     },
     "metadata": {},
     "output_type": "display_data"
    },
    {
     "name": "stdout",
     "output_type": "stream",
     "text": [
      "get approximate knn 0\n",
      "get approximate knn 100\n",
      "get approximate knn 200\n",
      "get approximate knn 300\n",
      "get approximate knn 400\n",
      "get approximate knn 500\n",
      "get approximate knn 600\n",
      "get approximate knn 700\n",
      "get approximate knn 800\n",
      "get approximate knn 900\n",
      "\n",
      "156.2415816783905\n"
     ]
    },
    {
     "data": {
      "application/vnd.jupyter.widget-view+json": {
       "model_id": "e1c378212e9848338c3b3d95c5d7f7f1",
       "version_major": 2,
       "version_minor": 0
      },
      "text/plain": [
       "HBox(children=(IntProgress(value=0, max=1000), HTML(value='')))"
      ]
     },
     "metadata": {},
     "output_type": "display_data"
    },
    {
     "name": "stdout",
     "output_type": "stream",
     "text": [
      "\n",
      "it takes 0.17097902297973633 to get appox knn value\n",
      "max error 0.20253575444680727\n"
     ]
    },
    {
     "data": {
      "application/vnd.jupyter.widget-view+json": {
       "model_id": "421d59e9bbaa45c38403ab2f1aa0b95e",
       "version_major": 2,
       "version_minor": 0
      },
      "text/plain": [
       "HBox(children=(IntProgress(value=0), HTML(value='')))"
      ]
     },
     "metadata": {},
     "output_type": "display_data"
    },
    {
     "name": "stdout",
     "output_type": "stream",
     "text": [
      "get approximate knn 0\n",
      "\n",
      "15.579456090927124\n"
     ]
    },
    {
     "data": {
      "application/vnd.jupyter.widget-view+json": {
       "model_id": "b7a99864db6a40aa8829cafb5e149729",
       "version_major": 2,
       "version_minor": 0
      },
      "text/plain": [
       "HBox(children=(IntProgress(value=0), HTML(value='')))"
      ]
     },
     "metadata": {},
     "output_type": "display_data"
    },
    {
     "name": "stdout",
     "output_type": "stream",
     "text": [
      "\n",
      "it takes 0.027326583862304688 to get appox knn value\n",
      "max error 0.21762423339177603\n"
     ]
    }
   ],
   "source": [
    "lsh_50_05 = fine_tune(50, 0.5)\n",
    "sp_approx_50_05, nns_vec_50_05 = fine_tune_test(50, lsh_50_05)"
   ]
  },
  {
   "cell_type": "code",
   "execution_count": 28,
   "metadata": {},
   "outputs": [
    {
     "data": {
      "application/vnd.jupyter.widget-view+json": {
       "model_id": "a8e3776f61634f5fa41720f73c1aa9bd",
       "version_major": 2,
       "version_minor": 0
      },
      "text/plain": [
       "HBox(children=(IntProgress(value=0, max=58900), HTML(value='')))"
      ]
     },
     "metadata": {},
     "output_type": "display_data"
    },
    {
     "name": "stdout",
     "output_type": "stream",
     "text": [
      "\n"
     ]
    },
    {
     "data": {
      "application/vnd.jupyter.widget-view+json": {
       "model_id": "4752ed884e514d3bb162f5974c6dc7bc",
       "version_major": 2,
       "version_minor": 0
      },
      "text/plain": [
       "HBox(children=(IntProgress(value=0, max=1000), HTML(value='')))"
      ]
     },
     "metadata": {},
     "output_type": "display_data"
    },
    {
     "name": "stdout",
     "output_type": "stream",
     "text": [
      "get approximate knn 0\n",
      "get approximate knn 100\n",
      "get approximate knn 200\n",
      "get approximate knn 300\n",
      "get approximate knn 400\n",
      "get approximate knn 500\n",
      "get approximate knn 600\n",
      "get approximate knn 700\n",
      "get approximate knn 800\n",
      "get approximate knn 900\n",
      "\n"
     ]
    },
    {
     "data": {
      "application/vnd.jupyter.widget-view+json": {
       "model_id": "f3034f9ec4124f11a67207d1b9d508f4",
       "version_major": 2,
       "version_minor": 0
      },
      "text/plain": [
       "HBox(children=(IntProgress(value=0, max=1000), HTML(value='')))"
      ]
     },
     "metadata": {},
     "output_type": "display_data"
    },
    {
     "name": "stdout",
     "output_type": "stream",
     "text": [
      "\n"
     ]
    },
    {
     "data": {
      "application/vnd.jupyter.widget-view+json": {
       "model_id": "b2a653b4805f4566942b18d4eb019cb6",
       "version_major": 2,
       "version_minor": 0
      },
      "text/plain": [
       "HBox(children=(IntProgress(value=0), HTML(value='')))"
      ]
     },
     "metadata": {},
     "output_type": "display_data"
    },
    {
     "name": "stdout",
     "output_type": "stream",
     "text": [
      "get approximate knn 0\n",
      "\n"
     ]
    },
    {
     "data": {
      "application/vnd.jupyter.widget-view+json": {
       "model_id": "3fac04d9aaf247209b84fdf86f1bc472",
       "version_major": 2,
       "version_minor": 0
      },
      "text/plain": [
       "HBox(children=(IntProgress(value=0), HTML(value='')))"
      ]
     },
     "metadata": {},
     "output_type": "display_data"
    },
    {
     "name": "stdout",
     "output_type": "stream",
     "text": [
      "\n"
     ]
    }
   ],
   "source": [
    "lsh_80_053 = fine_tune(80, 0.53, file=True)\n",
    "sp_approx_80_053, nns_vec_80_053 = fine_tune_test(80, lsh_80_053, file=True)"
   ]
  },
  {
   "cell_type": "code",
   "execution_count": 29,
   "metadata": {},
   "outputs": [
    {
     "name": "stdout",
     "output_type": "stream",
     "text": [
      "13\n"
     ]
    },
    {
     "data": {
      "application/vnd.jupyter.widget-view+json": {
       "model_id": "36dbce6d87d64e6b8345d93188703cd1",
       "version_major": 2,
       "version_minor": 0
      },
      "text/plain": [
       "HBox(children=(IntProgress(value=0, max=58900), HTML(value='')))"
      ]
     },
     "metadata": {},
     "output_type": "display_data"
    },
    {
     "name": "stdout",
     "output_type": "stream",
     "text": [
      "\n",
      "68.34344673156738\n"
     ]
    },
    {
     "data": {
      "application/vnd.jupyter.widget-view+json": {
       "model_id": "8961d9cda38b431fa7ed13965d4a191c",
       "version_major": 2,
       "version_minor": 0
      },
      "text/plain": [
       "HBox(children=(IntProgress(value=0, max=1000), HTML(value='')))"
      ]
     },
     "metadata": {},
     "output_type": "display_data"
    },
    {
     "name": "stdout",
     "output_type": "stream",
     "text": [
      "get approximate knn 0\n",
      "get approximate knn 100\n",
      "get approximate knn 200\n",
      "get approximate knn 300\n",
      "get approximate knn 400\n",
      "get approximate knn 500\n",
      "get approximate knn 600\n",
      "get approximate knn 700\n",
      "get approximate knn 800\n",
      "get approximate knn 900\n",
      "\n",
      "237.40560364723206\n"
     ]
    },
    {
     "data": {
      "application/vnd.jupyter.widget-view+json": {
       "model_id": "dd88e126a5684151b160c114fb861839",
       "version_major": 2,
       "version_minor": 0
      },
      "text/plain": [
       "HBox(children=(IntProgress(value=0, max=1000), HTML(value='')))"
      ]
     },
     "metadata": {},
     "output_type": "display_data"
    },
    {
     "name": "stdout",
     "output_type": "stream",
     "text": [
      "\n",
      "it takes 0.11438894271850586 to get appox knn value\n",
      "max error 0.11827851996811087\n"
     ]
    },
    {
     "data": {
      "application/vnd.jupyter.widget-view+json": {
       "model_id": "23a2f093932846e4b98204bb7ec18ab9",
       "version_major": 2,
       "version_minor": 0
      },
      "text/plain": [
       "HBox(children=(IntProgress(value=0), HTML(value='')))"
      ]
     },
     "metadata": {},
     "output_type": "display_data"
    },
    {
     "name": "stdout",
     "output_type": "stream",
     "text": [
      "get approximate knn 0\n",
      "\n",
      "26.7766854763031\n"
     ]
    },
    {
     "data": {
      "application/vnd.jupyter.widget-view+json": {
       "model_id": "67933762c2dd41b28491bf48b0d2e63a",
       "version_major": 2,
       "version_minor": 0
      },
      "text/plain": [
       "HBox(children=(IntProgress(value=0), HTML(value='')))"
      ]
     },
     "metadata": {},
     "output_type": "display_data"
    },
    {
     "name": "stdout",
     "output_type": "stream",
     "text": [
      "\n",
      "it takes 0.029628276824951172 to get appox knn value\n",
      "max error 0.2751299183417773\n"
     ]
    }
   ],
   "source": [
    "lsh_70_05 = fine_tune(70, 0.5)\n",
    "sp_approx_70_05, nns_vec_70_05 = fine_tune_test(70, lsh_70_05)"
   ]
  },
  {
   "cell_type": "code",
   "execution_count": 30,
   "metadata": {},
   "outputs": [
    {
     "name": "stdout",
     "output_type": "stream",
     "text": [
      "13\n"
     ]
    },
    {
     "data": {
      "application/vnd.jupyter.widget-view+json": {
       "model_id": "3228bfb5e03c40efb9c230858da901e2",
       "version_major": 2,
       "version_minor": 0
      },
      "text/plain": [
       "HBox(children=(IntProgress(value=0, max=58900), HTML(value='')))"
      ]
     },
     "metadata": {},
     "output_type": "display_data"
    },
    {
     "name": "stdout",
     "output_type": "stream",
     "text": [
      "\n",
      "85.8965699672699\n"
     ]
    },
    {
     "data": {
      "application/vnd.jupyter.widget-view+json": {
       "model_id": "48d9efb43a084fdab2dbb6aee44c3426",
       "version_major": 2,
       "version_minor": 0
      },
      "text/plain": [
       "HBox(children=(IntProgress(value=0, max=1000), HTML(value='')))"
      ]
     },
     "metadata": {},
     "output_type": "display_data"
    },
    {
     "name": "stdout",
     "output_type": "stream",
     "text": [
      "get approximate knn 0\n",
      "get approximate knn 100\n",
      "get approximate knn 200\n",
      "get approximate knn 300\n",
      "get approximate knn 400\n",
      "get approximate knn 500\n",
      "get approximate knn 600\n",
      "get approximate knn 700\n",
      "get approximate knn 800\n",
      "get approximate knn 900\n",
      "\n",
      "250.46719098091125\n"
     ]
    },
    {
     "data": {
      "application/vnd.jupyter.widget-view+json": {
       "model_id": "0fbf1b0ce32c4494b70aeadea4133f09",
       "version_major": 2,
       "version_minor": 0
      },
      "text/plain": [
       "HBox(children=(IntProgress(value=0, max=1000), HTML(value='')))"
      ]
     },
     "metadata": {},
     "output_type": "display_data"
    },
    {
     "name": "stdout",
     "output_type": "stream",
     "text": [
      "\n",
      "it takes 0.16597199440002441 to get appox knn value\n",
      "max error 0.09349306089213358\n"
     ]
    },
    {
     "data": {
      "application/vnd.jupyter.widget-view+json": {
       "model_id": "55c6b132cac94c57a2eee0f24affcb77",
       "version_major": 2,
       "version_minor": 0
      },
      "text/plain": [
       "HBox(children=(IntProgress(value=0), HTML(value='')))"
      ]
     },
     "metadata": {},
     "output_type": "display_data"
    },
    {
     "name": "stdout",
     "output_type": "stream",
     "text": [
      "get approximate knn 0\n",
      "\n",
      "24.273517608642578\n"
     ]
    },
    {
     "data": {
      "application/vnd.jupyter.widget-view+json": {
       "model_id": "01b53718df0c4176ba1be1f045216e09",
       "version_major": 2,
       "version_minor": 0
      },
      "text/plain": [
       "HBox(children=(IntProgress(value=0), HTML(value='')))"
      ]
     },
     "metadata": {},
     "output_type": "display_data"
    },
    {
     "name": "stdout",
     "output_type": "stream",
     "text": [
      "\n",
      "it takes 0.029417037963867188 to get appox knn value\n",
      "max error 0.08004152946165412\n"
     ]
    }
   ],
   "source": [
    "lsh_90_05 = fine_tune(90, 0.5)\n",
    "sp_approx_90_05, nns_vec_90_05 = fine_tune_test(90, lsh_90_05)"
   ]
  },
  {
   "cell_type": "code",
   "execution_count": 31,
   "metadata": {},
   "outputs": [
    {
     "name": "stdout",
     "output_type": "stream",
     "text": [
      "14\n"
     ]
    },
    {
     "data": {
      "application/vnd.jupyter.widget-view+json": {
       "model_id": "c77b2b485b214f4b8ca2ac8672a02e41",
       "version_major": 2,
       "version_minor": 0
      },
      "text/plain": [
       "HBox(children=(IntProgress(value=0, max=58900), HTML(value='')))"
      ]
     },
     "metadata": {},
     "output_type": "display_data"
    },
    {
     "name": "stdout",
     "output_type": "stream",
     "text": [
      "\n",
      "110.0786452293396\n"
     ]
    },
    {
     "data": {
      "application/vnd.jupyter.widget-view+json": {
       "model_id": "a23932e5faba40c29982aec6e26a6b21",
       "version_major": 2,
       "version_minor": 0
      },
      "text/plain": [
       "HBox(children=(IntProgress(value=0, max=1000), HTML(value='')))"
      ]
     },
     "metadata": {},
     "output_type": "display_data"
    },
    {
     "name": "stdout",
     "output_type": "stream",
     "text": [
      "get approximate knn 0\n",
      "get approximate knn 100\n",
      "get approximate knn 200\n",
      "get approximate knn 300\n",
      "get approximate knn 400\n",
      "get approximate knn 500\n",
      "get approximate knn 600\n",
      "get approximate knn 700\n",
      "get approximate knn 800\n",
      "get approximate knn 900\n",
      "\n",
      "206.68721723556519\n"
     ]
    },
    {
     "data": {
      "application/vnd.jupyter.widget-view+json": {
       "model_id": "782e1c2d23124d29a0cd3be6276756e1",
       "version_major": 2,
       "version_minor": 0
      },
      "text/plain": [
       "HBox(children=(IntProgress(value=0, max=1000), HTML(value='')))"
      ]
     },
     "metadata": {},
     "output_type": "display_data"
    },
    {
     "name": "stdout",
     "output_type": "stream",
     "text": [
      "\n",
      "it takes 0.11477184295654297 to get appox knn value\n",
      "max error 0.11582588275601656\n"
     ]
    },
    {
     "data": {
      "application/vnd.jupyter.widget-view+json": {
       "model_id": "2745e86f93084d2e989173689b4bf28e",
       "version_major": 2,
       "version_minor": 0
      },
      "text/plain": [
       "HBox(children=(IntProgress(value=0), HTML(value='')))"
      ]
     },
     "metadata": {},
     "output_type": "display_data"
    },
    {
     "name": "stdout",
     "output_type": "stream",
     "text": [
      "get approximate knn 0\n",
      "\n",
      "22.084858417510986\n"
     ]
    },
    {
     "data": {
      "application/vnd.jupyter.widget-view+json": {
       "model_id": "6c4770c346ba4a2b8b973bdc405c9dd9",
       "version_major": 2,
       "version_minor": 0
      },
      "text/plain": [
       "HBox(children=(IntProgress(value=0), HTML(value='')))"
      ]
     },
     "metadata": {},
     "output_type": "display_data"
    },
    {
     "name": "stdout",
     "output_type": "stream",
     "text": [
      "\n",
      "it takes 0.029247760772705078 to get appox knn value\n",
      "max error 0.10699171000068633\n"
     ]
    }
   ],
   "source": [
    "lsh_100_053 = fine_tune(100, 0.53)\n",
    "sp_approx_100_053, nns_vec_100_053 = fine_tune_test(100, lsh_100_053)"
   ]
  },
  {
   "cell_type": "code",
   "execution_count": 32,
   "metadata": {},
   "outputs": [
    {
     "data": {
      "text/plain": [
       "1.2802230904946394"
      ]
     },
     "execution_count": 32,
     "metadata": {},
     "output_type": "execute_result"
    }
   ],
   "source": [
    "contrast"
   ]
  },
  {
   "cell_type": "code",
   "execution_count": 33,
   "metadata": {},
   "outputs": [
    {
     "name": "stdout",
     "output_type": "stream",
     "text": [
      "13\n"
     ]
    },
    {
     "data": {
      "application/vnd.jupyter.widget-view+json": {
       "model_id": "7420e8831cf2406d98bd0f82291a31e6",
       "version_major": 2,
       "version_minor": 0
      },
      "text/plain": [
       "HBox(children=(IntProgress(value=0, max=58900), HTML(value='')))"
      ]
     },
     "metadata": {},
     "output_type": "display_data"
    },
    {
     "name": "stdout",
     "output_type": "stream",
     "text": [
      "\n",
      "74.7449734210968\n"
     ]
    },
    {
     "data": {
      "application/vnd.jupyter.widget-view+json": {
       "model_id": "73bb1d06e8e94cdeb72f991be3c7c74f",
       "version_major": 2,
       "version_minor": 0
      },
      "text/plain": [
       "HBox(children=(IntProgress(value=0, max=1000), HTML(value='')))"
      ]
     },
     "metadata": {},
     "output_type": "display_data"
    },
    {
     "name": "stdout",
     "output_type": "stream",
     "text": [
      "get approximate knn 0\n",
      "get approximate knn 100\n",
      "get approximate knn 200\n",
      "get approximate knn 300\n",
      "get approximate knn 400\n",
      "get approximate knn 500\n",
      "get approximate knn 600\n",
      "get approximate knn 700\n",
      "get approximate knn 800\n",
      "get approximate knn 900\n",
      "\n",
      "217.46790838241577\n"
     ]
    },
    {
     "data": {
      "application/vnd.jupyter.widget-view+json": {
       "model_id": "52292af71e5b4006b16f2d4edfe6fa7d",
       "version_major": 2,
       "version_minor": 0
      },
      "text/plain": [
       "HBox(children=(IntProgress(value=0, max=1000), HTML(value='')))"
      ]
     },
     "metadata": {},
     "output_type": "display_data"
    },
    {
     "name": "stdout",
     "output_type": "stream",
     "text": [
      "\n",
      "it takes 0.15278387069702148 to get appox knn value\n",
      "max error 0.10094533670762575\n"
     ]
    },
    {
     "data": {
      "application/vnd.jupyter.widget-view+json": {
       "model_id": "32aa7b2994774064ac057f691937e154",
       "version_major": 2,
       "version_minor": 0
      },
      "text/plain": [
       "HBox(children=(IntProgress(value=0), HTML(value='')))"
      ]
     },
     "metadata": {},
     "output_type": "display_data"
    },
    {
     "name": "stdout",
     "output_type": "stream",
     "text": [
      "get approximate knn 0\n",
      "\n",
      "20.597107410430908\n"
     ]
    },
    {
     "data": {
      "application/vnd.jupyter.widget-view+json": {
       "model_id": "f9f14fd394254cb8ac5957e3ddabf638",
       "version_major": 2,
       "version_minor": 0
      },
      "text/plain": [
       "HBox(children=(IntProgress(value=0), HTML(value='')))"
      ]
     },
     "metadata": {},
     "output_type": "display_data"
    },
    {
     "name": "stdout",
     "output_type": "stream",
     "text": [
      "\n",
      "it takes 0.0592958927154541 to get appox knn value\n",
      "max error 0.08824139493334386\n"
     ]
    }
   ],
   "source": [
    "lsh_80_05 = fine_tune(80, 0.5)\n",
    "sp_approx_80_05, nns_vec_80_05 = fine_tune_test(80, lsh_80_05)"
   ]
  },
  {
   "cell_type": "code",
   "execution_count": 34,
   "metadata": {},
   "outputs": [
    {
     "name": "stdout",
     "output_type": "stream",
     "text": [
      "14\n"
     ]
    },
    {
     "data": {
      "application/vnd.jupyter.widget-view+json": {
       "model_id": "a336b810b04d4aca92e1a71d90fc6c06",
       "version_major": 2,
       "version_minor": 0
      },
      "text/plain": [
       "HBox(children=(IntProgress(value=0, max=58900), HTML(value='')))"
      ]
     },
     "metadata": {},
     "output_type": "display_data"
    },
    {
     "name": "stdout",
     "output_type": "stream",
     "text": [
      "\n",
      "125.68250679969788\n"
     ]
    },
    {
     "data": {
      "application/vnd.jupyter.widget-view+json": {
       "model_id": "07e4d8ff38ce42dda7ef27dfbd02e81b",
       "version_major": 2,
       "version_minor": 0
      },
      "text/plain": [
       "HBox(children=(IntProgress(value=0, max=1000), HTML(value='')))"
      ]
     },
     "metadata": {},
     "output_type": "display_data"
    },
    {
     "name": "stdout",
     "output_type": "stream",
     "text": [
      "get approximate knn 0\n",
      "get approximate knn 100\n",
      "get approximate knn 200\n",
      "get approximate knn 300\n",
      "get approximate knn 400\n",
      "get approximate knn 500\n",
      "get approximate knn 600\n",
      "get approximate knn 700\n",
      "get approximate knn 800\n",
      "get approximate knn 900\n",
      "\n",
      "235.37226700782776\n"
     ]
    },
    {
     "data": {
      "application/vnd.jupyter.widget-view+json": {
       "model_id": "a78b65800c364e6db6799a72681a693a",
       "version_major": 2,
       "version_minor": 0
      },
      "text/plain": [
       "HBox(children=(IntProgress(value=0, max=1000), HTML(value='')))"
      ]
     },
     "metadata": {},
     "output_type": "display_data"
    },
    {
     "name": "stdout",
     "output_type": "stream",
     "text": [
      "\n",
      "it takes 0.11734557151794434 to get appox knn value\n",
      "max error 0.0999173149485893\n"
     ]
    },
    {
     "data": {
      "application/vnd.jupyter.widget-view+json": {
       "model_id": "39534b66f150405c8c92fd7bad65324c",
       "version_major": 2,
       "version_minor": 0
      },
      "text/plain": [
       "HBox(children=(IntProgress(value=0), HTML(value='')))"
      ]
     },
     "metadata": {},
     "output_type": "display_data"
    },
    {
     "name": "stdout",
     "output_type": "stream",
     "text": [
      "get approximate knn 0\n",
      "\n",
      "24.392648935317993\n"
     ]
    },
    {
     "data": {
      "application/vnd.jupyter.widget-view+json": {
       "model_id": "3c76c334a3c34b15beb1a7c07493197d",
       "version_major": 2,
       "version_minor": 0
      },
      "text/plain": [
       "HBox(children=(IntProgress(value=0), HTML(value='')))"
      ]
     },
     "metadata": {},
     "output_type": "display_data"
    },
    {
     "name": "stdout",
     "output_type": "stream",
     "text": [
      "\n",
      "it takes 0.02939438819885254 to get appox knn value\n",
      "max error 0.11338750311076132\n"
     ]
    }
   ],
   "source": [
    "lsh_110_053 = fine_tune(110, 0.53)\n",
    "sp_approx_110_053, nns_vec_110_053 = fine_tune_test(110, lsh_110_053)"
   ]
  },
  {
   "cell_type": "code",
   "execution_count": 35,
   "metadata": {},
   "outputs": [
    {
     "name": "stdout",
     "output_type": "stream",
     "text": [
      "13\n"
     ]
    },
    {
     "data": {
      "application/vnd.jupyter.widget-view+json": {
       "model_id": "6454523e55d049539a5e3dc5fd54da53",
       "version_major": 2,
       "version_minor": 0
      },
      "text/plain": [
       "HBox(children=(IntProgress(value=0, max=58900), HTML(value='')))"
      ]
     },
     "metadata": {},
     "output_type": "display_data"
    },
    {
     "name": "stdout",
     "output_type": "stream",
     "text": [
      "\n",
      "79.18347430229187\n"
     ]
    },
    {
     "data": {
      "application/vnd.jupyter.widget-view+json": {
       "model_id": "3ec350ab79c74170b3f48b4f7c1425ed",
       "version_major": 2,
       "version_minor": 0
      },
      "text/plain": [
       "HBox(children=(IntProgress(value=0, max=1000), HTML(value='')))"
      ]
     },
     "metadata": {},
     "output_type": "display_data"
    },
    {
     "name": "stdout",
     "output_type": "stream",
     "text": [
      "get approximate knn 0\n",
      "get approximate knn 100\n",
      "get approximate knn 200\n",
      "get approximate knn 300\n",
      "get approximate knn 400\n",
      "get approximate knn 500\n",
      "get approximate knn 600\n",
      "get approximate knn 700\n",
      "get approximate knn 800\n",
      "get approximate knn 900\n",
      "\n",
      "217.51371431350708\n"
     ]
    },
    {
     "data": {
      "application/vnd.jupyter.widget-view+json": {
       "model_id": "539809c97ec248ff9d81c414bc176aa6",
       "version_major": 2,
       "version_minor": 0
      },
      "text/plain": [
       "HBox(children=(IntProgress(value=0, max=1000), HTML(value='')))"
      ]
     },
     "metadata": {},
     "output_type": "display_data"
    },
    {
     "name": "stdout",
     "output_type": "stream",
     "text": [
      "\n",
      "it takes 0.1828761100769043 to get appox knn value\n",
      "max error 0.12081601593753519\n"
     ]
    },
    {
     "data": {
      "application/vnd.jupyter.widget-view+json": {
       "model_id": "8ef71535651e4078a6c6b3158fa295a5",
       "version_major": 2,
       "version_minor": 0
      },
      "text/plain": [
       "HBox(children=(IntProgress(value=0), HTML(value='')))"
      ]
     },
     "metadata": {},
     "output_type": "display_data"
    },
    {
     "name": "stdout",
     "output_type": "stream",
     "text": [
      "get approximate knn 0\n",
      "\n",
      "22.435247659683228\n"
     ]
    },
    {
     "data": {
      "application/vnd.jupyter.widget-view+json": {
       "model_id": "8846a323550842159429009728fb2cec",
       "version_major": 2,
       "version_minor": 0
      },
      "text/plain": [
       "HBox(children=(IntProgress(value=0), HTML(value='')))"
      ]
     },
     "metadata": {},
     "output_type": "display_data"
    },
    {
     "name": "stdout",
     "output_type": "stream",
     "text": [
      "\n",
      "it takes 0.029652118682861328 to get appox knn value\n",
      "max error 0.09808797927637379\n"
     ]
    }
   ],
   "source": [
    "lsh_81_05 = fine_tune(81, 0.5)\n",
    "sp_approx_81_05, nns_vec_81_05 = fine_tune_test(81, lsh_81_05)"
   ]
  },
  {
   "cell_type": "code",
   "execution_count": 36,
   "metadata": {},
   "outputs": [
    {
     "name": "stdout",
     "output_type": "stream",
     "text": [
      "13\n"
     ]
    },
    {
     "data": {
      "application/vnd.jupyter.widget-view+json": {
       "model_id": "e90669869dae475eb5b1e13c40918268",
       "version_major": 2,
       "version_minor": 0
      },
      "text/plain": [
       "HBox(children=(IntProgress(value=0, max=58900), HTML(value='')))"
      ]
     },
     "metadata": {},
     "output_type": "display_data"
    },
    {
     "name": "stdout",
     "output_type": "stream",
     "text": [
      "\n",
      "77.54444336891174\n"
     ]
    },
    {
     "data": {
      "application/vnd.jupyter.widget-view+json": {
       "model_id": "2051d8115f524ffcb15a65032745c3f3",
       "version_major": 2,
       "version_minor": 0
      },
      "text/plain": [
       "HBox(children=(IntProgress(value=0, max=1000), HTML(value='')))"
      ]
     },
     "metadata": {},
     "output_type": "display_data"
    },
    {
     "name": "stdout",
     "output_type": "stream",
     "text": [
      "get approximate knn 0\n",
      "get approximate knn 100\n",
      "get approximate knn 200\n",
      "get approximate knn 300\n",
      "get approximate knn 400\n",
      "get approximate knn 500\n",
      "get approximate knn 600\n",
      "get approximate knn 700\n",
      "get approximate knn 800\n",
      "get approximate knn 900\n",
      "\n",
      "227.003324508667\n"
     ]
    },
    {
     "data": {
      "application/vnd.jupyter.widget-view+json": {
       "model_id": "d1eb7cc19e60440f8d20fa7b1f63ea5c",
       "version_major": 2,
       "version_minor": 0
      },
      "text/plain": [
       "HBox(children=(IntProgress(value=0, max=1000), HTML(value='')))"
      ]
     },
     "metadata": {},
     "output_type": "display_data"
    },
    {
     "name": "stdout",
     "output_type": "stream",
     "text": [
      "\n",
      "it takes 0.09798288345336914 to get appox knn value\n",
      "max error 0.09189972931842029\n"
     ]
    },
    {
     "data": {
      "application/vnd.jupyter.widget-view+json": {
       "model_id": "7700467cce9248cba32f6fa878366021",
       "version_major": 2,
       "version_minor": 0
      },
      "text/plain": [
       "HBox(children=(IntProgress(value=0), HTML(value='')))"
      ]
     },
     "metadata": {},
     "output_type": "display_data"
    },
    {
     "name": "stdout",
     "output_type": "stream",
     "text": [
      "get approximate knn 0\n",
      "\n",
      "23.272849798202515\n"
     ]
    },
    {
     "data": {
      "application/vnd.jupyter.widget-view+json": {
       "model_id": "1ff2f77ac89544458967e4d8357c8782",
       "version_major": 2,
       "version_minor": 0
      },
      "text/plain": [
       "HBox(children=(IntProgress(value=0), HTML(value='')))"
      ]
     },
     "metadata": {},
     "output_type": "display_data"
    },
    {
     "name": "stdout",
     "output_type": "stream",
     "text": [
      "\n",
      "it takes 0.029414653778076172 to get appox knn value\n",
      "max error 0.08624021721377484\n"
     ]
    }
   ],
   "source": [
    "lsh_82_05 = fine_tune(82, 0.5)\n",
    "sp_approx_82_05, nns_vec_82_05 = fine_tune_test(82, lsh_82_05)"
   ]
  },
  {
   "cell_type": "code",
   "execution_count": 37,
   "metadata": {},
   "outputs": [
    {
     "name": "stdout",
     "output_type": "stream",
     "text": [
      "10\n"
     ]
    },
    {
     "data": {
      "application/vnd.jupyter.widget-view+json": {
       "model_id": "8dca7cdc15b94b7c87a69f0bdcc82a52",
       "version_major": 2,
       "version_minor": 0
      },
      "text/plain": [
       "HBox(children=(IntProgress(value=0, max=58900), HTML(value='')))"
      ]
     },
     "metadata": {},
     "output_type": "display_data"
    },
    {
     "name": "stdout",
     "output_type": "stream",
     "text": [
      "\n",
      "22.832886695861816\n"
     ]
    },
    {
     "data": {
      "application/vnd.jupyter.widget-view+json": {
       "model_id": "2f8490964c154c1cbc0a19442aa39f52",
       "version_major": 2,
       "version_minor": 0
      },
      "text/plain": [
       "HBox(children=(IntProgress(value=0, max=1000), HTML(value='')))"
      ]
     },
     "metadata": {},
     "output_type": "display_data"
    },
    {
     "name": "stdout",
     "output_type": "stream",
     "text": [
      "get approximate knn 0\n",
      "get approximate knn 100\n",
      "get approximate knn 200\n",
      "get approximate knn 300\n",
      "get approximate knn 400\n",
      "get approximate knn 500\n",
      "get approximate knn 600\n",
      "get approximate knn 700\n",
      "get approximate knn 800\n",
      "get approximate knn 900\n",
      "\n",
      "211.50038647651672\n"
     ]
    },
    {
     "data": {
      "application/vnd.jupyter.widget-view+json": {
       "model_id": "a90eb9c75676461dbf330e959aa613b1",
       "version_major": 2,
       "version_minor": 0
      },
      "text/plain": [
       "HBox(children=(IntProgress(value=0, max=1000), HTML(value='')))"
      ]
     },
     "metadata": {},
     "output_type": "display_data"
    },
    {
     "name": "stdout",
     "output_type": "stream",
     "text": [
      "\n",
      "it takes 0.17042779922485352 to get appox knn value\n",
      "max error 0.1543807731464555\n"
     ]
    },
    {
     "data": {
      "application/vnd.jupyter.widget-view+json": {
       "model_id": "813ead78b950434d802c62f248f9de76",
       "version_major": 2,
       "version_minor": 0
      },
      "text/plain": [
       "HBox(children=(IntProgress(value=0), HTML(value='')))"
      ]
     },
     "metadata": {},
     "output_type": "display_data"
    },
    {
     "name": "stdout",
     "output_type": "stream",
     "text": [
      "get approximate knn 0\n",
      "\n",
      "21.10936737060547\n"
     ]
    },
    {
     "data": {
      "application/vnd.jupyter.widget-view+json": {
       "model_id": "b4eecabacaaf4b4c878468930163462b",
       "version_major": 2,
       "version_minor": 0
      },
      "text/plain": [
       "HBox(children=(IntProgress(value=0), HTML(value='')))"
      ]
     },
     "metadata": {},
     "output_type": "display_data"
    },
    {
     "name": "stdout",
     "output_type": "stream",
     "text": [
      "\n",
      "it takes 0.05863308906555176 to get appox knn value\n",
      "max error 0.27628429825992246\n"
     ]
    }
   ],
   "source": [
    "lsh_30_038 = fine_tune(30, 0.38)\n",
    "sp_approx_30_038, nns_vec_30_038 = fine_tune_test(30, lsh_30_038)"
   ]
  },
  {
   "cell_type": "code",
   "execution_count": 40,
   "metadata": {},
   "outputs": [],
   "source": [
    "np.save('eps0.1/sp_approx_05', sp_approx_82_05)\n",
    "np.save('eps0.1/lsh_82_05', lsh_82_05)"
   ]
  },
  {
   "cell_type": "code",
   "execution_count": null,
   "metadata": {},
   "outputs": [],
   "source": []
  }
 ],
 "metadata": {
  "kernelspec": {
   "display_name": "Python 3",
   "language": "python",
   "name": "python3"
  },
  "language_info": {
   "codemirror_mode": {
    "name": "ipython",
    "version": 3
   },
   "file_extension": ".py",
   "mimetype": "text/x-python",
   "name": "python",
   "nbconvert_exporter": "python",
   "pygments_lexer": "ipython3",
   "version": "3.7.0"
  },
  "widgets": {
   "application/vnd.jupyter.widget-state+json": {
    "state": {
     "00096cfec47649a1ba5a5d7b108f3d2f": {
      "model_module": "@jupyter-widgets/controls",
      "model_module_version": "1.4.0",
      "model_name": "DescriptionStyleModel",
      "state": {
       "description_width": ""
      }
     },
     "00b13c9667d5429c9d1a340f68f4b311": {
      "model_module": "@jupyter-widgets/controls",
      "model_module_version": "1.4.0",
      "model_name": "DescriptionStyleModel",
      "state": {
       "description_width": ""
      }
     },
     "010041eabcb94c1db4150590b88c9de6": {
      "model_module": "@jupyter-widgets/controls",
      "model_module_version": "1.4.0",
      "model_name": "HTMLModel",
      "state": {
       "layout": "IPY_MODEL_074dd7b5aff4425b8c441eac5c3bc03f",
       "style": "IPY_MODEL_a88d0b699bca4ef0bf868145b6a6cdd3",
       "value": "100% 58900/58900 [01:18&lt;00:00, 750.15it/s]"
      }
     },
     "012fc9331ce940229aea1e76f4fe59cf": {
      "model_module": "@jupyter-widgets/controls",
      "model_module_version": "1.4.0",
      "model_name": "HTMLModel",
      "state": {
       "layout": "IPY_MODEL_d1cfe11c71b7457bbab6774ab40d4cef",
       "style": "IPY_MODEL_f9b687f752e6407eb0c118dfe65ee72b",
       "value": "100% 100/100 [00:23&lt;00:00,  3.84it/s]"
      }
     },
     "01a7cef511674aac8054b65a3eb527c5": {
      "model_module": "@jupyter-widgets/base",
      "model_module_version": "1.1.0",
      "model_name": "LayoutModel",
      "state": {}
     },
     "01b53718df0c4176ba1be1f045216e09": {
      "model_module": "@jupyter-widgets/controls",
      "model_module_version": "1.4.0",
      "model_name": "HBoxModel",
      "state": {
       "children": [
        "IPY_MODEL_2e7c06b2ca934a8dab22b266b3329a83",
        "IPY_MODEL_636337be46d54c339533521d4504f0e2"
       ],
       "layout": "IPY_MODEL_03567eab9ffa4d10b72c63be593f80d5"
      }
     },
     "01b94f0569dc41d5abc25b3c59b99888": {
      "model_module": "@jupyter-widgets/base",
      "model_module_version": "1.1.0",
      "model_name": "LayoutModel",
      "state": {}
     },
     "02216a2906914e06b68f4270531daf45": {
      "model_module": "@jupyter-widgets/base",
      "model_module_version": "1.1.0",
      "model_name": "LayoutModel",
      "state": {}
     },
     "02b6661806d744908b70482ae9d07a52": {
      "model_module": "@jupyter-widgets/controls",
      "model_module_version": "1.4.0",
      "model_name": "IntProgressModel",
      "state": {
       "bar_style": "success",
       "layout": "IPY_MODEL_4a75556ebc134c6aa3d9615c0d309b82",
       "max": 58900,
       "style": "IPY_MODEL_9d94eaddaf804adeabccf34ac76c374e",
       "value": 58900
      }
     },
     "031f3cd196104aa5861115c13cd737d7": {
      "model_module": "@jupyter-widgets/controls",
      "model_module_version": "1.4.0",
      "model_name": "ProgressStyleModel",
      "state": {
       "description_width": ""
      }
     },
     "03567eab9ffa4d10b72c63be593f80d5": {
      "model_module": "@jupyter-widgets/base",
      "model_module_version": "1.1.0",
      "model_name": "LayoutModel",
      "state": {}
     },
     "035d41c62856426890f179ea11b7ec92": {
      "model_module": "@jupyter-widgets/controls",
      "model_module_version": "1.4.0",
      "model_name": "DescriptionStyleModel",
      "state": {
       "description_width": ""
      }
     },
     "03c84b2ad4024b629c23a3af91b4bdbc": {
      "model_module": "@jupyter-widgets/base",
      "model_module_version": "1.1.0",
      "model_name": "LayoutModel",
      "state": {}
     },
     "0445bb09077145608b77cc2129320aae": {
      "model_module": "@jupyter-widgets/controls",
      "model_module_version": "1.4.0",
      "model_name": "DescriptionStyleModel",
      "state": {
       "description_width": ""
      }
     },
     "045c6cdf002e4898bb51344f8986e039": {
      "model_module": "@jupyter-widgets/base",
      "model_module_version": "1.1.0",
      "model_name": "LayoutModel",
      "state": {}
     },
     "051c8e426ff24efb94ccc3316c15b464": {
      "model_module": "@jupyter-widgets/base",
      "model_module_version": "1.1.0",
      "model_name": "LayoutModel",
      "state": {}
     },
     "053279ec4b474d2f886aaec84d17f543": {
      "model_module": "@jupyter-widgets/base",
      "model_module_version": "1.1.0",
      "model_name": "LayoutModel",
      "state": {}
     },
     "056bf046c1944d1b916da487f4d9a133": {
      "model_module": "@jupyter-widgets/base",
      "model_module_version": "1.1.0",
      "model_name": "LayoutModel",
      "state": {}
     },
     "05c7520e2e1c4993ab95522f69bfba43": {
      "model_module": "@jupyter-widgets/controls",
      "model_module_version": "1.4.0",
      "model_name": "DescriptionStyleModel",
      "state": {
       "description_width": ""
      }
     },
     "0736899a219a4e5a837f9b71479ede8f": {
      "model_module": "@jupyter-widgets/base",
      "model_module_version": "1.1.0",
      "model_name": "LayoutModel",
      "state": {}
     },
     "074dd7b5aff4425b8c441eac5c3bc03f": {
      "model_module": "@jupyter-widgets/base",
      "model_module_version": "1.1.0",
      "model_name": "LayoutModel",
      "state": {}
     },
     "078d6c8d2d0b478da0d6eae492948e93": {
      "model_module": "@jupyter-widgets/base",
      "model_module_version": "1.1.0",
      "model_name": "LayoutModel",
      "state": {}
     },
     "07e4d8ff38ce42dda7ef27dfbd02e81b": {
      "model_module": "@jupyter-widgets/controls",
      "model_module_version": "1.4.0",
      "model_name": "HBoxModel",
      "state": {
       "children": [
        "IPY_MODEL_c433f8569c394f8692f6e8f1c50e9488",
        "IPY_MODEL_7b9c35549cf34977bc927acec6317fd8"
       ],
       "layout": "IPY_MODEL_357621e9f123422386a600036a5cbe8e"
      }
     },
     "07e7b64f4fb842c681efc60b18ba0100": {
      "model_module": "@jupyter-widgets/controls",
      "model_module_version": "1.4.0",
      "model_name": "IntProgressModel",
      "state": {
       "bar_style": "success",
       "layout": "IPY_MODEL_26a994fdc316490396369691ee4744cd",
       "style": "IPY_MODEL_4a11ca0b9d1e445b9b7c10a7ab3102f1",
       "value": 100
      }
     },
     "08d437c04dae4e5dac0be7924962f737": {
      "model_module": "@jupyter-widgets/base",
      "model_module_version": "1.1.0",
      "model_name": "LayoutModel",
      "state": {}
     },
     "09e6871f817f499da2c7220e812c358d": {
      "model_module": "@jupyter-widgets/controls",
      "model_module_version": "1.4.0",
      "model_name": "DescriptionStyleModel",
      "state": {
       "description_width": ""
      }
     },
     "0aa579d9707247d8aec1a446bf26886e": {
      "model_module": "@jupyter-widgets/base",
      "model_module_version": "1.1.0",
      "model_name": "LayoutModel",
      "state": {}
     },
     "0b2b7234ec6d4122b16169cb937a2de4": {
      "model_module": "@jupyter-widgets/controls",
      "model_module_version": "1.4.0",
      "model_name": "ProgressStyleModel",
      "state": {
       "description_width": ""
      }
     },
     "0c89aed6c8a64d199a42002498c26529": {
      "model_module": "@jupyter-widgets/controls",
      "model_module_version": "1.4.0",
      "model_name": "ProgressStyleModel",
      "state": {
       "description_width": ""
      }
     },
     "0ca9dbcbc51348a1a2b82e7168760455": {
      "model_module": "@jupyter-widgets/base",
      "model_module_version": "1.1.0",
      "model_name": "LayoutModel",
      "state": {}
     },
     "0d6e22fdd6ef467a8859c63b69f899d5": {
      "model_module": "@jupyter-widgets/controls",
      "model_module_version": "1.4.0",
      "model_name": "ProgressStyleModel",
      "state": {
       "description_width": ""
      }
     },
     "0e8832529a15417bb324b13cecd85a00": {
      "model_module": "@jupyter-widgets/controls",
      "model_module_version": "1.4.0",
      "model_name": "HBoxModel",
      "state": {
       "children": [
        "IPY_MODEL_db3271807ba04afbbd788ec2bef0e345",
        "IPY_MODEL_9bebc8c06edd49c2a5e8d5036b31edc5"
       ],
       "layout": "IPY_MODEL_42e30846b04740eb983e0dee88df11c5"
      }
     },
     "0fbf1b0ce32c4494b70aeadea4133f09": {
      "model_module": "@jupyter-widgets/controls",
      "model_module_version": "1.4.0",
      "model_name": "HBoxModel",
      "state": {
       "children": [
        "IPY_MODEL_10824a31c1d441aab41002d1bd1be7e8",
        "IPY_MODEL_b1a3bc64cf2e4dc6bf96fab0558b33e4"
       ],
       "layout": "IPY_MODEL_6560710cb41841ad8f7aa8089584d82a"
      }
     },
     "10824a31c1d441aab41002d1bd1be7e8": {
      "model_module": "@jupyter-widgets/controls",
      "model_module_version": "1.4.0",
      "model_name": "IntProgressModel",
      "state": {
       "bar_style": "success",
       "layout": "IPY_MODEL_bd9441d6353f46e99ec103de9d5e14ff",
       "max": 1000,
       "style": "IPY_MODEL_37a4ee65185a47c79444f607de9fa10e",
       "value": 1000
      }
     },
     "10c3daf819ea4f5e975d5f3748186868": {
      "model_module": "@jupyter-widgets/controls",
      "model_module_version": "1.4.0",
      "model_name": "HBoxModel",
      "state": {
       "children": [
        "IPY_MODEL_d77225d4f53b41a1bbda510a274da460",
        "IPY_MODEL_326a22526fc94c969e8c34592aa497e1"
       ],
       "layout": "IPY_MODEL_507d9ddb835643868db366232ef886c4"
      }
     },
     "11262a78817b48f09b669410abf4ffce": {
      "model_module": "@jupyter-widgets/controls",
      "model_module_version": "1.4.0",
      "model_name": "ProgressStyleModel",
      "state": {
       "description_width": ""
      }
     },
     "12487e1577dc4278b153db0b110a56ca": {
      "model_module": "@jupyter-widgets/base",
      "model_module_version": "1.1.0",
      "model_name": "LayoutModel",
      "state": {}
     },
     "125ca9dc09b5440b8d9c35df68aa1b48": {
      "model_module": "@jupyter-widgets/base",
      "model_module_version": "1.1.0",
      "model_name": "LayoutModel",
      "state": {}
     },
     "1371f06ded094dca8bab74be231e28a6": {
      "model_module": "@jupyter-widgets/base",
      "model_module_version": "1.1.0",
      "model_name": "LayoutModel",
      "state": {}
     },
     "139d47b133884d5a8171735faa388354": {
      "model_module": "@jupyter-widgets/base",
      "model_module_version": "1.1.0",
      "model_name": "LayoutModel",
      "state": {}
     },
     "13d00de0e6314ef889144337a55bb2eb": {
      "model_module": "@jupyter-widgets/controls",
      "model_module_version": "1.4.0",
      "model_name": "ProgressStyleModel",
      "state": {
       "description_width": ""
      }
     },
     "1408dffebb6d4738811363b0f2fa1a82": {
      "model_module": "@jupyter-widgets/base",
      "model_module_version": "1.1.0",
      "model_name": "LayoutModel",
      "state": {}
     },
     "14140bf0a40e4ee6961d0e817154abd0": {
      "model_module": "@jupyter-widgets/base",
      "model_module_version": "1.1.0",
      "model_name": "LayoutModel",
      "state": {}
     },
     "149e872357d347c99e4aba0731919a4e": {
      "model_module": "@jupyter-widgets/base",
      "model_module_version": "1.1.0",
      "model_name": "LayoutModel",
      "state": {}
     },
     "14d2f30e187640d99ea176e8c1911b80": {
      "model_module": "@jupyter-widgets/controls",
      "model_module_version": "1.4.0",
      "model_name": "IntProgressModel",
      "state": {
       "bar_style": "success",
       "layout": "IPY_MODEL_051c8e426ff24efb94ccc3316c15b464",
       "style": "IPY_MODEL_e8ba7dd9eecd48feb320727065eddf85",
       "value": 100
      }
     },
     "16d93d4af9bd4f3a9e551ae758cd6af8": {
      "model_module": "@jupyter-widgets/controls",
      "model_module_version": "1.4.0",
      "model_name": "ProgressStyleModel",
      "state": {
       "description_width": ""
      }
     },
     "189f0909190d42d09472b898554fdb25": {
      "model_module": "@jupyter-widgets/base",
      "model_module_version": "1.1.0",
      "model_name": "LayoutModel",
      "state": {}
     },
     "18f329753dcf40c783a002a3098ceed4": {
      "model_module": "@jupyter-widgets/controls",
      "model_module_version": "1.4.0",
      "model_name": "ProgressStyleModel",
      "state": {
       "description_width": ""
      }
     },
     "1a459e79425a47ee8286f47777309b9d": {
      "model_module": "@jupyter-widgets/base",
      "model_module_version": "1.1.0",
      "model_name": "LayoutModel",
      "state": {}
     },
     "1a9896a8e58b4b4384ca822ce126108b": {
      "model_module": "@jupyter-widgets/controls",
      "model_module_version": "1.4.0",
      "model_name": "HTMLModel",
      "state": {
       "layout": "IPY_MODEL_e6e92bba09934afcae9ed3dd8a41ec64",
       "style": "IPY_MODEL_2dc0db939120434689a047e1dc339c37",
       "value": "100% 1000/1000 [00:00&lt;00:00, 6645.29it/s]"
      }
     },
     "1a9b6a8c11154967908f7a2b18d9220d": {
      "model_module": "@jupyter-widgets/base",
      "model_module_version": "1.1.0",
      "model_name": "LayoutModel",
      "state": {}
     },
     "1aa5e1d0590040a5bde1e83771e725ee": {
      "model_module": "@jupyter-widgets/controls",
      "model_module_version": "1.4.0",
      "model_name": "IntProgressModel",
      "state": {
       "bar_style": "success",
       "layout": "IPY_MODEL_a30f96b8cb94487e9efc2cf586b29af6",
       "max": 58900,
       "style": "IPY_MODEL_cfec2302be3c4da38b5f6c064fb01483",
       "value": 58900
      }
     },
     "1b3d54fe6b654e7587ef29c678879e79": {
      "model_module": "@jupyter-widgets/controls",
      "model_module_version": "1.4.0",
      "model_name": "HTMLModel",
      "state": {
       "layout": "IPY_MODEL_e8957e55388e4ac0bf1e457a5649b2aa",
       "style": "IPY_MODEL_ff782655b3ab4472918dc5191bac9091",
       "value": "100% 1000/1000 [03:25&lt;00:00,  4.00it/s]"
      }
     },
     "1bc14ffa2e624e469037fffa0240475d": {
      "model_module": "@jupyter-widgets/controls",
      "model_module_version": "1.4.0",
      "model_name": "ProgressStyleModel",
      "state": {
       "description_width": ""
      }
     },
     "1bd9c35efcac4622acbbb85079e4abe4": {
      "model_module": "@jupyter-widgets/controls",
      "model_module_version": "1.4.0",
      "model_name": "DescriptionStyleModel",
      "state": {
       "description_width": ""
      }
     },
     "1bf96e2a982c4c91945a3b8862e0d55d": {
      "model_module": "@jupyter-widgets/base",
      "model_module_version": "1.1.0",
      "model_name": "LayoutModel",
      "state": {}
     },
     "1c83d18fe95b44e08dc359b72c604162": {
      "model_module": "@jupyter-widgets/base",
      "model_module_version": "1.1.0",
      "model_name": "LayoutModel",
      "state": {}
     },
     "1d4db86c6c5d41f5a62c73a58b76ad75": {
      "model_module": "@jupyter-widgets/controls",
      "model_module_version": "1.4.0",
      "model_name": "ProgressStyleModel",
      "state": {
       "description_width": ""
      }
     },
     "1d8dfc53571846fea391fdb8db8838ac": {
      "model_module": "@jupyter-widgets/controls",
      "model_module_version": "1.4.0",
      "model_name": "ProgressStyleModel",
      "state": {
       "description_width": ""
      }
     },
     "1e4d5e0ed0ca4e32bb81a8937cffd0e0": {
      "model_module": "@jupyter-widgets/base",
      "model_module_version": "1.1.0",
      "model_name": "LayoutModel",
      "state": {}
     },
     "1ff2f77ac89544458967e4d8357c8782": {
      "model_module": "@jupyter-widgets/controls",
      "model_module_version": "1.4.0",
      "model_name": "HBoxModel",
      "state": {
       "children": [
        "IPY_MODEL_c633f3acb79b4952a20d42a3730b5168",
        "IPY_MODEL_f7bf08a9755a4320b3c48ba65baa3875"
       ],
       "layout": "IPY_MODEL_4dc555daf5cb434b90b58dc9f2028e54"
      }
     },
     "204e281985934b4cbfea7c194b82b226": {
      "model_module": "@jupyter-widgets/controls",
      "model_module_version": "1.4.0",
      "model_name": "HTMLModel",
      "state": {
       "layout": "IPY_MODEL_986317892d104b7588e0c704159a78a2",
       "style": "IPY_MODEL_f8969badbc244517b3aa3af64e4a16e8",
       "value": "100% 58900/58900 [01:08&lt;00:00, 862.78it/s]"
      }
     },
     "2051d8115f524ffcb15a65032745c3f3": {
      "model_module": "@jupyter-widgets/controls",
      "model_module_version": "1.4.0",
      "model_name": "HBoxModel",
      "state": {
       "children": [
        "IPY_MODEL_b1299e9665994f498d8f6cd91ca03c2d",
        "IPY_MODEL_e2bbd83fc3fb42f18e6d5bf61ca20111"
       ],
       "layout": "IPY_MODEL_a4526c8eccc44eadae136c1a98f422bd"
      }
     },
     "206929c081234abf98cc3f7539318349": {
      "model_module": "@jupyter-widgets/controls",
      "model_module_version": "1.4.0",
      "model_name": "DescriptionStyleModel",
      "state": {
       "description_width": ""
      }
     },
     "20d1f7f7ca1542db998362c40945b1da": {
      "model_module": "@jupyter-widgets/controls",
      "model_module_version": "1.4.0",
      "model_name": "ProgressStyleModel",
      "state": {
       "description_width": ""
      }
     },
     "214425022c684a4195f5dabe266dcf42": {
      "model_module": "@jupyter-widgets/base",
      "model_module_version": "1.1.0",
      "model_name": "LayoutModel",
      "state": {}
     },
     "215d15466b884710ae1325b7570a43dd": {
      "model_module": "@jupyter-widgets/base",
      "model_module_version": "1.1.0",
      "model_name": "LayoutModel",
      "state": {}
     },
     "219509e6afd4459a815f1f1b0bf7b960": {
      "model_module": "@jupyter-widgets/base",
      "model_module_version": "1.1.0",
      "model_name": "LayoutModel",
      "state": {}
     },
     "22a118f31c784482a5d757574f5d4167": {
      "model_module": "@jupyter-widgets/base",
      "model_module_version": "1.1.0",
      "model_name": "LayoutModel",
      "state": {}
     },
     "22f4d1857ca1412e85a2daecd6be0f0e": {
      "model_module": "@jupyter-widgets/base",
      "model_module_version": "1.1.0",
      "model_name": "LayoutModel",
      "state": {}
     },
     "236aa7a473c3430db94382779b1d9459": {
      "model_module": "@jupyter-widgets/base",
      "model_module_version": "1.1.0",
      "model_name": "LayoutModel",
      "state": {}
     },
     "239ab6875172479097e27ed1c373d782": {
      "model_module": "@jupyter-widgets/controls",
      "model_module_version": "1.4.0",
      "model_name": "DescriptionStyleModel",
      "state": {
       "description_width": ""
      }
     },
     "23a2f093932846e4b98204bb7ec18ab9": {
      "model_module": "@jupyter-widgets/controls",
      "model_module_version": "1.4.0",
      "model_name": "HBoxModel",
      "state": {
       "children": [
        "IPY_MODEL_3247b551210a4b928ad38df1fe5fcea5",
        "IPY_MODEL_60bbced66458469e8ec4770579f413c8"
       ],
       "layout": "IPY_MODEL_f937af0e908f48c6b4d7dd9e9df615f6"
      }
     },
     "2567ca5a96d44ab5bb28c430562ad166": {
      "model_module": "@jupyter-widgets/controls",
      "model_module_version": "1.4.0",
      "model_name": "DescriptionStyleModel",
      "state": {
       "description_width": ""
      }
     },
     "261ec70f192a44bb8ae5b69d1fb7bcb6": {
      "model_module": "@jupyter-widgets/base",
      "model_module_version": "1.1.0",
      "model_name": "LayoutModel",
      "state": {}
     },
     "26a994fdc316490396369691ee4744cd": {
      "model_module": "@jupyter-widgets/base",
      "model_module_version": "1.1.0",
      "model_name": "LayoutModel",
      "state": {}
     },
     "2745e86f93084d2e989173689b4bf28e": {
      "model_module": "@jupyter-widgets/controls",
      "model_module_version": "1.4.0",
      "model_name": "HBoxModel",
      "state": {
       "children": [
        "IPY_MODEL_6603428218f84db2ab32dea473e88b67",
        "IPY_MODEL_505c826baa084313978f761b7f31d354"
       ],
       "layout": "IPY_MODEL_b9d0ab42c8ea4a74b3033825c72c7453"
      }
     },
     "277ac39362864cf59aa9d5676d65dbb0": {
      "model_module": "@jupyter-widgets/base",
      "model_module_version": "1.1.0",
      "model_name": "LayoutModel",
      "state": {}
     },
     "28a950cb88e743d78570e87e328a03c8": {
      "model_module": "@jupyter-widgets/controls",
      "model_module_version": "1.4.0",
      "model_name": "DescriptionStyleModel",
      "state": {
       "description_width": ""
      }
     },
     "2989cbd0af11444cbed1e65f2f365cb8": {
      "model_module": "@jupyter-widgets/controls",
      "model_module_version": "1.4.0",
      "model_name": "IntProgressModel",
      "state": {
       "bar_style": "success",
       "layout": "IPY_MODEL_eda4396a9c154d3085cc4bbc6e61f7be",
       "max": 58900,
       "style": "IPY_MODEL_374027160d494d84819e9885ec39cce9",
       "value": 58900
      }
     },
     "298f59d44ea84df390fb0bcd251f6d2e": {
      "model_module": "@jupyter-widgets/controls",
      "model_module_version": "1.4.0",
      "model_name": "DescriptionStyleModel",
      "state": {
       "description_width": ""
      }
     },
     "2a8a0b65a5964702a53d36ec077bb3d2": {
      "model_module": "@jupyter-widgets/controls",
      "model_module_version": "1.4.0",
      "model_name": "HBoxModel",
      "state": {
       "children": [
        "IPY_MODEL_746fd939c1ea436d9c95b5e4f0254578",
        "IPY_MODEL_2b028be0540e43c5b2aa550c4e798a03"
       ],
       "layout": "IPY_MODEL_078d6c8d2d0b478da0d6eae492948e93"
      }
     },
     "2b028be0540e43c5b2aa550c4e798a03": {
      "model_module": "@jupyter-widgets/controls",
      "model_module_version": "1.4.0",
      "model_name": "HTMLModel",
      "state": {
       "layout": "IPY_MODEL_59f45539935544e7b194f0e8f9121dec",
       "style": "IPY_MODEL_4b47e96a578b4b8b8147986ba871bf9c",
       "value": "  0% 0/1000 [00:00&lt;?, ?it/s]"
      }
     },
     "2c0fff44d49349c3b0469f89b87bfa91": {
      "model_module": "@jupyter-widgets/controls",
      "model_module_version": "1.4.0",
      "model_name": "IntProgressModel",
      "state": {
       "bar_style": "success",
       "layout": "IPY_MODEL_6c37bbaaec3c43789f81bb48a054229a",
       "style": "IPY_MODEL_a57e54ec0b69401e845bf3d27cbcbfee",
       "value": 100
      }
     },
     "2c6efce6906d422d93f280b7b9887bb8": {
      "model_module": "@jupyter-widgets/controls",
      "model_module_version": "1.4.0",
      "model_name": "IntProgressModel",
      "state": {
       "bar_style": "success",
       "layout": "IPY_MODEL_3931a1b697d64e2c881d9cdc001431bf",
       "max": 58900,
       "style": "IPY_MODEL_d97b878ebc614e2c9280e490bb0b20ee",
       "value": 58900
      }
     },
     "2d3bbd5d25dd48548389b9168f26af3c": {
      "model_module": "@jupyter-widgets/controls",
      "model_module_version": "1.4.0",
      "model_name": "HTMLModel",
      "state": {
       "layout": "IPY_MODEL_73d1104b8053434eb10cf35313ddc967",
       "style": "IPY_MODEL_bce5d44f07074b56bff54536bf4bee62",
       "value": "100% 1000/1000 [00:00&lt;00:00, 5956.96it/s]"
      }
     },
     "2d61abbddc094dada43e505d5d94c0e2": {
      "model_module": "@jupyter-widgets/controls",
      "model_module_version": "1.4.0",
      "model_name": "HTMLModel",
      "state": {
       "layout": "IPY_MODEL_d3f4452a56fc48dda32ebd56c82a4138",
       "style": "IPY_MODEL_f5db8cd315bf4e928be7eae0e99a6075",
       "value": "100% 1000/1000 [00:00&lt;00:00, 5592.11it/s]"
      }
     },
     "2dc0db939120434689a047e1dc339c37": {
      "model_module": "@jupyter-widgets/controls",
      "model_module_version": "1.4.0",
      "model_name": "DescriptionStyleModel",
      "state": {
       "description_width": ""
      }
     },
     "2e7c06b2ca934a8dab22b266b3329a83": {
      "model_module": "@jupyter-widgets/controls",
      "model_module_version": "1.4.0",
      "model_name": "IntProgressModel",
      "state": {
       "bar_style": "success",
       "layout": "IPY_MODEL_510183a5fa75444aaf4135ce464cb72d",
       "style": "IPY_MODEL_dede5044f252418ebd778c146bd53e80",
       "value": 100
      }
     },
     "2ea683fa0f1e4c7fbc360dea6a601dea": {
      "model_module": "@jupyter-widgets/controls",
      "model_module_version": "1.4.0",
      "model_name": "HTMLModel",
      "state": {
       "layout": "IPY_MODEL_236aa7a473c3430db94382779b1d9459",
       "style": "IPY_MODEL_9dd14fd671af4abaac53d0b547a58d35",
       "value": "100% 100/100 [00:22&lt;00:00,  3.47it/s]"
      }
     },
     "2f8490964c154c1cbc0a19442aa39f52": {
      "model_module": "@jupyter-widgets/controls",
      "model_module_version": "1.4.0",
      "model_name": "HBoxModel",
      "state": {
       "children": [
        "IPY_MODEL_3b7ea634f0204b75827323addb908c6c",
        "IPY_MODEL_3f1b8444a1334c02b25da7dabca3c7ce"
       ],
       "layout": "IPY_MODEL_faa98befb8394dffa3a1973240b522e7"
      }
     },
     "2fc0106310284e1cb164d9c03cb62770": {
      "model_module": "@jupyter-widgets/controls",
      "model_module_version": "1.4.0",
      "model_name": "ProgressStyleModel",
      "state": {
       "description_width": ""
      }
     },
     "3048a6eee75e46bb8f749809b786bf59": {
      "model_module": "@jupyter-widgets/controls",
      "model_module_version": "1.4.0",
      "model_name": "HTMLModel",
      "state": {
       "layout": "IPY_MODEL_6ddf5eea016d4efcbe66d9044ad4d9dd",
       "style": "IPY_MODEL_0445bb09077145608b77cc2129320aae",
       "value": "100% 1000/1000 [04:10&lt;00:00,  4.18it/s]"
      }
     },
     "3071534ca5f94195a7ef9ee8f5117d19": {
      "model_module": "@jupyter-widgets/base",
      "model_module_version": "1.1.0",
      "model_name": "LayoutModel",
      "state": {}
     },
     "30a18deac4cf47dbb5e268893c0d8b12": {
      "model_module": "@jupyter-widgets/controls",
      "model_module_version": "1.4.0",
      "model_name": "ProgressStyleModel",
      "state": {
       "description_width": ""
      }
     },
     "310fa617262c4bc98b417274569085d8": {
      "model_module": "@jupyter-widgets/base",
      "model_module_version": "1.1.0",
      "model_name": "LayoutModel",
      "state": {}
     },
     "31a605c2741843d09e9922349a9959ba": {
      "model_module": "@jupyter-widgets/base",
      "model_module_version": "1.1.0",
      "model_name": "LayoutModel",
      "state": {}
     },
     "3228bfb5e03c40efb9c230858da901e2": {
      "model_module": "@jupyter-widgets/controls",
      "model_module_version": "1.4.0",
      "model_name": "HBoxModel",
      "state": {
       "children": [
        "IPY_MODEL_8175e1008d284467aa3061470ae0b58a",
        "IPY_MODEL_f64d39c288154246b0865dc09f76f9e7"
       ],
       "layout": "IPY_MODEL_1c83d18fe95b44e08dc359b72c604162"
      }
     },
     "3247b551210a4b928ad38df1fe5fcea5": {
      "model_module": "@jupyter-widgets/controls",
      "model_module_version": "1.4.0",
      "model_name": "IntProgressModel",
      "state": {
       "bar_style": "success",
       "layout": "IPY_MODEL_f831b70b3cd44a1aac24ee249a27e1a1",
       "style": "IPY_MODEL_0c89aed6c8a64d199a42002498c26529",
       "value": 100
      }
     },
     "3262fb72658740d996db072e868da181": {
      "model_module": "@jupyter-widgets/controls",
      "model_module_version": "1.4.0",
      "model_name": "DescriptionStyleModel",
      "state": {
       "description_width": ""
      }
     },
     "326a22526fc94c969e8c34592aa497e1": {
      "model_module": "@jupyter-widgets/controls",
      "model_module_version": "1.4.0",
      "model_name": "HTMLModel",
      "state": {
       "layout": "IPY_MODEL_7be1b7fc64e341789928962bc6204390",
       "style": "IPY_MODEL_7b9684d528df42d0a0ad3f0156853128",
       "value": "100% 100/100 [00:12&lt;00:00,  8.09it/s]"
      }
     },
     "32aa7b2994774064ac057f691937e154": {
      "model_module": "@jupyter-widgets/controls",
      "model_module_version": "1.4.0",
      "model_name": "HBoxModel",
      "state": {
       "children": [
        "IPY_MODEL_af7f278dbc99499f82f0e86f5890d95d",
        "IPY_MODEL_6f03411ad47a4d4eac93fbb04829420b"
       ],
       "layout": "IPY_MODEL_7a2cea63ac3b4589af0b831e40b10945"
      }
     },
     "32b7d30079ac4060ba81cf3eff6507c0": {
      "model_module": "@jupyter-widgets/controls",
      "model_module_version": "1.4.0",
      "model_name": "DescriptionStyleModel",
      "state": {
       "description_width": ""
      }
     },
     "32f492b9af0e4ebf9803f3897b7fa906": {
      "model_module": "@jupyter-widgets/controls",
      "model_module_version": "1.4.0",
      "model_name": "HTMLModel",
      "state": {
       "layout": "IPY_MODEL_33a34c237c3640a6a39c7dc15553baa6",
       "style": "IPY_MODEL_913d64e1dfbb4b6581c85b8ba668f941",
       "value": "100% 100/100 [00:00&lt;00:00, 3275.65it/s]"
      }
     },
     "332502a647444966a85b5f2243573ac4": {
      "model_module": "@jupyter-widgets/base",
      "model_module_version": "1.1.0",
      "model_name": "LayoutModel",
      "state": {}
     },
     "3383fb8233164fcf83645c24afda1814": {
      "model_module": "@jupyter-widgets/base",
      "model_module_version": "1.1.0",
      "model_name": "LayoutModel",
      "state": {}
     },
     "33a34c237c3640a6a39c7dc15553baa6": {
      "model_module": "@jupyter-widgets/base",
      "model_module_version": "1.1.0",
      "model_name": "LayoutModel",
      "state": {}
     },
     "34471b6b19fb4b1e937dab81fcc60459": {
      "model_module": "@jupyter-widgets/controls",
      "model_module_version": "1.4.0",
      "model_name": "HTMLModel",
      "state": {
       "layout": "IPY_MODEL_86d3738a517b4e3f9e23f3b9128a55c0",
       "style": "IPY_MODEL_470f94e1395e4ecd9d18c61d62415ce6",
       "value": "100% 58900/58900 [02:05&lt;00:00, 469.27it/s]"
      }
     },
     "349bc0ae9b534a6bb749c17d83682343": {
      "model_module": "@jupyter-widgets/controls",
      "model_module_version": "1.4.0",
      "model_name": "ProgressStyleModel",
      "state": {
       "description_width": ""
      }
     },
     "357621e9f123422386a600036a5cbe8e": {
      "model_module": "@jupyter-widgets/base",
      "model_module_version": "1.1.0",
      "model_name": "LayoutModel",
      "state": {}
     },
     "35c277627248487386fb16422969424d": {
      "model_module": "@jupyter-widgets/controls",
      "model_module_version": "1.4.0",
      "model_name": "HBoxModel",
      "state": {
       "children": [
        "IPY_MODEL_82fabb54e30b4c3190d28519cd257a92",
        "IPY_MODEL_5b27f36f317047c8a8766282b0313318"
       ],
       "layout": "IPY_MODEL_bad843f5cc334fb7bb4112f90a06c96d"
      }
     },
     "36c59f971bfd46a2823154415921e82d": {
      "model_module": "@jupyter-widgets/base",
      "model_module_version": "1.1.0",
      "model_name": "LayoutModel",
      "state": {}
     },
     "36dbce6d87d64e6b8345d93188703cd1": {
      "model_module": "@jupyter-widgets/controls",
      "model_module_version": "1.4.0",
      "model_name": "HBoxModel",
      "state": {
       "children": [
        "IPY_MODEL_a057621b0f2742b985cdd29da4068aa4",
        "IPY_MODEL_204e281985934b4cbfea7c194b82b226"
       ],
       "layout": "IPY_MODEL_832c311ea9a343109dfab8bd325e4cf3"
      }
     },
     "374027160d494d84819e9885ec39cce9": {
      "model_module": "@jupyter-widgets/controls",
      "model_module_version": "1.4.0",
      "model_name": "ProgressStyleModel",
      "state": {
       "description_width": ""
      }
     },
     "37a4ee65185a47c79444f607de9fa10e": {
      "model_module": "@jupyter-widgets/controls",
      "model_module_version": "1.4.0",
      "model_name": "ProgressStyleModel",
      "state": {
       "description_width": ""
      }
     },
     "38bb7d4e78c34ae8b0d17156dee20c12": {
      "model_module": "@jupyter-widgets/controls",
      "model_module_version": "1.4.0",
      "model_name": "IntProgressModel",
      "state": {
       "bar_style": "success",
       "layout": "IPY_MODEL_5bc90d32d75c4d8aa95b0a7778d6b77a",
       "max": 1000,
       "style": "IPY_MODEL_c1b88bb71e784a9b8a20ca2b813f7cc1",
       "value": 1000
      }
     },
     "38f9d76a4a764705a89dff828e2071b7": {
      "model_module": "@jupyter-widgets/controls",
      "model_module_version": "1.4.0",
      "model_name": "DescriptionStyleModel",
      "state": {
       "description_width": ""
      }
     },
     "3931a1b697d64e2c881d9cdc001431bf": {
      "model_module": "@jupyter-widgets/base",
      "model_module_version": "1.1.0",
      "model_name": "LayoutModel",
      "state": {}
     },
     "39534b66f150405c8c92fd7bad65324c": {
      "model_module": "@jupyter-widgets/controls",
      "model_module_version": "1.4.0",
      "model_name": "HBoxModel",
      "state": {
       "children": [
        "IPY_MODEL_aaac77e38e454d2ca5ec59ee9ae2913d",
        "IPY_MODEL_e1d6a303bf814bf3aaf73958d64f3ba3"
       ],
       "layout": "IPY_MODEL_1371f06ded094dca8bab74be231e28a6"
      }
     },
     "3a8145e866224d18876ea5b72db9bb1f": {
      "model_module": "@jupyter-widgets/base",
      "model_module_version": "1.1.0",
      "model_name": "LayoutModel",
      "state": {}
     },
     "3aa7d81a26e640b7a91c3a161d92873a": {
      "model_module": "@jupyter-widgets/base",
      "model_module_version": "1.1.0",
      "model_name": "LayoutModel",
      "state": {}
     },
     "3ab98643c98844f8a475b0b9bbe67bf2": {
      "model_module": "@jupyter-widgets/base",
      "model_module_version": "1.1.0",
      "model_name": "LayoutModel",
      "state": {}
     },
     "3b358a7dcefe49cd8cac6e8ed711f6b2": {
      "model_module": "@jupyter-widgets/controls",
      "model_module_version": "1.4.0",
      "model_name": "HTMLModel",
      "state": {
       "layout": "IPY_MODEL_3c039c56bf7647f5abe574a0d59dc9aa",
       "style": "IPY_MODEL_5a4fa0edfc41499e81dbc42efb196749",
       "value": "100% 100/100 [00:24&lt;00:00,  3.26it/s]"
      }
     },
     "3b7ea634f0204b75827323addb908c6c": {
      "model_module": "@jupyter-widgets/controls",
      "model_module_version": "1.4.0",
      "model_name": "IntProgressModel",
      "state": {
       "bar_style": "success",
       "layout": "IPY_MODEL_60763273db044cb49f184f85265f327e",
       "max": 1000,
       "style": "IPY_MODEL_67d370818c44478e981e7d12cf3b8562",
       "value": 1000
      }
     },
     "3c039c56bf7647f5abe574a0d59dc9aa": {
      "model_module": "@jupyter-widgets/base",
      "model_module_version": "1.1.0",
      "model_name": "LayoutModel",
      "state": {}
     },
     "3c76c334a3c34b15beb1a7c07493197d": {
      "model_module": "@jupyter-widgets/controls",
      "model_module_version": "1.4.0",
      "model_name": "HBoxModel",
      "state": {
       "children": [
        "IPY_MODEL_07e7b64f4fb842c681efc60b18ba0100",
        "IPY_MODEL_8b460c2a966a4a4c988d71421bcb7650"
       ],
       "layout": "IPY_MODEL_621b61e93b804ce3b6d793bf44c2f454"
      }
     },
     "3d3884ee1491416aa50a28e08d8dafb4": {
      "model_module": "@jupyter-widgets/controls",
      "model_module_version": "1.4.0",
      "model_name": "IntProgressModel",
      "state": {
       "bar_style": "success",
       "layout": "IPY_MODEL_7291aca9fe47449881896bff69192b98",
       "max": 1000,
       "style": "IPY_MODEL_420bd257ad50450dacdd9990746b034c",
       "value": 1000
      }
     },
     "3ec350ab79c74170b3f48b4f7c1425ed": {
      "model_module": "@jupyter-widgets/controls",
      "model_module_version": "1.4.0",
      "model_name": "HBoxModel",
      "state": {
       "children": [
        "IPY_MODEL_3d3884ee1491416aa50a28e08d8dafb4",
        "IPY_MODEL_ae4ccb23819b458ab919c89a667588d9"
       ],
       "layout": "IPY_MODEL_894bf0bd11bb4cdd9525bbf4af1cde25"
      }
     },
     "3f1b8444a1334c02b25da7dabca3c7ce": {
      "model_module": "@jupyter-widgets/controls",
      "model_module_version": "1.4.0",
      "model_name": "HTMLModel",
      "state": {
       "layout": "IPY_MODEL_8e91bf39a72c4089a31d1e32f1235881",
       "style": "IPY_MODEL_298f59d44ea84df390fb0bcd251f6d2e",
       "value": "100% 1000/1000 [03:31&lt;00:00,  3.95it/s]"
      }
     },
     "3f2fc9689eb242289260f7ac0ea73500": {
      "model_module": "@jupyter-widgets/controls",
      "model_module_version": "1.4.0",
      "model_name": "ProgressStyleModel",
      "state": {
       "description_width": ""
      }
     },
     "3f63d289ff52487f8f367d4fff1ba347": {
      "model_module": "@jupyter-widgets/base",
      "model_module_version": "1.1.0",
      "model_name": "LayoutModel",
      "state": {}
     },
     "3f7f89b4c6024a1dadd68ed6999d44d1": {
      "model_module": "@jupyter-widgets/base",
      "model_module_version": "1.1.0",
      "model_name": "LayoutModel",
      "state": {}
     },
     "3fac04d9aaf247209b84fdf86f1bc472": {
      "model_module": "@jupyter-widgets/controls",
      "model_module_version": "1.4.0",
      "model_name": "HBoxModel",
      "state": {
       "children": [
        "IPY_MODEL_e9023e5b6ce048688c81215efd1f7cd1",
        "IPY_MODEL_32f492b9af0e4ebf9803f3897b7fa906"
       ],
       "layout": "IPY_MODEL_474e3be304054f24b204027a323cfdda"
      }
     },
     "420bd257ad50450dacdd9990746b034c": {
      "model_module": "@jupyter-widgets/controls",
      "model_module_version": "1.4.0",
      "model_name": "ProgressStyleModel",
      "state": {
       "description_width": ""
      }
     },
     "421d59e9bbaa45c38403ab2f1aa0b95e": {
      "model_module": "@jupyter-widgets/controls",
      "model_module_version": "1.4.0",
      "model_name": "HBoxModel",
      "state": {
       "children": [
        "IPY_MODEL_c72228a54d104b63afe110a302e0d9ae",
        "IPY_MODEL_ed54e98e1c984980ad9a28765ce0e676"
       ],
       "layout": "IPY_MODEL_4ff9c09c56ae4a498d8937e75b01e07b"
      }
     },
     "42e30846b04740eb983e0dee88df11c5": {
      "model_module": "@jupyter-widgets/base",
      "model_module_version": "1.1.0",
      "model_name": "LayoutModel",
      "state": {}
     },
     "4364fb479bdc47d484fe88d3d3bcaaf1": {
      "model_module": "@jupyter-widgets/controls",
      "model_module_version": "1.4.0",
      "model_name": "IntProgressModel",
      "state": {
       "bar_style": "success",
       "layout": "IPY_MODEL_4f4edadb9f8f42e8b503e76dc9431878",
       "max": 1000,
       "style": "IPY_MODEL_1bc14ffa2e624e469037fffa0240475d",
       "value": 1000
      }
     },
     "43ca0f6464844891af640f3c7137bda6": {
      "model_module": "@jupyter-widgets/controls",
      "model_module_version": "1.4.0",
      "model_name": "HTMLModel",
      "state": {
       "layout": "IPY_MODEL_0ca9dbcbc51348a1a2b82e7168760455",
       "style": "IPY_MODEL_6793545f63564ff78fa00ddabf9068e4",
       "value": "100% 58900/58900 [00:08&lt;00:00, 7330.79it/s]"
      }
     },
     "441048c933d84e4eb1b521e56ceaf878": {
      "model_module": "@jupyter-widgets/controls",
      "model_module_version": "1.4.0",
      "model_name": "ProgressStyleModel",
      "state": {
       "description_width": ""
      }
     },
     "45822974cec14175b6da96f9294d64ad": {
      "model_module": "@jupyter-widgets/base",
      "model_module_version": "1.1.0",
      "model_name": "LayoutModel",
      "state": {}
     },
     "458e3156c7fb4ca2838d1858b12d71a9": {
      "model_module": "@jupyter-widgets/base",
      "model_module_version": "1.1.0",
      "model_name": "LayoutModel",
      "state": {}
     },
     "45c1c3d67af943a7bf136740f705886e": {
      "model_module": "@jupyter-widgets/controls",
      "model_module_version": "1.4.0",
      "model_name": "DescriptionStyleModel",
      "state": {
       "description_width": ""
      }
     },
     "45d5a1a36b1544feae2a86b15a6ac10e": {
      "model_module": "@jupyter-widgets/controls",
      "model_module_version": "1.4.0",
      "model_name": "HTMLModel",
      "state": {
       "layout": "IPY_MODEL_9c2c65cdc3644e1798a5a28478cd840f",
       "style": "IPY_MODEL_4fbd2cdcc78143fca6c951b5ecbe3806",
       "value": "100% 1000/1000 [03:57&lt;00:00,  3.19it/s]"
      }
     },
     "470f94e1395e4ecd9d18c61d62415ce6": {
      "model_module": "@jupyter-widgets/controls",
      "model_module_version": "1.4.0",
      "model_name": "DescriptionStyleModel",
      "state": {
       "description_width": ""
      }
     },
     "474c45ea28eb4ad5b0892a618f983ec5": {
      "model_module": "@jupyter-widgets/base",
      "model_module_version": "1.1.0",
      "model_name": "LayoutModel",
      "state": {}
     },
     "474e3be304054f24b204027a323cfdda": {
      "model_module": "@jupyter-widgets/base",
      "model_module_version": "1.1.0",
      "model_name": "LayoutModel",
      "state": {}
     },
     "4752ed884e514d3bb162f5974c6dc7bc": {
      "model_module": "@jupyter-widgets/controls",
      "model_module_version": "1.4.0",
      "model_name": "HBoxModel",
      "state": {
       "children": [
        "IPY_MODEL_8704aeecf1bd4b26b861d923c391983f",
        "IPY_MODEL_1b3d54fe6b654e7587ef29c678879e79"
       ],
       "layout": "IPY_MODEL_f85f9b20a06445ffb558f658e37f306f"
      }
     },
     "47703ae4ea794c06a6b09de101e7a554": {
      "model_module": "@jupyter-widgets/controls",
      "model_module_version": "1.4.0",
      "model_name": "ProgressStyleModel",
      "state": {
       "description_width": ""
      }
     },
     "4791c0aff31e46a8a5245b4f6aeac1c7": {
      "model_module": "@jupyter-widgets/controls",
      "model_module_version": "1.4.0",
      "model_name": "DescriptionStyleModel",
      "state": {
       "description_width": ""
      }
     },
     "47fccceafe594b088c5099a88d16569a": {
      "model_module": "@jupyter-widgets/controls",
      "model_module_version": "1.4.0",
      "model_name": "HTMLModel",
      "state": {
       "layout": "IPY_MODEL_dcb296de4551415fba3b45db68ca0785",
       "style": "IPY_MODEL_a12a6882a9cc4d82a0ffb39b04643d04",
       "value": "100% 1000/1000 [01:51&lt;00:00,  7.74it/s]"
      }
     },
     "482d8f5eb4de415183929596d70a13b0": {
      "model_module": "@jupyter-widgets/base",
      "model_module_version": "1.1.0",
      "model_name": "LayoutModel",
      "state": {}
     },
     "48caddb536c848ff8fdba5548e3f03c2": {
      "model_module": "@jupyter-widgets/controls",
      "model_module_version": "1.4.0",
      "model_name": "ProgressStyleModel",
      "state": {
       "description_width": ""
      }
     },
     "48d9efb43a084fdab2dbb6aee44c3426": {
      "model_module": "@jupyter-widgets/controls",
      "model_module_version": "1.4.0",
      "model_name": "HBoxModel",
      "state": {
       "children": [
        "IPY_MODEL_b65be0a249b242fc8903b7cbfa56c3d8",
        "IPY_MODEL_3048a6eee75e46bb8f749809b786bf59"
       ],
       "layout": "IPY_MODEL_3071534ca5f94195a7ef9ee8f5117d19"
      }
     },
     "48ec9ba7fb434ccf88285c307303d562": {
      "model_module": "@jupyter-widgets/controls",
      "model_module_version": "1.4.0",
      "model_name": "HTMLModel",
      "state": {
       "layout": "IPY_MODEL_3aa7d81a26e640b7a91c3a161d92873a",
       "style": "IPY_MODEL_ca7c6ae7485c4c3b8ae041d5d760e200",
       "value": "100% 1000/1000 [00:00&lt;00:00, 8673.87it/s]"
      }
     },
     "48fe9fc0366b4c5fb299254ff5c82a75": {
      "model_module": "@jupyter-widgets/base",
      "model_module_version": "1.1.0",
      "model_name": "LayoutModel",
      "state": {}
     },
     "4938bac410ae42ef887a434884000909": {
      "model_module": "@jupyter-widgets/controls",
      "model_module_version": "1.4.0",
      "model_name": "IntProgressModel",
      "state": {
       "bar_style": "success",
       "layout": "IPY_MODEL_02216a2906914e06b68f4270531daf45",
       "style": "IPY_MODEL_55e1442a248c41298f3f107fe89b8a22",
       "value": 100
      }
     },
     "496a73bf78154fb69a7d3dd068c2a1d5": {
      "model_module": "@jupyter-widgets/controls",
      "model_module_version": "1.4.0",
      "model_name": "HTMLModel",
      "state": {
       "layout": "IPY_MODEL_332502a647444966a85b5f2243573ac4",
       "style": "IPY_MODEL_77cfa6385ae6457ebd95bac2265f0b88",
       "value": "100% 1000/1000 [06:12&lt;00:00,  2.62it/s]"
      }
     },
     "496da20e5ca841718a3d86ff25875feb": {
      "model_module": "@jupyter-widgets/controls",
      "model_module_version": "1.4.0",
      "model_name": "IntProgressModel",
      "state": {
       "bar_style": "success",
       "layout": "IPY_MODEL_3f63d289ff52487f8f367d4fff1ba347",
       "max": 1000,
       "style": "IPY_MODEL_6251b0dd80fe4f429ff7de31f1cc1640",
       "value": 1000
      }
     },
     "49fc5edd15c245e78d6221f2d8009558": {
      "model_module": "@jupyter-widgets/base",
      "model_module_version": "1.1.0",
      "model_name": "LayoutModel",
      "state": {}
     },
     "4a11ca0b9d1e445b9b7c10a7ab3102f1": {
      "model_module": "@jupyter-widgets/controls",
      "model_module_version": "1.4.0",
      "model_name": "ProgressStyleModel",
      "state": {
       "description_width": ""
      }
     },
     "4a2804ab4a3744ab99e548a9c508d917": {
      "model_module": "@jupyter-widgets/controls",
      "model_module_version": "1.4.0",
      "model_name": "DescriptionStyleModel",
      "state": {
       "description_width": ""
      }
     },
     "4a75556ebc134c6aa3d9615c0d309b82": {
      "model_module": "@jupyter-widgets/base",
      "model_module_version": "1.1.0",
      "model_name": "LayoutModel",
      "state": {}
     },
     "4ad1f70200194c12bffef510df33e543": {
      "model_module": "@jupyter-widgets/controls",
      "model_module_version": "1.4.0",
      "model_name": "IntProgressModel",
      "state": {
       "bar_style": "success",
       "layout": "IPY_MODEL_9e80c7a233b946a39f1fd03c9ea79176",
       "max": 1000,
       "style": "IPY_MODEL_a3dfc18224464d468dccdbe634a72f14",
       "value": 1000
      }
     },
     "4b47e96a578b4b8b8147986ba871bf9c": {
      "model_module": "@jupyter-widgets/controls",
      "model_module_version": "1.4.0",
      "model_name": "DescriptionStyleModel",
      "state": {
       "description_width": ""
      }
     },
     "4b4e1cc71cf149688ec32981843cec8e": {
      "model_module": "@jupyter-widgets/controls",
      "model_module_version": "1.4.0",
      "model_name": "ProgressStyleModel",
      "state": {
       "description_width": ""
      }
     },
     "4b7a4781de5b4c7ab39b8311dedf5e87": {
      "model_module": "@jupyter-widgets/base",
      "model_module_version": "1.1.0",
      "model_name": "LayoutModel",
      "state": {}
     },
     "4bba6bd8bbed4fd1a7e9b3f95a75ff3f": {
      "model_module": "@jupyter-widgets/controls",
      "model_module_version": "1.4.0",
      "model_name": "IntProgressModel",
      "state": {
       "bar_style": "success",
       "layout": "IPY_MODEL_310fa617262c4bc98b417274569085d8",
       "style": "IPY_MODEL_0d6e22fdd6ef467a8859c63b69f899d5",
       "value": 100
      }
     },
     "4d3f73fd597345869dd15c370fa47444": {
      "model_module": "@jupyter-widgets/controls",
      "model_module_version": "1.4.0",
      "model_name": "ProgressStyleModel",
      "state": {
       "description_width": ""
      }
     },
     "4dc555daf5cb434b90b58dc9f2028e54": {
      "model_module": "@jupyter-widgets/base",
      "model_module_version": "1.1.0",
      "model_name": "LayoutModel",
      "state": {}
     },
     "4e2f27a4afdd41d19188705455d5d13c": {
      "model_module": "@jupyter-widgets/base",
      "model_module_version": "1.1.0",
      "model_name": "LayoutModel",
      "state": {}
     },
     "4e716f5a9bff41b8a6f4da9a20d932b1": {
      "model_module": "@jupyter-widgets/base",
      "model_module_version": "1.1.0",
      "model_name": "LayoutModel",
      "state": {}
     },
     "4e9156eec2e04a75893d4dc5cad1953c": {
      "model_module": "@jupyter-widgets/controls",
      "model_module_version": "1.4.0",
      "model_name": "IntProgressModel",
      "state": {
       "bar_style": "success",
       "layout": "IPY_MODEL_219509e6afd4459a815f1f1b0bf7b960",
       "max": 58900,
       "style": "IPY_MODEL_a60a30c2823344d6b6708c72c7b1ccf8",
       "value": 58900
      }
     },
     "4f4edadb9f8f42e8b503e76dc9431878": {
      "model_module": "@jupyter-widgets/base",
      "model_module_version": "1.1.0",
      "model_name": "LayoutModel",
      "state": {}
     },
     "4fbd2cdcc78143fca6c951b5ecbe3806": {
      "model_module": "@jupyter-widgets/controls",
      "model_module_version": "1.4.0",
      "model_name": "DescriptionStyleModel",
      "state": {
       "description_width": ""
      }
     },
     "4ff9c09c56ae4a498d8937e75b01e07b": {
      "model_module": "@jupyter-widgets/base",
      "model_module_version": "1.1.0",
      "model_name": "LayoutModel",
      "state": {}
     },
     "505c826baa084313978f761b7f31d354": {
      "model_module": "@jupyter-widgets/controls",
      "model_module_version": "1.4.0",
      "model_name": "HTMLModel",
      "state": {
       "layout": "IPY_MODEL_61936b4f01844c27ad6d9eb23b333ab6",
       "style": "IPY_MODEL_ec024d5d04354bd3bf3c4acf808988ba",
       "value": "100% 100/100 [00:22&lt;00:00,  4.26it/s]"
      }
     },
     "507d9ddb835643868db366232ef886c4": {
      "model_module": "@jupyter-widgets/base",
      "model_module_version": "1.1.0",
      "model_name": "LayoutModel",
      "state": {}
     },
     "510183a5fa75444aaf4135ce464cb72d": {
      "model_module": "@jupyter-widgets/base",
      "model_module_version": "1.1.0",
      "model_name": "LayoutModel",
      "state": {}
     },
     "5193e2c3cd5b42f5abce3cde8202b932": {
      "model_module": "@jupyter-widgets/controls",
      "model_module_version": "1.4.0",
      "model_name": "ProgressStyleModel",
      "state": {
       "description_width": ""
      }
     },
     "51ad58893d0d4577872b9fa9496f5bf2": {
      "model_module": "@jupyter-widgets/base",
      "model_module_version": "1.1.0",
      "model_name": "LayoutModel",
      "state": {}
     },
     "52292af71e5b4006b16f2d4edfe6fa7d": {
      "model_module": "@jupyter-widgets/controls",
      "model_module_version": "1.4.0",
      "model_name": "HBoxModel",
      "state": {
       "children": [
        "IPY_MODEL_6e717e53a0b94375b08b18b9493b5c62",
        "IPY_MODEL_1a9896a8e58b4b4384ca822ce126108b"
       ],
       "layout": "IPY_MODEL_9cffa9c68b5e45b1950a44df0282b34b"
      }
     },
     "524f6cb431ff4ac9ade1eefa9fecc71f": {
      "model_module": "@jupyter-widgets/base",
      "model_module_version": "1.1.0",
      "model_name": "LayoutModel",
      "state": {}
     },
     "52c5f4b6a5b749738ab0a37e8914d9a3": {
      "model_module": "@jupyter-widgets/base",
      "model_module_version": "1.1.0",
      "model_name": "LayoutModel",
      "state": {}
     },
     "5395eb25007c41cbaf9373c3b00f79d9": {
      "model_module": "@jupyter-widgets/controls",
      "model_module_version": "1.4.0",
      "model_name": "ProgressStyleModel",
      "state": {
       "description_width": ""
      }
     },
     "539809c97ec248ff9d81c414bc176aa6": {
      "model_module": "@jupyter-widgets/controls",
      "model_module_version": "1.4.0",
      "model_name": "HBoxModel",
      "state": {
       "children": [
        "IPY_MODEL_bcefd4bd8bd2473ea380f0abf9ef7cd6",
        "IPY_MODEL_2d61abbddc094dada43e505d5d94c0e2"
       ],
       "layout": "IPY_MODEL_6726278cf2fb4b13a824f848d44e8fac"
      }
     },
     "54e9862f83224813b1d1ae73586163ad": {
      "model_module": "@jupyter-widgets/base",
      "model_module_version": "1.1.0",
      "model_name": "LayoutModel",
      "state": {}
     },
     "550dba9fea6c45c6bec8ef3d7b72a1e2": {
      "model_module": "@jupyter-widgets/controls",
      "model_module_version": "1.4.0",
      "model_name": "IntProgressModel",
      "state": {
       "bar_style": "danger",
       "layout": "IPY_MODEL_959e000d24e2452f9d3ceb34d6e48a30",
       "max": 1000,
       "style": "IPY_MODEL_c8c4a25b351d444ba04d4c852d0e1df3",
       "value": 19
      }
     },
     "55c6b132cac94c57a2eee0f24affcb77": {
      "model_module": "@jupyter-widgets/controls",
      "model_module_version": "1.4.0",
      "model_name": "HBoxModel",
      "state": {
       "children": [
        "IPY_MODEL_b1edf0273600450fb90fa07b009ea991",
        "IPY_MODEL_3b358a7dcefe49cd8cac6e8ed711f6b2"
       ],
       "layout": "IPY_MODEL_01a7cef511674aac8054b65a3eb527c5"
      }
     },
     "55e1442a248c41298f3f107fe89b8a22": {
      "model_module": "@jupyter-widgets/controls",
      "model_module_version": "1.4.0",
      "model_name": "ProgressStyleModel",
      "state": {
       "description_width": ""
      }
     },
     "587a062133e842eb8507ce655ccf2d71": {
      "model_module": "@jupyter-widgets/controls",
      "model_module_version": "1.4.0",
      "model_name": "HBoxModel",
      "state": {
       "children": [
        "IPY_MODEL_96de946359f44ec5b997e9408c1a910c",
        "IPY_MODEL_866f6195282c434293e1bee9991398aa"
       ],
       "layout": "IPY_MODEL_b389834fabc842f89dbdbdf9bfc31e98"
      }
     },
     "58bb32e1ad2e4ea1b7f6ee27784dc14d": {
      "model_module": "@jupyter-widgets/base",
      "model_module_version": "1.1.0",
      "model_name": "LayoutModel",
      "state": {}
     },
     "59f45539935544e7b194f0e8f9121dec": {
      "model_module": "@jupyter-widgets/base",
      "model_module_version": "1.1.0",
      "model_name": "LayoutModel",
      "state": {}
     },
     "5a4fa0edfc41499e81dbc42efb196749": {
      "model_module": "@jupyter-widgets/controls",
      "model_module_version": "1.4.0",
      "model_name": "DescriptionStyleModel",
      "state": {
       "description_width": ""
      }
     },
     "5b27f36f317047c8a8766282b0313318": {
      "model_module": "@jupyter-widgets/controls",
      "model_module_version": "1.4.0",
      "model_name": "HTMLModel",
      "state": {
       "layout": "IPY_MODEL_3f7f89b4c6024a1dadd68ed6999d44d1",
       "style": "IPY_MODEL_8eb34f751be04cd1b53c8dbad01d7232",
       "value": "100% 1000/1000 [06:00&lt;00:00,  2.78it/s]"
      }
     },
     "5b51cb3defff4f5ba545d481636ffe64": {
      "model_module": "@jupyter-widgets/base",
      "model_module_version": "1.1.0",
      "model_name": "LayoutModel",
      "state": {}
     },
     "5bc90d32d75c4d8aa95b0a7778d6b77a": {
      "model_module": "@jupyter-widgets/base",
      "model_module_version": "1.1.0",
      "model_name": "LayoutModel",
      "state": {}
     },
     "5bec5988538b4f8c95b61c4a7d053943": {
      "model_module": "@jupyter-widgets/controls",
      "model_module_version": "1.4.0",
      "model_name": "DescriptionStyleModel",
      "state": {
       "description_width": ""
      }
     },
     "5e96588924de47aab7fdcda7d646220c": {
      "model_module": "@jupyter-widgets/base",
      "model_module_version": "1.1.0",
      "model_name": "LayoutModel",
      "state": {}
     },
     "5eb58f141f25406b8759fd0fda4b7e47": {
      "model_module": "@jupyter-widgets/controls",
      "model_module_version": "1.4.0",
      "model_name": "HTMLModel",
      "state": {
       "layout": "IPY_MODEL_458e3156c7fb4ca2838d1858b12d71a9",
       "style": "IPY_MODEL_cadadd3e268b4a35b3e3243e7d436bc4",
       "value": "100% 58900/58900 [01:14&lt;00:00, 789.69it/s]"
      }
     },
     "60763273db044cb49f184f85265f327e": {
      "model_module": "@jupyter-widgets/base",
      "model_module_version": "1.1.0",
      "model_name": "LayoutModel",
      "state": {}
     },
     "60bbced66458469e8ec4770579f413c8": {
      "model_module": "@jupyter-widgets/controls",
      "model_module_version": "1.4.0",
      "model_name": "HTMLModel",
      "state": {
       "layout": "IPY_MODEL_745db6f1949b430ebee4c8f6b35adc46",
       "style": "IPY_MODEL_8ae5dd25ee8d4e18b1c236ce71438aea",
       "value": "100% 100/100 [00:26&lt;00:00,  2.93it/s]"
      }
     },
     "61010c50f1d54bb189f07c03dadd4451": {
      "model_module": "@jupyter-widgets/controls",
      "model_module_version": "1.4.0",
      "model_name": "HBoxModel",
      "state": {
       "children": [
        "IPY_MODEL_e4fd346e1a134c51be81e305e1891d1c",
        "IPY_MODEL_c4f257f2fccd4e0692c3a7fbea2c4c9d"
       ],
       "layout": "IPY_MODEL_79c8531033f14beb9e5e8b9ad45b006d"
      }
     },
     "610d367b80fd40af86265f530d6c0f0b": {
      "model_module": "@jupyter-widgets/controls",
      "model_module_version": "1.4.0",
      "model_name": "HTMLModel",
      "state": {
       "layout": "IPY_MODEL_78c76f88cd224f5ab64770c218f52fdf",
       "style": "IPY_MODEL_00096cfec47649a1ba5a5d7b108f3d2f",
       "value": "100% 100/100 [00:00&lt;00:00, 1829.07it/s]"
      }
     },
     "61936b4f01844c27ad6d9eb23b333ab6": {
      "model_module": "@jupyter-widgets/base",
      "model_module_version": "1.1.0",
      "model_name": "LayoutModel",
      "state": {}
     },
     "621b61e93b804ce3b6d793bf44c2f454": {
      "model_module": "@jupyter-widgets/base",
      "model_module_version": "1.1.0",
      "model_name": "LayoutModel",
      "state": {}
     },
     "6251b0dd80fe4f429ff7de31f1cc1640": {
      "model_module": "@jupyter-widgets/controls",
      "model_module_version": "1.4.0",
      "model_name": "ProgressStyleModel",
      "state": {
       "description_width": ""
      }
     },
     "636337be46d54c339533521d4504f0e2": {
      "model_module": "@jupyter-widgets/controls",
      "model_module_version": "1.4.0",
      "model_name": "HTMLModel",
      "state": {
       "layout": "IPY_MODEL_c01817dd58c1492db83accc972129056",
       "style": "IPY_MODEL_035d41c62856426890f179ea11b7ec92",
       "value": "100% 100/100 [00:00&lt;00:00, 3636.75it/s]"
      }
     },
     "6405b05035b74f00ac07f2c9fcc9ef5c": {
      "model_module": "@jupyter-widgets/base",
      "model_module_version": "1.1.0",
      "model_name": "LayoutModel",
      "state": {}
     },
     "6442f6d209db4a759fa8584852f8861a": {
      "model_module": "@jupyter-widgets/base",
      "model_module_version": "1.1.0",
      "model_name": "LayoutModel",
      "state": {}
     },
     "6444883cc41d40559dae30fce62efc6b": {
      "model_module": "@jupyter-widgets/controls",
      "model_module_version": "1.4.0",
      "model_name": "HTMLModel",
      "state": {
       "layout": "IPY_MODEL_a4e60e92fd1647f6b88a6dc84e12a3d7",
       "style": "IPY_MODEL_9033e8e245dc4b29a0aa988092abb93d",
       "value": "100% 58900/58900 [00:22&lt;00:00, 2586.39it/s]"
      }
     },
     "6454523e55d049539a5e3dc5fd54da53": {
      "model_module": "@jupyter-widgets/controls",
      "model_module_version": "1.4.0",
      "model_name": "HBoxModel",
      "state": {
       "children": [
        "IPY_MODEL_2989cbd0af11444cbed1e65f2f365cb8",
        "IPY_MODEL_b2ecd8b7235f4923aae81724a992ed78"
       ],
       "layout": "IPY_MODEL_d3d2689b21ab40079120f1080c53370c"
      }
     },
     "6481a2c2bbdf4ecab8dacea7ac117429": {
      "model_module": "@jupyter-widgets/base",
      "model_module_version": "1.1.0",
      "model_name": "LayoutModel",
      "state": {}
     },
     "64a8f03030f443b79076c4f58bc0d40c": {
      "model_module": "@jupyter-widgets/base",
      "model_module_version": "1.1.0",
      "model_name": "LayoutModel",
      "state": {}
     },
     "6560710cb41841ad8f7aa8089584d82a": {
      "model_module": "@jupyter-widgets/base",
      "model_module_version": "1.1.0",
      "model_name": "LayoutModel",
      "state": {}
     },
     "65b1ffb8643d4bb7ad2e3c7bfdbfee0f": {
      "model_module": "@jupyter-widgets/controls",
      "model_module_version": "1.4.0",
      "model_name": "HBoxModel",
      "state": {
       "children": [
        "IPY_MODEL_83869e30f36f4123b19fc44407682075",
        "IPY_MODEL_755d30689b5e41ec8a7fdbf7559a4374"
       ],
       "layout": "IPY_MODEL_01b94f0569dc41d5abc25b3c59b99888"
      }
     },
     "6603428218f84db2ab32dea473e88b67": {
      "model_module": "@jupyter-widgets/controls",
      "model_module_version": "1.4.0",
      "model_name": "IntProgressModel",
      "state": {
       "bar_style": "success",
       "layout": "IPY_MODEL_af6e75ef78b44291bcae282fa3472989",
       "style": "IPY_MODEL_5395eb25007c41cbaf9373c3b00f79d9",
       "value": 100
      }
     },
     "6726278cf2fb4b13a824f848d44e8fac": {
      "model_module": "@jupyter-widgets/base",
      "model_module_version": "1.1.0",
      "model_name": "LayoutModel",
      "state": {}
     },
     "67933762c2dd41b28491bf48b0d2e63a": {
      "model_module": "@jupyter-widgets/controls",
      "model_module_version": "1.4.0",
      "model_name": "HBoxModel",
      "state": {
       "children": [
        "IPY_MODEL_9dcac38c859141fabad267f847340801",
        "IPY_MODEL_cbda8c4b8c7b42929590ef92695c336c"
       ],
       "layout": "IPY_MODEL_22a118f31c784482a5d757574f5d4167"
      }
     },
     "6793545f63564ff78fa00ddabf9068e4": {
      "model_module": "@jupyter-widgets/controls",
      "model_module_version": "1.4.0",
      "model_name": "DescriptionStyleModel",
      "state": {
       "description_width": ""
      }
     },
     "67d370818c44478e981e7d12cf3b8562": {
      "model_module": "@jupyter-widgets/controls",
      "model_module_version": "1.4.0",
      "model_name": "ProgressStyleModel",
      "state": {
       "description_width": ""
      }
     },
     "69062c36ad6142ce9544df83066ad23f": {
      "model_module": "@jupyter-widgets/base",
      "model_module_version": "1.1.0",
      "model_name": "LayoutModel",
      "state": {}
     },
     "6a12a11a1d5e41b9ab0aa9f05010310e": {
      "model_module": "@jupyter-widgets/controls",
      "model_module_version": "1.4.0",
      "model_name": "IntProgressModel",
      "state": {
       "bar_style": "success",
       "layout": "IPY_MODEL_dd1def448a16411f8a656f91abe1503e",
       "style": "IPY_MODEL_6d7b02089e7a4d6eac7fb998f63f0219",
       "value": 100
      }
     },
     "6c37bbaaec3c43789f81bb48a054229a": {
      "model_module": "@jupyter-widgets/base",
      "model_module_version": "1.1.0",
      "model_name": "LayoutModel",
      "state": {}
     },
     "6c4770c346ba4a2b8b973bdc405c9dd9": {
      "model_module": "@jupyter-widgets/controls",
      "model_module_version": "1.4.0",
      "model_name": "HBoxModel",
      "state": {
       "children": [
        "IPY_MODEL_2c0fff44d49349c3b0469f89b87bfa91",
        "IPY_MODEL_ce76c1c6ed0447828cded6ce9253dc18"
       ],
       "layout": "IPY_MODEL_8090ed71fe08414c9c68dd1b97a8cf37"
      }
     },
     "6d7b02089e7a4d6eac7fb998f63f0219": {
      "model_module": "@jupyter-widgets/controls",
      "model_module_version": "1.4.0",
      "model_name": "ProgressStyleModel",
      "state": {
       "description_width": ""
      }
     },
     "6ddf5eea016d4efcbe66d9044ad4d9dd": {
      "model_module": "@jupyter-widgets/base",
      "model_module_version": "1.1.0",
      "model_name": "LayoutModel",
      "state": {}
     },
     "6e717e53a0b94375b08b18b9493b5c62": {
      "model_module": "@jupyter-widgets/controls",
      "model_module_version": "1.4.0",
      "model_name": "IntProgressModel",
      "state": {
       "bar_style": "success",
       "layout": "IPY_MODEL_e5a1b1ed48134a8ab4a9aac774ee5ce3",
       "max": 1000,
       "style": "IPY_MODEL_13d00de0e6314ef889144337a55bb2eb",
       "value": 1000
      }
     },
     "6f03411ad47a4d4eac93fbb04829420b": {
      "model_module": "@jupyter-widgets/controls",
      "model_module_version": "1.4.0",
      "model_name": "HTMLModel",
      "state": {
       "layout": "IPY_MODEL_482d8f5eb4de415183929596d70a13b0",
       "style": "IPY_MODEL_c75bec1cfa904de0814911939bba1662",
       "value": "100% 100/100 [00:20&lt;00:00,  4.89it/s]"
      }
     },
     "7037ac8ec8794e05913c53efb81f68c2": {
      "model_module": "@jupyter-widgets/controls",
      "model_module_version": "1.4.0",
      "model_name": "HTMLModel",
      "state": {
       "layout": "IPY_MODEL_0aa579d9707247d8aec1a446bf26886e",
       "style": "IPY_MODEL_ab717360c6b14a4b88e362112fc92bcb",
       "value": "100% 1000/1000 [00:00&lt;00:00, 10453.02it/s]"
      }
     },
     "7053a0fce14b43479a9789325e283cb5": {
      "model_module": "@jupyter-widgets/controls",
      "model_module_version": "1.4.0",
      "model_name": "DescriptionStyleModel",
      "state": {
       "description_width": ""
      }
     },
     "7070db757e14499aa8a0b6a1bda6d512": {
      "model_module": "@jupyter-widgets/controls",
      "model_module_version": "1.4.0",
      "model_name": "HTMLModel",
      "state": {
       "layout": "IPY_MODEL_4e2f27a4afdd41d19188705455d5d13c",
       "style": "IPY_MODEL_719f047c8f26435482e66300a33f1bf8",
       "value": "100% 100/100 [00:00&lt;00:00, 1785.64it/s]"
      }
     },
     "70d76335a4e84e398713f508a8558e88": {
      "model_module": "@jupyter-widgets/controls",
      "model_module_version": "1.4.0",
      "model_name": "DescriptionStyleModel",
      "state": {
       "description_width": ""
      }
     },
     "719f047c8f26435482e66300a33f1bf8": {
      "model_module": "@jupyter-widgets/controls",
      "model_module_version": "1.4.0",
      "model_name": "DescriptionStyleModel",
      "state": {
       "description_width": ""
      }
     },
     "7291aca9fe47449881896bff69192b98": {
      "model_module": "@jupyter-widgets/base",
      "model_module_version": "1.1.0",
      "model_name": "LayoutModel",
      "state": {}
     },
     "72dfab293bf345328b782b98d539e774": {
      "model_module": "@jupyter-widgets/controls",
      "model_module_version": "1.4.0",
      "model_name": "DescriptionStyleModel",
      "state": {
       "description_width": ""
      }
     },
     "73bb1d06e8e94cdeb72f991be3c7c74f": {
      "model_module": "@jupyter-widgets/controls",
      "model_module_version": "1.4.0",
      "model_name": "HBoxModel",
      "state": {
       "children": [
        "IPY_MODEL_d4ba447b79a74ea19ed67545afa06112",
        "IPY_MODEL_c570c1eab23c4d91a7cce774d971074e"
       ],
       "layout": "IPY_MODEL_8a3da74ec7ca4d8d8241db8bb4c0c26b"
      }
     },
     "73bb9e67caad43cb9ee25270964b0b79": {
      "model_module": "@jupyter-widgets/controls",
      "model_module_version": "1.4.0",
      "model_name": "HTMLModel",
      "state": {
       "layout": "IPY_MODEL_214425022c684a4195f5dabe266dcf42",
       "style": "IPY_MODEL_e80268bd0f674ecc84fce7ea94e4e0c9",
       "value": "100% 58900/58900 [00:04&lt;00:00, 12568.34it/s]"
      }
     },
     "73d1104b8053434eb10cf35313ddc967": {
      "model_module": "@jupyter-widgets/base",
      "model_module_version": "1.1.0",
      "model_name": "LayoutModel",
      "state": {}
     },
     "7420e8831cf2406d98bd0f82291a31e6": {
      "model_module": "@jupyter-widgets/controls",
      "model_module_version": "1.4.0",
      "model_name": "HBoxModel",
      "state": {
       "children": [
        "IPY_MODEL_2c6efce6906d422d93f280b7b9887bb8",
        "IPY_MODEL_5eb58f141f25406b8759fd0fda4b7e47"
       ],
       "layout": "IPY_MODEL_45822974cec14175b6da96f9294d64ad"
      }
     },
     "745db6f1949b430ebee4c8f6b35adc46": {
      "model_module": "@jupyter-widgets/base",
      "model_module_version": "1.1.0",
      "model_name": "LayoutModel",
      "state": {}
     },
     "746fd939c1ea436d9c95b5e4f0254578": {
      "model_module": "@jupyter-widgets/controls",
      "model_module_version": "1.4.0",
      "model_name": "IntProgressModel",
      "state": {
       "bar_style": "danger",
       "layout": "IPY_MODEL_0736899a219a4e5a837f9b71479ede8f",
       "max": 1000,
       "style": "IPY_MODEL_ad323dc083524968a3b6816365d3524f"
      }
     },
     "755d30689b5e41ec8a7fdbf7559a4374": {
      "model_module": "@jupyter-widgets/controls",
      "model_module_version": "1.4.0",
      "model_name": "HTMLModel",
      "state": {
       "layout": "IPY_MODEL_add98b53e7a04346b0d333e9f3a1944e",
       "style": "IPY_MODEL_e52a9d6a9a774452a187a84adb0934c3",
       "value": "100% 100/100 [00:45&lt;00:00,  2.24it/s]"
      }
     },
     "7700467cce9248cba32f6fa878366021": {
      "model_module": "@jupyter-widgets/controls",
      "model_module_version": "1.4.0",
      "model_name": "HBoxModel",
      "state": {
       "children": [
        "IPY_MODEL_4938bac410ae42ef887a434884000909",
        "IPY_MODEL_012fc9331ce940229aea1e76f4fe59cf"
       ],
       "layout": "IPY_MODEL_6442f6d209db4a759fa8584852f8861a"
      }
     },
     "77cfa6385ae6457ebd95bac2265f0b88": {
      "model_module": "@jupyter-widgets/controls",
      "model_module_version": "1.4.0",
      "model_name": "DescriptionStyleModel",
      "state": {
       "description_width": ""
      }
     },
     "781994bb3c2c452db92e299ccb108087": {
      "model_module": "@jupyter-widgets/base",
      "model_module_version": "1.1.0",
      "model_name": "LayoutModel",
      "state": {}
     },
     "782e1c2d23124d29a0cd3be6276756e1": {
      "model_module": "@jupyter-widgets/controls",
      "model_module_version": "1.4.0",
      "model_name": "HBoxModel",
      "state": {
       "children": [
        "IPY_MODEL_f1af6f3085b34d5cb0bd6a5dcc6a548b",
        "IPY_MODEL_f49c00878b4542fabfd05f2876771fff"
       ],
       "layout": "IPY_MODEL_6481a2c2bbdf4ecab8dacea7ac117429"
      }
     },
     "78c76f88cd224f5ab64770c218f52fdf": {
      "model_module": "@jupyter-widgets/base",
      "model_module_version": "1.1.0",
      "model_name": "LayoutModel",
      "state": {}
     },
     "79c8531033f14beb9e5e8b9ad45b006d": {
      "model_module": "@jupyter-widgets/base",
      "model_module_version": "1.1.0",
      "model_name": "LayoutModel",
      "state": {}
     },
     "79dbf3a1a8dc474d80bc86a16514795a": {
      "model_module": "@jupyter-widgets/controls",
      "model_module_version": "1.4.0",
      "model_name": "HBoxModel",
      "state": {
       "children": [
        "IPY_MODEL_e3a456e780d84bcdb8ff4d9629b9e1ee",
        "IPY_MODEL_b5becfa3f1fb4c0d922f4eea3ba3adbc"
       ],
       "layout": "IPY_MODEL_149e872357d347c99e4aba0731919a4e"
      }
     },
     "7a2cea63ac3b4589af0b831e40b10945": {
      "model_module": "@jupyter-widgets/base",
      "model_module_version": "1.1.0",
      "model_name": "LayoutModel",
      "state": {}
     },
     "7a2d283270a54e86bcaab9bad45dfb36": {
      "model_module": "@jupyter-widgets/base",
      "model_module_version": "1.1.0",
      "model_name": "LayoutModel",
      "state": {}
     },
     "7a3596f628014e16b436da6beffb35cd": {
      "model_module": "@jupyter-widgets/base",
      "model_module_version": "1.1.0",
      "model_name": "LayoutModel",
      "state": {}
     },
     "7a6b4968bd964b8bab754e324c81478c": {
      "model_module": "@jupyter-widgets/base",
      "model_module_version": "1.1.0",
      "model_name": "LayoutModel",
      "state": {}
     },
     "7b9684d528df42d0a0ad3f0156853128": {
      "model_module": "@jupyter-widgets/controls",
      "model_module_version": "1.4.0",
      "model_name": "DescriptionStyleModel",
      "state": {
       "description_width": ""
      }
     },
     "7b9c35549cf34977bc927acec6317fd8": {
      "model_module": "@jupyter-widgets/controls",
      "model_module_version": "1.4.0",
      "model_name": "HTMLModel",
      "state": {
       "layout": "IPY_MODEL_f8761aed1ea34df6af266bb91837f622",
       "style": "IPY_MODEL_28a950cb88e743d78570e87e328a03c8",
       "value": "100% 1000/1000 [03:55&lt;00:00,  3.44it/s]"
      }
     },
     "7be1b7fc64e341789928962bc6204390": {
      "model_module": "@jupyter-widgets/base",
      "model_module_version": "1.1.0",
      "model_name": "LayoutModel",
      "state": {}
     },
     "7e2af6ab5a9b4e9da0a39aca99ce109c": {
      "model_module": "@jupyter-widgets/base",
      "model_module_version": "1.1.0",
      "model_name": "LayoutModel",
      "state": {}
     },
     "8034d77916dc434190bc2fe8ded8bc0e": {
      "model_module": "@jupyter-widgets/controls",
      "model_module_version": "1.4.0",
      "model_name": "ProgressStyleModel",
      "state": {
       "description_width": ""
      }
     },
     "8090ed71fe08414c9c68dd1b97a8cf37": {
      "model_module": "@jupyter-widgets/base",
      "model_module_version": "1.1.0",
      "model_name": "LayoutModel",
      "state": {}
     },
     "813ead78b950434d802c62f248f9de76": {
      "model_module": "@jupyter-widgets/controls",
      "model_module_version": "1.4.0",
      "model_name": "HBoxModel",
      "state": {
       "children": [
        "IPY_MODEL_be0cf241d1784fcea032f94194033710",
        "IPY_MODEL_89295e32040a4dcab407b8629542fd90"
       ],
       "layout": "IPY_MODEL_ce71e00ddbe04ddd8a4430a1b352af32"
      }
     },
     "8175e1008d284467aa3061470ae0b58a": {
      "model_module": "@jupyter-widgets/controls",
      "model_module_version": "1.4.0",
      "model_name": "IntProgressModel",
      "state": {
       "bar_style": "success",
       "layout": "IPY_MODEL_9f90147e990443e0be6f4e1b0099bfd6",
       "max": 58900,
       "style": "IPY_MODEL_0b2b7234ec6d4122b16169cb937a2de4",
       "value": 58900
      }
     },
     "82fabb54e30b4c3190d28519cd257a92": {
      "model_module": "@jupyter-widgets/controls",
      "model_module_version": "1.4.0",
      "model_name": "IntProgressModel",
      "state": {
       "bar_style": "success",
       "layout": "IPY_MODEL_1a9b6a8c11154967908f7a2b18d9220d",
       "max": 1000,
       "style": "IPY_MODEL_5193e2c3cd5b42f5abce3cde8202b932",
       "value": 1000
      }
     },
     "8300bf21064d4ace892a1a0a78edddaf": {
      "model_module": "@jupyter-widgets/base",
      "model_module_version": "1.1.0",
      "model_name": "LayoutModel",
      "state": {}
     },
     "8318304f9e4a4534b083e37d7cdf4fa2": {
      "model_module": "@jupyter-widgets/controls",
      "model_module_version": "1.4.0",
      "model_name": "IntProgressModel",
      "state": {
       "bar_style": "success",
       "layout": "IPY_MODEL_a55cb2e12bf04d30808de68a8fa17dfe",
       "style": "IPY_MODEL_8d07f0d8c4ac435e8c1acbf49b267246",
       "value": 100
      }
     },
     "832c311ea9a343109dfab8bd325e4cf3": {
      "model_module": "@jupyter-widgets/base",
      "model_module_version": "1.1.0",
      "model_name": "LayoutModel",
      "state": {}
     },
     "83869e30f36f4123b19fc44407682075": {
      "model_module": "@jupyter-widgets/controls",
      "model_module_version": "1.4.0",
      "model_name": "IntProgressModel",
      "state": {
       "bar_style": "success",
       "layout": "IPY_MODEL_93a3e0f78340410bbb121e54c224974e",
       "style": "IPY_MODEL_441048c933d84e4eb1b521e56ceaf878",
       "value": 100
      }
     },
     "8449da0df32f4d8785c0e63523cc3b90": {
      "model_module": "@jupyter-widgets/controls",
      "model_module_version": "1.4.0",
      "model_name": "HBoxModel",
      "state": {
       "children": [
        "IPY_MODEL_cc1113236dc34b728a6ec64ee9d3f310",
        "IPY_MODEL_73bb9e67caad43cb9ee25270964b0b79"
       ],
       "layout": "IPY_MODEL_781994bb3c2c452db92e299ccb108087"
      }
     },
     "84aa11a89067477da9ad329a5bf70573": {
      "model_module": "@jupyter-widgets/controls",
      "model_module_version": "1.4.0",
      "model_name": "HTMLModel",
      "state": {
       "layout": "IPY_MODEL_a6ef6672f23f48c7a5cd2fb4e10ee841",
       "style": "IPY_MODEL_dd7345c4bcdf49b583f32d41c7c24194",
       "value": "100% 1000/1000 [03:26&lt;00:00,  4.45it/s]"
      }
     },
     "84ebbf58980649fe95e8c5ba49662f34": {
      "model_module": "@jupyter-widgets/base",
      "model_module_version": "1.1.0",
      "model_name": "LayoutModel",
      "state": {}
     },
     "866f6195282c434293e1bee9991398aa": {
      "model_module": "@jupyter-widgets/controls",
      "model_module_version": "1.4.0",
      "model_name": "HTMLModel",
      "state": {
       "layout": "IPY_MODEL_c4f45714014b4fef9ca564fce0276a2d",
       "style": "IPY_MODEL_c62f9920973c4a14a24dfd2e1d27f901",
       "value": "100% 58900/58900 [00:45&lt;00:00, 1294.16it/s]"
      }
     },
     "86d3738a517b4e3f9e23f3b9128a55c0": {
      "model_module": "@jupyter-widgets/base",
      "model_module_version": "1.1.0",
      "model_name": "LayoutModel",
      "state": {}
     },
     "8704aeecf1bd4b26b861d923c391983f": {
      "model_module": "@jupyter-widgets/controls",
      "model_module_version": "1.4.0",
      "model_name": "IntProgressModel",
      "state": {
       "bar_style": "success",
       "layout": "IPY_MODEL_deebfeb69ecc49d4b15008d48fd41259",
       "max": 1000,
       "style": "IPY_MODEL_bf08c5afcd3d486ea27933bd2df80f1b",
       "value": 1000
      }
     },
     "8846a323550842159429009728fb2cec": {
      "model_module": "@jupyter-widgets/controls",
      "model_module_version": "1.4.0",
      "model_name": "HBoxModel",
      "state": {
       "children": [
        "IPY_MODEL_9bf98762af4d4b74a67707abbc23fb5a",
        "IPY_MODEL_aded1c109fa34c2684620b36f123ba7a"
       ],
       "layout": "IPY_MODEL_a5118f9a80b64e4ab092890781b842cf"
      }
     },
     "89295e32040a4dcab407b8629542fd90": {
      "model_module": "@jupyter-widgets/controls",
      "model_module_version": "1.4.0",
      "model_name": "HTMLModel",
      "state": {
       "layout": "IPY_MODEL_48fe9fc0366b4c5fb299254ff5c82a75",
       "style": "IPY_MODEL_fb9b8a3184184d69b886252ed0dcdd9c",
       "value": "100% 100/100 [00:21&lt;00:00,  4.28it/s]"
      }
     },
     "894bf0bd11bb4cdd9525bbf4af1cde25": {
      "model_module": "@jupyter-widgets/base",
      "model_module_version": "1.1.0",
      "model_name": "LayoutModel",
      "state": {}
     },
     "8961d9cda38b431fa7ed13965d4a191c": {
      "model_module": "@jupyter-widgets/controls",
      "model_module_version": "1.4.0",
      "model_name": "HBoxModel",
      "state": {
       "children": [
        "IPY_MODEL_38bb7d4e78c34ae8b0d17156dee20c12",
        "IPY_MODEL_45d5a1a36b1544feae2a86b15a6ac10e"
       ],
       "layout": "IPY_MODEL_7e2af6ab5a9b4e9da0a39aca99ce109c"
      }
     },
     "8a3da74ec7ca4d8d8241db8bb4c0c26b": {
      "model_module": "@jupyter-widgets/base",
      "model_module_version": "1.1.0",
      "model_name": "LayoutModel",
      "state": {}
     },
     "8a46538bbbfe404e886d72d7fdce77ee": {
      "model_module": "@jupyter-widgets/controls",
      "model_module_version": "1.4.0",
      "model_name": "ProgressStyleModel",
      "state": {
       "description_width": ""
      }
     },
     "8a873c2b1a074340834bdee10ca0e333": {
      "model_module": "@jupyter-widgets/controls",
      "model_module_version": "1.4.0",
      "model_name": "HTMLModel",
      "state": {
       "layout": "IPY_MODEL_fdf5209d5c1643fdb9360ac03fea859c",
       "style": "IPY_MODEL_32b7d30079ac4060ba81cf3eff6507c0",
       "value": "100% 1000/1000 [00:00&lt;00:00, 8907.98it/s]"
      }
     },
     "8ae5dd25ee8d4e18b1c236ce71438aea": {
      "model_module": "@jupyter-widgets/controls",
      "model_module_version": "1.4.0",
      "model_name": "DescriptionStyleModel",
      "state": {
       "description_width": ""
      }
     },
     "8b460c2a966a4a4c988d71421bcb7650": {
      "model_module": "@jupyter-widgets/controls",
      "model_module_version": "1.4.0",
      "model_name": "HTMLModel",
      "state": {
       "layout": "IPY_MODEL_8c672b8cf21343869fb66ca0863d8a91",
       "style": "IPY_MODEL_2567ca5a96d44ab5bb28c430562ad166",
       "value": "100% 100/100 [00:00&lt;00:00, 3672.74it/s]"
      }
     },
     "8be0dfbe85ae412bab8043fb0ce7ca29": {
      "model_module": "@jupyter-widgets/base",
      "model_module_version": "1.1.0",
      "model_name": "LayoutModel",
      "state": {}
     },
     "8bffcab48ed2474bbe16ad53c0d51694": {
      "model_module": "@jupyter-widgets/base",
      "model_module_version": "1.1.0",
      "model_name": "LayoutModel",
      "state": {}
     },
     "8c321853d11347818f9cc5e57464c58e": {
      "model_module": "@jupyter-widgets/controls",
      "model_module_version": "1.4.0",
      "model_name": "HTMLModel",
      "state": {
       "layout": "IPY_MODEL_bb47b549a4204b59bba8a30111e37e6a",
       "style": "IPY_MODEL_e208ecc042d149d6a0c8230a976c4ca1",
       "value": "100% 100/100 [00:00&lt;00:00, 3986.15it/s]"
      }
     },
     "8c672b8cf21343869fb66ca0863d8a91": {
      "model_module": "@jupyter-widgets/base",
      "model_module_version": "1.1.0",
      "model_name": "LayoutModel",
      "state": {}
     },
     "8cf506302ed84c58a23bf172da8e3c56": {
      "model_module": "@jupyter-widgets/controls",
      "model_module_version": "1.4.0",
      "model_name": "IntProgressModel",
      "state": {
       "bar_style": "success",
       "layout": "IPY_MODEL_c7caad8c2a0c416c928dd40e1b97b495",
       "max": 1000,
       "style": "IPY_MODEL_e5d571d62250415dbd0356a068d28a83",
       "value": 1000
      }
     },
     "8d07f0d8c4ac435e8c1acbf49b267246": {
      "model_module": "@jupyter-widgets/controls",
      "model_module_version": "1.4.0",
      "model_name": "ProgressStyleModel",
      "state": {
       "description_width": ""
      }
     },
     "8dca7cdc15b94b7c87a69f0bdcc82a52": {
      "model_module": "@jupyter-widgets/controls",
      "model_module_version": "1.4.0",
      "model_name": "HBoxModel",
      "state": {
       "children": [
        "IPY_MODEL_02b6661806d744908b70482ae9d07a52",
        "IPY_MODEL_6444883cc41d40559dae30fce62efc6b"
       ],
       "layout": "IPY_MODEL_31a605c2741843d09e9922349a9959ba"
      }
     },
     "8e91bf39a72c4089a31d1e32f1235881": {
      "model_module": "@jupyter-widgets/base",
      "model_module_version": "1.1.0",
      "model_name": "LayoutModel",
      "state": {}
     },
     "8eb34f751be04cd1b53c8dbad01d7232": {
      "model_module": "@jupyter-widgets/controls",
      "model_module_version": "1.4.0",
      "model_name": "DescriptionStyleModel",
      "state": {
       "description_width": ""
      }
     },
     "8ecf9a7ee130464a9a0abae979c3cb18": {
      "model_module": "@jupyter-widgets/controls",
      "model_module_version": "1.4.0",
      "model_name": "IntProgressModel",
      "state": {
       "bar_style": "success",
       "layout": "IPY_MODEL_1e4d5e0ed0ca4e32bb81a8937cffd0e0",
       "max": 58900,
       "style": "IPY_MODEL_aafc3f752f0d4f6cb38f6e6a0e30ed91",
       "value": 58900
      }
     },
     "8ef71535651e4078a6c6b3158fa295a5": {
      "model_module": "@jupyter-widgets/controls",
      "model_module_version": "1.4.0",
      "model_name": "HBoxModel",
      "state": {
       "children": [
        "IPY_MODEL_8318304f9e4a4534b083e37d7cdf4fa2",
        "IPY_MODEL_2ea683fa0f1e4c7fbc360dea6a601dea"
       ],
       "layout": "IPY_MODEL_1bf96e2a982c4c91945a3b8862e0d55d"
      }
     },
     "8fa280550e3b4e159872431a02c556ff": {
      "model_module": "@jupyter-widgets/base",
      "model_module_version": "1.1.0",
      "model_name": "LayoutModel",
      "state": {}
     },
     "9033e8e245dc4b29a0aa988092abb93d": {
      "model_module": "@jupyter-widgets/controls",
      "model_module_version": "1.4.0",
      "model_name": "DescriptionStyleModel",
      "state": {
       "description_width": ""
      }
     },
     "9090f8b3ef93417f9663d88c6c1cbb4f": {
      "model_module": "@jupyter-widgets/controls",
      "model_module_version": "1.4.0",
      "model_name": "ProgressStyleModel",
      "state": {
       "description_width": ""
      }
     },
     "913c332e00954d00bdb38dc2e42c33ee": {
      "model_module": "@jupyter-widgets/controls",
      "model_module_version": "1.4.0",
      "model_name": "DescriptionStyleModel",
      "state": {
       "description_width": ""
      }
     },
     "913d64e1dfbb4b6581c85b8ba668f941": {
      "model_module": "@jupyter-widgets/controls",
      "model_module_version": "1.4.0",
      "model_name": "DescriptionStyleModel",
      "state": {
       "description_width": ""
      }
     },
     "91ba7003042c4fa6b94a61030aea1017": {
      "model_module": "@jupyter-widgets/controls",
      "model_module_version": "1.4.0",
      "model_name": "ProgressStyleModel",
      "state": {
       "description_width": ""
      }
     },
     "925d269d64204236bb026b41318b4128": {
      "model_module": "@jupyter-widgets/base",
      "model_module_version": "1.1.0",
      "model_name": "LayoutModel",
      "state": {}
     },
     "93a3e0f78340410bbb121e54c224974e": {
      "model_module": "@jupyter-widgets/base",
      "model_module_version": "1.1.0",
      "model_name": "LayoutModel",
      "state": {}
     },
     "958fb3236b3d4a96b6862530703e8ece": {
      "model_module": "@jupyter-widgets/controls",
      "model_module_version": "1.4.0",
      "model_name": "HTMLModel",
      "state": {
       "layout": "IPY_MODEL_b871dca826ac477caf11d9bbce1badf5",
       "style": "IPY_MODEL_99ae5ab7ac254adc96d9b2ee2db47157",
       "value": "100% 100/100 [00:00&lt;00:00, 1848.53it/s]"
      }
     },
     "959e000d24e2452f9d3ceb34d6e48a30": {
      "model_module": "@jupyter-widgets/base",
      "model_module_version": "1.1.0",
      "model_name": "LayoutModel",
      "state": {}
     },
     "95c83b1c98544f86905654a440b4d5e6": {
      "model_module": "@jupyter-widgets/controls",
      "model_module_version": "1.4.0",
      "model_name": "IntProgressModel",
      "state": {
       "bar_style": "success",
       "layout": "IPY_MODEL_925d269d64204236bb026b41318b4128",
       "max": 1000,
       "style": "IPY_MODEL_91ba7003042c4fa6b94a61030aea1017",
       "value": 1000
      }
     },
     "9646f6b8976140cdae80047c68e81a51": {
      "model_module": "@jupyter-widgets/base",
      "model_module_version": "1.1.0",
      "model_name": "LayoutModel",
      "state": {}
     },
     "96de946359f44ec5b997e9408c1a910c": {
      "model_module": "@jupyter-widgets/controls",
      "model_module_version": "1.4.0",
      "model_name": "IntProgressModel",
      "state": {
       "bar_style": "success",
       "layout": "IPY_MODEL_cd7f27067c3c4819aa0c35ee5530c1b3",
       "max": 58900,
       "style": "IPY_MODEL_47703ae4ea794c06a6b09de101e7a554",
       "value": 58900
      }
     },
     "9742ba78b36e421f86554d8c9aa7d501": {
      "model_module": "@jupyter-widgets/base",
      "model_module_version": "1.1.0",
      "model_name": "LayoutModel",
      "state": {}
     },
     "986317892d104b7588e0c704159a78a2": {
      "model_module": "@jupyter-widgets/base",
      "model_module_version": "1.1.0",
      "model_name": "LayoutModel",
      "state": {}
     },
     "989ed37de12e44918413a519a0328b38": {
      "model_module": "@jupyter-widgets/base",
      "model_module_version": "1.1.0",
      "model_name": "LayoutModel",
      "state": {}
     },
     "98b8994e2e7b452ea85a632ebf440307": {
      "model_module": "@jupyter-widgets/base",
      "model_module_version": "1.1.0",
      "model_name": "LayoutModel",
      "state": {}
     },
     "99ae5ab7ac254adc96d9b2ee2db47157": {
      "model_module": "@jupyter-widgets/controls",
      "model_module_version": "1.4.0",
      "model_name": "DescriptionStyleModel",
      "state": {
       "description_width": ""
      }
     },
     "99c6758a123943378011288ca1e8abc8": {
      "model_module": "@jupyter-widgets/controls",
      "model_module_version": "1.4.0",
      "model_name": "ProgressStyleModel",
      "state": {
       "description_width": ""
      }
     },
     "9bebc8c06edd49c2a5e8d5036b31edc5": {
      "model_module": "@jupyter-widgets/controls",
      "model_module_version": "1.4.0",
      "model_name": "HTMLModel",
      "state": {
       "layout": "IPY_MODEL_84ebbf58980649fe95e8c5ba49662f34",
       "style": "IPY_MODEL_38f9d76a4a764705a89dff828e2071b7",
       "value": "100% 58900/58900 [00:08&lt;00:00, 6874.88it/s]"
      }
     },
     "9bf98762af4d4b74a67707abbc23fb5a": {
      "model_module": "@jupyter-widgets/controls",
      "model_module_version": "1.4.0",
      "model_name": "IntProgressModel",
      "state": {
       "bar_style": "success",
       "layout": "IPY_MODEL_7a3596f628014e16b436da6beffb35cd",
       "style": "IPY_MODEL_3f2fc9689eb242289260f7ac0ea73500",
       "value": 100
      }
     },
     "9c2c65cdc3644e1798a5a28478cd840f": {
      "model_module": "@jupyter-widgets/base",
      "model_module_version": "1.1.0",
      "model_name": "LayoutModel",
      "state": {}
     },
     "9c9498bef52c486bae4d342f5c481479": {
      "model_module": "@jupyter-widgets/controls",
      "model_module_version": "1.4.0",
      "model_name": "HTMLModel",
      "state": {
       "layout": "IPY_MODEL_8fa280550e3b4e159872431a02c556ff",
       "style": "IPY_MODEL_05c7520e2e1c4993ab95522f69bfba43",
       "value": "100% 1000/1000 [00:00&lt;00:00, 8360.55it/s]"
      }
     },
     "9cffa9c68b5e45b1950a44df0282b34b": {
      "model_module": "@jupyter-widgets/base",
      "model_module_version": "1.1.0",
      "model_name": "LayoutModel",
      "state": {}
     },
     "9d94eaddaf804adeabccf34ac76c374e": {
      "model_module": "@jupyter-widgets/controls",
      "model_module_version": "1.4.0",
      "model_name": "ProgressStyleModel",
      "state": {
       "description_width": ""
      }
     },
     "9dcac38c859141fabad267f847340801": {
      "model_module": "@jupyter-widgets/controls",
      "model_module_version": "1.4.0",
      "model_name": "IntProgressModel",
      "state": {
       "bar_style": "success",
       "layout": "IPY_MODEL_9646f6b8976140cdae80047c68e81a51",
       "style": "IPY_MODEL_8034d77916dc434190bc2fe8ded8bc0e",
       "value": 100
      }
     },
     "9dd14fd671af4abaac53d0b547a58d35": {
      "model_module": "@jupyter-widgets/controls",
      "model_module_version": "1.4.0",
      "model_name": "DescriptionStyleModel",
      "state": {
       "description_width": ""
      }
     },
     "9e056c95e5c34bfa9a199585ba25344e": {
      "model_module": "@jupyter-widgets/controls",
      "model_module_version": "1.4.0",
      "model_name": "IntProgressModel",
      "state": {
       "bar_style": "success",
       "layout": "IPY_MODEL_3ab98643c98844f8a475b0b9bbe67bf2",
       "max": 1000,
       "style": "IPY_MODEL_1d8dfc53571846fea391fdb8db8838ac",
       "value": 1000
      }
     },
     "9e80c7a233b946a39f1fd03c9ea79176": {
      "model_module": "@jupyter-widgets/base",
      "model_module_version": "1.1.0",
      "model_name": "LayoutModel",
      "state": {}
     },
     "9f09cd3441ae4a38b589fd24bee4bbd0": {
      "model_module": "@jupyter-widgets/base",
      "model_module_version": "1.1.0",
      "model_name": "LayoutModel",
      "state": {}
     },
     "9f90147e990443e0be6f4e1b0099bfd6": {
      "model_module": "@jupyter-widgets/base",
      "model_module_version": "1.1.0",
      "model_name": "LayoutModel",
      "state": {}
     },
     "9fccb05f238e45aa8520a25becb3110d": {
      "model_module": "@jupyter-widgets/controls",
      "model_module_version": "1.4.0",
      "model_name": "DescriptionStyleModel",
      "state": {
       "description_width": ""
      }
     },
     "a057621b0f2742b985cdd29da4068aa4": {
      "model_module": "@jupyter-widgets/controls",
      "model_module_version": "1.4.0",
      "model_name": "IntProgressModel",
      "state": {
       "bar_style": "success",
       "layout": "IPY_MODEL_e9961155fed64861b320ee28481bca6a",
       "max": 58900,
       "style": "IPY_MODEL_4d3f73fd597345869dd15c370fa47444",
       "value": 58900
      }
     },
     "a0a4fdb2792e4f3aa142a5c3c90f678e": {
      "model_module": "@jupyter-widgets/base",
      "model_module_version": "1.1.0",
      "model_name": "LayoutModel",
      "state": {}
     },
     "a12a6882a9cc4d82a0ffb39b04643d04": {
      "model_module": "@jupyter-widgets/controls",
      "model_module_version": "1.4.0",
      "model_name": "DescriptionStyleModel",
      "state": {
       "description_width": ""
      }
     },
     "a23932e5faba40c29982aec6e26a6b21": {
      "model_module": "@jupyter-widgets/controls",
      "model_module_version": "1.4.0",
      "model_name": "HBoxModel",
      "state": {
       "children": [
        "IPY_MODEL_8cf506302ed84c58a23bf172da8e3c56",
        "IPY_MODEL_84aa11a89067477da9ad329a5bf70573"
       ],
       "layout": "IPY_MODEL_49fc5edd15c245e78d6221f2d8009558"
      }
     },
     "a2db270dffed4e11b409ec381f5a0746": {
      "model_module": "@jupyter-widgets/controls",
      "model_module_version": "1.4.0",
      "model_name": "DescriptionStyleModel",
      "state": {
       "description_width": ""
      }
     },
     "a30f96b8cb94487e9efc2cf586b29af6": {
      "model_module": "@jupyter-widgets/base",
      "model_module_version": "1.1.0",
      "model_name": "LayoutModel",
      "state": {}
     },
     "a336b810b04d4aca92e1a71d90fc6c06": {
      "model_module": "@jupyter-widgets/controls",
      "model_module_version": "1.4.0",
      "model_name": "HBoxModel",
      "state": {
       "children": [
        "IPY_MODEL_adb7e2563be5407ab2457ebc7b4f90dc",
        "IPY_MODEL_34471b6b19fb4b1e937dab81fcc60459"
       ],
       "layout": "IPY_MODEL_f6444aaf701145a39c5249dcb2996b5a"
      }
     },
     "a3dfc18224464d468dccdbe634a72f14": {
      "model_module": "@jupyter-widgets/controls",
      "model_module_version": "1.4.0",
      "model_name": "ProgressStyleModel",
      "state": {
       "description_width": ""
      }
     },
     "a4055f5699e543a6b16eb5fb6406bf6d": {
      "model_module": "@jupyter-widgets/base",
      "model_module_version": "1.1.0",
      "model_name": "LayoutModel",
      "state": {}
     },
     "a4526c8eccc44eadae136c1a98f422bd": {
      "model_module": "@jupyter-widgets/base",
      "model_module_version": "1.1.0",
      "model_name": "LayoutModel",
      "state": {}
     },
     "a491a30f49f54c56992829a21dd80725": {
      "model_module": "@jupyter-widgets/controls",
      "model_module_version": "1.4.0",
      "model_name": "IntProgressModel",
      "state": {
       "bar_style": "success",
       "layout": "IPY_MODEL_215d15466b884710ae1325b7570a43dd",
       "max": 1000,
       "style": "IPY_MODEL_b5aaa608252a4c93a7659a36857edb0e",
       "value": 1000
      }
     },
     "a4e60e92fd1647f6b88a6dc84e12a3d7": {
      "model_module": "@jupyter-widgets/base",
      "model_module_version": "1.1.0",
      "model_name": "LayoutModel",
      "state": {}
     },
     "a5118f9a80b64e4ab092890781b842cf": {
      "model_module": "@jupyter-widgets/base",
      "model_module_version": "1.1.0",
      "model_name": "LayoutModel",
      "state": {}
     },
     "a55cb2e12bf04d30808de68a8fa17dfe": {
      "model_module": "@jupyter-widgets/base",
      "model_module_version": "1.1.0",
      "model_name": "LayoutModel",
      "state": {}
     },
     "a57e54ec0b69401e845bf3d27cbcbfee": {
      "model_module": "@jupyter-widgets/controls",
      "model_module_version": "1.4.0",
      "model_name": "ProgressStyleModel",
      "state": {
       "description_width": ""
      }
     },
     "a60a30c2823344d6b6708c72c7b1ccf8": {
      "model_module": "@jupyter-widgets/controls",
      "model_module_version": "1.4.0",
      "model_name": "ProgressStyleModel",
      "state": {
       "description_width": ""
      }
     },
     "a6ef6672f23f48c7a5cd2fb4e10ee841": {
      "model_module": "@jupyter-widgets/base",
      "model_module_version": "1.1.0",
      "model_name": "LayoutModel",
      "state": {}
     },
     "a7119ae0dcae49e4953dfd47f510aaff": {
      "model_module": "@jupyter-widgets/controls",
      "model_module_version": "1.4.0",
      "model_name": "HBoxModel",
      "state": {
       "children": [
        "IPY_MODEL_4ad1f70200194c12bffef510df33e543",
        "IPY_MODEL_496a73bf78154fb69a7d3dd068c2a1d5"
       ],
       "layout": "IPY_MODEL_989ed37de12e44918413a519a0328b38"
      }
     },
     "a78b65800c364e6db6799a72681a693a": {
      "model_module": "@jupyter-widgets/controls",
      "model_module_version": "1.4.0",
      "model_name": "HBoxModel",
      "state": {
       "children": [
        "IPY_MODEL_95c83b1c98544f86905654a440b4d5e6",
        "IPY_MODEL_48ec9ba7fb434ccf88285c307303d562"
       ],
       "layout": "IPY_MODEL_139d47b133884d5a8171735faa388354"
      }
     },
     "a88d0b699bca4ef0bf868145b6a6cdd3": {
      "model_module": "@jupyter-widgets/controls",
      "model_module_version": "1.4.0",
      "model_name": "DescriptionStyleModel",
      "state": {
       "description_width": ""
      }
     },
     "a8e3776f61634f5fa41720f73c1aa9bd": {
      "model_module": "@jupyter-widgets/controls",
      "model_module_version": "1.4.0",
      "model_name": "HBoxModel",
      "state": {
       "children": [
        "IPY_MODEL_c8bb8d25a1884579b6461beffd75a795",
        "IPY_MODEL_010041eabcb94c1db4150590b88c9de6"
       ],
       "layout": "IPY_MODEL_b356f6b352164fe7872ca63195915847"
      }
     },
     "a8f75b8d2961451e8d41bffeba7515d7": {
      "model_module": "@jupyter-widgets/controls",
      "model_module_version": "1.4.0",
      "model_name": "DescriptionStyleModel",
      "state": {
       "description_width": ""
      }
     },
     "a90eb9c75676461dbf330e959aa613b1": {
      "model_module": "@jupyter-widgets/controls",
      "model_module_version": "1.4.0",
      "model_name": "HBoxModel",
      "state": {
       "children": [
        "IPY_MODEL_a491a30f49f54c56992829a21dd80725",
        "IPY_MODEL_2d3bbd5d25dd48548389b9168f26af3c"
       ],
       "layout": "IPY_MODEL_03c84b2ad4024b629c23a3af91b4bdbc"
      }
     },
     "aaac77e38e454d2ca5ec59ee9ae2913d": {
      "model_module": "@jupyter-widgets/controls",
      "model_module_version": "1.4.0",
      "model_name": "IntProgressModel",
      "state": {
       "bar_style": "success",
       "layout": "IPY_MODEL_d8dbe5bf6cbb464fa601b9d74fab9405",
       "style": "IPY_MODEL_f195b4203c004389a77f3d08d6d397ce",
       "value": 100
      }
     },
     "aac24ea837074c52b05970d51c241c3f": {
      "model_module": "@jupyter-widgets/controls",
      "model_module_version": "1.4.0",
      "model_name": "DescriptionStyleModel",
      "state": {
       "description_width": ""
      }
     },
     "aafc3f752f0d4f6cb38f6e6a0e30ed91": {
      "model_module": "@jupyter-widgets/controls",
      "model_module_version": "1.4.0",
      "model_name": "ProgressStyleModel",
      "state": {
       "description_width": ""
      }
     },
     "ab5e17057c61460ebf68e2fb0770247a": {
      "model_module": "@jupyter-widgets/controls",
      "model_module_version": "1.4.0",
      "model_name": "HTMLModel",
      "state": {
       "layout": "IPY_MODEL_045c6cdf002e4898bb51344f8986e039",
       "style": "IPY_MODEL_a2db270dffed4e11b409ec381f5a0746",
       "value": "100% 1000/1000 [00:00&lt;00:00, 8165.96it/s]"
      }
     },
     "ab717360c6b14a4b88e362112fc92bcb": {
      "model_module": "@jupyter-widgets/controls",
      "model_module_version": "1.4.0",
      "model_name": "DescriptionStyleModel",
      "state": {
       "description_width": ""
      }
     },
     "ac6951b859b2479e9e7b2d4ad9fcc497": {
      "model_module": "@jupyter-widgets/base",
      "model_module_version": "1.1.0",
      "model_name": "LayoutModel",
      "state": {}
     },
     "ad323dc083524968a3b6816365d3524f": {
      "model_module": "@jupyter-widgets/controls",
      "model_module_version": "1.4.0",
      "model_name": "ProgressStyleModel",
      "state": {
       "description_width": ""
      }
     },
     "adb7e2563be5407ab2457ebc7b4f90dc": {
      "model_module": "@jupyter-widgets/controls",
      "model_module_version": "1.4.0",
      "model_name": "IntProgressModel",
      "state": {
       "bar_style": "success",
       "layout": "IPY_MODEL_e792d4fd299944febe1e0dc9c97e1a09",
       "max": 58900,
       "style": "IPY_MODEL_b2a0fb4fe6244da7a8d1510a5b0c90d0",
       "value": 58900
      }
     },
     "add98b53e7a04346b0d333e9f3a1944e": {
      "model_module": "@jupyter-widgets/base",
      "model_module_version": "1.1.0",
      "model_name": "LayoutModel",
      "state": {}
     },
     "aded1c109fa34c2684620b36f123ba7a": {
      "model_module": "@jupyter-widgets/controls",
      "model_module_version": "1.4.0",
      "model_name": "HTMLModel",
      "state": {
       "layout": "IPY_MODEL_c4cbf69be9f74eb4bc5b21b412a3969f",
       "style": "IPY_MODEL_9fccb05f238e45aa8520a25becb3110d",
       "value": "100% 100/100 [00:00&lt;00:00, 3607.79it/s]"
      }
     },
     "ae22729b87014e69bab8e44f57b842f4": {
      "model_module": "@jupyter-widgets/controls",
      "model_module_version": "1.4.0",
      "model_name": "IntProgressModel",
      "state": {
       "bar_style": "success",
       "layout": "IPY_MODEL_22f4d1857ca1412e85a2daecd6be0f0e",
       "style": "IPY_MODEL_48caddb536c848ff8fdba5548e3f03c2",
       "value": 100
      }
     },
     "ae4ccb23819b458ab919c89a667588d9": {
      "model_module": "@jupyter-widgets/controls",
      "model_module_version": "1.4.0",
      "model_name": "HTMLModel",
      "state": {
       "layout": "IPY_MODEL_c9c598a4ec604f53b947a448e43632eb",
       "style": "IPY_MODEL_239ab6875172479097e27ed1c373d782",
       "value": "100% 1000/1000 [03:37&lt;00:00,  4.84it/s]"
      }
     },
     "af6e75ef78b44291bcae282fa3472989": {
      "model_module": "@jupyter-widgets/base",
      "model_module_version": "1.1.0",
      "model_name": "LayoutModel",
      "state": {}
     },
     "af7f278dbc99499f82f0e86f5890d95d": {
      "model_module": "@jupyter-widgets/controls",
      "model_module_version": "1.4.0",
      "model_name": "IntProgressModel",
      "state": {
       "bar_style": "success",
       "layout": "IPY_MODEL_36c59f971bfd46a2823154415921e82d",
       "style": "IPY_MODEL_4b4e1cc71cf149688ec32981843cec8e",
       "value": 100
      }
     },
     "b06f6496d0594eaf94b7f33be29dccc0": {
      "model_module": "@jupyter-widgets/base",
      "model_module_version": "1.1.0",
      "model_name": "LayoutModel",
      "state": {}
     },
     "b0c41af6095340b0b9c324591ae10e38": {
      "model_module": "@jupyter-widgets/controls",
      "model_module_version": "1.4.0",
      "model_name": "ProgressStyleModel",
      "state": {
       "description_width": ""
      }
     },
     "b1299e9665994f498d8f6cd91ca03c2d": {
      "model_module": "@jupyter-widgets/controls",
      "model_module_version": "1.4.0",
      "model_name": "IntProgressModel",
      "state": {
       "bar_style": "success",
       "layout": "IPY_MODEL_8300bf21064d4ace892a1a0a78edddaf",
       "max": 1000,
       "style": "IPY_MODEL_2fc0106310284e1cb164d9c03cb62770",
       "value": 1000
      }
     },
     "b12a13cb26ae4437ad8ed56dbde2bcf7": {
      "model_module": "@jupyter-widgets/controls",
      "model_module_version": "1.4.0",
      "model_name": "ProgressStyleModel",
      "state": {
       "description_width": ""
      }
     },
     "b1a3bc64cf2e4dc6bf96fab0558b33e4": {
      "model_module": "@jupyter-widgets/controls",
      "model_module_version": "1.4.0",
      "model_name": "HTMLModel",
      "state": {
       "layout": "IPY_MODEL_e028a98e395e401c97adde912cc9474f",
       "style": "IPY_MODEL_09e6871f817f499da2c7220e812c358d",
       "value": "100% 1000/1000 [00:00&lt;00:00, 6124.39it/s]"
      }
     },
     "b1edf0273600450fb90fa07b009ea991": {
      "model_module": "@jupyter-widgets/controls",
      "model_module_version": "1.4.0",
      "model_name": "IntProgressModel",
      "state": {
       "bar_style": "success",
       "layout": "IPY_MODEL_c79673565d1d4caeb5c3460a348348ce",
       "style": "IPY_MODEL_b12a13cb26ae4437ad8ed56dbde2bcf7",
       "value": 100
      }
     },
     "b292c97c115342af81c2f6bb52498a75": {
      "model_module": "@jupyter-widgets/base",
      "model_module_version": "1.1.0",
      "model_name": "LayoutModel",
      "state": {}
     },
     "b2a0fb4fe6244da7a8d1510a5b0c90d0": {
      "model_module": "@jupyter-widgets/controls",
      "model_module_version": "1.4.0",
      "model_name": "ProgressStyleModel",
      "state": {
       "description_width": ""
      }
     },
     "b2a653b4805f4566942b18d4eb019cb6": {
      "model_module": "@jupyter-widgets/controls",
      "model_module_version": "1.4.0",
      "model_name": "HBoxModel",
      "state": {
       "children": [
        "IPY_MODEL_14d2f30e187640d99ea176e8c1911b80",
        "IPY_MODEL_b48ae3e5570646339d0e352338afe628"
       ],
       "layout": "IPY_MODEL_5b51cb3defff4f5ba545d481636ffe64"
      }
     },
     "b2ecd8b7235f4923aae81724a992ed78": {
      "model_module": "@jupyter-widgets/controls",
      "model_module_version": "1.4.0",
      "model_name": "HTMLModel",
      "state": {
       "layout": "IPY_MODEL_a4055f5699e543a6b16eb5fb6406bf6d",
       "style": "IPY_MODEL_cda8fe77492d4fcf9de06fbbeb95cc9f",
       "value": "100% 58900/58900 [01:19&lt;00:00, 745.36it/s]"
      }
     },
     "b307e7e419da4d01a8a117b8e04f97d7": {
      "model_module": "@jupyter-widgets/controls",
      "model_module_version": "1.4.0",
      "model_name": "HTMLModel",
      "state": {
       "layout": "IPY_MODEL_053279ec4b474d2f886aaec84d17f543",
       "style": "IPY_MODEL_45c1c3d67af943a7bf136740f705886e",
       "value": "100% 58900/58900 [01:17&lt;00:00, 761.23it/s]"
      }
     },
     "b351e95df98847a68710f6b5246ef97a": {
      "model_module": "@jupyter-widgets/controls",
      "model_module_version": "1.4.0",
      "model_name": "HBoxModel",
      "state": {
       "children": [
        "IPY_MODEL_8ecf9a7ee130464a9a0abae979c3cb18",
        "IPY_MODEL_43ca0f6464844891af640f3c7137bda6"
       ],
       "layout": "IPY_MODEL_1408dffebb6d4738811363b0f2fa1a82"
      }
     },
     "b356f6b352164fe7872ca63195915847": {
      "model_module": "@jupyter-widgets/base",
      "model_module_version": "1.1.0",
      "model_name": "LayoutModel",
      "state": {}
     },
     "b389834fabc842f89dbdbdf9bfc31e98": {
      "model_module": "@jupyter-widgets/base",
      "model_module_version": "1.1.0",
      "model_name": "LayoutModel",
      "state": {}
     },
     "b48ae3e5570646339d0e352338afe628": {
      "model_module": "@jupyter-widgets/controls",
      "model_module_version": "1.4.0",
      "model_name": "HTMLModel",
      "state": {
       "layout": "IPY_MODEL_64a8f03030f443b79076c4f58bc0d40c",
       "style": "IPY_MODEL_f5856eea857b4779acc9a9b10f87a9f1",
       "value": "100% 100/100 [00:18&lt;00:00,  4.65it/s]"
      }
     },
     "b4eecabacaaf4b4c878468930163462b": {
      "model_module": "@jupyter-widgets/controls",
      "model_module_version": "1.4.0",
      "model_name": "HBoxModel",
      "state": {
       "children": [
        "IPY_MODEL_ae22729b87014e69bab8e44f57b842f4",
        "IPY_MODEL_610d367b80fd40af86265f530d6c0f0b"
       ],
       "layout": "IPY_MODEL_bdb1e0c6b0254560857b9f42849c6236"
      }
     },
     "b5aaa608252a4c93a7659a36857edb0e": {
      "model_module": "@jupyter-widgets/controls",
      "model_module_version": "1.4.0",
      "model_name": "ProgressStyleModel",
      "state": {
       "description_width": ""
      }
     },
     "b5becfa3f1fb4c0d922f4eea3ba3adbc": {
      "model_module": "@jupyter-widgets/controls",
      "model_module_version": "1.4.0",
      "model_name": "HTMLModel",
      "state": {
       "layout": "IPY_MODEL_e7faa5850aba4cc098f6b86fc782af9a",
       "style": "IPY_MODEL_00b13c9667d5429c9d1a340f68f4b311",
       "value": "100% 100/100 [00:32&lt;00:00,  3.24it/s]"
      }
     },
     "b5d652944b984c8789b14ed4bc690542": {
      "model_module": "@jupyter-widgets/controls",
      "model_module_version": "1.4.0",
      "model_name": "DescriptionStyleModel",
      "state": {
       "description_width": ""
      }
     },
     "b65be0a249b242fc8903b7cbfa56c3d8": {
      "model_module": "@jupyter-widgets/controls",
      "model_module_version": "1.4.0",
      "model_name": "IntProgressModel",
      "state": {
       "bar_style": "success",
       "layout": "IPY_MODEL_bb0f6534886342208074db3b9c2e11ed",
       "max": 1000,
       "style": "IPY_MODEL_e77b2a6f6a1445ea8588d1f0131bb758",
       "value": 1000
      }
     },
     "b7a99864db6a40aa8829cafb5e149729": {
      "model_module": "@jupyter-widgets/controls",
      "model_module_version": "1.4.0",
      "model_name": "HBoxModel",
      "state": {
       "children": [
        "IPY_MODEL_4bba6bd8bbed4fd1a7e9b3f95a75ff3f",
        "IPY_MODEL_8c321853d11347818f9cc5e57464c58e"
       ],
       "layout": "IPY_MODEL_5e96588924de47aab7fdcda7d646220c"
      }
     },
     "b871dca826ac477caf11d9bbce1badf5": {
      "model_module": "@jupyter-widgets/base",
      "model_module_version": "1.1.0",
      "model_name": "LayoutModel",
      "state": {}
     },
     "b87d38a6938d48cf87b5802d5a577191": {
      "model_module": "@jupyter-widgets/base",
      "model_module_version": "1.1.0",
      "model_name": "LayoutModel",
      "state": {}
     },
     "b8d14ff60b8846b9b90d7099ca11ef5b": {
      "model_module": "@jupyter-widgets/base",
      "model_module_version": "1.1.0",
      "model_name": "LayoutModel",
      "state": {}
     },
     "b90e9a9633774decb6969f325d2c28c3": {
      "model_module": "@jupyter-widgets/controls",
      "model_module_version": "1.4.0",
      "model_name": "DescriptionStyleModel",
      "state": {
       "description_width": ""
      }
     },
     "b9d0ab42c8ea4a74b3033825c72c7453": {
      "model_module": "@jupyter-widgets/base",
      "model_module_version": "1.1.0",
      "model_name": "LayoutModel",
      "state": {}
     },
     "ba393f72067b4a45b52a6bc7cede4c24": {
      "model_module": "@jupyter-widgets/controls",
      "model_module_version": "1.4.0",
      "model_name": "ProgressStyleModel",
      "state": {
       "description_width": ""
      }
     },
     "bad843f5cc334fb7bb4112f90a06c96d": {
      "model_module": "@jupyter-widgets/base",
      "model_module_version": "1.1.0",
      "model_name": "LayoutModel",
      "state": {}
     },
     "bb0f6534886342208074db3b9c2e11ed": {
      "model_module": "@jupyter-widgets/base",
      "model_module_version": "1.1.0",
      "model_name": "LayoutModel",
      "state": {}
     },
     "bb47b549a4204b59bba8a30111e37e6a": {
      "model_module": "@jupyter-widgets/base",
      "model_module_version": "1.1.0",
      "model_name": "LayoutModel",
      "state": {}
     },
     "bce5d44f07074b56bff54536bf4bee62": {
      "model_module": "@jupyter-widgets/controls",
      "model_module_version": "1.4.0",
      "model_name": "DescriptionStyleModel",
      "state": {
       "description_width": ""
      }
     },
     "bcefd4bd8bd2473ea380f0abf9ef7cd6": {
      "model_module": "@jupyter-widgets/controls",
      "model_module_version": "1.4.0",
      "model_name": "IntProgressModel",
      "state": {
       "bar_style": "success",
       "layout": "IPY_MODEL_b292c97c115342af81c2f6bb52498a75",
       "max": 1000,
       "style": "IPY_MODEL_f5c46b4a0ddc45468e83f66f852807b8",
       "value": 1000
      }
     },
     "bd9441d6353f46e99ec103de9d5e14ff": {
      "model_module": "@jupyter-widgets/base",
      "model_module_version": "1.1.0",
      "model_name": "LayoutModel",
      "state": {}
     },
     "bdb1e0c6b0254560857b9f42849c6236": {
      "model_module": "@jupyter-widgets/base",
      "model_module_version": "1.1.0",
      "model_name": "LayoutModel",
      "state": {}
     },
     "be0cf241d1784fcea032f94194033710": {
      "model_module": "@jupyter-widgets/controls",
      "model_module_version": "1.4.0",
      "model_name": "IntProgressModel",
      "state": {
       "bar_style": "success",
       "layout": "IPY_MODEL_b06f6496d0594eaf94b7f33be29dccc0",
       "style": "IPY_MODEL_1d4db86c6c5d41f5a62c73a58b76ad75",
       "value": 100
      }
     },
     "be39b989d7ba43fb81722f457431dcdc": {
      "model_module": "@jupyter-widgets/base",
      "model_module_version": "1.1.0",
      "model_name": "LayoutModel",
      "state": {}
     },
     "bf08c5afcd3d486ea27933bd2df80f1b": {
      "model_module": "@jupyter-widgets/controls",
      "model_module_version": "1.4.0",
      "model_name": "ProgressStyleModel",
      "state": {
       "description_width": ""
      }
     },
     "c01817dd58c1492db83accc972129056": {
      "model_module": "@jupyter-widgets/base",
      "model_module_version": "1.1.0",
      "model_name": "LayoutModel",
      "state": {}
     },
     "c0e523b8bd74436bb53fc3f42cc73271": {
      "model_module": "@jupyter-widgets/controls",
      "model_module_version": "1.4.0",
      "model_name": "HTMLModel",
      "state": {
       "layout": "IPY_MODEL_12487e1577dc4278b153db0b110a56ca",
       "style": "IPY_MODEL_7053a0fce14b43479a9789325e283cb5",
       "value": "100% 58900/58900 [01:49&lt;00:00, 536.05it/s]"
      }
     },
     "c151acf828c44ce0b54e1dfb839ee5b5": {
      "model_module": "@jupyter-widgets/controls",
      "model_module_version": "1.4.0",
      "model_name": "HBoxModel",
      "state": {
       "children": [
        "IPY_MODEL_550dba9fea6c45c6bec8ef3d7b72a1e2",
        "IPY_MODEL_e48415b52069425da4cf7d526541b40e"
       ],
       "layout": "IPY_MODEL_a0a4fdb2792e4f3aa142a5c3c90f678e"
      }
     },
     "c1b88bb71e784a9b8a20ca2b813f7cc1": {
      "model_module": "@jupyter-widgets/controls",
      "model_module_version": "1.4.0",
      "model_name": "ProgressStyleModel",
      "state": {
       "description_width": ""
      }
     },
     "c238915b91ef4e669f06033682baeba6": {
      "model_module": "@jupyter-widgets/controls",
      "model_module_version": "1.4.0",
      "model_name": "HBoxModel",
      "state": {
       "children": [
        "IPY_MODEL_c612e3b0f3c84d769a18c2419a2d485d",
        "IPY_MODEL_cace5645622443fba68732f76a43f54b"
       ],
       "layout": "IPY_MODEL_9742ba78b36e421f86554d8c9aa7d501"
      }
     },
     "c433f8569c394f8692f6e8f1c50e9488": {
      "model_module": "@jupyter-widgets/controls",
      "model_module_version": "1.4.0",
      "model_name": "IntProgressModel",
      "state": {
       "bar_style": "success",
       "layout": "IPY_MODEL_be39b989d7ba43fb81722f457431dcdc",
       "max": 1000,
       "style": "IPY_MODEL_031f3cd196104aa5861115c13cd737d7",
       "value": 1000
      }
     },
     "c4cbf69be9f74eb4bc5b21b412a3969f": {
      "model_module": "@jupyter-widgets/base",
      "model_module_version": "1.1.0",
      "model_name": "LayoutModel",
      "state": {}
     },
     "c4f257f2fccd4e0692c3a7fbea2c4c9d": {
      "model_module": "@jupyter-widgets/controls",
      "model_module_version": "1.4.0",
      "model_name": "HTMLModel",
      "state": {
       "layout": "IPY_MODEL_8bffcab48ed2474bbe16ad53c0d51694",
       "style": "IPY_MODEL_913c332e00954d00bdb38dc2e42c33ee",
       "value": "100% 1000/1000 [01:47&lt;00:00,  7.68it/s]"
      }
     },
     "c4f45714014b4fef9ca564fce0276a2d": {
      "model_module": "@jupyter-widgets/base",
      "model_module_version": "1.1.0",
      "model_name": "LayoutModel",
      "state": {}
     },
     "c570c1eab23c4d91a7cce774d971074e": {
      "model_module": "@jupyter-widgets/controls",
      "model_module_version": "1.4.0",
      "model_name": "HTMLModel",
      "state": {
       "layout": "IPY_MODEL_ac6951b859b2479e9e7b2d4ad9fcc497",
       "style": "IPY_MODEL_b90e9a9633774decb6969f325d2c28c3",
       "value": "100% 1000/1000 [03:37&lt;00:00,  3.57it/s]"
      }
     },
     "c612e3b0f3c84d769a18c2419a2d485d": {
      "model_module": "@jupyter-widgets/controls",
      "model_module_version": "1.4.0",
      "model_name": "IntProgressModel",
      "state": {
       "bar_style": "success",
       "layout": "IPY_MODEL_e7392086ff124e48b5c9f464255a733a",
       "max": 1000,
       "style": "IPY_MODEL_d0c876a2879f4e989e01bc566b1b3c4f",
       "value": 1000
      }
     },
     "c62f9920973c4a14a24dfd2e1d27f901": {
      "model_module": "@jupyter-widgets/controls",
      "model_module_version": "1.4.0",
      "model_name": "DescriptionStyleModel",
      "state": {
       "description_width": ""
      }
     },
     "c633f3acb79b4952a20d42a3730b5168": {
      "model_module": "@jupyter-widgets/controls",
      "model_module_version": "1.4.0",
      "model_name": "IntProgressModel",
      "state": {
       "bar_style": "success",
       "layout": "IPY_MODEL_08d437c04dae4e5dac0be7924962f737",
       "style": "IPY_MODEL_20d1f7f7ca1542db998362c40945b1da",
       "value": 100
      }
     },
     "c6d7f6a0927c4a2081328eecf704a005": {
      "model_module": "@jupyter-widgets/base",
      "model_module_version": "1.1.0",
      "model_name": "LayoutModel",
      "state": {}
     },
     "c72228a54d104b63afe110a302e0d9ae": {
      "model_module": "@jupyter-widgets/controls",
      "model_module_version": "1.4.0",
      "model_name": "IntProgressModel",
      "state": {
       "bar_style": "success",
       "layout": "IPY_MODEL_14140bf0a40e4ee6961d0e817154abd0",
       "style": "IPY_MODEL_16d93d4af9bd4f3a9e551ae758cd6af8",
       "value": 100
      }
     },
     "c75bec1cfa904de0814911939bba1662": {
      "model_module": "@jupyter-widgets/controls",
      "model_module_version": "1.4.0",
      "model_name": "DescriptionStyleModel",
      "state": {
       "description_width": ""
      }
     },
     "c77b2b485b214f4b8ca2ac8672a02e41": {
      "model_module": "@jupyter-widgets/controls",
      "model_module_version": "1.4.0",
      "model_name": "HBoxModel",
      "state": {
       "children": [
        "IPY_MODEL_4e9156eec2e04a75893d4dc5cad1953c",
        "IPY_MODEL_c0e523b8bd74436bb53fc3f42cc73271"
       ],
       "layout": "IPY_MODEL_52c5f4b6a5b749738ab0a37e8914d9a3"
      }
     },
     "c79673565d1d4caeb5c3460a348348ce": {
      "model_module": "@jupyter-widgets/base",
      "model_module_version": "1.1.0",
      "model_name": "LayoutModel",
      "state": {}
     },
     "c7caad8c2a0c416c928dd40e1b97b495": {
      "model_module": "@jupyter-widgets/base",
      "model_module_version": "1.1.0",
      "model_name": "LayoutModel",
      "state": {}
     },
     "c8bb8d25a1884579b6461beffd75a795": {
      "model_module": "@jupyter-widgets/controls",
      "model_module_version": "1.4.0",
      "model_name": "IntProgressModel",
      "state": {
       "bar_style": "success",
       "layout": "IPY_MODEL_b8d14ff60b8846b9b90d7099ca11ef5b",
       "max": 58900,
       "style": "IPY_MODEL_b0c41af6095340b0b9c324591ae10e38",
       "value": 58900
      }
     },
     "c8c4a25b351d444ba04d4c852d0e1df3": {
      "model_module": "@jupyter-widgets/controls",
      "model_module_version": "1.4.0",
      "model_name": "ProgressStyleModel",
      "state": {
       "description_width": ""
      }
     },
     "c9c598a4ec604f53b947a448e43632eb": {
      "model_module": "@jupyter-widgets/base",
      "model_module_version": "1.1.0",
      "model_name": "LayoutModel",
      "state": {}
     },
     "ca7c6ae7485c4c3b8ae041d5d760e200": {
      "model_module": "@jupyter-widgets/controls",
      "model_module_version": "1.4.0",
      "model_name": "DescriptionStyleModel",
      "state": {
       "description_width": ""
      }
     },
     "ca81fe5edb574740b4e8259eb5d03254": {
      "model_module": "@jupyter-widgets/base",
      "model_module_version": "1.1.0",
      "model_name": "LayoutModel",
      "state": {}
     },
     "cace5645622443fba68732f76a43f54b": {
      "model_module": "@jupyter-widgets/controls",
      "model_module_version": "1.4.0",
      "model_name": "HTMLModel",
      "state": {
       "layout": "IPY_MODEL_d70b784a527e4f23a15d604f972bd009",
       "style": "IPY_MODEL_70d76335a4e84e398713f508a8558e88",
       "value": "100% 1000/1000 [02:36&lt;00:00,  6.08it/s]"
      }
     },
     "cadadd3e268b4a35b3e3243e7d436bc4": {
      "model_module": "@jupyter-widgets/controls",
      "model_module_version": "1.4.0",
      "model_name": "DescriptionStyleModel",
      "state": {
       "description_width": ""
      }
     },
     "cbda8c4b8c7b42929590ef92695c336c": {
      "model_module": "@jupyter-widgets/controls",
      "model_module_version": "1.4.0",
      "model_name": "HTMLModel",
      "state": {
       "layout": "IPY_MODEL_ca81fe5edb574740b4e8259eb5d03254",
       "style": "IPY_MODEL_1bd9c35efcac4622acbbb85079e4abe4",
       "value": "100% 100/100 [00:00&lt;00:00, 3639.15it/s]"
      }
     },
     "cc1113236dc34b728a6ec64ee9d3f310": {
      "model_module": "@jupyter-widgets/controls",
      "model_module_version": "1.4.0",
      "model_name": "IntProgressModel",
      "state": {
       "bar_style": "success",
       "layout": "IPY_MODEL_4b7a4781de5b4c7ab39b8311dedf5e87",
       "max": 58900,
       "style": "IPY_MODEL_f7f622f533a0457895019ac01ed1f8cc",
       "value": 58900
      }
     },
     "cd7f27067c3c4819aa0c35ee5530c1b3": {
      "model_module": "@jupyter-widgets/base",
      "model_module_version": "1.1.0",
      "model_name": "LayoutModel",
      "state": {}
     },
     "cda8fe77492d4fcf9de06fbbeb95cc9f": {
      "model_module": "@jupyter-widgets/controls",
      "model_module_version": "1.4.0",
      "model_name": "DescriptionStyleModel",
      "state": {
       "description_width": ""
      }
     },
     "ce71e00ddbe04ddd8a4430a1b352af32": {
      "model_module": "@jupyter-widgets/base",
      "model_module_version": "1.1.0",
      "model_name": "LayoutModel",
      "state": {}
     },
     "ce76c1c6ed0447828cded6ce9253dc18": {
      "model_module": "@jupyter-widgets/controls",
      "model_module_version": "1.4.0",
      "model_name": "HTMLModel",
      "state": {
       "layout": "IPY_MODEL_54e9862f83224813b1d1ae73586163ad",
       "style": "IPY_MODEL_3262fb72658740d996db072e868da181",
       "value": "100% 100/100 [00:00&lt;00:00, 3670.55it/s]"
      }
     },
     "cfec2302be3c4da38b5f6c064fb01483": {
      "model_module": "@jupyter-widgets/controls",
      "model_module_version": "1.4.0",
      "model_name": "ProgressStyleModel",
      "state": {
       "description_width": ""
      }
     },
     "d0c876a2879f4e989e01bc566b1b3c4f": {
      "model_module": "@jupyter-widgets/controls",
      "model_module_version": "1.4.0",
      "model_name": "ProgressStyleModel",
      "state": {
       "description_width": ""
      }
     },
     "d1090445db8849c7911b3be84c677ae3": {
      "model_module": "@jupyter-widgets/controls",
      "model_module_version": "1.4.0",
      "model_name": "IntProgressModel",
      "state": {
       "bar_style": "success",
       "layout": "IPY_MODEL_189f0909190d42d09472b898554fdb25",
       "max": 1000,
       "style": "IPY_MODEL_18f329753dcf40c783a002a3098ceed4",
       "value": 1000
      }
     },
     "d14092846f954e5c900e2e81ebd14e69": {
      "model_module": "@jupyter-widgets/controls",
      "model_module_version": "1.4.0",
      "model_name": "HTMLModel",
      "state": {
       "layout": "IPY_MODEL_f8e14de7363c4ed5996de38d373ba628",
       "style": "IPY_MODEL_b5d652944b984c8789b14ed4bc690542",
       "value": "100% 1000/1000 [00:00&lt;00:00, 5948.17it/s]"
      }
     },
     "d1cfe11c71b7457bbab6774ab40d4cef": {
      "model_module": "@jupyter-widgets/base",
      "model_module_version": "1.1.0",
      "model_name": "LayoutModel",
      "state": {}
     },
     "d1eb7cc19e60440f8d20fa7b1f63ea5c": {
      "model_module": "@jupyter-widgets/controls",
      "model_module_version": "1.4.0",
      "model_name": "HBoxModel",
      "state": {
       "children": [
        "IPY_MODEL_e6c59a0e44b04b02854f86508d56b952",
        "IPY_MODEL_7037ac8ec8794e05913c53efb81f68c2"
       ],
       "layout": "IPY_MODEL_3383fb8233164fcf83645c24afda1814"
      }
     },
     "d36de4275a134a62ae93e5326002fa03": {
      "model_module": "@jupyter-widgets/base",
      "model_module_version": "1.1.0",
      "model_name": "LayoutModel",
      "state": {}
     },
     "d3d2689b21ab40079120f1080c53370c": {
      "model_module": "@jupyter-widgets/base",
      "model_module_version": "1.1.0",
      "model_name": "LayoutModel",
      "state": {}
     },
     "d3f4452a56fc48dda32ebd56c82a4138": {
      "model_module": "@jupyter-widgets/base",
      "model_module_version": "1.1.0",
      "model_name": "LayoutModel",
      "state": {}
     },
     "d4ba447b79a74ea19ed67545afa06112": {
      "model_module": "@jupyter-widgets/controls",
      "model_module_version": "1.4.0",
      "model_name": "IntProgressModel",
      "state": {
       "bar_style": "success",
       "layout": "IPY_MODEL_7a2d283270a54e86bcaab9bad45dfb36",
       "max": 1000,
       "style": "IPY_MODEL_f8374784447740a883a291d68cf59239",
       "value": 1000
      }
     },
     "d70b784a527e4f23a15d604f972bd009": {
      "model_module": "@jupyter-widgets/base",
      "model_module_version": "1.1.0",
      "model_name": "LayoutModel",
      "state": {}
     },
     "d77225d4f53b41a1bbda510a274da460": {
      "model_module": "@jupyter-widgets/controls",
      "model_module_version": "1.4.0",
      "model_name": "IntProgressModel",
      "state": {
       "bar_style": "success",
       "layout": "IPY_MODEL_e0db4ea89c2546ee97867a84f76ab12b",
       "style": "IPY_MODEL_11262a78817b48f09b669410abf4ffce",
       "value": 100
      }
     },
     "d8dbe5bf6cbb464fa601b9d74fab9405": {
      "model_module": "@jupyter-widgets/base",
      "model_module_version": "1.1.0",
      "model_name": "LayoutModel",
      "state": {}
     },
     "d97b878ebc614e2c9280e490bb0b20ee": {
      "model_module": "@jupyter-widgets/controls",
      "model_module_version": "1.4.0",
      "model_name": "ProgressStyleModel",
      "state": {
       "description_width": ""
      }
     },
     "db3271807ba04afbbd788ec2bef0e345": {
      "model_module": "@jupyter-widgets/controls",
      "model_module_version": "1.4.0",
      "model_name": "IntProgressModel",
      "state": {
       "bar_style": "success",
       "layout": "IPY_MODEL_261ec70f192a44bb8ae5b69d1fb7bcb6",
       "max": 58900,
       "style": "IPY_MODEL_9090f8b3ef93417f9663d88c6c1cbb4f",
       "value": 58900
      }
     },
     "dbd60006ba2a4a68ad9f653b3c0e4018": {
      "model_module": "@jupyter-widgets/base",
      "model_module_version": "1.1.0",
      "model_name": "LayoutModel",
      "state": {}
     },
     "dcb296de4551415fba3b45db68ca0785": {
      "model_module": "@jupyter-widgets/base",
      "model_module_version": "1.1.0",
      "model_name": "LayoutModel",
      "state": {}
     },
     "dd1def448a16411f8a656f91abe1503e": {
      "model_module": "@jupyter-widgets/base",
      "model_module_version": "1.1.0",
      "model_name": "LayoutModel",
      "state": {}
     },
     "dd7345c4bcdf49b583f32d41c7c24194": {
      "model_module": "@jupyter-widgets/controls",
      "model_module_version": "1.4.0",
      "model_name": "DescriptionStyleModel",
      "state": {
       "description_width": ""
      }
     },
     "dd88e126a5684151b160c114fb861839": {
      "model_module": "@jupyter-widgets/controls",
      "model_module_version": "1.4.0",
      "model_name": "HBoxModel",
      "state": {
       "children": [
        "IPY_MODEL_d1090445db8849c7911b3be84c677ae3",
        "IPY_MODEL_8a873c2b1a074340834bdee10ca0e333"
       ],
       "layout": "IPY_MODEL_c6d7f6a0927c4a2081328eecf704a005"
      }
     },
     "dede5044f252418ebd778c146bd53e80": {
      "model_module": "@jupyter-widgets/controls",
      "model_module_version": "1.4.0",
      "model_name": "ProgressStyleModel",
      "state": {
       "description_width": ""
      }
     },
     "deebfeb69ecc49d4b15008d48fd41259": {
      "model_module": "@jupyter-widgets/base",
      "model_module_version": "1.1.0",
      "model_name": "LayoutModel",
      "state": {}
     },
     "e028a98e395e401c97adde912cc9474f": {
      "model_module": "@jupyter-widgets/base",
      "model_module_version": "1.1.0",
      "model_name": "LayoutModel",
      "state": {}
     },
     "e0b862a30ecc4dcd9dce411c30c354b9": {
      "model_module": "@jupyter-widgets/controls",
      "model_module_version": "1.4.0",
      "model_name": "ProgressStyleModel",
      "state": {
       "description_width": ""
      }
     },
     "e0c71921638548acbbc21a74ac1b954b": {
      "model_module": "@jupyter-widgets/controls",
      "model_module_version": "1.4.0",
      "model_name": "ProgressStyleModel",
      "state": {
       "description_width": ""
      }
     },
     "e0db4ea89c2546ee97867a84f76ab12b": {
      "model_module": "@jupyter-widgets/base",
      "model_module_version": "1.1.0",
      "model_name": "LayoutModel",
      "state": {}
     },
     "e1c378212e9848338c3b3d95c5d7f7f1": {
      "model_module": "@jupyter-widgets/controls",
      "model_module_version": "1.4.0",
      "model_name": "HBoxModel",
      "state": {
       "children": [
        "IPY_MODEL_fe4d67e5c5bb447db953580948ad2dc0",
        "IPY_MODEL_d14092846f954e5c900e2e81ebd14e69"
       ],
       "layout": "IPY_MODEL_474c45ea28eb4ad5b0892a618f983ec5"
      }
     },
     "e1d6a303bf814bf3aaf73958d64f3ba3": {
      "model_module": "@jupyter-widgets/controls",
      "model_module_version": "1.4.0",
      "model_name": "HTMLModel",
      "state": {
       "layout": "IPY_MODEL_3a8145e866224d18876ea5b72db9bb1f",
       "style": "IPY_MODEL_206929c081234abf98cc3f7539318349",
       "value": "100% 100/100 [00:24&lt;00:00,  3.57it/s]"
      }
     },
     "e208ecc042d149d6a0c8230a976c4ca1": {
      "model_module": "@jupyter-widgets/controls",
      "model_module_version": "1.4.0",
      "model_name": "DescriptionStyleModel",
      "state": {
       "description_width": ""
      }
     },
     "e2bbd83fc3fb42f18e6d5bf61ca20111": {
      "model_module": "@jupyter-widgets/controls",
      "model_module_version": "1.4.0",
      "model_name": "HTMLModel",
      "state": {
       "layout": "IPY_MODEL_9f09cd3441ae4a38b589fd24bee4bbd0",
       "style": "IPY_MODEL_4a2804ab4a3744ab99e548a9c508d917",
       "value": "100% 1000/1000 [03:46&lt;00:00,  4.28it/s]"
      }
     },
     "e3a456e780d84bcdb8ff4d9629b9e1ee": {
      "model_module": "@jupyter-widgets/controls",
      "model_module_version": "1.4.0",
      "model_name": "IntProgressModel",
      "state": {
       "bar_style": "success",
       "layout": "IPY_MODEL_8be0dfbe85ae412bab8043fb0ce7ca29",
       "style": "IPY_MODEL_e0c71921638548acbbc21a74ac1b954b",
       "value": 100
      }
     },
     "e40f1f90b4b64cf28f4500415ff20c80": {
      "model_module": "@jupyter-widgets/controls",
      "model_module_version": "1.4.0",
      "model_name": "IntProgressModel",
      "state": {
       "bar_style": "success",
       "layout": "IPY_MODEL_1a459e79425a47ee8286f47777309b9d",
       "style": "IPY_MODEL_99c6758a123943378011288ca1e8abc8",
       "value": 100
      }
     },
     "e48415b52069425da4cf7d526541b40e": {
      "model_module": "@jupyter-widgets/controls",
      "model_module_version": "1.4.0",
      "model_name": "HTMLModel",
      "state": {
       "layout": "IPY_MODEL_6405b05035b74f00ac07f2c9fcc9ef5c",
       "style": "IPY_MODEL_72dfab293bf345328b782b98d539e774",
       "value": "  2% 19/1000 [00:15&lt;13:28,  1.21it/s]"
      }
     },
     "e4fd346e1a134c51be81e305e1891d1c": {
      "model_module": "@jupyter-widgets/controls",
      "model_module_version": "1.4.0",
      "model_name": "IntProgressModel",
      "state": {
       "bar_style": "success",
       "layout": "IPY_MODEL_4e716f5a9bff41b8a6f4da9a20d932b1",
       "max": 1000,
       "style": "IPY_MODEL_8a46538bbbfe404e886d72d7fdce77ee",
       "value": 1000
      }
     },
     "e52a9d6a9a774452a187a84adb0934c3": {
      "model_module": "@jupyter-widgets/controls",
      "model_module_version": "1.4.0",
      "model_name": "DescriptionStyleModel",
      "state": {
       "description_width": ""
      }
     },
     "e5a1b1ed48134a8ab4a9aac774ee5ce3": {
      "model_module": "@jupyter-widgets/base",
      "model_module_version": "1.1.0",
      "model_name": "LayoutModel",
      "state": {}
     },
     "e5d571d62250415dbd0356a068d28a83": {
      "model_module": "@jupyter-widgets/controls",
      "model_module_version": "1.4.0",
      "model_name": "ProgressStyleModel",
      "state": {
       "description_width": ""
      }
     },
     "e6c59a0e44b04b02854f86508d56b952": {
      "model_module": "@jupyter-widgets/controls",
      "model_module_version": "1.4.0",
      "model_name": "IntProgressModel",
      "state": {
       "bar_style": "success",
       "layout": "IPY_MODEL_d36de4275a134a62ae93e5326002fa03",
       "max": 1000,
       "style": "IPY_MODEL_30a18deac4cf47dbb5e268893c0d8b12",
       "value": 1000
      }
     },
     "e6e92bba09934afcae9ed3dd8a41ec64": {
      "model_module": "@jupyter-widgets/base",
      "model_module_version": "1.1.0",
      "model_name": "LayoutModel",
      "state": {}
     },
     "e7022fe9cbec442697e789c14b9c5d04": {
      "model_module": "@jupyter-widgets/controls",
      "model_module_version": "1.4.0",
      "model_name": "HBoxModel",
      "state": {
       "children": [
        "IPY_MODEL_496da20e5ca841718a3d86ff25875feb",
        "IPY_MODEL_47fccceafe594b088c5099a88d16569a"
       ],
       "layout": "IPY_MODEL_f972c654564c48e4b29e54e7f41b5d2c"
      }
     },
     "e7392086ff124e48b5c9f464255a733a": {
      "model_module": "@jupyter-widgets/base",
      "model_module_version": "1.1.0",
      "model_name": "LayoutModel",
      "state": {}
     },
     "e77b2a6f6a1445ea8588d1f0131bb758": {
      "model_module": "@jupyter-widgets/controls",
      "model_module_version": "1.4.0",
      "model_name": "ProgressStyleModel",
      "state": {
       "description_width": ""
      }
     },
     "e792d4fd299944febe1e0dc9c97e1a09": {
      "model_module": "@jupyter-widgets/base",
      "model_module_version": "1.1.0",
      "model_name": "LayoutModel",
      "state": {}
     },
     "e7faa5850aba4cc098f6b86fc782af9a": {
      "model_module": "@jupyter-widgets/base",
      "model_module_version": "1.1.0",
      "model_name": "LayoutModel",
      "state": {}
     },
     "e80268bd0f674ecc84fce7ea94e4e0c9": {
      "model_module": "@jupyter-widgets/controls",
      "model_module_version": "1.4.0",
      "model_name": "DescriptionStyleModel",
      "state": {
       "description_width": ""
      }
     },
     "e8957e55388e4ac0bf1e457a5649b2aa": {
      "model_module": "@jupyter-widgets/base",
      "model_module_version": "1.1.0",
      "model_name": "LayoutModel",
      "state": {}
     },
     "e8ba7dd9eecd48feb320727065eddf85": {
      "model_module": "@jupyter-widgets/controls",
      "model_module_version": "1.4.0",
      "model_name": "ProgressStyleModel",
      "state": {
       "description_width": ""
      }
     },
     "e9023e5b6ce048688c81215efd1f7cd1": {
      "model_module": "@jupyter-widgets/controls",
      "model_module_version": "1.4.0",
      "model_name": "IntProgressModel",
      "state": {
       "bar_style": "success",
       "layout": "IPY_MODEL_51ad58893d0d4577872b9fa9496f5bf2",
       "style": "IPY_MODEL_ba393f72067b4a45b52a6bc7cede4c24",
       "value": 100
      }
     },
     "e90669869dae475eb5b1e13c40918268": {
      "model_module": "@jupyter-widgets/controls",
      "model_module_version": "1.4.0",
      "model_name": "HBoxModel",
      "state": {
       "children": [
        "IPY_MODEL_1aa5e1d0590040a5bde1e83771e725ee",
        "IPY_MODEL_b307e7e419da4d01a8a117b8e04f97d7"
       ],
       "layout": "IPY_MODEL_dbd60006ba2a4a68ad9f653b3c0e4018"
      }
     },
     "e9961155fed64861b320ee28481bca6a": {
      "model_module": "@jupyter-widgets/base",
      "model_module_version": "1.1.0",
      "model_name": "LayoutModel",
      "state": {}
     },
     "ec024d5d04354bd3bf3c4acf808988ba": {
      "model_module": "@jupyter-widgets/controls",
      "model_module_version": "1.4.0",
      "model_name": "DescriptionStyleModel",
      "state": {
       "description_width": ""
      }
     },
     "ed54e98e1c984980ad9a28765ce0e676": {
      "model_module": "@jupyter-widgets/controls",
      "model_module_version": "1.4.0",
      "model_name": "HTMLModel",
      "state": {
       "layout": "IPY_MODEL_524f6cb431ff4ac9ade1eefa9fecc71f",
       "style": "IPY_MODEL_4791c0aff31e46a8a5245b4f6aeac1c7",
       "value": "100% 100/100 [00:15&lt;00:00,  6.51it/s]"
      }
     },
     "eda4396a9c154d3085cc4bbc6e61f7be": {
      "model_module": "@jupyter-widgets/base",
      "model_module_version": "1.1.0",
      "model_name": "LayoutModel",
      "state": {}
     },
     "f195b4203c004389a77f3d08d6d397ce": {
      "model_module": "@jupyter-widgets/controls",
      "model_module_version": "1.4.0",
      "model_name": "ProgressStyleModel",
      "state": {
       "description_width": ""
      }
     },
     "f1af6f3085b34d5cb0bd6a5dcc6a548b": {
      "model_module": "@jupyter-widgets/controls",
      "model_module_version": "1.4.0",
      "model_name": "IntProgressModel",
      "state": {
       "bar_style": "success",
       "layout": "IPY_MODEL_125ca9dc09b5440b8d9c35df68aa1b48",
       "max": 1000,
       "style": "IPY_MODEL_349bc0ae9b534a6bb749c17d83682343",
       "value": 1000
      }
     },
     "f1c5899405d148a0a2f129d3fedd76dc": {
      "model_module": "@jupyter-widgets/controls",
      "model_module_version": "1.4.0",
      "model_name": "HBoxModel",
      "state": {
       "children": [
        "IPY_MODEL_9e056c95e5c34bfa9a199585ba25344e",
        "IPY_MODEL_9c9498bef52c486bae4d342f5c481479"
       ],
       "layout": "IPY_MODEL_ff8bfca497224ab4b3ff4897b1dd64bb"
      }
     },
     "f3034f9ec4124f11a67207d1b9d508f4": {
      "model_module": "@jupyter-widgets/controls",
      "model_module_version": "1.4.0",
      "model_name": "HBoxModel",
      "state": {
       "children": [
        "IPY_MODEL_4364fb479bdc47d484fe88d3d3bcaaf1",
        "IPY_MODEL_ab5e17057c61460ebf68e2fb0770247a"
       ],
       "layout": "IPY_MODEL_056bf046c1944d1b916da487f4d9a133"
      }
     },
     "f49c00878b4542fabfd05f2876771fff": {
      "model_module": "@jupyter-widgets/controls",
      "model_module_version": "1.4.0",
      "model_name": "HTMLModel",
      "state": {
       "layout": "IPY_MODEL_7a6b4968bd964b8bab754e324c81478c",
       "style": "IPY_MODEL_a8f75b8d2961451e8d41bffeba7515d7",
       "value": "100% 1000/1000 [00:00&lt;00:00, 8874.43it/s]"
      }
     },
     "f5856eea857b4779acc9a9b10f87a9f1": {
      "model_module": "@jupyter-widgets/controls",
      "model_module_version": "1.4.0",
      "model_name": "DescriptionStyleModel",
      "state": {
       "description_width": ""
      }
     },
     "f5c46b4a0ddc45468e83f66f852807b8": {
      "model_module": "@jupyter-widgets/controls",
      "model_module_version": "1.4.0",
      "model_name": "ProgressStyleModel",
      "state": {
       "description_width": ""
      }
     },
     "f5db8cd315bf4e928be7eae0e99a6075": {
      "model_module": "@jupyter-widgets/controls",
      "model_module_version": "1.4.0",
      "model_name": "DescriptionStyleModel",
      "state": {
       "description_width": ""
      }
     },
     "f63dfc418ddd4be2858a8d42fa398192": {
      "model_module": "@jupyter-widgets/controls",
      "model_module_version": "1.4.0",
      "model_name": "HBoxModel",
      "state": {
       "children": [
        "IPY_MODEL_e40f1f90b4b64cf28f4500415ff20c80",
        "IPY_MODEL_958fb3236b3d4a96b6862530703e8ece"
       ],
       "layout": "IPY_MODEL_98b8994e2e7b452ea85a632ebf440307"
      }
     },
     "f6444aaf701145a39c5249dcb2996b5a": {
      "model_module": "@jupyter-widgets/base",
      "model_module_version": "1.1.0",
      "model_name": "LayoutModel",
      "state": {}
     },
     "f64d39c288154246b0865dc09f76f9e7": {
      "model_module": "@jupyter-widgets/controls",
      "model_module_version": "1.4.0",
      "model_name": "HTMLModel",
      "state": {
       "layout": "IPY_MODEL_b87d38a6938d48cf87b5802d5a577191",
       "style": "IPY_MODEL_5bec5988538b4f8c95b61c4a7d053943",
       "value": "100% 58900/58900 [01:25&lt;00:00, 687.10it/s]"
      }
     },
     "f7bf08a9755a4320b3c48ba65baa3875": {
      "model_module": "@jupyter-widgets/controls",
      "model_module_version": "1.4.0",
      "model_name": "HTMLModel",
      "state": {
       "layout": "IPY_MODEL_69062c36ad6142ce9544df83066ad23f",
       "style": "IPY_MODEL_aac24ea837074c52b05970d51c241c3f",
       "value": "100% 100/100 [00:00&lt;00:00, 3694.74it/s]"
      }
     },
     "f7f622f533a0457895019ac01ed1f8cc": {
      "model_module": "@jupyter-widgets/controls",
      "model_module_version": "1.4.0",
      "model_name": "ProgressStyleModel",
      "state": {
       "description_width": ""
      }
     },
     "f831b70b3cd44a1aac24ee249a27e1a1": {
      "model_module": "@jupyter-widgets/base",
      "model_module_version": "1.1.0",
      "model_name": "LayoutModel",
      "state": {}
     },
     "f8374784447740a883a291d68cf59239": {
      "model_module": "@jupyter-widgets/controls",
      "model_module_version": "1.4.0",
      "model_name": "ProgressStyleModel",
      "state": {
       "description_width": ""
      }
     },
     "f85f9b20a06445ffb558f658e37f306f": {
      "model_module": "@jupyter-widgets/base",
      "model_module_version": "1.1.0",
      "model_name": "LayoutModel",
      "state": {}
     },
     "f8761aed1ea34df6af266bb91837f622": {
      "model_module": "@jupyter-widgets/base",
      "model_module_version": "1.1.0",
      "model_name": "LayoutModel",
      "state": {}
     },
     "f8969badbc244517b3aa3af64e4a16e8": {
      "model_module": "@jupyter-widgets/controls",
      "model_module_version": "1.4.0",
      "model_name": "DescriptionStyleModel",
      "state": {
       "description_width": ""
      }
     },
     "f8e14de7363c4ed5996de38d373ba628": {
      "model_module": "@jupyter-widgets/base",
      "model_module_version": "1.1.0",
      "model_name": "LayoutModel",
      "state": {}
     },
     "f937af0e908f48c6b4d7dd9e9df615f6": {
      "model_module": "@jupyter-widgets/base",
      "model_module_version": "1.1.0",
      "model_name": "LayoutModel",
      "state": {}
     },
     "f972c654564c48e4b29e54e7f41b5d2c": {
      "model_module": "@jupyter-widgets/base",
      "model_module_version": "1.1.0",
      "model_name": "LayoutModel",
      "state": {}
     },
     "f9b687f752e6407eb0c118dfe65ee72b": {
      "model_module": "@jupyter-widgets/controls",
      "model_module_version": "1.4.0",
      "model_name": "DescriptionStyleModel",
      "state": {
       "description_width": ""
      }
     },
     "f9f14fd394254cb8ac5957e3ddabf638": {
      "model_module": "@jupyter-widgets/controls",
      "model_module_version": "1.4.0",
      "model_name": "HBoxModel",
      "state": {
       "children": [
        "IPY_MODEL_6a12a11a1d5e41b9ab0aa9f05010310e",
        "IPY_MODEL_7070db757e14499aa8a0b6a1bda6d512"
       ],
       "layout": "IPY_MODEL_277ac39362864cf59aa9d5676d65dbb0"
      }
     },
     "faa98befb8394dffa3a1973240b522e7": {
      "model_module": "@jupyter-widgets/base",
      "model_module_version": "1.1.0",
      "model_name": "LayoutModel",
      "state": {}
     },
     "fb9b8a3184184d69b886252ed0dcdd9c": {
      "model_module": "@jupyter-widgets/controls",
      "model_module_version": "1.4.0",
      "model_name": "DescriptionStyleModel",
      "state": {
       "description_width": ""
      }
     },
     "fdf5209d5c1643fdb9360ac03fea859c": {
      "model_module": "@jupyter-widgets/base",
      "model_module_version": "1.1.0",
      "model_name": "LayoutModel",
      "state": {}
     },
     "fe4d67e5c5bb447db953580948ad2dc0": {
      "model_module": "@jupyter-widgets/controls",
      "model_module_version": "1.4.0",
      "model_name": "IntProgressModel",
      "state": {
       "bar_style": "success",
       "layout": "IPY_MODEL_58bb32e1ad2e4ea1b7f6ee27784dc14d",
       "max": 1000,
       "style": "IPY_MODEL_e0b862a30ecc4dcd9dce411c30c354b9",
       "value": 1000
      }
     },
     "ff782655b3ab4472918dc5191bac9091": {
      "model_module": "@jupyter-widgets/controls",
      "model_module_version": "1.4.0",
      "model_name": "DescriptionStyleModel",
      "state": {
       "description_width": ""
      }
     },
     "ff8bfca497224ab4b3ff4897b1dd64bb": {
      "model_module": "@jupyter-widgets/base",
      "model_module_version": "1.1.0",
      "model_name": "LayoutModel",
      "state": {}
     }
    },
    "version_major": 2,
    "version_minor": 0
   }
  }
 },
 "nbformat": 4,
 "nbformat_minor": 2
}
