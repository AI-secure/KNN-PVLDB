{
 "cells": [
  {
   "cell_type": "code",
   "execution_count": 54,
   "metadata": {},
   "outputs": [
    {
     "name": "stdout",
     "output_type": "stream",
     "text": [
      "The autoreload extension is already loaded. To reload it, use:\n",
      "  %reload_ext autoreload\n"
     ]
    },
    {
     "data": {
      "text/plain": [
       "<torch._C.Generator at 0x7f7da4a2feb0>"
      ]
     },
     "execution_count": 54,
     "metadata": {},
     "output_type": "execute_result"
    }
   ],
   "source": [
    "%load_ext autoreload\n",
    "%autoreload 2\n",
    "import math\n",
    "import numpy as np\n",
    "import pandas as pd\n",
    "import sklearn\n",
    "from utils import *\n",
    "from models.MNL import *\n",
    "from models.Cnn import *\n",
    "import matplotlib.pyplot as plt\n",
    "from models.resnet import *\n",
    "\n",
    "import torch\n",
    "import torch.nn as nn\n",
    "import torch.nn.functional as F\n",
    "import torch.optim as optim\n",
    "import cv2\n",
    "from torch.optim.lr_scheduler import MultiStepLR\n",
    "\n",
    "%matplotlib inline\n",
    "seed = 0\n",
    "np.random.seed(seed)\n",
    "random.seed(seed)\n",
    "torch.manual_seed(seed)"
   ]
  },
  {
   "cell_type": "raw",
   "metadata": {},
   "source": [
    "svhn_loader, mnist_loader = get_loader()\n",
    "print(len(svhn_loader))"
   ]
  },
  {
   "cell_type": "raw",
   "metadata": {},
   "source": [
    "\n",
    "def te_train(model, device, dataloaders, optimizer, criterion, n_epochs):\n",
    "    model.train()\n",
    "    for epoch in range(n_epochs):\n",
    "        for i,(X, y) in enumerate(dataloaders):  \n",
    "            X, y = X.to(device).float(), y.to(device)\n",
    "            optimizer.zero_grad()\n",
    "            *_, y_pred = model(X)\n",
    "            loss = criterion(y_pred, y)\n",
    "            loss.backward()\n",
    "            optimizer.step()\n",
    "        print(f'Train epoch {epoch}: Loss: {loss.item():7.4f}')\n",
    "\n",
    "def te_evaluate(model, device, dataloaders, criterion):\n",
    "    model.eval()\n",
    "    test_set_size = len(dataloaders) *128\n",
    "    \n",
    "    correct_answers = 0\n",
    "    sum_loss = 0\n",
    "    with torch.no_grad():\n",
    "        for i,(X, y) in enumerate(dataloaders):\n",
    "            X, y = X.to(device).float(), y.to(device)\n",
    "            *_, y_pred = model(X)\n",
    "            class_pred = y_pred.argmax(dim = 1)\n",
    "            correct_answers += (y == class_pred).float().sum().item()\n",
    "            sum_loss += criterion(y_pred, y).item()\n",
    "    accuracy = correct_answers / test_set_size\n",
    "    average_loss = sum_loss / test_set_size\n",
    "    return accuracy, average_loss  "
   ]
  },
  {
   "cell_type": "raw",
   "metadata": {},
   "source": [
    "# for i in range(5):\n",
    "#     epochs = i\n",
    "#     device = torch.device('cuda')\n",
    "#     model = CNN_svhn().to(device)\n",
    "#     criterion = nn.CrossEntropyLoss()\n",
    "#     optimizer = optim.SGD(model.parameters(), lr=0.001, momentum=0.9)\n",
    "#     te_train(model, device, svhn_loader, optimizer, criterion, epochs)\n",
    "#     accuracy, avg_loss = te_evaluate(model, device, svhn_loader, criterion)\n",
    "#     print(f'[Train] Accuracy: {100 * accuracy:5.2f}%, loss: {avg_loss:7.4f}')\n",
    "\n",
    "# accuracy, avg_loss = evaluate(model, device, svhn_loader, batch_size, criterion)\n",
    "# print(f'[Test] Accuracy: {100 * accuracy:5.2f}%, loss: {avg_loss:7.4f}')\n",
    "\n",
    "device = torch.device('cuda')\n",
    "model = CNN_svhn().to(device)\n",
    "criterion = nn.CrossEntropyLoss()\n",
    "optimizer = optim.SGD(model.parameters(), lr=0.001, momentum=0.9)\n",
    "te_train(model, device, svhn_loader, optimizer, criterion, epochs)\n",
    "accuracy, avg_loss = te_evaluate(model, device, svhn_loader, criterion)\n",
    "print(f'[Train] Accuracy: {100 * accuracy:5.2f}%, loss: {avg_loss:7.4f}')"
   ]
  },
  {
   "cell_type": "code",
   "execution_count": 63,
   "metadata": {},
   "outputs": [
    {
     "name": "stdout",
     "output_type": "stream",
     "text": [
      "(73257, 3072)\n",
      "Training Set (73257, 3072) (73257,)\n",
      "Test Set (26032, 3072) (26032,)\n"
     ]
    }
   ],
   "source": [
    "# usps dataset from SVHN\n",
    "from scipy.io import loadmat\n",
    "def load_data(path):\n",
    "    \"\"\" Helper function for loading a MAT-File\"\"\"\n",
    "    data = loadmat(path)\n",
    "    return data['X'], data['y']\n",
    "\n",
    "svhn_X_tr, svhn_y_tr = load_data('./data/svhn/train_32x32.mat')\n",
    "svhn_X_test, svhn_y_test = load_data('./data/svhn/test_32x32.mat')\n",
    "svhn_X_tr, svhn_y_tr = svhn_X_tr.transpose((3,0,1,2)).reshape(svhn_X_tr.shape[3],-1)/255.0, svhn_y_tr[:,0]\n",
    "\n",
    "# svhn_X_tr, svhn_y_tr = svhn_X_tr.transpose((3,0,1,2))/255.0, svhn_y_tr[:,0]\n",
    "# from sklearn.preprocessing import normalize\n",
    "# svhn_X_tr = svhn_X_tr / np.linalg.norm(svhn_X_tr)\n",
    "print(svhn_X_tr.shape)\n",
    "svhn_X_test, svhn_y_test = svhn_X_test.transpose((3,0,1,2)).reshape(26032,-1)/255.0, svhn_y_test[:,0]\n",
    "\n",
    "# print(type(svhn_X_train))\n",
    "for i in range(len(svhn_y_tr)):\n",
    "    if(svhn_y_tr[i] == 10):\n",
    "        svhn_y_tr[i] = 0\n",
    "for i in range(len(svhn_y_test)):\n",
    "    if(svhn_y_test[i] == 10):\n",
    "        svhn_y_test[i] = 0    \n",
    "\n",
    "print(\"Training Set\", svhn_X_tr.shape, svhn_y_tr.shape)\n",
    "print(\"Test Set\", svhn_X_test.shape, svhn_y_test.shape)"
   ]
  },
  {
   "cell_type": "code",
   "execution_count": 64,
   "metadata": {},
   "outputs": [
    {
     "name": "stdout",
     "output_type": "stream",
     "text": [
      "5\n"
     ]
    },
    {
     "data": {
      "image/png": "[encoded data removed]",
      "text/plain": [
       "<Figure size 216x360 with 1 Axes>"
      ]
     },
     "metadata": {
      "needs_background": "light"
     },
     "output_type": "display_data"
    }
   ],
   "source": [
    "t_idx = 88\n",
    "print(svhn_y_tr[t_idx])\n",
    "pic_n = 1\n",
    "fig, ax = plt.subplots(pic_n, 1, sharex = True, sharey = True, figsize=(3, 5))\n",
    "for i in range(pic_n):\n",
    "    ax.imshow(svhn_X_tr[t_idx].reshape([32, 32, 3]), 'gray')"
   ]
  },
  {
   "cell_type": "code",
   "execution_count": 65,
   "metadata": {},
   "outputs": [
    {
     "name": "stdout",
     "output_type": "stream",
     "text": [
      "(60000, 3072) (10000, 3072)\n",
      "Training Set (73257, 3072) (73257,)\n"
     ]
    }
   ],
   "source": [
    "data = MNIST(one_hot=False, shuffle=False)\n",
    "X_tr, mnist_y_tr = data.x_train, data.y_train\n",
    "X_te, mnist_y_te = data.x_test, data.y_test\n",
    "\n",
    "mnist_X_tr = [[] for i in range(len(X_tr))]\n",
    "mnist_X_te = [[] for i in range(len(X_te))]\n",
    "dim = np.zeros((28,28))\n",
    "\n",
    "for i in range(len(X_tr)):\n",
    "    temp = np.array(X_tr[i].reshape(28,28))\n",
    "    temp = np.stack((temp, dim, dim), axis=2)\n",
    "    temp = cv2.resize(temp, (32, 32), interpolation=cv2.INTER_CUBIC)\n",
    "    mnist_X_tr[i] = temp.flatten()\n",
    "\n",
    "\n",
    "for i in range(len(X_te)):\n",
    "    temp = np.array(X_te[i].reshape(28,28))\n",
    "    temp = np.stack((temp, dim, dim), axis=2)\n",
    "    temp = cv2.resize(temp, (32, 32), interpolation=cv2.INTER_CUBIC)\n",
    "    mnist_X_te[i] = temp.flatten()\n",
    "\n",
    "mnist_X_tr = np.array(mnist_X_tr) \n",
    "mnist_X_te = np.array(mnist_X_te)\n",
    "print(np.array(mnist_X_tr).shape, np.array(mnist_X_te).shape)\n",
    "print(\"Training Set\", svhn_X_tr.shape, svhn_y_tr.shape)\n",
    "# print(\"Test Set\", svhn_X_test.shape, svhn_y_test.shape)"
   ]
  },
  {
   "cell_type": "code",
   "execution_count": 66,
   "metadata": {},
   "outputs": [
    {
     "name": "stderr",
     "output_type": "stream",
     "text": [
      "Clipping input data to the valid range for imshow with RGB data ([0..1] for floats or [0..255] for integers).\n"
     ]
    },
    {
     "name": "stdout",
     "output_type": "stream",
     "text": [
      "(32, 32, 3)\n"
     ]
    },
    {
     "data": {
      "image/png": "[encoded data removed]",
      "text/plain": [
       "<Figure size 216x360 with 1 Axes>"
      ]
     },
     "metadata": {
      "needs_background": "light"
     },
     "output_type": "display_data"
    }
   ],
   "source": [
    "size=32\n",
    "img = np.array(mnist_X_tr[0].reshape(32,32, 3))\n",
    "res = cv2.resize(img, (size, size), interpolation=cv2.INTER_CUBIC)\n",
    "print(res.shape)\n",
    "fig, ax = plt.subplots(pic_n, 1, sharex = True, sharey = True, figsize=(3, 5))\n",
    "for i in range(pic_n):\n",
    "    ax.imshow(res)"
   ]
  },
  {
   "cell_type": "code",
   "execution_count": 67,
   "metadata": {},
   "outputs": [],
   "source": [
    "# print(svhn_y_train[:1000])"
   ]
  },
  {
   "cell_type": "code",
   "execution_count": 68,
   "metadata": {},
   "outputs": [
    {
     "name": "stdout",
     "output_type": "stream",
     "text": [
      "test_size: torch.Size([2000])\n"
     ]
    },
    {
     "data": {
      "application/vnd.jupyter.widget-view+json": {
       "model_id": "dae785e7f7e84f26a93896bdd8490f39",
       "version_major": 2,
       "version_minor": 0
      },
      "text/plain": [
       "HBox(children=(IntProgress(value=0, description='Epochs', max=15, style=ProgressStyle(description_width='initi…"
      ]
     },
     "metadata": {},
     "output_type": "display_data"
    },
    {
     "name": "stdout",
     "output_type": "stream",
     "text": [
      "\n",
      "[Train] Accuracy: 88.60%, loss:  0.0063\n",
      "[Test] Accuracy:  9.65%, loss:  0.0208\n"
     ]
    }
   ],
   "source": [
    "# data = MNIST(one_hot=False, shuffle=False)\n",
    "# data.x_train[:700] = add_noise(data.x_train[:700], 1, 0.1, 'white')\n",
    "# import torchvision.models as models\n",
    "seed = 0\n",
    "np.random.seed(seed)\n",
    "random.seed(seed)\n",
    "torch.manual_seed(seed)\n",
    "torch.backends.cudnn.deterministic=True\n",
    "torch.cuda.manual_seed(seed)\n",
    "\n",
    "# Hyper Parameters \n",
    "input_size = 32*32*3\n",
    "num_classes = 10\n",
    "batch_size = 128\n",
    "epochs = 15\n",
    "learning_rate = 0.01\n",
    "train_size = 2000\n",
    "test_size = 2000\n",
    "\n",
    "device = torch.device('cuda')\n",
    "model = ResNet18(num_classes=10).to(device)\n",
    "criterion = nn.CrossEntropyLoss().cuda()\n",
    "optimizer = optim.SGD(model.parameters(), lr=0.001, momentum=0.9)\n",
    "scheduler = MultiStepLR(optimizer, milestones=[80, 120], gamma=0.1)\n",
    "\n",
    "# optimizer = optim.Adam(model.parameters(), lr=0.001, weight_decay=0.9)\n",
    "\n",
    "mnist_x_train = torch.from_numpy(mnist_X_tr[:test_size]).contiguous().view(-1, 3, 32, 32)\n",
    "mnist_y_train = torch.from_numpy(mnist_y_tr[:test_size]).view(-1,).long()\n",
    "# print(\"train_size:\", y_train.shape)\n",
    "\n",
    "mnist_x_test = torch.from_numpy(mnist_X_te[:train_size]).contiguous().view(-1, 3, 32, 32)\n",
    "mnist_y_test = torch.from_numpy(mnist_y_te[:train_size]).view(-1,).long()\n",
    "print(\"test_size:\", y_test.shape)\n",
    "\n",
    "svhn_x_train = torch.from_numpy(svhn_X_tr[:train_size]).contiguous().view(-1, 3, 32, 32)\n",
    "svhn_y_train = torch.from_numpy(svhn_y_tr[:train_size]).view(-1,).long()\n",
    "svhn_x_test = torch.from_numpy(svhn_X_test[:test_size]).contiguous().view(-1, 3, 32, 32)\n",
    "svhn_y_test = torch.from_numpy(svhn_y_test[:test_size]).view(-1,).long()\n",
    "\n",
    "\n",
    "\n",
    "train(model, device, svhn_x_train, svhn_y_train, batch_size, optimizer, criterion, epochs)\n",
    "accuracy, avg_loss = evaluate(model, device, svhn_x_train, svhn_y_train, batch_size, criterion)\n",
    "print(f'[Train] Accuracy: {100 * accuracy:5.2f}%, loss: {avg_loss:7.4f}')\n",
    "\n",
    "accuracy, avg_loss = evaluate(model, device, x_test, y_test, batch_size, criterion)\n",
    "print(f'[Test] Accuracy: {100 * accuracy:5.2f}%, loss: {avg_loss:7.4f}')"
   ]
  },
  {
   "cell_type": "raw",
   "metadata": {},
   "source": [
    "print(svhn_x_train.shape, svhn_y_train.shape)\n",
    "for e in range(1, 20, 5):\n",
    "    print(e)\n",
    "    epochs = e\n",
    "    train(model, device, svhn_x_train, svhn_y_train, batch_size, optimizer, criterion, epochs)\n",
    "    accuracy, avg_loss = evaluate(model, device, svhn_x_train, svhn_y_train, batch_size, criterion)\n",
    "    print(f'[Train] Accuracy: {100 * accuracy:5.2f}%, loss: {avg_loss:7.4f}')\n",
    "\n",
    "    accuracy, avg_loss = evaluate(model, device, x_test, y_test, batch_size, criterion)\n",
    "    print(f'[Test] Accuracy: {100 * accuracy:5.2f}%, loss: {avg_loss:7.4f}')"
   ]
  },
  {
   "cell_type": "code",
   "execution_count": null,
   "metadata": {},
   "outputs": [],
   "source": []
  },
  {
   "cell_type": "code",
   "execution_count": 69,
   "metadata": {},
   "outputs": [
    {
     "name": "stdout",
     "output_type": "stream",
     "text": [
      "(2000, 512) (2000, 512)\n"
     ]
    }
   ],
   "source": [
    "deep_f_train = []\n",
    "deep_f_test = []\n",
    "targets = []\n",
    "for X, y in batch(svhn_x_train, svhn_y_train, batch_size):\n",
    "    X = X.to(device).float()\n",
    "    fc3, y_pre = model(X)\n",
    "    deep_f_train.append(fc3.view(fc3.size(0), -1).cpu().detach().numpy())\n",
    "\n",
    "for X, y in batch(mnist_x_train, mnist_y_train, batch_size):\n",
    "    X = X.to(device).float()\n",
    "    fc3, y_pre = model(X)\n",
    "    deep_f_test.append(fc3.view(fc3.size(0), -1).cpu().detach().numpy())\n",
    "\n",
    "deep_f_train = np.concatenate(deep_f_train) # deep features are not normalized\n",
    "deep_f_test = np.concatenate(deep_f_test) # deep features are not normalized\n",
    "print(deep_f_train.shape, deep_f_test.shape) "
   ]
  },
  {
   "cell_type": "code",
   "execution_count": null,
   "metadata": {},
   "outputs": [],
   "source": []
  },
  {
   "cell_type": "code",
   "execution_count": 70,
   "metadata": {},
   "outputs": [
    {
     "data": {
      "application/vnd.jupyter.widget-view+json": {
       "model_id": "",
       "version_major": 2,
       "version_minor": 0
      },
      "text/plain": [
       "HBox(children=(IntProgress(value=0, max=2000), HTML(value='')))"
      ]
     },
     "metadata": {},
     "output_type": "display_data"
    },
    {
     "name": "stdout",
     "output_type": "stream",
     "text": [
      "\r",
      "neighbour number: 1 0.081\n"
     ]
    },
    {
     "data": {
      "application/vnd.jupyter.widget-view+json": {
       "model_id": "",
       "version_major": 2,
       "version_minor": 0
      },
      "text/plain": [
       "HBox(children=(IntProgress(value=0, max=2000), HTML(value='')))"
      ]
     },
     "metadata": {},
     "output_type": "display_data"
    },
    {
     "name": "stdout",
     "output_type": "stream",
     "text": [
      "\r"
     ]
    },
    {
     "data": {
      "application/vnd.jupyter.widget-view+json": {
       "model_id": "",
       "version_major": 2,
       "version_minor": 0
      },
      "text/plain": [
       "HBox(children=(IntProgress(value=0, max=2000), HTML(value='')))"
      ]
     },
     "metadata": {},
     "output_type": "display_data"
    },
    {
     "name": "stdout",
     "output_type": "stream",
     "text": [
      "\r",
      "neighbour number: 2 0.0235\n"
     ]
    },
    {
     "data": {
      "application/vnd.jupyter.widget-view+json": {
       "model_id": "",
       "version_major": 2,
       "version_minor": 0
      },
      "text/plain": [
       "HBox(children=(IntProgress(value=0, max=2000), HTML(value='')))"
      ]
     },
     "metadata": {},
     "output_type": "display_data"
    },
    {
     "name": "stdout",
     "output_type": "stream",
     "text": [
      "\r"
     ]
    },
    {
     "data": {
      "application/vnd.jupyter.widget-view+json": {
       "model_id": "",
       "version_major": 2,
       "version_minor": 0
      },
      "text/plain": [
       "HBox(children=(IntProgress(value=0, max=2000), HTML(value='')))"
      ]
     },
     "metadata": {},
     "output_type": "display_data"
    },
    {
     "name": "stdout",
     "output_type": "stream",
     "text": [
      "\r",
      "neighbour number: 3 0.0455\n"
     ]
    },
    {
     "data": {
      "application/vnd.jupyter.widget-view+json": {
       "model_id": "",
       "version_major": 2,
       "version_minor": 0
      },
      "text/plain": [
       "HBox(children=(IntProgress(value=0, max=2000), HTML(value='')))"
      ]
     },
     "metadata": {},
     "output_type": "display_data"
    },
    {
     "name": "stdout",
     "output_type": "stream",
     "text": [
      "\r"
     ]
    },
    {
     "data": {
      "application/vnd.jupyter.widget-view+json": {
       "model_id": "",
       "version_major": 2,
       "version_minor": 0
      },
      "text/plain": [
       "HBox(children=(IntProgress(value=0, max=2000), HTML(value='')))"
      ]
     },
     "metadata": {},
     "output_type": "display_data"
    },
    {
     "name": "stdout",
     "output_type": "stream",
     "text": [
      "\r",
      "neighbour number: 4 0.025\n"
     ]
    },
    {
     "data": {
      "application/vnd.jupyter.widget-view+json": {
       "model_id": "",
       "version_major": 2,
       "version_minor": 0
      },
      "text/plain": [
       "HBox(children=(IntProgress(value=0, max=2000), HTML(value='')))"
      ]
     },
     "metadata": {},
     "output_type": "display_data"
    },
    {
     "name": "stdout",
     "output_type": "stream",
     "text": [
      "\r"
     ]
    },
    {
     "data": {
      "application/vnd.jupyter.widget-view+json": {
       "model_id": "",
       "version_major": 2,
       "version_minor": 0
      },
      "text/plain": [
       "HBox(children=(IntProgress(value=0, max=2000), HTML(value='')))"
      ]
     },
     "metadata": {},
     "output_type": "display_data"
    },
    {
     "name": "stdout",
     "output_type": "stream",
     "text": [
      "\r",
      "neighbour number: 5 0.0405\n"
     ]
    },
    {
     "data": {
      "application/vnd.jupyter.widget-view+json": {
       "model_id": "",
       "version_major": 2,
       "version_minor": 0
      },
      "text/plain": [
       "HBox(children=(IntProgress(value=0, max=2000), HTML(value='')))"
      ]
     },
     "metadata": {},
     "output_type": "display_data"
    },
    {
     "name": "stdout",
     "output_type": "stream",
     "text": [
      "\r"
     ]
    },
    {
     "data": {
      "application/vnd.jupyter.widget-view+json": {
       "model_id": "",
       "version_major": 2,
       "version_minor": 0
      },
      "text/plain": [
       "HBox(children=(IntProgress(value=0, max=2000), HTML(value='')))"
      ]
     },
     "metadata": {},
     "output_type": "display_data"
    },
    {
     "name": "stdout",
     "output_type": "stream",
     "text": [
      "\r",
      "neighbour number: 6 0.024\n"
     ]
    },
    {
     "data": {
      "application/vnd.jupyter.widget-view+json": {
       "model_id": "",
       "version_major": 2,
       "version_minor": 0
      },
      "text/plain": [
       "HBox(children=(IntProgress(value=0, max=2000), HTML(value='')))"
      ]
     },
     "metadata": {},
     "output_type": "display_data"
    },
    {
     "name": "stdout",
     "output_type": "stream",
     "text": [
      "\r"
     ]
    },
    {
     "data": {
      "application/vnd.jupyter.widget-view+json": {
       "model_id": "",
       "version_major": 2,
       "version_minor": 0
      },
      "text/plain": [
       "HBox(children=(IntProgress(value=0, max=2000), HTML(value='')))"
      ]
     },
     "metadata": {},
     "output_type": "display_data"
    },
    {
     "name": "stdout",
     "output_type": "stream",
     "text": [
      "\r",
      "neighbour number: 7 0.0305\n"
     ]
    },
    {
     "data": {
      "application/vnd.jupyter.widget-view+json": {
       "model_id": "",
       "version_major": 2,
       "version_minor": 0
      },
      "text/plain": [
       "HBox(children=(IntProgress(value=0, max=2000), HTML(value='')))"
      ]
     },
     "metadata": {},
     "output_type": "display_data"
    },
    {
     "name": "stdout",
     "output_type": "stream",
     "text": [
      "\r"
     ]
    },
    {
     "data": {
      "application/vnd.jupyter.widget-view+json": {
       "model_id": "",
       "version_major": 2,
       "version_minor": 0
      },
      "text/plain": [
       "HBox(children=(IntProgress(value=0, max=2000), HTML(value='')))"
      ]
     },
     "metadata": {},
     "output_type": "display_data"
    },
    {
     "name": "stdout",
     "output_type": "stream",
     "text": [
      "\r",
      "neighbour number: 8 0.0225\n"
     ]
    },
    {
     "data": {
      "application/vnd.jupyter.widget-view+json": {
       "model_id": "",
       "version_major": 2,
       "version_minor": 0
      },
      "text/plain": [
       "HBox(children=(IntProgress(value=0, max=2000), HTML(value='')))"
      ]
     },
     "metadata": {},
     "output_type": "display_data"
    },
    {
     "name": "stdout",
     "output_type": "stream",
     "text": [
      "\r"
     ]
    },
    {
     "data": {
      "application/vnd.jupyter.widget-view+json": {
       "model_id": "",
       "version_major": 2,
       "version_minor": 0
      },
      "text/plain": [
       "HBox(children=(IntProgress(value=0, max=2000), HTML(value='')))"
      ]
     },
     "metadata": {},
     "output_type": "display_data"
    },
    {
     "name": "stdout",
     "output_type": "stream",
     "text": [
      "\r",
      "neighbour number: 9 0.027\n"
     ]
    },
    {
     "data": {
      "application/vnd.jupyter.widget-view+json": {
       "model_id": "",
       "version_major": 2,
       "version_minor": 0
      },
      "text/plain": [
       "HBox(children=(IntProgress(value=0, max=2000), HTML(value='')))"
      ]
     },
     "metadata": {},
     "output_type": "display_data"
    },
    {
     "name": "stdout",
     "output_type": "stream",
     "text": [
      "\r"
     ]
    }
   ],
   "source": [
    "import math\n",
    "kmin = 1\n",
    "kmax = 10\n",
    "kinterval = 1\n",
    "fc1_knn_values = [[] for _ in range(math.ceil((kmax-kmin)/kinterval))] # deep features\n",
    "loo_fc1_knn_values = [[] for _ in range(math.ceil((kmax-kmin)/kinterval))] # deep features\n",
    "\n",
    "for i, k in enumerate(range(kmin, kmax, kinterval)):\n",
    "    \n",
    "#     fc1_knn_values[i],*_ = old_knn_shapley(k, deep_f[:train_data.shape[0]], deep_f[train_data.shape[0]:], \n",
    "#                                   y_deep[:train_data.shape[0]], y_deep[train_data.shape[0]:])\n",
    "#     loo_fc1_knn_values[i],*_ = loo_knn_shapley(k, deep_f[:train_data.shape[0]], deep_f[train_data.shape[0]:], \n",
    "#                                   y_deep[:train_data.shape[0]], y_deep[train_data.shape[0]:])\n",
    "    loo_fc1_knn_values[i], score, *_ = loo_knn_shapley(k, deep_f_train, deep_f_test, svhn_y_train, mnist_y_train)\n",
    "    print(\"neighbour number:\", k, score)\n",
    "    fc1_knn_values[i],*_ = old_knn_shapley(k, deep_f_train, deep_f_test, svhn_y_train, mnist_y_train)"
   ]
  },
  {
   "cell_type": "raw",
   "metadata": {},
   "source": [
    "# usps dataset from https://github.com/darshanbagul/USPS_Digit_Classification/blob/master/USPS_Digit_Classification.ipynb\n",
    "import cv2\n",
    "path_to_data = \"./data/Numerals/\"\n",
    "img_list = os.listdir(path_to_data)\n",
    "sz = (28,28)\n",
    "validation_usps = []\n",
    "validation_usps_label = []\n",
    "for i in range(10):\n",
    "    label_data = path_to_data + str(i) + '/'\n",
    "    img_list = os.listdir(label_data)\n",
    "    for name in img_list:\n",
    "        if '.png' in name:\n",
    "            img = cv2.imread(label_data+name)\n",
    "            img = cv2.cvtColor(img, cv2.COLOR_BGR2GRAY)\n",
    "#             print_img(img)\n",
    "#             print(img.shape)\n",
    "            resized_img = resize_and_scale(img, sz, 255)\n",
    "            validation_usps.append(resized_img.flatten())\n",
    "            validation_usps_label.append(i)\n",
    "validation_usps = np.array(validation_usps)\n",
    "print(validation_usps.shape)\n",
    "validation_usps_label= np.array(validation_usps_label)\n",
    "print((validation_usps_label).shape)"
   ]
  },
  {
   "cell_type": "code",
   "execution_count": 71,
   "metadata": {},
   "outputs": [],
   "source": [
    "# print(len(knn_values[1][0]))"
   ]
  },
  {
   "cell_type": "code",
   "execution_count": 72,
   "metadata": {},
   "outputs": [
    {
     "name": "stdout",
     "output_type": "stream",
     "text": [
      "(1771,)\n",
      "(14,)\n",
      "(1772,)\n",
      "(17,)\n",
      "(1771,)\n",
      "(23,)\n",
      "(1773,)\n",
      "(30,)\n",
      "(1774,)\n",
      "(27,)\n",
      "(1776,)\n",
      "(37,)\n",
      "(1777,)\n",
      "(44,)\n",
      "(1777,)\n",
      "(49,)\n",
      "(1778,)\n",
      "(47,)\n"
     ]
    },
    {
     "data": {
      "image/png": "[encoded data removed]",
      "text/plain": [
       "<Figure size 1440x720 with 9 Axes>"
      ]
     },
     "metadata": {
      "needs_background": "light"
     },
     "output_type": "display_data"
    }
   ],
   "source": [
    "import pandas as pd\n",
    "pd.options.display.max_columns = None\n",
    "from IPython.display import display\n",
    "class_weights = [[0.0 for i in range(10)] for i in range(kmin, kmax, kinterval)]\n",
    "knn_values_idx = [[0.0 for i in range(10)] for i in range(kmin, kmax, kinterval)]\n",
    "knn_values_advanced = [[0.0 for i in range(10)] for i in range(kmin, kmax, kinterval)]\n",
    "loo_knn_values_idx = [[0.0 for i in range(10)] for i in range(kmin, kmax, kinterval)]\n",
    "loo_knn_values_advanced = [[0.0 for i in range(10)] for i in range(kmin, kmax, kinterval)]\n",
    "\n",
    "#removing negative data\n",
    "for i in range(len(fc1_knn_values)):\n",
    "#     print(i)\n",
    "    knn_values_idx[i] = np.where(fc1_knn_values[i] > 0)[0]\n",
    "    knn_values_advanced[i] = fc1_knn_values[i][np.where(fc1_knn_values[i] > 0)[0]]\n",
    "    print(knn_values_idx[i].shape)\n",
    "    loo_knn_values_idx[i] = np.where(loo_fc1_knn_values[i] > 0)[0]\n",
    "    loo_knn_values_advanced[i] = loo_fc1_knn_values[i][np.where(loo_fc1_knn_values[i] > 0)[0]]\n",
    "    print(loo_knn_values_idx[i].shape)\n",
    "\n",
    "#     for j in range(train_size):\n",
    "#         if(fc1_knn_values[i][j]>0):\n",
    "#             class_weights[i][targets[j]] += fc1_knn_values[i][j]\n",
    "\n",
    "# for i in range(len(class_weights)):\n",
    "#     print(class_weights[i])\n",
    "fig=plt.figure(figsize=(20, 10))\n",
    "for i, k in enumerate(range(kmin, kmax, kinterval)):\n",
    "#     print(i,k)\n",
    "    fig.add_subplot( 2, 5, i+1)\n",
    "    plt.hist(fc1_knn_values[i].astype('float'), label=k)\n",
    "    plt.legend()\n",
    "plt.show()"
   ]
  },
  {
   "cell_type": "raw",
   "metadata": {},
   "source": [
    "import pandas as pd\n",
    "pd.options.display.max_columns = None\n",
    "from IPython.display import display\n",
    "k = 0\n",
    "number = 1000\n",
    "display(knn_values[k][:10])\n",
    "idxs = np.argsort(knn_values[k]) \n",
    "# idxs=np.flip(idxs, 0)\n",
    "# print(idxs[:number])\n",
    "# print(knn_values[k][idxs[:number]])\n",
    "\n",
    "print(\"print frequency of shapley value data\")\n",
    "# print(y_train[idxs[:10]])\n",
    "y = torch.bincount(y_train[idxs[-number:]])\n",
    "print(y)\n",
    "# ii = np.nonzero(y)[0]\n",
    "# print(zip(ii,y[ii]) )\n",
    "\n",
    "\n",
    "# print(knn_values[0].sort())\n",
    "\n",
    "# fig=plt.figure(figsize=(20, 20))\n",
    "# for i,idx in enumerate(idxs[:number]):\n",
    "# #     print(i)\n",
    "#     img = data.x_train[idx]\n",
    "    \n",
    "# #     print(idx, knn_values[0][idx])\n",
    "#     fig.add_subplot( number/10, 10, i+1)\n",
    "#     plt.imshow((img.squeeze()* 255).astype(np.uint8), interpolation='nearest')\n",
    "# plt.show()"
   ]
  },
  {
   "cell_type": "code",
   "execution_count": 73,
   "metadata": {},
   "outputs": [
    {
     "name": "stdout",
     "output_type": "stream",
     "text": [
      "(10000, 3072) (10000,)\n",
      "K= 1\n",
      "torch.Size([1771, 3, 32, 32]) torch.Size([1771])\n"
     ]
    },
    {
     "data": {
      "application/vnd.jupyter.widget-view+json": {
       "model_id": "b53f71e139f645a0ba9a66a49dc925ed",
       "version_major": 2,
       "version_minor": 0
      },
      "text/plain": [
       "HBox(children=(IntProgress(value=0, description='Epochs', max=15, style=ProgressStyle(description_width='initi…"
      ]
     },
     "metadata": {},
     "output_type": "display_data"
    },
    {
     "name": "stdout",
     "output_type": "stream",
     "text": [
      "\n",
      "[Test] Accuracy:  9.20%, loss:  0.0351\n",
      "torch.Size([14, 3, 32, 32]) torch.Size([14])\n"
     ]
    },
    {
     "data": {
      "application/vnd.jupyter.widget-view+json": {
       "model_id": "d89748f079104bbf9b0dc963a3d3526f",
       "version_major": 2,
       "version_minor": 0
      },
      "text/plain": [
       "HBox(children=(IntProgress(value=0, description='Epochs', max=15, style=ProgressStyle(description_width='initi…"
      ]
     },
     "metadata": {},
     "output_type": "display_data"
    },
    {
     "name": "stdout",
     "output_type": "stream",
     "text": [
      "\n",
      "[Test] Accuracy: 11.70%, loss:  0.0185\n",
      "K= 2\n",
      "torch.Size([1772, 3, 32, 32]) torch.Size([1772])\n"
     ]
    },
    {
     "data": {
      "application/vnd.jupyter.widget-view+json": {
       "model_id": "3f6e01bd0b1c4318b4f787e66bc2a42f",
       "version_major": 2,
       "version_minor": 0
      },
      "text/plain": [
       "HBox(children=(IntProgress(value=0, description='Epochs', max=15, style=ProgressStyle(description_width='initi…"
      ]
     },
     "metadata": {},
     "output_type": "display_data"
    },
    {
     "name": "stdout",
     "output_type": "stream",
     "text": [
      "\n",
      "[Test] Accuracy: 15.90%, loss:  0.0235\n",
      "torch.Size([17, 3, 32, 32]) torch.Size([17])\n"
     ]
    },
    {
     "data": {
      "application/vnd.jupyter.widget-view+json": {
       "model_id": "2ebd20beb00c49d9b68aa633a217e710",
       "version_major": 2,
       "version_minor": 0
      },
      "text/plain": [
       "HBox(children=(IntProgress(value=0, description='Epochs', max=15, style=ProgressStyle(description_width='initi…"
      ]
     },
     "metadata": {},
     "output_type": "display_data"
    },
    {
     "name": "stdout",
     "output_type": "stream",
     "text": [
      "\n",
      "[Test] Accuracy: 11.70%, loss:  0.0185\n",
      "K= 3\n",
      "torch.Size([1771, 3, 32, 32]) torch.Size([1771])\n"
     ]
    },
    {
     "data": {
      "application/vnd.jupyter.widget-view+json": {
       "model_id": "c1168ce9dfa649cf93e0b70e0503755b",
       "version_major": 2,
       "version_minor": 0
      },
      "text/plain": [
       "HBox(children=(IntProgress(value=0, description='Epochs', max=15, style=ProgressStyle(description_width='initi…"
      ]
     },
     "metadata": {},
     "output_type": "display_data"
    },
    {
     "name": "stdout",
     "output_type": "stream",
     "text": [
      "\n",
      "[Test] Accuracy: 20.25%, loss:  0.0237\n",
      "torch.Size([23, 3, 32, 32]) torch.Size([23])\n"
     ]
    },
    {
     "data": {
      "application/vnd.jupyter.widget-view+json": {
       "model_id": "19ef72ded27d4f41a1ca55db35237dd6",
       "version_major": 2,
       "version_minor": 0
      },
      "text/plain": [
       "HBox(children=(IntProgress(value=0, description='Epochs', max=15, style=ProgressStyle(description_width='initi…"
      ]
     },
     "metadata": {},
     "output_type": "display_data"
    },
    {
     "name": "stdout",
     "output_type": "stream",
     "text": [
      "\n",
      "[Test] Accuracy: 11.70%, loss:  0.0187\n",
      "K= 4\n",
      "torch.Size([1773, 3, 32, 32]) torch.Size([1773])\n"
     ]
    },
    {
     "data": {
      "application/vnd.jupyter.widget-view+json": {
       "model_id": "a17e6e4c26a34972933e55a57894996e",
       "version_major": 2,
       "version_minor": 0
      },
      "text/plain": [
       "HBox(children=(IntProgress(value=0, description='Epochs', max=15, style=ProgressStyle(description_width='initi…"
      ]
     },
     "metadata": {},
     "output_type": "display_data"
    },
    {
     "name": "stdout",
     "output_type": "stream",
     "text": [
      "\n",
      "[Test] Accuracy: 14.35%, loss:  0.0275\n",
      "torch.Size([30, 3, 32, 32]) torch.Size([30])\n"
     ]
    },
    {
     "data": {
      "application/vnd.jupyter.widget-view+json": {
       "model_id": "3ed2eff528594e65b18932174c8e7a6c",
       "version_major": 2,
       "version_minor": 0
      },
      "text/plain": [
       "HBox(children=(IntProgress(value=0, description='Epochs', max=15, style=ProgressStyle(description_width='initi…"
      ]
     },
     "metadata": {},
     "output_type": "display_data"
    },
    {
     "name": "stdout",
     "output_type": "stream",
     "text": [
      "\n",
      "[Test] Accuracy: 11.70%, loss:  0.0186\n",
      "K= 5\n",
      "torch.Size([1774, 3, 32, 32]) torch.Size([1774])\n"
     ]
    },
    {
     "data": {
      "application/vnd.jupyter.widget-view+json": {
       "model_id": "03935f964c8144f5ba2bbf06f66f0a34",
       "version_major": 2,
       "version_minor": 0
      },
      "text/plain": [
       "HBox(children=(IntProgress(value=0, description='Epochs', max=15, style=ProgressStyle(description_width='initi…"
      ]
     },
     "metadata": {},
     "output_type": "display_data"
    },
    {
     "name": "stdout",
     "output_type": "stream",
     "text": [
      "\n",
      "[Test] Accuracy: 17.50%, loss:  0.0260\n",
      "torch.Size([27, 3, 32, 32]) torch.Size([27])\n"
     ]
    },
    {
     "data": {
      "application/vnd.jupyter.widget-view+json": {
       "model_id": "ea95b08349d4486f937153ca7dbf1db4",
       "version_major": 2,
       "version_minor": 0
      },
      "text/plain": [
       "HBox(children=(IntProgress(value=0, description='Epochs', max=15, style=ProgressStyle(description_width='initi…"
      ]
     },
     "metadata": {},
     "output_type": "display_data"
    },
    {
     "name": "stdout",
     "output_type": "stream",
     "text": [
      "\n",
      "[Test] Accuracy: 11.70%, loss:  0.0186\n",
      "K= 6\n",
      "torch.Size([1776, 3, 32, 32]) torch.Size([1776])\n"
     ]
    },
    {
     "data": {
      "application/vnd.jupyter.widget-view+json": {
       "model_id": "041165a768264a3583b125b534f87167",
       "version_major": 2,
       "version_minor": 0
      },
      "text/plain": [
       "HBox(children=(IntProgress(value=0, description='Epochs', max=15, style=ProgressStyle(description_width='initi…"
      ]
     },
     "metadata": {},
     "output_type": "display_data"
    },
    {
     "name": "stdout",
     "output_type": "stream",
     "text": [
      "\n",
      "[Test] Accuracy: 11.40%, loss:  0.0228\n",
      "torch.Size([37, 3, 32, 32]) torch.Size([37])\n"
     ]
    },
    {
     "data": {
      "application/vnd.jupyter.widget-view+json": {
       "model_id": "1b16b30b164f45918e88a831cda31f74",
       "version_major": 2,
       "version_minor": 0
      },
      "text/plain": [
       "HBox(children=(IntProgress(value=0, description='Epochs', max=15, style=ProgressStyle(description_width='initi…"
      ]
     },
     "metadata": {},
     "output_type": "display_data"
    },
    {
     "name": "stdout",
     "output_type": "stream",
     "text": [
      "\n",
      "[Test] Accuracy: 10.85%, loss:  0.0187\n",
      "K= 7\n",
      "torch.Size([1777, 3, 32, 32]) torch.Size([1777])\n"
     ]
    },
    {
     "data": {
      "application/vnd.jupyter.widget-view+json": {
       "model_id": "f254100373494e18b960d9023e3404cf",
       "version_major": 2,
       "version_minor": 0
      },
      "text/plain": [
       "HBox(children=(IntProgress(value=0, description='Epochs', max=15, style=ProgressStyle(description_width='initi…"
      ]
     },
     "metadata": {},
     "output_type": "display_data"
    },
    {
     "name": "stdout",
     "output_type": "stream",
     "text": [
      "\n",
      "[Test] Accuracy: 15.95%, loss:  0.0323\n",
      "torch.Size([44, 3, 32, 32]) torch.Size([44])\n"
     ]
    },
    {
     "data": {
      "application/vnd.jupyter.widget-view+json": {
       "model_id": "bfe3fcf680e349cda0c72c80b45d49eb",
       "version_major": 2,
       "version_minor": 0
      },
      "text/plain": [
       "HBox(children=(IntProgress(value=0, description='Epochs', max=15, style=ProgressStyle(description_width='initi…"
      ]
     },
     "metadata": {},
     "output_type": "display_data"
    },
    {
     "name": "stdout",
     "output_type": "stream",
     "text": [
      "\n",
      "[Test] Accuracy: 11.70%, loss:  0.0186\n",
      "K= 8\n",
      "torch.Size([1777, 3, 32, 32]) torch.Size([1777])\n"
     ]
    },
    {
     "data": {
      "application/vnd.jupyter.widget-view+json": {
       "model_id": "da895219bea44326bc3e9dd401f954e5",
       "version_major": 2,
       "version_minor": 0
      },
      "text/plain": [
       "HBox(children=(IntProgress(value=0, description='Epochs', max=15, style=ProgressStyle(description_width='initi…"
      ]
     },
     "metadata": {},
     "output_type": "display_data"
    },
    {
     "name": "stdout",
     "output_type": "stream",
     "text": [
      "\n",
      "[Test] Accuracy: 11.10%, loss:  0.0215\n",
      "torch.Size([49, 3, 32, 32]) torch.Size([49])\n"
     ]
    },
    {
     "data": {
      "application/vnd.jupyter.widget-view+json": {
       "model_id": "8d65d1c0762a4c57ac94cefd6e4cf638",
       "version_major": 2,
       "version_minor": 0
      },
      "text/plain": [
       "HBox(children=(IntProgress(value=0, description='Epochs', max=15, style=ProgressStyle(description_width='initi…"
      ]
     },
     "metadata": {},
     "output_type": "display_data"
    },
    {
     "name": "stdout",
     "output_type": "stream",
     "text": [
      "\n",
      "[Test] Accuracy: 11.70%, loss:  0.0186\n",
      "K= 9\n",
      "torch.Size([1778, 3, 32, 32]) torch.Size([1778])\n"
     ]
    },
    {
     "data": {
      "application/vnd.jupyter.widget-view+json": {
       "model_id": "bd5ebd8fb8204a8488f611bfea876b49",
       "version_major": 2,
       "version_minor": 0
      },
      "text/plain": [
       "HBox(children=(IntProgress(value=0, description='Epochs', max=15, style=ProgressStyle(description_width='initi…"
      ]
     },
     "metadata": {},
     "output_type": "display_data"
    },
    {
     "name": "stdout",
     "output_type": "stream",
     "text": [
      "\n",
      "[Test] Accuracy: 11.35%, loss:  0.0289\n",
      "torch.Size([47, 3, 32, 32]) torch.Size([47])\n"
     ]
    },
    {
     "data": {
      "application/vnd.jupyter.widget-view+json": {
       "model_id": "23099ebe7ce84115a8b8d5b5be43ba5b",
       "version_major": 2,
       "version_minor": 0
      },
      "text/plain": [
       "HBox(children=(IntProgress(value=0, description='Epochs', max=15, style=ProgressStyle(description_width='initi…"
      ]
     },
     "metadata": {},
     "output_type": "display_data"
    },
    {
     "name": "stdout",
     "output_type": "stream",
     "text": [
      "\n",
      "[Test] Accuracy:  9.60%, loss:  0.0186\n"
     ]
    }
   ],
   "source": [
    "print(mnist_X_te.shape, mnist_y_te.shape)\n",
    "test_learning_rate = learning_rate\n",
    "seed = 48\n",
    "np.random.seed(seed)\n",
    "random.seed(seed)\n",
    "torch.manual_seed(seed)\n",
    "torch.backends.cudnn.deterministic=True\n",
    "\n",
    "for i, k in enumerate(range(kmin, kmax, kinterval)):\n",
    "    print(\"K=\", k)\n",
    "    device = torch.device('cuda')\n",
    "    model = ResNet18(num_classes=10).to(device)\n",
    "    optimizer = optim.SGD(model.parameters(), lr=test_learning_rate)\n",
    "    criterion = nn.CrossEntropyLoss()\n",
    "\n",
    "    x_train_val, y_train_val = svhn_x_train[knn_values_idx[i]], svhn_y_train[knn_values_idx[i]]\n",
    "    print(x_train_val.shape, y_train_val.shape)\n",
    "    \n",
    "    train(model, device, x_train_val, y_train_val, batch_size, optimizer, criterion, epochs)\n",
    "    accuracy, avg_loss = evaluate(model, device, x_test, y_test, batch_size, criterion)\n",
    "    print(f'[Test] Accuracy: {100 * accuracy:5.2f}%, loss: {avg_loss:7.4f}')\n",
    "    \n",
    "    model = ResNet18(num_classes=10).to(device)\n",
    "    optimizer = optim.SGD(model.parameters(), lr=test_learning_rate)\n",
    "    criterion = nn.CrossEntropyLoss()\n",
    "\n",
    "    x_train_val, y_train_val = svhn_x_train[loo_knn_values_idx[i]], svhn_y_train[loo_knn_values_idx[i]]\n",
    "    print(x_train_val.shape, y_train_val.shape)\n",
    "    \n",
    "    train(model, device, x_train_val, y_train_val, batch_size, optimizer, criterion, epochs)\n",
    "    accuracy, avg_loss = evaluate(model, device, x_test, y_test, batch_size, criterion)\n",
    "    print(f'[Test] Accuracy: {100 * accuracy:5.2f}%, loss: {avg_loss:7.4f}')"
   ]
  },
  {
   "cell_type": "raw",
   "metadata": {},
   "source": [
    "# load data\n",
    "import pickle\n",
    "with open('./temp_domain/vals_tmc.pkl', 'rb') as f:\n",
    "    tmc = pickle.load(f)\n",
    "    tmc_values = tmc[\"vals_tmc\"]\n",
    "with open('./temp_domain/vals_g.pkl', 'rb') as f:\n",
    "    g = pickle.load(f)\n",
    "    g_values = g[\"vals_g\"]\n",
    "print(g_values.shape)\n",
    "g_values_idx = []\n",
    "tmc_values_idx = []"
   ]
  },
  {
   "cell_type": "raw",
   "metadata": {},
   "source": [
    "g_values_idx = np.where(g_values > 0)[0]\n",
    "tmc_values_idx = np.where(tmc_values > 0)[0]\n",
    "print(g_values_idx.shape, tmc_values_idx.shape)"
   ]
  },
  {
   "cell_type": "raw",
   "metadata": {},
   "source": [
    "device = torch.device('cuda')\n",
    "model = sMNL(input_size, num_classes).to(device)\n",
    "optimizer = optim.SGD(model.parameters(), lr=test_learning_rate)\n",
    "train(model, device, svhn_x_train[tmc_values_idx], svhn_y_train[tmc_values_idx], batch_size, optimizer, criterion, epochs)\n",
    "accuracy, avg_loss = evaluate(model, device, x_test[:test_size], y_test[:test_size], batch_size, criterion)\n",
    "print(f'TMC [Test] Accuracy: {100 * accuracy:5.2f}%, loss: {avg_loss:7.4f}')"
   ]
  },
  {
   "cell_type": "raw",
   "metadata": {},
   "source": [
    "# device = torch.device('cuda')\n",
    "# model = MNL(input_size, num_classes).to(device)\n",
    "# optimizer = optim.SGD(model.parameters(), lr=test_learning_rate)\n",
    "# train(model, device, usps_x_train[g_values_idx], usps_y_train[g_values_idx], batch_size, optimizer, criterion, epochs)\n",
    "# accuracy, avg_loss = evaluate(model, device, x_test[:test_size], y_test[:test_size], batch_size, criterion)\n",
    "# print(f'G [Test] Accuracy: {100 * accuracy:5.2f}%, loss: {avg_loss:7.4f}')"
   ]
  },
  {
   "cell_type": "code",
   "execution_count": null,
   "metadata": {},
   "outputs": [],
   "source": []
  }
 ],
 "metadata": {
  "kernelspec": {
   "display_name": "Python 3",
   "language": "python",
   "name": "python3"
  },
  "language_info": {
   "codemirror_mode": {
    "name": "ipython",
    "version": 3
   },
   "file_extension": ".py",
   "mimetype": "text/x-python",
   "name": "python",
   "nbconvert_exporter": "python",
   "pygments_lexer": "ipython3",
   "version": "3.6.8"
  }
 },
 "nbformat": 4,
 "nbformat_minor": 2
}
