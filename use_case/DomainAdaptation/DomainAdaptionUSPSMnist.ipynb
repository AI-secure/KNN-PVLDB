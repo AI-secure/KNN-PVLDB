{
 "cells": [
  {
   "cell_type": "code",
   "execution_count": 121,
   "metadata": {},
   "outputs": [
    {
     "name": "stdout",
     "output_type": "stream",
     "text": [
      "The autoreload extension is already loaded. To reload it, use:\n",
      "  %reload_ext autoreload\n"
     ]
    },
    {
     "data": {
      "text/plain": [
       "<torch._C.Generator at 0x7fc798f04f30>"
      ]
     },
     "execution_count": 121,
     "metadata": {},
     "output_type": "execute_result"
    }
   ],
   "source": [
    "%load_ext autoreload\n",
    "%autoreload 2\n",
    "import math\n",
    "import numpy as np\n",
    "import pandas as pd\n",
    "import sklearn\n",
    "from utils import *\n",
    "from models.MNL import *\n",
    "import matplotlib.pyplot as plt\n",
    "\n",
    "import torch\n",
    "import torch.nn as nn\n",
    "import torch.nn.functional as F\n",
    "import torch.optim as optim\n",
    "import cv2\n",
    "%matplotlib inline\n",
    "seed = 0\n",
    "np.random.seed(seed)\n",
    "random.seed(seed)\n",
    "torch.manual_seed(seed)"
   ]
  },
  {
   "cell_type": "code",
   "execution_count": 122,
   "metadata": {},
   "outputs": [
    {
     "name": "stdout",
     "output_type": "stream",
     "text": [
      "(7291, 784) (2007, 784)\n"
     ]
    }
   ],
   "source": [
    "# usps dataset from kaggle\n",
    "import h5py\n",
    "path = './data/usps.h5'\n",
    "with h5py.File(path, 'r') as hf:\n",
    "    train_data = hf.get('train')\n",
    "    X_tr = np.array(train_data.get('data')[:])\n",
    "    usps_y_tr = train_data.get('target')[:]\n",
    "    test_data = hf.get('test')\n",
    "    X_te = np.array(test_data.get('data')[:])\n",
    "    usps_y_te = test_data.get('target')[:]\n",
    "\n",
    "\n",
    "usps_X_tr = [[] for i in range(len(X_tr))]\n",
    "usps_X_te = [[] for i in range(len(X_te))]\n",
    "\n",
    "for i in range(len(X_tr)):\n",
    "    temp = np.array(X_tr[i].reshape(16,16))\n",
    "    temp = cv2.resize(temp, (28, 28), interpolation=cv2.INTER_CUBIC)\n",
    "    usps_X_tr[i] = temp.flatten()\n",
    "\n",
    "              \n",
    "for i in range(len(usps_X_te)):\n",
    "    temp = np.array(X_te[i].reshape(16,16))\n",
    "    temp = cv2.resize(temp, (28, 28), interpolation=cv2.INTER_CUBIC)\n",
    "    usps_X_te[i] = temp.flatten()\n",
    "    \n",
    "usps_X_tr = np.array(usps_X_tr)\n",
    "usps_X_te = np.array(usps_X_te)\n",
    "\n",
    "print(np.array(usps_X_tr).shape, np.array(usps_X_te).shape)"
   ]
  },
  {
   "cell_type": "code",
   "execution_count": 123,
   "metadata": {},
   "outputs": [
    {
     "name": "stdout",
     "output_type": "stream",
     "text": [
      "[9 6 3 6 6 0 0 0 6 9]\n"
     ]
    },
    {
     "data": {
      "image/png": "[encoded data removed]",
      "text/plain": [
       "<Figure size 216x360 with 1 Axes>"
      ]
     },
     "metadata": {
      "needs_background": "light"
     },
     "output_type": "display_data"
    }
   ],
   "source": [
    "print(usps_y_te[:10])\n",
    "pic_n = 1\n",
    "fig, ax = plt.subplots(pic_n, 1, sharex = True, sharey = True, figsize=(3, 5))\n",
    "for i in range(pic_n):\n",
    "    ax.imshow(X_tr[0].reshape([16, 16]), 'gray')"
   ]
  },
  {
   "cell_type": "code",
   "execution_count": 124,
   "metadata": {},
   "outputs": [
    {
     "data": {
      "image/png": "[encoded data removed]",
      "text/plain": [
       "<Figure size 216x360 with 1 Axes>"
      ]
     },
     "metadata": {
      "needs_background": "light"
     },
     "output_type": "display_data"
    }
   ],
   "source": [
    "size=28\n",
    "img = np.array(X_tr[0].reshape(16,16))\n",
    "res = cv2.resize(img, (size, size), interpolation=cv2.INTER_CUBIC)\n",
    "fig, ax = plt.subplots(pic_n, 1, sharex = True, sharey = True, figsize=(3, 5))\n",
    "for i in range(pic_n):\n",
    "    ax.imshow(res, 'gray')"
   ]
  },
  {
   "cell_type": "code",
   "execution_count": 161,
   "metadata": {},
   "outputs": [
    {
     "name": "stdout",
     "output_type": "stream",
     "text": [
      "(60000,)\n",
      "train_size: torch.Size([10000, 28, 28, 1])\n",
      "test_size: torch.Size([10000])\n",
      "torch.Size([1000, 784])\n"
     ]
    },
    {
     "data": {
      "application/vnd.jupyter.widget-view+json": {
       "model_id": "f91847fe40624c71892415bec6d31a2a",
       "version_major": 2,
       "version_minor": 0
      },
      "text/plain": [
       "HBox(children=(IntProgress(value=0, description='Epochs', max=20, style=ProgressStyle(description_width='initi…"
      ]
     },
     "metadata": {},
     "output_type": "display_data"
    },
    {
     "name": "stdout",
     "output_type": "stream",
     "text": [
      "\n",
      "[Train] Accuracy: 48.70%, loss:  0.0017\n",
      "[Test] Accuracy: 23.35%, loss:  0.0022\n"
     ]
    }
   ],
   "source": [
    "data = MNIST(one_hot=False, shuffle=False)\n",
    "\n",
    "seed = 0\n",
    "np.random.seed(seed)\n",
    "torch.manual_seed(seed)\n",
    "\n",
    "# Hyper Parameters \n",
    "input_size = 784\n",
    "num_classes = 10\n",
    "batch_size = 1024\n",
    "epochs = 20\n",
    "learning_rate = 0.01\n",
    "train_size = 1000\n",
    "test_size = 1000\n",
    "\n",
    "device = torch.device('cuda')\n",
    "print(data.y_train.shape)\n",
    "model = MNL(input_size, num_classes).to(device)\n",
    "optimizer = optim.SGD(model.parameters(), lr=learning_rate)\n",
    "criterion = nn.CrossEntropyLoss()\n",
    "\n",
    "mnist_x_train = torch.from_numpy(data.x_test[:test_size]).contiguous().view(-1, data.x_train.shape[1], \n",
    "                                          data.x_train.shape[2], data.x_train.shape[3])\n",
    "mnist_y_train = torch.from_numpy(data.y_test[:test_size]).view(-1,).long()\n",
    "print(\"train_size:\", mnist_x_test.shape)\n",
    "\n",
    "mnist_x_test = torch.from_numpy(data.x_test).contiguous().view(-1, data.x_train.shape[1], \n",
    "                                          data.x_train.shape[2], data.x_train.shape[3])\n",
    "mnist_y_test = torch.from_numpy(data.y_test).view(-1,).long()\n",
    "print(\"test_size:\", mnist_y_test.shape)\n",
    "\n",
    "usps_x_train = torch.from_numpy(usps_X_tr[:test_size]).contiguous()\n",
    "usps_y_train = torch.from_numpy(usps_y_tr[:test_size]).view(-1,).long()\n",
    "usps_x_test = torch.from_numpy(usps_X_te[:test_size]).contiguous()\n",
    "usps_y_test = torch.from_numpy(usps_y_te[:test_size]).view(-1,).long()\n",
    "\n",
    "print(usps_x_train.shape)\n",
    "\n",
    "train(model, device, usps_x_train, usps_y_train, batch_size, optimizer, criterion, epochs)\n",
    "accuracy, avg_loss = evaluate(model, device, usps_x_train, usps_y_train[:train_size], batch_size, criterion)\n",
    "print(f'[Train] Accuracy: {100 * accuracy:5.2f}%, loss: {avg_loss:7.4f}')\n",
    "\n",
    "accuracy, avg_loss = evaluate(model, device, mnist_x_test, mnist_y_test, batch_size, criterion)\n",
    "print(f'[Test] Accuracy: {100 * accuracy:5.2f}%, loss: {avg_loss:7.4f}')"
   ]
  },
  {
   "cell_type": "code",
   "execution_count": null,
   "metadata": {},
   "outputs": [],
   "source": []
  },
  {
   "cell_type": "code",
   "execution_count": 162,
   "metadata": {},
   "outputs": [
    {
     "name": "stdout",
     "output_type": "stream",
     "text": [
      "(1000, 784) (1000, 784)\n"
     ]
    }
   ],
   "source": [
    "deep_f_train = []\n",
    "deep_f_test = []\n",
    "targets = []\n",
    "for X, y in batch(usps_x_train, usps_y_train, batch_size):\n",
    "    X = X.to(device).float()\n",
    "    fc3, y_pre = model(X)\n",
    "    deep_f_train.append(fc3.view(fc3.size(0), -1).cpu().detach().numpy())\n",
    "\n",
    "for X, y in batch(mnist_x_train, mnist_y_train, batch_size):\n",
    "    X = X.to(device).float()\n",
    "    fc3, y_pre = model(X)\n",
    "    deep_f_test.append(fc3.view(fc3.size(0), -1).cpu().detach().numpy())\n",
    "\n",
    "deep_f_train = np.concatenate(deep_f_train) # deep features are not normalized\n",
    "deep_f_test = np.concatenate(deep_f_test) # deep features are not normalized\n",
    "print(deep_f_train.shape, deep_f_test.shape) "
   ]
  },
  {
   "cell_type": "code",
   "execution_count": null,
   "metadata": {},
   "outputs": [],
   "source": []
  },
  {
   "cell_type": "code",
   "execution_count": 163,
   "metadata": {},
   "outputs": [
    {
     "data": {
      "application/vnd.jupyter.widget-view+json": {
       "model_id": "",
       "version_major": 2,
       "version_minor": 0
      },
      "text/plain": [
       "HBox(children=(IntProgress(value=0, max=1000), HTML(value='')))"
      ]
     },
     "metadata": {},
     "output_type": "display_data"
    },
    {
     "name": "stdout",
     "output_type": "stream",
     "text": [
      "\r",
      "neighbour number: 1 0.345\n"
     ]
    },
    {
     "data": {
      "application/vnd.jupyter.widget-view+json": {
       "model_id": "",
       "version_major": 2,
       "version_minor": 0
      },
      "text/plain": [
       "HBox(children=(IntProgress(value=0, max=1000), HTML(value='')))"
      ]
     },
     "metadata": {},
     "output_type": "display_data"
    },
    {
     "name": "stdout",
     "output_type": "stream",
     "text": [
      "\r"
     ]
    },
    {
     "data": {
      "application/vnd.jupyter.widget-view+json": {
       "model_id": "",
       "version_major": 2,
       "version_minor": 0
      },
      "text/plain": [
       "HBox(children=(IntProgress(value=0, max=1000), HTML(value='')))"
      ]
     },
     "metadata": {},
     "output_type": "display_data"
    },
    {
     "name": "stdout",
     "output_type": "stream",
     "text": [
      "\r",
      "neighbour number: 2 0.24\n"
     ]
    },
    {
     "data": {
      "application/vnd.jupyter.widget-view+json": {
       "model_id": "",
       "version_major": 2,
       "version_minor": 0
      },
      "text/plain": [
       "HBox(children=(IntProgress(value=0, max=1000), HTML(value='')))"
      ]
     },
     "metadata": {},
     "output_type": "display_data"
    },
    {
     "name": "stdout",
     "output_type": "stream",
     "text": [
      "\r"
     ]
    },
    {
     "data": {
      "application/vnd.jupyter.widget-view+json": {
       "model_id": "",
       "version_major": 2,
       "version_minor": 0
      },
      "text/plain": [
       "HBox(children=(IntProgress(value=0, max=1000), HTML(value='')))"
      ]
     },
     "metadata": {},
     "output_type": "display_data"
    },
    {
     "name": "stdout",
     "output_type": "stream",
     "text": [
      "\r",
      "neighbour number: 3 0.308\n"
     ]
    },
    {
     "data": {
      "application/vnd.jupyter.widget-view+json": {
       "model_id": "",
       "version_major": 2,
       "version_minor": 0
      },
      "text/plain": [
       "HBox(children=(IntProgress(value=0, max=1000), HTML(value='')))"
      ]
     },
     "metadata": {},
     "output_type": "display_data"
    },
    {
     "name": "stdout",
     "output_type": "stream",
     "text": [
      "\r"
     ]
    },
    {
     "data": {
      "application/vnd.jupyter.widget-view+json": {
       "model_id": "",
       "version_major": 2,
       "version_minor": 0
      },
      "text/plain": [
       "HBox(children=(IntProgress(value=0, max=1000), HTML(value='')))"
      ]
     },
     "metadata": {},
     "output_type": "display_data"
    },
    {
     "name": "stdout",
     "output_type": "stream",
     "text": [
      "\r",
      "neighbour number: 4 0.234\n"
     ]
    },
    {
     "data": {
      "application/vnd.jupyter.widget-view+json": {
       "model_id": "",
       "version_major": 2,
       "version_minor": 0
      },
      "text/plain": [
       "HBox(children=(IntProgress(value=0, max=1000), HTML(value='')))"
      ]
     },
     "metadata": {},
     "output_type": "display_data"
    },
    {
     "name": "stdout",
     "output_type": "stream",
     "text": [
      "\r"
     ]
    },
    {
     "data": {
      "application/vnd.jupyter.widget-view+json": {
       "model_id": "",
       "version_major": 2,
       "version_minor": 0
      },
      "text/plain": [
       "HBox(children=(IntProgress(value=0, max=1000), HTML(value='')))"
      ]
     },
     "metadata": {},
     "output_type": "display_data"
    },
    {
     "name": "stdout",
     "output_type": "stream",
     "text": [
      "\r",
      "neighbour number: 5 0.264\n"
     ]
    },
    {
     "data": {
      "application/vnd.jupyter.widget-view+json": {
       "model_id": "",
       "version_major": 2,
       "version_minor": 0
      },
      "text/plain": [
       "HBox(children=(IntProgress(value=0, max=1000), HTML(value='')))"
      ]
     },
     "metadata": {},
     "output_type": "display_data"
    },
    {
     "name": "stdout",
     "output_type": "stream",
     "text": [
      "\r"
     ]
    },
    {
     "data": {
      "application/vnd.jupyter.widget-view+json": {
       "model_id": "",
       "version_major": 2,
       "version_minor": 0
      },
      "text/plain": [
       "HBox(children=(IntProgress(value=0, max=1000), HTML(value='')))"
      ]
     },
     "metadata": {},
     "output_type": "display_data"
    },
    {
     "name": "stdout",
     "output_type": "stream",
     "text": [
      "\r",
      "neighbour number: 6 0.221\n"
     ]
    },
    {
     "data": {
      "application/vnd.jupyter.widget-view+json": {
       "model_id": "",
       "version_major": 2,
       "version_minor": 0
      },
      "text/plain": [
       "HBox(children=(IntProgress(value=0, max=1000), HTML(value='')))"
      ]
     },
     "metadata": {},
     "output_type": "display_data"
    },
    {
     "name": "stdout",
     "output_type": "stream",
     "text": [
      "\r"
     ]
    },
    {
     "data": {
      "application/vnd.jupyter.widget-view+json": {
       "model_id": "",
       "version_major": 2,
       "version_minor": 0
      },
      "text/plain": [
       "HBox(children=(IntProgress(value=0, max=1000), HTML(value='')))"
      ]
     },
     "metadata": {},
     "output_type": "display_data"
    },
    {
     "name": "stdout",
     "output_type": "stream",
     "text": [
      "\r",
      "neighbour number: 7 0.248\n"
     ]
    },
    {
     "data": {
      "application/vnd.jupyter.widget-view+json": {
       "model_id": "",
       "version_major": 2,
       "version_minor": 0
      },
      "text/plain": [
       "HBox(children=(IntProgress(value=0, max=1000), HTML(value='')))"
      ]
     },
     "metadata": {},
     "output_type": "display_data"
    },
    {
     "name": "stdout",
     "output_type": "stream",
     "text": [
      "\r"
     ]
    },
    {
     "data": {
      "application/vnd.jupyter.widget-view+json": {
       "model_id": "",
       "version_major": 2,
       "version_minor": 0
      },
      "text/plain": [
       "HBox(children=(IntProgress(value=0, max=1000), HTML(value='')))"
      ]
     },
     "metadata": {},
     "output_type": "display_data"
    },
    {
     "name": "stdout",
     "output_type": "stream",
     "text": [
      "\r",
      "neighbour number: 8 0.213\n"
     ]
    },
    {
     "data": {
      "application/vnd.jupyter.widget-view+json": {
       "model_id": "",
       "version_major": 2,
       "version_minor": 0
      },
      "text/plain": [
       "HBox(children=(IntProgress(value=0, max=1000), HTML(value='')))"
      ]
     },
     "metadata": {},
     "output_type": "display_data"
    },
    {
     "name": "stdout",
     "output_type": "stream",
     "text": [
      "\r"
     ]
    },
    {
     "data": {
      "application/vnd.jupyter.widget-view+json": {
       "model_id": "",
       "version_major": 2,
       "version_minor": 0
      },
      "text/plain": [
       "HBox(children=(IntProgress(value=0, max=1000), HTML(value='')))"
      ]
     },
     "metadata": {},
     "output_type": "display_data"
    },
    {
     "name": "stdout",
     "output_type": "stream",
     "text": [
      "\r",
      "neighbour number: 9 0.237\n"
     ]
    },
    {
     "data": {
      "application/vnd.jupyter.widget-view+json": {
       "model_id": "",
       "version_major": 2,
       "version_minor": 0
      },
      "text/plain": [
       "HBox(children=(IntProgress(value=0, max=1000), HTML(value='')))"
      ]
     },
     "metadata": {},
     "output_type": "display_data"
    },
    {
     "name": "stdout",
     "output_type": "stream",
     "text": [
      "\r"
     ]
    }
   ],
   "source": [
    "import math\n",
    "kmin = 1\n",
    "kmax = 10\n",
    "kinterval = 1\n",
    "fc1_knn_values = [[] for _ in range(math.ceil((kmax-kmin)/kinterval))] # deep features\n",
    "loo_fc1_knn_values = [[] for _ in range(math.ceil((kmax-kmin)/kinterval))] # deep features\n",
    "\n",
    "for i, k in enumerate(range(kmin, kmax, kinterval)):\n",
    "    loo_fc1_knn_values[i], score, *_ = loo_knn_shapley(k, deep_f_train, deep_f_test, usps_y_train, mnist_y_test)\n",
    "    print(\"neighbour number:\", k, score)\n",
    "    fc1_knn_values[i],*_ = old_knn_shapley(k, deep_f_train, deep_f_test, usps_y_train, mnist_y_test)"
   ]
  },
  {
   "cell_type": "raw",
   "metadata": {},
   "source": [
    "# usps dataset from https://github.com/darshanbagul/USPS_Digit_Classification/blob/master/USPS_Digit_Classification.ipynb\n",
    "import cv2\n",
    "path_to_data = \"./data/Numerals/\"\n",
    "img_list = os.listdir(path_to_data)\n",
    "sz = (28,28)\n",
    "validation_usps = []\n",
    "validation_usps_label = []\n",
    "for i in range(10):\n",
    "    label_data = path_to_data + str(i) + '/'\n",
    "    img_list = os.listdir(label_data)\n",
    "    for name in img_list:\n",
    "        if '.png' in name:\n",
    "            img = cv2.imread(label_data+name)\n",
    "            img = cv2.cvtColor(img, cv2.COLOR_BGR2GRAY)\n",
    "#             print_img(img)\n",
    "#             print(img.shape)\n",
    "            resized_img = resize_and_scale(img, sz, 255)\n",
    "            validation_usps.append(resized_img.flatten())\n",
    "            validation_usps_label.append(i)\n",
    "validation_usps = np.array(validation_usps)\n",
    "print(validation_usps.shape)\n",
    "validation_usps_label= np.array(validation_usps_label)\n",
    "print((validation_usps_label).shape)"
   ]
  },
  {
   "cell_type": "code",
   "execution_count": 164,
   "metadata": {},
   "outputs": [],
   "source": [
    "# print(len(knn_values[1][0]))"
   ]
  },
  {
   "cell_type": "code",
   "execution_count": 165,
   "metadata": {},
   "outputs": [
    {
     "name": "stdout",
     "output_type": "stream",
     "text": [
      "(942,)\n",
      "(945,)\n",
      "(947,)\n",
      "(951,)\n",
      "(950,)\n",
      "(950,)\n",
      "(951,)\n",
      "(953,)\n",
      "(955,)\n"
     ]
    },
    {
     "data": {
      "image/png": "[encoded data removed]",
      "text/plain": [
       "<Figure size 1440x720 with 9 Axes>"
      ]
     },
     "metadata": {
      "needs_background": "light"
     },
     "output_type": "display_data"
    }
   ],
   "source": [
    "import pandas as pd\n",
    "pd.options.display.max_columns = None\n",
    "from IPython.display import display\n",
    "class_weights = [[0.0 for i in range(10)] for i in range(kmin, kmax, kinterval)]\n",
    "knn_values_idx = [[0.0 for i in range(10)] for i in range(kmin, kmax, kinterval)]\n",
    "knn_values_advanced = [[0.0 for i in range(10)] for i in range(kmin, kmax, kinterval)]\n",
    "loo_knn_values_idx = [[0.0 for i in range(10)] for i in range(kmin, kmax, kinterval)]\n",
    "loo_knn_values_advanced = [[0.0 for i in range(10)] for i in range(kmin, kmax, kinterval)]\n",
    "#removing negative data\n",
    "for i in range(len(fc1_knn_values)):\n",
    "#     print(i)\n",
    "    knn_values_idx[i] = np.where(fc1_knn_values[i] > 0)[0]\n",
    "    knn_values_advanced[i] = fc1_knn_values[i][np.where(fc1_knn_values[i] > 0)[0]]\n",
    "    print(knn_values_idx[i].shape)\n",
    "    loo_knn_values_idx[i] = np.where(loo_fc1_knn_values[i] > 0)[0]\n",
    "    loo_knn_values_advanced[i] = loo_fc1_knn_values[i][np.where(loo_fc1_knn_values[i] > 0)[0]]\n",
    "\n",
    "#     for j in range(train_size):\n",
    "#         if(fc1_knn_values[i][j]>0):\n",
    "#             class_weights[i][targets[j]] += fc1_knn_values[i][j]\n",
    "\n",
    "# for i in range(len(class_weights)):\n",
    "#     print(class_weights[i])\n",
    "fig=plt.figure(figsize=(20, 10))\n",
    "for i, k in enumerate(range(kmin, kmax, kinterval)):\n",
    "#     print(i,k)\n",
    "    fig.add_subplot( 2, 5, i+1)\n",
    "    plt.hist(fc1_knn_values[i].astype('float'), label=k)\n",
    "    plt.legend()\n",
    "plt.show()"
   ]
  },
  {
   "cell_type": "raw",
   "metadata": {},
   "source": [
    "import pandas as pd\n",
    "pd.options.display.max_columns = None\n",
    "from IPython.display import display\n",
    "k = 0\n",
    "number = 1000\n",
    "display(knn_values[k][:10])\n",
    "idxs = np.argsort(knn_values[k]) \n",
    "# idxs=np.flip(idxs, 0)\n",
    "# print(idxs[:number])\n",
    "# print(knn_values[k][idxs[:number]])\n",
    "\n",
    "print(\"print frequency of shapley value data\")\n",
    "# print(y_train[idxs[:10]])\n",
    "y = torch.bincount(y_train[idxs[-number:]])\n",
    "print(y)\n",
    "# ii = np.nonzero(y)[0]\n",
    "# print(zip(ii,y[ii]) )\n",
    "\n",
    "\n",
    "# print(knn_values[0].sort())\n",
    "\n",
    "# fig=plt.figure(figsize=(20, 20))\n",
    "# for i,idx in enumerate(idxs[:number]):\n",
    "# #     print(i)\n",
    "#     img = data.x_train[idx]\n",
    "    \n",
    "# #     print(idx, knn_values[0][idx])\n",
    "#     fig.add_subplot( number/10, 10, i+1)\n",
    "#     plt.imshow((img.squeeze()* 255).astype(np.uint8), interpolation='nearest')\n",
    "# plt.show()"
   ]
  },
  {
   "cell_type": "code",
   "execution_count": 166,
   "metadata": {},
   "outputs": [
    {
     "name": "stdout",
     "output_type": "stream",
     "text": [
      "K= 1\n",
      "torch.Size([942, 784]) torch.Size([942])\n"
     ]
    },
    {
     "data": {
      "application/vnd.jupyter.widget-view+json": {
       "model_id": "69ec82aab6dc47f98574b7112bacaff0",
       "version_major": 2,
       "version_minor": 0
      },
      "text/plain": [
       "HBox(children=(IntProgress(value=0, description='Epochs', max=20, style=ProgressStyle(description_width='initi…"
      ]
     },
     "metadata": {},
     "output_type": "display_data"
    },
    {
     "name": "stdout",
     "output_type": "stream",
     "text": [
      "\n",
      "[Test] Accuracy: 21.34%, loss:  0.0022\n",
      "torch.Size([59, 784]) torch.Size([59])\n"
     ]
    },
    {
     "data": {
      "application/vnd.jupyter.widget-view+json": {
       "model_id": "a06b4a5ba15c40daadfb8268a0cf24b5",
       "version_major": 2,
       "version_minor": 0
      },
      "text/plain": [
       "HBox(children=(IntProgress(value=0, description='Epochs', max=20, style=ProgressStyle(description_width='initi…"
      ]
     },
     "metadata": {},
     "output_type": "display_data"
    },
    {
     "name": "stdout",
     "output_type": "stream",
     "text": [
      "\n",
      "loo [Test] Accuracy: 28.72%, loss:  0.0022\n",
      "K= 2\n",
      "torch.Size([945, 784]) torch.Size([945])\n"
     ]
    },
    {
     "data": {
      "application/vnd.jupyter.widget-view+json": {
       "model_id": "287b893c88524574b910c98803f0f2ad",
       "version_major": 2,
       "version_minor": 0
      },
      "text/plain": [
       "HBox(children=(IntProgress(value=0, description='Epochs', max=20, style=ProgressStyle(description_width='initi…"
      ]
     },
     "metadata": {},
     "output_type": "display_data"
    },
    {
     "name": "stdout",
     "output_type": "stream",
     "text": [
      "\n",
      "[Test] Accuracy: 26.09%, loss:  0.0022\n",
      "torch.Size([87, 784]) torch.Size([87])\n"
     ]
    },
    {
     "data": {
      "application/vnd.jupyter.widget-view+json": {
       "model_id": "2a171a32de2a4f5baeb8dded80a1285a",
       "version_major": 2,
       "version_minor": 0
      },
      "text/plain": [
       "HBox(children=(IntProgress(value=0, description='Epochs', max=20, style=ProgressStyle(description_width='initi…"
      ]
     },
     "metadata": {},
     "output_type": "display_data"
    },
    {
     "name": "stdout",
     "output_type": "stream",
     "text": [
      "\n",
      "loo [Test] Accuracy: 26.07%, loss:  0.0022\n",
      "K= 3\n",
      "torch.Size([947, 784]) torch.Size([947])\n"
     ]
    },
    {
     "data": {
      "application/vnd.jupyter.widget-view+json": {
       "model_id": "7472f809424f4799bb51c7ed6d8a3cd6",
       "version_major": 2,
       "version_minor": 0
      },
      "text/plain": [
       "HBox(children=(IntProgress(value=0, description='Epochs', max=20, style=ProgressStyle(description_width='initi…"
      ]
     },
     "metadata": {},
     "output_type": "display_data"
    },
    {
     "name": "stdout",
     "output_type": "stream",
     "text": [
      "\n",
      "[Test] Accuracy: 26.50%, loss:  0.0022\n",
      "torch.Size([116, 784]) torch.Size([116])\n"
     ]
    },
    {
     "data": {
      "application/vnd.jupyter.widget-view+json": {
       "model_id": "36a1dc8fcc9f442f98cddf42d477501c",
       "version_major": 2,
       "version_minor": 0
      },
      "text/plain": [
       "HBox(children=(IntProgress(value=0, description='Epochs', max=20, style=ProgressStyle(description_width='initi…"
      ]
     },
     "metadata": {},
     "output_type": "display_data"
    },
    {
     "name": "stdout",
     "output_type": "stream",
     "text": [
      "\n",
      "loo [Test] Accuracy: 26.77%, loss:  0.0022\n",
      "K= 4\n",
      "torch.Size([951, 784]) torch.Size([951])\n"
     ]
    },
    {
     "data": {
      "application/vnd.jupyter.widget-view+json": {
       "model_id": "397803480a0649e3999f9ae784c76f1a",
       "version_major": 2,
       "version_minor": 0
      },
      "text/plain": [
       "HBox(children=(IntProgress(value=0, description='Epochs', max=20, style=ProgressStyle(description_width='initi…"
      ]
     },
     "metadata": {},
     "output_type": "display_data"
    },
    {
     "name": "stdout",
     "output_type": "stream",
     "text": [
      "\n",
      "[Test] Accuracy: 27.56%, loss:  0.0022\n",
      "torch.Size([130, 784]) torch.Size([130])\n"
     ]
    },
    {
     "data": {
      "application/vnd.jupyter.widget-view+json": {
       "model_id": "8a95d72d0ca447a6a00cc237c4371b40",
       "version_major": 2,
       "version_minor": 0
      },
      "text/plain": [
       "HBox(children=(IntProgress(value=0, description='Epochs', max=20, style=ProgressStyle(description_width='initi…"
      ]
     },
     "metadata": {},
     "output_type": "display_data"
    },
    {
     "name": "stdout",
     "output_type": "stream",
     "text": [
      "\n",
      "loo [Test] Accuracy: 30.01%, loss:  0.0022\n",
      "K= 5\n",
      "torch.Size([950, 784]) torch.Size([950])\n"
     ]
    },
    {
     "data": {
      "application/vnd.jupyter.widget-view+json": {
       "model_id": "6788abc4d63247bf98992302d2b5cccf",
       "version_major": 2,
       "version_minor": 0
      },
      "text/plain": [
       "HBox(children=(IntProgress(value=0, description='Epochs', max=20, style=ProgressStyle(description_width='initi…"
      ]
     },
     "metadata": {},
     "output_type": "display_data"
    },
    {
     "name": "stdout",
     "output_type": "stream",
     "text": [
      "\n",
      "[Test] Accuracy: 24.59%, loss:  0.0022\n",
      "torch.Size([129, 784]) torch.Size([129])\n"
     ]
    },
    {
     "data": {
      "application/vnd.jupyter.widget-view+json": {
       "model_id": "85a5f14aff734a0383a084c5f67230f0",
       "version_major": 2,
       "version_minor": 0
      },
      "text/plain": [
       "HBox(children=(IntProgress(value=0, description='Epochs', max=20, style=ProgressStyle(description_width='initi…"
      ]
     },
     "metadata": {},
     "output_type": "display_data"
    },
    {
     "name": "stdout",
     "output_type": "stream",
     "text": [
      "\n",
      "loo [Test] Accuracy: 31.22%, loss:  0.0022\n",
      "K= 6\n",
      "torch.Size([950, 784]) torch.Size([950])\n"
     ]
    },
    {
     "data": {
      "application/vnd.jupyter.widget-view+json": {
       "model_id": "e216db392df14334977c3461a8a64711",
       "version_major": 2,
       "version_minor": 0
      },
      "text/plain": [
       "HBox(children=(IntProgress(value=0, description='Epochs', max=20, style=ProgressStyle(description_width='initi…"
      ]
     },
     "metadata": {},
     "output_type": "display_data"
    },
    {
     "name": "stdout",
     "output_type": "stream",
     "text": [
      "\n",
      "[Test] Accuracy: 25.17%, loss:  0.0022\n",
      "torch.Size([152, 784]) torch.Size([152])\n"
     ]
    },
    {
     "data": {
      "application/vnd.jupyter.widget-view+json": {
       "model_id": "dc68b7931ded4488a9d2a6cd50b1663f",
       "version_major": 2,
       "version_minor": 0
      },
      "text/plain": [
       "HBox(children=(IntProgress(value=0, description='Epochs', max=20, style=ProgressStyle(description_width='initi…"
      ]
     },
     "metadata": {},
     "output_type": "display_data"
    },
    {
     "name": "stdout",
     "output_type": "stream",
     "text": [
      "\n",
      "loo [Test] Accuracy: 35.95%, loss:  0.0022\n",
      "K= 7\n",
      "torch.Size([951, 784]) torch.Size([951])\n"
     ]
    },
    {
     "data": {
      "application/vnd.jupyter.widget-view+json": {
       "model_id": "1d889d5b74e24a87b02bf9b773eb0a74",
       "version_major": 2,
       "version_minor": 0
      },
      "text/plain": [
       "HBox(children=(IntProgress(value=0, description='Epochs', max=20, style=ProgressStyle(description_width='initi…"
      ]
     },
     "metadata": {},
     "output_type": "display_data"
    },
    {
     "name": "stdout",
     "output_type": "stream",
     "text": [
      "\n",
      "[Test] Accuracy: 26.42%, loss:  0.0022\n",
      "torch.Size([141, 784]) torch.Size([141])\n"
     ]
    },
    {
     "data": {
      "application/vnd.jupyter.widget-view+json": {
       "model_id": "c6014a7913324da29a4da55019a80b9a",
       "version_major": 2,
       "version_minor": 0
      },
      "text/plain": [
       "HBox(children=(IntProgress(value=0, description='Epochs', max=20, style=ProgressStyle(description_width='initi…"
      ]
     },
     "metadata": {},
     "output_type": "display_data"
    },
    {
     "name": "stdout",
     "output_type": "stream",
     "text": [
      "\n",
      "loo [Test] Accuracy: 25.70%, loss:  0.0022\n",
      "K= 8\n",
      "torch.Size([953, 784]) torch.Size([953])\n"
     ]
    },
    {
     "data": {
      "application/vnd.jupyter.widget-view+json": {
       "model_id": "a3088b4b35fd47b1b0f264330118b6f8",
       "version_major": 2,
       "version_minor": 0
      },
      "text/plain": [
       "HBox(children=(IntProgress(value=0, description='Epochs', max=20, style=ProgressStyle(description_width='initi…"
      ]
     },
     "metadata": {},
     "output_type": "display_data"
    },
    {
     "name": "stdout",
     "output_type": "stream",
     "text": [
      "\n",
      "[Test] Accuracy: 28.49%, loss:  0.0022\n",
      "torch.Size([143, 784]) torch.Size([143])\n"
     ]
    },
    {
     "data": {
      "application/vnd.jupyter.widget-view+json": {
       "model_id": "15d926b2aa5e48e5bd371aa3e856b7c5",
       "version_major": 2,
       "version_minor": 0
      },
      "text/plain": [
       "HBox(children=(IntProgress(value=0, description='Epochs', max=20, style=ProgressStyle(description_width='initi…"
      ]
     },
     "metadata": {},
     "output_type": "display_data"
    },
    {
     "name": "stdout",
     "output_type": "stream",
     "text": [
      "\n",
      "loo [Test] Accuracy: 26.35%, loss:  0.0022\n",
      "K= 9\n",
      "torch.Size([955, 784]) torch.Size([955])\n"
     ]
    },
    {
     "data": {
      "application/vnd.jupyter.widget-view+json": {
       "model_id": "a590289f308949b5ab886308cb4a2dc8",
       "version_major": 2,
       "version_minor": 0
      },
      "text/plain": [
       "HBox(children=(IntProgress(value=0, description='Epochs', max=20, style=ProgressStyle(description_width='initi…"
      ]
     },
     "metadata": {},
     "output_type": "display_data"
    },
    {
     "name": "stdout",
     "output_type": "stream",
     "text": [
      "\n",
      "[Test] Accuracy: 30.25%, loss:  0.0022\n",
      "torch.Size([157, 784]) torch.Size([157])\n"
     ]
    },
    {
     "data": {
      "application/vnd.jupyter.widget-view+json": {
       "model_id": "4c1d252c9b364862ba7bcc7f82cd8093",
       "version_major": 2,
       "version_minor": 0
      },
      "text/plain": [
       "HBox(children=(IntProgress(value=0, description='Epochs', max=20, style=ProgressStyle(description_width='initi…"
      ]
     },
     "metadata": {},
     "output_type": "display_data"
    },
    {
     "name": "stdout",
     "output_type": "stream",
     "text": [
      "\n",
      "loo [Test] Accuracy: 24.56%, loss:  0.0022\n"
     ]
    }
   ],
   "source": [
    "for i, k in enumerate(range(kmin, kmax, kinterval)):\n",
    "    print(\"K=\", k)\n",
    "    device = torch.device('cuda')\n",
    "    model = MNL(input_size, num_classes).to(device)\n",
    "    optimizer = optim.SGD(model.parameters(), lr=learning_rate)\n",
    "    criterion = nn.CrossEntropyLoss()\n",
    "\n",
    "    x_train_val, y_train_val = usps_x_train[knn_values_idx[i]], usps_y_train[knn_values_idx[i]]\n",
    "    print(x_train_val.shape, y_train_val.shape)\n",
    "    \n",
    "    train(model, device, x_train_val, y_train_val, batch_size, optimizer, criterion, epochs)\n",
    "    accuracy, avg_loss = evaluate(model, device, mnist_x_test, mnist_y_test, batch_size, criterion)\n",
    "    print(f'[Test] Accuracy: {100 * accuracy:5.2f}%, loss: {avg_loss:7.4f}')\n",
    "    \n",
    "    model = MNL(input_size, num_classes).to(device)\n",
    "    optimizer = optim.SGD(model.parameters(), lr=learning_rate)\n",
    "    criterion = nn.CrossEntropyLoss()\n",
    "\n",
    "    x_train_val, y_train_val = usps_x_train[loo_knn_values_idx[i]], usps_y_train[loo_knn_values_idx[i]]\n",
    "    print(x_train_val.shape, y_train_val.shape)\n",
    "    \n",
    "    train(model, device, x_train_val, y_train_val, batch_size, optimizer, criterion, epochs)\n",
    "    accuracy, avg_loss = evaluate(model, device, mnist_x_test, mnist_y_test, batch_size, criterion)\n",
    "    print(f'loo [Test] Accuracy: {100 * accuracy:5.2f}%, loss: {avg_loss:7.4f}')\n",
    "    \n",
    "    "
   ]
  },
  {
   "cell_type": "code",
   "execution_count": 167,
   "metadata": {},
   "outputs": [
    {
     "name": "stdout",
     "output_type": "stream",
     "text": [
      "(1000,)\n",
      "[-0.001  0.     0.    -0.001  0.     0.     0.     0.     0.    -0.001]\n"
     ]
    }
   ],
   "source": [
    "# load data\n",
    "import pickle\n",
    "with open('./temp_domainUspsMnist/mem_tmc_0000.pkl', 'rb') as f:\n",
    "    tmc = pickle.load(f)\n",
    "    tmc_values = np.mean(tmc[\"mem_tmc\"],0)\n",
    "\n",
    "with open('./temp_domainUspsMnist/loo.pkl', 'rb') as f:\n",
    "    loo = pickle.load(f)\n",
    "    loo_values = loo[\"loo\"]\n",
    "print(loo_values.shape)\n",
    "print(loo_values[:10])\n",
    "\n"
   ]
  },
  {
   "cell_type": "code",
   "execution_count": 168,
   "metadata": {},
   "outputs": [
    {
     "name": "stdout",
     "output_type": "stream",
     "text": [
      "(189,) (663,)\n"
     ]
    }
   ],
   "source": [
    "loo_values_idx = np.where(loo_values > 0)[0]\n",
    "tmc_values_idx = np.where(tmc_values > 0)[0]\n",
    "print(loo_values_idx.shape, tmc_values_idx.shape)"
   ]
  },
  {
   "cell_type": "code",
   "execution_count": 171,
   "metadata": {},
   "outputs": [
    {
     "data": {
      "application/vnd.jupyter.widget-view+json": {
       "model_id": "38957f364206471f974487ddc29d75b3",
       "version_major": 2,
       "version_minor": 0
      },
      "text/plain": [
       "HBox(children=(IntProgress(value=0, description='Epochs', max=20, style=ProgressStyle(description_width='initi…"
      ]
     },
     "metadata": {},
     "output_type": "display_data"
    },
    {
     "name": "stdout",
     "output_type": "stream",
     "text": [
      "\n",
      "TMC [Test] Accuracy: 29.55%, loss:  0.0022\n"
     ]
    }
   ],
   "source": [
    "seed = 10\n",
    "np.random.seed(seed)\n",
    "random.seed(seed)\n",
    "torch.manual_seed(seed)\n",
    "torch.backends.cudnn.deterministic=True\n",
    "device = torch.device('cuda')\n",
    "model = MNL(input_size, num_classes).to(device)\n",
    "optimizer = optim.SGD(model.parameters(), lr=learning_rate)\n",
    "train(model, device, usps_x_train[tmc_values_idx], usps_y_train[tmc_values_idx], batch_size, optimizer, criterion, epochs)\n",
    "accuracy, avg_loss = evaluate(model, device, mnist_x_test, mnist_y_test, batch_size, criterion)\n",
    "print(f'TMC [Test] Accuracy: {100 * accuracy:5.2f}%, loss: {avg_loss:7.4f}')"
   ]
  },
  {
   "cell_type": "code",
   "execution_count": 170,
   "metadata": {},
   "outputs": [
    {
     "data": {
      "application/vnd.jupyter.widget-view+json": {
       "model_id": "d6b64d08b06b45958a6e0194a6f26794",
       "version_major": 2,
       "version_minor": 0
      },
      "text/plain": [
       "HBox(children=(IntProgress(value=0, description='Epochs', max=20, style=ProgressStyle(description_width='initi…"
      ]
     },
     "metadata": {},
     "output_type": "display_data"
    },
    {
     "name": "stdout",
     "output_type": "stream",
     "text": [
      "\n",
      "LOO [Test] Accuracy: 23.53%, loss:  0.0022\n"
     ]
    }
   ],
   "source": [
    "device = torch.device('cuda')\n",
    "model = MNL(input_size, num_classes).to(device)\n",
    "optimizer = optim.SGD(model.parameters(), lr=learning_rate)\n",
    "train(model, device, usps_x_train[loo_values_idx], usps_y_train[loo_values_idx], batch_size, optimizer, criterion, epochs)\n",
    "accuracy, avg_loss = evaluate(model, device, mnist_x_test, mnist_y_test, batch_size, criterion)\n",
    "print(f'LOO [Test] Accuracy: {100 * accuracy:5.2f}%, loss: {avg_loss:7.4f}')"
   ]
  },
  {
   "cell_type": "code",
   "execution_count": null,
   "metadata": {},
   "outputs": [],
   "source": []
  }
 ],
 "metadata": {
  "kernelspec": {
   "display_name": "Python 3",
   "language": "python",
   "name": "python3"
  },
  "language_info": {
   "codemirror_mode": {
    "name": "ipython",
    "version": 3
   },
   "file_extension": ".py",
   "mimetype": "text/x-python",
   "name": "python",
   "nbconvert_exporter": "python",
   "pygments_lexer": "ipython3",
   "version": "3.6.8"
  }
 },
 "nbformat": 4,
 "nbformat_minor": 2
}
