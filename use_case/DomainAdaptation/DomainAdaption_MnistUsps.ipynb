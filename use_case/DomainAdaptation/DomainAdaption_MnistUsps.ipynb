{
 "cells": [
  {
   "cell_type": "code",
   "execution_count": 18,
   "metadata": {},
   "outputs": [
    {
     "name": "stdout",
     "output_type": "stream",
     "text": [
      "The autoreload extension is already loaded. To reload it, use:\n",
      "  %reload_ext autoreload\n"
     ]
    },
    {
     "data": {
      "text/plain": [
       "<torch._C.Generator at 0x7f64f28a4e90>"
      ]
     },
     "execution_count": 18,
     "metadata": {},
     "output_type": "execute_result"
    }
   ],
   "source": [
    "%load_ext autoreload\n",
    "%autoreload 2\n",
    "import math\n",
    "import numpy as np\n",
    "import pandas as pd\n",
    "import sklearn\n",
    "from utils import *\n",
    "from models.MNL import *\n",
    "import matplotlib.pyplot as plt\n",
    "\n",
    "import torch\n",
    "import torch.nn as nn\n",
    "import torch.nn.functional as F\n",
    "import torch.optim as optim\n",
    "import cv2\n",
    "%matplotlib inline\n",
    "seed = 0\n",
    "np.random.seed(seed)\n",
    "random.seed(seed)\n",
    "torch.manual_seed(seed)"
   ]
  },
  {
   "cell_type": "code",
   "execution_count": 19,
   "metadata": {},
   "outputs": [
    {
     "name": "stdout",
     "output_type": "stream",
     "text": [
      "(7291, 784) (2007, 784)\n"
     ]
    }
   ],
   "source": [
    "# usps dataset from kaggle\n",
    "import h5py\n",
    "path = './data/usps.h5'\n",
    "with h5py.File(path, 'r') as hf:\n",
    "    train_data = hf.get('train')\n",
    "    X_tr = np.array(train_data.get('data')[:])\n",
    "    usps_y_tr = train_data.get('target')[:]\n",
    "    test_data = hf.get('test')\n",
    "    X_te = np.array(test_data.get('data')[:])\n",
    "    usps_y_te = test_data.get('target')[:]\n",
    "\n",
    "\n",
    "usps_X_tr = [[] for i in range(len(X_tr))]\n",
    "usps_X_te = [[] for i in range(len(X_te))]\n",
    "\n",
    "for i in range(len(X_tr)):\n",
    "    temp = np.array(X_tr[i].reshape(16,16))\n",
    "    temp = cv2.resize(temp, (28, 28), interpolation=cv2.INTER_CUBIC)\n",
    "    usps_X_tr[i] = temp.flatten()\n",
    "\n",
    "              \n",
    "for i in range(len(X_te)):\n",
    "    temp = np.array(X_te[i].reshape(16,16))\n",
    "    temp = cv2.resize(temp, (28, 28), interpolation=cv2.INTER_CUBIC)\n",
    "    usps_X_te[i] = temp.flatten()\n",
    "    \n",
    "usps_X_tr = np.array(usps_X_tr)\n",
    "usps_X_te = np.array(usps_X_te)\n",
    "\n",
    "print(np.array(usps_X_tr).shape, np.array(usps_X_te).shape)"
   ]
  },
  {
   "cell_type": "code",
   "execution_count": 20,
   "metadata": {},
   "outputs": [
    {
     "name": "stdout",
     "output_type": "stream",
     "text": [
      "[9 6 3 6 6 0 0 0 6 9]\n"
     ]
    },
    {
     "data": {
      "image/png": "[encoded data removed]",
      "text/plain": [
       "<Figure size 216x360 with 1 Axes>"
      ]
     },
     "metadata": {
      "needs_background": "light"
     },
     "output_type": "display_data"
    }
   ],
   "source": [
    "print(usps_y_te[:10])\n",
    "pic_n = 1\n",
    "fig, ax = plt.subplots(pic_n, 1, sharex = True, sharey = True, figsize=(3, 5))\n",
    "for i in range(pic_n):\n",
    "    ax.imshow(X_tr[0].reshape([16, 16]), 'gray')"
   ]
  },
  {
   "cell_type": "code",
   "execution_count": 21,
   "metadata": {},
   "outputs": [
    {
     "data": {
      "image/png": "[encoded data removed]",
      "text/plain": [
       "<Figure size 216x360 with 1 Axes>"
      ]
     },
     "metadata": {
      "needs_background": "light"
     },
     "output_type": "display_data"
    }
   ],
   "source": [
    "size=28\n",
    "img = np.array(X_tr[0].reshape(16,16))\n",
    "res = cv2.resize(img, (size, size), interpolation=cv2.INTER_CUBIC)\n",
    "fig, ax = plt.subplots(pic_n, 1, sharex = True, sharey = True, figsize=(3, 5))\n",
    "for i in range(pic_n):\n",
    "    ax.imshow(res, 'gray')"
   ]
  },
  {
   "cell_type": "code",
   "execution_count": 22,
   "metadata": {},
   "outputs": [
    {
     "name": "stdout",
     "output_type": "stream",
     "text": [
      "(60000,)\n",
      "train_size: torch.Size([1000])\n",
      "test_size: torch.Size([1000])\n"
     ]
    },
    {
     "data": {
      "application/vnd.jupyter.widget-view+json": {
       "model_id": "2c82db3e68344b14b057b80358ca9b0a",
       "version_major": 2,
       "version_minor": 0
      },
      "text/plain": [
       "HBox(children=(IntProgress(value=0, description='Epochs', max=50, style=ProgressStyle(description_width='initi…"
      ]
     },
     "metadata": {},
     "output_type": "display_data"
    },
    {
     "name": "stdout",
     "output_type": "stream",
     "text": [
      "[Train] Accuracy: 69.20%, loss:  0.0019\n",
      "torch.Size([1000, 784])\n",
      "[Test] Accuracy: 31.70%, loss:  0.0020\n"
     ]
    }
   ],
   "source": [
    "data = MNIST(one_hot=False, shuffle=False)\n",
    "seed = 0\n",
    "np.random.seed(seed)\n",
    "random.seed(seed)\n",
    "torch.manual_seed(seed)\n",
    "torch.backends.cudnn.deterministic=False\n",
    "\n",
    "# Hyper Parameters \n",
    "input_size = 784\n",
    "num_classes = 10\n",
    "batch_size = 1024\n",
    "epochs = 50\n",
    "learning_rate = 0.01\n",
    "train_size = 1000\n",
    "test_size = 1000\n",
    "\n",
    "device = torch.device('cuda')\n",
    "print(data.y_train.shape)\n",
    "model = MNL(input_size, num_classes).to(device)\n",
    "optimizer = optim.SGD(model.parameters(), lr=learning_rate)\n",
    "criterion = nn.CrossEntropyLoss()\n",
    "\n",
    "x_train = torch.from_numpy(data.x_train[:train_size]).contiguous().view(-1, data.x_train.shape[1], \n",
    "                                          data.x_train.shape[2], data.x_train.shape[3])\n",
    "y_train = torch.from_numpy(data.y_train[:train_size]).view(-1,).long()\n",
    "print(\"train_size:\", y_train.shape)\n",
    "\n",
    "x_test = torch.from_numpy(data.x_test[:test_size]).contiguous().view(-1, data.x_train.shape[1], \n",
    "                                          data.x_train.shape[2], data.x_train.shape[3])\n",
    "y_test = torch.from_numpy(data.y_test[:test_size]).view(-1,).long()\n",
    "print(\"test_size:\", y_test.shape)\n",
    "\n",
    "train(model, device, x_train, y_train, batch_size, optimizer, criterion, epochs)\n",
    "accuracy, avg_loss = evaluate(model, device, x_train, y_train, batch_size, criterion)\n",
    "print(f'[Train] Accuracy: {100 * accuracy:5.2f}%, loss: {avg_loss:7.4f}')\n",
    "\n",
    "usps_x_train = torch.from_numpy(usps_X_tr[-test_size:]).contiguous()\n",
    "usps_y_train = torch.from_numpy(usps_y_tr[-test_size:]).view(-1,).long()\n",
    "usps_x_test = torch.from_numpy(usps_X_te[-test_size:]).contiguous()\n",
    "usps_y_test = torch.from_numpy(usps_y_te[-test_size:]).view(-1,).long()\n",
    "\n",
    "print(usps_x_train.shape)\n",
    "\n",
    "accuracy, avg_loss = evaluate(model, device, usps_x_train, usps_y_train, batch_size, criterion)\n",
    "print(f'[Test] Accuracy: {100 * accuracy:5.2f}%, loss: {avg_loss:7.4f}')"
   ]
  },
  {
   "cell_type": "code",
   "execution_count": null,
   "metadata": {},
   "outputs": [],
   "source": []
  },
  {
   "cell_type": "code",
   "execution_count": 23,
   "metadata": {},
   "outputs": [
    {
     "name": "stdout",
     "output_type": "stream",
     "text": [
      "(1000, 784) (1000, 784)\n"
     ]
    }
   ],
   "source": [
    "deep_f_train = []\n",
    "deep_f_test = []\n",
    "targets = []\n",
    "for X, y in batch(x_train, y_train, batch_size):\n",
    "    X = X.to(device).float()\n",
    "    fc3, y_pre = model(X)\n",
    "    deep_f_train.append(fc3.view(fc3.size(0), -1).cpu().detach().numpy())\n",
    "\n",
    "for X, y in batch(usps_x_train, usps_y_train, batch_size):\n",
    "    X = X.to(device).float()\n",
    "    fc3, y_pre = model(X)\n",
    "    deep_f_test.append(fc3.view(fc3.size(0), -1).cpu().detach().numpy())\n",
    "\n",
    "deep_f_train = np.concatenate(deep_f_train) # deep features are not normalized\n",
    "deep_f_test = np.concatenate(deep_f_test) # deep features are not normalized\n",
    "print(deep_f_train.shape, deep_f_test.shape) "
   ]
  },
  {
   "cell_type": "code",
   "execution_count": null,
   "metadata": {},
   "outputs": [],
   "source": []
  },
  {
   "cell_type": "code",
   "execution_count": 24,
   "metadata": {},
   "outputs": [
    {
     "data": {
      "application/vnd.jupyter.widget-view+json": {
       "model_id": "",
       "version_major": 2,
       "version_minor": 0
      },
      "text/plain": [
       "HBox(children=(IntProgress(value=0, max=1000), HTML(value='')))"
      ]
     },
     "metadata": {},
     "output_type": "display_data"
    },
    {
     "name": "stdout",
     "output_type": "stream",
     "text": [
      "neighbour number: 1 0.617\n"
     ]
    },
    {
     "data": {
      "application/vnd.jupyter.widget-view+json": {
       "model_id": "",
       "version_major": 2,
       "version_minor": 0
      },
      "text/plain": [
       "HBox(children=(IntProgress(value=0, max=1000), HTML(value='')))"
      ]
     },
     "metadata": {},
     "output_type": "display_data"
    },
    {
     "data": {
      "application/vnd.jupyter.widget-view+json": {
       "model_id": "",
       "version_major": 2,
       "version_minor": 0
      },
      "text/plain": [
       "HBox(children=(IntProgress(value=0, max=1000), HTML(value='')))"
      ]
     },
     "metadata": {},
     "output_type": "display_data"
    },
    {
     "name": "stdout",
     "output_type": "stream",
     "text": [
      "neighbour number: 2 0.506\n"
     ]
    },
    {
     "data": {
      "application/vnd.jupyter.widget-view+json": {
       "model_id": "",
       "version_major": 2,
       "version_minor": 0
      },
      "text/plain": [
       "HBox(children=(IntProgress(value=0, max=1000), HTML(value='')))"
      ]
     },
     "metadata": {},
     "output_type": "display_data"
    },
    {
     "data": {
      "application/vnd.jupyter.widget-view+json": {
       "model_id": "",
       "version_major": 2,
       "version_minor": 0
      },
      "text/plain": [
       "HBox(children=(IntProgress(value=0, max=1000), HTML(value='')))"
      ]
     },
     "metadata": {},
     "output_type": "display_data"
    },
    {
     "name": "stdout",
     "output_type": "stream",
     "text": [
      "neighbour number: 3 0.602\n"
     ]
    },
    {
     "data": {
      "application/vnd.jupyter.widget-view+json": {
       "model_id": "",
       "version_major": 2,
       "version_minor": 0
      },
      "text/plain": [
       "HBox(children=(IntProgress(value=0, max=1000), HTML(value='')))"
      ]
     },
     "metadata": {},
     "output_type": "display_data"
    },
    {
     "data": {
      "application/vnd.jupyter.widget-view+json": {
       "model_id": "",
       "version_major": 2,
       "version_minor": 0
      },
      "text/plain": [
       "HBox(children=(IntProgress(value=0, max=1000), HTML(value='')))"
      ]
     },
     "metadata": {},
     "output_type": "display_data"
    },
    {
     "name": "stdout",
     "output_type": "stream",
     "text": [
      "neighbour number: 4 0.52\n"
     ]
    },
    {
     "data": {
      "application/vnd.jupyter.widget-view+json": {
       "model_id": "",
       "version_major": 2,
       "version_minor": 0
      },
      "text/plain": [
       "HBox(children=(IntProgress(value=0, max=1000), HTML(value='')))"
      ]
     },
     "metadata": {},
     "output_type": "display_data"
    },
    {
     "data": {
      "application/vnd.jupyter.widget-view+json": {
       "model_id": "",
       "version_major": 2,
       "version_minor": 0
      },
      "text/plain": [
       "HBox(children=(IntProgress(value=0, max=1000), HTML(value='')))"
      ]
     },
     "metadata": {},
     "output_type": "display_data"
    },
    {
     "name": "stdout",
     "output_type": "stream",
     "text": [
      "neighbour number: 5 0.575\n"
     ]
    },
    {
     "data": {
      "application/vnd.jupyter.widget-view+json": {
       "model_id": "",
       "version_major": 2,
       "version_minor": 0
      },
      "text/plain": [
       "HBox(children=(IntProgress(value=0, max=1000), HTML(value='')))"
      ]
     },
     "metadata": {},
     "output_type": "display_data"
    },
    {
     "data": {
      "application/vnd.jupyter.widget-view+json": {
       "model_id": "",
       "version_major": 2,
       "version_minor": 0
      },
      "text/plain": [
       "HBox(children=(IntProgress(value=0, max=1000), HTML(value='')))"
      ]
     },
     "metadata": {},
     "output_type": "display_data"
    },
    {
     "name": "stdout",
     "output_type": "stream",
     "text": [
      "neighbour number: 6 0.506\n"
     ]
    },
    {
     "data": {
      "application/vnd.jupyter.widget-view+json": {
       "model_id": "",
       "version_major": 2,
       "version_minor": 0
      },
      "text/plain": [
       "HBox(children=(IntProgress(value=0, max=1000), HTML(value='')))"
      ]
     },
     "metadata": {},
     "output_type": "display_data"
    },
    {
     "data": {
      "application/vnd.jupyter.widget-view+json": {
       "model_id": "",
       "version_major": 2,
       "version_minor": 0
      },
      "text/plain": [
       "HBox(children=(IntProgress(value=0, max=1000), HTML(value='')))"
      ]
     },
     "metadata": {},
     "output_type": "display_data"
    },
    {
     "name": "stdout",
     "output_type": "stream",
     "text": [
      "neighbour number: 7 0.543\n"
     ]
    },
    {
     "data": {
      "application/vnd.jupyter.widget-view+json": {
       "model_id": "",
       "version_major": 2,
       "version_minor": 0
      },
      "text/plain": [
       "HBox(children=(IntProgress(value=0, max=1000), HTML(value='')))"
      ]
     },
     "metadata": {},
     "output_type": "display_data"
    },
    {
     "data": {
      "application/vnd.jupyter.widget-view+json": {
       "model_id": "",
       "version_major": 2,
       "version_minor": 0
      },
      "text/plain": [
       "HBox(children=(IntProgress(value=0, max=1000), HTML(value='')))"
      ]
     },
     "metadata": {},
     "output_type": "display_data"
    },
    {
     "name": "stdout",
     "output_type": "stream",
     "text": [
      "neighbour number: 8 0.493\n"
     ]
    },
    {
     "data": {
      "application/vnd.jupyter.widget-view+json": {
       "model_id": "",
       "version_major": 2,
       "version_minor": 0
      },
      "text/plain": [
       "HBox(children=(IntProgress(value=0, max=1000), HTML(value='')))"
      ]
     },
     "metadata": {},
     "output_type": "display_data"
    },
    {
     "data": {
      "application/vnd.jupyter.widget-view+json": {
       "model_id": "",
       "version_major": 2,
       "version_minor": 0
      },
      "text/plain": [
       "HBox(children=(IntProgress(value=0, max=1000), HTML(value='')))"
      ]
     },
     "metadata": {},
     "output_type": "display_data"
    },
    {
     "name": "stdout",
     "output_type": "stream",
     "text": [
      "neighbour number: 9 0.537\n"
     ]
    },
    {
     "data": {
      "application/vnd.jupyter.widget-view+json": {
       "model_id": "",
       "version_major": 2,
       "version_minor": 0
      },
      "text/plain": [
       "HBox(children=(IntProgress(value=0, max=1000), HTML(value='')))"
      ]
     },
     "metadata": {},
     "output_type": "display_data"
    }
   ],
   "source": [
    "import math\n",
    "kmin = 1\n",
    "kmax = 10\n",
    "kinterval = 1\n",
    "fc1_knn_values = [[] for _ in range(math.ceil((kmax-kmin)/kinterval))] # deep features\n",
    "loo_fc1_knn_values = [[] for _ in range(math.ceil((kmax-kmin)/kinterval))] # deep features\n",
    "\n",
    "for i, k in enumerate(range(kmin, kmax, kinterval)):\n",
    "    \n",
    "#     fc1_knn_values[i],*_ = old_knn_shapley(k, deep_f[:train_data.shape[0]], deep_f[train_data.shape[0]:], \n",
    "#                                   y_deep[:train_data.shape[0]], y_deep[train_data.shape[0]:])\n",
    "#     loo_fc1_knn_values[i],*_ = loo_knn_shapley(k, deep_f[:train_data.shape[0]], deep_f[train_data.shape[0]:], \n",
    "#                                   y_deep[:train_data.shape[0]], y_deep[train_data.shape[0]:])\n",
    "    loo_fc1_knn_values[i], score, *_ = loo_knn_shapley(k, deep_f_train, deep_f_test, y_train, usps_y_train)\n",
    "    print(\"neighbour number:\", k, score)\n",
    "    fc1_knn_values[i],*_ = old_knn_shapley(k, deep_f_train, deep_f_test, y_train, usps_y_train)"
   ]
  },
  {
   "cell_type": "code",
   "execution_count": 25,
   "metadata": {},
   "outputs": [
    {
     "name": "stdout",
     "output_type": "stream",
     "text": [
      "(755,)\n",
      "(147,)\n",
      "(762,)\n",
      "(220,)\n",
      "(770,)\n",
      "(310,)\n",
      "(773,)\n",
      "(356,)\n",
      "(773,)\n",
      "(339,)\n",
      "(776,)\n",
      "(415,)\n",
      "(782,)\n",
      "(410,)\n",
      "(784,)\n",
      "(477,)\n",
      "(789,)\n",
      "(444,)\n"
     ]
    },
    {
     "data": {
      "image/png": "[encoded data removed]",
      "text/plain": [
       "<Figure size 1440x720 with 9 Axes>"
      ]
     },
     "metadata": {
      "needs_background": "light"
     },
     "output_type": "display_data"
    }
   ],
   "source": [
    "import pandas as pd\n",
    "pd.options.display.max_columns = None\n",
    "from IPython.display import display\n",
    "class_weights = [[0.0 for i in range(10)] for i in range(kmin, kmax, kinterval)]\n",
    "knn_values_idx = [[0.0 for i in range(10)] for i in range(kmin, kmax, kinterval)]\n",
    "knn_values_advanced = [[0.0 for i in range(10)] for i in range(kmin, kmax, kinterval)]\n",
    "loo_knn_values_idx = [[0.0 for i in range(10)] for i in range(kmin, kmax, kinterval)]\n",
    "loo_knn_values_advanced = [[0.0 for i in range(10)] for i in range(kmin, kmax, kinterval)]\n",
    "\n",
    "\n",
    "#removing negative data\n",
    "for i in range(len(fc1_knn_values)):\n",
    "#     print(i)\n",
    "    knn_values_idx[i] = np.where(fc1_knn_values[i] > 0)[0]\n",
    "    knn_values_advanced[i] = fc1_knn_values[i][np.where(fc1_knn_values[i] > 0)[0]]\n",
    "    print(knn_values_idx[i].shape)\n",
    "    loo_knn_values_idx[i] = np.where(loo_fc1_knn_values[i] > 0)[0]\n",
    "    loo_knn_values_advanced[i] = loo_fc1_knn_values[i][np.where(loo_fc1_knn_values[i] > 0)[0]]\n",
    "    print(loo_knn_values_idx[i].shape)\n",
    "\n",
    "    \n",
    "    \n",
    "#     for j in range(train_size):\n",
    "#         if(fc1_knn_values[i][j]>0):\n",
    "#             class_weights[i][targets[j]] += fc1_knn_values[i][j]\n",
    "\n",
    "# for i in range(len(class_weights)):\n",
    "#     print(class_weights[i])\n",
    "fig=plt.figure(figsize=(20, 10))\n",
    "for i, k in enumerate(range(kmin, kmax, kinterval)):\n",
    "#     print(i,k)\n",
    "    fig.add_subplot( 2, 5, i+1)\n",
    "    plt.hist(fc1_knn_values[i].astype('float'), label=k)\n",
    "    plt.legend()\n",
    "plt.show()"
   ]
  },
  {
   "cell_type": "raw",
   "metadata": {},
   "source": [
    "import pandas as pd\n",
    "pd.options.display.max_columns = None\n",
    "from IPython.display import display\n",
    "k = 0\n",
    "number = 1000\n",
    "display(knn_values[k][:10])\n",
    "idxs = np.argsort(knn_values[k]) \n",
    "# idxs=np.flip(idxs, 0)\n",
    "# print(idxs[:number])\n",
    "# print(knn_values[k][idxs[:number]])\n",
    "\n",
    "print(\"print frequency of shapley value data\")\n",
    "# print(y_train[idxs[:10]])\n",
    "y = torch.bincount(y_train[idxs[-number:]])\n",
    "print(y)\n",
    "# ii = np.nonzero(y)[0]\n",
    "# print(zip(ii,y[ii]) )\n",
    "\n",
    "\n",
    "# print(knn_values[0].sort())\n",
    "\n",
    "# fig=plt.figure(figsize=(20, 20))\n",
    "# for i,idx in enumerate(idxs[:number]):\n",
    "# #     print(i)\n",
    "#     img = data.x_train[idx]\n",
    "    \n",
    "# #     print(idx, knn_values[0][idx])\n",
    "#     fig.add_subplot( number/10, 10, i+1)\n",
    "#     plt.imshow((img.squeeze()* 255).astype(np.uint8), interpolation='nearest')\n",
    "# plt.show()"
   ]
  },
  {
   "cell_type": "code",
   "execution_count": 26,
   "metadata": {},
   "outputs": [
    {
     "name": "stdout",
     "output_type": "stream",
     "text": [
      "K= 1\n",
      "torch.Size([755, 28, 28, 1]) torch.Size([755])\n"
     ]
    },
    {
     "data": {
      "application/vnd.jupyter.widget-view+json": {
       "model_id": "a30e23f67d78489683dc23a844f78ed1",
       "version_major": 2,
       "version_minor": 0
      },
      "text/plain": [
       "HBox(children=(IntProgress(value=0, description='Epochs', max=50, style=ProgressStyle(description_width='initi…"
      ]
     },
     "metadata": {},
     "output_type": "display_data"
    },
    {
     "name": "stdout",
     "output_type": "stream",
     "text": [
      "[Test] Accuracy: 30.20%, loss:  0.0020\n",
      "torch.Size([147, 28, 28, 1]) torch.Size([147])\n"
     ]
    },
    {
     "data": {
      "application/vnd.jupyter.widget-view+json": {
       "model_id": "696ae44c54c14c55a60379a20e897138",
       "version_major": 2,
       "version_minor": 0
      },
      "text/plain": [
       "HBox(children=(IntProgress(value=0, description='Epochs', max=50, style=ProgressStyle(description_width='initi…"
      ]
     },
     "metadata": {},
     "output_type": "display_data"
    },
    {
     "name": "stdout",
     "output_type": "stream",
     "text": [
      "LOO [Test] Accuracy: 27.90%, loss:  0.0021\n",
      "K= 2\n",
      "torch.Size([762, 28, 28, 1]) torch.Size([762])\n"
     ]
    },
    {
     "data": {
      "application/vnd.jupyter.widget-view+json": {
       "model_id": "ae08979a8d08407a9f1349608c00f90a",
       "version_major": 2,
       "version_minor": 0
      },
      "text/plain": [
       "HBox(children=(IntProgress(value=0, description='Epochs', max=50, style=ProgressStyle(description_width='initi…"
      ]
     },
     "metadata": {},
     "output_type": "display_data"
    },
    {
     "name": "stdout",
     "output_type": "stream",
     "text": [
      "[Test] Accuracy: 48.40%, loss:  0.0019\n",
      "torch.Size([220, 28, 28, 1]) torch.Size([220])\n"
     ]
    },
    {
     "data": {
      "application/vnd.jupyter.widget-view+json": {
       "model_id": "ebdfc3f770db4a129506f36a631e142a",
       "version_major": 2,
       "version_minor": 0
      },
      "text/plain": [
       "HBox(children=(IntProgress(value=0, description='Epochs', max=50, style=ProgressStyle(description_width='initi…"
      ]
     },
     "metadata": {},
     "output_type": "display_data"
    },
    {
     "name": "stdout",
     "output_type": "stream",
     "text": [
      "LOO [Test] Accuracy: 39.40%, loss:  0.0019\n",
      "K= 3\n",
      "torch.Size([770, 28, 28, 1]) torch.Size([770])\n"
     ]
    },
    {
     "data": {
      "application/vnd.jupyter.widget-view+json": {
       "model_id": "bd68a5e4f3094ca99438ddb2cdcdcdc0",
       "version_major": 2,
       "version_minor": 0
      },
      "text/plain": [
       "HBox(children=(IntProgress(value=0, description='Epochs', max=50, style=ProgressStyle(description_width='initi…"
      ]
     },
     "metadata": {},
     "output_type": "display_data"
    },
    {
     "name": "stdout",
     "output_type": "stream",
     "text": [
      "[Test] Accuracy: 44.70%, loss:  0.0019\n",
      "torch.Size([310, 28, 28, 1]) torch.Size([310])\n"
     ]
    },
    {
     "data": {
      "application/vnd.jupyter.widget-view+json": {
       "model_id": "69b99778f88b4f8ea82b55da512e1ce8",
       "version_major": 2,
       "version_minor": 0
      },
      "text/plain": [
       "HBox(children=(IntProgress(value=0, description='Epochs', max=50, style=ProgressStyle(description_width='initi…"
      ]
     },
     "metadata": {},
     "output_type": "display_data"
    },
    {
     "name": "stdout",
     "output_type": "stream",
     "text": [
      "LOO [Test] Accuracy: 35.10%, loss:  0.0020\n",
      "K= 4\n",
      "torch.Size([773, 28, 28, 1]) torch.Size([773])\n"
     ]
    },
    {
     "data": {
      "application/vnd.jupyter.widget-view+json": {
       "model_id": "85bbeaa7ae8f4f998188cf02d51b0520",
       "version_major": 2,
       "version_minor": 0
      },
      "text/plain": [
       "HBox(children=(IntProgress(value=0, description='Epochs', max=50, style=ProgressStyle(description_width='initi…"
      ]
     },
     "metadata": {},
     "output_type": "display_data"
    },
    {
     "name": "stdout",
     "output_type": "stream",
     "text": [
      "[Test] Accuracy: 40.20%, loss:  0.0019\n",
      "torch.Size([356, 28, 28, 1]) torch.Size([356])\n"
     ]
    },
    {
     "data": {
      "application/vnd.jupyter.widget-view+json": {
       "model_id": "4b7bcbdbf04d415e885d7e3a3a3a9985",
       "version_major": 2,
       "version_minor": 0
      },
      "text/plain": [
       "HBox(children=(IntProgress(value=0, description='Epochs', max=50, style=ProgressStyle(description_width='initi…"
      ]
     },
     "metadata": {},
     "output_type": "display_data"
    },
    {
     "name": "stdout",
     "output_type": "stream",
     "text": [
      "LOO [Test] Accuracy: 32.80%, loss:  0.0020\n",
      "K= 5\n",
      "torch.Size([773, 28, 28, 1]) torch.Size([773])\n"
     ]
    },
    {
     "data": {
      "application/vnd.jupyter.widget-view+json": {
       "model_id": "7e276cf3304a4136bf77e9c803e23e1f",
       "version_major": 2,
       "version_minor": 0
      },
      "text/plain": [
       "HBox(children=(IntProgress(value=0, description='Epochs', max=50, style=ProgressStyle(description_width='initi…"
      ]
     },
     "metadata": {},
     "output_type": "display_data"
    },
    {
     "name": "stdout",
     "output_type": "stream",
     "text": [
      "[Test] Accuracy: 42.20%, loss:  0.0019\n",
      "torch.Size([339, 28, 28, 1]) torch.Size([339])\n"
     ]
    },
    {
     "data": {
      "application/vnd.jupyter.widget-view+json": {
       "model_id": "479668c165084b028ae037ab5783fde4",
       "version_major": 2,
       "version_minor": 0
      },
      "text/plain": [
       "HBox(children=(IntProgress(value=0, description='Epochs', max=50, style=ProgressStyle(description_width='initi…"
      ]
     },
     "metadata": {},
     "output_type": "display_data"
    },
    {
     "name": "stdout",
     "output_type": "stream",
     "text": [
      "LOO [Test] Accuracy: 41.80%, loss:  0.0020\n",
      "K= 6\n",
      "torch.Size([776, 28, 28, 1]) torch.Size([776])\n"
     ]
    },
    {
     "data": {
      "application/vnd.jupyter.widget-view+json": {
       "model_id": "03c0dcfb9ecb48058ca0a9f29aef4562",
       "version_major": 2,
       "version_minor": 0
      },
      "text/plain": [
       "HBox(children=(IntProgress(value=0, description='Epochs', max=50, style=ProgressStyle(description_width='initi…"
      ]
     },
     "metadata": {},
     "output_type": "display_data"
    },
    {
     "name": "stdout",
     "output_type": "stream",
     "text": [
      "[Test] Accuracy: 43.90%, loss:  0.0020\n",
      "torch.Size([415, 28, 28, 1]) torch.Size([415])\n"
     ]
    },
    {
     "data": {
      "application/vnd.jupyter.widget-view+json": {
       "model_id": "f42ed6e1a31944529620c7a96f21c364",
       "version_major": 2,
       "version_minor": 0
      },
      "text/plain": [
       "HBox(children=(IntProgress(value=0, description='Epochs', max=50, style=ProgressStyle(description_width='initi…"
      ]
     },
     "metadata": {},
     "output_type": "display_data"
    },
    {
     "name": "stdout",
     "output_type": "stream",
     "text": [
      "LOO [Test] Accuracy: 35.40%, loss:  0.0021\n",
      "K= 7\n",
      "torch.Size([782, 28, 28, 1]) torch.Size([782])\n"
     ]
    },
    {
     "data": {
      "application/vnd.jupyter.widget-view+json": {
       "model_id": "73525e0fe74f44188236ae713dffdfc5",
       "version_major": 2,
       "version_minor": 0
      },
      "text/plain": [
       "HBox(children=(IntProgress(value=0, description='Epochs', max=50, style=ProgressStyle(description_width='initi…"
      ]
     },
     "metadata": {},
     "output_type": "display_data"
    },
    {
     "name": "stdout",
     "output_type": "stream",
     "text": [
      "[Test] Accuracy: 44.90%, loss:  0.0019\n",
      "torch.Size([410, 28, 28, 1]) torch.Size([410])\n"
     ]
    },
    {
     "data": {
      "application/vnd.jupyter.widget-view+json": {
       "model_id": "8cc37fbed0cd45afa0012eebfc1c0747",
       "version_major": 2,
       "version_minor": 0
      },
      "text/plain": [
       "HBox(children=(IntProgress(value=0, description='Epochs', max=50, style=ProgressStyle(description_width='initi…"
      ]
     },
     "metadata": {},
     "output_type": "display_data"
    },
    {
     "name": "stdout",
     "output_type": "stream",
     "text": [
      "LOO [Test] Accuracy: 36.30%, loss:  0.0019\n",
      "K= 8\n",
      "torch.Size([784, 28, 28, 1]) torch.Size([784])\n"
     ]
    },
    {
     "data": {
      "application/vnd.jupyter.widget-view+json": {
       "model_id": "bfa219be2c7645979870768ddce1b0af",
       "version_major": 2,
       "version_minor": 0
      },
      "text/plain": [
       "HBox(children=(IntProgress(value=0, description='Epochs', max=50, style=ProgressStyle(description_width='initi…"
      ]
     },
     "metadata": {},
     "output_type": "display_data"
    },
    {
     "name": "stdout",
     "output_type": "stream",
     "text": [
      "[Test] Accuracy: 45.50%, loss:  0.0019\n",
      "torch.Size([477, 28, 28, 1]) torch.Size([477])\n"
     ]
    },
    {
     "data": {
      "application/vnd.jupyter.widget-view+json": {
       "model_id": "ad32876b2bda4b4fb3608e4f7c15a121",
       "version_major": 2,
       "version_minor": 0
      },
      "text/plain": [
       "HBox(children=(IntProgress(value=0, description='Epochs', max=50, style=ProgressStyle(description_width='initi…"
      ]
     },
     "metadata": {},
     "output_type": "display_data"
    },
    {
     "name": "stdout",
     "output_type": "stream",
     "text": [
      "LOO [Test] Accuracy: 33.50%, loss:  0.0021\n",
      "K= 9\n",
      "torch.Size([789, 28, 28, 1]) torch.Size([789])\n"
     ]
    },
    {
     "data": {
      "application/vnd.jupyter.widget-view+json": {
       "model_id": "8ff20e8980fa43d5b9b6ffa5a8d4cc9a",
       "version_major": 2,
       "version_minor": 0
      },
      "text/plain": [
       "HBox(children=(IntProgress(value=0, description='Epochs', max=50, style=ProgressStyle(description_width='initi…"
      ]
     },
     "metadata": {},
     "output_type": "display_data"
    },
    {
     "name": "stdout",
     "output_type": "stream",
     "text": [
      "[Test] Accuracy: 40.50%, loss:  0.0019\n",
      "torch.Size([444, 28, 28, 1]) torch.Size([444])\n"
     ]
    },
    {
     "data": {
      "application/vnd.jupyter.widget-view+json": {
       "model_id": "3d70816906b94582aa009c77c16a4d84",
       "version_major": 2,
       "version_minor": 0
      },
      "text/plain": [
       "HBox(children=(IntProgress(value=0, description='Epochs', max=50, style=ProgressStyle(description_width='initi…"
      ]
     },
     "metadata": {},
     "output_type": "display_data"
    },
    {
     "name": "stdout",
     "output_type": "stream",
     "text": [
      "LOO [Test] Accuracy: 41.00%, loss:  0.0019\n"
     ]
    }
   ],
   "source": [
    "seed = 0\n",
    "np.random.seed(seed)\n",
    "random.seed(seed)\n",
    "torch.manual_seed(seed)\n",
    "torch.backends.cudnn.deterministic=False\n",
    "epochs = 50\n",
    "for i, k in enumerate(range(kmin, kmax, kinterval)):\n",
    "    print(\"K=\", k)\n",
    "    device = torch.device('cuda')\n",
    "    model = MNL(input_size, num_classes).to(device)\n",
    "    optimizer = optim.SGD(model.parameters(), lr=learning_rate)\n",
    "#     weights = torch.FloatTensor(class_weights[i]).cuda()\n",
    "#     criterion = nn.CrossEntropyLoss(weight=weights)\n",
    "    criterion = nn.CrossEntropyLoss()\n",
    "\n",
    "    x_train_val, y_train_val = x_train[knn_values_idx[i]], y_train[knn_values_idx[i]]\n",
    "    print(x_train_val.shape, y_train_val.shape)\n",
    "    train(model, device, x_train_val, y_train_val, batch_size, optimizer, criterion, epochs)\n",
    "#     accuracy, avg_loss = evaluate(model, device, x_train_val, y_train_val, batch_size, criterion)\n",
    "#     print(f'[Test] Accuracy: {100 * accuracy:5.2f}%, loss: {avg_loss:7.4f}')\n",
    "    accuracy, avg_loss = evaluate(model, device, usps_x_train, usps_y_train, batch_size, criterion)\n",
    "    print(f'[Test] Accuracy: {100 * accuracy:5.2f}%, loss: {avg_loss:7.4f}')\n",
    "\n",
    "    model = MNL(input_size, num_classes).to(device)\n",
    "    optimizer = optim.SGD(model.parameters(), lr=learning_rate)\n",
    "#     weights = torch.FloatTensor(class_weights[i]).cuda()\n",
    "#     criterion = nn.CrossEntropyLoss(weight=weights)\n",
    "    criterion = nn.CrossEntropyLoss()\n",
    "\n",
    "    x_train_val, y_train_val = x_train[loo_knn_values_idx[i]], y_train[loo_knn_values_idx[i]]\n",
    "    print(x_train_val.shape, y_train_val.shape)\n",
    "    train(model, device, x_train_val, y_train_val, batch_size, optimizer, criterion, epochs)\n",
    "#     accuracy, avg_loss = evaluate(model, device, x_train_val, y_train_val, batch_size, criterion)\n",
    "#     print(f'[Test] Accuracy: {100 * accuracy:5.2f}%, loss: {avg_loss:7.4f}')\n",
    "    accuracy, avg_loss = evaluate(model, device, usps_x_train, usps_y_train, batch_size, criterion)\n",
    "    print(f'LOO [Test] Accuracy: {100 * accuracy:5.2f}%, loss: {avg_loss:7.4f}')"
   ]
  },
  {
   "cell_type": "code",
   "execution_count": 29,
   "metadata": {},
   "outputs": [
    {
     "name": "stdout",
     "output_type": "stream",
     "text": [
      "(1000,)\n"
     ]
    }
   ],
   "source": [
    "# load data\n",
    "import pickle\n",
    "with open('./temp_domain/vals_tmc.pkl', 'rb') as f:\n",
    "    tmc = pickle.load(f)\n",
    "    tmc_values = tmc[\"vals_tmc\"]\n",
    "with open('./temp_domain/loo.pkl', 'rb') as f:\n",
    "    loo = pickle.load(f)\n",
    "    loo_values = loo[\"loo\"]\n",
    "print(loo_values.shape)\n",
    "gloo_values_idx = []\n",
    "tmc_values_idx = []"
   ]
  },
  {
   "cell_type": "code",
   "execution_count": 31,
   "metadata": {},
   "outputs": [
    {
     "name": "stdout",
     "output_type": "stream",
     "text": [
      "(131,) (605,)\n"
     ]
    }
   ],
   "source": [
    "loo_values_idx = np.where(loo_values > 0)[0]\n",
    "tmc_values_idx = np.where(tmc_values > 0)[0]\n",
    "print(loo_values_idx.shape, tmc_values_idx.shape)"
   ]
  },
  {
   "cell_type": "code",
   "execution_count": 32,
   "metadata": {},
   "outputs": [
    {
     "data": {
      "application/vnd.jupyter.widget-view+json": {
       "model_id": "6619e0081941474b86e5f4d4c1e55ff8",
       "version_major": 2,
       "version_minor": 0
      },
      "text/plain": [
       "HBox(children=(IntProgress(value=0, description='Epochs', max=50, style=ProgressStyle(description_width='initi…"
      ]
     },
     "metadata": {},
     "output_type": "display_data"
    },
    {
     "name": "stdout",
     "output_type": "stream",
     "text": [
      "TMC [Test] Accuracy: 67.60%, loss:  0.0029\n",
      "TMC [Test] Accuracy: 44.90%, loss:  0.0019\n"
     ]
    }
   ],
   "source": [
    "seed = 0\n",
    "np.random.seed(seed)\n",
    "random.seed(seed)\n",
    "torch.manual_seed(seed)\n",
    "torch.backends.cudnn.deterministic=False\n",
    "device = torch.device('cuda')\n",
    "model = MNL(input_size, num_classes).to(device)\n",
    "optimizer = optim.SGD(model.parameters(), lr=learning_rate)\n",
    "train(model, device, x_train[tmc_values_idx], y_train[tmc_values_idx], batch_size, optimizer, criterion, epochs)\n",
    "\n",
    "accuracy, avg_loss = evaluate(model, device, x_train[tmc_values_idx], y_train[tmc_values_idx], batch_size, criterion)\n",
    "print(f'TMC [Test] Accuracy: {100 * accuracy:5.2f}%, loss: {avg_loss:7.4f}')\n",
    "accuracy, avg_loss = evaluate(model, device, usps_x_train, usps_y_train, batch_size, criterion)\n",
    "print(f'TMC [Test] Accuracy: {100 * accuracy:5.2f}%, loss: {avg_loss:7.4f}')"
   ]
  },
  {
   "cell_type": "code",
   "execution_count": 34,
   "metadata": {},
   "outputs": [
    {
     "data": {
      "application/vnd.jupyter.widget-view+json": {
       "model_id": "be505e7e66584737b3bb91b83c045671",
       "version_major": 2,
       "version_minor": 0
      },
      "text/plain": [
       "HBox(children=(IntProgress(value=0, description='Epochs', max=50, style=ProgressStyle(description_width='initi…"
      ]
     },
     "metadata": {},
     "output_type": "display_data"
    },
    {
     "name": "stdout",
     "output_type": "stream",
     "text": [
      "LOO [Test] Accuracy: 29.40%, loss:  0.0022\n"
     ]
    }
   ],
   "source": [
    "device = torch.device('cuda')\n",
    "model = MNL(input_size, num_classes).to(device)\n",
    "optimizer = optim.SGD(model.parameters(), lr=learning_rate)\n",
    "train(model, device, x_train[loo_values_idx], y_train[loo_values_idx], batch_size, optimizer, criterion, epochs)\n",
    "accuracy, avg_loss = evaluate(model, device, usps_x_train[:test_size], usps_y_train[:test_size], batch_size, criterion)\n",
    "print(f'LOO [Test] Accuracy: {100 * accuracy:5.2f}%, loss: {avg_loss:7.4f}')"
   ]
  },
  {
   "cell_type": "code",
   "execution_count": null,
   "metadata": {},
   "outputs": [],
   "source": []
  }
 ],
 "metadata": {
  "kernelspec": {
   "display_name": "Python 3",
   "language": "python",
   "name": "python3"
  },
  "language_info": {
   "codemirror_mode": {
    "name": "ipython",
    "version": 3
   },
   "file_extension": ".py",
   "mimetype": "text/x-python",
   "name": "python",
   "nbconvert_exporter": "python",
   "pygments_lexer": "ipython3",
   "version": "3.6.8"
  }
 },
 "nbformat": 4,
 "nbformat_minor": 2
}
