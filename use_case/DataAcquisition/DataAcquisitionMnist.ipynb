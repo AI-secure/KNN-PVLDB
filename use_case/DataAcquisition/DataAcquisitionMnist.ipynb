{
 "cells": [
  {
   "cell_type": "code",
   "execution_count": 3,
   "metadata": {},
   "outputs": [],
   "source": [
    "%load_ext autoreload\n",
    "%autoreload 2\n",
    "import os\n",
    "import sys\n",
    "import time\n",
    "import math\n",
    "import numpy as np\n",
    "import sklearn\n",
    "from utils import *\n",
    "from models.Cnn import *\n",
    "from plot_cnn import *\n",
    "%matplotlib inline\n",
    "import pickle\n",
    "import torch\n",
    "import torch.nn as nn\n",
    "import torch.nn.functional as F\n",
    "import torch.optim as optim\n",
    "from Shapley import ShapNN\n",
    "from DShap_run import DShap\n",
    "from shap_utils import *\n",
    "\n",
    "seed = 0\n",
    "np.random.seed(seed)\n",
    "random.seed(seed)\n",
    "torch.manual_seed(seed)\n",
    "torch.backends.cudnn.deterministic=True\n",
    "\n",
    "#hyper parameters\n",
    "batch_size = 1024\n",
    "epochs = 30\n",
    "noise_size = 50\n",
    "train_size = 100\n",
    "test_size = 100\n",
    "pre_size = 2000\n",
    "heldout_size = 1000"
   ]
  },
  {
   "cell_type": "code",
   "execution_count": 21,
   "metadata": {},
   "outputs": [
    {
     "name": "stdout",
     "output_type": "stream",
     "text": [
      "data shape =  (50, 28, 28, 1)\n",
      "data shape =  (1500, 28, 28, 1)\n",
      "(100, 784) (100, 784)\n"
     ]
    }
   ],
   "source": [
    "# load Tiny imagenet data\n",
    "data = MNIST(one_hot=False, shuffle=False)\n",
    "data.x_train[:noise_size] = add_noise(data.x_train[:noise_size], 1, 0.1, 'white')\n",
    "\n",
    "x_train = np.reshape(data.x_train[:train_size], (train_size, -1))\n",
    "y_train = data.y_train[:train_size]\n",
    "x_test = np.reshape(data.x_train[-test_size:], (test_size, -1))\n",
    "y_test = data.y_train[-test_size:]\n",
    "\n",
    "pre_noise_size = 1500\n",
    "data.x_train[train_size:train_size+pre_noise_size] = add_noise(data.x_train[train_size:train_size+pre_noise_size], 1, 0.1, 'white')\n",
    "\n",
    "\n",
    "x_pre = np.reshape(data.x_train[train_size:train_size+pre_size], (pre_size, -1))\n",
    "y_pre = data.y_train[train_size:train_size+pre_size]\n",
    "x_heldout = np.reshape(data.x_test[-heldout_size:], (heldout_size, -1))\n",
    "y_heldout = np.reshape(data.y_test[-heldout_size:], (heldout_size, -1))\n",
    "\n",
    "# print(len(test))\n",
    "print(x_train.shape, x_test.shape)"
   ]
  },
  {
   "cell_type": "code",
   "execution_count": 22,
   "metadata": {},
   "outputs": [
    {
     "data": {
      "image/png": "[encoded data removed]",
      "text/plain": [
       "<Figure size 216x360 with 1 Axes>"
      ]
     },
     "metadata": {},
     "output_type": "display_data"
    }
   ],
   "source": [
    "pic_n = 1\n",
    "fig, ax = plt.subplots(pic_n, 1, sharex = True, sharey = True, figsize=(3, 5))\n",
    "for i in range(pic_n):\n",
    "    ax.imshow(data.x_train[250].reshape([28, 28]), 'gray')"
   ]
  },
  {
   "cell_type": "raw",
   "metadata": {},
   "source": [
    "# TMC Shapley and LOO\n",
    "num_test = 1000\n",
    "problem, model = 'classification', 'logistic'\n",
    "directory = './temp_acquisition'\n",
    "\n",
    "dshap = DShap(x_train, y_train, x_test, y_test, num_test, sources=None, model_family=model, metric='accuracy',\n",
    "              directory=directory, seed=0)\n",
    "dshap.run(100, 0.5, g_run=False, loo_run=True, tmc_run=True, save_run=False)\n",
    "# tmc_values = dshap.vals_tmc"
   ]
  },
  {
   "cell_type": "code",
   "execution_count": 23,
   "metadata": {},
   "outputs": [
    {
     "name": "stdout",
     "output_type": "stream",
     "text": [
      "[ 0.006  0.    -0.001  0.     0.004 -0.001  0.001  0.     0.     0.   ] [4.58833333e-03 8.91666667e-04 2.72000000e-03 2.83333333e-05\n",
      " 1.04000000e-03 7.00000000e-04 2.02166667e-03 1.06666667e-03\n",
      " 3.14166667e-03 1.13333333e-03]\n"
     ]
    }
   ],
   "source": [
    "import pickle\n",
    "with open('./temp_acquisition/loo.pkl', 'rb') as f:\n",
    "    loo = pickle.load(f)\n",
    "    loo_values = loo['loo']\n",
    "with open('./temp_acquisition/mem_tmc_0000.pkl', 'rb') as f:\n",
    "    tmc = pickle.load(f)\n",
    "    tmc_values = np.mean(tmc['mem_tmc'], 0)\n",
    "print(loo_values, tmc_values)"
   ]
  },
  {
   "cell_type": "code",
   "execution_count": 24,
   "metadata": {},
   "outputs": [
    {
     "name": "stdout",
     "output_type": "stream",
     "text": [
      "neighbour number: 5\n"
     ]
    },
    {
     "data": {
      "application/vnd.jupyter.widget-view+json": {
       "model_id": "",
       "version_major": 2,
       "version_minor": 0
      },
      "text/plain": [
       "HBox(children=(IntProgress(value=0), HTML(value='')))"
      ]
     },
     "metadata": {},
     "output_type": "display_data"
    },
    {
     "name": "stdout",
     "output_type": "stream",
     "text": [
      "\r"
     ]
    },
    {
     "data": {
      "application/vnd.jupyter.widget-view+json": {
       "model_id": "",
       "version_major": 2,
       "version_minor": 0
      },
      "text/plain": [
       "HBox(children=(IntProgress(value=0), HTML(value='')))"
      ]
     },
     "metadata": {},
     "output_type": "display_data"
    },
    {
     "name": "stdout",
     "output_type": "stream",
     "text": [
      "\r"
     ]
    }
   ],
   "source": [
    "# knn shapley\n",
    "kmin = 1\n",
    "kmax = 10\n",
    "kinterval = 11\n",
    "knn_values = [[] for _ in range(math.ceil((kmax-kmin)/kinterval))]\n",
    "knn_values_idx = [[] for _ in range(math.ceil((kmax-kmin)/kinterval))]\n",
    "loo_knn_values = [[] for _ in range(math.ceil((kmax-kmin)/kinterval))]\n",
    "loo_knn_values_idx = [[] for _ in range(math.ceil((kmax-kmin)/kinterval))]\n",
    "\n",
    "for i, k in enumerate(range(kmin, kmax, kinterval)):\n",
    "    print(\"neighbour number:\", k)\n",
    "    knn_values[i], *_ = old_knn_shapley(k, x_train, x_test, y_train, y_test)\n",
    "    loo_knn_values[i], *_ = loo_knn_shapley(k, x_train, x_test, y_train, y_test)"
   ]
  },
  {
   "cell_type": "code",
   "execution_count": 25,
   "metadata": {},
   "outputs": [
    {
     "name": "stdout",
     "output_type": "stream",
     "text": [
      "100\n",
      "0.00426\n"
     ]
    }
   ],
   "source": [
    "print(len(knn_values[0]))\n",
    "# # print(knn_values[0][:250])\n",
    "mean = np.mean(knn_values[0])\n",
    "print(mean)\n",
    "# # print(knn_values[0][-250:]*1000)\n",
    "# # print(np.mean(knn_values[0]))\n",
    "len(np.where(knn_values[0]<mean)[0])\n",
    "\n",
    "middle_train = np.where(knn_values[0])\n",
    "middle_label = np.zeros(len(knn_values[0]))"
   ]
  },
  {
   "cell_type": "code",
   "execution_count": 26,
   "metadata": {},
   "outputs": [
    {
     "name": "stdout",
     "output_type": "stream",
     "text": [
      "[0.00095727 0.00151152 0.00113116 0.00135286 0.00129667 0.00122879\n",
      " 0.00118899 0.00163157 0.00085072 0.00145097]\n",
      "[0.01569703 0.0247854  0.01854842 0.02218372 0.02126236 0.02014924\n",
      " 0.01949672 0.02675393 0.01394979 0.0237926 ]\n",
      "[0. 0. 0. 0. 0. 0. 0. 0. 0. 0.]\n",
      "[0.14268254 0.17121904 0.02853651 0.14268254 0.25682857 0.05707301\n",
      " 0.11414603 0.31390158 0.17121904 0.08560952]\n"
     ]
    }
   ],
   "source": [
    "# print(knn_values[0][:250])\n",
    "# print(fc1_knn_values[0][:50])\n",
    "print(knn_values[0][:10])\n",
    "knn_values[0] = knn_values[0] / np.linalg.norm(knn_values[0])\n",
    "print(knn_values[0][:10])\n",
    "\n",
    "\n",
    "print(loo_knn_values[0][:10])\n",
    "loo_knn_values[0] = loo_knn_values[0] / np.linalg.norm(loo_knn_values[0])\n",
    "print(loo_knn_values[0][-10:])\n",
    "\n",
    "print(tmc_values[:10])\n",
    "tmc_values = tmc_values / np.linalg.norm(tmc_values)\n",
    "print(tmc_values[-10:])\n",
    "\n",
    "print(loo_values[:10])\n",
    "loo_values = loo_values / np.linalg.norm(loo_values)\n",
    "print(loo_values[-10:])"
   ]
  },
  {
   "cell_type": "code",
   "execution_count": 27,
   "metadata": {},
   "outputs": [
    {
     "name": "stdout",
     "output_type": "stream",
     "text": [
      "(100,) (100,)\n",
      "knn_values: 100\n",
      "loo_knn_values: 100\n"
     ]
    }
   ],
   "source": [
    "# get high value data\n",
    "tmc_values_idx = np.where(tmc_values > -100.0)[0]\n",
    "loo_values_idx = np.where(loo_values > -100.0)[0]\n",
    "print(tmc_values_idx.shape, loo_values_idx.shape)\n",
    "for i in range(len(knn_values)):\n",
    "    knn_values_idx[i] = np.where(knn_values[i] > -100.00000)[0]\n",
    "    loo_knn_values_idx[i] = np.where(loo_knn_values[i] > -100.00000)[0]\n",
    "\n",
    "    print(\"knn_values:\", len(knn_values_idx[i]))\n",
    "    print(\"loo_knn_values:\", len(loo_knn_values_idx[i]))"
   ]
  },
  {
   "cell_type": "code",
   "execution_count": 28,
   "metadata": {},
   "outputs": [],
   "source": [
    "# train a random froest model and calucalte the new data\n",
    "model_name = \"RandomForestReg\"\n",
    "# model_name = \"mlpreg\"\n",
    "clf_tmc = return_model(model_name)\n",
    "clf_tmc.fit(x_train[tmc_values_idx], tmc_values[tmc_values_idx])\n",
    "clf_loo = return_model(model_name)\n",
    "clf_loo.fit(x_train[loo_values_idx], loo_values[loo_values_idx])\n",
    "\n",
    "clf_knn = [[] for _ in range(math.ceil((kmax-kmin)/kinterval))]\n",
    "clf_loo_knn = [[] for _ in range(math.ceil((kmax-kmin)/kinterval))]\n",
    "\n",
    "for i in range(len(knn_values)):\n",
    "    clf_knn[i] = return_model(model_name)\n",
    "    clf_knn[i].fit(x_train[knn_values_idx[i]], knn_values[i][knn_values_idx[i]])\n",
    "\n",
    "for i in range(len(loo_knn_values)):\n",
    "    clf_loo_knn[i] = return_model(model_name)\n",
    "    clf_loo_knn[i].fit(x_train[loo_knn_values_idx[i]], loo_knn_values[i][loo_knn_values_idx[i]])\n",
    "    \n",
    "loo_pre_score = []\n",
    "tmc_pre_score = []\n",
    "knn_pre_score = [[] for _ in range(math.ceil((kmax-kmin)/kinterval))]\n",
    "loo_knn_pre_score = [[] for _ in range(math.ceil((kmax-kmin)/kinterval))]\n",
    "\n",
    "\n",
    "# for i in range(test_size):\n",
    "loo_pre_score = clf_loo.predict(x_pre)\n",
    "tmc_pre_score = clf_tmc.predict(x_pre)\n",
    "for i in range(len(knn_values_idx)):\n",
    "    knn_pre_score[i] = clf_knn[i].predict(x_pre)\n",
    "    loo_knn_pre_score[i] = clf_loo_knn[i].predict(x_pre)"
   ]
  },
  {
   "cell_type": "code",
   "execution_count": 29,
   "metadata": {},
   "outputs": [],
   "source": [
    "tmc_pre_idx=np.argsort(tmc_pre_score)\n",
    "loo_pre_idx=np.argsort(loo_pre_score)\n",
    "\n",
    "# print(tmc_pre_score[:10])\n",
    "# print(loo_pre_score[:10])\n",
    "\n",
    "knn_pre_idx = [[] for _ in range(math.ceil((kmax-kmin)/kinterval))]\n",
    "loo_knn_pre_idx = [[] for _ in range(math.ceil((kmax-kmin)/kinterval))]\n",
    "\n",
    "for i in range(len(knn_values)):\n",
    "    knn_pre_idx[i]=np.argsort(knn_pre_score[i])\n",
    "    loo_knn_pre_idx[i]=np.argsort(loo_knn_pre_score[i])\n",
    "\n",
    "    # print(len(knn_pre_idx[0]))"
   ]
  },
  {
   "cell_type": "code",
   "execution_count": 30,
   "metadata": {},
   "outputs": [
    {
     "name": "stdout",
     "output_type": "stream",
     "text": [
      "[1955 1748 1587 ... 1919 1988 1783]\n"
     ]
    }
   ],
   "source": [
    "# print((knn_pre_idx[0][:100]))\n",
    "\n",
    "# print((knn_pre_idx[0][-100:]))\n",
    "\n",
    "# print(knn_pre_score[0][0])\n",
    "# print(knn_pre_score[0][658])\n",
    "\n",
    "# print(tmc_pre_score[:10])\n",
    "\n",
    "# print(knn_pre_idx[1][:10])\n",
    "# tknn_pre_idx = np.flip(knn_pre_idx, 1)\n",
    "# print(tknn_pre_idx[1][-10:])\n",
    "\n",
    "# print(loo_pre_score[:10])\n",
    "\n",
    "# print((knn_pre_idx[0][-5:]))\n",
    "# # knn_pre_idx[0].reverse()\n",
    "# knn_pre_idx = np.flip(knn_pre_idx, 1)\n",
    "# print((knn_pre_idx[0][:5]))\n",
    "print(loo_pre_idx)"
   ]
  },
  {
   "cell_type": "code",
   "execution_count": 41,
   "metadata": {},
   "outputs": [],
   "source": [
    "# add new data to the train set and draw the picture\n",
    "seed = 0\n",
    "np.random.seed(seed)\n",
    "random.seed(seed)\n",
    "torch.manual_seed(seed)\n",
    "torch.backends.cudnn.deterministic=True\n",
    "\n",
    "def plot_acquisition(loo_pre_idx, tmc_pre_idx, knn_pre_idx, loo_knn_pre_idx, kmin, kmax, kinterval, x_train, y_train, \n",
    "                     x_test, y_test, x_pre, y_pre, HtoL=False):\n",
    "    sns.set()\n",
    "    plt.figure()    \n",
    "    # set the model deterministic\n",
    "    seed = 0\n",
    "    np.random.seed(seed)\n",
    "    random.seed(seed)\n",
    "    torch.manual_seed(seed)\n",
    "\n",
    "    plt.xlabel('Number of added training points')\n",
    "    plt.ylabel('Prediction accuracy (%)')\n",
    "    \n",
    "    tmc_accs = []\n",
    "    loo_knn_accs = [[] for _ in range(len(knn_values))]   \n",
    "    knn_accs = [[] for _ in range(len(knn_values))]   \n",
    "    marks = ['o-', '*-', 's-', 'v-', '^-', '.-', '1-', '2-']\n",
    "    colors = ['b', 'g', 'r', 'y', 'c', 'm', 'olive', 'pink']\n",
    "    labels = [i for i in range(kmin, kmax, kinterval)]\n",
    "    count = int(len(x_pre)/2)\n",
    "    interval = int(count*0.02)\n",
    "    x = np.arange(0, count, interval)\n",
    "#     model = 'logistic'\n",
    "    model = 'RandomForest'\n",
    "\n",
    "#     # random solution\n",
    "    times = 5\n",
    "    all_rand_accs = []\n",
    "    print(\"random\")\n",
    "    for time in range(times):\n",
    "        \n",
    "        random_accs = []\n",
    "        keep_idxs = np.arange(0, count)\n",
    "        random.shuffle(keep_idxs)\n",
    "        for j in range(0, count, interval):\n",
    "            x_train_keep = np.concatenate((x_train, x_pre[keep_idxs[:j]]), axis=0)\n",
    "            y_train_keep = np.concatenate((y_train, y_pre[keep_idxs[:j]]), axis=0)\n",
    "            clf_random = return_model(model)\n",
    "            clf_random.fit(x_train_keep, y_train_keep)\n",
    "            acc = clf_random.score(x_test, y_test) *100\n",
    "            random_accs.append(acc)\n",
    "        all_rand_accs.append(random_accs)\n",
    "    all_rand_accs = np.mean(all_rand_accs, 0)\n",
    "    print(\"random:\", all_rand_accs.tolist())\n",
    "    plt.plot(x, all_rand_accs, 'o-', label='random', color='red')  \n",
    "\n",
    "    if(HtoL == True):\n",
    "        print(\"adding data from Highest to Lowest!\")\n",
    "        knn_pre_idx = np.flip(knn_pre_idx, 1)\n",
    "        loo_knn_pre_idx = np.flip(loo_knn_pre_idx, 1)\n",
    "        tmc_pre_idx = np.flip(tmc_pre_idx, 0)\n",
    "        loo_pre_idx = np.flip(loo_pre_idx, 0)        \n",
    "    else:\n",
    "        print(\"adding data from Lowest to Highest!\")\n",
    "        \n",
    "    # TMC Shapley\n",
    "    tmc_accs = []\n",
    "    idxs = tmc_pre_idx\n",
    "    for j in range(0, int(count), interval):\n",
    "        x_train_keep = np.concatenate((x_train, x_pre[idxs[:j]]), axis=0)\n",
    "        y_train_keep = np.concatenate((y_train, y_pre[idxs[:j]]), axis=0)       \n",
    "        clf_tmc = return_model(model)\n",
    "        clf_tmc.fit(x_train_keep, y_train_keep)\n",
    "        acc = clf_tmc.score(x_test, y_test) * 100\n",
    "        tmc_accs.append(acc)\n",
    "    print(\"TMC:\", tmc_accs)\n",
    "    plt.plot(x, tmc_accs, 's-', label='TMC Shapley', color='olive')\n",
    "\n",
    "    # Loo Shapley\n",
    "    loo_accs = []\n",
    "    idxs = loo_pre_idx\n",
    "    for j in range(0, int(count), interval):\n",
    "        x_train_keep = np.concatenate((x_train, x_pre[idxs[:j]]), axis=0)\n",
    "        y_train_keep = np.concatenate((y_train, y_pre[idxs[:j]]), axis=0)       \n",
    "        clf_loo = return_model(model)\n",
    "        clf_loo.fit(x_train_keep, y_train_keep)\n",
    "        acc = clf_loo.score(x_test, y_test) * 100\n",
    "        loo_accs.append(acc)\n",
    "    print(\"LOO: \", loo_accs)\n",
    "    plt.plot(x, loo_accs, '^-', label='LOO', color='pink')\n",
    "\n",
    "    # Knn Shapley  \n",
    "    for i in tqdm_notebook(range(len(knn_pre_idx)), total=len(knn_pre_idx), leave = False):\n",
    "        idxs = knn_pre_idx[i]\n",
    "        for j in tqdm_notebook(range(0, count, interval), total=int(count/interval), leave=False):\n",
    "            x_train_keep = np.concatenate((x_train, x_pre[idxs[:j]]), axis=0)\n",
    "            y_train_keep = np.concatenate((y_train, y_pre[idxs[:j]]), axis=0)       \n",
    "            clf_knn = return_model(model)\n",
    "            clf_knn.fit(x_train_keep, y_train_keep)\n",
    "            acc = clf_knn.score(x_test, y_test) * 100\n",
    "            knn_accs[i].append(acc)\n",
    "    for i in range(0, len(knn_pre_idx)):\n",
    "        print(x, knn_accs[i])\n",
    "        plt.plot(x, knn_accs[i], marks[i], label=\"Knn Shapley, K=\"+str(labels[i]), color=colors[i])\n",
    "        \n",
    "        \n",
    "        # LOO KNN\n",
    "    for i in tqdm_notebook(range(len(loo_knn_pre_idx)), total=len(loo_knn_pre_idx), leave = False):\n",
    "        idxs = loo_knn_pre_idx[i]\n",
    "        for j in tqdm_notebook(range(0, int(count), interval), total=int(count/interval), leave=False):\n",
    "            x_train_keep = np.concatenate((x_train, x_pre[idxs[:j]]), axis=0)\n",
    "            y_train_keep = np.concatenate((y_train, y_pre[idxs[:j]]), axis=0)       \n",
    "            clf_knn = return_model(model)\n",
    "            clf_knn.fit(x_train_keep, y_train_keep)\n",
    "            acc = clf_knn.score(x_test, y_test) * 100\n",
    "            loo_knn_accs[i].append(acc)\n",
    "    for i in range(0, len(loo_knn_pre_idx)):\n",
    "        print(x, loo_knn_accs[i])\n",
    "        plt.plot(x, loo_knn_accs[i], marks[i+2], label=\"LOO Knn Shapley, K=\"+str(labels[i]), color=colors[i+2])        \n",
    "        \n",
    "        \n",
    "    plt.legend()\n",
    "    plt.tight_layout()\n",
    "    if(HtoL == True):\n",
    "        plt.savefig('knnH-L.png')\n",
    "    else:\n",
    "        plt.savefig('knnL-H.png')"
   ]
  },
  {
   "cell_type": "code",
   "execution_count": 42,
   "metadata": {},
   "outputs": [
    {
     "name": "stdout",
     "output_type": "stream",
     "text": [
      "random\n",
      "random: [55.4, 55.9, 56.379999999999995, 56.85999999999999, 56.7, 57.080000000000005, 58.98, 58.86, 60.160000000000004, 60.96, 60.48, 60.98, 58.660000000000004, 60.06, 60.5, 59.98, 61.04, 59.11999999999999, 59.160000000000004, 58.64, 58.5, 58.8, 59.28000000000001, 60.11999999999999, 57.88000000000001, 59.39999999999999, 58.71999999999999, 57.6, 56.98, 60.7, 59.2, 58.839999999999996, 59.739999999999995, 58.65999999999999, 58.120000000000005, 59.46, 57.739999999999995, 58.48, 57.23999999999999, 58.48, 59.4, 57.11999999999999, 58.32000000000001, 57.5, 58.160000000000004, 58.17999999999999, 58.1, 57.339999999999996, 58.17999999999999, 56.98]\n",
      "adding data from Highest to Lowest!\n",
      "TMC: [55.400000000000006, 61.6, 61.8, 62.1, 59.8, 60.699999999999996, 62.4, 61.8, 63.3, 62.7, 64.60000000000001, 63.4, 66.4, 67.10000000000001, 64.4, 62.1, 66.8, 69.6, 68.30000000000001, 67.30000000000001, 71.5, 66.0, 67.5, 69.5, 66.0, 68.7, 70.7, 71.5, 70.89999999999999, 69.6, 69.5, 69.1, 69.6, 65.7, 69.3, 68.4, 68.4, 68.8, 69.3, 69.3, 70.8, 69.19999999999999, 68.89999999999999, 70.89999999999999, 68.7, 73.0, 71.8, 72.39999999999999, 71.3, 72.8]\n",
      "LOO:  [55.400000000000006, 61.199999999999996, 58.5, 60.4, 62.1, 63.3, 61.1, 61.3, 60.5, 62.9, 61.4, 60.9, 59.099999999999994, 65.7, 61.3, 60.6, 60.199999999999996, 64.9, 64.7, 64.2, 64.2, 62.7, 61.5, 62.3, 64.0, 60.9, 65.2, 63.9, 66.4, 64.3, 61.9, 67.7, 66.5, 68.2, 67.7, 67.9, 68.60000000000001, 69.3, 65.60000000000001, 67.4, 70.0, 69.69999999999999, 70.3, 67.80000000000001, 66.8, 68.89999999999999, 69.39999999999999, 70.8, 68.89999999999999, 70.19999999999999]\n"
     ]
    },
    {
     "data": {
      "application/vnd.jupyter.widget-view+json": {
       "model_id": "",
       "version_major": 2,
       "version_minor": 0
      },
      "text/plain": [
       "HBox(children=(IntProgress(value=0, max=1), HTML(value='')))"
      ]
     },
     "metadata": {},
     "output_type": "display_data"
    },
    {
     "data": {
      "application/vnd.jupyter.widget-view+json": {
       "model_id": "",
       "version_major": 2,
       "version_minor": 0
      },
      "text/plain": [
       "HBox(children=(IntProgress(value=0, max=50), HTML(value='')))"
      ]
     },
     "metadata": {},
     "output_type": "display_data"
    },
    {
     "name": "stdout",
     "output_type": "stream",
     "text": [
      "\r",
      "[  0  20  40  60  80 100 120 140 160 180 200 220 240 260 280 300 320 340\n",
      " 360 380 400 420 440 460 480 500 520 540 560 580 600 620 640 660 680 700\n",
      " 720 740 760 780 800 820 840 860 880 900 920 940 960 980] [55.400000000000006, 56.2, 57.4, 61.8, 64.8, 66.4, 67.80000000000001, 71.1, 71.7, 71.0, 73.2, 75.0, 75.9, 74.0, 78.10000000000001, 77.7, 74.3, 78.7, 76.5, 77.2, 78.2, 79.9, 79.4, 78.3, 78.7, 78.10000000000001, 79.7, 79.9, 81.69999999999999, 82.3, 79.5, 79.9, 80.5, 79.9, 80.80000000000001, 81.0, 80.5, 78.2, 79.2, 80.5, 78.10000000000001, 81.10000000000001, 81.3, 79.9, 80.80000000000001, 82.6, 78.7, 82.3, 82.5, 82.0]\n"
     ]
    },
    {
     "data": {
      "application/vnd.jupyter.widget-view+json": {
       "model_id": "",
       "version_major": 2,
       "version_minor": 0
      },
      "text/plain": [
       "HBox(children=(IntProgress(value=0, max=1), HTML(value='')))"
      ]
     },
     "metadata": {},
     "output_type": "display_data"
    },
    {
     "data": {
      "application/vnd.jupyter.widget-view+json": {
       "model_id": "",
       "version_major": 2,
       "version_minor": 0
      },
      "text/plain": [
       "HBox(children=(IntProgress(value=0, max=50), HTML(value='')))"
      ]
     },
     "metadata": {},
     "output_type": "display_data"
    },
    {
     "name": "stdout",
     "output_type": "stream",
     "text": [
      "\r",
      "[  0  20  40  60  80 100 120 140 160 180 200 220 240 260 280 300 320 340\n",
      " 360 380 400 420 440 460 480 500 520 540 560 580 600 620 640 660 680 700\n",
      " 720 740 760 780 800 820 840 860 880 900 920 940 960 980] [55.400000000000006, 59.5, 61.8, 62.6, 65.7, 62.7, 67.5, 67.7, 70.5, 68.5, 69.89999999999999, 71.39999999999999, 71.3, 71.1, 69.19999999999999, 69.19999999999999, 70.1, 67.5, 71.89999999999999, 71.3, 69.19999999999999, 70.8, 70.39999999999999, 72.6, 70.89999999999999, 72.8, 72.8, 70.19999999999999, 73.1, 74.4, 72.3, 71.8, 74.5, 74.1, 73.2, 75.1, 74.7, 75.1, 77.10000000000001, 75.2, 75.5, 75.4, 74.1, 74.7, 77.10000000000001, 75.4, 76.8, 78.4, 75.6, 76.9]\n"
     ]
    },
    {
     "data": {
      "image/png": "[encoded data removed]",
      "text/plain": [
       "<Figure size 432x288 with 1 Axes>"
      ]
     },
     "metadata": {},
     "output_type": "display_data"
    }
   ],
   "source": [
    "%matplotlib inline\n",
    "plot_acquisition(loo_pre_idx, tmc_pre_idx, knn_pre_idx, loo_knn_pre_idx, kmin, kmax, kinterval, x_train, y_train, x_heldout, \n",
    "                 y_heldout, x_pre, y_pre, HtoL=True)"
   ]
  },
  {
   "cell_type": "raw",
   "metadata": {},
   "source": [
    "plot_acquisition(loo_pre_idx, tmc_pre_idx, knn_pre_idx, loo_knn_pre_idx, kmin, kmax, kinterval, x_train, y_train, \n",
    "                 x_test, y_test, x_pre, y_pre, HtoL=False)"
   ]
  },
  {
   "cell_type": "code",
   "execution_count": 34,
   "metadata": {},
   "outputs": [],
   "source": [
    "rand = [54.53, 59.709999999999994, 66.66, 69.01, 71.16, 72.45, 73.75, 75.27000000000001, 75.72, 77.63, 77.97, 79.08, 78.60000000000001, 80.46, 80.47, 81.52000000000001, 80.10000000000001, 82.08, 82.35, 82.52000000000001]\n",
    "knn_plot = [54.53, 62.480000000000004, 70.45, 75.8, 79.66, 79.83, 79.25, 79.03, 79.53, 79.53, 78.94, 79.06, 80.17, 80.62, 80.10000000000001, 80.16, 80.94, 80.35, 80.5, 80.42]\n",
    "knn_loo = [54.53, 60.540000000000006, 68.26, 69.51, 70.42, 71.1, 72.68, 73.61, 75.35, 75.11, 75.44, 76.35, 77.74, 77.11, 77.42, 78.14, 78.63, 79.41, 79.14999999999999, 81.21000000000001]\n",
    "\n"
   ]
  },
  {
   "cell_type": "code",
   "execution_count": null,
   "metadata": {},
   "outputs": [],
   "source": []
  },
  {
   "cell_type": "code",
   "execution_count": 78,
   "metadata": {},
   "outputs": [
    {
     "data": {
      "image/png": "[encoded data removed]",
      "text/plain": [
       "<Figure size 432x288 with 1 Axes>"
      ]
     },
     "metadata": {},
     "output_type": "display_data"
    }
   ],
   "source": [
    "sns.set()\n",
    "plt.figure()  \n",
    "plt.xlabel('Number of added training points')\n",
    "plt.ylabel('Prediction accuracy (%)')\n",
    "count = 1000\n",
    "#     print(count)\n",
    "interval = int(count*0.02)\n",
    "dele = 0\n",
    "epochs = 15\n",
    "x = np.arange(0, count, interval)\n",
    "\n",
    "rand = [55.4, 55.9, 56.379999999999995, 56.85999999999999, 56.7, 57.080000000000005, 58.98, 58.86, 60.160000000000004, 60.96, 60.48, 60.98, 58.660000000000004, 60.06, 60.5, 59.98, 61.04, 59.11999999999999, 59.160000000000004, 58.64, 58.5, 58.8, 59.28000000000001, 60.11999999999999, 57.88000000000001, 59.39999999999999, 58.71999999999999, 57.6, 56.98, 60.7, 59.2, 58.839999999999996, 59.739999999999995, 58.65999999999999, 58.120000000000005, 59.46, 57.739999999999995, 58.48, 57.23999999999999, 58.48, 59.4, 57.11999999999999, 58.32000000000001, 57.5, 58.160000000000004, 58.17999999999999, 58.1, 57.339999999999996, 58.17999999999999, 56.98]\n",
    "\n",
    "tmc_plot = [55.400000000000006, 61.6, 61.8, 62.1, 59.8, 60.699999999999996, 62.4, 61.8, 63.3, 62.7, 64.60000000000001, 63.4, 66.4, 67.10000000000001, 64.4, 62.1, 66.8, 69.6, 68.30000000000001, 67.30000000000001, 71.5, 66.0, 67.5, 69.5, 66.0, 68.7, 70.7, 71.5, 70.89999999999999, 69.6, 69.5, 69.1, 69.6, 65.7, 69.3, 68.4, 68.4, 68.8, 69.3, 69.3, 70.8, 69.19999999999999, 68.89999999999999, 70.89999999999999, 68.7, 73.0, 71.8, 72.39999999999999, 71.3, 72.8]\n",
    "\n",
    "loo_plot = [55.400000000000006, 61.199999999999996, 58.5, 60.4, 62.1, 63.3, 61.1, 61.3, 60.5, 62.9, 61.4, 60.9, 59.099999999999994, 65.7, 61.3, 60.6, 60.199999999999996, 64.9, 64.7, 64.2, 64.2, 62.7, 61.5, 62.3, 64.0, 60.9, 65.2, 63.9, 66.4, 64.3, 61.9, 67.7, 66.5, 68.2, 67.7, 67.9, 68.60000000000001, 69.3, 65.60000000000001, 67.4, 70.0, 69.69999999999999, 70.3, 67.80000000000001, 66.8, 68.89999999999999, 69.39999999999999, 70.8, 68.89999999999999, 70.19999999999999]\n",
    "\n",
    "knn_accs = [55.400000000000006, 56.2, 57.4, 61.8, 64.8, 66.4, 67.80000000000001, 71.1, 71.7, 71.0, 73.2, 75.0, 75.9, 74.0, 78.10000000000001, 77.7, 74.3, 78.7, 76.5, 77.2, 78.2, 79.9, 79.4, 78.3, 78.7, 78.10000000000001, 79.7, 79.9, 81.69999999999999, 82.3, 79.5, 79.9, 80.5, 79.9, 80.80000000000001, 81.0, 80.5, 78.2, 79.2, 80.5, 78.10000000000001, 81.10000000000001, 81.3, 79.9, 80.80000000000001, 82.6, 78.7, 82.3, 82.5, 82.0]\n",
    "\n",
    "loo_knn_accs = [55.400000000000006, 59.5, 61.8, 62.6, 65.7, 62.7, 67.5, 67.7, 70.5, 68.5, 69.89999999999999, 71.39999999999999, 71.3, 71.1, 69.19999999999999, 69.19999999999999, 70.1, 67.5, 71.89999999999999, 71.3, 69.19999999999999, 70.8, 70.39999999999999, 72.6, 70.89999999999999, 72.8, 72.8, 70.19999999999999, 73.1, 74.4, 72.3, 71.8, 74.5, 74.1, 73.2, 75.1, 74.7, 75.1, 77.10000000000001, 75.2, 75.5, 75.4, 74.1, 74.7, 77.10000000000001, 75.4, 76.8, 78.4, 75.6, 76.9]\n",
    "\n",
    "x_axis = []\n",
    "rand_axis = []\n",
    "knn_axis = []\n",
    "loo_axis = []\n",
    "loo_knn_axis = []\n",
    "tmc_axis = []\n",
    "\n",
    "for i in range(0, len(rand), 5):\n",
    "    x_axis.append(x[i])\n",
    "    rand_axis.append(rand[i])\n",
    "    knn_axis.append(knn_accs[i])\n",
    "    loo_knn_axis.append(loo_knn_accs[i])\n",
    "    tmc_axis.append(tmc_plot[i])\n",
    "    loo_axis.append(loo_plot[i])\n",
    "\n",
    "\n",
    "plt.plot(x_axis, loo_axis, '^-', label=\"Leave-One-Out\", color=\"olive\", linewidth=1, zorder=4, alpha=0.8)\n",
    "plt.plot(x_axis, tmc_axis, 's-', label=\"TMC-Shapley\", color=\"blue\", linewidth=1)\n",
    "\n",
    "# plt.plot(x, g_plot, '-', label=\"G Shapley\", color=\"olive\", linewidth=1)\n",
    "plt.plot(x_axis, loo_knn_axis, 'o-', label=\"KNN-LOO\", color=\"violet\", zorder=6, alpha=0.8, linewidth=1)\n",
    "plt.plot(x_axis, knn_axis, 'o-', label=\"KNN-Shapley\", color=\"purple\", linewidth=1.2)\n",
    "plt.plot(x_axis, rand_axis, '--', label=\"Random\", color=\"red\", linewidth=1, zorder=7)\n",
    "\n",
    "# plt.title('Digits Classification\\n Random Forest Classifier')\n",
    "\n",
    "plt.legend(loc=4)\n",
    "plt.tight_layout()\n",
    "plt.savefig('DataAcquisitionMnist.png') \n"
   ]
  },
  {
   "cell_type": "code",
   "execution_count": null,
   "metadata": {},
   "outputs": [],
   "source": []
  },
  {
   "cell_type": "code",
   "execution_count": null,
   "metadata": {},
   "outputs": [],
   "source": []
  }
 ],
 "metadata": {
  "kernelspec": {
   "display_name": "Python 3",
   "language": "python",
   "name": "python3"
  },
  "language_info": {
   "codemirror_mode": {
    "name": "ipython",
    "version": 3
   },
   "file_extension": ".py",
   "mimetype": "text/x-python",
   "name": "python",
   "nbconvert_exporter": "python",
   "pygments_lexer": "ipython3",
   "version": "3.7.4"
  }
 },
 "nbformat": 4,
 "nbformat_minor": 2
}
