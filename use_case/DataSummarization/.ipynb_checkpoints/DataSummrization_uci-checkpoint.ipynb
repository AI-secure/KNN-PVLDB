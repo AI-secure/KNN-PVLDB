{
 "cells": [
  {
   "cell_type": "code",
   "execution_count": 3,
   "metadata": {},
   "outputs": [
    {
     "name": "stdout",
     "output_type": "stream",
     "text": [
      "The autoreload extension is already loaded. To reload it, use:\n",
      "  %reload_ext autoreload\n"
     ]
    }
   ],
   "source": [
    "import pandas as pd\n",
    "from IPython.display import Markdown, display\n",
    "from sklearn.model_selection import train_test_split\n",
    "import matplotlib.pyplot as plt\n",
    "from sklearn.metrics import roc_curve, auc\n",
    "import numpy as np\n",
    "from sklearn import metrics\n",
    "%load_ext autoreload\n",
    "%autoreload 2\n",
    "\n",
    "def printmd(string):\n",
    "    display(Markdown(string))    \n",
    "from sklearn.linear_model import LogisticRegression\n",
    "from sklearn import svm\n",
    "from sklearn import tree\n",
    "from sklearn.ensemble import RandomForestClassifier\n",
    "from sklearn.neural_network import MLPClassifier\n",
    "from sklearn.ensemble import AdaBoostClassifier\n",
    "from sklearn.model_selection import cross_val_score\n",
    "\n",
    "from sklearn.metrics import accuracy_score\n",
    "from sklearn.metrics import roc_curve, auc\n",
    "from sklearn.preprocessing import label_binarize\n",
    "%matplotlib inline\n",
    "from shap_utils import *\n",
    "import seaborn as sns\n",
    "from sklearn import preprocessing\n",
    "from sklearn.preprocessing import StandardScaler  \n",
    "from Shapley import ShapNN\n",
    "from DShap_run import DShap\n",
    "from shap_utils import *\n",
    "import shap_utils"
   ]
  },
  {
   "cell_type": "code",
   "execution_count": 4,
   "metadata": {},
   "outputs": [],
   "source": [
    "column_names = ['age', 'workclass', 'fnlwgt', 'education', 'educational-num','marital-status', 'occupation', \n",
    "                'relationship', 'race', 'gender','capital-gain', 'capital-loss', 'hours-per-week', 'native-country',\n",
    "                'income']\n",
    "\n",
    "train = pd.read_csv('./data/uci/data.train', sep=\",\\s\", header=None, names = column_names, engine = 'python')\n",
    "test = pd.read_csv('./data/uci/data.test', sep=\",\\s\", header=None, names = column_names, engine = 'python')\n",
    "test['income'].replace(regex=True,inplace=True,to_replace=r'\\.',value=r'')\n",
    "\n",
    "adult = pd.concat([test,train])\n",
    "\n",
    "adult.reset_index(inplace = True, drop = True)\n",
    "for col in set(adult.columns) - set(adult.describe().columns):\n",
    "    adult[col] = adult[col].astype('category')"
   ]
  },
  {
   "cell_type": "code",
   "execution_count": 5,
   "metadata": {},
   "outputs": [
    {
     "name": "stdout",
     "output_type": "stream",
     "text": [
      "(48843, 15)\n",
      "(48842, 15)\n",
      "(45222, 15)\n"
     ]
    }
   ],
   "source": [
    "# removing ? and Nan\n",
    "print(adult.shape)\n",
    "adult = adult.dropna(how='any')\n",
    "# print(adult.iloc[4,1])\n",
    "print(adult.shape)\n",
    "adult = adult[(adult.astype(str) != '?').all(axis=1)]\n",
    "print(adult.shape)"
   ]
  },
  {
   "cell_type": "code",
   "execution_count": 6,
   "metadata": {},
   "outputs": [
    {
     "name": "stdout",
     "output_type": "stream",
     "text": [
      "34014 11208\n",
      "(1000, 254) (1000, 254) (500, 254)\n"
     ]
    }
   ],
   "source": [
    "# Data Prep\n",
    "adult_data = adult.drop(columns = ['income'])\n",
    "adult_label = adult.income\n",
    "\n",
    "le = preprocessing.LabelEncoder()\n",
    "le.fit(adult_label)\n",
    "adult_label = le.transform(adult_label)\n",
    "\n",
    "adult_cat_1hot = pd.get_dummies(adult_data.select_dtypes('category'))\n",
    "adult_non_cat = adult_data.select_dtypes(exclude = 'category')\n",
    "adult_data_1hot = pd.concat([adult_non_cat, adult_cat_1hot], axis=1, join='inner')\n",
    "\n",
    "# print(adult_data_1hot)\n",
    "# ind = np.random.permutation(len(adult_data_1hot))\n",
    "# adult_data_1hot, adult_label = adult_data_1hot[ind], adult_label[ind]\n",
    "\n",
    "\n",
    "idx0 = np.where(adult_label == 0)[0]\n",
    "idx1 = np.where(adult_label == 1)[0]\n",
    "print(len(idx0),len(idx1))\n",
    "# print(idx0[:10])\n",
    "\n",
    "adult_data_1hot = adult_data_1hot.to_numpy()\n",
    "adult_label = adult_label\n",
    "# print(adult_data_1hot[0])\n",
    "train_size = 500\n",
    "test_size = 250\n",
    "heldout_size = 500\n",
    "\n",
    "# print(adult_data_1hot(idx0[:train_size]))\n",
    "train_data = np.concatenate((adult_data_1hot[idx0[:train_size]], adult_data_1hot[idx1[:train_size]]), 0)\n",
    "train_label = np.concatenate((adult_label[idx0[:train_size]], adult_label[idx1[:train_size]]), axis=0)\n",
    "test_data = np.concatenate((adult_data_1hot[idx0[train_size:train_size+test_size]], adult_data_1hot[idx1[train_size:train_size+test_size]]),0)\n",
    "test_label = np.concatenate((adult_label[idx0[train_size:train_size+test_size]], adult_label[idx1[train_size:train_size+test_size]]), 0)\n",
    "heldout_data = np.concatenate((adult_data_1hot[idx0[train_size+test_size:train_size+test_size+heldout_size]], adult_data_1hot[idx1[train_size+test_size:train_size+test_size+heldout_size]]), 0)\n",
    "heldout_label = np.concatenate((adult_label[idx0[train_size+test_size:train_size+test_size+heldout_size]], adult_label[idx1[train_size+test_size:train_size+test_size+heldout_size]]), 0)\n",
    "\n",
    "print(train_data.shape, heldout_data.shape, test_data.shape)\n",
    "# print(heldout_label[-10:])\n",
    "# idx0 = np.where(train_label == 0)[0]\n",
    "# idx1 = np.where(train_label == 1)[0]\n",
    "# print(len(idx0),len(idx1))\n",
    "\n",
    "# Normalization\n",
    "scaler = StandardScaler()  \n",
    "\n",
    "# Fitting only on training data\n",
    "scaler.fit(train_data)  \n",
    "train_data = scaler.transform(train_data)  \n",
    "\n",
    "# Applying same transformation to test data\n",
    "test_data = scaler.transform(test_data)\n",
    "heldout_data = scaler.transform(heldout_data)"
   ]
  },
  {
   "cell_type": "code",
   "execution_count": 7,
   "metadata": {},
   "outputs": [
    {
     "name": "stdout",
     "output_type": "stream",
     "text": [
      "(1000, 254) (1000,)\n",
      "(1000, 254) (1000,)\n"
     ]
    }
   ],
   "source": [
    "print(train_data.shape, train_label.shape)\n",
    "print(heldout_data.shape, heldout_label.shape)\n",
    "\n",
    "# printmd('## 1.4. Missing values')\n",
    "# for i,j in zip(adult.columns,(adult.values.astype(str) == '?').sum(axis = 0)):\n",
    "#     if j > 0:\n",
    "#         printmd(str(i) + ': ' + str(j) + ' records')"
   ]
  },
  {
   "cell_type": "raw",
   "metadata": {},
   "source": [
    "ind = np.random.permutation(train_data.shape[0])\n",
    "print(len(ind))\n",
    "xx, yy = train_data[ind], train_label[ind]\n",
    "print(xx.shape, yy.shape)\n",
    "print(heldout_data.shape, heldout_label.shape)\n",
    "for x in range(100, 2000, 200):\n",
    "    idx0 = np.where(yy[:x] == 0)[0]\n",
    "    idx1 = np.where(yy[:x] == 1)[0]\n",
    "    print(\"ratio:\", len(idx0),len(idx1))\n",
    "    \n",
    "#     ann_log = MLPClassifier(activation = 'logistic', solver='adam', \n",
    "#                     alpha=1e-4, hidden_layer_sizes=(6, 10),\n",
    "#                     learning_rate  = 'invscaling', max_iter= 5000,\n",
    "#                     random_state=1, warm_start = False)\n",
    "    ann_log = return_model('uci')\n",
    "    ann_log.fit(xx[:x], yy[:x])\n",
    "    acc = ann_log.score(heldout_data, heldout_label)\n",
    "    print(x, acc)\n",
    "\n",
    "#     log_reg = LogisticRegression(penalty = 'l2', dual = False, tol = 1e-4, fit_intercept = True, \n",
    "#                             solver = 'liblinear')\n",
    "#     log_reg.fit(train_data[:x], train_label[:x])\n",
    "# log_reg_pred = log_reg.predict(heldout_data)\n",
    "# print(log_reg_pred)"
   ]
  },
  {
   "cell_type": "code",
   "execution_count": null,
   "metadata": {},
   "outputs": [],
   "source": []
  },
  {
   "cell_type": "code",
   "execution_count": 8,
   "metadata": {},
   "outputs": [
    {
     "name": "stdout",
     "output_type": "stream",
     "text": [
      "0.734\n",
      "500\n"
     ]
    }
   ],
   "source": [
    "# print(train_label[:5])\n",
    "model = \"uci\"\n",
    "clf = return_model(model)\n",
    "# xx = 1000\n",
    "clf.fit(train_data, train_label)\n",
    "# pre_t = clf.predict(test_data)\n",
    "directory = './temp_ds_uci'\n",
    "\n",
    "test_acc = clf.score(heldout_data, heldout_label)\n",
    "print(test_acc)\n",
    "num_test = test_data.shape[0]\n",
    "print(num_test)\n",
    "\n",
    "# dshap = DShap(train_data, train_label, test_data, test_label, num_test, sources=None, model_family=model, metric='accuracy',\n",
    "#               directory=directory, seed=0)\n",
    "# print(dshap.X.shape, dshap.y.shape, dshap.X_test.shape, dshap.y_test.shape)\n",
    "# dshap.run(100, 0.5)"
   ]
  },
  {
   "cell_type": "raw",
   "metadata": {},
   "source": [
    "from models.uci import *\n",
    "from utils import *\n",
    "#data preparation\n",
    "batch_size = 1024\n",
    "epochs = 250\n",
    "\n",
    "x_train = torch.from_numpy(train_data).contiguous().view(-1, 254)\n",
    "y_train = torch.from_numpy(train_label).view(-1,).long()\n",
    "print(\"train_size:\", x_train.shape)\n",
    "x_test = torch.from_numpy(test_data).contiguous().view(-1, 254)\n",
    "y_test = torch.from_numpy(test_label).view(-1,).long()\n",
    "print(\"test_size:\", x_test.shape)\n",
    "x_heldout = torch.from_numpy(heldout_data).contiguous().view(-1, 254)\n",
    "y_heldout = torch.from_numpy(heldout_label).view(-1,).long()\n",
    "print(\"heldout_size:\", x_heldout.shape)\n",
    "x_all = torch.from_numpy(all_adult_data).contiguous().view(-1, 254)\n",
    "y_all = torch.from_numpy(all_adult_label).view(-1,).long()\n",
    "print(\"all_size:\", x_all.shape)\n",
    "\n",
    "\n",
    "for x in range(100, 2000, 200):\n",
    "    print(x)\n",
    "    model = \"uci\"\n",
    "    clf = return_model(model)\n",
    "    clf.fit(train_data[:x], train_label[:x])\n",
    "#     acc = clf.score(train_data, train_label)\n",
    "#     print(acc)\n",
    "    acc = clf.score(heldout_data, heldout_label)\n",
    "    print(acc)    \n",
    "#     print(len(x_train[:x]))\n",
    "    device = torch.device('cuda')\n",
    "    uci = UCI().to(device)\n",
    "    optimizer = optim.Adam(uci.parameters(), lr=0.001)\n",
    "\n",
    "    criterion = nn.CrossEntropyLoss()\n",
    "\n",
    "# print(y_train.shape)\n",
    "    train(uci, device, x_train[:x], y_train[:x], batch_size, optimizer, criterion, epochs)\n",
    "    accuracy, avg_loss = evaluate(uci, device, x_train[:x], y_train[:x], batch_size, criterion)\n",
    "    print(f'[Train] Accuracy: {100 * accuracy:5.2f}%, loss: {avg_loss:7.4f}')\n",
    "    accuracy, avg_loss = evaluate(uci, device, x_heldout, y_heldout, batch_size, criterion)\n",
    "    print(f'[Test] Accuracy: {100 * accuracy:5.2f}%, loss: {avg_loss:7.4f}')\n",
    "    "
   ]
  },
  {
   "cell_type": "code",
   "execution_count": 9,
   "metadata": {},
   "outputs": [
    {
     "name": "stdout",
     "output_type": "stream",
     "text": [
      "train_size: torch.Size([1000, 254])\n",
      "test_size: torch.Size([500, 254])\n",
      "heldout_size: torch.Size([1000, 254])\n"
     ]
    },
    {
     "data": {
      "application/vnd.jupyter.widget-view+json": {
       "model_id": "58b4971f9e3f4eff8f65ab6a58a3b126",
       "version_major": 2,
       "version_minor": 0
      },
      "text/plain": [
       "HBox(children=(IntProgress(value=0, description='Epochs', max=400, style=ProgressStyle(description_width='init…"
      ]
     },
     "metadata": {},
     "output_type": "display_data"
    },
    {
     "name": "stdout",
     "output_type": "stream",
     "text": [
      "\n",
      "[Train] Accuracy: 91.50%, loss:  0.0002\n",
      "[Test] Accuracy: 75.90%, loss:  0.0006\n"
     ]
    }
   ],
   "source": [
    "from models.uci import *\n",
    "from utils import *\n",
    "#data preparation\n",
    "batch_size = 1024\n",
    "epochs = 400\n",
    "\n",
    "x_train = torch.from_numpy(train_data).contiguous().view(-1, 254)\n",
    "y_train = torch.from_numpy(train_label).view(-1,).long()\n",
    "print(\"train_size:\", x_train.shape)\n",
    "x_test = torch.from_numpy(test_data).contiguous().view(-1, 254)\n",
    "y_test = torch.from_numpy(test_label).view(-1,).long()\n",
    "print(\"test_size:\", x_test.shape)\n",
    "x_heldout = torch.from_numpy(heldout_data).contiguous().view(-1, 254)\n",
    "y_heldout = torch.from_numpy(heldout_label).view(-1,).long()\n",
    "print(\"heldout_size:\", x_heldout.shape)\n",
    "\n",
    "device = torch.device('cuda')\n",
    "uci = UCI().to(device)\n",
    "optimizer = optim.Adam(uci.parameters(), lr=0.001)\n",
    "criterion = nn.CrossEntropyLoss()\n",
    "\n",
    "train(uci, device, x_train, y_train, batch_size, optimizer, criterion, epochs)\n",
    "accuracy, avg_loss = evaluate(uci, device, x_train, y_train, batch_size, criterion)\n",
    "print(f'[Train] Accuracy: {100 * accuracy:5.2f}%, loss: {avg_loss:7.4f}')\n",
    "accuracy, avg_loss = evaluate(uci, device, x_heldout, y_heldout, batch_size, criterion)\n",
    "print(f'[Test] Accuracy: {100 * accuracy:5.2f}%, loss: {avg_loss:7.4f}')"
   ]
  },
  {
   "cell_type": "code",
   "execution_count": 12,
   "metadata": {},
   "outputs": [
    {
     "name": "stdout",
     "output_type": "stream",
     "text": [
      "(1000, 100) (500, 100)\n"
     ]
    }
   ],
   "source": [
    "deep_f_train = []\n",
    "deep_f_test = []\n",
    "targets = []\n",
    "for X, y in batch(x_train, y_train, batch_size):\n",
    "    X = X.to(device).float()\n",
    "    fc3, y_pre = uci(X)\n",
    "    deep_f_train.append(fc3.view(fc3.size(0), -1).cpu().detach().numpy())\n",
    "\n",
    "for X, y in batch(x_test, y_test, batch_size):\n",
    "    X = X.to(device).float()\n",
    "    fc3, y_pre = uci(X)\n",
    "    deep_f_test.append(fc3.view(fc3.size(0), -1).cpu().detach().numpy())\n",
    "\n",
    "deep_f_train = np.concatenate(deep_f_train) # deep features are not normalized\n",
    "deep_f_test = np.concatenate(deep_f_test) # deep features are not normalized\n",
    "print(deep_f_train.shape, deep_f_test.shape)"
   ]
  },
  {
   "cell_type": "code",
   "execution_count": 13,
   "metadata": {},
   "outputs": [],
   "source": [
    "# import pickle\n",
    "# store_data = './exp_data/DS_uci/'\n",
    "# f = open(store_data+'data.pkl', 'wb')\n",
    "# data_write = {'x_train': x_train, 'y_train': y_train, 'x_test':x_test, 'y_test': y_test, \n",
    "#               'x_heldout': x_heldout, 'y_heldout': y_heldout}\n",
    "# pickle.dump(data_write, f)\n",
    "# f.close() \n",
    "# f = open(store_data+'values.pkl', 'wb')\n",
    "# data_write = {\"knn_values:\": fc1_knn_values}\n",
    "# pickle.dump(data_write, f)\n",
    "# f.close()"
   ]
  },
  {
   "cell_type": "code",
   "execution_count": 14,
   "metadata": {},
   "outputs": [
    {
     "name": "stdout",
     "output_type": "stream",
     "text": [
      "neighbour number: 5\n"
     ]
    },
    {
     "data": {
      "application/vnd.jupyter.widget-view+json": {
       "model_id": "",
       "version_major": 2,
       "version_minor": 0
      },
      "text/plain": [
       "HBox(children=(IntProgress(value=0, max=500), HTML(value='')))"
      ]
     },
     "metadata": {},
     "output_type": "display_data"
    },
    {
     "name": "stdout",
     "output_type": "stream",
     "text": [
      "\r"
     ]
    },
    {
     "data": {
      "application/vnd.jupyter.widget-view+json": {
       "model_id": "",
       "version_major": 2,
       "version_minor": 0
      },
      "text/plain": [
       "HBox(children=(IntProgress(value=0, max=500), HTML(value='')))"
      ]
     },
     "metadata": {},
     "output_type": "display_data"
    },
    {
     "name": "stdout",
     "output_type": "stream",
     "text": [
      "\r"
     ]
    }
   ],
   "source": [
    "import math\n",
    "kmin = 5\n",
    "kmax = 6\n",
    "kinterval = 5\n",
    "fc1_knn_values = [[] for _ in range(math.ceil((kmax-kmin)/kinterval))] # deep features\n",
    "loo_fc1_knn_values = [[] for _ in range(math.ceil((kmax-kmin)/kinterval))] # deep features\n",
    "\n",
    "# t = 10000\n",
    "for i, k in enumerate(range(kmin, kmax, kinterval)):\n",
    "    print(\"neighbour number:\", k)\n",
    "#     fc1_knn_values[i],*_ = old_knn_shapley(k, deep_f[:train_data.shape[0]], deep_f[train_data.shape[0]:], \n",
    "#                                   y_deep[:train_data.shape[0]], y_deep[train_data.shape[0]:])\n",
    "#     loo_fc1_knn_values[i],*_ = loo_knn_shapley(k, deep_f[:train_data.shape[0]], deep_f[train_data.shape[0]:], \n",
    "#                                   y_deep[:train_data.shape[0]], y_deep[train_data.shape[0]:])\n",
    "    loo_fc1_knn_values[i],*_ = loo_knn_shapley(k, deep_f_train, deep_f_test, y_train, y_test)\n",
    "    fc1_knn_values[i],*_ = old_knn_shapley(k, deep_f_train, deep_f_test, y_train, y_test)"
   ]
  },
  {
   "cell_type": "code",
   "execution_count": 20,
   "metadata": {},
   "outputs": [
    {
     "name": "stdout",
     "output_type": "stream",
     "text": [
      "{'mem_tmc': array([[ 0.012, -0.018, -0.014, ..., -0.006,  0.028,  0.002],\n",
      "       [ 0.01 , -0.04 ,  0.006, ...,  0.004,  0.018,  0.002],\n",
      "       [ 0.   ,  0.   ,  0.   , ...,  0.   ,  0.   ,  0.   ],\n",
      "       ...,\n",
      "       [ 0.006,  0.036, -0.004, ...,  0.04 ,  0.008,  0.05 ],\n",
      "       [ 0.018, -0.028, -0.014, ..., -0.026, -0.01 , -0.014],\n",
      "       [-0.014, -0.01 ,  0.03 , ...,  0.022, -0.006, -0.032]]), 'idxs_tmc': array([[562,  58, 451, ...,  33,  25, 526],\n",
      "       [784, 245,   1, ..., 637, 906, 405],\n",
      "       [794, 121, 113, ..., 528, 226, 265],\n",
      "       ...,\n",
      "       [810,  17, 696, ..., 597, 932, 866],\n",
      "       [168, 841, 139, ..., 876, 424,  79],\n",
      "       [307,  28, 902, ..., 338, 336, 622]]), 'err_tmc': 1104001.32045636}\n",
      "1000\n"
     ]
    }
   ],
   "source": [
    "import pickle\n",
    "tmc_path = './temp_ds_uci/'\n",
    "with open(tmc_path+'mem_tmc_0000.pkl', 'rb') as f:\n",
    "    tmc = pickle.load(f)\n",
    "    print(tmc)\n",
    "    tmc_values = np.mean(tmc[\"mem_tmc\"], axis=0)\n",
    "with open(tmc_path+'mem_g_0000.pkl', 'rb') as f:\n",
    "    g = pickle.load(f)\n",
    "    g_values = np.mean(g[\"mem_g\"], axis=0)\n",
    "tmc_path = './temp_ds_uci_loo/'\n",
    "\n",
    "with open(tmc_path+'loo.pkl', 'rb') as f:\n",
    "    loo = pickle.load(f)\n",
    "    loo_values = loo['loo']\n",
    "# print(len(g_values), len(tmc_values))\n",
    "print(len(loo_values))"
   ]
  },
  {
   "cell_type": "code",
   "execution_count": null,
   "metadata": {},
   "outputs": [],
   "source": []
  },
  {
   "cell_type": "code",
   "execution_count": 28,
   "metadata": {},
   "outputs": [],
   "source": [
    "import math, random\n",
    "# print(avg_knn_values)\n",
    "seed = 666\n",
    "np.random.seed(seed)\n",
    "random.seed(seed)\n",
    "torch.manual_seed(seed)\n",
    "torch.backends.cudnn.deterministic=True\n",
    "\n",
    "# remove new data to the train set and draw the picture\n",
    "def plot_summarization(loo_pre_idx, tmc_pre_idx, g_values, knn_values, loo_knn_values, kmin, kmax, kinterval, x_train, y_train, \n",
    "                     x_test, y_test, HtoL=False):\n",
    "    sns.set()\n",
    "    plt.figure()    \n",
    "    # set the model deterministic\n",
    "    seed = 0\n",
    "    np.random.seed(seed)\n",
    "    random.seed(seed)\n",
    "    torch.manual_seed(seed)\n",
    "\n",
    "    plt.xlabel('Fraction of train data removed (%)')\n",
    "    plt.ylabel('Prediction accuracy (%)')\n",
    "    \n",
    "    tmc_accs = []\n",
    "    knn_accs = [[] for _ in range(len(knn_values))]   \n",
    "    loo_knn_accs = [[] for _ in range(len(knn_values))]   \n",
    "    marks = ['o-', '*-', 's-', 'v-', '^-', '.-', '1-', '2-']\n",
    "    colors = ['b', 'g', 'r', 'y', 'c', 'm', 'olive', 'pink']\n",
    "    labels = [i for i in range(kmin, kmax, kinterval)]\n",
    "    model = 'uci'\n",
    "#     model = 'logistic'\n",
    "    count = int(len(x_train)/2)\n",
    "    interval = int(count*0.02)\n",
    "    x = np.arange(0, count, interval)/len(x_train)\n",
    "    \n",
    "\n",
    "    if(HtoL == True):\n",
    "        print(\"removing data from Highest to Lowest!\")\n",
    "        knn_pre_idx = np.flip(knn_pre_idx, 1)\n",
    "        tmc_pre_idx = np.flip(tmc_pre_idx, 0)\n",
    "        loo_pre_idx = np.flip(loo_pre_idx, 0)        \n",
    "    else:\n",
    "        print(\"removing data from Lowest to Highest!\")\n",
    "\n",
    "        \n",
    "#  G Shapley\n",
    "    print(\"G\")\n",
    "    g_accs = []\n",
    "    idxs = np.argsort(g_values)\n",
    "    keep_idxs = idxs.tolist()\n",
    "    for j in range(0, count, interval):\n",
    "        if len(keep_idxs) == len(x_train):\n",
    "            x_train_keep, y_train_keep = x_train, y_train\n",
    "        else:\n",
    "            x_train_keep, y_train_keep = x_train[keep_idxs], y_train[keep_idxs]     \n",
    "        clf_g = return_model(model)\n",
    "        clf_g.fit(x_train_keep, y_train_keep)\n",
    "        acc = clf_g.score(x_test, y_test)\n",
    "        print(len(keep_idxs), acc)\n",
    "        g_accs.append(acc)\n",
    "        keep_idxs = keep_idxs[interval:]\n",
    "    print(\"G:\", g_accs)\n",
    "    plt.plot(x, g_accs, '-', label='G Shapley', color='olive')\n",
    "             \n",
    "             \n",
    "    # TMC Shapley\n",
    "    print(\"TMC\")\n",
    "    tmc_accs = []\n",
    "    idxs = np.argsort(tmc_pre_idx)\n",
    "    keep_idxs = idxs.tolist()\n",
    "    for j in range(0, count, interval):\n",
    "        if len(keep_idxs) == len(x_train):\n",
    "            x_train_keep, y_train_keep = x_train, y_train\n",
    "        else:\n",
    "            x_train_keep, y_train_keep = x_train[keep_idxs], y_train[keep_idxs]     \n",
    "        clf_tmc = return_model(model)\n",
    "        clf_tmc.fit(x_train_keep, y_train_keep)\n",
    "        acc = clf_tmc.score(x_test, y_test)\n",
    "        print(len(keep_idxs), acc)\n",
    "        tmc_accs.append(acc)\n",
    "        keep_idxs = keep_idxs[interval:]\n",
    "    print(\"TMC:\", tmc_accs)\n",
    "    plt.plot(x, tmc_accs, '-', label='TMC Shapley', color='olive')\n",
    "\n",
    "#     # Loo Shapley\n",
    "    print(\"Loo\")\n",
    "    loo_accs = []\n",
    "    idxs = np.argsort(loo_pre_idx)\n",
    "    keep_idxs = idxs.tolist()\n",
    "    for j in range(0, count, interval):\n",
    "        if len(keep_idxs) == len(x_train):\n",
    "            x_train_keep, y_train_keep = x_train, y_train\n",
    "        else:\n",
    "            x_train_keep, y_train_keep = x_train[keep_idxs], y_train[keep_idxs]         \n",
    "        clf_loo = return_model(model)\n",
    "        clf_loo.fit(x_train_keep, y_train_keep)\n",
    "        acc = clf_loo.score(x_test, y_test)\n",
    "        print(len(keep_idxs), acc)\n",
    "        loo_accs.append(acc)\n",
    "        keep_idxs = keep_idxs[interval:]\n",
    "    print(\"LOO: \", loo_accs)\n",
    "    plt.plot(x, loo_accs, '^-', label='LOO', color='pink')\n",
    "\n",
    "    # Knn Shapley  \n",
    "    print(\"KNN\")\n",
    "    for i in range(len(knn_values)):\n",
    "        idxs = np.argsort(knn_values[i])\n",
    "        keep_idxs = idxs.tolist()\n",
    "        x = np.arange(0, count, interval)/len(x_train)\n",
    "        \n",
    "        for j in tqdm_notebook(range(0, count, interval), total=int(count/interval), leave=False):\n",
    "            if len(keep_idxs) == len(x_train):\n",
    "                x_train_keep, y_train_keep = x_train, y_train\n",
    "            else:\n",
    "                x_train_keep, y_train_keep = x_train[keep_idxs], y_train[keep_idxs] \n",
    "#                 ind = np.random.permutation(len(x_train_keep))\n",
    "#                 x_train_keep, y_train_keep = x_train_keep[ind], y_train_keep[ind]\n",
    "            clf_knn = return_model(model)\n",
    "            clf_knn.fit(x_train_keep, y_train_keep)\n",
    "            acc = clf_knn.score(x_test, y_test)\n",
    "            acc_t = clf_knn.score(x_train_keep, y_train_keep)\n",
    "#             print(len(x_train_keep), acc)\n",
    "            knn_accs[i].append(acc)\n",
    "            keep_idxs = keep_idxs[interval:]\n",
    "            clf_knn = 0\n",
    "    for i in range(0, len(knn_values)):\n",
    "        print(x, knn_accs[i])\n",
    "        plt.plot(x, knn_accs[i], '-', label=\"Knn Shapley, K=\"+str(labels[i]), color=colors[i])\n",
    "        \n",
    "#     LOO Knn Shapley\n",
    "    print(\"LOO KNN\")\n",
    "    for i in range(len(loo_knn_values)):\n",
    "        idxs = np.argsort(loo_knn_values[i])\n",
    "        keep_idxs = idxs.tolist()\n",
    "        x = np.arange(0, count, interval)/len(x_train)\n",
    "        \n",
    "        for j in tqdm_notebook(range(0, count, interval), total=int(count/interval), leave=False):\n",
    "            if len(keep_idxs) == len(x_train):\n",
    "                x_train_keep, y_train_keep = x_train, y_train\n",
    "            else:\n",
    "                x_train_keep, y_train_keep = x_train[keep_idxs], y_train[keep_idxs]  \n",
    "#                 ind = np.random.permutation(len(x_train_keep))\n",
    "#                 x_train_keep, y_train_keep = x_train_keep[ind], y_train_keep[ind]\n",
    "            clf_knn = return_model(model)\n",
    "            clf_knn.fit(x_train_keep, y_train_keep)\n",
    "            acc = clf_knn.score(x_test, y_test)\n",
    "#             print(len(keep_idxs), acc)\n",
    "            loo_knn_accs[i].append(acc)\n",
    "            keep_idxs = keep_idxs[interval:]\n",
    "\n",
    "    for i in range(0, len(knn_values)):\n",
    "        print(x, loo_knn_accs[i])\n",
    "        plt.plot(x, loo_knn_accs[i], '-', label=\"LOO Knn Shapley, K=\"+str(labels[i]), color=colors[i+2])    \n",
    "    \n",
    "    # random solution\n",
    "    times = 5\n",
    "    all_rand_accs = []\n",
    "    print(\"random\")\n",
    "    for time in range(times):\n",
    "        print(time)\n",
    "        random_accs = []\n",
    "        keep_idxs = np.arange(0, len(x_train))\n",
    "        random.shuffle(keep_idxs)\n",
    "        for j in range(0, count, interval):\n",
    "            if len(keep_idxs) == len(x_train):\n",
    "                x_train_keep, y_train_keep = x_train, y_train\n",
    "            else:\n",
    "                x_train_keep, y_train_keep = x_train[keep_idxs], y_train[keep_idxs]  \n",
    "#         print(x_train_keep.shape, y_train_keep.shape)\n",
    "            clf_random = return_model(model)\n",
    "            clf_random.fit(x_train_keep, y_train_keep)\n",
    "            acc = clf_random.score(x_test, y_test)\n",
    "            random_accs.append(acc)\n",
    "            keep_idxs = keep_idxs[interval:]\n",
    "#             print(len(x_train_keep), acc)\n",
    "        all_rand_accs.append(random_accs)\n",
    "    all_rand_accs = np.mean(all_rand_accs, 0)\n",
    "    print(\"random:\", all_rand_accs.tolist())\n",
    "    plt.plot(x, all_rand_accs, '-', label='random', color='red')   \n",
    "    \n",
    "    \n",
    "    plt.legend()\n",
    "    plt.tight_layout()\n",
    "    if(HtoL == True):\n",
    "        plt.savefig('knnH-L.png')\n",
    "    else:\n",
    "        plt.savefig('knnL-H.png')"
   ]
  },
  {
   "cell_type": "code",
   "execution_count": 29,
   "metadata": {},
   "outputs": [
    {
     "name": "stdout",
     "output_type": "stream",
     "text": [
      "1000 1000\n",
      "torch.Size([1000, 254]) torch.Size([1000, 254])\n"
     ]
    }
   ],
   "source": [
    "print(len(fc1_knn_values[0]), len(loo_fc1_knn_values[0]))\n",
    "print(x_train.shape, x_heldout.shape)\n",
    "# print(fc1_knn_values[0][600:])\n",
    "\n",
    "# print(tmc_values)"
   ]
  },
  {
   "cell_type": "code",
   "execution_count": 30,
   "metadata": {},
   "outputs": [
    {
     "name": "stdout",
     "output_type": "stream",
     "text": [
      "removing data from Lowest to Highest!\n",
      "G\n",
      "1000 0.734\n",
      "990 0.712\n",
      "980 0.733\n",
      "970 0.735\n",
      "960 0.748\n",
      "950 0.743\n",
      "940 0.739\n",
      "930 0.77\n",
      "920 0.75\n",
      "910 0.742\n",
      "900 0.768\n",
      "890 0.785\n",
      "880 0.77\n",
      "870 0.751\n",
      "860 0.772\n",
      "850 0.769\n",
      "840 0.79\n",
      "830 0.776\n",
      "820 0.788\n",
      "810 0.784\n",
      "800 0.789\n",
      "790 0.786\n",
      "780 0.784\n",
      "770 0.789\n",
      "760 0.796\n",
      "750 0.783\n",
      "740 0.786\n",
      "730 0.792\n",
      "720 0.788\n",
      "710 0.782\n",
      "700 0.791\n",
      "690 0.79\n",
      "680 0.796\n",
      "670 0.795\n",
      "660 0.794\n",
      "650 0.785\n",
      "640 0.783\n",
      "630 0.788\n",
      "620 0.787\n",
      "610 0.782\n",
      "600 0.782\n",
      "590 0.782\n",
      "580 0.779\n",
      "570 0.781\n",
      "560 0.773\n",
      "550 0.777\n",
      "540 0.775\n",
      "530 0.778\n",
      "520 0.777\n",
      "510 0.783\n",
      "G: [0.734, 0.712, 0.733, 0.735, 0.748, 0.743, 0.739, 0.77, 0.75, 0.742, 0.768, 0.785, 0.77, 0.751, 0.772, 0.769, 0.79, 0.776, 0.788, 0.784, 0.789, 0.786, 0.784, 0.789, 0.796, 0.783, 0.786, 0.792, 0.788, 0.782, 0.791, 0.79, 0.796, 0.795, 0.794, 0.785, 0.783, 0.788, 0.787, 0.782, 0.782, 0.782, 0.779, 0.781, 0.773, 0.777, 0.775, 0.778, 0.777, 0.783]\n",
      "TMC\n",
      "1000 0.734\n",
      "990 0.709\n",
      "980 0.736\n",
      "970 0.747\n",
      "960 0.747\n",
      "950 0.766\n",
      "940 0.748\n",
      "930 0.763\n",
      "920 0.739\n",
      "910 0.758\n",
      "900 0.752\n",
      "890 0.759\n",
      "880 0.759\n",
      "870 0.773\n",
      "860 0.763\n",
      "850 0.769\n",
      "840 0.775\n",
      "830 0.748\n",
      "820 0.745\n",
      "810 0.759\n",
      "800 0.777\n",
      "790 0.765\n",
      "780 0.771\n",
      "770 0.778\n",
      "760 0.774\n",
      "750 0.768\n",
      "740 0.785\n",
      "730 0.777\n",
      "720 0.77\n",
      "710 0.776\n",
      "700 0.775\n",
      "690 0.756\n",
      "680 0.768\n",
      "670 0.772\n",
      "660 0.767\n",
      "650 0.77\n",
      "640 0.764\n",
      "630 0.776\n",
      "620 0.758\n",
      "610 0.77\n",
      "600 0.761\n",
      "590 0.772\n",
      "580 0.779\n",
      "570 0.759\n",
      "560 0.774\n",
      "550 0.761\n",
      "540 0.765\n",
      "530 0.776\n",
      "520 0.766\n",
      "510 0.762\n",
      "TMC: [0.734, 0.709, 0.736, 0.747, 0.747, 0.766, 0.748, 0.763, 0.739, 0.758, 0.752, 0.759, 0.759, 0.773, 0.763, 0.769, 0.775, 0.748, 0.745, 0.759, 0.777, 0.765, 0.771, 0.778, 0.774, 0.768, 0.785, 0.777, 0.77, 0.776, 0.775, 0.756, 0.768, 0.772, 0.767, 0.77, 0.764, 0.776, 0.758, 0.77, 0.761, 0.772, 0.779, 0.759, 0.774, 0.761, 0.765, 0.776, 0.766, 0.762]\n",
      "Loo\n",
      "1000 0.734\n",
      "990 0.716\n",
      "980 0.717\n",
      "970 0.709\n",
      "960 0.738\n",
      "950 0.728\n",
      "940 0.722\n",
      "930 0.73\n",
      "920 0.725\n",
      "910 0.725\n",
      "900 0.725\n",
      "890 0.729\n",
      "880 0.766\n",
      "870 0.703\n",
      "860 0.717\n",
      "850 0.727\n",
      "840 0.744\n",
      "830 0.734\n",
      "820 0.738\n",
      "810 0.713\n",
      "800 0.739\n",
      "790 0.71\n",
      "780 0.751\n",
      "770 0.734\n",
      "760 0.729\n",
      "750 0.711\n",
      "740 0.725\n",
      "730 0.74\n",
      "720 0.732\n",
      "710 0.742\n",
      "700 0.719\n",
      "690 0.696\n",
      "680 0.722\n",
      "670 0.721\n",
      "660 0.733\n",
      "650 0.734\n",
      "640 0.718\n",
      "630 0.725\n",
      "620 0.685\n",
      "610 0.755\n",
      "600 0.756\n",
      "590 0.753\n",
      "580 0.745\n",
      "570 0.727\n",
      "560 0.724\n",
      "550 0.705\n",
      "540 0.731\n",
      "530 0.716\n",
      "520 0.721\n",
      "510 0.736\n",
      "LOO:  [0.734, 0.716, 0.717, 0.709, 0.738, 0.728, 0.722, 0.73, 0.725, 0.725, 0.725, 0.729, 0.766, 0.703, 0.717, 0.727, 0.744, 0.734, 0.738, 0.713, 0.739, 0.71, 0.751, 0.734, 0.729, 0.711, 0.725, 0.74, 0.732, 0.742, 0.719, 0.696, 0.722, 0.721, 0.733, 0.734, 0.718, 0.725, 0.685, 0.755, 0.756, 0.753, 0.745, 0.727, 0.724, 0.705, 0.731, 0.716, 0.721, 0.736]\n",
      "KNN\n"
     ]
    },
    {
     "data": {
      "application/vnd.jupyter.widget-view+json": {
       "model_id": "",
       "version_major": 2,
       "version_minor": 0
      },
      "text/plain": [
       "HBox(children=(IntProgress(value=0, max=50), HTML(value='')))"
      ]
     },
     "metadata": {},
     "output_type": "display_data"
    },
    {
     "name": "stdout",
     "output_type": "stream",
     "text": [
      "\r",
      "[0.   0.01 0.02 0.03 0.04 0.05 0.06 0.07 0.08 0.09 0.1  0.11 0.12 0.13\n",
      " 0.14 0.15 0.16 0.17 0.18 0.19 0.2  0.21 0.22 0.23 0.24 0.25 0.26 0.27\n",
      " 0.28 0.29 0.3  0.31 0.32 0.33 0.34 0.35 0.36 0.37 0.38 0.39 0.4  0.41\n",
      " 0.42 0.43 0.44 0.45 0.46 0.47 0.48 0.49] [0.734, 0.715, 0.731, 0.747, 0.724, 0.724, 0.738, 0.751, 0.736, 0.739, 0.753, 0.765, 0.766, 0.755, 0.745, 0.757, 0.754, 0.751, 0.759, 0.756, 0.764, 0.76, 0.76, 0.753, 0.771, 0.765, 0.768, 0.775, 0.784, 0.768, 0.766, 0.763, 0.773, 0.755, 0.748, 0.758, 0.745, 0.756, 0.766, 0.761, 0.759, 0.756, 0.762, 0.759, 0.761, 0.765, 0.751, 0.753, 0.747, 0.75]\n",
      "LOO KNN\n"
     ]
    },
    {
     "data": {
      "application/vnd.jupyter.widget-view+json": {
       "model_id": "63cd6d638ae54b3ab84edbd69fd89c97",
       "version_major": 2,
       "version_minor": 0
      },
      "text/plain": [
       "HBox(children=(IntProgress(value=0, max=50), HTML(value='')))"
      ]
     },
     "metadata": {},
     "output_type": "display_data"
    },
    {
     "ename": "KeyboardInterrupt",
     "evalue": "",
     "output_type": "error",
     "traceback": [
      "\u001b[0;31m---------------------------------------------------------------------------\u001b[0m",
      "\u001b[0;31mKeyboardInterrupt\u001b[0m                         Traceback (most recent call last)",
      "\u001b[0;32m<ipython-input-30-6f184bbc5bdd>\u001b[0m in \u001b[0;36m<module>\u001b[0;34m\u001b[0m\n\u001b[1;32m      4\u001b[0m \u001b[0;31m# print(tt)\u001b[0m\u001b[0;34m\u001b[0m\u001b[0;34m\u001b[0m\u001b[0;34m\u001b[0m\u001b[0m\n\u001b[1;32m      5\u001b[0m plot_summarization(loo_values, tmc_values, g_values, fc1_knn_values, loo_fc1_knn_values, kmin, kmax, kinterval, \n\u001b[0;32m----> 6\u001b[0;31m           x_train, y_train, x_heldout, y_heldout, False)\n\u001b[0m",
      "\u001b[0;32m<ipython-input-28-b2ed97533690>\u001b[0m in \u001b[0;36mplot_summarization\u001b[0;34m(loo_pre_idx, tmc_pre_idx, g_values, knn_values, loo_knn_values, kmin, kmax, kinterval, x_train, y_train, x_test, y_test, HtoL)\u001b[0m\n\u001b[1;32m    142\u001b[0m \u001b[0;31m#                 x_train_keep, y_train_keep = x_train_keep[ind], y_train_keep[ind]\u001b[0m\u001b[0;34m\u001b[0m\u001b[0;34m\u001b[0m\u001b[0;34m\u001b[0m\u001b[0m\n\u001b[1;32m    143\u001b[0m             \u001b[0mclf_knn\u001b[0m \u001b[0;34m=\u001b[0m \u001b[0mreturn_model\u001b[0m\u001b[0;34m(\u001b[0m\u001b[0mmodel\u001b[0m\u001b[0;34m)\u001b[0m\u001b[0;34m\u001b[0m\u001b[0;34m\u001b[0m\u001b[0m\n\u001b[0;32m--> 144\u001b[0;31m             \u001b[0mclf_knn\u001b[0m\u001b[0;34m.\u001b[0m\u001b[0mfit\u001b[0m\u001b[0;34m(\u001b[0m\u001b[0mx_train_keep\u001b[0m\u001b[0;34m,\u001b[0m \u001b[0my_train_keep\u001b[0m\u001b[0;34m)\u001b[0m\u001b[0;34m\u001b[0m\u001b[0;34m\u001b[0m\u001b[0m\n\u001b[0m\u001b[1;32m    145\u001b[0m             \u001b[0macc\u001b[0m \u001b[0;34m=\u001b[0m \u001b[0mclf_knn\u001b[0m\u001b[0;34m.\u001b[0m\u001b[0mscore\u001b[0m\u001b[0;34m(\u001b[0m\u001b[0mx_test\u001b[0m\u001b[0;34m,\u001b[0m \u001b[0my_test\u001b[0m\u001b[0;34m)\u001b[0m\u001b[0;34m\u001b[0m\u001b[0;34m\u001b[0m\u001b[0m\n\u001b[1;32m    146\u001b[0m \u001b[0;31m#             print(len(keep_idxs), acc)\u001b[0m\u001b[0;34m\u001b[0m\u001b[0;34m\u001b[0m\u001b[0;34m\u001b[0m\u001b[0m\n",
      "\u001b[0;32m~/anaconda3/lib/python3.6/site-packages/sklearn/neural_network/multilayer_perceptron.py\u001b[0m in \u001b[0;36mfit\u001b[0;34m(self, X, y)\u001b[0m\n\u001b[1;32m    975\u001b[0m         \"\"\"\n\u001b[1;32m    976\u001b[0m         return self._fit(X, y, incremental=(self.warm_start and\n\u001b[0;32m--> 977\u001b[0;31m                                             hasattr(self, \"classes_\")))\n\u001b[0m\u001b[1;32m    978\u001b[0m \u001b[0;34m\u001b[0m\u001b[0m\n\u001b[1;32m    979\u001b[0m     \u001b[0;34m@\u001b[0m\u001b[0mproperty\u001b[0m\u001b[0;34m\u001b[0m\u001b[0;34m\u001b[0m\u001b[0m\n",
      "\u001b[0;32m~/anaconda3/lib/python3.6/site-packages/sklearn/neural_network/multilayer_perceptron.py\u001b[0m in \u001b[0;36m_fit\u001b[0;34m(self, X, y, incremental)\u001b[0m\n\u001b[1;32m    374\u001b[0m         \u001b[0;32melif\u001b[0m \u001b[0mself\u001b[0m\u001b[0;34m.\u001b[0m\u001b[0msolver\u001b[0m \u001b[0;34m==\u001b[0m \u001b[0;34m'lbfgs'\u001b[0m\u001b[0;34m:\u001b[0m\u001b[0;34m\u001b[0m\u001b[0;34m\u001b[0m\u001b[0m\n\u001b[1;32m    375\u001b[0m             self._fit_lbfgs(X, y, activations, deltas, coef_grads,\n\u001b[0;32m--> 376\u001b[0;31m                             intercept_grads, layer_units)\n\u001b[0m\u001b[1;32m    377\u001b[0m         \u001b[0;32mreturn\u001b[0m \u001b[0mself\u001b[0m\u001b[0;34m\u001b[0m\u001b[0;34m\u001b[0m\u001b[0m\n\u001b[1;32m    378\u001b[0m \u001b[0;34m\u001b[0m\u001b[0m\n",
      "\u001b[0;32m~/anaconda3/lib/python3.6/site-packages/sklearn/neural_network/multilayer_perceptron.py\u001b[0m in \u001b[0;36m_fit_lbfgs\u001b[0;34m(self, X, y, activations, deltas, coef_grads, intercept_grads, layer_units)\u001b[0m\n\u001b[1;32m    464\u001b[0m             \u001b[0miprint\u001b[0m\u001b[0;34m=\u001b[0m\u001b[0miprint\u001b[0m\u001b[0;34m,\u001b[0m\u001b[0;34m\u001b[0m\u001b[0;34m\u001b[0m\u001b[0m\n\u001b[1;32m    465\u001b[0m             \u001b[0mpgtol\u001b[0m\u001b[0;34m=\u001b[0m\u001b[0mself\u001b[0m\u001b[0;34m.\u001b[0m\u001b[0mtol\u001b[0m\u001b[0;34m,\u001b[0m\u001b[0;34m\u001b[0m\u001b[0;34m\u001b[0m\u001b[0m\n\u001b[0;32m--> 466\u001b[0;31m             args=(X, y, activations, deltas, coef_grads, intercept_grads))\n\u001b[0m\u001b[1;32m    467\u001b[0m \u001b[0;34m\u001b[0m\u001b[0m\n\u001b[1;32m    468\u001b[0m         \u001b[0mself\u001b[0m\u001b[0;34m.\u001b[0m\u001b[0m_unpack\u001b[0m\u001b[0;34m(\u001b[0m\u001b[0moptimal_parameters\u001b[0m\u001b[0;34m)\u001b[0m\u001b[0;34m\u001b[0m\u001b[0;34m\u001b[0m\u001b[0m\n",
      "\u001b[0;32m~/anaconda3/lib/python3.6/site-packages/scipy/optimize/lbfgsb.py\u001b[0m in \u001b[0;36mfmin_l_bfgs_b\u001b[0;34m(func, x0, fprime, args, approx_grad, bounds, m, factr, pgtol, epsilon, iprint, maxfun, maxiter, disp, callback, maxls)\u001b[0m\n\u001b[1;32m    197\u001b[0m \u001b[0;34m\u001b[0m\u001b[0m\n\u001b[1;32m    198\u001b[0m     res = _minimize_lbfgsb(fun, x0, args=args, jac=jac, bounds=bounds,\n\u001b[0;32m--> 199\u001b[0;31m                            **opts)\n\u001b[0m\u001b[1;32m    200\u001b[0m     d = {'grad': res['jac'],\n\u001b[1;32m    201\u001b[0m          \u001b[0;34m'task'\u001b[0m\u001b[0;34m:\u001b[0m \u001b[0mres\u001b[0m\u001b[0;34m[\u001b[0m\u001b[0;34m'message'\u001b[0m\u001b[0;34m]\u001b[0m\u001b[0;34m,\u001b[0m\u001b[0;34m\u001b[0m\u001b[0;34m\u001b[0m\u001b[0m\n",
      "\u001b[0;32m~/anaconda3/lib/python3.6/site-packages/scipy/optimize/lbfgsb.py\u001b[0m in \u001b[0;36m_minimize_lbfgsb\u001b[0;34m(fun, x0, args, jac, bounds, disp, maxcor, ftol, gtol, eps, maxfun, maxiter, iprint, callback, maxls, **unknown_options)\u001b[0m\n\u001b[1;32m    333\u001b[0m             \u001b[0;31m# until the completion of the current minimization iteration.\u001b[0m\u001b[0;34m\u001b[0m\u001b[0;34m\u001b[0m\u001b[0;34m\u001b[0m\u001b[0m\n\u001b[1;32m    334\u001b[0m             \u001b[0;31m# Overwrite f and g:\u001b[0m\u001b[0;34m\u001b[0m\u001b[0;34m\u001b[0m\u001b[0;34m\u001b[0m\u001b[0m\n\u001b[0;32m--> 335\u001b[0;31m             \u001b[0mf\u001b[0m\u001b[0;34m,\u001b[0m \u001b[0mg\u001b[0m \u001b[0;34m=\u001b[0m \u001b[0mfunc_and_grad\u001b[0m\u001b[0;34m(\u001b[0m\u001b[0mx\u001b[0m\u001b[0;34m)\u001b[0m\u001b[0;34m\u001b[0m\u001b[0;34m\u001b[0m\u001b[0m\n\u001b[0m\u001b[1;32m    336\u001b[0m         \u001b[0;32melif\u001b[0m \u001b[0mtask_str\u001b[0m\u001b[0;34m.\u001b[0m\u001b[0mstartswith\u001b[0m\u001b[0;34m(\u001b[0m\u001b[0;34mb'NEW_X'\u001b[0m\u001b[0;34m)\u001b[0m\u001b[0;34m:\u001b[0m\u001b[0;34m\u001b[0m\u001b[0;34m\u001b[0m\u001b[0m\n\u001b[1;32m    337\u001b[0m             \u001b[0;31m# new iteration\u001b[0m\u001b[0;34m\u001b[0m\u001b[0;34m\u001b[0m\u001b[0;34m\u001b[0m\u001b[0m\n",
      "\u001b[0;32m~/anaconda3/lib/python3.6/site-packages/scipy/optimize/lbfgsb.py\u001b[0m in \u001b[0;36mfunc_and_grad\u001b[0;34m(x)\u001b[0m\n\u001b[1;32m    283\u001b[0m     \u001b[0;32melse\u001b[0m\u001b[0;34m:\u001b[0m\u001b[0;34m\u001b[0m\u001b[0;34m\u001b[0m\u001b[0m\n\u001b[1;32m    284\u001b[0m         \u001b[0;32mdef\u001b[0m \u001b[0mfunc_and_grad\u001b[0m\u001b[0;34m(\u001b[0m\u001b[0mx\u001b[0m\u001b[0;34m)\u001b[0m\u001b[0;34m:\u001b[0m\u001b[0;34m\u001b[0m\u001b[0;34m\u001b[0m\u001b[0m\n\u001b[0;32m--> 285\u001b[0;31m             \u001b[0mf\u001b[0m \u001b[0;34m=\u001b[0m \u001b[0mfun\u001b[0m\u001b[0;34m(\u001b[0m\u001b[0mx\u001b[0m\u001b[0;34m,\u001b[0m \u001b[0;34m*\u001b[0m\u001b[0margs\u001b[0m\u001b[0;34m)\u001b[0m\u001b[0;34m\u001b[0m\u001b[0;34m\u001b[0m\u001b[0m\n\u001b[0m\u001b[1;32m    286\u001b[0m             \u001b[0mg\u001b[0m \u001b[0;34m=\u001b[0m \u001b[0mjac\u001b[0m\u001b[0;34m(\u001b[0m\u001b[0mx\u001b[0m\u001b[0;34m,\u001b[0m \u001b[0;34m*\u001b[0m\u001b[0margs\u001b[0m\u001b[0;34m)\u001b[0m\u001b[0;34m\u001b[0m\u001b[0;34m\u001b[0m\u001b[0m\n\u001b[1;32m    287\u001b[0m             \u001b[0;32mreturn\u001b[0m \u001b[0mf\u001b[0m\u001b[0;34m,\u001b[0m \u001b[0mg\u001b[0m\u001b[0;34m\u001b[0m\u001b[0;34m\u001b[0m\u001b[0m\n",
      "\u001b[0;32m~/anaconda3/lib/python3.6/site-packages/scipy/optimize/optimize.py\u001b[0m in \u001b[0;36mfunction_wrapper\u001b[0;34m(*wrapper_args)\u001b[0m\n\u001b[1;32m    298\u001b[0m     \u001b[0;32mdef\u001b[0m \u001b[0mfunction_wrapper\u001b[0m\u001b[0;34m(\u001b[0m\u001b[0;34m*\u001b[0m\u001b[0mwrapper_args\u001b[0m\u001b[0;34m)\u001b[0m\u001b[0;34m:\u001b[0m\u001b[0;34m\u001b[0m\u001b[0;34m\u001b[0m\u001b[0m\n\u001b[1;32m    299\u001b[0m         \u001b[0mncalls\u001b[0m\u001b[0;34m[\u001b[0m\u001b[0;36m0\u001b[0m\u001b[0;34m]\u001b[0m \u001b[0;34m+=\u001b[0m \u001b[0;36m1\u001b[0m\u001b[0;34m\u001b[0m\u001b[0;34m\u001b[0m\u001b[0m\n\u001b[0;32m--> 300\u001b[0;31m         \u001b[0;32mreturn\u001b[0m \u001b[0mfunction\u001b[0m\u001b[0;34m(\u001b[0m\u001b[0;34m*\u001b[0m\u001b[0;34m(\u001b[0m\u001b[0mwrapper_args\u001b[0m \u001b[0;34m+\u001b[0m \u001b[0margs\u001b[0m\u001b[0;34m)\u001b[0m\u001b[0;34m)\u001b[0m\u001b[0;34m\u001b[0m\u001b[0;34m\u001b[0m\u001b[0m\n\u001b[0m\u001b[1;32m    301\u001b[0m \u001b[0;34m\u001b[0m\u001b[0m\n\u001b[1;32m    302\u001b[0m     \u001b[0;32mreturn\u001b[0m \u001b[0mncalls\u001b[0m\u001b[0;34m,\u001b[0m \u001b[0mfunction_wrapper\u001b[0m\u001b[0;34m\u001b[0m\u001b[0;34m\u001b[0m\u001b[0m\n",
      "\u001b[0;32m~/anaconda3/lib/python3.6/site-packages/scipy/optimize/optimize.py\u001b[0m in \u001b[0;36m__call__\u001b[0;34m(self, x, *args)\u001b[0m\n\u001b[1;32m     61\u001b[0m     \u001b[0;32mdef\u001b[0m \u001b[0m__call__\u001b[0m\u001b[0;34m(\u001b[0m\u001b[0mself\u001b[0m\u001b[0;34m,\u001b[0m \u001b[0mx\u001b[0m\u001b[0;34m,\u001b[0m \u001b[0;34m*\u001b[0m\u001b[0margs\u001b[0m\u001b[0;34m)\u001b[0m\u001b[0;34m:\u001b[0m\u001b[0;34m\u001b[0m\u001b[0;34m\u001b[0m\u001b[0m\n\u001b[1;32m     62\u001b[0m         \u001b[0mself\u001b[0m\u001b[0;34m.\u001b[0m\u001b[0mx\u001b[0m \u001b[0;34m=\u001b[0m \u001b[0mnumpy\u001b[0m\u001b[0;34m.\u001b[0m\u001b[0masarray\u001b[0m\u001b[0;34m(\u001b[0m\u001b[0mx\u001b[0m\u001b[0;34m)\u001b[0m\u001b[0;34m.\u001b[0m\u001b[0mcopy\u001b[0m\u001b[0;34m(\u001b[0m\u001b[0;34m)\u001b[0m\u001b[0;34m\u001b[0m\u001b[0;34m\u001b[0m\u001b[0m\n\u001b[0;32m---> 63\u001b[0;31m         \u001b[0mfg\u001b[0m \u001b[0;34m=\u001b[0m \u001b[0mself\u001b[0m\u001b[0;34m.\u001b[0m\u001b[0mfun\u001b[0m\u001b[0;34m(\u001b[0m\u001b[0mx\u001b[0m\u001b[0;34m,\u001b[0m \u001b[0;34m*\u001b[0m\u001b[0margs\u001b[0m\u001b[0;34m)\u001b[0m\u001b[0;34m\u001b[0m\u001b[0;34m\u001b[0m\u001b[0m\n\u001b[0m\u001b[1;32m     64\u001b[0m         \u001b[0mself\u001b[0m\u001b[0;34m.\u001b[0m\u001b[0mjac\u001b[0m \u001b[0;34m=\u001b[0m \u001b[0mfg\u001b[0m\u001b[0;34m[\u001b[0m\u001b[0;36m1\u001b[0m\u001b[0;34m]\u001b[0m\u001b[0;34m\u001b[0m\u001b[0;34m\u001b[0m\u001b[0m\n\u001b[1;32m     65\u001b[0m         \u001b[0;32mreturn\u001b[0m \u001b[0mfg\u001b[0m\u001b[0;34m[\u001b[0m\u001b[0;36m0\u001b[0m\u001b[0;34m]\u001b[0m\u001b[0;34m\u001b[0m\u001b[0;34m\u001b[0m\u001b[0m\n",
      "\u001b[0;32m~/anaconda3/lib/python3.6/site-packages/sklearn/neural_network/multilayer_perceptron.py\u001b[0m in \u001b[0;36m_loss_grad_lbfgs\u001b[0;34m(self, packed_coef_inter, X, y, activations, deltas, coef_grads, intercept_grads)\u001b[0m\n\u001b[1;32m    173\u001b[0m         \u001b[0mself\u001b[0m\u001b[0;34m.\u001b[0m\u001b[0m_unpack\u001b[0m\u001b[0;34m(\u001b[0m\u001b[0mpacked_coef_inter\u001b[0m\u001b[0;34m)\u001b[0m\u001b[0;34m\u001b[0m\u001b[0;34m\u001b[0m\u001b[0m\n\u001b[1;32m    174\u001b[0m         loss, coef_grads, intercept_grads = self._backprop(\n\u001b[0;32m--> 175\u001b[0;31m             X, y, activations, deltas, coef_grads, intercept_grads)\n\u001b[0m\u001b[1;32m    176\u001b[0m         \u001b[0mself\u001b[0m\u001b[0;34m.\u001b[0m\u001b[0mn_iter_\u001b[0m \u001b[0;34m+=\u001b[0m \u001b[0;36m1\u001b[0m\u001b[0;34m\u001b[0m\u001b[0;34m\u001b[0m\u001b[0m\n\u001b[1;32m    177\u001b[0m         \u001b[0mgrad\u001b[0m \u001b[0;34m=\u001b[0m \u001b[0m_pack\u001b[0m\u001b[0;34m(\u001b[0m\u001b[0mcoef_grads\u001b[0m\u001b[0;34m,\u001b[0m \u001b[0mintercept_grads\u001b[0m\u001b[0;34m)\u001b[0m\u001b[0;34m\u001b[0m\u001b[0;34m\u001b[0m\u001b[0m\n",
      "\u001b[0;32m~/anaconda3/lib/python3.6/site-packages/sklearn/neural_network/multilayer_perceptron.py\u001b[0m in \u001b[0;36m_backprop\u001b[0;34m(self, X, y, activations, deltas, coef_grads, intercept_grads)\u001b[0m\n\u001b[1;32m    218\u001b[0m \u001b[0;34m\u001b[0m\u001b[0m\n\u001b[1;32m    219\u001b[0m         \u001b[0;31m# Forward propagate\u001b[0m\u001b[0;34m\u001b[0m\u001b[0;34m\u001b[0m\u001b[0;34m\u001b[0m\u001b[0m\n\u001b[0;32m--> 220\u001b[0;31m         \u001b[0mactivations\u001b[0m \u001b[0;34m=\u001b[0m \u001b[0mself\u001b[0m\u001b[0;34m.\u001b[0m\u001b[0m_forward_pass\u001b[0m\u001b[0;34m(\u001b[0m\u001b[0mactivations\u001b[0m\u001b[0;34m)\u001b[0m\u001b[0;34m\u001b[0m\u001b[0;34m\u001b[0m\u001b[0m\n\u001b[0m\u001b[1;32m    221\u001b[0m \u001b[0;34m\u001b[0m\u001b[0m\n\u001b[1;32m    222\u001b[0m         \u001b[0;31m# Get loss\u001b[0m\u001b[0;34m\u001b[0m\u001b[0;34m\u001b[0m\u001b[0;34m\u001b[0m\u001b[0m\n",
      "\u001b[0;32m~/anaconda3/lib/python3.6/site-packages/sklearn/neural_network/multilayer_perceptron.py\u001b[0m in \u001b[0;36m_forward_pass\u001b[0;34m(self, activations)\u001b[0m\n\u001b[1;32m    105\u001b[0m             \u001b[0;31m# For the hidden layers\u001b[0m\u001b[0;34m\u001b[0m\u001b[0;34m\u001b[0m\u001b[0;34m\u001b[0m\u001b[0m\n\u001b[1;32m    106\u001b[0m             \u001b[0;32mif\u001b[0m \u001b[0;34m(\u001b[0m\u001b[0mi\u001b[0m \u001b[0;34m+\u001b[0m \u001b[0;36m1\u001b[0m\u001b[0;34m)\u001b[0m \u001b[0;34m!=\u001b[0m \u001b[0;34m(\u001b[0m\u001b[0mself\u001b[0m\u001b[0;34m.\u001b[0m\u001b[0mn_layers_\u001b[0m \u001b[0;34m-\u001b[0m \u001b[0;36m1\u001b[0m\u001b[0;34m)\u001b[0m\u001b[0;34m:\u001b[0m\u001b[0;34m\u001b[0m\u001b[0;34m\u001b[0m\u001b[0m\n\u001b[0;32m--> 107\u001b[0;31m                 \u001b[0mactivations\u001b[0m\u001b[0;34m[\u001b[0m\u001b[0mi\u001b[0m \u001b[0;34m+\u001b[0m \u001b[0;36m1\u001b[0m\u001b[0;34m]\u001b[0m \u001b[0;34m=\u001b[0m \u001b[0mhidden_activation\u001b[0m\u001b[0;34m(\u001b[0m\u001b[0mactivations\u001b[0m\u001b[0;34m[\u001b[0m\u001b[0mi\u001b[0m \u001b[0;34m+\u001b[0m \u001b[0;36m1\u001b[0m\u001b[0;34m]\u001b[0m\u001b[0;34m)\u001b[0m\u001b[0;34m\u001b[0m\u001b[0;34m\u001b[0m\u001b[0m\n\u001b[0m\u001b[1;32m    108\u001b[0m \u001b[0;34m\u001b[0m\u001b[0m\n\u001b[1;32m    109\u001b[0m         \u001b[0;31m# For the last layer\u001b[0m\u001b[0;34m\u001b[0m\u001b[0;34m\u001b[0m\u001b[0;34m\u001b[0m\u001b[0m\n",
      "\u001b[0;32m~/anaconda3/lib/python3.6/site-packages/sklearn/neural_network/_base.py\u001b[0m in \u001b[0;36mlogistic\u001b[0;34m(X)\u001b[0m\n\u001b[1;32m     40\u001b[0m         \u001b[0mThe\u001b[0m \u001b[0mtransformed\u001b[0m \u001b[0mdata\u001b[0m\u001b[0;34m.\u001b[0m\u001b[0;34m\u001b[0m\u001b[0;34m\u001b[0m\u001b[0m\n\u001b[1;32m     41\u001b[0m     \"\"\"\n\u001b[0;32m---> 42\u001b[0;31m     \u001b[0;32mreturn\u001b[0m \u001b[0mlogistic_sigmoid\u001b[0m\u001b[0;34m(\u001b[0m\u001b[0mX\u001b[0m\u001b[0;34m,\u001b[0m \u001b[0mout\u001b[0m\u001b[0;34m=\u001b[0m\u001b[0mX\u001b[0m\u001b[0;34m)\u001b[0m\u001b[0;34m\u001b[0m\u001b[0;34m\u001b[0m\u001b[0m\n\u001b[0m\u001b[1;32m     43\u001b[0m \u001b[0;34m\u001b[0m\u001b[0m\n\u001b[1;32m     44\u001b[0m \u001b[0;34m\u001b[0m\u001b[0m\n",
      "\u001b[0;31mKeyboardInterrupt\u001b[0m: "
     ]
    },
    {
     "data": {
      "image/png": "[encoded data removed]",
      "text/plain": [
       "<Figure size 432x288 with 1 Axes>"
      ]
     },
     "metadata": {},
     "output_type": "display_data"
    }
   ],
   "source": [
    "%matplotlib inline\n",
    "# print(fc1_knn_values[0].shape)\n",
    "# tt = return_model(\"uci\")\n",
    "# print(tt)\n",
    "plot_summarization(loo_values, tmc_values, g_values, fc1_knn_values, loo_fc1_knn_values, kmin, kmax, kinterval, \n",
    "          x_train, y_train, x_heldout, y_heldout, False)"
   ]
  },
  {
   "cell_type": "code",
   "execution_count": 21,
   "metadata": {},
   "outputs": [
    {
     "data": {
      "image/png": "[encoded data removed]",
      "text/plain": [
       "<Figure size 432x288 with 1 Axes>"
      ]
     },
     "metadata": {},
     "output_type": "display_data"
    }
   ],
   "source": [
    "sns.set()\n",
    "\n",
    "plt.figure()  \n",
    "plt.xlabel('Fraction of train data removed (%)')\n",
    "plt.ylabel('Prediction accuracy (%)')\n",
    "count = int(len(x_train)/2)\n",
    "# print(count)\n",
    "interval = int(count*0.02)\n",
    "x = (np.arange(0, count, interval)/len(x_train)) * 100.0\n",
    "rand = [0.734, 0.7148, 0.7121999999999999, 0.7106, 0.714, 0.7268, 0.7252000000000001, 0.7114, 0.7156, 0.723, 0.7118, 0.7139999999999999, 0.7238, 0.7264, 0.7256, 0.7198, 0.7196, 0.7196, 0.7283999999999999, 0.714, 0.7214, 0.733, 0.719, 0.72, 0.7096, 0.7069999999999999, 0.7098, 0.7136, 0.7142000000000001, 0.7098, 0.717, 0.718, 0.715, 0.7162, 0.7081999999999999, 0.7066000000000001, 0.7163999999999999, 0.7148, 0.7055999999999999, 0.7158, 0.7096, 0.7036, 0.7074, 0.7167999999999999, 0.7214, 0.718, 0.7048, 0.7065999999999999, 0.7148, 0.7074]\n",
    "\n",
    "tmc_plot  = [0.734, 0.727, 0.753, 0.732, 0.741, 0.732, 0.734, 0.726, 0.736, 0.77, 0.754, 0.771, 0.733, 0.746, 0.752, 0.764, 0.764, 0.745, 0.762, 0.758, 0.775, 0.765, 0.756, 0.755, 0.744, 0.763, 0.766, 0.749, 0.759, 0.755, 0.767, 0.766, 0.751, 0.757, 0.76, 0.753, 0.756, 0.745, 0.744, 0.747, 0.748, 0.745, 0.745, 0.744, 0.744, 0.741, 0.743, 0.748, 0.76, 0.762]\n",
    "\n",
    "knn_accs = [0.734, 0.705, 0.715, 0.745, 0.719, 0.746, 0.738, 0.731, 0.742, 0.758, 0.744, 0.756, 0.748, 0.762, 0.751, 0.76, 0.746, 0.746, 0.748, 0.752, 0.76, 0.765, 0.75, 0.765, 0.748, 0.741, 0.757, 0.749, 0.751, 0.744, 0.76, 0.758, 0.748, 0.76, 0.753, 0.76, 0.752, 0.762, 0.748, 0.755, 0.753, 0.763, 0.748, 0.753, 0.758, 0.749, 0.755, 0.779, 0.749, 0.743]\n",
    "\n",
    "g_plot = [0.734, 0.729, 0.737, 0.747, 0.759, 0.753, 0.754, 0.76, 0.778, 0.759, 0.765, 0.758, 0.771, 0.765, 0.762, 0.76, 0.781, 0.773, 0.782, 0.785, 0.791, 0.781, 0.796, 0.787, 0.786, 0.788, 0.783, 0.783, 0.782, 0.782, 0.777, 0.794, 0.793, 0.776, 0.773, 0.776, 0.777, 0.768, 0.764, 0.771, 0.766, 0.764, 0.771, 0.775, 0.776, 0.777, 0.771, 0.768, 0.773, 0.772]\n",
    "\n",
    "loo_knn_accs = [0.734, 0.717, 0.758, 0.72, 0.715, 0.739, 0.705, 0.747, 0.729, 0.712, 0.726, 0.736, 0.715, 0.739, 0.73, 0.723, 0.748, 0.736, 0.753, 0.728, 0.757, 0.737, 0.748, 0.747, 0.745, 0.718, 0.733, 0.737, 0.732, 0.75, 0.719, 0.731, 0.763, 0.719, 0.722, 0.724, 0.718, 0.733, 0.738, 0.74, 0.745, 0.739, 0.741, 0.738, 0.729, 0.734, 0.731, 0.727, 0.725, 0.712]\n",
    "\n",
    "loo_plot = [0.734, 0.716, 0.717, 0.709, 0.738, 0.728, 0.722, 0.73, 0.725, 0.725, 0.725, 0.729, 0.766, 0.703, 0.717, 0.727, 0.744, 0.734, 0.738, 0.713, 0.739, 0.71, 0.751, 0.734, 0.729, 0.711, 0.725, 0.74, 0.732, 0.742, 0.719, 0.696, 0.722, 0.721, 0.733, 0.734, 0.718, 0.725, 0.685, 0.755, 0.756, 0.753, 0.745, 0.727, 0.724, 0.705, 0.731, 0.716, 0.721, 0.736]\n",
    "\n",
    "x_axis = []\n",
    "rand_axis = []\n",
    "knn_axis = []\n",
    "loo_axis = []\n",
    "loo_knn_axis = []\n",
    "tmc_axis = []\n",
    "g_axis = []\n",
    "for i in range(0, len(rand), 5):\n",
    "    x_axis.append(x[i])\n",
    "    rand_axis.append(rand[i] * 100.0)\n",
    "    knn_axis.append(knn_accs[i] * 100.0)\n",
    "    loo_knn_axis.append(loo_knn_accs[i] * 100.0)\n",
    "    tmc_axis.append(tmc_plot[i] * 100.0)\n",
    "    loo_axis.append(loo_plot[i] * 100.0)\n",
    "    g_axis.append(g_plot[i] * 100.0)\n",
    "\n",
    "\n",
    "plt.plot(x_axis, loo_axis, '^-', label=\"Leave-One-Out\", color=\"olive\", linewidth=1, zorder=4, alpha=0.8)\n",
    "plt.plot(x_axis, tmc_axis, 's-', label=\"TMC-Shapley\", color=\"blue\", linewidth=1)\n",
    "\n",
    "plt.plot(x_axis, g_axis, '*-', label=\"G Shapley\", color=\"orange\", linewidth=1)\n",
    "plt.plot(x_axis, loo_knn_axis, 'o-', label=\"KNN-LOO\", color=\"violet\", zorder=3, alpha=0.8, linewidth=1)\n",
    "plt.plot(x_axis, knn_axis, 'o-', label=\"KNN-Shapley\", color=\"purple\", linewidth=1.2)\n",
    "plt.plot(x_axis, rand_axis, '--', label=\"Random\", color=\"red\", linewidth=1, zorder=7)\n",
    "plt.title(\"Income Classification\\n Multilayer Perceptron Classifier\")\n",
    "plt.legend(loc=4,  prop={'size': 12})\n",
    "plt.tight_layout()\n",
    "plt.savefig('DataSummarizationUci.png') "
   ]
  },
  {
   "cell_type": "code",
   "execution_count": null,
   "metadata": {},
   "outputs": [],
   "source": []
  }
 ],
 "metadata": {
  "kernelspec": {
   "display_name": "Python 3",
   "language": "python",
   "name": "python3"
  },
  "language_info": {
   "codemirror_mode": {
    "name": "ipython",
    "version": 3
   },
   "file_extension": ".py",
   "mimetype": "text/x-python",
   "name": "python",
   "nbconvert_exporter": "python",
   "pygments_lexer": "ipython3",
   "version": "3.7.4"
  }
 },
 "nbformat": 4,
 "nbformat_minor": 2
}
