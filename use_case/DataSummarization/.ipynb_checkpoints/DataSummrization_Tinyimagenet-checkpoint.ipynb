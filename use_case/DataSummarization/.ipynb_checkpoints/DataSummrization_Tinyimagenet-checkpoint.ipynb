{
 "cells": [
  {
   "cell_type": "code",
   "execution_count": 5,
   "metadata": {},
   "outputs": [
    {
     "name": "stdout",
     "output_type": "stream",
     "text": [
      "The autoreload extension is already loaded. To reload it, use:\n",
      "  %reload_ext autoreload\n"
     ]
    }
   ],
   "source": [
    "%load_ext autoreload\n",
    "%autoreload 2\n",
    "import os\n",
    "import sys\n",
    "import time\n",
    "import math\n",
    "import numpy as np\n",
    "import sklearn\n",
    "from utils import *\n",
    "from models.resnetF import *\n",
    "from plot_cnn import *\n",
    "%matplotlib inline\n",
    "import pickle\n",
    "import torch\n",
    "import torch.nn as nn\n",
    "import torch.nn.functional as F\n",
    "import torch.optim as optim\n",
    "from tqdm import tqdm, tqdm_notebook\n",
    "import torchvision.models as models\n",
    "import torch, torchvision\n",
    "\n",
    "import torch.nn as nn\n",
    "import torch.optim as optim\n",
    "from torch.optim import lr_scheduler\n",
    "import torchvision.datasets as datasets\n",
    "import torch.utils.data as data\n",
    "import torchvision.transforms as transforms\n",
    "from torch.autograd import Variable\n",
    "\n",
    "\n",
    "from torch.optim import lr_scheduler\n",
    "import copy\n",
    "#hyper parameters\n",
    "batch_size = 100\n",
    "epochs = 10\n",
    "train_size = 1000\n",
    "test_size = 1000"
   ]
  },
  {
   "cell_type": "code",
   "execution_count": 6,
   "metadata": {},
   "outputs": [
    {
     "name": "stdout",
     "output_type": "stream",
     "text": [
      "100000\n"
     ]
    }
   ],
   "source": [
    "import torchvision.datasets as datasets\n",
    "import torchvision.transforms as transforms\n",
    "\n",
    "data_transforms = { 'train': transforms.Compose([transforms.ToTensor()]),\n",
    "                    'val'  : transforms.Compose([transforms.ToTensor(),]) }\n",
    "data_dir = \"data/tiny-imagenet-200\"\n",
    "image_datasets = {x: datasets.ImageFolder(os.path.join(data_dir, x), data_transforms[x])\n",
    "                  for x in ['train', 'val']}\n",
    "dataloaders = {x: torch.utils.data.DataLoader(image_datasets[x], batch_size=batch_size, shuffle=True, num_workers=64)\n",
    "              for x in ['train', 'val']}\n",
    "print(len(image_datasets['train']))\n",
    "train_dataset, test_dataset = torch.utils.data.random_split(image_datasets['train'], [95000, 5000])\n",
    "train_dataloader = torch.utils.data.DataLoader(train_dataset, batch_size=batch_size, shuffle=True, num_workers=64)\n",
    "test_dataloader = torch.utils.data.DataLoader(test_dataset, batch_size=batch_size, shuffle=True, num_workers=64)\n",
    "\n",
    "val_dataloader = dataloaders['val']\n",
    "\n",
    "train_size = len(train_dataset)\n",
    "test_size = len(test_dataset)\n",
    "val_size = len(dataloaders['val'])"
   ]
  },
  {
   "cell_type": "code",
   "execution_count": 7,
   "metadata": {},
   "outputs": [],
   "source": [
    "# print(image_datasets)\n",
    "# next(iter(dataloaders['train']))\n",
    "# image_datasets['val'].class_to_idx"
   ]
  },
  {
   "cell_type": "code",
   "execution_count": 8,
   "metadata": {},
   "outputs": [],
   "source": [
    "# image_datasets['train'].class_to_idx\n",
    "# print(train_dataset[0])"
   ]
  },
  {
   "cell_type": "code",
   "execution_count": 9,
   "metadata": {},
   "outputs": [],
   "source": [
    "# pic_n = 1\n",
    "# fig, ax = plt.subplots(pic_n, 1, sharex = True, sharey = True, figsize=(3, 5))\n",
    "# for i in range(pic_n):\n",
    "#     ax.imshow(x_train[0].reshape([64, 64, 3]), 'gray')"
   ]
  },
  {
   "cell_type": "code",
   "execution_count": 10,
   "metadata": {},
   "outputs": [],
   "source": [
    "# torch.cuda.device_count()"
   ]
  },
  {
   "cell_type": "code",
   "execution_count": 11,
   "metadata": {},
   "outputs": [],
   "source": [
    "def tiny_train(phase, model, device, dataloaders, dataset_sizes, optimizer, criterion, scheduler, epochs=1):   \n",
    "#     print(model)\n",
    "    for epoch in range(epochs):\n",
    "        print('Epoch {}/{}'.format(epoch+1, epochs))\n",
    "        print('-' * 10)\n",
    "\n",
    "        # Each epoch has a training and validation phase\n",
    "        if phase == 'train':\n",
    "            scheduler.step()\n",
    "            model.train()  # Set model to training mode\n",
    "        else:\n",
    "            model.eval()   # Set model to evaluate mode\n",
    "\n",
    "        running_loss = 0.0\n",
    "        running_corrects = 0\n",
    "\n",
    "        # Iterate over data.\n",
    "        for i,(inputs, labels) in enumerate(dataloaders):\n",
    "#             print((inputs.shape))\n",
    "#             print(inputs, labels)\n",
    "            inputs = inputs.to(device)\n",
    "            labels = labels.to(device)\n",
    "            optimizer.zero_grad()\n",
    "            with torch.set_grad_enabled(phase == 'train'):\n",
    "                *_, outputs = model(inputs)\n",
    "                _, preds = torch.max(outputs, 1)\n",
    "                loss = criterion(outputs, labels)\n",
    "\n",
    "                    # backward + optimize only if in training phase\n",
    "                if phase == 'train':\n",
    "                    loss.backward()\n",
    "                    optimizer.step()\n",
    "\n",
    "                # statistics\n",
    "            running_loss += loss.item() * inputs.size(0)\n",
    "            running_corrects += torch.sum(preds == labels.data)\n",
    "        print(\"\\repochs: {}/{}, Loss: {}.\".format(epoch+1, epochs, loss.item() * inputs.size(0)), end=\"\")\n",
    "  \n",
    "        epoch_loss = running_loss / dataset_sizes\n",
    "        epoch_acc = running_corrects.double() / dataset_sizes\n",
    "        if phase == 'train':\n",
    "            avg_loss = epoch_loss\n",
    "            t_acc = epoch_acc\n",
    "        elif phase == 'val':\n",
    "            val_loss = epoch_loss\n",
    "            val_acc = epoch_acc    \n",
    "    if phase == 'train':\n",
    "        print('Train Loss: {:.4f} Acc: {:.4f}'.format(avg_loss, t_acc))\n",
    "    elif phase == 'val':\n",
    "        print('Val Loss: {:.4f} Acc: {:.4f}'.format(val_loss, val_acc))\n",
    "        return val_acc\n",
    "    return"
   ]
  },
  {
   "cell_type": "code",
   "execution_count": 13,
   "metadata": {},
   "outputs": [
    {
     "name": "stdout",
     "output_type": "stream",
     "text": [
      "Epoch 1/15\n",
      "----------\n",
      "epochs: 1/15, Loss: 252.13556289672852.Epoch 2/15\n",
      "----------\n",
      "epochs: 2/15, Loss: 184.7226858139038.Epoch 3/15\n",
      "----------\n",
      "epochs: 3/15, Loss: 164.99145030975342.Epoch 4/15\n",
      "----------\n",
      "epochs: 4/15, Loss: 156.37356042861938.Epoch 5/15\n",
      "----------\n",
      "epochs: 5/15, Loss: 101.74722671508789.Epoch 6/15\n",
      "----------\n",
      "epochs: 6/15, Loss: 115.97239971160889.Epoch 7/15\n",
      "----------\n",
      "epochs: 7/15, Loss: 110.19515991210938.Epoch 8/15\n",
      "----------\n",
      "epochs: 8/15, Loss: 109.00462865829468.Epoch 9/15\n",
      "----------\n",
      "epochs: 9/15, Loss: 123.18238019943237.Epoch 10/15\n",
      "----------\n",
      "epochs: 10/15, Loss: 90.86485505104065.Epoch 11/15\n",
      "----------\n",
      "epochs: 11/15, Loss: 80.2869439125061.Epoch 12/15\n",
      "----------\n",
      "epochs: 12/15, Loss: 90.72579145431519.Epoch 13/15\n",
      "----------\n",
      "epochs: 13/15, Loss: 90.02254009246826.Epoch 14/15\n",
      "----------\n",
      "epochs: 14/15, Loss: 97.56608009338379.Epoch 15/15\n",
      "----------\n",
      "epochs: 15/15, Loss: 98.60565066337585.Train Loss: 0.9297 Acc: 0.7768\n",
      "Epoch 1/1\n",
      "----------\n",
      "epochs: 1/1, Loss: 208.3444595336914.Val Loss: 187.4203 Acc: 53.9300\n"
     ]
    },
    {
     "data": {
      "text/plain": [
       "tensor(53.9300, device='cuda:0', dtype=torch.float64)"
      ]
     },
     "execution_count": 13,
     "metadata": {},
     "output_type": "execute_result"
    }
   ],
   "source": [
    "# seed = 0\n",
    "# np.random.seed(seed)\n",
    "# random.seed(seed)\n",
    "# torch.manual_seed(seed)\n",
    "# torch.backends.cudnn.deterministic=True\n",
    "from models.resnetF import *\n",
    "device = torch.device('cuda')\n",
    "# model = models.resnet18(pretrained=True)\n",
    "model = resnet18(pretrained=True)\n",
    "# print(model)\n",
    "model.avgpool = nn.AdaptiveAvgPool2d(1)\n",
    "num_ftrs = model.fc.in_features\n",
    "model.fc = nn.Linear(num_ftrs, 200)\n",
    "# print(model)\n",
    "optimizer = optim.SGD(model.parameters(), lr=0.001, momentum=0.9)\n",
    "criterion = nn.CrossEntropyLoss()\n",
    "scheduler = lr_scheduler.StepLR(optimizer, step_size=5, gamma=0.1)\n",
    "\n",
    "model = model.to(device)\n",
    "epochs = 15\n",
    "tiny_train(\"train\", model, device, train_dataloader, train_size, optimizer, criterion, scheduler, epochs)\n",
    "tiny_train(\"val\", model, device, val_dataloader, val_size, optimizer, criterion, scheduler)"
   ]
  },
  {
   "cell_type": "raw",
   "metadata": {},
   "source": [
    "# get deep features\n",
    "deep_features = []\n",
    "for i,(inputs, labels) in enumerate(train_dataloader):\n",
    "    inputs = inputs.to(device)\n",
    "    labels = labels.to(device)\n",
    "    deep_feature, outputs = model(inputs)\n",
    "    deep_features.append(deep_feature.view(deep_feature.size(0), -1).cpu().detach().numpy())\n",
    "deep_features = np.concatenate(deep_features)\n",
    "print(deep_features.shape)"
   ]
  },
  {
   "cell_type": "raw",
   "metadata": {},
   "source": [
    "# training model\n",
    "seed = 0\n",
    "np.random.seed(seed)\n",
    "random.seed(seed)\n",
    "torch.manual_seed(seed)\n",
    "torch.backends.cudnn.deterministic=False\n",
    "\n",
    "multi_cnn = CNN().to(device)\n",
    "device = torch.device('cuda')\n",
    "optimizer = optim.Adam(multi_cnn.parameters())\n",
    "criterion = nn.CrossEntropyLoss()\n",
    "\n",
    "# print(y_train.shape)\n",
    "train(multi_cnn, device, x_train[:train_size], y_train[:train_size], batch_size, optimizer, criterion, epochs)\n",
    "accuracy, avg_loss = evaluate(multi_cnn, device, x_train[:train_size], y_train[:train_size], batch_size, criterion)\n",
    "print(f'[Train] Accuracy: {100 * accuracy:5.2f}%, loss: {avg_loss:7.4f}')\n",
    "accuracy, avg_loss = evaluate(multi_cnn, device, x_heldout, y_heldout, batch_size, criterion)\n",
    "print(f'[Test] Accuracy: {100 * accuracy:5.2f}%, loss: {avg_loss:7.4f}')"
   ]
  },
  {
   "cell_type": "code",
   "execution_count": 16,
   "metadata": {},
   "outputs": [
    {
     "name": "stdout",
     "output_type": "stream",
     "text": [
      "(10000, 12288) (10000,)\n"
     ]
    }
   ],
   "source": [
    "y_val = []\n",
    "x_val = []\n",
    "for i,(X, y) in enumerate(val_dataloader):\n",
    "    x_val.append(X.view(X.size(0), -1).cpu().detach().numpy())\n",
    "    y_val.append(y.numpy())\n",
    "x_val = np.concatenate(x_val)\n",
    "y_val = np.concatenate(y_val)\n",
    "print(x_val.shape, y_val.shape)\n"
   ]
  },
  {
   "cell_type": "code",
   "execution_count": 17,
   "metadata": {},
   "outputs": [
    {
     "name": "stdout",
     "output_type": "stream",
     "text": [
      "(95000, 12288) (95000,) (95000, 512)\n",
      "(5000, 12288) (5000,) (5000, 512)\n"
     ]
    }
   ],
   "source": [
    "torch.multiprocessing.set_sharing_strategy('file_system')\n",
    "deep_f_train = []\n",
    "y_train = []\n",
    "x_train = []\n",
    "deep_f_test = []\n",
    "y_test = []\n",
    "x_test = []\n",
    "for i,(X, y) in enumerate(train_dataloader):\n",
    "    X = X.to(device).float()\n",
    "    out_fc1, y_pre = model(X)\n",
    "    deep_f_train.append(out_fc1.view(out_fc1.size(0), -1).cpu().detach().numpy())\n",
    "    x_train.append(X.view(X.size(0), -1).cpu().detach().numpy())\n",
    "    y_train.append(y.numpy())\n",
    "\n",
    "deep_f_train = np.concatenate(deep_f_train) # deep features are not normalized\n",
    "y_train = np.concatenate(y_train)\n",
    "x_train = np.concatenate(x_train)\n",
    "print(x_train.shape, y_train.shape, deep_f_train.shape)\n",
    "\n",
    "for i,(X, y) in enumerate(test_dataloader):\n",
    "#     print(i)\n",
    "    X = X.to(device).float()\n",
    "    out_fc1, y_pre = model(X)\n",
    "    deep_f_test.append(out_fc1.view(out_fc1.size(0), -1).cpu().detach().numpy())\n",
    "    x_test.append(X.view(X.size(0), -1).cpu().detach().numpy())\n",
    "    y_test.append(y.numpy())\n",
    "deep_f_test = np.concatenate(deep_f_test) # deep features are not normalized\n",
    "y_test = np.concatenate(y_test)\n",
    "x_test = np.concatenate(x_test)\n",
    "print(x_test.shape, y_test.shape, deep_f_test.shape)"
   ]
  },
  {
   "cell_type": "code",
   "execution_count": 19,
   "metadata": {},
   "outputs": [
    {
     "data": {
      "application/vnd.jupyter.widget-view+json": {
       "model_id": "",
       "version_major": 2,
       "version_minor": 0
      },
      "text/plain": [
       "HBox(children=(IntProgress(value=0, max=5000), HTML(value='')))"
      ]
     },
     "metadata": {},
     "output_type": "display_data"
    },
    {
     "name": "stdout",
     "output_type": "stream",
     "text": [
      "neighbour number: 5 0.3946\n"
     ]
    },
    {
     "data": {
      "application/vnd.jupyter.widget-view+json": {
       "model_id": "",
       "version_major": 2,
       "version_minor": 0
      },
      "text/plain": [
       "HBox(children=(IntProgress(value=0, max=5000), HTML(value='')))"
      ]
     },
     "metadata": {},
     "output_type": "display_data"
    }
   ],
   "source": [
    "kmin = 5\n",
    "kmax = 7\n",
    "kinterval = 8\n",
    "fc1_knn_values = [[] for _ in range(math.ceil((kmax-kmin)/kinterval))] # deep features\n",
    "# loo_fc1_knn_values = [[] for _ in range(math.ceil((kmax-kmin)/kinterval))] # deep features\n",
    "old_fc1_knn_values = [[] for _ in range(math.ceil((kmax-kmin)/kinterval))] # deep features\n",
    "\n",
    "fc1_scores = [[] for _ in range(math.ceil((kmax-kmin)/kinterval))]\n",
    "\n",
    "for i, k in enumerate(range(kmin, kmax, kinterval)):\n",
    "    \n",
    "    fc1_knn_values[i],score, *_ = old_knn_shapley(k, deep_f_train, deep_f_test, y_train, y_test)\n",
    "    print(\"neighbour number:\", k, score)\n",
    "    old_fc1_knn_values[i],fc1_scores[i], fc1_false = loo_knn_shapley(k, deep_f_train, deep_f_test, y_train, y_test)"
   ]
  },
  {
   "cell_type": "code",
   "execution_count": 20,
   "metadata": {},
   "outputs": [
    {
     "name": "stdout",
     "output_type": "stream",
     "text": [
      "[ 8.96142530e-06  1.94185055e-07  1.35901037e-06  2.46008359e-05\n",
      "  8.60395967e-06 -1.07143904e-06  7.88200678e-06  6.06502675e-06\n",
      "  6.07456039e-06  3.86394708e-05]\n",
      "(10000,)\n"
     ]
    }
   ],
   "source": [
    "print(fc1_knn_values[0][:10])\n",
    "x_heldout = []\n",
    "y_heldout = []\n",
    "for i,(X, y) in enumerate(val_dataloader):\n",
    "    x_heldout.append(X.view(X.size(0), -1).cpu().detach().numpy())\n",
    "    y_heldout.append(y.numpy())\n",
    "y_heldout = np.concatenate(y_heldout)\n",
    "x_heldout = np.concatenate(x_heldout)  \n",
    "print(y_heldout.shape)"
   ]
  },
  {
   "cell_type": "raw",
   "metadata": {},
   "source": [
    "# save data\n",
    "print(x_train.shape, x_test.shape)\n",
    "\n",
    "store_data = './exp_data/DS_tinyimagenet/'\n",
    "f = open(store_data+'data.pkl', 'wb')\n",
    "data_write = {'x_trian': x_train, 'y_train': y_train, 'x_test':x_test, 'y_test': y_test, \n",
    "              'x_heldout': x_heldout, 'y_heldout': y_heldout}\n",
    "pickle.dump(data_write, f)\n",
    "f.close() \n",
    "\n",
    "\n",
    "\n",
    "f = open(store_data+'SV.pkl', 'wb')\n",
    "data_write = {'kmin': kmin, 'kmax': kmax, 'kinterval': kinterval, 'knn_values': fc1_knn_values}\n",
    "pickle.dump(data_write, f)\n",
    "f.close()    "
   ]
  },
  {
   "cell_type": "code",
   "execution_count": 21,
   "metadata": {},
   "outputs": [
    {
     "name": "stdout",
     "output_type": "stream",
     "text": [
      "95000\n"
     ]
    }
   ],
   "source": [
    "store_data = './exp_data/DS_tinyimagenet/'\n",
    "with open(store_data+'inf_fun.pkl', 'rb') as f:\n",
    "    d = pickle.load(f)\n",
    "#     print(d)\n",
    "    inf_knn_values = d[\"loo\"]\n",
    "print(len(inf_knn_values))\n",
    "# print(len(fc1_knn_values[0]))\n",
    "#     tmc_values = np.mean(tmc[\"mem_tmc\"], axis=0)"
   ]
  },
  {
   "cell_type": "code",
   "execution_count": 22,
   "metadata": {},
   "outputs": [
    {
     "name": "stdout",
     "output_type": "stream",
     "text": [
      "train_size: torch.Size([95000, 3, 64, 64])\n",
      "test_size: torch.Size([10000, 3, 64, 64])\n"
     ]
    },
    {
     "ename": "NameError",
     "evalue": "name 'inf_values' is not defined",
     "output_type": "error",
     "traceback": [
      "\u001b[0;31m---------------------------------------------------------------------------\u001b[0m",
      "\u001b[0;31mNameError\u001b[0m                                 Traceback (most recent call last)",
      "\u001b[0;32m<ipython-input-22-47e54f99f6d9>\u001b[0m in \u001b[0;36m<module>\u001b[0;34m\u001b[0m\n\u001b[1;32m     14\u001b[0m \u001b[0mprint\u001b[0m\u001b[0;34m(\u001b[0m\u001b[0;34m\"test_size:\"\u001b[0m\u001b[0;34m,\u001b[0m \u001b[0msx_val\u001b[0m\u001b[0;34m.\u001b[0m\u001b[0mshape\u001b[0m\u001b[0;34m)\u001b[0m\u001b[0;34m\u001b[0m\u001b[0;34m\u001b[0m\u001b[0m\n\u001b[1;32m     15\u001b[0m \u001b[0;34m\u001b[0m\u001b[0m\n\u001b[0;32m---> 16\u001b[0;31m plot_resnet(fc1_knn_values, old_fc1_knn_values, [inf_values], kmin, kmax, kinterval, sx_train, sy_train, sx_val, sy_val, batch_size, \n\u001b[0m\u001b[1;32m     17\u001b[0m             epochs=30, HtoL=False) \n",
      "\u001b[0;31mNameError\u001b[0m: name 'inf_values' is not defined"
     ]
    }
   ],
   "source": [
    "# print(avg_knn_values)\n",
    "from plot_resnet import *\n",
    "seed = 0\n",
    "np.random.seed(seed)\n",
    "random.seed(seed)\n",
    "torch.manual_seed(seed)\n",
    "torch.backends.cudnn.deterministic=True\n",
    "\n",
    "sx_train = torch.from_numpy(x_train).contiguous().view(-1, 3,64,64)\n",
    "sy_train = torch.from_numpy(y_train).view(-1,).long()\n",
    "print(\"train_size:\", sx_train.shape)\n",
    "sx_val = torch.from_numpy(x_val).contiguous().view(-1, 3,64,64)\n",
    "sy_val = torch.from_numpy(y_val).view(-1,).long()\n",
    "print(\"test_size:\", sx_val.shape)\n",
    "\n",
    "plot_resnet(fc1_knn_values, old_fc1_knn_values, [inf_values], kmin, kmax, kinterval, sx_train, sy_train, sx_val, sy_val, batch_size, \n",
    "            epochs=30, HtoL=False) "
   ]
  },
  {
   "cell_type": "raw",
   "metadata": {},
   "source": [
    "plot_mnist(fc1_knn_values, tmc_values, g_values, loo_values, kmin, kmax, kinterval, \n",
    "          x_train, y_train, x_heldout, y_heldout, batch_size, baseline, epochs, True)\n",
    "\n",
    "random = [51.57000000000001, 50.88, 50.11, 48.900000000000006, 48.900000000000006, 47.75, 46.230000000000004, 43.260000000000005, 38.16, 28.83]\n",
    "\n",
    "# current\n",
    "knn = [53.39, 52.23, 52.1, 52.45000000000001, 51.690000000000005, 50.06, 48.18, 45.87, 42.71, 35.89]\n",
    "\n",
    "rand =  [53.56000000000001, 53.07000000000001, 52.6, 51.28, 50.64000000000001, 49.29, 48.050000000000004, 45.88, 42.43, 36.21]"
   ]
  },
  {
   "cell_type": "code",
   "execution_count": null,
   "metadata": {},
   "outputs": [],
   "source": [
    "epochs = 1\n",
    "rand = [42.82, 42.650000000000006, 42.81, 41.300000000000004, 40.56, 39.81, 39.04, 37.74, 36.43, 35.1, 33.22, 31.130000000000003, 29.32, 27.0, 23.54, 19.650000000000002, 14.730000000000002, 10.540000000000001, 4.74, 2.0300000000000002]\n",
    "\n",
    "loo_plot = [42.63, 42.150000000000006, 41.38, 40.13, 39.71, 38.18, 38.07000000000001, 36.120000000000005, 35.36, 34.22, 32.27, 30.42, 28.470000000000002, 25.680000000000003, 23.62, 21.47, 18.060000000000002, 14.11, 11.110000000000001, 3.8200000000000003]\n",
    "\n",
    "HtoL=False\n",
    "rand = [53.23, 52.92, 51.78, 51.580000000000005, 51.31, 50.82, 50.28, 49.8, 49.67, 48.36, 48.21, 47.0, 45.89, 44.39, 42.089999999999996, 39.37, 36.24, 30.43, 23.66, 12.790000000000001]\n",
    "rand = [53.23, 52.92, 51.78, 51.580000000000005, 51.31, 50.82, 50.28, 49.8, 49.67, 48.36, 48.21, 47.0, 45.89, 44.39, 42.089999999999996, 39.37, 36.24, 30.43, 23.66, 12.790000000000001]\n",
    "\n",
    "loo_plot = [52.68000000000001, 52.64, 51.99, 51.12, 51.32, 50.660000000000004, 49.760000000000005, 49.17, 48.660000000000004, 48.35, 47.24, 46.42, 45.07000000000001, 43.21, 41.540000000000006, 38.970000000000006, 35.300000000000004, 28.800000000000004, 23.19, 11.620000000000001]\n",
    "knn_plot = [53.23, 52.01, 51.480000000000004, 51.1, 50.8, 50.36000000000001, 49.830000000000005, 49.04, 47.870000000000005, 47.33, 46.5, 45.25, 44.14, 42.63, 41.08, 38.720000000000006, 36.449999999999996, 32.17, 25.82, 14.97]"
   ]
  },
  {
   "cell_type": "code",
   "execution_count": null,
   "metadata": {},
   "outputs": [],
   "source": [
    "HtoL = True\n",
    "knn_plot = [53.23, 51.95000000000001, 51.39, 50.519999999999996, 50.01, 49.24, 47.7, 45.300000000000004, 42.510000000000005, 38.870000000000005, 35.089999999999996, 30.92, 26.790000000000003, 22.44, 20.380000000000003, 17.91, 15.110000000000001, 13.05, 10.010000000000002, 5.98]\n",
    "\n",
    "\n",
    "\n"
   ]
  },
  {
   "cell_type": "code",
   "execution_count": null,
   "metadata": {},
   "outputs": [],
   "source": [
    "epochs = 30\n",
    "knn_plot = [53.09, 51.54, 51.34000000000001, 50.86000000000001, 50.38, 50.01, 49.400000000000006, 48.59, 47.74, 47.010000000000005, 46.26, 44.970000000000006, 43.82, 42.32, 40.64, 38.09, 35.730000000000004, 31.2, 24.79, 14.37]\n",
    "random = [53.09, 52.78, 52.07000000000001, 51.7, 51.28, 50.84000000000001, 50.150000000000006, 49.71, 49.33, 48.14000000000001, 48.120000000000005, 46.5, 45.56, 44.17, 41.5, 39.0, 35.160000000000004, 29.67, 22.540000000000003, 12.040000000000001]\n",
    "loo_knn_plot = \n",
    "\n"
   ]
  },
  {
   "cell_type": "code",
   "execution_count": null,
   "metadata": {},
   "outputs": [],
   "source": [
    "epochs = 5\n",
    "knn = [52.900000000000006, 51.34000000000001, 50.95, 50.96000000000001, 50.62, 50.160000000000004, 49.46, 48.56, 47.75, 46.77, 45.940000000000005, 44.800000000000004, 43.36000000000001, 42.11, 40.760000000000005, 38.51, 35.44, 30.870000000000005, 24.91, 13.73]"
   ]
  },
  {
   "cell_type": "code",
   "execution_count": 98,
   "metadata": {},
   "outputs": [
    {
     "data": {
      "image/png": "[encoded data removed]",
      "text/plain": [
       "<Figure size 432x288 with 1 Axes>"
      ]
     },
     "metadata": {},
     "output_type": "display_data"
    }
   ],
   "source": [
    "sns.set()\n",
    "\n",
    "knn_plot = [50.690000000000005, 50.24000000000001, 50.440000000000005, 50.79, 50.85000000000001, 49.46, 47.910000000000004, 47.12, 44.61, 37.17]\n",
    "\n",
    "rand =  [50.28, 49.58, 49.61000000000001, 48.900000000000006, 48.150000000000006, 47.03, 46.660000000000004, 45.39, 42.71, 37.88]\n",
    "\n",
    "loo_plot = [50.550000000000004, 49.33, 48.92, 47.97, 46.64, 46.150000000000006, 46.39, 45.050000000000004, 44.42, 40.34]\n",
    "\n",
    "plt.figure()  \n",
    "plt.xlabel('Fraction of train data removed (%)')\n",
    "plt.ylabel('Prediction accuracy (%)')\n",
    "# count = len(x_pre)/2\n",
    "count = 95000\n",
    "interval = int(count*0.1)\n",
    "dele = 0\n",
    "epochs = 15\n",
    "\n",
    "delta = 9\n",
    "\n",
    "x = np.arange(0, count, interval) / 95000 * 100\n",
    "\n",
    "plt.plot(x[:delta], knn_plot[:delta], 'o-', label=\"KNN-Shapley\", color=\"purple\")\n",
    "plt.plot(x[:delta], rand[:delta], '--', label=\"Random\", color=\"red\")\n",
    "plt.plot(x[:delta], loo_plot[:delta], 's-', label=\"LOO-KNN-Shapley\", color=\"violet\")\n",
    "# plt.title(\"Object Classification\\n ResNet18 Classifier\")\n",
    "plt.legend()\n",
    "plt.tight_layout()\n",
    "plt.savefig('DataSummarizationTiny.png') "
   ]
  },
  {
   "cell_type": "code",
   "execution_count": 97,
   "metadata": {},
   "outputs": [
    {
     "data": {
      "image/png": "[encoded data removed]",
      "text/plain": [
       "<Figure size 432x288 with 1 Axes>"
      ]
     },
     "metadata": {},
     "output_type": "display_data"
    }
   ],
   "source": [
    "sns.set()\n",
    "\n",
    "plt.figure()  \n",
    "plt.xlabel('Number of added training points')\n",
    "plt.ylabel('Prediction accuracy (%)')\n",
    "count = 95000\n",
    "#     print(count)\n",
    "interval = int(count*0.05)\n",
    "dele = 0\n",
    "epochs = 15\n",
    "x = np.arange(0, count, interval)\n",
    "\n",
    "# rand = [5.82, 19.6, 28.79, 35.06, 38.4, 41.48, 43.46, 44.7, 45.790000000000006, 47.06, 48.27, 47.06, 46.6, 44.620000000000005, 42.74, 40.790000000000006, 38.32000000000001, 34.23, 27.950000000000003, 19.52]\n",
    "rand = [5.84, 12.950000000000001, 19.790000000000003, 24.72, 27.560000000000002, 32.03, 34.74, 37.54, 38.28, 39.6, 40.85, 42.400000000000006, 43.61000000000001, 44.05, 45.28, 45.17, 46.190000000000005, 47.010000000000005, 47.440000000000005, 47.550000000000004]\n",
    "\n",
    "# knn_plot = [5.82, 24.61, 32.43, 36.93, 40.09, 42.09, 44.05, 45.0, 45.88, 46.92, 47.58]\n",
    "knn_raw = [5.8, 18.71, 24.96, 29.17, 31.240000000000002, 34.95, 36.31, 39.0, 39.6, 41.31, 42.21, 42.900000000000006, 43.8, 44.57000000000001, 45.13, 45.53, 45.5, 46.6, 46.61, 46.89]\n",
    "\n",
    "loo_knn_raw = [5.83, 12.7, 19.69, 24.54, 28.1, 31.35, 34.46, 37.02, 38.25, 39.67, 41.48, 42.260000000000005, 43.6, 44.39, 44.91, 45.06, 46.39, 47.09, 47.620000000000005, 48.42]\n",
    "\n",
    "# for i in range(len(knn_plot)):\n",
    "    \n",
    "#     rand[i] *= 100.0\n",
    "#     knn_plot[i] *= 100.0\n",
    "#     loo_knn_plot[i] *= 100.0\n",
    "x_plot = []\n",
    "rand_plot = []\n",
    "knn_plot = []\n",
    "loo_knn_plot = []\n",
    "\n",
    "for i in range(0, x.shape[0], 2):\n",
    "    x_plot.append(x[i])\n",
    "    rand_plot.append(rand[i])\n",
    "    knn_plot.append(knn_raw[i])\n",
    "    loo_knn_plot.append(loo_knn_raw[i])\n",
    "\n",
    "plt.plot(x_plot, knn_plot, 'o-', label=\"KNN-Shapley\", color=\"purple\")\n",
    "plt.plot(x_plot, rand_plot, '--', label=\"Random\", color=\"red\")\n",
    "plt.plot(x_plot, loo_knn_plot, 's-', label=\"LOO-KNN-Shapley\", color=\"violet\")\n",
    "# csfont = {'fontname':'Times New Roman'}\n",
    "# plt.rcParams[\"font.family\"] = \"Times New Roman\"\n",
    "# plt.title(\"Object Classification\\n ResNet18 Classifier\")\n",
    "# \n",
    "plt.legend()\n",
    "plt.tight_layout()\n",
    "plt.savefig('DataAcquisitionTiny.png') "
   ]
  },
  {
   "cell_type": "code",
   "execution_count": null,
   "metadata": {},
   "outputs": [],
   "source": []
  }
 ],
 "metadata": {
  "kernelspec": {
   "display_name": "Python 3",
   "language": "python",
   "name": "python3"
  },
  "language_info": {
   "codemirror_mode": {
    "name": "ipython",
    "version": 3
   },
   "file_extension": ".py",
   "mimetype": "text/x-python",
   "name": "python",
   "nbconvert_exporter": "python",
   "pygments_lexer": "ipython3",
   "version": "3.7.4"
  }
 },
 "nbformat": 4,
 "nbformat_minor": 2
}
